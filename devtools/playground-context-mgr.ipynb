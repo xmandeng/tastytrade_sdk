{
 "cells": [
  {
   "cell_type": "markdown",
   "metadata": {},
   "source": [
    "# Market Data Integration Guide\n",
    "\n",
    "## Overview\n",
    "This guide covers integrating with TastyTrade's market data API using Python WebSocket implementation, with a focus on asyncio-based approach.\n",
    "\n",
    "## API Resources\n",
    "- [Developer Portal](https://developer.tastytrade.com/)\n",
    "- [Streaming Market Data Documentation](https://developer.tastytrade.com/streaming-market-data/)\n",
    "- [DXLink Protocol Reference](https://demo.dxfeed.com/dxlink-ws/debug/#/protocol)\n",
    "\n",
    "## References\n",
    "- dxFeed API [doc](https://dxfeed.readthedocs.io/en/stable/) | [github](https://github.com/dxFeed/dxfeed-python-api) | [pypi](https://pypi.org/project/dxfeed/)\n",
    "- Web Widget Demo [docs](https://tools.dxfeed.com/python-demo/?_ga=2.236532102.669062738.1733058631-563197392.1733058631) | [github](https://github.com/dxFeed/dxfeed-python-api-web-widget-example?tab=readme-ov-file)\n",
    "\n",
    "## WebSocket Implementation Details\n",
    "\n",
    "### Selected Library\n",
    "We'll be using the [websockets](https://websockets.readthedocs.io/en/stable/) library for Python, which provides high-level WebSocket implementation (not to be confused with the lower-level `websocket` library).\n",
    "\n",
    "### Key Resources\n",
    "- **Documentation**: Complete guides available on [readthedocs.io](https://websockets.readthedocs.io/en/stable/)\n",
    "- **Reference Implementation**: [Example using Threading](https://github.com/LordKaT/tastytrade_api_thing/blob/main/lib/TTWebsocket.py) by [LordKaT](https://github.com/LordKaT)\n",
    "\n",
    "### Technical Approach\n",
    "The implementation will use `asyncio` due to its comprehensive [feature support](https://websockets.readthedocs.io/en/stable/reference/features.html) in the websockets library.\n",
    "\n",
    "### AsyncIO Learning Resources\n",
    "For better understanding of the asyncio implementation:\n",
    "- [How does async/await work in Python 3.5](https://snarky.ca/how-the-heck-does-async-await-work-in-python-3-5/)\n",
    "- [Cooperative multitasking with Coroutines](https://pymotw.com/3/asyncio/coroutines.html)\n",
    "- [A Curious course on Coroutines and Concurrency](http://www.dabeaz.com/coroutines/)\n"
   ]
  },
  {
   "cell_type": "code",
   "execution_count": null,
   "metadata": {},
   "outputs": [],
   "source": [
    "from tastytrade.logging import setup_logging\n",
    "import logging\n",
    "import asyncio\n",
    "from tastytrade.sessions import Credentials\n",
    "from tastytrade.sessions.requests import AsyncSessionHandler\n",
    "from tastytrade.sessions.sockets import WebSocketManager\n",
    "from tastytrade.sessions.dxlink import DXLinkClient\n",
    "from decimal import Decimal\n",
    "from datetime import datetime, timedelta\n",
    "\n",
    "import polars as pl\n",
    "\n",
    "logging.getLogger().handlers.clear()\n",
    "\n",
    "TEST = True\n",
    "ENV = \"Live\"\n",
    "DURATION = 15\n",
    "\n",
    "shutdown = asyncio.Event()\n",
    "\n",
    "\n",
    "setup_logging(\n",
    "    level=logging.INFO,\n",
    "    # log_dir=\"/var/log/tastytrade\",\n",
    "    log_dir=\"../logs\",\n",
    "    filename_prefix=f\"{'dev' if TEST else 'prod'}_tastytrade\",\n",
    "    console=True,\n",
    "    file=True,\n",
    ")\n",
    "\n",
    "\n",
    "def get_trade_day() -> str:\n",
    "    trade_day = datetime.now()\n",
    "    while trade_day.weekday() >= 5:\n",
    "        trade_day += timedelta(days=1)\n",
    "\n",
    "    return trade_day.strftime(\"%y%m%d\")\n",
    "\n",
    "\n",
    "def round_decimal(value, precision=5) -> float:\n",
    "    target = str(precision)\n",
    "\n",
    "    if not isinstance(value, Decimal):\n",
    "        value = Decimal(value)\n",
    "\n",
    "    if precision > 0:\n",
    "        result = (value / Decimal(target)).quantize(\n",
    "            Decimal(\"1\"), rounding=\"ROUND_HALF_UP\"\n",
    "        ) * Decimal(target)\n",
    "        return float(result)\n",
    "\n",
    "    else:\n",
    "        return float(round(value, abs(precision)))"
   ]
  },
  {
   "cell_type": "markdown",
   "metadata": {},
   "source": [
    "## Test WebSocket context manager"
   ]
  },
  {
   "cell_type": "code",
   "execution_count": null,
   "metadata": {},
   "outputs": [],
   "source": [
    "\"\"\"\n",
    "TODO \n",
    "\n",
    "  1. Find nearest ATM strike\n",
    "  2. list of symbols\n",
    "      +-10 pts from ATM strike\n",
    "      both Calls & Puts\n",
    "\"\"\"\n",
    "\n",
    "session = await AsyncSessionHandler.create(Credentials(env=ENV))\n",
    "\n",
    "yy_mm_dd = get_trade_day()\n",
    "\n",
    "symbols = [\n",
    "    \"SPX\",\n",
    "    \"NVDA\",\n",
    "    \"BTC/USD:CXTALP\",\n",
    "    \"BCH/USD:CXTALP\",\n",
    "    \"ETH/USD:CXTALP\",\n",
    "    f\".SPXW{yy_mm_dd}C5915\",\n",
    "    f\".SPXW{yy_mm_dd}C5910\",\n",
    "    f\".SPXW{yy_mm_dd}P5910\",\n",
    "    f\".SPXW{yy_mm_dd}P5905\",\n",
    "]\n",
    "\n",
    "async with WebSocketManager(session) as websocket:\n",
    "    dxlink_client = DXLinkClient(websocket)\n",
    "    await dxlink_client.setup_feeds()\n",
    "    await dxlink_client.subscribe_to_feeds(symbols)\n",
    "\n",
    "    if TEST:\n",
    "        await asyncio.sleep(DURATION)\n",
    "    else:\n",
    "        await websocket.send_keepalives()\n",
    "\n",
    "    await dxlink_client.queue_manager.cleanup()\n",
    "\n",
    "await session.close()"
   ]
  },
  {
   "cell_type": "code",
   "execution_count": 6,
   "metadata": {},
   "outputs": [],
   "source": [
    "trades = dxlink_client.queue_manager.handlers[\"Trades\"].processors[\"feed\"].df\n",
    "\n",
    "spx_trades = trades.filter(pl.col(\"eventSymbol\") == \"SPX\")\n",
    "\n",
    "spx_price = spx_trades.sort(\"timestamp\")[-1].select(\"price\").item()"
   ]
  },
  {
   "cell_type": "code",
   "execution_count": null,
   "metadata": {},
   "outputs": [],
   "source": [
    "dxlink_client.queue_manager.handlers[\"Quotes\"].processors[\"feed\"].df"
   ]
  },
  {
   "cell_type": "code",
   "execution_count": null,
   "metadata": {},
   "outputs": [],
   "source": [
    "dxlink_client.queue_manager.handlers[\"Greeks\"].processors[\"feed\"].df"
   ]
  },
  {
   "cell_type": "code",
   "execution_count": null,
   "metadata": {},
   "outputs": [],
   "source": [
    "dxlink_client.queue_manager.handlers[\"Summary\"].processors[\"feed\"].df"
   ]
  },
  {
   "cell_type": "code",
   "execution_count": null,
   "metadata": {},
   "outputs": [],
   "source": [
    "dxlink_client.queue_manager.handlers[\"Profile\"].processors[\"feed\"].df"
   ]
  },
  {
   "cell_type": "code",
   "execution_count": null,
   "metadata": {},
   "outputs": [],
   "source": [
    "import sys\n",
    "\n",
    "sys.exit(\"Done\")"
   ]
  },
  {
   "cell_type": "markdown",
   "metadata": {},
   "source": [
    "## Test individual components"
   ]
  },
  {
   "cell_type": "code",
   "execution_count": null,
   "metadata": {},
   "outputs": [],
   "source": [
    "session = await AsyncSessionHandler.create(Credentials(env=ENV))\n",
    "\n",
    "exlink = WebSocketManager(session)\n",
    "await exlink.open()"
   ]
  },
  {
   "cell_type": "code",
   "execution_count": null,
   "metadata": {},
   "outputs": [],
   "source": [
    "dxlink_client = DXLinkClient(exlink)\n",
    "await dxlink_client.setup_feeds()\n",
    "await dxlink_client.subscribe_to_feeds([\"SPX\"])"
   ]
  },
  {
   "cell_type": "code",
   "execution_count": null,
   "metadata": {},
   "outputs": [],
   "source": [
    "asyncio.all_tasks()"
   ]
  },
  {
   "cell_type": "code",
   "execution_count": null,
   "metadata": {},
   "outputs": [],
   "source": [
    "await exlink.close()"
   ]
  },
  {
   "cell_type": "code",
   "execution_count": null,
   "metadata": {},
   "outputs": [],
   "source": [
    "dxlink_client.session.close()"
   ]
  },
  {
   "cell_type": "code",
   "execution_count": null,
   "metadata": {},
   "outputs": [],
   "source": [
    "dxlink_client"
   ]
  },
  {
   "cell_type": "code",
   "execution_count": 16,
   "metadata": {},
   "outputs": [],
   "source": [
    "symbol = \"SPX\"\n",
    "\n",
    "response = session.session.get(session.base_url + \"/option-chains/\" + symbol)"
   ]
  },
  {
   "cell_type": "code",
   "execution_count": null,
   "metadata": {},
   "outputs": [],
   "source": [
    "from tastytrade.markets.instruments import get_option_chains\n",
    "import polars as pl\n",
    "\n",
    "# Using your existing session\n",
    "df = await get_option_chains(session, \"SPX\")\n",
    "print(df)"
   ]
  },
  {
   "cell_type": "code",
   "execution_count": null,
   "metadata": {},
   "outputs": [],
   "source": [
    "df = pl.DataFrame(response[\"data\"][\"items\"])\n",
    "df.head()"
   ]
  },
  {
   "cell_type": "code",
   "execution_count": 5,
   "metadata": {},
   "outputs": [],
   "source": [
    "from enum import Enum\n",
    "\n",
    "\n",
    "class OptionType(Enum):\n",
    "    CALL = \"C\"\n",
    "    PUT = \"P\"\n",
    "\n",
    "\n",
    "date = get_trade_day()\n",
    "trade_date = f\"20{date[:2]}-{date[2:4]}-{date[4:]}\""
   ]
  },
  {
   "cell_type": "code",
   "execution_count": null,
   "metadata": {},
   "outputs": [],
   "source": [
    "(\n",
    "    df.with_columns(pl.col(\"strike-price\").cast(pl.Float32(), strict=False))\n",
    "    .with_columns(\n",
    "        pl.col(\"option-type\").map_elements(lambda x: OptionType(x).name, return_dtype=str)\n",
    "    )\n",
    "    .filter((pl.col(\"expiration-date\") == trade_date))\n",
    "    .filter((pl.col(\"strike-price\") >= 5700))\n",
    "    .select([\"strike-price\", \"option-type\", \"streamer-symbol\"])\n",
    "    .sort(\"strike-price\")\n",
    "    .head(10)\n",
    ")"
   ]
  },
  {
   "cell_type": "code",
   "execution_count": null,
   "metadata": {},
   "outputs": [],
   "source": []
  },
  {
   "cell_type": "code",
   "execution_count": null,
   "metadata": {},
   "outputs": [],
   "source": []
  }
 ],
 "metadata": {
  "kernelspec": {
   "display_name": "tasty",
   "language": "python",
   "name": "python3"
  },
  "language_info": {
   "codemirror_mode": {
    "name": "ipython",
    "version": 3
   },
   "file_extension": ".py",
   "mimetype": "text/x-python",
   "name": "python",
   "nbconvert_exporter": "python",
   "pygments_lexer": "ipython3",
   "version": "3.11.4"
  }
 },
 "nbformat": 4,
 "nbformat_minor": 2
}
