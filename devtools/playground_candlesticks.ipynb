{
 "cells": [
  {
   "cell_type": "code",
   "execution_count": null,
   "metadata": {},
   "outputs": [],
   "source": [
    "from tastytrade.common.logging import setup_logging\n",
    "import logging\n",
    "import asyncio\n",
    "import pandas as pd\n",
    "\n",
    "from tastytrade.connections import Credentials\n",
    "\n",
    "from tastytrade.config.enumerations import Channels\n",
    "from tastytrade.connections.sockets import DXLinkManager\n",
    "\n",
    "from tastytrade.analytics.visualizations.custom import plot_live_candlesticks\n",
    "from tastytrade.analytics.visualizations.charts import DynamicChart, Study\n",
    "from datetime import datetime, timedelta\n",
    "\n",
    "from tastytrade.messaging.processors.influxdb import TelegrafHTTPEventProcessor\n",
    "\n",
    "from tastytrade.analytics.indicators.momentum import hull\n",
    "\n",
    "# Show all rows in pandas DataFrames\n",
    "pd.set_option(\"display.max_rows\", 100)\n",
    "pd.set_option(\"display.max_columns\", None)\n",
    "pd.set_option(\"display.width\", None)\n",
    "pd.set_option(\"display.max_colwidth\", None)\n",
    "\n",
    "logging.getLogger().handlers.clear()\n",
    "\n",
    "TEST = True\n",
    "ENV = \"Live\"\n",
    "DURATION = 15\n",
    "\n",
    "EDT = 5\n",
    "\n",
    "start_time = datetime(2025, 1, 10, 9 + EDT, 30)\n",
    "end_time = start_time + timedelta(hours=8)\n",
    "\n",
    "setup_logging(\n",
    "    level=logging.INFO,\n",
    "    log_dir=\"../logs\",\n",
    "    filename_prefix=f\"{'dev' if TEST else 'prod'}_tastytrade\",\n",
    "    console=True,\n",
    "    file=True,\n",
    ")\n",
    "\n",
    "loop = asyncio.get_event_loop()\n",
    "loop.set_debug(True)\n",
    "logging.getLogger(\"asyncio\").setLevel(logging.DEBUG)"
   ]
  },
  {
   "cell_type": "markdown",
   "metadata": {},
   "source": [
    "## Test individual components"
   ]
  },
  {
   "cell_type": "code",
   "execution_count": null,
   "metadata": {},
   "outputs": [],
   "source": [
    "# Set API credentials\n",
    "credentials = Credentials(env=ENV)\n",
    "\n",
    "\n",
    "credentials = Credentials(env=\"Live\")\n",
    "dxlink = DXLinkManager()\n",
    "\n",
    "await dxlink.open(credentials)"
   ]
  },
  {
   "cell_type": "code",
   "execution_count": 12,
   "metadata": {},
   "outputs": [],
   "source": [
    "dxlink.router.add_processor(TelegrafHTTPEventProcessor())"
   ]
  },
  {
   "cell_type": "code",
   "execution_count": null,
   "metadata": {},
   "outputs": [],
   "source": [
    "dxlink.router.handler[Channels.Candle].processors"
   ]
  },
  {
   "cell_type": "code",
   "execution_count": 14,
   "metadata": {},
   "outputs": [],
   "source": [
    "await dxlink.subscribe_to_candles(\n",
    "    symbol=\"SPX\",\n",
    "    interval=\"1m\",\n",
    "    from_time=start_time,\n",
    ")"
   ]
  },
  {
   "cell_type": "code",
   "execution_count": 15,
   "metadata": {},
   "outputs": [],
   "source": [
    "await dxlink.subscribe_to_candles(\n",
    "    # symbol=\"BTC/USD:CXTALP\",\n",
    "    symbol=\"SPX\",\n",
    "    interval=\"5m\",\n",
    "    from_time=start_time,\n",
    ")"
   ]
  },
  {
   "cell_type": "code",
   "execution_count": 16,
   "metadata": {},
   "outputs": [],
   "source": [
    "await dxlink.subscribe_to_candles(\n",
    "    symbol=\"BTC/USD:CXTALP\",\n",
    "    interval=\"5m\",\n",
    "    from_time=start_time,\n",
    ")"
   ]
  },
  {
   "cell_type": "code",
   "execution_count": 17,
   "metadata": {},
   "outputs": [],
   "source": [
    "await dxlink.subscribe_to_candles(\n",
    "    symbol=\"BTC/USD:CXTALP\",\n",
    "    interval=\"1m\",\n",
    "    from_time=start_time,\n",
    ")"
   ]
  },
  {
   "cell_type": "code",
   "execution_count": 19,
   "metadata": {},
   "outputs": [],
   "source": [
    "await dxlink.subscribe_to_candles(\n",
    "    symbol=\"BTC/USD:CXTALP\",\n",
    "    interval=\"1h\",\n",
    "    from_time=start_time,\n",
    ")"
   ]
  },
  {
   "cell_type": "code",
   "execution_count": null,
   "metadata": {},
   "outputs": [],
   "source": [
    "await dxlink.unsubscribe_to_candles(\n",
    "    symbol=\"BTC/USD:CXTALP\",\n",
    "    interval=\"1m\",\n",
    ")"
   ]
  },
  {
   "cell_type": "code",
   "execution_count": 7,
   "metadata": {},
   "outputs": [],
   "source": [
    "# Subscribe to 5-minute candles for SPY\n",
    "# await dxlink.unsubscribe_to_candles(symbol=\"BTC/USD:CXTALP\", interval=\"1m\")\n",
    "\n",
    "# await dxlink.unsubscribe_to_candles(\n",
    "#     symbol=\"SPY\",\n",
    "#     interval=\"1m\",\n",
    "# )"
   ]
  },
  {
   "cell_type": "code",
   "execution_count": 8,
   "metadata": {},
   "outputs": [],
   "source": [
    "symbols = [\"SPX\", \"NVDA\", \"BTC/USD:CXTALP\"]\n",
    "await dxlink.subscribe(symbols)"
   ]
  },
  {
   "cell_type": "code",
   "execution_count": 9,
   "metadata": {},
   "outputs": [],
   "source": [
    "# await dxlink.unsubscribe(symbols)"
   ]
  },
  {
   "cell_type": "code",
   "execution_count": null,
   "metadata": {},
   "outputs": [],
   "source": [
    "dxlink.router.handler[Channels.Candle].processors[\"feed\"].pl"
   ]
  },
  {
   "cell_type": "code",
   "execution_count": null,
   "metadata": {},
   "outputs": [],
   "source": [
    "# Access candle data\n",
    "columns = [\"eventSymbol\", \"time\", \"open\", \"high\", \"low\", \"close\"]\n",
    "dxlink.router.handler[Channels.Candle].processors[\"feed\"].df[columns].tail(10)"
   ]
  },
  {
   "cell_type": "code",
   "execution_count": null,
   "metadata": {},
   "outputs": [],
   "source": [
    "dxlink.router.handler[Channels.Trade].processors[\"feed\"].df.tail(10)"
   ]
  },
  {
   "cell_type": "code",
   "execution_count": null,
   "metadata": {},
   "outputs": [],
   "source": [
    "dxlink.router.handler[Channels.Quote].processors[\"feed\"].df.tail(10)"
   ]
  },
  {
   "cell_type": "code",
   "execution_count": null,
   "metadata": {},
   "outputs": [],
   "source": [
    "dxlink.router.handler[Channels.Greeks].processors[\"feed\"].df"
   ]
  },
  {
   "cell_type": "code",
   "execution_count": null,
   "metadata": {},
   "outputs": [],
   "source": [
    "dxlink.router.handler[Channels.Profile].processors[\"feed\"].df"
   ]
  },
  {
   "cell_type": "code",
   "execution_count": null,
   "metadata": {},
   "outputs": [],
   "source": [
    "dxlink.router.handler[Channels.Summary].processors[\"feed\"].df"
   ]
  },
  {
   "cell_type": "code",
   "execution_count": null,
   "metadata": {},
   "outputs": [],
   "source": [
    "# Example usage\n",
    "study_params = {\"hull\": {\"length\": 20, \"price_col\": \"close\"}}  # HMA period  # Price column to use\n",
    "\n",
    "# Create the live chart with HMA\n",
    "task = plot_live_candlesticks(dxlink=dxlink, symbol=\"SPX{=5m}\")"
   ]
  },
  {
   "cell_type": "code",
   "execution_count": null,
   "metadata": {},
   "outputs": [],
   "source": [
    "# Later when you want to stop\n",
    "task.cancel()"
   ]
  },
  {
   "cell_type": "code",
   "execution_count": null,
   "metadata": {},
   "outputs": [],
   "source": [
    "task = plot_live_candlesticks(dxlink, \"SPX{=5m}\")"
   ]
  },
  {
   "cell_type": "code",
   "execution_count": null,
   "metadata": {},
   "outputs": [],
   "source": [
    "task.cancel()"
   ]
  },
  {
   "cell_type": "code",
   "execution_count": null,
   "metadata": {},
   "outputs": [],
   "source": [
    "hull(dxlink, \"SPX{=5m}\").head(3)"
   ]
  },
  {
   "cell_type": "code",
   "execution_count": 21,
   "metadata": {},
   "outputs": [],
   "source": [
    "hma_study = Study(\n",
    "    name=\"HMA-20\",\n",
    "    compute_fn=hull,  # The hull function\n",
    "    params={\"length\": 20},  # Parameters for hull function\n",
    "    plot_params={\n",
    "        \"colors\": {\"Up\": \"#26A69A\", \"Down\": \"#EF5350\"},  # Green for uptrend  # Red for downtrend\n",
    "        \"width\": 2,\n",
    "    },\n",
    "    value_column=\"HMA\",\n",
    "    color_column=\"HMA_color\",\n",
    ")"
   ]
  },
  {
   "cell_type": "code",
   "execution_count": null,
   "metadata": {},
   "outputs": [],
   "source": [
    "chart = DynamicChart(dxlink, \"SPX{=5m}\")\n",
    "chart.add_study(hma_study)\n",
    "chart.start()\n",
    "chart.stop()"
   ]
  },
  {
   "cell_type": "code",
   "execution_count": null,
   "metadata": {},
   "outputs": [],
   "source": [
    "chart = DynamicChart(dxlink, \"SPX{=m}\")\n",
    "chart.add_study(hma_study)\n",
    "chart.start()\n",
    "chart.stop()"
   ]
  },
  {
   "cell_type": "code",
   "execution_count": null,
   "metadata": {},
   "outputs": [],
   "source": [
    "await dxlink.close()"
   ]
  },
  {
   "cell_type": "code",
   "execution_count": 24,
   "metadata": {},
   "outputs": [],
   "source": [
    "# TODOS\n",
    "\n",
    "# Widen the plot\n",
    "# Remove the scroller at the bottom\n",
    "# move the legent and remove Price (that is obvious)\n",
    "\n",
    "# Add MACD\n",
    "# Add RSI\n",
    "# Add Volume Profile (?? ... /ES, SPY, etc)\n",
    "# Add velocity metric\n",
    "\n",
    "# Do not plot study data points passed available data\n",
    "\n",
    "# HULL - Align the first tick against to the subsequent tick\n",
    "\n",
    "# ERROR if no study data found"
   ]
  },
  {
   "cell_type": "code",
   "execution_count": 7,
   "metadata": {},
   "outputs": [],
   "source": [
    "from tastytrade.messaging.models.events import TradeEvent\n",
    "from datetime import datetime\n",
    "\n",
    "trade = TradeEvent(\n",
    "    eventSymbol=\"NVIDIA\",\n",
    "    time=datetime(2025, 2, 9, 10, 0),\n",
    "    price=100,\n",
    "    size=1,\n",
    ")\n",
    "\n",
    "processor = TelegrafHTTPEventProcessor()\n",
    "processor.process_event(trade)"
   ]
  },
  {
   "cell_type": "code",
   "execution_count": null,
   "metadata": {},
   "outputs": [],
   "source": [
    "import influxdb_client\n",
    "import os\n",
    "\n",
    "write_client = influxdb_client.InfluxDBClient(\n",
    "    url=\"http://influxdb:8086\",\n",
    "    token=os.environ[\"INFLUX_DB_TOKEN\"],\n",
    "    org=os.environ[\"INFLUX_DB_ORG\"],\n",
    ")\n",
    "\n",
    "query_api = write_client.query_api()\n",
    "\n",
    "query = \"\"\"from(bucket: \"tastytrade\")\n",
    " |> range(start: -10d)\n",
    " |> filter(fn: (r) => r._measurement == \"TradeEvent\")\"\"\"\n",
    "\n",
    "tables = query_api.query(query, org=os.environ[\"INFLUX_DB_ORG\"])\n",
    "\n",
    "for table in tables:\n",
    "    print(table)\n",
    "    for record in table.records:\n",
    "        print(record)"
   ]
  },
  {
   "cell_type": "code",
   "execution_count": null,
   "metadata": {},
   "outputs": [],
   "source": [
    "tables"
   ]
  },
  {
   "cell_type": "code",
   "execution_count": null,
   "metadata": {},
   "outputs": [],
   "source": []
  }
 ],
 "metadata": {
  "kernelspec": {
   "display_name": ".venv",
   "language": "python",
   "name": "python3"
  },
  "language_info": {
   "codemirror_mode": {
    "name": "ipython",
    "version": 3
   },
   "file_extension": ".py",
   "mimetype": "text/x-python",
   "name": "python",
   "nbconvert_exporter": "python",
   "pygments_lexer": "ipython3",
   "version": "3.11.11"
  }
 },
 "nbformat": 4,
 "nbformat_minor": 2
}
