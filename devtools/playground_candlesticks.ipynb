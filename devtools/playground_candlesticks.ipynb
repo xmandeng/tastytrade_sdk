{
 "cells": [
  {
   "cell_type": "code",
   "execution_count": null,
   "metadata": {},
   "outputs": [],
   "source": [
    "from tastytrade.logging import setup_logging\n",
    "import logging\n",
    "import asyncio\n",
    "from tastytrade.sessions import Credentials\n",
    "\n",
    "from tastytrade.sessions.enumerations import Channels\n",
    "from tastytrade.sessions.sockets import DXLinkManager\n",
    "from tastytrade.sessions.models import CandleSubscriptionRequest\n",
    "\n",
    "from datetime import datetime, timedelta\n",
    "\n",
    "logging.getLogger().handlers.clear()\n",
    "\n",
    "TEST = True\n",
    "ENV = \"Live\"\n",
    "DURATION = 15\n",
    "\n",
    "setup_logging(\n",
    "    level=logging.DEBUG,\n",
    "    log_dir=\"../logs\",\n",
    "    filename_prefix=f\"{'dev' if TEST else 'prod'}_tastytrade\",\n",
    "    console=True,\n",
    "    file=True,\n",
    ")\n",
    "\n",
    "loop = asyncio.get_event_loop()\n",
    "loop.set_debug(True)\n",
    "logging.getLogger(\"asyncio\").setLevel(logging.DEBUG)"
   ]
  },
  {
   "cell_type": "markdown",
   "metadata": {},
   "source": [
    "## Test individual components"
   ]
  },
  {
   "cell_type": "code",
   "execution_count": null,
   "metadata": {},
   "outputs": [
    {
     "name": "stderr",
     "output_type": "stream",
     "text": [
      "2025-02-04 10:29:17 - DEBUG:websockets.client:599:< TEXT '{\"type\":\"FEED_DATA\",\"channel\":11,\"data\":[\"Candl....25,98992.92,99179.7]]}' [110 bytes]\n",
      "2025-02-04 10:29:17 - DEBUG:tastytrade.sessions.sockets:100:{\"type\":\"FEED_DATA\",\"channel\":11,\"data\":[\"Candle\",[\"BTC/USD:CXTALP{=5m}\",99014.67,99404.25,98992.92,99179.7]]}\n",
      "2025-02-04 10:29:17 - DEBUG:tastytrade.sessions.handlers:225:Candle handler for channel 11 processed 1 events\n",
      "2025-02-04 10:29:17 - DEBUG:websockets.client:599:< TEXT '{\"type\":\"FEED_DATA\",\"channel\":11,\"data\":[\"Candl...25,98992.92,99196.02]]}' [111 bytes]\n",
      "2025-02-04 10:29:17 - DEBUG:tastytrade.sessions.sockets:100:{\"type\":\"FEED_DATA\",\"channel\":11,\"data\":[\"Candle\",[\"BTC/USD:CXTALP{=5m}\",99014.67,99404.25,98992.92,99196.02]]}\n",
      "2025-02-04 10:29:17 - DEBUG:tastytrade.sessions.handlers:225:Candle handler for channel 11 processed 1 events\n"
     ]
    }
   ],
   "source": [
    "# Set API credentials\n",
    "credentials = Credentials(env=ENV)\n",
    "\n",
    "\n",
    "credentials = Credentials(env=\"Live\")\n",
    "dxlink = DXLinkManager()\n",
    "\n",
    "await dxlink.open(credentials)\n",
    "\n",
    "request = CandleSubscriptionRequest(\n",
    "    symbol=\"BTC/USD:CXTALP\", interval=\"5m\", from_time=datetime.now() - timedelta(minutes=10)\n",
    ")\n",
    "await dxlink.subscribe_to_candles(request)"
   ]
  },
  {
   "cell_type": "code",
   "execution_count": null,
   "metadata": {},
   "outputs": [],
   "source": [
    "# Subscribe to 5-minute candles for SPY\n",
    "request = CandleSubscriptionRequest(symbol=\"BTC/USD:CXTALP\", interval=\"5m\")\n",
    "await dxlink.subscribe_to_candles(request)"
   ]
  },
  {
   "cell_type": "code",
   "execution_count": null,
   "metadata": {},
   "outputs": [],
   "source": [
    "symbols = [\"BTC/USD:CXTALP\"]\n",
    "await dxlink.subscribe(symbols)"
   ]
  },
  {
   "cell_type": "code",
   "execution_count": null,
   "metadata": {},
   "outputs": [],
   "source": [
    "# Access candle data\n",
    "dxlink.router.handler[Channels.Candle].processors[\"feed\"].df.sort_values(\n",
    "    \"timestamp\", ascending=True\n",
    ")"
   ]
  },
  {
   "cell_type": "code",
   "execution_count": null,
   "metadata": {},
   "outputs": [],
   "source": [
    "dxlink.router.handler[Channels.Trade].processors[\"feed\"].df"
   ]
  },
  {
   "cell_type": "code",
   "execution_count": null,
   "metadata": {},
   "outputs": [],
   "source": [
    "await dxlink.close()"
   ]
  },
  {
   "cell_type": "code",
   "execution_count": 4,
   "metadata": {},
   "outputs": [],
   "source": [
    "request = CandleSubscriptionRequest(\n",
    "    symbol=\"BTC/USD:CXTALP\", interval=\"1m\", from_time=datetime.now() - timedelta(minutes=10)\n",
    ")"
   ]
  },
  {
   "cell_type": "code",
   "execution_count": 17,
   "metadata": {},
   "outputs": [],
   "source": [
    "# Notes\n",
    "\n",
    "# We don't need to keep all the Candlestick ticks, just the latest \"Live\" tick preceded by a hsitory of prior candlesticks"
   ]
  },
  {
   "cell_type": "code",
   "execution_count": null,
   "metadata": {},
   "outputs": [],
   "source": []
  }
 ],
 "metadata": {
  "kernelspec": {
   "display_name": "tasty",
   "language": "python",
   "name": "python3"
  },
  "language_info": {
   "codemirror_mode": {
    "name": "ipython",
    "version": 3
   },
   "file_extension": ".py",
   "mimetype": "text/x-python",
   "name": "python",
   "nbconvert_exporter": "python",
   "pygments_lexer": "ipython3",
   "version": "3.11.4"
  }
 },
 "nbformat": 4,
 "nbformat_minor": 2
}
