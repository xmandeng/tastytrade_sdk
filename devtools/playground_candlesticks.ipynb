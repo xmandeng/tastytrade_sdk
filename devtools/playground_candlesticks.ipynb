{
 "cells": [
  {
   "cell_type": "code",
   "execution_count": null,
   "metadata": {},
   "outputs": [],
   "source": [
    "import logging\n",
    "import asyncio\n",
    "import pandas as pd\n",
    "import polars as pl\n",
    "\n",
    "from datetime import datetime, timedelta\n",
    "\n",
    "import influxdb_client\n",
    "\n",
    "from tastytrade.common.logging import setup_logging\n",
    "from tastytrade.config.enumerations import Channels\n",
    "from tastytrade.connections.sockets import DXLinkManager\n",
    "from tastytrade.connections import Credentials, InfluxCredentials\n",
    "from tastytrade.analytics.visualizations.charts import CandleChart, Study\n",
    "\n",
    "\n",
    "from tastytrade.messaging.processors.influxdb import TelegrafHTTPEventProcessor\n",
    "\n",
    "from tastytrade.analytics.indicators.momentum import hull\n",
    "\n",
    "# Show all rows in pandas DataFrames\n",
    "pd.set_option(\"display.max_rows\", 100)\n",
    "pd.set_option(\"display.max_columns\", None)\n",
    "pd.set_option(\"display.width\", None)\n",
    "pd.set_option(\"display.max_colwidth\", None)\n",
    "\n",
    "logging.getLogger().handlers.clear()\n",
    "\n",
    "TEST = True\n",
    "ENV = \"Live\"\n",
    "DURATION = 15\n",
    "\n",
    "EDT = 5\n",
    "\n",
    "start_time = datetime(2025, 1, 1)\n",
    "\n",
    "setup_logging(\n",
    "    level=logging.INFO,\n",
    "    log_dir=\"../logs\",\n",
    "    filename_prefix=f\"{'dev' if TEST else 'prod'}_tastytrade\",\n",
    "    console=True,\n",
    "    file=True,\n",
    ")\n",
    "\n",
    "loop = asyncio.get_event_loop()\n",
    "loop.set_debug(True)\n",
    "logging.getLogger(\"asyncio\").setLevel(logging.DEBUG)"
   ]
  },
  {
   "cell_type": "markdown",
   "metadata": {},
   "source": [
    "## Test individual components"
   ]
  },
  {
   "cell_type": "code",
   "execution_count": null,
   "metadata": {},
   "outputs": [],
   "source": [
    "# Set API credentials\n",
    "credentials = Credentials(env=ENV)\n",
    "\n",
    "\n",
    "credentials = Credentials(env=\"Live\")\n",
    "dxlink = DXLinkManager()\n",
    "\n",
    "await dxlink.open(credentials=credentials)"
   ]
  },
  {
   "cell_type": "code",
   "execution_count": 3,
   "metadata": {},
   "outputs": [],
   "source": [
    "influx_user = InfluxCredentials()\n",
    "influxdb = influxdb_client.InfluxDBClient(\n",
    "    url=InfluxCredentials().url, token=influx_user.token, org=influx_user.org\n",
    ")\n",
    "query_api = influxdb.query_api()"
   ]
  },
  {
   "cell_type": "code",
   "execution_count": 4,
   "metadata": {},
   "outputs": [],
   "source": [
    "for handler in dxlink.router.handler.values():\n",
    "    handler.add_processor(TelegrafHTTPEventProcessor())"
   ]
  },
  {
   "cell_type": "code",
   "execution_count": null,
   "metadata": {},
   "outputs": [],
   "source": [
    "dxlink.router.handler[Channels.Candle].processors"
   ]
  },
  {
   "cell_type": "code",
   "execution_count": null,
   "metadata": {},
   "outputs": [],
   "source": [
    "start_time = datetime(2025, 2, 21, 12, 00)\n",
    "\n",
    "for symbol in [\"BTC/USD:CXTALP\", \"NVDA\", \"QQQ\", \"SPY\", \"SPX\"]:\n",
    "\n",
    "    for interval in [\"1d\", \"1h\", \"30m\", \"15m\", \"5m\", \"1m\"]:\n",
    "        await dxlink.subscribe_to_candles(\n",
    "            symbol=symbol,\n",
    "            interval=interval,\n",
    "            from_time=start_time,\n",
    "        )"
   ]
  },
  {
   "cell_type": "code",
   "execution_count": null,
   "metadata": {},
   "outputs": [],
   "source": [
    "symbols = [\"NVDA\"]\n",
    "symbols = [\"SPX\"]\n",
    "symbols = [\"SPX\", \"NVDA\", \"SPY\", \"QQQ\"]\n",
    "symbols = [\"BTC/USD:CXTALP\", \"SPX\", \"NVDA\", \"SPY\", \"QQQ\"]\n",
    "await dxlink.subscribe(symbols)"
   ]
  },
  {
   "cell_type": "code",
   "execution_count": null,
   "metadata": {},
   "outputs": [],
   "source": [
    "symbol = \"BTC/USD:CXTALP{=m}\"\n",
    "\n",
    "dxlink.router.handler[Channels.Candle].processors[\"feed\"].frames[f\"{symbol}\"]"
   ]
  },
  {
   "cell_type": "code",
   "execution_count": 18,
   "metadata": {},
   "outputs": [],
   "source": [
    "from tastytrade.providers.market import MarketDataProvider\n",
    "\n",
    "stream = MarketDataProvider(dxlink, influxdb)"
   ]
  },
  {
   "cell_type": "code",
   "execution_count": null,
   "metadata": {},
   "outputs": [],
   "source": [
    "stream.download(\n",
    "    symbol=symbol,\n",
    "    event_type=\"CandleEvent\",\n",
    "    start=datetime(2025, 2, 18),\n",
    "    # debug_mode=True,\n",
    ")\n",
    "\n",
    "await stream.subscribe(symbol)"
   ]
  },
  {
   "cell_type": "code",
   "execution_count": null,
   "metadata": {},
   "outputs": [],
   "source": [
    "stream[symbol].sort(\"time\", descending=True).head(5)"
   ]
  },
  {
   "cell_type": "code",
   "execution_count": null,
   "metadata": {},
   "outputs": [],
   "source": [
    "dxlink.router.handler[Channels.Candle].processors[\"feed\"].frames[f\"{symbol}\"].sort(\n",
    "    \"time\", descending=True\n",
    ").head(5)\n"
   ]
  },
  {
   "cell_type": "code",
   "execution_count": null,
   "metadata": {},
   "outputs": [],
   "source": [
    "hull(input_df=stream[\"SPX{=5m}\"], symbol=\"SPX{=5m}\").head(3)"
   ]
  },
  {
   "cell_type": "code",
   "execution_count": 12,
   "metadata": {},
   "outputs": [],
   "source": [
    "hma_study = Study(\n",
    "    name=\"HMA-20\",\n",
    "    compute_fn=hull,  # The hull function\n",
    "    params={\"length\": 20},  # Parameters for hull function\n",
    "    plot_params={\n",
    "        \"colors\": {\"Up\": \"#01FFFF\", \"Down\": \"#FF66FE\"},  # Green for uptrend  # Red for downtrend\n",
    "        \"width\": 2,\n",
    "    },\n",
    "    value_column=\"HMA\",\n",
    "    color_column=\"HMA_color\",\n",
    ")"
   ]
  },
  {
   "cell_type": "code",
   "execution_count": null,
   "metadata": {},
   "outputs": [],
   "source": [
    "chart1 = CandleChart(\n",
    "    stream,\n",
    "    \"SPX{=5m}\",\n",
    "    start_time=pd.Timestamp(\"2025-02-18 14:00\").tz_localize(\"UTC\"),\n",
    "    end_time=pd.Timestamp(\"2025-02-18 21:00\").tz_localize(\"UTC\"),\n",
    ")\n",
    "chart1.add_study(hma_study)\n",
    "chart1.start()"
   ]
  },
  {
   "cell_type": "code",
   "execution_count": 15,
   "metadata": {},
   "outputs": [],
   "source": [
    "stream.download(\n",
    "    symbol=\"SPX{=5m}\",\n",
    "    event_type=\"CandleEvent\",\n",
    "    start=datetime(2025, 2, 18),\n",
    ")"
   ]
  },
  {
   "cell_type": "code",
   "execution_count": 14,
   "metadata": {},
   "outputs": [],
   "source": [
    "await chart1.stop()"
   ]
  },
  {
   "cell_type": "code",
   "execution_count": null,
   "metadata": {},
   "outputs": [],
   "source": [
    "await dxlink.close()"
   ]
  },
  {
   "cell_type": "code",
   "execution_count": 24,
   "metadata": {},
   "outputs": [],
   "source": [
    "# TODOS\n",
    "\n",
    "# [x] Widen the plot\n",
    "# Remove the scroller at the bottom\n",
    "# move the legent and remove Price (that is obvious)\n",
    "\n",
    "# Add MACD\n",
    "# Add RSI\n",
    "# Add Volume Profile (?? ... /ES, SPY, etc)\n",
    "# Add velocity metric\n",
    "\n",
    "# Do not plot study data points passed available data\n",
    "\n",
    "# [x] HULL - Align the first tick against to the subsequent tick\n",
    "\n",
    "# ERROR if no study data found"
   ]
  }
 ],
 "metadata": {
  "kernelspec": {
   "display_name": ".venv",
   "language": "python",
   "name": "python3"
  },
  "language_info": {
   "codemirror_mode": {
    "name": "ipython",
    "version": 3
   },
   "file_extension": ".py",
   "mimetype": "text/x-python",
   "name": "python",
   "nbconvert_exporter": "python",
   "pygments_lexer": "ipython3",
   "version": "3.11.11"
  }
 },
 "nbformat": 4,
 "nbformat_minor": 2
}
