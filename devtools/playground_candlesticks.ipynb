{
 "cells": [
  {
   "cell_type": "code",
   "execution_count": null,
   "metadata": {},
   "outputs": [],
   "source": [
    "import logging\n",
    "import asyncio\n",
    "import pandas as pd\n",
    "import polars as pl\n",
    "\n",
    "from datetime import datetime, timedelta\n",
    "\n",
    "import influxdb_client\n",
    "\n",
    "from tastytrade.common.logging import setup_logging\n",
    "from tastytrade.config.enumerations import Channels\n",
    "from tastytrade.connections.sockets import DXLinkManager\n",
    "from tastytrade.connections import Credentials, InfluxCredentials\n",
    "\n",
    "from tastytrade.messaging.processors.influxdb import TelegrafHTTPEventProcessor\n",
    "\n",
    "# Show all rows in pandas DataFrames\n",
    "pd.set_option(\"display.max_rows\", 100)\n",
    "pd.set_option(\"display.max_columns\", None)\n",
    "pd.set_option(\"display.width\", None)\n",
    "pd.set_option(\"display.max_colwidth\", None)\n",
    "\n",
    "logging.getLogger().handlers.clear()\n",
    "\n",
    "TEST = True\n",
    "ENV = \"Live\"\n",
    "DURATION = 15\n",
    "\n",
    "EDT = 5\n",
    "\n",
    "start_time = datetime(2025, 1, 1)\n",
    "\n",
    "setup_logging(\n",
    "    level=logging.INFO,\n",
    "    log_dir=\"../logs\",\n",
    "    filename_prefix=f\"{'dev' if TEST else 'prod'}_tastytrade\",\n",
    "    console=True,\n",
    "    file=True,\n",
    ")\n",
    "\n",
    "loop = asyncio.get_event_loop()\n",
    "loop.set_debug(True)\n",
    "logging.getLogger(\"asyncio\").setLevel(logging.DEBUG)"
   ]
  },
  {
   "cell_type": "markdown",
   "metadata": {},
   "source": [
    "## Test individual components"
   ]
  },
  {
   "cell_type": "code",
   "execution_count": null,
   "metadata": {},
   "outputs": [],
   "source": [
    "credentials = Credentials(env=\"Live\")\n",
    "dxlink = DXLinkManager()\n",
    "\n",
    "await dxlink.open(credentials=credentials)"
   ]
  },
  {
   "cell_type": "code",
   "execution_count": 3,
   "metadata": {},
   "outputs": [],
   "source": [
    "influx_user = InfluxCredentials()\n",
    "influxdb = influxdb_client.InfluxDBClient(  # **InfluxCredentials().__dict__)\n",
    "    url=influx_user.url, token=influx_user.token, org=influx_user.org\n",
    ")\n",
    "query_api = influxdb.query_api()"
   ]
  },
  {
   "cell_type": "code",
   "execution_count": 4,
   "metadata": {},
   "outputs": [],
   "source": [
    "for handler in dxlink.router.handler.values():\n",
    "    handler.add_processor(TelegrafHTTPEventProcessor())"
   ]
  },
  {
   "cell_type": "code",
   "execution_count": null,
   "metadata": {},
   "outputs": [],
   "source": [
    "dxlink.router.handler[Channels.Candle].processors"
   ]
  },
  {
   "cell_type": "code",
   "execution_count": null,
   "metadata": {},
   "outputs": [],
   "source": [
    "start_time = datetime(2025, 2, 25, 9)\n",
    "\n",
    "# for symbol in [\"NVDA\"]:\n",
    "# for symbol in [\"BTC/USD:CXTALP\", \"NVDA\", \"QQQ\", \"SPY\", \"SPX\"]:\n",
    "\n",
    "for symbol in [\"BTC/USD:CXTALP\", \"NVDA\", \"QQQ\", \"SPY\", \"SPX\"]:\n",
    "    for interval in [\"1d\", \"1h\", \"30m\", \"15m\", \"5m\", \"m\"]:\n",
    "        await dxlink.subscribe_to_candles(\n",
    "            symbol=symbol,\n",
    "            interval=interval,\n",
    "            from_time=start_time,\n",
    "        )"
   ]
  },
  {
   "cell_type": "code",
   "execution_count": null,
   "metadata": {},
   "outputs": [],
   "source": [
    "symbols = [\"NVDA\"]\n",
    "symbols = [\"SPX\"]\n",
    "symbols = [\"SPX\", \"NVDA\", \"SPY\", \"QQQ\"]\n",
    "symbols = [\"BTC/USD:CXTALP\", \"SPX\", \"NVDA\", \"SPY\", \"QQQ\"]\n",
    "await dxlink.subscribe(symbols)"
   ]
  },
  {
   "cell_type": "code",
   "execution_count": null,
   "metadata": {},
   "outputs": [],
   "source": [
    "symbol = \"SPX{=m}\"\n",
    "symbol = \"BTC/USD:CXTALP{=m}\"\n",
    "\n",
    "dxlink.router.handler[Channels.Candle].processors[\"feed\"].frames[f\"{symbol}\"].tail(1)"
   ]
  },
  {
   "cell_type": "code",
   "execution_count": null,
   "metadata": {},
   "outputs": [],
   "source": [
    "dxlink.router.handler[Channels.Candle].processors[\"feed\"].frames[f\"{symbol}\"].shape"
   ]
  },
  {
   "cell_type": "code",
   "execution_count": 9,
   "metadata": {},
   "outputs": [],
   "source": [
    "# TODOS\n",
    "\n",
    "# [x] Widen the plot\n",
    "# [x] Remove the scroller at the bottom\n",
    "# [x] move the legent and remove Price (that is obvious)\n",
    "# [x] Add MACD\n",
    "# [x] Fix HULL - Align w/ candlesticks\n",
    "# [x] ERROR if no study data found\n",
    "\n",
    "# [ ] Add RSI\n",
    "# [ ] Add Volume Profile (?? ... /ES, SPY, etc)\n",
    "# [ ] Add velocity metric"
   ]
  },
  {
   "cell_type": "code",
   "execution_count": 8,
   "metadata": {},
   "outputs": [],
   "source": [
    "from tastytrade.analytics.visualizations.plots import plot_macd_with_hull\n",
    "from tastytrade.analytics.indicators.momentum import macd\n",
    "from tastytrade.messaging.models.events import CandleEvent\n",
    "import re\n",
    "\n",
    "from tastytrade.providers.market import MarketDataProvider\n",
    "\n",
    "streamer = MarketDataProvider(dxlink, influxdb)\n",
    "\n",
    "# TODO Throw an error if stop <= start\n",
    "start = datetime(2025, 2, 25, 9) + timedelta(hours=5)\n",
    "stop = datetime(2025, 2, 25, 16) + timedelta(hours=5)\n",
    "# stop = None"
   ]
  },
  {
   "cell_type": "code",
   "execution_count": 9,
   "metadata": {},
   "outputs": [],
   "source": [
    "# import importlib\n",
    "# import tastytrade.analytics.visualizations.plots\n",
    "\n",
    "# importlib.reload(tastytrade.analytics.visualizations.plots)\n",
    "# plot_macd_with_hull = tastytrade.analytics.visualizations.plots.plot_macd_with_hull"
   ]
  },
  {
   "cell_type": "code",
   "execution_count": 10,
   "metadata": {},
   "outputs": [],
   "source": [
    "candle_symbol = \"SPX{=m}\"\n",
    "\n",
    "prior_day: CandleEvent = CandleEvent(\n",
    "    **(\n",
    "        streamer.download(\n",
    "            symbol=re.sub(r\"\\{=.*?\\}\", \"{=d}\", candle_symbol),\n",
    "            start=start.date() + timedelta(days=-1),\n",
    "            stop=start.date(),\n",
    "            debug_mode=True,\n",
    "        )\n",
    "        .to_dicts()\n",
    "        .pop()\n",
    "    )\n",
    ")"
   ]
  },
  {
   "cell_type": "code",
   "execution_count": 11,
   "metadata": {},
   "outputs": [],
   "source": [
    "candles: pl.DataFrame = streamer.download(\n",
    "    symbol=candle_symbol,\n",
    "    start=start,\n",
    "    stop=stop,\n",
    "    debug_mode=True,\n",
    ")"
   ]
  },
  {
   "cell_type": "code",
   "execution_count": 12,
   "metadata": {},
   "outputs": [],
   "source": [
    "df_macd = macd(candles, prior_close=prior_day.close, fast_length=12, slow_length=26, macd_length=9)"
   ]
  },
  {
   "cell_type": "code",
   "execution_count": null,
   "metadata": {},
   "outputs": [],
   "source": [
    "plot_macd_with_hull(df_macd, pad_value=prior_day.close)"
   ]
  },
  {
   "cell_type": "code",
   "execution_count": 14,
   "metadata": {},
   "outputs": [],
   "source": [
    "candle_symbol = \"SPX{=5m}\"\n",
    "\n",
    "candles: pl.DataFrame = streamer.download(\n",
    "    symbol=candle_symbol,\n",
    "    start=start,\n",
    "    stop=stop,\n",
    "    debug_mode=True,\n",
    ")"
   ]
  },
  {
   "cell_type": "code",
   "execution_count": null,
   "metadata": {},
   "outputs": [],
   "source": [
    "df_macd = macd(candles, prior_close=prior_day.close, fast_length=12, slow_length=26, macd_length=9)\n",
    "plot_macd_with_hull(df_macd, pad_value=prior_day.close)"
   ]
  },
  {
   "cell_type": "code",
   "execution_count": null,
   "metadata": {},
   "outputs": [],
   "source": [
    "candles.sort(\"time\", descending=True)"
   ]
  },
  {
   "cell_type": "code",
   "execution_count": null,
   "metadata": {},
   "outputs": [],
   "source": [
    "await dxlink.close()"
   ]
  },
  {
   "cell_type": "code",
   "execution_count": null,
   "metadata": {},
   "outputs": [],
   "source": []
  }
 ],
 "metadata": {
  "kernelspec": {
   "display_name": ".venv",
   "language": "python",
   "name": "python3"
  },
  "language_info": {
   "codemirror_mode": {
    "name": "ipython",
    "version": 3
   },
   "file_extension": ".py",
   "mimetype": "text/x-python",
   "name": "python",
   "nbconvert_exporter": "python",
   "pygments_lexer": "ipython3",
   "version": "3.11.11"
  }
 },
 "nbformat": 4,
 "nbformat_minor": 2
}
