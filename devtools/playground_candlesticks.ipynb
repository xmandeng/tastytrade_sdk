{
 "cells": [
  {
   "cell_type": "code",
   "execution_count": null,
   "metadata": {},
   "outputs": [],
   "source": [
    "from tastytrade.logging import setup_logging\n",
    "import logging\n",
    "import asyncio\n",
    "from tastytrade.sessions import Credentials\n",
    "\n",
    "from tastytrade.sessions.enumerations import Channels\n",
    "from tastytrade.sessions.sockets import DXLinkManager\n",
    "\n",
    "from datetime import datetime, timedelta\n",
    "\n",
    "logging.getLogger().handlers.clear()\n",
    "\n",
    "TEST = True\n",
    "ENV = \"Live\"\n",
    "DURATION = 15\n",
    "\n",
    "start_time = datetime.now() - timedelta(minutes=30)\n",
    "end_time = datetime.now() - timedelta(minutes=2)\n",
    "\n",
    "setup_logging(\n",
    "    level=logging.INFO,\n",
    "    log_dir=\"../logs\",\n",
    "    filename_prefix=f\"{'dev' if TEST else 'prod'}_tastytrade\",\n",
    "    console=True,\n",
    "    file=True,\n",
    ")\n",
    "\n",
    "loop = asyncio.get_event_loop()\n",
    "loop.set_debug(True)\n",
    "logging.getLogger(\"asyncio\").setLevel(logging.DEBUG)"
   ]
  },
  {
   "cell_type": "markdown",
   "metadata": {},
   "source": [
    "## Test individual components"
   ]
  },
  {
   "cell_type": "code",
   "execution_count": null,
   "metadata": {},
   "outputs": [],
   "source": [
    "# Set API credentials\n",
    "credentials = Credentials(env=ENV)\n",
    "\n",
    "\n",
    "credentials = Credentials(env=\"Live\")\n",
    "dxlink = DXLinkManager()\n",
    "\n",
    "await dxlink.open(credentials)"
   ]
  },
  {
   "cell_type": "code",
   "execution_count": 3,
   "metadata": {},
   "outputs": [],
   "source": [
    "await dxlink.subscribe_to_candles(\n",
    "    symbol=\"BTC/USD:CXTALP\",\n",
    "    # symbol=\"SPY\",\n",
    "    interval=\"1m\",\n",
    "    # from_time=datetime.now(),\n",
    "    from_time=start_time,\n",
    "    # to_time=end_time,\n",
    ")"
   ]
  },
  {
   "cell_type": "code",
   "execution_count": null,
   "metadata": {},
   "outputs": [],
   "source": [
    "# Subscribe to 5-minute candles for SPY\n",
    "await dxlink.unsubscribe_to_candles(symbol=\"BTC/USD:CXTALP\", interval=\"1m\")\n",
    "# await dxlink.unsubscribe_to_candles(symbol=\"SPY\", interval=\"1m\")"
   ]
  },
  {
   "cell_type": "code",
   "execution_count": null,
   "metadata": {},
   "outputs": [],
   "source": [
    "symbols = [\"BTC/USD:CXTALP\", \"SPY\", \"NVDA\"]\n",
    "await dxlink.subscribe(symbols)"
   ]
  },
  {
   "cell_type": "code",
   "execution_count": null,
   "metadata": {},
   "outputs": [],
   "source": [
    "await dxlink.unsubscribe(symbols)"
   ]
  },
  {
   "cell_type": "code",
   "execution_count": null,
   "metadata": {},
   "outputs": [],
   "source": [
    "dxlink.router.handler[Channels.Candle].processors[\"feed\"].pl"
   ]
  },
  {
   "cell_type": "code",
   "execution_count": null,
   "metadata": {},
   "outputs": [],
   "source": [
    "# Access candle data\n",
    "columns = [\"eventSymbol\", \"time\", \"open\", \"high\", \"low\", \"close\"]\n",
    "dxlink.router.handler[Channels.Candle].processors[\"feed\"].df[columns]\n",
    "# dxlink.router.handler[Channels.Candle].processors[\"feed\"].pl.select(columns)"
   ]
  },
  {
   "cell_type": "code",
   "execution_count": null,
   "metadata": {},
   "outputs": [],
   "source": [
    "dxlink.router.handler[Channels.Trade].processors[\"feed\"].df"
   ]
  },
  {
   "cell_type": "code",
   "execution_count": null,
   "metadata": {},
   "outputs": [],
   "source": [
    "dxlink.router.handler[Channels.Quote].processors[\"feed\"].df"
   ]
  },
  {
   "cell_type": "code",
   "execution_count": null,
   "metadata": {},
   "outputs": [],
   "source": [
    "dxlink.router.handler[Channels.Greeks].processors[\"feed\"].df"
   ]
  },
  {
   "cell_type": "code",
   "execution_count": null,
   "metadata": {},
   "outputs": [],
   "source": [
    "dxlink.router.handler[Channels.Profile].processors[\"feed\"].df"
   ]
  },
  {
   "cell_type": "code",
   "execution_count": null,
   "metadata": {},
   "outputs": [],
   "source": [
    "dxlink.router.handler[Channels.Summary].processors[\"feed\"].df"
   ]
  },
  {
   "cell_type": "code",
   "execution_count": null,
   "metadata": {},
   "outputs": [],
   "source": [
    "await dxlink.close()"
   ]
  },
  {
   "cell_type": "code",
   "execution_count": 4,
   "metadata": {},
   "outputs": [],
   "source": [
    "import plotly.graph_objects as go\n",
    "from IPython.display import display, clear_output\n",
    "import asyncio\n",
    "import logging\n",
    "\n",
    "\n",
    "def plot_live_candlesticks(dxlink, symbol):\n",
    "    \"\"\"Live candlestick chart that updates based on the most recent data.\n",
    "\n",
    "    Args:\n",
    "        dxlink: DXLink manager instance\n",
    "        symbol: Symbol to plot (e.g. \"BTC/USD:CXTALP{=5m}\")\n",
    "    \"\"\"\n",
    "    logger = logging.getLogger(__name__)\n",
    "    fig = go.Figure()\n",
    "\n",
    "    # Set up the figure style\n",
    "    fig.update_layout(\n",
    "        plot_bgcolor=\"rgb(25,25,25)\",\n",
    "        paper_bgcolor=\"rgb(25,25,25)\",\n",
    "        title=dict(text=symbol, x=0.5, font=dict(color=\"white\", size=16)),\n",
    "        yaxis=dict(\n",
    "            gridcolor=\"rgba(128,128,128,0.1)\", zerolinecolor=\"rgba(128,128,128,0.1)\", color=\"white\"\n",
    "        ),\n",
    "        xaxis=dict(\n",
    "            gridcolor=\"rgba(128,128,128,0.1)\", zerolinecolor=\"rgba(128,128,128,0.1)\", color=\"white\"\n",
    "        ),\n",
    "        showlegend=False,\n",
    "    )\n",
    "\n",
    "    async def update_chart():\n",
    "        try:\n",
    "            while True:\n",
    "                # Get data\n",
    "                df = (\n",
    "                    dxlink.router.handler[Channels.Candle]\n",
    "                    .processors[\"feed\"]\n",
    "                    .df.loc[lambda x: x[\"eventSymbol\"] == symbol]\n",
    "                )\n",
    "\n",
    "                logger.info(f\"Got dataframe with {len(df)} rows\")\n",
    "\n",
    "                if len(df) == 0:\n",
    "                    logger.warning(\"No data available for symbol %s\", symbol)\n",
    "                    await asyncio.sleep(1)\n",
    "                    continue\n",
    "\n",
    "                # Convert timestamps to EDT\n",
    "                df = df.copy()\n",
    "                df[\"time\"] = df[\"time\"].dt.tz_localize(\"UTC\").dt.tz_convert(\"America/New_York\")\n",
    "\n",
    "                # Update the candlesticks\n",
    "                try:\n",
    "                    with fig.batch_update():\n",
    "                        fig.data = []\n",
    "                        fig.add_trace(\n",
    "                            go.Candlestick(\n",
    "                                x=df[\"time\"],\n",
    "                                open=df[\"open\"],\n",
    "                                high=df[\"high\"],\n",
    "                                low=df[\"low\"],\n",
    "                                close=df[\"close\"],\n",
    "                                increasing=dict(line=dict(width=1), fillcolor=\"#26A69A\"),\n",
    "                                decreasing=dict(line=dict(width=1), fillcolor=\"#EF5350\"),\n",
    "                            )\n",
    "                        )\n",
    "\n",
    "                    clear_output(wait=True)\n",
    "                    display(fig)\n",
    "                    logger.info(\"Plot updated successfully\")\n",
    "\n",
    "                except Exception as e:\n",
    "                    logger.error(f\"Error updating plot: {e}\")\n",
    "\n",
    "                # Wait for next update\n",
    "                await dxlink.queues[Channels.Candle.value].get()\n",
    "\n",
    "        except asyncio.CancelledError:\n",
    "            logger.info(f\"Stopped plotting {symbol}\")\n",
    "        except Exception as e:\n",
    "            logger.error(f\"Unexpected error in chart update: {e}\")\n",
    "\n",
    "    return asyncio.create_task(update_chart(), name=f\"candlestick_plot_{symbol}\")"
   ]
  },
  {
   "cell_type": "code",
   "execution_count": null,
   "metadata": {},
   "outputs": [],
   "source": [
    "task = plot_live_candlesticks(dxlink, \"BTC/USD:CXTALP{=m}\")"
   ]
  },
  {
   "cell_type": "code",
   "execution_count": null,
   "metadata": {},
   "outputs": [],
   "source": [
    "task.cancel()"
   ]
  },
  {
   "cell_type": "code",
   "execution_count": null,
   "metadata": {},
   "outputs": [],
   "source": [
    "await dxlink.close()"
   ]
  },
  {
   "cell_type": "code",
   "execution_count": null,
   "metadata": {},
   "outputs": [],
   "source": []
  }
 ],
 "metadata": {
  "kernelspec": {
   "display_name": "tasty",
   "language": "python",
   "name": "python3"
  },
  "language_info": {
   "codemirror_mode": {
    "name": "ipython",
    "version": 3
   },
   "file_extension": ".py",
   "mimetype": "text/x-python",
   "name": "python",
   "nbconvert_exporter": "python",
   "pygments_lexer": "ipython3",
   "version": "3.11.4"
  }
 },
 "nbformat": 4,
 "nbformat_minor": 2
}
