{
 "cells": [
  {
   "cell_type": "code",
   "execution_count": null,
   "metadata": {},
   "outputs": [],
   "source": [
    "from tastytrade.common.logging import setup_logging\n",
    "import logging\n",
    "import asyncio\n",
    "import pandas as pd\n",
    "import polars as pl\n",
    "from tastytrade.connections import Credentials\n",
    "\n",
    "from tastytrade.config.enumerations import Channels\n",
    "from tastytrade.connections.sockets import DXLinkManager\n",
    "\n",
    "from tastytrade.analytics.visualizations.custom import plot_live_candlesticks\n",
    "from tastytrade.analytics.visualizations.charts import DynamicChart, Study\n",
    "from datetime import datetime, timedelta\n",
    "\n",
    "from tastytrade.messaging.processors.influxdb import TelegrafHTTPEventProcessor\n",
    "\n",
    "from tastytrade.analytics.indicators.momentum import hull\n",
    "\n",
    "# Show all rows in pandas DataFrames\n",
    "pd.set_option(\"display.max_rows\", 100)\n",
    "pd.set_option(\"display.max_columns\", None)\n",
    "pd.set_option(\"display.width\", None)\n",
    "pd.set_option(\"display.max_colwidth\", None)\n",
    "\n",
    "logging.getLogger().handlers.clear()\n",
    "\n",
    "TEST = True\n",
    "ENV = \"Live\"\n",
    "DURATION = 15\n",
    "\n",
    "EDT = 5\n",
    "\n",
    "start_time = datetime(2020, 1, 1, 0, 00)\n",
    "end_time = start_time + timedelta(hours=8)\n",
    "\n",
    "setup_logging(\n",
    "    level=logging.INFO,\n",
    "    log_dir=\"../logs\",\n",
    "    filename_prefix=f\"{'dev' if TEST else 'prod'}_tastytrade\",\n",
    "    console=True,\n",
    "    file=True,\n",
    ")\n",
    "\n",
    "loop = asyncio.get_event_loop()\n",
    "loop.set_debug(True)\n",
    "logging.getLogger(\"asyncio\").setLevel(logging.DEBUG)"
   ]
  },
  {
   "cell_type": "markdown",
   "metadata": {},
   "source": [
    "## Test individual components"
   ]
  },
  {
   "cell_type": "code",
   "execution_count": null,
   "metadata": {},
   "outputs": [],
   "source": [
    "# Set API credentials\n",
    "credentials = Credentials(env=ENV)\n",
    "\n",
    "\n",
    "credentials = Credentials(env=\"Live\")\n",
    "dxlink = DXLinkManager()\n",
    "\n",
    "await dxlink.open(credentials=credentials)"
   ]
  },
  {
   "cell_type": "code",
   "execution_count": null,
   "metadata": {},
   "outputs": [],
   "source": [
    "dxlink.router.add_processor(TelegrafHTTPEventProcessor())"
   ]
  },
  {
   "cell_type": "code",
   "execution_count": null,
   "metadata": {},
   "outputs": [],
   "source": [
    "dxlink.router.handler[Channels.Candle].processors"
   ]
  },
  {
   "cell_type": "code",
   "execution_count": 5,
   "metadata": {},
   "outputs": [],
   "source": [
    "symbol = \"BTC/USD:CXTALP\" \n",
    "# symbol = \"NVDA\"\n",
    "symbol = \"SPX\"\n",
    "# symbol = \"SPY\"\n",
    "# symbol = \"QQQ\""
   ]
  },
  {
   "cell_type": "code",
   "execution_count": 6,
   "metadata": {},
   "outputs": [],
   "source": [
    "await dxlink.subscribe_to_candles(\n",
    "    symbol=symbol,\n",
    "    interval=\"1d\",\n",
    "    from_time=start_time,\n",
    ")"
   ]
  },
  {
   "cell_type": "code",
   "execution_count": 7,
   "metadata": {},
   "outputs": [],
   "source": [
    "await dxlink.subscribe_to_candles(\n",
    "    symbol=symbol,\n",
    "    interval=\"1h\",\n",
    "    from_time=start_time,\n",
    ")"
   ]
  },
  {
   "cell_type": "code",
   "execution_count": 8,
   "metadata": {},
   "outputs": [],
   "source": [
    "await dxlink.subscribe_to_candles(\n",
    "    symbol=symbol,\n",
    "    interval=\"30m\",\n",
    "    from_time=start_time,\n",
    ")"
   ]
  },
  {
   "cell_type": "code",
   "execution_count": 9,
   "metadata": {},
   "outputs": [],
   "source": [
    "await dxlink.subscribe_to_candles(\n",
    "    symbol=symbol,\n",
    "    interval=\"15m\",\n",
    "    from_time=start_time,\n",
    ")"
   ]
  },
  {
   "cell_type": "code",
   "execution_count": 10,
   "metadata": {},
   "outputs": [],
   "source": [
    "await dxlink.subscribe_to_candles(\n",
    "    symbol=symbol,\n",
    "    interval=\"5m\",\n",
    "    from_time=start_time,\n",
    ")"
   ]
  },
  {
   "cell_type": "code",
   "execution_count": 11,
   "metadata": {},
   "outputs": [],
   "source": [
    "await dxlink.subscribe_to_candles(\n",
    "    symbol=symbol,\n",
    "    interval=\"1m\",\n",
    "    from_time=start_time,\n",
    ")"
   ]
  },
  {
   "cell_type": "code",
   "execution_count": null,
   "metadata": {},
   "outputs": [],
   "source": [
    "await dxlink.close()"
   ]
  },
  {
   "cell_type": "code",
   "execution_count": 9,
   "metadata": {},
   "outputs": [],
   "source": [
    "df = dxlink.router.handler[Channels.Candle].processors[\"feed\"].pl.clone()\n",
    "await dxlink.close()\n",
    "\n",
    "from dataclasses import dataclass\n",
    "import pytz\n",
    "\n",
    "\n",
    "@dataclass\n",
    "class Event:\n",
    "    eventSymbol: str\n",
    "    time: datetime\n",
    "    open: float\n",
    "    high: float\n",
    "    low: float\n",
    "    close: float\n",
    "\n",
    "\n",
    "event = Event(\n",
    "    eventSymbol=\"BTC/USD:CXTALP{=m}\",\n",
    "    time=datetime(2025, 2, 14, 00, 1),\n",
    "    open=100,\n",
    "    high=100,\n",
    "    low=100,\n",
    "    close=100,\n",
    ")\n",
    "\n",
    "df.sort(\"index\")"
   ]
  },
  {
   "cell_type": "code",
   "execution_count": 8,
   "metadata": {},
   "outputs": [],
   "source": [
    "# symbols = [\"SPX\"]\n",
    "# symbols = [\"SPX\", \"NVDA\", \"BTC/USD:CXTALP\"]\n",
    "symbols = [\"BTC/USD:CXTALP\"]\n",
    "await dxlink.subscribe(symbols)"
   ]
  },
  {
   "cell_type": "code",
   "execution_count": 9,
   "metadata": {},
   "outputs": [],
   "source": [
    "# await dxlink.unsubscribe(symbols)"
   ]
  },
  {
   "cell_type": "code",
   "execution_count": null,
   "metadata": {},
   "outputs": [],
   "source": [
    "print(\n",
    "    dxlink.router.handler[Channels.Candle]\n",
    "    .processors[\"feed\"]\n",
    "    .df.groupby(\"eventSymbol\")[\"time\"]\n",
    "    .max()\n",
    ")"
   ]
  },
  {
   "cell_type": "code",
   "execution_count": null,
   "metadata": {},
   "outputs": [],
   "source": [
    "print(\n",
    "    dxlink.router.handler[Channels.Candle]\n",
    "    .processors[\"feed\"]\n",
    "    .df.groupby(\"eventSymbol\")[\"time\"]\n",
    "    .max()\n",
    ")"
   ]
  },
  {
   "cell_type": "code",
   "execution_count": null,
   "metadata": {},
   "outputs": [],
   "source": [
    "# Access candle data\n",
    "columns = [\n",
    "    \"eventSymbol\",\n",
    "    \"time\",\n",
    "    \"open\",\n",
    "    \"high\",\n",
    "    \"low\",\n",
    "    \"close\",\n",
    "    \"tradeDate\",\n",
    "    \"tradeTime\",\n",
    "    \"prevOpen\",\n",
    "    \"prevHigh\",\n",
    "    \"prevLow\",\n",
    "    \"prevClose\",\n",
    "    \"prevDate\",\n",
    "    \"prevTime\",\n",
    "]\n",
    "dxlink.router.handler[Channels.Candle].processors[\"feed\"].df[columns].tail(10)"
   ]
  },
  {
   "cell_type": "code",
   "execution_count": 13,
   "metadata": {},
   "outputs": [],
   "source": [
    "df = dxlink.router.handler[Channels.Candle].processors[\"feed\"].pl.clone()\n",
    "\n",
    "# df = df.with_columns(\n",
    "#     pl.col(\"time\")\n",
    "#     .dt.convert_time_zone(\"America/New_York\")\n",
    "#     .dt.strftime(\"%Y-%m-%d\")\n",
    "#     .alias(\"tradeDate\"),\n",
    "#     pl.col(\"time\").dt.convert_time_zone(\"America/New_York\").dt.strftime(\"%H:%M\").alias(\"tradeTime\"),\n",
    "# )"
   ]
  },
  {
   "cell_type": "code",
   "execution_count": null,
   "metadata": {},
   "outputs": [],
   "source": [
    "df"
   ]
  },
  {
   "cell_type": "code",
   "execution_count": null,
   "metadata": {},
   "outputs": [],
   "source": []
  },
  {
   "cell_type": "code",
   "execution_count": 12,
   "metadata": {},
   "outputs": [],
   "source": []
  },
  {
   "cell_type": "code",
   "execution_count": null,
   "metadata": {},
   "outputs": [],
   "source": [
    "(\n",
    "    df.sort(\"time\", descending=False)\n",
    "    .filter(pl.col(\"eventSymbol\") == event.eventSymbol)\n",
    "    .filter(pl.col(\"time\").lt(event.time))\n",
    "    .tail(1)\n",
    ")"
   ]
  },
  {
   "cell_type": "code",
   "execution_count": 13,
   "metadata": {},
   "outputs": [],
   "source": [
    "def get_previous_candle(candle_df, event):\n",
    "\n",
    "    if candle_df.is_empty():\n",
    "        return {}\n",
    "\n",
    "    candle = (\n",
    "        candle_df.sort(\"time\", descending=False)\n",
    "        .filter(pl.col(\"eventSymbol\") == event.eventSymbol)\n",
    "        .filter(pl.col(\"time\") < event.time)\n",
    "        .tail(1)\n",
    "    )\n",
    "\n",
    "    return {} if candle.is_empty() else candle.to_dicts().pop()"
   ]
  },
  {
   "cell_type": "code",
   "execution_count": null,
   "metadata": {},
   "outputs": [],
   "source": [
    "get_previous_candle(df, event)"
   ]
  },
  {
   "cell_type": "code",
   "execution_count": 35,
   "metadata": {},
   "outputs": [],
   "source": [
    "for col in [\"open\", \"high\", \"low\", \"close\", \"tradeDate\", \"tradeTime\"]:\n",
    "    df = df.with_columns(pl.col(col).shift(1).over(\"eventSymbol\").alias(f\"prev_{col}\"))"
   ]
  },
  {
   "cell_type": "code",
   "execution_count": null,
   "metadata": {},
   "outputs": [],
   "source": [
    "df.select(\n",
    "    pl.col(\"eventSymbol\"),\n",
    "    pl.col(\"tradeDate\"),\n",
    "    pl.col(\"prev_tradeDate\"),\n",
    "    pl.col(\"tradeTime\"),\n",
    "    pl.col(\"prev_tradeTime\"),\n",
    "    pl.col(\"open\"),\n",
    "    pl.col(\"prev_open\"),\n",
    ")"
   ]
  },
  {
   "cell_type": "code",
   "execution_count": null,
   "metadata": {},
   "outputs": [],
   "source": [
    "dxlink.router.handler[Channels.Trade].processors[\"feed\"].df.tail(10)"
   ]
  },
  {
   "cell_type": "code",
   "execution_count": null,
   "metadata": {},
   "outputs": [],
   "source": [
    "dxlink.router.handler[Channels.Quote].processors[\"feed\"].df.tail(10)"
   ]
  },
  {
   "cell_type": "code",
   "execution_count": null,
   "metadata": {},
   "outputs": [],
   "source": [
    "dxlink.router.handler[Channels.Greeks].processors[\"feed\"].df"
   ]
  },
  {
   "cell_type": "code",
   "execution_count": null,
   "metadata": {},
   "outputs": [],
   "source": [
    "dxlink.router.handler[Channels.Profile].processors[\"feed\"].df"
   ]
  },
  {
   "cell_type": "code",
   "execution_count": null,
   "metadata": {},
   "outputs": [],
   "source": [
    "dxlink.router.handler[Channels.Summary].processors[\"feed\"].df"
   ]
  },
  {
   "cell_type": "code",
   "execution_count": null,
   "metadata": {},
   "outputs": [],
   "source": [
    "candle_symbol_1m = \"BTC/USD:CXTALP{=m}\"\n",
    "candle_symbol_5m = \"BTC/USD:CXTALP{=5m}\""
   ]
  },
  {
   "cell_type": "code",
   "execution_count": null,
   "metadata": {},
   "outputs": [],
   "source": [
    "# Example usage\n",
    "study_params = {\"hull\": {\"length\": 20, \"price_col\": \"close\"}}  # HMA period  # Price column to use\n",
    "\n",
    "# Create the live chart with HMA\n",
    "task = plot_live_candlesticks(dxlink=dxlink, symbol=candle_symbol_1m)"
   ]
  },
  {
   "cell_type": "code",
   "execution_count": null,
   "metadata": {},
   "outputs": [],
   "source": [
    "# Later when you want to stop\n",
    "task.cancel()"
   ]
  },
  {
   "cell_type": "code",
   "execution_count": null,
   "metadata": {},
   "outputs": [],
   "source": [
    "task = plot_live_candlesticks(dxlink, candle_symbol_5m)"
   ]
  },
  {
   "cell_type": "code",
   "execution_count": null,
   "metadata": {},
   "outputs": [],
   "source": [
    "task.cancel()"
   ]
  },
  {
   "cell_type": "code",
   "execution_count": null,
   "metadata": {},
   "outputs": [],
   "source": [
    "hull(dxlink, candle_symbol_1m).head(3)"
   ]
  },
  {
   "cell_type": "code",
   "execution_count": 19,
   "metadata": {},
   "outputs": [],
   "source": [
    "hma_study = Study(\n",
    "    name=\"HMA-20\",\n",
    "    compute_fn=hull,  # The hull function\n",
    "    params={\"length\": 20},  # Parameters for hull function\n",
    "    plot_params={\n",
    "        \"colors\": {\"Up\": \"#26A69A\", \"Down\": \"#EF5350\"},  # Green for uptrend  # Red for downtrend\n",
    "        \"width\": 2,\n",
    "    },\n",
    "    value_column=\"HMA\",\n",
    "    color_column=\"HMA_color\",\n",
    ")"
   ]
  },
  {
   "cell_type": "code",
   "execution_count": null,
   "metadata": {},
   "outputs": [],
   "source": [
    "chart = DynamicChart(dxlink, candle_symbol_1m)\n",
    "chart.add_study(hma_study)\n",
    "chart.start()\n",
    "# chart.stop()"
   ]
  },
  {
   "cell_type": "code",
   "execution_count": null,
   "metadata": {},
   "outputs": [],
   "source": [
    "chart2 = DynamicChart(dxlink, candle_symbol_5m)\n",
    "chart2.add_study(hma_study)\n",
    "chart2.start()\n",
    "# chart2.stop()"
   ]
  },
  {
   "cell_type": "code",
   "execution_count": null,
   "metadata": {},
   "outputs": [],
   "source": [
    "await dxlink.close()"
   ]
  },
  {
   "cell_type": "code",
   "execution_count": 24,
   "metadata": {},
   "outputs": [],
   "source": [
    "# TODOS\n",
    "\n",
    "# Widen the plot\n",
    "# Remove the scroller at the bottom\n",
    "# move the legent and remove Price (that is obvious)\n",
    "\n",
    "# Add MACD\n",
    "# Add RSI\n",
    "# Add Volume Profile (?? ... /ES, SPY, etc)\n",
    "# Add velocity metric\n",
    "\n",
    "# Do not plot study data points passed available data\n",
    "\n",
    "# HULL - Align the first tick against to the subsequent tick\n",
    "\n",
    "# ERROR if no study data found"
   ]
  },
  {
   "cell_type": "code",
   "execution_count": 7,
   "metadata": {},
   "outputs": [],
   "source": [
    "from tastytrade.messaging.models.events import TradeEvent\n",
    "from datetime import datetime\n",
    "\n",
    "trade = TradeEvent(\n",
    "    eventSymbol=\"NVIDIA\",\n",
    "    time=datetime(2025, 2, 9, 10, 0),\n",
    "    price=100,\n",
    "    size=1,\n",
    ")\n",
    "\n",
    "processor = TelegrafHTTPEventProcessor()\n",
    "processor.process_event(trade)"
   ]
  },
  {
   "cell_type": "code",
   "execution_count": null,
   "metadata": {},
   "outputs": [],
   "source": [
    "import influxdb_client\n",
    "import os\n",
    "\n",
    "write_client = influxdb_client.InfluxDBClient(\n",
    "    url=\"http://influxdb:8086\",\n",
    "    token=os.environ[\"INFLUX_DB_TOKEN\"],\n",
    "    org=os.environ[\"INFLUX_DB_ORG\"],\n",
    ")\n",
    "\n",
    "query_api = write_client.query_api()\n",
    "\n",
    "query = \"\"\"from(bucket: \"tastytrade\")\n",
    " |> range(start: -10d)\n",
    " |> filter(fn: (r) => r._measurement == \"TradeEvent\")\"\"\"\n",
    "\n",
    "tables = query_api.query(query, org=os.environ[\"INFLUX_DB_ORG\"])\n",
    "\n",
    "for table in tables:\n",
    "    print(table)\n",
    "    for record in table.records:\n",
    "        print(record)"
   ]
  },
  {
   "cell_type": "code",
   "execution_count": null,
   "metadata": {},
   "outputs": [],
   "source": [
    "tables"
   ]
  },
  {
   "cell_type": "code",
   "execution_count": null,
   "metadata": {},
   "outputs": [],
   "source": [
    "symbol = \"SPX{=d}\"\n",
    "df.sort(\"time\", descending=False).filter(pl.col(\"eventSymbol\") == symbol).is_empty()\n",
    "\n",
    "df.sort(\"time\", descending=False).filter(pl.col(\"eventSymbol\") == symbol)"
   ]
  },
  {
   "cell_type": "code",
   "execution_count": null,
   "metadata": {},
   "outputs": [],
   "source": [
    "symbol = \"SPX{=1d}\"\n",
    "df.sort(\"time\", descending=False).filter(pl.col(\"eventSymbol\") == symbol).is_empty()"
   ]
  },
  {
   "cell_type": "code",
   "execution_count": null,
   "metadata": {},
   "outputs": [],
   "source": [
    "def get_last_candle(df: pl.DataFrame, symbol: str) -> pl.DataFrame:\n",
    "    candle = df.sort(\"time\", descending=False).filter(pl.col(\"eventSymbol\") == symbol).tail(1)\n",
    "    return None if candle.is_empty() else candle.to_dicts().pop()\n",
    "\n",
    "\n",
    "get_last_candle(df, \"SPX{=d}\")"
   ]
  },
  {
   "cell_type": "code",
   "execution_count": null,
   "metadata": {},
   "outputs": [],
   "source": [
    "from tastytrade.messaging.processors.default import CandleEventProcessor\n",
    "from tastytrade.messaging.models.events import BasicCandleEvent\n",
    "\n",
    "candle_processor = CandleEventProcessor()\n",
    "candle_processor.process_event(\n",
    "    BasicCandleEvent(\n",
    "        eventSymbol=\"SPX\", time=datetime(2025, 2, 14, 10, 0), open=100, high=100, low=100, close=100\n",
    "    )\n",
    ")\n",
    "candle_processor.df"
   ]
  },
  {
   "cell_type": "code",
   "execution_count": null,
   "metadata": {},
   "outputs": [],
   "source": []
  }
 ],
 "metadata": {
  "kernelspec": {
   "display_name": ".venv",
   "language": "python",
   "name": "python3"
  },
  "language_info": {
   "codemirror_mode": {
    "name": "ipython",
    "version": 3
   },
   "file_extension": ".py",
   "mimetype": "text/x-python",
   "name": "python",
   "nbconvert_exporter": "python",
   "pygments_lexer": "ipython3",
   "version": "3.11.11"
  }
 },
 "nbformat": 4,
 "nbformat_minor": 2
}
