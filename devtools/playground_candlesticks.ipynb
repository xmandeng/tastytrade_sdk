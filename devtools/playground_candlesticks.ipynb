{
 "cells": [
  {
   "cell_type": "code",
   "execution_count": null,
   "metadata": {},
   "outputs": [],
   "source": [
    "import logging\n",
    "import asyncio\n",
    "import pandas as pd\n",
    "import polars as pl\n",
    "\n",
    "from datetime import datetime, timedelta\n",
    "\n",
    "import influxdb_client\n",
    "\n",
    "from tastytrade.common.logging import setup_logging\n",
    "from tastytrade.config.enumerations import Channels\n",
    "from tastytrade.connections.sockets import DXLinkManager\n",
    "from tastytrade.connections import Credentials, InfluxCredentials\n",
    "\n",
    "from tastytrade.messaging.processors.influxdb import TelegrafHTTPEventProcessor\n",
    "\n",
    "from tastytrade.connections.subscription import RedisSubscriptionStore\n",
    "\n",
    "# Show all rows in pandas DataFrames\n",
    "pd.set_option(\"display.max_rows\", 100)\n",
    "pd.set_option(\"display.max_columns\", None)\n",
    "pd.set_option(\"display.width\", None)\n",
    "pd.set_option(\"display.max_colwidth\", None)\n",
    "\n",
    "logging.getLogger().handlers.clear()\n",
    "\n",
    "TEST = True\n",
    "ENV = \"Live\"\n",
    "DURATION = 15\n",
    "\n",
    "EDT = 5\n",
    "\n",
    "start_time = datetime(2025, 1, 1)\n",
    "\n",
    "setup_logging(\n",
    "    level=logging.INFO,\n",
    "    log_dir=\"../logs\",\n",
    "    filename_prefix=f\"{'dev' if TEST else 'prod'}_tastytrade\",\n",
    "    console=True,\n",
    "    file=True,\n",
    ")\n",
    "\n",
    "loop = asyncio.get_event_loop()\n",
    "loop.set_debug(True)\n",
    "logging.getLogger(\"asyncio\").setLevel(logging.DEBUG)"
   ]
  },
  {
   "cell_type": "code",
   "execution_count": null,
   "metadata": {},
   "outputs": [],
   "source": [
    "credentials = Credentials(env=\"Live\")\n",
    "dxlink = DXLinkManager(subscription_store=RedisSubscriptionStore())\n",
    "await dxlink.open(credentials=credentials)"
   ]
  },
  {
   "cell_type": "code",
   "execution_count": 3,
   "metadata": {},
   "outputs": [],
   "source": [
    "influx_user = InfluxCredentials()\n",
    "influxdb = influxdb_client.InfluxDBClient(**InfluxCredentials().__dict__)"
   ]
  },
  {
   "cell_type": "code",
   "execution_count": null,
   "metadata": {},
   "outputs": [],
   "source": [
    "for handler in dxlink.router.handler.values():\n",
    "    handler.add_processor(TelegrafHTTPEventProcessor())\n",
    "\n",
    "# checks\n",
    "dxlink.router.handler[Channels.Candle].processors"
   ]
  },
  {
   "cell_type": "markdown",
   "metadata": {},
   "source": [
    "# Candle Subscriptions"
   ]
  },
  {
   "cell_type": "code",
   "execution_count": null,
   "metadata": {},
   "outputs": [],
   "source": [
    "start_time = datetime(2025, 2, 28)\n",
    "\n",
    "# for symbol in [\"NVDA\"]:\n",
    "# for symbol in [\"BTC/USD:CXTALP\", \"NVDA\", \"QQQ\", \"SPY\", \"SPX\"]:\n",
    "\n",
    "for symbol in [\"BTC/USD:CXTALP\", \"NVDA\", \"QQQ\", \"SPY\", \"SPX\"]:\n",
    "    for interval in [\"1d\", \"1h\", \"30m\", \"15m\", \"5m\", \"m\"]:\n",
    "        coroutine = dxlink.subscribe_to_candles(\n",
    "            symbol=symbol,\n",
    "            interval=interval,\n",
    "            from_time=start_time,\n",
    "        )\n",
    "        await asyncio.wait_for(coroutine, timeout=10)"
   ]
  },
  {
   "cell_type": "markdown",
   "metadata": {},
   "source": [
    "# Market Data feeds"
   ]
  },
  {
   "cell_type": "code",
   "execution_count": null,
   "metadata": {},
   "outputs": [],
   "source": [
    "# symbols = [\"NVDA\"]\n",
    "# symbols = [\"SPX\"]\n",
    "# symbols = [\"SPX\", \"NVDA\", \"SPY\", \"QQQ\"]\n",
    "symbols = [\"BTC/USD:CXTALP\", \"SPX\", \"NVDA\", \"SPY\", \"QQQ\"]\n",
    "await dxlink.subscribe(symbols)"
   ]
  },
  {
   "cell_type": "markdown",
   "metadata": {},
   "source": [
    "# Forward fill overnight gap"
   ]
  },
  {
   "cell_type": "code",
   "execution_count": 7,
   "metadata": {},
   "outputs": [],
   "source": [
    "from tastytrade.utils.time_series import forward_fill\n",
    "\n",
    "for symbol in [\"BTC/USD:CXTALP\", \"NVDA\", \"QQQ\", \"SPY\", \"SPX\"]:\n",
    "    # for symbol in [\"SPX\"]:\n",
    "    for interval in [\"1d\", \"1h\", \"30m\", \"15m\", \"5m\", \"1m\"]:\n",
    "        event_symbol = f\"{symbol}{{={interval}}}\"\n",
    "        logging.debug(\"Forward-filling %s\", event_symbol)\n",
    "        forward_fill(symbol=event_symbol, lookback_days=5)"
   ]
  },
  {
   "cell_type": "code",
   "execution_count": null,
   "metadata": {},
   "outputs": [],
   "source": [
    "symbol = \"SPX{=m}\"\n",
    "symbol = \"BTC/USD:CXTALP{=5m}\"\n",
    "\n",
    "dxlink.router.handler[Channels.Candle].processors[\"feed\"].frames[f\"{symbol}\"].tail(5).sort(\n",
    "    by=\"time\", descending=True\n",
    ")"
   ]
  },
  {
   "cell_type": "code",
   "execution_count": null,
   "metadata": {},
   "outputs": [],
   "source": [
    "dxlink.router.handler[Channels.Candle].processors[\"feed\"].frames[f\"{symbol}\"].shape"
   ]
  },
  {
   "cell_type": "code",
   "execution_count": 10,
   "metadata": {},
   "outputs": [],
   "source": [
    "# TODOS\n",
    "\n",
    "# [x] Widen the plot\n",
    "# [x] Remove the scroller at the bottom\n",
    "# [x] move the legent and remove Price (that is obvious)\n",
    "# [x] Add MACD\n",
    "# [x] Fix HULL - Align w/ candlesticks\n",
    "# [x] ERROR if no study data found\n",
    "\n",
    "# [ ] Add RSI\n",
    "# [ ] Add Volume Profile (?? ... /ES, SPY, etc)\n",
    "# [ ] Add velocity metric"
   ]
  },
  {
   "cell_type": "code",
   "execution_count": 11,
   "metadata": {},
   "outputs": [],
   "source": [
    "from tastytrade.analytics.visualizations.plots import (\n",
    "    plot_macd_with_hull,\n",
    "    HorizontalLine,\n",
    "    VerticalLine,\n",
    ")\n",
    "from tastytrade.analytics.indicators.momentum import macd\n",
    "from tastytrade.messaging.models.events import CandleEvent\n",
    "import re\n",
    "\n",
    "from tastytrade.providers.market import MarketDataProvider\n",
    "from tastytrade.analytics.visualizations.utils import get_opening_range\n",
    "\n",
    "import pytz\n",
    "\n",
    "# Create timezone-aware datetime objects\n",
    "\n",
    "day = 28\n",
    "\n",
    "et_tz = pytz.timezone(\"America/New_York\")\n",
    "market_open = datetime(2025, 2, day, 9, 30, tzinfo=et_tz)\n",
    "morning_end = datetime(2025, 2, day, 11, 30, tzinfo=et_tz)\n",
    "lunch_end = datetime(2025, 2, day, 13, 30, tzinfo=et_tz)\n",
    "market_close = datetime(2025, 2, day, 16, 0, tzinfo=et_tz)\n",
    "\n",
    "streamer = MarketDataProvider(dxlink, influxdb)\n",
    "\n",
    "start = datetime(2025, 2, day, 9) + timedelta(hours=5)\n",
    "stop = datetime(2025, 2, day, 17) + timedelta(hours=5)"
   ]
  },
  {
   "cell_type": "code",
   "execution_count": 12,
   "metadata": {},
   "outputs": [],
   "source": [
    "# import importlib\n",
    "# import tastytrade.analytics.visualizations.plots\n",
    "# importlib.reload(tastytrade.analytics.visualizations.plots)\n",
    "# plot_macd_with_hull = tastytrade.analytics.visualizations.plots.plot_macd_with_hull"
   ]
  },
  {
   "cell_type": "code",
   "execution_count": 13,
   "metadata": {},
   "outputs": [],
   "source": [
    "candle_symbol = \"SPX{=m}\"\n",
    "\n",
    "prior_day: CandleEvent = CandleEvent(\n",
    "    **(\n",
    "        streamer.download(\n",
    "            symbol=re.sub(r\"\\{=.*?\\}\", \"{=d}\", candle_symbol),\n",
    "            start=start.date() + timedelta(days=-1),\n",
    "            stop=start.date(),\n",
    "            debug_mode=True,\n",
    "        )\n",
    "        .to_dicts()\n",
    "        .pop()\n",
    "    )\n",
    ")"
   ]
  },
  {
   "cell_type": "code",
   "execution_count": null,
   "metadata": {},
   "outputs": [],
   "source": [
    "or5 = await get_opening_range(\n",
    "    streamer,\n",
    "    \"SPX{=m}\",\n",
    "    5,\n",
    "    date=start.date(),\n",
    ")\n",
    "\n",
    "or15 = await get_opening_range(\n",
    "    streamer,\n",
    "    \"SPX{=m}\",\n",
    "    15,\n",
    "    date=start.date(),\n",
    ")\n",
    "\n",
    "or30 = await get_opening_range(\n",
    "    streamer,\n",
    "    \"SPX{=m}\",\n",
    "    30,\n",
    "    date=start.date(),\n",
    ")"
   ]
  },
  {
   "cell_type": "code",
   "execution_count": 15,
   "metadata": {},
   "outputs": [],
   "source": [
    "levels = [\n",
    "    HorizontalLine(\n",
    "        price=prior_day.close,\n",
    "        # label=\"Prior Close\",\n",
    "        label=int(prior_day.close),\n",
    "        color=\"#FF66FE\",  # Orange\n",
    "        line_dash=\"dot\",\n",
    "        label_font_size=10.5,\n",
    "        # extend_to_end=False,\n",
    "        # start_time=market_open,\n",
    "        # end_time=lunch_end - timedelta(minutes=15),\n",
    "        opacity=0.45,\n",
    "    ),\n",
    "    HorizontalLine(\n",
    "        price=prior_day.high,\n",
    "        # label=\"Prior High\",\n",
    "        label=int(prior_day.high),\n",
    "        color=\"#4CAF50\",  # Green\n",
    "        line_dash=\"dot\",\n",
    "        label_font_size=10.5,\n",
    "        opacity=0.45,\n",
    "    ),\n",
    "    HorizontalLine(\n",
    "        price=prior_day.low,\n",
    "        # label=\"Prior High\",\n",
    "        label=int(prior_day.low),\n",
    "        color=\"#F44336\",  # Red\n",
    "        line_dash=\"dot\",\n",
    "        label_font_size=10.5,\n",
    "        opacity=0.45,\n",
    "    ),\n",
    "    HorizontalLine(\n",
    "        price=or5.high,\n",
    "        start_time=market_open,\n",
    "        color=\"#4CAF50\",  # Green\n",
    "        line_dash=\"solid\",\n",
    "        opacity=0.75,\n",
    "    ),\n",
    "    HorizontalLine(\n",
    "        price=or5.low,\n",
    "        start_time=market_open,\n",
    "        color=\"#4CAF50\",  # Green\n",
    "        line_dash=\"solid\",\n",
    "        opacity=0.75,\n",
    "    ),\n",
    "    HorizontalLine(\n",
    "        price=or15.high,\n",
    "        start_time=market_open + timedelta(minutes=15),\n",
    "        color=\"#4CAF50\",  # Green\n",
    "        line_dash=\"solid\",\n",
    "        opacity=0.45 if or15.high != or5.high else 0.0,\n",
    "    ),\n",
    "    HorizontalLine(\n",
    "        price=or15.low,\n",
    "        start_time=market_open + timedelta(minutes=15),\n",
    "        color=\"#4CAF50\",  # Green\n",
    "        line_dash=\"solid\",\n",
    "        opacity=0.45 if or15.low != or5.low else 0.0,\n",
    "    ),\n",
    "    HorizontalLine(\n",
    "        price=or30.high,\n",
    "        start_time=market_open + timedelta(minutes=30),\n",
    "        color=\"#4CAF50\",  # Green\n",
    "        line_dash=\"dot\",\n",
    "        opacity=0.45 if or30.high != or15.high else 0.0,\n",
    "    ),\n",
    "    HorizontalLine(\n",
    "        price=or30.low,\n",
    "        start_time=market_open + timedelta(minutes=30),\n",
    "        color=\"#4CAF50\",  # Green\n",
    "        line_dash=\"dot\",\n",
    "        opacity=0.45 if or30.low != or15.low else 0.0,\n",
    "    ),\n",
    "]"
   ]
  },
  {
   "cell_type": "code",
   "execution_count": 16,
   "metadata": {},
   "outputs": [],
   "source": [
    "executions = [\n",
    "    VerticalLine(\n",
    "        time=datetime(2025, 2, 26, 14, 30) + timedelta(hours=1, minutes=50),\n",
    "        color=\"#555555\",\n",
    "        line_dash=\"dot\",\n",
    "        label=\"Open\",\n",
    "    ),\n",
    "    VerticalLine(\n",
    "        time=datetime(2025, 2, 26, 14, 30) + timedelta(hours=4, minutes=50),\n",
    "        color=\"#555555\",\n",
    "        line_dash=\"dot\",\n",
    "        label=\"Close\",\n",
    "    ),\n",
    "    VerticalLine(\n",
    "        time=datetime(2025, 2, 27, 14, 30) + timedelta(minutes=20),\n",
    "        color=\"#555555\",\n",
    "        line_dash=\"dot\",\n",
    "        label=\"Open\",\n",
    "    ),\n",
    "    VerticalLine(\n",
    "        time=datetime(2025, 2, 28, 14, 30) + timedelta(hours=1, minutes=40),\n",
    "        color=\"#555555\",\n",
    "        line_dash=\"dot\",\n",
    "        label=\"Open\\nBPS\",\n",
    "    ),\n",
    "]"
   ]
  },
  {
   "cell_type": "code",
   "execution_count": null,
   "metadata": {},
   "outputs": [],
   "source": [
    "candles: pl.DataFrame = streamer.download(\n",
    "    symbol=candle_symbol,\n",
    "    start=start,\n",
    "    stop=stop,\n",
    "    debug_mode=True,\n",
    ")\n",
    "\n",
    "df_macd = macd(candles, prior_close=prior_day.close, fast_length=12, slow_length=26, macd_length=9)\n",
    "\n",
    "plot_macd_with_hull(\n",
    "    df_macd,\n",
    "    pad_value=prior_day.close,\n",
    "    start_time=start,\n",
    "    end_time=stop,\n",
    "    horizontal_lines=levels,\n",
    "    vertical_lines=executions,\n",
    ")"
   ]
  },
  {
   "cell_type": "code",
   "execution_count": null,
   "metadata": {},
   "outputs": [],
   "source": [
    "candles_5m: pl.DataFrame = streamer.download(\n",
    "    symbol=candle_symbol.replace(\"m\", \"5m\"),\n",
    "    start=start,\n",
    "    stop=stop,\n",
    "    debug_mode=True,\n",
    ")\n",
    "\n",
    "df_macd_5m = macd(\n",
    "    candles_5m, prior_close=prior_day.close, fast_length=12, slow_length=26, macd_length=9\n",
    ")\n",
    "plot_macd_with_hull(\n",
    "    df_macd_5m,\n",
    "    pad_value=prior_day.close,\n",
    "    start_time=start,\n",
    "    end_time=stop,\n",
    "    horizontal_lines=levels,\n",
    "    vertical_lines=executions,\n",
    ")"
   ]
  },
  {
   "cell_type": "code",
   "execution_count": null,
   "metadata": {},
   "outputs": [],
   "source": [
    "await dxlink.close()"
   ]
  },
  {
   "cell_type": "code",
   "execution_count": null,
   "metadata": {},
   "outputs": [],
   "source": []
  }
 ],
 "metadata": {
  "kernelspec": {
   "display_name": ".venv",
   "language": "python",
   "name": "python3"
  },
  "language_info": {
   "codemirror_mode": {
    "name": "ipython",
    "version": 3
   },
   "file_extension": ".py",
   "mimetype": "text/x-python",
   "name": "python",
   "nbconvert_exporter": "python",
   "pygments_lexer": "ipython3",
   "version": "3.11.11"
  }
 },
 "nbformat": 4,
 "nbformat_minor": 2
}
