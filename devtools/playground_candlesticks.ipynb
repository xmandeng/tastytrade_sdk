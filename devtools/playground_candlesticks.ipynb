{
 "cells": [
  {
   "cell_type": "code",
   "execution_count": null,
   "metadata": {},
   "outputs": [],
   "source": [
    "import logging\n",
    "import asyncio\n",
    "import pandas as pd\n",
    "import polars as pl\n",
    "\n",
    "from datetime import datetime, timedelta\n",
    "\n",
    "import influxdb_client\n",
    "\n",
    "from tastytrade.common.logging import setup_logging\n",
    "from tastytrade.config.enumerations import Channels\n",
    "from tastytrade.connections.sockets import DXLinkManager\n",
    "from tastytrade.connections import Credentials, InfluxCredentials\n",
    "from tastytrade.analytics.visualizations.custom import plot_live_candlesticks\n",
    "from tastytrade.analytics.visualizations.charts import DynamicChart, Study\n",
    "\n",
    "\n",
    "from tastytrade.messaging.processors.influxdb import TelegrafHTTPEventProcessor\n",
    "\n",
    "from tastytrade.analytics.indicators.momentum import hull\n",
    "\n",
    "# Show all rows in pandas DataFrames\n",
    "pd.set_option(\"display.max_rows\", 100)\n",
    "pd.set_option(\"display.max_columns\", None)\n",
    "pd.set_option(\"display.width\", None)\n",
    "pd.set_option(\"display.max_colwidth\", None)\n",
    "\n",
    "logging.getLogger().handlers.clear()\n",
    "\n",
    "TEST = True\n",
    "ENV = \"Live\"\n",
    "DURATION = 15\n",
    "\n",
    "EDT = 5\n",
    "\n",
    "start_time = datetime(2025, 1, 1)\n",
    "\n",
    "setup_logging(\n",
    "    level=logging.INFO,\n",
    "    log_dir=\"../logs\",\n",
    "    filename_prefix=f\"{'dev' if TEST else 'prod'}_tastytrade\",\n",
    "    console=True,\n",
    "    file=True,\n",
    ")\n",
    "\n",
    "loop = asyncio.get_event_loop()\n",
    "loop.set_debug(True)\n",
    "logging.getLogger(\"asyncio\").setLevel(logging.DEBUG)"
   ]
  },
  {
   "cell_type": "markdown",
   "metadata": {},
   "source": [
    "## Test individual components"
   ]
  },
  {
   "cell_type": "code",
   "execution_count": null,
   "metadata": {},
   "outputs": [],
   "source": [
    "# Set API credentials\n",
    "credentials = Credentials(env=ENV)\n",
    "\n",
    "\n",
    "credentials = Credentials(env=\"Live\")\n",
    "dxlink = DXLinkManager()\n",
    "\n",
    "await dxlink.open(credentials=credentials)"
   ]
  },
  {
   "cell_type": "code",
   "execution_count": 3,
   "metadata": {},
   "outputs": [],
   "source": [
    "influx_user = InfluxCredentials()\n",
    "influxdb = influxdb_client.InfluxDBClient(\n",
    "    url=InfluxCredentials().url, token=influx_user.token, org=influx_user.org\n",
    ")\n",
    "query_api = influxdb.query_api()"
   ]
  },
  {
   "cell_type": "code",
   "execution_count": 4,
   "metadata": {},
   "outputs": [],
   "source": [
    "for handler in dxlink.router.handler.values():\n",
    "    handler.add_processor(TelegrafHTTPEventProcessor())"
   ]
  },
  {
   "cell_type": "code",
   "execution_count": null,
   "metadata": {},
   "outputs": [],
   "source": [
    "dxlink.router.handler[Channels.Candle].processors"
   ]
  },
  {
   "cell_type": "code",
   "execution_count": 14,
   "metadata": {},
   "outputs": [],
   "source": [
    "symbol = \"BTC/USD:CXTALP\"\n",
    "# symbol = \"NVDA\"\n",
    "# symbol = \"QQQ\"\n",
    "# symbol = \"SPY\"\n",
    "# symbol = \"SPX\""
   ]
  },
  {
   "cell_type": "code",
   "execution_count": null,
   "metadata": {},
   "outputs": [],
   "source": [
    "start_time = datetime(2025, 2, 20, 12, 00)\n",
    "\n",
    "for symbol in [\"BTC/USD:CXTALP\", \"NVDA\", \"QQQ\", \"SPY\", \"SPX\"]:\n",
    "\n",
    "    for interval in [\"1d\", \"1h\", \"30m\", \"15m\", \"5m\", \"1m\"]:\n",
    "        await dxlink.subscribe_to_candles(\n",
    "            symbol=symbol,\n",
    "            interval=interval,\n",
    "            from_time=start_time,\n",
    "        )"
   ]
  },
  {
   "cell_type": "code",
   "execution_count": null,
   "metadata": {},
   "outputs": [],
   "source": [
    "dxlink.router.handler[Channels.Candle].processors[\"feed\"].frames[f\"{symbol}{{=m}}\"].sort(\n",
    "    \"time\", descending=True\n",
    ").head(5)"
   ]
  },
  {
   "cell_type": "code",
   "execution_count": 22,
   "metadata": {},
   "outputs": [],
   "source": [
    "df = dxlink.router.handler[Channels.Candle].processors[\"feed\"].frames[\"NVDA{=m}\"].to_pandas()"
   ]
  },
  {
   "cell_type": "code",
   "execution_count": null,
   "metadata": {},
   "outputs": [],
   "source": [
    "df[df[\"count\"] == 0]"
   ]
  },
  {
   "cell_type": "code",
   "execution_count": null,
   "metadata": {},
   "outputs": [],
   "source": [
    "symbols = [\"NVDA\"]\n",
    "symbols = [\"SPX\"]\n",
    "symbols = [\"SPX\", \"NVDA\", \"SPY\", \"QQQ\"]\n",
    "symbols = [\"BTC/USD:CXTALP\"]\n",
    "symbols = [\"BTC/USD:CXTALP\", \"SPX\", \"NVDA\", \"SPY\", \"QQQ\"]\n",
    "await dxlink.subscribe(symbols)"
   ]
  },
  {
   "cell_type": "code",
   "execution_count": null,
   "metadata": {},
   "outputs": [],
   "source": [
    "await dxlink.unsubscribe([\"BTC/USD:CXTALP\"])"
   ]
  },
  {
   "cell_type": "code",
   "execution_count": null,
   "metadata": {},
   "outputs": [],
   "source": [
    "dxlink.router.handler[Channels.Trade].processors[\"feed\"].df.tail(10)"
   ]
  },
  {
   "cell_type": "code",
   "execution_count": null,
   "metadata": {},
   "outputs": [],
   "source": [
    "dxlink.router.handler[Channels.Quote].processors[\"feed\"].df.tail(10)"
   ]
  },
  {
   "cell_type": "code",
   "execution_count": null,
   "metadata": {},
   "outputs": [],
   "source": [
    "dxlink.router.handler[Channels.Greeks].processors[\"feed\"].df"
   ]
  },
  {
   "cell_type": "code",
   "execution_count": null,
   "metadata": {},
   "outputs": [],
   "source": [
    "dxlink.router.handler[Channels.Profile].processors[\"feed\"].df"
   ]
  },
  {
   "cell_type": "code",
   "execution_count": null,
   "metadata": {},
   "outputs": [],
   "source": [
    "dxlink.router.handler[Channels.Summary].processors[\"feed\"].df"
   ]
  },
  {
   "cell_type": "code",
   "execution_count": 22,
   "metadata": {},
   "outputs": [],
   "source": [
    "candle_symbol_1m = \"NVDA{=m}\"\n",
    "candle_symbol_5m = \"NVDA{=5m}\"\n",
    "candle_symbol_1m = \"BTC/USD:CXTALP{=m}\"\n",
    "candle_symbol_5m = \"BTC/USD:CXTALP{=5m}\"\n",
    "candle_symbol_1m = \"SPX{=m}\"\n",
    "candle_symbol_5m = \"SPX{=5m}\""
   ]
  },
  {
   "cell_type": "code",
   "execution_count": null,
   "metadata": {},
   "outputs": [],
   "source": [
    "# Example usage\n",
    "study_params = {\"hull\": {\"length\": 20, \"price_col\": \"close\"}}  # HMA period  # Price column to use\n",
    "\n",
    "# Create the live chart with HMA\n",
    "task = plot_live_candlesticks(\n",
    "    dxlink=dxlink, symbol=candle_symbol_1m, start_time=datetime(2025, 2, 18, 9, 25)\n",
    ")"
   ]
  },
  {
   "cell_type": "code",
   "execution_count": null,
   "metadata": {},
   "outputs": [],
   "source": [
    "# Later when you want to stop\n",
    "task.cancel()"
   ]
  },
  {
   "cell_type": "code",
   "execution_count": null,
   "metadata": {},
   "outputs": [],
   "source": [
    "task = plot_live_candlesticks(dxlink, candle_symbol_5m, start_time=datetime(2025, 2, 18, 9, 25))"
   ]
  },
  {
   "cell_type": "code",
   "execution_count": null,
   "metadata": {},
   "outputs": [],
   "source": [
    "task.cancel()"
   ]
  },
  {
   "cell_type": "code",
   "execution_count": null,
   "metadata": {},
   "outputs": [],
   "source": [
    "candle_symbol_1m"
   ]
  },
  {
   "cell_type": "code",
   "execution_count": null,
   "metadata": {},
   "outputs": [],
   "source": [
    "hull(dxlink, candle_symbol_1m).head(3)"
   ]
  },
  {
   "cell_type": "code",
   "execution_count": 23,
   "metadata": {},
   "outputs": [],
   "source": [
    "hma_study = Study(\n",
    "    name=\"HMA-20\",\n",
    "    compute_fn=hull,  # The hull function\n",
    "    params={\"length\": 20},  # Parameters for hull function\n",
    "    plot_params={\n",
    "        \"colors\": {\"Up\": \"#01FFFF\", \"Down\": \"#FF66FE\"},  # Green for uptrend  # Red for downtrend\n",
    "        \"width\": 2,\n",
    "    },\n",
    "    value_column=\"HMA\",\n",
    "    color_column=\"HMA_color\",\n",
    ")"
   ]
  },
  {
   "cell_type": "code",
   "execution_count": null,
   "metadata": {},
   "outputs": [],
   "source": [
    "chart1 = DynamicChart(\n",
    "    dxlink,\n",
    "    candle_symbol_1m,\n",
    "    start_time=pd.Timestamp(\"2025-02-18 09:00\", tz=\"America/New_York\")\n",
    "    .tz_convert(\"UTC\")\n",
    "    .to_datetime64(),\n",
    "    end_time=pd.Timestamp(\"2025-02-18 16:00\", tz=\"America/New_York\")\n",
    "    .tz_convert(\"UTC\")\n",
    "    .to_datetime64(),\n",
    ")\n",
    "chart1.add_study(hma_study)\n",
    "chart1.start()"
   ]
  },
  {
   "cell_type": "code",
   "execution_count": 27,
   "metadata": {},
   "outputs": [],
   "source": [
    "await chart1.stop()"
   ]
  },
  {
   "cell_type": "code",
   "execution_count": null,
   "metadata": {},
   "outputs": [],
   "source": [
    "chart2 = DynamicChart(\n",
    "    dxlink,\n",
    "    candle_symbol_5m,\n",
    "    start_time=pd.Timestamp(\"2025-02-19 09:00\", tz=\"America/New_York\")\n",
    "    .tz_convert(\"UTC\")\n",
    "    .to_datetime64(),\n",
    ")\n",
    "chart2.add_study(hma_study)\n",
    "chart2.start()"
   ]
  },
  {
   "cell_type": "code",
   "execution_count": null,
   "metadata": {},
   "outputs": [],
   "source": [
    "chart2.stop()"
   ]
  },
  {
   "cell_type": "code",
   "execution_count": null,
   "metadata": {},
   "outputs": [],
   "source": [
    "await dxlink.close()"
   ]
  },
  {
   "cell_type": "code",
   "execution_count": 24,
   "metadata": {},
   "outputs": [],
   "source": [
    "# TODOS\n",
    "\n",
    "# [x] Widen the plot\n",
    "# Remove the scroller at the bottom\n",
    "# move the legent and remove Price (that is obvious)\n",
    "\n",
    "# Add MACD\n",
    "# Add RSI\n",
    "# Add Volume Profile (?? ... /ES, SPY, etc)\n",
    "# Add velocity metric\n",
    "\n",
    "# Do not plot study data points passed available data\n",
    "\n",
    "# [x] HULL - Align the first tick against to the subsequent tick\n",
    "\n",
    "# ERROR if no study data found"
   ]
  },
  {
   "cell_type": "code",
   "execution_count": null,
   "metadata": {},
   "outputs": [],
   "source": [
    "from tastytrade.messaging.processors.default import CandleEventProcessor\n",
    "from tastytrade.messaging.models.events import BasicCandleEvent\n",
    "\n",
    "candle_processor = CandleEventProcessor()\n",
    "candle_processor.process_event(\n",
    "    BasicCandleEvent(\n",
    "        eventSymbol=\"SPX\", time=datetime(2025, 2, 14, 10, 0), open=100, high=100, low=100, close=100\n",
    "    )\n",
    ")\n",
    "candle_processor.df"
   ]
  },
  {
   "cell_type": "code",
   "execution_count": null,
   "metadata": {},
   "outputs": [],
   "source": [
    "tasks = asyncio.all_tasks()"
   ]
  },
  {
   "cell_type": "code",
   "execution_count": null,
   "metadata": {},
   "outputs": [],
   "source": [
    "import asyncio\n",
    "\n",
    "\n",
    "def list_all_coroutines():\n",
    "    \"\"\"List all currently running coroutines.\"\"\"\n",
    "    tasks = asyncio.all_tasks()\n",
    "    coroutines = [task.get_coro() for task in tasks]\n",
    "    return coroutines\n",
    "\n",
    "\n",
    "# Example usage\n",
    "coroutines = list_all_coroutines()\n",
    "for coro in coroutines:\n",
    "    print(coro)"
   ]
  },
  {
   "cell_type": "code",
   "execution_count": null,
   "metadata": {},
   "outputs": [],
   "source": [
    "import asyncio\n",
    "\n",
    "\n",
    "def cancel_coroutine(coroutine_name: str):\n",
    "    \"\"\"Cancel a coroutine by its name.\"\"\"\n",
    "    tasks = asyncio.all_tasks()\n",
    "    for task in tasks:\n",
    "        coro = task.get_coro()\n",
    "        if coroutine_name in str(coro):\n",
    "            task.cancel()\n",
    "            print(f\"Cancelled coroutine: {coroutine_name}\")\n",
    "            return True\n",
    "    print(f\"Coroutine not found: {coroutine_name}\")\n",
    "    return False\n",
    "\n",
    "\n",
    "# Example usage\n",
    "cancel_coroutine(\"DynamicChart.update_chart at 0x7d6d2058b940\")"
   ]
  },
  {
   "cell_type": "code",
   "execution_count": null,
   "metadata": {},
   "outputs": [],
   "source": [
    "await dxlink.close()"
   ]
  },
  {
   "cell_type": "code",
   "execution_count": null,
   "metadata": {},
   "outputs": [],
   "source": [
    "import os\n",
    "from typing import Optional\n",
    "\n",
    "\n",
    "def query_flux_measurement(\n",
    "    event_type: str = \"CandleEvent\",\n",
    "    symbol: str = \"SPX{=m}\",\n",
    "    start: datetime = datetime(2024, 2, 18, 9 + 5, 0),\n",
    "    stop: Optional[datetime] = None,\n",
    ") -> pd.DataFrame:\n",
    "    \"\"\"Convert FluxRecord to dict, dropping internal InfluxDB fields\"\"\"\n",
    "    if stop:\n",
    "        date_range = (\n",
    "            f\"{start.strftime('%Y-%m-%dT%H:%M:%SZ')}, stop: {stop.strftime('%Y-%m-%dT%H:%M:%SZ')})\"\n",
    "        )\n",
    "    else:\n",
    "        date_range = f\"{start.strftime('%Y-%m-%dT%H:%M:%SZ')})\"\n",
    "\n",
    "    pivot_query = f\"\"\"\n",
    "        from(bucket: \"{os.environ[\"INFLUX_DB_BUCKET\"]}\")\n",
    "        |> range(start: {date_range}\n",
    "        |> filter(fn: (r) => r[\"_measurement\"] == \"{event_type}\")\n",
    "        |> filter(fn: (r) => r[\"eventSymbol\"] == \"{symbol}\")\n",
    "        |> pivot(\n",
    "            rowKey: [\"_time\"],\n",
    "            columnKey: [\"_field\"],\n",
    "            valueColumn: \"_value\"\n",
    "            )\n",
    "        \"\"\"\n",
    "\n",
    "    print(pivot_query)\n",
    "\n",
    "    tables = query_api.query(pivot_query, org=os.environ[\"INFLUX_DB_ORG\"])\n",
    "\n",
    "    records = []\n",
    "    for table in tables:\n",
    "        for record in table.records:\n",
    "            record_dict = {k: v for k, v in record.values.items()}\n",
    "\n",
    "            record_dict[\"time\"] = record.get_time()\n",
    "            records.append(record_dict)\n",
    "\n",
    "    drop_columns = [\"result\", \"table\", \"_start\", \"_stop\", \"_time\", \"_measurement\"]\n",
    "\n",
    "    return pl.DataFrame(records).drop(drop_columns).sort(\"time\")\n",
    "\n",
    "\n",
    "df = query_flux_measurement()"
   ]
  },
  {
   "cell_type": "code",
   "execution_count": null,
   "metadata": {},
   "outputs": [],
   "source": [
    "df"
   ]
  },
  {
   "cell_type": "code",
   "execution_count": null,
   "metadata": {},
   "outputs": [],
   "source": [
    "set(\n",
    "    [\n",
    "        \"eventSymbol\",\n",
    "        \"time\",\n",
    "        \"eventFlags\",\n",
    "        \"index\",\n",
    "        \"sequence\",\n",
    "        \"count\",\n",
    "        \"open\",\n",
    "        \"high\",\n",
    "        \"low\",\n",
    "        \"close\",\n",
    "        \"volume\",\n",
    "        \"bidVolume\",\n",
    "        \"askVolume\",\n",
    "        \"openInterest\",\n",
    "        \"vwap\",\n",
    "        \"impVolatility\",\n",
    "        \"tradeDate\",\n",
    "        \"tradeDateUTC\",\n",
    "        \"tradeTime\",\n",
    "        \"tradeTimeUTC\",\n",
    "        \"prevOpen\",\n",
    "        \"prevHigh\",\n",
    "        \"prevLow\",\n",
    "        \"prevClose\",\n",
    "        \"prevDate\",\n",
    "        \"prevTime\",\n",
    "    ],\n",
    ") - set(df.columns)"
   ]
  },
  {
   "cell_type": "code",
   "execution_count": null,
   "metadata": {},
   "outputs": [],
   "source": [
    "df.columns"
   ]
  },
  {
   "cell_type": "code",
   "execution_count": null,
   "metadata": {},
   "outputs": [],
   "source": [
    "dxlink.router.handler[Channels.Candle].processors[\"feed\"].df.tail(10)"
   ]
  },
  {
   "cell_type": "code",
   "execution_count": 12,
   "metadata": {},
   "outputs": [],
   "source": [
    "candles = dxlink.router.handler[Channels.Candle].processors[\"feed\"].df"
   ]
  },
  {
   "cell_type": "code",
   "execution_count": null,
   "metadata": {},
   "outputs": [],
   "source": [
    "candles.groupby(\"eventSymbol\")[\"time\"].count().sort_values(ascending=False)"
   ]
  },
  {
   "cell_type": "code",
   "execution_count": null,
   "metadata": {},
   "outputs": [],
   "source": [
    "candles.shape"
   ]
  },
  {
   "cell_type": "code",
   "execution_count": null,
   "metadata": {},
   "outputs": [],
   "source": [
    "rows = candles.groupby(\"eventSymbol\")[\"time\"].count().sort_values(ascending=False)\n",
    "records = {}\n",
    "for row in rows.index:\n",
    "    symbol = row.partition(\"{\")[0]\n",
    "    if symbol in records:\n",
    "        records[symbol] += int(rows[row])\n",
    "    else:\n",
    "        records[symbol] = int(rows[row])\n",
    "\n",
    "records"
   ]
  },
  {
   "cell_type": "code",
   "execution_count": 65,
   "metadata": {},
   "outputs": [],
   "source": [
    "df = dxlink.router.handler[Channels.Candle].processors[\"feed\"].symbol[\"SPX{=5m}\"].to_pandas()"
   ]
  },
  {
   "cell_type": "code",
   "execution_count": null,
   "metadata": {},
   "outputs": [],
   "source": [
    "date_fltr = df[\"tradeDate\"] == \"2025-02-19\"\n",
    "time_fltr = df[\"tradeTime\"] == df.loc[date_fltr][\"tradeTime\"].max()\n",
    "df.loc[date_fltr & time_fltr][\n",
    "    [\"tradeDate\", \"tradeTime\", \"open\", \"high\", \"low\", \"close\", \"prevDate\", \"prevTime\"]\n",
    "]"
   ]
  },
  {
   "cell_type": "code",
   "execution_count": null,
   "metadata": {},
   "outputs": [],
   "source": [
    "df.loc[date_fltr][\"tradeTime\"].max()"
   ]
  },
  {
   "cell_type": "code",
   "execution_count": 17,
   "metadata": {},
   "outputs": [],
   "source": [
    "from tastytrade.providers.market import MarketDataProvider\n",
    "\n",
    "provider = MarketDataProvider(dxlink, influxdb)"
   ]
  },
  {
   "cell_type": "code",
   "execution_count": null,
   "metadata": {},
   "outputs": [],
   "source": [
    "provider.retrieve(\n",
    "    symbol=f\"{symbol}{{=5m}}\",\n",
    "    event_type=\"CandleEvent\",\n",
    "    start=datetime(2025, 2, 18),\n",
    ")\n",
    "\n",
    "await provider.subscribe(f\"{symbol}{{=5m}}\")"
   ]
  },
  {
   "cell_type": "code",
   "execution_count": null,
   "metadata": {},
   "outputs": [],
   "source": [
    "provider[f\"{symbol}{{=m}}\"].sort(\"time\", descending=True).head(2)"
   ]
  },
  {
   "cell_type": "code",
   "execution_count": null,
   "metadata": {},
   "outputs": [],
   "source": [
    "provider[f\"{symbol}{{=m}}\"].sort(\"time\", descending=True).tail(2)"
   ]
  },
  {
   "cell_type": "code",
   "execution_count": null,
   "metadata": {},
   "outputs": [],
   "source": [
    "await dxlink.close()"
   ]
  },
  {
   "cell_type": "code",
   "execution_count": null,
   "metadata": {},
   "outputs": [],
   "source": [
    "provider.frames.keys()"
   ]
  },
  {
   "cell_type": "code",
   "execution_count": null,
   "metadata": {},
   "outputs": [],
   "source": [
    "provider[\"SPX{=5m}\"]"
   ]
  },
  {
   "cell_type": "code",
   "execution_count": 27,
   "metadata": {},
   "outputs": [],
   "source": [
    "from collections import Counter"
   ]
  },
  {
   "cell_type": "code",
   "execution_count": null,
   "metadata": {},
   "outputs": [],
   "source": [
    "{key: val for key, val in Counter(provider[\"SPX{=m}\"].to_pandas()[\"time\"]).items() if val > 1}"
   ]
  },
  {
   "cell_type": "code",
   "execution_count": null,
   "metadata": {},
   "outputs": [],
   "source": [
    "df"
   ]
  },
  {
   "cell_type": "code",
   "execution_count": 9,
   "metadata": {},
   "outputs": [],
   "source": [
    "subs = await dxlink.get_active_subscriptions()"
   ]
  },
  {
   "cell_type": "code",
   "execution_count": null,
   "metadata": {},
   "outputs": [],
   "source": [
    "subs.keys()"
   ]
  }
 ],
 "metadata": {
  "kernelspec": {
   "display_name": ".venv",
   "language": "python",
   "name": "python3"
  },
  "language_info": {
   "codemirror_mode": {
    "name": "ipython",
    "version": 3
   },
   "file_extension": ".py",
   "mimetype": "text/x-python",
   "name": "python",
   "nbconvert_exporter": "python",
   "pygments_lexer": "ipython3",
   "version": "3.11.11"
  }
 },
 "nbformat": 4,
 "nbformat_minor": 2
}
