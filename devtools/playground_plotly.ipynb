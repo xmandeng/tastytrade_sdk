{
 "cells": [
  {
   "cell_type": "code",
   "execution_count": null,
   "metadata": {},
   "outputs": [],
   "source": [
    "import logging\n",
    "import asyncio\n",
    "import polars as pl\n",
    "import plotly.graph_objects as go\n",
    "\n",
    "from datetime import datetime, timedelta\n",
    "\n",
    "import influxdb_client\n",
    "\n",
    "from tastytrade.common.logging import setup_logging\n",
    "from tastytrade.connections.sockets import DXLinkManager\n",
    "from tastytrade.connections import Credentials, InfluxCredentials\n",
    "from tastytrade.analytics.visualizations.charts import Study\n",
    "\n",
    "from tastytrade.providers.market import MarketDataProvider\n",
    "\n",
    "from tastytrade.analytics.indicators.momentum import hull\n",
    "\n",
    "# Show all rows in pandas DataFrames\n",
    "pl.Config.set_fmt_str_lengths(100)\n",
    "pl.Config.set_tbl_rows(100)\n",
    "pl.Config.set_tbl_cols(-1)\n",
    "pl.Config.set_tbl_width_chars(None)\n",
    "\n",
    "logging.getLogger().handlers.clear()\n",
    "\n",
    "TEST = True\n",
    "\n",
    "setup_logging(\n",
    "    level=logging.INFO,\n",
    "    log_dir=\"../logs\",\n",
    "    filename_prefix=f\"{'dev' if TEST else 'prod'}_tastytrade\",\n",
    "    console=True,\n",
    "    file=True,\n",
    ")\n",
    "\n",
    "loop = asyncio.get_event_loop()\n",
    "loop.set_debug(True)\n",
    "logging.getLogger(\"asyncio\").setLevel(logging.DEBUG)"
   ]
  },
  {
   "cell_type": "markdown",
   "metadata": {},
   "source": [
    "## Test individual components"
   ]
  },
  {
   "cell_type": "code",
   "execution_count": null,
   "metadata": {},
   "outputs": [],
   "source": [
    "# Set API credentials\n",
    "credentials = Credentials(env=\"Live\")\n",
    "dxlink = DXLinkManager()\n",
    "\n",
    "await dxlink.open(credentials=credentials)"
   ]
  },
  {
   "cell_type": "code",
   "execution_count": 3,
   "metadata": {},
   "outputs": [],
   "source": [
    "influx_user = InfluxCredentials()\n",
    "influxdb = influxdb_client.InfluxDBClient(\n",
    "    url=InfluxCredentials().url, token=influx_user.token, org=influx_user.org\n",
    ")"
   ]
  },
  {
   "cell_type": "code",
   "execution_count": 4,
   "metadata": {},
   "outputs": [],
   "source": [
    "streamer = MarketDataProvider(dxlink, influxdb)\n",
    "\n",
    "candles: pl.DataFrame = streamer.download(\n",
    "    symbol=\"SPX{=5m}\",\n",
    "    event_type=\"CandleEvent\",\n",
    "    start=datetime(2025, 2, 21, 9) + timedelta(hours=5),\n",
    "    stop=datetime(2025, 2, 21, 16) + timedelta(hours=5),\n",
    "    debug_mode=True,\n",
    ")"
   ]
  },
  {
   "cell_type": "code",
   "execution_count": null,
   "metadata": {},
   "outputs": [],
   "source": [
    "chart_config = {\"height\": 800, \"xaxis_rangeslider_visible\": True}\n",
    "\n",
    "fig = go.Figure(\n",
    "    data=[\n",
    "        go.Candlestick(\n",
    "            x=candles[\"time\"].dt.replace_time_zone(\"UTC\").dt.convert_time_zone(\"America/New_York\"),\n",
    "            open=candles[\"open\"],\n",
    "            high=candles[\"high\"],\n",
    "            low=candles[\"low\"],\n",
    "            close=candles[\"close\"],\n",
    "        )\n",
    "    ]\n",
    ")\n",
    "fig.update_layout(**chart_config)\n",
    "fig.show()"
   ]
  },
  {
   "cell_type": "code",
   "execution_count": null,
   "metadata": {},
   "outputs": [],
   "source": [
    "hull(input_df=candles)"
   ]
  },
  {
   "cell_type": "code",
   "execution_count": 9,
   "metadata": {},
   "outputs": [],
   "source": [
    "hma_study = Study(\n",
    "    name=\"HMA-20\",\n",
    "    compute_fn=hull,  # The hull function\n",
    "    params={\"length\": 20},  # Parameters for hull function\n",
    "    plot_params={\n",
    "        \"colors\": {\"Up\": \"#01FFFF\", \"Down\": \"#FF66FE\"},  # Green for uptrend  # Red for downtrend\n",
    "        \"width\": 2,\n",
    "    },\n",
    "    value_column=\"HMA\",\n",
    "    color_column=\"HMA_color\",\n",
    ")"
   ]
  },
  {
   "cell_type": "code",
   "execution_count": null,
   "metadata": {},
   "outputs": [],
   "source": []
  }
 ],
 "metadata": {
  "kernelspec": {
   "display_name": ".venv",
   "language": "python",
   "name": "python3"
  },
  "language_info": {
   "codemirror_mode": {
    "name": "ipython",
    "version": 3
   },
   "file_extension": ".py",
   "mimetype": "text/x-python",
   "name": "python",
   "nbconvert_exporter": "python",
   "pygments_lexer": "ipython3",
   "version": "3.11.11"
  }
 },
 "nbformat": 4,
 "nbformat_minor": 2
}
