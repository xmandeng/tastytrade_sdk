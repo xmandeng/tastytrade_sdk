{
 "cells": [
  {
   "cell_type": "code",
   "execution_count": null,
   "metadata": {},
   "outputs": [],
   "source": [
    "from tastytrade.logging import setup_logging\n",
    "import logging\n",
    "import asyncio\n",
    "from tastytrade.sessions import Credentials\n",
    "\n",
    "from datetime import datetime, timedelta\n",
    "from tastytrade.sessions.enumerations import Channels\n",
    "from tastytrade.sessions.sockets import DXLinkManager\n",
    "\n",
    "import polars as pl\n",
    "import pandas as pd\n",
    "\n",
    "logging.getLogger().handlers.clear()\n",
    "\n",
    "TEST = True\n",
    "ENV = \"Live\"\n",
    "DURATION = 15\n",
    "\n",
    "setup_logging(\n",
    "    level=logging.DEBUG,\n",
    "    log_dir=\"../logs\",\n",
    "    filename_prefix=f\"{'dev' if TEST else 'prod'}_tastytrade\",\n",
    "    console=True,\n",
    "    file=True,\n",
    ")\n",
    "\n",
    "loop = asyncio.get_event_loop()\n",
    "loop.set_debug(True)\n",
    "logging.getLogger(\"asyncio\").setLevel(logging.DEBUG)"
   ]
  },
  {
   "cell_type": "code",
   "execution_count": 2,
   "metadata": {},
   "outputs": [],
   "source": [
    "def get_trade_day() -> str:\n",
    "    trade_day = datetime.now()\n",
    "    while trade_day.weekday() >= 5:\n",
    "        trade_day += timedelta(days=1)\n",
    "\n",
    "    return trade_day.strftime(\"%y%m%d\")"
   ]
  },
  {
   "cell_type": "code",
   "execution_count": 3,
   "metadata": {},
   "outputs": [],
   "source": [
    "yy_mm_dd = get_trade_day()\n",
    "\n",
    "symbols = [\n",
    "    \"SPX\",\n",
    "    \"NVDA\",\n",
    "    \"BTC/USD:CXTALP\",\n",
    "    \"BCH/USD:CXTALP\",\n",
    "    \"ETH/USD:CXTALP\",\n",
    "    # f\".SPXW{yy_mm_dd}C5915\",\n",
    "    # f\".SPXW{yy_mm_dd}C5910\",\n",
    "    # f\".SPXW{yy_mm_dd}P5910\",\n",
    "    # f\".SPXW{yy_mm_dd}P5905\",\n",
    "]"
   ]
  },
  {
   "cell_type": "markdown",
   "metadata": {},
   "source": [
    "## Test individual components"
   ]
  },
  {
   "cell_type": "code",
   "execution_count": null,
   "metadata": {},
   "outputs": [],
   "source": [
    "# Set API credentials\n",
    "credentials = Credentials(env=ENV)\n",
    "\n",
    "# Open WebSocket connection\n",
    "dxlink = DXLinkManager()\n",
    "await dxlink.open(credentials)\n",
    "await dxlink.subscribe(symbols)"
   ]
  },
  {
   "cell_type": "code",
   "execution_count": null,
   "metadata": {},
   "outputs": [],
   "source": [
    "for queue in sorted(dxlink.queues):\n",
    "    print(queue, dxlink.queues[queue].qsize())"
   ]
  },
  {
   "cell_type": "code",
   "execution_count": null,
   "metadata": {},
   "outputs": [],
   "source": [
    "for task in sorted(asyncio.all_tasks(), key=lambda x: x.get_name()):\n",
    "    # if task.get_name().startswith(\"Task\"):\n",
    "    print(f\"Task name: {task.get_name()}\")\n",
    "    print(f\"Task coro: {task.get_coro()}\")\n",
    "    print(f\"Task frame: {task.get_coro().cr_frame}\")\n",
    "    print(f\"Task frame locals: {task.get_coro().cr_frame.f_locals}\")\n",
    "    print(\"---\")"
   ]
  },
  {
   "cell_type": "code",
   "execution_count": null,
   "metadata": {},
   "outputs": [],
   "source": [
    "await dxlink.close()"
   ]
  },
  {
   "cell_type": "code",
   "execution_count": null,
   "metadata": {},
   "outputs": [],
   "source": [
    "trades_df = dxlink.router.handler[Channels.Trade].processors[\"feed\"].df\n",
    "trades_df"
   ]
  },
  {
   "cell_type": "code",
   "execution_count": null,
   "metadata": {},
   "outputs": [],
   "source": [
    "new_symbols = [\n",
    "    f\".SPXW{yy_mm_dd}C6110\",\n",
    "    f\".SPXW{yy_mm_dd}C6105\",\n",
    "    f\".SPXW{yy_mm_dd}P6105\",\n",
    "    f\".SPXW{yy_mm_dd}P6100\",\n",
    "]\n",
    "await dxlink.subscribe(new_symbols)"
   ]
  },
  {
   "cell_type": "code",
   "execution_count": null,
   "metadata": {},
   "outputs": [],
   "source": [
    "trades = dxlink.router.handler[Channels.Trade].processors[\"feed\"].df\n",
    "# trades.loc[trades[\"eventSymbol\"] == \"SPX\"]\n",
    "trades"
   ]
  },
  {
   "cell_type": "code",
   "execution_count": 11,
   "metadata": {},
   "outputs": [],
   "source": [
    "# df = dxlink.router.handler[Channels.Quote].processors[\"feed\"].df\n",
    "spx = (\n",
    "    dxlink.router.handler[Channels.Quote]\n",
    "    .processors[\"feed\"]\n",
    "    .pl.filter(pl.col(\"eventSymbol\") == \"SPX\")\n",
    "    .tail(1)\n",
    ")\n",
    "# (df[\"bidPrice\"] + df[\"askPrice\"]) / 2"
   ]
  },
  {
   "cell_type": "code",
   "execution_count": null,
   "metadata": {},
   "outputs": [],
   "source": [
    "dxlink.router.handler[Channels.Greeks].processors[\"feed\"].pl"
   ]
  },
  {
   "cell_type": "code",
   "execution_count": null,
   "metadata": {},
   "outputs": [],
   "source": [
    "dxlink.router.handler[Channels.Quote].processors[\"feed\"].df"
   ]
  },
  {
   "cell_type": "code",
   "execution_count": null,
   "metadata": {},
   "outputs": [],
   "source": [
    "dxlink.router.handler[Channels.Quote].processors[\"feed\"].df\n",
    "# quotes.loc[quotes[\"eventSymbol\"] == \"SPX\"][\"bid-price\"]"
   ]
  },
  {
   "cell_type": "code",
   "execution_count": null,
   "metadata": {},
   "outputs": [],
   "source": [
    "dxlink.router.handler[Channels.Profile].processors[\"feed\"].df"
   ]
  },
  {
   "cell_type": "code",
   "execution_count": null,
   "metadata": {},
   "outputs": [],
   "source": [
    "dxlink.router.handler[Channels.Summary].processors[\"feed\"].df"
   ]
  },
  {
   "cell_type": "code",
   "execution_count": 18,
   "metadata": {},
   "outputs": [],
   "source": [
    "# (\n",
    "#     df.with_columns(pl.col(\"strike-price\").cast(pl.Float32(), strict=False))\n",
    "#     .with_columns(\n",
    "#         pl.col(\"option-type\").map_elements(lambda x: OptionType(x).name, return_dtype=str)\n",
    "#     )\n",
    "#     .filter((pl.col(\"expiration-date\") == trade_date))\n",
    "#     .filter((pl.col(\"strike-price\") >= 5700))\n",
    "#     .select([\"strike-price\", \"option-type\", \"streamer-symbol\"])\n",
    "#     .sort(\"strike-price\")\n",
    "#     .head(10)\n",
    "# )"
   ]
  },
  {
   "cell_type": "code",
   "execution_count": null,
   "metadata": {},
   "outputs": [],
   "source": [
    "def round_to_nearest_5(value: float) -> float:\n",
    "    return round(value / 5) * 5\n",
    "\n",
    "\n",
    "round_to_nearest_5(1002.123)"
   ]
  },
  {
   "cell_type": "code",
   "execution_count": null,
   "metadata": {},
   "outputs": [],
   "source": []
  }
 ],
 "metadata": {
  "kernelspec": {
   "display_name": "tasty",
   "language": "python",
   "name": "python3"
  },
  "language_info": {
   "codemirror_mode": {
    "name": "ipython",
    "version": 3
   },
   "file_extension": ".py",
   "mimetype": "text/x-python",
   "name": "python",
   "nbconvert_exporter": "python",
   "pygments_lexer": "ipython3",
   "version": "3.11.4"
  }
 },
 "nbformat": 4,
 "nbformat_minor": 2
}
