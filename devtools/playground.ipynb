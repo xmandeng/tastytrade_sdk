{
 "cells": [
  {
   "cell_type": "code",
   "execution_count": null,
   "metadata": {},
   "outputs": [],
   "source": [
    "from tastytrade.logging import setup_logging\n",
    "import logging\n",
    "import asyncio\n",
    "from tastytrade.sessions import Credentials\n",
    "from tastytrade.sessions.requests import AsyncSessionHandler\n",
    "from tastytrade.sessions.sockets import WebSocketManager\n",
    "from decimal import Decimal\n",
    "from datetime import datetime, timedelta\n",
    "from tastytrade.markets.instruments import get_option_chains\n",
    "\n",
    "import polars as pl\n",
    "\n",
    "logging.getLogger().handlers.clear()\n",
    "\n",
    "TEST = True\n",
    "ENV = \"Live\"\n",
    "DURATION = 15\n",
    "\n",
    "\n",
    "shutdown = asyncio.Event()\n",
    "\n",
    "\n",
    "setup_logging(\n",
    "    level=logging.INFO,\n",
    "    log_dir=\"../logs\",\n",
    "    filename_prefix=f\"{'dev' if TEST else 'prod'}_tastytrade\",\n",
    "    console=True,\n",
    "    file=True,\n",
    ")\n",
    "\n",
    "\n",
    "def get_trade_day() -> str:\n",
    "    trade_day = datetime.now()\n",
    "    while trade_day.weekday() >= 5:\n",
    "        trade_day += timedelta(days=1)\n",
    "\n",
    "    return trade_day.strftime(\"%y%m%d\")\n",
    "\n",
    "\n",
    "def round_decimal(value, precision=5) -> float:\n",
    "    target = str(precision)\n",
    "\n",
    "    if not isinstance(value, Decimal):\n",
    "        value = Decimal(value)\n",
    "\n",
    "    if precision > 0:\n",
    "        result = (value / Decimal(target)).quantize(\n",
    "            Decimal(\"1\"), rounding=\"ROUND_HALF_UP\"\n",
    "        ) * Decimal(target)\n",
    "        return float(result)\n",
    "\n",
    "    else:\n",
    "        return float(round(value, abs(precision)))"
   ]
  },
  {
   "cell_type": "code",
   "execution_count": 2,
   "metadata": {},
   "outputs": [],
   "source": [
    "yy_mm_dd = get_trade_day()\n",
    "\n",
    "symbols = [\n",
    "    \"SPX\",\n",
    "    \"NVDA\",\n",
    "    \"BTC/USD:CXTALP\",\n",
    "    \"BCH/USD:CXTALP\",\n",
    "    \"ETH/USD:CXTALP\",\n",
    "    f\".SPXW{yy_mm_dd}C5915\",\n",
    "    f\".SPXW{yy_mm_dd}C5910\",\n",
    "    f\".SPXW{yy_mm_dd}P5910\",\n",
    "    f\".SPXW{yy_mm_dd}P5905\",\n",
    "]"
   ]
  },
  {
   "cell_type": "markdown",
   "metadata": {},
   "source": [
    "## Test individual components"
   ]
  },
  {
   "cell_type": "code",
   "execution_count": null,
   "metadata": {},
   "outputs": [],
   "source": [
    "# Start Rest API session\n",
    "session = await AsyncSessionHandler.create(Credentials(env=ENV))\n",
    "\n",
    "# Open WebSocket connection\n",
    "dxlink = WebSocketManager(session)\n",
    "await dxlink.open()\n",
    "await dxlink.subscribe_to_feeds(symbols)"
   ]
  },
  {
   "cell_type": "code",
   "execution_count": null,
   "metadata": {},
   "outputs": [],
   "source": [
    "dxlink.queue_manager.handlers[\"Trades\"].processors[\"feed\"].df"
   ]
  },
  {
   "cell_type": "code",
   "execution_count": null,
   "metadata": {},
   "outputs": [],
   "source": [
    "dxlink.queue_manager.handlers[\"Greeks\"].processors[\"feed\"].df"
   ]
  },
  {
   "cell_type": "code",
   "execution_count": null,
   "metadata": {},
   "outputs": [],
   "source": [
    "dxlink.queue_manager.handlers[\"Profile\"].processors[\"feed\"].df"
   ]
  },
  {
   "cell_type": "code",
   "execution_count": null,
   "metadata": {},
   "outputs": [],
   "source": [
    "dxlink.queue_manager.handlers[\"Summary\"].processors[\"feed\"].df"
   ]
  },
  {
   "cell_type": "code",
   "execution_count": null,
   "metadata": {},
   "outputs": [],
   "source": [
    "asyncio.all_tasks()"
   ]
  },
  {
   "cell_type": "code",
   "execution_count": null,
   "metadata": {},
   "outputs": [],
   "source": [
    "await asyncio.sleep(20)\n",
    "await dxlink.close()"
   ]
  },
  {
   "cell_type": "code",
   "execution_count": null,
   "metadata": {},
   "outputs": [],
   "source": [
    "dxlink.queue_manager.queues"
   ]
  },
  {
   "cell_type": "code",
   "execution_count": null,
   "metadata": {},
   "outputs": [],
   "source": [
    "import sys\n",
    "\n",
    "sys.exit()"
   ]
  },
  {
   "cell_type": "code",
   "execution_count": 11,
   "metadata": {},
   "outputs": [],
   "source": [
    "symbol = \"SPX\"\n",
    "\n",
    "response = session.session.get(session.base_url + \"/option-chains/\" + symbol)"
   ]
  },
  {
   "cell_type": "code",
   "execution_count": null,
   "metadata": {},
   "outputs": [],
   "source": [
    "# Using your existing session\n",
    "df = await get_option_chains(session, \"SPX\")\n",
    "print(df)"
   ]
  },
  {
   "cell_type": "code",
   "execution_count": 5,
   "metadata": {},
   "outputs": [],
   "source": [
    "from enum import Enum\n",
    "\n",
    "\n",
    "class OptionType(Enum):\n",
    "    CALL = \"C\"\n",
    "    PUT = \"P\"\n",
    "\n",
    "\n",
    "date = get_trade_day()\n",
    "trade_date = f\"20{date[:2]}-{date[2:4]}-{date[4:]}\""
   ]
  },
  {
   "cell_type": "code",
   "execution_count": null,
   "metadata": {},
   "outputs": [],
   "source": [
    "(\n",
    "    df.with_columns(pl.col(\"strike-price\").cast(pl.Float32(), strict=False))\n",
    "    .with_columns(\n",
    "        pl.col(\"option-type\").map_elements(lambda x: OptionType(x).name, return_dtype=str)\n",
    "    )\n",
    "    .filter((pl.col(\"expiration-date\") == trade_date))\n",
    "    .filter((pl.col(\"strike-price\") >= 5700))\n",
    "    .select([\"strike-price\", \"option-type\", \"streamer-symbol\"])\n",
    "    .sort(\"strike-price\")\n",
    "    .head(10)\n",
    ")"
   ]
  },
  {
   "cell_type": "code",
   "execution_count": null,
   "metadata": {},
   "outputs": [],
   "source": [
    "vars(dxlink.queue_manager)"
   ]
  },
  {
   "cell_type": "code",
   "execution_count": null,
   "metadata": {},
   "outputs": [],
   "source": []
  }
 ],
 "metadata": {
  "kernelspec": {
   "display_name": "tasty",
   "language": "python",
   "name": "python3"
  },
  "language_info": {
   "codemirror_mode": {
    "name": "ipython",
    "version": 3
   },
   "file_extension": ".py",
   "mimetype": "text/x-python",
   "name": "python",
   "nbconvert_exporter": "python",
   "pygments_lexer": "ipython3",
   "version": "3.11.4"
  }
 },
 "nbformat": 4,
 "nbformat_minor": 2
}
