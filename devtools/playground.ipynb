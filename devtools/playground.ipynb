{
 "cells": [
  {
   "cell_type": "markdown",
   "metadata": {},
   "source": [
    "# Market Data Integration Guide\n",
    "\n",
    "## Overview\n",
    "This guide covers integrating with TastyTrade's market data API using Python WebSocket implementation, with a focus on asyncio-based approach.\n",
    "\n",
    "## API Resources\n",
    "- [Developer Portal](https://developer.tastytrade.com/)\n",
    "- [Streaming Market Data Documentation](https://developer.tastytrade.com/streaming-market-data/)\n",
    "- [DXLink Protocol Reference](https://demo.dxfeed.com/dxlink-ws/debug/#/protocol)\n",
    "\n",
    "## References\n",
    "- dxFeed API [doc](https://dxfeed.readthedocs.io/en/stable/) | [github](https://github.com/dxFeed/dxfeed-python-api) | [pypi](https://pypi.org/project/dxfeed/)\n",
    "- Web Widget Demo [docs](https://tools.dxfeed.com/python-demo/?_ga=2.236532102.669062738.1733058631-563197392.1733058631) | [github](https://github.com/dxFeed/dxfeed-python-api-web-widget-example?tab=readme-ov-file)\n",
    "\n",
    "## WebSocket Implementation Details\n",
    "\n",
    "### Selected Library\n",
    "We'll be using the [websockets](https://websockets.readthedocs.io/en/stable/) library for Python, which provides high-level WebSocket implementation (not to be confused with the lower-level `websocket` library).\n",
    "\n",
    "### Key Resources\n",
    "- **Documentation**: Complete guides available on [readthedocs.io](https://websockets.readthedocs.io/en/stable/)\n",
    "- **Reference Implementation**: [Example using Threading](https://github.com/LordKaT/tastytrade_api_thing/blob/main/lib/TTWebsocket.py) by [LordKaT](https://github.com/LordKaT)\n",
    "\n",
    "### Technical Approach\n",
    "The implementation will use `asyncio` due to its comprehensive [feature support](https://websockets.readthedocs.io/en/stable/reference/features.html) in the websockets library.\n",
    "\n",
    "### AsyncIO Learning Resources\n",
    "For better understanding of the asyncio implementation:\n",
    "- [How does async/await work in Python 3.5](https://snarky.ca/how-the-heck-does-async-await-work-in-python-3-5/)\n",
    "- [Cooperative multitasking with Coroutines](https://pymotw.com/3/asyncio/coroutines.html)\n",
    "- [A Curious course on Coroutines and Concurrency](http://www.dabeaz.com/coroutines/)\n"
   ]
  },
  {
   "cell_type": "code",
   "execution_count": 1,
   "metadata": {},
   "outputs": [
    {
     "name": "stderr",
     "output_type": "stream",
     "text": [
      "2025-01-13 14:46:05 - INFO:root:62:Logging initialized - writing to ../logs/dev_tastytrade_20250113.log\n"
     ]
    }
   ],
   "source": [
    "from tastytrade.logging import setup_logging\n",
    "import logging\n",
    "import asyncio\n",
    "from tastytrade.sessions import Credentials\n",
    "from tastytrade.sessions.requests import AsyncSessionHandler\n",
    "from tastytrade.sessions.sockets import WebSocketManager\n",
    "from tastytrade.sessions.dxlink import DXLinkClient\n",
    "from decimal import Decimal\n",
    "from datetime import datetime, timedelta\n",
    "\n",
    "import polars as pl\n",
    "\n",
    "logging.getLogger().handlers.clear()\n",
    "\n",
    "TEST = True\n",
    "ENV = \"Live\"\n",
    "DURATION = 15\n",
    "\n",
    "shutdown = asyncio.Event()\n",
    "\n",
    "\n",
    "setup_logging(\n",
    "    level=logging.INFO,\n",
    "    # log_dir=\"/var/log/tastytrade\",\n",
    "    log_dir=\"../logs\",\n",
    "    filename_prefix=f\"{'dev' if TEST else 'prod'}_tastytrade\",\n",
    "    console=True,\n",
    "    file=True,\n",
    ")\n",
    "\n",
    "\n",
    "def get_trade_day() -> str:\n",
    "    trade_day = datetime.now()\n",
    "    while trade_day.weekday() >= 5:\n",
    "        trade_day += timedelta(days=1)\n",
    "\n",
    "    return trade_day.strftime(\"%y%m%d\")\n",
    "\n",
    "\n",
    "def round_decimal(value, precision=5) -> float:\n",
    "    target = str(precision)\n",
    "\n",
    "    if not isinstance(value, Decimal):\n",
    "        value = Decimal(value)\n",
    "\n",
    "    if precision > 0:\n",
    "        result = (value / Decimal(target)).quantize(\n",
    "            Decimal(\"1\"), rounding=\"ROUND_HALF_UP\"\n",
    "        ) * Decimal(target)\n",
    "        return float(result)\n",
    "\n",
    "    else:\n",
    "        return float(round(value, abs(precision)))"
   ]
  },
  {
   "cell_type": "markdown",
   "metadata": {},
   "source": [
    "## Test WebSocket context manager"
   ]
  },
  {
   "cell_type": "code",
   "execution_count": 2,
   "metadata": {},
   "outputs": [
    {
     "name": "stderr",
     "output_type": "stream",
     "text": [
      "2025-01-13 14:46:09 - INFO:tastytrade.sessions.requests:144:Session created successfully\n",
      "2025-01-13 14:46:09 - INFO:tastytrade.sessions.messaging:64:Started Channels.Control listener on channel 0\n",
      "2025-01-13 14:46:09 - INFO:tastytrade.sessions.messaging:64:Started Channels.Quotes listener on channel 3\n",
      "2025-01-13 14:46:09 - INFO:tastytrade.sessions.messaging:64:Started Channels.Trades listener on channel 1\n",
      "2025-01-13 14:46:09 - INFO:tastytrade.sessions.messaging:64:Started Channels.Greeks listener on channel 5\n",
      "2025-01-13 14:46:09 - INFO:tastytrade.sessions.messaging:64:Started Channels.Profile listener on channel 7\n",
      "2025-01-13 14:46:09 - INFO:tastytrade.sessions.messaging:64:Started Channels.Summary listener on channel 9\n",
      "2025-01-13 14:46:09 - INFO:tastytrade.sessions.messaging:190:SETUP\n",
      "2025-01-13 14:46:09 - INFO:tastytrade.sessions.messaging:193:AUTH_STATE:UNAUTHORIZED\n",
      "2025-01-13 14:46:09 - INFO:tastytrade.sessions.messaging:193:AUTH_STATE:AUTHORIZED\n",
      "2025-01-13 14:46:09 - INFO:tastytrade.sessions.messaging:196:CHANNEL_OPENED:1\n",
      "2025-01-13 14:46:09 - INFO:tastytrade.sessions.messaging:196:CHANNEL_OPENED:3\n",
      "2025-01-13 14:46:09 - INFO:tastytrade.sessions.messaging:196:CHANNEL_OPENED:5\n",
      "2025-01-13 14:46:09 - INFO:tastytrade.sessions.messaging:196:CHANNEL_OPENED:7\n",
      "2025-01-13 14:46:09 - INFO:tastytrade.sessions.messaging:196:CHANNEL_OPENED:9\n",
      "2025-01-13 14:46:09 - INFO:tastytrade.sessions.messaging:201:FEED_CONFIG:1:COMPACT\n",
      "2025-01-13 14:46:09 - INFO:tastytrade.sessions.messaging:201:FEED_CONFIG:3:COMPACT\n",
      "2025-01-13 14:46:09 - INFO:tastytrade.sessions.messaging:201:FEED_CONFIG:5:COMPACT\n",
      "2025-01-13 14:46:09 - INFO:tastytrade.sessions.messaging:201:FEED_CONFIG:7:COMPACT\n",
      "2025-01-13 14:46:09 - INFO:tastytrade.sessions.messaging:201:FEED_CONFIG:9:COMPACT\n",
      "2025-01-13 14:46:09 - INFO:tastytrade.sessions.messaging:201:FEED_CONFIG:1:COMPACT:SUBSCRIBED\n",
      "2025-01-13 14:46:09 - INFO:tastytrade.sessions.messaging:201:FEED_CONFIG:3:COMPACT:SUBSCRIBED\n",
      "2025-01-13 14:46:09 - INFO:tastytrade.sessions.messaging:201:FEED_CONFIG:5:COMPACT:SUBSCRIBED\n",
      "2025-01-13 14:46:09 - INFO:tastytrade.sessions.messaging:201:FEED_CONFIG:7:COMPACT:SUBSCRIBED\n",
      "2025-01-13 14:46:09 - INFO:tastytrade.sessions.messaging:201:FEED_CONFIG:9:COMPACT:SUBSCRIBED\n",
      "2025-01-13 14:46:24 - INFO:tastytrade.sessions.messaging:251:Initiating cleanup...\n",
      "2025-01-13 14:46:24 - INFO:tastytrade.sessions.messaging:87:Control listener stopped for channel 0\n",
      "2025-01-13 14:46:24 - INFO:tastytrade.sessions.messaging:87:Quotes listener stopped for channel 3\n",
      "2025-01-13 14:46:24 - INFO:tastytrade.sessions.messaging:87:Trades listener stopped for channel 1\n",
      "2025-01-13 14:46:24 - INFO:tastytrade.sessions.messaging:87:Greeks listener stopped for channel 5\n",
      "2025-01-13 14:46:24 - INFO:tastytrade.sessions.messaging:87:Profile listener stopped for channel 7\n",
      "2025-01-13 14:46:24 - INFO:tastytrade.sessions.messaging:87:Summary listener stopped for channel 9\n",
      "2025-01-13 14:46:24 - INFO:tastytrade.sessions.messaging:272:Cleanup completed\n",
      "2025-01-13 14:46:24 - INFO:tastytrade.sessions.sockets:137:Websocket listener stopped\n",
      "2025-01-13 14:46:24 - INFO:tastytrade.sessions.sockets:116:Keepalive stopped\n",
      "2025-01-13 14:46:24 - INFO:tastytrade.sessions.sockets:89:listener task cancelled\n",
      "2025-01-13 14:46:24 - INFO:tastytrade.sessions.sockets:89:keepalive task cancelled\n",
      "2025-01-13 14:46:24 - INFO:tastytrade.sessions.sockets:82:Websocket closed\n",
      "2025-01-13 14:46:24 - INFO:tastytrade.sessions.requests:165:Session closed\n"
     ]
    }
   ],
   "source": [
    "\"\"\"\n",
    "TODO \n",
    "\n",
    "  1. Find nearest ATM strike\n",
    "  2. list of symbols\n",
    "      +-10 pts from ATM strike\n",
    "      both Calls & Puts\n",
    "\"\"\"\n",
    "\n",
    "session = await AsyncSessionHandler.create(Credentials(env=ENV))\n",
    "\n",
    "yy_mm_dd = get_trade_day()\n",
    "\n",
    "symbols = [\n",
    "    \"SPX\",\n",
    "    \"NVDA\",\n",
    "    \"BTC/USD:CXTALP\",\n",
    "    \"BCH/USD:CXTALP\",\n",
    "    \"ETH/USD:CXTALP\",\n",
    "    f\".SPXW{yy_mm_dd}C5915\",\n",
    "    f\".SPXW{yy_mm_dd}C5910\",\n",
    "    f\".SPXW{yy_mm_dd}P5910\",\n",
    "    f\".SPXW{yy_mm_dd}P5905\",\n",
    "]\n",
    "\n",
    "async with WebSocketManager(session) as websocket:\n",
    "    dxlink_client = DXLinkClient(websocket)\n",
    "    await dxlink_client.setup_feeds()\n",
    "    await dxlink_client.subscribe_to_feeds(symbols)\n",
    "\n",
    "    if TEST:\n",
    "        await asyncio.sleep(DURATION)\n",
    "    else:\n",
    "        await websocket.send_keepalives()\n",
    "\n",
    "    await dxlink_client.queue_manager.cleanup()\n",
    "\n",
    "await session.close()"
   ]
  },
  {
   "cell_type": "code",
   "execution_count": 3,
   "metadata": {},
   "outputs": [],
   "source": [
    "trades  = dxlink_client.queue_manager.handlers[\"Trades\"].processors[\"feed\"].df\n",
    "\n",
    "spx_trades = trades.filter(pl.col(\"eventSymbol\") == \"SPX\")\n",
    "\n",
    "spx_price = spx_trades.sort(\"timestamp\")[-1].select(\"price\").item()"
   ]
  },
  {
   "cell_type": "code",
   "execution_count": 4,
   "metadata": {},
   "outputs": [
    {
     "data": {
      "text/html": [
       "<div><style>\n",
       ".dataframe > thead > tr,\n",
       ".dataframe > tbody > tr {\n",
       "  text-align: right;\n",
       "  white-space: pre-wrap;\n",
       "}\n",
       "</style>\n",
       "<small>shape: (138, 6)</small><table border=\"1\" class=\"dataframe\"><thead><tr><th>eventSymbol</th><th>timestamp</th><th>bidPrice</th><th>askPrice</th><th>bidSize</th><th>askSize</th></tr><tr><td>str</td><td>datetime[μs]</td><td>decimal[*,2]</td><td>decimal[*,2]</td><td>decimal[*,1]</td><td>decimal[*,1]</td></tr></thead><tbody><tr><td>&quot;NVDA&quot;</td><td>2025-01-13 19:46:09.978453</td><td>132.46</td><td>132.47</td><td>1010.0</td><td>112.0</td></tr><tr><td>&quot;BCH/USD:CXTALP&quot;</td><td>2025-01-13 19:46:09.978462</td><td>412.77</td><td>415.75</td><td>9.9</td><td>10.0</td></tr><tr><td>&quot;.SPXW250113C5915&quot;</td><td>2025-01-13 19:46:09.978467</td><td>0.00</td><td>0.05</td><td>null</td><td>2028.0</td></tr><tr><td>&quot;.SPXW250113C5910&quot;</td><td>2025-01-13 19:46:09.978471</td><td>0.00</td><td>0.05</td><td>null</td><td>1681.0</td></tr><tr><td>&quot;.SPXW250113P5910&quot;</td><td>2025-01-13 19:46:09.978476</td><td>81.80</td><td>82.40</td><td>1.0</td><td>3.0</td></tr><tr><td>&hellip;</td><td>&hellip;</td><td>&hellip;</td><td>&hellip;</td><td>&hellip;</td><td>&hellip;</td></tr><tr><td>&quot;ETH/USD:CXTALP&quot;</td><td>2025-01-13 19:46:24.163434</td><td>3024.58</td><td>3045.90</td><td>10.0</td><td>10.0</td></tr><tr><td>&quot;NVDA&quot;</td><td>2025-01-13 19:46:24.507365</td><td>132.46</td><td>132.47</td><td>543.0</td><td>474.0</td></tr><tr><td>&quot;BCH/USD:CXTALP&quot;</td><td>2025-01-13 19:46:24.633106</td><td>413.09</td><td>416.05</td><td>9.9</td><td>10.0</td></tr><tr><td>&quot;BTC/USD:CXTALP&quot;</td><td>2025-01-13 19:46:24.633126</td><td>92164.50</td><td>92812.20</td><td>1.2</td><td>1.5</td></tr><tr><td>&quot;ETH/USD:CXTALP&quot;</td><td>2025-01-13 19:46:24.633140</td><td>3024.79</td><td>3047.16</td><td>0.1</td><td>0.1</td></tr></tbody></table></div>"
      ],
      "text/plain": [
       "shape: (138, 6)\n",
       "┌──────────────────┬───────────────────┬──────────────┬──────────────┬──────────────┬──────────────┐\n",
       "│ eventSymbol      ┆ timestamp         ┆ bidPrice     ┆ askPrice     ┆ bidSize      ┆ askSize      │\n",
       "│ ---              ┆ ---               ┆ ---          ┆ ---          ┆ ---          ┆ ---          │\n",
       "│ str              ┆ datetime[μs]      ┆ decimal[*,2] ┆ decimal[*,2] ┆ decimal[*,1] ┆ decimal[*,1] │\n",
       "╞══════════════════╪═══════════════════╪══════════════╪══════════════╪══════════════╪══════════════╡\n",
       "│ NVDA             ┆ 2025-01-13        ┆ 132.46       ┆ 132.47       ┆ 1010.0       ┆ 112.0        │\n",
       "│                  ┆ 19:46:09.978453   ┆              ┆              ┆              ┆              │\n",
       "│ BCH/USD:CXTALP   ┆ 2025-01-13        ┆ 412.77       ┆ 415.75       ┆ 9.9          ┆ 10.0         │\n",
       "│                  ┆ 19:46:09.978462   ┆              ┆              ┆              ┆              │\n",
       "│ .SPXW250113C5915 ┆ 2025-01-13        ┆ 0.00         ┆ 0.05         ┆ null         ┆ 2028.0       │\n",
       "│                  ┆ 19:46:09.978467   ┆              ┆              ┆              ┆              │\n",
       "│ .SPXW250113C5910 ┆ 2025-01-13        ┆ 0.00         ┆ 0.05         ┆ null         ┆ 1681.0       │\n",
       "│                  ┆ 19:46:09.978471   ┆              ┆              ┆              ┆              │\n",
       "│ .SPXW250113P5910 ┆ 2025-01-13        ┆ 81.80        ┆ 82.40        ┆ 1.0          ┆ 3.0          │\n",
       "│                  ┆ 19:46:09.978476   ┆              ┆              ┆              ┆              │\n",
       "│ …                ┆ …                 ┆ …            ┆ …            ┆ …            ┆ …            │\n",
       "│ ETH/USD:CXTALP   ┆ 2025-01-13        ┆ 3024.58      ┆ 3045.90      ┆ 10.0         ┆ 10.0         │\n",
       "│                  ┆ 19:46:24.163434   ┆              ┆              ┆              ┆              │\n",
       "│ NVDA             ┆ 2025-01-13        ┆ 132.46       ┆ 132.47       ┆ 543.0        ┆ 474.0        │\n",
       "│                  ┆ 19:46:24.507365   ┆              ┆              ┆              ┆              │\n",
       "│ BCH/USD:CXTALP   ┆ 2025-01-13        ┆ 413.09       ┆ 416.05       ┆ 9.9          ┆ 10.0         │\n",
       "│                  ┆ 19:46:24.633106   ┆              ┆              ┆              ┆              │\n",
       "│ BTC/USD:CXTALP   ┆ 2025-01-13        ┆ 92164.50     ┆ 92812.20     ┆ 1.2          ┆ 1.5          │\n",
       "│                  ┆ 19:46:24.633126   ┆              ┆              ┆              ┆              │\n",
       "│ ETH/USD:CXTALP   ┆ 2025-01-13        ┆ 3024.79      ┆ 3047.16      ┆ 0.1          ┆ 0.1          │\n",
       "│                  ┆ 19:46:24.633140   ┆              ┆              ┆              ┆              │\n",
       "└──────────────────┴───────────────────┴──────────────┴──────────────┴──────────────┴──────────────┘"
      ]
     },
     "execution_count": 4,
     "metadata": {},
     "output_type": "execute_result"
    }
   ],
   "source": [
    "dxlink_client.queue_manager.handlers[\"Quotes\"].processors[\"feed\"].df"
   ]
  },
  {
   "cell_type": "code",
   "execution_count": 5,
   "metadata": {},
   "outputs": [
    {
     "data": {
      "text/html": [
       "<div><style>\n",
       ".dataframe > thead > tr,\n",
       ".dataframe > tbody > tr {\n",
       "  text-align: right;\n",
       "  white-space: pre-wrap;\n",
       "}\n",
       "</style>\n",
       "<small>shape: (8, 8)</small><table border=\"1\" class=\"dataframe\"><thead><tr><th>eventSymbol</th><th>timestamp</th><th>volatility</th><th>delta</th><th>gamma</th><th>theta</th><th>rho</th><th>vega</th></tr><tr><td>str</td><td>datetime[μs]</td><td>decimal[*,15]</td><td>decimal[*,19]</td><td>decimal[*,20]</td><td>decimal[*,16]</td><td>decimal[*,21]</td><td>decimal[*,18]</td></tr></thead><tbody><tr><td>&quot;.SPXW250113C5915&quot;</td><td>2025-01-13 19:46:09.979920</td><td>0.301642704957473</td><td>0.0001167923003537506</td><td>0.00001987068933944243</td><td>-0.0553451356099034</td><td>0.000001168353850718037</td><td>0.000349899868615896</td></tr><tr><td>&quot;.SPXW250113C5910&quot;</td><td>2025-01-13 19:46:09.979929</td><td>0.301642704957473</td><td>0.0002644276764468730</td><td>0.00004267021692204860</td><td>-0.0567149925730407</td><td>0.000002645128669533070</td><td>0.000751373192937026</td></tr><tr><td>&quot;.SPXW250113P5910&quot;</td><td>2025-01-13 19:46:09.979936</td><td>0.301757568692550</td><td>-0.9996314979593910000</td><td>0.00004284961808852840</td><td>-0.0569965692307761</td><td>-0.010147749411009510000</td><td>0.000754819561446821</td></tr><tr><td>&quot;.SPXW250113P5905&quot;</td><td>2025-01-13 19:46:09.979943</td><td>0.301757568692550</td><td>-0.9993209336879850000</td><td>0.00008790280318289280</td><td>-0.0583712098951850</td><td>-0.010136055579340550000</td><td>0.001548456166199078</td></tr><tr><td>&quot;.SPXW250113C5910&quot;</td><td>2025-01-13 19:46:11.960556</td><td>0.333528746039614</td><td>0.0006699250482527230</td><td>0.00009192523982548510</td><td>-0.0540799638441223</td><td>0.000006624356706008400</td><td>0.001769069535008773</td></tr><tr><td>&quot;.SPXW250113C5915&quot;</td><td>2025-01-13 19:46:12.060209</td><td>0.333528746039614</td><td>0.0003346538192917860</td><td>0.00004833122427858460</td><td>-0.0529322900190707</td><td>0.000003309298648460480</td><td>0.000930117741582615</td></tr><tr><td>&quot;.SPXW250113P5905&quot;</td><td>2025-01-13 19:46:12.060229</td><td>0.333520142912005</td><td>-0.9986268265368190000</td><td>0.00016839486444173550</td><td>-0.0552318620975996</td><td>-0.010016770566052490000</td><td>0.003240617494537260</td></tr><tr><td>&quot;.SPXW250113P5910&quot;</td><td>2025-01-13 19:46:12.060245</td><td>0.333520142912005</td><td>-0.9992518953279620000</td><td>0.00009190318849737910</td><td>-0.0540620005652528</td><td>-0.010031443088532840000</td><td>0.001768599543909540</td></tr></tbody></table></div>"
      ],
      "text/plain": [
       "shape: (8, 8)\n",
       "┌────────────┬────────────┬────────────┬───────────┬───────────┬───────────┬───────────┬───────────┐\n",
       "│ eventSymbo ┆ timestamp  ┆ volatility ┆ delta     ┆ gamma     ┆ theta     ┆ rho       ┆ vega      │\n",
       "│ l          ┆ ---        ┆ ---        ┆ ---       ┆ ---       ┆ ---       ┆ ---       ┆ ---       │\n",
       "│ ---        ┆ datetime[μ ┆ decimal[*, ┆ decimal[* ┆ decimal[* ┆ decimal[* ┆ decimal[* ┆ decimal[* │\n",
       "│ str        ┆ s]         ┆ 15]        ┆ ,19]      ┆ ,20]      ┆ ,16]      ┆ ,21]      ┆ ,18]      │\n",
       "╞════════════╪════════════╪════════════╪═══════════╪═══════════╪═══════════╪═══════════╪═══════════╡\n",
       "│ .SPXW25011 ┆ 2025-01-13 ┆ 0.30164270 ┆ 0.0001167 ┆ 0.0000198 ┆ -0.055345 ┆ 0.0000011 ┆ 0.0003498 │\n",
       "│ 3C5915     ┆ 19:46:09.9 ┆ 4957473    ┆ 923003537 ┆ 706893394 ┆ 135609903 ┆ 683538507 ┆ 998686158 │\n",
       "│            ┆ 79920      ┆            ┆ 506       ┆ 4243      ┆ 4         ┆ 18037     ┆ 96        │\n",
       "│ .SPXW25011 ┆ 2025-01-13 ┆ 0.30164270 ┆ 0.0002644 ┆ 0.0000426 ┆ -0.056714 ┆ 0.0000026 ┆ 0.0007513 │\n",
       "│ 3C5910     ┆ 19:46:09.9 ┆ 4957473    ┆ 276764468 ┆ 702169220 ┆ 992573040 ┆ 451286695 ┆ 731929370 │\n",
       "│            ┆ 79929      ┆            ┆ 730       ┆ 4860      ┆ 7         ┆ 33070     ┆ 26        │\n",
       "│ .SPXW25011 ┆ 2025-01-13 ┆ 0.30175756 ┆ -0.999631 ┆ 0.0000428 ┆ -0.056996 ┆ -0.010147 ┆ 0.0007548 │\n",
       "│ 3P5910     ┆ 19:46:09.9 ┆ 8692550    ┆ 497959391 ┆ 496180885 ┆ 569230776 ┆ 749411009 ┆ 195614468 │\n",
       "│            ┆ 79936      ┆            ┆ 0000      ┆ 2840      ┆ 1         ┆ 510000    ┆ 21        │\n",
       "│ .SPXW25011 ┆ 2025-01-13 ┆ 0.30175756 ┆ -0.999320 ┆ 0.0000879 ┆ -0.058371 ┆ -0.010136 ┆ 0.0015484 │\n",
       "│ 3P5905     ┆ 19:46:09.9 ┆ 8692550    ┆ 933687985 ┆ 028031828 ┆ 209895185 ┆ 055579340 ┆ 561661990 │\n",
       "│            ┆ 79943      ┆            ┆ 0000      ┆ 9280      ┆ 0         ┆ 550000    ┆ 78        │\n",
       "│ .SPXW25011 ┆ 2025-01-13 ┆ 0.33352874 ┆ 0.0006699 ┆ 0.0000919 ┆ -0.054079 ┆ 0.0000066 ┆ 0.0017690 │\n",
       "│ 3C5910     ┆ 19:46:11.9 ┆ 6039614    ┆ 250482527 ┆ 252398254 ┆ 963844122 ┆ 243567060 ┆ 695350087 │\n",
       "│            ┆ 60556      ┆            ┆ 230       ┆ 8510      ┆ 3         ┆ 08400     ┆ 73        │\n",
       "│ .SPXW25011 ┆ 2025-01-13 ┆ 0.33352874 ┆ 0.0003346 ┆ 0.0000483 ┆ -0.052932 ┆ 0.0000033 ┆ 0.0009301 │\n",
       "│ 3C5915     ┆ 19:46:12.0 ┆ 6039614    ┆ 538192917 ┆ 312242785 ┆ 290019070 ┆ 092986484 ┆ 177415826 │\n",
       "│            ┆ 60209      ┆            ┆ 860       ┆ 8460      ┆ 7         ┆ 60480     ┆ 15        │\n",
       "│ .SPXW25011 ┆ 2025-01-13 ┆ 0.33352014 ┆ -0.998626 ┆ 0.0001683 ┆ -0.055231 ┆ -0.010016 ┆ 0.0032406 │\n",
       "│ 3P5905     ┆ 19:46:12.0 ┆ 2912005    ┆ 826536819 ┆ 948644417 ┆ 862097599 ┆ 770566052 ┆ 174945372 │\n",
       "│            ┆ 60229      ┆            ┆ 0000      ┆ 3550      ┆ 6         ┆ 490000    ┆ 60        │\n",
       "│ .SPXW25011 ┆ 2025-01-13 ┆ 0.33352014 ┆ -0.999251 ┆ 0.0000919 ┆ -0.054062 ┆ -0.010031 ┆ 0.0017685 │\n",
       "│ 3P5910     ┆ 19:46:12.0 ┆ 2912005    ┆ 895327962 ┆ 031884973 ┆ 000565252 ┆ 443088532 ┆ 995439095 │\n",
       "│            ┆ 60245      ┆            ┆ 0000      ┆ 7910      ┆ 8         ┆ 840000    ┆ 40        │\n",
       "└────────────┴────────────┴────────────┴───────────┴───────────┴───────────┴───────────┴───────────┘"
      ]
     },
     "execution_count": 5,
     "metadata": {},
     "output_type": "execute_result"
    }
   ],
   "source": [
    "dxlink_client.queue_manager.handlers[\"Greeks\"].processors[\"feed\"].df"
   ]
  },
  {
   "cell_type": "code",
   "execution_count": 6,
   "metadata": {},
   "outputs": [
    {
     "data": {
      "text/html": [
       "<div><style>\n",
       ".dataframe > thead > tr,\n",
       ".dataframe > tbody > tr {\n",
       "  text-align: right;\n",
       "  white-space: pre-wrap;\n",
       "}\n",
       "</style>\n",
       "<small>shape: (9, 7)</small><table border=\"1\" class=\"dataframe\"><thead><tr><th>eventSymbol</th><th>timestamp</th><th>openInterest</th><th>dayOpenPrice</th><th>dayHighPrice</th><th>dayLowPrice</th><th>prevDayClosePrice</th></tr><tr><td>str</td><td>datetime[μs]</td><td>decimal[*,0]</td><td>decimal[*,2]</td><td>decimal[*,2]</td><td>decimal[*,2]</td><td>decimal[*,2]</td></tr></thead><tbody><tr><td>&quot;SPX&quot;</td><td>2025-01-13 19:46:09.981098</td><td>0</td><td>5782.02</td><td>5830.76</td><td>5773.31</td><td>5827.04</td></tr><tr><td>&quot;NVDA&quot;</td><td>2025-01-13 19:46:09.981109</td><td>0</td><td>129.99</td><td>133.11</td><td>129.51</td><td>135.91</td></tr><tr><td>&quot;.SPXW250113C5915&quot;</td><td>2025-01-13 19:46:09.981114</td><td>1661</td><td>0.12</td><td>0.15</td><td>0.05</td><td>0.80</td></tr><tr><td>&quot;.SPXW250113C5910&quot;</td><td>2025-01-13 19:46:09.981119</td><td>1236</td><td>0.15</td><td>0.20</td><td>0.05</td><td>1.15</td></tr><tr><td>&quot;.SPXW250113P5910&quot;</td><td>2025-01-13 19:46:09.981124</td><td>383</td><td>128.92</td><td>134.07</td><td>88.12</td><td>89.12</td></tr><tr><td>&quot;.SPXW250113P5905&quot;</td><td>2025-01-13 19:46:09.981129</td><td>649</td><td>125.04</td><td>128.51</td><td>84.93</td><td>83.62</td></tr><tr><td>&quot;BCH/USD:CXTALP&quot;</td><td>2025-01-13 19:46:09.987954</td><td>0</td><td>434.51</td><td>435.22</td><td>400.25</td><td>434.50</td></tr><tr><td>&quot;BTC/USD:CXTALP&quot;</td><td>2025-01-13 19:46:09.987962</td><td>0</td><td>94116.58</td><td>94292.23</td><td>89261.26</td><td>94116.52</td></tr><tr><td>&quot;ETH/USD:CXTALP&quot;</td><td>2025-01-13 19:46:09.987968</td><td>0</td><td>3223.68</td><td>3232.28</td><td>2879.90</td><td>3223.67</td></tr></tbody></table></div>"
      ],
      "text/plain": [
       "shape: (9, 7)\n",
       "┌──────────────┬─────────────┬─────────────┬─────────────┬─────────────┬─────────────┬─────────────┐\n",
       "│ eventSymbol  ┆ timestamp   ┆ openInteres ┆ dayOpenPric ┆ dayHighPric ┆ dayLowPrice ┆ prevDayClos │\n",
       "│ ---          ┆ ---         ┆ t           ┆ e           ┆ e           ┆ ---         ┆ ePrice      │\n",
       "│ str          ┆ datetime[μs ┆ ---         ┆ ---         ┆ ---         ┆ decimal[*,2 ┆ ---         │\n",
       "│              ┆ ]           ┆ decimal[*,0 ┆ decimal[*,2 ┆ decimal[*,2 ┆ ]           ┆ decimal[*,2 │\n",
       "│              ┆             ┆ ]           ┆ ]           ┆ ]           ┆             ┆ ]           │\n",
       "╞══════════════╪═════════════╪═════════════╪═════════════╪═════════════╪═════════════╪═════════════╡\n",
       "│ SPX          ┆ 2025-01-13  ┆ 0           ┆ 5782.02     ┆ 5830.76     ┆ 5773.31     ┆ 5827.04     │\n",
       "│              ┆ 19:46:09.98 ┆             ┆             ┆             ┆             ┆             │\n",
       "│              ┆ 1098        ┆             ┆             ┆             ┆             ┆             │\n",
       "│ NVDA         ┆ 2025-01-13  ┆ 0           ┆ 129.99      ┆ 133.11      ┆ 129.51      ┆ 135.91      │\n",
       "│              ┆ 19:46:09.98 ┆             ┆             ┆             ┆             ┆             │\n",
       "│              ┆ 1109        ┆             ┆             ┆             ┆             ┆             │\n",
       "│ .SPXW250113C ┆ 2025-01-13  ┆ 1661        ┆ 0.12        ┆ 0.15        ┆ 0.05        ┆ 0.80        │\n",
       "│ 5915         ┆ 19:46:09.98 ┆             ┆             ┆             ┆             ┆             │\n",
       "│              ┆ 1114        ┆             ┆             ┆             ┆             ┆             │\n",
       "│ .SPXW250113C ┆ 2025-01-13  ┆ 1236        ┆ 0.15        ┆ 0.20        ┆ 0.05        ┆ 1.15        │\n",
       "│ 5910         ┆ 19:46:09.98 ┆             ┆             ┆             ┆             ┆             │\n",
       "│              ┆ 1119        ┆             ┆             ┆             ┆             ┆             │\n",
       "│ .SPXW250113P ┆ 2025-01-13  ┆ 383         ┆ 128.92      ┆ 134.07      ┆ 88.12       ┆ 89.12       │\n",
       "│ 5910         ┆ 19:46:09.98 ┆             ┆             ┆             ┆             ┆             │\n",
       "│              ┆ 1124        ┆             ┆             ┆             ┆             ┆             │\n",
       "│ .SPXW250113P ┆ 2025-01-13  ┆ 649         ┆ 125.04      ┆ 128.51      ┆ 84.93       ┆ 83.62       │\n",
       "│ 5905         ┆ 19:46:09.98 ┆             ┆             ┆             ┆             ┆             │\n",
       "│              ┆ 1129        ┆             ┆             ┆             ┆             ┆             │\n",
       "│ BCH/USD:CXTA ┆ 2025-01-13  ┆ 0           ┆ 434.51      ┆ 435.22      ┆ 400.25      ┆ 434.50      │\n",
       "│ LP           ┆ 19:46:09.98 ┆             ┆             ┆             ┆             ┆             │\n",
       "│              ┆ 7954        ┆             ┆             ┆             ┆             ┆             │\n",
       "│ BTC/USD:CXTA ┆ 2025-01-13  ┆ 0           ┆ 94116.58    ┆ 94292.23    ┆ 89261.26    ┆ 94116.52    │\n",
       "│ LP           ┆ 19:46:09.98 ┆             ┆             ┆             ┆             ┆             │\n",
       "│              ┆ 7962        ┆             ┆             ┆             ┆             ┆             │\n",
       "│ ETH/USD:CXTA ┆ 2025-01-13  ┆ 0           ┆ 3223.68     ┆ 3232.28     ┆ 2879.90     ┆ 3223.67     │\n",
       "│ LP           ┆ 19:46:09.98 ┆             ┆             ┆             ┆             ┆             │\n",
       "│              ┆ 7968        ┆             ┆             ┆             ┆             ┆             │\n",
       "└──────────────┴─────────────┴─────────────┴─────────────┴─────────────┴─────────────┴─────────────┘"
      ]
     },
     "execution_count": 6,
     "metadata": {},
     "output_type": "execute_result"
    }
   ],
   "source": [
    "dxlink_client.queue_manager.handlers[\"Summary\"].processors[\"feed\"].df"
   ]
  },
  {
   "cell_type": "code",
   "execution_count": 7,
   "metadata": {},
   "outputs": [
    {
     "data": {
      "text/html": [
       "<div><style>\n",
       ".dataframe > thead > tr,\n",
       ".dataframe > tbody > tr {\n",
       "  text-align: right;\n",
       "  white-space: pre-wrap;\n",
       "}\n",
       "</style>\n",
       "<small>shape: (9, 12)</small><table border=\"1\" class=\"dataframe\"><thead><tr><th>eventSymbol</th><th>timestamp</th><th>description</th><th>shortSaleRestriction</th><th>tradingStatus</th><th>statusReason</th><th>haltStartTime</th><th>haltEndTime</th><th>highLimitPrice</th><th>lowLimitPrice</th><th>high52WeekPrice</th><th>low52WeekPrice</th></tr><tr><td>str</td><td>datetime[μs]</td><td>str</td><td>str</td><td>str</td><td>str</td><td>i64</td><td>i64</td><td>decimal[*,0]</td><td>decimal[*,0]</td><td>decimal[*,2]</td><td>decimal[*,2]</td></tr></thead><tbody><tr><td>&quot;SPX&quot;</td><td>2025-01-13 19:46:09.984560</td><td>&quot;S&amp;P 500 INDEX&quot;</td><td>&quot;UNDEFINED&quot;</td><td>&quot;UNDEFINED&quot;</td><td>null</td><td>0</td><td>0</td><td>null</td><td>null</td><td>6099.97</td><td>4714.82</td></tr><tr><td>&quot;BCH/USD:CXTALP&quot;</td><td>2025-01-13 19:46:09.984570</td><td>&quot;Bitcoin Cash&quot;</td><td>&quot;UNDEFINED&quot;</td><td>&quot;ACTIVE&quot;</td><td>null</td><td>0</td><td>0</td><td>null</td><td>null</td><td>718.86</td><td>218.44</td></tr><tr><td>&quot;.SPXW250113C5915&quot;</td><td>2025-01-13 19:46:09.986857</td><td>&quot;&quot;</td><td>&quot;UNDEFINED&quot;</td><td>&quot;UNDEFINED&quot;</td><td>null</td><td>0</td><td>0</td><td>null</td><td>null</td><td>null</td><td>null</td></tr><tr><td>&quot;.SPXW250113P5905&quot;</td><td>2025-01-13 19:46:09.986867</td><td>&quot;&quot;</td><td>&quot;UNDEFINED&quot;</td><td>&quot;UNDEFINED&quot;</td><td>null</td><td>0</td><td>0</td><td>null</td><td>null</td><td>null</td><td>null</td></tr><tr><td>&quot;BTC/USD:CXTALP&quot;</td><td>2025-01-13 19:46:09.986879</td><td>&quot;Bitcoin&quot;</td><td>&quot;UNDEFINED&quot;</td><td>&quot;ACTIVE&quot;</td><td>null</td><td>0</td><td>0</td><td>null</td><td>null</td><td>107999.36</td><td>39354.48</td></tr><tr><td>&quot;.SPXW250113P5910&quot;</td><td>2025-01-13 19:46:09.986884</td><td>&quot;&quot;</td><td>&quot;UNDEFINED&quot;</td><td>&quot;UNDEFINED&quot;</td><td>null</td><td>0</td><td>0</td><td>null</td><td>null</td><td>null</td><td>null</td></tr><tr><td>&quot;.SPXW250113C5910&quot;</td><td>2025-01-13 19:46:09.986888</td><td>&quot;&quot;</td><td>&quot;UNDEFINED&quot;</td><td>&quot;UNDEFINED&quot;</td><td>null</td><td>0</td><td>0</td><td>null</td><td>null</td><td>null</td><td>null</td></tr><tr><td>&quot;ETH/USD:CXTALP&quot;</td><td>2025-01-13 19:46:09.986893</td><td>&quot;Ethereum&quot;</td><td>&quot;UNDEFINED&quot;</td><td>&quot;ACTIVE&quot;</td><td>null</td><td>0</td><td>0</td><td>null</td><td>null</td><td>4109.98</td><td>2112.57</td></tr><tr><td>&quot;NVDA&quot;</td><td>2025-01-13 19:46:10.008551</td><td>&quot;NVIDIA Corp&quot;</td><td>&quot;UNDEFINED&quot;</td><td>&quot;ACTIVE&quot;</td><td>&quot;Trading on NASDAQ: Reason Not …</td><td>0</td><td>0</td><td>null</td><td>null</td><td>153.13</td><td>54.74</td></tr></tbody></table></div>"
      ],
      "text/plain": [
       "shape: (9, 12)\n",
       "┌───────────┬───────────┬───────────┬───────────┬───┬───────────┬───────────┬───────────┬──────────┐\n",
       "│ eventSymb ┆ timestamp ┆ descripti ┆ shortSale ┆ … ┆ highLimit ┆ lowLimitP ┆ high52Wee ┆ low52Wee │\n",
       "│ ol        ┆ ---       ┆ on        ┆ Restricti ┆   ┆ Price     ┆ rice      ┆ kPrice    ┆ kPrice   │\n",
       "│ ---       ┆ datetime[ ┆ ---       ┆ on        ┆   ┆ ---       ┆ ---       ┆ ---       ┆ ---      │\n",
       "│ str       ┆ μs]       ┆ str       ┆ ---       ┆   ┆ decimal[* ┆ decimal[* ┆ decimal[* ┆ decimal[ │\n",
       "│           ┆           ┆           ┆ str       ┆   ┆ ,0]       ┆ ,0]       ┆ ,2]       ┆ *,2]     │\n",
       "╞═══════════╪═══════════╪═══════════╪═══════════╪═══╪═══════════╪═══════════╪═══════════╪══════════╡\n",
       "│ SPX       ┆ 2025-01-1 ┆ S&P 500   ┆ UNDEFINED ┆ … ┆ null      ┆ null      ┆ 6099.97   ┆ 4714.82  │\n",
       "│           ┆ 3 19:46:0 ┆ INDEX     ┆           ┆   ┆           ┆           ┆           ┆          │\n",
       "│           ┆ 9.984560  ┆           ┆           ┆   ┆           ┆           ┆           ┆          │\n",
       "│ BCH/USD:C ┆ 2025-01-1 ┆ Bitcoin   ┆ UNDEFINED ┆ … ┆ null      ┆ null      ┆ 718.86    ┆ 218.44   │\n",
       "│ XTALP     ┆ 3 19:46:0 ┆ Cash      ┆           ┆   ┆           ┆           ┆           ┆          │\n",
       "│           ┆ 9.984570  ┆           ┆           ┆   ┆           ┆           ┆           ┆          │\n",
       "│ .SPXW2501 ┆ 2025-01-1 ┆           ┆ UNDEFINED ┆ … ┆ null      ┆ null      ┆ null      ┆ null     │\n",
       "│ 13C5915   ┆ 3 19:46:0 ┆           ┆           ┆   ┆           ┆           ┆           ┆          │\n",
       "│           ┆ 9.986857  ┆           ┆           ┆   ┆           ┆           ┆           ┆          │\n",
       "│ .SPXW2501 ┆ 2025-01-1 ┆           ┆ UNDEFINED ┆ … ┆ null      ┆ null      ┆ null      ┆ null     │\n",
       "│ 13P5905   ┆ 3 19:46:0 ┆           ┆           ┆   ┆           ┆           ┆           ┆          │\n",
       "│           ┆ 9.986867  ┆           ┆           ┆   ┆           ┆           ┆           ┆          │\n",
       "│ BTC/USD:C ┆ 2025-01-1 ┆ Bitcoin   ┆ UNDEFINED ┆ … ┆ null      ┆ null      ┆ 107999.36 ┆ 39354.48 │\n",
       "│ XTALP     ┆ 3 19:46:0 ┆           ┆           ┆   ┆           ┆           ┆           ┆          │\n",
       "│           ┆ 9.986879  ┆           ┆           ┆   ┆           ┆           ┆           ┆          │\n",
       "│ .SPXW2501 ┆ 2025-01-1 ┆           ┆ UNDEFINED ┆ … ┆ null      ┆ null      ┆ null      ┆ null     │\n",
       "│ 13P5910   ┆ 3 19:46:0 ┆           ┆           ┆   ┆           ┆           ┆           ┆          │\n",
       "│           ┆ 9.986884  ┆           ┆           ┆   ┆           ┆           ┆           ┆          │\n",
       "│ .SPXW2501 ┆ 2025-01-1 ┆           ┆ UNDEFINED ┆ … ┆ null      ┆ null      ┆ null      ┆ null     │\n",
       "│ 13C5910   ┆ 3 19:46:0 ┆           ┆           ┆   ┆           ┆           ┆           ┆          │\n",
       "│           ┆ 9.986888  ┆           ┆           ┆   ┆           ┆           ┆           ┆          │\n",
       "│ ETH/USD:C ┆ 2025-01-1 ┆ Ethereum  ┆ UNDEFINED ┆ … ┆ null      ┆ null      ┆ 4109.98   ┆ 2112.57  │\n",
       "│ XTALP     ┆ 3 19:46:0 ┆           ┆           ┆   ┆           ┆           ┆           ┆          │\n",
       "│           ┆ 9.986893  ┆           ┆           ┆   ┆           ┆           ┆           ┆          │\n",
       "│ NVDA      ┆ 2025-01-1 ┆ NVIDIA    ┆ UNDEFINED ┆ … ┆ null      ┆ null      ┆ 153.13    ┆ 54.74    │\n",
       "│           ┆ 3 19:46:1 ┆ Corp      ┆           ┆   ┆           ┆           ┆           ┆          │\n",
       "│           ┆ 0.008551  ┆           ┆           ┆   ┆           ┆           ┆           ┆          │\n",
       "└───────────┴───────────┴───────────┴───────────┴───┴───────────┴───────────┴───────────┴──────────┘"
      ]
     },
     "execution_count": 7,
     "metadata": {},
     "output_type": "execute_result"
    }
   ],
   "source": [
    "dxlink_client.queue_manager.handlers[\"Profile\"].processors[\"feed\"].df"
   ]
  },
  {
   "cell_type": "code",
   "execution_count": 8,
   "metadata": {},
   "outputs": [
    {
     "ename": "SystemExit",
     "evalue": "Done",
     "output_type": "error",
     "traceback": [
      "An exception has occurred, use %tb to see the full traceback.\n",
      "\u001b[0;31mSystemExit\u001b[0m\u001b[0;31m:\u001b[0m Done\n"
     ]
    },
    {
     "name": "stderr",
     "output_type": "stream",
     "text": [
      "/Users/xaviermandeng/.pyenv/versions/tasty/lib/python3.11/site-packages/IPython/core/interactiveshell.py:3585: UserWarning: To exit: use 'exit', 'quit', or Ctrl-D.\n",
      "  warn(\"To exit: use 'exit', 'quit', or Ctrl-D.\", stacklevel=1)\n"
     ]
    }
   ],
   "source": [
    "import sys\n",
    "\n",
    "sys.exit(\"Done\")"
   ]
  },
  {
   "cell_type": "markdown",
   "metadata": {},
   "source": [
    "## Test individual components"
   ]
  },
  {
   "cell_type": "code",
   "execution_count": null,
   "metadata": {},
   "outputs": [],
   "source": [
    "session = await AsyncSessionHandler.create(Credentials(env=ENV))\n",
    "\n",
    "exlink = WebSocketManager(session)\n",
    "await exlink.open()"
   ]
  },
  {
   "cell_type": "code",
   "execution_count": null,
   "metadata": {},
   "outputs": [],
   "source": [
    "dxlink_client = DXLinkClient(exlink)\n",
    "await dxlink_client.setup_feeds()\n",
    "await dxlink_client.subscribe_to_feeds([\"SPX\"])"
   ]
  },
  {
   "cell_type": "code",
   "execution_count": null,
   "metadata": {},
   "outputs": [],
   "source": [
    "asyncio.all_tasks()"
   ]
  },
  {
   "cell_type": "code",
   "execution_count": null,
   "metadata": {},
   "outputs": [],
   "source": [
    "await exlink.close()"
   ]
  },
  {
   "cell_type": "code",
   "execution_count": null,
   "metadata": {},
   "outputs": [],
   "source": [
    "dxlink_client.session.close()"
   ]
  },
  {
   "cell_type": "code",
   "execution_count": null,
   "metadata": {},
   "outputs": [],
   "source": [
    "dxlink_client"
   ]
  },
  {
   "cell_type": "code",
   "execution_count": 16,
   "metadata": {},
   "outputs": [],
   "source": [
    "symbol = \"SPX\"\n",
    "\n",
    "response = session.session.get(session.base_url + \"/option-chains/\" + symbol)"
   ]
  },
  {
   "cell_type": "code",
   "execution_count": null,
   "metadata": {},
   "outputs": [],
   "source": [
    "from tastytrade.markets.instruments import get_option_chains\n",
    "import polars as pl\n",
    "\n",
    "# Using your existing session\n",
    "df = await get_option_chains(session, \"SPX\")\n",
    "print(df)"
   ]
  },
  {
   "cell_type": "code",
   "execution_count": null,
   "metadata": {},
   "outputs": [],
   "source": [
    "\n",
    "df = pl.DataFrame(response[\"data\"][\"items\"])\n",
    "df.head()"
   ]
  },
  {
   "cell_type": "code",
   "execution_count": 5,
   "metadata": {},
   "outputs": [],
   "source": [
    "from enum import Enum\n",
    "\n",
    "\n",
    "class OptionType(Enum):\n",
    "    CALL = \"C\"\n",
    "    PUT = \"P\"\n",
    "\n",
    "\n",
    "date = get_trade_day()\n",
    "trade_date = f\"20{date[:2]}-{date[2:4]}-{date[4:]}\""
   ]
  },
  {
   "cell_type": "code",
   "execution_count": null,
   "metadata": {},
   "outputs": [],
   "source": [
    "(\n",
    "    df.with_columns(pl.col(\"strike-price\").cast(pl.Float32(), strict=False))\n",
    "    .with_columns(\n",
    "        pl.col(\"option-type\").map_elements(lambda x: OptionType(x).name, return_dtype=str)\n",
    "    )\n",
    "    .filter((pl.col(\"expiration-date\") == trade_date))\n",
    "    .filter((pl.col(\"strike-price\") >= 5700))\n",
    "    .select([\"strike-price\", \"option-type\", \"streamer-symbol\"])\n",
    "    .sort(\"strike-price\")\n",
    "    .head(10)\n",
    ")"
   ]
  },
  {
   "cell_type": "code",
   "execution_count": null,
   "metadata": {},
   "outputs": [],
   "source": []
  },
  {
   "cell_type": "code",
   "execution_count": null,
   "metadata": {},
   "outputs": [],
   "source": []
  }
 ],
 "metadata": {
  "kernelspec": {
   "display_name": "tasty",
   "language": "python",
   "name": "python3"
  },
  "language_info": {
   "codemirror_mode": {
    "name": "ipython",
    "version": 3
   },
   "file_extension": ".py",
   "mimetype": "text/x-python",
   "name": "python",
   "nbconvert_exporter": "python",
   "pygments_lexer": "ipython3",
   "version": "3.11.4"
  }
 },
 "nbformat": 4,
 "nbformat_minor": 2
}
