{
 "cells": [
  {
   "cell_type": "code",
   "execution_count": null,
   "metadata": {},
   "outputs": [],
   "source": [
    "import logging\n",
    "from tastytrade.common.logging import setup_logging\n",
    "\n",
    "from tastytrade.config import RedisConfigManager\n",
    "\n",
    "logging.getLogger().handlers.clear()\n",
    "\n",
    "setup_logging(\n",
    "    level=logging.DEBUG,\n",
    "    console=True,\n",
    ")\n",
    "\n",
    "logger = logging.getLogger(__name__)"
   ]
  },
  {
   "cell_type": "code",
   "execution_count": 2,
   "metadata": {},
   "outputs": [],
   "source": [
    "from tastytrade.providers.subscriptions import RedisSubscription"
   ]
  },
  {
   "cell_type": "code",
   "execution_count": null,
   "metadata": {},
   "outputs": [],
   "source": [
    "sub = RedisSubscription(config=RedisConfigManager())\n",
    "await sub.connect()"
   ]
  },
  {
   "cell_type": "code",
   "execution_count": null,
   "metadata": {},
   "outputs": [],
   "source": [
    "symbol = \"SPX*\"\n",
    "await sub.subscribe(channel_pattern=f\"market:CandleEvent:{symbol}\")"
   ]
  },
  {
   "cell_type": "code",
   "execution_count": null,
   "metadata": {},
   "outputs": [],
   "source": [
    "symbol = \"BTC/USD:CXTALP*\"\n",
    "await sub.subscribe(channel_pattern=f\"market:CandleEvent:{symbol}\")"
   ]
  },
  {
   "cell_type": "code",
   "execution_count": null,
   "metadata": {},
   "outputs": [],
   "source": [
    "symbol = \"BTC/USD:CXTALP*\"\n",
    "await sub.unsubscribe(channel_pattern=f\"market:CandleEvent:{symbol}\")"
   ]
  },
  {
   "cell_type": "code",
   "execution_count": null,
   "metadata": {},
   "outputs": [],
   "source": [
    "symbol = \"SPX*\"\n",
    "await sub.unsubscribe(channel_pattern=f\"market:CandleEvent:{symbol}\")"
   ]
  },
  {
   "cell_type": "code",
   "execution_count": null,
   "metadata": {},
   "outputs": [],
   "source": [
    "await sub.close()"
   ]
  },
  {
   "cell_type": "code",
   "execution_count": 8,
   "metadata": {},
   "outputs": [],
   "source": [
    "test_message = {\n",
    "    \"channel\": b\"market:CandleEvent:BTC/USD:CXTALP{=m}\",\n",
    "    \"data\": b'{\"eventSymbol\":\"BTC/USD:CXTALP{=m}\",\"time\":\"2025-03-06T04:31:00Z\",\"e'\n",
    "    b'ventFlags\":0,\"index\":7478549355335516160,\"sequence\":0,\"count\":29,\"op'\n",
    "    b'en\":91567.17,\"high\":91585.58,\"low\":91567.17,\"close\":91579.45,\"volume'\n",
    "    b'\":null,\"bidVolume\":null,\"askVolume\":null,\"openInterest\":0.0,\"vwap\":n'\n",
    "    b'ull,\"impVolatility\":null}',\n",
    "    \"pattern\": b\"market:CandleEvent:BTC*{=m}\",\n",
    "    \"type\": \"pmessage\",\n",
    "}"
   ]
  }
 ],
 "metadata": {
  "kernelspec": {
   "display_name": ".venv",
   "language": "python",
   "name": "python3"
  },
  "language_info": {
   "codemirror_mode": {
    "name": "ipython",
    "version": 3
   },
   "file_extension": ".py",
   "mimetype": "text/x-python",
   "name": "python",
   "nbconvert_exporter": "python",
   "pygments_lexer": "ipython3",
   "version": "3.11.11"
  }
 },
 "nbformat": 4,
 "nbformat_minor": 2
}
