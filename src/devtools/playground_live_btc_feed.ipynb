{
 "cells": [
  {
   "cell_type": "markdown",
   "id": "85796bc9",
   "metadata": {},
   "source": [
    "# Live Bitcoin Feed Playground (BTC/USD:CXTALP)\n",
    "Self-contained notebook to: (1) initialize config & connections, (2) subscribe to the live Bitcoin symbol (active on weekends), (3) stream quotes & recent candles, (4) explore frames, (5) cleanly shutdown.\n",
    "\n",
    "**Pipeline Touchpoints**: DXLink → Redis (pub/sub + cache) + Telegraf (HTTP) → (optionally) Influx. This notebook goes directly to DXLink (bypassing FastAPI edge) for lowest latency validation.\n",
    "\n",
    "**Stop / Rerun Guidance**: If a cell is interrupted mid-loop, re-run the subscription cell before restarting the watcher. Always run the shutdown cell before closing the notebook kernel."
   ]
  },
  {
   "cell_type": "code",
   "execution_count": 1,
   "id": "84472807",
   "metadata": {},
   "outputs": [
    {
     "name": "stderr",
     "output_type": "stream",
     "text": [
      "2025-08-09 17:44:53 - INFO:root:62:Logging initialized - writing to ../logs/dev_tastytrade_20250809.log\n",
      "2025-08-09 17:44:53 - INFO:root:32:Environment ready.\n",
      "2025-08-09 17:44:53 - INFO:root:32:Environment ready.\n"
     ]
    }
   ],
   "source": [
    "import asyncio, logging, os, math, time, textwrap\n",
    "from datetime import datetime\n",
    "import pandas as pd\n",
    "from IPython.display import display, clear_output, Markdown\n",
    "\n",
    "from tastytrade.common.logging import setup_logging\n",
    "from tastytrade.config import RedisConfigManager\n",
    "from tastytrade.connections import Credentials, InfluxCredentials\n",
    "from tastytrade.connections.subscription import RedisSubscriptionStore\n",
    "from tastytrade.connections.sockets import DXLinkManager\n",
    "from tastytrade.messaging.processors import (\n",
    "    TelegrafHTTPEventProcessor,\n",
    "    RedisEventProcessor,\n",
    ")\n",
    "from tastytrade.config.enumerations import Channels\n",
    "\n",
    "# Pandas display tuning for richer exploratory output\n",
    "pd.set_option(\"display.max_rows\", 100)\n",
    "pd.set_option(\"display.max_columns\", None)\n",
    "pd.set_option(\"display.width\", None)\n",
    "pd.set_option(\"display.max_colwidth\", None)\n",
    "\n",
    "logging.getLogger().handlers.clear()\n",
    "setup_logging(\n",
    "    level=logging.INFO,\n",
    "    log_dir=\"../logs\",\n",
    "    filename_prefix=\"dev_tastytrade\",\n",
    "    console=True,\n",
    "    file=True,\n",
    ")\n",
    "logging.getLogger(\"asyncio\").setLevel(logging.WARNING)\n",
    "logging.info(\"Environment ready.\")"
   ]
  },
  {
   "cell_type": "markdown",
   "id": "db749621",
   "metadata": {},
   "source": [
    "## Parameters"
   ]
  },
  {
   "cell_type": "code",
   "execution_count": 2,
   "id": "cd6789a8",
   "metadata": {},
   "outputs": [
    {
     "name": "stderr",
     "output_type": "stream",
     "text": [
      "2025-08-09 17:44:53 - INFO:root:15:Parameters set for BTC/USD:CXTALP\n"
     ]
    }
   ],
   "source": [
    "# Core symbol (weekend-active crypto)\n",
    "SYMBOL = \"BTC/USD:CXTALP\"\n",
    "# Candle intervals to watch (ordered smallest→largest)\n",
    "CANDLE_INTERVALS = [\"m\", \"5m\", \"15m\", \"1h\", \"4h\", \"1d\"]\n",
    "# Backfill start reference (adjust as desired)\n",
    "BACKFILL_START = datetime.utcnow().replace(hour=0, minute=0, second=0, microsecond=0)\n",
    "# Watch loop runtime (seconds); set None for indefinite (Ctrl+C to interrupt)\n",
    "WATCH_SECONDS = 90\n",
    "# Refresh period for live panel\n",
    "REFRESH_SECS = 5\n",
    "# Forward fill lookback days (for continuity)\n",
    "FORWARD_FILL_LOOKBACK_DAYS = 3\n",
    "\n",
    "SYMBOL_EVENT_PREFIX = SYMBOL  # raw symbol used by subscription helpers\n",
    "logging.info(\"Parameters set for %s\", SYMBOL)"
   ]
  },
  {
   "cell_type": "markdown",
   "id": "2643c94f",
   "metadata": {},
   "source": [
    "## Open Connections & Wire Processors"
   ]
  },
  {
   "cell_type": "code",
   "execution_count": null,
   "id": "86df85e3",
   "metadata": {},
   "outputs": [
    {
     "name": "stderr",
     "output_type": "stream",
     "text": [
      "2025-08-09 17:44:53 - INFO:tastytrade.config.manager:174:Initialized 19 variables from .env file in Redis\n",
      "2025-08-09 17:44:53 - INFO:tastytrade.connections.requests:148:Session created successfully\n",
      "2025-08-09 17:44:53 - INFO:tastytrade.connections.requests:148:Session created successfully\n",
      "2025-08-09 17:44:54 - INFO:tastytrade.connections.subscription:118:Redis ping response: True\n",
      "2025-08-09 17:44:54 - INFO:tastytrade.connections.subscription:122:Redis version: 7.4.3\n",
      "2025-08-09 17:44:54 - INFO:tastytrade.connections.subscription:123:Connected clients: 3\n",
      "2025-08-09 17:44:54 - INFO:tastytrade.connections.subscription:118:Redis ping response: True\n",
      "2025-08-09 17:44:54 - INFO:tastytrade.connections.subscription:122:Redis version: 7.4.3\n",
      "2025-08-09 17:44:54 - INFO:tastytrade.connections.subscription:123:Connected clients: 3\n",
      "2025-08-09 17:44:54 - INFO:root:14:DXLink open; processors attached. Channels: [<Channels.Control: 0>, <Channels.Quote: 7>, <Channels.Trade: 5>, <Channels.Greeks: 11>, <Channels.Profile: 1>, <Channels.Summary: 3>, <Channels.Candle: 9>]\n",
      "2025-08-09 17:44:54 - INFO:tastytrade.messaging.handlers:78:Started Channels.Control listener on channel 0\n",
      "2025-08-09 17:44:54 - INFO:tastytrade.messaging.handlers:78:Started Channels.Quote listener on channel 7\n",
      "2025-08-09 17:44:54 - INFO:tastytrade.messaging.handlers:78:Started Channels.Trade listener on channel 5\n",
      "2025-08-09 17:44:54 - INFO:tastytrade.messaging.handlers:78:Started Channels.Greeks listener on channel 11\n",
      "2025-08-09 17:44:54 - INFO:tastytrade.messaging.handlers:78:Started Channels.Profile listener on channel 1\n",
      "2025-08-09 17:44:54 - INFO:tastytrade.messaging.handlers:78:Started Channels.Summary listener on channel 3\n",
      "2025-08-09 17:44:54 - INFO:tastytrade.messaging.handlers:78:Started Channels.Candle listener on channel 9\n",
      "2025-08-09 17:44:54 - INFO:root:14:DXLink open; processors attached. Channels: [<Channels.Control: 0>, <Channels.Quote: 7>, <Channels.Trade: 5>, <Channels.Greeks: 11>, <Channels.Profile: 1>, <Channels.Summary: 3>, <Channels.Candle: 9>]\n",
      "2025-08-09 17:44:54 - INFO:tastytrade.messaging.handlers:78:Started Channels.Control listener on channel 0\n",
      "2025-08-09 17:44:54 - INFO:tastytrade.messaging.handlers:78:Started Channels.Quote listener on channel 7\n",
      "2025-08-09 17:44:54 - INFO:tastytrade.messaging.handlers:78:Started Channels.Trade listener on channel 5\n",
      "2025-08-09 17:44:54 - INFO:tastytrade.messaging.handlers:78:Started Channels.Greeks listener on channel 11\n",
      "2025-08-09 17:44:54 - INFO:tastytrade.messaging.handlers:78:Started Channels.Profile listener on channel 1\n",
      "2025-08-09 17:44:54 - INFO:tastytrade.messaging.handlers:78:Started Channels.Summary listener on channel 3\n",
      "2025-08-09 17:44:54 - INFO:tastytrade.messaging.handlers:78:Started Channels.Candle listener on channel 9\n"
     ]
    },
    {
     "name": "stderr",
     "output_type": "stream",
     "text": [
      "2025-08-09 17:44:54 - INFO:tastytrade.messaging.handlers:225:SETUP\n",
      "2025-08-09 17:44:54 - INFO:tastytrade.messaging.handlers:228:AUTH_STATE:UNAUTHORIZED\n",
      "2025-08-09 17:44:54 - INFO:tastytrade.messaging.handlers:228:AUTH_STATE:UNAUTHORIZED\n",
      "2025-08-09 17:44:54 - INFO:tastytrade.messaging.handlers:228:AUTH_STATE:AUTHORIZED\n",
      "2025-08-09 17:44:54 - INFO:tastytrade.messaging.handlers:228:AUTH_STATE:AUTHORIZED\n",
      "2025-08-09 17:44:54 - INFO:tastytrade.messaging.handlers:231:CHANNEL_OPENED:1\n",
      "2025-08-09 17:44:54 - INFO:tastytrade.messaging.handlers:231:CHANNEL_OPENED:1\n",
      "2025-08-09 17:44:54 - INFO:tastytrade.messaging.handlers:231:CHANNEL_OPENED:3\n",
      "2025-08-09 17:44:54 - INFO:tastytrade.messaging.handlers:231:CHANNEL_OPENED:3\n",
      "2025-08-09 17:44:54 - INFO:tastytrade.messaging.handlers:231:CHANNEL_OPENED:5\n",
      "2025-08-09 17:44:54 - INFO:tastytrade.messaging.handlers:231:CHANNEL_OPENED:5\n",
      "2025-08-09 17:44:54 - INFO:tastytrade.messaging.handlers:231:CHANNEL_OPENED:7\n",
      "2025-08-09 17:44:54 - INFO:tastytrade.messaging.handlers:231:CHANNEL_OPENED:7\n",
      "2025-08-09 17:44:54 - INFO:tastytrade.messaging.handlers:231:CHANNEL_OPENED:9\n",
      "2025-08-09 17:44:54 - INFO:tastytrade.messaging.handlers:231:CHANNEL_OPENED:9\n",
      "2025-08-09 17:44:54 - INFO:tastytrade.messaging.handlers:231:CHANNEL_OPENED:11\n",
      "2025-08-09 17:44:54 - INFO:tastytrade.messaging.handlers:231:CHANNEL_OPENED:11\n",
      "2025-08-09 17:44:54 - INFO:tastytrade.messaging.handlers:231:CHANNEL_OPENED:99\n",
      "2025-08-09 17:44:54 - INFO:tastytrade.messaging.handlers:231:CHANNEL_OPENED:99\n",
      "2025-08-09 17:44:54 - INFO:tastytrade.messaging.handlers:236:FEED_CONFIG:5:COMPACT\n",
      "2025-08-09 17:44:54 - INFO:tastytrade.messaging.handlers:236:FEED_CONFIG:5:COMPACT\n",
      "2025-08-09 17:44:54 - INFO:tastytrade.messaging.handlers:236:FEED_CONFIG:7:COMPACT\n",
      "2025-08-09 17:44:54 - INFO:tastytrade.messaging.handlers:236:FEED_CONFIG:7:COMPACT\n",
      "2025-08-09 17:44:54 - INFO:tastytrade.messaging.handlers:236:FEED_CONFIG:11:COMPACT\n",
      "2025-08-09 17:44:54 - INFO:tastytrade.messaging.handlers:236:FEED_CONFIG:11:COMPACT\n",
      "2025-08-09 17:44:54 - INFO:tastytrade.messaging.handlers:236:FEED_CONFIG:1:COMPACT\n",
      "2025-08-09 17:44:54 - INFO:tastytrade.messaging.handlers:236:FEED_CONFIG:1:COMPACT\n",
      "2025-08-09 17:44:54 - INFO:tastytrade.messaging.handlers:236:FEED_CONFIG:3:COMPACT\n",
      "2025-08-09 17:44:54 - INFO:tastytrade.messaging.handlers:236:FEED_CONFIG:3:COMPACT\n",
      "2025-08-09 17:44:54 - INFO:tastytrade.messaging.handlers:236:FEED_CONFIG:9:COMPACT\n",
      "2025-08-09 17:44:54 - INFO:tastytrade.messaging.handlers:236:FEED_CONFIG:9:COMPACT\n",
      "2025-08-09 17:44:54 - INFO:tastytrade.messaging.handlers:236:FEED_CONFIG:5:COMPACT:SUBSCRIBED\n",
      "2025-08-09 17:44:54 - INFO:tastytrade.messaging.handlers:236:FEED_CONFIG:5:COMPACT:SUBSCRIBED\n",
      "2025-08-09 17:44:54 - INFO:tastytrade.messaging.handlers:236:FEED_CONFIG:7:COMPACT:SUBSCRIBED\n",
      "2025-08-09 17:44:54 - INFO:tastytrade.messaging.handlers:236:FEED_CONFIG:7:COMPACT:SUBSCRIBED\n",
      "2025-08-09 17:44:54 - INFO:tastytrade.messaging.handlers:236:FEED_CONFIG:11:COMPACT:SUBSCRIBED\n",
      "2025-08-09 17:44:54 - INFO:tastytrade.messaging.handlers:236:FEED_CONFIG:11:COMPACT:SUBSCRIBED\n",
      "2025-08-09 17:44:54 - INFO:tastytrade.messaging.handlers:236:FEED_CONFIG:1:COMPACT:SUBSCRIBED\n",
      "2025-08-09 17:44:54 - INFO:tastytrade.messaging.handlers:236:FEED_CONFIG:1:COMPACT:SUBSCRIBED\n",
      "2025-08-09 17:44:54 - INFO:tastytrade.messaging.handlers:236:FEED_CONFIG:3:COMPACT:SUBSCRIBED\n",
      "2025-08-09 17:44:54 - INFO:tastytrade.messaging.handlers:236:FEED_CONFIG:3:COMPACT:SUBSCRIBED\n",
      "2025-08-09 17:44:54 - INFO:tastytrade.messaging.handlers:236:FEED_CONFIG:9:COMPACT:SUBSCRIBED\n",
      "2025-08-09 17:44:54 - INFO:tastytrade.messaging.handlers:236:FEED_CONFIG:9:COMPACT:SUBSCRIBED\n"
     ]
    }
   ],
   "source": [
    "config = RedisConfigManager(env_file=\"/workspace/.env\")\n",
    "config.initialize(force=True)\n",
    "credentials = Credentials(config=config, env=\"Live\")\n",
    "\n",
    "# DXLink with Redis-backed subscription store (for replay / state)\n",
    "dxlink = DXLinkManager(subscription_store=RedisSubscriptionStore())\n",
    "await dxlink.open(credentials=credentials)\n",
    "\n",
    "# Optional telemetry / distribution processors (Telegraf HTTP + Redis Pub/Sub)\n",
    "for handler in dxlink.router.handler.values():\n",
    "    handler.add_processor(TelegrafHTTPEventProcessor())\n",
    "    handler.add_processor(RedisEventProcessor())\n",
    "\n",
    "logging.info(\n",
    "    \"DXLink open; processors attached. Channels: %s\", list(dxlink.router.handler.keys())\n",
    ")"
   ]
  },
  {
   "cell_type": "markdown",
   "id": "4c8cc330",
   "metadata": {},
   "source": [
    "## Subscribe (Ticker + Candles)"
   ]
  },
  {
   "cell_type": "code",
   "execution_count": 4,
   "id": "25e0668a",
   "metadata": {},
   "outputs": [
    {
     "name": "stderr",
     "output_type": "stream",
     "text": [
      "2025-08-09 17:44:54 - INFO:tastytrade.connections.sockets:236:Added subscription: BTC/USD:CXTALP\n",
      "2025-08-09 17:44:54 - INFO:tastytrade.connections.sockets:236:Added subscription: BTC/USD:CXTALP{=m}\n",
      "2025-08-09 17:44:54 - INFO:tastytrade.connections.sockets:236:Added subscription: BTC/USD:CXTALP{=5m}\n",
      "2025-08-09 17:44:54 - INFO:tastytrade.connections.sockets:236:Added subscription: BTC/USD:CXTALP{=15m}\n",
      "2025-08-09 17:44:54 - INFO:tastytrade.connections.sockets:236:Added subscription: BTC/USD:CXTALP{=h}\n",
      "2025-08-09 17:44:54 - INFO:tastytrade.connections.sockets:236:Added subscription: BTC/USD:CXTALP{=4h}\n",
      "2025-08-09 17:44:54 - INFO:tastytrade.connections.sockets:236:Added subscription: BTC/USD:CXTALP{=d}\n",
      "2025-08-09 17:44:54 - INFO:root:11:Subscribed to BTC/USD:CXTALP (ticker + 6 candle intervals).\n",
      "2025-08-09 17:44:54 - INFO:tastytrade.connections.sockets:236:Added subscription: BTC/USD:CXTALP{=m}\n",
      "2025-08-09 17:44:54 - INFO:tastytrade.connections.sockets:236:Added subscription: BTC/USD:CXTALP{=5m}\n",
      "2025-08-09 17:44:54 - INFO:tastytrade.connections.sockets:236:Added subscription: BTC/USD:CXTALP{=15m}\n",
      "2025-08-09 17:44:54 - INFO:tastytrade.connections.sockets:236:Added subscription: BTC/USD:CXTALP{=h}\n",
      "2025-08-09 17:44:54 - INFO:tastytrade.connections.sockets:236:Added subscription: BTC/USD:CXTALP{=4h}\n",
      "2025-08-09 17:44:54 - INFO:tastytrade.connections.sockets:236:Added subscription: BTC/USD:CXTALP{=d}\n",
      "2025-08-09 17:44:54 - INFO:root:11:Subscribed to BTC/USD:CXTALP (ticker + 6 candle intervals).\n"
     ]
    }
   ],
   "source": [
    "# Ticker subscription\n",
    "await dxlink.subscribe([SYMBOL])\n",
    "\n",
    "# Candle subscriptions with bounded wait timeout\n",
    "for iv in CANDLE_INTERVALS:\n",
    "    coro = dxlink.subscribe_to_candles(\n",
    "        symbol=SYMBOL, interval=iv, from_time=BACKFILL_START\n",
    "    )\n",
    "    await asyncio.wait_for(coro, timeout=15)\n",
    "\n",
    "logging.info(\n",
    "    \"Subscribed to %s (ticker + %d candle intervals).\", SYMBOL, len(CANDLE_INTERVALS)\n",
    ")"
   ]
  },
  {
   "cell_type": "markdown",
   "id": "17c49296",
   "metadata": {},
   "source": [
    "## Forward Fill Recent History (Continuity)"
   ]
  },
  {
   "cell_type": "code",
   "execution_count": 5,
   "id": "fcd6d481",
   "metadata": {},
   "outputs": [
    {
     "name": "stderr",
     "output_type": "stream",
     "text": [
      "2025-08-09 17:44:54 - INFO:root:7:Forward fill completed.\n"
     ]
    }
   ],
   "source": [
    "from tastytrade.utils.time_series import forward_fill\n",
    "\n",
    "for iv in CANDLE_INTERVALS:\n",
    "    event_symbol = f\"{SYMBOL}{{={iv}}}\"\n",
    "    logging.debug(\"Forward-filling %s\", event_symbol)\n",
    "    forward_fill(symbol=event_symbol, lookback_days=FORWARD_FILL_LOOKBACK_DAYS)\n",
    "logging.info(\"Forward fill completed.\")"
   ]
  },
  {
   "cell_type": "markdown",
   "id": "6e9eb63e",
   "metadata": {},
   "source": [
    "## Plot: Recent Candles\n",
    "Interactive candlestick plot utilities. Run the setup cell, then either a one-shot render or a short live updating loop. Adjust interval or lookback as needed."
   ]
  },
  {
   "cell_type": "code",
   "execution_count": null,
   "id": "7802086a",
   "metadata": {},
   "outputs": [
    {
     "data": {
      "application/vnd.plotly.v1+json": {
       "config": {
        "plotlyServerURL": "https://plot.ly"
       },
       "data": [
        {
         "close": {
          "bdata": "MzMzM5+D/EA9CtejLIP8QNejcD0ag/xAKVyPwlmD/EBmZmZmIob8QNejcD0uhPxAUrgehUeG/ED2KFyPnob8QGZmZmZ+ivxA4XoUru+H/ECPwvUoCJD8QAAAAACInPxA7FG4Hi2R/EBcj8L1zI78QK5H4XpMmfxAw/UoXJuV/EB7FK5HnaL8QPYoXI/+q/xA7FG4HtGl/EBcj8L1vKb8QIXrUbiepPxArkfherSo/ECkcD0K16b8QClcj8Jto/xAw/UoXM+k/EAK16Nwwaz8QKRwPQp3svxAexSuRy22/EBxPQrXK7j8QFyPwvVAwfxAcT0K1yfE/EDD9ShcC8T8QKRwPQpXwvxAUrgehZO//EDNzMzMbLf8QNejcD16svxAAAAAANix/EDNzMzMNK/8QPYoXI9irvxAXI/C9Wi//EC4HoXr8b/8QAAAAAB4tvxAzczMzICy/EBI4XoUJrv8QAAAAADwu/xAzczMzDy6/EApXI/CCZj8QDMzMzO/oPxAH4XrUYSZ/EDD9Shc7578QPYoXI9emfxAAAAAAOCW/EApXI/CYZn8QDMzMzNrn/xAKVyPwpGd/EAK16Nw7Zr8QB+F61HUnPxAZmZmZlqZ/EDhehSuZ5X8QB+F61FglPxAFK5H4WK7/EApXI/Cub38QPYoXI8ivfxA4XoUrge+/EC4HoXrSbn8QI/C9Sj4i/xAPQrXowiP/EAzMzMz/5L8QOF6FK5XkvxA4XoUrqeK/EDhehSuB5D8QHE9Ctd/kfxASOF6FJ6R/EBcj8L1xJP8QEjhehSuj/xArkfhenSJ/EDXo3A97or8QJqZmZkRkPxAzczMzJCL/EDsUbgeTY38QArXo3AZjvxA4XoUrg+J/EBI4XoUNoj8QK5H4XrYh/xAFK5H4RqI/EA9CtejkI38QArXo3BxkPxA7FG4HuF+/EBcj8L1qH38QPYoXI+ifvxAmpmZmeWW/EAAAAAA6Ij8QIXrUbjqh/xAhetRuCqJ/EB7FK5HKYf8QEjhehTWhvxAexSuR1WI/EA9Ctej/If8QArXo3CNi/xAcT0K11eK/EAUrkfhnon8QPYoXI+ah/xASOF6FGqF/EA9CtejnIH8QDMzMzMTgfxA16NwPTqB/EC4HoXrpX/8QKRwPQpHgvxAzczMzBR8/EBI4XoUun78QAAAAABgfPxA16NwPdp8/EBSuB6Ff4D8QKRwPQqTgvxAhetRuE6C/ECPwvUobID8QPYoXI9+gvxArkfhejh+/EApXI/ChX/8QK5H4XrgWvxA",
          "dtype": "f8"
         },
         "decreasing": {
          "line": {
           "color": "#ef5350"
          }
         },
         "high": {
          "bdata": "AAAAAPiE/EB7FK5HVYT8QD0K16Osg/xAexSuR2WG/EDXo3A9rob8QD0K16MohvxA4XoUrn+G/EB7FK5HrYb8QGZmZmZ+ivxAFK5H4eKK/EDNzMzMNJD8QAAAAACInPxAzczMzGCd/ECuR+F6qJL8QK5H4XpMmfxA16NwPd6c/EDXo3A9tqL8QDMzMzNLrPxAH4XrUSyu/ECkcD0KE6f8QAAAAADYpvxAXI/C9dip/EAUrkfhuqj8QEjhehRuqfxApHA9CiOn/EDsUbgeyaz8QOxRuB6NsvxAUrgeha+3/EC4HoXrObj8QPYoXI8Cw/xAj8L1KJzL/ECF61G46sz8QIXrUbh6yPxAXI/C9WTC/EAzMzMz47/8QBSuR+Gat/xAw/UoXKO6/EAAAAAApLP8QMP1KFw/r/xArkfhejDC/EA9CtejpMD8QDMzMzMXwPxAH4XrUaS0/EAzMzMzr7z8QKRwPQr3u/xAj8L1KEi8/EDNzMzMTLr8QHE9CteXwfxA4XoUrsug/ECF61G4wp/8QM3MzMzMoPxAMzMzM9Oa/EApXI/CYZn8QJqZmZk5ofxAmpmZmQGg/ECamZmZWZ78QBSuR+FSnvxAzczMzBCe/ECkcD0KH5v8QOF6FK63lfxArkfhesy7/ECF61G4Pr78QClcj8K5vfxAKVyPwhm+/ECamZmZjb78QIXrUbgSuvxApHA9Cg+P/EAzMzMz/5L8QEjhehQilvxA9ihcj3aS/EBmZmZmLpD8QIXrUbiqkvxAFK5H4a6R/ECamZmZiZX8QFyPwvXEk/xA9ihcj8aP/EB7FK5HrYz8QNejcD0WkPxArkfhegyS/EBcj8L1II/8QAAAAABYjvxAAAAAAFiO/EB7FK5HIYr8QIXrUbi+iPxACtejcGmI/ECuR+F60I38QAAAAABgkfxA4XoUrqOT/ECPwvUoAH/8QNejcD0Gf/xAPQrXo0Sb/ECF61G4kpf8QFK4HoVPjPxAhetRuF6L/ED2KFyPUor8QK5H4XocivxAmpmZmemI/EApXI/CzYn8QArXo3CNi/xAw/UoXB+P/EBcj8L1EI38QBSuR+GeifxASOF6FL6H/EDXo3A9koX8QD0K16PcgfxAKVyPwtGB/EBxPQrXH4T8QKRwPQrLg/xAzczMzECC/ECF61G4Un/8QKRwPQp7f/xAzczMzJR9/EA9CtejlID8QArXo3DVhPxAUrgeha+D/ECamZmZwYL8QKRwPQrrgvxASOF6FLqC/EDhehSu+4T8QDMzMzPLgPxA",
          "dtype": "f8"
         },
         "increasing": {
          "line": {
           "color": "#26a69a"
          }
         },
         "low": {
          "bdata": "7FG4HgGD/EAAAAAABIP8QB+F61HYgvxA7FG4Hu2C/ECuR+F6WIP8QHsUrkf5gvxAhetRuA6D/EDXo3A9uoT8QI/C9SiEhvxAH4XrUcSH/ECkcD0K74f8QHE9Ctf7jvxArkfheiiR/ECuR+F6UIX8QHsUrkeZjvxA7FG4HpmV/EAUrkfhOpX8QMP1KFxXoPxAcT0K1+ek/EBcj8L1VKH8QK5H4XqMoPxAKVyPwhmi/EAK16NwCaX8QKRwPQrLovxA16NwPfqg/EBxPQrXK6P8QKRwPQq7rPxAFK5H4aav/ECuR+F68LX8QHE9CteXt/xACtejcF28/EB7FK5H3b78QFK4HoXLvfxAAAAAABi8/EAUrkfhqrL8QM3MzMz8rPxAj8L1KNCx/EAAAAAAiK78QK5H4XrQrPxAPQrXozyu/EAUrkfhsr78QAAAAAB4tvxA16NwPRqy/EDNzMzMgLr8QNejcD0mu/xAzczMzDy6/EAzMzMzu0X8QFK4HoXrlvxACtejcPmX/EAUrkfh1pj8QArXo3AVl/xAH4XrUWyW/ECkcD0Kj5X8QOF6FK5vmfxAFK5H4cac/EDNzMzM+Jn8QK5H4XqgmfxAH4XrUdCW/EDhehSuZ5X8QMP1KFxfkvxAUrgeheOT/ECF61G4Mrv8QOxRuB61vPxAuB6F65m8/EAAAAAAOLn8QGZmZmaKivxAFK5H4T6K/EAUrkfhWo78QFK4HoVXkvxAexSuR5GK/EDhehSup4r8QHsUrkcBj/xA4XoUrkeN/EDhehSuy5D8QK5H4Xqcj/xAmpmZmWGD/EC4HoXr3Yj8QBSuR+HiivxAFK5H4UqK/ECamZmZZYv8QHsUrkcVjfxAUrgehceI/EAUrkfhkof8QJqZmZnNhvxAFK5H4R6G/EDsUbgeyYf8QEjhehQujfxAUrgehQt+/EApXI/CtXz8QLgehevFe/xA16NwPaJ+/EDhehSuj3/8QDMzMzMfhfxAuB6F6+mF/EBSuB6Fi4X8QM3MzMxUhfxAcT0K1weF/EApXI/CaYb8QAAAAADQh/xA4XoUrnuJ/EAUrkfhnon8QOxRuB6thvxAhetRuP6D/EApXI/CuYD8QNejcD16gPxAKVyPwvl6/EApXI/CPX/8QClcj8K5f/xApHA9Cv97/EB7FK5HUXv8QI/C9SjEe/xAj8L1KDh7/ECPwvUovHz8QOxRuB6BgPxAw/UoXNuB/EAK16NwWYD8QKRwPQrjf/xArkfheuB9/EBSuB6FT378QBSuR+GWWvxA",
          "dtype": "f8"
         },
         "name": "BTC/USD:CXTALP 5m",
         "open": {
          "bdata": "H4XrUdyE/EBI4XoUuoP8QHE9Ctf/gvxAzczMzByD/EDsUbgeWYP8QIXrUbgihvxASOF6FC6E/ECPwvUoPIb8QIXrUbiahvxAmpmZmX2K/ECkcD0K74f8QIXrUbgakPxAPQrXo6ic/EAK16NwOZH8QNejcD2mjvxA4XoUrkuZ/EC4HoXrkZX8QK5H4XqgovxAcT0K1/+r/EBSuB6Fz6X8QFyPwvW8pvxAhetRuJ6k/EAUrkfhuqj8QM3MzMz4pvxAKVyPwlWj/EC4HoXrraT8QK5H4XrArPxAexSuR3Wy/EDhehSuR7b8QHE9CtcruPxAZmZmZkrB/EA9CtejKMT8QFK4HoULxPxArkfhemDC/EAzMzMzp7/8QFK4HoVrt/xAXI/C9Xiy/EAzMzMz17H8QMP1KFw3r/xAZmZmZmKu/EDsUbgeab/8QD0K16Pwv/xAH4XrUaS0/EC4HoXrJbz8QNejcD0uu/xAj8L1KPC7/EDNzMzMPLr8QLgehesJmPxAmpmZmb2g/ECamZmZjZn8QMP1KFwTn/xAzczMzGSZ/EApXI/C4Zb8QOF6FK5vmfxApHA9Cluf/EApXI/CkZ38QI/C9SjUmvxAH4XrUdSc/ECamZmZVZn8QOxRuB6dlfxAhetRuEaU/EAK16Nwabv8QClcj8K5vfxAKVyPwiW9/EB7FK5HBb78QMP1KFxTufxACtejcAGM/EAzMzMz/478QBSuR+HakvxAexSuR1mS/EB7FK5HqYr8QK5H4Xr8j/xAFK5H4a6R/EB7FK5HoZH8QMP1KFzDk/xA9ihcj8aP/EAK16NwoYn8QM3MzMzkivxAFK5H4QKQ/EDXo3A9mov8QOxRuB5NjfxA16NwPR6O/EAAAAAAPIn8QOF6FK43iPxAZmZmZrqH/EAUrkfhGoj8QKRwPQqPjfxACtejcHGQ/ECPwvUoAH/8QIXrUbiGffxA9ihcj7p+/EC4HoXrvZb8QBSuR+H6iPxA16NwPfKH/EBmZmZmLon8QJqZmZlhh/xA7FG4HsGG/EDhehSuU4j8QDMzMzPzh/xAw/UoXJ+L/EBcj8L1OIr8QBSuR+GeifxAj8L1KGCH/EA9CtejYIX8QK5H4XqMgfxAmpmZmTGB/EDD9ShcX4H8QClcj8K5f/xAzczMzECC/EB7FK5H/Xv8QArXo3DFfvxAKVyPwj18/EDXo3A92nz8QOxRuB6BgPxAFK5H4VqC/EAK16NwYYL8QNejcD1mgPxAKVyPwoGC/EAzMzMzU378QJqZmZmFf/xA",
          "dtype": "f8"
         },
         "type": "candlestick",
         "x": [
          "2025-08-09T07:45:00.000000",
          "2025-08-09T07:50:00.000000",
          "2025-08-09T07:55:00.000000",
          "2025-08-09T08:00:00.000000",
          "2025-08-09T08:05:00.000000",
          "2025-08-09T08:10:00.000000",
          "2025-08-09T08:15:00.000000",
          "2025-08-09T08:20:00.000000",
          "2025-08-09T08:25:00.000000",
          "2025-08-09T08:30:00.000000",
          "2025-08-09T08:35:00.000000",
          "2025-08-09T08:40:00.000000",
          "2025-08-09T08:45:00.000000",
          "2025-08-09T08:50:00.000000",
          "2025-08-09T08:55:00.000000",
          "2025-08-09T09:00:00.000000",
          "2025-08-09T09:05:00.000000",
          "2025-08-09T09:10:00.000000",
          "2025-08-09T09:15:00.000000",
          "2025-08-09T09:20:00.000000",
          "2025-08-09T09:25:00.000000",
          "2025-08-09T09:30:00.000000",
          "2025-08-09T09:35:00.000000",
          "2025-08-09T09:40:00.000000",
          "2025-08-09T09:45:00.000000",
          "2025-08-09T09:50:00.000000",
          "2025-08-09T09:55:00.000000",
          "2025-08-09T10:00:00.000000",
          "2025-08-09T10:05:00.000000",
          "2025-08-09T10:10:00.000000",
          "2025-08-09T10:15:00.000000",
          "2025-08-09T10:20:00.000000",
          "2025-08-09T10:25:00.000000",
          "2025-08-09T10:30:00.000000",
          "2025-08-09T10:35:00.000000",
          "2025-08-09T10:40:00.000000",
          "2025-08-09T10:45:00.000000",
          "2025-08-09T10:50:00.000000",
          "2025-08-09T10:55:00.000000",
          "2025-08-09T11:00:00.000000",
          "2025-08-09T11:05:00.000000",
          "2025-08-09T11:10:00.000000",
          "2025-08-09T11:15:00.000000",
          "2025-08-09T11:20:00.000000",
          "2025-08-09T11:25:00.000000",
          "2025-08-09T11:30:00.000000",
          "2025-08-09T11:35:00.000000",
          "2025-08-09T11:40:00.000000",
          "2025-08-09T11:45:00.000000",
          "2025-08-09T11:50:00.000000",
          "2025-08-09T11:55:00.000000",
          "2025-08-09T12:00:00.000000",
          "2025-08-09T12:05:00.000000",
          "2025-08-09T12:10:00.000000",
          "2025-08-09T12:15:00.000000",
          "2025-08-09T12:20:00.000000",
          "2025-08-09T12:25:00.000000",
          "2025-08-09T12:30:00.000000",
          "2025-08-09T12:35:00.000000",
          "2025-08-09T12:40:00.000000",
          "2025-08-09T12:45:00.000000",
          "2025-08-09T12:50:00.000000",
          "2025-08-09T12:55:00.000000",
          "2025-08-09T13:00:00.000000",
          "2025-08-09T13:05:00.000000",
          "2025-08-09T13:10:00.000000",
          "2025-08-09T13:15:00.000000",
          "2025-08-09T13:20:00.000000",
          "2025-08-09T13:25:00.000000",
          "2025-08-09T13:30:00.000000",
          "2025-08-09T13:35:00.000000",
          "2025-08-09T13:40:00.000000",
          "2025-08-09T13:45:00.000000",
          "2025-08-09T13:50:00.000000",
          "2025-08-09T13:55:00.000000",
          "2025-08-09T14:00:00.000000",
          "2025-08-09T14:05:00.000000",
          "2025-08-09T14:10:00.000000",
          "2025-08-09T14:15:00.000000",
          "2025-08-09T14:20:00.000000",
          "2025-08-09T14:25:00.000000",
          "2025-08-09T14:30:00.000000",
          "2025-08-09T14:35:00.000000",
          "2025-08-09T14:40:00.000000",
          "2025-08-09T14:45:00.000000",
          "2025-08-09T14:50:00.000000",
          "2025-08-09T14:55:00.000000",
          "2025-08-09T15:00:00.000000",
          "2025-08-09T15:05:00.000000",
          "2025-08-09T15:10:00.000000",
          "2025-08-09T15:15:00.000000",
          "2025-08-09T15:20:00.000000",
          "2025-08-09T15:25:00.000000",
          "2025-08-09T15:30:00.000000",
          "2025-08-09T15:35:00.000000",
          "2025-08-09T15:40:00.000000",
          "2025-08-09T15:45:00.000000",
          "2025-08-09T15:50:00.000000",
          "2025-08-09T15:55:00.000000",
          "2025-08-09T16:00:00.000000",
          "2025-08-09T16:05:00.000000",
          "2025-08-09T16:10:00.000000",
          "2025-08-09T16:15:00.000000",
          "2025-08-09T16:20:00.000000",
          "2025-08-09T16:25:00.000000",
          "2025-08-09T16:30:00.000000",
          "2025-08-09T16:35:00.000000",
          "2025-08-09T16:40:00.000000",
          "2025-08-09T16:45:00.000000",
          "2025-08-09T16:50:00.000000",
          "2025-08-09T16:55:00.000000",
          "2025-08-09T17:00:00.000000",
          "2025-08-09T17:05:00.000000",
          "2025-08-09T17:10:00.000000",
          "2025-08-09T17:15:00.000000",
          "2025-08-09T17:20:00.000000",
          "2025-08-09T17:25:00.000000",
          "2025-08-09T17:30:00.000000",
          "2025-08-09T17:35:00.000000",
          "2025-08-09T17:40:00.000000"
         ]
        }
       ],
       "layout": {
        "height": 600,
        "margin": {
         "b": 40,
         "l": 40,
         "r": 20,
         "t": 60
        },
        "template": {
         "data": {
          "bar": [
           {
            "error_x": {
             "color": "#f2f5fa"
            },
            "error_y": {
             "color": "#f2f5fa"
            },
            "marker": {
             "line": {
              "color": "rgb(17,17,17)",
              "width": 0.5
             },
             "pattern": {
              "fillmode": "overlay",
              "size": 10,
              "solidity": 0.2
             }
            },
            "type": "bar"
           }
          ],
          "barpolar": [
           {
            "marker": {
             "line": {
              "color": "rgb(17,17,17)",
              "width": 0.5
             },
             "pattern": {
              "fillmode": "overlay",
              "size": 10,
              "solidity": 0.2
             }
            },
            "type": "barpolar"
           }
          ],
          "carpet": [
           {
            "aaxis": {
             "endlinecolor": "#A2B1C6",
             "gridcolor": "#506784",
             "linecolor": "#506784",
             "minorgridcolor": "#506784",
             "startlinecolor": "#A2B1C6"
            },
            "baxis": {
             "endlinecolor": "#A2B1C6",
             "gridcolor": "#506784",
             "linecolor": "#506784",
             "minorgridcolor": "#506784",
             "startlinecolor": "#A2B1C6"
            },
            "type": "carpet"
           }
          ],
          "choropleth": [
           {
            "colorbar": {
             "outlinewidth": 0,
             "ticks": ""
            },
            "type": "choropleth"
           }
          ],
          "contour": [
           {
            "colorbar": {
             "outlinewidth": 0,
             "ticks": ""
            },
            "colorscale": [
             [
              0,
              "#0d0887"
             ],
             [
              0.1111111111111111,
              "#46039f"
             ],
             [
              0.2222222222222222,
              "#7201a8"
             ],
             [
              0.3333333333333333,
              "#9c179e"
             ],
             [
              0.4444444444444444,
              "#bd3786"
             ],
             [
              0.5555555555555556,
              "#d8576b"
             ],
             [
              0.6666666666666666,
              "#ed7953"
             ],
             [
              0.7777777777777778,
              "#fb9f3a"
             ],
             [
              0.8888888888888888,
              "#fdca26"
             ],
             [
              1,
              "#f0f921"
             ]
            ],
            "type": "contour"
           }
          ],
          "contourcarpet": [
           {
            "colorbar": {
             "outlinewidth": 0,
             "ticks": ""
            },
            "type": "contourcarpet"
           }
          ],
          "heatmap": [
           {
            "colorbar": {
             "outlinewidth": 0,
             "ticks": ""
            },
            "colorscale": [
             [
              0,
              "#0d0887"
             ],
             [
              0.1111111111111111,
              "#46039f"
             ],
             [
              0.2222222222222222,
              "#7201a8"
             ],
             [
              0.3333333333333333,
              "#9c179e"
             ],
             [
              0.4444444444444444,
              "#bd3786"
             ],
             [
              0.5555555555555556,
              "#d8576b"
             ],
             [
              0.6666666666666666,
              "#ed7953"
             ],
             [
              0.7777777777777778,
              "#fb9f3a"
             ],
             [
              0.8888888888888888,
              "#fdca26"
             ],
             [
              1,
              "#f0f921"
             ]
            ],
            "type": "heatmap"
           }
          ],
          "histogram": [
           {
            "marker": {
             "pattern": {
              "fillmode": "overlay",
              "size": 10,
              "solidity": 0.2
             }
            },
            "type": "histogram"
           }
          ],
          "histogram2d": [
           {
            "colorbar": {
             "outlinewidth": 0,
             "ticks": ""
            },
            "colorscale": [
             [
              0,
              "#0d0887"
             ],
             [
              0.1111111111111111,
              "#46039f"
             ],
             [
              0.2222222222222222,
              "#7201a8"
             ],
             [
              0.3333333333333333,
              "#9c179e"
             ],
             [
              0.4444444444444444,
              "#bd3786"
             ],
             [
              0.5555555555555556,
              "#d8576b"
             ],
             [
              0.6666666666666666,
              "#ed7953"
             ],
             [
              0.7777777777777778,
              "#fb9f3a"
             ],
             [
              0.8888888888888888,
              "#fdca26"
             ],
             [
              1,
              "#f0f921"
             ]
            ],
            "type": "histogram2d"
           }
          ],
          "histogram2dcontour": [
           {
            "colorbar": {
             "outlinewidth": 0,
             "ticks": ""
            },
            "colorscale": [
             [
              0,
              "#0d0887"
             ],
             [
              0.1111111111111111,
              "#46039f"
             ],
             [
              0.2222222222222222,
              "#7201a8"
             ],
             [
              0.3333333333333333,
              "#9c179e"
             ],
             [
              0.4444444444444444,
              "#bd3786"
             ],
             [
              0.5555555555555556,
              "#d8576b"
             ],
             [
              0.6666666666666666,
              "#ed7953"
             ],
             [
              0.7777777777777778,
              "#fb9f3a"
             ],
             [
              0.8888888888888888,
              "#fdca26"
             ],
             [
              1,
              "#f0f921"
             ]
            ],
            "type": "histogram2dcontour"
           }
          ],
          "mesh3d": [
           {
            "colorbar": {
             "outlinewidth": 0,
             "ticks": ""
            },
            "type": "mesh3d"
           }
          ],
          "parcoords": [
           {
            "line": {
             "colorbar": {
              "outlinewidth": 0,
              "ticks": ""
             }
            },
            "type": "parcoords"
           }
          ],
          "pie": [
           {
            "automargin": true,
            "type": "pie"
           }
          ],
          "scatter": [
           {
            "marker": {
             "line": {
              "color": "#283442"
             }
            },
            "type": "scatter"
           }
          ],
          "scatter3d": [
           {
            "line": {
             "colorbar": {
              "outlinewidth": 0,
              "ticks": ""
             }
            },
            "marker": {
             "colorbar": {
              "outlinewidth": 0,
              "ticks": ""
             }
            },
            "type": "scatter3d"
           }
          ],
          "scattercarpet": [
           {
            "marker": {
             "colorbar": {
              "outlinewidth": 0,
              "ticks": ""
             }
            },
            "type": "scattercarpet"
           }
          ],
          "scattergeo": [
           {
            "marker": {
             "colorbar": {
              "outlinewidth": 0,
              "ticks": ""
             }
            },
            "type": "scattergeo"
           }
          ],
          "scattergl": [
           {
            "marker": {
             "line": {
              "color": "#283442"
             }
            },
            "type": "scattergl"
           }
          ],
          "scattermap": [
           {
            "marker": {
             "colorbar": {
              "outlinewidth": 0,
              "ticks": ""
             }
            },
            "type": "scattermap"
           }
          ],
          "scattermapbox": [
           {
            "marker": {
             "colorbar": {
              "outlinewidth": 0,
              "ticks": ""
             }
            },
            "type": "scattermapbox"
           }
          ],
          "scatterpolar": [
           {
            "marker": {
             "colorbar": {
              "outlinewidth": 0,
              "ticks": ""
             }
            },
            "type": "scatterpolar"
           }
          ],
          "scatterpolargl": [
           {
            "marker": {
             "colorbar": {
              "outlinewidth": 0,
              "ticks": ""
             }
            },
            "type": "scatterpolargl"
           }
          ],
          "scatterternary": [
           {
            "marker": {
             "colorbar": {
              "outlinewidth": 0,
              "ticks": ""
             }
            },
            "type": "scatterternary"
           }
          ],
          "surface": [
           {
            "colorbar": {
             "outlinewidth": 0,
             "ticks": ""
            },
            "colorscale": [
             [
              0,
              "#0d0887"
             ],
             [
              0.1111111111111111,
              "#46039f"
             ],
             [
              0.2222222222222222,
              "#7201a8"
             ],
             [
              0.3333333333333333,
              "#9c179e"
             ],
             [
              0.4444444444444444,
              "#bd3786"
             ],
             [
              0.5555555555555556,
              "#d8576b"
             ],
             [
              0.6666666666666666,
              "#ed7953"
             ],
             [
              0.7777777777777778,
              "#fb9f3a"
             ],
             [
              0.8888888888888888,
              "#fdca26"
             ],
             [
              1,
              "#f0f921"
             ]
            ],
            "type": "surface"
           }
          ],
          "table": [
           {
            "cells": {
             "fill": {
              "color": "#506784"
             },
             "line": {
              "color": "rgb(17,17,17)"
             }
            },
            "header": {
             "fill": {
              "color": "#2a3f5f"
             },
             "line": {
              "color": "rgb(17,17,17)"
             }
            },
            "type": "table"
           }
          ]
         },
         "layout": {
          "annotationdefaults": {
           "arrowcolor": "#f2f5fa",
           "arrowhead": 0,
           "arrowwidth": 1
          },
          "autotypenumbers": "strict",
          "coloraxis": {
           "colorbar": {
            "outlinewidth": 0,
            "ticks": ""
           }
          },
          "colorscale": {
           "diverging": [
            [
             0,
             "#8e0152"
            ],
            [
             0.1,
             "#c51b7d"
            ],
            [
             0.2,
             "#de77ae"
            ],
            [
             0.3,
             "#f1b6da"
            ],
            [
             0.4,
             "#fde0ef"
            ],
            [
             0.5,
             "#f7f7f7"
            ],
            [
             0.6,
             "#e6f5d0"
            ],
            [
             0.7,
             "#b8e186"
            ],
            [
             0.8,
             "#7fbc41"
            ],
            [
             0.9,
             "#4d9221"
            ],
            [
             1,
             "#276419"
            ]
           ],
           "sequential": [
            [
             0,
             "#0d0887"
            ],
            [
             0.1111111111111111,
             "#46039f"
            ],
            [
             0.2222222222222222,
             "#7201a8"
            ],
            [
             0.3333333333333333,
             "#9c179e"
            ],
            [
             0.4444444444444444,
             "#bd3786"
            ],
            [
             0.5555555555555556,
             "#d8576b"
            ],
            [
             0.6666666666666666,
             "#ed7953"
            ],
            [
             0.7777777777777778,
             "#fb9f3a"
            ],
            [
             0.8888888888888888,
             "#fdca26"
            ],
            [
             1,
             "#f0f921"
            ]
           ],
           "sequentialminus": [
            [
             0,
             "#0d0887"
            ],
            [
             0.1111111111111111,
             "#46039f"
            ],
            [
             0.2222222222222222,
             "#7201a8"
            ],
            [
             0.3333333333333333,
             "#9c179e"
            ],
            [
             0.4444444444444444,
             "#bd3786"
            ],
            [
             0.5555555555555556,
             "#d8576b"
            ],
            [
             0.6666666666666666,
             "#ed7953"
            ],
            [
             0.7777777777777778,
             "#fb9f3a"
            ],
            [
             0.8888888888888888,
             "#fdca26"
            ],
            [
             1,
             "#f0f921"
            ]
           ]
          },
          "colorway": [
           "#636efa",
           "#EF553B",
           "#00cc96",
           "#ab63fa",
           "#FFA15A",
           "#19d3f3",
           "#FF6692",
           "#B6E880",
           "#FF97FF",
           "#FECB52"
          ],
          "font": {
           "color": "#f2f5fa"
          },
          "geo": {
           "bgcolor": "rgb(17,17,17)",
           "lakecolor": "rgb(17,17,17)",
           "landcolor": "rgb(17,17,17)",
           "showlakes": true,
           "showland": true,
           "subunitcolor": "#506784"
          },
          "hoverlabel": {
           "align": "left"
          },
          "hovermode": "closest",
          "mapbox": {
           "style": "dark"
          },
          "paper_bgcolor": "rgb(17,17,17)",
          "plot_bgcolor": "rgb(17,17,17)",
          "polar": {
           "angularaxis": {
            "gridcolor": "#506784",
            "linecolor": "#506784",
            "ticks": ""
           },
           "bgcolor": "rgb(17,17,17)",
           "radialaxis": {
            "gridcolor": "#506784",
            "linecolor": "#506784",
            "ticks": ""
           }
          },
          "scene": {
           "xaxis": {
            "backgroundcolor": "rgb(17,17,17)",
            "gridcolor": "#506784",
            "gridwidth": 2,
            "linecolor": "#506784",
            "showbackground": true,
            "ticks": "",
            "zerolinecolor": "#C8D4E3"
           },
           "yaxis": {
            "backgroundcolor": "rgb(17,17,17)",
            "gridcolor": "#506784",
            "gridwidth": 2,
            "linecolor": "#506784",
            "showbackground": true,
            "ticks": "",
            "zerolinecolor": "#C8D4E3"
           },
           "zaxis": {
            "backgroundcolor": "rgb(17,17,17)",
            "gridcolor": "#506784",
            "gridwidth": 2,
            "linecolor": "#506784",
            "showbackground": true,
            "ticks": "",
            "zerolinecolor": "#C8D4E3"
           }
          },
          "shapedefaults": {
           "line": {
            "color": "#f2f5fa"
           }
          },
          "sliderdefaults": {
           "bgcolor": "#C8D4E3",
           "bordercolor": "rgb(17,17,17)",
           "borderwidth": 1,
           "tickwidth": 0
          },
          "ternary": {
           "aaxis": {
            "gridcolor": "#506784",
            "linecolor": "#506784",
            "ticks": ""
           },
           "baxis": {
            "gridcolor": "#506784",
            "linecolor": "#506784",
            "ticks": ""
           },
           "bgcolor": "rgb(17,17,17)",
           "caxis": {
            "gridcolor": "#506784",
            "linecolor": "#506784",
            "ticks": ""
           }
          },
          "title": {
           "x": 0.05
          },
          "updatemenudefaults": {
           "bgcolor": "#506784",
           "borderwidth": 0
          },
          "xaxis": {
           "automargin": true,
           "gridcolor": "#283442",
           "linecolor": "#506784",
           "ticks": "",
           "title": {
            "standoff": 15
           },
           "zerolinecolor": "#283442",
           "zerolinewidth": 2
          },
          "yaxis": {
           "automargin": true,
           "gridcolor": "#283442",
           "linecolor": "#506784",
           "ticks": "",
           "title": {
            "standoff": 15
           },
           "zerolinecolor": "#283442",
           "zerolinewidth": 2
          }
         }
        },
        "title": {
         "text": "BTC/USD:CXTALP 5m — Last 120 Bars"
        },
        "xaxis": {
         "rangeslider": {
          "visible": false
         },
         "title": {
          "text": "Time"
         }
        },
        "yaxis": {
         "title": {
          "text": "Price"
         }
        }
       }
      }
     },
     "metadata": {},
     "output_type": "display_data"
    }
   ],
   "source": [
    "from tastytrade.realtime import LiveMACDHullStreamer\n",
    "\n",
    "streamer = LiveMACDHullStreamer(symbol=SYMBOL, interval='5m', min_rows=40, poll_secs=2.0)\n",
    "chart = await streamer.start(dxlink)\n",
    "chart.figure"
   ]
  },
  {
   "cell_type": "markdown",
   "id": "bba5b3af",
   "metadata": {},
   "source": [
    "## Indicators: MACD & Hull (5m)\n",
    "Live incremental MACD + Hull using production realtime module helpers (`tastytrade.realtime.notebook`). Run the setup cell below to display a live-updating chart."
   ]
  },
  {
   "cell_type": "code",
   "execution_count": null,
   "id": "91f2fed5",
   "metadata": {},
   "outputs": [
    {
     "ename": "KeyError",
     "evalue": "'Candle'",
     "output_type": "error",
     "traceback": [
      "\u001b[31m---------------------------------------------------------------------------\u001b[39m",
      "\u001b[31mKeyError\u001b[39m                                  Traceback (most recent call last)",
      "\u001b[36mCell\u001b[39m\u001b[36m \u001b[39m\u001b[32mIn[7]\u001b[39m\u001b[32m, line 11\u001b[39m\n\u001b[32m      8\u001b[39m MIN_BOOTSTRAP_ROWS = \u001b[32m40\u001b[39m\n\u001b[32m      9\u001b[39m POLL_SECS = \u001b[32m2.0\u001b[39m\n\u001b[32m---> \u001b[39m\u001b[32m11\u001b[39m chart = \u001b[38;5;28;01mawait\u001b[39;00m setup_realtime_chart(\n\u001b[32m     12\u001b[39m     dxlink, SYMBOL, interval=LIVE_INTERVAL, min_rows=MIN_BOOTSTRAP_ROWS\n\u001b[32m     13\u001b[39m )\n\u001b[32m     14\u001b[39m fig = chart.figure\n\u001b[32m     15\u001b[39m fig.update_layout(height=\u001b[32m720\u001b[39m, title=\u001b[33mf\u001b[39m\u001b[33m\"\u001b[39m\u001b[38;5;132;01m{\u001b[39;00mSYMBOL\u001b[38;5;132;01m}\u001b[39;00m\u001b[33m \u001b[39m\u001b[38;5;132;01m{\u001b[39;00mLIVE_INTERVAL\u001b[38;5;132;01m}\u001b[39;00m\u001b[33m — Live MACD + Hull\u001b[39m\u001b[33m\"\u001b[39m)\n",
      "\u001b[36mFile \u001b[39m\u001b[32m/workspace/src/tastytrade/realtime/notebook.py:108\u001b[39m, in \u001b[36msetup_realtime_chart\u001b[39m\u001b[34m(dxlink, symbol, interval, min_rows, hma_length)\u001b[39m\n\u001b[32m    100\u001b[39m \u001b[38;5;28;01masync\u001b[39;00m \u001b[38;5;28;01mdef\u001b[39;00m\u001b[38;5;250m \u001b[39m\u001b[34msetup_realtime_chart\u001b[39m(\n\u001b[32m    101\u001b[39m     dxlink,\n\u001b[32m    102\u001b[39m     symbol: \u001b[38;5;28mstr\u001b[39m,\n\u001b[32m   (...)\u001b[39m\u001b[32m    105\u001b[39m     hma_length: \u001b[38;5;28mint\u001b[39m = \u001b[32m20\u001b[39m,\n\u001b[32m    106\u001b[39m ) -> RealTimeMACDHullChart:\n\u001b[32m    107\u001b[39m \u001b[38;5;250m    \u001b[39m\u001b[33;03m\"\"\"Bootstrap a realtime chart from existing frame data.\"\"\"\u001b[39;00m\n\u001b[32m--> \u001b[39m\u001b[32m108\u001b[39m     frame = \u001b[38;5;28;01mawait\u001b[39;00m wait_for_candle_frame(dxlink, symbol, interval, min_rows=min_rows)\n\u001b[32m    109\u001b[39m     required = {\u001b[33m\"\u001b[39m\u001b[33mtime\u001b[39m\u001b[33m\"\u001b[39m, \u001b[33m\"\u001b[39m\u001b[33mopen\u001b[39m\u001b[33m\"\u001b[39m, \u001b[33m\"\u001b[39m\u001b[33mhigh\u001b[39m\u001b[33m\"\u001b[39m, \u001b[33m\"\u001b[39m\u001b[33mlow\u001b[39m\u001b[33m\"\u001b[39m, \u001b[33m\"\u001b[39m\u001b[33mclose\u001b[39m\u001b[33m\"\u001b[39m, \u001b[33m\"\u001b[39m\u001b[33mvolume\u001b[39m\u001b[33m\"\u001b[39m}\n\u001b[32m    110\u001b[39m     missing = required - \u001b[38;5;28mset\u001b[39m(frame.columns)\n",
      "\u001b[36mFile \u001b[39m\u001b[32m/workspace/src/tastytrade/realtime/notebook.py:39\u001b[39m, in \u001b[36mwait_for_candle_frame\u001b[39m\u001b[34m(dxlink, symbol, interval, min_rows, poll_secs, timeout)\u001b[39m\n\u001b[32m     25\u001b[39m \u001b[38;5;28;01masync\u001b[39;00m \u001b[38;5;28;01mdef\u001b[39;00m\u001b[38;5;250m \u001b[39m\u001b[34mwait_for_candle_frame\u001b[39m(\n\u001b[32m     26\u001b[39m     dxlink,\n\u001b[32m     27\u001b[39m     symbol: \u001b[38;5;28mstr\u001b[39m,\n\u001b[32m   (...)\u001b[39m\u001b[32m     31\u001b[39m     timeout: Optional[\u001b[38;5;28mfloat\u001b[39m] = \u001b[32m30.0\u001b[39m,\n\u001b[32m     32\u001b[39m ) -> pl.DataFrame:\n\u001b[32m     33\u001b[39m \u001b[38;5;250m    \u001b[39m\u001b[33;03m\"\"\"Poll until a candle frame with >= min_rows exists.\"\"\"\u001b[39;00m\n\u001b[32m     34\u001b[39m     handler = (\n\u001b[32m     35\u001b[39m         dxlink.router.handler[dxlink.router.subscription_channels.Candle].processors[\n\u001b[32m     36\u001b[39m             \u001b[33m\"\u001b[39m\u001b[33mfeed\u001b[39m\u001b[33m\"\u001b[39m\n\u001b[32m     37\u001b[39m         ]\n\u001b[32m     38\u001b[39m         \u001b[38;5;28;01mif\u001b[39;00m \u001b[38;5;28mhasattr\u001b[39m(dxlink.router, \u001b[33m\"\u001b[39m\u001b[33msubscription_channels\u001b[39m\u001b[33m\"\u001b[39m)\n\u001b[32m---> \u001b[39m\u001b[32m39\u001b[39m         \u001b[38;5;28;01melse\u001b[39;00m \u001b[43mdxlink\u001b[49m\u001b[43m.\u001b[49m\u001b[43mrouter\u001b[49m\u001b[43m.\u001b[49m\u001b[43mhandler\u001b[49m\u001b[43m[\u001b[49m\u001b[33;43m\"\u001b[39;49m\u001b[33;43mCandle\u001b[39;49m\u001b[33;43m\"\u001b[39;49m\u001b[43m]\u001b[49m.processors[\u001b[33m\"\u001b[39m\u001b[33mfeed\u001b[39m\u001b[33m\"\u001b[39m]\n\u001b[32m     40\u001b[39m     )  \u001b[38;5;66;03m# type: ignore[index]\u001b[39;00m\n\u001b[32m     41\u001b[39m     key = \u001b[33mf\u001b[39m\u001b[33m\"\u001b[39m\u001b[38;5;132;01m{\u001b[39;00msymbol\u001b[38;5;132;01m}\u001b[39;00m\u001b[38;5;130;01m{{\u001b[39;00m\u001b[33m=\u001b[39m\u001b[38;5;132;01m{\u001b[39;00minterval\u001b[38;5;132;01m}\u001b[39;00m\u001b[38;5;130;01m}}\u001b[39;00m\u001b[33m\"\u001b[39m\n\u001b[32m     42\u001b[39m     start = asyncio.get_running_loop().time()\n",
      "\u001b[31mKeyError\u001b[39m: 'Candle'"
     ]
    }
   ],
   "source": [
    "# The chart is already live via LiveMACDHullStreamer.\n",
    "# Display figure again (it auto-updates) or access chart.figure directly.\n",
    "chart.figure"
   ]
  },
  {
   "cell_type": "markdown",
   "id": "4f56a0ef",
   "metadata": {},
   "source": [
    "## Ad-hoc Exploration"
   ]
  },
  {
   "cell_type": "code",
   "execution_count": null,
   "id": "b7e7184b",
   "metadata": {},
   "outputs": [],
   "source": [
    "# Example: access full quote frame\n",
    "dxlink.router.handler[Channels.Quote].processors[\"feed\"].pl.tail(10)"
   ]
  },
  {
   "cell_type": "code",
   "execution_count": null,
   "id": "ca786cce",
   "metadata": {},
   "outputs": [],
   "source": [
    "# Example: access a specific candle interval frame (e.g., 5m)\n",
    "iv = \"5m\"\n",
    "frame = (\n",
    "    dxlink.router.handler[Channels.Candle]\n",
    "    .processors[\"feed\"]\n",
    "    .frames.get(f\"{SYMBOL}{{={iv}}}\")\n",
    ")\n",
    "frame.tail(5) if frame is not None else \"No frame yet\""
   ]
  },
  {
   "cell_type": "markdown",
   "id": "6e18c017",
   "metadata": {},
   "source": [
    "## Shutdown"
   ]
  },
  {
   "cell_type": "code",
   "execution_count": null,
   "id": "decf3b33",
   "metadata": {},
   "outputs": [],
   "source": [
    "await dxlink.close()\n",
    "logging.info(\"DXLink closed. Notebook complete.\")"
   ]
  },
  {
   "cell_type": "code",
   "execution_count": null,
   "id": "2b4a817e",
   "metadata": {},
   "outputs": [],
   "source": []
  }
 ],
 "metadata": {
  "kernelspec": {
   "display_name": "tastytrade (3.11.13)",
   "language": "python",
   "name": "python3"
  },
  "language_info": {
   "codemirror_mode": {
    "name": "ipython",
    "version": 3
   },
   "file_extension": ".py",
   "mimetype": "text/x-python",
   "name": "python",
   "nbconvert_exporter": "python",
   "pygments_lexer": "ipython3",
   "version": "3.11.13"
  }
 },
 "nbformat": 4,
 "nbformat_minor": 5
}
