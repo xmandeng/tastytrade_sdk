{
 "cells": [
  {
   "cell_type": "markdown",
   "id": "85796bc9",
   "metadata": {},
   "source": [
    "# Live Bitcoin Feed Playground (BTC/USD:CXTALP)\n",
    "Self-contained notebook to: (1) initialize config & connections, (2) subscribe to the live Bitcoin symbol (active on weekends), (3) stream quotes & recent candles, (4) explore frames, (5) cleanly shutdown.\n",
    "\n",
    "**Pipeline Touchpoints**: DXLink → Redis (pub/sub + cache) + Telegraf (HTTP) → (optionally) Influx. This notebook goes directly to DXLink (bypassing FastAPI edge) for lowest latency validation.\n",
    "\n",
    "**Stop / Rerun Guidance**: If a cell is interrupted mid-loop, re-run the subscription cell before restarting the watcher. Always run the shutdown cell before closing the notebook kernel."
   ]
  },
  {
   "cell_type": "code",
   "execution_count": 14,
   "id": "84472807",
   "metadata": {},
   "outputs": [
    {
     "name": "stderr",
     "output_type": "stream",
     "text": [
      "2025-08-09 17:43:27 - INFO:root:62:Logging initialized - writing to ../logs/dev_tastytrade_20250809.log\n",
      "2025-08-09 17:43:27 - INFO:root:32:Environment ready.\n",
      "2025-08-09 17:43:27 - INFO:root:32:Environment ready.\n"
     ]
    }
   ],
   "source": [
    "import asyncio, logging, os, math, time, textwrap\n",
    "from datetime import datetime\n",
    "import pandas as pd\n",
    "from IPython.display import display, clear_output, Markdown\n",
    "\n",
    "from tastytrade.common.logging import setup_logging\n",
    "from tastytrade.config import RedisConfigManager\n",
    "from tastytrade.connections import Credentials, InfluxCredentials\n",
    "from tastytrade.connections.subscription import RedisSubscriptionStore\n",
    "from tastytrade.connections.sockets import DXLinkManager\n",
    "from tastytrade.messaging.processors import (\n",
    "    TelegrafHTTPEventProcessor,\n",
    "    RedisEventProcessor,\n",
    ")\n",
    "from tastytrade.config.enumerations import Channels\n",
    "\n",
    "# Pandas display tuning for richer exploratory output\n",
    "pd.set_option(\"display.max_rows\", 100)\n",
    "pd.set_option(\"display.max_columns\", None)\n",
    "pd.set_option(\"display.width\", None)\n",
    "pd.set_option(\"display.max_colwidth\", None)\n",
    "\n",
    "logging.getLogger().handlers.clear()\n",
    "setup_logging(\n",
    "    level=logging.INFO,\n",
    "    log_dir=\"../logs\",\n",
    "    filename_prefix=\"dev_tastytrade\",\n",
    "    console=True,\n",
    "    file=True,\n",
    ")\n",
    "logging.getLogger(\"asyncio\").setLevel(logging.WARNING)\n",
    "logging.info(\"Environment ready.\")"
   ]
  },
  {
   "cell_type": "markdown",
   "id": "db749621",
   "metadata": {},
   "source": [
    "## Parameters"
   ]
  },
  {
   "cell_type": "code",
   "execution_count": 15,
   "id": "cd6789a8",
   "metadata": {},
   "outputs": [
    {
     "name": "stderr",
     "output_type": "stream",
     "text": [
      "2025-08-09 17:43:28 - INFO:root:15:Parameters set for BTC/USD:CXTALP\n"
     ]
    }
   ],
   "source": [
    "# Core symbol (weekend-active crypto)\n",
    "SYMBOL = \"BTC/USD:CXTALP\"\n",
    "# Candle intervals to watch (ordered smallest→largest)\n",
    "CANDLE_INTERVALS = [\"m\", \"5m\", \"15m\", \"1h\", \"4h\", \"1d\"]\n",
    "# Backfill start reference (adjust as desired)\n",
    "BACKFILL_START = datetime.utcnow().replace(hour=0, minute=0, second=0, microsecond=0)\n",
    "# Watch loop runtime (seconds); set None for indefinite (Ctrl+C to interrupt)\n",
    "WATCH_SECONDS = 90\n",
    "# Refresh period for live panel\n",
    "REFRESH_SECS = 5\n",
    "# Forward fill lookback days (for continuity)\n",
    "FORWARD_FILL_LOOKBACK_DAYS = 3\n",
    "\n",
    "SYMBOL_EVENT_PREFIX = SYMBOL  # raw symbol used by subscription helpers\n",
    "logging.info(\"Parameters set for %s\", SYMBOL)"
   ]
  },
  {
   "cell_type": "markdown",
   "id": "2643c94f",
   "metadata": {},
   "source": [
    "## Open Connections & Wire Processors"
   ]
  },
  {
   "cell_type": "code",
   "execution_count": 16,
   "id": "86df85e3",
   "metadata": {},
   "outputs": [
    {
     "name": "stderr",
     "output_type": "stream",
     "text": [
      "2025-08-09 17:43:30 - INFO:tastytrade.config.manager:174:Initialized 19 variables from .env file in Redis\n",
      "2025-08-09 17:43:30 - INFO:tastytrade.connections.requests:148:Session created successfully\n",
      "2025-08-09 17:43:30 - INFO:tastytrade.connections.requests:148:Session created successfully\n",
      "2025-08-09 17:43:30 - INFO:tastytrade.connections.subscription:118:Redis ping response: True\n",
      "2025-08-09 17:43:30 - INFO:tastytrade.connections.subscription:122:Redis version: 7.4.3\n",
      "2025-08-09 17:43:30 - INFO:tastytrade.connections.subscription:123:Connected clients: 8\n",
      "2025-08-09 17:43:30 - INFO:tastytrade.connections.subscription:118:Redis ping response: True\n",
      "2025-08-09 17:43:30 - INFO:tastytrade.connections.subscription:122:Redis version: 7.4.3\n",
      "2025-08-09 17:43:30 - INFO:tastytrade.connections.subscription:123:Connected clients: 8\n",
      "2025-08-09 17:43:30 - INFO:root:14:DXLink open; processors attached. Channels: [<Channels.Control: 0>, <Channels.Quote: 7>, <Channels.Trade: 5>, <Channels.Greeks: 11>, <Channels.Profile: 1>, <Channels.Summary: 3>, <Channels.Candle: 9>]\n",
      "2025-08-09 17:43:30 - INFO:tastytrade.messaging.handlers:78:Started Channels.Control listener on channel 0\n",
      "2025-08-09 17:43:30 - INFO:tastytrade.messaging.handlers:78:Started Channels.Quote listener on channel 7\n",
      "2025-08-09 17:43:30 - INFO:tastytrade.messaging.handlers:78:Started Channels.Trade listener on channel 5\n",
      "2025-08-09 17:43:30 - INFO:tastytrade.messaging.handlers:78:Started Channels.Greeks listener on channel 11\n",
      "2025-08-09 17:43:30 - INFO:tastytrade.messaging.handlers:78:Started Channels.Profile listener on channel 1\n",
      "2025-08-09 17:43:30 - INFO:tastytrade.messaging.handlers:78:Started Channels.Summary listener on channel 3\n",
      "2025-08-09 17:43:30 - INFO:tastytrade.messaging.handlers:78:Started Channels.Candle listener on channel 9\n",
      "2025-08-09 17:43:30 - INFO:root:14:DXLink open; processors attached. Channels: [<Channels.Control: 0>, <Channels.Quote: 7>, <Channels.Trade: 5>, <Channels.Greeks: 11>, <Channels.Profile: 1>, <Channels.Summary: 3>, <Channels.Candle: 9>]\n",
      "2025-08-09 17:43:30 - INFO:tastytrade.messaging.handlers:78:Started Channels.Control listener on channel 0\n",
      "2025-08-09 17:43:30 - INFO:tastytrade.messaging.handlers:78:Started Channels.Quote listener on channel 7\n",
      "2025-08-09 17:43:30 - INFO:tastytrade.messaging.handlers:78:Started Channels.Trade listener on channel 5\n",
      "2025-08-09 17:43:30 - INFO:tastytrade.messaging.handlers:78:Started Channels.Greeks listener on channel 11\n",
      "2025-08-09 17:43:30 - INFO:tastytrade.messaging.handlers:78:Started Channels.Profile listener on channel 1\n",
      "2025-08-09 17:43:30 - INFO:tastytrade.messaging.handlers:78:Started Channels.Summary listener on channel 3\n",
      "2025-08-09 17:43:30 - INFO:tastytrade.messaging.handlers:78:Started Channels.Candle listener on channel 9\n"
     ]
    },
    {
     "name": "stderr",
     "output_type": "stream",
     "text": [
      "2025-08-09 17:43:30 - INFO:tastytrade.messaging.handlers:225:SETUP\n",
      "2025-08-09 17:43:30 - INFO:tastytrade.messaging.handlers:228:AUTH_STATE:UNAUTHORIZED\n",
      "2025-08-09 17:43:30 - INFO:tastytrade.messaging.handlers:228:AUTH_STATE:UNAUTHORIZED\n",
      "2025-08-09 17:43:30 - INFO:tastytrade.messaging.handlers:228:AUTH_STATE:AUTHORIZED\n",
      "2025-08-09 17:43:30 - INFO:tastytrade.messaging.handlers:228:AUTH_STATE:AUTHORIZED\n",
      "2025-08-09 17:43:30 - INFO:tastytrade.messaging.handlers:231:CHANNEL_OPENED:1\n",
      "2025-08-09 17:43:30 - INFO:tastytrade.messaging.handlers:231:CHANNEL_OPENED:1\n",
      "2025-08-09 17:43:30 - INFO:tastytrade.messaging.handlers:231:CHANNEL_OPENED:3\n",
      "2025-08-09 17:43:30 - INFO:tastytrade.messaging.handlers:231:CHANNEL_OPENED:3\n",
      "2025-08-09 17:43:30 - INFO:tastytrade.messaging.handlers:231:CHANNEL_OPENED:5\n",
      "2025-08-09 17:43:30 - INFO:tastytrade.messaging.handlers:231:CHANNEL_OPENED:5\n",
      "2025-08-09 17:43:30 - INFO:tastytrade.messaging.handlers:231:CHANNEL_OPENED:7\n",
      "2025-08-09 17:43:30 - INFO:tastytrade.messaging.handlers:231:CHANNEL_OPENED:7\n",
      "2025-08-09 17:43:30 - INFO:tastytrade.messaging.handlers:231:CHANNEL_OPENED:9\n",
      "2025-08-09 17:43:30 - INFO:tastytrade.messaging.handlers:231:CHANNEL_OPENED:9\n",
      "2025-08-09 17:43:30 - INFO:tastytrade.messaging.handlers:231:CHANNEL_OPENED:11\n",
      "2025-08-09 17:43:30 - INFO:tastytrade.messaging.handlers:231:CHANNEL_OPENED:11\n",
      "2025-08-09 17:43:30 - INFO:tastytrade.messaging.handlers:231:CHANNEL_OPENED:99\n",
      "2025-08-09 17:43:30 - INFO:tastytrade.messaging.handlers:231:CHANNEL_OPENED:99\n",
      "2025-08-09 17:43:30 - INFO:tastytrade.messaging.handlers:236:FEED_CONFIG:5:COMPACT\n",
      "2025-08-09 17:43:30 - INFO:tastytrade.messaging.handlers:236:FEED_CONFIG:5:COMPACT\n",
      "2025-08-09 17:43:30 - INFO:tastytrade.messaging.handlers:236:FEED_CONFIG:7:COMPACT\n",
      "2025-08-09 17:43:30 - INFO:tastytrade.messaging.handlers:236:FEED_CONFIG:7:COMPACT\n",
      "2025-08-09 17:43:30 - INFO:tastytrade.messaging.handlers:236:FEED_CONFIG:11:COMPACT\n",
      "2025-08-09 17:43:30 - INFO:tastytrade.messaging.handlers:236:FEED_CONFIG:11:COMPACT\n",
      "2025-08-09 17:43:30 - INFO:tastytrade.messaging.handlers:236:FEED_CONFIG:1:COMPACT\n",
      "2025-08-09 17:43:30 - INFO:tastytrade.messaging.handlers:236:FEED_CONFIG:1:COMPACT\n",
      "2025-08-09 17:43:30 - INFO:tastytrade.messaging.handlers:236:FEED_CONFIG:3:COMPACT\n",
      "2025-08-09 17:43:30 - INFO:tastytrade.messaging.handlers:236:FEED_CONFIG:3:COMPACT\n",
      "2025-08-09 17:43:30 - INFO:tastytrade.messaging.handlers:236:FEED_CONFIG:9:COMPACT\n",
      "2025-08-09 17:43:30 - INFO:tastytrade.messaging.handlers:236:FEED_CONFIG:9:COMPACT\n",
      "2025-08-09 17:43:32 - INFO:tastytrade.messaging.handlers:236:FEED_CONFIG:5:COMPACT:SUBSCRIBED\n",
      "2025-08-09 17:43:32 - INFO:tastytrade.messaging.handlers:236:FEED_CONFIG:5:COMPACT:SUBSCRIBED\n",
      "2025-08-09 17:43:32 - INFO:tastytrade.messaging.handlers:236:FEED_CONFIG:7:COMPACT:SUBSCRIBED\n",
      "2025-08-09 17:43:32 - INFO:tastytrade.messaging.handlers:236:FEED_CONFIG:7:COMPACT:SUBSCRIBED\n",
      "2025-08-09 17:43:32 - INFO:tastytrade.messaging.handlers:236:FEED_CONFIG:11:COMPACT:SUBSCRIBED\n",
      "2025-08-09 17:43:32 - INFO:tastytrade.messaging.handlers:236:FEED_CONFIG:11:COMPACT:SUBSCRIBED\n",
      "2025-08-09 17:43:32 - INFO:tastytrade.messaging.handlers:236:FEED_CONFIG:1:COMPACT:SUBSCRIBED\n",
      "2025-08-09 17:43:32 - INFO:tastytrade.messaging.handlers:236:FEED_CONFIG:1:COMPACT:SUBSCRIBED\n",
      "2025-08-09 17:43:32 - INFO:tastytrade.messaging.handlers:236:FEED_CONFIG:3:COMPACT:SUBSCRIBED\n",
      "2025-08-09 17:43:32 - INFO:tastytrade.messaging.handlers:236:FEED_CONFIG:3:COMPACT:SUBSCRIBED\n",
      "2025-08-09 17:43:32 - INFO:tastytrade.messaging.handlers:236:FEED_CONFIG:9:COMPACT:SUBSCRIBED\n",
      "2025-08-09 17:43:32 - INFO:tastytrade.messaging.handlers:236:FEED_CONFIG:9:COMPACT:SUBSCRIBED\n"
     ]
    }
   ],
   "source": [
    "config = RedisConfigManager(env_file=\"/workspace/.env\")\n",
    "config.initialize(force=True)\n",
    "credentials = Credentials(config=config, env=\"Live\")\n",
    "\n",
    "# DXLink with Redis-backed subscription store (for replay / state)\n",
    "dxlink = DXLinkManager(subscription_store=RedisSubscriptionStore())\n",
    "await dxlink.open(credentials=credentials)\n",
    "\n",
    "# Optional telemetry / distribution processors (Telegraf HTTP + Redis Pub/Sub)\n",
    "for handler in dxlink.router.handler.values():\n",
    "    handler.add_processor(TelegrafHTTPEventProcessor())\n",
    "    handler.add_processor(RedisEventProcessor())\n",
    "\n",
    "logging.info(\n",
    "    \"DXLink open; processors attached. Channels: %s\", list(dxlink.router.handler.keys())\n",
    ")"
   ]
  },
  {
   "cell_type": "markdown",
   "id": "4c8cc330",
   "metadata": {},
   "source": [
    "## Subscribe (Ticker + Candles)"
   ]
  },
  {
   "cell_type": "code",
   "execution_count": 17,
   "id": "25e0668a",
   "metadata": {},
   "outputs": [
    {
     "name": "stderr",
     "output_type": "stream",
     "text": [
      "2025-08-09 17:43:32 - INFO:tastytrade.connections.sockets:236:Added subscription: BTC/USD:CXTALP\n",
      "2025-08-09 17:43:32 - INFO:tastytrade.connections.sockets:236:Added subscription: BTC/USD:CXTALP{=m}\n",
      "2025-08-09 17:43:32 - INFO:tastytrade.connections.sockets:236:Added subscription: BTC/USD:CXTALP{=5m}\n",
      "2025-08-09 17:43:32 - INFO:tastytrade.connections.sockets:236:Added subscription: BTC/USD:CXTALP{=15m}\n",
      "2025-08-09 17:43:32 - INFO:tastytrade.connections.sockets:236:Added subscription: BTC/USD:CXTALP{=h}\n",
      "2025-08-09 17:43:32 - INFO:tastytrade.connections.sockets:236:Added subscription: BTC/USD:CXTALP{=4h}\n",
      "2025-08-09 17:43:32 - INFO:tastytrade.connections.sockets:236:Added subscription: BTC/USD:CXTALP{=m}\n",
      "2025-08-09 17:43:32 - INFO:tastytrade.connections.sockets:236:Added subscription: BTC/USD:CXTALP{=5m}\n",
      "2025-08-09 17:43:32 - INFO:tastytrade.connections.sockets:236:Added subscription: BTC/USD:CXTALP{=15m}\n",
      "2025-08-09 17:43:32 - INFO:tastytrade.connections.sockets:236:Added subscription: BTC/USD:CXTALP{=h}\n",
      "2025-08-09 17:43:32 - INFO:tastytrade.connections.sockets:236:Added subscription: BTC/USD:CXTALP{=4h}\n",
      "2025-08-09 17:43:32 - INFO:tastytrade.connections.sockets:236:Added subscription: BTC/USD:CXTALP{=d}\n",
      "2025-08-09 17:43:32 - INFO:root:11:Subscribed to BTC/USD:CXTALP (ticker + 6 candle intervals).\n",
      "2025-08-09 17:43:32 - INFO:tastytrade.connections.sockets:236:Added subscription: BTC/USD:CXTALP{=d}\n",
      "2025-08-09 17:43:32 - INFO:root:11:Subscribed to BTC/USD:CXTALP (ticker + 6 candle intervals).\n"
     ]
    }
   ],
   "source": [
    "# Ticker subscription\n",
    "await dxlink.subscribe([SYMBOL])\n",
    "\n",
    "# Candle subscriptions with bounded wait timeout\n",
    "for iv in CANDLE_INTERVALS:\n",
    "    coro = dxlink.subscribe_to_candles(\n",
    "        symbol=SYMBOL, interval=iv, from_time=BACKFILL_START\n",
    "    )\n",
    "    await asyncio.wait_for(coro, timeout=15)\n",
    "\n",
    "logging.info(\n",
    "    \"Subscribed to %s (ticker + %d candle intervals).\", SYMBOL, len(CANDLE_INTERVALS)\n",
    ")"
   ]
  },
  {
   "cell_type": "markdown",
   "id": "17c49296",
   "metadata": {},
   "source": [
    "## Forward Fill Recent History (Continuity)"
   ]
  },
  {
   "cell_type": "code",
   "execution_count": 18,
   "id": "fcd6d481",
   "metadata": {},
   "outputs": [
    {
     "name": "stderr",
     "output_type": "stream",
     "text": [
      "2025-08-09 17:43:33 - INFO:root:7:Forward fill completed.\n"
     ]
    }
   ],
   "source": [
    "from tastytrade.utils.time_series import forward_fill\n",
    "\n",
    "for iv in CANDLE_INTERVALS:\n",
    "    event_symbol = f\"{SYMBOL}{{={iv}}}\"\n",
    "    logging.debug(\"Forward-filling %s\", event_symbol)\n",
    "    forward_fill(symbol=event_symbol, lookback_days=FORWARD_FILL_LOOKBACK_DAYS)\n",
    "logging.info(\"Forward fill completed.\")"
   ]
  },
  {
   "cell_type": "markdown",
   "id": "6e9eb63e",
   "metadata": {},
   "source": [
    "## Plot: Recent Candles\n",
    "Interactive candlestick plot utilities. Run the setup cell, then either a one-shot render or a short live updating loop. Adjust interval or lookback as needed."
   ]
  },
  {
   "cell_type": "code",
   "execution_count": null,
   "id": "7802086a",
   "metadata": {},
   "outputs": [],
   "source": [
    "import plotly.graph_objects as go\n",
    "from datetime import timezone, timedelta\n",
    "\n",
    "\n",
    "def get_candle_frame(symbol: str, interval: str):\n",
    "    key = f\"{symbol}{{={interval}}}\"\n",
    "    candle_handler = dxlink.router.handler[Channels.Candle].processors[\"feed\"]\n",
    "    frame = candle_handler.frames.get(key)\n",
    "    if frame is None or frame.is_empty():\n",
    "        return None\n",
    "    # Attempt to find time-like column\n",
    "    for candidate in [\"time\", \"timestamp\", \"datetime\", \"ts\"]:\n",
    "        if candidate in frame.columns:\n",
    "            tcol = candidate\n",
    "            break\n",
    "    else:\n",
    "        # fabricate a positional index if no time column\n",
    "        frame = frame.with_row_count(name=\"row_index\")\n",
    "        tcol = \"row_index\"\n",
    "    # Ensure sorted ascending\n",
    "    try:\n",
    "        frame_sorted = frame.sort(by=tcol)\n",
    "    except Exception:\n",
    "        frame_sorted = frame\n",
    "    return frame_sorted, tcol\n",
    "\n",
    "\n",
    "interval_for_plot = \"5m\"  # adjust as desired\n",
    "lookback_rows = 120  # number of recent rows to display\n",
    "\n",
    "res = get_candle_frame(SYMBOL, interval_for_plot)\n",
    "if res is None:\n",
    "    display(Markdown(f\"_No candle data yet for {SYMBOL} {interval_for_plot}_\"))\n",
    "else:\n",
    "    frame_sorted, tcol = res\n",
    "    pl_slice = frame_sorted.tail(lookback_rows)\n",
    "    # Map plausible column names (robust to vendor changes)\n",
    "    colmap = {}\n",
    "    for logical, options in {\n",
    "        \"open\": [\"open\", \"o\"],\n",
    "        \"high\": [\"high\", \"h\"],\n",
    "        \"low\": [\"low\", \"l\"],\n",
    "        \"close\": [\"close\", \"c\", \"last\"],\n",
    "        \"volume\": [\"volume\", \"v\"],\n",
    "    }.items():\n",
    "        for opt in options:\n",
    "            if opt in pl_slice.columns:\n",
    "                colmap[logical] = opt\n",
    "                break\n",
    "    missing_ohlc = {k for k in [\"open\", \"high\", \"low\", \"close\"] if k not in colmap}\n",
    "    if missing_ohlc:\n",
    "        display(\n",
    "            Markdown(\n",
    "                f\"⚠️ Missing OHLC columns: {missing_ohlc}. Raw cols: {pl_slice.columns}\"\n",
    "            )\n",
    "        )\n",
    "    df = pl_slice.to_pandas()\n",
    "    fig = go.Figure(\n",
    "        data=[\n",
    "            go.Candlestick(\n",
    "                x=df[tcol],\n",
    "                open=df[colmap.get(\"open\")],\n",
    "                high=df[colmap.get(\"high\")],\n",
    "                low=df[colmap.get(\"low\")],\n",
    "                close=df[colmap.get(\"close\")],\n",
    "                increasing_line_color=\"#26a69a\",\n",
    "                decreasing_line_color=\"#ef5350\",\n",
    "                name=f\"{SYMBOL} {interval_for_plot}\",\n",
    "            )\n",
    "        ]\n",
    "    )\n",
    "    fig.update_layout(\n",
    "        title=f\"{SYMBOL} {interval_for_plot} — Last {len(df)} Bars\",\n",
    "        xaxis_title=\"Time\",\n",
    "        yaxis_title=\"Price\",\n",
    "        template=\"plotly_dark\",\n",
    "        height=600,\n",
    "        margin=dict(l=40, r=20, t=60, b=40),\n",
    "        xaxis_rangeslider_visible=False,\n",
    "    )\n",
    "    fig.show()"
   ]
  },
  {
   "cell_type": "markdown",
   "id": "bba5b3af",
   "metadata": {},
   "source": [
    "## Indicators: MACD & Hull (5m)\n",
    "Live incremental MACD + Hull using production realtime module helpers (`tastytrade.realtime.notebook`). Run the setup cell below to display a live-updating chart."
   ]
  },
  {
   "cell_type": "code",
   "execution_count": null,
   "id": "91f2fed5",
   "metadata": {},
   "outputs": [],
   "source": [
    "import asyncio\n",
    "from tastytrade.realtime.notebook import (\n",
    "    setup_realtime_chart,\n",
    "    start_chart_stream_task,\n",
    ")\n",
    "\n",
    "LIVE_INTERVAL = \"5m\"\n",
    "MIN_BOOTSTRAP_ROWS = 40\n",
    "POLL_SECS = 2.0\n",
    "\n",
    "chart = await setup_realtime_chart(\n",
    "    dxlink, SYMBOL, interval=LIVE_INTERVAL, min_rows=MIN_BOOTSTRAP_ROWS\n",
    ")\n",
    "fig = chart.figure\n",
    "fig.update_layout(height=720, title=f\"{SYMBOL} {LIVE_INTERVAL} — Live MACD + Hull\")\n",
    "fig.show()\n",
    "stream_task = start_chart_stream_task(\n",
    "    dxlink, chart, SYMBOL, interval=LIVE_INTERVAL, poll_secs=POLL_SECS\n",
    ")\n",
    "stream_task"
   ]
  },
  {
   "cell_type": "code",
   "execution_count": null,
   "id": "a92f45c5",
   "metadata": {},
   "outputs": [],
   "source": [
    "# OPTIONAL: short live updating candlestick loop (updates in-place)\n",
    "import plotly.graph_objects as go\n",
    "from IPython.display import display\n",
    "\n",
    "LIVE_UPDATE_INTERVAL = 5  # seconds\n",
    "LIVE_UPDATE_DURATION = 60  # total seconds (set None for indefinite)\n",
    "\n",
    "\n",
    "async def live_candles(\n",
    "    symbol: str, interval: str, update_secs: int = 5, total_secs: int | None = 60\n",
    "):\n",
    "    res = get_candle_frame(symbol, interval)\n",
    "    if res is None:\n",
    "        display(Markdown(f\"_No candle data yet for {symbol} {interval}_\"))\n",
    "        return\n",
    "    frame_sorted, tcol = res\n",
    "    df = frame_sorted.tail(lookback_rows).to_pandas()\n",
    "    fig = go.FigureWidget(\n",
    "        data=[\n",
    "            go.Candlestick(\n",
    "                x=df[tcol],\n",
    "                open=df[colmap.get(\"open\")] if \"open\" in colmap else None,\n",
    "                high=df[colmap.get(\"high\")] if \"high\" in colmap else None,\n",
    "                low=df[colmap.get(\"low\")],\n",
    "                close=df[colmap.get(\"close\")],\n",
    "                increasing_line_color=\"#26a69a\",\n",
    "                decreasing_line_color=\"#ef5350\",\n",
    "                name=f\"{symbol} {interval}\",\n",
    "            )\n",
    "        ]\n",
    "    )\n",
    "    fig.update_layout(\n",
    "        title=f\"Live {symbol} {interval}\",\n",
    "        xaxis_rangeslider_visible=False,\n",
    "        template=\"plotly_dark\",\n",
    "        height=600,\n",
    "        margin=dict(l=40, r=20, t=60, b=40),\n",
    "    )\n",
    "    display(fig)\n",
    "    start = time.time()\n",
    "    while True:\n",
    "        if total_secs is not None and (time.time() - start) > total_secs:\n",
    "            break\n",
    "        await asyncio.sleep(update_secs)\n",
    "        res = get_candle_frame(symbol, interval)\n",
    "        if res is None:\n",
    "            continue\n",
    "        frame_sorted, _ = res\n",
    "        df = frame_sorted.tail(lookback_rows).to_pandas()\n",
    "        with fig.batch_update():\n",
    "            fig.data[0].x = df[tcol]\n",
    "            fig.data[0].open = df.get(colmap.get(\"open\")) if \"open\" in colmap else None\n",
    "            fig.data[0].high = df.get(colmap.get(\"high\")) if \"high\" in colmap else None\n",
    "            fig.data[0].low = df.get(colmap.get(\"low\")) if \"low\" in colmap else None\n",
    "            fig.data[0].close = (\n",
    "                df.get(colmap.get(\"close\")) if \"close\" in colmap else None\n",
    "            )\n",
    "            fig.layout.title = (\n",
    "                f\"Live {symbol} {interval} — Updated {datetime.utcnow().isoformat()}\"\n",
    "            )\n",
    "\n",
    "\n",
    "# Run the live loop (uncomment to execute)\n",
    "# await live_candles(SYMBOL, interval_for_plot, update_secs=LIVE_UPDATE_INTERVAL, total_secs=LIVE_UPDATE_DURATION)"
   ]
  },
  {
   "cell_type": "markdown",
   "id": "4f56a0ef",
   "metadata": {},
   "source": [
    "## Ad-hoc Exploration"
   ]
  },
  {
   "cell_type": "code",
   "execution_count": null,
   "id": "b7e7184b",
   "metadata": {},
   "outputs": [],
   "source": [
    "# Example: access full quote frame\n",
    "dxlink.router.handler[Channels.Quote].processors[\"feed\"].pl.tail(10)"
   ]
  },
  {
   "cell_type": "code",
   "execution_count": null,
   "id": "ca786cce",
   "metadata": {},
   "outputs": [],
   "source": [
    "# Example: access a specific candle interval frame (e.g., 5m)\n",
    "iv = \"5m\"\n",
    "frame = (\n",
    "    dxlink.router.handler[Channels.Candle]\n",
    "    .processors[\"feed\"]\n",
    "    .frames.get(f\"{SYMBOL}{{={iv}}}\")\n",
    ")\n",
    "frame.tail(5) if frame is not None else \"No frame yet\""
   ]
  },
  {
   "cell_type": "markdown",
   "id": "6e18c017",
   "metadata": {},
   "source": [
    "## Shutdown"
   ]
  },
  {
   "cell_type": "code",
   "execution_count": null,
   "id": "decf3b33",
   "metadata": {},
   "outputs": [],
   "source": [
    "await dxlink.close()\n",
    "logging.info(\"DXLink closed. Notebook complete.\")"
   ]
  },
  {
   "cell_type": "code",
   "execution_count": null,
   "id": "2b4a817e",
   "metadata": {},
   "outputs": [],
   "source": []
  }
 ],
 "metadata": {
  "kernelspec": {
   "display_name": "tastytrade (3.11.13)",
   "language": "python",
   "name": "python3"
  },
  "language_info": {
   "codemirror_mode": {
    "name": "ipython",
    "version": 3
   },
   "file_extension": ".py",
   "mimetype": "text/x-python",
   "name": "python",
   "nbconvert_exporter": "python",
   "pygments_lexer": "ipython3",
   "version": "3.11.13"
  }
 },
 "nbformat": 4,
 "nbformat_minor": 5
}
