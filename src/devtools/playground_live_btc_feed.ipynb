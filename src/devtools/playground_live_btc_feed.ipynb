{
 "cells": [
  {
   "cell_type": "markdown",
   "id": "85796bc9",
   "metadata": {},
   "source": [
    "# Live Bitcoin Feed Playground (BTC/USD:CXTALP)\n",
    "Self-contained notebook to: (1) initialize config & connections, (2) subscribe to the live Bitcoin symbol (active on weekends), (3) stream quotes & recent candles, (4) explore frames, (5) cleanly shutdown.\n",
    "\n",
    "**Pipeline Touchpoints**: DXLink → Redis (pub/sub + cache) + Telegraf (HTTP) → (optionally) Influx. This notebook goes directly to DXLink (bypassing FastAPI edge) for lowest latency validation.\n",
    "\n",
    "**Stop / Rerun Guidance**: If a cell is interrupted mid-loop, re-run the subscription cell before restarting the watcher. Always run the shutdown cell before closing the notebook kernel."
   ]
  },
  {
   "cell_type": "code",
   "execution_count": 1,
   "id": "84472807",
   "metadata": {},
   "outputs": [
    {
     "name": "stderr",
     "output_type": "stream",
     "text": [
      "2025-08-09 17:39:22 - INFO:root:62:Logging initialized - writing to ../logs/dev_tastytrade_20250809.log\n",
      "2025-08-09 17:39:22 - INFO:root:32:Environment ready.\n",
      "2025-08-09 17:39:22 - INFO:root:32:Environment ready.\n"
     ]
    }
   ],
   "source": [
    "import asyncio, logging, os, math, time, textwrap\n",
    "from datetime import datetime\n",
    "import pandas as pd\n",
    "from IPython.display import display, clear_output, Markdown\n",
    "\n",
    "from tastytrade.common.logging import setup_logging\n",
    "from tastytrade.config import RedisConfigManager\n",
    "from tastytrade.connections import Credentials, InfluxCredentials\n",
    "from tastytrade.connections.subscription import RedisSubscriptionStore\n",
    "from tastytrade.connections.sockets import DXLinkManager\n",
    "from tastytrade.messaging.processors import (\n",
    "    TelegrafHTTPEventProcessor,\n",
    "    RedisEventProcessor,\n",
    ")\n",
    "from tastytrade.config.enumerations import Channels\n",
    "\n",
    "# Pandas display tuning for richer exploratory output\n",
    "pd.set_option(\"display.max_rows\", 100)\n",
    "pd.set_option(\"display.max_columns\", None)\n",
    "pd.set_option(\"display.width\", None)\n",
    "pd.set_option(\"display.max_colwidth\", None)\n",
    "\n",
    "logging.getLogger().handlers.clear()\n",
    "setup_logging(\n",
    "    level=logging.INFO,\n",
    "    log_dir=\"../logs\",\n",
    "    filename_prefix=\"dev_tastytrade\",\n",
    "    console=True,\n",
    "    file=True,\n",
    ")\n",
    "logging.getLogger(\"asyncio\").setLevel(logging.WARNING)\n",
    "logging.info(\"Environment ready.\")"
   ]
  },
  {
   "cell_type": "markdown",
   "id": "db749621",
   "metadata": {},
   "source": [
    "## Parameters"
   ]
  },
  {
   "cell_type": "code",
   "execution_count": 2,
   "id": "cd6789a8",
   "metadata": {},
   "outputs": [
    {
     "name": "stderr",
     "output_type": "stream",
     "text": [
      "2025-08-09 17:39:22 - INFO:root:15:Parameters set for BTC/USD:CXTALP\n"
     ]
    }
   ],
   "source": [
    "# Core symbol (weekend-active crypto)\n",
    "SYMBOL = \"BTC/USD:CXTALP\"\n",
    "# Candle intervals to watch (ordered smallest→largest)\n",
    "CANDLE_INTERVALS = [\"m\", \"5m\", \"15m\", \"1h\", \"4h\", \"1d\"]\n",
    "# Backfill start reference (adjust as desired)\n",
    "BACKFILL_START = datetime.utcnow().replace(hour=0, minute=0, second=0, microsecond=0)\n",
    "# Watch loop runtime (seconds); set None for indefinite (Ctrl+C to interrupt)\n",
    "WATCH_SECONDS = 90\n",
    "# Refresh period for live panel\n",
    "REFRESH_SECS = 5\n",
    "# Forward fill lookback days (for continuity)\n",
    "FORWARD_FILL_LOOKBACK_DAYS = 3\n",
    "\n",
    "SYMBOL_EVENT_PREFIX = SYMBOL  # raw symbol used by subscription helpers\n",
    "logging.info(\"Parameters set for %s\", SYMBOL)"
   ]
  },
  {
   "cell_type": "markdown",
   "id": "2643c94f",
   "metadata": {},
   "source": [
    "## Open Connections & Wire Processors"
   ]
  },
  {
   "cell_type": "code",
   "execution_count": null,
   "id": "86df85e3",
   "metadata": {},
   "outputs": [
    {
     "name": "stderr",
     "output_type": "stream",
     "text": [
      "2025-08-09 17:39:22 - INFO:tastytrade.config.manager:174:Initialized 19 variables from .env file in Redis\n",
      "2025-08-09 17:39:23 - INFO:tastytrade.connections.requests:148:Session created successfully\n",
      "2025-08-09 17:39:23 - INFO:tastytrade.connections.requests:148:Session created successfully\n",
      "2025-08-09 17:39:23 - INFO:tastytrade.connections.subscription:118:Redis ping response: True\n",
      "2025-08-09 17:39:23 - INFO:tastytrade.connections.subscription:122:Redis version: 7.4.3\n",
      "2025-08-09 17:39:23 - INFO:tastytrade.connections.subscription:123:Connected clients: 3\n",
      "2025-08-09 17:39:23 - INFO:tastytrade.connections.subscription:118:Redis ping response: True\n",
      "2025-08-09 17:39:23 - INFO:tastytrade.connections.subscription:122:Redis version: 7.4.3\n",
      "2025-08-09 17:39:23 - INFO:tastytrade.connections.subscription:123:Connected clients: 3\n",
      "2025-08-09 17:39:23 - INFO:root:14:DXLink open; processors attached. Channels: [<Channels.Control: 0>, <Channels.Quote: 7>, <Channels.Trade: 5>, <Channels.Greeks: 11>, <Channels.Profile: 1>, <Channels.Summary: 3>, <Channels.Candle: 9>]\n",
      "2025-08-09 17:39:23 - INFO:tastytrade.messaging.handlers:78:Started Channels.Control listener on channel 0\n",
      "2025-08-09 17:39:23 - INFO:tastytrade.messaging.handlers:78:Started Channels.Quote listener on channel 7\n",
      "2025-08-09 17:39:23 - INFO:tastytrade.messaging.handlers:78:Started Channels.Trade listener on channel 5\n",
      "2025-08-09 17:39:23 - INFO:tastytrade.messaging.handlers:78:Started Channels.Greeks listener on channel 11\n",
      "2025-08-09 17:39:23 - INFO:tastytrade.messaging.handlers:78:Started Channels.Profile listener on channel 1\n",
      "2025-08-09 17:39:23 - INFO:tastytrade.messaging.handlers:78:Started Channels.Summary listener on channel 3\n",
      "2025-08-09 17:39:23 - INFO:tastytrade.messaging.handlers:78:Started Channels.Candle listener on channel 9\n",
      "2025-08-09 17:39:23 - INFO:root:14:DXLink open; processors attached. Channels: [<Channels.Control: 0>, <Channels.Quote: 7>, <Channels.Trade: 5>, <Channels.Greeks: 11>, <Channels.Profile: 1>, <Channels.Summary: 3>, <Channels.Candle: 9>]\n",
      "2025-08-09 17:39:23 - INFO:tastytrade.messaging.handlers:78:Started Channels.Control listener on channel 0\n",
      "2025-08-09 17:39:23 - INFO:tastytrade.messaging.handlers:78:Started Channels.Quote listener on channel 7\n",
      "2025-08-09 17:39:23 - INFO:tastytrade.messaging.handlers:78:Started Channels.Trade listener on channel 5\n",
      "2025-08-09 17:39:23 - INFO:tastytrade.messaging.handlers:78:Started Channels.Greeks listener on channel 11\n",
      "2025-08-09 17:39:23 - INFO:tastytrade.messaging.handlers:78:Started Channels.Profile listener on channel 1\n",
      "2025-08-09 17:39:23 - INFO:tastytrade.messaging.handlers:78:Started Channels.Summary listener on channel 3\n",
      "2025-08-09 17:39:23 - INFO:tastytrade.messaging.handlers:78:Started Channels.Candle listener on channel 9\n"
     ]
    },
    {
     "name": "stderr",
     "output_type": "stream",
     "text": [
      "2025-08-09 17:39:23 - INFO:tastytrade.messaging.handlers:225:SETUP\n",
      "2025-08-09 17:39:23 - INFO:tastytrade.messaging.handlers:228:AUTH_STATE:UNAUTHORIZED\n",
      "2025-08-09 17:39:23 - INFO:tastytrade.messaging.handlers:228:AUTH_STATE:UNAUTHORIZED\n",
      "2025-08-09 17:39:23 - INFO:tastytrade.messaging.handlers:228:AUTH_STATE:AUTHORIZED\n",
      "2025-08-09 17:39:23 - INFO:tastytrade.messaging.handlers:228:AUTH_STATE:AUTHORIZED\n",
      "2025-08-09 17:39:23 - INFO:tastytrade.messaging.handlers:231:CHANNEL_OPENED:1\n",
      "2025-08-09 17:39:23 - INFO:tastytrade.messaging.handlers:231:CHANNEL_OPENED:1\n",
      "2025-08-09 17:39:23 - INFO:tastytrade.messaging.handlers:231:CHANNEL_OPENED:3\n",
      "2025-08-09 17:39:23 - INFO:tastytrade.messaging.handlers:231:CHANNEL_OPENED:3\n",
      "2025-08-09 17:39:23 - INFO:tastytrade.messaging.handlers:231:CHANNEL_OPENED:5\n",
      "2025-08-09 17:39:23 - INFO:tastytrade.messaging.handlers:231:CHANNEL_OPENED:5\n",
      "2025-08-09 17:39:23 - INFO:tastytrade.messaging.handlers:231:CHANNEL_OPENED:7\n",
      "2025-08-09 17:39:23 - INFO:tastytrade.messaging.handlers:231:CHANNEL_OPENED:7\n",
      "2025-08-09 17:39:23 - INFO:tastytrade.messaging.handlers:231:CHANNEL_OPENED:9\n",
      "2025-08-09 17:39:23 - INFO:tastytrade.messaging.handlers:231:CHANNEL_OPENED:9\n",
      "2025-08-09 17:39:23 - INFO:tastytrade.messaging.handlers:231:CHANNEL_OPENED:11\n",
      "2025-08-09 17:39:23 - INFO:tastytrade.messaging.handlers:231:CHANNEL_OPENED:11\n",
      "2025-08-09 17:39:23 - INFO:tastytrade.messaging.handlers:231:CHANNEL_OPENED:99\n",
      "2025-08-09 17:39:23 - INFO:tastytrade.messaging.handlers:231:CHANNEL_OPENED:99\n",
      "2025-08-09 17:39:23 - INFO:tastytrade.messaging.handlers:236:FEED_CONFIG:5:COMPACT\n",
      "2025-08-09 17:39:23 - INFO:tastytrade.messaging.handlers:236:FEED_CONFIG:5:COMPACT\n",
      "2025-08-09 17:39:23 - INFO:tastytrade.messaging.handlers:236:FEED_CONFIG:7:COMPACT\n",
      "2025-08-09 17:39:23 - INFO:tastytrade.messaging.handlers:236:FEED_CONFIG:7:COMPACT\n",
      "2025-08-09 17:39:23 - INFO:tastytrade.messaging.handlers:236:FEED_CONFIG:11:COMPACT\n",
      "2025-08-09 17:39:23 - INFO:tastytrade.messaging.handlers:236:FEED_CONFIG:11:COMPACT\n",
      "2025-08-09 17:39:23 - INFO:tastytrade.messaging.handlers:236:FEED_CONFIG:1:COMPACT\n",
      "2025-08-09 17:39:23 - INFO:tastytrade.messaging.handlers:236:FEED_CONFIG:1:COMPACT\n",
      "2025-08-09 17:39:23 - INFO:tastytrade.messaging.handlers:236:FEED_CONFIG:3:COMPACT\n",
      "2025-08-09 17:39:23 - INFO:tastytrade.messaging.handlers:236:FEED_CONFIG:3:COMPACT\n",
      "2025-08-09 17:39:23 - INFO:tastytrade.messaging.handlers:236:FEED_CONFIG:9:COMPACT\n",
      "2025-08-09 17:39:23 - INFO:tastytrade.messaging.handlers:236:FEED_CONFIG:9:COMPACT\n",
      "2025-08-09 17:39:23 - INFO:tastytrade.messaging.handlers:236:FEED_CONFIG:5:COMPACT:SUBSCRIBED\n",
      "2025-08-09 17:39:23 - INFO:tastytrade.messaging.handlers:236:FEED_CONFIG:5:COMPACT:SUBSCRIBED\n",
      "2025-08-09 17:39:23 - INFO:tastytrade.messaging.handlers:236:FEED_CONFIG:7:COMPACT:SUBSCRIBED\n",
      "2025-08-09 17:39:23 - INFO:tastytrade.messaging.handlers:236:FEED_CONFIG:7:COMPACT:SUBSCRIBED\n",
      "2025-08-09 17:39:23 - INFO:tastytrade.messaging.handlers:236:FEED_CONFIG:11:COMPACT:SUBSCRIBED\n",
      "2025-08-09 17:39:23 - INFO:tastytrade.messaging.handlers:236:FEED_CONFIG:11:COMPACT:SUBSCRIBED\n",
      "2025-08-09 17:39:23 - INFO:tastytrade.messaging.handlers:236:FEED_CONFIG:1:COMPACT:SUBSCRIBED\n",
      "2025-08-09 17:39:23 - INFO:tastytrade.messaging.handlers:236:FEED_CONFIG:1:COMPACT:SUBSCRIBED\n",
      "2025-08-09 17:39:23 - INFO:tastytrade.messaging.handlers:236:FEED_CONFIG:3:COMPACT:SUBSCRIBED\n",
      "2025-08-09 17:39:23 - INFO:tastytrade.messaging.handlers:236:FEED_CONFIG:3:COMPACT:SUBSCRIBED\n",
      "2025-08-09 17:39:23 - INFO:tastytrade.messaging.handlers:236:FEED_CONFIG:9:COMPACT:SUBSCRIBED\n",
      "2025-08-09 17:39:23 - INFO:tastytrade.messaging.handlers:236:FEED_CONFIG:9:COMPACT:SUBSCRIBED\n",
      "2025-08-09 17:40:55 - INFO:tastytrade.connections.sockets:176:Websocket listener stopped\n",
      "2025-08-09 17:40:55 - INFO:tastytrade.connections.sockets:176:Websocket listener stopped\n",
      "2025-08-09 17:40:55 - INFO:tastytrade.connections.sockets:190:Keepalive stopped\n",
      "2025-08-09 17:40:55 - INFO:tastytrade.connections.sockets:190:Keepalive stopped\n",
      "2025-08-09 17:40:55 - INFO:tastytrade.messaging.handlers:123:Control listener stopped for channel 0\n",
      "2025-08-09 17:40:55 - INFO:tastytrade.messaging.handlers:123:Control listener stopped for channel 0\n",
      "2025-08-09 17:40:55 - INFO:tastytrade.messaging.handlers:130:Channel 0 metrics - Total messages: 25, Errors: 0, Max queue size: 15\n",
      "2025-08-09 17:40:55 - INFO:tastytrade.messaging.handlers:130:Channel 0 metrics - Total messages: 25, Errors: 0, Max queue size: 15\n",
      "2025-08-09 17:40:55 - INFO:tastytrade.messaging.handlers:123:Quote listener stopped for channel 7\n",
      "2025-08-09 17:40:55 - INFO:tastytrade.messaging.handlers:123:Quote listener stopped for channel 7\n",
      "2025-08-09 17:40:55 - INFO:tastytrade.messaging.handlers:130:Channel 7 metrics - Total messages: 165, Errors: 0, Max queue size: 0\n",
      "2025-08-09 17:40:55 - INFO:tastytrade.messaging.handlers:130:Channel 7 metrics - Total messages: 165, Errors: 0, Max queue size: 0\n",
      "2025-08-09 17:40:55 - INFO:tastytrade.messaging.handlers:123:Trade listener stopped for channel 5\n",
      "2025-08-09 17:40:55 - INFO:tastytrade.messaging.handlers:123:Trade listener stopped for channel 5\n",
      "2025-08-09 17:40:55 - INFO:tastytrade.messaging.handlers:130:Channel 5 metrics - Total messages: 162, Errors: 0, Max queue size: 0\n",
      "2025-08-09 17:40:55 - INFO:tastytrade.messaging.handlers:130:Channel 5 metrics - Total messages: 162, Errors: 0, Max queue size: 0\n",
      "2025-08-09 17:40:55 - INFO:tastytrade.messaging.handlers:123:Greeks listener stopped for channel 11\n",
      "2025-08-09 17:40:55 - INFO:tastytrade.messaging.handlers:123:Greeks listener stopped for channel 11\n",
      "2025-08-09 17:40:55 - INFO:tastytrade.messaging.handlers:130:Channel 11 metrics - Total messages: 0, Errors: 0, Max queue size: 0\n",
      "2025-08-09 17:40:55 - INFO:tastytrade.messaging.handlers:130:Channel 11 metrics - Total messages: 0, Errors: 0, Max queue size: 0\n",
      "2025-08-09 17:40:55 - INFO:tastytrade.messaging.handlers:123:Profile listener stopped for channel 1\n",
      "2025-08-09 17:40:55 - INFO:tastytrade.messaging.handlers:123:Profile listener stopped for channel 1\n",
      "2025-08-09 17:40:55 - INFO:tastytrade.messaging.handlers:130:Channel 1 metrics - Total messages: 1, Errors: 0, Max queue size: 0\n",
      "2025-08-09 17:40:55 - INFO:tastytrade.messaging.handlers:130:Channel 1 metrics - Total messages: 1, Errors: 0, Max queue size: 0\n",
      "2025-08-09 17:40:55 - INFO:tastytrade.messaging.handlers:123:Summary listener stopped for channel 3\n",
      "2025-08-09 17:40:55 - INFO:tastytrade.messaging.handlers:123:Summary listener stopped for channel 3\n",
      "2025-08-09 17:40:55 - INFO:tastytrade.messaging.handlers:130:Channel 3 metrics - Total messages: 1, Errors: 0, Max queue size: 0\n",
      "2025-08-09 17:40:55 - INFO:tastytrade.messaging.handlers:130:Channel 3 metrics - Total messages: 1, Errors: 0, Max queue size: 0\n",
      "2025-08-09 17:40:55 - INFO:tastytrade.messaging.handlers:123:Candle listener stopped for channel 9\n",
      "2025-08-09 17:40:55 - INFO:tastytrade.messaging.handlers:123:Candle listener stopped for channel 9\n",
      "2025-08-09 17:40:55 - INFO:tastytrade.messaging.handlers:130:Channel 9 metrics - Total messages: 183, Errors: 0, Max queue size: 15\n",
      "2025-08-09 17:40:55 - INFO:tastytrade.messaging.handlers:130:Channel 9 metrics - Total messages: 183, Errors: 0, Max queue size: 15\n"
     ]
    }
   ],
   "source": [
    "config = RedisConfigManager(env_file=\"/workspace/.env\")\n",
    "config.initialize(force=True)\n",
    "credentials = Credentials(config=config, env=\"Live\")\n",
    "\n",
    "# DXLink with Redis-backed subscription store (for replay / state)\n",
    "dxlink = DXLinkManager(subscription_store=RedisSubscriptionStore())\n",
    "await dxlink.open(credentials=credentials)\n",
    "\n",
    "# Optional telemetry / distribution processors (Telegraf HTTP + Redis Pub/Sub)\n",
    "for handler in dxlink.router.handler.values():\n",
    "    handler.add_processor(TelegrafHTTPEventProcessor())\n",
    "    handler.add_processor(RedisEventProcessor())\n",
    "\n",
    "logging.info(\n",
    "    \"DXLink open; processors attached. Channels: %s\", list(dxlink.router.handler.keys())\n",
    ")"
   ]
  },
  {
   "cell_type": "markdown",
   "id": "4c8cc330",
   "metadata": {},
   "source": [
    "## Subscribe (Ticker + Candles)"
   ]
  },
  {
   "cell_type": "code",
   "execution_count": 4,
   "id": "25e0668a",
   "metadata": {},
   "outputs": [
    {
     "name": "stderr",
     "output_type": "stream",
     "text": [
      "2025-08-09 17:39:23 - INFO:tastytrade.connections.sockets:236:Added subscription: BTC/USD:CXTALP\n",
      "2025-08-09 17:39:23 - INFO:tastytrade.connections.sockets:236:Added subscription: BTC/USD:CXTALP{=m}\n",
      "2025-08-09 17:39:23 - INFO:tastytrade.connections.sockets:236:Added subscription: BTC/USD:CXTALP{=5m}\n",
      "2025-08-09 17:39:23 - INFO:tastytrade.connections.sockets:236:Added subscription: BTC/USD:CXTALP{=15m}\n",
      "2025-08-09 17:39:23 - INFO:tastytrade.connections.sockets:236:Added subscription: BTC/USD:CXTALP{=h}\n",
      "2025-08-09 17:39:23 - INFO:tastytrade.connections.sockets:236:Added subscription: BTC/USD:CXTALP{=4h}\n",
      "2025-08-09 17:39:23 - INFO:tastytrade.connections.sockets:236:Added subscription: BTC/USD:CXTALP{=d}\n",
      "2025-08-09 17:39:23 - INFO:root:11:Subscribed to BTC/USD:CXTALP (ticker + 6 candle intervals).\n",
      "2025-08-09 17:39:23 - INFO:tastytrade.connections.sockets:236:Added subscription: BTC/USD:CXTALP{=m}\n",
      "2025-08-09 17:39:23 - INFO:tastytrade.connections.sockets:236:Added subscription: BTC/USD:CXTALP{=5m}\n",
      "2025-08-09 17:39:23 - INFO:tastytrade.connections.sockets:236:Added subscription: BTC/USD:CXTALP{=15m}\n",
      "2025-08-09 17:39:23 - INFO:tastytrade.connections.sockets:236:Added subscription: BTC/USD:CXTALP{=h}\n",
      "2025-08-09 17:39:23 - INFO:tastytrade.connections.sockets:236:Added subscription: BTC/USD:CXTALP{=4h}\n",
      "2025-08-09 17:39:23 - INFO:tastytrade.connections.sockets:236:Added subscription: BTC/USD:CXTALP{=d}\n",
      "2025-08-09 17:39:23 - INFO:root:11:Subscribed to BTC/USD:CXTALP (ticker + 6 candle intervals).\n"
     ]
    }
   ],
   "source": [
    "# Ticker subscription\n",
    "await dxlink.subscribe([SYMBOL])\n",
    "\n",
    "# Candle subscriptions with bounded wait timeout\n",
    "for iv in CANDLE_INTERVALS:\n",
    "    coro = dxlink.subscribe_to_candles(\n",
    "        symbol=SYMBOL, interval=iv, from_time=BACKFILL_START\n",
    "    )\n",
    "    await asyncio.wait_for(coro, timeout=15)\n",
    "\n",
    "logging.info(\n",
    "    \"Subscribed to %s (ticker + %d candle intervals).\", SYMBOL, len(CANDLE_INTERVALS)\n",
    ")"
   ]
  },
  {
   "cell_type": "markdown",
   "id": "17c49296",
   "metadata": {},
   "source": [
    "## Forward Fill Recent History (Continuity)"
   ]
  },
  {
   "cell_type": "code",
   "execution_count": 5,
   "id": "fcd6d481",
   "metadata": {},
   "outputs": [
    {
     "name": "stderr",
     "output_type": "stream",
     "text": [
      "2025-08-09 17:39:23 - INFO:root:7:Forward fill completed.\n"
     ]
    }
   ],
   "source": [
    "from tastytrade.utils.time_series import forward_fill\n",
    "\n",
    "for iv in CANDLE_INTERVALS:\n",
    "    event_symbol = f\"{SYMBOL}{{={iv}}}\"\n",
    "    logging.debug(\"Forward-filling %s\", event_symbol)\n",
    "    forward_fill(symbol=event_symbol, lookback_days=FORWARD_FILL_LOOKBACK_DAYS)\n",
    "logging.info(\"Forward fill completed.\")"
   ]
  },
  {
   "cell_type": "markdown",
   "id": "b4dc5192",
   "metadata": {},
   "source": [
    "## Live Watch Panel"
   ]
  },
  {
   "cell_type": "code",
   "execution_count": 6,
   "id": "38a493b6",
   "metadata": {},
   "outputs": [
    {
     "data": {
      "text/markdown": [
       "### Live Panel — BTC/USD:CXTALP (iter 18)"
      ],
      "text/plain": [
       "<IPython.core.display.Markdown object>"
      ]
     },
     "metadata": {},
     "output_type": "display_data"
    },
    {
     "data": {
      "text/markdown": [
       "**Last Quote**"
      ],
      "text/plain": [
       "<IPython.core.display.Markdown object>"
      ]
     },
     "metadata": {},
     "output_type": "display_data"
    },
    {
     "data": {
      "text/html": [
       "<div><style>\n",
       ".dataframe > thead > tr,\n",
       ".dataframe > tbody > tr {\n",
       "  text-align: right;\n",
       "  white-space: pre-wrap;\n",
       "}\n",
       "</style>\n",
       "<small>shape: (1, 5)</small><table border=\"1\" class=\"dataframe\"><thead><tr><th>eventSymbol</th><th>bidPrice</th><th>askPrice</th><th>bidSize</th><th>askSize</th></tr><tr><td>str</td><td>f64</td><td>f64</td><td>f64</td><td>f64</td></tr></thead><tbody><tr><td>&quot;BTC/USD:CXTALP&quot;</td><td>116150.08</td><td>117333.11</td><td>0.05</td><td>0.05</td></tr></tbody></table></div>"
      ],
      "text/plain": [
       "shape: (1, 5)\n",
       "┌────────────────┬───────────┬───────────┬─────────┬─────────┐\n",
       "│ eventSymbol    ┆ bidPrice  ┆ askPrice  ┆ bidSize ┆ askSize │\n",
       "│ ---            ┆ ---       ┆ ---       ┆ ---     ┆ ---     │\n",
       "│ str            ┆ f64       ┆ f64       ┆ f64     ┆ f64     │\n",
       "╞════════════════╪═══════════╪═══════════╪═════════╪═════════╡\n",
       "│ BTC/USD:CXTALP ┆ 116150.08 ┆ 117333.11 ┆ 0.05    ┆ 0.05    │\n",
       "└────────────────┴───────────┴───────────┴─────────┴─────────┘"
      ]
     },
     "metadata": {},
     "output_type": "display_data"
    },
    {
     "data": {
      "text/markdown": [
       "**Recent Candles (m)**"
      ],
      "text/plain": [
       "<IPython.core.display.Markdown object>"
      ]
     },
     "metadata": {},
     "output_type": "display_data"
    },
    {
     "data": {
      "text/html": [
       "<div><style>\n",
       ".dataframe > thead > tr,\n",
       ".dataframe > tbody > tr {\n",
       "  text-align: right;\n",
       "  white-space: pre-wrap;\n",
       "}\n",
       "</style>\n",
       "<small>shape: (8, 16)</small><table border=\"1\" class=\"dataframe\"><thead><tr><th>eventSymbol</th><th>time</th><th>eventFlags</th><th>index</th><th>sequence</th><th>count</th><th>open</th><th>high</th><th>low</th><th>close</th><th>volume</th><th>bidVolume</th><th>askVolume</th><th>openInterest</th><th>vwap</th><th>impVolatility</th></tr><tr><td>str</td><td>datetime[μs]</td><td>i64</td><td>i64</td><td>i64</td><td>i64</td><td>f64</td><td>f64</td><td>f64</td><td>f64</td><td>f64</td><td>f64</td><td>f64</td><td>f64</td><td>f64</td><td>f64</td></tr></thead><tbody><tr><td>&quot;BTC/USD:CXTALP{=m}&quot;</td><td>2025-08-09 17:40:00</td><td>0</td><td>7536641966289715200</td><td>0</td><td>502</td><td>116728.35</td><td>116748.7</td><td>116711.04</td><td>116741.6</td><td>null</td><td>null</td><td>null</td><td>0.0</td><td>null</td><td>null</td></tr><tr><td>&quot;BTC/USD:CXTALP{=m}&quot;</td><td>2025-08-09 17:39:00</td><td>0</td><td>7536641708591677440</td><td>0</td><td>594</td><td>116739.33</td><td>116746.14</td><td>116728.36</td><td>116728.36</td><td>null</td><td>null</td><td>null</td><td>0.0</td><td>null</td><td>null</td></tr><tr><td>&quot;BTC/USD:CXTALP{=m}&quot;</td><td>2025-08-09 17:38:00</td><td>0</td><td>7536641450893639680</td><td>0</td><td>939</td><td>116755.13</td><td>116763.23</td><td>116739.25</td><td>116739.33</td><td>null</td><td>null</td><td>null</td><td>0.0</td><td>null</td><td>null</td></tr><tr><td>&quot;BTC/USD:CXTALP{=m}&quot;</td><td>2025-08-09 17:37:00</td><td>0</td><td>7536641193195601920</td><td>0</td><td>881</td><td>116809.34</td><td>116809.49</td><td>116748.54</td><td>116754.91</td><td>null</td><td>null</td><td>null</td><td>0.0</td><td>null</td><td>null</td></tr><tr><td>&quot;BTC/USD:CXTALP{=m}&quot;</td><td>2025-08-09 17:36:00</td><td>0</td><td>7536640935497564160</td><td>0</td><td>880</td><td>116760.45</td><td>116815.73</td><td>116743.81</td><td>116809.34</td><td>null</td><td>null</td><td>null</td><td>0.0</td><td>null</td><td>null</td></tr><tr><td>&quot;BTC/USD:CXTALP{=m}&quot;</td><td>2025-08-09 17:35:00</td><td>0</td><td>7536640677799526400</td><td>0</td><td>543</td><td>116709.2</td><td>116764.85</td><td>116708.97</td><td>116760.4</td><td>null</td><td>null</td><td>null</td><td>0.0</td><td>null</td><td>null</td></tr><tr><td>&quot;BTC/USD:CXTALP{=m}&quot;</td><td>2025-08-09 17:34:00</td><td>0</td><td>7536640420101488640</td><td>0</td><td>512</td><td>116732.87</td><td>116732.87</td><td>116704.27</td><td>116707.53</td><td>null</td><td>null</td><td>null</td><td>0.0</td><td>null</td><td>null</td></tr><tr><td>&quot;BTC/USD:CXTALP{=m}&quot;</td><td>2025-08-09 17:33:00</td><td>0</td><td>7536640162403450880</td><td>0</td><td>114</td><td>116705.62</td><td>116734.96</td><td>116702.4</td><td>116729.96</td><td>null</td><td>null</td><td>null</td><td>0.0</td><td>null</td><td>null</td></tr></tbody></table></div>"
      ],
      "text/plain": [
       "shape: (8, 16)\n",
       "┌────────────┬────────────┬────────────┬────────────┬───┬───────────┬───────────┬──────┬───────────┐\n",
       "│ eventSymbo ┆ time       ┆ eventFlags ┆ index      ┆ … ┆ askVolume ┆ openInter ┆ vwap ┆ impVolati │\n",
       "│ l          ┆ ---        ┆ ---        ┆ ---        ┆   ┆ ---       ┆ est       ┆ ---  ┆ lity      │\n",
       "│ ---        ┆ datetime[μ ┆ i64        ┆ i64        ┆   ┆ f64       ┆ ---       ┆ f64  ┆ ---       │\n",
       "│ str        ┆ s]         ┆            ┆            ┆   ┆           ┆ f64       ┆      ┆ f64       │\n",
       "╞════════════╪════════════╪════════════╪════════════╪═══╪═══════════╪═══════════╪══════╪═══════════╡\n",
       "│ BTC/USD:CX ┆ 2025-08-09 ┆ 0          ┆ 7536641966 ┆ … ┆ null      ┆ 0.0       ┆ null ┆ null      │\n",
       "│ TALP{=m}   ┆ 17:40:00   ┆            ┆ 289715200  ┆   ┆           ┆           ┆      ┆           │\n",
       "│ BTC/USD:CX ┆ 2025-08-09 ┆ 0          ┆ 7536641708 ┆ … ┆ null      ┆ 0.0       ┆ null ┆ null      │\n",
       "│ TALP{=m}   ┆ 17:39:00   ┆            ┆ 591677440  ┆   ┆           ┆           ┆      ┆           │\n",
       "│ BTC/USD:CX ┆ 2025-08-09 ┆ 0          ┆ 7536641450 ┆ … ┆ null      ┆ 0.0       ┆ null ┆ null      │\n",
       "│ TALP{=m}   ┆ 17:38:00   ┆            ┆ 893639680  ┆   ┆           ┆           ┆      ┆           │\n",
       "│ BTC/USD:CX ┆ 2025-08-09 ┆ 0          ┆ 7536641193 ┆ … ┆ null      ┆ 0.0       ┆ null ┆ null      │\n",
       "│ TALP{=m}   ┆ 17:37:00   ┆            ┆ 195601920  ┆   ┆           ┆           ┆      ┆           │\n",
       "│ BTC/USD:CX ┆ 2025-08-09 ┆ 0          ┆ 7536640935 ┆ … ┆ null      ┆ 0.0       ┆ null ┆ null      │\n",
       "│ TALP{=m}   ┆ 17:36:00   ┆            ┆ 497564160  ┆   ┆           ┆           ┆      ┆           │\n",
       "│ BTC/USD:CX ┆ 2025-08-09 ┆ 0          ┆ 7536640677 ┆ … ┆ null      ┆ 0.0       ┆ null ┆ null      │\n",
       "│ TALP{=m}   ┆ 17:35:00   ┆            ┆ 799526400  ┆   ┆           ┆           ┆      ┆           │\n",
       "│ BTC/USD:CX ┆ 2025-08-09 ┆ 0          ┆ 7536640420 ┆ … ┆ null      ┆ 0.0       ┆ null ┆ null      │\n",
       "│ TALP{=m}   ┆ 17:34:00   ┆            ┆ 101488640  ┆   ┆           ┆           ┆      ┆           │\n",
       "│ BTC/USD:CX ┆ 2025-08-09 ┆ 0          ┆ 7536640162 ┆ … ┆ null      ┆ 0.0       ┆ null ┆ null      │\n",
       "│ TALP{=m}   ┆ 17:33:00   ┆            ┆ 403450880  ┆   ┆           ┆           ┆      ┆           │\n",
       "└────────────┴────────────┴────────────┴────────────┴───┴───────────┴───────────┴──────┴───────────┘"
      ]
     },
     "metadata": {},
     "output_type": "display_data"
    },
    {
     "name": "stderr",
     "output_type": "stream",
     "text": [
      "2025-08-09 17:40:54 - INFO:root:20:Watch loop reached 90s, exiting.\n"
     ]
    }
   ],
   "source": [
    "async def watch(symbol: str):\n",
    "    quote_handler = dxlink.router.handler[Channels.Quote].processors[\"feed\"]\n",
    "    candle_handler = dxlink.router.handler[Channels.Candle].processors[\"feed\"]\n",
    "    start = time.time()\n",
    "    iteration = 0\n",
    "    smallest_iv = CANDLE_INTERVALS[0]\n",
    "    candle_key = f\"{symbol}{{={smallest_iv}}}\"\n",
    "\n",
    "    # helper to find a plausible time-like column\n",
    "    def detect_time_col(cols):\n",
    "        candidates = {\"time\", \"timestamp\", \"ts\", \"datetime\"}\n",
    "        for c in cols:\n",
    "            if c.lower() in candidates:\n",
    "                return c\n",
    "        return None\n",
    "\n",
    "    while True:\n",
    "        now = time.time()\n",
    "        if WATCH_SECONDS is not None and (now - start) > WATCH_SECONDS:\n",
    "            logging.info(\"Watch loop reached %ds, exiting.\", WATCH_SECONDS)\n",
    "            break\n",
    "        iteration += 1\n",
    "        clear_output(wait=True)\n",
    "        display(Markdown(f\"### Live Panel — {symbol} (iter {iteration})\"))\n",
    "        # Quote frame (entire)\n",
    "        qf = quote_handler.pl\n",
    "        if not qf.is_empty():\n",
    "            tcol = detect_time_col(qf.columns)\n",
    "            if tcol:\n",
    "                try:\n",
    "                    last_quote = qf.sort(by=tcol).tail(1)\n",
    "                except Exception as e:\n",
    "                    logging.debug(\n",
    "                        \"Sort by %s failed: %s; falling back to tail(1)\", tcol, e\n",
    "                    )\n",
    "                    last_quote = qf.tail(1)\n",
    "            else:\n",
    "                last_quote = qf.tail(1)\n",
    "            display(Markdown(\"**Last Quote**\"))\n",
    "            display(last_quote)\n",
    "        else:\n",
    "            display(Markdown(\"_No quotes yet._\"))\n",
    "        # Candle frame (focused smallest interval)\n",
    "        cf = candle_handler.frames.get(candle_key)\n",
    "        if cf is not None and not cf.is_empty():\n",
    "            tcol2 = detect_time_col(cf.columns)\n",
    "            display(Markdown(f\"**Recent Candles ({smallest_iv})**\"))\n",
    "            if tcol2:\n",
    "                try:\n",
    "                    display(cf.sort(by=tcol2, descending=True).head(8))\n",
    "                except Exception as e:\n",
    "                    logging.debug(\n",
    "                        \"Candle sort by %s failed: %s; using tail()\", tcol2, e\n",
    "                    )\n",
    "                    display(cf.tail(8))\n",
    "            else:\n",
    "                display(cf.tail(8))\n",
    "        else:\n",
    "            display(Markdown(f\"_No candles yet for {candle_key}._\"))\n",
    "        await asyncio.sleep(REFRESH_SECS)\n",
    "\n",
    "\n",
    "await watch(SYMBOL)"
   ]
  },
  {
   "cell_type": "markdown",
   "id": "6e9eb63e",
   "metadata": {},
   "source": [
    "## Plot: Recent Candles\n",
    "Interactive candlestick plot utilities. Run the setup cell, then either a one-shot render or a short live updating loop. Adjust interval or lookback as needed."
   ]
  },
  {
   "cell_type": "code",
   "execution_count": 13,
   "id": "7802086a",
   "metadata": {},
   "outputs": [
    {
     "ename": "AttributeError",
     "evalue": "'NoneType' object has no attribute 'handler'",
     "output_type": "error",
     "traceback": [
      "\u001b[31m---------------------------------------------------------------------------\u001b[39m",
      "\u001b[31mAttributeError\u001b[39m                            Traceback (most recent call last)",
      "\u001b[36mCell\u001b[39m\u001b[36m \u001b[39m\u001b[32mIn[13]\u001b[39m\u001b[32m, line 31\u001b[39m\n\u001b[32m     28\u001b[39m interval_for_plot = \u001b[33m\"\u001b[39m\u001b[33m5m\u001b[39m\u001b[33m\"\u001b[39m  \u001b[38;5;66;03m# adjust as desired\u001b[39;00m\n\u001b[32m     29\u001b[39m lookback_rows = \u001b[32m120\u001b[39m  \u001b[38;5;66;03m# number of recent rows to display\u001b[39;00m\n\u001b[32m---> \u001b[39m\u001b[32m31\u001b[39m res = \u001b[43mget_candle_frame\u001b[49m\u001b[43m(\u001b[49m\u001b[43mSYMBOL\u001b[49m\u001b[43m,\u001b[49m\u001b[43m \u001b[49m\u001b[43minterval_for_plot\u001b[49m\u001b[43m)\u001b[49m\n\u001b[32m     32\u001b[39m \u001b[38;5;28;01mif\u001b[39;00m res \u001b[38;5;129;01mis\u001b[39;00m \u001b[38;5;28;01mNone\u001b[39;00m:\n\u001b[32m     33\u001b[39m     display(Markdown(\u001b[33mf\u001b[39m\u001b[33m\"\u001b[39m\u001b[33m_No candle data yet for \u001b[39m\u001b[38;5;132;01m{\u001b[39;00mSYMBOL\u001b[38;5;132;01m}\u001b[39;00m\u001b[33m \u001b[39m\u001b[38;5;132;01m{\u001b[39;00minterval_for_plot\u001b[38;5;132;01m}\u001b[39;00m\u001b[33m_\u001b[39m\u001b[33m\"\u001b[39m))\n",
      "\u001b[36mCell\u001b[39m\u001b[36m \u001b[39m\u001b[32mIn[13]\u001b[39m\u001b[32m, line 7\u001b[39m, in \u001b[36mget_candle_frame\u001b[39m\u001b[34m(symbol, interval)\u001b[39m\n\u001b[32m      5\u001b[39m \u001b[38;5;28;01mdef\u001b[39;00m\u001b[38;5;250m \u001b[39m\u001b[34mget_candle_frame\u001b[39m(symbol: \u001b[38;5;28mstr\u001b[39m, interval: \u001b[38;5;28mstr\u001b[39m):\n\u001b[32m      6\u001b[39m     key = \u001b[33mf\u001b[39m\u001b[33m\"\u001b[39m\u001b[38;5;132;01m{\u001b[39;00msymbol\u001b[38;5;132;01m}\u001b[39;00m\u001b[38;5;130;01m{{\u001b[39;00m\u001b[33m=\u001b[39m\u001b[38;5;132;01m{\u001b[39;00minterval\u001b[38;5;132;01m}\u001b[39;00m\u001b[38;5;130;01m}}\u001b[39;00m\u001b[33m\"\u001b[39m\n\u001b[32m----> \u001b[39m\u001b[32m7\u001b[39m     candle_handler = \u001b[43mdxlink\u001b[49m\u001b[43m.\u001b[49m\u001b[43mrouter\u001b[49m\u001b[43m.\u001b[49m\u001b[43mhandler\u001b[49m[Channels.Candle].processors[\u001b[33m\"\u001b[39m\u001b[33mfeed\u001b[39m\u001b[33m\"\u001b[39m]\n\u001b[32m      8\u001b[39m     frame = candle_handler.frames.get(key)\n\u001b[32m      9\u001b[39m     \u001b[38;5;28;01mif\u001b[39;00m frame \u001b[38;5;129;01mis\u001b[39;00m \u001b[38;5;28;01mNone\u001b[39;00m \u001b[38;5;129;01mor\u001b[39;00m frame.is_empty():\n",
      "\u001b[31mAttributeError\u001b[39m: 'NoneType' object has no attribute 'handler'"
     ]
    }
   ],
   "source": [
    "import plotly.graph_objects as go\n",
    "from datetime import timezone, timedelta\n",
    "\n",
    "\n",
    "def get_candle_frame(symbol: str, interval: str):\n",
    "    key = f\"{symbol}{{={interval}}}\"\n",
    "    candle_handler = dxlink.router.handler[Channels.Candle].processors[\"feed\"]\n",
    "    frame = candle_handler.frames.get(key)\n",
    "    if frame is None or frame.is_empty():\n",
    "        return None\n",
    "    # Attempt to find time-like column\n",
    "    for candidate in [\"time\", \"timestamp\", \"datetime\", \"ts\"]:\n",
    "        if candidate in frame.columns:\n",
    "            tcol = candidate\n",
    "            break\n",
    "    else:\n",
    "        # fabricate a positional index if no time column\n",
    "        frame = frame.with_row_count(name=\"row_index\")\n",
    "        tcol = \"row_index\"\n",
    "    # Ensure sorted ascending\n",
    "    try:\n",
    "        frame_sorted = frame.sort(by=tcol)\n",
    "    except Exception:\n",
    "        frame_sorted = frame\n",
    "    return frame_sorted, tcol\n",
    "\n",
    "\n",
    "interval_for_plot = \"5m\"  # adjust as desired\n",
    "lookback_rows = 120  # number of recent rows to display\n",
    "\n",
    "res = get_candle_frame(SYMBOL, interval_for_plot)\n",
    "if res is None:\n",
    "    display(Markdown(f\"_No candle data yet for {SYMBOL} {interval_for_plot}_\"))\n",
    "else:\n",
    "    frame_sorted, tcol = res\n",
    "    pl_slice = frame_sorted.tail(lookback_rows)\n",
    "    # Map plausible column names (robust to vendor changes)\n",
    "    colmap = {}\n",
    "    for logical, options in {\n",
    "        \"open\": [\"open\", \"o\"],\n",
    "        \"high\": [\"high\", \"h\"],\n",
    "        \"low\": [\"low\", \"l\"],\n",
    "        \"close\": [\"close\", \"c\", \"last\"],\n",
    "        \"volume\": [\"volume\", \"v\"],\n",
    "    }.items():\n",
    "        for opt in options:\n",
    "            if opt in pl_slice.columns:\n",
    "                colmap[logical] = opt\n",
    "                break\n",
    "    missing_ohlc = {k for k in [\"open\", \"high\", \"low\", \"close\"] if k not in colmap}\n",
    "    if missing_ohlc:\n",
    "        display(\n",
    "            Markdown(\n",
    "                f\"⚠️ Missing OHLC columns: {missing_ohlc}. Raw cols: {pl_slice.columns}\"\n",
    "            )\n",
    "        )\n",
    "    df = pl_slice.to_pandas()\n",
    "    fig = go.Figure(\n",
    "        data=[\n",
    "            go.Candlestick(\n",
    "                x=df[tcol],\n",
    "                open=df[colmap.get(\"open\")],\n",
    "                high=df[colmap.get(\"high\")],\n",
    "                low=df[colmap.get(\"low\")],\n",
    "                close=df[colmap.get(\"close\")],\n",
    "                increasing_line_color=\"#26a69a\",\n",
    "                decreasing_line_color=\"#ef5350\",\n",
    "                name=f\"{SYMBOL} {interval_for_plot}\",\n",
    "            )\n",
    "        ]\n",
    "    )\n",
    "    fig.update_layout(\n",
    "        title=f\"{SYMBOL} {interval_for_plot} — Last {len(df)} Bars\",\n",
    "        xaxis_title=\"Time\",\n",
    "        yaxis_title=\"Price\",\n",
    "        template=\"plotly_dark\",\n",
    "        height=600,\n",
    "        margin=dict(l=40, r=20, t=60, b=40),\n",
    "        xaxis_rangeslider_visible=False,\n",
    "    )\n",
    "    fig.show()"
   ]
  },
  {
   "cell_type": "markdown",
   "id": "bba5b3af",
   "metadata": {},
   "source": [
    "## Indicators: MACD & Hull (5m)\n",
    "Live incremental MACD + Hull using production realtime module helpers (`tastytrade.realtime.notebook`). Run the setup cell below to display a live-updating chart."
   ]
  },
  {
   "cell_type": "code",
   "execution_count": null,
   "id": "91f2fed5",
   "metadata": {},
   "outputs": [
    {
     "data": {
      "application/vnd.plotly.v1+json": {
       "config": {
        "plotlyServerURL": "https://plot.ly"
       },
       "data": [
        {
         "close": {
          "bdata": "uB6F6zmT/EDD9Shc45L8QI/C9ShIlPxAuB6F692T/ECkcD0Kb5T8QGZmZmaSlPxA9ihcj8Z6/EAfhetRlHv8QDMzMzNbe/xAH4XrUdx6/EAAAAAAxHj8QOF6FK5XePxAMzMzM8t2/ED2KFyP/nv8QFyPwvWcefxAMzMzM791/EDhehSum3T8QDMzMzMjdvxA4XoUrnd3/EAfhetRZHf8QM3MzMyce/xAFK5H4RZ4/ED2KFyP+nj8QOxRuB7JdvxAKVyPwp10/ED2KFyP9nP8QKRwPQrXcfxAKVyPwvFy/ECamZmZ2XL8QHE9Ctf7cfxAKVyPwvVw/EAzMzMzr3D8QNejcD0CcvxAFK5H4d5x/EA9CtejDHL8QK5H4XrwcPxApHA9Ctdv/EAAAAAAeG/8QHsUrkdNcvxA16NwPQpy/EApXI/C7XD8QNejcD2GcvxAuB6F6w1x/ECuR+F6CHL8QKRwPQpTcfxAPQrXo2hr/EBI4XoUCmv8QI/C9Shka/xAAAAAAEBr/EDsUbgecWz8QD0K16PAdvxAzczMzKxx/ECF61G4Nm/8QKRwPQo/cfxAexSuR6V5/ECF61G4qnv8QClcj8I9bvxArkfheiRs/EBcj8L1/Gz8QFK4HoV3b/xAexSuR9V2/ECamZmZkXz8QIXrUbhKdvxAw/UoXK+F/EA9CtejaJD8QEjhehRGkPxAhetRuFqP/ED2KFyPoon8QK5H4XrAi/xA4XoUrquL/EDhehSud4T8QFK4HoXXgfxAAAAAABh+/EB7FK5H0Xn8QM3MzMw8ePxAuB6F6wF8/EB7FK5HmX78QMP1KFyvevxAFK5H4VJ2/ED2KFyPOnz8QNejcD2yefxAexSuR7V4/EAfhetRnHn8QB+F61G8fPxAZmZmZv58/EBI4XoUTn78QD0K16NAgvxAH4XrUbyI/EAAAAAAsIb8QLgehes9i/xAKVyPwj2I/EA9CtejMIb8QI/C9SjAhPxAMzMzM5+D/EA9CtejLIP8QNejcD0ag/xAKVyPwlmD/EBmZmZmIob8QNejcD0uhPxAUrgehUeG/ED2KFyPnob8QGZmZmZ+ivxA4XoUru+H/ECPwvUoCJD8QAAAAACInPxA7FG4Hi2R/EBcj8L1zI78QK5H4XpMmfxAw/UoXJuV/EB7FK5HnaL8QPYoXI/+q/xA7FG4HtGl/EBcj8L1vKb8QIXrUbiepPxArkfherSo/ECkcD0K16b8QClcj8Jto/xAw/UoXM+k/EAK16Nwwaz8QKRwPQp3svxAexSuRy22/EBxPQrXK7j8QFyPwvVAwfxAcT0K1yfE/EDD9ShcC8T8QKRwPQpXwvxAUrgehZO//EDNzMzMbLf8QNejcD16svxAAAAAANix/EDNzMzMNK/8QPYoXI9irvxAXI/C9Wi//EC4HoXr8b/8QAAAAAB4tvxAzczMzICy/EBI4XoUJrv8QAAAAADwu/xAzczMzDy6/EApXI/CCZj8QDMzMzO/oPxAH4XrUYSZ/EDD9Shc7578QPYoXI9emfxAAAAAAOCW/EApXI/CYZn8QDMzMzNrn/xAKVyPwpGd/EAK16Nw7Zr8QB+F61HUnPxAZmZmZlqZ/EDhehSuZ5X8QB+F61FglPxAFK5H4WK7/EApXI/Cub38QPYoXI8ivfxA4XoUrge+/EC4HoXrSbn8QI/C9Sj4i/xAPQrXowiP/EAzMzMz/5L8QOF6FK5XkvxA4XoUrqeK/EDhehSuB5D8QHE9Ctd/kfxASOF6FJ6R/EBcj8L1xJP8QEjhehSuj/xArkfhenSJ/EDXo3A97or8QJqZmZkRkPxAzczMzJCL/EDsUbgeTY38QArXo3AZjvxA4XoUrg+J/EBI4XoUNoj8QK5H4XrYh/xAFK5H4RqI/EA9CtejkI38QArXo3BxkPxA7FG4HuF+/EBcj8L1qH38QPYoXI+ifvxAmpmZmeWW/EAAAAAA6Ij8QIXrUbjqh/xAhetRuCqJ/EB7FK5HKYf8QEjhehTWhvxAexSuR1WI/EA9Ctej/If8QArXo3CNi/xAcT0K11eK/EAUrkfhnon8QPYoXI+ah/xASOF6FGqF/EA9CtejnIH8QDMzMzMTgfxA16NwPTqB/EC4HoXrpX/8QKRwPQpHgvxAzczMzBR8/EBI4XoUun78QAAAAABgfPxA16NwPdp8/EBSuB6Ff4D8QKRwPQqTgvxAhetRuE6C/ECPwvUobID8QPYoXI9+gvxArkfhejh+/EApXI/ChX/8QI/C9SgYgPxA",
          "dtype": "f8"
         },
         "decreasing": {
          "line": {
           "color": "#ef5350"
          }
         },
         "high": {
          "bdata": "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",
          "dtype": "f8"
         },
         "increasing": {
          "line": {
           "color": "#26a69a"
          }
         },
         "low": {
          "bdata": "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",
          "dtype": "f8"
         },
         "name": "Price",
         "open": {
          "bdata": "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",
          "dtype": "f8"
         },
         "type": "candlestick",
         "x": [
          "2025-08-09T00:00:00.000000",
          "2025-08-09T00:05:00.000000",
          "2025-08-09T00:10:00.000000",
          "2025-08-09T00:15:00.000000",
          "2025-08-09T00:20:00.000000",
          "2025-08-09T00:25:00.000000",
          "2025-08-09T00:30:00.000000",
          "2025-08-09T00:35:00.000000",
          "2025-08-09T00:40:00.000000",
          "2025-08-09T00:45:00.000000",
          "2025-08-09T00:50:00.000000",
          "2025-08-09T00:55:00.000000",
          "2025-08-09T01:00:00.000000",
          "2025-08-09T01:05:00.000000",
          "2025-08-09T01:10:00.000000",
          "2025-08-09T01:15:00.000000",
          "2025-08-09T01:20:00.000000",
          "2025-08-09T01:25:00.000000",
          "2025-08-09T01:30:00.000000",
          "2025-08-09T01:35:00.000000",
          "2025-08-09T01:40:00.000000",
          "2025-08-09T01:45:00.000000",
          "2025-08-09T01:50:00.000000",
          "2025-08-09T01:55:00.000000",
          "2025-08-09T02:00:00.000000",
          "2025-08-09T02:05:00.000000",
          "2025-08-09T02:10:00.000000",
          "2025-08-09T02:15:00.000000",
          "2025-08-09T02:20:00.000000",
          "2025-08-09T02:25:00.000000",
          "2025-08-09T02:30:00.000000",
          "2025-08-09T02:35:00.000000",
          "2025-08-09T02:40:00.000000",
          "2025-08-09T02:45:00.000000",
          "2025-08-09T02:50:00.000000",
          "2025-08-09T02:55:00.000000",
          "2025-08-09T03:00:00.000000",
          "2025-08-09T03:05:00.000000",
          "2025-08-09T03:10:00.000000",
          "2025-08-09T03:15:00.000000",
          "2025-08-09T03:20:00.000000",
          "2025-08-09T03:25:00.000000",
          "2025-08-09T03:30:00.000000",
          "2025-08-09T03:35:00.000000",
          "2025-08-09T03:40:00.000000",
          "2025-08-09T03:45:00.000000",
          "2025-08-09T03:50:00.000000",
          "2025-08-09T03:55:00.000000",
          "2025-08-09T04:00:00.000000",
          "2025-08-09T04:05:00.000000",
          "2025-08-09T04:10:00.000000",
          "2025-08-09T04:15:00.000000",
          "2025-08-09T04:20:00.000000",
          "2025-08-09T04:25:00.000000",
          "2025-08-09T04:30:00.000000",
          "2025-08-09T04:35:00.000000",
          "2025-08-09T04:40:00.000000",
          "2025-08-09T04:45:00.000000",
          "2025-08-09T04:50:00.000000",
          "2025-08-09T04:55:00.000000",
          "2025-08-09T05:00:00.000000",
          "2025-08-09T05:05:00.000000",
          "2025-08-09T05:10:00.000000",
          "2025-08-09T05:15:00.000000",
          "2025-08-09T05:20:00.000000",
          "2025-08-09T05:25:00.000000",
          "2025-08-09T05:30:00.000000",
          "2025-08-09T05:35:00.000000",
          "2025-08-09T05:40:00.000000",
          "2025-08-09T05:45:00.000000",
          "2025-08-09T05:50:00.000000",
          "2025-08-09T05:55:00.000000",
          "2025-08-09T06:00:00.000000",
          "2025-08-09T06:05:00.000000",
          "2025-08-09T06:10:00.000000",
          "2025-08-09T06:15:00.000000",
          "2025-08-09T06:20:00.000000",
          "2025-08-09T06:25:00.000000",
          "2025-08-09T06:30:00.000000",
          "2025-08-09T06:35:00.000000",
          "2025-08-09T06:40:00.000000",
          "2025-08-09T06:45:00.000000",
          "2025-08-09T06:50:00.000000",
          "2025-08-09T06:55:00.000000",
          "2025-08-09T07:00:00.000000",
          "2025-08-09T07:05:00.000000",
          "2025-08-09T07:10:00.000000",
          "2025-08-09T07:15:00.000000",
          "2025-08-09T07:20:00.000000",
          "2025-08-09T07:25:00.000000",
          "2025-08-09T07:30:00.000000",
          "2025-08-09T07:35:00.000000",
          "2025-08-09T07:40:00.000000",
          "2025-08-09T07:45:00.000000",
          "2025-08-09T07:50:00.000000",
          "2025-08-09T07:55:00.000000",
          "2025-08-09T08:00:00.000000",
          "2025-08-09T08:05:00.000000",
          "2025-08-09T08:10:00.000000",
          "2025-08-09T08:15:00.000000",
          "2025-08-09T08:20:00.000000",
          "2025-08-09T08:25:00.000000",
          "2025-08-09T08:30:00.000000",
          "2025-08-09T08:35:00.000000",
          "2025-08-09T08:40:00.000000",
          "2025-08-09T08:45:00.000000",
          "2025-08-09T08:50:00.000000",
          "2025-08-09T08:55:00.000000",
          "2025-08-09T09:00:00.000000",
          "2025-08-09T09:05:00.000000",
          "2025-08-09T09:10:00.000000",
          "2025-08-09T09:15:00.000000",
          "2025-08-09T09:20:00.000000",
          "2025-08-09T09:25:00.000000",
          "2025-08-09T09:30:00.000000",
          "2025-08-09T09:35:00.000000",
          "2025-08-09T09:40:00.000000",
          "2025-08-09T09:45:00.000000",
          "2025-08-09T09:50:00.000000",
          "2025-08-09T09:55:00.000000",
          "2025-08-09T10:00:00.000000",
          "2025-08-09T10:05:00.000000",
          "2025-08-09T10:10:00.000000",
          "2025-08-09T10:15:00.000000",
          "2025-08-09T10:20:00.000000",
          "2025-08-09T10:25:00.000000",
          "2025-08-09T10:30:00.000000",
          "2025-08-09T10:35:00.000000",
          "2025-08-09T10:40:00.000000",
          "2025-08-09T10:45:00.000000",
          "2025-08-09T10:50:00.000000",
          "2025-08-09T10:55:00.000000",
          "2025-08-09T11:00:00.000000",
          "2025-08-09T11:05:00.000000",
          "2025-08-09T11:10:00.000000",
          "2025-08-09T11:15:00.000000",
          "2025-08-09T11:20:00.000000",
          "2025-08-09T11:25:00.000000",
          "2025-08-09T11:30:00.000000",
          "2025-08-09T11:35:00.000000",
          "2025-08-09T11:40:00.000000",
          "2025-08-09T11:45:00.000000",
          "2025-08-09T11:50:00.000000",
          "2025-08-09T11:55:00.000000",
          "2025-08-09T12:00:00.000000",
          "2025-08-09T12:05:00.000000",
          "2025-08-09T12:10:00.000000",
          "2025-08-09T12:15:00.000000",
          "2025-08-09T12:20:00.000000",
          "2025-08-09T12:25:00.000000",
          "2025-08-09T12:30:00.000000",
          "2025-08-09T12:35:00.000000",
          "2025-08-09T12:40:00.000000",
          "2025-08-09T12:45:00.000000",
          "2025-08-09T12:50:00.000000",
          "2025-08-09T12:55:00.000000",
          "2025-08-09T13:00:00.000000",
          "2025-08-09T13:05:00.000000",
          "2025-08-09T13:10:00.000000",
          "2025-08-09T13:15:00.000000",
          "2025-08-09T13:20:00.000000",
          "2025-08-09T13:25:00.000000",
          "2025-08-09T13:30:00.000000",
          "2025-08-09T13:35:00.000000",
          "2025-08-09T13:40:00.000000",
          "2025-08-09T13:45:00.000000",
          "2025-08-09T13:50:00.000000",
          "2025-08-09T13:55:00.000000",
          "2025-08-09T14:00:00.000000",
          "2025-08-09T14:05:00.000000",
          "2025-08-09T14:10:00.000000",
          "2025-08-09T14:15:00.000000",
          "2025-08-09T14:20:00.000000",
          "2025-08-09T14:25:00.000000",
          "2025-08-09T14:30:00.000000",
          "2025-08-09T14:35:00.000000",
          "2025-08-09T14:40:00.000000",
          "2025-08-09T14:45:00.000000",
          "2025-08-09T14:50:00.000000",
          "2025-08-09T14:55:00.000000",
          "2025-08-09T15:00:00.000000",
          "2025-08-09T15:05:00.000000",
          "2025-08-09T15:10:00.000000",
          "2025-08-09T15:15:00.000000",
          "2025-08-09T15:20:00.000000",
          "2025-08-09T15:25:00.000000",
          "2025-08-09T15:30:00.000000",
          "2025-08-09T15:35:00.000000",
          "2025-08-09T15:40:00.000000",
          "2025-08-09T15:45:00.000000",
          "2025-08-09T15:50:00.000000",
          "2025-08-09T15:55:00.000000",
          "2025-08-09T16:00:00.000000",
          "2025-08-09T16:05:00.000000",
          "2025-08-09T16:10:00.000000",
          "2025-08-09T16:15:00.000000",
          "2025-08-09T16:20:00.000000",
          "2025-08-09T16:25:00.000000",
          "2025-08-09T16:30:00.000000",
          "2025-08-09T16:35:00.000000",
          "2025-08-09T16:40:00.000000",
          "2025-08-09T16:45:00.000000",
          "2025-08-09T16:50:00.000000",
          "2025-08-09T16:55:00.000000",
          "2025-08-09T17:00:00.000000",
          "2025-08-09T17:05:00.000000",
          "2025-08-09T17:10:00.000000",
          "2025-08-09T17:15:00.000000",
          "2025-08-09T17:20:00.000000",
          "2025-08-09T17:25:00.000000",
          "2025-08-09T17:30:00.000000",
          "2025-08-09T17:35:00.000000",
          "2025-08-09T17:40:00.000000"
         ],
         "xaxis": "x",
         "yaxis": "y"
        },
        {
         "line": {
          "color": "#ffa600",
          "width": 2
         },
         "mode": "lines",
         "name": "Hull(55)",
         "type": "scatter",
         "x": [
          "2025-08-09T00:00:00.000000",
          "2025-08-09T00:05:00.000000",
          "2025-08-09T00:10:00.000000",
          "2025-08-09T00:15:00.000000",
          "2025-08-09T00:20:00.000000",
          "2025-08-09T00:25:00.000000",
          "2025-08-09T00:30:00.000000",
          "2025-08-09T00:35:00.000000",
          "2025-08-09T00:40:00.000000",
          "2025-08-09T00:45:00.000000",
          "2025-08-09T00:50:00.000000",
          "2025-08-09T00:55:00.000000",
          "2025-08-09T01:00:00.000000",
          "2025-08-09T01:05:00.000000",
          "2025-08-09T01:10:00.000000",
          "2025-08-09T01:15:00.000000",
          "2025-08-09T01:20:00.000000",
          "2025-08-09T01:25:00.000000",
          "2025-08-09T01:30:00.000000",
          "2025-08-09T01:35:00.000000",
          "2025-08-09T01:40:00.000000",
          "2025-08-09T01:45:00.000000",
          "2025-08-09T01:50:00.000000",
          "2025-08-09T01:55:00.000000",
          "2025-08-09T02:00:00.000000",
          "2025-08-09T02:05:00.000000",
          "2025-08-09T02:10:00.000000",
          "2025-08-09T02:15:00.000000",
          "2025-08-09T02:20:00.000000",
          "2025-08-09T02:25:00.000000",
          "2025-08-09T02:30:00.000000",
          "2025-08-09T02:35:00.000000",
          "2025-08-09T02:40:00.000000",
          "2025-08-09T02:45:00.000000",
          "2025-08-09T02:50:00.000000",
          "2025-08-09T02:55:00.000000",
          "2025-08-09T03:00:00.000000",
          "2025-08-09T03:05:00.000000",
          "2025-08-09T03:10:00.000000",
          "2025-08-09T03:15:00.000000",
          "2025-08-09T03:20:00.000000",
          "2025-08-09T03:25:00.000000",
          "2025-08-09T03:30:00.000000",
          "2025-08-09T03:35:00.000000",
          "2025-08-09T03:40:00.000000",
          "2025-08-09T03:45:00.000000",
          "2025-08-09T03:50:00.000000",
          "2025-08-09T03:55:00.000000",
          "2025-08-09T04:00:00.000000",
          "2025-08-09T04:05:00.000000",
          "2025-08-09T04:10:00.000000",
          "2025-08-09T04:15:00.000000",
          "2025-08-09T04:20:00.000000",
          "2025-08-09T04:25:00.000000",
          "2025-08-09T04:30:00.000000",
          "2025-08-09T04:35:00.000000",
          "2025-08-09T04:40:00.000000",
          "2025-08-09T04:45:00.000000",
          "2025-08-09T04:50:00.000000",
          "2025-08-09T04:55:00.000000",
          "2025-08-09T05:00:00.000000",
          "2025-08-09T05:05:00.000000",
          "2025-08-09T05:10:00.000000",
          "2025-08-09T05:15:00.000000",
          "2025-08-09T05:20:00.000000",
          "2025-08-09T05:25:00.000000",
          "2025-08-09T05:30:00.000000",
          "2025-08-09T05:35:00.000000",
          "2025-08-09T05:40:00.000000",
          "2025-08-09T05:45:00.000000",
          "2025-08-09T05:50:00.000000",
          "2025-08-09T05:55:00.000000",
          "2025-08-09T06:00:00.000000",
          "2025-08-09T06:05:00.000000",
          "2025-08-09T06:10:00.000000",
          "2025-08-09T06:15:00.000000",
          "2025-08-09T06:20:00.000000",
          "2025-08-09T06:25:00.000000",
          "2025-08-09T06:30:00.000000",
          "2025-08-09T06:35:00.000000",
          "2025-08-09T06:40:00.000000",
          "2025-08-09T06:45:00.000000",
          "2025-08-09T06:50:00.000000",
          "2025-08-09T06:55:00.000000",
          "2025-08-09T07:00:00.000000",
          "2025-08-09T07:05:00.000000",
          "2025-08-09T07:10:00.000000",
          "2025-08-09T07:15:00.000000",
          "2025-08-09T07:20:00.000000",
          "2025-08-09T07:25:00.000000",
          "2025-08-09T07:30:00.000000",
          "2025-08-09T07:35:00.000000",
          "2025-08-09T07:40:00.000000",
          "2025-08-09T07:45:00.000000",
          "2025-08-09T07:50:00.000000",
          "2025-08-09T07:55:00.000000",
          "2025-08-09T08:00:00.000000",
          "2025-08-09T08:05:00.000000",
          "2025-08-09T08:10:00.000000",
          "2025-08-09T08:15:00.000000",
          "2025-08-09T08:20:00.000000",
          "2025-08-09T08:25:00.000000",
          "2025-08-09T08:30:00.000000",
          "2025-08-09T08:35:00.000000",
          "2025-08-09T08:40:00.000000",
          "2025-08-09T08:45:00.000000",
          "2025-08-09T08:50:00.000000",
          "2025-08-09T08:55:00.000000",
          "2025-08-09T09:00:00.000000",
          "2025-08-09T09:05:00.000000",
          "2025-08-09T09:10:00.000000",
          "2025-08-09T09:15:00.000000",
          "2025-08-09T09:20:00.000000",
          "2025-08-09T09:25:00.000000",
          "2025-08-09T09:30:00.000000",
          "2025-08-09T09:35:00.000000",
          "2025-08-09T09:40:00.000000",
          "2025-08-09T09:45:00.000000",
          "2025-08-09T09:50:00.000000",
          "2025-08-09T09:55:00.000000",
          "2025-08-09T10:00:00.000000",
          "2025-08-09T10:05:00.000000",
          "2025-08-09T10:10:00.000000",
          "2025-08-09T10:15:00.000000",
          "2025-08-09T10:20:00.000000",
          "2025-08-09T10:25:00.000000",
          "2025-08-09T10:30:00.000000",
          "2025-08-09T10:35:00.000000",
          "2025-08-09T10:40:00.000000",
          "2025-08-09T10:45:00.000000",
          "2025-08-09T10:50:00.000000",
          "2025-08-09T10:55:00.000000",
          "2025-08-09T11:00:00.000000",
          "2025-08-09T11:05:00.000000",
          "2025-08-09T11:10:00.000000",
          "2025-08-09T11:15:00.000000",
          "2025-08-09T11:20:00.000000",
          "2025-08-09T11:25:00.000000",
          "2025-08-09T11:30:00.000000",
          "2025-08-09T11:35:00.000000",
          "2025-08-09T11:40:00.000000",
          "2025-08-09T11:45:00.000000",
          "2025-08-09T11:50:00.000000",
          "2025-08-09T11:55:00.000000",
          "2025-08-09T12:00:00.000000",
          "2025-08-09T12:05:00.000000",
          "2025-08-09T12:10:00.000000",
          "2025-08-09T12:15:00.000000",
          "2025-08-09T12:20:00.000000",
          "2025-08-09T12:25:00.000000",
          "2025-08-09T12:30:00.000000",
          "2025-08-09T12:35:00.000000",
          "2025-08-09T12:40:00.000000",
          "2025-08-09T12:45:00.000000",
          "2025-08-09T12:50:00.000000",
          "2025-08-09T12:55:00.000000",
          "2025-08-09T13:00:00.000000",
          "2025-08-09T13:05:00.000000",
          "2025-08-09T13:10:00.000000",
          "2025-08-09T13:15:00.000000",
          "2025-08-09T13:20:00.000000",
          "2025-08-09T13:25:00.000000",
          "2025-08-09T13:30:00.000000",
          "2025-08-09T13:35:00.000000",
          "2025-08-09T13:40:00.000000",
          "2025-08-09T13:45:00.000000",
          "2025-08-09T13:50:00.000000",
          "2025-08-09T13:55:00.000000",
          "2025-08-09T14:00:00.000000",
          "2025-08-09T14:05:00.000000",
          "2025-08-09T14:10:00.000000",
          "2025-08-09T14:15:00.000000",
          "2025-08-09T14:20:00.000000",
          "2025-08-09T14:25:00.000000",
          "2025-08-09T14:30:00.000000",
          "2025-08-09T14:35:00.000000",
          "2025-08-09T14:40:00.000000",
          "2025-08-09T14:45:00.000000",
          "2025-08-09T14:50:00.000000",
          "2025-08-09T14:55:00.000000",
          "2025-08-09T15:00:00.000000",
          "2025-08-09T15:05:00.000000",
          "2025-08-09T15:10:00.000000",
          "2025-08-09T15:15:00.000000",
          "2025-08-09T15:20:00.000000",
          "2025-08-09T15:25:00.000000",
          "2025-08-09T15:30:00.000000",
          "2025-08-09T15:35:00.000000",
          "2025-08-09T15:40:00.000000",
          "2025-08-09T15:45:00.000000",
          "2025-08-09T15:50:00.000000",
          "2025-08-09T15:55:00.000000",
          "2025-08-09T16:00:00.000000",
          "2025-08-09T16:05:00.000000",
          "2025-08-09T16:10:00.000000",
          "2025-08-09T16:15:00.000000",
          "2025-08-09T16:20:00.000000",
          "2025-08-09T16:25:00.000000",
          "2025-08-09T16:30:00.000000",
          "2025-08-09T16:35:00.000000",
          "2025-08-09T16:40:00.000000",
          "2025-08-09T16:45:00.000000",
          "2025-08-09T16:50:00.000000",
          "2025-08-09T16:55:00.000000",
          "2025-08-09T17:00:00.000000",
          "2025-08-09T17:05:00.000000",
          "2025-08-09T17:10:00.000000",
          "2025-08-09T17:15:00.000000",
          "2025-08-09T17:20:00.000000",
          "2025-08-09T17:25:00.000000",
          "2025-08-09T17:30:00.000000",
          "2025-08-09T17:35:00.000000",
          "2025-08-09T17:40:00.000000"
         ],
         "xaxis": "x",
         "y": {
          "bdata": "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",
          "dtype": "f8"
         },
         "yaxis": "y"
        },
        {
         "marker": {
          "color": [
           "#26a69a",
           "#ef5350",
           "#26a69a",
           "#26a69a",
           "#26a69a",
           "#26a69a",
           "#ef5350",
           "#ef5350",
           "#ef5350",
           "#ef5350",
           "#ef5350",
           "#ef5350",
           "#ef5350",
           "#ef5350",
           "#ef5350",
           "#ef5350",
           "#ef5350",
           "#ef5350",
           "#ef5350",
           "#ef5350",
           "#26a69a",
           "#26a69a",
           "#26a69a",
           "#26a69a",
           "#26a69a",
           "#26a69a",
           "#26a69a",
           "#26a69a",
           "#26a69a",
           "#26a69a",
           "#26a69a",
           "#26a69a",
           "#26a69a",
           "#26a69a",
           "#26a69a",
           "#26a69a",
           "#26a69a",
           "#26a69a",
           "#26a69a",
           "#26a69a",
           "#26a69a",
           "#26a69a",
           "#26a69a",
           "#26a69a",
           "#26a69a",
           "#26a69a",
           "#26a69a",
           "#ef5350",
           "#ef5350",
           "#ef5350",
           "#26a69a",
           "#26a69a",
           "#26a69a",
           "#26a69a",
           "#26a69a",
           "#26a69a",
           "#26a69a",
           "#26a69a",
           "#26a69a",
           "#26a69a",
           "#26a69a",
           "#26a69a",
           "#26a69a",
           "#26a69a",
           "#26a69a",
           "#26a69a",
           "#26a69a",
           "#26a69a",
           "#26a69a",
           "#26a69a",
           "#26a69a",
           "#26a69a",
           "#ef5350",
           "#ef5350",
           "#ef5350",
           "#ef5350",
           "#ef5350",
           "#ef5350",
           "#ef5350",
           "#ef5350",
           "#ef5350",
           "#ef5350",
           "#ef5350",
           "#ef5350",
           "#ef5350",
           "#ef5350",
           "#26a69a",
           "#26a69a",
           "#26a69a",
           "#26a69a",
           "#26a69a",
           "#26a69a",
           "#26a69a",
           "#26a69a",
           "#26a69a",
           "#ef5350",
           "#ef5350",
           "#ef5350",
           "#ef5350",
           "#ef5350",
           "#ef5350",
           "#26a69a",
           "#26a69a",
           "#26a69a",
           "#26a69a",
           "#26a69a",
           "#26a69a",
           "#26a69a",
           "#26a69a",
           "#26a69a",
           "#26a69a",
           "#26a69a",
           "#26a69a",
           "#26a69a",
           "#26a69a",
           "#26a69a",
           "#26a69a",
           "#26a69a",
           "#26a69a",
           "#26a69a",
           "#26a69a",
           "#26a69a",
           "#26a69a",
           "#26a69a",
           "#26a69a",
           "#26a69a",
           "#26a69a",
           "#26a69a",
           "#ef5350",
           "#ef5350",
           "#ef5350",
           "#ef5350",
           "#ef5350",
           "#ef5350",
           "#ef5350",
           "#ef5350",
           "#ef5350",
           "#ef5350",
           "#ef5350",
           "#ef5350",
           "#ef5350",
           "#ef5350",
           "#ef5350",
           "#ef5350",
           "#ef5350",
           "#ef5350",
           "#ef5350",
           "#ef5350",
           "#ef5350",
           "#ef5350",
           "#ef5350",
           "#ef5350",
           "#ef5350",
           "#26a69a",
           "#26a69a",
           "#26a69a",
           "#26a69a",
           "#26a69a",
           "#26a69a",
           "#ef5350",
           "#ef5350",
           "#ef5350",
           "#ef5350",
           "#ef5350",
           "#ef5350",
           "#ef5350",
           "#ef5350",
           "#ef5350",
           "#ef5350",
           "#ef5350",
           "#ef5350",
           "#ef5350",
           "#ef5350",
           "#ef5350",
           "#ef5350",
           "#ef5350",
           "#ef5350",
           "#ef5350",
           "#26a69a",
           "#26a69a",
           "#26a69a",
           "#ef5350",
           "#ef5350",
           "#26a69a",
           "#26a69a",
           "#26a69a",
           "#26a69a",
           "#26a69a",
           "#26a69a",
           "#26a69a",
           "#26a69a",
           "#26a69a",
           "#26a69a",
           "#26a69a",
           "#26a69a",
           "#26a69a",
           "#26a69a",
           "#ef5350",
           "#ef5350",
           "#ef5350",
           "#ef5350",
           "#ef5350",
           "#ef5350",
           "#ef5350",
           "#ef5350",
           "#ef5350",
           "#26a69a",
           "#26a69a",
           "#26a69a",
           "#26a69a",
           "#26a69a",
           "#26a69a",
           "#26a69a"
          ]
         },
         "name": "MACD Hist",
         "type": "bar",
         "x": [
          "2025-08-09T00:00:00.000000",
          "2025-08-09T00:05:00.000000",
          "2025-08-09T00:10:00.000000",
          "2025-08-09T00:15:00.000000",
          "2025-08-09T00:20:00.000000",
          "2025-08-09T00:25:00.000000",
          "2025-08-09T00:30:00.000000",
          "2025-08-09T00:35:00.000000",
          "2025-08-09T00:40:00.000000",
          "2025-08-09T00:45:00.000000",
          "2025-08-09T00:50:00.000000",
          "2025-08-09T00:55:00.000000",
          "2025-08-09T01:00:00.000000",
          "2025-08-09T01:05:00.000000",
          "2025-08-09T01:10:00.000000",
          "2025-08-09T01:15:00.000000",
          "2025-08-09T01:20:00.000000",
          "2025-08-09T01:25:00.000000",
          "2025-08-09T01:30:00.000000",
          "2025-08-09T01:35:00.000000",
          "2025-08-09T01:40:00.000000",
          "2025-08-09T01:45:00.000000",
          "2025-08-09T01:50:00.000000",
          "2025-08-09T01:55:00.000000",
          "2025-08-09T02:00:00.000000",
          "2025-08-09T02:05:00.000000",
          "2025-08-09T02:10:00.000000",
          "2025-08-09T02:15:00.000000",
          "2025-08-09T02:20:00.000000",
          "2025-08-09T02:25:00.000000",
          "2025-08-09T02:30:00.000000",
          "2025-08-09T02:35:00.000000",
          "2025-08-09T02:40:00.000000",
          "2025-08-09T02:45:00.000000",
          "2025-08-09T02:50:00.000000",
          "2025-08-09T02:55:00.000000",
          "2025-08-09T03:00:00.000000",
          "2025-08-09T03:05:00.000000",
          "2025-08-09T03:10:00.000000",
          "2025-08-09T03:15:00.000000",
          "2025-08-09T03:20:00.000000",
          "2025-08-09T03:25:00.000000",
          "2025-08-09T03:30:00.000000",
          "2025-08-09T03:35:00.000000",
          "2025-08-09T03:40:00.000000",
          "2025-08-09T03:45:00.000000",
          "2025-08-09T03:50:00.000000",
          "2025-08-09T03:55:00.000000",
          "2025-08-09T04:00:00.000000",
          "2025-08-09T04:05:00.000000",
          "2025-08-09T04:10:00.000000",
          "2025-08-09T04:15:00.000000",
          "2025-08-09T04:20:00.000000",
          "2025-08-09T04:25:00.000000",
          "2025-08-09T04:30:00.000000",
          "2025-08-09T04:35:00.000000",
          "2025-08-09T04:40:00.000000",
          "2025-08-09T04:45:00.000000",
          "2025-08-09T04:50:00.000000",
          "2025-08-09T04:55:00.000000",
          "2025-08-09T05:00:00.000000",
          "2025-08-09T05:05:00.000000",
          "2025-08-09T05:10:00.000000",
          "2025-08-09T05:15:00.000000",
          "2025-08-09T05:20:00.000000",
          "2025-08-09T05:25:00.000000",
          "2025-08-09T05:30:00.000000",
          "2025-08-09T05:35:00.000000",
          "2025-08-09T05:40:00.000000",
          "2025-08-09T05:45:00.000000",
          "2025-08-09T05:50:00.000000",
          "2025-08-09T05:55:00.000000",
          "2025-08-09T06:00:00.000000",
          "2025-08-09T06:05:00.000000",
          "2025-08-09T06:10:00.000000",
          "2025-08-09T06:15:00.000000",
          "2025-08-09T06:20:00.000000",
          "2025-08-09T06:25:00.000000",
          "2025-08-09T06:30:00.000000",
          "2025-08-09T06:35:00.000000",
          "2025-08-09T06:40:00.000000",
          "2025-08-09T06:45:00.000000",
          "2025-08-09T06:50:00.000000",
          "2025-08-09T06:55:00.000000",
          "2025-08-09T07:00:00.000000",
          "2025-08-09T07:05:00.000000",
          "2025-08-09T07:10:00.000000",
          "2025-08-09T07:15:00.000000",
          "2025-08-09T07:20:00.000000",
          "2025-08-09T07:25:00.000000",
          "2025-08-09T07:30:00.000000",
          "2025-08-09T07:35:00.000000",
          "2025-08-09T07:40:00.000000",
          "2025-08-09T07:45:00.000000",
          "2025-08-09T07:50:00.000000",
          "2025-08-09T07:55:00.000000",
          "2025-08-09T08:00:00.000000",
          "2025-08-09T08:05:00.000000",
          "2025-08-09T08:10:00.000000",
          "2025-08-09T08:15:00.000000",
          "2025-08-09T08:20:00.000000",
          "2025-08-09T08:25:00.000000",
          "2025-08-09T08:30:00.000000",
          "2025-08-09T08:35:00.000000",
          "2025-08-09T08:40:00.000000",
          "2025-08-09T08:45:00.000000",
          "2025-08-09T08:50:00.000000",
          "2025-08-09T08:55:00.000000",
          "2025-08-09T09:00:00.000000",
          "2025-08-09T09:05:00.000000",
          "2025-08-09T09:10:00.000000",
          "2025-08-09T09:15:00.000000",
          "2025-08-09T09:20:00.000000",
          "2025-08-09T09:25:00.000000",
          "2025-08-09T09:30:00.000000",
          "2025-08-09T09:35:00.000000",
          "2025-08-09T09:40:00.000000",
          "2025-08-09T09:45:00.000000",
          "2025-08-09T09:50:00.000000",
          "2025-08-09T09:55:00.000000",
          "2025-08-09T10:00:00.000000",
          "2025-08-09T10:05:00.000000",
          "2025-08-09T10:10:00.000000",
          "2025-08-09T10:15:00.000000",
          "2025-08-09T10:20:00.000000",
          "2025-08-09T10:25:00.000000",
          "2025-08-09T10:30:00.000000",
          "2025-08-09T10:35:00.000000",
          "2025-08-09T10:40:00.000000",
          "2025-08-09T10:45:00.000000",
          "2025-08-09T10:50:00.000000",
          "2025-08-09T10:55:00.000000",
          "2025-08-09T11:00:00.000000",
          "2025-08-09T11:05:00.000000",
          "2025-08-09T11:10:00.000000",
          "2025-08-09T11:15:00.000000",
          "2025-08-09T11:20:00.000000",
          "2025-08-09T11:25:00.000000",
          "2025-08-09T11:30:00.000000",
          "2025-08-09T11:35:00.000000",
          "2025-08-09T11:40:00.000000",
          "2025-08-09T11:45:00.000000",
          "2025-08-09T11:50:00.000000",
          "2025-08-09T11:55:00.000000",
          "2025-08-09T12:00:00.000000",
          "2025-08-09T12:05:00.000000",
          "2025-08-09T12:10:00.000000",
          "2025-08-09T12:15:00.000000",
          "2025-08-09T12:20:00.000000",
          "2025-08-09T12:25:00.000000",
          "2025-08-09T12:30:00.000000",
          "2025-08-09T12:35:00.000000",
          "2025-08-09T12:40:00.000000",
          "2025-08-09T12:45:00.000000",
          "2025-08-09T12:50:00.000000",
          "2025-08-09T12:55:00.000000",
          "2025-08-09T13:00:00.000000",
          "2025-08-09T13:05:00.000000",
          "2025-08-09T13:10:00.000000",
          "2025-08-09T13:15:00.000000",
          "2025-08-09T13:20:00.000000",
          "2025-08-09T13:25:00.000000",
          "2025-08-09T13:30:00.000000",
          "2025-08-09T13:35:00.000000",
          "2025-08-09T13:40:00.000000",
          "2025-08-09T13:45:00.000000",
          "2025-08-09T13:50:00.000000",
          "2025-08-09T13:55:00.000000",
          "2025-08-09T14:00:00.000000",
          "2025-08-09T14:05:00.000000",
          "2025-08-09T14:10:00.000000",
          "2025-08-09T14:15:00.000000",
          "2025-08-09T14:20:00.000000",
          "2025-08-09T14:25:00.000000",
          "2025-08-09T14:30:00.000000",
          "2025-08-09T14:35:00.000000",
          "2025-08-09T14:40:00.000000",
          "2025-08-09T14:45:00.000000",
          "2025-08-09T14:50:00.000000",
          "2025-08-09T14:55:00.000000",
          "2025-08-09T15:00:00.000000",
          "2025-08-09T15:05:00.000000",
          "2025-08-09T15:10:00.000000",
          "2025-08-09T15:15:00.000000",
          "2025-08-09T15:20:00.000000",
          "2025-08-09T15:25:00.000000",
          "2025-08-09T15:30:00.000000",
          "2025-08-09T15:35:00.000000",
          "2025-08-09T15:40:00.000000",
          "2025-08-09T15:45:00.000000",
          "2025-08-09T15:50:00.000000",
          "2025-08-09T15:55:00.000000",
          "2025-08-09T16:00:00.000000",
          "2025-08-09T16:05:00.000000",
          "2025-08-09T16:10:00.000000",
          "2025-08-09T16:15:00.000000",
          "2025-08-09T16:20:00.000000",
          "2025-08-09T16:25:00.000000",
          "2025-08-09T16:30:00.000000",
          "2025-08-09T16:35:00.000000",
          "2025-08-09T16:40:00.000000",
          "2025-08-09T16:45:00.000000",
          "2025-08-09T16:50:00.000000",
          "2025-08-09T16:55:00.000000",
          "2025-08-09T17:00:00.000000",
          "2025-08-09T17:05:00.000000",
          "2025-08-09T17:10:00.000000",
          "2025-08-09T17:15:00.000000",
          "2025-08-09T17:20:00.000000",
          "2025-08-09T17:25:00.000000",
          "2025-08-09T17:30:00.000000",
          "2025-08-09T17:35:00.000000",
          "2025-08-09T17:40:00.000000"
         ],
         "xaxis": "x2",
         "y": {
          "bdata": "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",
          "dtype": "f8"
         },
         "yaxis": "y2"
        },
        {
         "line": {
          "color": "#00bcd4"
         },
         "name": "MACD",
         "type": "scatter",
         "x": [
          "2025-08-09T00:00:00.000000",
          "2025-08-09T00:05:00.000000",
          "2025-08-09T00:10:00.000000",
          "2025-08-09T00:15:00.000000",
          "2025-08-09T00:20:00.000000",
          "2025-08-09T00:25:00.000000",
          "2025-08-09T00:30:00.000000",
          "2025-08-09T00:35:00.000000",
          "2025-08-09T00:40:00.000000",
          "2025-08-09T00:45:00.000000",
          "2025-08-09T00:50:00.000000",
          "2025-08-09T00:55:00.000000",
          "2025-08-09T01:00:00.000000",
          "2025-08-09T01:05:00.000000",
          "2025-08-09T01:10:00.000000",
          "2025-08-09T01:15:00.000000",
          "2025-08-09T01:20:00.000000",
          "2025-08-09T01:25:00.000000",
          "2025-08-09T01:30:00.000000",
          "2025-08-09T01:35:00.000000",
          "2025-08-09T01:40:00.000000",
          "2025-08-09T01:45:00.000000",
          "2025-08-09T01:50:00.000000",
          "2025-08-09T01:55:00.000000",
          "2025-08-09T02:00:00.000000",
          "2025-08-09T02:05:00.000000",
          "2025-08-09T02:10:00.000000",
          "2025-08-09T02:15:00.000000",
          "2025-08-09T02:20:00.000000",
          "2025-08-09T02:25:00.000000",
          "2025-08-09T02:30:00.000000",
          "2025-08-09T02:35:00.000000",
          "2025-08-09T02:40:00.000000",
          "2025-08-09T02:45:00.000000",
          "2025-08-09T02:50:00.000000",
          "2025-08-09T02:55:00.000000",
          "2025-08-09T03:00:00.000000",
          "2025-08-09T03:05:00.000000",
          "2025-08-09T03:10:00.000000",
          "2025-08-09T03:15:00.000000",
          "2025-08-09T03:20:00.000000",
          "2025-08-09T03:25:00.000000",
          "2025-08-09T03:30:00.000000",
          "2025-08-09T03:35:00.000000",
          "2025-08-09T03:40:00.000000",
          "2025-08-09T03:45:00.000000",
          "2025-08-09T03:50:00.000000",
          "2025-08-09T03:55:00.000000",
          "2025-08-09T04:00:00.000000",
          "2025-08-09T04:05:00.000000",
          "2025-08-09T04:10:00.000000",
          "2025-08-09T04:15:00.000000",
          "2025-08-09T04:20:00.000000",
          "2025-08-09T04:25:00.000000",
          "2025-08-09T04:30:00.000000",
          "2025-08-09T04:35:00.000000",
          "2025-08-09T04:40:00.000000",
          "2025-08-09T04:45:00.000000",
          "2025-08-09T04:50:00.000000",
          "2025-08-09T04:55:00.000000",
          "2025-08-09T05:00:00.000000",
          "2025-08-09T05:05:00.000000",
          "2025-08-09T05:10:00.000000",
          "2025-08-09T05:15:00.000000",
          "2025-08-09T05:20:00.000000",
          "2025-08-09T05:25:00.000000",
          "2025-08-09T05:30:00.000000",
          "2025-08-09T05:35:00.000000",
          "2025-08-09T05:40:00.000000",
          "2025-08-09T05:45:00.000000",
          "2025-08-09T05:50:00.000000",
          "2025-08-09T05:55:00.000000",
          "2025-08-09T06:00:00.000000",
          "2025-08-09T06:05:00.000000",
          "2025-08-09T06:10:00.000000",
          "2025-08-09T06:15:00.000000",
          "2025-08-09T06:20:00.000000",
          "2025-08-09T06:25:00.000000",
          "2025-08-09T06:30:00.000000",
          "2025-08-09T06:35:00.000000",
          "2025-08-09T06:40:00.000000",
          "2025-08-09T06:45:00.000000",
          "2025-08-09T06:50:00.000000",
          "2025-08-09T06:55:00.000000",
          "2025-08-09T07:00:00.000000",
          "2025-08-09T07:05:00.000000",
          "2025-08-09T07:10:00.000000",
          "2025-08-09T07:15:00.000000",
          "2025-08-09T07:20:00.000000",
          "2025-08-09T07:25:00.000000",
          "2025-08-09T07:30:00.000000",
          "2025-08-09T07:35:00.000000",
          "2025-08-09T07:40:00.000000",
          "2025-08-09T07:45:00.000000",
          "2025-08-09T07:50:00.000000",
          "2025-08-09T07:55:00.000000",
          "2025-08-09T08:00:00.000000",
          "2025-08-09T08:05:00.000000",
          "2025-08-09T08:10:00.000000",
          "2025-08-09T08:15:00.000000",
          "2025-08-09T08:20:00.000000",
          "2025-08-09T08:25:00.000000",
          "2025-08-09T08:30:00.000000",
          "2025-08-09T08:35:00.000000",
          "2025-08-09T08:40:00.000000",
          "2025-08-09T08:45:00.000000",
          "2025-08-09T08:50:00.000000",
          "2025-08-09T08:55:00.000000",
          "2025-08-09T09:00:00.000000",
          "2025-08-09T09:05:00.000000",
          "2025-08-09T09:10:00.000000",
          "2025-08-09T09:15:00.000000",
          "2025-08-09T09:20:00.000000",
          "2025-08-09T09:25:00.000000",
          "2025-08-09T09:30:00.000000",
          "2025-08-09T09:35:00.000000",
          "2025-08-09T09:40:00.000000",
          "2025-08-09T09:45:00.000000",
          "2025-08-09T09:50:00.000000",
          "2025-08-09T09:55:00.000000",
          "2025-08-09T10:00:00.000000",
          "2025-08-09T10:05:00.000000",
          "2025-08-09T10:10:00.000000",
          "2025-08-09T10:15:00.000000",
          "2025-08-09T10:20:00.000000",
          "2025-08-09T10:25:00.000000",
          "2025-08-09T10:30:00.000000",
          "2025-08-09T10:35:00.000000",
          "2025-08-09T10:40:00.000000",
          "2025-08-09T10:45:00.000000",
          "2025-08-09T10:50:00.000000",
          "2025-08-09T10:55:00.000000",
          "2025-08-09T11:00:00.000000",
          "2025-08-09T11:05:00.000000",
          "2025-08-09T11:10:00.000000",
          "2025-08-09T11:15:00.000000",
          "2025-08-09T11:20:00.000000",
          "2025-08-09T11:25:00.000000",
          "2025-08-09T11:30:00.000000",
          "2025-08-09T11:35:00.000000",
          "2025-08-09T11:40:00.000000",
          "2025-08-09T11:45:00.000000",
          "2025-08-09T11:50:00.000000",
          "2025-08-09T11:55:00.000000",
          "2025-08-09T12:00:00.000000",
          "2025-08-09T12:05:00.000000",
          "2025-08-09T12:10:00.000000",
          "2025-08-09T12:15:00.000000",
          "2025-08-09T12:20:00.000000",
          "2025-08-09T12:25:00.000000",
          "2025-08-09T12:30:00.000000",
          "2025-08-09T12:35:00.000000",
          "2025-08-09T12:40:00.000000",
          "2025-08-09T12:45:00.000000",
          "2025-08-09T12:50:00.000000",
          "2025-08-09T12:55:00.000000",
          "2025-08-09T13:00:00.000000",
          "2025-08-09T13:05:00.000000",
          "2025-08-09T13:10:00.000000",
          "2025-08-09T13:15:00.000000",
          "2025-08-09T13:20:00.000000",
          "2025-08-09T13:25:00.000000",
          "2025-08-09T13:30:00.000000",
          "2025-08-09T13:35:00.000000",
          "2025-08-09T13:40:00.000000",
          "2025-08-09T13:45:00.000000",
          "2025-08-09T13:50:00.000000",
          "2025-08-09T13:55:00.000000",
          "2025-08-09T14:00:00.000000",
          "2025-08-09T14:05:00.000000",
          "2025-08-09T14:10:00.000000",
          "2025-08-09T14:15:00.000000",
          "2025-08-09T14:20:00.000000",
          "2025-08-09T14:25:00.000000",
          "2025-08-09T14:30:00.000000",
          "2025-08-09T14:35:00.000000",
          "2025-08-09T14:40:00.000000",
          "2025-08-09T14:45:00.000000",
          "2025-08-09T14:50:00.000000",
          "2025-08-09T14:55:00.000000",
          "2025-08-09T15:00:00.000000",
          "2025-08-09T15:05:00.000000",
          "2025-08-09T15:10:00.000000",
          "2025-08-09T15:15:00.000000",
          "2025-08-09T15:20:00.000000",
          "2025-08-09T15:25:00.000000",
          "2025-08-09T15:30:00.000000",
          "2025-08-09T15:35:00.000000",
          "2025-08-09T15:40:00.000000",
          "2025-08-09T15:45:00.000000",
          "2025-08-09T15:50:00.000000",
          "2025-08-09T15:55:00.000000",
          "2025-08-09T16:00:00.000000",
          "2025-08-09T16:05:00.000000",
          "2025-08-09T16:10:00.000000",
          "2025-08-09T16:15:00.000000",
          "2025-08-09T16:20:00.000000",
          "2025-08-09T16:25:00.000000",
          "2025-08-09T16:30:00.000000",
          "2025-08-09T16:35:00.000000",
          "2025-08-09T16:40:00.000000",
          "2025-08-09T16:45:00.000000",
          "2025-08-09T16:50:00.000000",
          "2025-08-09T16:55:00.000000",
          "2025-08-09T17:00:00.000000",
          "2025-08-09T17:05:00.000000",
          "2025-08-09T17:10:00.000000",
          "2025-08-09T17:15:00.000000",
          "2025-08-09T17:20:00.000000",
          "2025-08-09T17:25:00.000000",
          "2025-08-09T17:30:00.000000",
          "2025-08-09T17:35:00.000000",
          "2025-08-09T17:40:00.000000"
         ],
         "xaxis": "x2",
         "y": {
          "bdata": "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",
          "dtype": "f8"
         },
         "yaxis": "y2"
        },
        {
         "line": {
          "color": "#ff4081",
          "dash": "dot"
         },
         "name": "Signal",
         "type": "scatter",
         "x": [
          "2025-08-09T00:00:00.000000",
          "2025-08-09T00:05:00.000000",
          "2025-08-09T00:10:00.000000",
          "2025-08-09T00:15:00.000000",
          "2025-08-09T00:20:00.000000",
          "2025-08-09T00:25:00.000000",
          "2025-08-09T00:30:00.000000",
          "2025-08-09T00:35:00.000000",
          "2025-08-09T00:40:00.000000",
          "2025-08-09T00:45:00.000000",
          "2025-08-09T00:50:00.000000",
          "2025-08-09T00:55:00.000000",
          "2025-08-09T01:00:00.000000",
          "2025-08-09T01:05:00.000000",
          "2025-08-09T01:10:00.000000",
          "2025-08-09T01:15:00.000000",
          "2025-08-09T01:20:00.000000",
          "2025-08-09T01:25:00.000000",
          "2025-08-09T01:30:00.000000",
          "2025-08-09T01:35:00.000000",
          "2025-08-09T01:40:00.000000",
          "2025-08-09T01:45:00.000000",
          "2025-08-09T01:50:00.000000",
          "2025-08-09T01:55:00.000000",
          "2025-08-09T02:00:00.000000",
          "2025-08-09T02:05:00.000000",
          "2025-08-09T02:10:00.000000",
          "2025-08-09T02:15:00.000000",
          "2025-08-09T02:20:00.000000",
          "2025-08-09T02:25:00.000000",
          "2025-08-09T02:30:00.000000",
          "2025-08-09T02:35:00.000000",
          "2025-08-09T02:40:00.000000",
          "2025-08-09T02:45:00.000000",
          "2025-08-09T02:50:00.000000",
          "2025-08-09T02:55:00.000000",
          "2025-08-09T03:00:00.000000",
          "2025-08-09T03:05:00.000000",
          "2025-08-09T03:10:00.000000",
          "2025-08-09T03:15:00.000000",
          "2025-08-09T03:20:00.000000",
          "2025-08-09T03:25:00.000000",
          "2025-08-09T03:30:00.000000",
          "2025-08-09T03:35:00.000000",
          "2025-08-09T03:40:00.000000",
          "2025-08-09T03:45:00.000000",
          "2025-08-09T03:50:00.000000",
          "2025-08-09T03:55:00.000000",
          "2025-08-09T04:00:00.000000",
          "2025-08-09T04:05:00.000000",
          "2025-08-09T04:10:00.000000",
          "2025-08-09T04:15:00.000000",
          "2025-08-09T04:20:00.000000",
          "2025-08-09T04:25:00.000000",
          "2025-08-09T04:30:00.000000",
          "2025-08-09T04:35:00.000000",
          "2025-08-09T04:40:00.000000",
          "2025-08-09T04:45:00.000000",
          "2025-08-09T04:50:00.000000",
          "2025-08-09T04:55:00.000000",
          "2025-08-09T05:00:00.000000",
          "2025-08-09T05:05:00.000000",
          "2025-08-09T05:10:00.000000",
          "2025-08-09T05:15:00.000000",
          "2025-08-09T05:20:00.000000",
          "2025-08-09T05:25:00.000000",
          "2025-08-09T05:30:00.000000",
          "2025-08-09T05:35:00.000000",
          "2025-08-09T05:40:00.000000",
          "2025-08-09T05:45:00.000000",
          "2025-08-09T05:50:00.000000",
          "2025-08-09T05:55:00.000000",
          "2025-08-09T06:00:00.000000",
          "2025-08-09T06:05:00.000000",
          "2025-08-09T06:10:00.000000",
          "2025-08-09T06:15:00.000000",
          "2025-08-09T06:20:00.000000",
          "2025-08-09T06:25:00.000000",
          "2025-08-09T06:30:00.000000",
          "2025-08-09T06:35:00.000000",
          "2025-08-09T06:40:00.000000",
          "2025-08-09T06:45:00.000000",
          "2025-08-09T06:50:00.000000",
          "2025-08-09T06:55:00.000000",
          "2025-08-09T07:00:00.000000",
          "2025-08-09T07:05:00.000000",
          "2025-08-09T07:10:00.000000",
          "2025-08-09T07:15:00.000000",
          "2025-08-09T07:20:00.000000",
          "2025-08-09T07:25:00.000000",
          "2025-08-09T07:30:00.000000",
          "2025-08-09T07:35:00.000000",
          "2025-08-09T07:40:00.000000",
          "2025-08-09T07:45:00.000000",
          "2025-08-09T07:50:00.000000",
          "2025-08-09T07:55:00.000000",
          "2025-08-09T08:00:00.000000",
          "2025-08-09T08:05:00.000000",
          "2025-08-09T08:10:00.000000",
          "2025-08-09T08:15:00.000000",
          "2025-08-09T08:20:00.000000",
          "2025-08-09T08:25:00.000000",
          "2025-08-09T08:30:00.000000",
          "2025-08-09T08:35:00.000000",
          "2025-08-09T08:40:00.000000",
          "2025-08-09T08:45:00.000000",
          "2025-08-09T08:50:00.000000",
          "2025-08-09T08:55:00.000000",
          "2025-08-09T09:00:00.000000",
          "2025-08-09T09:05:00.000000",
          "2025-08-09T09:10:00.000000",
          "2025-08-09T09:15:00.000000",
          "2025-08-09T09:20:00.000000",
          "2025-08-09T09:25:00.000000",
          "2025-08-09T09:30:00.000000",
          "2025-08-09T09:35:00.000000",
          "2025-08-09T09:40:00.000000",
          "2025-08-09T09:45:00.000000",
          "2025-08-09T09:50:00.000000",
          "2025-08-09T09:55:00.000000",
          "2025-08-09T10:00:00.000000",
          "2025-08-09T10:05:00.000000",
          "2025-08-09T10:10:00.000000",
          "2025-08-09T10:15:00.000000",
          "2025-08-09T10:20:00.000000",
          "2025-08-09T10:25:00.000000",
          "2025-08-09T10:30:00.000000",
          "2025-08-09T10:35:00.000000",
          "2025-08-09T10:40:00.000000",
          "2025-08-09T10:45:00.000000",
          "2025-08-09T10:50:00.000000",
          "2025-08-09T10:55:00.000000",
          "2025-08-09T11:00:00.000000",
          "2025-08-09T11:05:00.000000",
          "2025-08-09T11:10:00.000000",
          "2025-08-09T11:15:00.000000",
          "2025-08-09T11:20:00.000000",
          "2025-08-09T11:25:00.000000",
          "2025-08-09T11:30:00.000000",
          "2025-08-09T11:35:00.000000",
          "2025-08-09T11:40:00.000000",
          "2025-08-09T11:45:00.000000",
          "2025-08-09T11:50:00.000000",
          "2025-08-09T11:55:00.000000",
          "2025-08-09T12:00:00.000000",
          "2025-08-09T12:05:00.000000",
          "2025-08-09T12:10:00.000000",
          "2025-08-09T12:15:00.000000",
          "2025-08-09T12:20:00.000000",
          "2025-08-09T12:25:00.000000",
          "2025-08-09T12:30:00.000000",
          "2025-08-09T12:35:00.000000",
          "2025-08-09T12:40:00.000000",
          "2025-08-09T12:45:00.000000",
          "2025-08-09T12:50:00.000000",
          "2025-08-09T12:55:00.000000",
          "2025-08-09T13:00:00.000000",
          "2025-08-09T13:05:00.000000",
          "2025-08-09T13:10:00.000000",
          "2025-08-09T13:15:00.000000",
          "2025-08-09T13:20:00.000000",
          "2025-08-09T13:25:00.000000",
          "2025-08-09T13:30:00.000000",
          "2025-08-09T13:35:00.000000",
          "2025-08-09T13:40:00.000000",
          "2025-08-09T13:45:00.000000",
          "2025-08-09T13:50:00.000000",
          "2025-08-09T13:55:00.000000",
          "2025-08-09T14:00:00.000000",
          "2025-08-09T14:05:00.000000",
          "2025-08-09T14:10:00.000000",
          "2025-08-09T14:15:00.000000",
          "2025-08-09T14:20:00.000000",
          "2025-08-09T14:25:00.000000",
          "2025-08-09T14:30:00.000000",
          "2025-08-09T14:35:00.000000",
          "2025-08-09T14:40:00.000000",
          "2025-08-09T14:45:00.000000",
          "2025-08-09T14:50:00.000000",
          "2025-08-09T14:55:00.000000",
          "2025-08-09T15:00:00.000000",
          "2025-08-09T15:05:00.000000",
          "2025-08-09T15:10:00.000000",
          "2025-08-09T15:15:00.000000",
          "2025-08-09T15:20:00.000000",
          "2025-08-09T15:25:00.000000",
          "2025-08-09T15:30:00.000000",
          "2025-08-09T15:35:00.000000",
          "2025-08-09T15:40:00.000000",
          "2025-08-09T15:45:00.000000",
          "2025-08-09T15:50:00.000000",
          "2025-08-09T15:55:00.000000",
          "2025-08-09T16:00:00.000000",
          "2025-08-09T16:05:00.000000",
          "2025-08-09T16:10:00.000000",
          "2025-08-09T16:15:00.000000",
          "2025-08-09T16:20:00.000000",
          "2025-08-09T16:25:00.000000",
          "2025-08-09T16:30:00.000000",
          "2025-08-09T16:35:00.000000",
          "2025-08-09T16:40:00.000000",
          "2025-08-09T16:45:00.000000",
          "2025-08-09T16:50:00.000000",
          "2025-08-09T16:55:00.000000",
          "2025-08-09T17:00:00.000000",
          "2025-08-09T17:05:00.000000",
          "2025-08-09T17:10:00.000000",
          "2025-08-09T17:15:00.000000",
          "2025-08-09T17:20:00.000000",
          "2025-08-09T17:25:00.000000",
          "2025-08-09T17:30:00.000000",
          "2025-08-09T17:35:00.000000",
          "2025-08-09T17:40:00.000000"
         ],
         "xaxis": "x2",
         "y": {
          "bdata": "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",
          "dtype": "f8"
         },
         "yaxis": "y2"
        }
       ],
       "layout": {
        "annotations": [
         {
          "font": {
           "size": 16
          },
          "showarrow": false,
          "text": "BTC/USD:CXTALP 5m Price + Hull",
          "x": 0.5,
          "xanchor": "center",
          "xref": "paper",
          "y": 0.9999999999999999,
          "yanchor": "bottom",
          "yref": "paper"
         },
         {
          "font": {
           "size": 16
          },
          "showarrow": false,
          "text": "MACD",
          "x": 0.5,
          "xanchor": "center",
          "xref": "paper",
          "y": 0.33249999999999996,
          "yanchor": "bottom",
          "yref": "paper"
         }
        ],
        "height": 800,
        "margin": {
         "b": 40,
         "l": 40,
         "r": 20,
         "t": 60
        },
        "template": {
         "data": {
          "bar": [
           {
            "error_x": {
             "color": "#f2f5fa"
            },
            "error_y": {
             "color": "#f2f5fa"
            },
            "marker": {
             "line": {
              "color": "rgb(17,17,17)",
              "width": 0.5
             },
             "pattern": {
              "fillmode": "overlay",
              "size": 10,
              "solidity": 0.2
             }
            },
            "type": "bar"
           }
          ],
          "barpolar": [
           {
            "marker": {
             "line": {
              "color": "rgb(17,17,17)",
              "width": 0.5
             },
             "pattern": {
              "fillmode": "overlay",
              "size": 10,
              "solidity": 0.2
             }
            },
            "type": "barpolar"
           }
          ],
          "carpet": [
           {
            "aaxis": {
             "endlinecolor": "#A2B1C6",
             "gridcolor": "#506784",
             "linecolor": "#506784",
             "minorgridcolor": "#506784",
             "startlinecolor": "#A2B1C6"
            },
            "baxis": {
             "endlinecolor": "#A2B1C6",
             "gridcolor": "#506784",
             "linecolor": "#506784",
             "minorgridcolor": "#506784",
             "startlinecolor": "#A2B1C6"
            },
            "type": "carpet"
           }
          ],
          "choropleth": [
           {
            "colorbar": {
             "outlinewidth": 0,
             "ticks": ""
            },
            "type": "choropleth"
           }
          ],
          "contour": [
           {
            "colorbar": {
             "outlinewidth": 0,
             "ticks": ""
            },
            "colorscale": [
             [
              0,
              "#0d0887"
             ],
             [
              0.1111111111111111,
              "#46039f"
             ],
             [
              0.2222222222222222,
              "#7201a8"
             ],
             [
              0.3333333333333333,
              "#9c179e"
             ],
             [
              0.4444444444444444,
              "#bd3786"
             ],
             [
              0.5555555555555556,
              "#d8576b"
             ],
             [
              0.6666666666666666,
              "#ed7953"
             ],
             [
              0.7777777777777778,
              "#fb9f3a"
             ],
             [
              0.8888888888888888,
              "#fdca26"
             ],
             [
              1,
              "#f0f921"
             ]
            ],
            "type": "contour"
           }
          ],
          "contourcarpet": [
           {
            "colorbar": {
             "outlinewidth": 0,
             "ticks": ""
            },
            "type": "contourcarpet"
           }
          ],
          "heatmap": [
           {
            "colorbar": {
             "outlinewidth": 0,
             "ticks": ""
            },
            "colorscale": [
             [
              0,
              "#0d0887"
             ],
             [
              0.1111111111111111,
              "#46039f"
             ],
             [
              0.2222222222222222,
              "#7201a8"
             ],
             [
              0.3333333333333333,
              "#9c179e"
             ],
             [
              0.4444444444444444,
              "#bd3786"
             ],
             [
              0.5555555555555556,
              "#d8576b"
             ],
             [
              0.6666666666666666,
              "#ed7953"
             ],
             [
              0.7777777777777778,
              "#fb9f3a"
             ],
             [
              0.8888888888888888,
              "#fdca26"
             ],
             [
              1,
              "#f0f921"
             ]
            ],
            "type": "heatmap"
           }
          ],
          "histogram": [
           {
            "marker": {
             "pattern": {
              "fillmode": "overlay",
              "size": 10,
              "solidity": 0.2
             }
            },
            "type": "histogram"
           }
          ],
          "histogram2d": [
           {
            "colorbar": {
             "outlinewidth": 0,
             "ticks": ""
            },
            "colorscale": [
             [
              0,
              "#0d0887"
             ],
             [
              0.1111111111111111,
              "#46039f"
             ],
             [
              0.2222222222222222,
              "#7201a8"
             ],
             [
              0.3333333333333333,
              "#9c179e"
             ],
             [
              0.4444444444444444,
              "#bd3786"
             ],
             [
              0.5555555555555556,
              "#d8576b"
             ],
             [
              0.6666666666666666,
              "#ed7953"
             ],
             [
              0.7777777777777778,
              "#fb9f3a"
             ],
             [
              0.8888888888888888,
              "#fdca26"
             ],
             [
              1,
              "#f0f921"
             ]
            ],
            "type": "histogram2d"
           }
          ],
          "histogram2dcontour": [
           {
            "colorbar": {
             "outlinewidth": 0,
             "ticks": ""
            },
            "colorscale": [
             [
              0,
              "#0d0887"
             ],
             [
              0.1111111111111111,
              "#46039f"
             ],
             [
              0.2222222222222222,
              "#7201a8"
             ],
             [
              0.3333333333333333,
              "#9c179e"
             ],
             [
              0.4444444444444444,
              "#bd3786"
             ],
             [
              0.5555555555555556,
              "#d8576b"
             ],
             [
              0.6666666666666666,
              "#ed7953"
             ],
             [
              0.7777777777777778,
              "#fb9f3a"
             ],
             [
              0.8888888888888888,
              "#fdca26"
             ],
             [
              1,
              "#f0f921"
             ]
            ],
            "type": "histogram2dcontour"
           }
          ],
          "mesh3d": [
           {
            "colorbar": {
             "outlinewidth": 0,
             "ticks": ""
            },
            "type": "mesh3d"
           }
          ],
          "parcoords": [
           {
            "line": {
             "colorbar": {
              "outlinewidth": 0,
              "ticks": ""
             }
            },
            "type": "parcoords"
           }
          ],
          "pie": [
           {
            "automargin": true,
            "type": "pie"
           }
          ],
          "scatter": [
           {
            "marker": {
             "line": {
              "color": "#283442"
             }
            },
            "type": "scatter"
           }
          ],
          "scatter3d": [
           {
            "line": {
             "colorbar": {
              "outlinewidth": 0,
              "ticks": ""
             }
            },
            "marker": {
             "colorbar": {
              "outlinewidth": 0,
              "ticks": ""
             }
            },
            "type": "scatter3d"
           }
          ],
          "scattercarpet": [
           {
            "marker": {
             "colorbar": {
              "outlinewidth": 0,
              "ticks": ""
             }
            },
            "type": "scattercarpet"
           }
          ],
          "scattergeo": [
           {
            "marker": {
             "colorbar": {
              "outlinewidth": 0,
              "ticks": ""
             }
            },
            "type": "scattergeo"
           }
          ],
          "scattergl": [
           {
            "marker": {
             "line": {
              "color": "#283442"
             }
            },
            "type": "scattergl"
           }
          ],
          "scattermap": [
           {
            "marker": {
             "colorbar": {
              "outlinewidth": 0,
              "ticks": ""
             }
            },
            "type": "scattermap"
           }
          ],
          "scattermapbox": [
           {
            "marker": {
             "colorbar": {
              "outlinewidth": 0,
              "ticks": ""
             }
            },
            "type": "scattermapbox"
           }
          ],
          "scatterpolar": [
           {
            "marker": {
             "colorbar": {
              "outlinewidth": 0,
              "ticks": ""
             }
            },
            "type": "scatterpolar"
           }
          ],
          "scatterpolargl": [
           {
            "marker": {
             "colorbar": {
              "outlinewidth": 0,
              "ticks": ""
             }
            },
            "type": "scatterpolargl"
           }
          ],
          "scatterternary": [
           {
            "marker": {
             "colorbar": {
              "outlinewidth": 0,
              "ticks": ""
             }
            },
            "type": "scatterternary"
           }
          ],
          "surface": [
           {
            "colorbar": {
             "outlinewidth": 0,
             "ticks": ""
            },
            "colorscale": [
             [
              0,
              "#0d0887"
             ],
             [
              0.1111111111111111,
              "#46039f"
             ],
             [
              0.2222222222222222,
              "#7201a8"
             ],
             [
              0.3333333333333333,
              "#9c179e"
             ],
             [
              0.4444444444444444,
              "#bd3786"
             ],
             [
              0.5555555555555556,
              "#d8576b"
             ],
             [
              0.6666666666666666,
              "#ed7953"
             ],
             [
              0.7777777777777778,
              "#fb9f3a"
             ],
             [
              0.8888888888888888,
              "#fdca26"
             ],
             [
              1,
              "#f0f921"
             ]
            ],
            "type": "surface"
           }
          ],
          "table": [
           {
            "cells": {
             "fill": {
              "color": "#506784"
             },
             "line": {
              "color": "rgb(17,17,17)"
             }
            },
            "header": {
             "fill": {
              "color": "#2a3f5f"
             },
             "line": {
              "color": "rgb(17,17,17)"
             }
            },
            "type": "table"
           }
          ]
         },
         "layout": {
          "annotationdefaults": {
           "arrowcolor": "#f2f5fa",
           "arrowhead": 0,
           "arrowwidth": 1
          },
          "autotypenumbers": "strict",
          "coloraxis": {
           "colorbar": {
            "outlinewidth": 0,
            "ticks": ""
           }
          },
          "colorscale": {
           "diverging": [
            [
             0,
             "#8e0152"
            ],
            [
             0.1,
             "#c51b7d"
            ],
            [
             0.2,
             "#de77ae"
            ],
            [
             0.3,
             "#f1b6da"
            ],
            [
             0.4,
             "#fde0ef"
            ],
            [
             0.5,
             "#f7f7f7"
            ],
            [
             0.6,
             "#e6f5d0"
            ],
            [
             0.7,
             "#b8e186"
            ],
            [
             0.8,
             "#7fbc41"
            ],
            [
             0.9,
             "#4d9221"
            ],
            [
             1,
             "#276419"
            ]
           ],
           "sequential": [
            [
             0,
             "#0d0887"
            ],
            [
             0.1111111111111111,
             "#46039f"
            ],
            [
             0.2222222222222222,
             "#7201a8"
            ],
            [
             0.3333333333333333,
             "#9c179e"
            ],
            [
             0.4444444444444444,
             "#bd3786"
            ],
            [
             0.5555555555555556,
             "#d8576b"
            ],
            [
             0.6666666666666666,
             "#ed7953"
            ],
            [
             0.7777777777777778,
             "#fb9f3a"
            ],
            [
             0.8888888888888888,
             "#fdca26"
            ],
            [
             1,
             "#f0f921"
            ]
           ],
           "sequentialminus": [
            [
             0,
             "#0d0887"
            ],
            [
             0.1111111111111111,
             "#46039f"
            ],
            [
             0.2222222222222222,
             "#7201a8"
            ],
            [
             0.3333333333333333,
             "#9c179e"
            ],
            [
             0.4444444444444444,
             "#bd3786"
            ],
            [
             0.5555555555555556,
             "#d8576b"
            ],
            [
             0.6666666666666666,
             "#ed7953"
            ],
            [
             0.7777777777777778,
             "#fb9f3a"
            ],
            [
             0.8888888888888888,
             "#fdca26"
            ],
            [
             1,
             "#f0f921"
            ]
           ]
          },
          "colorway": [
           "#636efa",
           "#EF553B",
           "#00cc96",
           "#ab63fa",
           "#FFA15A",
           "#19d3f3",
           "#FF6692",
           "#B6E880",
           "#FF97FF",
           "#FECB52"
          ],
          "font": {
           "color": "#f2f5fa"
          },
          "geo": {
           "bgcolor": "rgb(17,17,17)",
           "lakecolor": "rgb(17,17,17)",
           "landcolor": "rgb(17,17,17)",
           "showlakes": true,
           "showland": true,
           "subunitcolor": "#506784"
          },
          "hoverlabel": {
           "align": "left"
          },
          "hovermode": "closest",
          "mapbox": {
           "style": "dark"
          },
          "paper_bgcolor": "rgb(17,17,17)",
          "plot_bgcolor": "rgb(17,17,17)",
          "polar": {
           "angularaxis": {
            "gridcolor": "#506784",
            "linecolor": "#506784",
            "ticks": ""
           },
           "bgcolor": "rgb(17,17,17)",
           "radialaxis": {
            "gridcolor": "#506784",
            "linecolor": "#506784",
            "ticks": ""
           }
          },
          "scene": {
           "xaxis": {
            "backgroundcolor": "rgb(17,17,17)",
            "gridcolor": "#506784",
            "gridwidth": 2,
            "linecolor": "#506784",
            "showbackground": true,
            "ticks": "",
            "zerolinecolor": "#C8D4E3"
           },
           "yaxis": {
            "backgroundcolor": "rgb(17,17,17)",
            "gridcolor": "#506784",
            "gridwidth": 2,
            "linecolor": "#506784",
            "showbackground": true,
            "ticks": "",
            "zerolinecolor": "#C8D4E3"
           },
           "zaxis": {
            "backgroundcolor": "rgb(17,17,17)",
            "gridcolor": "#506784",
            "gridwidth": 2,
            "linecolor": "#506784",
            "showbackground": true,
            "ticks": "",
            "zerolinecolor": "#C8D4E3"
           }
          },
          "shapedefaults": {
           "line": {
            "color": "#f2f5fa"
           }
          },
          "sliderdefaults": {
           "bgcolor": "#C8D4E3",
           "bordercolor": "rgb(17,17,17)",
           "borderwidth": 1,
           "tickwidth": 0
          },
          "ternary": {
           "aaxis": {
            "gridcolor": "#506784",
            "linecolor": "#506784",
            "ticks": ""
           },
           "baxis": {
            "gridcolor": "#506784",
            "linecolor": "#506784",
            "ticks": ""
           },
           "bgcolor": "rgb(17,17,17)",
           "caxis": {
            "gridcolor": "#506784",
            "linecolor": "#506784",
            "ticks": ""
           }
          },
          "title": {
           "x": 0.05
          },
          "updatemenudefaults": {
           "bgcolor": "#506784",
           "borderwidth": 0
          },
          "xaxis": {
           "automargin": true,
           "gridcolor": "#283442",
           "linecolor": "#506784",
           "ticks": "",
           "title": {
            "standoff": 15
           },
           "zerolinecolor": "#283442",
           "zerolinewidth": 2
          },
          "yaxis": {
           "automargin": true,
           "gridcolor": "#283442",
           "linecolor": "#506784",
           "ticks": "",
           "title": {
            "standoff": 15
           },
           "zerolinecolor": "#283442",
           "zerolinewidth": 2
          }
         }
        },
        "xaxis": {
         "anchor": "y",
         "domain": [
          0,
          1
         ],
         "matches": "x2",
         "rangeslider": {
          "visible": false
         },
         "showgrid": false,
         "showticklabels": false
        },
        "xaxis2": {
         "anchor": "y2",
         "domain": [
          0,
          1
         ],
         "showgrid": false
        },
        "yaxis": {
         "anchor": "x",
         "domain": [
          0.38249999999999995,
          0.9999999999999999
         ],
         "gridcolor": "#333",
         "showgrid": true
        },
        "yaxis2": {
         "anchor": "x2",
         "domain": [
          0,
          0.33249999999999996
         ],
         "gridcolor": "#333",
         "showgrid": true
        }
       }
      }
     },
     "metadata": {},
     "output_type": "display_data"
    }
   ],
   "source": [
    "import asyncio\n",
    "from tastytrade.realtime.notebook import (\n",
    "    setup_realtime_chart,\n",
    "    start_chart_stream_task,\n",
    ")\n",
    "\n",
    "LIVE_INTERVAL = '5m'\n",
    "MIN_BOOTSTRAP_ROWS = 40\n",
    "POLL_SECS = 2.0\n",
    "\n",
    "chart = await setup_realtime_chart(dxlink, SYMBOL, interval=LIVE_INTERVAL, min_rows=MIN_BOOTSTRAP_ROWS)\n",
    "fig = chart.figure\n",
    "fig.update_layout(height=720, title=f\"{SYMBOL} {LIVE_INTERVAL} — Live MACD + Hull\")\n",
    "fig.show()\n",
    "stream_task = start_chart_stream_task(dxlink, chart, SYMBOL, interval=LIVE_INTERVAL, poll_secs=POLL_SECS)\n",
    "stream_task"
   ]
  },
  {
   "cell_type": "code",
   "execution_count": 9,
   "id": "a92f45c5",
   "metadata": {},
   "outputs": [],
   "source": [
    "# OPTIONAL: short live updating candlestick loop (updates in-place)\n",
    "import plotly.graph_objects as go\n",
    "from IPython.display import display\n",
    "\n",
    "LIVE_UPDATE_INTERVAL = 5  # seconds\n",
    "LIVE_UPDATE_DURATION = 60  # total seconds (set None for indefinite)\n",
    "\n",
    "\n",
    "async def live_candles(\n",
    "    symbol: str, interval: str, update_secs: int = 5, total_secs: int | None = 60\n",
    "):\n",
    "    res = get_candle_frame(symbol, interval)\n",
    "    if res is None:\n",
    "        display(Markdown(f\"_No candle data yet for {symbol} {interval}_\"))\n",
    "        return\n",
    "    frame_sorted, tcol = res\n",
    "    df = frame_sorted.tail(lookback_rows).to_pandas()\n",
    "    fig = go.FigureWidget(\n",
    "        data=[\n",
    "            go.Candlestick(\n",
    "                x=df[tcol],\n",
    "                open=df[colmap.get(\"open\")] if \"open\" in colmap else None,\n",
    "                high=df[colmap.get(\"high\")] if \"high\" in colmap else None,\n",
    "                low=df[colmap.get(\"low\")],\n",
    "                close=df[colmap.get(\"close\")],\n",
    "                increasing_line_color=\"#26a69a\",\n",
    "                decreasing_line_color=\"#ef5350\",\n",
    "                name=f\"{symbol} {interval}\",\n",
    "            )\n",
    "        ]\n",
    "    )\n",
    "    fig.update_layout(\n",
    "        title=f\"Live {symbol} {interval}\",\n",
    "        xaxis_rangeslider_visible=False,\n",
    "        template=\"plotly_dark\",\n",
    "        height=600,\n",
    "        margin=dict(l=40, r=20, t=60, b=40),\n",
    "    )\n",
    "    display(fig)\n",
    "    start = time.time()\n",
    "    while True:\n",
    "        if total_secs is not None and (time.time() - start) > total_secs:\n",
    "            break\n",
    "        await asyncio.sleep(update_secs)\n",
    "        res = get_candle_frame(symbol, interval)\n",
    "        if res is None:\n",
    "            continue\n",
    "        frame_sorted, _ = res\n",
    "        df = frame_sorted.tail(lookback_rows).to_pandas()\n",
    "        with fig.batch_update():\n",
    "            fig.data[0].x = df[tcol]\n",
    "            fig.data[0].open = df.get(colmap.get(\"open\")) if \"open\" in colmap else None\n",
    "            fig.data[0].high = df.get(colmap.get(\"high\")) if \"high\" in colmap else None\n",
    "            fig.data[0].low = df.get(colmap.get(\"low\")) if \"low\" in colmap else None\n",
    "            fig.data[0].close = (\n",
    "                df.get(colmap.get(\"close\")) if \"close\" in colmap else None\n",
    "            )\n",
    "            fig.layout.title = (\n",
    "                f\"Live {symbol} {interval} — Updated {datetime.utcnow().isoformat()}\"\n",
    "            )\n",
    "\n",
    "\n",
    "# Run the live loop (uncomment to execute)\n",
    "# await live_candles(SYMBOL, interval_for_plot, update_secs=LIVE_UPDATE_INTERVAL, total_secs=LIVE_UPDATE_DURATION)"
   ]
  },
  {
   "cell_type": "markdown",
   "id": "4f56a0ef",
   "metadata": {},
   "source": [
    "## Ad-hoc Exploration"
   ]
  },
  {
   "cell_type": "code",
   "execution_count": 10,
   "id": "b7e7184b",
   "metadata": {},
   "outputs": [
    {
     "data": {
      "text/html": [
       "<div><style>\n",
       ".dataframe > thead > tr,\n",
       ".dataframe > tbody > tr {\n",
       "  text-align: right;\n",
       "  white-space: pre-wrap;\n",
       "}\n",
       "</style>\n",
       "<small>shape: (1, 5)</small><table border=\"1\" class=\"dataframe\"><thead><tr><th>eventSymbol</th><th>bidPrice</th><th>askPrice</th><th>bidSize</th><th>askSize</th></tr><tr><td>str</td><td>f64</td><td>f64</td><td>f64</td><td>f64</td></tr></thead><tbody><tr><td>&quot;BTC/USD:CXTALP&quot;</td><td>116147.83</td><td>117327.18</td><td>0.05</td><td>0.05</td></tr></tbody></table></div>"
      ],
      "text/plain": [
       "shape: (1, 5)\n",
       "┌────────────────┬───────────┬───────────┬─────────┬─────────┐\n",
       "│ eventSymbol    ┆ bidPrice  ┆ askPrice  ┆ bidSize ┆ askSize │\n",
       "│ ---            ┆ ---       ┆ ---       ┆ ---     ┆ ---     │\n",
       "│ str            ┆ f64       ┆ f64       ┆ f64     ┆ f64     │\n",
       "╞════════════════╪═══════════╪═══════════╪═════════╪═════════╡\n",
       "│ BTC/USD:CXTALP ┆ 116147.83 ┆ 117327.18 ┆ 0.05    ┆ 0.05    │\n",
       "└────────────────┴───────────┴───────────┴─────────┴─────────┘"
      ]
     },
     "execution_count": 10,
     "metadata": {},
     "output_type": "execute_result"
    }
   ],
   "source": [
    "# Example: access full quote frame\n",
    "dxlink.router.handler[Channels.Quote].processors[\"feed\"].pl.tail(10)"
   ]
  },
  {
   "cell_type": "code",
   "execution_count": 11,
   "id": "ca786cce",
   "metadata": {},
   "outputs": [
    {
     "data": {
      "text/html": [
       "<div><style>\n",
       ".dataframe > thead > tr,\n",
       ".dataframe > tbody > tr {\n",
       "  text-align: right;\n",
       "  white-space: pre-wrap;\n",
       "}\n",
       "</style>\n",
       "<small>shape: (5, 16)</small><table border=\"1\" class=\"dataframe\"><thead><tr><th>eventSymbol</th><th>time</th><th>eventFlags</th><th>index</th><th>sequence</th><th>count</th><th>open</th><th>high</th><th>low</th><th>close</th><th>volume</th><th>bidVolume</th><th>askVolume</th><th>openInterest</th><th>vwap</th><th>impVolatility</th></tr><tr><td>str</td><td>datetime[μs]</td><td>i64</td><td>i64</td><td>i64</td><td>i64</td><td>f64</td><td>f64</td><td>f64</td><td>f64</td><td>f64</td><td>f64</td><td>f64</td><td>f64</td><td>f64</td><td>f64</td></tr></thead><tbody><tr><td>&quot;BTC/USD:CXTALP{=5m}&quot;</td><td>2025-08-09 17:20:00</td><td>0</td><td>7536636812328960000</td><td>0</td><td>273</td><td>116774.09</td><td>116780.1</td><td>116741.59</td><td>116742.76</td><td>null</td><td>null</td><td>null</td><td>0.0</td><td>null</td><td>null</td></tr><tr><td>&quot;BTC/USD:CXTALP{=5m}&quot;</td><td>2025-08-09 17:25:00</td><td>0</td><td>7536638100819148800</td><td>0</td><td>332</td><td>116742.39</td><td>116782.69</td><td>116734.19</td><td>116775.91</td><td>null</td><td>null</td><td>null</td><td>0.0</td><td>null</td><td>null</td></tr><tr><td>&quot;BTC/USD:CXTALP{=5m}&quot;</td><td>2025-08-09 17:30:00</td><td>0</td><td>7536639389309337600</td><td>0</td><td>851</td><td>116776.11</td><td>116779.63</td><td>116702.03</td><td>116707.53</td><td>null</td><td>null</td><td>null</td><td>0.0</td><td>null</td><td>null</td></tr><tr><td>&quot;BTC/USD:CXTALP{=5m}&quot;</td><td>2025-08-09 17:35:00</td><td>0</td><td>7536640677799526400</td><td>0</td><td>3837</td><td>116709.2</td><td>116815.73</td><td>116708.97</td><td>116728.36</td><td>null</td><td>null</td><td>null</td><td>0.0</td><td>null</td><td>null</td></tr><tr><td>&quot;BTC/USD:CXTALP{=5m}&quot;</td><td>2025-08-09 17:40:00</td><td>0</td><td>7536641966289715200</td><td>0</td><td>578</td><td>116728.35</td><td>116748.7</td><td>116711.04</td><td>116737.51</td><td>null</td><td>null</td><td>null</td><td>0.0</td><td>null</td><td>null</td></tr></tbody></table></div>"
      ],
      "text/plain": [
       "shape: (5, 16)\n",
       "┌────────────┬────────────┬────────────┬────────────┬───┬───────────┬───────────┬──────┬───────────┐\n",
       "│ eventSymbo ┆ time       ┆ eventFlags ┆ index      ┆ … ┆ askVolume ┆ openInter ┆ vwap ┆ impVolati │\n",
       "│ l          ┆ ---        ┆ ---        ┆ ---        ┆   ┆ ---       ┆ est       ┆ ---  ┆ lity      │\n",
       "│ ---        ┆ datetime[μ ┆ i64        ┆ i64        ┆   ┆ f64       ┆ ---       ┆ f64  ┆ ---       │\n",
       "│ str        ┆ s]         ┆            ┆            ┆   ┆           ┆ f64       ┆      ┆ f64       │\n",
       "╞════════════╪════════════╪════════════╪════════════╪═══╪═══════════╪═══════════╪══════╪═══════════╡\n",
       "│ BTC/USD:CX ┆ 2025-08-09 ┆ 0          ┆ 7536636812 ┆ … ┆ null      ┆ 0.0       ┆ null ┆ null      │\n",
       "│ TALP{=5m}  ┆ 17:20:00   ┆            ┆ 328960000  ┆   ┆           ┆           ┆      ┆           │\n",
       "│ BTC/USD:CX ┆ 2025-08-09 ┆ 0          ┆ 7536638100 ┆ … ┆ null      ┆ 0.0       ┆ null ┆ null      │\n",
       "│ TALP{=5m}  ┆ 17:25:00   ┆            ┆ 819148800  ┆   ┆           ┆           ┆      ┆           │\n",
       "│ BTC/USD:CX ┆ 2025-08-09 ┆ 0          ┆ 7536639389 ┆ … ┆ null      ┆ 0.0       ┆ null ┆ null      │\n",
       "│ TALP{=5m}  ┆ 17:30:00   ┆            ┆ 309337600  ┆   ┆           ┆           ┆      ┆           │\n",
       "│ BTC/USD:CX ┆ 2025-08-09 ┆ 0          ┆ 7536640677 ┆ … ┆ null      ┆ 0.0       ┆ null ┆ null      │\n",
       "│ TALP{=5m}  ┆ 17:35:00   ┆            ┆ 799526400  ┆   ┆           ┆           ┆      ┆           │\n",
       "│ BTC/USD:CX ┆ 2025-08-09 ┆ 0          ┆ 7536641966 ┆ … ┆ null      ┆ 0.0       ┆ null ┆ null      │\n",
       "│ TALP{=5m}  ┆ 17:40:00   ┆            ┆ 289715200  ┆   ┆           ┆           ┆      ┆           │\n",
       "└────────────┴────────────┴────────────┴────────────┴───┴───────────┴───────────┴──────┴───────────┘"
      ]
     },
     "execution_count": 11,
     "metadata": {},
     "output_type": "execute_result"
    }
   ],
   "source": [
    "# Example: access a specific candle interval frame (e.g., 5m)\n",
    "iv = \"5m\"\n",
    "frame = (\n",
    "    dxlink.router.handler[Channels.Candle]\n",
    "    .processors[\"feed\"]\n",
    "    .frames.get(f\"{SYMBOL}{{={iv}}}\")\n",
    ")\n",
    "frame.tail(5) if frame is not None else \"No frame yet\""
   ]
  },
  {
   "cell_type": "markdown",
   "id": "6e18c017",
   "metadata": {},
   "source": [
    "## Shutdown"
   ]
  },
  {
   "cell_type": "code",
   "execution_count": 12,
   "id": "decf3b33",
   "metadata": {},
   "outputs": [
    {
     "name": "stderr",
     "output_type": "stream",
     "text": [
      "2025-08-09 17:40:55 - INFO:tastytrade.connections.sockets:450:Listener task cancelled\n",
      "2025-08-09 17:40:55 - INFO:tastytrade.connections.sockets:450:Keepalive task cancelled\n",
      "2025-08-09 17:40:55 - INFO:tastytrade.connections.sockets:450:Keepalive task cancelled\n",
      "2025-08-09 17:40:55 - INFO:tastytrade.connections.routing:58:Initiating cleanup...\n",
      "2025-08-09 17:40:55 - INFO:tastytrade.connections.routing:82:Cleanup completed\n",
      "2025-08-09 17:40:55 - INFO:tastytrade.connections.requests:175:Session closed\n",
      "2025-08-09 17:40:55 - INFO:tastytrade.connections.sockets:444:Connection closed and cleaned up\n",
      "2025-08-09 17:40:55 - INFO:root:2:DXLink closed. Notebook complete.\n",
      "2025-08-09 17:40:55 - INFO:tastytrade.connections.routing:58:Initiating cleanup...\n",
      "2025-08-09 17:40:55 - INFO:tastytrade.connections.routing:82:Cleanup completed\n",
      "2025-08-09 17:40:55 - INFO:tastytrade.connections.requests:175:Session closed\n",
      "2025-08-09 17:40:55 - INFO:tastytrade.connections.sockets:444:Connection closed and cleaned up\n",
      "2025-08-09 17:40:55 - INFO:root:2:DXLink closed. Notebook complete.\n"
     ]
    }
   ],
   "source": [
    "await dxlink.close()\n",
    "logging.info(\"DXLink closed. Notebook complete.\")"
   ]
  },
  {
   "cell_type": "code",
   "execution_count": null,
   "id": "2b4a817e",
   "metadata": {},
   "outputs": [],
   "source": []
  }
 ],
 "metadata": {
  "kernelspec": {
   "display_name": "tastytrade (3.11.13)",
   "language": "python",
   "name": "python3"
  },
  "language_info": {
   "codemirror_mode": {
    "name": "ipython",
    "version": 3
   },
   "file_extension": ".py",
   "mimetype": "text/x-python",
   "name": "python",
   "nbconvert_exporter": "python",
   "pygments_lexer": "ipython3",
   "version": "3.11.13"
  }
 },
 "nbformat": 4,
 "nbformat_minor": 5
}
