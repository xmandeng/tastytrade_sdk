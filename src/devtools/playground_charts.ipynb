{
 "cells": [
  {
   "cell_type": "markdown",
   "metadata": {},
   "source": [
    "# Dev Notes\n",
    "\n",
    "Create & save new Influx DB measures:\n",
    "- VerticalLine\n",
    "- HorizontaLine\n",
    "\n",
    "These will need to include start and stop variables so that we don't have lines into perpetuity"
   ]
  },
  {
   "cell_type": "code",
   "execution_count": 1,
   "metadata": {},
   "outputs": [],
   "source": [
    "# Required for PydanticAI to work with Jupyter (nested event loops)\n",
    "import nest_asyncio\n",
    "\n",
    "nest_asyncio.apply()"
   ]
  },
  {
   "cell_type": "code",
   "execution_count": 2,
   "metadata": {},
   "outputs": [],
   "source": [
    "import logging\n",
    "import asyncio\n",
    "import pandas as pd\n",
    "import polars as pl\n",
    "from zoneinfo import ZoneInfo\n",
    "\n",
    "from datetime import datetime, timedelta, timezone\n",
    "\n",
    "import influxdb_client\n",
    "\n",
    "from tastytrade.common.logging import setup_logging\n",
    "\n",
    "from tastytrade.connections import InfluxCredentials\n",
    "\n",
    "from tastytrade.config import RedisConfigManager\n",
    "from tastytrade.providers.market import MarketDataProvider\n",
    "from tastytrade.providers.subscriptions import RedisSubscription\n",
    "\n",
    "from tastytrade.messaging.models.events import CandleEvent\n",
    "\n",
    "from tastytrade.analytics.visualizations.plots import (\n",
    "    plot_macd_with_hull,\n",
    "    HorizontalLine,\n",
    "    VerticalLine,\n",
    ")\n",
    "from tastytrade.analytics.indicators.momentum import macd\n",
    "import re\n",
    "\n",
    "from tastytrade.analytics.visualizations.utils import get_opening_range\n",
    "\n",
    "import pytz"
   ]
  },
  {
   "cell_type": "code",
   "execution_count": 3,
   "metadata": {},
   "outputs": [
    {
     "name": "stderr",
     "output_type": "stream",
     "text": [
      "2025-08-05 22:19:54 - INFO:root:62:Logging initialized - writing to ../logs/dev_tastytrade_20250805.log\n"
     ]
    }
   ],
   "source": [
    "# Show all rows in pandas DataFrames\n",
    "pd.set_option(\"display.max_rows\", 100)\n",
    "pd.set_option(\"display.max_columns\", None)\n",
    "pd.set_option(\"display.width\", None)\n",
    "pd.set_option(\"display.max_colwidth\", None)\n",
    "\n",
    "logging.getLogger().handlers.clear()\n",
    "\n",
    "TEST = True\n",
    "ENV = \"Live\"\n",
    "DURATION = 15\n",
    "\n",
    "EDT = 5\n",
    "\n",
    "setup_logging(\n",
    "    level=logging.INFO,\n",
    "    log_dir=\"../logs\",\n",
    "    filename_prefix=f\"{'dev' if TEST else 'prod'}_tastytrade\",\n",
    "    console=True,\n",
    "    file=True,\n",
    ")\n",
    "\n",
    "loop = asyncio.get_event_loop()\n",
    "loop.set_debug(True)\n",
    "logging.getLogger(\"asyncio\").setLevel(logging.DEBUG)"
   ]
  },
  {
   "cell_type": "markdown",
   "metadata": {},
   "source": [
    "# Market Data Subscriptions"
   ]
  },
  {
   "cell_type": "code",
   "execution_count": 4,
   "metadata": {},
   "outputs": [
    {
     "name": "stderr",
     "output_type": "stream",
     "text": [
      "2025-08-05 22:19:54 - INFO:tastytrade.config.manager:174:Initialized 19 variables from .env file in Redis\n",
      "2025-08-05 22:19:54 - INFO:tastytrade.providers.subscriptions:72:Listening to Redis at redis://redis:6379/0\n"
     ]
    }
   ],
   "source": [
    "config = RedisConfigManager(env_file=\"/workspace/.env\")\n",
    "config.initialize()\n",
    "\n",
    "# credentials = Credentials(config=config, env=\"Live\")\n",
    "\n",
    "influxdb = influxdb_client.InfluxDBClient(\n",
    "    url=InfluxCredentials(config=config).url,\n",
    "    token=InfluxCredentials(config=config).token,\n",
    "    org=InfluxCredentials(config=config).org,\n",
    ")\n",
    "\n",
    "subscription = RedisSubscription(config=RedisConfigManager())\n",
    "await subscription.connect()\n",
    "\n",
    "streamer = MarketDataProvider(subscription, influxdb)"
   ]
  },
  {
   "cell_type": "markdown",
   "metadata": {},
   "source": [
    "# Date Setup"
   ]
  },
  {
   "cell_type": "code",
   "execution_count": 5,
   "metadata": {},
   "outputs": [],
   "source": [
    "# Define Eastern Time Zone using ZoneInfo\n",
    "# Example usage\n",
    "# datetime(2025, month, day, 9, 30, tzinfo=et_tz)"
   ]
  },
  {
   "cell_type": "code",
   "execution_count": 6,
   "metadata": {},
   "outputs": [],
   "source": [
    "month = datetime.now().month\n",
    "# day = 20\n",
    "day = datetime.now().day\n",
    "\n",
    "et_tz = pytz.timezone(\"America/New_York\")\n",
    "et_tz = ZoneInfo(\"America/New_York\")\n",
    "\n",
    "market_open = datetime(2025, month, day, 9, 30, tzinfo=et_tz)\n",
    "morning_end = datetime(2025, month, day, 11, 30, tzinfo=et_tz)\n",
    "lunch_end = datetime(2025, month, day, 13, 30, tzinfo=et_tz)\n",
    "market_close = datetime(2025, month, day, 16, 0, tzinfo=et_tz)\n",
    "\n",
    "# market_open = datetime(2025, 5, 27, 9, 30, tzinfo=et_tz)\n",
    "# morning_end = datetime(2025, 5, 27, 11, 30, tzinfo=et_tz)\n",
    "# lunch_end = datetime(2025, 5, 27, 13, 30, tzinfo=et_tz)\n",
    "# market_close = datetime(2025, 5, 27, 16, 0, tzinfo=et_tz)\n",
    "\n",
    "streamer = MarketDataProvider(subscription, influxdb)\n",
    "\n",
    "start = market_open.astimezone(timezone.utc) - timedelta(minutes=30)\n",
    "stop = market_close.astimezone(timezone.utc)"
   ]
  },
  {
   "cell_type": "code",
   "execution_count": 7,
   "metadata": {},
   "outputs": [
    {
     "name": "stdout",
     "output_type": "stream",
     "text": [
      "{\"eventSymbol\":\"SPX{=d}\",\"time\":\"2025-08-04T00:00:00\",\"eventFlags\":0,\"index\":7534513380497817600,\"sequence\":0,\"count\":24601,\"open\":6271.71,\"high\":6330.69,\"low\":6271.71,\"close\":6329.94,\"volume\":null,\"bidVolume\":null,\"askVolume\":null,\"openInterest\":null,\"vwap\":null,\"impVolatility\":0.17}\n"
     ]
    }
   ],
   "source": [
    "candle_symbol = \"SPX{=m}\"\n",
    "# candle_symbol = \"/ESH25:XCME{=m}\"\n",
    "\n",
    "prior_day: CandleEvent = CandleEvent(\n",
    "    **(\n",
    "        streamer.download(\n",
    "            symbol=re.sub(r\"\\{=.*?\\}\", \"{=d}\", candle_symbol),\n",
    "            start=market_open.date() + timedelta(days=-1),\n",
    "            stop=market_open.date(),\n",
    "            debug_mode=True,\n",
    "        )\n",
    "        .to_dicts()\n",
    "        .pop()\n",
    "    )\n",
    ")\n",
    "\n",
    "print(prior_day.model_dump_json())"
   ]
  },
  {
   "cell_type": "code",
   "execution_count": 8,
   "metadata": {},
   "outputs": [
    {
     "name": "stderr",
     "output_type": "stream",
     "text": [
      "2025-08-05 22:19:54 - INFO:tastytrade.analytics.visualizations.utils:91:Opening range for SPX{=m} (5m): High=6338.13, Low=6331.72\n",
      "2025-08-05 22:19:54 - INFO:tastytrade.analytics.visualizations.utils:91:Opening range for SPX{=m} (15m): High=6342.94, Low=6331.72\n",
      "2025-08-05 22:19:54 - INFO:tastytrade.analytics.visualizations.utils:91:Opening range for SPX{=m} (30m): High=6346.0, Low=6331.72\n"
     ]
    }
   ],
   "source": [
    "or5 = await get_opening_range(\n",
    "    streamer,\n",
    "    \"SPX{=m}\",\n",
    "    5,\n",
    "    date=start.date(),\n",
    ")\n",
    "\n",
    "or15 = await get_opening_range(\n",
    "    streamer,\n",
    "    \"SPX{=m}\",\n",
    "    15,\n",
    "    date=start.date(),\n",
    ")\n",
    "\n",
    "or30 = await get_opening_range(\n",
    "    streamer,\n",
    "    \"SPX{=m}\",\n",
    "    30,\n",
    "    date=start.date(),\n",
    ")"
   ]
  },
  {
   "cell_type": "code",
   "execution_count": 9,
   "metadata": {},
   "outputs": [],
   "source": [
    "levels = [\n",
    "    HorizontalLine(\n",
    "        price=prior_day.close,\n",
    "        color=\"#FF66FE\",  # Orange\n",
    "        line_dash=\"dot\",\n",
    "        label_font_size=10.5,\n",
    "        label=\"prior close\",\n",
    "        opacity=0.45,\n",
    "    ),\n",
    "    HorizontalLine(\n",
    "        price=prior_day.high,\n",
    "        color=\"#4CAF50\",  # Green\n",
    "        line_dash=\"dot\",\n",
    "        label_font_size=10.5,\n",
    "        label=\"prior high\",\n",
    "        opacity=0.45,\n",
    "    ),\n",
    "    HorizontalLine(\n",
    "        price=prior_day.low,\n",
    "        color=\"#F44336\",  # Red\n",
    "        line_dash=\"dot\",\n",
    "        label_font_size=10.5,\n",
    "        label=\"prior low\",\n",
    "        opacity=0.45,\n",
    "    ),\n",
    "    HorizontalLine(\n",
    "        price=or5.high,\n",
    "        start_time=market_open,\n",
    "        color=\"#4CAF50\",  # Green\n",
    "        line_dash=\"solid\",\n",
    "        opacity=0.75,\n",
    "        # label=\"5min hi\",\n",
    "    ),\n",
    "    HorizontalLine(\n",
    "        price=or5.low,\n",
    "        start_time=market_open,\n",
    "        color=\"#4CAF50\",  # Green\n",
    "        line_dash=\"solid\",\n",
    "        opacity=0.75,\n",
    "    ),\n",
    "    HorizontalLine(\n",
    "        price=or15.high,\n",
    "        start_time=market_open + timedelta(minutes=15),\n",
    "        color=\"#4CAF50\",  # Green\n",
    "        line_dash=\"solid\",\n",
    "        opacity=0.45 if or15.high != or5.high else 0.0,\n",
    "    ),\n",
    "    HorizontalLine(\n",
    "        price=or15.low,\n",
    "        start_time=market_open + timedelta(minutes=15),\n",
    "        color=\"#4CAF50\",  # Green\n",
    "        line_dash=\"solid\",\n",
    "        opacity=0.45 if or15.low != or5.low else 0.0,\n",
    "    ),\n",
    "    HorizontalLine(\n",
    "        price=or30.high,\n",
    "        start_time=market_open + timedelta(minutes=30),\n",
    "        color=\"#4CAF50\",  # Green\n",
    "        line_dash=\"dot\",\n",
    "        opacity=0.45 if or30.high != or15.high else 0.0,\n",
    "    ),\n",
    "    HorizontalLine(\n",
    "        price=or30.low,\n",
    "        start_time=market_open + timedelta(minutes=30),\n",
    "        color=\"#4CAF50\",  # Green\n",
    "        line_dash=\"dot\",\n",
    "        opacity=0.45 if or30.low != or15.low else 0.0,\n",
    "    ),\n",
    "    HorizontalLine(\n",
    "        price=or30.low,\n",
    "        start_time=market_open + timedelta(minutes=30),\n",
    "        color=\"#4CAF50\",  # Green\n",
    "        line_dash=\"dot\",\n",
    "        opacity=0.45 if or30.low != or15.low else 0.0,\n",
    "    ),\n",
    "    # HorizontalLine(\n",
    "    #     price=5903,\n",
    "    #     start_time=datetime(2025, 5, 29, 9, 40, tzinfo=et_tz),\n",
    "    #     color=\"#555555\",  # Green\n",
    "    #     line_dash=\"dot\",\n",
    "    #     label=\"Bearish\",\n",
    "    #     # opacity=0.45 if or30.low != or15.low else 0.0,\n",
    "    # ),\n",
    "    # HorizontalLine(\n",
    "    #     price=5893,\n",
    "    #     start_time=datetime(2025, 5, 29, 11, 30, tzinfo=et_tz),\n",
    "    #     color=\"#555555\",  # Green\n",
    "    #     line_dash=\"dot\",\n",
    "    #     label=\"Bullish\",\n",
    "    #     # opacity=0.45 if or30.low != or15.low else 0.0,\n",
    "    # ),\n",
    "    # HorizontalLine(\n",
    "    #     price=5432,\n",
    "    #     start_time=datetime(2025, 4, 15, 10, 17, tzinfo=et_tz),\n",
    "    #     color=\"#555555\",  # Green\n",
    "    #     line_dash=\"dot\",\n",
    "    #     opacity=1,\n",
    "    # ),\n",
    "]"
   ]
  },
  {
   "cell_type": "code",
   "execution_count": 10,
   "metadata": {},
   "outputs": [
    {
     "name": "stdout",
     "output_type": "stream",
     "text": [
      "{'price': 6329.94, 'label': 'prior close', 'color': '#FF66FE', 'line_width': 1.0, 'line_dash': 'dot', 'opacity': 0.45, 'text_position': 'left', 'show_label': True, 'label_font_size': 10.5, 'extend_to_end': False, 'start_time': None, 'end_time': None}\n",
      "{'price': 6330.69, 'label': 'prior high', 'color': '#4CAF50', 'line_width': 1.0, 'line_dash': 'dot', 'opacity': 0.45, 'text_position': 'left', 'show_label': True, 'label_font_size': 10.5, 'extend_to_end': False, 'start_time': None, 'end_time': None}\n",
      "{'price': 6271.71, 'label': 'prior low', 'color': '#F44336', 'line_width': 1.0, 'line_dash': 'dot', 'opacity': 0.45, 'text_position': 'left', 'show_label': True, 'label_font_size': 10.5, 'extend_to_end': False, 'start_time': None, 'end_time': None}\n",
      "{'price': 6338.13, 'label': None, 'color': '#4CAF50', 'line_width': 1.0, 'line_dash': 'solid', 'opacity': 0.75, 'text_position': 'left', 'show_label': True, 'label_font_size': 11, 'extend_to_end': False, 'start_time': datetime.datetime(2025, 8, 5, 9, 30, tzinfo=zoneinfo.ZoneInfo(key='America/New_York')), 'end_time': None}\n",
      "{'price': 6331.72, 'label': None, 'color': '#4CAF50', 'line_width': 1.0, 'line_dash': 'solid', 'opacity': 0.75, 'text_position': 'left', 'show_label': True, 'label_font_size': 11, 'extend_to_end': False, 'start_time': datetime.datetime(2025, 8, 5, 9, 30, tzinfo=zoneinfo.ZoneInfo(key='America/New_York')), 'end_time': None}\n",
      "{'price': 6342.94, 'label': None, 'color': '#4CAF50', 'line_width': 1.0, 'line_dash': 'solid', 'opacity': 0.45, 'text_position': 'left', 'show_label': True, 'label_font_size': 11, 'extend_to_end': False, 'start_time': datetime.datetime(2025, 8, 5, 9, 45, tzinfo=zoneinfo.ZoneInfo(key='America/New_York')), 'end_time': None}\n",
      "{'price': 6331.72, 'label': None, 'color': '#4CAF50', 'line_width': 1.0, 'line_dash': 'solid', 'opacity': 0.0, 'text_position': 'left', 'show_label': True, 'label_font_size': 11, 'extend_to_end': False, 'start_time': datetime.datetime(2025, 8, 5, 9, 45, tzinfo=zoneinfo.ZoneInfo(key='America/New_York')), 'end_time': None}\n",
      "{'price': 6346.0, 'label': None, 'color': '#4CAF50', 'line_width': 1.0, 'line_dash': 'dot', 'opacity': 0.45, 'text_position': 'left', 'show_label': True, 'label_font_size': 11, 'extend_to_end': False, 'start_time': datetime.datetime(2025, 8, 5, 10, 0, tzinfo=zoneinfo.ZoneInfo(key='America/New_York')), 'end_time': None}\n",
      "{'price': 6331.72, 'label': None, 'color': '#4CAF50', 'line_width': 1.0, 'line_dash': 'dot', 'opacity': 0.0, 'text_position': 'left', 'show_label': True, 'label_font_size': 11, 'extend_to_end': False, 'start_time': datetime.datetime(2025, 8, 5, 10, 0, tzinfo=zoneinfo.ZoneInfo(key='America/New_York')), 'end_time': None}\n",
      "{'price': 6331.72, 'label': None, 'color': '#4CAF50', 'line_width': 1.0, 'line_dash': 'dot', 'opacity': 0.0, 'text_position': 'left', 'show_label': True, 'label_font_size': 11, 'extend_to_end': False, 'start_time': datetime.datetime(2025, 8, 5, 10, 0, tzinfo=zoneinfo.ZoneInfo(key='America/New_York')), 'end_time': None}\n"
     ]
    }
   ],
   "source": [
    "for level in levels:\n",
    "    print(level.__dict__)"
   ]
  },
  {
   "cell_type": "code",
   "execution_count": 11,
   "metadata": {},
   "outputs": [],
   "source": [
    "executions = [\n",
    "    # VerticalLine(\n",
    "    #     time=datetime(2025, 2, 26, 14, 30) + timedelta(hours=1, minutes=50),\n",
    "    #     color=\"#555555\",\n",
    "    #     line_dash=\"dot\",\n",
    "    #     label=\"Open\",\n",
    "    # ),\n",
    "    # VerticalLine(\n",
    "    #     time=datetime(2025, 2, 26, 14, 30) + timedelta(hours=4, minutes=50),\n",
    "    #     color=\"#555555\",\n",
    "    #     line_dash=\"dot\",\n",
    "    #     label=\"Close\",\n",
    "    # ),\n",
    "    # VerticalLine(\n",
    "    #     time=datetime(2025, 2, 27, 14, 30) + timedelta(minutes=20),\n",
    "    #     color=\"#555555\",\n",
    "    #     line_dash=\"dot\",\n",
    "    #     label=\"Open\",\n",
    "    # ),\n",
    "    # VerticalLine(\n",
    "    #     time=datetime(2025, 2, 28, 14, 30) + timedelta(hours=1, minutes=40),\n",
    "    #     color=\"#555555\",\n",
    "    #     line_dash=\"dot\",\n",
    "    #     label=\"Open\",\n",
    "    # ),\n",
    "    # VerticalLine(\n",
    "    #     time=datetime(2025, 2, 28, 14, 30) + timedelta(hours=4, minutes=0),\n",
    "    #     color=\"#555555\",\n",
    "    #     line_dash=\"dot\",\n",
    "    #     label=\"Close\",\n",
    "    # ),\n",
    "    # VerticalLine(\n",
    "    #     time=datetime(2025, 3, 3, 14, 30) + timedelta(hours=0, minutes=20),\n",
    "    #     color=\"#555555\",\n",
    "    #     line_dash=\"dot\",\n",
    "    #     label=\"Open\",\n",
    "    # ),\n",
    "    # VerticalLine(\n",
    "    #     time=datetime(2025, 3, 4, 14, 30) + timedelta(hours=1, minutes=10),\n",
    "    #     color=\"#555555\",\n",
    "    #     line_dash=\"dot\",\n",
    "    #     label=\"Pass\",\n",
    "    # ),\n",
    "    # VerticalLine(\n",
    "    #     time=datetime(2025, 3, 4, 14, 30) + timedelta(hours=2, minutes=10),\n",
    "    #     color=\"#555555\",\n",
    "    #     line_dash=\"dot\",\n",
    "    #     label=\"Open\",\n",
    "    # ),\n",
    "    # VerticalLine(\n",
    "    #     time=datetime(2025, 3, 6, 14, 30) + timedelta(hours=0, minutes=45),\n",
    "    #     color=\"#555555\",\n",
    "    #     line_dash=\"dot\",\n",
    "    #     label=\"Pass\",\n",
    "    # ),\n",
    "    # VerticalLine(\n",
    "    #     time=datetime(2025, 3, 6, 14, 30) + timedelta(hours=2, minutes=10),\n",
    "    #     color=\"#555555\",\n",
    "    #     line_dash=\"dot\",\n",
    "    #     label=\"Open\",\n",
    "    # ),\n",
    "    # VerticalLine(\n",
    "    #     time=datetime(2025, 3, 7, 14, 30) + timedelta(hours=0, minutes=45),\n",
    "    #     color=\"#555555\",\n",
    "    #     line_dash=\"dot\",\n",
    "    #     label=\"Open\",\n",
    "    # ),\n",
    "    # VerticalLine(\n",
    "    #     time=datetime(2025, 3, 7, 14, 30) + timedelta(hours=2, minutes=55),\n",
    "    #     color=\"#555555\",\n",
    "    #     line_dash=\"dot\",\n",
    "    #     label=\"Open\",\n",
    "    # ),\n",
    "    # VerticalLine(\n",
    "    #     time=datetime(2025, 3, 13, 10, 20, tzinfo=et_tz),\n",
    "    #     color=\"#555555\",\n",
    "    #     line_dash=\"dot\",\n",
    "    #     label=\"Open\",\n",
    "    # ),\n",
    "    # VerticalLine(\n",
    "    #     time=datetime(2025, 3, 13, 10, 45, tzinfo=et_tz),\n",
    "    #     color=\"#555555\",\n",
    "    #     line_dash=\"dot\",\n",
    "    #     label=\"Open\",\n",
    "    # ),\n",
    "    # VerticalLine(\n",
    "    #     time=datetime(2025, 3, 18, 10, 40, tzinfo=et_tz),\n",
    "    #     color=\"#555555\",\n",
    "    #     line_dash=\"dot\",\n",
    "    #     label=\"Open\",\n",
    "    # ),\n",
    "    # VerticalLine(\n",
    "    #     time=datetime(2025, 3, 19, 10, 35, tzinfo=et_tz),\n",
    "    #     color=\"#555555\",\n",
    "    #     line_dash=\"dot\",\n",
    "    #     label=\"Open\",\n",
    "    # ),\n",
    "    # VerticalLine(\n",
    "    #     time=datetime(2025, 3, 20, 11, 34, 32, tzinfo=et_tz),\n",
    "    #     color=\"#555555\",\n",
    "    #     line_dash=\"dot\",\n",
    "    #     label=\"Open\",\n",
    "    # ),\n",
    "    # VerticalLine(\n",
    "    #     time=datetime(2025, 3, 20, 12, 15, 8, tzinfo=et_tz),\n",
    "    #     color=\"#555555\",\n",
    "    #     line_dash=\"dot\",\n",
    "    #     label=\"Close\",\n",
    "    # ),\n",
    "    # VerticalLine(\n",
    "    #     time=datetime(2025, 3, 20, 13, 9, 34, tzinfo=et_tz),\n",
    "    #     color=\"#555555\",\n",
    "    #     line_dash=\"dot\",\n",
    "    #     label=\"Open\",\n",
    "    # ),\n",
    "    # VerticalLine(\n",
    "    #     time=datetime(2025, 4, 1, 10, 35, tzinfo=et_tz),\n",
    "    #     color=\"#555555\",\n",
    "    #     line_dash=\"dot\",\n",
    "    #     label=\"Open\",\n",
    "    # ),\n",
    "    # VerticalLine(\n",
    "    #     time=datetime(2025, 4, 8, 10, 42, tzinfo=et_tz),\n",
    "    #     color=\"#555555\",\n",
    "    #     line_dash=\"dot\",\n",
    "    #     label=\"Open\",\n",
    "    # ),\n",
    "    # VerticalLine(\n",
    "    #     time=datetime(2025, 4, 15, 10, 17, tzinfo=et_tz),\n",
    "    #     color=\"#555555\",\n",
    "    #     line_dash=\"dot\",\n",
    "    #     label=\"Open\",\n",
    "    # ),\n",
    "    # VerticalLine(\n",
    "    #     time=datetime(2025, 5, 29, 10, 11, tzinfo=et_tz),\n",
    "    #     color=\"#555555\",\n",
    "    #     line_dash=\"dot\",\n",
    "    #     label=\"Open\",\n",
    "    # ),\n",
    "    # VerticalLine(\n",
    "    #     time=datetime(2025, 5, 29, 12, 11, tzinfo=et_tz),\n",
    "    #     color=\"#555555\",\n",
    "    #     line_dash=\"dot\",\n",
    "    #     label=\"Close\",\n",
    "    # ),\n",
    "]"
   ]
  },
  {
   "cell_type": "code",
   "execution_count": 12,
   "metadata": {},
   "outputs": [
    {
     "data": {
      "application/vnd.plotly.v1+json": {
       "config": {
        "plotlyServerURL": "https://plot.ly"
       },
       "data": [
        {
         "close": {
          "bdata": "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",
          "dtype": "f8"
         },
         "decreasing": {
          "fillcolor": "#EF5350",
          "line": {
           "color": "#EF5350"
          }
         },
         "high": {
          "bdata": "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",
          "dtype": "f8"
         },
         "increasing": {
          "fillcolor": "rgba(19, 19, 19, 0.1)",
          "line": {
           "color": "#4CAF50"
          }
         },
         "line": {
          "width": 0.75
         },
         "low": {
          "bdata": "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",
          "dtype": "f8"
         },
         "name": "Price",
         "open": {
          "bdata": "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",
          "dtype": "f8"
         },
         "showlegend": false,
         "type": "candlestick",
         "x": [
          "2025-08-05T09:00:00.000000000",
          "2025-08-05T09:01:00.000000000",
          "2025-08-05T09:02:00.000000000",
          "2025-08-05T09:03:00.000000000",
          "2025-08-05T09:04:00.000000000",
          "2025-08-05T09:05:00.000000000",
          "2025-08-05T09:06:00.000000000",
          "2025-08-05T09:07:00.000000000",
          "2025-08-05T09:08:00.000000000",
          "2025-08-05T09:09:00.000000000",
          "2025-08-05T09:10:00.000000000",
          "2025-08-05T09:11:00.000000000",
          "2025-08-05T09:12:00.000000000",
          "2025-08-05T09:13:00.000000000",
          "2025-08-05T09:14:00.000000000",
          "2025-08-05T09:15:00.000000000",
          "2025-08-05T09:16:00.000000000",
          "2025-08-05T09:17:00.000000000",
          "2025-08-05T09:18:00.000000000",
          "2025-08-05T09:19:00.000000000",
          "2025-08-05T09:20:00.000000000",
          "2025-08-05T09:21:00.000000000",
          "2025-08-05T09:22:00.000000000",
          "2025-08-05T09:23:00.000000000",
          "2025-08-05T09:24:00.000000000",
          "2025-08-05T09:25:00.000000000",
          "2025-08-05T09:26:00.000000000",
          "2025-08-05T09:27:00.000000000",
          "2025-08-05T09:28:00.000000000",
          "2025-08-05T09:29:00.000000000",
          "2025-08-05T09:30:00.000000000",
          "2025-08-05T09:31:00.000000000",
          "2025-08-05T09:32:00.000000000",
          "2025-08-05T09:33:00.000000000",
          "2025-08-05T09:34:00.000000000",
          "2025-08-05T09:35:00.000000000",
          "2025-08-05T09:36:00.000000000",
          "2025-08-05T09:37:00.000000000",
          "2025-08-05T09:38:00.000000000",
          "2025-08-05T09:39:00.000000000",
          "2025-08-05T09:40:00.000000000",
          "2025-08-05T09:41:00.000000000",
          "2025-08-05T09:42:00.000000000",
          "2025-08-05T09:43:00.000000000",
          "2025-08-05T09:44:00.000000000",
          "2025-08-05T09:45:00.000000000",
          "2025-08-05T09:46:00.000000000",
          "2025-08-05T09:47:00.000000000",
          "2025-08-05T09:48:00.000000000",
          "2025-08-05T09:49:00.000000000",
          "2025-08-05T09:50:00.000000000",
          "2025-08-05T09:51:00.000000000",
          "2025-08-05T09:52:00.000000000",
          "2025-08-05T09:53:00.000000000",
          "2025-08-05T09:54:00.000000000",
          "2025-08-05T09:55:00.000000000",
          "2025-08-05T09:56:00.000000000",
          "2025-08-05T09:57:00.000000000",
          "2025-08-05T09:58:00.000000000",
          "2025-08-05T09:59:00.000000000",
          "2025-08-05T10:00:00.000000000",
          "2025-08-05T10:01:00.000000000",
          "2025-08-05T10:02:00.000000000",
          "2025-08-05T10:03:00.000000000",
          "2025-08-05T10:04:00.000000000",
          "2025-08-05T10:05:00.000000000",
          "2025-08-05T10:06:00.000000000",
          "2025-08-05T10:07:00.000000000",
          "2025-08-05T10:08:00.000000000",
          "2025-08-05T10:09:00.000000000",
          "2025-08-05T10:10:00.000000000",
          "2025-08-05T10:11:00.000000000",
          "2025-08-05T10:12:00.000000000",
          "2025-08-05T10:13:00.000000000",
          "2025-08-05T10:14:00.000000000",
          "2025-08-05T10:15:00.000000000",
          "2025-08-05T10:16:00.000000000",
          "2025-08-05T10:17:00.000000000",
          "2025-08-05T10:18:00.000000000",
          "2025-08-05T10:19:00.000000000",
          "2025-08-05T10:20:00.000000000",
          "2025-08-05T10:21:00.000000000",
          "2025-08-05T10:22:00.000000000",
          "2025-08-05T10:23:00.000000000",
          "2025-08-05T10:24:00.000000000",
          "2025-08-05T10:25:00.000000000",
          "2025-08-05T10:26:00.000000000",
          "2025-08-05T10:27:00.000000000",
          "2025-08-05T10:28:00.000000000",
          "2025-08-05T10:29:00.000000000",
          "2025-08-05T10:30:00.000000000",
          "2025-08-05T10:31:00.000000000",
          "2025-08-05T10:32:00.000000000",
          "2025-08-05T10:33:00.000000000",
          "2025-08-05T10:34:00.000000000",
          "2025-08-05T10:35:00.000000000",
          "2025-08-05T10:36:00.000000000",
          "2025-08-05T10:37:00.000000000",
          "2025-08-05T10:38:00.000000000",
          "2025-08-05T10:39:00.000000000",
          "2025-08-05T10:40:00.000000000",
          "2025-08-05T10:41:00.000000000",
          "2025-08-05T10:42:00.000000000",
          "2025-08-05T10:43:00.000000000",
          "2025-08-05T10:44:00.000000000",
          "2025-08-05T10:45:00.000000000",
          "2025-08-05T10:46:00.000000000",
          "2025-08-05T10:47:00.000000000",
          "2025-08-05T10:48:00.000000000",
          "2025-08-05T10:49:00.000000000",
          "2025-08-05T10:50:00.000000000",
          "2025-08-05T10:51:00.000000000",
          "2025-08-05T10:52:00.000000000",
          "2025-08-05T10:53:00.000000000",
          "2025-08-05T10:54:00.000000000",
          "2025-08-05T10:55:00.000000000",
          "2025-08-05T10:56:00.000000000",
          "2025-08-05T10:57:00.000000000",
          "2025-08-05T10:58:00.000000000",
          "2025-08-05T10:59:00.000000000",
          "2025-08-05T11:00:00.000000000",
          "2025-08-05T11:01:00.000000000",
          "2025-08-05T11:02:00.000000000",
          "2025-08-05T11:03:00.000000000",
          "2025-08-05T11:04:00.000000000",
          "2025-08-05T11:05:00.000000000",
          "2025-08-05T11:06:00.000000000",
          "2025-08-05T11:07:00.000000000",
          "2025-08-05T11:08:00.000000000",
          "2025-08-05T11:09:00.000000000",
          "2025-08-05T11:10:00.000000000",
          "2025-08-05T11:11:00.000000000",
          "2025-08-05T11:12:00.000000000",
          "2025-08-05T11:13:00.000000000",
          "2025-08-05T11:14:00.000000000",
          "2025-08-05T11:15:00.000000000",
          "2025-08-05T11:16:00.000000000",
          "2025-08-05T11:17:00.000000000",
          "2025-08-05T11:18:00.000000000",
          "2025-08-05T11:19:00.000000000",
          "2025-08-05T11:20:00.000000000",
          "2025-08-05T11:21:00.000000000",
          "2025-08-05T11:22:00.000000000",
          "2025-08-05T11:23:00.000000000",
          "2025-08-05T11:24:00.000000000",
          "2025-08-05T11:25:00.000000000",
          "2025-08-05T11:26:00.000000000",
          "2025-08-05T11:27:00.000000000",
          "2025-08-05T11:28:00.000000000",
          "2025-08-05T11:29:00.000000000",
          "2025-08-05T11:30:00.000000000",
          "2025-08-05T11:31:00.000000000",
          "2025-08-05T11:32:00.000000000",
          "2025-08-05T11:33:00.000000000",
          "2025-08-05T11:34:00.000000000",
          "2025-08-05T11:35:00.000000000",
          "2025-08-05T11:36:00.000000000",
          "2025-08-05T11:37:00.000000000",
          "2025-08-05T11:38:00.000000000",
          "2025-08-05T11:39:00.000000000",
          "2025-08-05T11:40:00.000000000",
          "2025-08-05T11:41:00.000000000",
          "2025-08-05T11:42:00.000000000",
          "2025-08-05T11:43:00.000000000",
          "2025-08-05T11:44:00.000000000",
          "2025-08-05T11:45:00.000000000",
          "2025-08-05T11:46:00.000000000",
          "2025-08-05T11:47:00.000000000",
          "2025-08-05T11:48:00.000000000",
          "2025-08-05T11:49:00.000000000",
          "2025-08-05T11:50:00.000000000",
          "2025-08-05T11:51:00.000000000",
          "2025-08-05T11:52:00.000000000",
          "2025-08-05T11:53:00.000000000",
          "2025-08-05T11:54:00.000000000",
          "2025-08-05T11:55:00.000000000",
          "2025-08-05T11:56:00.000000000",
          "2025-08-05T11:57:00.000000000",
          "2025-08-05T11:58:00.000000000",
          "2025-08-05T11:59:00.000000000",
          "2025-08-05T12:00:00.000000000",
          "2025-08-05T12:01:00.000000000",
          "2025-08-05T12:02:00.000000000",
          "2025-08-05T12:03:00.000000000",
          "2025-08-05T12:04:00.000000000",
          "2025-08-05T12:05:00.000000000",
          "2025-08-05T12:06:00.000000000",
          "2025-08-05T12:07:00.000000000",
          "2025-08-05T12:08:00.000000000",
          "2025-08-05T12:09:00.000000000",
          "2025-08-05T12:10:00.000000000",
          "2025-08-05T12:11:00.000000000",
          "2025-08-05T12:12:00.000000000",
          "2025-08-05T12:13:00.000000000",
          "2025-08-05T12:14:00.000000000",
          "2025-08-05T12:15:00.000000000",
          "2025-08-05T12:16:00.000000000",
          "2025-08-05T12:17:00.000000000",
          "2025-08-05T12:18:00.000000000",
          "2025-08-05T12:19:00.000000000",
          "2025-08-05T12:20:00.000000000",
          "2025-08-05T12:21:00.000000000",
          "2025-08-05T12:22:00.000000000",
          "2025-08-05T12:23:00.000000000",
          "2025-08-05T12:24:00.000000000",
          "2025-08-05T12:25:00.000000000",
          "2025-08-05T12:26:00.000000000",
          "2025-08-05T12:27:00.000000000",
          "2025-08-05T12:28:00.000000000",
          "2025-08-05T12:29:00.000000000",
          "2025-08-05T12:30:00.000000000",
          "2025-08-05T12:31:00.000000000",
          "2025-08-05T12:32:00.000000000",
          "2025-08-05T12:33:00.000000000",
          "2025-08-05T12:34:00.000000000",
          "2025-08-05T12:35:00.000000000",
          "2025-08-05T12:36:00.000000000",
          "2025-08-05T12:37:00.000000000",
          "2025-08-05T12:38:00.000000000",
          "2025-08-05T12:39:00.000000000",
          "2025-08-05T12:40:00.000000000",
          "2025-08-05T12:41:00.000000000",
          "2025-08-05T12:42:00.000000000",
          "2025-08-05T12:43:00.000000000",
          "2025-08-05T12:44:00.000000000",
          "2025-08-05T12:45:00.000000000",
          "2025-08-05T12:46:00.000000000",
          "2025-08-05T12:47:00.000000000",
          "2025-08-05T12:48:00.000000000",
          "2025-08-05T12:49:00.000000000",
          "2025-08-05T12:50:00.000000000",
          "2025-08-05T12:51:00.000000000",
          "2025-08-05T12:52:00.000000000",
          "2025-08-05T12:53:00.000000000",
          "2025-08-05T12:54:00.000000000",
          "2025-08-05T12:55:00.000000000",
          "2025-08-05T12:56:00.000000000",
          "2025-08-05T12:57:00.000000000",
          "2025-08-05T12:58:00.000000000",
          "2025-08-05T12:59:00.000000000",
          "2025-08-05T13:00:00.000000000",
          "2025-08-05T13:01:00.000000000",
          "2025-08-05T13:02:00.000000000",
          "2025-08-05T13:03:00.000000000",
          "2025-08-05T13:04:00.000000000",
          "2025-08-05T13:05:00.000000000",
          "2025-08-05T13:06:00.000000000",
          "2025-08-05T13:07:00.000000000",
          "2025-08-05T13:08:00.000000000",
          "2025-08-05T13:09:00.000000000",
          "2025-08-05T13:10:00.000000000",
          "2025-08-05T13:11:00.000000000",
          "2025-08-05T13:12:00.000000000",
          "2025-08-05T13:13:00.000000000",
          "2025-08-05T13:14:00.000000000",
          "2025-08-05T13:15:00.000000000",
          "2025-08-05T13:16:00.000000000",
          "2025-08-05T13:17:00.000000000",
          "2025-08-05T13:18:00.000000000",
          "2025-08-05T13:19:00.000000000",
          "2025-08-05T13:20:00.000000000",
          "2025-08-05T13:21:00.000000000",
          "2025-08-05T13:22:00.000000000",
          "2025-08-05T13:23:00.000000000",
          "2025-08-05T13:24:00.000000000",
          "2025-08-05T13:25:00.000000000",
          "2025-08-05T13:26:00.000000000",
          "2025-08-05T13:27:00.000000000",
          "2025-08-05T13:28:00.000000000",
          "2025-08-05T13:29:00.000000000",
          "2025-08-05T13:30:00.000000000",
          "2025-08-05T13:31:00.000000000",
          "2025-08-05T13:32:00.000000000",
          "2025-08-05T13:33:00.000000000",
          "2025-08-05T13:34:00.000000000",
          "2025-08-05T13:35:00.000000000",
          "2025-08-05T13:36:00.000000000",
          "2025-08-05T13:37:00.000000000",
          "2025-08-05T13:38:00.000000000",
          "2025-08-05T13:39:00.000000000",
          "2025-08-05T13:40:00.000000000",
          "2025-08-05T13:41:00.000000000",
          "2025-08-05T13:42:00.000000000",
          "2025-08-05T13:43:00.000000000",
          "2025-08-05T13:44:00.000000000",
          "2025-08-05T13:45:00.000000000",
          "2025-08-05T13:46:00.000000000",
          "2025-08-05T13:47:00.000000000",
          "2025-08-05T13:48:00.000000000",
          "2025-08-05T13:49:00.000000000",
          "2025-08-05T13:50:00.000000000",
          "2025-08-05T13:51:00.000000000",
          "2025-08-05T13:52:00.000000000",
          "2025-08-05T13:53:00.000000000",
          "2025-08-05T13:54:00.000000000",
          "2025-08-05T13:55:00.000000000",
          "2025-08-05T13:56:00.000000000",
          "2025-08-05T13:57:00.000000000",
          "2025-08-05T13:58:00.000000000",
          "2025-08-05T13:59:00.000000000",
          "2025-08-05T14:00:00.000000000",
          "2025-08-05T14:01:00.000000000",
          "2025-08-05T14:02:00.000000000",
          "2025-08-05T14:03:00.000000000",
          "2025-08-05T14:04:00.000000000",
          "2025-08-05T14:05:00.000000000",
          "2025-08-05T14:06:00.000000000",
          "2025-08-05T14:07:00.000000000",
          "2025-08-05T14:08:00.000000000",
          "2025-08-05T14:09:00.000000000",
          "2025-08-05T14:10:00.000000000",
          "2025-08-05T14:11:00.000000000",
          "2025-08-05T14:12:00.000000000",
          "2025-08-05T14:13:00.000000000",
          "2025-08-05T14:14:00.000000000",
          "2025-08-05T14:15:00.000000000",
          "2025-08-05T14:16:00.000000000",
          "2025-08-05T14:17:00.000000000",
          "2025-08-05T14:18:00.000000000",
          "2025-08-05T14:19:00.000000000",
          "2025-08-05T14:20:00.000000000",
          "2025-08-05T14:21:00.000000000",
          "2025-08-05T14:22:00.000000000",
          "2025-08-05T14:23:00.000000000",
          "2025-08-05T14:24:00.000000000",
          "2025-08-05T14:25:00.000000000",
          "2025-08-05T14:26:00.000000000",
          "2025-08-05T14:27:00.000000000",
          "2025-08-05T14:28:00.000000000",
          "2025-08-05T14:29:00.000000000",
          "2025-08-05T14:30:00.000000000",
          "2025-08-05T14:31:00.000000000",
          "2025-08-05T14:32:00.000000000",
          "2025-08-05T14:33:00.000000000",
          "2025-08-05T14:34:00.000000000",
          "2025-08-05T14:35:00.000000000",
          "2025-08-05T14:36:00.000000000",
          "2025-08-05T14:37:00.000000000",
          "2025-08-05T14:38:00.000000000",
          "2025-08-05T14:39:00.000000000",
          "2025-08-05T14:40:00.000000000",
          "2025-08-05T14:41:00.000000000",
          "2025-08-05T14:42:00.000000000",
          "2025-08-05T14:43:00.000000000",
          "2025-08-05T14:44:00.000000000",
          "2025-08-05T14:45:00.000000000",
          "2025-08-05T14:46:00.000000000",
          "2025-08-05T14:47:00.000000000",
          "2025-08-05T14:48:00.000000000",
          "2025-08-05T14:49:00.000000000",
          "2025-08-05T14:50:00.000000000",
          "2025-08-05T14:51:00.000000000",
          "2025-08-05T14:52:00.000000000",
          "2025-08-05T14:53:00.000000000",
          "2025-08-05T14:54:00.000000000",
          "2025-08-05T14:55:00.000000000",
          "2025-08-05T14:56:00.000000000",
          "2025-08-05T14:57:00.000000000",
          "2025-08-05T14:58:00.000000000",
          "2025-08-05T14:59:00.000000000",
          "2025-08-05T15:00:00.000000000",
          "2025-08-05T15:01:00.000000000",
          "2025-08-05T15:02:00.000000000",
          "2025-08-05T15:03:00.000000000",
          "2025-08-05T15:04:00.000000000",
          "2025-08-05T15:05:00.000000000",
          "2025-08-05T15:06:00.000000000",
          "2025-08-05T15:07:00.000000000",
          "2025-08-05T15:08:00.000000000",
          "2025-08-05T15:09:00.000000000",
          "2025-08-05T15:10:00.000000000",
          "2025-08-05T15:11:00.000000000",
          "2025-08-05T15:12:00.000000000",
          "2025-08-05T15:13:00.000000000",
          "2025-08-05T15:14:00.000000000",
          "2025-08-05T15:15:00.000000000",
          "2025-08-05T15:16:00.000000000",
          "2025-08-05T15:17:00.000000000",
          "2025-08-05T15:18:00.000000000",
          "2025-08-05T15:19:00.000000000",
          "2025-08-05T15:20:00.000000000",
          "2025-08-05T15:21:00.000000000",
          "2025-08-05T15:22:00.000000000",
          "2025-08-05T15:23:00.000000000",
          "2025-08-05T15:24:00.000000000",
          "2025-08-05T15:25:00.000000000",
          "2025-08-05T15:26:00.000000000",
          "2025-08-05T15:27:00.000000000",
          "2025-08-05T15:28:00.000000000",
          "2025-08-05T15:29:00.000000000",
          "2025-08-05T15:30:00.000000000",
          "2025-08-05T15:31:00.000000000",
          "2025-08-05T15:32:00.000000000",
          "2025-08-05T15:33:00.000000000",
          "2025-08-05T15:34:00.000000000",
          "2025-08-05T15:35:00.000000000",
          "2025-08-05T15:36:00.000000000",
          "2025-08-05T15:37:00.000000000",
          "2025-08-05T15:38:00.000000000",
          "2025-08-05T15:39:00.000000000",
          "2025-08-05T15:40:00.000000000",
          "2025-08-05T15:41:00.000000000",
          "2025-08-05T15:42:00.000000000",
          "2025-08-05T15:43:00.000000000",
          "2025-08-05T15:44:00.000000000",
          "2025-08-05T15:45:00.000000000",
          "2025-08-05T15:46:00.000000000",
          "2025-08-05T15:47:00.000000000",
          "2025-08-05T15:48:00.000000000",
          "2025-08-05T15:49:00.000000000",
          "2025-08-05T15:50:00.000000000",
          "2025-08-05T15:51:00.000000000",
          "2025-08-05T15:52:00.000000000",
          "2025-08-05T15:53:00.000000000",
          "2025-08-05T15:54:00.000000000",
          "2025-08-05T15:55:00.000000000",
          "2025-08-05T15:56:00.000000000",
          "2025-08-05T15:57:00.000000000",
          "2025-08-05T15:58:00.000000000",
          "2025-08-05T15:59:00.000000000"
         ],
         "xaxis": "x",
         "yaxis": "y"
        },
        {
         "line": {
          "color": "#FF66FE",
          "width": 0.6
         },
         "mode": "lines",
         "name": "HMA",
         "showlegend": false,
         "type": "scatter",
         "x": [
          "2025-08-05T09:00:00-04:00",
          "2025-08-05T09:01:00-04:00"
         ],
         "xaxis": "x",
         "y": {
          "bdata": "PQrXo/C5uEA9Ctej8Lm4QA==",
          "dtype": "f8"
         },
         "yaxis": "y"
        },
        {
         "line": {
          "color": "#FF66FE",
          "width": 0.6
         },
         "mode": "lines",
         "name": "HMA",
         "showlegend": false,
         "type": "scatter",
         "x": [
          "2025-08-05T09:01:00-04:00",
          "2025-08-05T09:02:00-04:00"
         ],
         "xaxis": "x",
         "y": {
          "bdata": "PQrXo/C5uEA8Ctej8Lm4QA==",
          "dtype": "f8"
         },
         "yaxis": "y"
        },
        {
         "line": {
          "color": "#FF66FE",
          "width": 0.6
         },
         "mode": "lines",
         "name": "HMA",
         "showlegend": false,
         "type": "scatter",
         "x": [
          "2025-08-05T09:02:00-04:00",
          "2025-08-05T09:03:00-04:00"
         ],
         "xaxis": "x",
         "y": {
          "bdata": "PArXo/C5uEA8Ctej8Lm4QA==",
          "dtype": "f8"
         },
         "yaxis": "y"
        },
        {
         "line": {
          "color": "#FF66FE",
          "width": 0.6
         },
         "mode": "lines",
         "name": "HMA",
         "showlegend": false,
         "type": "scatter",
         "x": [
          "2025-08-05T09:03:00-04:00",
          "2025-08-05T09:04:00-04:00"
         ],
         "xaxis": "x",
         "y": {
          "bdata": "PArXo/C5uEA8Ctej8Lm4QA==",
          "dtype": "f8"
         },
         "yaxis": "y"
        },
        {
         "line": {
          "color": "#FF66FE",
          "width": 0.6
         },
         "mode": "lines",
         "name": "HMA",
         "showlegend": false,
         "type": "scatter",
         "x": [
          "2025-08-05T09:04:00-04:00",
          "2025-08-05T09:05:00-04:00"
         ],
         "xaxis": "x",
         "y": {
          "bdata": "PArXo/C5uEA8Ctej8Lm4QA==",
          "dtype": "f8"
         },
         "yaxis": "y"
        },
        {
         "line": {
          "color": "#FF66FE",
          "width": 0.6
         },
         "mode": "lines",
         "name": "HMA",
         "showlegend": false,
         "type": "scatter",
         "x": [
          "2025-08-05T09:05:00-04:00",
          "2025-08-05T09:06:00-04:00"
         ],
         "xaxis": "x",
         "y": {
          "bdata": "PArXo/C5uEA8Ctej8Lm4QA==",
          "dtype": "f8"
         },
         "yaxis": "y"
        },
        {
         "line": {
          "color": "#FF66FE",
          "width": 0.6
         },
         "mode": "lines",
         "name": "HMA",
         "showlegend": false,
         "type": "scatter",
         "x": [
          "2025-08-05T09:06:00-04:00",
          "2025-08-05T09:07:00-04:00"
         ],
         "xaxis": "x",
         "y": {
          "bdata": "PArXo/C5uEA8Ctej8Lm4QA==",
          "dtype": "f8"
         },
         "yaxis": "y"
        },
        {
         "line": {
          "color": "#FF66FE",
          "width": 0.6
         },
         "mode": "lines",
         "name": "HMA",
         "showlegend": false,
         "type": "scatter",
         "x": [
          "2025-08-05T09:07:00-04:00",
          "2025-08-05T09:08:00-04:00"
         ],
         "xaxis": "x",
         "y": {
          "bdata": "PArXo/C5uEA8Ctej8Lm4QA==",
          "dtype": "f8"
         },
         "yaxis": "y"
        },
        {
         "line": {
          "color": "#FF66FE",
          "width": 0.6
         },
         "mode": "lines",
         "name": "HMA",
         "showlegend": false,
         "type": "scatter",
         "x": [
          "2025-08-05T09:08:00-04:00",
          "2025-08-05T09:09:00-04:00"
         ],
         "xaxis": "x",
         "y": {
          "bdata": "PArXo/C5uEA8Ctej8Lm4QA==",
          "dtype": "f8"
         },
         "yaxis": "y"
        },
        {
         "line": {
          "color": "#FF66FE",
          "width": 0.6
         },
         "mode": "lines",
         "name": "HMA",
         "showlegend": false,
         "type": "scatter",
         "x": [
          "2025-08-05T09:09:00-04:00",
          "2025-08-05T09:10:00-04:00"
         ],
         "xaxis": "x",
         "y": {
          "bdata": "PArXo/C5uEA8Ctej8Lm4QA==",
          "dtype": "f8"
         },
         "yaxis": "y"
        },
        {
         "line": {
          "color": "#FF66FE",
          "width": 0.6
         },
         "mode": "lines",
         "name": "HMA",
         "showlegend": false,
         "type": "scatter",
         "x": [
          "2025-08-05T09:10:00-04:00",
          "2025-08-05T09:11:00-04:00"
         ],
         "xaxis": "x",
         "y": {
          "bdata": "PArXo/C5uEA8Ctej8Lm4QA==",
          "dtype": "f8"
         },
         "yaxis": "y"
        },
        {
         "line": {
          "color": "#FF66FE",
          "width": 0.6
         },
         "mode": "lines",
         "name": "HMA",
         "showlegend": false,
         "type": "scatter",
         "x": [
          "2025-08-05T09:11:00-04:00",
          "2025-08-05T09:12:00-04:00"
         ],
         "xaxis": "x",
         "y": {
          "bdata": "PArXo/C5uEA8Ctej8Lm4QA==",
          "dtype": "f8"
         },
         "yaxis": "y"
        },
        {
         "line": {
          "color": "#FF66FE",
          "width": 0.6
         },
         "mode": "lines",
         "name": "HMA",
         "showlegend": false,
         "type": "scatter",
         "x": [
          "2025-08-05T09:12:00-04:00",
          "2025-08-05T09:13:00-04:00"
         ],
         "xaxis": "x",
         "y": {
          "bdata": "PArXo/C5uEA8Ctej8Lm4QA==",
          "dtype": "f8"
         },
         "yaxis": "y"
        },
        {
         "line": {
          "color": "#FF66FE",
          "width": 0.6
         },
         "mode": "lines",
         "name": "HMA",
         "showlegend": false,
         "type": "scatter",
         "x": [
          "2025-08-05T09:13:00-04:00",
          "2025-08-05T09:14:00-04:00"
         ],
         "xaxis": "x",
         "y": {
          "bdata": "PArXo/C5uEA8Ctej8Lm4QA==",
          "dtype": "f8"
         },
         "yaxis": "y"
        },
        {
         "line": {
          "color": "#FF66FE",
          "width": 0.6
         },
         "mode": "lines",
         "name": "HMA",
         "showlegend": false,
         "type": "scatter",
         "x": [
          "2025-08-05T09:14:00-04:00",
          "2025-08-05T09:15:00-04:00"
         ],
         "xaxis": "x",
         "y": {
          "bdata": "PArXo/C5uEA8Ctej8Lm4QA==",
          "dtype": "f8"
         },
         "yaxis": "y"
        },
        {
         "line": {
          "color": "#FF66FE",
          "width": 0.6
         },
         "mode": "lines",
         "name": "HMA",
         "showlegend": false,
         "type": "scatter",
         "x": [
          "2025-08-05T09:15:00-04:00",
          "2025-08-05T09:16:00-04:00"
         ],
         "xaxis": "x",
         "y": {
          "bdata": "PArXo/C5uEA8Ctej8Lm4QA==",
          "dtype": "f8"
         },
         "yaxis": "y"
        },
        {
         "line": {
          "color": "#FF66FE",
          "width": 0.6
         },
         "mode": "lines",
         "name": "HMA",
         "showlegend": false,
         "type": "scatter",
         "x": [
          "2025-08-05T09:16:00-04:00",
          "2025-08-05T09:17:00-04:00"
         ],
         "xaxis": "x",
         "y": {
          "bdata": "PArXo/C5uEA8Ctej8Lm4QA==",
          "dtype": "f8"
         },
         "yaxis": "y"
        },
        {
         "line": {
          "color": "#FF66FE",
          "width": 0.6
         },
         "mode": "lines",
         "name": "HMA",
         "showlegend": false,
         "type": "scatter",
         "x": [
          "2025-08-05T09:17:00-04:00",
          "2025-08-05T09:18:00-04:00"
         ],
         "xaxis": "x",
         "y": {
          "bdata": "PArXo/C5uEA8Ctej8Lm4QA==",
          "dtype": "f8"
         },
         "yaxis": "y"
        },
        {
         "line": {
          "color": "#FF66FE",
          "width": 0.6
         },
         "mode": "lines",
         "name": "HMA",
         "showlegend": false,
         "type": "scatter",
         "x": [
          "2025-08-05T09:18:00-04:00",
          "2025-08-05T09:19:00-04:00"
         ],
         "xaxis": "x",
         "y": {
          "bdata": "PArXo/C5uEA8Ctej8Lm4QA==",
          "dtype": "f8"
         },
         "yaxis": "y"
        },
        {
         "line": {
          "color": "#FF66FE",
          "width": 0.6
         },
         "mode": "lines",
         "name": "HMA",
         "showlegend": false,
         "type": "scatter",
         "x": [
          "2025-08-05T09:19:00-04:00",
          "2025-08-05T09:20:00-04:00"
         ],
         "xaxis": "x",
         "y": {
          "bdata": "PArXo/C5uEA8Ctej8Lm4QA==",
          "dtype": "f8"
         },
         "yaxis": "y"
        },
        {
         "line": {
          "color": "#FF66FE",
          "width": 0.6
         },
         "mode": "lines",
         "name": "HMA",
         "showlegend": false,
         "type": "scatter",
         "x": [
          "2025-08-05T09:20:00-04:00",
          "2025-08-05T09:21:00-04:00"
         ],
         "xaxis": "x",
         "y": {
          "bdata": "PArXo/C5uEA8Ctej8Lm4QA==",
          "dtype": "f8"
         },
         "yaxis": "y"
        },
        {
         "line": {
          "color": "#FF66FE",
          "width": 0.6
         },
         "mode": "lines",
         "name": "HMA",
         "showlegend": false,
         "type": "scatter",
         "x": [
          "2025-08-05T09:21:00-04:00",
          "2025-08-05T09:22:00-04:00"
         ],
         "xaxis": "x",
         "y": {
          "bdata": "PArXo/C5uEA8Ctej8Lm4QA==",
          "dtype": "f8"
         },
         "yaxis": "y"
        },
        {
         "line": {
          "color": "#FF66FE",
          "width": 0.6
         },
         "mode": "lines",
         "name": "HMA",
         "showlegend": false,
         "type": "scatter",
         "x": [
          "2025-08-05T09:22:00-04:00",
          "2025-08-05T09:23:00-04:00"
         ],
         "xaxis": "x",
         "y": {
          "bdata": "PArXo/C5uEA8Ctej8Lm4QA==",
          "dtype": "f8"
         },
         "yaxis": "y"
        },
        {
         "line": {
          "color": "#FF66FE",
          "width": 0.6
         },
         "mode": "lines",
         "name": "HMA",
         "showlegend": false,
         "type": "scatter",
         "x": [
          "2025-08-05T09:23:00-04:00",
          "2025-08-05T09:24:00-04:00"
         ],
         "xaxis": "x",
         "y": {
          "bdata": "PArXo/C5uEA8Ctej8Lm4QA==",
          "dtype": "f8"
         },
         "yaxis": "y"
        },
        {
         "line": {
          "color": "#FF66FE",
          "width": 0.6
         },
         "mode": "lines",
         "name": "HMA",
         "showlegend": false,
         "type": "scatter",
         "x": [
          "2025-08-05T09:24:00-04:00",
          "2025-08-05T09:25:00-04:00"
         ],
         "xaxis": "x",
         "y": {
          "bdata": "PArXo/C5uEA8Ctej8Lm4QA==",
          "dtype": "f8"
         },
         "yaxis": "y"
        },
        {
         "line": {
          "color": "#FF66FE",
          "width": 0.6
         },
         "mode": "lines",
         "name": "HMA",
         "showlegend": false,
         "type": "scatter",
         "x": [
          "2025-08-05T09:25:00-04:00",
          "2025-08-05T09:26:00-04:00"
         ],
         "xaxis": "x",
         "y": {
          "bdata": "PArXo/C5uEA8Ctej8Lm4QA==",
          "dtype": "f8"
         },
         "yaxis": "y"
        },
        {
         "line": {
          "color": "#FF66FE",
          "width": 0.6
         },
         "mode": "lines",
         "name": "HMA",
         "showlegend": false,
         "type": "scatter",
         "x": [
          "2025-08-05T09:26:00-04:00",
          "2025-08-05T09:27:00-04:00"
         ],
         "xaxis": "x",
         "y": {
          "bdata": "PArXo/C5uEA8Ctej8Lm4QA==",
          "dtype": "f8"
         },
         "yaxis": "y"
        },
        {
         "line": {
          "color": "#FF66FE",
          "width": 0.6
         },
         "mode": "lines",
         "name": "HMA",
         "showlegend": false,
         "type": "scatter",
         "x": [
          "2025-08-05T09:27:00-04:00",
          "2025-08-05T09:28:00-04:00"
         ],
         "xaxis": "x",
         "y": {
          "bdata": "PArXo/C5uEA8Ctej8Lm4QA==",
          "dtype": "f8"
         },
         "yaxis": "y"
        },
        {
         "line": {
          "color": "#FF66FE",
          "width": 0.6
         },
         "mode": "lines",
         "name": "HMA",
         "showlegend": false,
         "type": "scatter",
         "x": [
          "2025-08-05T09:28:00-04:00",
          "2025-08-05T09:29:00-04:00"
         ],
         "xaxis": "x",
         "y": {
          "bdata": "PArXo/C5uEA8Ctej8Lm4QA==",
          "dtype": "f8"
         },
         "yaxis": "y"
        },
        {
         "line": {
          "color": "#01FFFF",
          "width": 0.6
         },
         "mode": "lines",
         "name": "HMA",
         "showlegend": false,
         "type": "scatter",
         "x": [
          "2025-08-05T09:29:00-04:00",
          "2025-08-05T09:30:00-04:00"
         ],
         "xaxis": "x",
         "y": {
          "bdata": "PArXo/C5uEBCuSAfO7q4QA==",
          "dtype": "f8"
         },
         "yaxis": "y"
        },
        {
         "line": {
          "color": "#01FFFF",
          "width": 0.6
         },
         "mode": "lines",
         "name": "HMA",
         "showlegend": false,
         "type": "scatter",
         "x": [
          "2025-08-05T09:30:00-04:00",
          "2025-08-05T09:31:00-04:00"
         ],
         "xaxis": "x",
         "y": {
          "bdata": "QrkgHzu6uEAYp64yr7q4QA==",
          "dtype": "f8"
         },
         "yaxis": "y"
        },
        {
         "line": {
          "color": "#01FFFF",
          "width": 0.6
         },
         "mode": "lines",
         "name": "HMA",
         "showlegend": false,
         "type": "scatter",
         "x": [
          "2025-08-05T09:31:00-04:00",
          "2025-08-05T09:32:00-04:00"
         ],
         "xaxis": "x",
         "y": {
          "bdata": "GKeuMq+6uEBWjD4zVLu4QA==",
          "dtype": "f8"
         },
         "yaxis": "y"
        },
        {
         "line": {
          "color": "#01FFFF",
          "width": 0.6
         },
         "mode": "lines",
         "name": "HMA",
         "showlegend": false,
         "type": "scatter",
         "x": [
          "2025-08-05T09:32:00-04:00",
          "2025-08-05T09:33:00-04:00"
         ],
         "xaxis": "x",
         "y": {
          "bdata": "Vow+M1S7uEDf2wsgIby4QA==",
          "dtype": "f8"
         },
         "yaxis": "y"
        },
        {
         "line": {
          "color": "#01FFFF",
          "width": 0.6
         },
         "mode": "lines",
         "name": "HMA",
         "showlegend": false,
         "type": "scatter",
         "x": [
          "2025-08-05T09:33:00-04:00",
          "2025-08-05T09:34:00-04:00"
         ],
         "xaxis": "x",
         "y": {
          "bdata": "39sLICG8uECsvwcCsby4QA==",
          "dtype": "f8"
         },
         "yaxis": "y"
        },
        {
         "line": {
          "color": "#01FFFF",
          "width": 0.6
         },
         "mode": "lines",
         "name": "HMA",
         "showlegend": false,
         "type": "scatter",
         "x": [
          "2025-08-05T09:34:00-04:00",
          "2025-08-05T09:35:00-04:00"
         ],
         "xaxis": "x",
         "y": {
          "bdata": "rL8HArG8uECOyBd9JL24QA==",
          "dtype": "f8"
         },
         "yaxis": "y"
        },
        {
         "line": {
          "color": "#01FFFF",
          "width": 0.6
         },
         "mode": "lines",
         "name": "HMA",
         "showlegend": false,
         "type": "scatter",
         "x": [
          "2025-08-05T09:35:00-04:00",
          "2025-08-05T09:36:00-04:00"
         ],
         "xaxis": "x",
         "y": {
          "bdata": "jsgXfSS9uEBDxzitw724QA==",
          "dtype": "f8"
         },
         "yaxis": "y"
        },
        {
         "line": {
          "color": "#01FFFF",
          "width": 0.6
         },
         "mode": "lines",
         "name": "HMA",
         "showlegend": false,
         "type": "scatter",
         "x": [
          "2025-08-05T09:36:00-04:00",
          "2025-08-05T09:37:00-04:00"
         ],
         "xaxis": "x",
         "y": {
          "bdata": "Q8c4rcO9uEBO6apkvb64QA==",
          "dtype": "f8"
         },
         "yaxis": "y"
        },
        {
         "line": {
          "color": "#01FFFF",
          "width": 0.6
         },
         "mode": "lines",
         "name": "HMA",
         "showlegend": false,
         "type": "scatter",
         "x": [
          "2025-08-05T09:37:00-04:00",
          "2025-08-05T09:38:00-04:00"
         ],
         "xaxis": "x",
         "y": {
          "bdata": "TumqZL2+uEAFr9d2V8C4QA==",
          "dtype": "f8"
         },
         "yaxis": "y"
        },
        {
         "line": {
          "color": "#01FFFF",
          "width": 0.6
         },
         "mode": "lines",
         "name": "HMA",
         "showlegend": false,
         "type": "scatter",
         "x": [
          "2025-08-05T09:38:00-04:00",
          "2025-08-05T09:39:00-04:00"
         ],
         "xaxis": "x",
         "y": {
          "bdata": "Ba/XdlfAuEAWfqRgD8K4QA==",
          "dtype": "f8"
         },
         "yaxis": "y"
        },
        {
         "line": {
          "color": "#01FFFF",
          "width": 0.6
         },
         "mode": "lines",
         "name": "HMA",
         "showlegend": false,
         "type": "scatter",
         "x": [
          "2025-08-05T09:39:00-04:00",
          "2025-08-05T09:40:00-04:00"
         ],
         "xaxis": "x",
         "y": {
          "bdata": "Fn6kYA/CuEDWerx4w8O4QA==",
          "dtype": "f8"
         },
         "yaxis": "y"
        },
        {
         "line": {
          "color": "#01FFFF",
          "width": 0.6
         },
         "mode": "lines",
         "name": "HMA",
         "showlegend": false,
         "type": "scatter",
         "x": [
          "2025-08-05T09:40:00-04:00",
          "2025-08-05T09:41:00-04:00"
         ],
         "xaxis": "x",
         "y": {
          "bdata": "1nq8eMPDuEAeSpbmI8W4QA==",
          "dtype": "f8"
         },
         "yaxis": "y"
        },
        {
         "line": {
          "color": "#01FFFF",
          "width": 0.6
         },
         "mode": "lines",
         "name": "HMA",
         "showlegend": false,
         "type": "scatter",
         "x": [
          "2025-08-05T09:41:00-04:00",
          "2025-08-05T09:42:00-04:00"
         ],
         "xaxis": "x",
         "y": {
          "bdata": "HkqW5iPFuEA6rNPQE8a4QA==",
          "dtype": "f8"
         },
         "yaxis": "y"
        },
        {
         "line": {
          "color": "#01FFFF",
          "width": 0.6
         },
         "mode": "lines",
         "name": "HMA",
         "showlegend": false,
         "type": "scatter",
         "x": [
          "2025-08-05T09:42:00-04:00",
          "2025-08-05T09:43:00-04:00"
         ],
         "xaxis": "x",
         "y": {
          "bdata": "OqzT0BPGuEDTaP5Gtsa4QA==",
          "dtype": "f8"
         },
         "yaxis": "y"
        },
        {
         "line": {
          "color": "#01FFFF",
          "width": 0.6
         },
         "mode": "lines",
         "name": "HMA",
         "showlegend": false,
         "type": "scatter",
         "x": [
          "2025-08-05T09:43:00-04:00",
          "2025-08-05T09:44:00-04:00"
         ],
         "xaxis": "x",
         "y": {
          "bdata": "02j+RrbGuEBSqImy+ca4QA==",
          "dtype": "f8"
         },
         "yaxis": "y"
        },
        {
         "line": {
          "color": "#01FFFF",
          "width": 0.6
         },
         "mode": "lines",
         "name": "HMA",
         "showlegend": false,
         "type": "scatter",
         "x": [
          "2025-08-05T09:44:00-04:00",
          "2025-08-05T09:45:00-04:00"
         ],
         "xaxis": "x",
         "y": {
          "bdata": "UqiJsvnGuEAqOeLucse4QA==",
          "dtype": "f8"
         },
         "yaxis": "y"
        },
        {
         "line": {
          "color": "#01FFFF",
          "width": 0.6
         },
         "mode": "lines",
         "name": "HMA",
         "showlegend": false,
         "type": "scatter",
         "x": [
          "2025-08-05T09:45:00-04:00",
          "2025-08-05T09:46:00-04:00"
         ],
         "xaxis": "x",
         "y": {
          "bdata": "Kjni7nLHuECFeYYH9Me4QA==",
          "dtype": "f8"
         },
         "yaxis": "y"
        },
        {
         "line": {
          "color": "#01FFFF",
          "width": 0.6
         },
         "mode": "lines",
         "name": "HMA",
         "showlegend": false,
         "type": "scatter",
         "x": [
          "2025-08-05T09:46:00-04:00",
          "2025-08-05T09:47:00-04:00"
         ],
         "xaxis": "x",
         "y": {
          "bdata": "hXmGB/THuEAGJ8YPYMi4QA==",
          "dtype": "f8"
         },
         "yaxis": "y"
        },
        {
         "line": {
          "color": "#01FFFF",
          "width": 0.6
         },
         "mode": "lines",
         "name": "HMA",
         "showlegend": false,
         "type": "scatter",
         "x": [
          "2025-08-05T09:47:00-04:00",
          "2025-08-05T09:48:00-04:00"
         ],
         "xaxis": "x",
         "y": {
          "bdata": "BifGD2DIuEAuMrqwxMi4QA==",
          "dtype": "f8"
         },
         "yaxis": "y"
        },
        {
         "line": {
          "color": "#01FFFF",
          "width": 0.6
         },
         "mode": "lines",
         "name": "HMA",
         "showlegend": false,
         "type": "scatter",
         "x": [
          "2025-08-05T09:48:00-04:00",
          "2025-08-05T09:49:00-04:00"
         ],
         "xaxis": "x",
         "y": {
          "bdata": "LjK6sMTIuECwQaKbzMi4QA==",
          "dtype": "f8"
         },
         "yaxis": "y"
        },
        {
         "line": {
          "color": "#FF66FE",
          "width": 0.6
         },
         "mode": "lines",
         "name": "HMA",
         "showlegend": false,
         "type": "scatter",
         "x": [
          "2025-08-05T09:49:00-04:00",
          "2025-08-05T09:50:00-04:00"
         ],
         "xaxis": "x",
         "y": {
          "bdata": "sEGim8zIuEDAe4NoTsi4QA==",
          "dtype": "f8"
         },
         "yaxis": "y"
        },
        {
         "line": {
          "color": "#FF66FE",
          "width": 0.6
         },
         "mode": "lines",
         "name": "HMA",
         "showlegend": false,
         "type": "scatter",
         "x": [
          "2025-08-05T09:50:00-04:00",
          "2025-08-05T09:51:00-04:00"
         ],
         "xaxis": "x",
         "y": {
          "bdata": "wHuDaE7IuEDK+SQNnce4QA==",
          "dtype": "f8"
         },
         "yaxis": "y"
        },
        {
         "line": {
          "color": "#FF66FE",
          "width": 0.6
         },
         "mode": "lines",
         "name": "HMA",
         "showlegend": false,
         "type": "scatter",
         "x": [
          "2025-08-05T09:51:00-04:00",
          "2025-08-05T09:52:00-04:00"
         ],
         "xaxis": "x",
         "y": {
          "bdata": "yvkkDZ3HuED7sZH/5Ma4QA==",
          "dtype": "f8"
         },
         "yaxis": "y"
        },
        {
         "line": {
          "color": "#FF66FE",
          "width": 0.6
         },
         "mode": "lines",
         "name": "HMA",
         "showlegend": false,
         "type": "scatter",
         "x": [
          "2025-08-05T09:52:00-04:00",
          "2025-08-05T09:53:00-04:00"
         ],
         "xaxis": "x",
         "y": {
          "bdata": "+7GR/+TGuEBuzLWAXMa4QA==",
          "dtype": "f8"
         },
         "yaxis": "y"
        },
        {
         "line": {
          "color": "#FF66FE",
          "width": 0.6
         },
         "mode": "lines",
         "name": "HMA",
         "showlegend": false,
         "type": "scatter",
         "x": [
          "2025-08-05T09:53:00-04:00",
          "2025-08-05T09:54:00-04:00"
         ],
         "xaxis": "x",
         "y": {
          "bdata": "bsy1gFzGuEA8NiqOEMa4QA==",
          "dtype": "f8"
         },
         "yaxis": "y"
        },
        {
         "line": {
          "color": "#FF66FE",
          "width": 0.6
         },
         "mode": "lines",
         "name": "HMA",
         "showlegend": false,
         "type": "scatter",
         "x": [
          "2025-08-05T09:54:00-04:00",
          "2025-08-05T09:55:00-04:00"
         ],
         "xaxis": "x",
         "y": {
          "bdata": "PDYqjhDGuECQdrCHnMW4QA==",
          "dtype": "f8"
         },
         "yaxis": "y"
        },
        {
         "line": {
          "color": "#FF66FE",
          "width": 0.6
         },
         "mode": "lines",
         "name": "HMA",
         "showlegend": false,
         "type": "scatter",
         "x": [
          "2025-08-05T09:55:00-04:00",
          "2025-08-05T09:56:00-04:00"
         ],
         "xaxis": "x",
         "y": {
          "bdata": "kHawh5zFuECKX39KzsS4QA==",
          "dtype": "f8"
         },
         "yaxis": "y"
        },
        {
         "line": {
          "color": "#FF66FE",
          "width": 0.6
         },
         "mode": "lines",
         "name": "HMA",
         "showlegend": false,
         "type": "scatter",
         "x": [
          "2025-08-05T09:56:00-04:00",
          "2025-08-05T09:57:00-04:00"
         ],
         "xaxis": "x",
         "y": {
          "bdata": "il9/Ss7EuEDjG/CNwMO4QA==",
          "dtype": "f8"
         },
         "yaxis": "y"
        },
        {
         "line": {
          "color": "#FF66FE",
          "width": 0.6
         },
         "mode": "lines",
         "name": "HMA",
         "showlegend": false,
         "type": "scatter",
         "x": [
          "2025-08-05T09:57:00-04:00",
          "2025-08-05T09:58:00-04:00"
         ],
         "xaxis": "x",
         "y": {
          "bdata": "4xvwjcDDuEAaSrLdvcK4QA==",
          "dtype": "f8"
         },
         "yaxis": "y"
        },
        {
         "line": {
          "color": "#FF66FE",
          "width": 0.6
         },
         "mode": "lines",
         "name": "HMA",
         "showlegend": false,
         "type": "scatter",
         "x": [
          "2025-08-05T09:58:00-04:00",
          "2025-08-05T09:59:00-04:00"
         ],
         "xaxis": "x",
         "y": {
          "bdata": "Gkqy3b3CuEAYHcp5FcK4QA==",
          "dtype": "f8"
         },
         "yaxis": "y"
        },
        {
         "line": {
          "color": "#FF66FE",
          "width": 0.6
         },
         "mode": "lines",
         "name": "HMA",
         "showlegend": false,
         "type": "scatter",
         "x": [
          "2025-08-05T09:59:00-04:00",
          "2025-08-05T10:00:00-04:00"
         ],
         "xaxis": "x",
         "y": {
          "bdata": "GB3KeRXCuEA1e0XJBsG4QA==",
          "dtype": "f8"
         },
         "yaxis": "y"
        },
        {
         "line": {
          "color": "#FF66FE",
          "width": 0.6
         },
         "mode": "lines",
         "name": "HMA",
         "showlegend": false,
         "type": "scatter",
         "x": [
          "2025-08-05T10:00:00-04:00",
          "2025-08-05T10:01:00-04:00"
         ],
         "xaxis": "x",
         "y": {
          "bdata": "NXtFyQbBuECPIBXzYr+4QA==",
          "dtype": "f8"
         },
         "yaxis": "y"
        },
        {
         "line": {
          "color": "#FF66FE",
          "width": 0.6
         },
         "mode": "lines",
         "name": "HMA",
         "showlegend": false,
         "type": "scatter",
         "x": [
          "2025-08-05T10:01:00-04:00",
          "2025-08-05T10:02:00-04:00"
         ],
         "xaxis": "x",
         "y": {
          "bdata": "jyAV82K/uECb/m8xkb24QA==",
          "dtype": "f8"
         },
         "yaxis": "y"
        },
        {
         "line": {
          "color": "#FF66FE",
          "width": 0.6
         },
         "mode": "lines",
         "name": "HMA",
         "showlegend": false,
         "type": "scatter",
         "x": [
          "2025-08-05T10:02:00-04:00",
          "2025-08-05T10:03:00-04:00"
         ],
         "xaxis": "x",
         "y": {
          "bdata": "m/5vMZG9uEC78hUKqLu4QA==",
          "dtype": "f8"
         },
         "yaxis": "y"
        },
        {
         "line": {
          "color": "#FF66FE",
          "width": 0.6
         },
         "mode": "lines",
         "name": "HMA",
         "showlegend": false,
         "type": "scatter",
         "x": [
          "2025-08-05T10:03:00-04:00",
          "2025-08-05T10:04:00-04:00"
         ],
         "xaxis": "x",
         "y": {
          "bdata": "u/IVCqi7uECCtlcjrLm4QA==",
          "dtype": "f8"
         },
         "yaxis": "y"
        },
        {
         "line": {
          "color": "#FF66FE",
          "width": 0.6
         },
         "mode": "lines",
         "name": "HMA",
         "showlegend": false,
         "type": "scatter",
         "x": [
          "2025-08-05T10:04:00-04:00",
          "2025-08-05T10:05:00-04:00"
         ],
         "xaxis": "x",
         "y": {
          "bdata": "grZXI6y5uEB2K07Ngbe4QA==",
          "dtype": "f8"
         },
         "yaxis": "y"
        },
        {
         "line": {
          "color": "#FF66FE",
          "width": 0.6
         },
         "mode": "lines",
         "name": "HMA",
         "showlegend": false,
         "type": "scatter",
         "x": [
          "2025-08-05T10:05:00-04:00",
          "2025-08-05T10:06:00-04:00"
         ],
         "xaxis": "x",
         "y": {
          "bdata": "ditOzYG3uEBtP/iLyrW4QA==",
          "dtype": "f8"
         },
         "yaxis": "y"
        },
        {
         "line": {
          "color": "#FF66FE",
          "width": 0.6
         },
         "mode": "lines",
         "name": "HMA",
         "showlegend": false,
         "type": "scatter",
         "x": [
          "2025-08-05T10:06:00-04:00",
          "2025-08-05T10:07:00-04:00"
         ],
         "xaxis": "x",
         "y": {
          "bdata": "bT/4i8q1uECjZnUSurS4QA==",
          "dtype": "f8"
         },
         "yaxis": "y"
        },
        {
         "line": {
          "color": "#FF66FE",
          "width": 0.6
         },
         "mode": "lines",
         "name": "HMA",
         "showlegend": false,
         "type": "scatter",
         "x": [
          "2025-08-05T10:07:00-04:00",
          "2025-08-05T10:08:00-04:00"
         ],
         "xaxis": "x",
         "y": {
          "bdata": "o2Z1Erq0uEAA5oWq0bO4QA==",
          "dtype": "f8"
         },
         "yaxis": "y"
        },
        {
         "line": {
          "color": "#FF66FE",
          "width": 0.6
         },
         "mode": "lines",
         "name": "HMA",
         "showlegend": false,
         "type": "scatter",
         "x": [
          "2025-08-05T10:08:00-04:00",
          "2025-08-05T10:09:00-04:00"
         ],
         "xaxis": "x",
         "y": {
          "bdata": "AOaFqtGzuECYhdAnVrO4QA==",
          "dtype": "f8"
         },
         "yaxis": "y"
        },
        {
         "line": {
          "color": "#01FFFF",
          "width": 0.6
         },
         "mode": "lines",
         "name": "HMA",
         "showlegend": false,
         "type": "scatter",
         "x": [
          "2025-08-05T10:09:00-04:00",
          "2025-08-05T10:10:00-04:00"
         ],
         "xaxis": "x",
         "y": {
          "bdata": "mIXQJ1azuECdbjCidbO4QA==",
          "dtype": "f8"
         },
         "yaxis": "y"
        },
        {
         "line": {
          "color": "#01FFFF",
          "width": 0.6
         },
         "mode": "lines",
         "name": "HMA",
         "showlegend": false,
         "type": "scatter",
         "x": [
          "2025-08-05T10:10:00-04:00",
          "2025-08-05T10:11:00-04:00"
         ],
         "xaxis": "x",
         "y": {
          "bdata": "nW4wonWzuECtkyYctLO4QA==",
          "dtype": "f8"
         },
         "yaxis": "y"
        },
        {
         "line": {
          "color": "#01FFFF",
          "width": 0.6
         },
         "mode": "lines",
         "name": "HMA",
         "showlegend": false,
         "type": "scatter",
         "x": [
          "2025-08-05T10:11:00-04:00",
          "2025-08-05T10:12:00-04:00"
         ],
         "xaxis": "x",
         "y": {
          "bdata": "rZMmHLSzuEBJ18+nwLO4QA==",
          "dtype": "f8"
         },
         "yaxis": "y"
        },
        {
         "line": {
          "color": "#FF66FE",
          "width": 0.6
         },
         "mode": "lines",
         "name": "HMA",
         "showlegend": false,
         "type": "scatter",
         "x": [
          "2025-08-05T10:12:00-04:00",
          "2025-08-05T10:13:00-04:00"
         ],
         "xaxis": "x",
         "y": {
          "bdata": "SdfPp8CzuEBw4t8/j7O4QA==",
          "dtype": "f8"
         },
         "yaxis": "y"
        },
        {
         "line": {
          "color": "#FF66FE",
          "width": 0.6
         },
         "mode": "lines",
         "name": "HMA",
         "showlegend": false,
         "type": "scatter",
         "x": [
          "2025-08-05T10:13:00-04:00",
          "2025-08-05T10:14:00-04:00"
         ],
         "xaxis": "x",
         "y": {
          "bdata": "cOLfP4+zuECtjKjQLLO4QA==",
          "dtype": "f8"
         },
         "yaxis": "y"
        },
        {
         "line": {
          "color": "#FF66FE",
          "width": 0.6
         },
         "mode": "lines",
         "name": "HMA",
         "showlegend": false,
         "type": "scatter",
         "x": [
          "2025-08-05T10:14:00-04:00",
          "2025-08-05T10:15:00-04:00"
         ],
         "xaxis": "x",
         "y": {
          "bdata": "rYyo0CyzuEBlQ398tLK4QA==",
          "dtype": "f8"
         },
         "yaxis": "y"
        },
        {
         "line": {
          "color": "#FF66FE",
          "width": 0.6
         },
         "mode": "lines",
         "name": "HMA",
         "showlegend": false,
         "type": "scatter",
         "x": [
          "2025-08-05T10:15:00-04:00",
          "2025-08-05T10:16:00-04:00"
         ],
         "xaxis": "x",
         "y": {
          "bdata": "ZUN/fLSyuEArVEWjV7K4QA==",
          "dtype": "f8"
         },
         "yaxis": "y"
        },
        {
         "line": {
          "color": "#FF66FE",
          "width": 0.6
         },
         "mode": "lines",
         "name": "HMA",
         "showlegend": false,
         "type": "scatter",
         "x": [
          "2025-08-05T10:16:00-04:00",
          "2025-08-05T10:17:00-04:00"
         ],
         "xaxis": "x",
         "y": {
          "bdata": "K1RFo1eyuECAPZwil7G4QA==",
          "dtype": "f8"
         },
         "yaxis": "y"
        },
        {
         "line": {
          "color": "#FF66FE",
          "width": 0.6
         },
         "mode": "lines",
         "name": "HMA",
         "showlegend": false,
         "type": "scatter",
         "x": [
          "2025-08-05T10:17:00-04:00",
          "2025-08-05T10:18:00-04:00"
         ],
         "xaxis": "x",
         "y": {
          "bdata": "gD2cIpexuEDyh9UovbC4QA==",
          "dtype": "f8"
         },
         "yaxis": "y"
        },
        {
         "line": {
          "color": "#FF66FE",
          "width": 0.6
         },
         "mode": "lines",
         "name": "HMA",
         "showlegend": false,
         "type": "scatter",
         "x": [
          "2025-08-05T10:18:00-04:00",
          "2025-08-05T10:19:00-04:00"
         ],
         "xaxis": "x",
         "y": {
          "bdata": "8ofVKL2wuECwACvcH7C4QA==",
          "dtype": "f8"
         },
         "yaxis": "y"
        },
        {
         "line": {
          "color": "#FF66FE",
          "width": 0.6
         },
         "mode": "lines",
         "name": "HMA",
         "showlegend": false,
         "type": "scatter",
         "x": [
          "2025-08-05T10:19:00-04:00",
          "2025-08-05T10:20:00-04:00"
         ],
         "xaxis": "x",
         "y": {
          "bdata": "sAAr3B+wuEDDiHqpbK+4QA==",
          "dtype": "f8"
         },
         "yaxis": "y"
        },
        {
         "line": {
          "color": "#FF66FE",
          "width": 0.6
         },
         "mode": "lines",
         "name": "HMA",
         "showlegend": false,
         "type": "scatter",
         "x": [
          "2025-08-05T10:20:00-04:00",
          "2025-08-05T10:21:00-04:00"
         ],
         "xaxis": "x",
         "y": {
          "bdata": "w4h6qWyvuEDwOb01u664QA==",
          "dtype": "f8"
         },
         "yaxis": "y"
        },
        {
         "line": {
          "color": "#FF66FE",
          "width": 0.6
         },
         "mode": "lines",
         "name": "HMA",
         "showlegend": false,
         "type": "scatter",
         "x": [
          "2025-08-05T10:21:00-04:00",
          "2025-08-05T10:22:00-04:00"
         ],
         "xaxis": "x",
         "y": {
          "bdata": "8Dm9NbuuuEBsAQT7/K24QA==",
          "dtype": "f8"
         },
         "yaxis": "y"
        },
        {
         "line": {
          "color": "#FF66FE",
          "width": 0.6
         },
         "mode": "lines",
         "name": "HMA",
         "showlegend": false,
         "type": "scatter",
         "x": [
          "2025-08-05T10:22:00-04:00",
          "2025-08-05T10:23:00-04:00"
         ],
         "xaxis": "x",
         "y": {
          "bdata": "bAEE+/ytuECOoeGQPK24QA==",
          "dtype": "f8"
         },
         "yaxis": "y"
        },
        {
         "line": {
          "color": "#FF66FE",
          "width": 0.6
         },
         "mode": "lines",
         "name": "HMA",
         "showlegend": false,
         "type": "scatter",
         "x": [
          "2025-08-05T10:23:00-04:00",
          "2025-08-05T10:24:00-04:00"
         ],
         "xaxis": "x",
         "y": {
          "bdata": "jqHhkDytuEAFvi5xX6y4QA==",
          "dtype": "f8"
         },
         "yaxis": "y"
        },
        {
         "line": {
          "color": "#FF66FE",
          "width": 0.6
         },
         "mode": "lines",
         "name": "HMA",
         "showlegend": false,
         "type": "scatter",
         "x": [
          "2025-08-05T10:24:00-04:00",
          "2025-08-05T10:25:00-04:00"
         ],
         "xaxis": "x",
         "y": {
          "bdata": "Bb4ucV+suECL2B5Uiau4QA==",
          "dtype": "f8"
         },
         "yaxis": "y"
        },
        {
         "line": {
          "color": "#FF66FE",
          "width": 0.6
         },
         "mode": "lines",
         "name": "HMA",
         "showlegend": false,
         "type": "scatter",
         "x": [
          "2025-08-05T10:25:00-04:00",
          "2025-08-05T10:26:00-04:00"
         ],
         "xaxis": "x",
         "y": {
          "bdata": "i9geVImruECqXvMEiKq4QA==",
          "dtype": "f8"
         },
         "yaxis": "y"
        },
        {
         "line": {
          "color": "#FF66FE",
          "width": 0.6
         },
         "mode": "lines",
         "name": "HMA",
         "showlegend": false,
         "type": "scatter",
         "x": [
          "2025-08-05T10:26:00-04:00",
          "2025-08-05T10:27:00-04:00"
         ],
         "xaxis": "x",
         "y": {
          "bdata": "ql7zBIiquEDIV2DObam4QA==",
          "dtype": "f8"
         },
         "yaxis": "y"
        },
        {
         "line": {
          "color": "#FF66FE",
          "width": 0.6
         },
         "mode": "lines",
         "name": "HMA",
         "showlegend": false,
         "type": "scatter",
         "x": [
          "2025-08-05T10:27:00-04:00",
          "2025-08-05T10:28:00-04:00"
         ],
         "xaxis": "x",
         "y": {
          "bdata": "yFdgzm2puEACdz68i6i4QA==",
          "dtype": "f8"
         },
         "yaxis": "y"
        },
        {
         "line": {
          "color": "#FF66FE",
          "width": 0.6
         },
         "mode": "lines",
         "name": "HMA",
         "showlegend": false,
         "type": "scatter",
         "x": [
          "2025-08-05T10:28:00-04:00",
          "2025-08-05T10:29:00-04:00"
         ],
         "xaxis": "x",
         "y": {
          "bdata": "Anc+vIuouEDwZO4+S6i4QA==",
          "dtype": "f8"
         },
         "yaxis": "y"
        },
        {
         "line": {
          "color": "#01FFFF",
          "width": 0.6
         },
         "mode": "lines",
         "name": "HMA",
         "showlegend": false,
         "type": "scatter",
         "x": [
          "2025-08-05T10:29:00-04:00",
          "2025-08-05T10:30:00-04:00"
         ],
         "xaxis": "x",
         "y": {
          "bdata": "8GTuPkuouECWGZnPdqi4QA==",
          "dtype": "f8"
         },
         "yaxis": "y"
        },
        {
         "line": {
          "color": "#FF66FE",
          "width": 0.6
         },
         "mode": "lines",
         "name": "HMA",
         "showlegend": false,
         "type": "scatter",
         "x": [
          "2025-08-05T10:30:00-04:00",
          "2025-08-05T10:31:00-04:00"
         ],
         "xaxis": "x",
         "y": {
          "bdata": "lhmZz3aouEDSi1ahZai4QA==",
          "dtype": "f8"
         },
         "yaxis": "y"
        },
        {
         "line": {
          "color": "#FF66FE",
          "width": 0.6
         },
         "mode": "lines",
         "name": "HMA",
         "showlegend": false,
         "type": "scatter",
         "x": [
          "2025-08-05T10:31:00-04:00",
          "2025-08-05T10:32:00-04:00"
         ],
         "xaxis": "x",
         "y": {
          "bdata": "0otWoWWouEBvkQucRKi4QA==",
          "dtype": "f8"
         },
         "yaxis": "y"
        },
        {
         "line": {
          "color": "#FF66FE",
          "width": 0.6
         },
         "mode": "lines",
         "name": "HMA",
         "showlegend": false,
         "type": "scatter",
         "x": [
          "2025-08-05T10:32:00-04:00",
          "2025-08-05T10:33:00-04:00"
         ],
         "xaxis": "x",
         "y": {
          "bdata": "b5ELnESouEDlNv7I0ae4QA==",
          "dtype": "f8"
         },
         "yaxis": "y"
        },
        {
         "line": {
          "color": "#FF66FE",
          "width": 0.6
         },
         "mode": "lines",
         "name": "HMA",
         "showlegend": false,
         "type": "scatter",
         "x": [
          "2025-08-05T10:33:00-04:00",
          "2025-08-05T10:34:00-04:00"
         ],
         "xaxis": "x",
         "y": {
          "bdata": "5Tb+yNGnuECWk1kmPKe4QA==",
          "dtype": "f8"
         },
         "yaxis": "y"
        },
        {
         "line": {
          "color": "#FF66FE",
          "width": 0.6
         },
         "mode": "lines",
         "name": "HMA",
         "showlegend": false,
         "type": "scatter",
         "x": [
          "2025-08-05T10:34:00-04:00",
          "2025-08-05T10:35:00-04:00"
         ],
         "xaxis": "x",
         "y": {
          "bdata": "lpNZJjynuECrlv7Dhqa4QA==",
          "dtype": "f8"
         },
         "yaxis": "y"
        },
        {
         "line": {
          "color": "#FF66FE",
          "width": 0.6
         },
         "mode": "lines",
         "name": "HMA",
         "showlegend": false,
         "type": "scatter",
         "x": [
          "2025-08-05T10:35:00-04:00",
          "2025-08-05T10:36:00-04:00"
         ],
         "xaxis": "x",
         "y": {
          "bdata": "q5b+w4amuEDTjFyLq6W4QA==",
          "dtype": "f8"
         },
         "yaxis": "y"
        },
        {
         "line": {
          "color": "#FF66FE",
          "width": 0.6
         },
         "mode": "lines",
         "name": "HMA",
         "showlegend": false,
         "type": "scatter",
         "x": [
          "2025-08-05T10:36:00-04:00",
          "2025-08-05T10:37:00-04:00"
         ],
         "xaxis": "x",
         "y": {
          "bdata": "04xci6uluED4HXK2paS4QA==",
          "dtype": "f8"
         },
         "yaxis": "y"
        },
        {
         "line": {
          "color": "#FF66FE",
          "width": 0.6
         },
         "mode": "lines",
         "name": "HMA",
         "showlegend": false,
         "type": "scatter",
         "x": [
          "2025-08-05T10:37:00-04:00",
          "2025-08-05T10:38:00-04:00"
         ],
         "xaxis": "x",
         "y": {
          "bdata": "+B1ytqWkuECL/WX3dKO4QA==",
          "dtype": "f8"
         },
         "yaxis": "y"
        },
        {
         "line": {
          "color": "#FF66FE",
          "width": 0.6
         },
         "mode": "lines",
         "name": "HMA",
         "showlegend": false,
         "type": "scatter",
         "x": [
          "2025-08-05T10:38:00-04:00",
          "2025-08-05T10:39:00-04:00"
         ],
         "xaxis": "x",
         "y": {
          "bdata": "i/1l93SjuEBzkbe2NqK4QA==",
          "dtype": "f8"
         },
         "yaxis": "y"
        },
        {
         "line": {
          "color": "#FF66FE",
          "width": 0.6
         },
         "mode": "lines",
         "name": "HMA",
         "showlegend": false,
         "type": "scatter",
         "x": [
          "2025-08-05T10:39:00-04:00",
          "2025-08-05T10:40:00-04:00"
         ],
         "xaxis": "x",
         "y": {
          "bdata": "c5G3tjaiuECpzyrQT6G4QA==",
          "dtype": "f8"
         },
         "yaxis": "y"
        },
        {
         "line": {
          "color": "#FF66FE",
          "width": 0.6
         },
         "mode": "lines",
         "name": "HMA",
         "showlegend": false,
         "type": "scatter",
         "x": [
          "2025-08-05T10:40:00-04:00",
          "2025-08-05T10:41:00-04:00"
         ],
         "xaxis": "x",
         "y": {
          "bdata": "qc8q0E+huECbm2zri6C4QA==",
          "dtype": "f8"
         },
         "yaxis": "y"
        },
        {
         "line": {
          "color": "#FF66FE",
          "width": 0.6
         },
         "mode": "lines",
         "name": "HMA",
         "showlegend": false,
         "type": "scatter",
         "x": [
          "2025-08-05T10:41:00-04:00",
          "2025-08-05T10:42:00-04:00"
         ],
         "xaxis": "x",
         "y": {
          "bdata": "m5ts64uguEDL/Ty1pJ+4QA==",
          "dtype": "f8"
         },
         "yaxis": "y"
        },
        {
         "line": {
          "color": "#FF66FE",
          "width": 0.6
         },
         "mode": "lines",
         "name": "HMA",
         "showlegend": false,
         "type": "scatter",
         "x": [
          "2025-08-05T10:42:00-04:00",
          "2025-08-05T10:43:00-04:00"
         ],
         "xaxis": "x",
         "y": {
          "bdata": "y/08taSfuEBuBXEcSJ64QA==",
          "dtype": "f8"
         },
         "yaxis": "y"
        },
        {
         "line": {
          "color": "#FF66FE",
          "width": 0.6
         },
         "mode": "lines",
         "name": "HMA",
         "showlegend": false,
         "type": "scatter",
         "x": [
          "2025-08-05T10:43:00-04:00",
          "2025-08-05T10:44:00-04:00"
         ],
         "xaxis": "x",
         "y": {
          "bdata": "bgVxHEieuECruMI4k5y4QA==",
          "dtype": "f8"
         },
         "yaxis": "y"
        },
        {
         "line": {
          "color": "#FF66FE",
          "width": 0.6
         },
         "mode": "lines",
         "name": "HMA",
         "showlegend": false,
         "type": "scatter",
         "x": [
          "2025-08-05T10:44:00-04:00",
          "2025-08-05T10:45:00-04:00"
         ],
         "xaxis": "x",
         "y": {
          "bdata": "q7jCOJOcuEAYqdb9lJq4QA==",
          "dtype": "f8"
         },
         "yaxis": "y"
        },
        {
         "line": {
          "color": "#FF66FE",
          "width": 0.6
         },
         "mode": "lines",
         "name": "HMA",
         "showlegend": false,
         "type": "scatter",
         "x": [
          "2025-08-05T10:45:00-04:00",
          "2025-08-05T10:46:00-04:00"
         ],
         "xaxis": "x",
         "y": {
          "bdata": "GKnW/ZSauEADtIJwrJi4QA==",
          "dtype": "f8"
         },
         "yaxis": "y"
        },
        {
         "line": {
          "color": "#FF66FE",
          "width": 0.6
         },
         "mode": "lines",
         "name": "HMA",
         "showlegend": false,
         "type": "scatter",
         "x": [
          "2025-08-05T10:46:00-04:00",
          "2025-08-05T10:47:00-04:00"
         ],
         "xaxis": "x",
         "y": {
          "bdata": "A7SCcKyYuECykj5RQ5e4QA==",
          "dtype": "f8"
         },
         "yaxis": "y"
        },
        {
         "line": {
          "color": "#FF66FE",
          "width": 0.6
         },
         "mode": "lines",
         "name": "HMA",
         "showlegend": false,
         "type": "scatter",
         "x": [
          "2025-08-05T10:47:00-04:00",
          "2025-08-05T10:48:00-04:00"
         ],
         "xaxis": "x",
         "y": {
          "bdata": "spI+UUOXuED4BBvWnJW4QA==",
          "dtype": "f8"
         },
         "yaxis": "y"
        },
        {
         "line": {
          "color": "#FF66FE",
          "width": 0.6
         },
         "mode": "lines",
         "name": "HMA",
         "showlegend": false,
         "type": "scatter",
         "x": [
          "2025-08-05T10:48:00-04:00",
          "2025-08-05T10:49:00-04:00"
         ],
         "xaxis": "x",
         "y": {
          "bdata": "+AQb1pyVuECNjjoA2ZO4QA==",
          "dtype": "f8"
         },
         "yaxis": "y"
        },
        {
         "line": {
          "color": "#FF66FE",
          "width": 0.6
         },
         "mode": "lines",
         "name": "HMA",
         "showlegend": false,
         "type": "scatter",
         "x": [
          "2025-08-05T10:49:00-04:00",
          "2025-08-05T10:50:00-04:00"
         ],
         "xaxis": "x",
         "y": {
          "bdata": "jY46ANmTuEDuLI4GSZK4QA==",
          "dtype": "f8"
         },
         "yaxis": "y"
        },
        {
         "line": {
          "color": "#FF66FE",
          "width": 0.6
         },
         "mode": "lines",
         "name": "HMA",
         "showlegend": false,
         "type": "scatter",
         "x": [
          "2025-08-05T10:50:00-04:00",
          "2025-08-05T10:51:00-04:00"
         ],
         "xaxis": "x",
         "y": {
          "bdata": "7iyOBkmSuEAWwCEKQpG4QA==",
          "dtype": "f8"
         },
         "yaxis": "y"
        },
        {
         "line": {
          "color": "#FF66FE",
          "width": 0.6
         },
         "mode": "lines",
         "name": "HMA",
         "showlegend": false,
         "type": "scatter",
         "x": [
          "2025-08-05T10:51:00-04:00",
          "2025-08-05T10:52:00-04:00"
         ],
         "xaxis": "x",
         "y": {
          "bdata": "FsAhCkKRuEA0QYRDBZG4QA==",
          "dtype": "f8"
         },
         "yaxis": "y"
        },
        {
         "line": {
          "color": "#01FFFF",
          "width": 0.6
         },
         "mode": "lines",
         "name": "HMA",
         "showlegend": false,
         "type": "scatter",
         "x": [
          "2025-08-05T10:52:00-04:00",
          "2025-08-05T10:53:00-04:00"
         ],
         "xaxis": "x",
         "y": {
          "bdata": "NEGEQwWRuEBL9JOphJG4QA==",
          "dtype": "f8"
         },
         "yaxis": "y"
        },
        {
         "line": {
          "color": "#01FFFF",
          "width": 0.6
         },
         "mode": "lines",
         "name": "HMA",
         "showlegend": false,
         "type": "scatter",
         "x": [
          "2025-08-05T10:53:00-04:00",
          "2025-08-05T10:54:00-04:00"
         ],
         "xaxis": "x",
         "y": {
          "bdata": "S/STqYSRuEDsuwAuGJK4QA==",
          "dtype": "f8"
         },
         "yaxis": "y"
        },
        {
         "line": {
          "color": "#01FFFF",
          "width": 0.6
         },
         "mode": "lines",
         "name": "HMA",
         "showlegend": false,
         "type": "scatter",
         "x": [
          "2025-08-05T10:54:00-04:00",
          "2025-08-05T10:55:00-04:00"
         ],
         "xaxis": "x",
         "y": {
          "bdata": "7LsALhiSuEDaGnZ3zJK4QA==",
          "dtype": "f8"
         },
         "yaxis": "y"
        },
        {
         "line": {
          "color": "#01FFFF",
          "width": 0.6
         },
         "mode": "lines",
         "name": "HMA",
         "showlegend": false,
         "type": "scatter",
         "x": [
          "2025-08-05T10:55:00-04:00",
          "2025-08-05T10:56:00-04:00"
         ],
         "xaxis": "x",
         "y": {
          "bdata": "2hp2d8ySuEClerCIoJO4QA==",
          "dtype": "f8"
         },
         "yaxis": "y"
        },
        {
         "line": {
          "color": "#01FFFF",
          "width": 0.6
         },
         "mode": "lines",
         "name": "HMA",
         "showlegend": false,
         "type": "scatter",
         "x": [
          "2025-08-05T10:56:00-04:00",
          "2025-08-05T10:57:00-04:00"
         ],
         "xaxis": "x",
         "y": {
          "bdata": "pXqwiKCTuEBIhsKBrJS4QA==",
          "dtype": "f8"
         },
         "yaxis": "y"
        },
        {
         "line": {
          "color": "#01FFFF",
          "width": 0.6
         },
         "mode": "lines",
         "name": "HMA",
         "showlegend": false,
         "type": "scatter",
         "x": [
          "2025-08-05T10:57:00-04:00",
          "2025-08-05T10:58:00-04:00"
         ],
         "xaxis": "x",
         "y": {
          "bdata": "SIbCgayUuEBuGDSkBZa4QA==",
          "dtype": "f8"
         },
         "yaxis": "y"
        },
        {
         "line": {
          "color": "#01FFFF",
          "width": 0.6
         },
         "mode": "lines",
         "name": "HMA",
         "showlegend": false,
         "type": "scatter",
         "x": [
          "2025-08-05T10:58:00-04:00",
          "2025-08-05T10:59:00-04:00"
         ],
         "xaxis": "x",
         "y": {
          "bdata": "bhg0pAWWuECoXkh+a5e4QA==",
          "dtype": "f8"
         },
         "yaxis": "y"
        },
        {
         "line": {
          "color": "#01FFFF",
          "width": 0.6
         },
         "mode": "lines",
         "name": "HMA",
         "showlegend": false,
         "type": "scatter",
         "x": [
          "2025-08-05T10:59:00-04:00",
          "2025-08-05T11:00:00-04:00"
         ],
         "xaxis": "x",
         "y": {
          "bdata": "qF5IfmuXuECY16khUZi4QA==",
          "dtype": "f8"
         },
         "yaxis": "y"
        },
        {
         "line": {
          "color": "#01FFFF",
          "width": 0.6
         },
         "mode": "lines",
         "name": "HMA",
         "showlegend": false,
         "type": "scatter",
         "x": [
          "2025-08-05T11:00:00-04:00",
          "2025-08-05T11:01:00-04:00"
         ],
         "xaxis": "x",
         "y": {
          "bdata": "mNepIVGYuEDUd40vApm4QA==",
          "dtype": "f8"
         },
         "yaxis": "y"
        },
        {
         "line": {
          "color": "#01FFFF",
          "width": 0.6
         },
         "mode": "lines",
         "name": "HMA",
         "showlegend": false,
         "type": "scatter",
         "x": [
          "2025-08-05T11:01:00-04:00",
          "2025-08-05T11:02:00-04:00"
         ],
         "xaxis": "x",
         "y": {
          "bdata": "1HeNLwKZuEAjqdgl4Jm4QA==",
          "dtype": "f8"
         },
         "yaxis": "y"
        },
        {
         "line": {
          "color": "#01FFFF",
          "width": 0.6
         },
         "mode": "lines",
         "name": "HMA",
         "showlegend": false,
         "type": "scatter",
         "x": [
          "2025-08-05T11:02:00-04:00",
          "2025-08-05T11:03:00-04:00"
         ],
         "xaxis": "x",
         "y": {
          "bdata": "I6nYJeCZuECn94Kd95q4QA==",
          "dtype": "f8"
         },
         "yaxis": "y"
        },
        {
         "line": {
          "color": "#01FFFF",
          "width": 0.6
         },
         "mode": "lines",
         "name": "HMA",
         "showlegend": false,
         "type": "scatter",
         "x": [
          "2025-08-05T11:03:00-04:00",
          "2025-08-05T11:04:00-04:00"
         ],
         "xaxis": "x",
         "y": {
          "bdata": "p/eCnfeauEAyB1G5EJy4QA==",
          "dtype": "f8"
         },
         "yaxis": "y"
        },
        {
         "line": {
          "color": "#01FFFF",
          "width": 0.6
         },
         "mode": "lines",
         "name": "HMA",
         "showlegend": false,
         "type": "scatter",
         "x": [
          "2025-08-05T11:04:00-04:00",
          "2025-08-05T11:05:00-04:00"
         ],
         "xaxis": "x",
         "y": {
          "bdata": "MgdRuRCcuEBimRl9GJ24QA==",
          "dtype": "f8"
         },
         "yaxis": "y"
        },
        {
         "line": {
          "color": "#01FFFF",
          "width": 0.6
         },
         "mode": "lines",
         "name": "HMA",
         "showlegend": false,
         "type": "scatter",
         "x": [
          "2025-08-05T11:05:00-04:00",
          "2025-08-05T11:06:00-04:00"
         ],
         "xaxis": "x",
         "y": {
          "bdata": "YpkZfRiduEC0gNYs7524QA==",
          "dtype": "f8"
         },
         "yaxis": "y"
        },
        {
         "line": {
          "color": "#01FFFF",
          "width": 0.6
         },
         "mode": "lines",
         "name": "HMA",
         "showlegend": false,
         "type": "scatter",
         "x": [
          "2025-08-05T11:06:00-04:00",
          "2025-08-05T11:07:00-04:00"
         ],
         "xaxis": "x",
         "y": {
          "bdata": "tIDWLO+duED2JaDeuZ64QA==",
          "dtype": "f8"
         },
         "yaxis": "y"
        },
        {
         "line": {
          "color": "#01FFFF",
          "width": 0.6
         },
         "mode": "lines",
         "name": "HMA",
         "showlegend": false,
         "type": "scatter",
         "x": [
          "2025-08-05T11:07:00-04:00",
          "2025-08-05T11:08:00-04:00"
         ],
         "xaxis": "x",
         "y": {
          "bdata": "9iWg3rmeuED1rHLZgZ+4QA==",
          "dtype": "f8"
         },
         "yaxis": "y"
        },
        {
         "line": {
          "color": "#01FFFF",
          "width": 0.6
         },
         "mode": "lines",
         "name": "HMA",
         "showlegend": false,
         "type": "scatter",
         "x": [
          "2025-08-05T11:08:00-04:00",
          "2025-08-05T11:09:00-04:00"
         ],
         "xaxis": "x",
         "y": {
          "bdata": "9axy2YGfuEAa0Cl1HKC4QA==",
          "dtype": "f8"
         },
         "yaxis": "y"
        },
        {
         "line": {
          "color": "#FF66FE",
          "width": 0.6
         },
         "mode": "lines",
         "name": "HMA",
         "showlegend": false,
         "type": "scatter",
         "x": [
          "2025-08-05T11:09:00-04:00",
          "2025-08-05T11:10:00-04:00"
         ],
         "xaxis": "x",
         "y": {
          "bdata": "GtApdRyguEAr5Yoc6Z+4QA==",
          "dtype": "f8"
         },
         "yaxis": "y"
        },
        {
         "line": {
          "color": "#FF66FE",
          "width": 0.6
         },
         "mode": "lines",
         "name": "HMA",
         "showlegend": false,
         "type": "scatter",
         "x": [
          "2025-08-05T11:10:00-04:00",
          "2025-08-05T11:11:00-04:00"
         ],
         "xaxis": "x",
         "y": {
          "bdata": "K+WKHOmfuEA10wgpRp+4QA==",
          "dtype": "f8"
         },
         "yaxis": "y"
        },
        {
         "line": {
          "color": "#FF66FE",
          "width": 0.6
         },
         "mode": "lines",
         "name": "HMA",
         "showlegend": false,
         "type": "scatter",
         "x": [
          "2025-08-05T11:11:00-04:00",
          "2025-08-05T11:12:00-04:00"
         ],
         "xaxis": "x",
         "y": {
          "bdata": "NdMIKUafuEBTqVYadp64QA==",
          "dtype": "f8"
         },
         "yaxis": "y"
        },
        {
         "line": {
          "color": "#FF66FE",
          "width": 0.6
         },
         "mode": "lines",
         "name": "HMA",
         "showlegend": false,
         "type": "scatter",
         "x": [
          "2025-08-05T11:12:00-04:00",
          "2025-08-05T11:13:00-04:00"
         ],
         "xaxis": "x",
         "y": {
          "bdata": "U6lWGnaeuEAKjYaaA564QA==",
          "dtype": "f8"
         },
         "yaxis": "y"
        },
        {
         "line": {
          "color": "#01FFFF",
          "width": 0.6
         },
         "mode": "lines",
         "name": "HMA",
         "showlegend": false,
         "type": "scatter",
         "x": [
          "2025-08-05T11:13:00-04:00",
          "2025-08-05T11:14:00-04:00"
         ],
         "xaxis": "x",
         "y": {
          "bdata": "Co2GmgOeuEBYGfuTIJ64QA==",
          "dtype": "f8"
         },
         "yaxis": "y"
        },
        {
         "line": {
          "color": "#01FFFF",
          "width": 0.6
         },
         "mode": "lines",
         "name": "HMA",
         "showlegend": false,
         "type": "scatter",
         "x": [
          "2025-08-05T11:14:00-04:00",
          "2025-08-05T11:15:00-04:00"
         ],
         "xaxis": "x",
         "y": {
          "bdata": "WBn7kyCeuEC2X1EkYp64QA==",
          "dtype": "f8"
         },
         "yaxis": "y"
        },
        {
         "line": {
          "color": "#01FFFF",
          "width": 0.6
         },
         "mode": "lines",
         "name": "HMA",
         "showlegend": false,
         "type": "scatter",
         "x": [
          "2025-08-05T11:15:00-04:00",
          "2025-08-05T11:16:00-04:00"
         ],
         "xaxis": "x",
         "y": {
          "bdata": "tl9RJGKeuEBF+HCnh564QA==",
          "dtype": "f8"
         },
         "yaxis": "y"
        },
        {
         "line": {
          "color": "#FF66FE",
          "width": 0.6
         },
         "mode": "lines",
         "name": "HMA",
         "showlegend": false,
         "type": "scatter",
         "x": [
          "2025-08-05T11:16:00-04:00",
          "2025-08-05T11:17:00-04:00"
         ],
         "xaxis": "x",
         "y": {
          "bdata": "Rfhwp4eeuEBYV7c2Op64QA==",
          "dtype": "f8"
         },
         "yaxis": "y"
        },
        {
         "line": {
          "color": "#FF66FE",
          "width": 0.6
         },
         "mode": "lines",
         "name": "HMA",
         "showlegend": false,
         "type": "scatter",
         "x": [
          "2025-08-05T11:17:00-04:00",
          "2025-08-05T11:18:00-04:00"
         ],
         "xaxis": "x",
         "y": {
          "bdata": "WFe3NjqeuECaw6jBCZ64QA==",
          "dtype": "f8"
         },
         "yaxis": "y"
        },
        {
         "line": {
          "color": "#FF66FE",
          "width": 0.6
         },
         "mode": "lines",
         "name": "HMA",
         "showlegend": false,
         "type": "scatter",
         "x": [
          "2025-08-05T11:18:00-04:00",
          "2025-08-05T11:19:00-04:00"
         ],
         "xaxis": "x",
         "y": {
          "bdata": "msOowQmeuECg6fd21p24QA==",
          "dtype": "f8"
         },
         "yaxis": "y"
        },
        {
         "line": {
          "color": "#01FFFF",
          "width": 0.6
         },
         "mode": "lines",
         "name": "HMA",
         "showlegend": false,
         "type": "scatter",
         "x": [
          "2025-08-05T11:19:00-04:00",
          "2025-08-05T11:20:00-04:00"
         ],
         "xaxis": "x",
         "y": {
          "bdata": "oOn3dtaduEClXrnu+J24QA==",
          "dtype": "f8"
         },
         "yaxis": "y"
        },
        {
         "line": {
          "color": "#01FFFF",
          "width": 0.6
         },
         "mode": "lines",
         "name": "HMA",
         "showlegend": false,
         "type": "scatter",
         "x": [
          "2025-08-05T11:20:00-04:00",
          "2025-08-05T11:21:00-04:00"
         ],
         "xaxis": "x",
         "y": {
          "bdata": "pV657viduEBJQGdGIZ64QA==",
          "dtype": "f8"
         },
         "yaxis": "y"
        },
        {
         "line": {
          "color": "#01FFFF",
          "width": 0.6
         },
         "mode": "lines",
         "name": "HMA",
         "showlegend": false,
         "type": "scatter",
         "x": [
          "2025-08-05T11:21:00-04:00",
          "2025-08-05T11:22:00-04:00"
         ],
         "xaxis": "x",
         "y": {
          "bdata": "SUBnRiGeuEBBBWbAKp64QA==",
          "dtype": "f8"
         },
         "yaxis": "y"
        },
        {
         "line": {
          "color": "#FF66FE",
          "width": 0.6
         },
         "mode": "lines",
         "name": "HMA",
         "showlegend": false,
         "type": "scatter",
         "x": [
          "2025-08-05T11:22:00-04:00",
          "2025-08-05T11:23:00-04:00"
         ],
         "xaxis": "x",
         "y": {
          "bdata": "QQVmwCqeuECx9tTo9Z24QA==",
          "dtype": "f8"
         },
         "yaxis": "y"
        },
        {
         "line": {
          "color": "#FF66FE",
          "width": 0.6
         },
         "mode": "lines",
         "name": "HMA",
         "showlegend": false,
         "type": "scatter",
         "x": [
          "2025-08-05T11:23:00-04:00",
          "2025-08-05T11:24:00-04:00"
         ],
         "xaxis": "x",
         "y": {
          "bdata": "sfbU6PWduEA6IXcpYZ24QA==",
          "dtype": "f8"
         },
         "yaxis": "y"
        },
        {
         "line": {
          "color": "#FF66FE",
          "width": 0.6
         },
         "mode": "lines",
         "name": "HMA",
         "showlegend": false,
         "type": "scatter",
         "x": [
          "2025-08-05T11:24:00-04:00",
          "2025-08-05T11:25:00-04:00"
         ],
         "xaxis": "x",
         "y": {
          "bdata": "OiF3KWGduEBjivyYj5y4QA==",
          "dtype": "f8"
         },
         "yaxis": "y"
        },
        {
         "line": {
          "color": "#FF66FE",
          "width": 0.6
         },
         "mode": "lines",
         "name": "HMA",
         "showlegend": false,
         "type": "scatter",
         "x": [
          "2025-08-05T11:25:00-04:00",
          "2025-08-05T11:26:00-04:00"
         ],
         "xaxis": "x",
         "y": {
          "bdata": "Y4r8mI+cuEAcN5rczJu4QA==",
          "dtype": "f8"
         },
         "yaxis": "y"
        },
        {
         "line": {
          "color": "#FF66FE",
          "width": 0.6
         },
         "mode": "lines",
         "name": "HMA",
         "showlegend": false,
         "type": "scatter",
         "x": [
          "2025-08-05T11:26:00-04:00",
          "2025-08-05T11:27:00-04:00"
         ],
         "xaxis": "x",
         "y": {
          "bdata": "HDea3MybuECWUIEZYJu4QA==",
          "dtype": "f8"
         },
         "yaxis": "y"
        },
        {
         "line": {
          "color": "#FF66FE",
          "width": 0.6
         },
         "mode": "lines",
         "name": "HMA",
         "showlegend": false,
         "type": "scatter",
         "x": [
          "2025-08-05T11:27:00-04:00",
          "2025-08-05T11:28:00-04:00"
         ],
         "xaxis": "x",
         "y": {
          "bdata": "llCBGWCbuEDK6G1Z+5q4QA==",
          "dtype": "f8"
         },
         "yaxis": "y"
        },
        {
         "line": {
          "color": "#FF66FE",
          "width": 0.6
         },
         "mode": "lines",
         "name": "HMA",
         "showlegend": false,
         "type": "scatter",
         "x": [
          "2025-08-05T11:28:00-04:00",
          "2025-08-05T11:29:00-04:00"
         ],
         "xaxis": "x",
         "y": {
          "bdata": "yuhtWfuauEANEYKBnpq4QA==",
          "dtype": "f8"
         },
         "yaxis": "y"
        },
        {
         "line": {
          "color": "#FF66FE",
          "width": 0.6
         },
         "mode": "lines",
         "name": "HMA",
         "showlegend": false,
         "type": "scatter",
         "x": [
          "2025-08-05T11:29:00-04:00",
          "2025-08-05T11:30:00-04:00"
         ],
         "xaxis": "x",
         "y": {
          "bdata": "DRGCgZ6auEBwTmwRQpq4QA==",
          "dtype": "f8"
         },
         "yaxis": "y"
        },
        {
         "line": {
          "color": "#FF66FE",
          "width": 0.6
         },
         "mode": "lines",
         "name": "HMA",
         "showlegend": false,
         "type": "scatter",
         "x": [
          "2025-08-05T11:30:00-04:00",
          "2025-08-05T11:31:00-04:00"
         ],
         "xaxis": "x",
         "y": {
          "bdata": "cE5sEUKauEALoPSoLZq4QA==",
          "dtype": "f8"
         },
         "yaxis": "y"
        },
        {
         "line": {
          "color": "#01FFFF",
          "width": 0.6
         },
         "mode": "lines",
         "name": "HMA",
         "showlegend": false,
         "type": "scatter",
         "x": [
          "2025-08-05T11:31:00-04:00",
          "2025-08-05T11:32:00-04:00"
         ],
         "xaxis": "x",
         "y": {
          "bdata": "C6D0qC2auEDd6FWyV5q4QA==",
          "dtype": "f8"
         },
         "yaxis": "y"
        },
        {
         "line": {
          "color": "#01FFFF",
          "width": 0.6
         },
         "mode": "lines",
         "name": "HMA",
         "showlegend": false,
         "type": "scatter",
         "x": [
          "2025-08-05T11:32:00-04:00",
          "2025-08-05T11:33:00-04:00"
         ],
         "xaxis": "x",
         "y": {
          "bdata": "3ehVsleauEBO5Mbo3pq4QA==",
          "dtype": "f8"
         },
         "yaxis": "y"
        },
        {
         "line": {
          "color": "#01FFFF",
          "width": 0.6
         },
         "mode": "lines",
         "name": "HMA",
         "showlegend": false,
         "type": "scatter",
         "x": [
          "2025-08-05T11:33:00-04:00",
          "2025-08-05T11:34:00-04:00"
         ],
         "xaxis": "x",
         "y": {
          "bdata": "TuTG6N6auEB99sdkPZu4QA==",
          "dtype": "f8"
         },
         "yaxis": "y"
        },
        {
         "line": {
          "color": "#FF66FE",
          "width": 0.6
         },
         "mode": "lines",
         "name": "HMA",
         "showlegend": false,
         "type": "scatter",
         "x": [
          "2025-08-05T11:34:00-04:00",
          "2025-08-05T11:35:00-04:00"
         ],
         "xaxis": "x",
         "y": {
          "bdata": "ffbHZD2buEDu9lWZrJq4QA==",
          "dtype": "f8"
         },
         "yaxis": "y"
        },
        {
         "line": {
          "color": "#FF66FE",
          "width": 0.6
         },
         "mode": "lines",
         "name": "HMA",
         "showlegend": false,
         "type": "scatter",
         "x": [
          "2025-08-05T11:35:00-04:00",
          "2025-08-05T11:36:00-04:00"
         ],
         "xaxis": "x",
         "y": {
          "bdata": "7vZVmayauEC9P9OZwJm4QA==",
          "dtype": "f8"
         },
         "yaxis": "y"
        },
        {
         "line": {
          "color": "#FF66FE",
          "width": 0.6
         },
         "mode": "lines",
         "name": "HMA",
         "showlegend": false,
         "type": "scatter",
         "x": [
          "2025-08-05T11:36:00-04:00",
          "2025-08-05T11:37:00-04:00"
         ],
         "xaxis": "x",
         "y": {
          "bdata": "vT/TmcCZuEAVPzjhiJi4QA==",
          "dtype": "f8"
         },
         "yaxis": "y"
        },
        {
         "line": {
          "color": "#FF66FE",
          "width": 0.6
         },
         "mode": "lines",
         "name": "HMA",
         "showlegend": false,
         "type": "scatter",
         "x": [
          "2025-08-05T11:37:00-04:00",
          "2025-08-05T11:38:00-04:00"
         ],
         "xaxis": "x",
         "y": {
          "bdata": "FT844YiYuEAYuGXmUJe4QA==",
          "dtype": "f8"
         },
         "yaxis": "y"
        },
        {
         "line": {
          "color": "#FF66FE",
          "width": 0.6
         },
         "mode": "lines",
         "name": "HMA",
         "showlegend": false,
         "type": "scatter",
         "x": [
          "2025-08-05T11:38:00-04:00",
          "2025-08-05T11:39:00-04:00"
         ],
         "xaxis": "x",
         "y": {
          "bdata": "GLhl5lCXuEB+sgb5apa4QA==",
          "dtype": "f8"
         },
         "yaxis": "y"
        },
        {
         "line": {
          "color": "#FF66FE",
          "width": 0.6
         },
         "mode": "lines",
         "name": "HMA",
         "showlegend": false,
         "type": "scatter",
         "x": [
          "2025-08-05T11:39:00-04:00",
          "2025-08-05T11:40:00-04:00"
         ],
         "xaxis": "x",
         "y": {
          "bdata": "frIG+WqWuECzFTO6opW4QA==",
          "dtype": "f8"
         },
         "yaxis": "y"
        },
        {
         "line": {
          "color": "#FF66FE",
          "width": 0.6
         },
         "mode": "lines",
         "name": "HMA",
         "showlegend": false,
         "type": "scatter",
         "x": [
          "2025-08-05T11:40:00-04:00",
          "2025-08-05T11:41:00-04:00"
         ],
         "xaxis": "x",
         "y": {
          "bdata": "sxUzuqKVuEBrdH+IxJS4QA==",
          "dtype": "f8"
         },
         "yaxis": "y"
        },
        {
         "line": {
          "color": "#FF66FE",
          "width": 0.6
         },
         "mode": "lines",
         "name": "HMA",
         "showlegend": false,
         "type": "scatter",
         "x": [
          "2025-08-05T11:41:00-04:00",
          "2025-08-05T11:42:00-04:00"
         ],
         "xaxis": "x",
         "y": {
          "bdata": "a3R/iMSUuEBC760FK5S4QA==",
          "dtype": "f8"
         },
         "yaxis": "y"
        },
        {
         "line": {
          "color": "#FF66FE",
          "width": 0.6
         },
         "mode": "lines",
         "name": "HMA",
         "showlegend": false,
         "type": "scatter",
         "x": [
          "2025-08-05T11:42:00-04:00",
          "2025-08-05T11:43:00-04:00"
         ],
         "xaxis": "x",
         "y": {
          "bdata": "Qu+tBSuUuEAskINt8pO4QA==",
          "dtype": "f8"
         },
         "yaxis": "y"
        },
        {
         "line": {
          "color": "#01FFFF",
          "width": 0.6
         },
         "mode": "lines",
         "name": "HMA",
         "showlegend": false,
         "type": "scatter",
         "x": [
          "2025-08-05T11:43:00-04:00",
          "2025-08-05T11:44:00-04:00"
         ],
         "xaxis": "x",
         "y": {
          "bdata": "LJCDbfKTuECiwzjlIZS4QA==",
          "dtype": "f8"
         },
         "yaxis": "y"
        },
        {
         "line": {
          "color": "#01FFFF",
          "width": 0.6
         },
         "mode": "lines",
         "name": "HMA",
         "showlegend": false,
         "type": "scatter",
         "x": [
          "2025-08-05T11:44:00-04:00",
          "2025-08-05T11:45:00-04:00"
         ],
         "xaxis": "x",
         "y": {
          "bdata": "osM45SGUuEBSzMprr5S4QA==",
          "dtype": "f8"
         },
         "yaxis": "y"
        },
        {
         "line": {
          "color": "#01FFFF",
          "width": 0.6
         },
         "mode": "lines",
         "name": "HMA",
         "showlegend": false,
         "type": "scatter",
         "x": [
          "2025-08-05T11:45:00-04:00",
          "2025-08-05T11:46:00-04:00"
         ],
         "xaxis": "x",
         "y": {
          "bdata": "UszKa6+UuECtwNRpbZW4QA==",
          "dtype": "f8"
         },
         "yaxis": "y"
        },
        {
         "line": {
          "color": "#01FFFF",
          "width": 0.6
         },
         "mode": "lines",
         "name": "HMA",
         "showlegend": false,
         "type": "scatter",
         "x": [
          "2025-08-05T11:46:00-04:00",
          "2025-08-05T11:47:00-04:00"
         ],
         "xaxis": "x",
         "y": {
          "bdata": "rcDUaW2VuEA+QsXXX5a4QA==",
          "dtype": "f8"
         },
         "yaxis": "y"
        },
        {
         "line": {
          "color": "#01FFFF",
          "width": 0.6
         },
         "mode": "lines",
         "name": "HMA",
         "showlegend": false,
         "type": "scatter",
         "x": [
          "2025-08-05T11:47:00-04:00",
          "2025-08-05T11:48:00-04:00"
         ],
         "xaxis": "x",
         "y": {
          "bdata": "PkLF11+WuEA+sLL2cZe4QA==",
          "dtype": "f8"
         },
         "yaxis": "y"
        },
        {
         "line": {
          "color": "#01FFFF",
          "width": 0.6
         },
         "mode": "lines",
         "name": "HMA",
         "showlegend": false,
         "type": "scatter",
         "x": [
          "2025-08-05T11:48:00-04:00",
          "2025-08-05T11:49:00-04:00"
         ],
         "xaxis": "x",
         "y": {
          "bdata": "PrCy9nGXuEBd+JIWM5i4QA==",
          "dtype": "f8"
         },
         "yaxis": "y"
        },
        {
         "line": {
          "color": "#01FFFF",
          "width": 0.6
         },
         "mode": "lines",
         "name": "HMA",
         "showlegend": false,
         "type": "scatter",
         "x": [
          "2025-08-05T11:49:00-04:00",
          "2025-08-05T11:50:00-04:00"
         ],
         "xaxis": "x",
         "y": {
          "bdata": "XfiSFjOYuEA13AO5Vpi4QA==",
          "dtype": "f8"
         },
         "yaxis": "y"
        },
        {
         "line": {
          "color": "#FF66FE",
          "width": 0.6
         },
         "mode": "lines",
         "name": "HMA",
         "showlegend": false,
         "type": "scatter",
         "x": [
          "2025-08-05T11:50:00-04:00",
          "2025-08-05T11:51:00-04:00"
         ],
         "xaxis": "x",
         "y": {
          "bdata": "NdwDuVaYuECi3tQbAJi4QA==",
          "dtype": "f8"
         },
         "yaxis": "y"
        },
        {
         "line": {
          "color": "#FF66FE",
          "width": 0.6
         },
         "mode": "lines",
         "name": "HMA",
         "showlegend": false,
         "type": "scatter",
         "x": [
          "2025-08-05T11:51:00-04:00",
          "2025-08-05T11:52:00-04:00"
         ],
         "xaxis": "x",
         "y": {
          "bdata": "ot7UGwCYuECwyzHbgpe4QA==",
          "dtype": "f8"
         },
         "yaxis": "y"
        },
        {
         "line": {
          "color": "#FF66FE",
          "width": 0.6
         },
         "mode": "lines",
         "name": "HMA",
         "showlegend": false,
         "type": "scatter",
         "x": [
          "2025-08-05T11:52:00-04:00",
          "2025-08-05T11:53:00-04:00"
         ],
         "xaxis": "x",
         "y": {
          "bdata": "sMsx24KXuEDijUk6SJe4QA==",
          "dtype": "f8"
         },
         "yaxis": "y"
        },
        {
         "line": {
          "color": "#01FFFF",
          "width": 0.6
         },
         "mode": "lines",
         "name": "HMA",
         "showlegend": false,
         "type": "scatter",
         "x": [
          "2025-08-05T11:53:00-04:00",
          "2025-08-05T11:54:00-04:00"
         ],
         "xaxis": "x",
         "y": {
          "bdata": "4o1JOkiXuEDwN1zoS5e4QA==",
          "dtype": "f8"
         },
         "yaxis": "y"
        },
        {
         "line": {
          "color": "#01FFFF",
          "width": 0.6
         },
         "mode": "lines",
         "name": "HMA",
         "showlegend": false,
         "type": "scatter",
         "x": [
          "2025-08-05T11:54:00-04:00",
          "2025-08-05T11:55:00-04:00"
         ],
         "xaxis": "x",
         "y": {
          "bdata": "8Ddc6EuXuECIy2CVlJe4QA==",
          "dtype": "f8"
         },
         "yaxis": "y"
        },
        {
         "line": {
          "color": "#01FFFF",
          "width": 0.6
         },
         "mode": "lines",
         "name": "HMA",
         "showlegend": false,
         "type": "scatter",
         "x": [
          "2025-08-05T11:55:00-04:00",
          "2025-08-05T11:56:00-04:00"
         ],
         "xaxis": "x",
         "y": {
          "bdata": "iMtglZSXuEBF7dtH7pe4QA==",
          "dtype": "f8"
         },
         "yaxis": "y"
        },
        {
         "line": {
          "color": "#01FFFF",
          "width": 0.6
         },
         "mode": "lines",
         "name": "HMA",
         "showlegend": false,
         "type": "scatter",
         "x": [
          "2025-08-05T11:56:00-04:00",
          "2025-08-05T11:57:00-04:00"
         ],
         "xaxis": "x",
         "y": {
          "bdata": "Re3bR+6XuEColIDrd5i4QA==",
          "dtype": "f8"
         },
         "yaxis": "y"
        },
        {
         "line": {
          "color": "#01FFFF",
          "width": 0.6
         },
         "mode": "lines",
         "name": "HMA",
         "showlegend": false,
         "type": "scatter",
         "x": [
          "2025-08-05T11:57:00-04:00",
          "2025-08-05T11:58:00-04:00"
         ],
         "xaxis": "x",
         "y": {
          "bdata": "qJSA63eYuEAZNMGgJJm4QA==",
          "dtype": "f8"
         },
         "yaxis": "y"
        },
        {
         "line": {
          "color": "#01FFFF",
          "width": 0.6
         },
         "mode": "lines",
         "name": "HMA",
         "showlegend": false,
         "type": "scatter",
         "x": [
          "2025-08-05T11:58:00-04:00",
          "2025-08-05T11:59:00-04:00"
         ],
         "xaxis": "x",
         "y": {
          "bdata": "GTTBoCSZuEBCgBAK/Jm4QA==",
          "dtype": "f8"
         },
         "yaxis": "y"
        },
        {
         "line": {
          "color": "#01FFFF",
          "width": 0.6
         },
         "mode": "lines",
         "name": "HMA",
         "showlegend": false,
         "type": "scatter",
         "x": [
          "2025-08-05T11:59:00-04:00",
          "2025-08-05T12:00:00-04:00"
         ],
         "xaxis": "x",
         "y": {
          "bdata": "QoAQCvyZuEByIfdFApu4QA==",
          "dtype": "f8"
         },
         "yaxis": "y"
        },
        {
         "line": {
          "color": "#01FFFF",
          "width": 0.6
         },
         "mode": "lines",
         "name": "HMA",
         "showlegend": false,
         "type": "scatter",
         "x": [
          "2025-08-05T12:00:00-04:00",
          "2025-08-05T12:01:00-04:00"
         ],
         "xaxis": "x",
         "y": {
          "bdata": "ciH3RQKbuEDy6QsH1pu4QA==",
          "dtype": "f8"
         },
         "yaxis": "y"
        },
        {
         "line": {
          "color": "#01FFFF",
          "width": 0.6
         },
         "mode": "lines",
         "name": "HMA",
         "showlegend": false,
         "type": "scatter",
         "x": [
          "2025-08-05T12:01:00-04:00",
          "2025-08-05T12:02:00-04:00"
         ],
         "xaxis": "x",
         "y": {
          "bdata": "8ukLB9abuEDYRlddeZy4QA==",
          "dtype": "f8"
         },
         "yaxis": "y"
        },
        {
         "line": {
          "color": "#01FFFF",
          "width": 0.6
         },
         "mode": "lines",
         "name": "HMA",
         "showlegend": false,
         "type": "scatter",
         "x": [
          "2025-08-05T12:02:00-04:00",
          "2025-08-05T12:03:00-04:00"
         ],
         "xaxis": "x",
         "y": {
          "bdata": "2EZXXXmcuED7INqB0Jy4QA==",
          "dtype": "f8"
         },
         "yaxis": "y"
        },
        {
         "line": {
          "color": "#01FFFF",
          "width": 0.6
         },
         "mode": "lines",
         "name": "HMA",
         "showlegend": false,
         "type": "scatter",
         "x": [
          "2025-08-05T12:03:00-04:00",
          "2025-08-05T12:04:00-04:00"
         ],
         "xaxis": "x",
         "y": {
          "bdata": "+yDagdCcuEDSlVcbPJ24QA==",
          "dtype": "f8"
         },
         "yaxis": "y"
        },
        {
         "line": {
          "color": "#01FFFF",
          "width": 0.6
         },
         "mode": "lines",
         "name": "HMA",
         "showlegend": false,
         "type": "scatter",
         "x": [
          "2025-08-05T12:04:00-04:00",
          "2025-08-05T12:05:00-04:00"
         ],
         "xaxis": "x",
         "y": {
          "bdata": "0pVXGzyduEBLlf2ECp64QA==",
          "dtype": "f8"
         },
         "yaxis": "y"
        },
        {
         "line": {
          "color": "#01FFFF",
          "width": 0.6
         },
         "mode": "lines",
         "name": "HMA",
         "showlegend": false,
         "type": "scatter",
         "x": [
          "2025-08-05T12:05:00-04:00",
          "2025-08-05T12:06:00-04:00"
         ],
         "xaxis": "x",
         "y": {
          "bdata": "S5X9hAqeuEB6jPFZHZ+4QA==",
          "dtype": "f8"
         },
         "yaxis": "y"
        },
        {
         "line": {
          "color": "#01FFFF",
          "width": 0.6
         },
         "mode": "lines",
         "name": "HMA",
         "showlegend": false,
         "type": "scatter",
         "x": [
          "2025-08-05T12:06:00-04:00",
          "2025-08-05T12:07:00-04:00"
         ],
         "xaxis": "x",
         "y": {
          "bdata": "eozxWR2fuEDjSLtmeaC4QA==",
          "dtype": "f8"
         },
         "yaxis": "y"
        },
        {
         "line": {
          "color": "#01FFFF",
          "width": 0.6
         },
         "mode": "lines",
         "name": "HMA",
         "showlegend": false,
         "type": "scatter",
         "x": [
          "2025-08-05T12:07:00-04:00",
          "2025-08-05T12:08:00-04:00"
         ],
         "xaxis": "x",
         "y": {
          "bdata": "40i7ZnmguECD45QAqKG4QA==",
          "dtype": "f8"
         },
         "yaxis": "y"
        },
        {
         "line": {
          "color": "#01FFFF",
          "width": 0.6
         },
         "mode": "lines",
         "name": "HMA",
         "showlegend": false,
         "type": "scatter",
         "x": [
          "2025-08-05T12:08:00-04:00",
          "2025-08-05T12:09:00-04:00"
         ],
         "xaxis": "x",
         "y": {
          "bdata": "g+OUAKihuEAx0yQgUKK4QA==",
          "dtype": "f8"
         },
         "yaxis": "y"
        },
        {
         "line": {
          "color": "#01FFFF",
          "width": 0.6
         },
         "mode": "lines",
         "name": "HMA",
         "showlegend": false,
         "type": "scatter",
         "x": [
          "2025-08-05T12:09:00-04:00",
          "2025-08-05T12:10:00-04:00"
         ],
         "xaxis": "x",
         "y": {
          "bdata": "MdMkIFCiuECRIVRf0qK4QA==",
          "dtype": "f8"
         },
         "yaxis": "y"
        },
        {
         "line": {
          "color": "#01FFFF",
          "width": 0.6
         },
         "mode": "lines",
         "name": "HMA",
         "showlegend": false,
         "type": "scatter",
         "x": [
          "2025-08-05T12:10:00-04:00",
          "2025-08-05T12:11:00-04:00"
         ],
         "xaxis": "x",
         "y": {
          "bdata": "kSFUX9KiuEB7hQKeOKO4QA==",
          "dtype": "f8"
         },
         "yaxis": "y"
        },
        {
         "line": {
          "color": "#01FFFF",
          "width": 0.6
         },
         "mode": "lines",
         "name": "HMA",
         "showlegend": false,
         "type": "scatter",
         "x": [
          "2025-08-05T12:11:00-04:00",
          "2025-08-05T12:12:00-04:00"
         ],
         "xaxis": "x",
         "y": {
          "bdata": "e4UCnjijuECrvfzBaqO4QA==",
          "dtype": "f8"
         },
         "yaxis": "y"
        },
        {
         "line": {
          "color": "#01FFFF",
          "width": 0.6
         },
         "mode": "lines",
         "name": "HMA",
         "showlegend": false,
         "type": "scatter",
         "x": [
          "2025-08-05T12:12:00-04:00",
          "2025-08-05T12:13:00-04:00"
         ],
         "xaxis": "x",
         "y": {
          "bdata": "q738wWqjuECy3e8McKO4QA==",
          "dtype": "f8"
         },
         "yaxis": "y"
        },
        {
         "line": {
          "color": "#FF66FE",
          "width": 0.6
         },
         "mode": "lines",
         "name": "HMA",
         "showlegend": false,
         "type": "scatter",
         "x": [
          "2025-08-05T12:13:00-04:00",
          "2025-08-05T12:14:00-04:00"
         ],
         "xaxis": "x",
         "y": {
          "bdata": "st3vDHCjuEBrDk8hSaO4QA==",
          "dtype": "f8"
         },
         "yaxis": "y"
        },
        {
         "line": {
          "color": "#FF66FE",
          "width": 0.6
         },
         "mode": "lines",
         "name": "HMA",
         "showlegend": false,
         "type": "scatter",
         "x": [
          "2025-08-05T12:14:00-04:00",
          "2025-08-05T12:15:00-04:00"
         ],
         "xaxis": "x",
         "y": {
          "bdata": "aw5PIUmjuEBoa9lxN6O4QA==",
          "dtype": "f8"
         },
         "yaxis": "y"
        },
        {
         "line": {
          "color": "#01FFFF",
          "width": 0.6
         },
         "mode": "lines",
         "name": "HMA",
         "showlegend": false,
         "type": "scatter",
         "x": [
          "2025-08-05T12:15:00-04:00",
          "2025-08-05T12:16:00-04:00"
         ],
         "xaxis": "x",
         "y": {
          "bdata": "aGvZcTejuEBzIRTRUaO4QA==",
          "dtype": "f8"
         },
         "yaxis": "y"
        },
        {
         "line": {
          "color": "#01FFFF",
          "width": 0.6
         },
         "mode": "lines",
         "name": "HMA",
         "showlegend": false,
         "type": "scatter",
         "x": [
          "2025-08-05T12:16:00-04:00",
          "2025-08-05T12:17:00-04:00"
         ],
         "xaxis": "x",
         "y": {
          "bdata": "cyEU0VGjuEAFleywa6O4QA==",
          "dtype": "f8"
         },
         "yaxis": "y"
        },
        {
         "line": {
          "color": "#01FFFF",
          "width": 0.6
         },
         "mode": "lines",
         "name": "HMA",
         "showlegend": false,
         "type": "scatter",
         "x": [
          "2025-08-05T12:17:00-04:00",
          "2025-08-05T12:18:00-04:00"
         ],
         "xaxis": "x",
         "y": {
          "bdata": "BZXssGujuEBW8S8ukKO4QA==",
          "dtype": "f8"
         },
         "yaxis": "y"
        },
        {
         "line": {
          "color": "#01FFFF",
          "width": 0.6
         },
         "mode": "lines",
         "name": "HMA",
         "showlegend": false,
         "type": "scatter",
         "x": [
          "2025-08-05T12:18:00-04:00",
          "2025-08-05T12:19:00-04:00"
         ],
         "xaxis": "x",
         "y": {
          "bdata": "VvEvLpCjuEDaiJwYyKO4QA==",
          "dtype": "f8"
         },
         "yaxis": "y"
        },
        {
         "line": {
          "color": "#01FFFF",
          "width": 0.6
         },
         "mode": "lines",
         "name": "HMA",
         "showlegend": false,
         "type": "scatter",
         "x": [
          "2025-08-05T12:19:00-04:00",
          "2025-08-05T12:20:00-04:00"
         ],
         "xaxis": "x",
         "y": {
          "bdata": "2oicGMijuED1HMFFI6S4QA==",
          "dtype": "f8"
         },
         "yaxis": "y"
        },
        {
         "line": {
          "color": "#01FFFF",
          "width": 0.6
         },
         "mode": "lines",
         "name": "HMA",
         "showlegend": false,
         "type": "scatter",
         "x": [
          "2025-08-05T12:20:00-04:00",
          "2025-08-05T12:21:00-04:00"
         ],
         "xaxis": "x",
         "y": {
          "bdata": "9RzBRSOkuEBU2IJAfqS4QA==",
          "dtype": "f8"
         },
         "yaxis": "y"
        },
        {
         "line": {
          "color": "#01FFFF",
          "width": 0.6
         },
         "mode": "lines",
         "name": "HMA",
         "showlegend": false,
         "type": "scatter",
         "x": [
          "2025-08-05T12:21:00-04:00",
          "2025-08-05T12:22:00-04:00"
         ],
         "xaxis": "x",
         "y": {
          "bdata": "VNiCQH6kuEBYOJLnBqW4QA==",
          "dtype": "f8"
         },
         "yaxis": "y"
        },
        {
         "line": {
          "color": "#01FFFF",
          "width": 0.6
         },
         "mode": "lines",
         "name": "HMA",
         "showlegend": false,
         "type": "scatter",
         "x": [
          "2025-08-05T12:22:00-04:00",
          "2025-08-05T12:23:00-04:00"
         ],
         "xaxis": "x",
         "y": {
          "bdata": "WDiS5waluEA+apA9kKW4QA==",
          "dtype": "f8"
         },
         "yaxis": "y"
        },
        {
         "line": {
          "color": "#01FFFF",
          "width": 0.6
         },
         "mode": "lines",
         "name": "HMA",
         "showlegend": false,
         "type": "scatter",
         "x": [
          "2025-08-05T12:23:00-04:00",
          "2025-08-05T12:24:00-04:00"
         ],
         "xaxis": "x",
         "y": {
          "bdata": "PmqQPZCluECfJcQ8vqW4QA==",
          "dtype": "f8"
         },
         "yaxis": "y"
        },
        {
         "line": {
          "color": "#01FFFF",
          "width": 0.6
         },
         "mode": "lines",
         "name": "HMA",
         "showlegend": false,
         "type": "scatter",
         "x": [
          "2025-08-05T12:24:00-04:00",
          "2025-08-05T12:25:00-04:00"
         ],
         "xaxis": "x",
         "y": {
          "bdata": "nyXEPL6luEARs0dU06W4QA==",
          "dtype": "f8"
         },
         "yaxis": "y"
        },
        {
         "line": {
          "color": "#FF66FE",
          "width": 0.6
         },
         "mode": "lines",
         "name": "HMA",
         "showlegend": false,
         "type": "scatter",
         "x": [
          "2025-08-05T12:25:00-04:00",
          "2025-08-05T12:26:00-04:00"
         ],
         "xaxis": "x",
         "y": {
          "bdata": "EbNHVNOluEDqPZozzqW4QA==",
          "dtype": "f8"
         },
         "yaxis": "y"
        },
        {
         "line": {
          "color": "#FF66FE",
          "width": 0.6
         },
         "mode": "lines",
         "name": "HMA",
         "showlegend": false,
         "type": "scatter",
         "x": [
          "2025-08-05T12:26:00-04:00",
          "2025-08-05T12:27:00-04:00"
         ],
         "xaxis": "x",
         "y": {
          "bdata": "6j2aM86luEAthi16uKW4QA==",
          "dtype": "f8"
         },
         "yaxis": "y"
        },
        {
         "line": {
          "color": "#FF66FE",
          "width": 0.6
         },
         "mode": "lines",
         "name": "HMA",
         "showlegend": false,
         "type": "scatter",
         "x": [
          "2025-08-05T12:27:00-04:00",
          "2025-08-05T12:28:00-04:00"
         ],
         "xaxis": "x",
         "y": {
          "bdata": "LYYteriluEBFyQv/taW4QA==",
          "dtype": "f8"
         },
         "yaxis": "y"
        },
        {
         "line": {
          "color": "#01FFFF",
          "width": 0.6
         },
         "mode": "lines",
         "name": "HMA",
         "showlegend": false,
         "type": "scatter",
         "x": [
          "2025-08-05T12:28:00-04:00",
          "2025-08-05T12:29:00-04:00"
         ],
         "xaxis": "x",
         "y": {
          "bdata": "RckL/7WluEBSAKKLvKW4QA==",
          "dtype": "f8"
         },
         "yaxis": "y"
        },
        {
         "line": {
          "color": "#01FFFF",
          "width": 0.6
         },
         "mode": "lines",
         "name": "HMA",
         "showlegend": false,
         "type": "scatter",
         "x": [
          "2025-08-05T12:29:00-04:00",
          "2025-08-05T12:30:00-04:00"
         ],
         "xaxis": "x",
         "y": {
          "bdata": "UgCii7yluEDNTp9U3KW4QA==",
          "dtype": "f8"
         },
         "yaxis": "y"
        },
        {
         "line": {
          "color": "#01FFFF",
          "width": 0.6
         },
         "mode": "lines",
         "name": "HMA",
         "showlegend": false,
         "type": "scatter",
         "x": [
          "2025-08-05T12:30:00-04:00",
          "2025-08-05T12:31:00-04:00"
         ],
         "xaxis": "x",
         "y": {
          "bdata": "zU6fVNyluEA0HXt4Y6a4QA==",
          "dtype": "f8"
         },
         "yaxis": "y"
        },
        {
         "line": {
          "color": "#01FFFF",
          "width": 0.6
         },
         "mode": "lines",
         "name": "HMA",
         "showlegend": false,
         "type": "scatter",
         "x": [
          "2025-08-05T12:31:00-04:00",
          "2025-08-05T12:32:00-04:00"
         ],
         "xaxis": "x",
         "y": {
          "bdata": "NB17eGOmuECJBHGqI6e4QA==",
          "dtype": "f8"
         },
         "yaxis": "y"
        },
        {
         "line": {
          "color": "#01FFFF",
          "width": 0.6
         },
         "mode": "lines",
         "name": "HMA",
         "showlegend": false,
         "type": "scatter",
         "x": [
          "2025-08-05T12:32:00-04:00",
          "2025-08-05T12:33:00-04:00"
         ],
         "xaxis": "x",
         "y": {
          "bdata": "iQRxqiOnuEAp08zq66e4QA==",
          "dtype": "f8"
         },
         "yaxis": "y"
        },
        {
         "line": {
          "color": "#01FFFF",
          "width": 0.6
         },
         "mode": "lines",
         "name": "HMA",
         "showlegend": false,
         "type": "scatter",
         "x": [
          "2025-08-05T12:33:00-04:00",
          "2025-08-05T12:34:00-04:00"
         ],
         "xaxis": "x",
         "y": {
          "bdata": "KdPM6uunuEBbqeY9nqi4QA==",
          "dtype": "f8"
         },
         "yaxis": "y"
        },
        {
         "line": {
          "color": "#01FFFF",
          "width": 0.6
         },
         "mode": "lines",
         "name": "HMA",
         "showlegend": false,
         "type": "scatter",
         "x": [
          "2025-08-05T12:34:00-04:00",
          "2025-08-05T12:35:00-04:00"
         ],
         "xaxis": "x",
         "y": {
          "bdata": "W6nmPZ6ouEAmitH1Aam4QA==",
          "dtype": "f8"
         },
         "yaxis": "y"
        },
        {
         "line": {
          "color": "#01FFFF",
          "width": 0.6
         },
         "mode": "lines",
         "name": "HMA",
         "showlegend": false,
         "type": "scatter",
         "x": [
          "2025-08-05T12:35:00-04:00",
          "2025-08-05T12:36:00-04:00"
         ],
         "xaxis": "x",
         "y": {
          "bdata": "JorR9QGpuEDu9+l+D6m4QA==",
          "dtype": "f8"
         },
         "yaxis": "y"
        },
        {
         "line": {
          "color": "#FF66FE",
          "width": 0.6
         },
         "mode": "lines",
         "name": "HMA",
         "showlegend": false,
         "type": "scatter",
         "x": [
          "2025-08-05T12:36:00-04:00",
          "2025-08-05T12:37:00-04:00"
         ],
         "xaxis": "x",
         "y": {
          "bdata": "7vfpfg+puEDKwNt15Ki4QA==",
          "dtype": "f8"
         },
         "yaxis": "y"
        },
        {
         "line": {
          "color": "#FF66FE",
          "width": 0.6
         },
         "mode": "lines",
         "name": "HMA",
         "showlegend": false,
         "type": "scatter",
         "x": [
          "2025-08-05T12:37:00-04:00",
          "2025-08-05T12:38:00-04:00"
         ],
         "xaxis": "x",
         "y": {
          "bdata": "ysDbdeSouECCPYArXai4QA==",
          "dtype": "f8"
         },
         "yaxis": "y"
        },
        {
         "line": {
          "color": "#FF66FE",
          "width": 0.6
         },
         "mode": "lines",
         "name": "HMA",
         "showlegend": false,
         "type": "scatter",
         "x": [
          "2025-08-05T12:38:00-04:00",
          "2025-08-05T12:39:00-04:00"
         ],
         "xaxis": "x",
         "y": {
          "bdata": "gj2AK12ouEAiD1+atKe4QA==",
          "dtype": "f8"
         },
         "yaxis": "y"
        },
        {
         "line": {
          "color": "#FF66FE",
          "width": 0.6
         },
         "mode": "lines",
         "name": "HMA",
         "showlegend": false,
         "type": "scatter",
         "x": [
          "2025-08-05T12:39:00-04:00",
          "2025-08-05T12:40:00-04:00"
         ],
         "xaxis": "x",
         "y": {
          "bdata": "Ig9fmrSnuEDQcv4sh6a4QA==",
          "dtype": "f8"
         },
         "yaxis": "y"
        },
        {
         "line": {
          "color": "#FF66FE",
          "width": 0.6
         },
         "mode": "lines",
         "name": "HMA",
         "showlegend": false,
         "type": "scatter",
         "x": [
          "2025-08-05T12:40:00-04:00",
          "2025-08-05T12:41:00-04:00"
         ],
         "xaxis": "x",
         "y": {
          "bdata": "0HL+LIemuEA7ZIlMzKS4QA==",
          "dtype": "f8"
         },
         "yaxis": "y"
        },
        {
         "line": {
          "color": "#FF66FE",
          "width": 0.6
         },
         "mode": "lines",
         "name": "HMA",
         "showlegend": false,
         "type": "scatter",
         "x": [
          "2025-08-05T12:41:00-04:00",
          "2025-08-05T12:42:00-04:00"
         ],
         "xaxis": "x",
         "y": {
          "bdata": "O2SJTMykuED8w4cf9qK4QA==",
          "dtype": "f8"
         },
         "yaxis": "y"
        },
        {
         "line": {
          "color": "#FF66FE",
          "width": 0.6
         },
         "mode": "lines",
         "name": "HMA",
         "showlegend": false,
         "type": "scatter",
         "x": [
          "2025-08-05T12:42:00-04:00",
          "2025-08-05T12:43:00-04:00"
         ],
         "xaxis": "x",
         "y": {
          "bdata": "/MOHH/aiuECMkjSJW6G4QA==",
          "dtype": "f8"
         },
         "yaxis": "y"
        },
        {
         "line": {
          "color": "#FF66FE",
          "width": 0.6
         },
         "mode": "lines",
         "name": "HMA",
         "showlegend": false,
         "type": "scatter",
         "x": [
          "2025-08-05T12:43:00-04:00",
          "2025-08-05T12:44:00-04:00"
         ],
         "xaxis": "x",
         "y": {
          "bdata": "jJI0iVuhuECN03NaJKC4QA==",
          "dtype": "f8"
         },
         "yaxis": "y"
        },
        {
         "line": {
          "color": "#FF66FE",
          "width": 0.6
         },
         "mode": "lines",
         "name": "HMA",
         "showlegend": false,
         "type": "scatter",
         "x": [
          "2025-08-05T12:44:00-04:00",
          "2025-08-05T12:45:00-04:00"
         ],
         "xaxis": "x",
         "y": {
          "bdata": "jdNzWiSguECVvWhO3J64QA==",
          "dtype": "f8"
         },
         "yaxis": "y"
        },
        {
         "line": {
          "color": "#FF66FE",
          "width": 0.6
         },
         "mode": "lines",
         "name": "HMA",
         "showlegend": false,
         "type": "scatter",
         "x": [
          "2025-08-05T12:45:00-04:00",
          "2025-08-05T12:46:00-04:00"
         ],
         "xaxis": "x",
         "y": {
          "bdata": "lb1oTtyeuEDt2R+TZZ24QA==",
          "dtype": "f8"
         },
         "yaxis": "y"
        },
        {
         "line": {
          "color": "#FF66FE",
          "width": 0.6
         },
         "mode": "lines",
         "name": "HMA",
         "showlegend": false,
         "type": "scatter",
         "x": [
          "2025-08-05T12:46:00-04:00",
          "2025-08-05T12:47:00-04:00"
         ],
         "xaxis": "x",
         "y": {
          "bdata": "7dkfk2WduEDaeCM94Ju4QA==",
          "dtype": "f8"
         },
         "yaxis": "y"
        },
        {
         "line": {
          "color": "#FF66FE",
          "width": 0.6
         },
         "mode": "lines",
         "name": "HMA",
         "showlegend": false,
         "type": "scatter",
         "x": [
          "2025-08-05T12:47:00-04:00",
          "2025-08-05T12:48:00-04:00"
         ],
         "xaxis": "x",
         "y": {
          "bdata": "2ngjPeCbuECDg79vjpq4QA==",
          "dtype": "f8"
         },
         "yaxis": "y"
        },
        {
         "line": {
          "color": "#FF66FE",
          "width": 0.6
         },
         "mode": "lines",
         "name": "HMA",
         "showlegend": false,
         "type": "scatter",
         "x": [
          "2025-08-05T12:48:00-04:00",
          "2025-08-05T12:49:00-04:00"
         ],
         "xaxis": "x",
         "y": {
          "bdata": "g4O/b46auEAV8ZHy2Zm4QA==",
          "dtype": "f8"
         },
         "yaxis": "y"
        },
        {
         "line": {
          "color": "#01FFFF",
          "width": 0.6
         },
         "mode": "lines",
         "name": "HMA",
         "showlegend": false,
         "type": "scatter",
         "x": [
          "2025-08-05T12:49:00-04:00",
          "2025-08-05T12:50:00-04:00"
         ],
         "xaxis": "x",
         "y": {
          "bdata": "FfGR8tmZuECqaJ8F65m4QA==",
          "dtype": "f8"
         },
         "yaxis": "y"
        },
        {
         "line": {
          "color": "#01FFFF",
          "width": 0.6
         },
         "mode": "lines",
         "name": "HMA",
         "showlegend": false,
         "type": "scatter",
         "x": [
          "2025-08-05T12:50:00-04:00",
          "2025-08-05T12:51:00-04:00"
         ],
         "xaxis": "x",
         "y": {
          "bdata": "qmifBeuZuEDVRC+S45q4QA==",
          "dtype": "f8"
         },
         "yaxis": "y"
        },
        {
         "line": {
          "color": "#01FFFF",
          "width": 0.6
         },
         "mode": "lines",
         "name": "HMA",
         "showlegend": false,
         "type": "scatter",
         "x": [
          "2025-08-05T12:51:00-04:00",
          "2025-08-05T12:52:00-04:00"
         ],
         "xaxis": "x",
         "y": {
          "bdata": "1UQvkuOauEAIqdKtnpy4QA==",
          "dtype": "f8"
         },
         "yaxis": "y"
        },
        {
         "line": {
          "color": "#01FFFF",
          "width": 0.6
         },
         "mode": "lines",
         "name": "HMA",
         "showlegend": false,
         "type": "scatter",
         "x": [
          "2025-08-05T12:52:00-04:00",
          "2025-08-05T12:53:00-04:00"
         ],
         "xaxis": "x",
         "y": {
          "bdata": "CKnSrZ6cuEDxFMsLo564QA==",
          "dtype": "f8"
         },
         "yaxis": "y"
        },
        {
         "line": {
          "color": "#01FFFF",
          "width": 0.6
         },
         "mode": "lines",
         "name": "HMA",
         "showlegend": false,
         "type": "scatter",
         "x": [
          "2025-08-05T12:53:00-04:00",
          "2025-08-05T12:54:00-04:00"
         ],
         "xaxis": "x",
         "y": {
          "bdata": "8RTLC6OeuEDmfdHyxaC4QA==",
          "dtype": "f8"
         },
         "yaxis": "y"
        },
        {
         "line": {
          "color": "#01FFFF",
          "width": 0.6
         },
         "mode": "lines",
         "name": "HMA",
         "showlegend": false,
         "type": "scatter",
         "x": [
          "2025-08-05T12:54:00-04:00",
          "2025-08-05T12:55:00-04:00"
         ],
         "xaxis": "x",
         "y": {
          "bdata": "5n3R8sWguED20Jgvs6K4QA==",
          "dtype": "f8"
         },
         "yaxis": "y"
        },
        {
         "line": {
          "color": "#01FFFF",
          "width": 0.6
         },
         "mode": "lines",
         "name": "HMA",
         "showlegend": false,
         "type": "scatter",
         "x": [
          "2025-08-05T12:55:00-04:00",
          "2025-08-05T12:56:00-04:00"
         ],
         "xaxis": "x",
         "y": {
          "bdata": "9tCYL7OiuECIw05kiqS4QA==",
          "dtype": "f8"
         },
         "yaxis": "y"
        },
        {
         "line": {
          "color": "#01FFFF",
          "width": 0.6
         },
         "mode": "lines",
         "name": "HMA",
         "showlegend": false,
         "type": "scatter",
         "x": [
          "2025-08-05T12:56:00-04:00",
          "2025-08-05T12:57:00-04:00"
         ],
         "xaxis": "x",
         "y": {
          "bdata": "iMNOZIqkuEBw0D6Z8aW4QA==",
          "dtype": "f8"
         },
         "yaxis": "y"
        },
        {
         "line": {
          "color": "#01FFFF",
          "width": 0.6
         },
         "mode": "lines",
         "name": "HMA",
         "showlegend": false,
         "type": "scatter",
         "x": [
          "2025-08-05T12:57:00-04:00",
          "2025-08-05T12:58:00-04:00"
         ],
         "xaxis": "x",
         "y": {
          "bdata": "cNA+mfGluECVQSofyKa4QA==",
          "dtype": "f8"
         },
         "yaxis": "y"
        },
        {
         "line": {
          "color": "#01FFFF",
          "width": 0.6
         },
         "mode": "lines",
         "name": "HMA",
         "showlegend": false,
         "type": "scatter",
         "x": [
          "2025-08-05T12:58:00-04:00",
          "2025-08-05T12:59:00-04:00"
         ],
         "xaxis": "x",
         "y": {
          "bdata": "lUEqH8imuEBDhNKkKqe4QA==",
          "dtype": "f8"
         },
         "yaxis": "y"
        },
        {
         "line": {
          "color": "#01FFFF",
          "width": 0.6
         },
         "mode": "lines",
         "name": "HMA",
         "showlegend": false,
         "type": "scatter",
         "x": [
          "2025-08-05T12:59:00-04:00",
          "2025-08-05T13:00:00-04:00"
         ],
         "xaxis": "x",
         "y": {
          "bdata": "Q4TSpCqnuEArA46KLKe4QA==",
          "dtype": "f8"
         },
         "yaxis": "y"
        },
        {
         "line": {
          "color": "#FF66FE",
          "width": 0.6
         },
         "mode": "lines",
         "name": "HMA",
         "showlegend": false,
         "type": "scatter",
         "x": [
          "2025-08-05T13:00:00-04:00",
          "2025-08-05T13:01:00-04:00"
         ],
         "xaxis": "x",
         "y": {
          "bdata": "KwOOiiynuECSElNyI6e4QA==",
          "dtype": "f8"
         },
         "yaxis": "y"
        },
        {
         "line": {
          "color": "#FF66FE",
          "width": 0.6
         },
         "mode": "lines",
         "name": "HMA",
         "showlegend": false,
         "type": "scatter",
         "x": [
          "2025-08-05T13:01:00-04:00",
          "2025-08-05T13:02:00-04:00"
         ],
         "xaxis": "x",
         "y": {
          "bdata": "khJTciOnuECu7t6uBae4QA==",
          "dtype": "f8"
         },
         "yaxis": "y"
        },
        {
         "line": {
          "color": "#FF66FE",
          "width": 0.6
         },
         "mode": "lines",
         "name": "HMA",
         "showlegend": false,
         "type": "scatter",
         "x": [
          "2025-08-05T13:02:00-04:00",
          "2025-08-05T13:03:00-04:00"
         ],
         "xaxis": "x",
         "y": {
          "bdata": "ru7ergWnuECtlGT0naa4QA==",
          "dtype": "f8"
         },
         "yaxis": "y"
        },
        {
         "line": {
          "color": "#FF66FE",
          "width": 0.6
         },
         "mode": "lines",
         "name": "HMA",
         "showlegend": false,
         "type": "scatter",
         "x": [
          "2025-08-05T13:03:00-04:00",
          "2025-08-05T13:04:00-04:00"
         ],
         "xaxis": "x",
         "y": {
          "bdata": "rZRk9J2muECG9RmwG6a4QA==",
          "dtype": "f8"
         },
         "yaxis": "y"
        },
        {
         "line": {
          "color": "#FF66FE",
          "width": 0.6
         },
         "mode": "lines",
         "name": "HMA",
         "showlegend": false,
         "type": "scatter",
         "x": [
          "2025-08-05T13:04:00-04:00",
          "2025-08-05T13:05:00-04:00"
         ],
         "xaxis": "x",
         "y": {
          "bdata": "hvUZsBumuEChtgm2j6W4QA==",
          "dtype": "f8"
         },
         "yaxis": "y"
        },
        {
         "line": {
          "color": "#FF66FE",
          "width": 0.6
         },
         "mode": "lines",
         "name": "HMA",
         "showlegend": false,
         "type": "scatter",
         "x": [
          "2025-08-05T13:05:00-04:00",
          "2025-08-05T13:06:00-04:00"
         ],
         "xaxis": "x",
         "y": {
          "bdata": "obYJto+luECkQ3IxLqW4QA==",
          "dtype": "f8"
         },
         "yaxis": "y"
        },
        {
         "line": {
          "color": "#FF66FE",
          "width": 0.6
         },
         "mode": "lines",
         "name": "HMA",
         "showlegend": false,
         "type": "scatter",
         "x": [
          "2025-08-05T13:06:00-04:00",
          "2025-08-05T13:07:00-04:00"
         ],
         "xaxis": "x",
         "y": {
          "bdata": "pENyMS6luEAj5cF2J6W4QA==",
          "dtype": "f8"
         },
         "yaxis": "y"
        },
        {
         "line": {
          "color": "#01FFFF",
          "width": 0.6
         },
         "mode": "lines",
         "name": "HMA",
         "showlegend": false,
         "type": "scatter",
         "x": [
          "2025-08-05T13:07:00-04:00",
          "2025-08-05T13:08:00-04:00"
         ],
         "xaxis": "x",
         "y": {
          "bdata": "I+XBdieluEDTKP7hLKW4QA==",
          "dtype": "f8"
         },
         "yaxis": "y"
        },
        {
         "line": {
          "color": "#01FFFF",
          "width": 0.6
         },
         "mode": "lines",
         "name": "HMA",
         "showlegend": false,
         "type": "scatter",
         "x": [
          "2025-08-05T13:08:00-04:00",
          "2025-08-05T13:09:00-04:00"
         ],
         "xaxis": "x",
         "y": {
          "bdata": "0yj+4SyluEAYx7tMU6W4QA==",
          "dtype": "f8"
         },
         "yaxis": "y"
        },
        {
         "line": {
          "color": "#01FFFF",
          "width": 0.6
         },
         "mode": "lines",
         "name": "HMA",
         "showlegend": false,
         "type": "scatter",
         "x": [
          "2025-08-05T13:09:00-04:00",
          "2025-08-05T13:10:00-04:00"
         ],
         "xaxis": "x",
         "y": {
          "bdata": "GMe7TFOluEDvWgm8rqW4QA==",
          "dtype": "f8"
         },
         "yaxis": "y"
        },
        {
         "line": {
          "color": "#01FFFF",
          "width": 0.6
         },
         "mode": "lines",
         "name": "HMA",
         "showlegend": false,
         "type": "scatter",
         "x": [
          "2025-08-05T13:10:00-04:00",
          "2025-08-05T13:11:00-04:00"
         ],
         "xaxis": "x",
         "y": {
          "bdata": "71oJvK6luEBe38kxF6a4QA==",
          "dtype": "f8"
         },
         "yaxis": "y"
        },
        {
         "line": {
          "color": "#01FFFF",
          "width": 0.6
         },
         "mode": "lines",
         "name": "HMA",
         "showlegend": false,
         "type": "scatter",
         "x": [
          "2025-08-05T13:11:00-04:00",
          "2025-08-05T13:12:00-04:00"
         ],
         "xaxis": "x",
         "y": {
          "bdata": "Xt/JMRemuEBHkBh1hqa4QA==",
          "dtype": "f8"
         },
         "yaxis": "y"
        },
        {
         "line": {
          "color": "#01FFFF",
          "width": 0.6
         },
         "mode": "lines",
         "name": "HMA",
         "showlegend": false,
         "type": "scatter",
         "x": [
          "2025-08-05T13:12:00-04:00",
          "2025-08-05T13:13:00-04:00"
         ],
         "xaxis": "x",
         "y": {
          "bdata": "R5AYdYamuECuaPUS5Ka4QA==",
          "dtype": "f8"
         },
         "yaxis": "y"
        },
        {
         "line": {
          "color": "#01FFFF",
          "width": 0.6
         },
         "mode": "lines",
         "name": "HMA",
         "showlegend": false,
         "type": "scatter",
         "x": [
          "2025-08-05T13:13:00-04:00",
          "2025-08-05T13:14:00-04:00"
         ],
         "xaxis": "x",
         "y": {
          "bdata": "rmj1EuSmuEAY5x8INqe4QA==",
          "dtype": "f8"
         },
         "yaxis": "y"
        },
        {
         "line": {
          "color": "#01FFFF",
          "width": 0.6
         },
         "mode": "lines",
         "name": "HMA",
         "showlegend": false,
         "type": "scatter",
         "x": [
          "2025-08-05T13:14:00-04:00",
          "2025-08-05T13:15:00-04:00"
         ],
         "xaxis": "x",
         "y": {
          "bdata": "GOcfCDanuEB2mQJqiqe4QA==",
          "dtype": "f8"
         },
         "yaxis": "y"
        },
        {
         "line": {
          "color": "#FF66FE",
          "width": 0.6
         },
         "mode": "lines",
         "name": "HMA",
         "showlegend": false,
         "type": "scatter",
         "x": [
          "2025-08-05T13:15:00-04:00",
          "2025-08-05T13:16:00-04:00"
         ],
         "xaxis": "x",
         "y": {
          "bdata": "dpkCaoqnuECFvobfhae4QA==",
          "dtype": "f8"
         },
         "yaxis": "y"
        },
        {
         "line": {
          "color": "#FF66FE",
          "width": 0.6
         },
         "mode": "lines",
         "name": "HMA",
         "showlegend": false,
         "type": "scatter",
         "x": [
          "2025-08-05T13:16:00-04:00",
          "2025-08-05T13:17:00-04:00"
         ],
         "xaxis": "x",
         "y": {
          "bdata": "hb6G34WnuECmH4bxa6e4QA==",
          "dtype": "f8"
         },
         "yaxis": "y"
        },
        {
         "line": {
          "color": "#01FFFF",
          "width": 0.6
         },
         "mode": "lines",
         "name": "HMA",
         "showlegend": false,
         "type": "scatter",
         "x": [
          "2025-08-05T13:17:00-04:00",
          "2025-08-05T13:18:00-04:00"
         ],
         "xaxis": "x",
         "y": {
          "bdata": "ph+G8WunuEAo4VZ9h6e4QA==",
          "dtype": "f8"
         },
         "yaxis": "y"
        },
        {
         "line": {
          "color": "#01FFFF",
          "width": 0.6
         },
         "mode": "lines",
         "name": "HMA",
         "showlegend": false,
         "type": "scatter",
         "x": [
          "2025-08-05T13:18:00-04:00",
          "2025-08-05T13:19:00-04:00"
         ],
         "xaxis": "x",
         "y": {
          "bdata": "KOFWfYenuECeokBEvKe4QA==",
          "dtype": "f8"
         },
         "yaxis": "y"
        },
        {
         "line": {
          "color": "#01FFFF",
          "width": 0.6
         },
         "mode": "lines",
         "name": "HMA",
         "showlegend": false,
         "type": "scatter",
         "x": [
          "2025-08-05T13:19:00-04:00",
          "2025-08-05T13:20:00-04:00"
         ],
         "xaxis": "x",
         "y": {
          "bdata": "nqJARLynuEDyMR0J1Ke4QA==",
          "dtype": "f8"
         },
         "yaxis": "y"
        },
        {
         "line": {
          "color": "#01FFFF",
          "width": 0.6
         },
         "mode": "lines",
         "name": "HMA",
         "showlegend": false,
         "type": "scatter",
         "x": [
          "2025-08-05T13:20:00-04:00",
          "2025-08-05T13:21:00-04:00"
         ],
         "xaxis": "x",
         "y": {
          "bdata": "8jEdCdSnuEAo4nhe96e4QA==",
          "dtype": "f8"
         },
         "yaxis": "y"
        },
        {
         "line": {
          "color": "#01FFFF",
          "width": 0.6
         },
         "mode": "lines",
         "name": "HMA",
         "showlegend": false,
         "type": "scatter",
         "x": [
          "2025-08-05T13:21:00-04:00",
          "2025-08-05T13:22:00-04:00"
         ],
         "xaxis": "x",
         "y": {
          "bdata": "KOJ4XvenuEBtqMisBKi4QA==",
          "dtype": "f8"
         },
         "yaxis": "y"
        },
        {
         "line": {
          "color": "#FF66FE",
          "width": 0.6
         },
         "mode": "lines",
         "name": "HMA",
         "showlegend": false,
         "type": "scatter",
         "x": [
          "2025-08-05T13:22:00-04:00",
          "2025-08-05T13:23:00-04:00"
         ],
         "xaxis": "x",
         "y": {
          "bdata": "bajIrASouEBuoRJz+ae4QA==",
          "dtype": "f8"
         },
         "yaxis": "y"
        },
        {
         "line": {
          "color": "#01FFFF",
          "width": 0.6
         },
         "mode": "lines",
         "name": "HMA",
         "showlegend": false,
         "type": "scatter",
         "x": [
          "2025-08-05T13:23:00-04:00",
          "2025-08-05T13:24:00-04:00"
         ],
         "xaxis": "x",
         "y": {
          "bdata": "bqESc/mnuEAFAbIECKi4QA==",
          "dtype": "f8"
         },
         "yaxis": "y"
        },
        {
         "line": {
          "color": "#01FFFF",
          "width": 0.6
         },
         "mode": "lines",
         "name": "HMA",
         "showlegend": false,
         "type": "scatter",
         "x": [
          "2025-08-05T13:24:00-04:00",
          "2025-08-05T13:25:00-04:00"
         ],
         "xaxis": "x",
         "y": {
          "bdata": "BQGyBAiouECGgzIIV6i4QA==",
          "dtype": "f8"
         },
         "yaxis": "y"
        },
        {
         "line": {
          "color": "#01FFFF",
          "width": 0.6
         },
         "mode": "lines",
         "name": "HMA",
         "showlegend": false,
         "type": "scatter",
         "x": [
          "2025-08-05T13:25:00-04:00",
          "2025-08-05T13:26:00-04:00"
         ],
         "xaxis": "x",
         "y": {
          "bdata": "hoMyCFeouEB1Jr/K5qi4QA==",
          "dtype": "f8"
         },
         "yaxis": "y"
        },
        {
         "line": {
          "color": "#01FFFF",
          "width": 0.6
         },
         "mode": "lines",
         "name": "HMA",
         "showlegend": false,
         "type": "scatter",
         "x": [
          "2025-08-05T13:26:00-04:00",
          "2025-08-05T13:27:00-04:00"
         ],
         "xaxis": "x",
         "y": {
          "bdata": "dSa/yuaouEDncYy2n6m4QA==",
          "dtype": "f8"
         },
         "yaxis": "y"
        },
        {
         "line": {
          "color": "#01FFFF",
          "width": 0.6
         },
         "mode": "lines",
         "name": "HMA",
         "showlegend": false,
         "type": "scatter",
         "x": [
          "2025-08-05T13:27:00-04:00",
          "2025-08-05T13:28:00-04:00"
         ],
         "xaxis": "x",
         "y": {
          "bdata": "53GMtp+puEAurobbdaq4QA==",
          "dtype": "f8"
         },
         "yaxis": "y"
        },
        {
         "line": {
          "color": "#01FFFF",
          "width": 0.6
         },
         "mode": "lines",
         "name": "HMA",
         "showlegend": false,
         "type": "scatter",
         "x": [
          "2025-08-05T13:28:00-04:00",
          "2025-08-05T13:29:00-04:00"
         ],
         "xaxis": "x",
         "y": {
          "bdata": "Lq6G23WquEAa8ZKGP6u4QA==",
          "dtype": "f8"
         },
         "yaxis": "y"
        },
        {
         "line": {
          "color": "#01FFFF",
          "width": 0.6
         },
         "mode": "lines",
         "name": "HMA",
         "showlegend": false,
         "type": "scatter",
         "x": [
          "2025-08-05T13:29:00-04:00",
          "2025-08-05T13:30:00-04:00"
         ],
         "xaxis": "x",
         "y": {
          "bdata": "GvGShj+ruEBLLhyt/Ku4QA==",
          "dtype": "f8"
         },
         "yaxis": "y"
        },
        {
         "line": {
          "color": "#01FFFF",
          "width": 0.6
         },
         "mode": "lines",
         "name": "HMA",
         "showlegend": false,
         "type": "scatter",
         "x": [
          "2025-08-05T13:30:00-04:00",
          "2025-08-05T13:31:00-04:00"
         ],
         "xaxis": "x",
         "y": {
          "bdata": "Sy4crfyruEBDFuWFiKy4QA==",
          "dtype": "f8"
         },
         "yaxis": "y"
        },
        {
         "line": {
          "color": "#01FFFF",
          "width": 0.6
         },
         "mode": "lines",
         "name": "HMA",
         "showlegend": false,
         "type": "scatter",
         "x": [
          "2025-08-05T13:31:00-04:00",
          "2025-08-05T13:32:00-04:00"
         ],
         "xaxis": "x",
         "y": {
          "bdata": "QxblhYisuEBW4D/49Ky4QA==",
          "dtype": "f8"
         },
         "yaxis": "y"
        },
        {
         "line": {
          "color": "#01FFFF",
          "width": 0.6
         },
         "mode": "lines",
         "name": "HMA",
         "showlegend": false,
         "type": "scatter",
         "x": [
          "2025-08-05T13:32:00-04:00",
          "2025-08-05T13:33:00-04:00"
         ],
         "xaxis": "x",
         "y": {
          "bdata": "VuA/+PSsuECic040Q624QA==",
          "dtype": "f8"
         },
         "yaxis": "y"
        },
        {
         "line": {
          "color": "#01FFFF",
          "width": 0.6
         },
         "mode": "lines",
         "name": "HMA",
         "showlegend": false,
         "type": "scatter",
         "x": [
          "2025-08-05T13:33:00-04:00",
          "2025-08-05T13:34:00-04:00"
         ],
         "xaxis": "x",
         "y": {
          "bdata": "onNONEOtuEA581DtTq24QA==",
          "dtype": "f8"
         },
         "yaxis": "y"
        },
        {
         "line": {
          "color": "#FF66FE",
          "width": 0.6
         },
         "mode": "lines",
         "name": "HMA",
         "showlegend": false,
         "type": "scatter",
         "x": [
          "2025-08-05T13:34:00-04:00",
          "2025-08-05T13:35:00-04:00"
         ],
         "xaxis": "x",
         "y": {
          "bdata": "OfNQ7U6tuEDR2IShK624QA==",
          "dtype": "f8"
         },
         "yaxis": "y"
        },
        {
         "line": {
          "color": "#FF66FE",
          "width": 0.6
         },
         "mode": "lines",
         "name": "HMA",
         "showlegend": false,
         "type": "scatter",
         "x": [
          "2025-08-05T13:35:00-04:00",
          "2025-08-05T13:36:00-04:00"
         ],
         "xaxis": "x",
         "y": {
          "bdata": "0diEoSutuEDhaDqFEK24QA==",
          "dtype": "f8"
         },
         "yaxis": "y"
        },
        {
         "line": {
          "color": "#01FFFF",
          "width": 0.6
         },
         "mode": "lines",
         "name": "HMA",
         "showlegend": false,
         "type": "scatter",
         "x": [
          "2025-08-05T13:36:00-04:00",
          "2025-08-05T13:37:00-04:00"
         ],
         "xaxis": "x",
         "y": {
          "bdata": "4Wg6hRCtuEDqDb2cM624QA==",
          "dtype": "f8"
         },
         "yaxis": "y"
        },
        {
         "line": {
          "color": "#01FFFF",
          "width": 0.6
         },
         "mode": "lines",
         "name": "HMA",
         "showlegend": false,
         "type": "scatter",
         "x": [
          "2025-08-05T13:37:00-04:00",
          "2025-08-05T13:38:00-04:00"
         ],
         "xaxis": "x",
         "y": {
          "bdata": "6g29nDOtuEDEsYPnlq24QA==",
          "dtype": "f8"
         },
         "yaxis": "y"
        },
        {
         "line": {
          "color": "#01FFFF",
          "width": 0.6
         },
         "mode": "lines",
         "name": "HMA",
         "showlegend": false,
         "type": "scatter",
         "x": [
          "2025-08-05T13:38:00-04:00",
          "2025-08-05T13:39:00-04:00"
         ],
         "xaxis": "x",
         "y": {
          "bdata": "xLGD55atuEAuW8PuHq64QA==",
          "dtype": "f8"
         },
         "yaxis": "y"
        },
        {
         "line": {
          "color": "#01FFFF",
          "width": 0.6
         },
         "mode": "lines",
         "name": "HMA",
         "showlegend": false,
         "type": "scatter",
         "x": [
          "2025-08-05T13:39:00-04:00",
          "2025-08-05T13:40:00-04:00"
         ],
         "xaxis": "x",
         "y": {
          "bdata": "LlvD7h6uuEA9/ad0rq64QA==",
          "dtype": "f8"
         },
         "yaxis": "y"
        },
        {
         "line": {
          "color": "#01FFFF",
          "width": 0.6
         },
         "mode": "lines",
         "name": "HMA",
         "showlegend": false,
         "type": "scatter",
         "x": [
          "2025-08-05T13:40:00-04:00",
          "2025-08-05T13:41:00-04:00"
         ],
         "xaxis": "x",
         "y": {
          "bdata": "Pf2ndK6uuEAs660EJ6+4QA==",
          "dtype": "f8"
         },
         "yaxis": "y"
        },
        {
         "line": {
          "color": "#01FFFF",
          "width": 0.6
         },
         "mode": "lines",
         "name": "HMA",
         "showlegend": false,
         "type": "scatter",
         "x": [
          "2025-08-05T13:41:00-04:00",
          "2025-08-05T13:42:00-04:00"
         ],
         "xaxis": "x",
         "y": {
          "bdata": "LOutBCevuEDqEmiWiK+4QA==",
          "dtype": "f8"
         },
         "yaxis": "y"
        },
        {
         "line": {
          "color": "#01FFFF",
          "width": 0.6
         },
         "mode": "lines",
         "name": "HMA",
         "showlegend": false,
         "type": "scatter",
         "x": [
          "2025-08-05T13:42:00-04:00",
          "2025-08-05T13:43:00-04:00"
         ],
         "xaxis": "x",
         "y": {
          "bdata": "6hJoloivuEDOMozD2q+4QA==",
          "dtype": "f8"
         },
         "yaxis": "y"
        },
        {
         "line": {
          "color": "#01FFFF",
          "width": 0.6
         },
         "mode": "lines",
         "name": "HMA",
         "showlegend": false,
         "type": "scatter",
         "x": [
          "2025-08-05T13:43:00-04:00",
          "2025-08-05T13:44:00-04:00"
         ],
         "xaxis": "x",
         "y": {
          "bdata": "zjKMw9qvuEBmYLWCC7C4QA==",
          "dtype": "f8"
         },
         "yaxis": "y"
        },
        {
         "line": {
          "color": "#01FFFF",
          "width": 0.6
         },
         "mode": "lines",
         "name": "HMA",
         "showlegend": false,
         "type": "scatter",
         "x": [
          "2025-08-05T13:44:00-04:00",
          "2025-08-05T13:45:00-04:00"
         ],
         "xaxis": "x",
         "y": {
          "bdata": "ZmC1gguwuEA2UailKbC4QA==",
          "dtype": "f8"
         },
         "yaxis": "y"
        },
        {
         "line": {
          "color": "#01FFFF",
          "width": 0.6
         },
         "mode": "lines",
         "name": "HMA",
         "showlegend": false,
         "type": "scatter",
         "x": [
          "2025-08-05T13:45:00-04:00",
          "2025-08-05T13:46:00-04:00"
         ],
         "xaxis": "x",
         "y": {
          "bdata": "NlGopSmwuEAw5lgYS7C4QA==",
          "dtype": "f8"
         },
         "yaxis": "y"
        },
        {
         "line": {
          "color": "#01FFFF",
          "width": 0.6
         },
         "mode": "lines",
         "name": "HMA",
         "showlegend": false,
         "type": "scatter",
         "x": [
          "2025-08-05T13:46:00-04:00",
          "2025-08-05T13:47:00-04:00"
         ],
         "xaxis": "x",
         "y": {
          "bdata": "MOZYGEuwuED8d3sAkLC4QA==",
          "dtype": "f8"
         },
         "yaxis": "y"
        },
        {
         "line": {
          "color": "#01FFFF",
          "width": 0.6
         },
         "mode": "lines",
         "name": "HMA",
         "showlegend": false,
         "type": "scatter",
         "x": [
          "2025-08-05T13:47:00-04:00",
          "2025-08-05T13:48:00-04:00"
         ],
         "xaxis": "x",
         "y": {
          "bdata": "/Hd7AJCwuEDVWcTX7bC4QA==",
          "dtype": "f8"
         },
         "yaxis": "y"
        },
        {
         "line": {
          "color": "#01FFFF",
          "width": 0.6
         },
         "mode": "lines",
         "name": "HMA",
         "showlegend": false,
         "type": "scatter",
         "x": [
          "2025-08-05T13:48:00-04:00",
          "2025-08-05T13:49:00-04:00"
         ],
         "xaxis": "x",
         "y": {
          "bdata": "1VnE1+2wuEBSI97uQbG4QA==",
          "dtype": "f8"
         },
         "yaxis": "y"
        },
        {
         "line": {
          "color": "#01FFFF",
          "width": 0.6
         },
         "mode": "lines",
         "name": "HMA",
         "showlegend": false,
         "type": "scatter",
         "x": [
          "2025-08-05T13:49:00-04:00",
          "2025-08-05T13:50:00-04:00"
         ],
         "xaxis": "x",
         "y": {
          "bdata": "UiPe7kGxuECbDKS2c7G4QA==",
          "dtype": "f8"
         },
         "yaxis": "y"
        },
        {
         "line": {
          "color": "#01FFFF",
          "width": 0.6
         },
         "mode": "lines",
         "name": "HMA",
         "showlegend": false,
         "type": "scatter",
         "x": [
          "2025-08-05T13:50:00-04:00",
          "2025-08-05T13:51:00-04:00"
         ],
         "xaxis": "x",
         "y": {
          "bdata": "mwyktnOxuED+uU63e7G4QA==",
          "dtype": "f8"
         },
         "yaxis": "y"
        },
        {
         "line": {
          "color": "#FF66FE",
          "width": 0.6
         },
         "mode": "lines",
         "name": "HMA",
         "showlegend": false,
         "type": "scatter",
         "x": [
          "2025-08-05T13:51:00-04:00",
          "2025-08-05T13:52:00-04:00"
         ],
         "xaxis": "x",
         "y": {
          "bdata": "/rlOt3uxuEDyYRaXeLG4QA==",
          "dtype": "f8"
         },
         "yaxis": "y"
        },
        {
         "line": {
          "color": "#FF66FE",
          "width": 0.6
         },
         "mode": "lines",
         "name": "HMA",
         "showlegend": false,
         "type": "scatter",
         "x": [
          "2025-08-05T13:52:00-04:00",
          "2025-08-05T13:53:00-04:00"
         ],
         "xaxis": "x",
         "y": {
          "bdata": "8mEWl3ixuECf/Nb1bbG4QA==",
          "dtype": "f8"
         },
         "yaxis": "y"
        },
        {
         "line": {
          "color": "#FF66FE",
          "width": 0.6
         },
         "mode": "lines",
         "name": "HMA",
         "showlegend": false,
         "type": "scatter",
         "x": [
          "2025-08-05T13:53:00-04:00",
          "2025-08-05T13:54:00-04:00"
         ],
         "xaxis": "x",
         "y": {
          "bdata": "n/zW9W2xuEDuFQnkbLG4QA==",
          "dtype": "f8"
         },
         "yaxis": "y"
        },
        {
         "line": {
          "color": "#01FFFF",
          "width": 0.6
         },
         "mode": "lines",
         "name": "HMA",
         "showlegend": false,
         "type": "scatter",
         "x": [
          "2025-08-05T13:54:00-04:00",
          "2025-08-05T13:55:00-04:00"
         ],
         "xaxis": "x",
         "y": {
          "bdata": "7hUJ5GyxuEBO5ejJbrG4QA==",
          "dtype": "f8"
         },
         "yaxis": "y"
        },
        {
         "line": {
          "color": "#01FFFF",
          "width": 0.6
         },
         "mode": "lines",
         "name": "HMA",
         "showlegend": false,
         "type": "scatter",
         "x": [
          "2025-08-05T13:55:00-04:00",
          "2025-08-05T13:56:00-04:00"
         ],
         "xaxis": "x",
         "y": {
          "bdata": "TuXoyW6xuECqMM3IhbG4QA==",
          "dtype": "f8"
         },
         "yaxis": "y"
        },
        {
         "line": {
          "color": "#01FFFF",
          "width": 0.6
         },
         "mode": "lines",
         "name": "HMA",
         "showlegend": false,
         "type": "scatter",
         "x": [
          "2025-08-05T13:56:00-04:00",
          "2025-08-05T13:57:00-04:00"
         ],
         "xaxis": "x",
         "y": {
          "bdata": "qjDNyIWxuECuqqs+kLG4QA==",
          "dtype": "f8"
         },
         "yaxis": "y"
        },
        {
         "line": {
          "color": "#01FFFF",
          "width": 0.6
         },
         "mode": "lines",
         "name": "HMA",
         "showlegend": false,
         "type": "scatter",
         "x": [
          "2025-08-05T13:57:00-04:00",
          "2025-08-05T13:58:00-04:00"
         ],
         "xaxis": "x",
         "y": {
          "bdata": "rqqrPpCxuEDGwGlxobG4QA==",
          "dtype": "f8"
         },
         "yaxis": "y"
        },
        {
         "line": {
          "color": "#FF66FE",
          "width": 0.6
         },
         "mode": "lines",
         "name": "HMA",
         "showlegend": false,
         "type": "scatter",
         "x": [
          "2025-08-05T13:58:00-04:00",
          "2025-08-05T13:59:00-04:00"
         ],
         "xaxis": "x",
         "y": {
          "bdata": "xsBpcaGxuEB7RG5TnLG4QA==",
          "dtype": "f8"
         },
         "yaxis": "y"
        },
        {
         "line": {
          "color": "#FF66FE",
          "width": 0.6
         },
         "mode": "lines",
         "name": "HMA",
         "showlegend": false,
         "type": "scatter",
         "x": [
          "2025-08-05T13:59:00-04:00",
          "2025-08-05T14:00:00-04:00"
         ],
         "xaxis": "x",
         "y": {
          "bdata": "e0RuU5yxuECVBJHxg7G4QA==",
          "dtype": "f8"
         },
         "yaxis": "y"
        },
        {
         "line": {
          "color": "#FF66FE",
          "width": 0.6
         },
         "mode": "lines",
         "name": "HMA",
         "showlegend": false,
         "type": "scatter",
         "x": [
          "2025-08-05T14:00:00-04:00",
          "2025-08-05T14:01:00-04:00"
         ],
         "xaxis": "x",
         "y": {
          "bdata": "lQSR8YOxuEAFlObGNbG4QA==",
          "dtype": "f8"
         },
         "yaxis": "y"
        },
        {
         "line": {
          "color": "#FF66FE",
          "width": 0.6
         },
         "mode": "lines",
         "name": "HMA",
         "showlegend": false,
         "type": "scatter",
         "x": [
          "2025-08-05T14:01:00-04:00",
          "2025-08-05T14:02:00-04:00"
         ],
         "xaxis": "x",
         "y": {
          "bdata": "BZTmxjWxuEA+OcpHv7C4QA==",
          "dtype": "f8"
         },
         "yaxis": "y"
        },
        {
         "line": {
          "color": "#FF66FE",
          "width": 0.6
         },
         "mode": "lines",
         "name": "HMA",
         "showlegend": false,
         "type": "scatter",
         "x": [
          "2025-08-05T14:02:00-04:00",
          "2025-08-05T14:03:00-04:00"
         ],
         "xaxis": "x",
         "y": {
          "bdata": "PjnKR7+wuEAYq+E9W7C4QA==",
          "dtype": "f8"
         },
         "yaxis": "y"
        },
        {
         "line": {
          "color": "#FF66FE",
          "width": 0.6
         },
         "mode": "lines",
         "name": "HMA",
         "showlegend": false,
         "type": "scatter",
         "x": [
          "2025-08-05T14:03:00-04:00",
          "2025-08-05T14:04:00-04:00"
         ],
         "xaxis": "x",
         "y": {
          "bdata": "GKvhPVuwuED3Wn3o7K+4QA==",
          "dtype": "f8"
         },
         "yaxis": "y"
        },
        {
         "line": {
          "color": "#FF66FE",
          "width": 0.6
         },
         "mode": "lines",
         "name": "HMA",
         "showlegend": false,
         "type": "scatter",
         "x": [
          "2025-08-05T14:04:00-04:00",
          "2025-08-05T14:05:00-04:00"
         ],
         "xaxis": "x",
         "y": {
          "bdata": "91p96OyvuEC1Qfk8a6+4QA==",
          "dtype": "f8"
         },
         "yaxis": "y"
        },
        {
         "line": {
          "color": "#FF66FE",
          "width": 0.6
         },
         "mode": "lines",
         "name": "HMA",
         "showlegend": false,
         "type": "scatter",
         "x": [
          "2025-08-05T14:05:00-04:00",
          "2025-08-05T14:06:00-04:00"
         ],
         "xaxis": "x",
         "y": {
          "bdata": "tUH5PGuvuEBV6N8kzK64QA==",
          "dtype": "f8"
         },
         "yaxis": "y"
        },
        {
         "line": {
          "color": "#FF66FE",
          "width": 0.6
         },
         "mode": "lines",
         "name": "HMA",
         "showlegend": false,
         "type": "scatter",
         "x": [
          "2025-08-05T14:06:00-04:00",
          "2025-08-05T14:07:00-04:00"
         ],
         "xaxis": "x",
         "y": {
          "bdata": "VejfJMyuuEBrTRAaY664QA==",
          "dtype": "f8"
         },
         "yaxis": "y"
        },
        {
         "line": {
          "color": "#FF66FE",
          "width": 0.6
         },
         "mode": "lines",
         "name": "HMA",
         "showlegend": false,
         "type": "scatter",
         "x": [
          "2025-08-05T14:07:00-04:00",
          "2025-08-05T14:08:00-04:00"
         ],
         "xaxis": "x",
         "y": {
          "bdata": "a00QGmOuuEAM0UiaO664QA==",
          "dtype": "f8"
         },
         "yaxis": "y"
        },
        {
         "line": {
          "color": "#FF66FE",
          "width": 0.6
         },
         "mode": "lines",
         "name": "HMA",
         "showlegend": false,
         "type": "scatter",
         "x": [
          "2025-08-05T14:08:00-04:00",
          "2025-08-05T14:09:00-04:00"
         ],
         "xaxis": "x",
         "y": {
          "bdata": "DNFImjuuuEC+CLLNDa64QA==",
          "dtype": "f8"
         },
         "yaxis": "y"
        },
        {
         "line": {
          "color": "#FF66FE",
          "width": 0.6
         },
         "mode": "lines",
         "name": "HMA",
         "showlegend": false,
         "type": "scatter",
         "x": [
          "2025-08-05T14:09:00-04:00",
          "2025-08-05T14:10:00-04:00"
         ],
         "xaxis": "x",
         "y": {
          "bdata": "vgiyzQ2uuEDpy7H3o624QA==",
          "dtype": "f8"
         },
         "yaxis": "y"
        },
        {
         "line": {
          "color": "#FF66FE",
          "width": 0.6
         },
         "mode": "lines",
         "name": "HMA",
         "showlegend": false,
         "type": "scatter",
         "x": [
          "2025-08-05T14:10:00-04:00",
          "2025-08-05T14:11:00-04:00"
         ],
         "xaxis": "x",
         "y": {
          "bdata": "6cux96OtuEDQRTNUDq24QA==",
          "dtype": "f8"
         },
         "yaxis": "y"
        },
        {
         "line": {
          "color": "#FF66FE",
          "width": 0.6
         },
         "mode": "lines",
         "name": "HMA",
         "showlegend": false,
         "type": "scatter",
         "x": [
          "2025-08-05T14:11:00-04:00",
          "2025-08-05T14:12:00-04:00"
         ],
         "xaxis": "x",
         "y": {
          "bdata": "0EUzVA6tuEDxnRvfWay4QA==",
          "dtype": "f8"
         },
         "yaxis": "y"
        },
        {
         "line": {
          "color": "#FF66FE",
          "width": 0.6
         },
         "mode": "lines",
         "name": "HMA",
         "showlegend": false,
         "type": "scatter",
         "x": [
          "2025-08-05T14:12:00-04:00",
          "2025-08-05T14:13:00-04:00"
         ],
         "xaxis": "x",
         "y": {
          "bdata": "8Z0b31msuEDSBYn8nau4QA==",
          "dtype": "f8"
         },
         "yaxis": "y"
        },
        {
         "line": {
          "color": "#FF66FE",
          "width": 0.6
         },
         "mode": "lines",
         "name": "HMA",
         "showlegend": false,
         "type": "scatter",
         "x": [
          "2025-08-05T14:13:00-04:00",
          "2025-08-05T14:14:00-04:00"
         ],
         "xaxis": "x",
         "y": {
          "bdata": "0gWJ/J2ruEAVyIi036q4QA==",
          "dtype": "f8"
         },
         "yaxis": "y"
        },
        {
         "line": {
          "color": "#FF66FE",
          "width": 0.6
         },
         "mode": "lines",
         "name": "HMA",
         "showlegend": false,
         "type": "scatter",
         "x": [
          "2025-08-05T14:14:00-04:00",
          "2025-08-05T14:15:00-04:00"
         ],
         "xaxis": "x",
         "y": {
          "bdata": "FciItN+quEAIhQJltqm4QA==",
          "dtype": "f8"
         },
         "yaxis": "y"
        },
        {
         "line": {
          "color": "#FF66FE",
          "width": 0.6
         },
         "mode": "lines",
         "name": "HMA",
         "showlegend": false,
         "type": "scatter",
         "x": [
          "2025-08-05T14:15:00-04:00",
          "2025-08-05T14:16:00-04:00"
         ],
         "xaxis": "x",
         "y": {
          "bdata": "CIUCZbapuEBlExV+cqi4QA==",
          "dtype": "f8"
         },
         "yaxis": "y"
        },
        {
         "line": {
          "color": "#FF66FE",
          "width": 0.6
         },
         "mode": "lines",
         "name": "HMA",
         "showlegend": false,
         "type": "scatter",
         "x": [
          "2025-08-05T14:16:00-04:00",
          "2025-08-05T14:17:00-04:00"
         ],
         "xaxis": "x",
         "y": {
          "bdata": "ZRMVfnKouEDLRRbJLqe4QA==",
          "dtype": "f8"
         },
         "yaxis": "y"
        },
        {
         "line": {
          "color": "#FF66FE",
          "width": 0.6
         },
         "mode": "lines",
         "name": "HMA",
         "showlegend": false,
         "type": "scatter",
         "x": [
          "2025-08-05T14:17:00-04:00",
          "2025-08-05T14:18:00-04:00"
         ],
         "xaxis": "x",
         "y": {
          "bdata": "y0UWyS6nuEAaH53LB6a4QA==",
          "dtype": "f8"
         },
         "yaxis": "y"
        },
        {
         "line": {
          "color": "#FF66FE",
          "width": 0.6
         },
         "mode": "lines",
         "name": "HMA",
         "showlegend": false,
         "type": "scatter",
         "x": [
          "2025-08-05T14:18:00-04:00",
          "2025-08-05T14:19:00-04:00"
         ],
         "xaxis": "x",
         "y": {
          "bdata": "Gh+dywemuECAGplB+6S4QA==",
          "dtype": "f8"
         },
         "yaxis": "y"
        },
        {
         "line": {
          "color": "#FF66FE",
          "width": 0.6
         },
         "mode": "lines",
         "name": "HMA",
         "showlegend": false,
         "type": "scatter",
         "x": [
          "2025-08-05T14:19:00-04:00",
          "2025-08-05T14:20:00-04:00"
         ],
         "xaxis": "x",
         "y": {
          "bdata": "gBqZQfukuEDJBRXQL6S4QA==",
          "dtype": "f8"
         },
         "yaxis": "y"
        },
        {
         "line": {
          "color": "#FF66FE",
          "width": 0.6
         },
         "mode": "lines",
         "name": "HMA",
         "showlegend": false,
         "type": "scatter",
         "x": [
          "2025-08-05T14:20:00-04:00",
          "2025-08-05T14:21:00-04:00"
         ],
         "xaxis": "x",
         "y": {
          "bdata": "yQUV0C+kuECifwV1bKO4QA==",
          "dtype": "f8"
         },
         "yaxis": "y"
        },
        {
         "line": {
          "color": "#FF66FE",
          "width": 0.6
         },
         "mode": "lines",
         "name": "HMA",
         "showlegend": false,
         "type": "scatter",
         "x": [
          "2025-08-05T14:21:00-04:00",
          "2025-08-05T14:22:00-04:00"
         ],
         "xaxis": "x",
         "y": {
          "bdata": "on8FdWyjuEAInalo0qK4QA==",
          "dtype": "f8"
         },
         "yaxis": "y"
        },
        {
         "line": {
          "color": "#FF66FE",
          "width": 0.6
         },
         "mode": "lines",
         "name": "HMA",
         "showlegend": false,
         "type": "scatter",
         "x": [
          "2025-08-05T14:22:00-04:00",
          "2025-08-05T14:23:00-04:00"
         ],
         "xaxis": "x",
         "y": {
          "bdata": "CJ2paNKiuECdU5Rrd6K4QA==",
          "dtype": "f8"
         },
         "yaxis": "y"
        },
        {
         "line": {
          "color": "#FF66FE",
          "width": 0.6
         },
         "mode": "lines",
         "name": "HMA",
         "showlegend": false,
         "type": "scatter",
         "x": [
          "2025-08-05T14:23:00-04:00",
          "2025-08-05T14:24:00-04:00"
         ],
         "xaxis": "x",
         "y": {
          "bdata": "nVOUa3eiuECwAowpP6K4QA==",
          "dtype": "f8"
         },
         "yaxis": "y"
        },
        {
         "line": {
          "color": "#FF66FE",
          "width": 0.6
         },
         "mode": "lines",
         "name": "HMA",
         "showlegend": false,
         "type": "scatter",
         "x": [
          "2025-08-05T14:24:00-04:00",
          "2025-08-05T14:25:00-04:00"
         ],
         "xaxis": "x",
         "y": {
          "bdata": "sAKMKT+iuECcwQ+GNqK4QA==",
          "dtype": "f8"
         },
         "yaxis": "y"
        },
        {
         "line": {
          "color": "#FF66FE",
          "width": 0.6
         },
         "mode": "lines",
         "name": "HMA",
         "showlegend": false,
         "type": "scatter",
         "x": [
          "2025-08-05T14:25:00-04:00",
          "2025-08-05T14:26:00-04:00"
         ],
         "xaxis": "x",
         "y": {
          "bdata": "nMEPhjaiuEDTpZd0KqK4QA==",
          "dtype": "f8"
         },
         "yaxis": "y"
        },
        {
         "line": {
          "color": "#FF66FE",
          "width": 0.6
         },
         "mode": "lines",
         "name": "HMA",
         "showlegend": false,
         "type": "scatter",
         "x": [
          "2025-08-05T14:26:00-04:00",
          "2025-08-05T14:27:00-04:00"
         ],
         "xaxis": "x",
         "y": {
          "bdata": "06WXdCqiuECwrm3Z/qG4QA==",
          "dtype": "f8"
         },
         "yaxis": "y"
        },
        {
         "line": {
          "color": "#FF66FE",
          "width": 0.6
         },
         "mode": "lines",
         "name": "HMA",
         "showlegend": false,
         "type": "scatter",
         "x": [
          "2025-08-05T14:27:00-04:00",
          "2025-08-05T14:28:00-04:00"
         ],
         "xaxis": "x",
         "y": {
          "bdata": "sK5t2f6huECrA1j91aG4QA==",
          "dtype": "f8"
         },
         "yaxis": "y"
        },
        {
         "line": {
          "color": "#FF66FE",
          "width": 0.6
         },
         "mode": "lines",
         "name": "HMA",
         "showlegend": false,
         "type": "scatter",
         "x": [
          "2025-08-05T14:28:00-04:00",
          "2025-08-05T14:29:00-04:00"
         ],
         "xaxis": "x",
         "y": {
          "bdata": "qwNY/dWhuEDMWgEcsqG4QA==",
          "dtype": "f8"
         },
         "yaxis": "y"
        },
        {
         "line": {
          "color": "#FF66FE",
          "width": 0.6
         },
         "mode": "lines",
         "name": "HMA",
         "showlegend": false,
         "type": "scatter",
         "x": [
          "2025-08-05T14:29:00-04:00",
          "2025-08-05T14:30:00-04:00"
         ],
         "xaxis": "x",
         "y": {
          "bdata": "zFoBHLKhuECTUGSOMKG4QA==",
          "dtype": "f8"
         },
         "yaxis": "y"
        },
        {
         "line": {
          "color": "#FF66FE",
          "width": 0.6
         },
         "mode": "lines",
         "name": "HMA",
         "showlegend": false,
         "type": "scatter",
         "x": [
          "2025-08-05T14:30:00-04:00",
          "2025-08-05T14:31:00-04:00"
         ],
         "xaxis": "x",
         "y": {
          "bdata": "k1BkjjChuEB66mWdx6C4QA==",
          "dtype": "f8"
         },
         "yaxis": "y"
        },
        {
         "line": {
          "color": "#01FFFF",
          "width": 0.6
         },
         "mode": "lines",
         "name": "HMA",
         "showlegend": false,
         "type": "scatter",
         "x": [
          "2025-08-05T14:31:00-04:00",
          "2025-08-05T14:32:00-04:00"
         ],
         "xaxis": "x",
         "y": {
          "bdata": "euplnceguEC2ii20zqC4QA==",
          "dtype": "f8"
         },
         "yaxis": "y"
        },
        {
         "line": {
          "color": "#01FFFF",
          "width": 0.6
         },
         "mode": "lines",
         "name": "HMA",
         "showlegend": false,
         "type": "scatter",
         "x": [
          "2025-08-05T14:32:00-04:00",
          "2025-08-05T14:33:00-04:00"
         ],
         "xaxis": "x",
         "y": {
          "bdata": "toottM6guED41XyrAaG4QA==",
          "dtype": "f8"
         },
         "yaxis": "y"
        },
        {
         "line": {
          "color": "#01FFFF",
          "width": 0.6
         },
         "mode": "lines",
         "name": "HMA",
         "showlegend": false,
         "type": "scatter",
         "x": [
          "2025-08-05T14:33:00-04:00",
          "2025-08-05T14:34:00-04:00"
         ],
         "xaxis": "x",
         "y": {
          "bdata": "+NV8qwGhuECmOpQsPaG4QA==",
          "dtype": "f8"
         },
         "yaxis": "y"
        },
        {
         "line": {
          "color": "#FF66FE",
          "width": 0.6
         },
         "mode": "lines",
         "name": "HMA",
         "showlegend": false,
         "type": "scatter",
         "x": [
          "2025-08-05T14:34:00-04:00",
          "2025-08-05T14:35:00-04:00"
         ],
         "xaxis": "x",
         "y": {
          "bdata": "pjqULD2huECmT/GDM6G4QA==",
          "dtype": "f8"
         },
         "yaxis": "y"
        },
        {
         "line": {
          "color": "#FF66FE",
          "width": 0.6
         },
         "mode": "lines",
         "name": "HMA",
         "showlegend": false,
         "type": "scatter",
         "x": [
          "2025-08-05T14:35:00-04:00",
          "2025-08-05T14:36:00-04:00"
         ],
         "xaxis": "x",
         "y": {
          "bdata": "pk/xgzOhuEC9DbJAFqG4QA==",
          "dtype": "f8"
         },
         "yaxis": "y"
        },
        {
         "line": {
          "color": "#FF66FE",
          "width": 0.6
         },
         "mode": "lines",
         "name": "HMA",
         "showlegend": false,
         "type": "scatter",
         "x": [
          "2025-08-05T14:36:00-04:00",
          "2025-08-05T14:37:00-04:00"
         ],
         "xaxis": "x",
         "y": {
          "bdata": "vQ2yQBahuED6TGbu6aC4QA==",
          "dtype": "f8"
         },
         "yaxis": "y"
        },
        {
         "line": {
          "color": "#FF66FE",
          "width": 0.6
         },
         "mode": "lines",
         "name": "HMA",
         "showlegend": false,
         "type": "scatter",
         "x": [
          "2025-08-05T14:37:00-04:00",
          "2025-08-05T14:38:00-04:00"
         ],
         "xaxis": "x",
         "y": {
          "bdata": "+kxm7umguECxC8A72aC4QA==",
          "dtype": "f8"
         },
         "yaxis": "y"
        },
        {
         "line": {
          "color": "#01FFFF",
          "width": 0.6
         },
         "mode": "lines",
         "name": "HMA",
         "showlegend": false,
         "type": "scatter",
         "x": [
          "2025-08-05T14:38:00-04:00",
          "2025-08-05T14:39:00-04:00"
         ],
         "xaxis": "x",
         "y": {
          "bdata": "sQvAO9mguEDL0iej3qC4QA==",
          "dtype": "f8"
         },
         "yaxis": "y"
        },
        {
         "line": {
          "color": "#FF66FE",
          "width": 0.6
         },
         "mode": "lines",
         "name": "HMA",
         "showlegend": false,
         "type": "scatter",
         "x": [
          "2025-08-05T14:39:00-04:00",
          "2025-08-05T14:40:00-04:00"
         ],
         "xaxis": "x",
         "y": {
          "bdata": "y9Ino96guEDvy7KL2aC4QA==",
          "dtype": "f8"
         },
         "yaxis": "y"
        },
        {
         "line": {
          "color": "#FF66FE",
          "width": 0.6
         },
         "mode": "lines",
         "name": "HMA",
         "showlegend": false,
         "type": "scatter",
         "x": [
          "2025-08-05T14:40:00-04:00",
          "2025-08-05T14:41:00-04:00"
         ],
         "xaxis": "x",
         "y": {
          "bdata": "78uyi9mguEAhS0dXtqC4QA==",
          "dtype": "f8"
         },
         "yaxis": "y"
        },
        {
         "line": {
          "color": "#FF66FE",
          "width": 0.6
         },
         "mode": "lines",
         "name": "HMA",
         "showlegend": false,
         "type": "scatter",
         "x": [
          "2025-08-05T14:41:00-04:00",
          "2025-08-05T14:42:00-04:00"
         ],
         "xaxis": "x",
         "y": {
          "bdata": "IUtHV7aguECbzpKadqC4QA==",
          "dtype": "f8"
         },
         "yaxis": "y"
        },
        {
         "line": {
          "color": "#FF66FE",
          "width": 0.6
         },
         "mode": "lines",
         "name": "HMA",
         "showlegend": false,
         "type": "scatter",
         "x": [
          "2025-08-05T14:42:00-04:00",
          "2025-08-05T14:43:00-04:00"
         ],
         "xaxis": "x",
         "y": {
          "bdata": "m86SmnaguEDwbtItUqC4QA==",
          "dtype": "f8"
         },
         "yaxis": "y"
        },
        {
         "line": {
          "color": "#FF66FE",
          "width": 0.6
         },
         "mode": "lines",
         "name": "HMA",
         "showlegend": false,
         "type": "scatter",
         "x": [
          "2025-08-05T14:43:00-04:00",
          "2025-08-05T14:44:00-04:00"
         ],
         "xaxis": "x",
         "y": {
          "bdata": "8G7SLVKguEAzk109MKC4QA==",
          "dtype": "f8"
         },
         "yaxis": "y"
        },
        {
         "line": {
          "color": "#01FFFF",
          "width": 0.6
         },
         "mode": "lines",
         "name": "HMA",
         "showlegend": false,
         "type": "scatter",
         "x": [
          "2025-08-05T14:44:00-04:00",
          "2025-08-05T14:45:00-04:00"
         ],
         "xaxis": "x",
         "y": {
          "bdata": "M5NdPTCguEBdAIi8TaC4QA==",
          "dtype": "f8"
         },
         "yaxis": "y"
        },
        {
         "line": {
          "color": "#FF66FE",
          "width": 0.6
         },
         "mode": "lines",
         "name": "HMA",
         "showlegend": false,
         "type": "scatter",
         "x": [
          "2025-08-05T14:45:00-04:00",
          "2025-08-05T14:46:00-04:00"
         ],
         "xaxis": "x",
         "y": {
          "bdata": "XQCIvE2guEBV0grfLKC4QA==",
          "dtype": "f8"
         },
         "yaxis": "y"
        },
        {
         "line": {
          "color": "#FF66FE",
          "width": 0.6
         },
         "mode": "lines",
         "name": "HMA",
         "showlegend": false,
         "type": "scatter",
         "x": [
          "2025-08-05T14:46:00-04:00",
          "2025-08-05T14:47:00-04:00"
         ],
         "xaxis": "x",
         "y": {
          "bdata": "VdIK3yyguECHYuXt3Z+4QA==",
          "dtype": "f8"
         },
         "yaxis": "y"
        },
        {
         "line": {
          "color": "#FF66FE",
          "width": 0.6
         },
         "mode": "lines",
         "name": "HMA",
         "showlegend": false,
         "type": "scatter",
         "x": [
          "2025-08-05T14:47:00-04:00",
          "2025-08-05T14:48:00-04:00"
         ],
         "xaxis": "x",
         "y": {
          "bdata": "h2Ll7d2fuEBKnJfHa5+4QA==",
          "dtype": "f8"
         },
         "yaxis": "y"
        },
        {
         "line": {
          "color": "#FF66FE",
          "width": 0.6
         },
         "mode": "lines",
         "name": "HMA",
         "showlegend": false,
         "type": "scatter",
         "x": [
          "2025-08-05T14:48:00-04:00",
          "2025-08-05T14:49:00-04:00"
         ],
         "xaxis": "x",
         "y": {
          "bdata": "SpyXx2ufuECVBbPSI5+4QA==",
          "dtype": "f8"
         },
         "yaxis": "y"
        },
        {
         "line": {
          "color": "#FF66FE",
          "width": 0.6
         },
         "mode": "lines",
         "name": "HMA",
         "showlegend": false,
         "type": "scatter",
         "x": [
          "2025-08-05T14:49:00-04:00",
          "2025-08-05T14:50:00-04:00"
         ],
         "xaxis": "x",
         "y": {
          "bdata": "lQWz0iOfuEAMAJG3vZ64QA==",
          "dtype": "f8"
         },
         "yaxis": "y"
        },
        {
         "line": {
          "color": "#FF66FE",
          "width": 0.6
         },
         "mode": "lines",
         "name": "HMA",
         "showlegend": false,
         "type": "scatter",
         "x": [
          "2025-08-05T14:50:00-04:00",
          "2025-08-05T14:51:00-04:00"
         ],
         "xaxis": "x",
         "y": {
          "bdata": "DACRt72euEBr41UGPZ64QA==",
          "dtype": "f8"
         },
         "yaxis": "y"
        },
        {
         "line": {
          "color": "#FF66FE",
          "width": 0.6
         },
         "mode": "lines",
         "name": "HMA",
         "showlegend": false,
         "type": "scatter",
         "x": [
          "2025-08-05T14:51:00-04:00",
          "2025-08-05T14:52:00-04:00"
         ],
         "xaxis": "x",
         "y": {
          "bdata": "a+NVBj2euECyyK6sg524QA==",
          "dtype": "f8"
         },
         "yaxis": "y"
        },
        {
         "line": {
          "color": "#FF66FE",
          "width": 0.6
         },
         "mode": "lines",
         "name": "HMA",
         "showlegend": false,
         "type": "scatter",
         "x": [
          "2025-08-05T14:52:00-04:00",
          "2025-08-05T14:53:00-04:00"
         ],
         "xaxis": "x",
         "y": {
          "bdata": "ssiurIOduEC4gEnF15y4QA==",
          "dtype": "f8"
         },
         "yaxis": "y"
        },
        {
         "line": {
          "color": "#FF66FE",
          "width": 0.6
         },
         "mode": "lines",
         "name": "HMA",
         "showlegend": false,
         "type": "scatter",
         "x": [
          "2025-08-05T14:53:00-04:00",
          "2025-08-05T14:54:00-04:00"
         ],
         "xaxis": "x",
         "y": {
          "bdata": "uIBJxdecuEABsRs5Z5y4QA==",
          "dtype": "f8"
         },
         "yaxis": "y"
        },
        {
         "line": {
          "color": "#FF66FE",
          "width": 0.6
         },
         "mode": "lines",
         "name": "HMA",
         "showlegend": false,
         "type": "scatter",
         "x": [
          "2025-08-05T14:54:00-04:00",
          "2025-08-05T14:55:00-04:00"
         ],
         "xaxis": "x",
         "y": {
          "bdata": "AbEbOWecuECdYBgU/Zu4QA==",
          "dtype": "f8"
         },
         "yaxis": "y"
        },
        {
         "line": {
          "color": "#FF66FE",
          "width": 0.6
         },
         "mode": "lines",
         "name": "HMA",
         "showlegend": false,
         "type": "scatter",
         "x": [
          "2025-08-05T14:55:00-04:00",
          "2025-08-05T14:56:00-04:00"
         ],
         "xaxis": "x",
         "y": {
          "bdata": "nWAYFP2buEA8KqzPwJu4QA==",
          "dtype": "f8"
         },
         "yaxis": "y"
        },
        {
         "line": {
          "color": "#01FFFF",
          "width": 0.6
         },
         "mode": "lines",
         "name": "HMA",
         "showlegend": false,
         "type": "scatter",
         "x": [
          "2025-08-05T14:56:00-04:00",
          "2025-08-05T14:57:00-04:00"
         ],
         "xaxis": "x",
         "y": {
          "bdata": "PCqsz8CbuEBF00X71Zu4QA==",
          "dtype": "f8"
         },
         "yaxis": "y"
        },
        {
         "line": {
          "color": "#01FFFF",
          "width": 0.6
         },
         "mode": "lines",
         "name": "HMA",
         "showlegend": false,
         "type": "scatter",
         "x": [
          "2025-08-05T14:57:00-04:00",
          "2025-08-05T14:58:00-04:00"
         ],
         "xaxis": "x",
         "y": {
          "bdata": "RdNF+9WbuEDbYAvJNpy4QA==",
          "dtype": "f8"
         },
         "yaxis": "y"
        },
        {
         "line": {
          "color": "#01FFFF",
          "width": 0.6
         },
         "mode": "lines",
         "name": "HMA",
         "showlegend": false,
         "type": "scatter",
         "x": [
          "2025-08-05T14:58:00-04:00",
          "2025-08-05T14:59:00-04:00"
         ],
         "xaxis": "x",
         "y": {
          "bdata": "22ALyTacuECWgWMGy5y4QA==",
          "dtype": "f8"
         },
         "yaxis": "y"
        },
        {
         "line": {
          "color": "#01FFFF",
          "width": 0.6
         },
         "mode": "lines",
         "name": "HMA",
         "showlegend": false,
         "type": "scatter",
         "x": [
          "2025-08-05T14:59:00-04:00",
          "2025-08-05T15:00:00-04:00"
         ],
         "xaxis": "x",
         "y": {
          "bdata": "loFjBsucuEAWEsMVmZ24QA==",
          "dtype": "f8"
         },
         "yaxis": "y"
        },
        {
         "line": {
          "color": "#01FFFF",
          "width": 0.6
         },
         "mode": "lines",
         "name": "HMA",
         "showlegend": false,
         "type": "scatter",
         "x": [
          "2025-08-05T15:00:00-04:00",
          "2025-08-05T15:01:00-04:00"
         ],
         "xaxis": "x",
         "y": {
          "bdata": "FhLDFZmduEAjfb69mZ64QA==",
          "dtype": "f8"
         },
         "yaxis": "y"
        },
        {
         "line": {
          "color": "#01FFFF",
          "width": 0.6
         },
         "mode": "lines",
         "name": "HMA",
         "showlegend": false,
         "type": "scatter",
         "x": [
          "2025-08-05T15:01:00-04:00",
          "2025-08-05T15:02:00-04:00"
         ],
         "xaxis": "x",
         "y": {
          "bdata": "I32+vZmeuEAfRV3xoZ+4QA==",
          "dtype": "f8"
         },
         "yaxis": "y"
        },
        {
         "line": {
          "color": "#01FFFF",
          "width": 0.6
         },
         "mode": "lines",
         "name": "HMA",
         "showlegend": false,
         "type": "scatter",
         "x": [
          "2025-08-05T15:02:00-04:00",
          "2025-08-05T15:03:00-04:00"
         ],
         "xaxis": "x",
         "y": {
          "bdata": "H0Vd8aGfuED+WHM8rKC4QA==",
          "dtype": "f8"
         },
         "yaxis": "y"
        },
        {
         "line": {
          "color": "#01FFFF",
          "width": 0.6
         },
         "mode": "lines",
         "name": "HMA",
         "showlegend": false,
         "type": "scatter",
         "x": [
          "2025-08-05T15:03:00-04:00",
          "2025-08-05T15:04:00-04:00"
         ],
         "xaxis": "x",
         "y": {
          "bdata": "/lhzPKyguEDuqD2mqqG4QA==",
          "dtype": "f8"
         },
         "yaxis": "y"
        },
        {
         "line": {
          "color": "#01FFFF",
          "width": 0.6
         },
         "mode": "lines",
         "name": "HMA",
         "showlegend": false,
         "type": "scatter",
         "x": [
          "2025-08-05T15:04:00-04:00",
          "2025-08-05T15:05:00-04:00"
         ],
         "xaxis": "x",
         "y": {
          "bdata": "7qg9pqqhuECNIeHGaaK4QA==",
          "dtype": "f8"
         },
         "yaxis": "y"
        },
        {
         "line": {
          "color": "#01FFFF",
          "width": 0.6
         },
         "mode": "lines",
         "name": "HMA",
         "showlegend": false,
         "type": "scatter",
         "x": [
          "2025-08-05T15:05:00-04:00",
          "2025-08-05T15:06:00-04:00"
         ],
         "xaxis": "x",
         "y": {
          "bdata": "jSHhxmmiuEAYYyW18KK4QA==",
          "dtype": "f8"
         },
         "yaxis": "y"
        },
        {
         "line": {
          "color": "#01FFFF",
          "width": 0.6
         },
         "mode": "lines",
         "name": "HMA",
         "showlegend": false,
         "type": "scatter",
         "x": [
          "2025-08-05T15:06:00-04:00",
          "2025-08-05T15:07:00-04:00"
         ],
         "xaxis": "x",
         "y": {
          "bdata": "GGMltfCiuEDos7TmPqO4QA==",
          "dtype": "f8"
         },
         "yaxis": "y"
        },
        {
         "line": {
          "color": "#01FFFF",
          "width": 0.6
         },
         "mode": "lines",
         "name": "HMA",
         "showlegend": false,
         "type": "scatter",
         "x": [
          "2025-08-05T15:07:00-04:00",
          "2025-08-05T15:08:00-04:00"
         ],
         "xaxis": "x",
         "y": {
          "bdata": "6LO05j6juEDVggaYUaO4QA==",
          "dtype": "f8"
         },
         "yaxis": "y"
        },
        {
         "line": {
          "color": "#01FFFF",
          "width": 0.6
         },
         "mode": "lines",
         "name": "HMA",
         "showlegend": false,
         "type": "scatter",
         "x": [
          "2025-08-05T15:08:00-04:00",
          "2025-08-05T15:09:00-04:00"
         ],
         "xaxis": "x",
         "y": {
          "bdata": "1YIGmFGjuEBapFc7U6O4QA==",
          "dtype": "f8"
         },
         "yaxis": "y"
        },
        {
         "line": {
          "color": "#01FFFF",
          "width": 0.6
         },
         "mode": "lines",
         "name": "HMA",
         "showlegend": false,
         "type": "scatter",
         "x": [
          "2025-08-05T15:09:00-04:00",
          "2025-08-05T15:10:00-04:00"
         ],
         "xaxis": "x",
         "y": {
          "bdata": "WqRXO1OjuEDkH7IoX6O4QA==",
          "dtype": "f8"
         },
         "yaxis": "y"
        },
        {
         "line": {
          "color": "#01FFFF",
          "width": 0.6
         },
         "mode": "lines",
         "name": "HMA",
         "showlegend": false,
         "type": "scatter",
         "x": [
          "2025-08-05T15:10:00-04:00",
          "2025-08-05T15:11:00-04:00"
         ],
         "xaxis": "x",
         "y": {
          "bdata": "5B+yKF+juEChXc/7fKO4QA==",
          "dtype": "f8"
         },
         "yaxis": "y"
        },
        {
         "line": {
          "color": "#01FFFF",
          "width": 0.6
         },
         "mode": "lines",
         "name": "HMA",
         "showlegend": false,
         "type": "scatter",
         "x": [
          "2025-08-05T15:11:00-04:00",
          "2025-08-05T15:12:00-04:00"
         ],
         "xaxis": "x",
         "y": {
          "bdata": "oV3P+3yjuECZ0LplvKO4QA==",
          "dtype": "f8"
         },
         "yaxis": "y"
        },
        {
         "line": {
          "color": "#01FFFF",
          "width": 0.6
         },
         "mode": "lines",
         "name": "HMA",
         "showlegend": false,
         "type": "scatter",
         "x": [
          "2025-08-05T15:12:00-04:00",
          "2025-08-05T15:13:00-04:00"
         ],
         "xaxis": "x",
         "y": {
          "bdata": "mdC6ZbyjuEAawWEK56O4QA==",
          "dtype": "f8"
         },
         "yaxis": "y"
        },
        {
         "line": {
          "color": "#01FFFF",
          "width": 0.6
         },
         "mode": "lines",
         "name": "HMA",
         "showlegend": false,
         "type": "scatter",
         "x": [
          "2025-08-05T15:13:00-04:00",
          "2025-08-05T15:14:00-04:00"
         ],
         "xaxis": "x",
         "y": {
          "bdata": "GsFhCuejuEDa8z+LBKS4QA==",
          "dtype": "f8"
         },
         "yaxis": "y"
        },
        {
         "line": {
          "color": "#FF66FE",
          "width": 0.6
         },
         "mode": "lines",
         "name": "HMA",
         "showlegend": false,
         "type": "scatter",
         "x": [
          "2025-08-05T15:14:00-04:00",
          "2025-08-05T15:15:00-04:00"
         ],
         "xaxis": "x",
         "y": {
          "bdata": "2vM/iwSkuEDozChS96O4QA==",
          "dtype": "f8"
         },
         "yaxis": "y"
        },
        {
         "line": {
          "color": "#FF66FE",
          "width": 0.6
         },
         "mode": "lines",
         "name": "HMA",
         "showlegend": false,
         "type": "scatter",
         "x": [
          "2025-08-05T15:15:00-04:00",
          "2025-08-05T15:16:00-04:00"
         ],
         "xaxis": "x",
         "y": {
          "bdata": "6MwoUvejuEASwoHDy6O4QA==",
          "dtype": "f8"
         },
         "yaxis": "y"
        },
        {
         "line": {
          "color": "#FF66FE",
          "width": 0.6
         },
         "mode": "lines",
         "name": "HMA",
         "showlegend": false,
         "type": "scatter",
         "x": [
          "2025-08-05T15:16:00-04:00",
          "2025-08-05T15:17:00-04:00"
         ],
         "xaxis": "x",
         "y": {
          "bdata": "EsKBw8ujuEA4eMMunaO4QA==",
          "dtype": "f8"
         },
         "yaxis": "y"
        },
        {
         "line": {
          "color": "#FF66FE",
          "width": 0.6
         },
         "mode": "lines",
         "name": "HMA",
         "showlegend": false,
         "type": "scatter",
         "x": [
          "2025-08-05T15:17:00-04:00",
          "2025-08-05T15:18:00-04:00"
         ],
         "xaxis": "x",
         "y": {
          "bdata": "OHjDLp2juEAV/NHYj6O4QA==",
          "dtype": "f8"
         },
         "yaxis": "y"
        },
        {
         "line": {
          "color": "#01FFFF",
          "width": 0.6
         },
         "mode": "lines",
         "name": "HMA",
         "showlegend": false,
         "type": "scatter",
         "x": [
          "2025-08-05T15:18:00-04:00",
          "2025-08-05T15:19:00-04:00"
         ],
         "xaxis": "x",
         "y": {
          "bdata": "FfzR2I+juED+5x96mqO4QA==",
          "dtype": "f8"
         },
         "yaxis": "y"
        },
        {
         "line": {
          "color": "#01FFFF",
          "width": 0.6
         },
         "mode": "lines",
         "name": "HMA",
         "showlegend": false,
         "type": "scatter",
         "x": [
          "2025-08-05T15:19:00-04:00",
          "2025-08-05T15:20:00-04:00"
         ],
         "xaxis": "x",
         "y": {
          "bdata": "/ucfepqjuECcZIShsqO4QA==",
          "dtype": "f8"
         },
         "yaxis": "y"
        },
        {
         "line": {
          "color": "#01FFFF",
          "width": 0.6
         },
         "mode": "lines",
         "name": "HMA",
         "showlegend": false,
         "type": "scatter",
         "x": [
          "2025-08-05T15:20:00-04:00",
          "2025-08-05T15:21:00-04:00"
         ],
         "xaxis": "x",
         "y": {
          "bdata": "nGSEobKjuEC1sCQ056O4QA==",
          "dtype": "f8"
         },
         "yaxis": "y"
        },
        {
         "line": {
          "color": "#01FFFF",
          "width": 0.6
         },
         "mode": "lines",
         "name": "HMA",
         "showlegend": false,
         "type": "scatter",
         "x": [
          "2025-08-05T15:21:00-04:00",
          "2025-08-05T15:22:00-04:00"
         ],
         "xaxis": "x",
         "y": {
          "bdata": "tbAkNOejuEB7PtlmG6S4QA==",
          "dtype": "f8"
         },
         "yaxis": "y"
        },
        {
         "line": {
          "color": "#01FFFF",
          "width": 0.6
         },
         "mode": "lines",
         "name": "HMA",
         "showlegend": false,
         "type": "scatter",
         "x": [
          "2025-08-05T15:22:00-04:00",
          "2025-08-05T15:23:00-04:00"
         ],
         "xaxis": "x",
         "y": {
          "bdata": "ez7ZZhukuEBUsx4SY6S4QA==",
          "dtype": "f8"
         },
         "yaxis": "y"
        },
        {
         "line": {
          "color": "#01FFFF",
          "width": 0.6
         },
         "mode": "lines",
         "name": "HMA",
         "showlegend": false,
         "type": "scatter",
         "x": [
          "2025-08-05T15:23:00-04:00",
          "2025-08-05T15:24:00-04:00"
         ],
         "xaxis": "x",
         "y": {
          "bdata": "VLMeEmOkuEAiBMo6u6S4QA==",
          "dtype": "f8"
         },
         "yaxis": "y"
        },
        {
         "line": {
          "color": "#FF66FE",
          "width": 0.6
         },
         "mode": "lines",
         "name": "HMA",
         "showlegend": false,
         "type": "scatter",
         "x": [
          "2025-08-05T15:24:00-04:00",
          "2025-08-05T15:25:00-04:00"
         ],
         "xaxis": "x",
         "y": {
          "bdata": "IgTKOrukuEBmyx9zrqS4QA==",
          "dtype": "f8"
         },
         "yaxis": "y"
        },
        {
         "line": {
          "color": "#FF66FE",
          "width": 0.6
         },
         "mode": "lines",
         "name": "HMA",
         "showlegend": false,
         "type": "scatter",
         "x": [
          "2025-08-05T15:25:00-04:00",
          "2025-08-05T15:26:00-04:00"
         ],
         "xaxis": "x",
         "y": {
          "bdata": "Zssfc66kuEBevtIkh6S4QA==",
          "dtype": "f8"
         },
         "yaxis": "y"
        },
        {
         "line": {
          "color": "#FF66FE",
          "width": 0.6
         },
         "mode": "lines",
         "name": "HMA",
         "showlegend": false,
         "type": "scatter",
         "x": [
          "2025-08-05T15:26:00-04:00",
          "2025-08-05T15:27:00-04:00"
         ],
         "xaxis": "x",
         "y": {
          "bdata": "Xr7SJIekuECuW6rsZ6S4QA==",
          "dtype": "f8"
         },
         "yaxis": "y"
        },
        {
         "line": {
          "color": "#FF66FE",
          "width": 0.6
         },
         "mode": "lines",
         "name": "HMA",
         "showlegend": false,
         "type": "scatter",
         "x": [
          "2025-08-05T15:27:00-04:00",
          "2025-08-05T15:28:00-04:00"
         ],
         "xaxis": "x",
         "y": {
          "bdata": "rluq7GekuEBy0FskYaS4QA==",
          "dtype": "f8"
         },
         "yaxis": "y"
        },
        {
         "line": {
          "color": "#01FFFF",
          "width": 0.6
         },
         "mode": "lines",
         "name": "HMA",
         "showlegend": false,
         "type": "scatter",
         "x": [
          "2025-08-05T15:28:00-04:00",
          "2025-08-05T15:29:00-04:00"
         ],
         "xaxis": "x",
         "y": {
          "bdata": "ctBbJGGkuEDoW7gEdqS4QA==",
          "dtype": "f8"
         },
         "yaxis": "y"
        },
        {
         "line": {
          "color": "#01FFFF",
          "width": 0.6
         },
         "mode": "lines",
         "name": "HMA",
         "showlegend": false,
         "type": "scatter",
         "x": [
          "2025-08-05T15:29:00-04:00",
          "2025-08-05T15:30:00-04:00"
         ],
         "xaxis": "x",
         "y": {
          "bdata": "6Fu4BHakuEC4xbuhjKS4QA==",
          "dtype": "f8"
         },
         "yaxis": "y"
        },
        {
         "line": {
          "color": "#FF66FE",
          "width": 0.6
         },
         "mode": "lines",
         "name": "HMA",
         "showlegend": false,
         "type": "scatter",
         "x": [
          "2025-08-05T15:30:00-04:00",
          "2025-08-05T15:31:00-04:00"
         ],
         "xaxis": "x",
         "y": {
          "bdata": "uMW7oYykuECNTW0zg6S4QA==",
          "dtype": "f8"
         },
         "yaxis": "y"
        },
        {
         "line": {
          "color": "#FF66FE",
          "width": 0.6
         },
         "mode": "lines",
         "name": "HMA",
         "showlegend": false,
         "type": "scatter",
         "x": [
          "2025-08-05T15:31:00-04:00",
          "2025-08-05T15:32:00-04:00"
         ],
         "xaxis": "x",
         "y": {
          "bdata": "jU1tM4OkuEAwcD3RVKS4QA==",
          "dtype": "f8"
         },
         "yaxis": "y"
        },
        {
         "line": {
          "color": "#FF66FE",
          "width": 0.6
         },
         "mode": "lines",
         "name": "HMA",
         "showlegend": false,
         "type": "scatter",
         "x": [
          "2025-08-05T15:32:00-04:00",
          "2025-08-05T15:33:00-04:00"
         ],
         "xaxis": "x",
         "y": {
          "bdata": "MHA90VSkuECwr6xFLqS4QA==",
          "dtype": "f8"
         },
         "yaxis": "y"
        },
        {
         "line": {
          "color": "#FF66FE",
          "width": 0.6
         },
         "mode": "lines",
         "name": "HMA",
         "showlegend": false,
         "type": "scatter",
         "x": [
          "2025-08-05T15:33:00-04:00",
          "2025-08-05T15:34:00-04:00"
         ],
         "xaxis": "x",
         "y": {
          "bdata": "sK+sRS6kuECXeGh2CqS4QA==",
          "dtype": "f8"
         },
         "yaxis": "y"
        },
        {
         "line": {
          "color": "#FF66FE",
          "width": 0.6
         },
         "mode": "lines",
         "name": "HMA",
         "showlegend": false,
         "type": "scatter",
         "x": [
          "2025-08-05T15:34:00-04:00",
          "2025-08-05T15:35:00-04:00"
         ],
         "xaxis": "x",
         "y": {
          "bdata": "l3hodgqkuEDJ/s8G0qO4QA==",
          "dtype": "f8"
         },
         "yaxis": "y"
        },
        {
         "line": {
          "color": "#FF66FE",
          "width": 0.6
         },
         "mode": "lines",
         "name": "HMA",
         "showlegend": false,
         "type": "scatter",
         "x": [
          "2025-08-05T15:35:00-04:00",
          "2025-08-05T15:36:00-04:00"
         ],
         "xaxis": "x",
         "y": {
          "bdata": "yf7PBtKjuEDzZNJHYaO4QA==",
          "dtype": "f8"
         },
         "yaxis": "y"
        },
        {
         "line": {
          "color": "#FF66FE",
          "width": 0.6
         },
         "mode": "lines",
         "name": "HMA",
         "showlegend": false,
         "type": "scatter",
         "x": [
          "2025-08-05T15:36:00-04:00",
          "2025-08-05T15:37:00-04:00"
         ],
         "xaxis": "x",
         "y": {
          "bdata": "82TSR2GjuED9Kk0AyqK4QA==",
          "dtype": "f8"
         },
         "yaxis": "y"
        },
        {
         "line": {
          "color": "#FF66FE",
          "width": 0.6
         },
         "mode": "lines",
         "name": "HMA",
         "showlegend": false,
         "type": "scatter",
         "x": [
          "2025-08-05T15:37:00-04:00",
          "2025-08-05T15:38:00-04:00"
         ],
         "xaxis": "x",
         "y": {
          "bdata": "/SpNAMqiuEA+Unc1IaK4QA==",
          "dtype": "f8"
         },
         "yaxis": "y"
        },
        {
         "line": {
          "color": "#FF66FE",
          "width": 0.6
         },
         "mode": "lines",
         "name": "HMA",
         "showlegend": false,
         "type": "scatter",
         "x": [
          "2025-08-05T15:38:00-04:00",
          "2025-08-05T15:39:00-04:00"
         ],
         "xaxis": "x",
         "y": {
          "bdata": "PlJ3NSGiuECCByzHhqG4QA==",
          "dtype": "f8"
         },
         "yaxis": "y"
        },
        {
         "line": {
          "color": "#FF66FE",
          "width": 0.6
         },
         "mode": "lines",
         "name": "HMA",
         "showlegend": false,
         "type": "scatter",
         "x": [
          "2025-08-05T15:39:00-04:00",
          "2025-08-05T15:40:00-04:00"
         ],
         "xaxis": "x",
         "y": {
          "bdata": "ggcsx4ahuEAtn/fy+aC4QA==",
          "dtype": "f8"
         },
         "yaxis": "y"
        },
        {
         "line": {
          "color": "#FF66FE",
          "width": 0.6
         },
         "mode": "lines",
         "name": "HMA",
         "showlegend": false,
         "type": "scatter",
         "x": [
          "2025-08-05T15:40:00-04:00",
          "2025-08-05T15:41:00-04:00"
         ],
         "xaxis": "x",
         "y": {
          "bdata": "LZ/38vmguEB8TGSNXKC4QA==",
          "dtype": "f8"
         },
         "yaxis": "y"
        },
        {
         "line": {
          "color": "#FF66FE",
          "width": 0.6
         },
         "mode": "lines",
         "name": "HMA",
         "showlegend": false,
         "type": "scatter",
         "x": [
          "2025-08-05T15:41:00-04:00",
          "2025-08-05T15:42:00-04:00"
         ],
         "xaxis": "x",
         "y": {
          "bdata": "fExkjVyguEASXs6guZ+4QA==",
          "dtype": "f8"
         },
         "yaxis": "y"
        },
        {
         "line": {
          "color": "#FF66FE",
          "width": 0.6
         },
         "mode": "lines",
         "name": "HMA",
         "showlegend": false,
         "type": "scatter",
         "x": [
          "2025-08-05T15:42:00-04:00",
          "2025-08-05T15:43:00-04:00"
         ],
         "xaxis": "x",
         "y": {
          "bdata": "El7OoLmfuEDquEPpGZ+4QA==",
          "dtype": "f8"
         },
         "yaxis": "y"
        },
        {
         "line": {
          "color": "#FF66FE",
          "width": 0.6
         },
         "mode": "lines",
         "name": "HMA",
         "showlegend": false,
         "type": "scatter",
         "x": [
          "2025-08-05T15:43:00-04:00",
          "2025-08-05T15:44:00-04:00"
         ],
         "xaxis": "x",
         "y": {
          "bdata": "6rhD6RmfuEBq3wVwgZ64QA==",
          "dtype": "f8"
         },
         "yaxis": "y"
        },
        {
         "line": {
          "color": "#FF66FE",
          "width": 0.6
         },
         "mode": "lines",
         "name": "HMA",
         "showlegend": false,
         "type": "scatter",
         "x": [
          "2025-08-05T15:44:00-04:00",
          "2025-08-05T15:45:00-04:00"
         ],
         "xaxis": "x",
         "y": {
          "bdata": "at8FcIGeuEDOnYSvKp64QA==",
          "dtype": "f8"
         },
         "yaxis": "y"
        },
        {
         "line": {
          "color": "#FF66FE",
          "width": 0.6
         },
         "mode": "lines",
         "name": "HMA",
         "showlegend": false,
         "type": "scatter",
         "x": [
          "2025-08-05T15:45:00-04:00",
          "2025-08-05T15:46:00-04:00"
         ],
         "xaxis": "x",
         "y": {
          "bdata": "zp2EryqeuECmrsAqx524QA==",
          "dtype": "f8"
         },
         "yaxis": "y"
        },
        {
         "line": {
          "color": "#FF66FE",
          "width": 0.6
         },
         "mode": "lines",
         "name": "HMA",
         "showlegend": false,
         "type": "scatter",
         "x": [
          "2025-08-05T15:46:00-04:00",
          "2025-08-05T15:47:00-04:00"
         ],
         "xaxis": "x",
         "y": {
          "bdata": "pq7AKseduEAb3Is8Yp24QA==",
          "dtype": "f8"
         },
         "yaxis": "y"
        },
        {
         "line": {
          "color": "#FF66FE",
          "width": 0.6
         },
         "mode": "lines",
         "name": "HMA",
         "showlegend": false,
         "type": "scatter",
         "x": [
          "2025-08-05T15:47:00-04:00",
          "2025-08-05T15:48:00-04:00"
         ],
         "xaxis": "x",
         "y": {
          "bdata": "G9yLPGKduEBjAazFGJ24QA==",
          "dtype": "f8"
         },
         "yaxis": "y"
        },
        {
         "line": {
          "color": "#FF66FE",
          "width": 0.6
         },
         "mode": "lines",
         "name": "HMA",
         "showlegend": false,
         "type": "scatter",
         "x": [
          "2025-08-05T15:48:00-04:00",
          "2025-08-05T15:49:00-04:00"
         ],
         "xaxis": "x",
         "y": {
          "bdata": "YwGsxRiduEDyd1xNxZy4QA==",
          "dtype": "f8"
         },
         "yaxis": "y"
        },
        {
         "line": {
          "color": "#01FFFF",
          "width": 0.6
         },
         "mode": "lines",
         "name": "HMA",
         "showlegend": false,
         "type": "scatter",
         "x": [
          "2025-08-05T15:49:00-04:00",
          "2025-08-05T15:50:00-04:00"
         ],
         "xaxis": "x",
         "y": {
          "bdata": "8ndcTcWcuEDjxBWN55y4QA==",
          "dtype": "f8"
         },
         "yaxis": "y"
        },
        {
         "line": {
          "color": "#01FFFF",
          "width": 0.6
         },
         "mode": "lines",
         "name": "HMA",
         "showlegend": false,
         "type": "scatter",
         "x": [
          "2025-08-05T15:50:00-04:00",
          "2025-08-05T15:51:00-04:00"
         ],
         "xaxis": "x",
         "y": {
          "bdata": "48QVjeecuEAuwNF0Op24QA==",
          "dtype": "f8"
         },
         "yaxis": "y"
        },
        {
         "line": {
          "color": "#01FFFF",
          "width": 0.6
         },
         "mode": "lines",
         "name": "HMA",
         "showlegend": false,
         "type": "scatter",
         "x": [
          "2025-08-05T15:51:00-04:00",
          "2025-08-05T15:52:00-04:00"
         ],
         "xaxis": "x",
         "y": {
          "bdata": "LsDRdDqduECVN34epZ24QA==",
          "dtype": "f8"
         },
         "yaxis": "y"
        },
        {
         "line": {
          "color": "#01FFFF",
          "width": 0.6
         },
         "mode": "lines",
         "name": "HMA",
         "showlegend": false,
         "type": "scatter",
         "x": [
          "2025-08-05T15:52:00-04:00",
          "2025-08-05T15:53:00-04:00"
         ],
         "xaxis": "x",
         "y": {
          "bdata": "lTd+HqWduEAwY4Cm9Z24QA==",
          "dtype": "f8"
         },
         "yaxis": "y"
        },
        {
         "line": {
          "color": "#01FFFF",
          "width": 0.6
         },
         "mode": "lines",
         "name": "HMA",
         "showlegend": false,
         "type": "scatter",
         "x": [
          "2025-08-05T15:53:00-04:00",
          "2025-08-05T15:54:00-04:00"
         ],
         "xaxis": "x",
         "y": {
          "bdata": "MGOApvWduEAKWgreD564QA==",
          "dtype": "f8"
         },
         "yaxis": "y"
        },
        {
         "line": {
          "color": "#FF66FE",
          "width": 0.6
         },
         "mode": "lines",
         "name": "HMA",
         "showlegend": false,
         "type": "scatter",
         "x": [
          "2025-08-05T15:54:00-04:00",
          "2025-08-05T15:55:00-04:00"
         ],
         "xaxis": "x",
         "y": {
          "bdata": "CloK3g+euEDC1Gk9A564QA==",
          "dtype": "f8"
         },
         "yaxis": "y"
        },
        {
         "line": {
          "color": "#FF66FE",
          "width": 0.6
         },
         "mode": "lines",
         "name": "HMA",
         "showlegend": false,
         "type": "scatter",
         "x": [
          "2025-08-05T15:55:00-04:00",
          "2025-08-05T15:56:00-04:00"
         ],
         "xaxis": "x",
         "y": {
          "bdata": "wtRpPQOeuEAO3unN4J24QA==",
          "dtype": "f8"
         },
         "yaxis": "y"
        },
        {
         "line": {
          "color": "#FF66FE",
          "width": 0.6
         },
         "mode": "lines",
         "name": "HMA",
         "showlegend": false,
         "type": "scatter",
         "x": [
          "2025-08-05T15:56:00-04:00",
          "2025-08-05T15:57:00-04:00"
         ],
         "xaxis": "x",
         "y": {
          "bdata": "Dt7pzeCduED9CXLqk524QA==",
          "dtype": "f8"
         },
         "yaxis": "y"
        },
        {
         "line": {
          "color": "#FF66FE",
          "width": 0.6
         },
         "mode": "lines",
         "name": "HMA",
         "showlegend": false,
         "type": "scatter",
         "x": [
          "2025-08-05T15:57:00-04:00",
          "2025-08-05T15:58:00-04:00"
         ],
         "xaxis": "x",
         "y": {
          "bdata": "/Qly6pOduEBym/AeAZ24QA==",
          "dtype": "f8"
         },
         "yaxis": "y"
        },
        {
         "line": {
          "color": "#FF66FE",
          "width": 0.6
         },
         "mode": "lines",
         "name": "HMA",
         "showlegend": false,
         "type": "scatter",
         "x": [
          "2025-08-05T15:58:00-04:00",
          "2025-08-05T15:59:00-04:00"
         ],
         "xaxis": "x",
         "y": {
          "bdata": "cpvwHgGduECLoPedYJy4QA==",
          "dtype": "f8"
         },
         "yaxis": "y"
        },
        {
         "line": {
          "color": "#01FFFF",
          "width": 1
         },
         "mode": "lines",
         "name": "MACD (Value)",
         "showlegend": false,
         "type": "scatter",
         "x": [
          "2025-08-05T09:00:00.000000000",
          "2025-08-05T09:01:00.000000000",
          "2025-08-05T09:02:00.000000000",
          "2025-08-05T09:03:00.000000000",
          "2025-08-05T09:04:00.000000000",
          "2025-08-05T09:05:00.000000000",
          "2025-08-05T09:06:00.000000000",
          "2025-08-05T09:07:00.000000000",
          "2025-08-05T09:08:00.000000000",
          "2025-08-05T09:09:00.000000000",
          "2025-08-05T09:10:00.000000000",
          "2025-08-05T09:11:00.000000000",
          "2025-08-05T09:12:00.000000000",
          "2025-08-05T09:13:00.000000000",
          "2025-08-05T09:14:00.000000000",
          "2025-08-05T09:15:00.000000000",
          "2025-08-05T09:16:00.000000000",
          "2025-08-05T09:17:00.000000000",
          "2025-08-05T09:18:00.000000000",
          "2025-08-05T09:19:00.000000000",
          "2025-08-05T09:20:00.000000000",
          "2025-08-05T09:21:00.000000000",
          "2025-08-05T09:22:00.000000000",
          "2025-08-05T09:23:00.000000000",
          "2025-08-05T09:24:00.000000000",
          "2025-08-05T09:25:00.000000000",
          "2025-08-05T09:26:00.000000000",
          "2025-08-05T09:27:00.000000000",
          "2025-08-05T09:28:00.000000000",
          "2025-08-05T09:29:00.000000000",
          "2025-08-05T09:30:00.000000000",
          "2025-08-05T09:31:00.000000000",
          "2025-08-05T09:32:00.000000000",
          "2025-08-05T09:33:00.000000000",
          "2025-08-05T09:34:00.000000000",
          "2025-08-05T09:35:00.000000000",
          "2025-08-05T09:36:00.000000000",
          "2025-08-05T09:37:00.000000000",
          "2025-08-05T09:38:00.000000000",
          "2025-08-05T09:39:00.000000000",
          "2025-08-05T09:40:00.000000000",
          "2025-08-05T09:41:00.000000000",
          "2025-08-05T09:42:00.000000000",
          "2025-08-05T09:43:00.000000000",
          "2025-08-05T09:44:00.000000000",
          "2025-08-05T09:45:00.000000000",
          "2025-08-05T09:46:00.000000000",
          "2025-08-05T09:47:00.000000000",
          "2025-08-05T09:48:00.000000000",
          "2025-08-05T09:49:00.000000000",
          "2025-08-05T09:50:00.000000000",
          "2025-08-05T09:51:00.000000000",
          "2025-08-05T09:52:00.000000000",
          "2025-08-05T09:53:00.000000000",
          "2025-08-05T09:54:00.000000000",
          "2025-08-05T09:55:00.000000000",
          "2025-08-05T09:56:00.000000000",
          "2025-08-05T09:57:00.000000000",
          "2025-08-05T09:58:00.000000000",
          "2025-08-05T09:59:00.000000000",
          "2025-08-05T10:00:00.000000000",
          "2025-08-05T10:01:00.000000000",
          "2025-08-05T10:02:00.000000000",
          "2025-08-05T10:03:00.000000000",
          "2025-08-05T10:04:00.000000000",
          "2025-08-05T10:05:00.000000000",
          "2025-08-05T10:06:00.000000000",
          "2025-08-05T10:07:00.000000000",
          "2025-08-05T10:08:00.000000000",
          "2025-08-05T10:09:00.000000000",
          "2025-08-05T10:10:00.000000000",
          "2025-08-05T10:11:00.000000000",
          "2025-08-05T10:12:00.000000000",
          "2025-08-05T10:13:00.000000000",
          "2025-08-05T10:14:00.000000000",
          "2025-08-05T10:15:00.000000000",
          "2025-08-05T10:16:00.000000000",
          "2025-08-05T10:17:00.000000000",
          "2025-08-05T10:18:00.000000000",
          "2025-08-05T10:19:00.000000000",
          "2025-08-05T10:20:00.000000000",
          "2025-08-05T10:21:00.000000000",
          "2025-08-05T10:22:00.000000000",
          "2025-08-05T10:23:00.000000000",
          "2025-08-05T10:24:00.000000000",
          "2025-08-05T10:25:00.000000000",
          "2025-08-05T10:26:00.000000000",
          "2025-08-05T10:27:00.000000000",
          "2025-08-05T10:28:00.000000000",
          "2025-08-05T10:29:00.000000000",
          "2025-08-05T10:30:00.000000000",
          "2025-08-05T10:31:00.000000000",
          "2025-08-05T10:32:00.000000000",
          "2025-08-05T10:33:00.000000000",
          "2025-08-05T10:34:00.000000000",
          "2025-08-05T10:35:00.000000000",
          "2025-08-05T10:36:00.000000000",
          "2025-08-05T10:37:00.000000000",
          "2025-08-05T10:38:00.000000000",
          "2025-08-05T10:39:00.000000000",
          "2025-08-05T10:40:00.000000000",
          "2025-08-05T10:41:00.000000000",
          "2025-08-05T10:42:00.000000000",
          "2025-08-05T10:43:00.000000000",
          "2025-08-05T10:44:00.000000000",
          "2025-08-05T10:45:00.000000000",
          "2025-08-05T10:46:00.000000000",
          "2025-08-05T10:47:00.000000000",
          "2025-08-05T10:48:00.000000000",
          "2025-08-05T10:49:00.000000000",
          "2025-08-05T10:50:00.000000000",
          "2025-08-05T10:51:00.000000000",
          "2025-08-05T10:52:00.000000000",
          "2025-08-05T10:53:00.000000000",
          "2025-08-05T10:54:00.000000000",
          "2025-08-05T10:55:00.000000000",
          "2025-08-05T10:56:00.000000000",
          "2025-08-05T10:57:00.000000000",
          "2025-08-05T10:58:00.000000000",
          "2025-08-05T10:59:00.000000000",
          "2025-08-05T11:00:00.000000000",
          "2025-08-05T11:01:00.000000000",
          "2025-08-05T11:02:00.000000000",
          "2025-08-05T11:03:00.000000000",
          "2025-08-05T11:04:00.000000000",
          "2025-08-05T11:05:00.000000000",
          "2025-08-05T11:06:00.000000000",
          "2025-08-05T11:07:00.000000000",
          "2025-08-05T11:08:00.000000000",
          "2025-08-05T11:09:00.000000000",
          "2025-08-05T11:10:00.000000000",
          "2025-08-05T11:11:00.000000000",
          "2025-08-05T11:12:00.000000000",
          "2025-08-05T11:13:00.000000000",
          "2025-08-05T11:14:00.000000000",
          "2025-08-05T11:15:00.000000000",
          "2025-08-05T11:16:00.000000000",
          "2025-08-05T11:17:00.000000000",
          "2025-08-05T11:18:00.000000000",
          "2025-08-05T11:19:00.000000000",
          "2025-08-05T11:20:00.000000000",
          "2025-08-05T11:21:00.000000000",
          "2025-08-05T11:22:00.000000000",
          "2025-08-05T11:23:00.000000000",
          "2025-08-05T11:24:00.000000000",
          "2025-08-05T11:25:00.000000000",
          "2025-08-05T11:26:00.000000000",
          "2025-08-05T11:27:00.000000000",
          "2025-08-05T11:28:00.000000000",
          "2025-08-05T11:29:00.000000000",
          "2025-08-05T11:30:00.000000000",
          "2025-08-05T11:31:00.000000000",
          "2025-08-05T11:32:00.000000000",
          "2025-08-05T11:33:00.000000000",
          "2025-08-05T11:34:00.000000000",
          "2025-08-05T11:35:00.000000000",
          "2025-08-05T11:36:00.000000000",
          "2025-08-05T11:37:00.000000000",
          "2025-08-05T11:38:00.000000000",
          "2025-08-05T11:39:00.000000000",
          "2025-08-05T11:40:00.000000000",
          "2025-08-05T11:41:00.000000000",
          "2025-08-05T11:42:00.000000000",
          "2025-08-05T11:43:00.000000000",
          "2025-08-05T11:44:00.000000000",
          "2025-08-05T11:45:00.000000000",
          "2025-08-05T11:46:00.000000000",
          "2025-08-05T11:47:00.000000000",
          "2025-08-05T11:48:00.000000000",
          "2025-08-05T11:49:00.000000000",
          "2025-08-05T11:50:00.000000000",
          "2025-08-05T11:51:00.000000000",
          "2025-08-05T11:52:00.000000000",
          "2025-08-05T11:53:00.000000000",
          "2025-08-05T11:54:00.000000000",
          "2025-08-05T11:55:00.000000000",
          "2025-08-05T11:56:00.000000000",
          "2025-08-05T11:57:00.000000000",
          "2025-08-05T11:58:00.000000000",
          "2025-08-05T11:59:00.000000000",
          "2025-08-05T12:00:00.000000000",
          "2025-08-05T12:01:00.000000000",
          "2025-08-05T12:02:00.000000000",
          "2025-08-05T12:03:00.000000000",
          "2025-08-05T12:04:00.000000000",
          "2025-08-05T12:05:00.000000000",
          "2025-08-05T12:06:00.000000000",
          "2025-08-05T12:07:00.000000000",
          "2025-08-05T12:08:00.000000000",
          "2025-08-05T12:09:00.000000000",
          "2025-08-05T12:10:00.000000000",
          "2025-08-05T12:11:00.000000000",
          "2025-08-05T12:12:00.000000000",
          "2025-08-05T12:13:00.000000000",
          "2025-08-05T12:14:00.000000000",
          "2025-08-05T12:15:00.000000000",
          "2025-08-05T12:16:00.000000000",
          "2025-08-05T12:17:00.000000000",
          "2025-08-05T12:18:00.000000000",
          "2025-08-05T12:19:00.000000000",
          "2025-08-05T12:20:00.000000000",
          "2025-08-05T12:21:00.000000000",
          "2025-08-05T12:22:00.000000000",
          "2025-08-05T12:23:00.000000000",
          "2025-08-05T12:24:00.000000000",
          "2025-08-05T12:25:00.000000000",
          "2025-08-05T12:26:00.000000000",
          "2025-08-05T12:27:00.000000000",
          "2025-08-05T12:28:00.000000000",
          "2025-08-05T12:29:00.000000000",
          "2025-08-05T12:30:00.000000000",
          "2025-08-05T12:31:00.000000000",
          "2025-08-05T12:32:00.000000000",
          "2025-08-05T12:33:00.000000000",
          "2025-08-05T12:34:00.000000000",
          "2025-08-05T12:35:00.000000000",
          "2025-08-05T12:36:00.000000000",
          "2025-08-05T12:37:00.000000000",
          "2025-08-05T12:38:00.000000000",
          "2025-08-05T12:39:00.000000000",
          "2025-08-05T12:40:00.000000000",
          "2025-08-05T12:41:00.000000000",
          "2025-08-05T12:42:00.000000000",
          "2025-08-05T12:43:00.000000000",
          "2025-08-05T12:44:00.000000000",
          "2025-08-05T12:45:00.000000000",
          "2025-08-05T12:46:00.000000000",
          "2025-08-05T12:47:00.000000000",
          "2025-08-05T12:48:00.000000000",
          "2025-08-05T12:49:00.000000000",
          "2025-08-05T12:50:00.000000000",
          "2025-08-05T12:51:00.000000000",
          "2025-08-05T12:52:00.000000000",
          "2025-08-05T12:53:00.000000000",
          "2025-08-05T12:54:00.000000000",
          "2025-08-05T12:55:00.000000000",
          "2025-08-05T12:56:00.000000000",
          "2025-08-05T12:57:00.000000000",
          "2025-08-05T12:58:00.000000000",
          "2025-08-05T12:59:00.000000000",
          "2025-08-05T13:00:00.000000000",
          "2025-08-05T13:01:00.000000000",
          "2025-08-05T13:02:00.000000000",
          "2025-08-05T13:03:00.000000000",
          "2025-08-05T13:04:00.000000000",
          "2025-08-05T13:05:00.000000000",
          "2025-08-05T13:06:00.000000000",
          "2025-08-05T13:07:00.000000000",
          "2025-08-05T13:08:00.000000000",
          "2025-08-05T13:09:00.000000000",
          "2025-08-05T13:10:00.000000000",
          "2025-08-05T13:11:00.000000000",
          "2025-08-05T13:12:00.000000000",
          "2025-08-05T13:13:00.000000000",
          "2025-08-05T13:14:00.000000000",
          "2025-08-05T13:15:00.000000000",
          "2025-08-05T13:16:00.000000000",
          "2025-08-05T13:17:00.000000000",
          "2025-08-05T13:18:00.000000000",
          "2025-08-05T13:19:00.000000000",
          "2025-08-05T13:20:00.000000000",
          "2025-08-05T13:21:00.000000000",
          "2025-08-05T13:22:00.000000000",
          "2025-08-05T13:23:00.000000000",
          "2025-08-05T13:24:00.000000000",
          "2025-08-05T13:25:00.000000000",
          "2025-08-05T13:26:00.000000000",
          "2025-08-05T13:27:00.000000000",
          "2025-08-05T13:28:00.000000000",
          "2025-08-05T13:29:00.000000000",
          "2025-08-05T13:30:00.000000000",
          "2025-08-05T13:31:00.000000000",
          "2025-08-05T13:32:00.000000000",
          "2025-08-05T13:33:00.000000000",
          "2025-08-05T13:34:00.000000000",
          "2025-08-05T13:35:00.000000000",
          "2025-08-05T13:36:00.000000000",
          "2025-08-05T13:37:00.000000000",
          "2025-08-05T13:38:00.000000000",
          "2025-08-05T13:39:00.000000000",
          "2025-08-05T13:40:00.000000000",
          "2025-08-05T13:41:00.000000000",
          "2025-08-05T13:42:00.000000000",
          "2025-08-05T13:43:00.000000000",
          "2025-08-05T13:44:00.000000000",
          "2025-08-05T13:45:00.000000000",
          "2025-08-05T13:46:00.000000000",
          "2025-08-05T13:47:00.000000000",
          "2025-08-05T13:48:00.000000000",
          "2025-08-05T13:49:00.000000000",
          "2025-08-05T13:50:00.000000000",
          "2025-08-05T13:51:00.000000000",
          "2025-08-05T13:52:00.000000000",
          "2025-08-05T13:53:00.000000000",
          "2025-08-05T13:54:00.000000000",
          "2025-08-05T13:55:00.000000000",
          "2025-08-05T13:56:00.000000000",
          "2025-08-05T13:57:00.000000000",
          "2025-08-05T13:58:00.000000000",
          "2025-08-05T13:59:00.000000000",
          "2025-08-05T14:00:00.000000000",
          "2025-08-05T14:01:00.000000000",
          "2025-08-05T14:02:00.000000000",
          "2025-08-05T14:03:00.000000000",
          "2025-08-05T14:04:00.000000000",
          "2025-08-05T14:05:00.000000000",
          "2025-08-05T14:06:00.000000000",
          "2025-08-05T14:07:00.000000000",
          "2025-08-05T14:08:00.000000000",
          "2025-08-05T14:09:00.000000000",
          "2025-08-05T14:10:00.000000000",
          "2025-08-05T14:11:00.000000000",
          "2025-08-05T14:12:00.000000000",
          "2025-08-05T14:13:00.000000000",
          "2025-08-05T14:14:00.000000000",
          "2025-08-05T14:15:00.000000000",
          "2025-08-05T14:16:00.000000000",
          "2025-08-05T14:17:00.000000000",
          "2025-08-05T14:18:00.000000000",
          "2025-08-05T14:19:00.000000000",
          "2025-08-05T14:20:00.000000000",
          "2025-08-05T14:21:00.000000000",
          "2025-08-05T14:22:00.000000000",
          "2025-08-05T14:23:00.000000000",
          "2025-08-05T14:24:00.000000000",
          "2025-08-05T14:25:00.000000000",
          "2025-08-05T14:26:00.000000000",
          "2025-08-05T14:27:00.000000000",
          "2025-08-05T14:28:00.000000000",
          "2025-08-05T14:29:00.000000000",
          "2025-08-05T14:30:00.000000000",
          "2025-08-05T14:31:00.000000000",
          "2025-08-05T14:32:00.000000000",
          "2025-08-05T14:33:00.000000000",
          "2025-08-05T14:34:00.000000000",
          "2025-08-05T14:35:00.000000000",
          "2025-08-05T14:36:00.000000000",
          "2025-08-05T14:37:00.000000000",
          "2025-08-05T14:38:00.000000000",
          "2025-08-05T14:39:00.000000000",
          "2025-08-05T14:40:00.000000000",
          "2025-08-05T14:41:00.000000000",
          "2025-08-05T14:42:00.000000000",
          "2025-08-05T14:43:00.000000000",
          "2025-08-05T14:44:00.000000000",
          "2025-08-05T14:45:00.000000000",
          "2025-08-05T14:46:00.000000000",
          "2025-08-05T14:47:00.000000000",
          "2025-08-05T14:48:00.000000000",
          "2025-08-05T14:49:00.000000000",
          "2025-08-05T14:50:00.000000000",
          "2025-08-05T14:51:00.000000000",
          "2025-08-05T14:52:00.000000000",
          "2025-08-05T14:53:00.000000000",
          "2025-08-05T14:54:00.000000000",
          "2025-08-05T14:55:00.000000000",
          "2025-08-05T14:56:00.000000000",
          "2025-08-05T14:57:00.000000000",
          "2025-08-05T14:58:00.000000000",
          "2025-08-05T14:59:00.000000000",
          "2025-08-05T15:00:00.000000000",
          "2025-08-05T15:01:00.000000000",
          "2025-08-05T15:02:00.000000000",
          "2025-08-05T15:03:00.000000000",
          "2025-08-05T15:04:00.000000000",
          "2025-08-05T15:05:00.000000000",
          "2025-08-05T15:06:00.000000000",
          "2025-08-05T15:07:00.000000000",
          "2025-08-05T15:08:00.000000000",
          "2025-08-05T15:09:00.000000000",
          "2025-08-05T15:10:00.000000000",
          "2025-08-05T15:11:00.000000000",
          "2025-08-05T15:12:00.000000000",
          "2025-08-05T15:13:00.000000000",
          "2025-08-05T15:14:00.000000000",
          "2025-08-05T15:15:00.000000000",
          "2025-08-05T15:16:00.000000000",
          "2025-08-05T15:17:00.000000000",
          "2025-08-05T15:18:00.000000000",
          "2025-08-05T15:19:00.000000000",
          "2025-08-05T15:20:00.000000000",
          "2025-08-05T15:21:00.000000000",
          "2025-08-05T15:22:00.000000000",
          "2025-08-05T15:23:00.000000000",
          "2025-08-05T15:24:00.000000000",
          "2025-08-05T15:25:00.000000000",
          "2025-08-05T15:26:00.000000000",
          "2025-08-05T15:27:00.000000000",
          "2025-08-05T15:28:00.000000000",
          "2025-08-05T15:29:00.000000000",
          "2025-08-05T15:30:00.000000000",
          "2025-08-05T15:31:00.000000000",
          "2025-08-05T15:32:00.000000000",
          "2025-08-05T15:33:00.000000000",
          "2025-08-05T15:34:00.000000000",
          "2025-08-05T15:35:00.000000000",
          "2025-08-05T15:36:00.000000000",
          "2025-08-05T15:37:00.000000000",
          "2025-08-05T15:38:00.000000000",
          "2025-08-05T15:39:00.000000000",
          "2025-08-05T15:40:00.000000000",
          "2025-08-05T15:41:00.000000000",
          "2025-08-05T15:42:00.000000000",
          "2025-08-05T15:43:00.000000000",
          "2025-08-05T15:44:00.000000000",
          "2025-08-05T15:45:00.000000000",
          "2025-08-05T15:46:00.000000000",
          "2025-08-05T15:47:00.000000000",
          "2025-08-05T15:48:00.000000000",
          "2025-08-05T15:49:00.000000000",
          "2025-08-05T15:50:00.000000000",
          "2025-08-05T15:51:00.000000000",
          "2025-08-05T15:52:00.000000000",
          "2025-08-05T15:53:00.000000000",
          "2025-08-05T15:54:00.000000000",
          "2025-08-05T15:55:00.000000000",
          "2025-08-05T15:56:00.000000000",
          "2025-08-05T15:57:00.000000000",
          "2025-08-05T15:58:00.000000000",
          "2025-08-05T15:59:00.000000000"
         ],
         "xaxis": "x2",
         "y": {
          "bdata": "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",
          "dtype": "f8"
         },
         "yaxis": "y2"
        },
        {
         "line": {
          "color": "#F8E9A6",
          "width": 1
         },
         "mode": "lines",
         "name": "Signal (avg)",
         "showlegend": false,
         "type": "scatter",
         "x": [
          "2025-08-05T09:00:00.000000000",
          "2025-08-05T09:01:00.000000000",
          "2025-08-05T09:02:00.000000000",
          "2025-08-05T09:03:00.000000000",
          "2025-08-05T09:04:00.000000000",
          "2025-08-05T09:05:00.000000000",
          "2025-08-05T09:06:00.000000000",
          "2025-08-05T09:07:00.000000000",
          "2025-08-05T09:08:00.000000000",
          "2025-08-05T09:09:00.000000000",
          "2025-08-05T09:10:00.000000000",
          "2025-08-05T09:11:00.000000000",
          "2025-08-05T09:12:00.000000000",
          "2025-08-05T09:13:00.000000000",
          "2025-08-05T09:14:00.000000000",
          "2025-08-05T09:15:00.000000000",
          "2025-08-05T09:16:00.000000000",
          "2025-08-05T09:17:00.000000000",
          "2025-08-05T09:18:00.000000000",
          "2025-08-05T09:19:00.000000000",
          "2025-08-05T09:20:00.000000000",
          "2025-08-05T09:21:00.000000000",
          "2025-08-05T09:22:00.000000000",
          "2025-08-05T09:23:00.000000000",
          "2025-08-05T09:24:00.000000000",
          "2025-08-05T09:25:00.000000000",
          "2025-08-05T09:26:00.000000000",
          "2025-08-05T09:27:00.000000000",
          "2025-08-05T09:28:00.000000000",
          "2025-08-05T09:29:00.000000000",
          "2025-08-05T09:30:00.000000000",
          "2025-08-05T09:31:00.000000000",
          "2025-08-05T09:32:00.000000000",
          "2025-08-05T09:33:00.000000000",
          "2025-08-05T09:34:00.000000000",
          "2025-08-05T09:35:00.000000000",
          "2025-08-05T09:36:00.000000000",
          "2025-08-05T09:37:00.000000000",
          "2025-08-05T09:38:00.000000000",
          "2025-08-05T09:39:00.000000000",
          "2025-08-05T09:40:00.000000000",
          "2025-08-05T09:41:00.000000000",
          "2025-08-05T09:42:00.000000000",
          "2025-08-05T09:43:00.000000000",
          "2025-08-05T09:44:00.000000000",
          "2025-08-05T09:45:00.000000000",
          "2025-08-05T09:46:00.000000000",
          "2025-08-05T09:47:00.000000000",
          "2025-08-05T09:48:00.000000000",
          "2025-08-05T09:49:00.000000000",
          "2025-08-05T09:50:00.000000000",
          "2025-08-05T09:51:00.000000000",
          "2025-08-05T09:52:00.000000000",
          "2025-08-05T09:53:00.000000000",
          "2025-08-05T09:54:00.000000000",
          "2025-08-05T09:55:00.000000000",
          "2025-08-05T09:56:00.000000000",
          "2025-08-05T09:57:00.000000000",
          "2025-08-05T09:58:00.000000000",
          "2025-08-05T09:59:00.000000000",
          "2025-08-05T10:00:00.000000000",
          "2025-08-05T10:01:00.000000000",
          "2025-08-05T10:02:00.000000000",
          "2025-08-05T10:03:00.000000000",
          "2025-08-05T10:04:00.000000000",
          "2025-08-05T10:05:00.000000000",
          "2025-08-05T10:06:00.000000000",
          "2025-08-05T10:07:00.000000000",
          "2025-08-05T10:08:00.000000000",
          "2025-08-05T10:09:00.000000000",
          "2025-08-05T10:10:00.000000000",
          "2025-08-05T10:11:00.000000000",
          "2025-08-05T10:12:00.000000000",
          "2025-08-05T10:13:00.000000000",
          "2025-08-05T10:14:00.000000000",
          "2025-08-05T10:15:00.000000000",
          "2025-08-05T10:16:00.000000000",
          "2025-08-05T10:17:00.000000000",
          "2025-08-05T10:18:00.000000000",
          "2025-08-05T10:19:00.000000000",
          "2025-08-05T10:20:00.000000000",
          "2025-08-05T10:21:00.000000000",
          "2025-08-05T10:22:00.000000000",
          "2025-08-05T10:23:00.000000000",
          "2025-08-05T10:24:00.000000000",
          "2025-08-05T10:25:00.000000000",
          "2025-08-05T10:26:00.000000000",
          "2025-08-05T10:27:00.000000000",
          "2025-08-05T10:28:00.000000000",
          "2025-08-05T10:29:00.000000000",
          "2025-08-05T10:30:00.000000000",
          "2025-08-05T10:31:00.000000000",
          "2025-08-05T10:32:00.000000000",
          "2025-08-05T10:33:00.000000000",
          "2025-08-05T10:34:00.000000000",
          "2025-08-05T10:35:00.000000000",
          "2025-08-05T10:36:00.000000000",
          "2025-08-05T10:37:00.000000000",
          "2025-08-05T10:38:00.000000000",
          "2025-08-05T10:39:00.000000000",
          "2025-08-05T10:40:00.000000000",
          "2025-08-05T10:41:00.000000000",
          "2025-08-05T10:42:00.000000000",
          "2025-08-05T10:43:00.000000000",
          "2025-08-05T10:44:00.000000000",
          "2025-08-05T10:45:00.000000000",
          "2025-08-05T10:46:00.000000000",
          "2025-08-05T10:47:00.000000000",
          "2025-08-05T10:48:00.000000000",
          "2025-08-05T10:49:00.000000000",
          "2025-08-05T10:50:00.000000000",
          "2025-08-05T10:51:00.000000000",
          "2025-08-05T10:52:00.000000000",
          "2025-08-05T10:53:00.000000000",
          "2025-08-05T10:54:00.000000000",
          "2025-08-05T10:55:00.000000000",
          "2025-08-05T10:56:00.000000000",
          "2025-08-05T10:57:00.000000000",
          "2025-08-05T10:58:00.000000000",
          "2025-08-05T10:59:00.000000000",
          "2025-08-05T11:00:00.000000000",
          "2025-08-05T11:01:00.000000000",
          "2025-08-05T11:02:00.000000000",
          "2025-08-05T11:03:00.000000000",
          "2025-08-05T11:04:00.000000000",
          "2025-08-05T11:05:00.000000000",
          "2025-08-05T11:06:00.000000000",
          "2025-08-05T11:07:00.000000000",
          "2025-08-05T11:08:00.000000000",
          "2025-08-05T11:09:00.000000000",
          "2025-08-05T11:10:00.000000000",
          "2025-08-05T11:11:00.000000000",
          "2025-08-05T11:12:00.000000000",
          "2025-08-05T11:13:00.000000000",
          "2025-08-05T11:14:00.000000000",
          "2025-08-05T11:15:00.000000000",
          "2025-08-05T11:16:00.000000000",
          "2025-08-05T11:17:00.000000000",
          "2025-08-05T11:18:00.000000000",
          "2025-08-05T11:19:00.000000000",
          "2025-08-05T11:20:00.000000000",
          "2025-08-05T11:21:00.000000000",
          "2025-08-05T11:22:00.000000000",
          "2025-08-05T11:23:00.000000000",
          "2025-08-05T11:24:00.000000000",
          "2025-08-05T11:25:00.000000000",
          "2025-08-05T11:26:00.000000000",
          "2025-08-05T11:27:00.000000000",
          "2025-08-05T11:28:00.000000000",
          "2025-08-05T11:29:00.000000000",
          "2025-08-05T11:30:00.000000000",
          "2025-08-05T11:31:00.000000000",
          "2025-08-05T11:32:00.000000000",
          "2025-08-05T11:33:00.000000000",
          "2025-08-05T11:34:00.000000000",
          "2025-08-05T11:35:00.000000000",
          "2025-08-05T11:36:00.000000000",
          "2025-08-05T11:37:00.000000000",
          "2025-08-05T11:38:00.000000000",
          "2025-08-05T11:39:00.000000000",
          "2025-08-05T11:40:00.000000000",
          "2025-08-05T11:41:00.000000000",
          "2025-08-05T11:42:00.000000000",
          "2025-08-05T11:43:00.000000000",
          "2025-08-05T11:44:00.000000000",
          "2025-08-05T11:45:00.000000000",
          "2025-08-05T11:46:00.000000000",
          "2025-08-05T11:47:00.000000000",
          "2025-08-05T11:48:00.000000000",
          "2025-08-05T11:49:00.000000000",
          "2025-08-05T11:50:00.000000000",
          "2025-08-05T11:51:00.000000000",
          "2025-08-05T11:52:00.000000000",
          "2025-08-05T11:53:00.000000000",
          "2025-08-05T11:54:00.000000000",
          "2025-08-05T11:55:00.000000000",
          "2025-08-05T11:56:00.000000000",
          "2025-08-05T11:57:00.000000000",
          "2025-08-05T11:58:00.000000000",
          "2025-08-05T11:59:00.000000000",
          "2025-08-05T12:00:00.000000000",
          "2025-08-05T12:01:00.000000000",
          "2025-08-05T12:02:00.000000000",
          "2025-08-05T12:03:00.000000000",
          "2025-08-05T12:04:00.000000000",
          "2025-08-05T12:05:00.000000000",
          "2025-08-05T12:06:00.000000000",
          "2025-08-05T12:07:00.000000000",
          "2025-08-05T12:08:00.000000000",
          "2025-08-05T12:09:00.000000000",
          "2025-08-05T12:10:00.000000000",
          "2025-08-05T12:11:00.000000000",
          "2025-08-05T12:12:00.000000000",
          "2025-08-05T12:13:00.000000000",
          "2025-08-05T12:14:00.000000000",
          "2025-08-05T12:15:00.000000000",
          "2025-08-05T12:16:00.000000000",
          "2025-08-05T12:17:00.000000000",
          "2025-08-05T12:18:00.000000000",
          "2025-08-05T12:19:00.000000000",
          "2025-08-05T12:20:00.000000000",
          "2025-08-05T12:21:00.000000000",
          "2025-08-05T12:22:00.000000000",
          "2025-08-05T12:23:00.000000000",
          "2025-08-05T12:24:00.000000000",
          "2025-08-05T12:25:00.000000000",
          "2025-08-05T12:26:00.000000000",
          "2025-08-05T12:27:00.000000000",
          "2025-08-05T12:28:00.000000000",
          "2025-08-05T12:29:00.000000000",
          "2025-08-05T12:30:00.000000000",
          "2025-08-05T12:31:00.000000000",
          "2025-08-05T12:32:00.000000000",
          "2025-08-05T12:33:00.000000000",
          "2025-08-05T12:34:00.000000000",
          "2025-08-05T12:35:00.000000000",
          "2025-08-05T12:36:00.000000000",
          "2025-08-05T12:37:00.000000000",
          "2025-08-05T12:38:00.000000000",
          "2025-08-05T12:39:00.000000000",
          "2025-08-05T12:40:00.000000000",
          "2025-08-05T12:41:00.000000000",
          "2025-08-05T12:42:00.000000000",
          "2025-08-05T12:43:00.000000000",
          "2025-08-05T12:44:00.000000000",
          "2025-08-05T12:45:00.000000000",
          "2025-08-05T12:46:00.000000000",
          "2025-08-05T12:47:00.000000000",
          "2025-08-05T12:48:00.000000000",
          "2025-08-05T12:49:00.000000000",
          "2025-08-05T12:50:00.000000000",
          "2025-08-05T12:51:00.000000000",
          "2025-08-05T12:52:00.000000000",
          "2025-08-05T12:53:00.000000000",
          "2025-08-05T12:54:00.000000000",
          "2025-08-05T12:55:00.000000000",
          "2025-08-05T12:56:00.000000000",
          "2025-08-05T12:57:00.000000000",
          "2025-08-05T12:58:00.000000000",
          "2025-08-05T12:59:00.000000000",
          "2025-08-05T13:00:00.000000000",
          "2025-08-05T13:01:00.000000000",
          "2025-08-05T13:02:00.000000000",
          "2025-08-05T13:03:00.000000000",
          "2025-08-05T13:04:00.000000000",
          "2025-08-05T13:05:00.000000000",
          "2025-08-05T13:06:00.000000000",
          "2025-08-05T13:07:00.000000000",
          "2025-08-05T13:08:00.000000000",
          "2025-08-05T13:09:00.000000000",
          "2025-08-05T13:10:00.000000000",
          "2025-08-05T13:11:00.000000000",
          "2025-08-05T13:12:00.000000000",
          "2025-08-05T13:13:00.000000000",
          "2025-08-05T13:14:00.000000000",
          "2025-08-05T13:15:00.000000000",
          "2025-08-05T13:16:00.000000000",
          "2025-08-05T13:17:00.000000000",
          "2025-08-05T13:18:00.000000000",
          "2025-08-05T13:19:00.000000000",
          "2025-08-05T13:20:00.000000000",
          "2025-08-05T13:21:00.000000000",
          "2025-08-05T13:22:00.000000000",
          "2025-08-05T13:23:00.000000000",
          "2025-08-05T13:24:00.000000000",
          "2025-08-05T13:25:00.000000000",
          "2025-08-05T13:26:00.000000000",
          "2025-08-05T13:27:00.000000000",
          "2025-08-05T13:28:00.000000000",
          "2025-08-05T13:29:00.000000000",
          "2025-08-05T13:30:00.000000000",
          "2025-08-05T13:31:00.000000000",
          "2025-08-05T13:32:00.000000000",
          "2025-08-05T13:33:00.000000000",
          "2025-08-05T13:34:00.000000000",
          "2025-08-05T13:35:00.000000000",
          "2025-08-05T13:36:00.000000000",
          "2025-08-05T13:37:00.000000000",
          "2025-08-05T13:38:00.000000000",
          "2025-08-05T13:39:00.000000000",
          "2025-08-05T13:40:00.000000000",
          "2025-08-05T13:41:00.000000000",
          "2025-08-05T13:42:00.000000000",
          "2025-08-05T13:43:00.000000000",
          "2025-08-05T13:44:00.000000000",
          "2025-08-05T13:45:00.000000000",
          "2025-08-05T13:46:00.000000000",
          "2025-08-05T13:47:00.000000000",
          "2025-08-05T13:48:00.000000000",
          "2025-08-05T13:49:00.000000000",
          "2025-08-05T13:50:00.000000000",
          "2025-08-05T13:51:00.000000000",
          "2025-08-05T13:52:00.000000000",
          "2025-08-05T13:53:00.000000000",
          "2025-08-05T13:54:00.000000000",
          "2025-08-05T13:55:00.000000000",
          "2025-08-05T13:56:00.000000000",
          "2025-08-05T13:57:00.000000000",
          "2025-08-05T13:58:00.000000000",
          "2025-08-05T13:59:00.000000000",
          "2025-08-05T14:00:00.000000000",
          "2025-08-05T14:01:00.000000000",
          "2025-08-05T14:02:00.000000000",
          "2025-08-05T14:03:00.000000000",
          "2025-08-05T14:04:00.000000000",
          "2025-08-05T14:05:00.000000000",
          "2025-08-05T14:06:00.000000000",
          "2025-08-05T14:07:00.000000000",
          "2025-08-05T14:08:00.000000000",
          "2025-08-05T14:09:00.000000000",
          "2025-08-05T14:10:00.000000000",
          "2025-08-05T14:11:00.000000000",
          "2025-08-05T14:12:00.000000000",
          "2025-08-05T14:13:00.000000000",
          "2025-08-05T14:14:00.000000000",
          "2025-08-05T14:15:00.000000000",
          "2025-08-05T14:16:00.000000000",
          "2025-08-05T14:17:00.000000000",
          "2025-08-05T14:18:00.000000000",
          "2025-08-05T14:19:00.000000000",
          "2025-08-05T14:20:00.000000000",
          "2025-08-05T14:21:00.000000000",
          "2025-08-05T14:22:00.000000000",
          "2025-08-05T14:23:00.000000000",
          "2025-08-05T14:24:00.000000000",
          "2025-08-05T14:25:00.000000000",
          "2025-08-05T14:26:00.000000000",
          "2025-08-05T14:27:00.000000000",
          "2025-08-05T14:28:00.000000000",
          "2025-08-05T14:29:00.000000000",
          "2025-08-05T14:30:00.000000000",
          "2025-08-05T14:31:00.000000000",
          "2025-08-05T14:32:00.000000000",
          "2025-08-05T14:33:00.000000000",
          "2025-08-05T14:34:00.000000000",
          "2025-08-05T14:35:00.000000000",
          "2025-08-05T14:36:00.000000000",
          "2025-08-05T14:37:00.000000000",
          "2025-08-05T14:38:00.000000000",
          "2025-08-05T14:39:00.000000000",
          "2025-08-05T14:40:00.000000000",
          "2025-08-05T14:41:00.000000000",
          "2025-08-05T14:42:00.000000000",
          "2025-08-05T14:43:00.000000000",
          "2025-08-05T14:44:00.000000000",
          "2025-08-05T14:45:00.000000000",
          "2025-08-05T14:46:00.000000000",
          "2025-08-05T14:47:00.000000000",
          "2025-08-05T14:48:00.000000000",
          "2025-08-05T14:49:00.000000000",
          "2025-08-05T14:50:00.000000000",
          "2025-08-05T14:51:00.000000000",
          "2025-08-05T14:52:00.000000000",
          "2025-08-05T14:53:00.000000000",
          "2025-08-05T14:54:00.000000000",
          "2025-08-05T14:55:00.000000000",
          "2025-08-05T14:56:00.000000000",
          "2025-08-05T14:57:00.000000000",
          "2025-08-05T14:58:00.000000000",
          "2025-08-05T14:59:00.000000000",
          "2025-08-05T15:00:00.000000000",
          "2025-08-05T15:01:00.000000000",
          "2025-08-05T15:02:00.000000000",
          "2025-08-05T15:03:00.000000000",
          "2025-08-05T15:04:00.000000000",
          "2025-08-05T15:05:00.000000000",
          "2025-08-05T15:06:00.000000000",
          "2025-08-05T15:07:00.000000000",
          "2025-08-05T15:08:00.000000000",
          "2025-08-05T15:09:00.000000000",
          "2025-08-05T15:10:00.000000000",
          "2025-08-05T15:11:00.000000000",
          "2025-08-05T15:12:00.000000000",
          "2025-08-05T15:13:00.000000000",
          "2025-08-05T15:14:00.000000000",
          "2025-08-05T15:15:00.000000000",
          "2025-08-05T15:16:00.000000000",
          "2025-08-05T15:17:00.000000000",
          "2025-08-05T15:18:00.000000000",
          "2025-08-05T15:19:00.000000000",
          "2025-08-05T15:20:00.000000000",
          "2025-08-05T15:21:00.000000000",
          "2025-08-05T15:22:00.000000000",
          "2025-08-05T15:23:00.000000000",
          "2025-08-05T15:24:00.000000000",
          "2025-08-05T15:25:00.000000000",
          "2025-08-05T15:26:00.000000000",
          "2025-08-05T15:27:00.000000000",
          "2025-08-05T15:28:00.000000000",
          "2025-08-05T15:29:00.000000000",
          "2025-08-05T15:30:00.000000000",
          "2025-08-05T15:31:00.000000000",
          "2025-08-05T15:32:00.000000000",
          "2025-08-05T15:33:00.000000000",
          "2025-08-05T15:34:00.000000000",
          "2025-08-05T15:35:00.000000000",
          "2025-08-05T15:36:00.000000000",
          "2025-08-05T15:37:00.000000000",
          "2025-08-05T15:38:00.000000000",
          "2025-08-05T15:39:00.000000000",
          "2025-08-05T15:40:00.000000000",
          "2025-08-05T15:41:00.000000000",
          "2025-08-05T15:42:00.000000000",
          "2025-08-05T15:43:00.000000000",
          "2025-08-05T15:44:00.000000000",
          "2025-08-05T15:45:00.000000000",
          "2025-08-05T15:46:00.000000000",
          "2025-08-05T15:47:00.000000000",
          "2025-08-05T15:48:00.000000000",
          "2025-08-05T15:49:00.000000000",
          "2025-08-05T15:50:00.000000000",
          "2025-08-05T15:51:00.000000000",
          "2025-08-05T15:52:00.000000000",
          "2025-08-05T15:53:00.000000000",
          "2025-08-05T15:54:00.000000000",
          "2025-08-05T15:55:00.000000000",
          "2025-08-05T15:56:00.000000000",
          "2025-08-05T15:57:00.000000000",
          "2025-08-05T15:58:00.000000000",
          "2025-08-05T15:59:00.000000000"
         ],
         "xaxis": "x2",
         "y": {
          "bdata": "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",
          "dtype": "f8"
         },
         "yaxis": "y2"
        },
        {
         "marker": {
          "color": [
           "#FE0000",
           "#7E0100",
           "#7E0100",
           "#7E0100",
           "#7E0100",
           "#7E0100",
           "#7E0100",
           "#7E0100",
           "#7E0100",
           "#7E0100",
           "#7E0100",
           "#7E0100",
           "#7E0100",
           "#7E0100",
           "#7E0100",
           "#7E0100",
           "#7E0100",
           "#7E0100",
           "#7E0100",
           "#7E0100",
           "#7E0100",
           "#7E0100",
           "#7E0100",
           "#7E0100",
           "#7E0100",
           "#7E0100",
           "#7E0100",
           "#7E0100",
           "#7E0100",
           "#7E0100",
           "#04FE00",
           "#04FE00",
           "#04FE00",
           "#04FE00",
           "#006401",
           "#006401",
           "#04FE00",
           "#04FE00",
           "#04FE00",
           "#04FE00",
           "#04FE00",
           "#006401",
           "#006401",
           "#006401",
           "#006401",
           "#04FE00",
           "#006401",
           "#006401",
           "#006401",
           "#006401",
           "#FE0000",
           "#FE0000",
           "#FE0000",
           "#7E0100",
           "#7E0100",
           "#FE0000",
           "#FE0000",
           "#FE0000",
           "#FE0000",
           "#7E0100",
           "#FE0000",
           "#FE0000",
           "#FE0000",
           "#FE0000",
           "#FE0000",
           "#FE0000",
           "#7E0100",
           "#7E0100",
           "#7E0100",
           "#7E0100",
           "#7E0100",
           "#7E0100",
           "#FE0000",
           "#FE0000",
           "#7E0100",
           "#7E0100",
           "#7E0100",
           "#FE0000",
           "#7E0100",
           "#7E0100",
           "#FE0000",
           "#FE0000",
           "#FE0000",
           "#7E0100",
           "#FE0000",
           "#7E0100",
           "#FE0000",
           "#FE0000",
           "#7E0100",
           "#04FE00",
           "#04FE00",
           "#006401",
           "#04FE00",
           "#006401",
           "#006401",
           "#FE0000",
           "#FE0000",
           "#FE0000",
           "#FE0000",
           "#FE0000",
           "#7E0100",
           "#7E0100",
           "#FE0000",
           "#FE0000",
           "#FE0000",
           "#FE0000",
           "#7E0100",
           "#7E0100",
           "#FE0000",
           "#FE0000",
           "#7E0100",
           "#7E0100",
           "#7E0100",
           "#04FE00",
           "#04FE00",
           "#04FE00",
           "#04FE00",
           "#04FE00",
           "#04FE00",
           "#04FE00",
           "#006401",
           "#04FE00",
           "#04FE00",
           "#04FE00",
           "#006401",
           "#006401",
           "#006401",
           "#006401",
           "#006401",
           "#006401",
           "#006401",
           "#006401",
           "#006401",
           "#04FE00",
           "#04FE00",
           "#006401",
           "#006401",
           "#006401",
           "#04FE00",
           "#006401",
           "#04FE00",
           "#006401",
           "#006401",
           "#FE0000",
           "#FE0000",
           "#FE0000",
           "#FE0000",
           "#7E0100",
           "#FE0000",
           "#FE0000",
           "#7E0100",
           "#7E0100",
           "#7E0100",
           "#04FE00",
           "#006401",
           "#FE0000",
           "#FE0000",
           "#FE0000",
           "#FE0000",
           "#7E0100",
           "#7E0100",
           "#FE0000",
           "#7E0100",
           "#7E0100",
           "#7E0100",
           "#04FE00",
           "#04FE00",
           "#04FE00",
           "#04FE00",
           "#006401",
           "#006401",
           "#006401",
           "#FE0000",
           "#04FE00",
           "#04FE00",
           "#04FE00",
           "#04FE00",
           "#04FE00",
           "#04FE00",
           "#04FE00",
           "#04FE00",
           "#006401",
           "#006401",
           "#006401",
           "#04FE00",
           "#04FE00",
           "#04FE00",
           "#04FE00",
           "#006401",
           "#006401",
           "#006401",
           "#006401",
           "#006401",
           "#006401",
           "#006401",
           "#04FE00",
           "#04FE00",
           "#006401",
           "#006401",
           "#006401",
           "#04FE00",
           "#006401",
           "#04FE00",
           "#006401",
           "#FE0000",
           "#FE0000",
           "#FE0000",
           "#FE0000",
           "#7E0100",
           "#7E0100",
           "#7E0100",
           "#04FE00",
           "#04FE00",
           "#006401",
           "#006401",
           "#FE0000",
           "#FE0000",
           "#FE0000",
           "#FE0000",
           "#FE0000",
           "#FE0000",
           "#FE0000",
           "#FE0000",
           "#7E0100",
           "#7E0100",
           "#FE0000",
           "#FE0000",
           "#FE0000",
           "#7E0100",
           "#7E0100",
           "#7E0100",
           "#7E0100",
           "#04FE00",
           "#04FE00",
           "#04FE00",
           "#04FE00",
           "#04FE00",
           "#006401",
           "#006401",
           "#006401",
           "#006401",
           "#04FE00",
           "#006401",
           "#006401",
           "#006401",
           "#006401",
           "#04FE00",
           "#04FE00",
           "#006401",
           "#04FE00",
           "#04FE00",
           "#04FE00",
           "#006401",
           "#006401",
           "#006401",
           "#04FE00",
           "#FE0000",
           "#FE0000",
           "#04FE00",
           "#04FE00",
           "#006401",
           "#04FE00",
           "#FE0000",
           "#FE0000",
           "#7E0100",
           "#04FE00",
           "#04FE00",
           "#04FE00",
           "#04FE00",
           "#006401",
           "#006401",
           "#006401",
           "#006401",
           "#006401",
           "#006401",
           "#FE0000",
           "#7E0100",
           "#04FE00",
           "#04FE00",
           "#04FE00",
           "#04FE00",
           "#006401",
           "#006401",
           "#006401",
           "#006401",
           "#FE0000",
           "#7E0100",
           "#04FE00",
           "#04FE00",
           "#006401",
           "#FE0000",
           "#FE0000",
           "#FE0000",
           "#FE0000",
           "#FE0000",
           "#FE0000",
           "#7E0100",
           "#FE0000",
           "#7E0100",
           "#FE0000",
           "#FE0000",
           "#FE0000",
           "#FE0000",
           "#7E0100",
           "#FE0000",
           "#FE0000",
           "#FE0000",
           "#7E0100",
           "#7E0100",
           "#FE0000",
           "#FE0000",
           "#FE0000",
           "#FE0000",
           "#FE0000",
           "#FE0000",
           "#FE0000",
           "#FE0000",
           "#7E0100",
           "#7E0100",
           "#7E0100",
           "#7E0100",
           "#7E0100",
           "#7E0100",
           "#7E0100",
           "#7E0100",
           "#7E0100",
           "#7E0100",
           "#7E0100",
           "#7E0100",
           "#7E0100",
           "#FE0000",
           "#7E0100",
           "#04FE00",
           "#04FE00",
           "#04FE00",
           "#006401",
           "#04FE00",
           "#006401",
           "#04FE00",
           "#04FE00",
           "#006401",
           "#006401",
           "#006401",
           "#04FE00",
           "#006401",
           "#04FE00",
           "#006401",
           "#006401",
           "#006401",
           "#04FE00",
           "#006401",
           "#FE0000",
           "#FE0000",
           "#7E0100",
           "#7E0100",
           "#FE0000",
           "#7E0100",
           "#04FE00",
           "#04FE00",
           "#04FE00",
           "#04FE00",
           "#04FE00",
           "#04FE00",
           "#04FE00",
           "#04FE00",
           "#006401",
           "#006401",
           "#006401",
           "#006401",
           "#006401",
           "#04FE00",
           "#04FE00",
           "#04FE00",
           "#006401",
           "#006401",
           "#006401",
           "#006401",
           "#006401",
           "#04FE00",
           "#04FE00",
           "#04FE00",
           "#04FE00",
           "#006401",
           "#04FE00",
           "#04FE00",
           "#FE0000",
           "#FE0000",
           "#7E0100",
           "#7E0100",
           "#7E0100",
           "#FE0000",
           "#FE0000",
           "#FE0000",
           "#7E0100",
           "#FE0000",
           "#FE0000",
           "#FE0000",
           "#FE0000",
           "#FE0000",
           "#7E0100",
           "#FE0000",
           "#FE0000",
           "#FE0000",
           "#7E0100",
           "#7E0100",
           "#7E0100",
           "#FE0000",
           "#7E0100",
           "#7E0100",
           "#7E0100",
           "#7E0100",
           "#04FE00",
           "#04FE00",
           "#006401",
           "#006401",
           "#FE0000",
           "#FE0000",
           "#FE0000",
           "#FE0000",
           "#FE0000"
          ]
         },
         "name": "Histogram (diff)",
         "showlegend": false,
         "type": "bar",
         "x": [
          "2025-08-05T09:00:00.000000000",
          "2025-08-05T09:01:00.000000000",
          "2025-08-05T09:02:00.000000000",
          "2025-08-05T09:03:00.000000000",
          "2025-08-05T09:04:00.000000000",
          "2025-08-05T09:05:00.000000000",
          "2025-08-05T09:06:00.000000000",
          "2025-08-05T09:07:00.000000000",
          "2025-08-05T09:08:00.000000000",
          "2025-08-05T09:09:00.000000000",
          "2025-08-05T09:10:00.000000000",
          "2025-08-05T09:11:00.000000000",
          "2025-08-05T09:12:00.000000000",
          "2025-08-05T09:13:00.000000000",
          "2025-08-05T09:14:00.000000000",
          "2025-08-05T09:15:00.000000000",
          "2025-08-05T09:16:00.000000000",
          "2025-08-05T09:17:00.000000000",
          "2025-08-05T09:18:00.000000000",
          "2025-08-05T09:19:00.000000000",
          "2025-08-05T09:20:00.000000000",
          "2025-08-05T09:21:00.000000000",
          "2025-08-05T09:22:00.000000000",
          "2025-08-05T09:23:00.000000000",
          "2025-08-05T09:24:00.000000000",
          "2025-08-05T09:25:00.000000000",
          "2025-08-05T09:26:00.000000000",
          "2025-08-05T09:27:00.000000000",
          "2025-08-05T09:28:00.000000000",
          "2025-08-05T09:29:00.000000000",
          "2025-08-05T09:30:00.000000000",
          "2025-08-05T09:31:00.000000000",
          "2025-08-05T09:32:00.000000000",
          "2025-08-05T09:33:00.000000000",
          "2025-08-05T09:34:00.000000000",
          "2025-08-05T09:35:00.000000000",
          "2025-08-05T09:36:00.000000000",
          "2025-08-05T09:37:00.000000000",
          "2025-08-05T09:38:00.000000000",
          "2025-08-05T09:39:00.000000000",
          "2025-08-05T09:40:00.000000000",
          "2025-08-05T09:41:00.000000000",
          "2025-08-05T09:42:00.000000000",
          "2025-08-05T09:43:00.000000000",
          "2025-08-05T09:44:00.000000000",
          "2025-08-05T09:45:00.000000000",
          "2025-08-05T09:46:00.000000000",
          "2025-08-05T09:47:00.000000000",
          "2025-08-05T09:48:00.000000000",
          "2025-08-05T09:49:00.000000000",
          "2025-08-05T09:50:00.000000000",
          "2025-08-05T09:51:00.000000000",
          "2025-08-05T09:52:00.000000000",
          "2025-08-05T09:53:00.000000000",
          "2025-08-05T09:54:00.000000000",
          "2025-08-05T09:55:00.000000000",
          "2025-08-05T09:56:00.000000000",
          "2025-08-05T09:57:00.000000000",
          "2025-08-05T09:58:00.000000000",
          "2025-08-05T09:59:00.000000000",
          "2025-08-05T10:00:00.000000000",
          "2025-08-05T10:01:00.000000000",
          "2025-08-05T10:02:00.000000000",
          "2025-08-05T10:03:00.000000000",
          "2025-08-05T10:04:00.000000000",
          "2025-08-05T10:05:00.000000000",
          "2025-08-05T10:06:00.000000000",
          "2025-08-05T10:07:00.000000000",
          "2025-08-05T10:08:00.000000000",
          "2025-08-05T10:09:00.000000000",
          "2025-08-05T10:10:00.000000000",
          "2025-08-05T10:11:00.000000000",
          "2025-08-05T10:12:00.000000000",
          "2025-08-05T10:13:00.000000000",
          "2025-08-05T10:14:00.000000000",
          "2025-08-05T10:15:00.000000000",
          "2025-08-05T10:16:00.000000000",
          "2025-08-05T10:17:00.000000000",
          "2025-08-05T10:18:00.000000000",
          "2025-08-05T10:19:00.000000000",
          "2025-08-05T10:20:00.000000000",
          "2025-08-05T10:21:00.000000000",
          "2025-08-05T10:22:00.000000000",
          "2025-08-05T10:23:00.000000000",
          "2025-08-05T10:24:00.000000000",
          "2025-08-05T10:25:00.000000000",
          "2025-08-05T10:26:00.000000000",
          "2025-08-05T10:27:00.000000000",
          "2025-08-05T10:28:00.000000000",
          "2025-08-05T10:29:00.000000000",
          "2025-08-05T10:30:00.000000000",
          "2025-08-05T10:31:00.000000000",
          "2025-08-05T10:32:00.000000000",
          "2025-08-05T10:33:00.000000000",
          "2025-08-05T10:34:00.000000000",
          "2025-08-05T10:35:00.000000000",
          "2025-08-05T10:36:00.000000000",
          "2025-08-05T10:37:00.000000000",
          "2025-08-05T10:38:00.000000000",
          "2025-08-05T10:39:00.000000000",
          "2025-08-05T10:40:00.000000000",
          "2025-08-05T10:41:00.000000000",
          "2025-08-05T10:42:00.000000000",
          "2025-08-05T10:43:00.000000000",
          "2025-08-05T10:44:00.000000000",
          "2025-08-05T10:45:00.000000000",
          "2025-08-05T10:46:00.000000000",
          "2025-08-05T10:47:00.000000000",
          "2025-08-05T10:48:00.000000000",
          "2025-08-05T10:49:00.000000000",
          "2025-08-05T10:50:00.000000000",
          "2025-08-05T10:51:00.000000000",
          "2025-08-05T10:52:00.000000000",
          "2025-08-05T10:53:00.000000000",
          "2025-08-05T10:54:00.000000000",
          "2025-08-05T10:55:00.000000000",
          "2025-08-05T10:56:00.000000000",
          "2025-08-05T10:57:00.000000000",
          "2025-08-05T10:58:00.000000000",
          "2025-08-05T10:59:00.000000000",
          "2025-08-05T11:00:00.000000000",
          "2025-08-05T11:01:00.000000000",
          "2025-08-05T11:02:00.000000000",
          "2025-08-05T11:03:00.000000000",
          "2025-08-05T11:04:00.000000000",
          "2025-08-05T11:05:00.000000000",
          "2025-08-05T11:06:00.000000000",
          "2025-08-05T11:07:00.000000000",
          "2025-08-05T11:08:00.000000000",
          "2025-08-05T11:09:00.000000000",
          "2025-08-05T11:10:00.000000000",
          "2025-08-05T11:11:00.000000000",
          "2025-08-05T11:12:00.000000000",
          "2025-08-05T11:13:00.000000000",
          "2025-08-05T11:14:00.000000000",
          "2025-08-05T11:15:00.000000000",
          "2025-08-05T11:16:00.000000000",
          "2025-08-05T11:17:00.000000000",
          "2025-08-05T11:18:00.000000000",
          "2025-08-05T11:19:00.000000000",
          "2025-08-05T11:20:00.000000000",
          "2025-08-05T11:21:00.000000000",
          "2025-08-05T11:22:00.000000000",
          "2025-08-05T11:23:00.000000000",
          "2025-08-05T11:24:00.000000000",
          "2025-08-05T11:25:00.000000000",
          "2025-08-05T11:26:00.000000000",
          "2025-08-05T11:27:00.000000000",
          "2025-08-05T11:28:00.000000000",
          "2025-08-05T11:29:00.000000000",
          "2025-08-05T11:30:00.000000000",
          "2025-08-05T11:31:00.000000000",
          "2025-08-05T11:32:00.000000000",
          "2025-08-05T11:33:00.000000000",
          "2025-08-05T11:34:00.000000000",
          "2025-08-05T11:35:00.000000000",
          "2025-08-05T11:36:00.000000000",
          "2025-08-05T11:37:00.000000000",
          "2025-08-05T11:38:00.000000000",
          "2025-08-05T11:39:00.000000000",
          "2025-08-05T11:40:00.000000000",
          "2025-08-05T11:41:00.000000000",
          "2025-08-05T11:42:00.000000000",
          "2025-08-05T11:43:00.000000000",
          "2025-08-05T11:44:00.000000000",
          "2025-08-05T11:45:00.000000000",
          "2025-08-05T11:46:00.000000000",
          "2025-08-05T11:47:00.000000000",
          "2025-08-05T11:48:00.000000000",
          "2025-08-05T11:49:00.000000000",
          "2025-08-05T11:50:00.000000000",
          "2025-08-05T11:51:00.000000000",
          "2025-08-05T11:52:00.000000000",
          "2025-08-05T11:53:00.000000000",
          "2025-08-05T11:54:00.000000000",
          "2025-08-05T11:55:00.000000000",
          "2025-08-05T11:56:00.000000000",
          "2025-08-05T11:57:00.000000000",
          "2025-08-05T11:58:00.000000000",
          "2025-08-05T11:59:00.000000000",
          "2025-08-05T12:00:00.000000000",
          "2025-08-05T12:01:00.000000000",
          "2025-08-05T12:02:00.000000000",
          "2025-08-05T12:03:00.000000000",
          "2025-08-05T12:04:00.000000000",
          "2025-08-05T12:05:00.000000000",
          "2025-08-05T12:06:00.000000000",
          "2025-08-05T12:07:00.000000000",
          "2025-08-05T12:08:00.000000000",
          "2025-08-05T12:09:00.000000000",
          "2025-08-05T12:10:00.000000000",
          "2025-08-05T12:11:00.000000000",
          "2025-08-05T12:12:00.000000000",
          "2025-08-05T12:13:00.000000000",
          "2025-08-05T12:14:00.000000000",
          "2025-08-05T12:15:00.000000000",
          "2025-08-05T12:16:00.000000000",
          "2025-08-05T12:17:00.000000000",
          "2025-08-05T12:18:00.000000000",
          "2025-08-05T12:19:00.000000000",
          "2025-08-05T12:20:00.000000000",
          "2025-08-05T12:21:00.000000000",
          "2025-08-05T12:22:00.000000000",
          "2025-08-05T12:23:00.000000000",
          "2025-08-05T12:24:00.000000000",
          "2025-08-05T12:25:00.000000000",
          "2025-08-05T12:26:00.000000000",
          "2025-08-05T12:27:00.000000000",
          "2025-08-05T12:28:00.000000000",
          "2025-08-05T12:29:00.000000000",
          "2025-08-05T12:30:00.000000000",
          "2025-08-05T12:31:00.000000000",
          "2025-08-05T12:32:00.000000000",
          "2025-08-05T12:33:00.000000000",
          "2025-08-05T12:34:00.000000000",
          "2025-08-05T12:35:00.000000000",
          "2025-08-05T12:36:00.000000000",
          "2025-08-05T12:37:00.000000000",
          "2025-08-05T12:38:00.000000000",
          "2025-08-05T12:39:00.000000000",
          "2025-08-05T12:40:00.000000000",
          "2025-08-05T12:41:00.000000000",
          "2025-08-05T12:42:00.000000000",
          "2025-08-05T12:43:00.000000000",
          "2025-08-05T12:44:00.000000000",
          "2025-08-05T12:45:00.000000000",
          "2025-08-05T12:46:00.000000000",
          "2025-08-05T12:47:00.000000000",
          "2025-08-05T12:48:00.000000000",
          "2025-08-05T12:49:00.000000000",
          "2025-08-05T12:50:00.000000000",
          "2025-08-05T12:51:00.000000000",
          "2025-08-05T12:52:00.000000000",
          "2025-08-05T12:53:00.000000000",
          "2025-08-05T12:54:00.000000000",
          "2025-08-05T12:55:00.000000000",
          "2025-08-05T12:56:00.000000000",
          "2025-08-05T12:57:00.000000000",
          "2025-08-05T12:58:00.000000000",
          "2025-08-05T12:59:00.000000000",
          "2025-08-05T13:00:00.000000000",
          "2025-08-05T13:01:00.000000000",
          "2025-08-05T13:02:00.000000000",
          "2025-08-05T13:03:00.000000000",
          "2025-08-05T13:04:00.000000000",
          "2025-08-05T13:05:00.000000000",
          "2025-08-05T13:06:00.000000000",
          "2025-08-05T13:07:00.000000000",
          "2025-08-05T13:08:00.000000000",
          "2025-08-05T13:09:00.000000000",
          "2025-08-05T13:10:00.000000000",
          "2025-08-05T13:11:00.000000000",
          "2025-08-05T13:12:00.000000000",
          "2025-08-05T13:13:00.000000000",
          "2025-08-05T13:14:00.000000000",
          "2025-08-05T13:15:00.000000000",
          "2025-08-05T13:16:00.000000000",
          "2025-08-05T13:17:00.000000000",
          "2025-08-05T13:18:00.000000000",
          "2025-08-05T13:19:00.000000000",
          "2025-08-05T13:20:00.000000000",
          "2025-08-05T13:21:00.000000000",
          "2025-08-05T13:22:00.000000000",
          "2025-08-05T13:23:00.000000000",
          "2025-08-05T13:24:00.000000000",
          "2025-08-05T13:25:00.000000000",
          "2025-08-05T13:26:00.000000000",
          "2025-08-05T13:27:00.000000000",
          "2025-08-05T13:28:00.000000000",
          "2025-08-05T13:29:00.000000000",
          "2025-08-05T13:30:00.000000000",
          "2025-08-05T13:31:00.000000000",
          "2025-08-05T13:32:00.000000000",
          "2025-08-05T13:33:00.000000000",
          "2025-08-05T13:34:00.000000000",
          "2025-08-05T13:35:00.000000000",
          "2025-08-05T13:36:00.000000000",
          "2025-08-05T13:37:00.000000000",
          "2025-08-05T13:38:00.000000000",
          "2025-08-05T13:39:00.000000000",
          "2025-08-05T13:40:00.000000000",
          "2025-08-05T13:41:00.000000000",
          "2025-08-05T13:42:00.000000000",
          "2025-08-05T13:43:00.000000000",
          "2025-08-05T13:44:00.000000000",
          "2025-08-05T13:45:00.000000000",
          "2025-08-05T13:46:00.000000000",
          "2025-08-05T13:47:00.000000000",
          "2025-08-05T13:48:00.000000000",
          "2025-08-05T13:49:00.000000000",
          "2025-08-05T13:50:00.000000000",
          "2025-08-05T13:51:00.000000000",
          "2025-08-05T13:52:00.000000000",
          "2025-08-05T13:53:00.000000000",
          "2025-08-05T13:54:00.000000000",
          "2025-08-05T13:55:00.000000000",
          "2025-08-05T13:56:00.000000000",
          "2025-08-05T13:57:00.000000000",
          "2025-08-05T13:58:00.000000000",
          "2025-08-05T13:59:00.000000000",
          "2025-08-05T14:00:00.000000000",
          "2025-08-05T14:01:00.000000000",
          "2025-08-05T14:02:00.000000000",
          "2025-08-05T14:03:00.000000000",
          "2025-08-05T14:04:00.000000000",
          "2025-08-05T14:05:00.000000000",
          "2025-08-05T14:06:00.000000000",
          "2025-08-05T14:07:00.000000000",
          "2025-08-05T14:08:00.000000000",
          "2025-08-05T14:09:00.000000000",
          "2025-08-05T14:10:00.000000000",
          "2025-08-05T14:11:00.000000000",
          "2025-08-05T14:12:00.000000000",
          "2025-08-05T14:13:00.000000000",
          "2025-08-05T14:14:00.000000000",
          "2025-08-05T14:15:00.000000000",
          "2025-08-05T14:16:00.000000000",
          "2025-08-05T14:17:00.000000000",
          "2025-08-05T14:18:00.000000000",
          "2025-08-05T14:19:00.000000000",
          "2025-08-05T14:20:00.000000000",
          "2025-08-05T14:21:00.000000000",
          "2025-08-05T14:22:00.000000000",
          "2025-08-05T14:23:00.000000000",
          "2025-08-05T14:24:00.000000000",
          "2025-08-05T14:25:00.000000000",
          "2025-08-05T14:26:00.000000000",
          "2025-08-05T14:27:00.000000000",
          "2025-08-05T14:28:00.000000000",
          "2025-08-05T14:29:00.000000000",
          "2025-08-05T14:30:00.000000000",
          "2025-08-05T14:31:00.000000000",
          "2025-08-05T14:32:00.000000000",
          "2025-08-05T14:33:00.000000000",
          "2025-08-05T14:34:00.000000000",
          "2025-08-05T14:35:00.000000000",
          "2025-08-05T14:36:00.000000000",
          "2025-08-05T14:37:00.000000000",
          "2025-08-05T14:38:00.000000000",
          "2025-08-05T14:39:00.000000000",
          "2025-08-05T14:40:00.000000000",
          "2025-08-05T14:41:00.000000000",
          "2025-08-05T14:42:00.000000000",
          "2025-08-05T14:43:00.000000000",
          "2025-08-05T14:44:00.000000000",
          "2025-08-05T14:45:00.000000000",
          "2025-08-05T14:46:00.000000000",
          "2025-08-05T14:47:00.000000000",
          "2025-08-05T14:48:00.000000000",
          "2025-08-05T14:49:00.000000000",
          "2025-08-05T14:50:00.000000000",
          "2025-08-05T14:51:00.000000000",
          "2025-08-05T14:52:00.000000000",
          "2025-08-05T14:53:00.000000000",
          "2025-08-05T14:54:00.000000000",
          "2025-08-05T14:55:00.000000000",
          "2025-08-05T14:56:00.000000000",
          "2025-08-05T14:57:00.000000000",
          "2025-08-05T14:58:00.000000000",
          "2025-08-05T14:59:00.000000000",
          "2025-08-05T15:00:00.000000000",
          "2025-08-05T15:01:00.000000000",
          "2025-08-05T15:02:00.000000000",
          "2025-08-05T15:03:00.000000000",
          "2025-08-05T15:04:00.000000000",
          "2025-08-05T15:05:00.000000000",
          "2025-08-05T15:06:00.000000000",
          "2025-08-05T15:07:00.000000000",
          "2025-08-05T15:08:00.000000000",
          "2025-08-05T15:09:00.000000000",
          "2025-08-05T15:10:00.000000000",
          "2025-08-05T15:11:00.000000000",
          "2025-08-05T15:12:00.000000000",
          "2025-08-05T15:13:00.000000000",
          "2025-08-05T15:14:00.000000000",
          "2025-08-05T15:15:00.000000000",
          "2025-08-05T15:16:00.000000000",
          "2025-08-05T15:17:00.000000000",
          "2025-08-05T15:18:00.000000000",
          "2025-08-05T15:19:00.000000000",
          "2025-08-05T15:20:00.000000000",
          "2025-08-05T15:21:00.000000000",
          "2025-08-05T15:22:00.000000000",
          "2025-08-05T15:23:00.000000000",
          "2025-08-05T15:24:00.000000000",
          "2025-08-05T15:25:00.000000000",
          "2025-08-05T15:26:00.000000000",
          "2025-08-05T15:27:00.000000000",
          "2025-08-05T15:28:00.000000000",
          "2025-08-05T15:29:00.000000000",
          "2025-08-05T15:30:00.000000000",
          "2025-08-05T15:31:00.000000000",
          "2025-08-05T15:32:00.000000000",
          "2025-08-05T15:33:00.000000000",
          "2025-08-05T15:34:00.000000000",
          "2025-08-05T15:35:00.000000000",
          "2025-08-05T15:36:00.000000000",
          "2025-08-05T15:37:00.000000000",
          "2025-08-05T15:38:00.000000000",
          "2025-08-05T15:39:00.000000000",
          "2025-08-05T15:40:00.000000000",
          "2025-08-05T15:41:00.000000000",
          "2025-08-05T15:42:00.000000000",
          "2025-08-05T15:43:00.000000000",
          "2025-08-05T15:44:00.000000000",
          "2025-08-05T15:45:00.000000000",
          "2025-08-05T15:46:00.000000000",
          "2025-08-05T15:47:00.000000000",
          "2025-08-05T15:48:00.000000000",
          "2025-08-05T15:49:00.000000000",
          "2025-08-05T15:50:00.000000000",
          "2025-08-05T15:51:00.000000000",
          "2025-08-05T15:52:00.000000000",
          "2025-08-05T15:53:00.000000000",
          "2025-08-05T15:54:00.000000000",
          "2025-08-05T15:55:00.000000000",
          "2025-08-05T15:56:00.000000000",
          "2025-08-05T15:57:00.000000000",
          "2025-08-05T15:58:00.000000000",
          "2025-08-05T15:59:00.000000000"
         ],
         "xaxis": "x2",
         "y": {
          "bdata": "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",
          "dtype": "f8"
         },
         "yaxis": "y2"
        }
       ],
       "layout": {
        "annotations": [
         {
          "bgcolor": "rgba(25,25,25,0.7)",
          "bordercolor": "#FF66FE",
          "borderpad": 4,
          "borderwidth": 1,
          "font": {
           "color": "#FF66FE",
           "family": "Arial, sans-serif",
           "size": 10.5
          },
          "showarrow": false,
          "text": "prior close",
          "x": "2025-08-05T09:00:00-04:00",
          "xanchor": "left",
          "xref": "x",
          "y": 6329.94,
          "yanchor": "bottom",
          "yref": "y"
         },
         {
          "bgcolor": "rgba(25,25,25,0.7)",
          "bordercolor": "#4CAF50",
          "borderpad": 4,
          "borderwidth": 1,
          "font": {
           "color": "#4CAF50",
           "family": "Arial, sans-serif",
           "size": 10.5
          },
          "showarrow": false,
          "text": "prior high",
          "x": "2025-08-05T09:00:00-04:00",
          "xanchor": "left",
          "xref": "x",
          "y": 6330.69,
          "yanchor": "bottom",
          "yref": "y"
         },
         {
          "bgcolor": "rgba(25,25,25,0.7)",
          "bordercolor": "#F44336",
          "borderpad": 4,
          "borderwidth": 1,
          "font": {
           "color": "#F44336",
           "family": "Arial, sans-serif",
           "size": 10.5
          },
          "showarrow": false,
          "text": "prior low",
          "x": "2025-08-05T09:00:00-04:00",
          "xanchor": "left",
          "xref": "x",
          "y": 6271.71,
          "yanchor": "bottom",
          "yref": "y"
         }
        ],
        "height": 800,
        "margin": {
         "b": 10,
         "l": 30,
         "r": 5,
         "t": 50
        },
        "paper_bgcolor": "rgb(25,25,25)",
        "plot_bgcolor": "rgb(25,25,25)",
        "shapes": [
         {
          "line": {
           "color": "gray",
           "dash": "dot",
           "width": 1
          },
          "type": "line",
          "x0": "2025-08-05T09:00:00-04:00",
          "x1": "2025-08-05T16:15:00-04:00",
          "xref": "x2",
          "y0": 0,
          "y1": 0,
          "yref": "y2"
         },
         {
          "line": {
           "color": "#FF66FE",
           "dash": "dot",
           "width": 1
          },
          "opacity": 0.45,
          "type": "line",
          "x0": "2025-08-05T09:00:00-04:00",
          "x1": "2025-08-05T16:15:00-04:00",
          "xref": "x",
          "y0": 6329.94,
          "y1": 6329.94,
          "yref": "y"
         },
         {
          "line": {
           "color": "#4CAF50",
           "dash": "dot",
           "width": 1
          },
          "opacity": 0.45,
          "type": "line",
          "x0": "2025-08-05T09:00:00-04:00",
          "x1": "2025-08-05T16:15:00-04:00",
          "xref": "x",
          "y0": 6330.69,
          "y1": 6330.69,
          "yref": "y"
         },
         {
          "line": {
           "color": "#F44336",
           "dash": "dot",
           "width": 1
          },
          "opacity": 0.45,
          "type": "line",
          "x0": "2025-08-05T09:00:00-04:00",
          "x1": "2025-08-05T16:15:00-04:00",
          "xref": "x",
          "y0": 6271.71,
          "y1": 6271.71,
          "yref": "y"
         },
         {
          "line": {
           "color": "#4CAF50",
           "dash": "solid",
           "width": 1
          },
          "opacity": 0.75,
          "type": "line",
          "x0": "2025-08-05T09:30:00-04:00",
          "x1": "2025-08-05T16:15:00-04:00",
          "xref": "x",
          "y0": 6338.13,
          "y1": 6338.13,
          "yref": "y"
         },
         {
          "line": {
           "color": "#4CAF50",
           "dash": "solid",
           "width": 1
          },
          "opacity": 0.75,
          "type": "line",
          "x0": "2025-08-05T09:30:00-04:00",
          "x1": "2025-08-05T16:15:00-04:00",
          "xref": "x",
          "y0": 6331.72,
          "y1": 6331.72,
          "yref": "y"
         },
         {
          "line": {
           "color": "#4CAF50",
           "dash": "solid",
           "width": 1
          },
          "opacity": 0.45,
          "type": "line",
          "x0": "2025-08-05T09:45:00-04:00",
          "x1": "2025-08-05T16:15:00-04:00",
          "xref": "x",
          "y0": 6342.94,
          "y1": 6342.94,
          "yref": "y"
         },
         {
          "line": {
           "color": "#4CAF50",
           "dash": "solid",
           "width": 1
          },
          "opacity": 0,
          "type": "line",
          "x0": "2025-08-05T09:45:00-04:00",
          "x1": "2025-08-05T16:15:00-04:00",
          "xref": "x",
          "y0": 6331.72,
          "y1": 6331.72,
          "yref": "y"
         },
         {
          "line": {
           "color": "#4CAF50",
           "dash": "dot",
           "width": 1
          },
          "opacity": 0.45,
          "type": "line",
          "x0": "2025-08-05T10:00:00-04:00",
          "x1": "2025-08-05T16:15:00-04:00",
          "xref": "x",
          "y0": 6346,
          "y1": 6346,
          "yref": "y"
         },
         {
          "line": {
           "color": "#4CAF50",
           "dash": "dot",
           "width": 1
          },
          "opacity": 0,
          "type": "line",
          "x0": "2025-08-05T10:00:00-04:00",
          "x1": "2025-08-05T16:15:00-04:00",
          "xref": "x",
          "y0": 6331.72,
          "y1": 6331.72,
          "yref": "y"
         },
         {
          "line": {
           "color": "#4CAF50",
           "dash": "dot",
           "width": 1
          },
          "opacity": 0,
          "type": "line",
          "x0": "2025-08-05T10:00:00-04:00",
          "x1": "2025-08-05T16:15:00-04:00",
          "xref": "x",
          "y0": 6331.72,
          "y1": 6331.72,
          "yref": "y"
         }
        ],
        "showlegend": true,
        "template": {
         "data": {
          "bar": [
           {
            "error_x": {
             "color": "#f2f5fa"
            },
            "error_y": {
             "color": "#f2f5fa"
            },
            "marker": {
             "line": {
              "color": "rgb(17,17,17)",
              "width": 0.5
             },
             "pattern": {
              "fillmode": "overlay",
              "size": 10,
              "solidity": 0.2
             }
            },
            "type": "bar"
           }
          ],
          "barpolar": [
           {
            "marker": {
             "line": {
              "color": "rgb(17,17,17)",
              "width": 0.5
             },
             "pattern": {
              "fillmode": "overlay",
              "size": 10,
              "solidity": 0.2
             }
            },
            "type": "barpolar"
           }
          ],
          "carpet": [
           {
            "aaxis": {
             "endlinecolor": "#A2B1C6",
             "gridcolor": "#506784",
             "linecolor": "#506784",
             "minorgridcolor": "#506784",
             "startlinecolor": "#A2B1C6"
            },
            "baxis": {
             "endlinecolor": "#A2B1C6",
             "gridcolor": "#506784",
             "linecolor": "#506784",
             "minorgridcolor": "#506784",
             "startlinecolor": "#A2B1C6"
            },
            "type": "carpet"
           }
          ],
          "choropleth": [
           {
            "colorbar": {
             "outlinewidth": 0,
             "ticks": ""
            },
            "type": "choropleth"
           }
          ],
          "contour": [
           {
            "colorbar": {
             "outlinewidth": 0,
             "ticks": ""
            },
            "colorscale": [
             [
              0,
              "#0d0887"
             ],
             [
              0.1111111111111111,
              "#46039f"
             ],
             [
              0.2222222222222222,
              "#7201a8"
             ],
             [
              0.3333333333333333,
              "#9c179e"
             ],
             [
              0.4444444444444444,
              "#bd3786"
             ],
             [
              0.5555555555555556,
              "#d8576b"
             ],
             [
              0.6666666666666666,
              "#ed7953"
             ],
             [
              0.7777777777777778,
              "#fb9f3a"
             ],
             [
              0.8888888888888888,
              "#fdca26"
             ],
             [
              1,
              "#f0f921"
             ]
            ],
            "type": "contour"
           }
          ],
          "contourcarpet": [
           {
            "colorbar": {
             "outlinewidth": 0,
             "ticks": ""
            },
            "type": "contourcarpet"
           }
          ],
          "heatmap": [
           {
            "colorbar": {
             "outlinewidth": 0,
             "ticks": ""
            },
            "colorscale": [
             [
              0,
              "#0d0887"
             ],
             [
              0.1111111111111111,
              "#46039f"
             ],
             [
              0.2222222222222222,
              "#7201a8"
             ],
             [
              0.3333333333333333,
              "#9c179e"
             ],
             [
              0.4444444444444444,
              "#bd3786"
             ],
             [
              0.5555555555555556,
              "#d8576b"
             ],
             [
              0.6666666666666666,
              "#ed7953"
             ],
             [
              0.7777777777777778,
              "#fb9f3a"
             ],
             [
              0.8888888888888888,
              "#fdca26"
             ],
             [
              1,
              "#f0f921"
             ]
            ],
            "type": "heatmap"
           }
          ],
          "histogram": [
           {
            "marker": {
             "pattern": {
              "fillmode": "overlay",
              "size": 10,
              "solidity": 0.2
             }
            },
            "type": "histogram"
           }
          ],
          "histogram2d": [
           {
            "colorbar": {
             "outlinewidth": 0,
             "ticks": ""
            },
            "colorscale": [
             [
              0,
              "#0d0887"
             ],
             [
              0.1111111111111111,
              "#46039f"
             ],
             [
              0.2222222222222222,
              "#7201a8"
             ],
             [
              0.3333333333333333,
              "#9c179e"
             ],
             [
              0.4444444444444444,
              "#bd3786"
             ],
             [
              0.5555555555555556,
              "#d8576b"
             ],
             [
              0.6666666666666666,
              "#ed7953"
             ],
             [
              0.7777777777777778,
              "#fb9f3a"
             ],
             [
              0.8888888888888888,
              "#fdca26"
             ],
             [
              1,
              "#f0f921"
             ]
            ],
            "type": "histogram2d"
           }
          ],
          "histogram2dcontour": [
           {
            "colorbar": {
             "outlinewidth": 0,
             "ticks": ""
            },
            "colorscale": [
             [
              0,
              "#0d0887"
             ],
             [
              0.1111111111111111,
              "#46039f"
             ],
             [
              0.2222222222222222,
              "#7201a8"
             ],
             [
              0.3333333333333333,
              "#9c179e"
             ],
             [
              0.4444444444444444,
              "#bd3786"
             ],
             [
              0.5555555555555556,
              "#d8576b"
             ],
             [
              0.6666666666666666,
              "#ed7953"
             ],
             [
              0.7777777777777778,
              "#fb9f3a"
             ],
             [
              0.8888888888888888,
              "#fdca26"
             ],
             [
              1,
              "#f0f921"
             ]
            ],
            "type": "histogram2dcontour"
           }
          ],
          "mesh3d": [
           {
            "colorbar": {
             "outlinewidth": 0,
             "ticks": ""
            },
            "type": "mesh3d"
           }
          ],
          "parcoords": [
           {
            "line": {
             "colorbar": {
              "outlinewidth": 0,
              "ticks": ""
             }
            },
            "type": "parcoords"
           }
          ],
          "pie": [
           {
            "automargin": true,
            "type": "pie"
           }
          ],
          "scatter": [
           {
            "marker": {
             "line": {
              "color": "#283442"
             }
            },
            "type": "scatter"
           }
          ],
          "scatter3d": [
           {
            "line": {
             "colorbar": {
              "outlinewidth": 0,
              "ticks": ""
             }
            },
            "marker": {
             "colorbar": {
              "outlinewidth": 0,
              "ticks": ""
             }
            },
            "type": "scatter3d"
           }
          ],
          "scattercarpet": [
           {
            "marker": {
             "colorbar": {
              "outlinewidth": 0,
              "ticks": ""
             }
            },
            "type": "scattercarpet"
           }
          ],
          "scattergeo": [
           {
            "marker": {
             "colorbar": {
              "outlinewidth": 0,
              "ticks": ""
             }
            },
            "type": "scattergeo"
           }
          ],
          "scattergl": [
           {
            "marker": {
             "line": {
              "color": "#283442"
             }
            },
            "type": "scattergl"
           }
          ],
          "scattermap": [
           {
            "marker": {
             "colorbar": {
              "outlinewidth": 0,
              "ticks": ""
             }
            },
            "type": "scattermap"
           }
          ],
          "scattermapbox": [
           {
            "marker": {
             "colorbar": {
              "outlinewidth": 0,
              "ticks": ""
             }
            },
            "type": "scattermapbox"
           }
          ],
          "scatterpolar": [
           {
            "marker": {
             "colorbar": {
              "outlinewidth": 0,
              "ticks": ""
             }
            },
            "type": "scatterpolar"
           }
          ],
          "scatterpolargl": [
           {
            "marker": {
             "colorbar": {
              "outlinewidth": 0,
              "ticks": ""
             }
            },
            "type": "scatterpolargl"
           }
          ],
          "scatterternary": [
           {
            "marker": {
             "colorbar": {
              "outlinewidth": 0,
              "ticks": ""
             }
            },
            "type": "scatterternary"
           }
          ],
          "surface": [
           {
            "colorbar": {
             "outlinewidth": 0,
             "ticks": ""
            },
            "colorscale": [
             [
              0,
              "#0d0887"
             ],
             [
              0.1111111111111111,
              "#46039f"
             ],
             [
              0.2222222222222222,
              "#7201a8"
             ],
             [
              0.3333333333333333,
              "#9c179e"
             ],
             [
              0.4444444444444444,
              "#bd3786"
             ],
             [
              0.5555555555555556,
              "#d8576b"
             ],
             [
              0.6666666666666666,
              "#ed7953"
             ],
             [
              0.7777777777777778,
              "#fb9f3a"
             ],
             [
              0.8888888888888888,
              "#fdca26"
             ],
             [
              1,
              "#f0f921"
             ]
            ],
            "type": "surface"
           }
          ],
          "table": [
           {
            "cells": {
             "fill": {
              "color": "#506784"
             },
             "line": {
              "color": "rgb(17,17,17)"
             }
            },
            "header": {
             "fill": {
              "color": "#2a3f5f"
             },
             "line": {
              "color": "rgb(17,17,17)"
             }
            },
            "type": "table"
           }
          ]
         },
         "layout": {
          "annotationdefaults": {
           "arrowcolor": "#f2f5fa",
           "arrowhead": 0,
           "arrowwidth": 1
          },
          "autotypenumbers": "strict",
          "coloraxis": {
           "colorbar": {
            "outlinewidth": 0,
            "ticks": ""
           }
          },
          "colorscale": {
           "diverging": [
            [
             0,
             "#8e0152"
            ],
            [
             0.1,
             "#c51b7d"
            ],
            [
             0.2,
             "#de77ae"
            ],
            [
             0.3,
             "#f1b6da"
            ],
            [
             0.4,
             "#fde0ef"
            ],
            [
             0.5,
             "#f7f7f7"
            ],
            [
             0.6,
             "#e6f5d0"
            ],
            [
             0.7,
             "#b8e186"
            ],
            [
             0.8,
             "#7fbc41"
            ],
            [
             0.9,
             "#4d9221"
            ],
            [
             1,
             "#276419"
            ]
           ],
           "sequential": [
            [
             0,
             "#0d0887"
            ],
            [
             0.1111111111111111,
             "#46039f"
            ],
            [
             0.2222222222222222,
             "#7201a8"
            ],
            [
             0.3333333333333333,
             "#9c179e"
            ],
            [
             0.4444444444444444,
             "#bd3786"
            ],
            [
             0.5555555555555556,
             "#d8576b"
            ],
            [
             0.6666666666666666,
             "#ed7953"
            ],
            [
             0.7777777777777778,
             "#fb9f3a"
            ],
            [
             0.8888888888888888,
             "#fdca26"
            ],
            [
             1,
             "#f0f921"
            ]
           ],
           "sequentialminus": [
            [
             0,
             "#0d0887"
            ],
            [
             0.1111111111111111,
             "#46039f"
            ],
            [
             0.2222222222222222,
             "#7201a8"
            ],
            [
             0.3333333333333333,
             "#9c179e"
            ],
            [
             0.4444444444444444,
             "#bd3786"
            ],
            [
             0.5555555555555556,
             "#d8576b"
            ],
            [
             0.6666666666666666,
             "#ed7953"
            ],
            [
             0.7777777777777778,
             "#fb9f3a"
            ],
            [
             0.8888888888888888,
             "#fdca26"
            ],
            [
             1,
             "#f0f921"
            ]
           ]
          },
          "colorway": [
           "#636efa",
           "#EF553B",
           "#00cc96",
           "#ab63fa",
           "#FFA15A",
           "#19d3f3",
           "#FF6692",
           "#B6E880",
           "#FF97FF",
           "#FECB52"
          ],
          "font": {
           "color": "#f2f5fa"
          },
          "geo": {
           "bgcolor": "rgb(17,17,17)",
           "lakecolor": "rgb(17,17,17)",
           "landcolor": "rgb(17,17,17)",
           "showlakes": true,
           "showland": true,
           "subunitcolor": "#506784"
          },
          "hoverlabel": {
           "align": "left"
          },
          "hovermode": "closest",
          "mapbox": {
           "style": "dark"
          },
          "paper_bgcolor": "rgb(17,17,17)",
          "plot_bgcolor": "rgb(17,17,17)",
          "polar": {
           "angularaxis": {
            "gridcolor": "#506784",
            "linecolor": "#506784",
            "ticks": ""
           },
           "bgcolor": "rgb(17,17,17)",
           "radialaxis": {
            "gridcolor": "#506784",
            "linecolor": "#506784",
            "ticks": ""
           }
          },
          "scene": {
           "xaxis": {
            "backgroundcolor": "rgb(17,17,17)",
            "gridcolor": "#506784",
            "gridwidth": 2,
            "linecolor": "#506784",
            "showbackground": true,
            "ticks": "",
            "zerolinecolor": "#C8D4E3"
           },
           "yaxis": {
            "backgroundcolor": "rgb(17,17,17)",
            "gridcolor": "#506784",
            "gridwidth": 2,
            "linecolor": "#506784",
            "showbackground": true,
            "ticks": "",
            "zerolinecolor": "#C8D4E3"
           },
           "zaxis": {
            "backgroundcolor": "rgb(17,17,17)",
            "gridcolor": "#506784",
            "gridwidth": 2,
            "linecolor": "#506784",
            "showbackground": true,
            "ticks": "",
            "zerolinecolor": "#C8D4E3"
           }
          },
          "shapedefaults": {
           "line": {
            "color": "#f2f5fa"
           }
          },
          "sliderdefaults": {
           "bgcolor": "#C8D4E3",
           "bordercolor": "rgb(17,17,17)",
           "borderwidth": 1,
           "tickwidth": 0
          },
          "ternary": {
           "aaxis": {
            "gridcolor": "#506784",
            "linecolor": "#506784",
            "ticks": ""
           },
           "baxis": {
            "gridcolor": "#506784",
            "linecolor": "#506784",
            "ticks": ""
           },
           "bgcolor": "rgb(17,17,17)",
           "caxis": {
            "gridcolor": "#506784",
            "linecolor": "#506784",
            "ticks": ""
           }
          },
          "title": {
           "x": 0.05
          },
          "updatemenudefaults": {
           "bgcolor": "#506784",
           "borderwidth": 0
          },
          "xaxis": {
           "automargin": true,
           "gridcolor": "#283442",
           "linecolor": "#506784",
           "ticks": "",
           "title": {
            "standoff": 15
           },
           "zerolinecolor": "#283442",
           "zerolinewidth": 2
          },
          "yaxis": {
           "automargin": true,
           "gridcolor": "#283442",
           "linecolor": "#506784",
           "ticks": "",
           "title": {
            "standoff": 15
           },
           "zerolinecolor": "#283442",
           "zerolinewidth": 2
          }
         }
        },
        "xaxis": {
         "anchor": "y",
         "automargin": true,
         "domain": [
          0,
          1
         ],
         "dtick": 1800000,
         "gridcolor": "rgba(128,128,128,0.1)",
         "matches": "x2",
         "range": [
          "2025-08-05T09:00:00-04:00",
          "2025-08-05T16:15:00-04:00"
         ],
         "rangeslider": {
          "visible": false
         },
         "showticklabels": false,
         "zerolinecolor": "rgba(128,128,128,0.1)"
        },
        "xaxis2": {
         "anchor": "y2",
         "automargin": true,
         "domain": [
          0,
          1
         ],
         "dtick": 1800000,
         "gridcolor": "rgba(128,128,128,0.1)",
         "range": [
          "2025-08-05T09:00:00-04:00",
          "2025-08-05T16:15:00-04:00"
         ],
         "title": {
          "text": "Time"
         },
         "zerolinecolor": "rgba(128,128,128,0.1)"
        },
        "yaxis": {
         "anchor": "x",
         "automargin": true,
         "domain": [
          0.3533333333333333,
          0.9999999999999999
         ],
         "dtick": 10,
         "gridcolor": "rgba(128,128,128,0.1)",
         "minor": {
          "dtick": 5,
          "showgrid": false,
          "tickcolor": "rgba(150,150,150,0.5)",
          "ticklen": 2,
          "tickmode": "linear",
          "ticks": "outside",
          "tickwidth": 1
         },
         "range": [
          6267.9955,
          6353.429
         ],
         "showgrid": true,
         "showticklabels": true,
         "tickfont": {
          "size": 11
         },
         "ticklabelposition": "outside",
         "ticklen": 4,
         "ticks": "outside",
         "ticksuffix": " ",
         "tickwidth": 1,
         "title": {
          "text": "Price"
         },
         "zeroline": false,
         "zerolinecolor": "rgba(128,128,128,0.1)"
        },
        "yaxis2": {
         "anchor": "x2",
         "automargin": true,
         "domain": [
          0,
          0.3233333333333333
         ],
         "gridcolor": "rgba(128,128,128,0.1)",
         "range": [
          -8.195879404678271,
          4.058008974327458
         ],
         "showgrid": true,
         "showticklabels": true,
         "side": "left",
         "tickfont": {
          "size": 11
         },
         "ticklabelposition": "outside",
         "ticklen": 4,
         "ticks": "outside",
         "ticksuffix": " ",
         "tickwidth": 1,
         "title": {
          "text": "MACD"
         },
         "zeroline": false,
         "zerolinecolor": "rgba(128,128,128,0.1)"
        }
       }
      }
     },
     "metadata": {},
     "output_type": "display_data"
    }
   ],
   "source": [
    "candles: pl.DataFrame = streamer.download(\n",
    "    symbol=candle_symbol,\n",
    "    start=start,\n",
    "    stop=stop,\n",
    "    debug_mode=True,\n",
    ")\n",
    "\n",
    "df_macd = macd(candles, prior_close=prior_day.close, fast_length=12, slow_length=26, macd_length=9)\n",
    "\n",
    "plot_macd_with_hull(\n",
    "    df_macd,\n",
    "    pad_value=prior_day.close,\n",
    "    start_time=start,\n",
    "    end_time=stop + timedelta(minutes=15),\n",
    "    horizontal_lines=levels,\n",
    "    vertical_lines=executions,\n",
    ")"
   ]
  },
  {
   "cell_type": "code",
   "execution_count": 13,
   "metadata": {},
   "outputs": [
    {
     "data": {
      "application/vnd.plotly.v1+json": {
       "config": {
        "plotlyServerURL": "https://plot.ly"
       },
       "data": [
        {
         "close": {
          "bdata": "PQrXo/C5uEA9Ctej8Lm4QD0K16PwubhAPQrXo/C5uEA9Ctej8Lm4QD0K16PwubhAhetRuB68uEBxPQrXI8W4QArXo3C9w7hAPQrXozDGuEA9CtejcMa4QIXrUbjewrhAcT0K1yO2uEAUrkfhera4QOF6FK5HsrhAH4XrUbixuEAzMzMzs6q4QAAAAAAArbhAZmZmZualuECPwvUo3KC4QGZmZmammLhAexSuR2GRuEBcj8L1qJS4QFK4HoUrmrhAH4XrUficuECPwvUoHJ+4QFK4HoXroLhAj8L1KNycuEDsUbgehZq4QFyPwvVomrhAcT0K16OauEDNzMzMjJa4QAAAAABAl7hASOF6FK6XuEDhehSuh5i4QM3MzMwMnLhArkfhelSeuEDhehSux5+4QI/C9SicobhAMzMzMzOkuEBmZmZmZqO4QIXrUbjepbhAzczMzMyouECamZmZWaW4QOF6FK6HoLhASOF6FC6duEDsUbgeBaa4QB+F61F4pLhAcT0K1yOkuEAfhetROKa4QKRwPQpXp7hAmpmZmZmouEAK16Nwfai4QBSuR+E6rLhA16NwPUqruED2KFyPgq+4QFyPwvXorrhA7FG4HkWxuEAfhetROLG4QM3MzMzMsLhAPQrXo/CuuEDNzMzMjK24QK5H4XqUqbhArkfhehSkuEDXo3A9iqO4QD0K16MworhAexSuR+GhuEDNzMzMTKG4QB+F61H4n7hAcT0K1yOguEB7FK5HYZ24QKRwPQpXn7hA9ihcjwKjuEBmZmZmZqK4QGZmZmamo7hAAAAAAACkuED2KFyPgqW4QIXrUbjepLhAH4XrUbijuEAUrkfh+qC4QMP1KFwPnrhArkfhepScuEAUrkfhep24QD0K16Mwm7hA",
          "dtype": "f8"
         },
         "decreasing": {
          "fillcolor": "#EF5350",
          "line": {
           "color": "#EF5350"
          }
         },
         "high": {
          "bdata": "PQrXo/C5uEA9Ctej8Lm4QD0K16PwubhAPQrXo/C5uEA9Ctej8Lm4QD0K16PwubhAexSuRyHCuEBSuB6Fq8a4QD0K16PwxrhAAAAAAADKuEDsUbgeRce4QKRwPQqXxrhAH4XrUXjDuEDD9Shcj7i4QBSuR+F6ubhAzczMzMy0uEBcj8L1qLG4QK5H4XpUrbhAuB6F6xGtuEApXI/CtaW4QHE9Ctfjo7hA7FG4HkWZuECkcD0KV5m4QFK4HoVrmrhAzczMzMyeuEDsUbgexaC4QAAAAACAobhAcT0K16OhuEAfhetROKC4QAAAAADAnLhASOF6FG6euEC4HoXr0Zq4QGZmZmYmmLhAhetRuF6cuEDhehSux5i4QArXo3A9nLhAH4XrUXieuEDNzMzMjKS4QDMzMzMzo7hAMzMzM3OkuECPwvUo3Ka4QGZmZmYmprhAmpmZmRmruEC4HoXr0ai4QMP1KFxPpbhAH4XrUXiguEDsUbgeBaa4QArXo3D9prhAAAAAAICmuECkcD0K16a4QD0K16Pwp7hA16NwPQqpuEAzMzMzs6i4QMP1KFwPrbhAFK5H4XqtuEBSuB6Fq6+4QFyPwvUosLhAKVyPwvWxuEApXI/C9bG4QM3MzMxMsrhACtejcD2xuEC4HoXr0a+4QHE9CtejrbhACtejcL2puEBxPQrXI6W4QFK4HoXro7hAzczMzMykuEBI4XoULqK4QEjhehSuobhAj8L1KNyiuEBxPQrXY6C4QGZmZmamn7hAZmZmZiajuEAzMzMzM6O4QPYoXI8CpbhAmpmZmVmkuEDNzMzMzKW4QNejcD2KpbhAMzMzM3OluEApXI/CNaS4QHsUrkehobhAhetRuJ6fuEBcj8L1KKG4QHE9CtcjnrhA",
          "dtype": "f8"
         },
         "increasing": {
          "fillcolor": "rgba(19, 19, 19, 0.1)",
          "line": {
           "color": "#4CAF50"
          }
         },
         "line": {
          "width": 0.75
         },
         "low": {
          "bdata": "PQrXo/C5uEA9Ctej8Lm4QD0K16PwubhAPQrXo/C5uEA9Ctej8Lm4QD0K16PwubhAH4XrUbi7uEDsUbgeBby4QNejcD3KwrhAUrgehavDuEAUrkfhusK4QD0K16Pwv7hAKVyPwrW1uEApXI/C9bG4QHE9CtcjsrhAZmZmZmauuEAzMzMzs6q4QEjhehQup7hAH4XrUXiluEDhehSuB6C4QFyPwvUol7hAexSuR2GRuECF61G4XpG4QDMzMzPzk7hAj8L1KFyVuED2KFyPAp24QDMzMzOzmLhAmpmZmdmauEA9Ctej8Ji4QNejcD1KmbhACtejcH2ZuEC4HoXrEZO4QEjhehQuk7hAMzMzM3OWuEAAAAAAAJS4QEjhehRumLhAMzMzMzObuEDNzMzMTJ64QMP1KFyPn7hAw/UoXI+huEDhehSuB6O4QB+F61F4o7hAcT0K16OluEAAAAAAAKS4QMP1KFwPnrhA16NwPYqZuEAzMzMzM524QK5H4XoUo7hApHA9CleiuECPwvUoXKO4QD0K16PwpbhAzczMzIykuEDXo3A9yqa4QArXo3A9qLhArkfhehSruEB7FK5H4aq4QFK4HoVrrrhAFK5H4bquuEDNzMzMDLC4QDMzMzOzsLhAFK5H4TqtuECPwvUoHK24QK5H4XqUqbhA4XoUrsejuEAAAAAAAKO4QJqZmZlZobhAXI/C9eiduEAfhetR+J+4QHE9CtdjnrhApHA9ClecuEBmZmZm5pm4QI/C9Sgcm7hAKVyPwrWeuEAUrkfh+qC4QD0K16PwoLhAMzMzM3OhuECamZmZ2aO4QK5H4XpUobhAj8L1KByjuEBSuB6FK6C4QEjhehTunbhAuB6F65GbuEBcj8L1qJy4QK5H4XqUmbhA",
          "dtype": "f8"
         },
         "name": "Price",
         "open": {
          "bdata": "PQrXo/C5uEA9Ctej8Lm4QD0K16PwubhAPQrXo/C5uEA9Ctej8Lm4QD0K16PwubhAexSuR6HAuEDsUbgeBby4QLgehesRxbhAUrgehavDuEDD9ShcD8a4QPYoXI+CxrhAH4XrUXjDuEBmZmZm5rW4QEjhehSutrhAw/UoXI+yuEBcj8L1qLG4QFyPwvVoqrhAuB6F6xGtuECF61G4nqW4QKRwPQrXoLhAexSuR6GYuEBcj8L1aJG4QArXo3B9lLhAj8L1KByauED2KFyPAp24QK5H4XoUn7hASOF6FO6guECkcD0K15y4QGZmZmammrhAKVyPwrWauEC4HoXr0Zq4QM3MzMyMlrhApHA9CpeXuECPwvUonJe4QM3MzMyMmLhACtejcP2buEAzMzMzc564QMP1KFyPn7hAw/UoXI+huEAfhetROKS4QArXo3B9o7hAj8L1KNyluEApXI/Ctai4QArXo3A9pbhAH4XrUXiguEDXo3A9Sp24QM3MzMwMprhAZmZmZmakuEBxPQrXI6S4QMP1KFxPprhAcT0K12OnuEBSuB6Fq6i4QArXo3B9qLhAAAAAAECsuEDXo3A9Squ4QDMzMzNzr7hAUrgeheuuuEBxPQrXY7G4QM3MzMxMsbhAmpmZmdmwuEBmZmZm5q64QHE9CtejrbhAuB6F65GpuEDD9ShcD6S4QArXo3B9o7hApHA9CleiuEBxPQrX46G4QAAAAABAobhA9ihcjwKguECPwvUoHKC4QJqZmZlZnbhAzczMzEyfuED2KFyPAqO4QFK4HoVrorhAZmZmZqajuEDhehSuB6S4QNejcD2KpbhAUrgeheukuEBSuB6Fq6O4QHsUrkchobhA7FG4HgWeuEBcj8L1qJy4QGZmZmZmnbhA",
          "dtype": "f8"
         },
         "showlegend": false,
         "type": "candlestick",
         "x": [
          "2025-08-05T09:00:00.000000000",
          "2025-08-05T09:05:00.000000000",
          "2025-08-05T09:10:00.000000000",
          "2025-08-05T09:15:00.000000000",
          "2025-08-05T09:20:00.000000000",
          "2025-08-05T09:25:00.000000000",
          "2025-08-05T09:30:00.000000000",
          "2025-08-05T09:35:00.000000000",
          "2025-08-05T09:40:00.000000000",
          "2025-08-05T09:45:00.000000000",
          "2025-08-05T09:50:00.000000000",
          "2025-08-05T09:55:00.000000000",
          "2025-08-05T10:00:00.000000000",
          "2025-08-05T10:05:00.000000000",
          "2025-08-05T10:10:00.000000000",
          "2025-08-05T10:15:00.000000000",
          "2025-08-05T10:20:00.000000000",
          "2025-08-05T10:25:00.000000000",
          "2025-08-05T10:30:00.000000000",
          "2025-08-05T10:35:00.000000000",
          "2025-08-05T10:40:00.000000000",
          "2025-08-05T10:45:00.000000000",
          "2025-08-05T10:50:00.000000000",
          "2025-08-05T10:55:00.000000000",
          "2025-08-05T11:00:00.000000000",
          "2025-08-05T11:05:00.000000000",
          "2025-08-05T11:10:00.000000000",
          "2025-08-05T11:15:00.000000000",
          "2025-08-05T11:20:00.000000000",
          "2025-08-05T11:25:00.000000000",
          "2025-08-05T11:30:00.000000000",
          "2025-08-05T11:35:00.000000000",
          "2025-08-05T11:40:00.000000000",
          "2025-08-05T11:45:00.000000000",
          "2025-08-05T11:50:00.000000000",
          "2025-08-05T11:55:00.000000000",
          "2025-08-05T12:00:00.000000000",
          "2025-08-05T12:05:00.000000000",
          "2025-08-05T12:10:00.000000000",
          "2025-08-05T12:15:00.000000000",
          "2025-08-05T12:20:00.000000000",
          "2025-08-05T12:25:00.000000000",
          "2025-08-05T12:30:00.000000000",
          "2025-08-05T12:35:00.000000000",
          "2025-08-05T12:40:00.000000000",
          "2025-08-05T12:45:00.000000000",
          "2025-08-05T12:50:00.000000000",
          "2025-08-05T12:55:00.000000000",
          "2025-08-05T13:00:00.000000000",
          "2025-08-05T13:05:00.000000000",
          "2025-08-05T13:10:00.000000000",
          "2025-08-05T13:15:00.000000000",
          "2025-08-05T13:20:00.000000000",
          "2025-08-05T13:25:00.000000000",
          "2025-08-05T13:30:00.000000000",
          "2025-08-05T13:35:00.000000000",
          "2025-08-05T13:40:00.000000000",
          "2025-08-05T13:45:00.000000000",
          "2025-08-05T13:50:00.000000000",
          "2025-08-05T13:55:00.000000000",
          "2025-08-05T14:00:00.000000000",
          "2025-08-05T14:05:00.000000000",
          "2025-08-05T14:10:00.000000000",
          "2025-08-05T14:15:00.000000000",
          "2025-08-05T14:20:00.000000000",
          "2025-08-05T14:25:00.000000000",
          "2025-08-05T14:30:00.000000000",
          "2025-08-05T14:35:00.000000000",
          "2025-08-05T14:40:00.000000000",
          "2025-08-05T14:45:00.000000000",
          "2025-08-05T14:50:00.000000000",
          "2025-08-05T14:55:00.000000000",
          "2025-08-05T15:00:00.000000000",
          "2025-08-05T15:05:00.000000000",
          "2025-08-05T15:10:00.000000000",
          "2025-08-05T15:15:00.000000000",
          "2025-08-05T15:20:00.000000000",
          "2025-08-05T15:25:00.000000000",
          "2025-08-05T15:30:00.000000000",
          "2025-08-05T15:35:00.000000000",
          "2025-08-05T15:40:00.000000000",
          "2025-08-05T15:45:00.000000000",
          "2025-08-05T15:50:00.000000000",
          "2025-08-05T15:55:00.000000000"
         ],
         "xaxis": "x",
         "yaxis": "y"
        },
        {
         "line": {
          "color": "#FF66FE",
          "width": 0.6
         },
         "mode": "lines",
         "name": "HMA",
         "showlegend": false,
         "type": "scatter",
         "x": [
          "2025-08-05T09:00:00-04:00",
          "2025-08-05T09:05:00-04:00"
         ],
         "xaxis": "x",
         "y": {
          "bdata": "PQrXo/C5uEA9Ctej8Lm4QA==",
          "dtype": "f8"
         },
         "yaxis": "y"
        },
        {
         "line": {
          "color": "#FF66FE",
          "width": 0.6
         },
         "mode": "lines",
         "name": "HMA",
         "showlegend": false,
         "type": "scatter",
         "x": [
          "2025-08-05T09:05:00-04:00",
          "2025-08-05T09:10:00-04:00"
         ],
         "xaxis": "x",
         "y": {
          "bdata": "PQrXo/C5uEA8Ctej8Lm4QA==",
          "dtype": "f8"
         },
         "yaxis": "y"
        },
        {
         "line": {
          "color": "#FF66FE",
          "width": 0.6
         },
         "mode": "lines",
         "name": "HMA",
         "showlegend": false,
         "type": "scatter",
         "x": [
          "2025-08-05T09:10:00-04:00",
          "2025-08-05T09:15:00-04:00"
         ],
         "xaxis": "x",
         "y": {
          "bdata": "PArXo/C5uEA8Ctej8Lm4QA==",
          "dtype": "f8"
         },
         "yaxis": "y"
        },
        {
         "line": {
          "color": "#FF66FE",
          "width": 0.6
         },
         "mode": "lines",
         "name": "HMA",
         "showlegend": false,
         "type": "scatter",
         "x": [
          "2025-08-05T09:15:00-04:00",
          "2025-08-05T09:20:00-04:00"
         ],
         "xaxis": "x",
         "y": {
          "bdata": "PArXo/C5uEA8Ctej8Lm4QA==",
          "dtype": "f8"
         },
         "yaxis": "y"
        },
        {
         "line": {
          "color": "#FF66FE",
          "width": 0.6
         },
         "mode": "lines",
         "name": "HMA",
         "showlegend": false,
         "type": "scatter",
         "x": [
          "2025-08-05T09:20:00-04:00",
          "2025-08-05T09:25:00-04:00"
         ],
         "xaxis": "x",
         "y": {
          "bdata": "PArXo/C5uEA8Ctej8Lm4QA==",
          "dtype": "f8"
         },
         "yaxis": "y"
        },
        {
         "line": {
          "color": "#01FFFF",
          "width": 0.6
         },
         "mode": "lines",
         "name": "HMA",
         "showlegend": false,
         "type": "scatter",
         "x": [
          "2025-08-05T09:25:00-04:00",
          "2025-08-05T09:30:00-04:00"
         ],
         "xaxis": "x",
         "y": {
          "bdata": "PArXo/C5uEDS3hmOLLq4QA==",
          "dtype": "f8"
         },
         "yaxis": "y"
        },
        {
         "line": {
          "color": "#01FFFF",
          "width": 0.6
         },
         "mode": "lines",
         "name": "HMA",
         "showlegend": false,
         "type": "scatter",
         "x": [
          "2025-08-05T09:30:00-04:00",
          "2025-08-05T09:35:00-04:00"
         ],
         "xaxis": "x",
         "y": {
          "bdata": "0t4Zjiy6uEBXW+pBhru4QA==",
          "dtype": "f8"
         },
         "yaxis": "y"
        },
        {
         "line": {
          "color": "#01FFFF",
          "width": 0.6
         },
         "mode": "lines",
         "name": "HMA",
         "showlegend": false,
         "type": "scatter",
         "x": [
          "2025-08-05T09:35:00-04:00",
          "2025-08-05T09:40:00-04:00"
         ],
         "xaxis": "x",
         "y": {
          "bdata": "V1vqQYa7uEAucK/VZ724QA==",
          "dtype": "f8"
         },
         "yaxis": "y"
        },
        {
         "line": {
          "color": "#01FFFF",
          "width": 0.6
         },
         "mode": "lines",
         "name": "HMA",
         "showlegend": false,
         "type": "scatter",
         "x": [
          "2025-08-05T09:40:00-04:00",
          "2025-08-05T09:45:00-04:00"
         ],
         "xaxis": "x",
         "y": {
          "bdata": "LnCv1We9uEDw6vRlvL+4QA==",
          "dtype": "f8"
         },
         "yaxis": "y"
        },
        {
         "line": {
          "color": "#01FFFF",
          "width": 0.6
         },
         "mode": "lines",
         "name": "HMA",
         "showlegend": false,
         "type": "scatter",
         "x": [
          "2025-08-05T09:45:00-04:00",
          "2025-08-05T09:50:00-04:00"
         ],
         "xaxis": "x",
         "y": {
          "bdata": "8Or0Zby/uED66M7CIcK4QA==",
          "dtype": "f8"
         },
         "yaxis": "y"
        },
        {
         "line": {
          "color": "#01FFFF",
          "width": 0.6
         },
         "mode": "lines",
         "name": "HMA",
         "showlegend": false,
         "type": "scatter",
         "x": [
          "2025-08-05T09:50:00-04:00",
          "2025-08-05T09:55:00-04:00"
         ],
         "xaxis": "x",
         "y": {
          "bdata": "+ujOwiHCuEDHpu8b48O4QA==",
          "dtype": "f8"
         },
         "yaxis": "y"
        },
        {
         "line": {
          "color": "#FF66FE",
          "width": 0.6
         },
         "mode": "lines",
         "name": "HMA",
         "showlegend": false,
         "type": "scatter",
         "x": [
          "2025-08-05T09:55:00-04:00",
          "2025-08-05T10:00:00-04:00"
         ],
         "xaxis": "x",
         "y": {
          "bdata": "x6bvG+PDuEDm5HlIusO4QA==",
          "dtype": "f8"
         },
         "yaxis": "y"
        },
        {
         "line": {
          "color": "#FF66FE",
          "width": 0.6
         },
         "mode": "lines",
         "name": "HMA",
         "showlegend": false,
         "type": "scatter",
         "x": [
          "2025-08-05T10:00:00-04:00",
          "2025-08-05T10:05:00-04:00"
         ],
         "xaxis": "x",
         "y": {
          "bdata": "5uR5SLrDuEDh0p6LPcK4QA==",
          "dtype": "f8"
         },
         "yaxis": "y"
        },
        {
         "line": {
          "color": "#FF66FE",
          "width": 0.6
         },
         "mode": "lines",
         "name": "HMA",
         "showlegend": false,
         "type": "scatter",
         "x": [
          "2025-08-05T10:05:00-04:00",
          "2025-08-05T10:10:00-04:00"
         ],
         "xaxis": "x",
         "y": {
          "bdata": "4dKeiz3CuEA7u7jGiL+4QA==",
          "dtype": "f8"
         },
         "yaxis": "y"
        },
        {
         "line": {
          "color": "#FF66FE",
          "width": 0.6
         },
         "mode": "lines",
         "name": "HMA",
         "showlegend": false,
         "type": "scatter",
         "x": [
          "2025-08-05T10:10:00-04:00",
          "2025-08-05T10:15:00-04:00"
         ],
         "xaxis": "x",
         "y": {
          "bdata": "O7u4xoi/uEDqXf1aO7y4QA==",
          "dtype": "f8"
         },
         "yaxis": "y"
        },
        {
         "line": {
          "color": "#FF66FE",
          "width": 0.6
         },
         "mode": "lines",
         "name": "HMA",
         "showlegend": false,
         "type": "scatter",
         "x": [
          "2025-08-05T10:15:00-04:00",
          "2025-08-05T10:20:00-04:00"
         ],
         "xaxis": "x",
         "y": {
          "bdata": "6l39Wju8uEB2seLvH7i4QA==",
          "dtype": "f8"
         },
         "yaxis": "y"
        },
        {
         "line": {
          "color": "#FF66FE",
          "width": 0.6
         },
         "mode": "lines",
         "name": "HMA",
         "showlegend": false,
         "type": "scatter",
         "x": [
          "2025-08-05T10:20:00-04:00",
          "2025-08-05T10:25:00-04:00"
         ],
         "xaxis": "x",
         "y": {
          "bdata": "drHi7x+4uECY9XMN67O4QA==",
          "dtype": "f8"
         },
         "yaxis": "y"
        },
        {
         "line": {
          "color": "#FF66FE",
          "width": 0.6
         },
         "mode": "lines",
         "name": "HMA",
         "showlegend": false,
         "type": "scatter",
         "x": [
          "2025-08-05T10:25:00-04:00",
          "2025-08-05T10:30:00-04:00"
         ],
         "xaxis": "x",
         "y": {
          "bdata": "mPVzDeuzuEAgX9dGUK+4QA==",
          "dtype": "f8"
         },
         "yaxis": "y"
        },
        {
         "line": {
          "color": "#FF66FE",
          "width": 0.6
         },
         "mode": "lines",
         "name": "HMA",
         "showlegend": false,
         "type": "scatter",
         "x": [
          "2025-08-05T10:30:00-04:00",
          "2025-08-05T10:35:00-04:00"
         ],
         "xaxis": "x",
         "y": {
          "bdata": "IF/XRlCvuECmcvRkT6q4QA==",
          "dtype": "f8"
         },
         "yaxis": "y"
        },
        {
         "line": {
          "color": "#FF66FE",
          "width": 0.6
         },
         "mode": "lines",
         "name": "HMA",
         "showlegend": false,
         "type": "scatter",
         "x": [
          "2025-08-05T10:35:00-04:00",
          "2025-08-05T10:40:00-04:00"
         ],
         "xaxis": "x",
         "y": {
          "bdata": "pnL0ZE+quEAet2EktqS4QA==",
          "dtype": "f8"
         },
         "yaxis": "y"
        },
        {
         "line": {
          "color": "#FF66FE",
          "width": 0.6
         },
         "mode": "lines",
         "name": "HMA",
         "showlegend": false,
         "type": "scatter",
         "x": [
          "2025-08-05T10:40:00-04:00",
          "2025-08-05T10:45:00-04:00"
         ],
         "xaxis": "x",
         "y": {
          "bdata": "HrdhJLakuECqLCi5dp64QA==",
          "dtype": "f8"
         },
         "yaxis": "y"
        },
        {
         "line": {
          "color": "#FF66FE",
          "width": 0.6
         },
         "mode": "lines",
         "name": "HMA",
         "showlegend": false,
         "type": "scatter",
         "x": [
          "2025-08-05T10:45:00-04:00",
          "2025-08-05T10:50:00-04:00"
         ],
         "xaxis": "x",
         "y": {
          "bdata": "qiwouXaeuEDfdlIT2Zi4QA==",
          "dtype": "f8"
         },
         "yaxis": "y"
        },
        {
         "line": {
          "color": "#FF66FE",
          "width": 0.6
         },
         "mode": "lines",
         "name": "HMA",
         "showlegend": false,
         "type": "scatter",
         "x": [
          "2025-08-05T10:50:00-04:00",
          "2025-08-05T10:55:00-04:00"
         ],
         "xaxis": "x",
         "y": {
          "bdata": "33ZSE9mYuEAYcHDbzJS4QA==",
          "dtype": "f8"
         },
         "yaxis": "y"
        },
        {
         "line": {
          "color": "#FF66FE",
          "width": 0.6
         },
         "mode": "lines",
         "name": "HMA",
         "showlegend": false,
         "type": "scatter",
         "x": [
          "2025-08-05T10:55:00-04:00",
          "2025-08-05T11:00:00-04:00"
         ],
         "xaxis": "x",
         "y": {
          "bdata": "GHBw28yUuEB2u6rnnJK4QA==",
          "dtype": "f8"
         },
         "yaxis": "y"
        },
        {
         "line": {
          "color": "#FF66FE",
          "width": 0.6
         },
         "mode": "lines",
         "name": "HMA",
         "showlegend": false,
         "type": "scatter",
         "x": [
          "2025-08-05T11:00:00-04:00",
          "2025-08-05T11:05:00-04:00"
         ],
         "xaxis": "x",
         "y": {
          "bdata": "druq55ySuECuFEnHJpK4QA==",
          "dtype": "f8"
         },
         "yaxis": "y"
        },
        {
         "line": {
          "color": "#01FFFF",
          "width": 0.6
         },
         "mode": "lines",
         "name": "HMA",
         "showlegend": false,
         "type": "scatter",
         "x": [
          "2025-08-05T11:05:00-04:00",
          "2025-08-05T11:10:00-04:00"
         ],
         "xaxis": "x",
         "y": {
          "bdata": "rhRJxyaSuED2fzaQC5O4QA==",
          "dtype": "f8"
         },
         "yaxis": "y"
        },
        {
         "line": {
          "color": "#01FFFF",
          "width": 0.6
         },
         "mode": "lines",
         "name": "HMA",
         "showlegend": false,
         "type": "scatter",
         "x": [
          "2025-08-05T11:10:00-04:00",
          "2025-08-05T11:15:00-04:00"
         ],
         "xaxis": "x",
         "y": {
          "bdata": "9n82kAuTuEC+ro0gT5S4QA==",
          "dtype": "f8"
         },
         "yaxis": "y"
        },
        {
         "line": {
          "color": "#01FFFF",
          "width": 0.6
         },
         "mode": "lines",
         "name": "HMA",
         "showlegend": false,
         "type": "scatter",
         "x": [
          "2025-08-05T11:15:00-04:00",
          "2025-08-05T11:20:00-04:00"
         ],
         "xaxis": "x",
         "y": {
          "bdata": "vq6NIE+UuEAyYOGAjJW4QA==",
          "dtype": "f8"
         },
         "yaxis": "y"
        },
        {
         "line": {
          "color": "#01FFFF",
          "width": 0.6
         },
         "mode": "lines",
         "name": "HMA",
         "showlegend": false,
         "type": "scatter",
         "x": [
          "2025-08-05T11:20:00-04:00",
          "2025-08-05T11:25:00-04:00"
         ],
         "xaxis": "x",
         "y": {
          "bdata": "MmDhgIyVuEAtTPuDuZa4QA==",
          "dtype": "f8"
         },
         "yaxis": "y"
        },
        {
         "line": {
          "color": "#01FFFF",
          "width": 0.6
         },
         "mode": "lines",
         "name": "HMA",
         "showlegend": false,
         "type": "scatter",
         "x": [
          "2025-08-05T11:25:00-04:00",
          "2025-08-05T11:30:00-04:00"
         ],
         "xaxis": "x",
         "y": {
          "bdata": "LUz7g7mWuECGtDDs25e4QA==",
          "dtype": "f8"
         },
         "yaxis": "y"
        },
        {
         "line": {
          "color": "#01FFFF",
          "width": 0.6
         },
         "mode": "lines",
         "name": "HMA",
         "showlegend": false,
         "type": "scatter",
         "x": [
          "2025-08-05T11:30:00-04:00",
          "2025-08-05T11:35:00-04:00"
         ],
         "xaxis": "x",
         "y": {
          "bdata": "hrQw7NuXuEDl4dmOe5i4QA==",
          "dtype": "f8"
         },
         "yaxis": "y"
        },
        {
         "line": {
          "color": "#01FFFF",
          "width": 0.6
         },
         "mode": "lines",
         "name": "HMA",
         "showlegend": false,
         "type": "scatter",
         "x": [
          "2025-08-05T11:35:00-04:00",
          "2025-08-05T11:40:00-04:00"
         ],
         "xaxis": "x",
         "y": {
          "bdata": "5eHZjnuYuEDGVcb+pJi4QA==",
          "dtype": "f8"
         },
         "yaxis": "y"
        },
        {
         "line": {
          "color": "#FF66FE",
          "width": 0.6
         },
         "mode": "lines",
         "name": "HMA",
         "showlegend": false,
         "type": "scatter",
         "x": [
          "2025-08-05T11:40:00-04:00",
          "2025-08-05T11:45:00-04:00"
         ],
         "xaxis": "x",
         "y": {
          "bdata": "xlXG/qSYuEByyC38bJi4QA==",
          "dtype": "f8"
         },
         "yaxis": "y"
        },
        {
         "line": {
          "color": "#FF66FE",
          "width": 0.6
         },
         "mode": "lines",
         "name": "HMA",
         "showlegend": false,
         "type": "scatter",
         "x": [
          "2025-08-05T11:45:00-04:00",
          "2025-08-05T11:50:00-04:00"
         ],
         "xaxis": "x",
         "y": {
          "bdata": "csgt/GyYuEDGqR3RDpi4QA==",
          "dtype": "f8"
         },
         "yaxis": "y"
        },
        {
         "line": {
          "color": "#01FFFF",
          "width": 0.6
         },
         "mode": "lines",
         "name": "HMA",
         "showlegend": false,
         "type": "scatter",
         "x": [
          "2025-08-05T11:50:00-04:00",
          "2025-08-05T11:55:00-04:00"
         ],
         "xaxis": "x",
         "y": {
          "bdata": "xqkd0Q6YuECta826Fpi4QA==",
          "dtype": "f8"
         },
         "yaxis": "y"
        },
        {
         "line": {
          "color": "#01FFFF",
          "width": 0.6
         },
         "mode": "lines",
         "name": "HMA",
         "showlegend": false,
         "type": "scatter",
         "x": [
          "2025-08-05T11:55:00-04:00",
          "2025-08-05T12:00:00-04:00"
         ],
         "xaxis": "x",
         "y": {
          "bdata": "rWvNuhaYuECmfVBCr5i4QA==",
          "dtype": "f8"
         },
         "yaxis": "y"
        },
        {
         "line": {
          "color": "#01FFFF",
          "width": 0.6
         },
         "mode": "lines",
         "name": "HMA",
         "showlegend": false,
         "type": "scatter",
         "x": [
          "2025-08-05T12:00:00-04:00",
          "2025-08-05T12:05:00-04:00"
         ],
         "xaxis": "x",
         "y": {
          "bdata": "pn1QQq+YuEBe4Hqi2Zm4QA==",
          "dtype": "f8"
         },
         "yaxis": "y"
        },
        {
         "line": {
          "color": "#01FFFF",
          "width": 0.6
         },
         "mode": "lines",
         "name": "HMA",
         "showlegend": false,
         "type": "scatter",
         "x": [
          "2025-08-05T12:05:00-04:00",
          "2025-08-05T12:10:00-04:00"
         ],
         "xaxis": "x",
         "y": {
          "bdata": "XuB6otmZuEAT2KuCfpu4QA==",
          "dtype": "f8"
         },
         "yaxis": "y"
        },
        {
         "line": {
          "color": "#01FFFF",
          "width": 0.6
         },
         "mode": "lines",
         "name": "HMA",
         "showlegend": false,
         "type": "scatter",
         "x": [
          "2025-08-05T12:10:00-04:00",
          "2025-08-05T12:15:00-04:00"
         ],
         "xaxis": "x",
         "y": {
          "bdata": "E9irgn6buEB1CBJqjJ24QA==",
          "dtype": "f8"
         },
         "yaxis": "y"
        },
        {
         "line": {
          "color": "#01FFFF",
          "width": 0.6
         },
         "mode": "lines",
         "name": "HMA",
         "showlegend": false,
         "type": "scatter",
         "x": [
          "2025-08-05T12:15:00-04:00",
          "2025-08-05T12:20:00-04:00"
         ],
         "xaxis": "x",
         "y": {
          "bdata": "dQgSaoyduEChVLfgnJ+4QA==",
          "dtype": "f8"
         },
         "yaxis": "y"
        },
        {
         "line": {
          "color": "#01FFFF",
          "width": 0.6
         },
         "mode": "lines",
         "name": "HMA",
         "showlegend": false,
         "type": "scatter",
         "x": [
          "2025-08-05T12:20:00-04:00",
          "2025-08-05T12:25:00-04:00"
         ],
         "xaxis": "x",
         "y": {
          "bdata": "oVS34JyfuED451bUyKG4QA==",
          "dtype": "f8"
         },
         "yaxis": "y"
        },
        {
         "line": {
          "color": "#01FFFF",
          "width": 0.6
         },
         "mode": "lines",
         "name": "HMA",
         "showlegend": false,
         "type": "scatter",
         "x": [
          "2025-08-05T12:25:00-04:00",
          "2025-08-05T12:30:00-04:00"
         ],
         "xaxis": "x",
         "y": {
          "bdata": "+OdW1MihuEB9GOLmIqS4QA==",
          "dtype": "f8"
         },
         "yaxis": "y"
        },
        {
         "line": {
          "color": "#01FFFF",
          "width": 0.6
         },
         "mode": "lines",
         "name": "HMA",
         "showlegend": false,
         "type": "scatter",
         "x": [
          "2025-08-05T12:30:00-04:00",
          "2025-08-05T12:35:00-04:00"
         ],
         "xaxis": "x",
         "y": {
          "bdata": "fRji5iKkuEBz1AHIBaa4QA==",
          "dtype": "f8"
         },
         "yaxis": "y"
        },
        {
         "line": {
          "color": "#01FFFF",
          "width": 0.6
         },
         "mode": "lines",
         "name": "HMA",
         "showlegend": false,
         "type": "scatter",
         "x": [
          "2025-08-05T12:35:00-04:00",
          "2025-08-05T12:40:00-04:00"
         ],
         "xaxis": "x",
         "y": {
          "bdata": "c9QByAWmuEC17uDW4Ka4QA==",
          "dtype": "f8"
         },
         "yaxis": "y"
        },
        {
         "line": {
          "color": "#FF66FE",
          "width": 0.6
         },
         "mode": "lines",
         "name": "HMA",
         "showlegend": false,
         "type": "scatter",
         "x": [
          "2025-08-05T12:40:00-04:00",
          "2025-08-05T12:45:00-04:00"
         ],
         "xaxis": "x",
         "y": {
          "bdata": "te7g1uCmuEDC+DmGe6a4QA==",
          "dtype": "f8"
         },
         "yaxis": "y"
        },
        {
         "line": {
          "color": "#FF66FE",
          "width": 0.6
         },
         "mode": "lines",
         "name": "HMA",
         "showlegend": false,
         "type": "scatter",
         "x": [
          "2025-08-05T12:45:00-04:00",
          "2025-08-05T12:50:00-04:00"
         ],
         "xaxis": "x",
         "y": {
          "bdata": "wvg5hnumuEDqkmhgK6a4QA==",
          "dtype": "f8"
         },
         "yaxis": "y"
        },
        {
         "line": {
          "color": "#FF66FE",
          "width": 0.6
         },
         "mode": "lines",
         "name": "HMA",
         "showlegend": false,
         "type": "scatter",
         "x": [
          "2025-08-05T12:50:00-04:00",
          "2025-08-05T12:55:00-04:00"
         ],
         "xaxis": "x",
         "y": {
          "bdata": "6pJoYCumuEA2e35L4KW4QA==",
          "dtype": "f8"
         },
         "yaxis": "y"
        },
        {
         "line": {
          "color": "#FF66FE",
          "width": 0.6
         },
         "mode": "lines",
         "name": "HMA",
         "showlegend": false,
         "type": "scatter",
         "x": [
          "2025-08-05T12:55:00-04:00",
          "2025-08-05T13:00:00-04:00"
         ],
         "xaxis": "x",
         "y": {
          "bdata": "Nnt+S+CluEAKV/mzo6W4QA==",
          "dtype": "f8"
         },
         "yaxis": "y"
        },
        {
         "line": {
          "color": "#FF66FE",
          "width": 0.6
         },
         "mode": "lines",
         "name": "HMA",
         "showlegend": false,
         "type": "scatter",
         "x": [
          "2025-08-05T13:00:00-04:00",
          "2025-08-05T13:05:00-04:00"
         ],
         "xaxis": "x",
         "y": {
          "bdata": "Clf5s6OluEA8l1qCo6W4QA==",
          "dtype": "f8"
         },
         "yaxis": "y"
        },
        {
         "line": {
          "color": "#01FFFF",
          "width": 0.6
         },
         "mode": "lines",
         "name": "HMA",
         "showlegend": false,
         "type": "scatter",
         "x": [
          "2025-08-05T13:05:00-04:00",
          "2025-08-05T13:10:00-04:00"
         ],
         "xaxis": "x",
         "y": {
          "bdata": "PJdagqOluEDrPkoQy6W4QA==",
          "dtype": "f8"
         },
         "yaxis": "y"
        },
        {
         "line": {
          "color": "#01FFFF",
          "width": 0.6
         },
         "mode": "lines",
         "name": "HMA",
         "showlegend": false,
         "type": "scatter",
         "x": [
          "2025-08-05T13:10:00-04:00",
          "2025-08-05T13:15:00-04:00"
         ],
         "xaxis": "x",
         "y": {
          "bdata": "6z5KEMuluEDy8ukLN6a4QA==",
          "dtype": "f8"
         },
         "yaxis": "y"
        },
        {
         "line": {
          "color": "#01FFFF",
          "width": 0.6
         },
         "mode": "lines",
         "name": "HMA",
         "showlegend": false,
         "type": "scatter",
         "x": [
          "2025-08-05T13:15:00-04:00",
          "2025-08-05T13:20:00-04:00"
         ],
         "xaxis": "x",
         "y": {
          "bdata": "8vLpCzemuECyh+Hfzaa4QA==",
          "dtype": "f8"
         },
         "yaxis": "y"
        },
        {
         "line": {
          "color": "#01FFFF",
          "width": 0.6
         },
         "mode": "lines",
         "name": "HMA",
         "showlegend": false,
         "type": "scatter",
         "x": [
          "2025-08-05T13:20:00-04:00",
          "2025-08-05T13:25:00-04:00"
         ],
         "xaxis": "x",
         "y": {
          "bdata": "sofh382muECzlPQX5qe4QA==",
          "dtype": "f8"
         },
         "yaxis": "y"
        },
        {
         "line": {
          "color": "#01FFFF",
          "width": 0.6
         },
         "mode": "lines",
         "name": "HMA",
         "showlegend": false,
         "type": "scatter",
         "x": [
          "2025-08-05T13:25:00-04:00",
          "2025-08-05T13:30:00-04:00"
         ],
         "xaxis": "x",
         "y": {
          "bdata": "s5T0F+anuECnjrJ8Lam4QA==",
          "dtype": "f8"
         },
         "yaxis": "y"
        },
        {
         "line": {
          "color": "#01FFFF",
          "width": 0.6
         },
         "mode": "lines",
         "name": "HMA",
         "showlegend": false,
         "type": "scatter",
         "x": [
          "2025-08-05T13:30:00-04:00",
          "2025-08-05T13:35:00-04:00"
         ],
         "xaxis": "x",
         "y": {
          "bdata": "p46yfC2puEDKacjy4aq4QA==",
          "dtype": "f8"
         },
         "yaxis": "y"
        },
        {
         "line": {
          "color": "#01FFFF",
          "width": 0.6
         },
         "mode": "lines",
         "name": "HMA",
         "showlegend": false,
         "type": "scatter",
         "x": [
          "2025-08-05T13:35:00-04:00",
          "2025-08-05T13:40:00-04:00"
         ],
         "xaxis": "x",
         "y": {
          "bdata": "ymnI8uGquEBla7tSkqy4QA==",
          "dtype": "f8"
         },
         "yaxis": "y"
        },
        {
         "line": {
          "color": "#01FFFF",
          "width": 0.6
         },
         "mode": "lines",
         "name": "HMA",
         "showlegend": false,
         "type": "scatter",
         "x": [
          "2025-08-05T13:40:00-04:00",
          "2025-08-05T13:45:00-04:00"
         ],
         "xaxis": "x",
         "y": {
          "bdata": "ZWu7UpKsuECgLhRGUq64QA==",
          "dtype": "f8"
         },
         "yaxis": "y"
        },
        {
         "line": {
          "color": "#01FFFF",
          "width": 0.6
         },
         "mode": "lines",
         "name": "HMA",
         "showlegend": false,
         "type": "scatter",
         "x": [
          "2025-08-05T13:45:00-04:00",
          "2025-08-05T13:50:00-04:00"
         ],
         "xaxis": "x",
         "y": {
          "bdata": "oC4URlKuuED1z64896+4QA==",
          "dtype": "f8"
         },
         "yaxis": "y"
        },
        {
         "line": {
          "color": "#01FFFF",
          "width": 0.6
         },
         "mode": "lines",
         "name": "HMA",
         "showlegend": false,
         "type": "scatter",
         "x": [
          "2025-08-05T13:50:00-04:00",
          "2025-08-05T13:55:00-04:00"
         ],
         "xaxis": "x",
         "y": {
          "bdata": "9c+uPPevuEBAPllKSrG4QA==",
          "dtype": "f8"
         },
         "yaxis": "y"
        },
        {
         "line": {
          "color": "#01FFFF",
          "width": 0.6
         },
         "mode": "lines",
         "name": "HMA",
         "showlegend": false,
         "type": "scatter",
         "x": [
          "2025-08-05T13:55:00-04:00",
          "2025-08-05T14:00:00-04:00"
         ],
         "xaxis": "x",
         "y": {
          "bdata": "QD5ZSkqxuEAV22czF7K4QA==",
          "dtype": "f8"
         },
         "yaxis": "y"
        },
        {
         "line": {
          "color": "#01FFFF",
          "width": 0.6
         },
         "mode": "lines",
         "name": "HMA",
         "showlegend": false,
         "type": "scatter",
         "x": [
          "2025-08-05T14:00:00-04:00",
          "2025-08-05T14:05:00-04:00"
         ],
         "xaxis": "x",
         "y": {
          "bdata": "FdtnMxeyuEDPleSCQ7K4QA==",
          "dtype": "f8"
         },
         "yaxis": "y"
        },
        {
         "line": {
          "color": "#FF66FE",
          "width": 0.6
         },
         "mode": "lines",
         "name": "HMA",
         "showlegend": false,
         "type": "scatter",
         "x": [
          "2025-08-05T14:05:00-04:00",
          "2025-08-05T14:10:00-04:00"
         ],
         "xaxis": "x",
         "y": {
          "bdata": "z5XkgkOyuEBSLIQFj7G4QA==",
          "dtype": "f8"
         },
         "yaxis": "y"
        },
        {
         "line": {
          "color": "#FF66FE",
          "width": 0.6
         },
         "mode": "lines",
         "name": "HMA",
         "showlegend": false,
         "type": "scatter",
         "x": [
          "2025-08-05T14:10:00-04:00",
          "2025-08-05T14:15:00-04:00"
         ],
         "xaxis": "x",
         "y": {
          "bdata": "UiyEBY+xuECC4NhPr6+4QA==",
          "dtype": "f8"
         },
         "yaxis": "y"
        },
        {
         "line": {
          "color": "#FF66FE",
          "width": 0.6
         },
         "mode": "lines",
         "name": "HMA",
         "showlegend": false,
         "type": "scatter",
         "x": [
          "2025-08-05T14:15:00-04:00",
          "2025-08-05T14:20:00-04:00"
         ],
         "xaxis": "x",
         "y": {
          "bdata": "guDYT6+vuEByvK89Ha24QA==",
          "dtype": "f8"
         },
         "yaxis": "y"
        },
        {
         "line": {
          "color": "#FF66FE",
          "width": 0.6
         },
         "mode": "lines",
         "name": "HMA",
         "showlegend": false,
         "type": "scatter",
         "x": [
          "2025-08-05T14:20:00-04:00",
          "2025-08-05T14:25:00-04:00"
         ],
         "xaxis": "x",
         "y": {
          "bdata": "cryvPR2tuECIzyIwI6q4QA==",
          "dtype": "f8"
         },
         "yaxis": "y"
        },
        {
         "line": {
          "color": "#FF66FE",
          "width": 0.6
         },
         "mode": "lines",
         "name": "HMA",
         "showlegend": false,
         "type": "scatter",
         "x": [
          "2025-08-05T14:25:00-04:00",
          "2025-08-05T14:30:00-04:00"
         ],
         "xaxis": "x",
         "y": {
          "bdata": "iM8iMCOquEDAqKROMKe4QA==",
          "dtype": "f8"
         },
         "yaxis": "y"
        },
        {
         "line": {
          "color": "#FF66FE",
          "width": 0.6
         },
         "mode": "lines",
         "name": "HMA",
         "showlegend": false,
         "type": "scatter",
         "x": [
          "2025-08-05T14:30:00-04:00",
          "2025-08-05T14:35:00-04:00"
         ],
         "xaxis": "x",
         "y": {
          "bdata": "wKikTjCnuEDD5tL1fKS4QA==",
          "dtype": "f8"
         },
         "yaxis": "y"
        },
        {
         "line": {
          "color": "#FF66FE",
          "width": 0.6
         },
         "mode": "lines",
         "name": "HMA",
         "showlegend": false,
         "type": "scatter",
         "x": [
          "2025-08-05T14:35:00-04:00",
          "2025-08-05T14:40:00-04:00"
         ],
         "xaxis": "x",
         "y": {
          "bdata": "w+bS9XykuEA25Gv3CaK4QA==",
          "dtype": "f8"
         },
         "yaxis": "y"
        },
        {
         "line": {
          "color": "#FF66FE",
          "width": 0.6
         },
         "mode": "lines",
         "name": "HMA",
         "showlegend": false,
         "type": "scatter",
         "x": [
          "2025-08-05T14:40:00-04:00",
          "2025-08-05T14:45:00-04:00"
         ],
         "xaxis": "x",
         "y": {
          "bdata": "NuRr9wmiuECyhqMHBKC4QA==",
          "dtype": "f8"
         },
         "yaxis": "y"
        },
        {
         "line": {
          "color": "#FF66FE",
          "width": 0.6
         },
         "mode": "lines",
         "name": "HMA",
         "showlegend": false,
         "type": "scatter",
         "x": [
          "2025-08-05T14:45:00-04:00",
          "2025-08-05T14:50:00-04:00"
         ],
         "xaxis": "x",
         "y": {
          "bdata": "soajBwSguEASRBvJMZ64QA==",
          "dtype": "f8"
         },
         "yaxis": "y"
        },
        {
         "line": {
          "color": "#FF66FE",
          "width": 0.6
         },
         "mode": "lines",
         "name": "HMA",
         "showlegend": false,
         "type": "scatter",
         "x": [
          "2025-08-05T14:50:00-04:00",
          "2025-08-05T14:55:00-04:00"
         ],
         "xaxis": "x",
         "y": {
          "bdata": "EkQbyTGeuEBa8hkh7Jy4QA==",
          "dtype": "f8"
         },
         "yaxis": "y"
        },
        {
         "line": {
          "color": "#FF66FE",
          "width": 0.6
         },
         "mode": "lines",
         "name": "HMA",
         "showlegend": false,
         "type": "scatter",
         "x": [
          "2025-08-05T14:55:00-04:00",
          "2025-08-05T15:00:00-04:00"
         ],
         "xaxis": "x",
         "y": {
          "bdata": "WvIZIeycuECQ9Y3cmZy4QA==",
          "dtype": "f8"
         },
         "yaxis": "y"
        },
        {
         "line": {
          "color": "#01FFFF",
          "width": 0.6
         },
         "mode": "lines",
         "name": "HMA",
         "showlegend": false,
         "type": "scatter",
         "x": [
          "2025-08-05T15:00:00-04:00",
          "2025-08-05T15:05:00-04:00"
         ],
         "xaxis": "x",
         "y": {
          "bdata": "kPWN3JmcuEB9M2GS8Zy4QA==",
          "dtype": "f8"
         },
         "yaxis": "y"
        },
        {
         "line": {
          "color": "#01FFFF",
          "width": 0.6
         },
         "mode": "lines",
         "name": "HMA",
         "showlegend": false,
         "type": "scatter",
         "x": [
          "2025-08-05T15:05:00-04:00",
          "2025-08-05T15:10:00-04:00"
         ],
         "xaxis": "x",
         "y": {
          "bdata": "fTNhkvGcuEBYoOoZ2J24QA==",
          "dtype": "f8"
         },
         "yaxis": "y"
        },
        {
         "line": {
          "color": "#01FFFF",
          "width": 0.6
         },
         "mode": "lines",
         "name": "HMA",
         "showlegend": false,
         "type": "scatter",
         "x": [
          "2025-08-05T15:10:00-04:00",
          "2025-08-05T15:15:00-04:00"
         ],
         "xaxis": "x",
         "y": {
          "bdata": "WKDqGdiduECB87fOBp+4QA==",
          "dtype": "f8"
         },
         "yaxis": "y"
        },
        {
         "line": {
          "color": "#01FFFF",
          "width": 0.6
         },
         "mode": "lines",
         "name": "HMA",
         "showlegend": false,
         "type": "scatter",
         "x": [
          "2025-08-05T15:15:00-04:00",
          "2025-08-05T15:20:00-04:00"
         ],
         "xaxis": "x",
         "y": {
          "bdata": "gfO3zgafuEDIbuXwaaC4QA==",
          "dtype": "f8"
         },
         "yaxis": "y"
        },
        {
         "line": {
          "color": "#01FFFF",
          "width": 0.6
         },
         "mode": "lines",
         "name": "HMA",
         "showlegend": false,
         "type": "scatter",
         "x": [
          "2025-08-05T15:20:00-04:00",
          "2025-08-05T15:25:00-04:00"
         ],
         "xaxis": "x",
         "y": {
          "bdata": "yG7l8GmguEDdaDnxyqG4QA==",
          "dtype": "f8"
         },
         "yaxis": "y"
        },
        {
         "line": {
          "color": "#01FFFF",
          "width": 0.6
         },
         "mode": "lines",
         "name": "HMA",
         "showlegend": false,
         "type": "scatter",
         "x": [
          "2025-08-05T15:25:00-04:00",
          "2025-08-05T15:30:00-04:00"
         ],
         "xaxis": "x",
         "y": {
          "bdata": "3Wg58cqhuEBE5MMs7qK4QA==",
          "dtype": "f8"
         },
         "yaxis": "y"
        },
        {
         "line": {
          "color": "#01FFFF",
          "width": 0.6
         },
         "mode": "lines",
         "name": "HMA",
         "showlegend": false,
         "type": "scatter",
         "x": [
          "2025-08-05T15:30:00-04:00",
          "2025-08-05T15:35:00-04:00"
         ],
         "xaxis": "x",
         "y": {
          "bdata": "ROTDLO6iuEBS3HzJgKO4QA==",
          "dtype": "f8"
         },
         "yaxis": "y"
        },
        {
         "line": {
          "color": "#FF66FE",
          "width": 0.6
         },
         "mode": "lines",
         "name": "HMA",
         "showlegend": false,
         "type": "scatter",
         "x": [
          "2025-08-05T15:35:00-04:00",
          "2025-08-05T15:40:00-04:00"
         ],
         "xaxis": "x",
         "y": {
          "bdata": "Utx8yYCjuEBvx9EETqO4QA==",
          "dtype": "f8"
         },
         "yaxis": "y"
        },
        {
         "line": {
          "color": "#FF66FE",
          "width": 0.6
         },
         "mode": "lines",
         "name": "HMA",
         "showlegend": false,
         "type": "scatter",
         "x": [
          "2025-08-05T15:40:00-04:00",
          "2025-08-05T15:45:00-04:00"
         ],
         "xaxis": "x",
         "y": {
          "bdata": "b8fRBE6juEDQ867TZqK4QA==",
          "dtype": "f8"
         },
         "yaxis": "y"
        },
        {
         "line": {
          "color": "#FF66FE",
          "width": 0.6
         },
         "mode": "lines",
         "name": "HMA",
         "showlegend": false,
         "type": "scatter",
         "x": [
          "2025-08-05T15:45:00-04:00",
          "2025-08-05T15:50:00-04:00"
         ],
         "xaxis": "x",
         "y": {
          "bdata": "0POu02aiuEBBZVdILqG4QA==",
          "dtype": "f8"
         },
         "yaxis": "y"
        },
        {
         "line": {
          "color": "#FF66FE",
          "width": 0.6
         },
         "mode": "lines",
         "name": "HMA",
         "showlegend": false,
         "type": "scatter",
         "x": [
          "2025-08-05T15:50:00-04:00",
          "2025-08-05T15:55:00-04:00"
         ],
         "xaxis": "x",
         "y": {
          "bdata": "QWVXSC6huEBBbCoNqZ+4QA==",
          "dtype": "f8"
         },
         "yaxis": "y"
        },
        {
         "line": {
          "color": "#01FFFF",
          "width": 1
         },
         "mode": "lines",
         "name": "MACD (Value)",
         "showlegend": false,
         "type": "scatter",
         "x": [
          "2025-08-05T09:00:00.000000000",
          "2025-08-05T09:05:00.000000000",
          "2025-08-05T09:10:00.000000000",
          "2025-08-05T09:15:00.000000000",
          "2025-08-05T09:20:00.000000000",
          "2025-08-05T09:25:00.000000000",
          "2025-08-05T09:30:00.000000000",
          "2025-08-05T09:35:00.000000000",
          "2025-08-05T09:40:00.000000000",
          "2025-08-05T09:45:00.000000000",
          "2025-08-05T09:50:00.000000000",
          "2025-08-05T09:55:00.000000000",
          "2025-08-05T10:00:00.000000000",
          "2025-08-05T10:05:00.000000000",
          "2025-08-05T10:10:00.000000000",
          "2025-08-05T10:15:00.000000000",
          "2025-08-05T10:20:00.000000000",
          "2025-08-05T10:25:00.000000000",
          "2025-08-05T10:30:00.000000000",
          "2025-08-05T10:35:00.000000000",
          "2025-08-05T10:40:00.000000000",
          "2025-08-05T10:45:00.000000000",
          "2025-08-05T10:50:00.000000000",
          "2025-08-05T10:55:00.000000000",
          "2025-08-05T11:00:00.000000000",
          "2025-08-05T11:05:00.000000000",
          "2025-08-05T11:10:00.000000000",
          "2025-08-05T11:15:00.000000000",
          "2025-08-05T11:20:00.000000000",
          "2025-08-05T11:25:00.000000000",
          "2025-08-05T11:30:00.000000000",
          "2025-08-05T11:35:00.000000000",
          "2025-08-05T11:40:00.000000000",
          "2025-08-05T11:45:00.000000000",
          "2025-08-05T11:50:00.000000000",
          "2025-08-05T11:55:00.000000000",
          "2025-08-05T12:00:00.000000000",
          "2025-08-05T12:05:00.000000000",
          "2025-08-05T12:10:00.000000000",
          "2025-08-05T12:15:00.000000000",
          "2025-08-05T12:20:00.000000000",
          "2025-08-05T12:25:00.000000000",
          "2025-08-05T12:30:00.000000000",
          "2025-08-05T12:35:00.000000000",
          "2025-08-05T12:40:00.000000000",
          "2025-08-05T12:45:00.000000000",
          "2025-08-05T12:50:00.000000000",
          "2025-08-05T12:55:00.000000000",
          "2025-08-05T13:00:00.000000000",
          "2025-08-05T13:05:00.000000000",
          "2025-08-05T13:10:00.000000000",
          "2025-08-05T13:15:00.000000000",
          "2025-08-05T13:20:00.000000000",
          "2025-08-05T13:25:00.000000000",
          "2025-08-05T13:30:00.000000000",
          "2025-08-05T13:35:00.000000000",
          "2025-08-05T13:40:00.000000000",
          "2025-08-05T13:45:00.000000000",
          "2025-08-05T13:50:00.000000000",
          "2025-08-05T13:55:00.000000000",
          "2025-08-05T14:00:00.000000000",
          "2025-08-05T14:05:00.000000000",
          "2025-08-05T14:10:00.000000000",
          "2025-08-05T14:15:00.000000000",
          "2025-08-05T14:20:00.000000000",
          "2025-08-05T14:25:00.000000000",
          "2025-08-05T14:30:00.000000000",
          "2025-08-05T14:35:00.000000000",
          "2025-08-05T14:40:00.000000000",
          "2025-08-05T14:45:00.000000000",
          "2025-08-05T14:50:00.000000000",
          "2025-08-05T14:55:00.000000000",
          "2025-08-05T15:00:00.000000000",
          "2025-08-05T15:05:00.000000000",
          "2025-08-05T15:10:00.000000000",
          "2025-08-05T15:15:00.000000000",
          "2025-08-05T15:20:00.000000000",
          "2025-08-05T15:25:00.000000000",
          "2025-08-05T15:30:00.000000000",
          "2025-08-05T15:35:00.000000000",
          "2025-08-05T15:40:00.000000000",
          "2025-08-05T15:45:00.000000000",
          "2025-08-05T15:50:00.000000000",
          "2025-08-05T15:55:00.000000000"
         ],
         "xaxis": "x2",
         "y": {
          "bdata": "AAAAAAAAcL0AAAAAAABwvQAAAAAAAHC9AAAAAAAAcL0AAAAAAABwvQAAAAAAAHC9AIBkOHVCxj8AMLGjhHHwPwBAq9gULPk/ABi6JvNsAUAAaJ6BnC0FQAC4zUA9mQVAAJCfHp8d+z8AwEI2TUjtPwAAnHv3HKW/AIAa+cC16r8AmMuH+Q0AwACYmRskwAXAAFCIBRN/DsAAyIrx0xsUwABUapOuThrAABavRIeXIMAAaglUw5IiwADAMOXvCCPAAHIzXaG7IsAAYPexAfEhwABo6c380yDAAELXcWlpIMAA3oZBm0UgwADkMIcm/R/AAGDmh7wdH8AA3Mt+BGIfwADANxzHAh/AAICKZpA6HsAAAC8/FAAdwADwuMSLlRrAABjtgSOpF8AAJJGSTqMUwADYDFZVcxHAABiBkR7bC8AASJwbhIcGwADoEUXohQDAAMATVK6E878A4McYdzPqvwCANClxJuy/ADCMNDr08r8AoKY5Ho7mvwBA+iLQc9y/AMDnKArD0L8AAMZBQampPwAAyrrniNg/AKA99Nqy5z8AgEOkTA3wPwAgj79r7/c/APCftJmj/D8A2Dy0LrECQACge6iihQVAAAg86f//CEAAUJixeWgLQAC4sH/ktgxAAGA2XEE5DEAAoD3JZKEKQACw/auPiwZAAJB737Mn/z8A8IeeYTHzPwDAKboahN8/AACJwZuHt78AAIm85QnjvwCg768UavG/AHCo1Twv978AwNmCvPb+vwDw5LYiGgHAAJDe4z6r/78AgGvIrBn+vwCgX5bO7vq/ABD9t5Oy978AoMExKPfyvwBANnSnt++/AGBlT2Vs7b8AUHEagyTxvwAA+BcrlPa/AHBTDTZ4/L8AAEELmZz/vwBAjrBrUQLA",
          "dtype": "f8"
         },
         "yaxis": "y2"
        },
        {
         "line": {
          "color": "#F8E9A6",
          "width": 1
         },
         "mode": "lines",
         "name": "Signal (avg)",
         "showlegend": false,
         "type": "scatter",
         "x": [
          "2025-08-05T09:00:00.000000000",
          "2025-08-05T09:05:00.000000000",
          "2025-08-05T09:10:00.000000000",
          "2025-08-05T09:15:00.000000000",
          "2025-08-05T09:20:00.000000000",
          "2025-08-05T09:25:00.000000000",
          "2025-08-05T09:30:00.000000000",
          "2025-08-05T09:35:00.000000000",
          "2025-08-05T09:40:00.000000000",
          "2025-08-05T09:45:00.000000000",
          "2025-08-05T09:50:00.000000000",
          "2025-08-05T09:55:00.000000000",
          "2025-08-05T10:00:00.000000000",
          "2025-08-05T10:05:00.000000000",
          "2025-08-05T10:10:00.000000000",
          "2025-08-05T10:15:00.000000000",
          "2025-08-05T10:20:00.000000000",
          "2025-08-05T10:25:00.000000000",
          "2025-08-05T10:30:00.000000000",
          "2025-08-05T10:35:00.000000000",
          "2025-08-05T10:40:00.000000000",
          "2025-08-05T10:45:00.000000000",
          "2025-08-05T10:50:00.000000000",
          "2025-08-05T10:55:00.000000000",
          "2025-08-05T11:00:00.000000000",
          "2025-08-05T11:05:00.000000000",
          "2025-08-05T11:10:00.000000000",
          "2025-08-05T11:15:00.000000000",
          "2025-08-05T11:20:00.000000000",
          "2025-08-05T11:25:00.000000000",
          "2025-08-05T11:30:00.000000000",
          "2025-08-05T11:35:00.000000000",
          "2025-08-05T11:40:00.000000000",
          "2025-08-05T11:45:00.000000000",
          "2025-08-05T11:50:00.000000000",
          "2025-08-05T11:55:00.000000000",
          "2025-08-05T12:00:00.000000000",
          "2025-08-05T12:05:00.000000000",
          "2025-08-05T12:10:00.000000000",
          "2025-08-05T12:15:00.000000000",
          "2025-08-05T12:20:00.000000000",
          "2025-08-05T12:25:00.000000000",
          "2025-08-05T12:30:00.000000000",
          "2025-08-05T12:35:00.000000000",
          "2025-08-05T12:40:00.000000000",
          "2025-08-05T12:45:00.000000000",
          "2025-08-05T12:50:00.000000000",
          "2025-08-05T12:55:00.000000000",
          "2025-08-05T13:00:00.000000000",
          "2025-08-05T13:05:00.000000000",
          "2025-08-05T13:10:00.000000000",
          "2025-08-05T13:15:00.000000000",
          "2025-08-05T13:20:00.000000000",
          "2025-08-05T13:25:00.000000000",
          "2025-08-05T13:30:00.000000000",
          "2025-08-05T13:35:00.000000000",
          "2025-08-05T13:40:00.000000000",
          "2025-08-05T13:45:00.000000000",
          "2025-08-05T13:50:00.000000000",
          "2025-08-05T13:55:00.000000000",
          "2025-08-05T14:00:00.000000000",
          "2025-08-05T14:05:00.000000000",
          "2025-08-05T14:10:00.000000000",
          "2025-08-05T14:15:00.000000000",
          "2025-08-05T14:20:00.000000000",
          "2025-08-05T14:25:00.000000000",
          "2025-08-05T14:30:00.000000000",
          "2025-08-05T14:35:00.000000000",
          "2025-08-05T14:40:00.000000000",
          "2025-08-05T14:45:00.000000000",
          "2025-08-05T14:50:00.000000000",
          "2025-08-05T14:55:00.000000000",
          "2025-08-05T15:00:00.000000000",
          "2025-08-05T15:05:00.000000000",
          "2025-08-05T15:10:00.000000000",
          "2025-08-05T15:15:00.000000000",
          "2025-08-05T15:20:00.000000000",
          "2025-08-05T15:25:00.000000000",
          "2025-08-05T15:30:00.000000000",
          "2025-08-05T15:35:00.000000000",
          "2025-08-05T15:40:00.000000000",
          "2025-08-05T15:45:00.000000000",
          "2025-08-05T15:50:00.000000000",
          "2025-08-05T15:55:00.000000000"
         ],
         "xaxis": "x2",
         "y": {
          "bdata": "mpmZmZmZSb0L16NwPQpXvQmsHFpkO1+9at5xio7kYr2IS447pYNlvToJpS+EnGe9+QQcLcTOoT/MTVR1+97NPykpIm4HC+A/ITSwEGLG6j+ocR/UZS7zP1Rxa5AD/Pc/d3cP4FWc+D/GcnkF5p32P9L7NEUj9vE/6hLpPHhl5z9SiZFDYn7HPxKJu6pFZ9m/BNUo8XtH8b+efVy1DOn9vwyHT1CxfAbAPRcyd2BDD8CyM36EQe8TwCh2eJLHjxfA7VjbAK1XGsC+oEWuJEAcwMxDyN3oVB3ACrdcRbEHHsDWhOaEZYgewBLLW4Xy0h7ADxwRuefhHsBAD9ATh/sewACZsUj6/B7ANMepThjWHsAqbMR+F3gewFVT9b8usR3AeEeNs198HMBhQMF5j+oawE74aT/qBRnApuIUDtjNFsBRidPaBn8UwNrR97WcDBLAKhYoxaXUDsBVQ13FffkJwBEJWkbqLwbAp6XvoyelA8AgpqGfB9gAwGfzWzRwX/y/U4y7eE2J979DAGArL6vyvwaauLKaauu/n8HtKoMx4b9jOPPo9VXNv2A/q1bPp70/FDOibqTX3D+iJwtWmn3qP3TpNcx+NPM/9r3cMzJd+T+SUbqjJUH/P25F1CejPgJAJbG0mI89BEBRRwM8uoQFQHSPaFJLuQVAxJp5C5t+BEAER9Vln1ACQKAhpJIz4f4/Gv4Xtt1o+D9JS9L+s5/xPw/SIx5+O+U/lobLPTLZzj9WlLlsBd3Iv94QqUGDp+K/THoT9k6X67+4fVBXdQ7xv5SEU8ogCPO/RG11kwT3878EEet/2MPzvzZHjovX+/K/Xo+V9xwh8r9MHFvLl+7xv3Dj4A2C3PK/9GWR2nLI9L9dHk7k4PL2v7H+EMqrr/m/",
          "dtype": "f8"
         },
         "yaxis": "y2"
        },
        {
         "marker": {
          "color": [
           "#FE0000",
           "#7E0100",
           "#7E0100",
           "#7E0100",
           "#7E0100",
           "#7E0100",
           "#04FE00",
           "#04FE00",
           "#04FE00",
           "#04FE00",
           "#04FE00",
           "#006401",
           "#006401",
           "#FE0000",
           "#FE0000",
           "#FE0000",
           "#FE0000",
           "#FE0000",
           "#FE0000",
           "#FE0000",
           "#FE0000",
           "#FE0000",
           "#7E0100",
           "#7E0100",
           "#7E0100",
           "#7E0100",
           "#7E0100",
           "#7E0100",
           "#7E0100",
           "#7E0100",
           "#7E0100",
           "#FE0000",
           "#7E0100",
           "#04FE00",
           "#04FE00",
           "#04FE00",
           "#04FE00",
           "#04FE00",
           "#04FE00",
           "#04FE00",
           "#04FE00",
           "#04FE00",
           "#04FE00",
           "#006401",
           "#006401",
           "#006401",
           "#04FE00",
           "#006401",
           "#006401",
           "#04FE00",
           "#04FE00",
           "#04FE00",
           "#006401",
           "#04FE00",
           "#006401",
           "#04FE00",
           "#006401",
           "#04FE00",
           "#006401",
           "#006401",
           "#006401",
           "#006401",
           "#006401",
           "#FE0000",
           "#FE0000",
           "#FE0000",
           "#FE0000",
           "#FE0000",
           "#FE0000",
           "#7E0100",
           "#FE0000",
           "#7E0100",
           "#7E0100",
           "#7E0100",
           "#7E0100",
           "#7E0100",
           "#04FE00",
           "#04FE00",
           "#04FE00",
           "#006401",
           "#FE0000",
           "#FE0000",
           "#FE0000",
           "#FE0000"
          ]
         },
         "name": "Histogram (diff)",
         "showlegend": false,
         "type": "bar",
         "x": [
          "2025-08-05T09:00:00.000000000",
          "2025-08-05T09:05:00.000000000",
          "2025-08-05T09:10:00.000000000",
          "2025-08-05T09:15:00.000000000",
          "2025-08-05T09:20:00.000000000",
          "2025-08-05T09:25:00.000000000",
          "2025-08-05T09:30:00.000000000",
          "2025-08-05T09:35:00.000000000",
          "2025-08-05T09:40:00.000000000",
          "2025-08-05T09:45:00.000000000",
          "2025-08-05T09:50:00.000000000",
          "2025-08-05T09:55:00.000000000",
          "2025-08-05T10:00:00.000000000",
          "2025-08-05T10:05:00.000000000",
          "2025-08-05T10:10:00.000000000",
          "2025-08-05T10:15:00.000000000",
          "2025-08-05T10:20:00.000000000",
          "2025-08-05T10:25:00.000000000",
          "2025-08-05T10:30:00.000000000",
          "2025-08-05T10:35:00.000000000",
          "2025-08-05T10:40:00.000000000",
          "2025-08-05T10:45:00.000000000",
          "2025-08-05T10:50:00.000000000",
          "2025-08-05T10:55:00.000000000",
          "2025-08-05T11:00:00.000000000",
          "2025-08-05T11:05:00.000000000",
          "2025-08-05T11:10:00.000000000",
          "2025-08-05T11:15:00.000000000",
          "2025-08-05T11:20:00.000000000",
          "2025-08-05T11:25:00.000000000",
          "2025-08-05T11:30:00.000000000",
          "2025-08-05T11:35:00.000000000",
          "2025-08-05T11:40:00.000000000",
          "2025-08-05T11:45:00.000000000",
          "2025-08-05T11:50:00.000000000",
          "2025-08-05T11:55:00.000000000",
          "2025-08-05T12:00:00.000000000",
          "2025-08-05T12:05:00.000000000",
          "2025-08-05T12:10:00.000000000",
          "2025-08-05T12:15:00.000000000",
          "2025-08-05T12:20:00.000000000",
          "2025-08-05T12:25:00.000000000",
          "2025-08-05T12:30:00.000000000",
          "2025-08-05T12:35:00.000000000",
          "2025-08-05T12:40:00.000000000",
          "2025-08-05T12:45:00.000000000",
          "2025-08-05T12:50:00.000000000",
          "2025-08-05T12:55:00.000000000",
          "2025-08-05T13:00:00.000000000",
          "2025-08-05T13:05:00.000000000",
          "2025-08-05T13:10:00.000000000",
          "2025-08-05T13:15:00.000000000",
          "2025-08-05T13:20:00.000000000",
          "2025-08-05T13:25:00.000000000",
          "2025-08-05T13:30:00.000000000",
          "2025-08-05T13:35:00.000000000",
          "2025-08-05T13:40:00.000000000",
          "2025-08-05T13:45:00.000000000",
          "2025-08-05T13:50:00.000000000",
          "2025-08-05T13:55:00.000000000",
          "2025-08-05T14:00:00.000000000",
          "2025-08-05T14:05:00.000000000",
          "2025-08-05T14:10:00.000000000",
          "2025-08-05T14:15:00.000000000",
          "2025-08-05T14:20:00.000000000",
          "2025-08-05T14:25:00.000000000",
          "2025-08-05T14:30:00.000000000",
          "2025-08-05T14:35:00.000000000",
          "2025-08-05T14:40:00.000000000",
          "2025-08-05T14:45:00.000000000",
          "2025-08-05T14:50:00.000000000",
          "2025-08-05T14:55:00.000000000",
          "2025-08-05T15:00:00.000000000",
          "2025-08-05T15:05:00.000000000",
          "2025-08-05T15:10:00.000000000",
          "2025-08-05T15:15:00.000000000",
          "2025-08-05T15:20:00.000000000",
          "2025-08-05T15:25:00.000000000",
          "2025-08-05T15:30:00.000000000",
          "2025-08-05T15:35:00.000000000",
          "2025-08-05T15:40:00.000000000",
          "2025-08-05T15:45:00.000000000",
          "2025-08-05T15:50:00.000000000",
          "2025-08-05T15:55:00.000000000"
         ],
         "xaxis": "x2",
         "y": {
          "bdata": "mpmZmZmZab16FK5H4Xpkvfyp8dJNYmC9LEMc6+I2Wr3waOOItfhUvYzttaD3xlC9wn4dLcTOwT+NTA1qSmvpP2wrmiGRJvE/8BUcRbV29T9YXh0v0yz3P6z+L/F2NvM/SMSA9EkKxD8YS2Cp/ebfv9LbEQELn/K/dckBm5wN+b+VsASs34UBwN4mQmY7kwLAfuXzDFXbBcAxUWeIIUMJwPQghdarIA7AYiDFTV6NEcBOoJQjRTYRwLAT0m8wBA3AJhYXcys/BsAIfaTWeof+v9AwKvhCTPG/sGeO8gxZ5r9QuTnxhxbgv+COUR1Ao9K/gPihamfqrb8AMPO+Wp+5vwAAnBhOM3e/gOboA/1wwz+gwlb5M4DXP6ga49kX3eg/4L2AxvBM8z+EccCcAx35PziBdKVTSv4/TK2oipHAAUCiygqaiXYCQLS73SZRkwNAKjYem04SBUBVSyv/n2wDQCLSGfibTP4/ThtTExVW9D9A/G8iAGn2P2djnSt8QvU/U5yB7opY8z9DMG41eXjzPwPNDkiH1/M/0LCVDy9y9D8M52FhC7jzPwpsJMruFPY/O2P3mLBt9T8vHHQ9kCP4P4xWwYTG1vc/ClKbns2i+D9uTna/zY/3PyTluK+C8PQ/bLsGDsfu7z+8Yuk0qnLkP4ARpDKLSLo/EEvvbgSr478IniIt3W/xv6CxGeQsAPe/Go4wclfh+b9JyxbdpiT7vwiJAb/TB/y/0+BhHWMK+791jULVG9v7v5FX9cyD4Pi/2tLUaJff8b+QBDbibhbqv7BtMDC3mt+/4BU9JHnczb+AIC7FCZapP7A5mYseAMk/8PoWf1JXyz+AiTkdlkKpP4DkuFBIvc2/MCgIywy/3r9Gw+VNcFPhv54CFy5X5uW/",
          "dtype": "f8"
         },
         "yaxis": "y2"
        }
       ],
       "layout": {
        "annotations": [
         {
          "bgcolor": "rgba(25,25,25,0.7)",
          "bordercolor": "#FF66FE",
          "borderpad": 4,
          "borderwidth": 1,
          "font": {
           "color": "#FF66FE",
           "family": "Arial, sans-serif",
           "size": 10.5
          },
          "showarrow": false,
          "text": "prior close",
          "x": "2025-08-05T09:00:00-04:00",
          "xanchor": "left",
          "xref": "x",
          "y": 6329.94,
          "yanchor": "bottom",
          "yref": "y"
         },
         {
          "bgcolor": "rgba(25,25,25,0.7)",
          "bordercolor": "#4CAF50",
          "borderpad": 4,
          "borderwidth": 1,
          "font": {
           "color": "#4CAF50",
           "family": "Arial, sans-serif",
           "size": 10.5
          },
          "showarrow": false,
          "text": "prior high",
          "x": "2025-08-05T09:00:00-04:00",
          "xanchor": "left",
          "xref": "x",
          "y": 6330.69,
          "yanchor": "bottom",
          "yref": "y"
         },
         {
          "bgcolor": "rgba(25,25,25,0.7)",
          "bordercolor": "#F44336",
          "borderpad": 4,
          "borderwidth": 1,
          "font": {
           "color": "#F44336",
           "family": "Arial, sans-serif",
           "size": 10.5
          },
          "showarrow": false,
          "text": "prior low",
          "x": "2025-08-05T09:00:00-04:00",
          "xanchor": "left",
          "xref": "x",
          "y": 6271.71,
          "yanchor": "bottom",
          "yref": "y"
         }
        ],
        "height": 800,
        "margin": {
         "b": 10,
         "l": 30,
         "r": 5,
         "t": 50
        },
        "paper_bgcolor": "rgb(25,25,25)",
        "plot_bgcolor": "rgb(25,25,25)",
        "shapes": [
         {
          "line": {
           "color": "gray",
           "dash": "dot",
           "width": 1
          },
          "type": "line",
          "x0": "2025-08-05T09:00:00-04:00",
          "x1": "2025-08-05T16:15:00-04:00",
          "xref": "x2",
          "y0": 0,
          "y1": 0,
          "yref": "y2"
         },
         {
          "line": {
           "color": "#FF66FE",
           "dash": "dot",
           "width": 1
          },
          "opacity": 0.45,
          "type": "line",
          "x0": "2025-08-05T09:00:00-04:00",
          "x1": "2025-08-05T16:15:00-04:00",
          "xref": "x",
          "y0": 6329.94,
          "y1": 6329.94,
          "yref": "y"
         },
         {
          "line": {
           "color": "#4CAF50",
           "dash": "dot",
           "width": 1
          },
          "opacity": 0.45,
          "type": "line",
          "x0": "2025-08-05T09:00:00-04:00",
          "x1": "2025-08-05T16:15:00-04:00",
          "xref": "x",
          "y0": 6330.69,
          "y1": 6330.69,
          "yref": "y"
         },
         {
          "line": {
           "color": "#F44336",
           "dash": "dot",
           "width": 1
          },
          "opacity": 0.45,
          "type": "line",
          "x0": "2025-08-05T09:00:00-04:00",
          "x1": "2025-08-05T16:15:00-04:00",
          "xref": "x",
          "y0": 6271.71,
          "y1": 6271.71,
          "yref": "y"
         },
         {
          "line": {
           "color": "#4CAF50",
           "dash": "solid",
           "width": 1
          },
          "opacity": 0.75,
          "type": "line",
          "x0": "2025-08-05T09:30:00-04:00",
          "x1": "2025-08-05T16:15:00-04:00",
          "xref": "x",
          "y0": 6338.13,
          "y1": 6338.13,
          "yref": "y"
         },
         {
          "line": {
           "color": "#4CAF50",
           "dash": "solid",
           "width": 1
          },
          "opacity": 0.75,
          "type": "line",
          "x0": "2025-08-05T09:30:00-04:00",
          "x1": "2025-08-05T16:15:00-04:00",
          "xref": "x",
          "y0": 6331.72,
          "y1": 6331.72,
          "yref": "y"
         },
         {
          "line": {
           "color": "#4CAF50",
           "dash": "solid",
           "width": 1
          },
          "opacity": 0.45,
          "type": "line",
          "x0": "2025-08-05T09:45:00-04:00",
          "x1": "2025-08-05T16:15:00-04:00",
          "xref": "x",
          "y0": 6342.94,
          "y1": 6342.94,
          "yref": "y"
         },
         {
          "line": {
           "color": "#4CAF50",
           "dash": "solid",
           "width": 1
          },
          "opacity": 0,
          "type": "line",
          "x0": "2025-08-05T09:45:00-04:00",
          "x1": "2025-08-05T16:15:00-04:00",
          "xref": "x",
          "y0": 6331.72,
          "y1": 6331.72,
          "yref": "y"
         },
         {
          "line": {
           "color": "#4CAF50",
           "dash": "dot",
           "width": 1
          },
          "opacity": 0.45,
          "type": "line",
          "x0": "2025-08-05T10:00:00-04:00",
          "x1": "2025-08-05T16:15:00-04:00",
          "xref": "x",
          "y0": 6346,
          "y1": 6346,
          "yref": "y"
         },
         {
          "line": {
           "color": "#4CAF50",
           "dash": "dot",
           "width": 1
          },
          "opacity": 0,
          "type": "line",
          "x0": "2025-08-05T10:00:00-04:00",
          "x1": "2025-08-05T16:15:00-04:00",
          "xref": "x",
          "y0": 6331.72,
          "y1": 6331.72,
          "yref": "y"
         },
         {
          "line": {
           "color": "#4CAF50",
           "dash": "dot",
           "width": 1
          },
          "opacity": 0,
          "type": "line",
          "x0": "2025-08-05T10:00:00-04:00",
          "x1": "2025-08-05T16:15:00-04:00",
          "xref": "x",
          "y0": 6331.72,
          "y1": 6331.72,
          "yref": "y"
         }
        ],
        "showlegend": true,
        "template": {
         "data": {
          "bar": [
           {
            "error_x": {
             "color": "#f2f5fa"
            },
            "error_y": {
             "color": "#f2f5fa"
            },
            "marker": {
             "line": {
              "color": "rgb(17,17,17)",
              "width": 0.5
             },
             "pattern": {
              "fillmode": "overlay",
              "size": 10,
              "solidity": 0.2
             }
            },
            "type": "bar"
           }
          ],
          "barpolar": [
           {
            "marker": {
             "line": {
              "color": "rgb(17,17,17)",
              "width": 0.5
             },
             "pattern": {
              "fillmode": "overlay",
              "size": 10,
              "solidity": 0.2
             }
            },
            "type": "barpolar"
           }
          ],
          "carpet": [
           {
            "aaxis": {
             "endlinecolor": "#A2B1C6",
             "gridcolor": "#506784",
             "linecolor": "#506784",
             "minorgridcolor": "#506784",
             "startlinecolor": "#A2B1C6"
            },
            "baxis": {
             "endlinecolor": "#A2B1C6",
             "gridcolor": "#506784",
             "linecolor": "#506784",
             "minorgridcolor": "#506784",
             "startlinecolor": "#A2B1C6"
            },
            "type": "carpet"
           }
          ],
          "choropleth": [
           {
            "colorbar": {
             "outlinewidth": 0,
             "ticks": ""
            },
            "type": "choropleth"
           }
          ],
          "contour": [
           {
            "colorbar": {
             "outlinewidth": 0,
             "ticks": ""
            },
            "colorscale": [
             [
              0,
              "#0d0887"
             ],
             [
              0.1111111111111111,
              "#46039f"
             ],
             [
              0.2222222222222222,
              "#7201a8"
             ],
             [
              0.3333333333333333,
              "#9c179e"
             ],
             [
              0.4444444444444444,
              "#bd3786"
             ],
             [
              0.5555555555555556,
              "#d8576b"
             ],
             [
              0.6666666666666666,
              "#ed7953"
             ],
             [
              0.7777777777777778,
              "#fb9f3a"
             ],
             [
              0.8888888888888888,
              "#fdca26"
             ],
             [
              1,
              "#f0f921"
             ]
            ],
            "type": "contour"
           }
          ],
          "contourcarpet": [
           {
            "colorbar": {
             "outlinewidth": 0,
             "ticks": ""
            },
            "type": "contourcarpet"
           }
          ],
          "heatmap": [
           {
            "colorbar": {
             "outlinewidth": 0,
             "ticks": ""
            },
            "colorscale": [
             [
              0,
              "#0d0887"
             ],
             [
              0.1111111111111111,
              "#46039f"
             ],
             [
              0.2222222222222222,
              "#7201a8"
             ],
             [
              0.3333333333333333,
              "#9c179e"
             ],
             [
              0.4444444444444444,
              "#bd3786"
             ],
             [
              0.5555555555555556,
              "#d8576b"
             ],
             [
              0.6666666666666666,
              "#ed7953"
             ],
             [
              0.7777777777777778,
              "#fb9f3a"
             ],
             [
              0.8888888888888888,
              "#fdca26"
             ],
             [
              1,
              "#f0f921"
             ]
            ],
            "type": "heatmap"
           }
          ],
          "histogram": [
           {
            "marker": {
             "pattern": {
              "fillmode": "overlay",
              "size": 10,
              "solidity": 0.2
             }
            },
            "type": "histogram"
           }
          ],
          "histogram2d": [
           {
            "colorbar": {
             "outlinewidth": 0,
             "ticks": ""
            },
            "colorscale": [
             [
              0,
              "#0d0887"
             ],
             [
              0.1111111111111111,
              "#46039f"
             ],
             [
              0.2222222222222222,
              "#7201a8"
             ],
             [
              0.3333333333333333,
              "#9c179e"
             ],
             [
              0.4444444444444444,
              "#bd3786"
             ],
             [
              0.5555555555555556,
              "#d8576b"
             ],
             [
              0.6666666666666666,
              "#ed7953"
             ],
             [
              0.7777777777777778,
              "#fb9f3a"
             ],
             [
              0.8888888888888888,
              "#fdca26"
             ],
             [
              1,
              "#f0f921"
             ]
            ],
            "type": "histogram2d"
           }
          ],
          "histogram2dcontour": [
           {
            "colorbar": {
             "outlinewidth": 0,
             "ticks": ""
            },
            "colorscale": [
             [
              0,
              "#0d0887"
             ],
             [
              0.1111111111111111,
              "#46039f"
             ],
             [
              0.2222222222222222,
              "#7201a8"
             ],
             [
              0.3333333333333333,
              "#9c179e"
             ],
             [
              0.4444444444444444,
              "#bd3786"
             ],
             [
              0.5555555555555556,
              "#d8576b"
             ],
             [
              0.6666666666666666,
              "#ed7953"
             ],
             [
              0.7777777777777778,
              "#fb9f3a"
             ],
             [
              0.8888888888888888,
              "#fdca26"
             ],
             [
              1,
              "#f0f921"
             ]
            ],
            "type": "histogram2dcontour"
           }
          ],
          "mesh3d": [
           {
            "colorbar": {
             "outlinewidth": 0,
             "ticks": ""
            },
            "type": "mesh3d"
           }
          ],
          "parcoords": [
           {
            "line": {
             "colorbar": {
              "outlinewidth": 0,
              "ticks": ""
             }
            },
            "type": "parcoords"
           }
          ],
          "pie": [
           {
            "automargin": true,
            "type": "pie"
           }
          ],
          "scatter": [
           {
            "marker": {
             "line": {
              "color": "#283442"
             }
            },
            "type": "scatter"
           }
          ],
          "scatter3d": [
           {
            "line": {
             "colorbar": {
              "outlinewidth": 0,
              "ticks": ""
             }
            },
            "marker": {
             "colorbar": {
              "outlinewidth": 0,
              "ticks": ""
             }
            },
            "type": "scatter3d"
           }
          ],
          "scattercarpet": [
           {
            "marker": {
             "colorbar": {
              "outlinewidth": 0,
              "ticks": ""
             }
            },
            "type": "scattercarpet"
           }
          ],
          "scattergeo": [
           {
            "marker": {
             "colorbar": {
              "outlinewidth": 0,
              "ticks": ""
             }
            },
            "type": "scattergeo"
           }
          ],
          "scattergl": [
           {
            "marker": {
             "line": {
              "color": "#283442"
             }
            },
            "type": "scattergl"
           }
          ],
          "scattermap": [
           {
            "marker": {
             "colorbar": {
              "outlinewidth": 0,
              "ticks": ""
             }
            },
            "type": "scattermap"
           }
          ],
          "scattermapbox": [
           {
            "marker": {
             "colorbar": {
              "outlinewidth": 0,
              "ticks": ""
             }
            },
            "type": "scattermapbox"
           }
          ],
          "scatterpolar": [
           {
            "marker": {
             "colorbar": {
              "outlinewidth": 0,
              "ticks": ""
             }
            },
            "type": "scatterpolar"
           }
          ],
          "scatterpolargl": [
           {
            "marker": {
             "colorbar": {
              "outlinewidth": 0,
              "ticks": ""
             }
            },
            "type": "scatterpolargl"
           }
          ],
          "scatterternary": [
           {
            "marker": {
             "colorbar": {
              "outlinewidth": 0,
              "ticks": ""
             }
            },
            "type": "scatterternary"
           }
          ],
          "surface": [
           {
            "colorbar": {
             "outlinewidth": 0,
             "ticks": ""
            },
            "colorscale": [
             [
              0,
              "#0d0887"
             ],
             [
              0.1111111111111111,
              "#46039f"
             ],
             [
              0.2222222222222222,
              "#7201a8"
             ],
             [
              0.3333333333333333,
              "#9c179e"
             ],
             [
              0.4444444444444444,
              "#bd3786"
             ],
             [
              0.5555555555555556,
              "#d8576b"
             ],
             [
              0.6666666666666666,
              "#ed7953"
             ],
             [
              0.7777777777777778,
              "#fb9f3a"
             ],
             [
              0.8888888888888888,
              "#fdca26"
             ],
             [
              1,
              "#f0f921"
             ]
            ],
            "type": "surface"
           }
          ],
          "table": [
           {
            "cells": {
             "fill": {
              "color": "#506784"
             },
             "line": {
              "color": "rgb(17,17,17)"
             }
            },
            "header": {
             "fill": {
              "color": "#2a3f5f"
             },
             "line": {
              "color": "rgb(17,17,17)"
             }
            },
            "type": "table"
           }
          ]
         },
         "layout": {
          "annotationdefaults": {
           "arrowcolor": "#f2f5fa",
           "arrowhead": 0,
           "arrowwidth": 1
          },
          "autotypenumbers": "strict",
          "coloraxis": {
           "colorbar": {
            "outlinewidth": 0,
            "ticks": ""
           }
          },
          "colorscale": {
           "diverging": [
            [
             0,
             "#8e0152"
            ],
            [
             0.1,
             "#c51b7d"
            ],
            [
             0.2,
             "#de77ae"
            ],
            [
             0.3,
             "#f1b6da"
            ],
            [
             0.4,
             "#fde0ef"
            ],
            [
             0.5,
             "#f7f7f7"
            ],
            [
             0.6,
             "#e6f5d0"
            ],
            [
             0.7,
             "#b8e186"
            ],
            [
             0.8,
             "#7fbc41"
            ],
            [
             0.9,
             "#4d9221"
            ],
            [
             1,
             "#276419"
            ]
           ],
           "sequential": [
            [
             0,
             "#0d0887"
            ],
            [
             0.1111111111111111,
             "#46039f"
            ],
            [
             0.2222222222222222,
             "#7201a8"
            ],
            [
             0.3333333333333333,
             "#9c179e"
            ],
            [
             0.4444444444444444,
             "#bd3786"
            ],
            [
             0.5555555555555556,
             "#d8576b"
            ],
            [
             0.6666666666666666,
             "#ed7953"
            ],
            [
             0.7777777777777778,
             "#fb9f3a"
            ],
            [
             0.8888888888888888,
             "#fdca26"
            ],
            [
             1,
             "#f0f921"
            ]
           ],
           "sequentialminus": [
            [
             0,
             "#0d0887"
            ],
            [
             0.1111111111111111,
             "#46039f"
            ],
            [
             0.2222222222222222,
             "#7201a8"
            ],
            [
             0.3333333333333333,
             "#9c179e"
            ],
            [
             0.4444444444444444,
             "#bd3786"
            ],
            [
             0.5555555555555556,
             "#d8576b"
            ],
            [
             0.6666666666666666,
             "#ed7953"
            ],
            [
             0.7777777777777778,
             "#fb9f3a"
            ],
            [
             0.8888888888888888,
             "#fdca26"
            ],
            [
             1,
             "#f0f921"
            ]
           ]
          },
          "colorway": [
           "#636efa",
           "#EF553B",
           "#00cc96",
           "#ab63fa",
           "#FFA15A",
           "#19d3f3",
           "#FF6692",
           "#B6E880",
           "#FF97FF",
           "#FECB52"
          ],
          "font": {
           "color": "#f2f5fa"
          },
          "geo": {
           "bgcolor": "rgb(17,17,17)",
           "lakecolor": "rgb(17,17,17)",
           "landcolor": "rgb(17,17,17)",
           "showlakes": true,
           "showland": true,
           "subunitcolor": "#506784"
          },
          "hoverlabel": {
           "align": "left"
          },
          "hovermode": "closest",
          "mapbox": {
           "style": "dark"
          },
          "paper_bgcolor": "rgb(17,17,17)",
          "plot_bgcolor": "rgb(17,17,17)",
          "polar": {
           "angularaxis": {
            "gridcolor": "#506784",
            "linecolor": "#506784",
            "ticks": ""
           },
           "bgcolor": "rgb(17,17,17)",
           "radialaxis": {
            "gridcolor": "#506784",
            "linecolor": "#506784",
            "ticks": ""
           }
          },
          "scene": {
           "xaxis": {
            "backgroundcolor": "rgb(17,17,17)",
            "gridcolor": "#506784",
            "gridwidth": 2,
            "linecolor": "#506784",
            "showbackground": true,
            "ticks": "",
            "zerolinecolor": "#C8D4E3"
           },
           "yaxis": {
            "backgroundcolor": "rgb(17,17,17)",
            "gridcolor": "#506784",
            "gridwidth": 2,
            "linecolor": "#506784",
            "showbackground": true,
            "ticks": "",
            "zerolinecolor": "#C8D4E3"
           },
           "zaxis": {
            "backgroundcolor": "rgb(17,17,17)",
            "gridcolor": "#506784",
            "gridwidth": 2,
            "linecolor": "#506784",
            "showbackground": true,
            "ticks": "",
            "zerolinecolor": "#C8D4E3"
           }
          },
          "shapedefaults": {
           "line": {
            "color": "#f2f5fa"
           }
          },
          "sliderdefaults": {
           "bgcolor": "#C8D4E3",
           "bordercolor": "rgb(17,17,17)",
           "borderwidth": 1,
           "tickwidth": 0
          },
          "ternary": {
           "aaxis": {
            "gridcolor": "#506784",
            "linecolor": "#506784",
            "ticks": ""
           },
           "baxis": {
            "gridcolor": "#506784",
            "linecolor": "#506784",
            "ticks": ""
           },
           "bgcolor": "rgb(17,17,17)",
           "caxis": {
            "gridcolor": "#506784",
            "linecolor": "#506784",
            "ticks": ""
           }
          },
          "title": {
           "x": 0.05
          },
          "updatemenudefaults": {
           "bgcolor": "#506784",
           "borderwidth": 0
          },
          "xaxis": {
           "automargin": true,
           "gridcolor": "#283442",
           "linecolor": "#506784",
           "ticks": "",
           "title": {
            "standoff": 15
           },
           "zerolinecolor": "#283442",
           "zerolinewidth": 2
          },
          "yaxis": {
           "automargin": true,
           "gridcolor": "#283442",
           "linecolor": "#506784",
           "ticks": "",
           "title": {
            "standoff": 15
           },
           "zerolinecolor": "#283442",
           "zerolinewidth": 2
          }
         }
        },
        "xaxis": {
         "anchor": "y",
         "automargin": true,
         "domain": [
          0,
          1
         ],
         "dtick": 1800000,
         "gridcolor": "rgba(128,128,128,0.1)",
         "matches": "x2",
         "range": [
          "2025-08-05T09:00:00-04:00",
          "2025-08-05T16:15:00-04:00"
         ],
         "rangeslider": {
          "visible": false
         },
         "showticklabels": false,
         "zerolinecolor": "rgba(128,128,128,0.1)"
        },
        "xaxis2": {
         "anchor": "y2",
         "automargin": true,
         "domain": [
          0,
          1
         ],
         "dtick": 1800000,
         "gridcolor": "rgba(128,128,128,0.1)",
         "range": [
          "2025-08-05T09:00:00-04:00",
          "2025-08-05T16:15:00-04:00"
         ],
         "title": {
          "text": "Time"
         },
         "zerolinecolor": "rgba(128,128,128,0.1)"
        },
        "yaxis": {
         "anchor": "x",
         "automargin": true,
         "domain": [
          0.3533333333333333,
          0.9999999999999999
         ],
         "dtick": 10,
         "gridcolor": "rgba(128,128,128,0.1)",
         "minor": {
          "dtick": 5,
          "showgrid": false,
          "tickcolor": "rgba(150,150,150,0.5)",
          "ticklen": 2,
          "tickmode": "linear",
          "ticks": "outside",
          "tickwidth": 1
         },
         "range": [
          6267.9955,
          6353.429
         ],
         "showgrid": true,
         "showticklabels": true,
         "tickfont": {
          "size": 11
         },
         "ticklabelposition": "outside",
         "ticklen": 4,
         "ticks": "outside",
         "ticksuffix": " ",
         "tickwidth": 1,
         "title": {
          "text": "Price"
         },
         "zeroline": false,
         "zerolinecolor": "rgba(128,128,128,0.1)"
        },
        "yaxis2": {
         "anchor": "x2",
         "automargin": true,
         "domain": [
          0,
          0.3233333333333333
         ],
         "gridcolor": "rgba(128,128,128,0.1)",
         "range": [
          -11.420946306840051,
          4.3071636172262515
         ],
         "showgrid": true,
         "showticklabels": true,
         "side": "left",
         "tickfont": {
          "size": 11
         },
         "ticklabelposition": "outside",
         "ticklen": 4,
         "ticks": "outside",
         "ticksuffix": " ",
         "tickwidth": 1,
         "title": {
          "text": "MACD"
         },
         "zeroline": false,
         "zerolinecolor": "rgba(128,128,128,0.1)"
        }
       }
      }
     },
     "metadata": {},
     "output_type": "display_data"
    }
   ],
   "source": [
    "candles_5m: pl.DataFrame = streamer.download(\n",
    "    symbol=candle_symbol.replace(\"m\", \"5m\"),\n",
    "    start=start,\n",
    "    # stop=datetime(2025, 3, 21, 10, 35, tzinfo=et_tz).astimezone(timezone.utc),\n",
    "    stop=stop,\n",
    "    debug_mode=True,\n",
    ")\n",
    "\n",
    "df_macd_5m = macd(\n",
    "    candles_5m, prior_close=prior_day.close, fast_length=12, slow_length=26, macd_length=9\n",
    ")\n",
    "\n",
    "plot_macd_with_hull(\n",
    "    df_macd_5m,\n",
    "    pad_value=prior_day.close,\n",
    "    start_time=start,\n",
    "    end_time=stop + timedelta(minutes=15),\n",
    "    horizontal_lines=levels,\n",
    "    vertical_lines=executions,\n",
    ")"
   ]
  },
  {
   "cell_type": "code",
   "execution_count": 14,
   "metadata": {},
   "outputs": [
    {
     "data": {
      "text/html": [
       "<div>\n",
       "<style scoped>\n",
       "    .dataframe tbody tr th:only-of-type {\n",
       "        vertical-align: middle;\n",
       "    }\n",
       "\n",
       "    .dataframe tbody tr th {\n",
       "        vertical-align: top;\n",
       "    }\n",
       "\n",
       "    .dataframe thead th {\n",
       "        text-align: right;\n",
       "    }\n",
       "</style>\n",
       "<table border=\"1\" class=\"dataframe\">\n",
       "  <thead>\n",
       "    <tr style=\"text-align: right;\">\n",
       "      <th></th>\n",
       "      <th>eventSymbol</th>\n",
       "      <th>close</th>\n",
       "      <th>count</th>\n",
       "      <th>eventFlags</th>\n",
       "      <th>high</th>\n",
       "      <th>impVolatility</th>\n",
       "      <th>index</th>\n",
       "      <th>low</th>\n",
       "      <th>open</th>\n",
       "      <th>sequence</th>\n",
       "      <th>time</th>\n",
       "      <th>Value</th>\n",
       "      <th>avg</th>\n",
       "      <th>diff</th>\n",
       "      <th>diff_color</th>\n",
       "    </tr>\n",
       "  </thead>\n",
       "  <tbody>\n",
       "    <tr>\n",
       "      <th>0</th>\n",
       "      <td>SPX{=5m}</td>\n",
       "      <td>6329.94</td>\n",
       "      <td>1</td>\n",
       "      <td>0</td>\n",
       "      <td>6329.94</td>\n",
       "      <td>0.17</td>\n",
       "      <td>7534838080025395200</td>\n",
       "      <td>6329.94</td>\n",
       "      <td>6329.94</td>\n",
       "      <td>0</td>\n",
       "      <td>2025-08-05 13:00:00</td>\n",
       "      <td>-9.094947e-13</td>\n",
       "      <td>-1.818989e-13</td>\n",
       "      <td>-7.275958e-13</td>\n",
       "      <td>#FE0000</td>\n",
       "    </tr>\n",
       "    <tr>\n",
       "      <th>1</th>\n",
       "      <td>SPX{=5m}</td>\n",
       "      <td>6329.94</td>\n",
       "      <td>1</td>\n",
       "      <td>0</td>\n",
       "      <td>6329.94</td>\n",
       "      <td>0.17</td>\n",
       "      <td>7534838080025395200</td>\n",
       "      <td>6329.94</td>\n",
       "      <td>6329.94</td>\n",
       "      <td>0</td>\n",
       "      <td>2025-08-05 13:05:00</td>\n",
       "      <td>-9.094947e-13</td>\n",
       "      <td>-3.274181e-13</td>\n",
       "      <td>-5.820766e-13</td>\n",
       "      <td>#7E0100</td>\n",
       "    </tr>\n",
       "    <tr>\n",
       "      <th>2</th>\n",
       "      <td>SPX{=5m}</td>\n",
       "      <td>6329.94</td>\n",
       "      <td>1</td>\n",
       "      <td>0</td>\n",
       "      <td>6329.94</td>\n",
       "      <td>0.17</td>\n",
       "      <td>7534838080025395200</td>\n",
       "      <td>6329.94</td>\n",
       "      <td>6329.94</td>\n",
       "      <td>0</td>\n",
       "      <td>2025-08-05 13:10:00</td>\n",
       "      <td>-9.094947e-13</td>\n",
       "      <td>-4.438334e-13</td>\n",
       "      <td>-4.656613e-13</td>\n",
       "      <td>#7E0100</td>\n",
       "    </tr>\n",
       "    <tr>\n",
       "      <th>3</th>\n",
       "      <td>SPX{=5m}</td>\n",
       "      <td>6329.94</td>\n",
       "      <td>1</td>\n",
       "      <td>0</td>\n",
       "      <td>6329.94</td>\n",
       "      <td>0.17</td>\n",
       "      <td>7534838080025395200</td>\n",
       "      <td>6329.94</td>\n",
       "      <td>6329.94</td>\n",
       "      <td>0</td>\n",
       "      <td>2025-08-05 13:15:00</td>\n",
       "      <td>-9.094947e-13</td>\n",
       "      <td>-5.369657e-13</td>\n",
       "      <td>-3.725290e-13</td>\n",
       "      <td>#7E0100</td>\n",
       "    </tr>\n",
       "    <tr>\n",
       "      <th>4</th>\n",
       "      <td>SPX{=5m}</td>\n",
       "      <td>6329.94</td>\n",
       "      <td>1</td>\n",
       "      <td>0</td>\n",
       "      <td>6329.94</td>\n",
       "      <td>0.17</td>\n",
       "      <td>7534838080025395200</td>\n",
       "      <td>6329.94</td>\n",
       "      <td>6329.94</td>\n",
       "      <td>0</td>\n",
       "      <td>2025-08-05 13:20:00</td>\n",
       "      <td>-9.094947e-13</td>\n",
       "      <td>-6.114715e-13</td>\n",
       "      <td>-2.980232e-13</td>\n",
       "      <td>#7E0100</td>\n",
       "    </tr>\n",
       "  </tbody>\n",
       "</table>\n",
       "</div>"
      ],
      "text/plain": [
       "  eventSymbol    close  count  eventFlags     high  impVolatility  \\\n",
       "0    SPX{=5m}  6329.94      1           0  6329.94           0.17   \n",
       "1    SPX{=5m}  6329.94      1           0  6329.94           0.17   \n",
       "2    SPX{=5m}  6329.94      1           0  6329.94           0.17   \n",
       "3    SPX{=5m}  6329.94      1           0  6329.94           0.17   \n",
       "4    SPX{=5m}  6329.94      1           0  6329.94           0.17   \n",
       "\n",
       "                 index      low     open  sequence                time  \\\n",
       "0  7534838080025395200  6329.94  6329.94         0 2025-08-05 13:00:00   \n",
       "1  7534838080025395200  6329.94  6329.94         0 2025-08-05 13:05:00   \n",
       "2  7534838080025395200  6329.94  6329.94         0 2025-08-05 13:10:00   \n",
       "3  7534838080025395200  6329.94  6329.94         0 2025-08-05 13:15:00   \n",
       "4  7534838080025395200  6329.94  6329.94         0 2025-08-05 13:20:00   \n",
       "\n",
       "          Value           avg          diff diff_color  \n",
       "0 -9.094947e-13 -1.818989e-13 -7.275958e-13    #FE0000  \n",
       "1 -9.094947e-13 -3.274181e-13 -5.820766e-13    #7E0100  \n",
       "2 -9.094947e-13 -4.438334e-13 -4.656613e-13    #7E0100  \n",
       "3 -9.094947e-13 -5.369657e-13 -3.725290e-13    #7E0100  \n",
       "4 -9.094947e-13 -6.114715e-13 -2.980232e-13    #7E0100  "
      ]
     },
     "execution_count": 14,
     "metadata": {},
     "output_type": "execute_result"
    }
   ],
   "source": [
    "# debug\n",
    "df_macd_5m.to_pandas().head()"
   ]
  },
  {
   "cell_type": "code",
   "execution_count": null,
   "metadata": {},
   "outputs": [],
   "source": []
  }
 ],
 "metadata": {
  "kernelspec": {
   "display_name": "workspace (3.11.13)",
   "language": "python",
   "name": "python3"
  },
  "language_info": {
   "codemirror_mode": {
    "name": "ipython",
    "version": 3
   },
   "file_extension": ".py",
   "mimetype": "text/x-python",
   "name": "python",
   "nbconvert_exporter": "python",
   "pygments_lexer": "ipython3",
   "version": "3.11.13"
  }
 },
 "nbformat": 4,
 "nbformat_minor": 2
}
