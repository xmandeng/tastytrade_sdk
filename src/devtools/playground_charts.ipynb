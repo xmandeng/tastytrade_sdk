{
 "cells": [
  {
   "cell_type": "markdown",
   "metadata": {},
   "source": [
    "# Dev Notes\n",
    "\n",
    "Create & save new Influx DB measures:\n",
    "- VerticalLine\n",
    "- HorizontaLine\n",
    "\n",
    "These will need to include start and stop variables so that we don't have lines into perpetuity"
   ]
  },
  {
   "cell_type": "code",
   "execution_count": 1,
   "metadata": {},
   "outputs": [],
   "source": [
    "# Required for PydanticAI to work with Jupyter (nested event loops)\n",
    "import nest_asyncio\n",
    "\n",
    "nest_asyncio.apply()"
   ]
  },
  {
   "cell_type": "code",
   "execution_count": 2,
   "metadata": {},
   "outputs": [],
   "source": [
    "import logging\n",
    "import asyncio\n",
    "import pandas as pd\n",
    "import polars as pl\n",
    "from zoneinfo import ZoneInfo\n",
    "\n",
    "from datetime import datetime, timedelta, timezone\n",
    "\n",
    "import influxdb_client\n",
    "\n",
    "from tastytrade.common.logging import setup_logging\n",
    "\n",
    "from tastytrade.connections import InfluxCredentials\n",
    "\n",
    "from tastytrade.config import RedisConfigManager\n",
    "from tastytrade.providers.market import MarketDataProvider\n",
    "from tastytrade.providers.subscriptions import RedisSubscription\n",
    "\n",
    "from tastytrade.messaging.models.events import CandleEvent\n",
    "\n",
    "from tastytrade.analytics.visualizations.plots import (\n",
    "    plot_macd_with_hull,\n",
    "    HorizontalLine,\n",
    "    VerticalLine,\n",
    ")\n",
    "from tastytrade.analytics.indicators.momentum import macd\n",
    "import re\n",
    "\n",
    "from tastytrade.analytics.visualizations.utils import get_opening_range\n",
    "\n",
    "import pytz"
   ]
  },
  {
   "cell_type": "code",
   "execution_count": 3,
   "metadata": {},
   "outputs": [
    {
     "name": "stderr",
     "output_type": "stream",
     "text": [
      "2025-08-10 08:20:23 - INFO:root:62:Logging initialized - writing to ../logs/dev_tastytrade_20250810.log\n"
     ]
    }
   ],
   "source": [
    "# Show all rows in pandas DataFrames\n",
    "pd.set_option(\"display.max_rows\", 100)\n",
    "pd.set_option(\"display.max_columns\", None)\n",
    "pd.set_option(\"display.width\", None)\n",
    "pd.set_option(\"display.max_colwidth\", None)\n",
    "\n",
    "logging.getLogger().handlers.clear()\n",
    "\n",
    "TEST = True\n",
    "ENV = \"Live\"\n",
    "DURATION = 15\n",
    "\n",
    "EDT = 5\n",
    "\n",
    "setup_logging(\n",
    "    level=logging.INFO,\n",
    "    log_dir=\"../logs\",\n",
    "    filename_prefix=f\"{'dev' if TEST else 'prod'}_tastytrade\",\n",
    "    console=True,\n",
    "    file=True,\n",
    ")\n",
    "\n",
    "loop = asyncio.get_event_loop()\n",
    "loop.set_debug(True)\n",
    "logging.getLogger(\"asyncio\").setLevel(logging.DEBUG)"
   ]
  },
  {
   "cell_type": "markdown",
   "metadata": {},
   "source": [
    "# Market Data Subscriptions"
   ]
  },
  {
   "cell_type": "code",
   "execution_count": 4,
   "metadata": {},
   "outputs": [
    {
     "name": "stderr",
     "output_type": "stream",
     "text": [
      "2025-08-10 08:20:23 - INFO:tastytrade.config.manager:174:Initialized 19 variables from .env file in Redis\n",
      "2025-08-10 08:20:23 - INFO:tastytrade.providers.subscriptions:72:Listening to Redis at redis://redis:6379/0\n"
     ]
    }
   ],
   "source": [
    "config = RedisConfigManager(env_file=\"/workspace/.env\")\n",
    "config.initialize()\n",
    "\n",
    "influxdb = influxdb_client.InfluxDBClient(\n",
    "    url=InfluxCredentials(config=config).url,\n",
    "    token=InfluxCredentials(config=config).token,\n",
    "    org=InfluxCredentials(config=config).org,\n",
    ")\n",
    "\n",
    "subscription = RedisSubscription(config=RedisConfigManager())\n",
    "await subscription.connect()\n",
    "\n",
    "streamer = MarketDataProvider(subscription, influxdb)"
   ]
  },
  {
   "cell_type": "markdown",
   "metadata": {},
   "source": [
    "# Date Setup"
   ]
  },
  {
   "cell_type": "code",
   "execution_count": 5,
   "metadata": {},
   "outputs": [
    {
     "data": {
      "text/plain": [
       "datetime.datetime(2025, 8, 10, 8, 20, 23, 469375)"
      ]
     },
     "execution_count": 5,
     "metadata": {},
     "output_type": "execute_result"
    }
   ],
   "source": [
    "datetime.now()"
   ]
  },
  {
   "cell_type": "code",
   "execution_count": 6,
   "metadata": {},
   "outputs": [],
   "source": [
    "year = datetime.now().year\n",
    "\n",
    "month = datetime.now().month\n",
    "day = 7\n",
    "day = 7  # datetime.now().day\n",
    "\n",
    "et_tz = pytz.timezone(\"America/New_York\")\n",
    "et_tz = ZoneInfo(\"America/New_York\")\n",
    "\n",
    "market_open = datetime(year, month, day, 9, 30, tzinfo=et_tz)\n",
    "morning_end = datetime(year, month, day, 11, 30, tzinfo=et_tz)\n",
    "lunch_end = datetime(year, month, day, 13, 30, tzinfo=et_tz)\n",
    "market_close = datetime(year, month, day, 16, 0, tzinfo=et_tz)\n",
    "\n",
    "streamer = MarketDataProvider(subscription, influxdb)\n",
    "\n",
    "start = market_open.astimezone(timezone.utc) - timedelta(minutes=30)\n",
    "stop = market_close.astimezone(timezone.utc)"
   ]
  },
  {
   "cell_type": "code",
   "execution_count": 7,
   "metadata": {},
   "outputs": [],
   "source": [
    "candle_symbol = \"SPX{=m}\"\n",
    "\n",
    "prior_day: CandleEvent = CandleEvent(\n",
    "    **(\n",
    "        streamer.download(\n",
    "            symbol=re.sub(r\"\\{=.*?\\}\", \"{=d}\", candle_symbol),\n",
    "            start=market_open.date() + timedelta(days=-1),\n",
    "            stop=market_open.date(),\n",
    "            debug_mode=True,\n",
    "        )\n",
    "        .to_dicts()\n",
    "        .pop()\n",
    "    )\n",
    ")"
   ]
  },
  {
   "cell_type": "code",
   "execution_count": 8,
   "metadata": {},
   "outputs": [
    {
     "name": "stderr",
     "output_type": "stream",
     "text": [
      "2025-08-10 08:20:23 - INFO:tastytrade.analytics.visualizations.utils:92:Opening range for SPX{=m} (5m): High=6388.02, Low=6374.32\n",
      "2025-08-10 08:20:23 - INFO:tastytrade.analytics.visualizations.utils:92:Opening range for SPX{=m} (15m): High=6389.71, Low=6374.32\n",
      "2025-08-10 08:20:23 - INFO:tastytrade.analytics.visualizations.utils:92:Opening range for SPX{=m} (30m): High=6389.71, Low=6373.34\n"
     ]
    }
   ],
   "source": [
    "or5 = await get_opening_range(\n",
    "    streamer,\n",
    "    \"SPX{=m}\",\n",
    "    5,\n",
    "    date=start.date(),\n",
    ")\n",
    "\n",
    "or15 = await get_opening_range(\n",
    "    streamer,\n",
    "    \"SPX{=m}\",\n",
    "    15,\n",
    "    date=start.date(),\n",
    ")\n",
    "\n",
    "or30 = await get_opening_range(\n",
    "    streamer,\n",
    "    \"SPX{=m}\",\n",
    "    30,\n",
    "    date=start.date(),\n",
    ")"
   ]
  },
  {
   "cell_type": "code",
   "execution_count": 9,
   "metadata": {},
   "outputs": [],
   "source": [
    "levels = [\n",
    "    HorizontalLine(\n",
    "        price=prior_day.close,\n",
    "        color=\"#FF66FE\",  # Orange\n",
    "        line_dash=\"dot\",\n",
    "        label_font_size=10.5,\n",
    "        label=\"prior close\",\n",
    "        opacity=0.45,\n",
    "        end_time=market_close,\n",
    "    ),\n",
    "    HorizontalLine(\n",
    "        price=prior_day.high,\n",
    "        color=\"#4CAF50\",  # Green\n",
    "        line_dash=\"dot\",\n",
    "        label_font_size=10.5,\n",
    "        label=\"prior high\",\n",
    "        opacity=0.45,\n",
    "        end_time=market_close,\n",
    "    ),\n",
    "    HorizontalLine(\n",
    "        price=prior_day.low,\n",
    "        color=\"#F44336\",  # Red\n",
    "        line_dash=\"dot\",\n",
    "        label_font_size=10.5,\n",
    "        label=\"prior low\",\n",
    "        opacity=0.45,\n",
    "        end_time=market_close,\n",
    "    ),\n",
    "    HorizontalLine(\n",
    "        price=or5.high,\n",
    "        start_time=market_open,\n",
    "        end_time=market_close,\n",
    "        color=\"#4CAF50\",  # Green\n",
    "        line_dash=\"solid\",\n",
    "        opacity=0.75,\n",
    "        # label=\"5min hi\",\n",
    "    ),\n",
    "    HorizontalLine(\n",
    "        price=or5.low,\n",
    "        start_time=market_open,\n",
    "        end_time=market_close,\n",
    "        color=\"#4CAF50\",  # Green\n",
    "        line_dash=\"solid\",\n",
    "        opacity=0.75,\n",
    "    ),\n",
    "    HorizontalLine(\n",
    "        price=or15.high,\n",
    "        start_time=market_open + timedelta(minutes=15),\n",
    "        end_time=market_close,\n",
    "        color=\"#4CAF50\",  # Green\n",
    "        line_dash=\"solid\",\n",
    "        opacity=0.45 if or15.high != or5.high else 0.0,\n",
    "    ),\n",
    "    HorizontalLine(\n",
    "        price=or15.low,\n",
    "        start_time=market_open + timedelta(minutes=15),\n",
    "        end_time=market_close,\n",
    "        color=\"#4CAF50\",  # Green\n",
    "        line_dash=\"solid\",\n",
    "        opacity=0.45 if or15.low != or5.low else 0.0,\n",
    "    ),\n",
    "    HorizontalLine(\n",
    "        price=or30.high,\n",
    "        start_time=market_open + timedelta(minutes=30),\n",
    "        end_time=market_close,\n",
    "        color=\"#4CAF50\",  # Green\n",
    "        line_dash=\"dot\",\n",
    "        opacity=0.45 if or30.high != or15.high else 0.0,\n",
    "    ),\n",
    "    HorizontalLine(\n",
    "        price=or30.low,\n",
    "        start_time=market_open + timedelta(minutes=30),\n",
    "        end_time=market_close,\n",
    "        color=\"#4CAF50\",  # Green\n",
    "        line_dash=\"dot\",\n",
    "        opacity=0.45 if or30.low != or15.low else 0.0,\n",
    "    ),\n",
    "    HorizontalLine(\n",
    "        price=or30.low,\n",
    "        start_time=market_open + timedelta(minutes=30),\n",
    "        end_time=market_close,\n",
    "        color=\"#4CAF50\",  # Green\n",
    "        line_dash=\"dot\",\n",
    "        opacity=0.45 if or30.low != or15.low else 0.0,\n",
    "    ),\n",
    "    # HorizontalLine(\n",
    "    #     price=5903,\n",
    "    #     start_time=datetime(2025, 5, 29, 9, 40, tzinfo=et_tz),\n",
    "    #     color=\"#555555\",  # Green\n",
    "    #     line_dash=\"dot\",\n",
    "    #     label=\"Bearish\",\n",
    "    #     # opacity=0.45 if or30.low != or15.low else 0.0,\n",
    "    # ),\n",
    "    # HorizontalLine(\n",
    "    #     price=5893,\n",
    "    #     start_time=datetime(2025, 5, 29, 11, 30, tzinfo=et_tz),\n",
    "    #     color=\"#555555\",  # Green\n",
    "    #     line_dash=\"dot\",\n",
    "    #     label=\"Bullish\",\n",
    "    #     # opacity=0.45 if or30.low != or15.low else 0.0,\n",
    "    # ),\n",
    "    # HorizontalLine(\n",
    "    #     price=5432,\n",
    "    #     start_time=datetime(2025, 4, 15, 10, 17, tzinfo=et_tz),\n",
    "    #     color=\"#555555\",  # Green\n",
    "    #     line_dash=\"dot\",\n",
    "    #     opacity=1,\n",
    "    # ),\n",
    "]"
   ]
  },
  {
   "cell_type": "code",
   "execution_count": 10,
   "metadata": {},
   "outputs": [],
   "source": [
    "executions = [\n",
    "    VerticalLine(\n",
    "        time=datetime(year, month, day, 14, 30, tzinfo=et_tz),\n",
    "        color=\"#555555\",\n",
    "        line_dash=\"dot\",\n",
    "        label=\"Open\",\n",
    "    ),\n",
    "    # VerticalLine(\n",
    "    #     time=datetime(2025, 2, 26, 14, 30) + timedelta(hours=4, minutes=50),\n",
    "    #     color=\"#555555\",\n",
    "    #     line_dash=\"dot\",\n",
    "    #     label=\"Close\",\n",
    "    # ),\n",
    "    # VerticalLine(\n",
    "    #     time=datetime(2025, 2, 27, 14, 30) + timedelta(minutes=20),\n",
    "    #     color=\"#555555\",\n",
    "    #     line_dash=\"dot\",\n",
    "    #     label=\"Open\",\n",
    "    # ),\n",
    "    # VerticalLine(\n",
    "    #     time=datetime(2025, 2, 28, 14, 30) + timedelta(hours=1, minutes=40),\n",
    "    #     color=\"#555555\",\n",
    "    #     line_dash=\"dot\",\n",
    "    #     label=\"Open\",\n",
    "    # ),\n",
    "    # VerticalLine(\n",
    "    #     time=datetime(2025, 2, 28, 14, 30) + timedelta(hours=4, minutes=0),\n",
    "    #     color=\"#555555\",\n",
    "    #     line_dash=\"dot\",\n",
    "    #     label=\"Close\",\n",
    "    # ),\n",
    "    # VerticalLine(\n",
    "    #     time=datetime(2025, 3, 3, 14, 30) + timedelta(hours=0, minutes=20),\n",
    "    #     color=\"#555555\",\n",
    "    #     line_dash=\"dot\",\n",
    "    #     label=\"Open\",\n",
    "    # ),\n",
    "    # VerticalLine(\n",
    "    #     time=datetime(2025, 3, 4, 14, 30) + timedelta(hours=1, minutes=10),\n",
    "    #     color=\"#555555\",\n",
    "    #     line_dash=\"dot\",\n",
    "    #     label=\"Pass\",\n",
    "    # ),\n",
    "    # VerticalLine(\n",
    "    #     time=datetime(2025, 3, 4, 14, 30) + timedelta(hours=2, minutes=10),\n",
    "    #     color=\"#555555\",\n",
    "    #     line_dash=\"dot\",\n",
    "    #     label=\"Open\",\n",
    "    # ),\n",
    "    # VerticalLine(\n",
    "    #     time=datetime(2025, 3, 6, 14, 30) + timedelta(hours=0, minutes=45),\n",
    "    #     color=\"#555555\",\n",
    "    #     line_dash=\"dot\",\n",
    "    #     label=\"Pass\",\n",
    "    # ),\n",
    "    # VerticalLine(\n",
    "    #     time=datetime(2025, 3, 6, 14, 30) + timedelta(hours=2, minutes=10),\n",
    "    #     color=\"#555555\",\n",
    "    #     line_dash=\"dot\",\n",
    "    #     label=\"Open\",\n",
    "    # ),\n",
    "    # VerticalLine(\n",
    "    #     time=datetime(2025, 3, 7, 14, 30) + timedelta(hours=0, minutes=45),\n",
    "    #     color=\"#555555\",\n",
    "    #     line_dash=\"dot\",\n",
    "    #     label=\"Open\",\n",
    "    # ),\n",
    "    # VerticalLine(\n",
    "    #     time=datetime(2025, 3, 7, 14, 30) + timedelta(hours=2, minutes=55),\n",
    "    #     color=\"#555555\",\n",
    "    #     line_dash=\"dot\",\n",
    "    #     label=\"Open\",\n",
    "    # ),\n",
    "    # VerticalLine(\n",
    "    #     time=datetime(2025, 3, 13, 10, 20, tzinfo=et_tz),\n",
    "    #     color=\"#555555\",\n",
    "    #     line_dash=\"dot\",\n",
    "    #     label=\"Open\",\n",
    "    # ),\n",
    "    # VerticalLine(\n",
    "    #     time=datetime(2025, 3, 13, 10, 45, tzinfo=et_tz),\n",
    "    #     color=\"#555555\",\n",
    "    #     line_dash=\"dot\",\n",
    "    #     label=\"Open\",\n",
    "    # ),\n",
    "    # VerticalLine(\n",
    "    #     time=datetime(2025, 3, 18, 10, 40, tzinfo=et_tz),\n",
    "    #     color=\"#555555\",\n",
    "    #     line_dash=\"dot\",\n",
    "    #     label=\"Open\",\n",
    "    # ),\n",
    "    # VerticalLine(\n",
    "    #     time=datetime(2025, 3, 19, 10, 35, tzinfo=et_tz),\n",
    "    #     color=\"#555555\",\n",
    "    #     line_dash=\"dot\",\n",
    "    #     label=\"Open\",\n",
    "    # ),\n",
    "    # VerticalLine(\n",
    "    #     time=datetime(2025, 3, 20, 11, 34, 32, tzinfo=et_tz),\n",
    "    #     color=\"#555555\",\n",
    "    #     line_dash=\"dot\",\n",
    "    #     label=\"Open\",\n",
    "    # ),\n",
    "    # VerticalLine(\n",
    "    #     time=datetime(2025, 3, 20, 12, 15, 8, tzinfo=et_tz),\n",
    "    #     color=\"#555555\",\n",
    "    #     line_dash=\"dot\",\n",
    "    #     label=\"Close\",\n",
    "    # ),\n",
    "    # VerticalLine(\n",
    "    #     time=datetime(2025, 3, 20, 13, 9, 34, tzinfo=et_tz),\n",
    "    #     color=\"#555555\",\n",
    "    #     line_dash=\"dot\",\n",
    "    #     label=\"Open\",\n",
    "    # ),\n",
    "    # VerticalLine(\n",
    "    #     time=datetime(2025, 4, 1, 10, 35, tzinfo=et_tz),\n",
    "    #     color=\"#555555\",\n",
    "    #     line_dash=\"dot\",\n",
    "    #     label=\"Open\",\n",
    "    # ),\n",
    "    # VerticalLine(\n",
    "    #     time=datetime(2025, 4, 8, 10, 42, tzinfo=et_tz),\n",
    "    #     color=\"#555555\",\n",
    "    #     line_dash=\"dot\",\n",
    "    #     label=\"Open\",\n",
    "    # ),\n",
    "    # VerticalLine(\n",
    "    #     time=datetime(2025, 4, 15, 10, 17, tzinfo=et_tz),\n",
    "    #     color=\"#555555\",\n",
    "    #     line_dash=\"dot\",\n",
    "    #     label=\"Open\",\n",
    "    # ),\n",
    "    # VerticalLine(\n",
    "    #     time=datetime(2025, 5, 29, 10, 11, tzinfo=et_tz),\n",
    "    #     color=\"#555555\",\n",
    "    #     line_dash=\"dot\",\n",
    "    #     label=\"Open\",\n",
    "    # ),\n",
    "    # VerticalLine(\n",
    "    #     time=datetime(2025, 5, 29, 12, 11, tzinfo=et_tz),\n",
    "    #     color=\"#555555\",\n",
    "    #     line_dash=\"dot\",\n",
    "    #     label=\"Close\",\n",
    "    # ),\n",
    "]"
   ]
  },
  {
   "cell_type": "code",
   "execution_count": 11,
   "metadata": {},
   "outputs": [
    {
     "data": {
      "application/vnd.plotly.v1+json": {
       "config": {
        "plotlyServerURL": "https://plot.ly"
       },
       "data": [
        {
         "close": {
          "bdata": "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",
          "dtype": "f8"
         },
         "decreasing": {
          "fillcolor": "#EF5350",
          "line": {
           "color": "#EF5350"
          }
         },
         "high": {
          "bdata": "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",
          "dtype": "f8"
         },
         "increasing": {
          "fillcolor": "rgba(19, 19, 19, 0.1)",
          "line": {
           "color": "#4CAF50"
          }
         },
         "line": {
          "width": 0.75
         },
         "low": {
          "bdata": "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",
          "dtype": "f8"
         },
         "name": "Price",
         "open": {
          "bdata": "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",
          "dtype": "f8"
         },
         "showlegend": false,
         "type": "candlestick",
         "x": [
          "2025-08-07T09:00:00.000000000",
          "2025-08-07T09:01:00.000000000",
          "2025-08-07T09:02:00.000000000",
          "2025-08-07T09:03:00.000000000",
          "2025-08-07T09:04:00.000000000",
          "2025-08-07T09:05:00.000000000",
          "2025-08-07T09:06:00.000000000",
          "2025-08-07T09:07:00.000000000",
          "2025-08-07T09:08:00.000000000",
          "2025-08-07T09:09:00.000000000",
          "2025-08-07T09:10:00.000000000",
          "2025-08-07T09:11:00.000000000",
          "2025-08-07T09:12:00.000000000",
          "2025-08-07T09:13:00.000000000",
          "2025-08-07T09:14:00.000000000",
          "2025-08-07T09:15:00.000000000",
          "2025-08-07T09:16:00.000000000",
          "2025-08-07T09:17:00.000000000",
          "2025-08-07T09:18:00.000000000",
          "2025-08-07T09:19:00.000000000",
          "2025-08-07T09:20:00.000000000",
          "2025-08-07T09:21:00.000000000",
          "2025-08-07T09:22:00.000000000",
          "2025-08-07T09:23:00.000000000",
          "2025-08-07T09:24:00.000000000",
          "2025-08-07T09:25:00.000000000",
          "2025-08-07T09:26:00.000000000",
          "2025-08-07T09:27:00.000000000",
          "2025-08-07T09:28:00.000000000",
          "2025-08-07T09:29:00.000000000",
          "2025-08-07T09:30:00.000000000",
          "2025-08-07T09:31:00.000000000",
          "2025-08-07T09:32:00.000000000",
          "2025-08-07T09:33:00.000000000",
          "2025-08-07T09:34:00.000000000",
          "2025-08-07T09:35:00.000000000",
          "2025-08-07T09:36:00.000000000",
          "2025-08-07T09:37:00.000000000",
          "2025-08-07T09:38:00.000000000",
          "2025-08-07T09:39:00.000000000",
          "2025-08-07T09:40:00.000000000",
          "2025-08-07T09:41:00.000000000",
          "2025-08-07T09:42:00.000000000",
          "2025-08-07T09:43:00.000000000",
          "2025-08-07T09:44:00.000000000",
          "2025-08-07T09:45:00.000000000",
          "2025-08-07T09:46:00.000000000",
          "2025-08-07T09:47:00.000000000",
          "2025-08-07T09:48:00.000000000",
          "2025-08-07T09:49:00.000000000",
          "2025-08-07T09:50:00.000000000",
          "2025-08-07T09:51:00.000000000",
          "2025-08-07T09:52:00.000000000",
          "2025-08-07T09:53:00.000000000",
          "2025-08-07T09:54:00.000000000",
          "2025-08-07T09:55:00.000000000",
          "2025-08-07T09:56:00.000000000",
          "2025-08-07T09:57:00.000000000",
          "2025-08-07T09:58:00.000000000",
          "2025-08-07T09:59:00.000000000",
          "2025-08-07T10:00:00.000000000",
          "2025-08-07T10:01:00.000000000",
          "2025-08-07T10:02:00.000000000",
          "2025-08-07T10:03:00.000000000",
          "2025-08-07T10:04:00.000000000",
          "2025-08-07T10:05:00.000000000",
          "2025-08-07T10:06:00.000000000",
          "2025-08-07T10:07:00.000000000",
          "2025-08-07T10:08:00.000000000",
          "2025-08-07T10:09:00.000000000",
          "2025-08-07T10:10:00.000000000",
          "2025-08-07T10:11:00.000000000",
          "2025-08-07T10:12:00.000000000",
          "2025-08-07T10:13:00.000000000",
          "2025-08-07T10:14:00.000000000",
          "2025-08-07T10:15:00.000000000",
          "2025-08-07T10:16:00.000000000",
          "2025-08-07T10:17:00.000000000",
          "2025-08-07T10:18:00.000000000",
          "2025-08-07T10:19:00.000000000",
          "2025-08-07T10:20:00.000000000",
          "2025-08-07T10:21:00.000000000",
          "2025-08-07T10:22:00.000000000",
          "2025-08-07T10:23:00.000000000",
          "2025-08-07T10:24:00.000000000",
          "2025-08-07T10:25:00.000000000",
          "2025-08-07T10:26:00.000000000",
          "2025-08-07T10:27:00.000000000",
          "2025-08-07T10:28:00.000000000",
          "2025-08-07T10:29:00.000000000",
          "2025-08-07T10:30:00.000000000",
          "2025-08-07T10:31:00.000000000",
          "2025-08-07T10:32:00.000000000",
          "2025-08-07T10:33:00.000000000",
          "2025-08-07T10:34:00.000000000",
          "2025-08-07T10:35:00.000000000",
          "2025-08-07T10:36:00.000000000",
          "2025-08-07T10:37:00.000000000",
          "2025-08-07T10:38:00.000000000",
          "2025-08-07T10:39:00.000000000",
          "2025-08-07T10:40:00.000000000",
          "2025-08-07T10:41:00.000000000",
          "2025-08-07T10:42:00.000000000",
          "2025-08-07T10:43:00.000000000",
          "2025-08-07T10:44:00.000000000",
          "2025-08-07T10:45:00.000000000",
          "2025-08-07T10:46:00.000000000",
          "2025-08-07T10:47:00.000000000",
          "2025-08-07T10:48:00.000000000",
          "2025-08-07T10:49:00.000000000",
          "2025-08-07T10:50:00.000000000",
          "2025-08-07T10:51:00.000000000",
          "2025-08-07T10:52:00.000000000",
          "2025-08-07T10:53:00.000000000",
          "2025-08-07T10:54:00.000000000",
          "2025-08-07T10:55:00.000000000",
          "2025-08-07T10:56:00.000000000",
          "2025-08-07T10:57:00.000000000",
          "2025-08-07T10:58:00.000000000",
          "2025-08-07T10:59:00.000000000",
          "2025-08-07T11:00:00.000000000",
          "2025-08-07T11:01:00.000000000",
          "2025-08-07T11:02:00.000000000",
          "2025-08-07T11:03:00.000000000",
          "2025-08-07T11:04:00.000000000",
          "2025-08-07T11:05:00.000000000",
          "2025-08-07T11:06:00.000000000",
          "2025-08-07T11:07:00.000000000",
          "2025-08-07T11:08:00.000000000",
          "2025-08-07T11:09:00.000000000",
          "2025-08-07T11:10:00.000000000",
          "2025-08-07T11:11:00.000000000",
          "2025-08-07T11:12:00.000000000",
          "2025-08-07T11:13:00.000000000",
          "2025-08-07T11:14:00.000000000",
          "2025-08-07T11:15:00.000000000",
          "2025-08-07T11:16:00.000000000",
          "2025-08-07T11:17:00.000000000",
          "2025-08-07T11:18:00.000000000",
          "2025-08-07T11:19:00.000000000",
          "2025-08-07T11:20:00.000000000",
          "2025-08-07T11:21:00.000000000",
          "2025-08-07T11:22:00.000000000",
          "2025-08-07T11:23:00.000000000",
          "2025-08-07T11:24:00.000000000",
          "2025-08-07T11:25:00.000000000",
          "2025-08-07T11:26:00.000000000",
          "2025-08-07T11:27:00.000000000",
          "2025-08-07T11:28:00.000000000",
          "2025-08-07T11:29:00.000000000",
          "2025-08-07T11:30:00.000000000",
          "2025-08-07T11:31:00.000000000",
          "2025-08-07T11:32:00.000000000",
          "2025-08-07T11:33:00.000000000",
          "2025-08-07T11:34:00.000000000",
          "2025-08-07T11:35:00.000000000",
          "2025-08-07T11:36:00.000000000",
          "2025-08-07T11:37:00.000000000",
          "2025-08-07T11:38:00.000000000",
          "2025-08-07T11:39:00.000000000",
          "2025-08-07T11:40:00.000000000",
          "2025-08-07T11:41:00.000000000",
          "2025-08-07T11:42:00.000000000",
          "2025-08-07T11:43:00.000000000",
          "2025-08-07T11:44:00.000000000",
          "2025-08-07T11:45:00.000000000",
          "2025-08-07T11:46:00.000000000",
          "2025-08-07T11:47:00.000000000",
          "2025-08-07T11:48:00.000000000",
          "2025-08-07T11:49:00.000000000",
          "2025-08-07T11:50:00.000000000",
          "2025-08-07T11:51:00.000000000",
          "2025-08-07T11:52:00.000000000",
          "2025-08-07T11:53:00.000000000",
          "2025-08-07T11:54:00.000000000",
          "2025-08-07T11:55:00.000000000",
          "2025-08-07T11:56:00.000000000",
          "2025-08-07T11:57:00.000000000",
          "2025-08-07T11:58:00.000000000",
          "2025-08-07T11:59:00.000000000",
          "2025-08-07T12:00:00.000000000",
          "2025-08-07T12:01:00.000000000",
          "2025-08-07T12:02:00.000000000",
          "2025-08-07T12:03:00.000000000",
          "2025-08-07T12:04:00.000000000",
          "2025-08-07T12:05:00.000000000",
          "2025-08-07T12:06:00.000000000",
          "2025-08-07T12:07:00.000000000",
          "2025-08-07T12:08:00.000000000",
          "2025-08-07T12:09:00.000000000",
          "2025-08-07T12:10:00.000000000",
          "2025-08-07T12:11:00.000000000",
          "2025-08-07T12:12:00.000000000",
          "2025-08-07T12:13:00.000000000",
          "2025-08-07T12:14:00.000000000",
          "2025-08-07T12:15:00.000000000",
          "2025-08-07T12:16:00.000000000",
          "2025-08-07T12:17:00.000000000",
          "2025-08-07T12:18:00.000000000",
          "2025-08-07T12:19:00.000000000",
          "2025-08-07T12:20:00.000000000",
          "2025-08-07T12:21:00.000000000",
          "2025-08-07T12:22:00.000000000",
          "2025-08-07T12:23:00.000000000",
          "2025-08-07T12:24:00.000000000",
          "2025-08-07T12:25:00.000000000",
          "2025-08-07T12:26:00.000000000",
          "2025-08-07T12:27:00.000000000",
          "2025-08-07T12:28:00.000000000",
          "2025-08-07T12:29:00.000000000",
          "2025-08-07T12:30:00.000000000",
          "2025-08-07T12:31:00.000000000",
          "2025-08-07T12:32:00.000000000",
          "2025-08-07T12:33:00.000000000",
          "2025-08-07T12:34:00.000000000",
          "2025-08-07T12:35:00.000000000",
          "2025-08-07T12:36:00.000000000",
          "2025-08-07T12:37:00.000000000",
          "2025-08-07T12:38:00.000000000",
          "2025-08-07T12:39:00.000000000",
          "2025-08-07T12:40:00.000000000",
          "2025-08-07T12:41:00.000000000",
          "2025-08-07T12:42:00.000000000",
          "2025-08-07T12:43:00.000000000",
          "2025-08-07T12:44:00.000000000",
          "2025-08-07T12:45:00.000000000",
          "2025-08-07T12:46:00.000000000",
          "2025-08-07T12:47:00.000000000",
          "2025-08-07T12:48:00.000000000",
          "2025-08-07T12:49:00.000000000",
          "2025-08-07T12:50:00.000000000",
          "2025-08-07T12:51:00.000000000",
          "2025-08-07T12:52:00.000000000",
          "2025-08-07T12:53:00.000000000",
          "2025-08-07T12:54:00.000000000",
          "2025-08-07T12:55:00.000000000",
          "2025-08-07T12:56:00.000000000",
          "2025-08-07T12:57:00.000000000",
          "2025-08-07T12:58:00.000000000",
          "2025-08-07T12:59:00.000000000",
          "2025-08-07T13:00:00.000000000",
          "2025-08-07T13:01:00.000000000",
          "2025-08-07T13:02:00.000000000",
          "2025-08-07T13:03:00.000000000",
          "2025-08-07T13:04:00.000000000",
          "2025-08-07T13:05:00.000000000",
          "2025-08-07T13:06:00.000000000",
          "2025-08-07T13:07:00.000000000",
          "2025-08-07T13:08:00.000000000",
          "2025-08-07T13:09:00.000000000",
          "2025-08-07T13:10:00.000000000",
          "2025-08-07T13:11:00.000000000",
          "2025-08-07T13:12:00.000000000",
          "2025-08-07T13:13:00.000000000",
          "2025-08-07T13:14:00.000000000",
          "2025-08-07T13:15:00.000000000",
          "2025-08-07T13:16:00.000000000",
          "2025-08-07T13:17:00.000000000",
          "2025-08-07T13:18:00.000000000",
          "2025-08-07T13:19:00.000000000",
          "2025-08-07T13:20:00.000000000",
          "2025-08-07T13:21:00.000000000",
          "2025-08-07T13:22:00.000000000",
          "2025-08-07T13:23:00.000000000",
          "2025-08-07T13:24:00.000000000",
          "2025-08-07T13:25:00.000000000",
          "2025-08-07T13:26:00.000000000",
          "2025-08-07T13:27:00.000000000",
          "2025-08-07T13:28:00.000000000",
          "2025-08-07T13:29:00.000000000",
          "2025-08-07T13:30:00.000000000",
          "2025-08-07T13:31:00.000000000",
          "2025-08-07T13:32:00.000000000",
          "2025-08-07T13:33:00.000000000",
          "2025-08-07T13:34:00.000000000",
          "2025-08-07T13:35:00.000000000",
          "2025-08-07T13:36:00.000000000",
          "2025-08-07T13:37:00.000000000",
          "2025-08-07T13:38:00.000000000",
          "2025-08-07T13:39:00.000000000",
          "2025-08-07T13:40:00.000000000",
          "2025-08-07T13:41:00.000000000",
          "2025-08-07T13:42:00.000000000",
          "2025-08-07T13:43:00.000000000",
          "2025-08-07T13:44:00.000000000",
          "2025-08-07T13:45:00.000000000",
          "2025-08-07T13:46:00.000000000",
          "2025-08-07T13:47:00.000000000",
          "2025-08-07T13:48:00.000000000",
          "2025-08-07T13:49:00.000000000",
          "2025-08-07T13:50:00.000000000",
          "2025-08-07T13:51:00.000000000",
          "2025-08-07T13:52:00.000000000",
          "2025-08-07T13:53:00.000000000",
          "2025-08-07T13:54:00.000000000",
          "2025-08-07T13:55:00.000000000",
          "2025-08-07T13:56:00.000000000",
          "2025-08-07T13:57:00.000000000",
          "2025-08-07T13:58:00.000000000",
          "2025-08-07T13:59:00.000000000",
          "2025-08-07T14:00:00.000000000",
          "2025-08-07T14:01:00.000000000",
          "2025-08-07T14:02:00.000000000",
          "2025-08-07T14:03:00.000000000",
          "2025-08-07T14:04:00.000000000",
          "2025-08-07T14:05:00.000000000",
          "2025-08-07T14:06:00.000000000",
          "2025-08-07T14:07:00.000000000",
          "2025-08-07T14:08:00.000000000",
          "2025-08-07T14:09:00.000000000",
          "2025-08-07T14:10:00.000000000",
          "2025-08-07T14:11:00.000000000",
          "2025-08-07T14:12:00.000000000",
          "2025-08-07T14:13:00.000000000",
          "2025-08-07T14:14:00.000000000",
          "2025-08-07T14:15:00.000000000",
          "2025-08-07T14:16:00.000000000",
          "2025-08-07T14:17:00.000000000",
          "2025-08-07T14:18:00.000000000",
          "2025-08-07T14:19:00.000000000",
          "2025-08-07T14:20:00.000000000",
          "2025-08-07T14:21:00.000000000",
          "2025-08-07T14:22:00.000000000",
          "2025-08-07T14:23:00.000000000",
          "2025-08-07T14:24:00.000000000",
          "2025-08-07T14:25:00.000000000",
          "2025-08-07T14:26:00.000000000",
          "2025-08-07T14:27:00.000000000",
          "2025-08-07T14:28:00.000000000",
          "2025-08-07T14:29:00.000000000",
          "2025-08-07T14:30:00.000000000",
          "2025-08-07T14:31:00.000000000",
          "2025-08-07T14:32:00.000000000",
          "2025-08-07T14:33:00.000000000",
          "2025-08-07T14:34:00.000000000",
          "2025-08-07T14:35:00.000000000",
          "2025-08-07T14:36:00.000000000",
          "2025-08-07T14:37:00.000000000",
          "2025-08-07T14:38:00.000000000",
          "2025-08-07T14:39:00.000000000",
          "2025-08-07T14:40:00.000000000",
          "2025-08-07T14:41:00.000000000",
          "2025-08-07T14:42:00.000000000",
          "2025-08-07T14:43:00.000000000",
          "2025-08-07T14:44:00.000000000",
          "2025-08-07T14:45:00.000000000",
          "2025-08-07T14:46:00.000000000",
          "2025-08-07T14:47:00.000000000",
          "2025-08-07T14:48:00.000000000",
          "2025-08-07T14:49:00.000000000",
          "2025-08-07T14:50:00.000000000",
          "2025-08-07T14:51:00.000000000",
          "2025-08-07T14:52:00.000000000",
          "2025-08-07T14:53:00.000000000",
          "2025-08-07T14:54:00.000000000",
          "2025-08-07T14:55:00.000000000",
          "2025-08-07T14:56:00.000000000",
          "2025-08-07T14:57:00.000000000",
          "2025-08-07T14:58:00.000000000",
          "2025-08-07T14:59:00.000000000",
          "2025-08-07T15:00:00.000000000",
          "2025-08-07T15:01:00.000000000",
          "2025-08-07T15:02:00.000000000",
          "2025-08-07T15:03:00.000000000",
          "2025-08-07T15:04:00.000000000",
          "2025-08-07T15:05:00.000000000",
          "2025-08-07T15:06:00.000000000",
          "2025-08-07T15:07:00.000000000",
          "2025-08-07T15:08:00.000000000",
          "2025-08-07T15:09:00.000000000",
          "2025-08-07T15:10:00.000000000",
          "2025-08-07T15:11:00.000000000",
          "2025-08-07T15:12:00.000000000",
          "2025-08-07T15:13:00.000000000",
          "2025-08-07T15:14:00.000000000",
          "2025-08-07T15:15:00.000000000",
          "2025-08-07T15:16:00.000000000",
          "2025-08-07T15:17:00.000000000",
          "2025-08-07T15:18:00.000000000",
          "2025-08-07T15:19:00.000000000",
          "2025-08-07T15:20:00.000000000",
          "2025-08-07T15:21:00.000000000",
          "2025-08-07T15:22:00.000000000",
          "2025-08-07T15:23:00.000000000",
          "2025-08-07T15:24:00.000000000",
          "2025-08-07T15:25:00.000000000",
          "2025-08-07T15:26:00.000000000",
          "2025-08-07T15:27:00.000000000",
          "2025-08-07T15:28:00.000000000",
          "2025-08-07T15:29:00.000000000",
          "2025-08-07T15:30:00.000000000",
          "2025-08-07T15:31:00.000000000",
          "2025-08-07T15:32:00.000000000",
          "2025-08-07T15:33:00.000000000",
          "2025-08-07T15:34:00.000000000",
          "2025-08-07T15:35:00.000000000",
          "2025-08-07T15:36:00.000000000",
          "2025-08-07T15:37:00.000000000",
          "2025-08-07T15:38:00.000000000",
          "2025-08-07T15:39:00.000000000",
          "2025-08-07T15:40:00.000000000",
          "2025-08-07T15:41:00.000000000",
          "2025-08-07T15:42:00.000000000",
          "2025-08-07T15:43:00.000000000",
          "2025-08-07T15:44:00.000000000",
          "2025-08-07T15:45:00.000000000",
          "2025-08-07T15:46:00.000000000",
          "2025-08-07T15:47:00.000000000",
          "2025-08-07T15:48:00.000000000",
          "2025-08-07T15:49:00.000000000",
          "2025-08-07T15:50:00.000000000",
          "2025-08-07T15:51:00.000000000",
          "2025-08-07T15:52:00.000000000",
          "2025-08-07T15:53:00.000000000",
          "2025-08-07T15:54:00.000000000",
          "2025-08-07T15:55:00.000000000",
          "2025-08-07T15:56:00.000000000",
          "2025-08-07T15:57:00.000000000",
          "2025-08-07T15:58:00.000000000",
          "2025-08-07T15:59:00.000000000"
         ],
         "xaxis": "x",
         "yaxis": "y"
        },
        {
         "line": {
          "color": "#FF66FE",
          "width": 0.6
         },
         "mode": "lines",
         "name": "HMA",
         "showlegend": false,
         "type": "scatter",
         "x": [
          "2025-08-07T09:00:00-04:00",
          "2025-08-07T09:01:00-04:00"
         ],
         "xaxis": "x",
         "y": {
          "bdata": "w/UoXA/JuEDD9ShcD8m4QA==",
          "dtype": "f8"
         },
         "yaxis": "y"
        },
        {
         "line": {
          "color": "#01FFFF",
          "width": 0.6
         },
         "mode": "lines",
         "name": "HMA",
         "showlegend": false,
         "type": "scatter",
         "x": [
          "2025-08-07T09:01:00-04:00",
          "2025-08-07T09:02:00-04:00"
         ],
         "xaxis": "x",
         "y": {
          "bdata": "w/UoXA/JuEDE9ShcD8m4QA==",
          "dtype": "f8"
         },
         "yaxis": "y"
        },
        {
         "line": {
          "color": "#FF66FE",
          "width": 0.6
         },
         "mode": "lines",
         "name": "HMA",
         "showlegend": false,
         "type": "scatter",
         "x": [
          "2025-08-07T09:02:00-04:00",
          "2025-08-07T09:03:00-04:00"
         ],
         "xaxis": "x",
         "y": {
          "bdata": "xPUoXA/JuEDE9ShcD8m4QA==",
          "dtype": "f8"
         },
         "yaxis": "y"
        },
        {
         "line": {
          "color": "#FF66FE",
          "width": 0.6
         },
         "mode": "lines",
         "name": "HMA",
         "showlegend": false,
         "type": "scatter",
         "x": [
          "2025-08-07T09:03:00-04:00",
          "2025-08-07T09:04:00-04:00"
         ],
         "xaxis": "x",
         "y": {
          "bdata": "xPUoXA/JuEDE9ShcD8m4QA==",
          "dtype": "f8"
         },
         "yaxis": "y"
        },
        {
         "line": {
          "color": "#FF66FE",
          "width": 0.6
         },
         "mode": "lines",
         "name": "HMA",
         "showlegend": false,
         "type": "scatter",
         "x": [
          "2025-08-07T09:04:00-04:00",
          "2025-08-07T09:05:00-04:00"
         ],
         "xaxis": "x",
         "y": {
          "bdata": "xPUoXA/JuEDE9ShcD8m4QA==",
          "dtype": "f8"
         },
         "yaxis": "y"
        },
        {
         "line": {
          "color": "#FF66FE",
          "width": 0.6
         },
         "mode": "lines",
         "name": "HMA",
         "showlegend": false,
         "type": "scatter",
         "x": [
          "2025-08-07T09:05:00-04:00",
          "2025-08-07T09:06:00-04:00"
         ],
         "xaxis": "x",
         "y": {
          "bdata": "xPUoXA/JuEDE9ShcD8m4QA==",
          "dtype": "f8"
         },
         "yaxis": "y"
        },
        {
         "line": {
          "color": "#FF66FE",
          "width": 0.6
         },
         "mode": "lines",
         "name": "HMA",
         "showlegend": false,
         "type": "scatter",
         "x": [
          "2025-08-07T09:06:00-04:00",
          "2025-08-07T09:07:00-04:00"
         ],
         "xaxis": "x",
         "y": {
          "bdata": "xPUoXA/JuEDE9ShcD8m4QA==",
          "dtype": "f8"
         },
         "yaxis": "y"
        },
        {
         "line": {
          "color": "#FF66FE",
          "width": 0.6
         },
         "mode": "lines",
         "name": "HMA",
         "showlegend": false,
         "type": "scatter",
         "x": [
          "2025-08-07T09:07:00-04:00",
          "2025-08-07T09:08:00-04:00"
         ],
         "xaxis": "x",
         "y": {
          "bdata": "xPUoXA/JuEDE9ShcD8m4QA==",
          "dtype": "f8"
         },
         "yaxis": "y"
        },
        {
         "line": {
          "color": "#FF66FE",
          "width": 0.6
         },
         "mode": "lines",
         "name": "HMA",
         "showlegend": false,
         "type": "scatter",
         "x": [
          "2025-08-07T09:08:00-04:00",
          "2025-08-07T09:09:00-04:00"
         ],
         "xaxis": "x",
         "y": {
          "bdata": "xPUoXA/JuEDE9ShcD8m4QA==",
          "dtype": "f8"
         },
         "yaxis": "y"
        },
        {
         "line": {
          "color": "#FF66FE",
          "width": 0.6
         },
         "mode": "lines",
         "name": "HMA",
         "showlegend": false,
         "type": "scatter",
         "x": [
          "2025-08-07T09:09:00-04:00",
          "2025-08-07T09:10:00-04:00"
         ],
         "xaxis": "x",
         "y": {
          "bdata": "xPUoXA/JuEDE9ShcD8m4QA==",
          "dtype": "f8"
         },
         "yaxis": "y"
        },
        {
         "line": {
          "color": "#FF66FE",
          "width": 0.6
         },
         "mode": "lines",
         "name": "HMA",
         "showlegend": false,
         "type": "scatter",
         "x": [
          "2025-08-07T09:10:00-04:00",
          "2025-08-07T09:11:00-04:00"
         ],
         "xaxis": "x",
         "y": {
          "bdata": "xPUoXA/JuEDE9ShcD8m4QA==",
          "dtype": "f8"
         },
         "yaxis": "y"
        },
        {
         "line": {
          "color": "#FF66FE",
          "width": 0.6
         },
         "mode": "lines",
         "name": "HMA",
         "showlegend": false,
         "type": "scatter",
         "x": [
          "2025-08-07T09:11:00-04:00",
          "2025-08-07T09:12:00-04:00"
         ],
         "xaxis": "x",
         "y": {
          "bdata": "xPUoXA/JuEDE9ShcD8m4QA==",
          "dtype": "f8"
         },
         "yaxis": "y"
        },
        {
         "line": {
          "color": "#FF66FE",
          "width": 0.6
         },
         "mode": "lines",
         "name": "HMA",
         "showlegend": false,
         "type": "scatter",
         "x": [
          "2025-08-07T09:12:00-04:00",
          "2025-08-07T09:13:00-04:00"
         ],
         "xaxis": "x",
         "y": {
          "bdata": "xPUoXA/JuEDE9ShcD8m4QA==",
          "dtype": "f8"
         },
         "yaxis": "y"
        },
        {
         "line": {
          "color": "#FF66FE",
          "width": 0.6
         },
         "mode": "lines",
         "name": "HMA",
         "showlegend": false,
         "type": "scatter",
         "x": [
          "2025-08-07T09:13:00-04:00",
          "2025-08-07T09:14:00-04:00"
         ],
         "xaxis": "x",
         "y": {
          "bdata": "xPUoXA/JuEDE9ShcD8m4QA==",
          "dtype": "f8"
         },
         "yaxis": "y"
        },
        {
         "line": {
          "color": "#FF66FE",
          "width": 0.6
         },
         "mode": "lines",
         "name": "HMA",
         "showlegend": false,
         "type": "scatter",
         "x": [
          "2025-08-07T09:14:00-04:00",
          "2025-08-07T09:15:00-04:00"
         ],
         "xaxis": "x",
         "y": {
          "bdata": "xPUoXA/JuEDE9ShcD8m4QA==",
          "dtype": "f8"
         },
         "yaxis": "y"
        },
        {
         "line": {
          "color": "#FF66FE",
          "width": 0.6
         },
         "mode": "lines",
         "name": "HMA",
         "showlegend": false,
         "type": "scatter",
         "x": [
          "2025-08-07T09:15:00-04:00",
          "2025-08-07T09:16:00-04:00"
         ],
         "xaxis": "x",
         "y": {
          "bdata": "xPUoXA/JuEDE9ShcD8m4QA==",
          "dtype": "f8"
         },
         "yaxis": "y"
        },
        {
         "line": {
          "color": "#FF66FE",
          "width": 0.6
         },
         "mode": "lines",
         "name": "HMA",
         "showlegend": false,
         "type": "scatter",
         "x": [
          "2025-08-07T09:16:00-04:00",
          "2025-08-07T09:17:00-04:00"
         ],
         "xaxis": "x",
         "y": {
          "bdata": "xPUoXA/JuEDE9ShcD8m4QA==",
          "dtype": "f8"
         },
         "yaxis": "y"
        },
        {
         "line": {
          "color": "#FF66FE",
          "width": 0.6
         },
         "mode": "lines",
         "name": "HMA",
         "showlegend": false,
         "type": "scatter",
         "x": [
          "2025-08-07T09:17:00-04:00",
          "2025-08-07T09:18:00-04:00"
         ],
         "xaxis": "x",
         "y": {
          "bdata": "xPUoXA/JuEDE9ShcD8m4QA==",
          "dtype": "f8"
         },
         "yaxis": "y"
        },
        {
         "line": {
          "color": "#FF66FE",
          "width": 0.6
         },
         "mode": "lines",
         "name": "HMA",
         "showlegend": false,
         "type": "scatter",
         "x": [
          "2025-08-07T09:18:00-04:00",
          "2025-08-07T09:19:00-04:00"
         ],
         "xaxis": "x",
         "y": {
          "bdata": "xPUoXA/JuEDE9ShcD8m4QA==",
          "dtype": "f8"
         },
         "yaxis": "y"
        },
        {
         "line": {
          "color": "#FF66FE",
          "width": 0.6
         },
         "mode": "lines",
         "name": "HMA",
         "showlegend": false,
         "type": "scatter",
         "x": [
          "2025-08-07T09:19:00-04:00",
          "2025-08-07T09:20:00-04:00"
         ],
         "xaxis": "x",
         "y": {
          "bdata": "xPUoXA/JuEDE9ShcD8m4QA==",
          "dtype": "f8"
         },
         "yaxis": "y"
        },
        {
         "line": {
          "color": "#FF66FE",
          "width": 0.6
         },
         "mode": "lines",
         "name": "HMA",
         "showlegend": false,
         "type": "scatter",
         "x": [
          "2025-08-07T09:20:00-04:00",
          "2025-08-07T09:21:00-04:00"
         ],
         "xaxis": "x",
         "y": {
          "bdata": "xPUoXA/JuEDE9ShcD8m4QA==",
          "dtype": "f8"
         },
         "yaxis": "y"
        },
        {
         "line": {
          "color": "#FF66FE",
          "width": 0.6
         },
         "mode": "lines",
         "name": "HMA",
         "showlegend": false,
         "type": "scatter",
         "x": [
          "2025-08-07T09:21:00-04:00",
          "2025-08-07T09:22:00-04:00"
         ],
         "xaxis": "x",
         "y": {
          "bdata": "xPUoXA/JuEDE9ShcD8m4QA==",
          "dtype": "f8"
         },
         "yaxis": "y"
        },
        {
         "line": {
          "color": "#FF66FE",
          "width": 0.6
         },
         "mode": "lines",
         "name": "HMA",
         "showlegend": false,
         "type": "scatter",
         "x": [
          "2025-08-07T09:22:00-04:00",
          "2025-08-07T09:23:00-04:00"
         ],
         "xaxis": "x",
         "y": {
          "bdata": "xPUoXA/JuEDE9ShcD8m4QA==",
          "dtype": "f8"
         },
         "yaxis": "y"
        },
        {
         "line": {
          "color": "#FF66FE",
          "width": 0.6
         },
         "mode": "lines",
         "name": "HMA",
         "showlegend": false,
         "type": "scatter",
         "x": [
          "2025-08-07T09:23:00-04:00",
          "2025-08-07T09:24:00-04:00"
         ],
         "xaxis": "x",
         "y": {
          "bdata": "xPUoXA/JuEDE9ShcD8m4QA==",
          "dtype": "f8"
         },
         "yaxis": "y"
        },
        {
         "line": {
          "color": "#FF66FE",
          "width": 0.6
         },
         "mode": "lines",
         "name": "HMA",
         "showlegend": false,
         "type": "scatter",
         "x": [
          "2025-08-07T09:24:00-04:00",
          "2025-08-07T09:25:00-04:00"
         ],
         "xaxis": "x",
         "y": {
          "bdata": "xPUoXA/JuEDE9ShcD8m4QA==",
          "dtype": "f8"
         },
         "yaxis": "y"
        },
        {
         "line": {
          "color": "#FF66FE",
          "width": 0.6
         },
         "mode": "lines",
         "name": "HMA",
         "showlegend": false,
         "type": "scatter",
         "x": [
          "2025-08-07T09:25:00-04:00",
          "2025-08-07T09:26:00-04:00"
         ],
         "xaxis": "x",
         "y": {
          "bdata": "xPUoXA/JuEDE9ShcD8m4QA==",
          "dtype": "f8"
         },
         "yaxis": "y"
        },
        {
         "line": {
          "color": "#FF66FE",
          "width": 0.6
         },
         "mode": "lines",
         "name": "HMA",
         "showlegend": false,
         "type": "scatter",
         "x": [
          "2025-08-07T09:26:00-04:00",
          "2025-08-07T09:27:00-04:00"
         ],
         "xaxis": "x",
         "y": {
          "bdata": "xPUoXA/JuEDE9ShcD8m4QA==",
          "dtype": "f8"
         },
         "yaxis": "y"
        },
        {
         "line": {
          "color": "#FF66FE",
          "width": 0.6
         },
         "mode": "lines",
         "name": "HMA",
         "showlegend": false,
         "type": "scatter",
         "x": [
          "2025-08-07T09:27:00-04:00",
          "2025-08-07T09:28:00-04:00"
         ],
         "xaxis": "x",
         "y": {
          "bdata": "xPUoXA/JuEDE9ShcD8m4QA==",
          "dtype": "f8"
         },
         "yaxis": "y"
        },
        {
         "line": {
          "color": "#FF66FE",
          "width": 0.6
         },
         "mode": "lines",
         "name": "HMA",
         "showlegend": false,
         "type": "scatter",
         "x": [
          "2025-08-07T09:28:00-04:00",
          "2025-08-07T09:29:00-04:00"
         ],
         "xaxis": "x",
         "y": {
          "bdata": "xPUoXA/JuEDE9ShcD8m4QA==",
          "dtype": "f8"
         },
         "yaxis": "y"
        },
        {
         "line": {
          "color": "#01FFFF",
          "width": 0.6
         },
         "mode": "lines",
         "name": "HMA",
         "showlegend": false,
         "type": "scatter",
         "x": [
          "2025-08-07T09:29:00-04:00",
          "2025-08-07T09:30:00-04:00"
         ],
         "xaxis": "x",
         "y": {
          "bdata": "xPUoXA/JuEDdQkHdjMy4QA==",
          "dtype": "f8"
         },
         "yaxis": "y"
        },
        {
         "line": {
          "color": "#01FFFF",
          "width": 0.6
         },
         "mode": "lines",
         "name": "HMA",
         "showlegend": false,
         "type": "scatter",
         "x": [
          "2025-08-07T09:30:00-04:00",
          "2025-08-07T09:31:00-04:00"
         ],
         "xaxis": "x",
         "y": {
          "bdata": "3UJB3YzMuEAUj7CNhNK4QA==",
          "dtype": "f8"
         },
         "yaxis": "y"
        },
        {
         "line": {
          "color": "#01FFFF",
          "width": 0.6
         },
         "mode": "lines",
         "name": "HMA",
         "showlegend": false,
         "type": "scatter",
         "x": [
          "2025-08-07T09:31:00-04:00",
          "2025-08-07T09:32:00-04:00"
         ],
         "xaxis": "x",
         "y": {
          "bdata": "FI+wjYTSuEBe2weXSNq4QA==",
          "dtype": "f8"
         },
         "yaxis": "y"
        },
        {
         "line": {
          "color": "#01FFFF",
          "width": 0.6
         },
         "mode": "lines",
         "name": "HMA",
         "showlegend": false,
         "type": "scatter",
         "x": [
          "2025-08-07T09:32:00-04:00",
          "2025-08-07T09:33:00-04:00"
         ],
         "xaxis": "x",
         "y": {
          "bdata": "XtsHl0jauEDQU9ndc+K4QA==",
          "dtype": "f8"
         },
         "yaxis": "y"
        },
        {
         "line": {
          "color": "#01FFFF",
          "width": 0.6
         },
         "mode": "lines",
         "name": "HMA",
         "showlegend": false,
         "type": "scatter",
         "x": [
          "2025-08-07T09:33:00-04:00",
          "2025-08-07T09:34:00-04:00"
         ],
         "xaxis": "x",
         "y": {
          "bdata": "0FPZ3XPiuEAaxDmyyem4QA==",
          "dtype": "f8"
         },
         "yaxis": "y"
        },
        {
         "line": {
          "color": "#01FFFF",
          "width": 0.6
         },
         "mode": "lines",
         "name": "HMA",
         "showlegend": false,
         "type": "scatter",
         "x": [
          "2025-08-07T09:34:00-04:00",
          "2025-08-07T09:35:00-04:00"
         ],
         "xaxis": "x",
         "y": {
          "bdata": "GsQ5ssnpuEDIFwvwAPC4QA==",
          "dtype": "f8"
         },
         "yaxis": "y"
        },
        {
         "line": {
          "color": "#01FFFF",
          "width": 0.6
         },
         "mode": "lines",
         "name": "HMA",
         "showlegend": false,
         "type": "scatter",
         "x": [
          "2025-08-07T09:35:00-04:00",
          "2025-08-07T09:36:00-04:00"
         ],
         "xaxis": "x",
         "y": {
          "bdata": "yBcL8ADwuEBGwfphgfS4QA==",
          "dtype": "f8"
         },
         "yaxis": "y"
        },
        {
         "line": {
          "color": "#01FFFF",
          "width": 0.6
         },
         "mode": "lines",
         "name": "HMA",
         "showlegend": false,
         "type": "scatter",
         "x": [
          "2025-08-07T09:36:00-04:00",
          "2025-08-07T09:37:00-04:00"
         ],
         "xaxis": "x",
         "y": {
          "bdata": "RsH6YYH0uEDzh/KzfPe4QA==",
          "dtype": "f8"
         },
         "yaxis": "y"
        },
        {
         "line": {
          "color": "#01FFFF",
          "width": 0.6
         },
         "mode": "lines",
         "name": "HMA",
         "showlegend": false,
         "type": "scatter",
         "x": [
          "2025-08-07T09:37:00-04:00",
          "2025-08-07T09:38:00-04:00"
         ],
         "xaxis": "x",
         "y": {
          "bdata": "84fys3z3uEAirSi8S/m4QA==",
          "dtype": "f8"
         },
         "yaxis": "y"
        },
        {
         "line": {
          "color": "#01FFFF",
          "width": 0.6
         },
         "mode": "lines",
         "name": "HMA",
         "showlegend": false,
         "type": "scatter",
         "x": [
          "2025-08-07T09:38:00-04:00",
          "2025-08-07T09:39:00-04:00"
         ],
         "xaxis": "x",
         "y": {
          "bdata": "Iq0ovEv5uEBMvMIANfq4QA==",
          "dtype": "f8"
         },
         "yaxis": "y"
        },
        {
         "line": {
          "color": "#01FFFF",
          "width": 0.6
         },
         "mode": "lines",
         "name": "HMA",
         "showlegend": false,
         "type": "scatter",
         "x": [
          "2025-08-07T09:39:00-04:00",
          "2025-08-07T09:40:00-04:00"
         ],
         "xaxis": "x",
         "y": {
          "bdata": "TLzCADX6uECSRZasTfq4QA==",
          "dtype": "f8"
         },
         "yaxis": "y"
        },
        {
         "line": {
          "color": "#FF66FE",
          "width": 0.6
         },
         "mode": "lines",
         "name": "HMA",
         "showlegend": false,
         "type": "scatter",
         "x": [
          "2025-08-07T09:40:00-04:00",
          "2025-08-07T09:41:00-04:00"
         ],
         "xaxis": "x",
         "y": {
          "bdata": "kkWWrE36uEC4JG9R1vm4QA==",
          "dtype": "f8"
         },
         "yaxis": "y"
        },
        {
         "line": {
          "color": "#FF66FE",
          "width": 0.6
         },
         "mode": "lines",
         "name": "HMA",
         "showlegend": false,
         "type": "scatter",
         "x": [
          "2025-08-07T09:41:00-04:00",
          "2025-08-07T09:42:00-04:00"
         ],
         "xaxis": "x",
         "y": {
          "bdata": "uCRvUdb5uEBea/NAVvi4QA==",
          "dtype": "f8"
         },
         "yaxis": "y"
        },
        {
         "line": {
          "color": "#FF66FE",
          "width": 0.6
         },
         "mode": "lines",
         "name": "HMA",
         "showlegend": false,
         "type": "scatter",
         "x": [
          "2025-08-07T09:42:00-04:00",
          "2025-08-07T09:43:00-04:00"
         ],
         "xaxis": "x",
         "y": {
          "bdata": "XmvzQFb4uEDI6Va4Qfa4QA==",
          "dtype": "f8"
         },
         "yaxis": "y"
        },
        {
         "line": {
          "color": "#FF66FE",
          "width": 0.6
         },
         "mode": "lines",
         "name": "HMA",
         "showlegend": false,
         "type": "scatter",
         "x": [
          "2025-08-07T09:43:00-04:00",
          "2025-08-07T09:44:00-04:00"
         ],
         "xaxis": "x",
         "y": {
          "bdata": "yOlWuEH2uEAHFUL0MfS4QA==",
          "dtype": "f8"
         },
         "yaxis": "y"
        },
        {
         "line": {
          "color": "#FF66FE",
          "width": 0.6
         },
         "mode": "lines",
         "name": "HMA",
         "showlegend": false,
         "type": "scatter",
         "x": [
          "2025-08-07T09:44:00-04:00",
          "2025-08-07T09:45:00-04:00"
         ],
         "xaxis": "x",
         "y": {
          "bdata": "BxVC9DH0uEBIGx8PoPG4QA==",
          "dtype": "f8"
         },
         "yaxis": "y"
        },
        {
         "line": {
          "color": "#FF66FE",
          "width": 0.6
         },
         "mode": "lines",
         "name": "HMA",
         "showlegend": false,
         "type": "scatter",
         "x": [
          "2025-08-07T09:45:00-04:00",
          "2025-08-07T09:46:00-04:00"
         ],
         "xaxis": "x",
         "y": {
          "bdata": "SBsfD6DxuEBqr0Vk5u64QA==",
          "dtype": "f8"
         },
         "yaxis": "y"
        },
        {
         "line": {
          "color": "#FF66FE",
          "width": 0.6
         },
         "mode": "lines",
         "name": "HMA",
         "showlegend": false,
         "type": "scatter",
         "x": [
          "2025-08-07T09:46:00-04:00",
          "2025-08-07T09:47:00-04:00"
         ],
         "xaxis": "x",
         "y": {
          "bdata": "aq9FZObuuEB1INVkUuy4QA==",
          "dtype": "f8"
         },
         "yaxis": "y"
        },
        {
         "line": {
          "color": "#FF66FE",
          "width": 0.6
         },
         "mode": "lines",
         "name": "HMA",
         "showlegend": false,
         "type": "scatter",
         "x": [
          "2025-08-07T09:47:00-04:00",
          "2025-08-07T09:48:00-04:00"
         ],
         "xaxis": "x",
         "y": {
          "bdata": "dSDVZFLsuEDdcTSB2+m4QA==",
          "dtype": "f8"
         },
         "yaxis": "y"
        },
        {
         "line": {
          "color": "#FF66FE",
          "width": 0.6
         },
         "mode": "lines",
         "name": "HMA",
         "showlegend": false,
         "type": "scatter",
         "x": [
          "2025-08-07T09:48:00-04:00",
          "2025-08-07T09:49:00-04:00"
         ],
         "xaxis": "x",
         "y": {
          "bdata": "3XE0gdvpuEByTYOy++e4QA==",
          "dtype": "f8"
         },
         "yaxis": "y"
        },
        {
         "line": {
          "color": "#FF66FE",
          "width": 0.6
         },
         "mode": "lines",
         "name": "HMA",
         "showlegend": false,
         "type": "scatter",
         "x": [
          "2025-08-07T09:49:00-04:00",
          "2025-08-07T09:50:00-04:00"
         ],
         "xaxis": "x",
         "y": {
          "bdata": "ck2DsvvnuEDybT/cBOe4QA==",
          "dtype": "f8"
         },
         "yaxis": "y"
        },
        {
         "line": {
          "color": "#FF66FE",
          "width": 0.6
         },
         "mode": "lines",
         "name": "HMA",
         "showlegend": false,
         "type": "scatter",
         "x": [
          "2025-08-07T09:50:00-04:00",
          "2025-08-07T09:51:00-04:00"
         ],
         "xaxis": "x",
         "y": {
          "bdata": "8m0/3ATnuEDuS89Mpua4QA==",
          "dtype": "f8"
         },
         "yaxis": "y"
        },
        {
         "line": {
          "color": "#01FFFF",
          "width": 0.6
         },
         "mode": "lines",
         "name": "HMA",
         "showlegend": false,
         "type": "scatter",
         "x": [
          "2025-08-07T09:51:00-04:00",
          "2025-08-07T09:52:00-04:00"
         ],
         "xaxis": "x",
         "y": {
          "bdata": "7kvPTKbmuEBdbgRr0ua4QA==",
          "dtype": "f8"
         },
         "yaxis": "y"
        },
        {
         "line": {
          "color": "#01FFFF",
          "width": 0.6
         },
         "mode": "lines",
         "name": "HMA",
         "showlegend": false,
         "type": "scatter",
         "x": [
          "2025-08-07T09:52:00-04:00",
          "2025-08-07T09:53:00-04:00"
         ],
         "xaxis": "x",
         "y": {
          "bdata": "XW4Ea9LmuEC2z2YOOue4QA==",
          "dtype": "f8"
         },
         "yaxis": "y"
        },
        {
         "line": {
          "color": "#01FFFF",
          "width": 0.6
         },
         "mode": "lines",
         "name": "HMA",
         "showlegend": false,
         "type": "scatter",
         "x": [
          "2025-08-07T09:53:00-04:00",
          "2025-08-07T09:54:00-04:00"
         ],
         "xaxis": "x",
         "y": {
          "bdata": "ts9mDjrnuED6D1u8oue4QA==",
          "dtype": "f8"
         },
         "yaxis": "y"
        },
        {
         "line": {
          "color": "#01FFFF",
          "width": 0.6
         },
         "mode": "lines",
         "name": "HMA",
         "showlegend": false,
         "type": "scatter",
         "x": [
          "2025-08-07T09:54:00-04:00",
          "2025-08-07T09:55:00-04:00"
         ],
         "xaxis": "x",
         "y": {
          "bdata": "+g9bvKLnuECzBddpeui4QA==",
          "dtype": "f8"
         },
         "yaxis": "y"
        },
        {
         "line": {
          "color": "#01FFFF",
          "width": 0.6
         },
         "mode": "lines",
         "name": "HMA",
         "showlegend": false,
         "type": "scatter",
         "x": [
          "2025-08-07T09:55:00-04:00",
          "2025-08-07T09:56:00-04:00"
         ],
         "xaxis": "x",
         "y": {
          "bdata": "swXXaXrouEBLthEduum4QA==",
          "dtype": "f8"
         },
         "yaxis": "y"
        },
        {
         "line": {
          "color": "#01FFFF",
          "width": 0.6
         },
         "mode": "lines",
         "name": "HMA",
         "showlegend": false,
         "type": "scatter",
         "x": [
          "2025-08-07T09:56:00-04:00",
          "2025-08-07T09:57:00-04:00"
         ],
         "xaxis": "x",
         "y": {
          "bdata": "S7YRHbrpuEBsj8ZFP+u4QA==",
          "dtype": "f8"
         },
         "yaxis": "y"
        },
        {
         "line": {
          "color": "#01FFFF",
          "width": 0.6
         },
         "mode": "lines",
         "name": "HMA",
         "showlegend": false,
         "type": "scatter",
         "x": [
          "2025-08-07T09:57:00-04:00",
          "2025-08-07T09:58:00-04:00"
         ],
         "xaxis": "x",
         "y": {
          "bdata": "bI/GRT/ruEDj0AVQyuy4QA==",
          "dtype": "f8"
         },
         "yaxis": "y"
        },
        {
         "line": {
          "color": "#01FFFF",
          "width": 0.6
         },
         "mode": "lines",
         "name": "HMA",
         "showlegend": false,
         "type": "scatter",
         "x": [
          "2025-08-07T09:58:00-04:00",
          "2025-08-07T09:59:00-04:00"
         ],
         "xaxis": "x",
         "y": {
          "bdata": "49AFUMrsuEBjwVbnK+64QA==",
          "dtype": "f8"
         },
         "yaxis": "y"
        },
        {
         "line": {
          "color": "#01FFFF",
          "width": 0.6
         },
         "mode": "lines",
         "name": "HMA",
         "showlegend": false,
         "type": "scatter",
         "x": [
          "2025-08-07T09:59:00-04:00",
          "2025-08-07T10:00:00-04:00"
         ],
         "xaxis": "x",
         "y": {
          "bdata": "Y8FW5yvuuEC1Si1Phe+4QA==",
          "dtype": "f8"
         },
         "yaxis": "y"
        },
        {
         "line": {
          "color": "#01FFFF",
          "width": 0.6
         },
         "mode": "lines",
         "name": "HMA",
         "showlegend": false,
         "type": "scatter",
         "x": [
          "2025-08-07T10:00:00-04:00",
          "2025-08-07T10:01:00-04:00"
         ],
         "xaxis": "x",
         "y": {
          "bdata": "tUotT4XvuEA+1Em9IPC4QA==",
          "dtype": "f8"
         },
         "yaxis": "y"
        },
        {
         "line": {
          "color": "#FF66FE",
          "width": 0.6
         },
         "mode": "lines",
         "name": "HMA",
         "showlegend": false,
         "type": "scatter",
         "x": [
          "2025-08-07T10:01:00-04:00",
          "2025-08-07T10:02:00-04:00"
         ],
         "xaxis": "x",
         "y": {
          "bdata": "PtRJvSDwuED2EHwJHfC4QA==",
          "dtype": "f8"
         },
         "yaxis": "y"
        },
        {
         "line": {
          "color": "#FF66FE",
          "width": 0.6
         },
         "mode": "lines",
         "name": "HMA",
         "showlegend": false,
         "type": "scatter",
         "x": [
          "2025-08-07T10:02:00-04:00",
          "2025-08-07T10:03:00-04:00"
         ],
         "xaxis": "x",
         "y": {
          "bdata": "9hB8CR3wuEBBC/oYtu+4QA==",
          "dtype": "f8"
         },
         "yaxis": "y"
        },
        {
         "line": {
          "color": "#FF66FE",
          "width": 0.6
         },
         "mode": "lines",
         "name": "HMA",
         "showlegend": false,
         "type": "scatter",
         "x": [
          "2025-08-07T10:03:00-04:00",
          "2025-08-07T10:04:00-04:00"
         ],
         "xaxis": "x",
         "y": {
          "bdata": "QQv6GLbvuECbtQI45O64QA==",
          "dtype": "f8"
         },
         "yaxis": "y"
        },
        {
         "line": {
          "color": "#FF66FE",
          "width": 0.6
         },
         "mode": "lines",
         "name": "HMA",
         "showlegend": false,
         "type": "scatter",
         "x": [
          "2025-08-07T10:04:00-04:00",
          "2025-08-07T10:05:00-04:00"
         ],
         "xaxis": "x",
         "y": {
          "bdata": "m7UCOOTuuECO/xxSje24QA==",
          "dtype": "f8"
         },
         "yaxis": "y"
        },
        {
         "line": {
          "color": "#FF66FE",
          "width": 0.6
         },
         "mode": "lines",
         "name": "HMA",
         "showlegend": false,
         "type": "scatter",
         "x": [
          "2025-08-07T10:05:00-04:00",
          "2025-08-07T10:06:00-04:00"
         ],
         "xaxis": "x",
         "y": {
          "bdata": "jv8cUo3tuEBqt8mZU+y4QA==",
          "dtype": "f8"
         },
         "yaxis": "y"
        },
        {
         "line": {
          "color": "#FF66FE",
          "width": 0.6
         },
         "mode": "lines",
         "name": "HMA",
         "showlegend": false,
         "type": "scatter",
         "x": [
          "2025-08-07T10:06:00-04:00",
          "2025-08-07T10:07:00-04:00"
         ],
         "xaxis": "x",
         "y": {
          "bdata": "arfJmVPsuEAuTFGR0uq4QA==",
          "dtype": "f8"
         },
         "yaxis": "y"
        },
        {
         "line": {
          "color": "#FF66FE",
          "width": 0.6
         },
         "mode": "lines",
         "name": "HMA",
         "showlegend": false,
         "type": "scatter",
         "x": [
          "2025-08-07T10:07:00-04:00",
          "2025-08-07T10:08:00-04:00"
         ],
         "xaxis": "x",
         "y": {
          "bdata": "LkxRkdLquEBaLDG0Num4QA==",
          "dtype": "f8"
         },
         "yaxis": "y"
        },
        {
         "line": {
          "color": "#FF66FE",
          "width": 0.6
         },
         "mode": "lines",
         "name": "HMA",
         "showlegend": false,
         "type": "scatter",
         "x": [
          "2025-08-07T10:08:00-04:00",
          "2025-08-07T10:09:00-04:00"
         ],
         "xaxis": "x",
         "y": {
          "bdata": "WiwxtDbpuED5ftzAN+e4QA==",
          "dtype": "f8"
         },
         "yaxis": "y"
        },
        {
         "line": {
          "color": "#FF66FE",
          "width": 0.6
         },
         "mode": "lines",
         "name": "HMA",
         "showlegend": false,
         "type": "scatter",
         "x": [
          "2025-08-07T10:09:00-04:00",
          "2025-08-07T10:10:00-04:00"
         ],
         "xaxis": "x",
         "y": {
          "bdata": "+X7cwDfnuEAwxHispOS4QA==",
          "dtype": "f8"
         },
         "yaxis": "y"
        },
        {
         "line": {
          "color": "#FF66FE",
          "width": 0.6
         },
         "mode": "lines",
         "name": "HMA",
         "showlegend": false,
         "type": "scatter",
         "x": [
          "2025-08-07T10:10:00-04:00",
          "2025-08-07T10:11:00-04:00"
         ],
         "xaxis": "x",
         "y": {
          "bdata": "MMR4rKTkuEBnA/Kv4+G4QA==",
          "dtype": "f8"
         },
         "yaxis": "y"
        },
        {
         "line": {
          "color": "#FF66FE",
          "width": 0.6
         },
         "mode": "lines",
         "name": "HMA",
         "showlegend": false,
         "type": "scatter",
         "x": [
          "2025-08-07T10:11:00-04:00",
          "2025-08-07T10:12:00-04:00"
         ],
         "xaxis": "x",
         "y": {
          "bdata": "ZwPyr+PhuEC+jrj0ft+4QA==",
          "dtype": "f8"
         },
         "yaxis": "y"
        },
        {
         "line": {
          "color": "#FF66FE",
          "width": 0.6
         },
         "mode": "lines",
         "name": "HMA",
         "showlegend": false,
         "type": "scatter",
         "x": [
          "2025-08-07T10:12:00-04:00",
          "2025-08-07T10:13:00-04:00"
         ],
         "xaxis": "x",
         "y": {
          "bdata": "vo649H7fuEDKfrTZet24QA==",
          "dtype": "f8"
         },
         "yaxis": "y"
        },
        {
         "line": {
          "color": "#FF66FE",
          "width": 0.6
         },
         "mode": "lines",
         "name": "HMA",
         "showlegend": false,
         "type": "scatter",
         "x": [
          "2025-08-07T10:13:00-04:00",
          "2025-08-07T10:14:00-04:00"
         ],
         "xaxis": "x",
         "y": {
          "bdata": "yn602XrduEDiXgEdBty4QA==",
          "dtype": "f8"
         },
         "yaxis": "y"
        },
        {
         "line": {
          "color": "#FF66FE",
          "width": 0.6
         },
         "mode": "lines",
         "name": "HMA",
         "showlegend": false,
         "type": "scatter",
         "x": [
          "2025-08-07T10:14:00-04:00",
          "2025-08-07T10:15:00-04:00"
         ],
         "xaxis": "x",
         "y": {
          "bdata": "4l4BHQbcuEB6tgCCjdq4QA==",
          "dtype": "f8"
         },
         "yaxis": "y"
        },
        {
         "line": {
          "color": "#FF66FE",
          "width": 0.6
         },
         "mode": "lines",
         "name": "HMA",
         "showlegend": false,
         "type": "scatter",
         "x": [
          "2025-08-07T10:15:00-04:00",
          "2025-08-07T10:16:00-04:00"
         ],
         "xaxis": "x",
         "y": {
          "bdata": "erYAgo3auEBydU4YfNm4QA==",
          "dtype": "f8"
         },
         "yaxis": "y"
        },
        {
         "line": {
          "color": "#FF66FE",
          "width": 0.6
         },
         "mode": "lines",
         "name": "HMA",
         "showlegend": false,
         "type": "scatter",
         "x": [
          "2025-08-07T10:16:00-04:00",
          "2025-08-07T10:17:00-04:00"
         ],
         "xaxis": "x",
         "y": {
          "bdata": "cnVOGHzZuEDW+Hfs8Ni4QA==",
          "dtype": "f8"
         },
         "yaxis": "y"
        },
        {
         "line": {
          "color": "#FF66FE",
          "width": 0.6
         },
         "mode": "lines",
         "name": "HMA",
         "showlegend": false,
         "type": "scatter",
         "x": [
          "2025-08-07T10:17:00-04:00",
          "2025-08-07T10:18:00-04:00"
         ],
         "xaxis": "x",
         "y": {
          "bdata": "1vh37PDYuEBWV5qreti4QA==",
          "dtype": "f8"
         },
         "yaxis": "y"
        },
        {
         "line": {
          "color": "#FF66FE",
          "width": 0.6
         },
         "mode": "lines",
         "name": "HMA",
         "showlegend": false,
         "type": "scatter",
         "x": [
          "2025-08-07T10:18:00-04:00",
          "2025-08-07T10:19:00-04:00"
         ],
         "xaxis": "x",
         "y": {
          "bdata": "Vleaq3rYuEAwng6UU9i4QA==",
          "dtype": "f8"
         },
         "yaxis": "y"
        },
        {
         "line": {
          "color": "#01FFFF",
          "width": 0.6
         },
         "mode": "lines",
         "name": "HMA",
         "showlegend": false,
         "type": "scatter",
         "x": [
          "2025-08-07T10:19:00-04:00",
          "2025-08-07T10:20:00-04:00"
         ],
         "xaxis": "x",
         "y": {
          "bdata": "MJ4OlFPYuEAeonbRYti4QA==",
          "dtype": "f8"
         },
         "yaxis": "y"
        },
        {
         "line": {
          "color": "#FF66FE",
          "width": 0.6
         },
         "mode": "lines",
         "name": "HMA",
         "showlegend": false,
         "type": "scatter",
         "x": [
          "2025-08-07T10:20:00-04:00",
          "2025-08-07T10:21:00-04:00"
         ],
         "xaxis": "x",
         "y": {
          "bdata": "HqJ20WLYuEBTBz1iU9i4QA==",
          "dtype": "f8"
         },
         "yaxis": "y"
        },
        {
         "line": {
          "color": "#FF66FE",
          "width": 0.6
         },
         "mode": "lines",
         "name": "HMA",
         "showlegend": false,
         "type": "scatter",
         "x": [
          "2025-08-07T10:21:00-04:00",
          "2025-08-07T10:22:00-04:00"
         ],
         "xaxis": "x",
         "y": {
          "bdata": "Uwc9YlPYuECNeuOSGNi4QA==",
          "dtype": "f8"
         },
         "yaxis": "y"
        },
        {
         "line": {
          "color": "#FF66FE",
          "width": 0.6
         },
         "mode": "lines",
         "name": "HMA",
         "showlegend": false,
         "type": "scatter",
         "x": [
          "2025-08-07T10:22:00-04:00",
          "2025-08-07T10:23:00-04:00"
         ],
         "xaxis": "x",
         "y": {
          "bdata": "jXrjkhjYuEAhGCGoi9e4QA==",
          "dtype": "f8"
         },
         "yaxis": "y"
        },
        {
         "line": {
          "color": "#FF66FE",
          "width": 0.6
         },
         "mode": "lines",
         "name": "HMA",
         "showlegend": false,
         "type": "scatter",
         "x": [
          "2025-08-07T10:23:00-04:00",
          "2025-08-07T10:24:00-04:00"
         ],
         "xaxis": "x",
         "y": {
          "bdata": "IRghqIvXuED9GHPXYta4QA==",
          "dtype": "f8"
         },
         "yaxis": "y"
        },
        {
         "line": {
          "color": "#FF66FE",
          "width": 0.6
         },
         "mode": "lines",
         "name": "HMA",
         "showlegend": false,
         "type": "scatter",
         "x": [
          "2025-08-07T10:24:00-04:00",
          "2025-08-07T10:25:00-04:00"
         ],
         "xaxis": "x",
         "y": {
          "bdata": "/Rhz12LWuEBdrllJr9S4QA==",
          "dtype": "f8"
         },
         "yaxis": "y"
        },
        {
         "line": {
          "color": "#FF66FE",
          "width": 0.6
         },
         "mode": "lines",
         "name": "HMA",
         "showlegend": false,
         "type": "scatter",
         "x": [
          "2025-08-07T10:25:00-04:00",
          "2025-08-07T10:26:00-04:00"
         ],
         "xaxis": "x",
         "y": {
          "bdata": "Xa5ZSa/UuECotACeBNO4QA==",
          "dtype": "f8"
         },
         "yaxis": "y"
        },
        {
         "line": {
          "color": "#FF66FE",
          "width": 0.6
         },
         "mode": "lines",
         "name": "HMA",
         "showlegend": false,
         "type": "scatter",
         "x": [
          "2025-08-07T10:26:00-04:00",
          "2025-08-07T10:27:00-04:00"
         ],
         "xaxis": "x",
         "y": {
          "bdata": "qLQAngTTuEBL5yyMjtG4QA==",
          "dtype": "f8"
         },
         "yaxis": "y"
        },
        {
         "line": {
          "color": "#FF66FE",
          "width": 0.6
         },
         "mode": "lines",
         "name": "HMA",
         "showlegend": false,
         "type": "scatter",
         "x": [
          "2025-08-07T10:27:00-04:00",
          "2025-08-07T10:28:00-04:00"
         ],
         "xaxis": "x",
         "y": {
          "bdata": "S+csjI7RuEAe+uS3ntC4QA==",
          "dtype": "f8"
         },
         "yaxis": "y"
        },
        {
         "line": {
          "color": "#FF66FE",
          "width": 0.6
         },
         "mode": "lines",
         "name": "HMA",
         "showlegend": false,
         "type": "scatter",
         "x": [
          "2025-08-07T10:28:00-04:00",
          "2025-08-07T10:29:00-04:00"
         ],
         "xaxis": "x",
         "y": {
          "bdata": "Hvrkt57QuEC10uk8SdC4QA==",
          "dtype": "f8"
         },
         "yaxis": "y"
        },
        {
         "line": {
          "color": "#FF66FE",
          "width": 0.6
         },
         "mode": "lines",
         "name": "HMA",
         "showlegend": false,
         "type": "scatter",
         "x": [
          "2025-08-07T10:29:00-04:00",
          "2025-08-07T10:30:00-04:00"
         ],
         "xaxis": "x",
         "y": {
          "bdata": "tdLpPEnQuEBbjSgm8M+4QA==",
          "dtype": "f8"
         },
         "yaxis": "y"
        },
        {
         "line": {
          "color": "#FF66FE",
          "width": 0.6
         },
         "mode": "lines",
         "name": "HMA",
         "showlegend": false,
         "type": "scatter",
         "x": [
          "2025-08-07T10:30:00-04:00",
          "2025-08-07T10:31:00-04:00"
         ],
         "xaxis": "x",
         "y": {
          "bdata": "W40oJvDPuEDXM5TVi8+4QA==",
          "dtype": "f8"
         },
         "yaxis": "y"
        },
        {
         "line": {
          "color": "#01FFFF",
          "width": 0.6
         },
         "mode": "lines",
         "name": "HMA",
         "showlegend": false,
         "type": "scatter",
         "x": [
          "2025-08-07T10:31:00-04:00",
          "2025-08-07T10:32:00-04:00"
         ],
         "xaxis": "x",
         "y": {
          "bdata": "1zOU1YvPuEBrJkueuM+4QA==",
          "dtype": "f8"
         },
         "yaxis": "y"
        },
        {
         "line": {
          "color": "#01FFFF",
          "width": 0.6
         },
         "mode": "lines",
         "name": "HMA",
         "showlegend": false,
         "type": "scatter",
         "x": [
          "2025-08-07T10:32:00-04:00",
          "2025-08-07T10:33:00-04:00"
         ],
         "xaxis": "x",
         "y": {
          "bdata": "ayZLnrjPuECe0RZdG9C4QA==",
          "dtype": "f8"
         },
         "yaxis": "y"
        },
        {
         "line": {
          "color": "#01FFFF",
          "width": 0.6
         },
         "mode": "lines",
         "name": "HMA",
         "showlegend": false,
         "type": "scatter",
         "x": [
          "2025-08-07T10:33:00-04:00",
          "2025-08-07T10:34:00-04:00"
         ],
         "xaxis": "x",
         "y": {
          "bdata": "ntEWXRvQuEC6Ldzl2dC4QA==",
          "dtype": "f8"
         },
         "yaxis": "y"
        },
        {
         "line": {
          "color": "#01FFFF",
          "width": 0.6
         },
         "mode": "lines",
         "name": "HMA",
         "showlegend": false,
         "type": "scatter",
         "x": [
          "2025-08-07T10:34:00-04:00",
          "2025-08-07T10:35:00-04:00"
         ],
         "xaxis": "x",
         "y": {
          "bdata": "ui3c5dnQuEApo/DnttG4QA==",
          "dtype": "f8"
         },
         "yaxis": "y"
        },
        {
         "line": {
          "color": "#01FFFF",
          "width": 0.6
         },
         "mode": "lines",
         "name": "HMA",
         "showlegend": false,
         "type": "scatter",
         "x": [
          "2025-08-07T10:35:00-04:00",
          "2025-08-07T10:36:00-04:00"
         ],
         "xaxis": "x",
         "y": {
          "bdata": "KaPw57bRuED6ZWhVX9K4QA==",
          "dtype": "f8"
         },
         "yaxis": "y"
        },
        {
         "line": {
          "color": "#01FFFF",
          "width": 0.6
         },
         "mode": "lines",
         "name": "HMA",
         "showlegend": false,
         "type": "scatter",
         "x": [
          "2025-08-07T10:36:00-04:00",
          "2025-08-07T10:37:00-04:00"
         ],
         "xaxis": "x",
         "y": {
          "bdata": "+mVoVV/SuEA7Skh5p9K4QA==",
          "dtype": "f8"
         },
         "yaxis": "y"
        },
        {
         "line": {
          "color": "#01FFFF",
          "width": 0.6
         },
         "mode": "lines",
         "name": "HMA",
         "showlegend": false,
         "type": "scatter",
         "x": [
          "2025-08-07T10:37:00-04:00",
          "2025-08-07T10:38:00-04:00"
         ],
         "xaxis": "x",
         "y": {
          "bdata": "O0pIeafSuEAqGoQdxtK4QA==",
          "dtype": "f8"
         },
         "yaxis": "y"
        },
        {
         "line": {
          "color": "#01FFFF",
          "width": 0.6
         },
         "mode": "lines",
         "name": "HMA",
         "showlegend": false,
         "type": "scatter",
         "x": [
          "2025-08-07T10:38:00-04:00",
          "2025-08-07T10:39:00-04:00"
         ],
         "xaxis": "x",
         "y": {
          "bdata": "KhqEHcbSuEDw9BHXLNO4QA==",
          "dtype": "f8"
         },
         "yaxis": "y"
        },
        {
         "line": {
          "color": "#01FFFF",
          "width": 0.6
         },
         "mode": "lines",
         "name": "HMA",
         "showlegend": false,
         "type": "scatter",
         "x": [
          "2025-08-07T10:39:00-04:00",
          "2025-08-07T10:40:00-04:00"
         ],
         "xaxis": "x",
         "y": {
          "bdata": "8PQR1yzTuEBj/y6Bn9O4QA==",
          "dtype": "f8"
         },
         "yaxis": "y"
        },
        {
         "line": {
          "color": "#01FFFF",
          "width": 0.6
         },
         "mode": "lines",
         "name": "HMA",
         "showlegend": false,
         "type": "scatter",
         "x": [
          "2025-08-07T10:40:00-04:00",
          "2025-08-07T10:41:00-04:00"
         ],
         "xaxis": "x",
         "y": {
          "bdata": "Y/8ugZ/TuEAL1JJGAdS4QA==",
          "dtype": "f8"
         },
         "yaxis": "y"
        },
        {
         "line": {
          "color": "#01FFFF",
          "width": 0.6
         },
         "mode": "lines",
         "name": "HMA",
         "showlegend": false,
         "type": "scatter",
         "x": [
          "2025-08-07T10:41:00-04:00",
          "2025-08-07T10:42:00-04:00"
         ],
         "xaxis": "x",
         "y": {
          "bdata": "C9SSRgHUuECSIMB5L9S4QA==",
          "dtype": "f8"
         },
         "yaxis": "y"
        },
        {
         "line": {
          "color": "#01FFFF",
          "width": 0.6
         },
         "mode": "lines",
         "name": "HMA",
         "showlegend": false,
         "type": "scatter",
         "x": [
          "2025-08-07T10:42:00-04:00",
          "2025-08-07T10:43:00-04:00"
         ],
         "xaxis": "x",
         "y": {
          "bdata": "kiDAeS/UuEAicZV4jdS4QA==",
          "dtype": "f8"
         },
         "yaxis": "y"
        },
        {
         "line": {
          "color": "#01FFFF",
          "width": 0.6
         },
         "mode": "lines",
         "name": "HMA",
         "showlegend": false,
         "type": "scatter",
         "x": [
          "2025-08-07T10:43:00-04:00",
          "2025-08-07T10:44:00-04:00"
         ],
         "xaxis": "x",
         "y": {
          "bdata": "InGVeI3UuEBAUpTAINW4QA==",
          "dtype": "f8"
         },
         "yaxis": "y"
        },
        {
         "line": {
          "color": "#01FFFF",
          "width": 0.6
         },
         "mode": "lines",
         "name": "HMA",
         "showlegend": false,
         "type": "scatter",
         "x": [
          "2025-08-07T10:44:00-04:00",
          "2025-08-07T10:45:00-04:00"
         ],
         "xaxis": "x",
         "y": {
          "bdata": "QFKUwCDVuEBTdOsUBta4QA==",
          "dtype": "f8"
         },
         "yaxis": "y"
        },
        {
         "line": {
          "color": "#01FFFF",
          "width": 0.6
         },
         "mode": "lines",
         "name": "HMA",
         "showlegend": false,
         "type": "scatter",
         "x": [
          "2025-08-07T10:45:00-04:00",
          "2025-08-07T10:46:00-04:00"
         ],
         "xaxis": "x",
         "y": {
          "bdata": "U3TrFAbWuEAKdTQQS9a4QA==",
          "dtype": "f8"
         },
         "yaxis": "y"
        },
        {
         "line": {
          "color": "#FF66FE",
          "width": 0.6
         },
         "mode": "lines",
         "name": "HMA",
         "showlegend": false,
         "type": "scatter",
         "x": [
          "2025-08-07T10:46:00-04:00",
          "2025-08-07T10:47:00-04:00"
         ],
         "xaxis": "x",
         "y": {
          "bdata": "CnU0EEvWuEDFx1gt1tW4QA==",
          "dtype": "f8"
         },
         "yaxis": "y"
        },
        {
         "line": {
          "color": "#FF66FE",
          "width": 0.6
         },
         "mode": "lines",
         "name": "HMA",
         "showlegend": false,
         "type": "scatter",
         "x": [
          "2025-08-07T10:47:00-04:00",
          "2025-08-07T10:48:00-04:00"
         ],
         "xaxis": "x",
         "y": {
          "bdata": "xcdYLdbVuEAYAZpdBNW4QA==",
          "dtype": "f8"
         },
         "yaxis": "y"
        },
        {
         "line": {
          "color": "#FF66FE",
          "width": 0.6
         },
         "mode": "lines",
         "name": "HMA",
         "showlegend": false,
         "type": "scatter",
         "x": [
          "2025-08-07T10:48:00-04:00",
          "2025-08-07T10:49:00-04:00"
         ],
         "xaxis": "x",
         "y": {
          "bdata": "GAGaXQTVuEC1uFPwQNS4QA==",
          "dtype": "f8"
         },
         "yaxis": "y"
        },
        {
         "line": {
          "color": "#FF66FE",
          "width": 0.6
         },
         "mode": "lines",
         "name": "HMA",
         "showlegend": false,
         "type": "scatter",
         "x": [
          "2025-08-07T10:49:00-04:00",
          "2025-08-07T10:50:00-04:00"
         ],
         "xaxis": "x",
         "y": {
          "bdata": "tbhT8EDUuEAYxn10edO4QA==",
          "dtype": "f8"
         },
         "yaxis": "y"
        },
        {
         "line": {
          "color": "#FF66FE",
          "width": 0.6
         },
         "mode": "lines",
         "name": "HMA",
         "showlegend": false,
         "type": "scatter",
         "x": [
          "2025-08-07T10:50:00-04:00",
          "2025-08-07T10:51:00-04:00"
         ],
         "xaxis": "x",
         "y": {
          "bdata": "GMZ9dHnTuEBBS8H7ZdK4QA==",
          "dtype": "f8"
         },
         "yaxis": "y"
        },
        {
         "line": {
          "color": "#FF66FE",
          "width": 0.6
         },
         "mode": "lines",
         "name": "HMA",
         "showlegend": false,
         "type": "scatter",
         "x": [
          "2025-08-07T10:51:00-04:00",
          "2025-08-07T10:52:00-04:00"
         ],
         "xaxis": "x",
         "y": {
          "bdata": "QUvB+2XSuEAiPzudKdG4QA==",
          "dtype": "f8"
         },
         "yaxis": "y"
        },
        {
         "line": {
          "color": "#FF66FE",
          "width": 0.6
         },
         "mode": "lines",
         "name": "HMA",
         "showlegend": false,
         "type": "scatter",
         "x": [
          "2025-08-07T10:52:00-04:00",
          "2025-08-07T10:53:00-04:00"
         ],
         "xaxis": "x",
         "y": {
          "bdata": "Ij87nSnRuEBqabGmsc+4QA==",
          "dtype": "f8"
         },
         "yaxis": "y"
        },
        {
         "line": {
          "color": "#FF66FE",
          "width": 0.6
         },
         "mode": "lines",
         "name": "HMA",
         "showlegend": false,
         "type": "scatter",
         "x": [
          "2025-08-07T10:53:00-04:00",
          "2025-08-07T10:54:00-04:00"
         ],
         "xaxis": "x",
         "y": {
          "bdata": "ammxprHPuEAgiR/xWc64QA==",
          "dtype": "f8"
         },
         "yaxis": "y"
        },
        {
         "line": {
          "color": "#FF66FE",
          "width": 0.6
         },
         "mode": "lines",
         "name": "HMA",
         "showlegend": false,
         "type": "scatter",
         "x": [
          "2025-08-07T10:54:00-04:00",
          "2025-08-07T10:55:00-04:00"
         ],
         "xaxis": "x",
         "y": {
          "bdata": "IIkf8VnOuEDbzSuA3My4QA==",
          "dtype": "f8"
         },
         "yaxis": "y"
        },
        {
         "line": {
          "color": "#FF66FE",
          "width": 0.6
         },
         "mode": "lines",
         "name": "HMA",
         "showlegend": false,
         "type": "scatter",
         "x": [
          "2025-08-07T10:55:00-04:00",
          "2025-08-07T10:56:00-04:00"
         ],
         "xaxis": "x",
         "y": {
          "bdata": "280rgNzMuEDv4z2Ye8u4QA==",
          "dtype": "f8"
         },
         "yaxis": "y"
        },
        {
         "line": {
          "color": "#FF66FE",
          "width": 0.6
         },
         "mode": "lines",
         "name": "HMA",
         "showlegend": false,
         "type": "scatter",
         "x": [
          "2025-08-07T10:56:00-04:00",
          "2025-08-07T10:57:00-04:00"
         ],
         "xaxis": "x",
         "y": {
          "bdata": "7+M9mHvLuEAGKhFQO8q4QA==",
          "dtype": "f8"
         },
         "yaxis": "y"
        },
        {
         "line": {
          "color": "#FF66FE",
          "width": 0.6
         },
         "mode": "lines",
         "name": "HMA",
         "showlegend": false,
         "type": "scatter",
         "x": [
          "2025-08-07T10:57:00-04:00",
          "2025-08-07T10:58:00-04:00"
         ],
         "xaxis": "x",
         "y": {
          "bdata": "BioRUDvKuEB612mTIMm4QA==",
          "dtype": "f8"
         },
         "yaxis": "y"
        },
        {
         "line": {
          "color": "#FF66FE",
          "width": 0.6
         },
         "mode": "lines",
         "name": "HMA",
         "showlegend": false,
         "type": "scatter",
         "x": [
          "2025-08-07T10:58:00-04:00",
          "2025-08-07T10:59:00-04:00"
         ],
         "xaxis": "x",
         "y": {
          "bdata": "etdpkyDJuEDeBpKiZMi4QA==",
          "dtype": "f8"
         },
         "yaxis": "y"
        },
        {
         "line": {
          "color": "#FF66FE",
          "width": 0.6
         },
         "mode": "lines",
         "name": "HMA",
         "showlegend": false,
         "type": "scatter",
         "x": [
          "2025-08-07T10:59:00-04:00",
          "2025-08-07T11:00:00-04:00"
         ],
         "xaxis": "x",
         "y": {
          "bdata": "3gaSomTIuED4tBOaLsi4QA==",
          "dtype": "f8"
         },
         "yaxis": "y"
        },
        {
         "line": {
          "color": "#01FFFF",
          "width": 0.6
         },
         "mode": "lines",
         "name": "HMA",
         "showlegend": false,
         "type": "scatter",
         "x": [
          "2025-08-07T11:00:00-04:00",
          "2025-08-07T11:01:00-04:00"
         ],
         "xaxis": "x",
         "y": {
          "bdata": "+LQTmi7IuECj8p2Ng8i4QA==",
          "dtype": "f8"
         },
         "yaxis": "y"
        },
        {
         "line": {
          "color": "#01FFFF",
          "width": 0.6
         },
         "mode": "lines",
         "name": "HMA",
         "showlegend": false,
         "type": "scatter",
         "x": [
          "2025-08-07T11:01:00-04:00",
          "2025-08-07T11:02:00-04:00"
         ],
         "xaxis": "x",
         "y": {
          "bdata": "o/KdjYPIuEDI1DLjpMi4QA==",
          "dtype": "f8"
         },
         "yaxis": "y"
        },
        {
         "line": {
          "color": "#FF66FE",
          "width": 0.6
         },
         "mode": "lines",
         "name": "HMA",
         "showlegend": false,
         "type": "scatter",
         "x": [
          "2025-08-07T11:02:00-04:00",
          "2025-08-07T11:03:00-04:00"
         ],
         "xaxis": "x",
         "y": {
          "bdata": "yNQy46TIuEBFjOTVpMi4QA==",
          "dtype": "f8"
         },
         "yaxis": "y"
        },
        {
         "line": {
          "color": "#FF66FE",
          "width": 0.6
         },
         "mode": "lines",
         "name": "HMA",
         "showlegend": false,
         "type": "scatter",
         "x": [
          "2025-08-07T11:03:00-04:00",
          "2025-08-07T11:04:00-04:00"
         ],
         "xaxis": "x",
         "y": {
          "bdata": "RYzk1aTIuED6YW04d8i4QA==",
          "dtype": "f8"
         },
         "yaxis": "y"
        },
        {
         "line": {
          "color": "#FF66FE",
          "width": 0.6
         },
         "mode": "lines",
         "name": "HMA",
         "showlegend": false,
         "type": "scatter",
         "x": [
          "2025-08-07T11:04:00-04:00",
          "2025-08-07T11:05:00-04:00"
         ],
         "xaxis": "x",
         "y": {
          "bdata": "+mFtOHfIuECSldXWT8i4QA==",
          "dtype": "f8"
         },
         "yaxis": "y"
        },
        {
         "line": {
          "color": "#01FFFF",
          "width": 0.6
         },
         "mode": "lines",
         "name": "HMA",
         "showlegend": false,
         "type": "scatter",
         "x": [
          "2025-08-07T11:05:00-04:00",
          "2025-08-07T11:06:00-04:00"
         ],
         "xaxis": "x",
         "y": {
          "bdata": "kpXV1k/IuEA7HJOtUsi4QA==",
          "dtype": "f8"
         },
         "yaxis": "y"
        },
        {
         "line": {
          "color": "#01FFFF",
          "width": 0.6
         },
         "mode": "lines",
         "name": "HMA",
         "showlegend": false,
         "type": "scatter",
         "x": [
          "2025-08-07T11:06:00-04:00",
          "2025-08-07T11:07:00-04:00"
         ],
         "xaxis": "x",
         "y": {
          "bdata": "OxyTrVLIuEA6kYwTWci4QA==",
          "dtype": "f8"
         },
         "yaxis": "y"
        },
        {
         "line": {
          "color": "#FF66FE",
          "width": 0.6
         },
         "mode": "lines",
         "name": "HMA",
         "showlegend": false,
         "type": "scatter",
         "x": [
          "2025-08-07T11:07:00-04:00",
          "2025-08-07T11:08:00-04:00"
         ],
         "xaxis": "x",
         "y": {
          "bdata": "OpGME1nIuEB2ZStKLci4QA==",
          "dtype": "f8"
         },
         "yaxis": "y"
        },
        {
         "line": {
          "color": "#FF66FE",
          "width": 0.6
         },
         "mode": "lines",
         "name": "HMA",
         "showlegend": false,
         "type": "scatter",
         "x": [
          "2025-08-07T11:08:00-04:00",
          "2025-08-07T11:09:00-04:00"
         ],
         "xaxis": "x",
         "y": {
          "bdata": "dmUrSi3IuEDApQSV8ce4QA==",
          "dtype": "f8"
         },
         "yaxis": "y"
        },
        {
         "line": {
          "color": "#FF66FE",
          "width": 0.6
         },
         "mode": "lines",
         "name": "HMA",
         "showlegend": false,
         "type": "scatter",
         "x": [
          "2025-08-07T11:09:00-04:00",
          "2025-08-07T11:10:00-04:00"
         ],
         "xaxis": "x",
         "y": {
          "bdata": "wKUElfHHuED+RSK54ce4QA==",
          "dtype": "f8"
         },
         "yaxis": "y"
        },
        {
         "line": {
          "color": "#01FFFF",
          "width": 0.6
         },
         "mode": "lines",
         "name": "HMA",
         "showlegend": false,
         "type": "scatter",
         "x": [
          "2025-08-07T11:10:00-04:00",
          "2025-08-07T11:11:00-04:00"
         ],
         "xaxis": "x",
         "y": {
          "bdata": "/kUiueHHuEBgGjwo68e4QA==",
          "dtype": "f8"
         },
         "yaxis": "y"
        },
        {
         "line": {
          "color": "#FF66FE",
          "width": 0.6
         },
         "mode": "lines",
         "name": "HMA",
         "showlegend": false,
         "type": "scatter",
         "x": [
          "2025-08-07T11:11:00-04:00",
          "2025-08-07T11:12:00-04:00"
         ],
         "xaxis": "x",
         "y": {
          "bdata": "YBo8KOvHuED7PSx/4ce4QA==",
          "dtype": "f8"
         },
         "yaxis": "y"
        },
        {
         "line": {
          "color": "#FF66FE",
          "width": 0.6
         },
         "mode": "lines",
         "name": "HMA",
         "showlegend": false,
         "type": "scatter",
         "x": [
          "2025-08-07T11:12:00-04:00",
          "2025-08-07T11:13:00-04:00"
         ],
         "xaxis": "x",
         "y": {
          "bdata": "+z0sf+HHuECi18jUm8e4QA==",
          "dtype": "f8"
         },
         "yaxis": "y"
        },
        {
         "line": {
          "color": "#FF66FE",
          "width": 0.6
         },
         "mode": "lines",
         "name": "HMA",
         "showlegend": false,
         "type": "scatter",
         "x": [
          "2025-08-07T11:13:00-04:00",
          "2025-08-07T11:14:00-04:00"
         ],
         "xaxis": "x",
         "y": {
          "bdata": "otfI1JvHuEBxL0fCHse4QA==",
          "dtype": "f8"
         },
         "yaxis": "y"
        },
        {
         "line": {
          "color": "#FF66FE",
          "width": 0.6
         },
         "mode": "lines",
         "name": "HMA",
         "showlegend": false,
         "type": "scatter",
         "x": [
          "2025-08-07T11:14:00-04:00",
          "2025-08-07T11:15:00-04:00"
         ],
         "xaxis": "x",
         "y": {
          "bdata": "cS9Hwh7HuEDYFa7yJ8a4QA==",
          "dtype": "f8"
         },
         "yaxis": "y"
        },
        {
         "line": {
          "color": "#FF66FE",
          "width": 0.6
         },
         "mode": "lines",
         "name": "HMA",
         "showlegend": false,
         "type": "scatter",
         "x": [
          "2025-08-07T11:15:00-04:00",
          "2025-08-07T11:16:00-04:00"
         ],
         "xaxis": "x",
         "y": {
          "bdata": "2BWu8ifGuEAAaV4ch8W4QA==",
          "dtype": "f8"
         },
         "yaxis": "y"
        },
        {
         "line": {
          "color": "#01FFFF",
          "width": 0.6
         },
         "mode": "lines",
         "name": "HMA",
         "showlegend": false,
         "type": "scatter",
         "x": [
          "2025-08-07T11:16:00-04:00",
          "2025-08-07T11:17:00-04:00"
         ],
         "xaxis": "x",
         "y": {
          "bdata": "AGleHIfFuECza3nViMW4QA==",
          "dtype": "f8"
         },
         "yaxis": "y"
        },
        {
         "line": {
          "color": "#01FFFF",
          "width": 0.6
         },
         "mode": "lines",
         "name": "HMA",
         "showlegend": false,
         "type": "scatter",
         "x": [
          "2025-08-07T11:17:00-04:00",
          "2025-08-07T11:18:00-04:00"
         ],
         "xaxis": "x",
         "y": {
          "bdata": "s2t51YjFuEC9s1QRDsa4QA==",
          "dtype": "f8"
         },
         "yaxis": "y"
        },
        {
         "line": {
          "color": "#01FFFF",
          "width": 0.6
         },
         "mode": "lines",
         "name": "HMA",
         "showlegend": false,
         "type": "scatter",
         "x": [
          "2025-08-07T11:18:00-04:00",
          "2025-08-07T11:19:00-04:00"
         ],
         "xaxis": "x",
         "y": {
          "bdata": "vbNUEQ7GuECqdtOKzca4QA==",
          "dtype": "f8"
         },
         "yaxis": "y"
        },
        {
         "line": {
          "color": "#01FFFF",
          "width": 0.6
         },
         "mode": "lines",
         "name": "HMA",
         "showlegend": false,
         "type": "scatter",
         "x": [
          "2025-08-07T11:19:00-04:00",
          "2025-08-07T11:20:00-04:00"
         ],
         "xaxis": "x",
         "y": {
          "bdata": "qnbTis3GuECTzq392se4QA==",
          "dtype": "f8"
         },
         "yaxis": "y"
        },
        {
         "line": {
          "color": "#01FFFF",
          "width": 0.6
         },
         "mode": "lines",
         "name": "HMA",
         "showlegend": false,
         "type": "scatter",
         "x": [
          "2025-08-07T11:20:00-04:00",
          "2025-08-07T11:21:00-04:00"
         ],
         "xaxis": "x",
         "y": {
          "bdata": "k86t/drHuEAWTqvSCsm4QA==",
          "dtype": "f8"
         },
         "yaxis": "y"
        },
        {
         "line": {
          "color": "#01FFFF",
          "width": 0.6
         },
         "mode": "lines",
         "name": "HMA",
         "showlegend": false,
         "type": "scatter",
         "x": [
          "2025-08-07T11:21:00-04:00",
          "2025-08-07T11:22:00-04:00"
         ],
         "xaxis": "x",
         "y": {
          "bdata": "Fk6r0grJuEDX2cShMMq4QA==",
          "dtype": "f8"
         },
         "yaxis": "y"
        },
        {
         "line": {
          "color": "#01FFFF",
          "width": 0.6
         },
         "mode": "lines",
         "name": "HMA",
         "showlegend": false,
         "type": "scatter",
         "x": [
          "2025-08-07T11:22:00-04:00",
          "2025-08-07T11:23:00-04:00"
         ],
         "xaxis": "x",
         "y": {
          "bdata": "19nEoTDKuEBgBRhTTsu4QA==",
          "dtype": "f8"
         },
         "yaxis": "y"
        },
        {
         "line": {
          "color": "#01FFFF",
          "width": 0.6
         },
         "mode": "lines",
         "name": "HMA",
         "showlegend": false,
         "type": "scatter",
         "x": [
          "2025-08-07T11:23:00-04:00",
          "2025-08-07T11:24:00-04:00"
         ],
         "xaxis": "x",
         "y": {
          "bdata": "YAUYU07LuEDATmMWQsy4QA==",
          "dtype": "f8"
         },
         "yaxis": "y"
        },
        {
         "line": {
          "color": "#01FFFF",
          "width": 0.6
         },
         "mode": "lines",
         "name": "HMA",
         "showlegend": false,
         "type": "scatter",
         "x": [
          "2025-08-07T11:24:00-04:00",
          "2025-08-07T11:25:00-04:00"
         ],
         "xaxis": "x",
         "y": {
          "bdata": "wE5jFkLMuEAYsP47g8y4QA==",
          "dtype": "f8"
         },
         "yaxis": "y"
        },
        {
         "line": {
          "color": "#FF66FE",
          "width": 0.6
         },
         "mode": "lines",
         "name": "HMA",
         "showlegend": false,
         "type": "scatter",
         "x": [
          "2025-08-07T11:25:00-04:00",
          "2025-08-07T11:26:00-04:00"
         ],
         "xaxis": "x",
         "y": {
          "bdata": "GLD+O4PMuEBCymZi38u4QA==",
          "dtype": "f8"
         },
         "yaxis": "y"
        },
        {
         "line": {
          "color": "#FF66FE",
          "width": 0.6
         },
         "mode": "lines",
         "name": "HMA",
         "showlegend": false,
         "type": "scatter",
         "x": [
          "2025-08-07T11:26:00-04:00",
          "2025-08-07T11:27:00-04:00"
         ],
         "xaxis": "x",
         "y": {
          "bdata": "QspmYt/LuEBmSyA9Ycq4QA==",
          "dtype": "f8"
         },
         "yaxis": "y"
        },
        {
         "line": {
          "color": "#FF66FE",
          "width": 0.6
         },
         "mode": "lines",
         "name": "HMA",
         "showlegend": false,
         "type": "scatter",
         "x": [
          "2025-08-07T11:27:00-04:00",
          "2025-08-07T11:28:00-04:00"
         ],
         "xaxis": "x",
         "y": {
          "bdata": "ZksgPWHKuEDyO5CHfci4QA==",
          "dtype": "f8"
         },
         "yaxis": "y"
        },
        {
         "line": {
          "color": "#FF66FE",
          "width": 0.6
         },
         "mode": "lines",
         "name": "HMA",
         "showlegend": false,
         "type": "scatter",
         "x": [
          "2025-08-07T11:28:00-04:00",
          "2025-08-07T11:29:00-04:00"
         ],
         "xaxis": "x",
         "y": {
          "bdata": "8juQh33IuEB2Pbbxlca4QA==",
          "dtype": "f8"
         },
         "yaxis": "y"
        },
        {
         "line": {
          "color": "#FF66FE",
          "width": 0.6
         },
         "mode": "lines",
         "name": "HMA",
         "showlegend": false,
         "type": "scatter",
         "x": [
          "2025-08-07T11:29:00-04:00",
          "2025-08-07T11:30:00-04:00"
         ],
         "xaxis": "x",
         "y": {
          "bdata": "dj228ZXGuECavb5bRcW4QA==",
          "dtype": "f8"
         },
         "yaxis": "y"
        },
        {
         "line": {
          "color": "#FF66FE",
          "width": 0.6
         },
         "mode": "lines",
         "name": "HMA",
         "showlegend": false,
         "type": "scatter",
         "x": [
          "2025-08-07T11:30:00-04:00",
          "2025-08-07T11:31:00-04:00"
         ],
         "xaxis": "x",
         "y": {
          "bdata": "mr2+W0XFuECb2AUZIMS4QA==",
          "dtype": "f8"
         },
         "yaxis": "y"
        },
        {
         "line": {
          "color": "#FF66FE",
          "width": 0.6
         },
         "mode": "lines",
         "name": "HMA",
         "showlegend": false,
         "type": "scatter",
         "x": [
          "2025-08-07T11:31:00-04:00",
          "2025-08-07T11:32:00-04:00"
         ],
         "xaxis": "x",
         "y": {
          "bdata": "m9gFGSDEuED1M9RjPMO4QA==",
          "dtype": "f8"
         },
         "yaxis": "y"
        },
        {
         "line": {
          "color": "#FF66FE",
          "width": 0.6
         },
         "mode": "lines",
         "name": "HMA",
         "showlegend": false,
         "type": "scatter",
         "x": [
          "2025-08-07T11:32:00-04:00",
          "2025-08-07T11:33:00-04:00"
         ],
         "xaxis": "x",
         "y": {
          "bdata": "9TPUYzzDuEDZhTXhYsK4QA==",
          "dtype": "f8"
         },
         "yaxis": "y"
        },
        {
         "line": {
          "color": "#FF66FE",
          "width": 0.6
         },
         "mode": "lines",
         "name": "HMA",
         "showlegend": false,
         "type": "scatter",
         "x": [
          "2025-08-07T11:33:00-04:00",
          "2025-08-07T11:34:00-04:00"
         ],
         "xaxis": "x",
         "y": {
          "bdata": "2YU14WLCuEDOIoXslcG4QA==",
          "dtype": "f8"
         },
         "yaxis": "y"
        },
        {
         "line": {
          "color": "#FF66FE",
          "width": 0.6
         },
         "mode": "lines",
         "name": "HMA",
         "showlegend": false,
         "type": "scatter",
         "x": [
          "2025-08-07T11:34:00-04:00",
          "2025-08-07T11:35:00-04:00"
         ],
         "xaxis": "x",
         "y": {
          "bdata": "ziKF7JXBuEDGN+Ab8cC4QA==",
          "dtype": "f8"
         },
         "yaxis": "y"
        },
        {
         "line": {
          "color": "#FF66FE",
          "width": 0.6
         },
         "mode": "lines",
         "name": "HMA",
         "showlegend": false,
         "type": "scatter",
         "x": [
          "2025-08-07T11:35:00-04:00",
          "2025-08-07T11:36:00-04:00"
         ],
         "xaxis": "x",
         "y": {
          "bdata": "xjfgG/HAuED/5PHEvsC4QA==",
          "dtype": "f8"
         },
         "yaxis": "y"
        },
        {
         "line": {
          "color": "#01FFFF",
          "width": 0.6
         },
         "mode": "lines",
         "name": "HMA",
         "showlegend": false,
         "type": "scatter",
         "x": [
          "2025-08-07T11:36:00-04:00",
          "2025-08-07T11:37:00-04:00"
         ],
         "xaxis": "x",
         "y": {
          "bdata": "/+TxxL7AuEBKIbT7wMC4QA==",
          "dtype": "f8"
         },
         "yaxis": "y"
        },
        {
         "line": {
          "color": "#01FFFF",
          "width": 0.6
         },
         "mode": "lines",
         "name": "HMA",
         "showlegend": false,
         "type": "scatter",
         "x": [
          "2025-08-07T11:37:00-04:00",
          "2025-08-07T11:38:00-04:00"
         ],
         "xaxis": "x",
         "y": {
          "bdata": "SiG0+8DAuEDzA4ZcNMG4QA==",
          "dtype": "f8"
         },
         "yaxis": "y"
        },
        {
         "line": {
          "color": "#01FFFF",
          "width": 0.6
         },
         "mode": "lines",
         "name": "HMA",
         "showlegend": false,
         "type": "scatter",
         "x": [
          "2025-08-07T11:38:00-04:00",
          "2025-08-07T11:39:00-04:00"
         ],
         "xaxis": "x",
         "y": {
          "bdata": "8wOGXDTBuEAmj7VxoMG4QA==",
          "dtype": "f8"
         },
         "yaxis": "y"
        },
        {
         "line": {
          "color": "#01FFFF",
          "width": 0.6
         },
         "mode": "lines",
         "name": "HMA",
         "showlegend": false,
         "type": "scatter",
         "x": [
          "2025-08-07T11:39:00-04:00",
          "2025-08-07T11:40:00-04:00"
         ],
         "xaxis": "x",
         "y": {
          "bdata": "Jo+1caDBuEBqnqqnzsG4QA==",
          "dtype": "f8"
         },
         "yaxis": "y"
        },
        {
         "line": {
          "color": "#01FFFF",
          "width": 0.6
         },
         "mode": "lines",
         "name": "HMA",
         "showlegend": false,
         "type": "scatter",
         "x": [
          "2025-08-07T11:40:00-04:00",
          "2025-08-07T11:41:00-04:00"
         ],
         "xaxis": "x",
         "y": {
          "bdata": "ap6qp87BuED94VEL0MG4QA==",
          "dtype": "f8"
         },
         "yaxis": "y"
        },
        {
         "line": {
          "color": "#FF66FE",
          "width": 0.6
         },
         "mode": "lines",
         "name": "HMA",
         "showlegend": false,
         "type": "scatter",
         "x": [
          "2025-08-07T11:41:00-04:00",
          "2025-08-07T11:42:00-04:00"
         ],
         "xaxis": "x",
         "y": {
          "bdata": "/eFRC9DBuECIX9TDscG4QA==",
          "dtype": "f8"
         },
         "yaxis": "y"
        },
        {
         "line": {
          "color": "#FF66FE",
          "width": 0.6
         },
         "mode": "lines",
         "name": "HMA",
         "showlegend": false,
         "type": "scatter",
         "x": [
          "2025-08-07T11:42:00-04:00",
          "2025-08-07T11:43:00-04:00"
         ],
         "xaxis": "x",
         "y": {
          "bdata": "iF/Uw7HBuEDaiA4dm8G4QA==",
          "dtype": "f8"
         },
         "yaxis": "y"
        },
        {
         "line": {
          "color": "#FF66FE",
          "width": 0.6
         },
         "mode": "lines",
         "name": "HMA",
         "showlegend": false,
         "type": "scatter",
         "x": [
          "2025-08-07T11:43:00-04:00",
          "2025-08-07T11:44:00-04:00"
         ],
         "xaxis": "x",
         "y": {
          "bdata": "2ogOHZvBuEDZN4/yg8G4QA==",
          "dtype": "f8"
         },
         "yaxis": "y"
        },
        {
         "line": {
          "color": "#FF66FE",
          "width": 0.6
         },
         "mode": "lines",
         "name": "HMA",
         "showlegend": false,
         "type": "scatter",
         "x": [
          "2025-08-07T11:44:00-04:00",
          "2025-08-07T11:45:00-04:00"
         ],
         "xaxis": "x",
         "y": {
          "bdata": "2TeP8oPBuEDret7nfsG4QA==",
          "dtype": "f8"
         },
         "yaxis": "y"
        },
        {
         "line": {
          "color": "#FF66FE",
          "width": 0.6
         },
         "mode": "lines",
         "name": "HMA",
         "showlegend": false,
         "type": "scatter",
         "x": [
          "2025-08-07T11:45:00-04:00",
          "2025-08-07T11:46:00-04:00"
         ],
         "xaxis": "x",
         "y": {
          "bdata": "63re537BuEBn4k8cJ8G4QA==",
          "dtype": "f8"
         },
         "yaxis": "y"
        },
        {
         "line": {
          "color": "#FF66FE",
          "width": 0.6
         },
         "mode": "lines",
         "name": "HMA",
         "showlegend": false,
         "type": "scatter",
         "x": [
          "2025-08-07T11:46:00-04:00",
          "2025-08-07T11:47:00-04:00"
         ],
         "xaxis": "x",
         "y": {
          "bdata": "Z+JPHCfBuEAUiPpTycC4QA==",
          "dtype": "f8"
         },
         "yaxis": "y"
        },
        {
         "line": {
          "color": "#FF66FE",
          "width": 0.6
         },
         "mode": "lines",
         "name": "HMA",
         "showlegend": false,
         "type": "scatter",
         "x": [
          "2025-08-07T11:47:00-04:00",
          "2025-08-07T11:48:00-04:00"
         ],
         "xaxis": "x",
         "y": {
          "bdata": "FIj6U8nAuEBQuy+vV8C4QA==",
          "dtype": "f8"
         },
         "yaxis": "y"
        },
        {
         "line": {
          "color": "#FF66FE",
          "width": 0.6
         },
         "mode": "lines",
         "name": "HMA",
         "showlegend": false,
         "type": "scatter",
         "x": [
          "2025-08-07T11:48:00-04:00",
          "2025-08-07T11:49:00-04:00"
         ],
         "xaxis": "x",
         "y": {
          "bdata": "ULsvr1fAuEBYlDPZrr+4QA==",
          "dtype": "f8"
         },
         "yaxis": "y"
        },
        {
         "line": {
          "color": "#FF66FE",
          "width": 0.6
         },
         "mode": "lines",
         "name": "HMA",
         "showlegend": false,
         "type": "scatter",
         "x": [
          "2025-08-07T11:49:00-04:00",
          "2025-08-07T11:50:00-04:00"
         ],
         "xaxis": "x",
         "y": {
          "bdata": "WJQz2a6/uEAUY+ueEb+4QA==",
          "dtype": "f8"
         },
         "yaxis": "y"
        },
        {
         "line": {
          "color": "#FF66FE",
          "width": 0.6
         },
         "mode": "lines",
         "name": "HMA",
         "showlegend": false,
         "type": "scatter",
         "x": [
          "2025-08-07T11:50:00-04:00",
          "2025-08-07T11:51:00-04:00"
         ],
         "xaxis": "x",
         "y": {
          "bdata": "FGPrnhG/uEDuqkl65r64QA==",
          "dtype": "f8"
         },
         "yaxis": "y"
        },
        {
         "line": {
          "color": "#01FFFF",
          "width": 0.6
         },
         "mode": "lines",
         "name": "HMA",
         "showlegend": false,
         "type": "scatter",
         "x": [
          "2025-08-07T11:51:00-04:00",
          "2025-08-07T11:52:00-04:00"
         ],
         "xaxis": "x",
         "y": {
          "bdata": "7qpJeua+uEDZEHX9Nb+4QA==",
          "dtype": "f8"
         },
         "yaxis": "y"
        },
        {
         "line": {
          "color": "#01FFFF",
          "width": 0.6
         },
         "mode": "lines",
         "name": "HMA",
         "showlegend": false,
         "type": "scatter",
         "x": [
          "2025-08-07T11:52:00-04:00",
          "2025-08-07T11:53:00-04:00"
         ],
         "xaxis": "x",
         "y": {
          "bdata": "2RB1/TW/uEDWsU9J+b+4QA==",
          "dtype": "f8"
         },
         "yaxis": "y"
        },
        {
         "line": {
          "color": "#01FFFF",
          "width": 0.6
         },
         "mode": "lines",
         "name": "HMA",
         "showlegend": false,
         "type": "scatter",
         "x": [
          "2025-08-07T11:53:00-04:00",
          "2025-08-07T11:54:00-04:00"
         ],
         "xaxis": "x",
         "y": {
          "bdata": "1rFPSfm/uEBABqSY9MC4QA==",
          "dtype": "f8"
         },
         "yaxis": "y"
        },
        {
         "line": {
          "color": "#01FFFF",
          "width": 0.6
         },
         "mode": "lines",
         "name": "HMA",
         "showlegend": false,
         "type": "scatter",
         "x": [
          "2025-08-07T11:54:00-04:00",
          "2025-08-07T11:55:00-04:00"
         ],
         "xaxis": "x",
         "y": {
          "bdata": "QAakmPTAuEBH8k5T/8G4QA==",
          "dtype": "f8"
         },
         "yaxis": "y"
        },
        {
         "line": {
          "color": "#01FFFF",
          "width": 0.6
         },
         "mode": "lines",
         "name": "HMA",
         "showlegend": false,
         "type": "scatter",
         "x": [
          "2025-08-07T11:55:00-04:00",
          "2025-08-07T11:56:00-04:00"
         ],
         "xaxis": "x",
         "y": {
          "bdata": "R/JOU//BuEBwM0LfBsO4QA==",
          "dtype": "f8"
         },
         "yaxis": "y"
        },
        {
         "line": {
          "color": "#01FFFF",
          "width": 0.6
         },
         "mode": "lines",
         "name": "HMA",
         "showlegend": false,
         "type": "scatter",
         "x": [
          "2025-08-07T11:56:00-04:00",
          "2025-08-07T11:57:00-04:00"
         ],
         "xaxis": "x",
         "y": {
          "bdata": "cDNC3wbDuEAhaLbfBsS4QA==",
          "dtype": "f8"
         },
         "yaxis": "y"
        },
        {
         "line": {
          "color": "#01FFFF",
          "width": 0.6
         },
         "mode": "lines",
         "name": "HMA",
         "showlegend": false,
         "type": "scatter",
         "x": [
          "2025-08-07T11:57:00-04:00",
          "2025-08-07T11:58:00-04:00"
         ],
         "xaxis": "x",
         "y": {
          "bdata": "IWi23wbEuEA1eeR7t8S4QA==",
          "dtype": "f8"
         },
         "yaxis": "y"
        },
        {
         "line": {
          "color": "#01FFFF",
          "width": 0.6
         },
         "mode": "lines",
         "name": "HMA",
         "showlegend": false,
         "type": "scatter",
         "x": [
          "2025-08-07T11:58:00-04:00",
          "2025-08-07T11:59:00-04:00"
         ],
         "xaxis": "x",
         "y": {
          "bdata": "NXnke7fEuEDdtGKbAMW4QA==",
          "dtype": "f8"
         },
         "yaxis": "y"
        },
        {
         "line": {
          "color": "#FF66FE",
          "width": 0.6
         },
         "mode": "lines",
         "name": "HMA",
         "showlegend": false,
         "type": "scatter",
         "x": [
          "2025-08-07T11:59:00-04:00",
          "2025-08-07T12:00:00-04:00"
         ],
         "xaxis": "x",
         "y": {
          "bdata": "3bRimwDFuEB+Cjxd3cS4QA==",
          "dtype": "f8"
         },
         "yaxis": "y"
        },
        {
         "line": {
          "color": "#FF66FE",
          "width": 0.6
         },
         "mode": "lines",
         "name": "HMA",
         "showlegend": false,
         "type": "scatter",
         "x": [
          "2025-08-07T12:00:00-04:00",
          "2025-08-07T12:01:00-04:00"
         ],
         "xaxis": "x",
         "y": {
          "bdata": "fgo8Xd3EuEBM9rt0GsS4QA==",
          "dtype": "f8"
         },
         "yaxis": "y"
        },
        {
         "line": {
          "color": "#FF66FE",
          "width": 0.6
         },
         "mode": "lines",
         "name": "HMA",
         "showlegend": false,
         "type": "scatter",
         "x": [
          "2025-08-07T12:01:00-04:00",
          "2025-08-07T12:02:00-04:00"
         ],
         "xaxis": "x",
         "y": {
          "bdata": "TPa7dBrEuEACDlEQ4sK4QA==",
          "dtype": "f8"
         },
         "yaxis": "y"
        },
        {
         "line": {
          "color": "#FF66FE",
          "width": 0.6
         },
         "mode": "lines",
         "name": "HMA",
         "showlegend": false,
         "type": "scatter",
         "x": [
          "2025-08-07T12:02:00-04:00",
          "2025-08-07T12:03:00-04:00"
         ],
         "xaxis": "x",
         "y": {
          "bdata": "Ag5REOLCuEDx7cwNT8G4QA==",
          "dtype": "f8"
         },
         "yaxis": "y"
        },
        {
         "line": {
          "color": "#FF66FE",
          "width": 0.6
         },
         "mode": "lines",
         "name": "HMA",
         "showlegend": false,
         "type": "scatter",
         "x": [
          "2025-08-07T12:03:00-04:00",
          "2025-08-07T12:04:00-04:00"
         ],
         "xaxis": "x",
         "y": {
          "bdata": "8e3MDU/BuEBcurp8H8C4QA==",
          "dtype": "f8"
         },
         "yaxis": "y"
        },
        {
         "line": {
          "color": "#FF66FE",
          "width": 0.6
         },
         "mode": "lines",
         "name": "HMA",
         "showlegend": false,
         "type": "scatter",
         "x": [
          "2025-08-07T12:04:00-04:00",
          "2025-08-07T12:05:00-04:00"
         ],
         "xaxis": "x",
         "y": {
          "bdata": "XLq6fB/AuEBg28+oNL+4QA==",
          "dtype": "f8"
         },
         "yaxis": "y"
        },
        {
         "line": {
          "color": "#FF66FE",
          "width": 0.6
         },
         "mode": "lines",
         "name": "HMA",
         "showlegend": false,
         "type": "scatter",
         "x": [
          "2025-08-07T12:05:00-04:00",
          "2025-08-07T12:06:00-04:00"
         ],
         "xaxis": "x",
         "y": {
          "bdata": "YNvPqDS/uEAZuJ5oar64QA==",
          "dtype": "f8"
         },
         "yaxis": "y"
        },
        {
         "line": {
          "color": "#FF66FE",
          "width": 0.6
         },
         "mode": "lines",
         "name": "HMA",
         "showlegend": false,
         "type": "scatter",
         "x": [
          "2025-08-07T12:06:00-04:00",
          "2025-08-07T12:07:00-04:00"
         ],
         "xaxis": "x",
         "y": {
          "bdata": "GbieaGq+uED7WKsq8L24QA==",
          "dtype": "f8"
         },
         "yaxis": "y"
        },
        {
         "line": {
          "color": "#FF66FE",
          "width": 0.6
         },
         "mode": "lines",
         "name": "HMA",
         "showlegend": false,
         "type": "scatter",
         "x": [
          "2025-08-07T12:07:00-04:00",
          "2025-08-07T12:08:00-04:00"
         ],
         "xaxis": "x",
         "y": {
          "bdata": "+1irKvC9uEBow0bEzb24QA==",
          "dtype": "f8"
         },
         "yaxis": "y"
        },
        {
         "line": {
          "color": "#FF66FE",
          "width": 0.6
         },
         "mode": "lines",
         "name": "HMA",
         "showlegend": false,
         "type": "scatter",
         "x": [
          "2025-08-07T12:08:00-04:00",
          "2025-08-07T12:09:00-04:00"
         ],
         "xaxis": "x",
         "y": {
          "bdata": "aMNGxM29uEAaZJ2jyb24QA==",
          "dtype": "f8"
         },
         "yaxis": "y"
        },
        {
         "line": {
          "color": "#FF66FE",
          "width": 0.6
         },
         "mode": "lines",
         "name": "HMA",
         "showlegend": false,
         "type": "scatter",
         "x": [
          "2025-08-07T12:09:00-04:00",
          "2025-08-07T12:10:00-04:00"
         ],
         "xaxis": "x",
         "y": {
          "bdata": "GmSdo8m9uEBSUDfDp724QA==",
          "dtype": "f8"
         },
         "yaxis": "y"
        },
        {
         "line": {
          "color": "#01FFFF",
          "width": 0.6
         },
         "mode": "lines",
         "name": "HMA",
         "showlegend": false,
         "type": "scatter",
         "x": [
          "2025-08-07T12:10:00-04:00",
          "2025-08-07T12:11:00-04:00"
         ],
         "xaxis": "x",
         "y": {
          "bdata": "UlA3w6e9uECIrZapqr24QA==",
          "dtype": "f8"
         },
         "yaxis": "y"
        },
        {
         "line": {
          "color": "#01FFFF",
          "width": 0.6
         },
         "mode": "lines",
         "name": "HMA",
         "showlegend": false,
         "type": "scatter",
         "x": [
          "2025-08-07T12:11:00-04:00",
          "2025-08-07T12:12:00-04:00"
         ],
         "xaxis": "x",
         "y": {
          "bdata": "iK2Wqaq9uEDxH+5mCb64QA==",
          "dtype": "f8"
         },
         "yaxis": "y"
        },
        {
         "line": {
          "color": "#01FFFF",
          "width": 0.6
         },
         "mode": "lines",
         "name": "HMA",
         "showlegend": false,
         "type": "scatter",
         "x": [
          "2025-08-07T12:12:00-04:00",
          "2025-08-07T12:13:00-04:00"
         ],
         "xaxis": "x",
         "y": {
          "bdata": "8R/uZgm+uEBdZAPx+764QA==",
          "dtype": "f8"
         },
         "yaxis": "y"
        },
        {
         "line": {
          "color": "#01FFFF",
          "width": 0.6
         },
         "mode": "lines",
         "name": "HMA",
         "showlegend": false,
         "type": "scatter",
         "x": [
          "2025-08-07T12:13:00-04:00",
          "2025-08-07T12:14:00-04:00"
         ],
         "xaxis": "x",
         "y": {
          "bdata": "XWQD8fu+uECTHgqzTMC4QA==",
          "dtype": "f8"
         },
         "yaxis": "y"
        },
        {
         "line": {
          "color": "#01FFFF",
          "width": 0.6
         },
         "mode": "lines",
         "name": "HMA",
         "showlegend": false,
         "type": "scatter",
         "x": [
          "2025-08-07T12:14:00-04:00",
          "2025-08-07T12:15:00-04:00"
         ],
         "xaxis": "x",
         "y": {
          "bdata": "kx4Ks0zAuECSZ8wlzcG4QA==",
          "dtype": "f8"
         },
         "yaxis": "y"
        },
        {
         "line": {
          "color": "#01FFFF",
          "width": 0.6
         },
         "mode": "lines",
         "name": "HMA",
         "showlegend": false,
         "type": "scatter",
         "x": [
          "2025-08-07T12:15:00-04:00",
          "2025-08-07T12:16:00-04:00"
         ],
         "xaxis": "x",
         "y": {
          "bdata": "kmfMJc3BuEA1AvzMdMO4QA==",
          "dtype": "f8"
         },
         "yaxis": "y"
        },
        {
         "line": {
          "color": "#01FFFF",
          "width": 0.6
         },
         "mode": "lines",
         "name": "HMA",
         "showlegend": false,
         "type": "scatter",
         "x": [
          "2025-08-07T12:16:00-04:00",
          "2025-08-07T12:17:00-04:00"
         ],
         "xaxis": "x",
         "y": {
          "bdata": "NQL8zHTDuEAs8tVC5cS4QA==",
          "dtype": "f8"
         },
         "yaxis": "y"
        },
        {
         "line": {
          "color": "#01FFFF",
          "width": 0.6
         },
         "mode": "lines",
         "name": "HMA",
         "showlegend": false,
         "type": "scatter",
         "x": [
          "2025-08-07T12:17:00-04:00",
          "2025-08-07T12:18:00-04:00"
         ],
         "xaxis": "x",
         "y": {
          "bdata": "LPLVQuXEuEA9ISNE48W4QA==",
          "dtype": "f8"
         },
         "yaxis": "y"
        },
        {
         "line": {
          "color": "#01FFFF",
          "width": 0.6
         },
         "mode": "lines",
         "name": "HMA",
         "showlegend": false,
         "type": "scatter",
         "x": [
          "2025-08-07T12:18:00-04:00",
          "2025-08-07T12:19:00-04:00"
         ],
         "xaxis": "x",
         "y": {
          "bdata": "PSEjROPFuEAwwqVacsa4QA==",
          "dtype": "f8"
         },
         "yaxis": "y"
        },
        {
         "line": {
          "color": "#01FFFF",
          "width": 0.6
         },
         "mode": "lines",
         "name": "HMA",
         "showlegend": false,
         "type": "scatter",
         "x": [
          "2025-08-07T12:19:00-04:00",
          "2025-08-07T12:20:00-04:00"
         ],
         "xaxis": "x",
         "y": {
          "bdata": "MMKlWnLGuEBe1iSvn8a4QA==",
          "dtype": "f8"
         },
         "yaxis": "y"
        },
        {
         "line": {
          "color": "#01FFFF",
          "width": 0.6
         },
         "mode": "lines",
         "name": "HMA",
         "showlegend": false,
         "type": "scatter",
         "x": [
          "2025-08-07T12:20:00-04:00",
          "2025-08-07T12:21:00-04:00"
         ],
         "xaxis": "x",
         "y": {
          "bdata": "XtYkr5/GuEDXJhAtpsa4QA==",
          "dtype": "f8"
         },
         "yaxis": "y"
        },
        {
         "line": {
          "color": "#FF66FE",
          "width": 0.6
         },
         "mode": "lines",
         "name": "HMA",
         "showlegend": false,
         "type": "scatter",
         "x": [
          "2025-08-07T12:21:00-04:00",
          "2025-08-07T12:22:00-04:00"
         ],
         "xaxis": "x",
         "y": {
          "bdata": "1yYQLabGuEBYit3llMa4QA==",
          "dtype": "f8"
         },
         "yaxis": "y"
        },
        {
         "line": {
          "color": "#01FFFF",
          "width": 0.6
         },
         "mode": "lines",
         "name": "HMA",
         "showlegend": false,
         "type": "scatter",
         "x": [
          "2025-08-07T12:22:00-04:00",
          "2025-08-07T12:23:00-04:00"
         ],
         "xaxis": "x",
         "y": {
          "bdata": "WIrd5ZTGuEAmx7+cmca4QA==",
          "dtype": "f8"
         },
         "yaxis": "y"
        },
        {
         "line": {
          "color": "#01FFFF",
          "width": 0.6
         },
         "mode": "lines",
         "name": "HMA",
         "showlegend": false,
         "type": "scatter",
         "x": [
          "2025-08-07T12:23:00-04:00",
          "2025-08-07T12:24:00-04:00"
         ],
         "xaxis": "x",
         "y": {
          "bdata": "Jse/nJnGuEBmk786zMa4QA==",
          "dtype": "f8"
         },
         "yaxis": "y"
        },
        {
         "line": {
          "color": "#01FFFF",
          "width": 0.6
         },
         "mode": "lines",
         "name": "HMA",
         "showlegend": false,
         "type": "scatter",
         "x": [
          "2025-08-07T12:24:00-04:00",
          "2025-08-07T12:25:00-04:00"
         ],
         "xaxis": "x",
         "y": {
          "bdata": "ZpO/OszGuECG5EVxCse4QA==",
          "dtype": "f8"
         },
         "yaxis": "y"
        },
        {
         "line": {
          "color": "#01FFFF",
          "width": 0.6
         },
         "mode": "lines",
         "name": "HMA",
         "showlegend": false,
         "type": "scatter",
         "x": [
          "2025-08-07T12:25:00-04:00",
          "2025-08-07T12:26:00-04:00"
         ],
         "xaxis": "x",
         "y": {
          "bdata": "huRFcQrHuEA6IFVIUce4QA==",
          "dtype": "f8"
         },
         "yaxis": "y"
        },
        {
         "line": {
          "color": "#01FFFF",
          "width": 0.6
         },
         "mode": "lines",
         "name": "HMA",
         "showlegend": false,
         "type": "scatter",
         "x": [
          "2025-08-07T12:26:00-04:00",
          "2025-08-07T12:27:00-04:00"
         ],
         "xaxis": "x",
         "y": {
          "bdata": "OiBVSFHHuEAmv8r2fse4QA==",
          "dtype": "f8"
         },
         "yaxis": "y"
        },
        {
         "line": {
          "color": "#01FFFF",
          "width": 0.6
         },
         "mode": "lines",
         "name": "HMA",
         "showlegend": false,
         "type": "scatter",
         "x": [
          "2025-08-07T12:27:00-04:00",
          "2025-08-07T12:28:00-04:00"
         ],
         "xaxis": "x",
         "y": {
          "bdata": "Jr/K9n7HuEAWWOXOmse4QA==",
          "dtype": "f8"
         },
         "yaxis": "y"
        },
        {
         "line": {
          "color": "#FF66FE",
          "width": 0.6
         },
         "mode": "lines",
         "name": "HMA",
         "showlegend": false,
         "type": "scatter",
         "x": [
          "2025-08-07T12:28:00-04:00",
          "2025-08-07T12:29:00-04:00"
         ],
         "xaxis": "x",
         "y": {
          "bdata": "FljlzprHuEB+nMBCjse4QA==",
          "dtype": "f8"
         },
         "yaxis": "y"
        },
        {
         "line": {
          "color": "#FF66FE",
          "width": 0.6
         },
         "mode": "lines",
         "name": "HMA",
         "showlegend": false,
         "type": "scatter",
         "x": [
          "2025-08-07T12:29:00-04:00",
          "2025-08-07T12:30:00-04:00"
         ],
         "xaxis": "x",
         "y": {
          "bdata": "fpzAQo7HuEBLIAQfhMe4QA==",
          "dtype": "f8"
         },
         "yaxis": "y"
        },
        {
         "line": {
          "color": "#01FFFF",
          "width": 0.6
         },
         "mode": "lines",
         "name": "HMA",
         "showlegend": false,
         "type": "scatter",
         "x": [
          "2025-08-07T12:30:00-04:00",
          "2025-08-07T12:31:00-04:00"
         ],
         "xaxis": "x",
         "y": {
          "bdata": "SyAEH4THuEBjzQ0opce4QA==",
          "dtype": "f8"
         },
         "yaxis": "y"
        },
        {
         "line": {
          "color": "#01FFFF",
          "width": 0.6
         },
         "mode": "lines",
         "name": "HMA",
         "showlegend": false,
         "type": "scatter",
         "x": [
          "2025-08-07T12:31:00-04:00",
          "2025-08-07T12:32:00-04:00"
         ],
         "xaxis": "x",
         "y": {
          "bdata": "Y80NKKXHuEC2Gb1mzce4QA==",
          "dtype": "f8"
         },
         "yaxis": "y"
        },
        {
         "line": {
          "color": "#01FFFF",
          "width": 0.6
         },
         "mode": "lines",
         "name": "HMA",
         "showlegend": false,
         "type": "scatter",
         "x": [
          "2025-08-07T12:32:00-04:00",
          "2025-08-07T12:33:00-04:00"
         ],
         "xaxis": "x",
         "y": {
          "bdata": "thm9Zs3HuEDiGcjC+se4QA==",
          "dtype": "f8"
         },
         "yaxis": "y"
        },
        {
         "line": {
          "color": "#01FFFF",
          "width": 0.6
         },
         "mode": "lines",
         "name": "HMA",
         "showlegend": false,
         "type": "scatter",
         "x": [
          "2025-08-07T12:33:00-04:00",
          "2025-08-07T12:34:00-04:00"
         ],
         "xaxis": "x",
         "y": {
          "bdata": "4hnIwvrHuED2Rph/H8i4QA==",
          "dtype": "f8"
         },
         "yaxis": "y"
        },
        {
         "line": {
          "color": "#01FFFF",
          "width": 0.6
         },
         "mode": "lines",
         "name": "HMA",
         "showlegend": false,
         "type": "scatter",
         "x": [
          "2025-08-07T12:34:00-04:00",
          "2025-08-07T12:35:00-04:00"
         ],
         "xaxis": "x",
         "y": {
          "bdata": "9kaYfx/IuECCBXYANMi4QA==",
          "dtype": "f8"
         },
         "yaxis": "y"
        },
        {
         "line": {
          "color": "#01FFFF",
          "width": 0.6
         },
         "mode": "lines",
         "name": "HMA",
         "showlegend": false,
         "type": "scatter",
         "x": [
          "2025-08-07T12:35:00-04:00",
          "2025-08-07T12:36:00-04:00"
         ],
         "xaxis": "x",
         "y": {
          "bdata": "ggV2ADTIuEADMGwmPci4QA==",
          "dtype": "f8"
         },
         "yaxis": "y"
        },
        {
         "line": {
          "color": "#FF66FE",
          "width": 0.6
         },
         "mode": "lines",
         "name": "HMA",
         "showlegend": false,
         "type": "scatter",
         "x": [
          "2025-08-07T12:36:00-04:00",
          "2025-08-07T12:37:00-04:00"
         ],
         "xaxis": "x",
         "y": {
          "bdata": "AzBsJj3IuECNud0N7Me4QA==",
          "dtype": "f8"
         },
         "yaxis": "y"
        },
        {
         "line": {
          "color": "#FF66FE",
          "width": 0.6
         },
         "mode": "lines",
         "name": "HMA",
         "showlegend": false,
         "type": "scatter",
         "x": [
          "2025-08-07T12:37:00-04:00",
          "2025-08-07T12:38:00-04:00"
         ],
         "xaxis": "x",
         "y": {
          "bdata": "jbndDezHuEDONF8VDce4QA==",
          "dtype": "f8"
         },
         "yaxis": "y"
        },
        {
         "line": {
          "color": "#FF66FE",
          "width": 0.6
         },
         "mode": "lines",
         "name": "HMA",
         "showlegend": false,
         "type": "scatter",
         "x": [
          "2025-08-07T12:38:00-04:00",
          "2025-08-07T12:39:00-04:00"
         ],
         "xaxis": "x",
         "y": {
          "bdata": "zjRfFQ3HuECr7H1h5sW4QA==",
          "dtype": "f8"
         },
         "yaxis": "y"
        },
        {
         "line": {
          "color": "#FF66FE",
          "width": 0.6
         },
         "mode": "lines",
         "name": "HMA",
         "showlegend": false,
         "type": "scatter",
         "x": [
          "2025-08-07T12:39:00-04:00",
          "2025-08-07T12:40:00-04:00"
         ],
         "xaxis": "x",
         "y": {
          "bdata": "q+x9YebFuECGlQwxLsS4QA==",
          "dtype": "f8"
         },
         "yaxis": "y"
        },
        {
         "line": {
          "color": "#FF66FE",
          "width": 0.6
         },
         "mode": "lines",
         "name": "HMA",
         "showlegend": false,
         "type": "scatter",
         "x": [
          "2025-08-07T12:40:00-04:00",
          "2025-08-07T12:41:00-04:00"
         ],
         "xaxis": "x",
         "y": {
          "bdata": "hpUMMS7EuEB28eJU2cG4QA==",
          "dtype": "f8"
         },
         "yaxis": "y"
        },
        {
         "line": {
          "color": "#FF66FE",
          "width": 0.6
         },
         "mode": "lines",
         "name": "HMA",
         "showlegend": false,
         "type": "scatter",
         "x": [
          "2025-08-07T12:41:00-04:00",
          "2025-08-07T12:42:00-04:00"
         ],
         "xaxis": "x",
         "y": {
          "bdata": "dvHiVNnBuEDkWDRCMb+4QA==",
          "dtype": "f8"
         },
         "yaxis": "y"
        },
        {
         "line": {
          "color": "#FF66FE",
          "width": 0.6
         },
         "mode": "lines",
         "name": "HMA",
         "showlegend": false,
         "type": "scatter",
         "x": [
          "2025-08-07T12:42:00-04:00",
          "2025-08-07T12:43:00-04:00"
         ],
         "xaxis": "x",
         "y": {
          "bdata": "5Fg0QjG/uEBf3PGJFLy4QA==",
          "dtype": "f8"
         },
         "yaxis": "y"
        },
        {
         "line": {
          "color": "#FF66FE",
          "width": 0.6
         },
         "mode": "lines",
         "name": "HMA",
         "showlegend": false,
         "type": "scatter",
         "x": [
          "2025-08-07T12:43:00-04:00",
          "2025-08-07T12:44:00-04:00"
         ],
         "xaxis": "x",
         "y": {
          "bdata": "X9zxiRS8uEDib/FSAbm4QA==",
          "dtype": "f8"
         },
         "yaxis": "y"
        },
        {
         "line": {
          "color": "#FF66FE",
          "width": 0.6
         },
         "mode": "lines",
         "name": "HMA",
         "showlegend": false,
         "type": "scatter",
         "x": [
          "2025-08-07T12:44:00-04:00",
          "2025-08-07T12:45:00-04:00"
         ],
         "xaxis": "x",
         "y": {
          "bdata": "4m/xUgG5uECZEcAgVra4QA==",
          "dtype": "f8"
         },
         "yaxis": "y"
        },
        {
         "line": {
          "color": "#FF66FE",
          "width": 0.6
         },
         "mode": "lines",
         "name": "HMA",
         "showlegend": false,
         "type": "scatter",
         "x": [
          "2025-08-07T12:45:00-04:00",
          "2025-08-07T12:46:00-04:00"
         ],
         "xaxis": "x",
         "y": {
          "bdata": "mRHAIFa2uEC/odD1n7O4QA==",
          "dtype": "f8"
         },
         "yaxis": "y"
        },
        {
         "line": {
          "color": "#FF66FE",
          "width": 0.6
         },
         "mode": "lines",
         "name": "HMA",
         "showlegend": false,
         "type": "scatter",
         "x": [
          "2025-08-07T12:46:00-04:00",
          "2025-08-07T12:47:00-04:00"
         ],
         "xaxis": "x",
         "y": {
          "bdata": "v6HQ9Z+zuEAgpGUaT7G4QA==",
          "dtype": "f8"
         },
         "yaxis": "y"
        },
        {
         "line": {
          "color": "#FF66FE",
          "width": 0.6
         },
         "mode": "lines",
         "name": "HMA",
         "showlegend": false,
         "type": "scatter",
         "x": [
          "2025-08-07T12:47:00-04:00",
          "2025-08-07T12:48:00-04:00"
         ],
         "xaxis": "x",
         "y": {
          "bdata": "IKRlGk+xuEDCNxd2z6+4QA==",
          "dtype": "f8"
         },
         "yaxis": "y"
        },
        {
         "line": {
          "color": "#FF66FE",
          "width": 0.6
         },
         "mode": "lines",
         "name": "HMA",
         "showlegend": false,
         "type": "scatter",
         "x": [
          "2025-08-07T12:48:00-04:00",
          "2025-08-07T12:49:00-04:00"
         ],
         "xaxis": "x",
         "y": {
          "bdata": "wjcXds+vuEA+jkP7WK+4QA==",
          "dtype": "f8"
         },
         "yaxis": "y"
        },
        {
         "line": {
          "color": "#01FFFF",
          "width": 0.6
         },
         "mode": "lines",
         "name": "HMA",
         "showlegend": false,
         "type": "scatter",
         "x": [
          "2025-08-07T12:49:00-04:00",
          "2025-08-07T12:50:00-04:00"
         ],
         "xaxis": "x",
         "y": {
          "bdata": "Po5D+1ivuECqDQNqA7C4QA==",
          "dtype": "f8"
         },
         "yaxis": "y"
        },
        {
         "line": {
          "color": "#01FFFF",
          "width": 0.6
         },
         "mode": "lines",
         "name": "HMA",
         "showlegend": false,
         "type": "scatter",
         "x": [
          "2025-08-07T12:50:00-04:00",
          "2025-08-07T12:51:00-04:00"
         ],
         "xaxis": "x",
         "y": {
          "bdata": "qg0DagOwuECFpH6OqrG4QA==",
          "dtype": "f8"
         },
         "yaxis": "y"
        },
        {
         "line": {
          "color": "#01FFFF",
          "width": 0.6
         },
         "mode": "lines",
         "name": "HMA",
         "showlegend": false,
         "type": "scatter",
         "x": [
          "2025-08-07T12:51:00-04:00",
          "2025-08-07T12:52:00-04:00"
         ],
         "xaxis": "x",
         "y": {
          "bdata": "haR+jqqxuEDZuUWDCbS4QA==",
          "dtype": "f8"
         },
         "yaxis": "y"
        },
        {
         "line": {
          "color": "#01FFFF",
          "width": 0.6
         },
         "mode": "lines",
         "name": "HMA",
         "showlegend": false,
         "type": "scatter",
         "x": [
          "2025-08-07T12:52:00-04:00",
          "2025-08-07T12:53:00-04:00"
         ],
         "xaxis": "x",
         "y": {
          "bdata": "2blFgwm0uECOm9szzra4QA==",
          "dtype": "f8"
         },
         "yaxis": "y"
        },
        {
         "line": {
          "color": "#01FFFF",
          "width": 0.6
         },
         "mode": "lines",
         "name": "HMA",
         "showlegend": false,
         "type": "scatter",
         "x": [
          "2025-08-07T12:53:00-04:00",
          "2025-08-07T12:54:00-04:00"
         ],
         "xaxis": "x",
         "y": {
          "bdata": "jpvbM862uED5PLSQyLm4QA==",
          "dtype": "f8"
         },
         "yaxis": "y"
        },
        {
         "line": {
          "color": "#01FFFF",
          "width": 0.6
         },
         "mode": "lines",
         "name": "HMA",
         "showlegend": false,
         "type": "scatter",
         "x": [
          "2025-08-07T12:54:00-04:00",
          "2025-08-07T12:55:00-04:00"
         ],
         "xaxis": "x",
         "y": {
          "bdata": "+Ty0kMi5uEAmu7PivLy4QA==",
          "dtype": "f8"
         },
         "yaxis": "y"
        },
        {
         "line": {
          "color": "#01FFFF",
          "width": 0.6
         },
         "mode": "lines",
         "name": "HMA",
         "showlegend": false,
         "type": "scatter",
         "x": [
          "2025-08-07T12:55:00-04:00",
          "2025-08-07T12:56:00-04:00"
         ],
         "xaxis": "x",
         "y": {
          "bdata": "Jruz4ry8uEAar9xac7+4QA==",
          "dtype": "f8"
         },
         "yaxis": "y"
        },
        {
         "line": {
          "color": "#01FFFF",
          "width": 0.6
         },
         "mode": "lines",
         "name": "HMA",
         "showlegend": false,
         "type": "scatter",
         "x": [
          "2025-08-07T12:56:00-04:00",
          "2025-08-07T12:57:00-04:00"
         ],
         "xaxis": "x",
         "y": {
          "bdata": "Gq/cWnO/uEB7+UqTfMG4QA==",
          "dtype": "f8"
         },
         "yaxis": "y"
        },
        {
         "line": {
          "color": "#01FFFF",
          "width": 0.6
         },
         "mode": "lines",
         "name": "HMA",
         "showlegend": false,
         "type": "scatter",
         "x": [
          "2025-08-07T12:57:00-04:00",
          "2025-08-07T12:58:00-04:00"
         ],
         "xaxis": "x",
         "y": {
          "bdata": "e/lKk3zBuECtnQoLy8K4QA==",
          "dtype": "f8"
         },
         "yaxis": "y"
        },
        {
         "line": {
          "color": "#01FFFF",
          "width": 0.6
         },
         "mode": "lines",
         "name": "HMA",
         "showlegend": false,
         "type": "scatter",
         "x": [
          "2025-08-07T12:58:00-04:00",
          "2025-08-07T12:59:00-04:00"
         ],
         "xaxis": "x",
         "y": {
          "bdata": "rZ0KC8vCuEATUhdgAMO4QA==",
          "dtype": "f8"
         },
         "yaxis": "y"
        },
        {
         "line": {
          "color": "#FF66FE",
          "width": 0.6
         },
         "mode": "lines",
         "name": "HMA",
         "showlegend": false,
         "type": "scatter",
         "x": [
          "2025-08-07T12:59:00-04:00",
          "2025-08-07T13:00:00-04:00"
         ],
         "xaxis": "x",
         "y": {
          "bdata": "E1IXYADDuEDlnwdsxcK4QA==",
          "dtype": "f8"
         },
         "yaxis": "y"
        },
        {
         "line": {
          "color": "#FF66FE",
          "width": 0.6
         },
         "mode": "lines",
         "name": "HMA",
         "showlegend": false,
         "type": "scatter",
         "x": [
          "2025-08-07T13:00:00-04:00",
          "2025-08-07T13:01:00-04:00"
         ],
         "xaxis": "x",
         "y": {
          "bdata": "5Z8HbMXCuEAq+5dQfMK4QA==",
          "dtype": "f8"
         },
         "yaxis": "y"
        },
        {
         "line": {
          "color": "#FF66FE",
          "width": 0.6
         },
         "mode": "lines",
         "name": "HMA",
         "showlegend": false,
         "type": "scatter",
         "x": [
          "2025-08-07T13:01:00-04:00",
          "2025-08-07T13:02:00-04:00"
         ],
         "xaxis": "x",
         "y": {
          "bdata": "KvuXUHzCuECK01bPdMG4QA==",
          "dtype": "f8"
         },
         "yaxis": "y"
        },
        {
         "line": {
          "color": "#FF66FE",
          "width": 0.6
         },
         "mode": "lines",
         "name": "HMA",
         "showlegend": false,
         "type": "scatter",
         "x": [
          "2025-08-07T13:02:00-04:00",
          "2025-08-07T13:03:00-04:00"
         ],
         "xaxis": "x",
         "y": {
          "bdata": "itNWz3TBuECFNgN027+4QA==",
          "dtype": "f8"
         },
         "yaxis": "y"
        },
        {
         "line": {
          "color": "#FF66FE",
          "width": 0.6
         },
         "mode": "lines",
         "name": "HMA",
         "showlegend": false,
         "type": "scatter",
         "x": [
          "2025-08-07T13:03:00-04:00",
          "2025-08-07T13:04:00-04:00"
         ],
         "xaxis": "x",
         "y": {
          "bdata": "hTYDdNu/uEBT4UROxb24QA==",
          "dtype": "f8"
         },
         "yaxis": "y"
        },
        {
         "line": {
          "color": "#FF66FE",
          "width": 0.6
         },
         "mode": "lines",
         "name": "HMA",
         "showlegend": false,
         "type": "scatter",
         "x": [
          "2025-08-07T13:04:00-04:00",
          "2025-08-07T13:05:00-04:00"
         ],
         "xaxis": "x",
         "y": {
          "bdata": "U+FETsW9uEAK6QuVgbu4QA==",
          "dtype": "f8"
         },
         "yaxis": "y"
        },
        {
         "line": {
          "color": "#FF66FE",
          "width": 0.6
         },
         "mode": "lines",
         "name": "HMA",
         "showlegend": false,
         "type": "scatter",
         "x": [
          "2025-08-07T13:05:00-04:00",
          "2025-08-07T13:06:00-04:00"
         ],
         "xaxis": "x",
         "y": {
          "bdata": "CukLlYG7uEA2rH3Dqrm4QA==",
          "dtype": "f8"
         },
         "yaxis": "y"
        },
        {
         "line": {
          "color": "#FF66FE",
          "width": 0.6
         },
         "mode": "lines",
         "name": "HMA",
         "showlegend": false,
         "type": "scatter",
         "x": [
          "2025-08-07T13:06:00-04:00",
          "2025-08-07T13:07:00-04:00"
         ],
         "xaxis": "x",
         "y": {
          "bdata": "Nqx9w6q5uEDdmpPMfri4QA==",
          "dtype": "f8"
         },
         "yaxis": "y"
        },
        {
         "line": {
          "color": "#FF66FE",
          "width": 0.6
         },
         "mode": "lines",
         "name": "HMA",
         "showlegend": false,
         "type": "scatter",
         "x": [
          "2025-08-07T13:07:00-04:00",
          "2025-08-07T13:08:00-04:00"
         ],
         "xaxis": "x",
         "y": {
          "bdata": "3ZqTzH64uEDb1DfHcLe4QA==",
          "dtype": "f8"
         },
         "yaxis": "y"
        },
        {
         "line": {
          "color": "#FF66FE",
          "width": 0.6
         },
         "mode": "lines",
         "name": "HMA",
         "showlegend": false,
         "type": "scatter",
         "x": [
          "2025-08-07T13:08:00-04:00",
          "2025-08-07T13:09:00-04:00"
         ],
         "xaxis": "x",
         "y": {
          "bdata": "29Q3x3C3uEDKpVzKtba4QA==",
          "dtype": "f8"
         },
         "yaxis": "y"
        },
        {
         "line": {
          "color": "#FF66FE",
          "width": 0.6
         },
         "mode": "lines",
         "name": "HMA",
         "showlegend": false,
         "type": "scatter",
         "x": [
          "2025-08-07T13:09:00-04:00",
          "2025-08-07T13:10:00-04:00"
         ],
         "xaxis": "x",
         "y": {
          "bdata": "yqVcyrW2uEAEkoV51rW4QA==",
          "dtype": "f8"
         },
         "yaxis": "y"
        },
        {
         "line": {
          "color": "#FF66FE",
          "width": 0.6
         },
         "mode": "lines",
         "name": "HMA",
         "showlegend": false,
         "type": "scatter",
         "x": [
          "2025-08-07T13:10:00-04:00",
          "2025-08-07T13:11:00-04:00"
         ],
         "xaxis": "x",
         "y": {
          "bdata": "BJKFeda1uEAgd/BOL7W4QA==",
          "dtype": "f8"
         },
         "yaxis": "y"
        },
        {
         "line": {
          "color": "#FF66FE",
          "width": 0.6
         },
         "mode": "lines",
         "name": "HMA",
         "showlegend": false,
         "type": "scatter",
         "x": [
          "2025-08-07T13:11:00-04:00",
          "2025-08-07T13:12:00-04:00"
         ],
         "xaxis": "x",
         "y": {
          "bdata": "IHfwTi+1uEBuxlkWhbS4QA==",
          "dtype": "f8"
         },
         "yaxis": "y"
        },
        {
         "line": {
          "color": "#FF66FE",
          "width": 0.6
         },
         "mode": "lines",
         "name": "HMA",
         "showlegend": false,
         "type": "scatter",
         "x": [
          "2025-08-07T13:12:00-04:00",
          "2025-08-07T13:13:00-04:00"
         ],
         "xaxis": "x",
         "y": {
          "bdata": "bsZZFoW0uECKv6lUS7S4QA==",
          "dtype": "f8"
         },
         "yaxis": "y"
        },
        {
         "line": {
          "color": "#FF66FE",
          "width": 0.6
         },
         "mode": "lines",
         "name": "HMA",
         "showlegend": false,
         "type": "scatter",
         "x": [
          "2025-08-07T13:13:00-04:00",
          "2025-08-07T13:14:00-04:00"
         ],
         "xaxis": "x",
         "y": {
          "bdata": "ir+pVEu0uEBiv7wXM7S4QA==",
          "dtype": "f8"
         },
         "yaxis": "y"
        },
        {
         "line": {
          "color": "#FF66FE",
          "width": 0.6
         },
         "mode": "lines",
         "name": "HMA",
         "showlegend": false,
         "type": "scatter",
         "x": [
          "2025-08-07T13:14:00-04:00",
          "2025-08-07T13:15:00-04:00"
         ],
         "xaxis": "x",
         "y": {
          "bdata": "Yr+8FzO0uEAqHVzFKLS4QA==",
          "dtype": "f8"
         },
         "yaxis": "y"
        },
        {
         "line": {
          "color": "#FF66FE",
          "width": 0.6
         },
         "mode": "lines",
         "name": "HMA",
         "showlegend": false,
         "type": "scatter",
         "x": [
          "2025-08-07T13:15:00-04:00",
          "2025-08-07T13:16:00-04:00"
         ],
         "xaxis": "x",
         "y": {
          "bdata": "Kh1cxSi0uEDwQ4Ut6LO4QA==",
          "dtype": "f8"
         },
         "yaxis": "y"
        },
        {
         "line": {
          "color": "#FF66FE",
          "width": 0.6
         },
         "mode": "lines",
         "name": "HMA",
         "showlegend": false,
         "type": "scatter",
         "x": [
          "2025-08-07T13:16:00-04:00",
          "2025-08-07T13:17:00-04:00"
         ],
         "xaxis": "x",
         "y": {
          "bdata": "8EOFLeizuEC8J4EPyLO4QA==",
          "dtype": "f8"
         },
         "yaxis": "y"
        },
        {
         "line": {
          "color": "#FF66FE",
          "width": 0.6
         },
         "mode": "lines",
         "name": "HMA",
         "showlegend": false,
         "type": "scatter",
         "x": [
          "2025-08-07T13:17:00-04:00",
          "2025-08-07T13:18:00-04:00"
         ],
         "xaxis": "x",
         "y": {
          "bdata": "vCeBD8izuEAeS5zQSbO4QA==",
          "dtype": "f8"
         },
         "yaxis": "y"
        },
        {
         "line": {
          "color": "#FF66FE",
          "width": 0.6
         },
         "mode": "lines",
         "name": "HMA",
         "showlegend": false,
         "type": "scatter",
         "x": [
          "2025-08-07T13:18:00-04:00",
          "2025-08-07T13:19:00-04:00"
         ],
         "xaxis": "x",
         "y": {
          "bdata": "Hkuc0EmzuEAOQXsPw7K4QA==",
          "dtype": "f8"
         },
         "yaxis": "y"
        },
        {
         "line": {
          "color": "#FF66FE",
          "width": 0.6
         },
         "mode": "lines",
         "name": "HMA",
         "showlegend": false,
         "type": "scatter",
         "x": [
          "2025-08-07T13:19:00-04:00",
          "2025-08-07T13:20:00-04:00"
         ],
         "xaxis": "x",
         "y": {
          "bdata": "DkF7D8OyuEAAltR7nLK4QA==",
          "dtype": "f8"
         },
         "yaxis": "y"
        },
        {
         "line": {
          "color": "#01FFFF",
          "width": 0.6
         },
         "mode": "lines",
         "name": "HMA",
         "showlegend": false,
         "type": "scatter",
         "x": [
          "2025-08-07T13:20:00-04:00",
          "2025-08-07T13:21:00-04:00"
         ],
         "xaxis": "x",
         "y": {
          "bdata": "AJbUe5yyuEDE5gt49rK4QA==",
          "dtype": "f8"
         },
         "yaxis": "y"
        },
        {
         "line": {
          "color": "#01FFFF",
          "width": 0.6
         },
         "mode": "lines",
         "name": "HMA",
         "showlegend": false,
         "type": "scatter",
         "x": [
          "2025-08-07T13:21:00-04:00",
          "2025-08-07T13:22:00-04:00"
         ],
         "xaxis": "x",
         "y": {
          "bdata": "xOYLePayuECokpGiy7O4QA==",
          "dtype": "f8"
         },
         "yaxis": "y"
        },
        {
         "line": {
          "color": "#01FFFF",
          "width": 0.6
         },
         "mode": "lines",
         "name": "HMA",
         "showlegend": false,
         "type": "scatter",
         "x": [
          "2025-08-07T13:22:00-04:00",
          "2025-08-07T13:23:00-04:00"
         ],
         "xaxis": "x",
         "y": {
          "bdata": "qJKRosuzuEDFEBugprS4QA==",
          "dtype": "f8"
         },
         "yaxis": "y"
        },
        {
         "line": {
          "color": "#01FFFF",
          "width": 0.6
         },
         "mode": "lines",
         "name": "HMA",
         "showlegend": false,
         "type": "scatter",
         "x": [
          "2025-08-07T13:23:00-04:00",
          "2025-08-07T13:24:00-04:00"
         ],
         "xaxis": "x",
         "y": {
          "bdata": "xRAboKa0uEAWhFVEirW4QA==",
          "dtype": "f8"
         },
         "yaxis": "y"
        },
        {
         "line": {
          "color": "#01FFFF",
          "width": 0.6
         },
         "mode": "lines",
         "name": "HMA",
         "showlegend": false,
         "type": "scatter",
         "x": [
          "2025-08-07T13:24:00-04:00",
          "2025-08-07T13:25:00-04:00"
         ],
         "xaxis": "x",
         "y": {
          "bdata": "FoRVRIq1uEAA4LjPPLa4QA==",
          "dtype": "f8"
         },
         "yaxis": "y"
        },
        {
         "line": {
          "color": "#01FFFF",
          "width": 0.6
         },
         "mode": "lines",
         "name": "HMA",
         "showlegend": false,
         "type": "scatter",
         "x": [
          "2025-08-07T13:25:00-04:00",
          "2025-08-07T13:26:00-04:00"
         ],
         "xaxis": "x",
         "y": {
          "bdata": "AOC4zzy2uEBm/B1Xw7a4QA==",
          "dtype": "f8"
         },
         "yaxis": "y"
        },
        {
         "line": {
          "color": "#FF66FE",
          "width": 0.6
         },
         "mode": "lines",
         "name": "HMA",
         "showlegend": false,
         "type": "scatter",
         "x": [
          "2025-08-07T13:26:00-04:00",
          "2025-08-07T13:27:00-04:00"
         ],
         "xaxis": "x",
         "y": {
          "bdata": "ZvwdV8O2uEDgbeV+pba4QA==",
          "dtype": "f8"
         },
         "yaxis": "y"
        },
        {
         "line": {
          "color": "#FF66FE",
          "width": 0.6
         },
         "mode": "lines",
         "name": "HMA",
         "showlegend": false,
         "type": "scatter",
         "x": [
          "2025-08-07T13:27:00-04:00",
          "2025-08-07T13:28:00-04:00"
         ],
         "xaxis": "x",
         "y": {
          "bdata": "4G3lfqW2uECBXwseQLa4QA==",
          "dtype": "f8"
         },
         "yaxis": "y"
        },
        {
         "line": {
          "color": "#FF66FE",
          "width": 0.6
         },
         "mode": "lines",
         "name": "HMA",
         "showlegend": false,
         "type": "scatter",
         "x": [
          "2025-08-07T13:28:00-04:00",
          "2025-08-07T13:29:00-04:00"
         ],
         "xaxis": "x",
         "y": {
          "bdata": "gV8LHkC2uEDgfxQhQLW4QA==",
          "dtype": "f8"
         },
         "yaxis": "y"
        },
        {
         "line": {
          "color": "#FF66FE",
          "width": 0.6
         },
         "mode": "lines",
         "name": "HMA",
         "showlegend": false,
         "type": "scatter",
         "x": [
          "2025-08-07T13:29:00-04:00",
          "2025-08-07T13:30:00-04:00"
         ],
         "xaxis": "x",
         "y": {
          "bdata": "4H8UIUC1uEAWOyHN1rO4QA==",
          "dtype": "f8"
         },
         "yaxis": "y"
        },
        {
         "line": {
          "color": "#FF66FE",
          "width": 0.6
         },
         "mode": "lines",
         "name": "HMA",
         "showlegend": false,
         "type": "scatter",
         "x": [
          "2025-08-07T13:30:00-04:00",
          "2025-08-07T13:31:00-04:00"
         ],
         "xaxis": "x",
         "y": {
          "bdata": "FjshzdazuEA4wdoaMbK4QA==",
          "dtype": "f8"
         },
         "yaxis": "y"
        },
        {
         "line": {
          "color": "#FF66FE",
          "width": 0.6
         },
         "mode": "lines",
         "name": "HMA",
         "showlegend": false,
         "type": "scatter",
         "x": [
          "2025-08-07T13:31:00-04:00",
          "2025-08-07T13:32:00-04:00"
         ],
         "xaxis": "x",
         "y": {
          "bdata": "OMHaGjGyuEB+sVYcXrC4QA==",
          "dtype": "f8"
         },
         "yaxis": "y"
        },
        {
         "line": {
          "color": "#FF66FE",
          "width": 0.6
         },
         "mode": "lines",
         "name": "HMA",
         "showlegend": false,
         "type": "scatter",
         "x": [
          "2025-08-07T13:32:00-04:00",
          "2025-08-07T13:33:00-04:00"
         ],
         "xaxis": "x",
         "y": {
          "bdata": "frFWHF6wuEC7Jw8L1a64QA==",
          "dtype": "f8"
         },
         "yaxis": "y"
        },
        {
         "line": {
          "color": "#FF66FE",
          "width": 0.6
         },
         "mode": "lines",
         "name": "HMA",
         "showlegend": false,
         "type": "scatter",
         "x": [
          "2025-08-07T13:33:00-04:00",
          "2025-08-07T13:34:00-04:00"
         ],
         "xaxis": "x",
         "y": {
          "bdata": "uycPC9WuuECtTKhrk624QA==",
          "dtype": "f8"
         },
         "yaxis": "y"
        },
        {
         "line": {
          "color": "#FF66FE",
          "width": 0.6
         },
         "mode": "lines",
         "name": "HMA",
         "showlegend": false,
         "type": "scatter",
         "x": [
          "2025-08-07T13:34:00-04:00",
          "2025-08-07T13:35:00-04:00"
         ],
         "xaxis": "x",
         "y": {
          "bdata": "rUyoa5OtuECM72r0u6y4QA==",
          "dtype": "f8"
         },
         "yaxis": "y"
        },
        {
         "line": {
          "color": "#FF66FE",
          "width": 0.6
         },
         "mode": "lines",
         "name": "HMA",
         "showlegend": false,
         "type": "scatter",
         "x": [
          "2025-08-07T13:35:00-04:00",
          "2025-08-07T13:36:00-04:00"
         ],
         "xaxis": "x",
         "y": {
          "bdata": "jO9q9LusuED+TGeCP6y4QA==",
          "dtype": "f8"
         },
         "yaxis": "y"
        },
        {
         "line": {
          "color": "#FF66FE",
          "width": 0.6
         },
         "mode": "lines",
         "name": "HMA",
         "showlegend": false,
         "type": "scatter",
         "x": [
          "2025-08-07T13:36:00-04:00",
          "2025-08-07T13:37:00-04:00"
         ],
         "xaxis": "x",
         "y": {
          "bdata": "/kxngj+suEAKOJvi5qu4QA==",
          "dtype": "f8"
         },
         "yaxis": "y"
        },
        {
         "line": {
          "color": "#01FFFF",
          "width": 0.6
         },
         "mode": "lines",
         "name": "HMA",
         "showlegend": false,
         "type": "scatter",
         "x": [
          "2025-08-07T13:37:00-04:00",
          "2025-08-07T13:38:00-04:00"
         ],
         "xaxis": "x",
         "y": {
          "bdata": "Cjib4uaruEBSOHTIMay4QA==",
          "dtype": "f8"
         },
         "yaxis": "y"
        },
        {
         "line": {
          "color": "#01FFFF",
          "width": 0.6
         },
         "mode": "lines",
         "name": "HMA",
         "showlegend": false,
         "type": "scatter",
         "x": [
          "2025-08-07T13:38:00-04:00",
          "2025-08-07T13:39:00-04:00"
         ],
         "xaxis": "x",
         "y": {
          "bdata": "Ujh0yDGsuEBVTtcJ3qy4QA==",
          "dtype": "f8"
         },
         "yaxis": "y"
        },
        {
         "line": {
          "color": "#01FFFF",
          "width": 0.6
         },
         "mode": "lines",
         "name": "HMA",
         "showlegend": false,
         "type": "scatter",
         "x": [
          "2025-08-07T13:39:00-04:00",
          "2025-08-07T13:40:00-04:00"
         ],
         "xaxis": "x",
         "y": {
          "bdata": "VU7XCd6suEBT9dQ93624QA==",
          "dtype": "f8"
         },
         "yaxis": "y"
        },
        {
         "line": {
          "color": "#01FFFF",
          "width": 0.6
         },
         "mode": "lines",
         "name": "HMA",
         "showlegend": false,
         "type": "scatter",
         "x": [
          "2025-08-07T13:40:00-04:00",
          "2025-08-07T13:41:00-04:00"
         ],
         "xaxis": "x",
         "y": {
          "bdata": "U/XUPd+tuEDTaXY1H6+4QA==",
          "dtype": "f8"
         },
         "yaxis": "y"
        },
        {
         "line": {
          "color": "#01FFFF",
          "width": 0.6
         },
         "mode": "lines",
         "name": "HMA",
         "showlegend": false,
         "type": "scatter",
         "x": [
          "2025-08-07T13:41:00-04:00",
          "2025-08-07T13:42:00-04:00"
         ],
         "xaxis": "x",
         "y": {
          "bdata": "02l2NR+vuEDtbguwO7C4QA==",
          "dtype": "f8"
         },
         "yaxis": "y"
        },
        {
         "line": {
          "color": "#01FFFF",
          "width": 0.6
         },
         "mode": "lines",
         "name": "HMA",
         "showlegend": false,
         "type": "scatter",
         "x": [
          "2025-08-07T13:42:00-04:00",
          "2025-08-07T13:43:00-04:00"
         ],
         "xaxis": "x",
         "y": {
          "bdata": "7W4LsDuwuEAtX/eNYLG4QA==",
          "dtype": "f8"
         },
         "yaxis": "y"
        },
        {
         "line": {
          "color": "#01FFFF",
          "width": 0.6
         },
         "mode": "lines",
         "name": "HMA",
         "showlegend": false,
         "type": "scatter",
         "x": [
          "2025-08-07T13:43:00-04:00",
          "2025-08-07T13:44:00-04:00"
         ],
         "xaxis": "x",
         "y": {
          "bdata": "LV/3jWCxuEDOPHFGZ7K4QA==",
          "dtype": "f8"
         },
         "yaxis": "y"
        },
        {
         "line": {
          "color": "#01FFFF",
          "width": 0.6
         },
         "mode": "lines",
         "name": "HMA",
         "showlegend": false,
         "type": "scatter",
         "x": [
          "2025-08-07T13:44:00-04:00",
          "2025-08-07T13:45:00-04:00"
         ],
         "xaxis": "x",
         "y": {
          "bdata": "zjxxRmeyuEDNbyXxTrO4QA==",
          "dtype": "f8"
         },
         "yaxis": "y"
        },
        {
         "line": {
          "color": "#01FFFF",
          "width": 0.6
         },
         "mode": "lines",
         "name": "HMA",
         "showlegend": false,
         "type": "scatter",
         "x": [
          "2025-08-07T13:45:00-04:00",
          "2025-08-07T13:46:00-04:00"
         ],
         "xaxis": "x",
         "y": {
          "bdata": "zW8l8U6zuEDT2fyPFLS4QA==",
          "dtype": "f8"
         },
         "yaxis": "y"
        },
        {
         "line": {
          "color": "#01FFFF",
          "width": 0.6
         },
         "mode": "lines",
         "name": "HMA",
         "showlegend": false,
         "type": "scatter",
         "x": [
          "2025-08-07T13:46:00-04:00",
          "2025-08-07T13:47:00-04:00"
         ],
         "xaxis": "x",
         "y": {
          "bdata": "09n8jxS0uEBKpDf0srS4QA==",
          "dtype": "f8"
         },
         "yaxis": "y"
        },
        {
         "line": {
          "color": "#01FFFF",
          "width": 0.6
         },
         "mode": "lines",
         "name": "HMA",
         "showlegend": false,
         "type": "scatter",
         "x": [
          "2025-08-07T13:47:00-04:00",
          "2025-08-07T13:48:00-04:00"
         ],
         "xaxis": "x",
         "y": {
          "bdata": "SqQ39LK0uEAjuYqDIbW4QA==",
          "dtype": "f8"
         },
         "yaxis": "y"
        },
        {
         "line": {
          "color": "#01FFFF",
          "width": 0.6
         },
         "mode": "lines",
         "name": "HMA",
         "showlegend": false,
         "type": "scatter",
         "x": [
          "2025-08-07T13:48:00-04:00",
          "2025-08-07T13:49:00-04:00"
         ],
         "xaxis": "x",
         "y": {
          "bdata": "I7mKgyG1uEBi/n0QbbW4QA==",
          "dtype": "f8"
         },
         "yaxis": "y"
        },
        {
         "line": {
          "color": "#01FFFF",
          "width": 0.6
         },
         "mode": "lines",
         "name": "HMA",
         "showlegend": false,
         "type": "scatter",
         "x": [
          "2025-08-07T13:49:00-04:00",
          "2025-08-07T13:50:00-04:00"
         ],
         "xaxis": "x",
         "y": {
          "bdata": "Yv59EG21uECAInLwe7W4QA==",
          "dtype": "f8"
         },
         "yaxis": "y"
        },
        {
         "line": {
          "color": "#01FFFF",
          "width": 0.6
         },
         "mode": "lines",
         "name": "HMA",
         "showlegend": false,
         "type": "scatter",
         "x": [
          "2025-08-07T13:50:00-04:00",
          "2025-08-07T13:51:00-04:00"
         ],
         "xaxis": "x",
         "y": {
          "bdata": "gCJy8Hu1uEBisWsHgbW4QA==",
          "dtype": "f8"
         },
         "yaxis": "y"
        },
        {
         "line": {
          "color": "#FF66FE",
          "width": 0.6
         },
         "mode": "lines",
         "name": "HMA",
         "showlegend": false,
         "type": "scatter",
         "x": [
          "2025-08-07T13:51:00-04:00",
          "2025-08-07T13:52:00-04:00"
         ],
         "xaxis": "x",
         "y": {
          "bdata": "YrFrB4G1uEAoGHhJWrW4QA==",
          "dtype": "f8"
         },
         "yaxis": "y"
        },
        {
         "line": {
          "color": "#01FFFF",
          "width": 0.6
         },
         "mode": "lines",
         "name": "HMA",
         "showlegend": false,
         "type": "scatter",
         "x": [
          "2025-08-07T13:52:00-04:00",
          "2025-08-07T13:53:00-04:00"
         ],
         "xaxis": "x",
         "y": {
          "bdata": "KBh4SVq1uEAH1ewVhbW4QA==",
          "dtype": "f8"
         },
         "yaxis": "y"
        },
        {
         "line": {
          "color": "#01FFFF",
          "width": 0.6
         },
         "mode": "lines",
         "name": "HMA",
         "showlegend": false,
         "type": "scatter",
         "x": [
          "2025-08-07T13:53:00-04:00",
          "2025-08-07T13:54:00-04:00"
         ],
         "xaxis": "x",
         "y": {
          "bdata": "B9XsFYW1uEAo4eR45LW4QA==",
          "dtype": "f8"
         },
         "yaxis": "y"
        },
        {
         "line": {
          "color": "#01FFFF",
          "width": 0.6
         },
         "mode": "lines",
         "name": "HMA",
         "showlegend": false,
         "type": "scatter",
         "x": [
          "2025-08-07T13:54:00-04:00",
          "2025-08-07T13:55:00-04:00"
         ],
         "xaxis": "x",
         "y": {
          "bdata": "KOHkeOS1uEALn+6+d7a4QA==",
          "dtype": "f8"
         },
         "yaxis": "y"
        },
        {
         "line": {
          "color": "#01FFFF",
          "width": 0.6
         },
         "mode": "lines",
         "name": "HMA",
         "showlegend": false,
         "type": "scatter",
         "x": [
          "2025-08-07T13:55:00-04:00",
          "2025-08-07T13:56:00-04:00"
         ],
         "xaxis": "x",
         "y": {
          "bdata": "C5/uvne2uEAtNXZhzba4QA==",
          "dtype": "f8"
         },
         "yaxis": "y"
        },
        {
         "line": {
          "color": "#01FFFF",
          "width": 0.6
         },
         "mode": "lines",
         "name": "HMA",
         "showlegend": false,
         "type": "scatter",
         "x": [
          "2025-08-07T13:56:00-04:00",
          "2025-08-07T13:57:00-04:00"
         ],
         "xaxis": "x",
         "y": {
          "bdata": "LTV2Yc22uEDmQmCQ57a4QA==",
          "dtype": "f8"
         },
         "yaxis": "y"
        },
        {
         "line": {
          "color": "#01FFFF",
          "width": 0.6
         },
         "mode": "lines",
         "name": "HMA",
         "showlegend": false,
         "type": "scatter",
         "x": [
          "2025-08-07T13:57:00-04:00",
          "2025-08-07T13:58:00-04:00"
         ],
         "xaxis": "x",
         "y": {
          "bdata": "5kJgkOe2uEDSYqLcDre4QA==",
          "dtype": "f8"
         },
         "yaxis": "y"
        },
        {
         "line": {
          "color": "#01FFFF",
          "width": 0.6
         },
         "mode": "lines",
         "name": "HMA",
         "showlegend": false,
         "type": "scatter",
         "x": [
          "2025-08-07T13:58:00-04:00",
          "2025-08-07T13:59:00-04:00"
         ],
         "xaxis": "x",
         "y": {
          "bdata": "0mKi3A63uEA2Jj4aMLe4QA==",
          "dtype": "f8"
         },
         "yaxis": "y"
        },
        {
         "line": {
          "color": "#01FFFF",
          "width": 0.6
         },
         "mode": "lines",
         "name": "HMA",
         "showlegend": false,
         "type": "scatter",
         "x": [
          "2025-08-07T13:59:00-04:00",
          "2025-08-07T14:00:00-04:00"
         ],
         "xaxis": "x",
         "y": {
          "bdata": "NiY+GjC3uEArKv34jbe4QA==",
          "dtype": "f8"
         },
         "yaxis": "y"
        },
        {
         "line": {
          "color": "#FF66FE",
          "width": 0.6
         },
         "mode": "lines",
         "name": "HMA",
         "showlegend": false,
         "type": "scatter",
         "x": [
          "2025-08-07T14:00:00-04:00",
          "2025-08-07T14:01:00-04:00"
         ],
         "xaxis": "x",
         "y": {
          "bdata": "Kyr9+I23uEA1zBltgbe4QA==",
          "dtype": "f8"
         },
         "yaxis": "y"
        },
        {
         "line": {
          "color": "#FF66FE",
          "width": 0.6
         },
         "mode": "lines",
         "name": "HMA",
         "showlegend": false,
         "type": "scatter",
         "x": [
          "2025-08-07T14:01:00-04:00",
          "2025-08-07T14:02:00-04:00"
         ],
         "xaxis": "x",
         "y": {
          "bdata": "NcwZbYG3uEAwJKO2Ebe4QA==",
          "dtype": "f8"
         },
         "yaxis": "y"
        },
        {
         "line": {
          "color": "#FF66FE",
          "width": 0.6
         },
         "mode": "lines",
         "name": "HMA",
         "showlegend": false,
         "type": "scatter",
         "x": [
          "2025-08-07T14:02:00-04:00",
          "2025-08-07T14:03:00-04:00"
         ],
         "xaxis": "x",
         "y": {
          "bdata": "MCSjthG3uEClBWKpxra4QA==",
          "dtype": "f8"
         },
         "yaxis": "y"
        },
        {
         "line": {
          "color": "#FF66FE",
          "width": 0.6
         },
         "mode": "lines",
         "name": "HMA",
         "showlegend": false,
         "type": "scatter",
         "x": [
          "2025-08-07T14:03:00-04:00",
          "2025-08-07T14:04:00-04:00"
         ],
         "xaxis": "x",
         "y": {
          "bdata": "pQViqca2uEBFH6gnlba4QA==",
          "dtype": "f8"
         },
         "yaxis": "y"
        },
        {
         "line": {
          "color": "#FF66FE",
          "width": 0.6
         },
         "mode": "lines",
         "name": "HMA",
         "showlegend": false,
         "type": "scatter",
         "x": [
          "2025-08-07T14:04:00-04:00",
          "2025-08-07T14:05:00-04:00"
         ],
         "xaxis": "x",
         "y": {
          "bdata": "RR+oJ5W2uEB2CL3weLa4QA==",
          "dtype": "f8"
         },
         "yaxis": "y"
        },
        {
         "line": {
          "color": "#FF66FE",
          "width": 0.6
         },
         "mode": "lines",
         "name": "HMA",
         "showlegend": false,
         "type": "scatter",
         "x": [
          "2025-08-07T14:05:00-04:00",
          "2025-08-07T14:06:00-04:00"
         ],
         "xaxis": "x",
         "y": {
          "bdata": "dgi98Hi2uEBW9bhGRba4QA==",
          "dtype": "f8"
         },
         "yaxis": "y"
        },
        {
         "line": {
          "color": "#FF66FE",
          "width": 0.6
         },
         "mode": "lines",
         "name": "HMA",
         "showlegend": false,
         "type": "scatter",
         "x": [
          "2025-08-07T14:06:00-04:00",
          "2025-08-07T14:07:00-04:00"
         ],
         "xaxis": "x",
         "y": {
          "bdata": "VvW4RkW2uECOMZMkm7W4QA==",
          "dtype": "f8"
         },
         "yaxis": "y"
        },
        {
         "line": {
          "color": "#FF66FE",
          "width": 0.6
         },
         "mode": "lines",
         "name": "HMA",
         "showlegend": false,
         "type": "scatter",
         "x": [
          "2025-08-07T14:07:00-04:00",
          "2025-08-07T14:08:00-04:00"
         ],
         "xaxis": "x",
         "y": {
          "bdata": "jjGTJJu1uEDBntxWk7S4QA==",
          "dtype": "f8"
         },
         "yaxis": "y"
        },
        {
         "line": {
          "color": "#FF66FE",
          "width": 0.6
         },
         "mode": "lines",
         "name": "HMA",
         "showlegend": false,
         "type": "scatter",
         "x": [
          "2025-08-07T14:08:00-04:00",
          "2025-08-07T14:09:00-04:00"
         ],
         "xaxis": "x",
         "y": {
          "bdata": "wZ7cVpO0uEDDRv3/abO4QA==",
          "dtype": "f8"
         },
         "yaxis": "y"
        },
        {
         "line": {
          "color": "#FF66FE",
          "width": 0.6
         },
         "mode": "lines",
         "name": "HMA",
         "showlegend": false,
         "type": "scatter",
         "x": [
          "2025-08-07T14:09:00-04:00",
          "2025-08-07T14:10:00-04:00"
         ],
         "xaxis": "x",
         "y": {
          "bdata": "w0b9/2mzuECK4C/x7bG4QA==",
          "dtype": "f8"
         },
         "yaxis": "y"
        },
        {
         "line": {
          "color": "#FF66FE",
          "width": 0.6
         },
         "mode": "lines",
         "name": "HMA",
         "showlegend": false,
         "type": "scatter",
         "x": [
          "2025-08-07T14:10:00-04:00",
          "2025-08-07T14:11:00-04:00"
         ],
         "xaxis": "x",
         "y": {
          "bdata": "iuAv8e2xuECLNMBFobC4QA==",
          "dtype": "f8"
         },
         "yaxis": "y"
        },
        {
         "line": {
          "color": "#FF66FE",
          "width": 0.6
         },
         "mode": "lines",
         "name": "HMA",
         "showlegend": false,
         "type": "scatter",
         "x": [
          "2025-08-07T14:11:00-04:00",
          "2025-08-07T14:12:00-04:00"
         ],
         "xaxis": "x",
         "y": {
          "bdata": "izTARaGwuEBBovB1gq+4QA==",
          "dtype": "f8"
         },
         "yaxis": "y"
        },
        {
         "line": {
          "color": "#FF66FE",
          "width": 0.6
         },
         "mode": "lines",
         "name": "HMA",
         "showlegend": false,
         "type": "scatter",
         "x": [
          "2025-08-07T14:12:00-04:00",
          "2025-08-07T14:13:00-04:00"
         ],
         "xaxis": "x",
         "y": {
          "bdata": "QaLwdYKvuEDbyPH2NK64QA==",
          "dtype": "f8"
         },
         "yaxis": "y"
        },
        {
         "line": {
          "color": "#FF66FE",
          "width": 0.6
         },
         "mode": "lines",
         "name": "HMA",
         "showlegend": false,
         "type": "scatter",
         "x": [
          "2025-08-07T14:13:00-04:00",
          "2025-08-07T14:14:00-04:00"
         ],
         "xaxis": "x",
         "y": {
          "bdata": "28jx9jSuuEC+UggmIa24QA==",
          "dtype": "f8"
         },
         "yaxis": "y"
        },
        {
         "line": {
          "color": "#FF66FE",
          "width": 0.6
         },
         "mode": "lines",
         "name": "HMA",
         "showlegend": false,
         "type": "scatter",
         "x": [
          "2025-08-07T14:14:00-04:00",
          "2025-08-07T14:15:00-04:00"
         ],
         "xaxis": "x",
         "y": {
          "bdata": "vlIIJiGtuECsb6tM/6u4QA==",
          "dtype": "f8"
         },
         "yaxis": "y"
        },
        {
         "line": {
          "color": "#FF66FE",
          "width": 0.6
         },
         "mode": "lines",
         "name": "HMA",
         "showlegend": false,
         "type": "scatter",
         "x": [
          "2025-08-07T14:15:00-04:00",
          "2025-08-07T14:16:00-04:00"
         ],
         "xaxis": "x",
         "y": {
          "bdata": "rG+rTP+ruEAduWxk3Kq4QA==",
          "dtype": "f8"
         },
         "yaxis": "y"
        },
        {
         "line": {
          "color": "#FF66FE",
          "width": 0.6
         },
         "mode": "lines",
         "name": "HMA",
         "showlegend": false,
         "type": "scatter",
         "x": [
          "2025-08-07T14:16:00-04:00",
          "2025-08-07T14:17:00-04:00"
         ],
         "xaxis": "x",
         "y": {
          "bdata": "HblsZNyquEAbL6Si3Km4QA==",
          "dtype": "f8"
         },
         "yaxis": "y"
        },
        {
         "line": {
          "color": "#FF66FE",
          "width": 0.6
         },
         "mode": "lines",
         "name": "HMA",
         "showlegend": false,
         "type": "scatter",
         "x": [
          "2025-08-07T14:17:00-04:00",
          "2025-08-07T14:18:00-04:00"
         ],
         "xaxis": "x",
         "y": {
          "bdata": "Gy+kotypuEALgALyzai4QA==",
          "dtype": "f8"
         },
         "yaxis": "y"
        },
        {
         "line": {
          "color": "#FF66FE",
          "width": 0.6
         },
         "mode": "lines",
         "name": "HMA",
         "showlegend": false,
         "type": "scatter",
         "x": [
          "2025-08-07T14:18:00-04:00",
          "2025-08-07T14:19:00-04:00"
         ],
         "xaxis": "x",
         "y": {
          "bdata": "C4AC8s2ouEAlaJrozKe4QA==",
          "dtype": "f8"
         },
         "yaxis": "y"
        },
        {
         "line": {
          "color": "#FF66FE",
          "width": 0.6
         },
         "mode": "lines",
         "name": "HMA",
         "showlegend": false,
         "type": "scatter",
         "x": [
          "2025-08-07T14:19:00-04:00",
          "2025-08-07T14:20:00-04:00"
         ],
         "xaxis": "x",
         "y": {
          "bdata": "JWia6MynuEAF7phvEae4QA==",
          "dtype": "f8"
         },
         "yaxis": "y"
        },
        {
         "line": {
          "color": "#FF66FE",
          "width": 0.6
         },
         "mode": "lines",
         "name": "HMA",
         "showlegend": false,
         "type": "scatter",
         "x": [
          "2025-08-07T14:20:00-04:00",
          "2025-08-07T14:21:00-04:00"
         ],
         "xaxis": "x",
         "y": {
          "bdata": "Be6YbxGnuEDiBVTKqqa4QA==",
          "dtype": "f8"
         },
         "yaxis": "y"
        },
        {
         "line": {
          "color": "#FF66FE",
          "width": 0.6
         },
         "mode": "lines",
         "name": "HMA",
         "showlegend": false,
         "type": "scatter",
         "x": [
          "2025-08-07T14:21:00-04:00",
          "2025-08-07T14:22:00-04:00"
         ],
         "xaxis": "x",
         "y": {
          "bdata": "4gVUyqqmuEDSQQBJYqa4QA==",
          "dtype": "f8"
         },
         "yaxis": "y"
        },
        {
         "line": {
          "color": "#FF66FE",
          "width": 0.6
         },
         "mode": "lines",
         "name": "HMA",
         "showlegend": false,
         "type": "scatter",
         "x": [
          "2025-08-07T14:22:00-04:00",
          "2025-08-07T14:23:00-04:00"
         ],
         "xaxis": "x",
         "y": {
          "bdata": "0kEASWKmuEAdkovxJ6a4QA==",
          "dtype": "f8"
         },
         "yaxis": "y"
        },
        {
         "line": {
          "color": "#FF66FE",
          "width": 0.6
         },
         "mode": "lines",
         "name": "HMA",
         "showlegend": false,
         "type": "scatter",
         "x": [
          "2025-08-07T14:23:00-04:00",
          "2025-08-07T14:24:00-04:00"
         ],
         "xaxis": "x",
         "y": {
          "bdata": "HZKL8SemuECTT16kCqa4QA==",
          "dtype": "f8"
         },
         "yaxis": "y"
        },
        {
         "line": {
          "color": "#01FFFF",
          "width": 0.6
         },
         "mode": "lines",
         "name": "HMA",
         "showlegend": false,
         "type": "scatter",
         "x": [
          "2025-08-07T14:24:00-04:00",
          "2025-08-07T14:25:00-04:00"
         ],
         "xaxis": "x",
         "y": {
          "bdata": "k09epAqmuECmdbAVGKa4QA==",
          "dtype": "f8"
         },
         "yaxis": "y"
        },
        {
         "line": {
          "color": "#01FFFF",
          "width": 0.6
         },
         "mode": "lines",
         "name": "HMA",
         "showlegend": false,
         "type": "scatter",
         "x": [
          "2025-08-07T14:25:00-04:00",
          "2025-08-07T14:26:00-04:00"
         ],
         "xaxis": "x",
         "y": {
          "bdata": "pnWwFRimuEBQYZn9paa4QA==",
          "dtype": "f8"
         },
         "yaxis": "y"
        },
        {
         "line": {
          "color": "#01FFFF",
          "width": 0.6
         },
         "mode": "lines",
         "name": "HMA",
         "showlegend": false,
         "type": "scatter",
         "x": [
          "2025-08-07T14:26:00-04:00",
          "2025-08-07T14:27:00-04:00"
         ],
         "xaxis": "x",
         "y": {
          "bdata": "UGGZ/aWmuEA+6nN8s6e4QA==",
          "dtype": "f8"
         },
         "yaxis": "y"
        },
        {
         "line": {
          "color": "#01FFFF",
          "width": 0.6
         },
         "mode": "lines",
         "name": "HMA",
         "showlegend": false,
         "type": "scatter",
         "x": [
          "2025-08-07T14:27:00-04:00",
          "2025-08-07T14:28:00-04:00"
         ],
         "xaxis": "x",
         "y": {
          "bdata": "PupzfLOnuEBoM0C3C6m4QA==",
          "dtype": "f8"
         },
         "yaxis": "y"
        },
        {
         "line": {
          "color": "#01FFFF",
          "width": 0.6
         },
         "mode": "lines",
         "name": "HMA",
         "showlegend": false,
         "type": "scatter",
         "x": [
          "2025-08-07T14:28:00-04:00",
          "2025-08-07T14:29:00-04:00"
         ],
         "xaxis": "x",
         "y": {
          "bdata": "aDNAtwupuEAwAvs4f6q4QA==",
          "dtype": "f8"
         },
         "yaxis": "y"
        },
        {
         "line": {
          "color": "#01FFFF",
          "width": 0.6
         },
         "mode": "lines",
         "name": "HMA",
         "showlegend": false,
         "type": "scatter",
         "x": [
          "2025-08-07T14:29:00-04:00",
          "2025-08-07T14:30:00-04:00"
         ],
         "xaxis": "x",
         "y": {
          "bdata": "MAL7OH+quEAWNRtwaKu4QA==",
          "dtype": "f8"
         },
         "yaxis": "y"
        },
        {
         "line": {
          "color": "#01FFFF",
          "width": 0.6
         },
         "mode": "lines",
         "name": "HMA",
         "showlegend": false,
         "type": "scatter",
         "x": [
          "2025-08-07T14:30:00-04:00",
          "2025-08-07T14:31:00-04:00"
         ],
         "xaxis": "x",
         "y": {
          "bdata": "FjUbcGiruEA6aVA9+6u4QA==",
          "dtype": "f8"
         },
         "yaxis": "y"
        },
        {
         "line": {
          "color": "#01FFFF",
          "width": 0.6
         },
         "mode": "lines",
         "name": "HMA",
         "showlegend": false,
         "type": "scatter",
         "x": [
          "2025-08-07T14:31:00-04:00",
          "2025-08-07T14:32:00-04:00"
         ],
         "xaxis": "x",
         "y": {
          "bdata": "OmlQPfuruEDduZuQUqy4QA==",
          "dtype": "f8"
         },
         "yaxis": "y"
        },
        {
         "line": {
          "color": "#01FFFF",
          "width": 0.6
         },
         "mode": "lines",
         "name": "HMA",
         "showlegend": false,
         "type": "scatter",
         "x": [
          "2025-08-07T14:32:00-04:00",
          "2025-08-07T14:33:00-04:00"
         ],
         "xaxis": "x",
         "y": {
          "bdata": "3bmbkFKsuECdfyDYkKy4QA==",
          "dtype": "f8"
         },
         "yaxis": "y"
        },
        {
         "line": {
          "color": "#01FFFF",
          "width": 0.6
         },
         "mode": "lines",
         "name": "HMA",
         "showlegend": false,
         "type": "scatter",
         "x": [
          "2025-08-07T14:33:00-04:00",
          "2025-08-07T14:34:00-04:00"
         ],
         "xaxis": "x",
         "y": {
          "bdata": "nX8g2JCsuECFjaTy6qy4QA==",
          "dtype": "f8"
         },
         "yaxis": "y"
        },
        {
         "line": {
          "color": "#01FFFF",
          "width": 0.6
         },
         "mode": "lines",
         "name": "HMA",
         "showlegend": false,
         "type": "scatter",
         "x": [
          "2025-08-07T14:34:00-04:00",
          "2025-08-07T14:35:00-04:00"
         ],
         "xaxis": "x",
         "y": {
          "bdata": "hY2k8uqsuEBWXjTuO624QA==",
          "dtype": "f8"
         },
         "yaxis": "y"
        },
        {
         "line": {
          "color": "#01FFFF",
          "width": 0.6
         },
         "mode": "lines",
         "name": "HMA",
         "showlegend": false,
         "type": "scatter",
         "x": [
          "2025-08-07T14:35:00-04:00",
          "2025-08-07T14:36:00-04:00"
         ],
         "xaxis": "x",
         "y": {
          "bdata": "Vl407jutuEB4FMo+m624QA==",
          "dtype": "f8"
         },
         "yaxis": "y"
        },
        {
         "line": {
          "color": "#01FFFF",
          "width": 0.6
         },
         "mode": "lines",
         "name": "HMA",
         "showlegend": false,
         "type": "scatter",
         "x": [
          "2025-08-07T14:36:00-04:00",
          "2025-08-07T14:37:00-04:00"
         ],
         "xaxis": "x",
         "y": {
          "bdata": "eBTKPputuEC2Ipz/I664QA==",
          "dtype": "f8"
         },
         "yaxis": "y"
        },
        {
         "line": {
          "color": "#01FFFF",
          "width": 0.6
         },
         "mode": "lines",
         "name": "HMA",
         "showlegend": false,
         "type": "scatter",
         "x": [
          "2025-08-07T14:37:00-04:00",
          "2025-08-07T14:38:00-04:00"
         ],
         "xaxis": "x",
         "y": {
          "bdata": "tiKc/yOuuEBTRTHz8K64QA==",
          "dtype": "f8"
         },
         "yaxis": "y"
        },
        {
         "line": {
          "color": "#01FFFF",
          "width": 0.6
         },
         "mode": "lines",
         "name": "HMA",
         "showlegend": false,
         "type": "scatter",
         "x": [
          "2025-08-07T14:38:00-04:00",
          "2025-08-07T14:39:00-04:00"
         ],
         "xaxis": "x",
         "y": {
          "bdata": "U0Ux8/CuuECKqzbwsK+4QA==",
          "dtype": "f8"
         },
         "yaxis": "y"
        },
        {
         "line": {
          "color": "#01FFFF",
          "width": 0.6
         },
         "mode": "lines",
         "name": "HMA",
         "showlegend": false,
         "type": "scatter",
         "x": [
          "2025-08-07T14:39:00-04:00",
          "2025-08-07T14:40:00-04:00"
         ],
         "xaxis": "x",
         "y": {
          "bdata": "iqs28LCvuECrlPLvGrC4QA==",
          "dtype": "f8"
         },
         "yaxis": "y"
        },
        {
         "line": {
          "color": "#01FFFF",
          "width": 0.6
         },
         "mode": "lines",
         "name": "HMA",
         "showlegend": false,
         "type": "scatter",
         "x": [
          "2025-08-07T14:40:00-04:00",
          "2025-08-07T14:41:00-04:00"
         ],
         "xaxis": "x",
         "y": {
          "bdata": "q5Ty7xqwuEC663ozMbC4QA==",
          "dtype": "f8"
         },
         "yaxis": "y"
        },
        {
         "line": {
          "color": "#FF66FE",
          "width": 0.6
         },
         "mode": "lines",
         "name": "HMA",
         "showlegend": false,
         "type": "scatter",
         "x": [
          "2025-08-07T14:41:00-04:00",
          "2025-08-07T14:42:00-04:00"
         ],
         "xaxis": "x",
         "y": {
          "bdata": "uut6MzGwuEBa9r/EELC4QA==",
          "dtype": "f8"
         },
         "yaxis": "y"
        },
        {
         "line": {
          "color": "#FF66FE",
          "width": 0.6
         },
         "mode": "lines",
         "name": "HMA",
         "showlegend": false,
         "type": "scatter",
         "x": [
          "2025-08-07T14:42:00-04:00",
          "2025-08-07T14:43:00-04:00"
         ],
         "xaxis": "x",
         "y": {
          "bdata": "Wva/xBCwuEBeJOeUmK+4QA==",
          "dtype": "f8"
         },
         "yaxis": "y"
        },
        {
         "line": {
          "color": "#FF66FE",
          "width": 0.6
         },
         "mode": "lines",
         "name": "HMA",
         "showlegend": false,
         "type": "scatter",
         "x": [
          "2025-08-07T14:43:00-04:00",
          "2025-08-07T14:44:00-04:00"
         ],
         "xaxis": "x",
         "y": {
          "bdata": "XiTnlJivuEDoU4rc0a64QA==",
          "dtype": "f8"
         },
         "yaxis": "y"
        },
        {
         "line": {
          "color": "#FF66FE",
          "width": 0.6
         },
         "mode": "lines",
         "name": "HMA",
         "showlegend": false,
         "type": "scatter",
         "x": [
          "2025-08-07T14:44:00-04:00",
          "2025-08-07T14:45:00-04:00"
         ],
         "xaxis": "x",
         "y": {
          "bdata": "6FOK3NGuuEC96pJo4K24QA==",
          "dtype": "f8"
         },
         "yaxis": "y"
        },
        {
         "line": {
          "color": "#FF66FE",
          "width": 0.6
         },
         "mode": "lines",
         "name": "HMA",
         "showlegend": false,
         "type": "scatter",
         "x": [
          "2025-08-07T14:45:00-04:00",
          "2025-08-07T14:46:00-04:00"
         ],
         "xaxis": "x",
         "y": {
          "bdata": "veqSaOCtuECuALnXDK24QA==",
          "dtype": "f8"
         },
         "yaxis": "y"
        },
        {
         "line": {
          "color": "#FF66FE",
          "width": 0.6
         },
         "mode": "lines",
         "name": "HMA",
         "showlegend": false,
         "type": "scatter",
         "x": [
          "2025-08-07T14:46:00-04:00",
          "2025-08-07T14:47:00-04:00"
         ],
         "xaxis": "x",
         "y": {
          "bdata": "rgC51wytuED65Leuv6y4QA==",
          "dtype": "f8"
         },
         "yaxis": "y"
        },
        {
         "line": {
          "color": "#FF66FE",
          "width": 0.6
         },
         "mode": "lines",
         "name": "HMA",
         "showlegend": false,
         "type": "scatter",
         "x": [
          "2025-08-07T14:47:00-04:00",
          "2025-08-07T14:48:00-04:00"
         ],
         "xaxis": "x",
         "y": {
          "bdata": "+uS3rr+suEC3NFmdu6y4QA==",
          "dtype": "f8"
         },
         "yaxis": "y"
        },
        {
         "line": {
          "color": "#01FFFF",
          "width": 0.6
         },
         "mode": "lines",
         "name": "HMA",
         "showlegend": false,
         "type": "scatter",
         "x": [
          "2025-08-07T14:48:00-04:00",
          "2025-08-07T14:49:00-04:00"
         ],
         "xaxis": "x",
         "y": {
          "bdata": "tzRZnbusuEDNoM5bAK24QA==",
          "dtype": "f8"
         },
         "yaxis": "y"
        },
        {
         "line": {
          "color": "#01FFFF",
          "width": 0.6
         },
         "mode": "lines",
         "name": "HMA",
         "showlegend": false,
         "type": "scatter",
         "x": [
          "2025-08-07T14:49:00-04:00",
          "2025-08-07T14:50:00-04:00"
         ],
         "xaxis": "x",
         "y": {
          "bdata": "zaDOWwCtuEAd4L/bQ624QA==",
          "dtype": "f8"
         },
         "yaxis": "y"
        },
        {
         "line": {
          "color": "#01FFFF",
          "width": 0.6
         },
         "mode": "lines",
         "name": "HMA",
         "showlegend": false,
         "type": "scatter",
         "x": [
          "2025-08-07T14:50:00-04:00",
          "2025-08-07T14:51:00-04:00"
         ],
         "xaxis": "x",
         "y": {
          "bdata": "HeC/20OtuEDSKMVfg624QA==",
          "dtype": "f8"
         },
         "yaxis": "y"
        },
        {
         "line": {
          "color": "#01FFFF",
          "width": 0.6
         },
         "mode": "lines",
         "name": "HMA",
         "showlegend": false,
         "type": "scatter",
         "x": [
          "2025-08-07T14:51:00-04:00",
          "2025-08-07T14:52:00-04:00"
         ],
         "xaxis": "x",
         "y": {
          "bdata": "0ijFX4OtuEAaVWM0Aa64QA==",
          "dtype": "f8"
         },
         "yaxis": "y"
        },
        {
         "line": {
          "color": "#01FFFF",
          "width": 0.6
         },
         "mode": "lines",
         "name": "HMA",
         "showlegend": false,
         "type": "scatter",
         "x": [
          "2025-08-07T14:52:00-04:00",
          "2025-08-07T14:53:00-04:00"
         ],
         "xaxis": "x",
         "y": {
          "bdata": "GlVjNAGuuEANill57a64QA==",
          "dtype": "f8"
         },
         "yaxis": "y"
        },
        {
         "line": {
          "color": "#01FFFF",
          "width": 0.6
         },
         "mode": "lines",
         "name": "HMA",
         "showlegend": false,
         "type": "scatter",
         "x": [
          "2025-08-07T14:53:00-04:00",
          "2025-08-07T14:54:00-04:00"
         ],
         "xaxis": "x",
         "y": {
          "bdata": "DYpZee2uuECC8gfyGbC4QA==",
          "dtype": "f8"
         },
         "yaxis": "y"
        },
        {
         "line": {
          "color": "#01FFFF",
          "width": 0.6
         },
         "mode": "lines",
         "name": "HMA",
         "showlegend": false,
         "type": "scatter",
         "x": [
          "2025-08-07T14:54:00-04:00",
          "2025-08-07T14:55:00-04:00"
         ],
         "xaxis": "x",
         "y": {
          "bdata": "gvIH8hmwuEBS/7gsdrG4QA==",
          "dtype": "f8"
         },
         "yaxis": "y"
        },
        {
         "line": {
          "color": "#01FFFF",
          "width": 0.6
         },
         "mode": "lines",
         "name": "HMA",
         "showlegend": false,
         "type": "scatter",
         "x": [
          "2025-08-07T14:55:00-04:00",
          "2025-08-07T14:56:00-04:00"
         ],
         "xaxis": "x",
         "y": {
          "bdata": "Uv+4LHaxuECtZRzX67K4QA==",
          "dtype": "f8"
         },
         "yaxis": "y"
        },
        {
         "line": {
          "color": "#01FFFF",
          "width": 0.6
         },
         "mode": "lines",
         "name": "HMA",
         "showlegend": false,
         "type": "scatter",
         "x": [
          "2025-08-07T14:56:00-04:00",
          "2025-08-07T14:57:00-04:00"
         ],
         "xaxis": "x",
         "y": {
          "bdata": "rWUc1+uyuECQgOqDXLS4QA==",
          "dtype": "f8"
         },
         "yaxis": "y"
        },
        {
         "line": {
          "color": "#01FFFF",
          "width": 0.6
         },
         "mode": "lines",
         "name": "HMA",
         "showlegend": false,
         "type": "scatter",
         "x": [
          "2025-08-07T14:57:00-04:00",
          "2025-08-07T14:58:00-04:00"
         ],
         "xaxis": "x",
         "y": {
          "bdata": "kIDqg1y0uEArUz+5kbW4QA==",
          "dtype": "f8"
         },
         "yaxis": "y"
        },
        {
         "line": {
          "color": "#01FFFF",
          "width": 0.6
         },
         "mode": "lines",
         "name": "HMA",
         "showlegend": false,
         "type": "scatter",
         "x": [
          "2025-08-07T14:58:00-04:00",
          "2025-08-07T14:59:00-04:00"
         ],
         "xaxis": "x",
         "y": {
          "bdata": "K1M/uZG1uEBV8S8uYLa4QA==",
          "dtype": "f8"
         },
         "yaxis": "y"
        },
        {
         "line": {
          "color": "#01FFFF",
          "width": 0.6
         },
         "mode": "lines",
         "name": "HMA",
         "showlegend": false,
         "type": "scatter",
         "x": [
          "2025-08-07T14:59:00-04:00",
          "2025-08-07T15:00:00-04:00"
         ],
         "xaxis": "x",
         "y": {
          "bdata": "VfEvLmC2uECIiE8G77a4QA==",
          "dtype": "f8"
         },
         "yaxis": "y"
        },
        {
         "line": {
          "color": "#01FFFF",
          "width": 0.6
         },
         "mode": "lines",
         "name": "HMA",
         "showlegend": false,
         "type": "scatter",
         "x": [
          "2025-08-07T15:00:00-04:00",
          "2025-08-07T15:01:00-04:00"
         ],
         "xaxis": "x",
         "y": {
          "bdata": "iIhPBu+2uEBFm8nLObe4QA==",
          "dtype": "f8"
         },
         "yaxis": "y"
        },
        {
         "line": {
          "color": "#FF66FE",
          "width": 0.6
         },
         "mode": "lines",
         "name": "HMA",
         "showlegend": false,
         "type": "scatter",
         "x": [
          "2025-08-07T15:01:00-04:00",
          "2025-08-07T15:02:00-04:00"
         ],
         "xaxis": "x",
         "y": {
          "bdata": "RZvJyzm3uECzi92QC7e4QA==",
          "dtype": "f8"
         },
         "yaxis": "y"
        },
        {
         "line": {
          "color": "#FF66FE",
          "width": 0.6
         },
         "mode": "lines",
         "name": "HMA",
         "showlegend": false,
         "type": "scatter",
         "x": [
          "2025-08-07T15:02:00-04:00",
          "2025-08-07T15:03:00-04:00"
         ],
         "xaxis": "x",
         "y": {
          "bdata": "s4vdkAu3uEDWEzGufra4QA==",
          "dtype": "f8"
         },
         "yaxis": "y"
        },
        {
         "line": {
          "color": "#FF66FE",
          "width": 0.6
         },
         "mode": "lines",
         "name": "HMA",
         "showlegend": false,
         "type": "scatter",
         "x": [
          "2025-08-07T15:03:00-04:00",
          "2025-08-07T15:04:00-04:00"
         ],
         "xaxis": "x",
         "y": {
          "bdata": "1hMxrn62uEBwfV+14LW4QA==",
          "dtype": "f8"
         },
         "yaxis": "y"
        },
        {
         "line": {
          "color": "#FF66FE",
          "width": 0.6
         },
         "mode": "lines",
         "name": "HMA",
         "showlegend": false,
         "type": "scatter",
         "x": [
          "2025-08-07T15:04:00-04:00",
          "2025-08-07T15:05:00-04:00"
         ],
         "xaxis": "x",
         "y": {
          "bdata": "cH1fteC1uEACz1aVLrW4QA==",
          "dtype": "f8"
         },
         "yaxis": "y"
        },
        {
         "line": {
          "color": "#FF66FE",
          "width": 0.6
         },
         "mode": "lines",
         "name": "HMA",
         "showlegend": false,
         "type": "scatter",
         "x": [
          "2025-08-07T15:05:00-04:00",
          "2025-08-07T15:06:00-04:00"
         ],
         "xaxis": "x",
         "y": {
          "bdata": "As9WlS61uECQYcU0ebS4QA==",
          "dtype": "f8"
         },
         "yaxis": "y"
        },
        {
         "line": {
          "color": "#FF66FE",
          "width": 0.6
         },
         "mode": "lines",
         "name": "HMA",
         "showlegend": false,
         "type": "scatter",
         "x": [
          "2025-08-07T15:06:00-04:00",
          "2025-08-07T15:07:00-04:00"
         ],
         "xaxis": "x",
         "y": {
          "bdata": "kGHFNHm0uEDMN6gtvbO4QA==",
          "dtype": "f8"
         },
         "yaxis": "y"
        },
        {
         "line": {
          "color": "#FF66FE",
          "width": 0.6
         },
         "mode": "lines",
         "name": "HMA",
         "showlegend": false,
         "type": "scatter",
         "x": [
          "2025-08-07T15:07:00-04:00",
          "2025-08-07T15:08:00-04:00"
         ],
         "xaxis": "x",
         "y": {
          "bdata": "zDeoLb2zuEDeGBa+IrO4QA==",
          "dtype": "f8"
         },
         "yaxis": "y"
        },
        {
         "line": {
          "color": "#FF66FE",
          "width": 0.6
         },
         "mode": "lines",
         "name": "HMA",
         "showlegend": false,
         "type": "scatter",
         "x": [
          "2025-08-07T15:08:00-04:00",
          "2025-08-07T15:09:00-04:00"
         ],
         "xaxis": "x",
         "y": {
          "bdata": "3hgWviKzuEA74pk5zbK4QA==",
          "dtype": "f8"
         },
         "yaxis": "y"
        },
        {
         "line": {
          "color": "#FF66FE",
          "width": 0.6
         },
         "mode": "lines",
         "name": "HMA",
         "showlegend": false,
         "type": "scatter",
         "x": [
          "2025-08-07T15:09:00-04:00",
          "2025-08-07T15:10:00-04:00"
         ],
         "xaxis": "x",
         "y": {
          "bdata": "O+KZOc2yuEAGaCHYorK4QA==",
          "dtype": "f8"
         },
         "yaxis": "y"
        },
        {
         "line": {
          "color": "#FF66FE",
          "width": 0.6
         },
         "mode": "lines",
         "name": "HMA",
         "showlegend": false,
         "type": "scatter",
         "x": [
          "2025-08-07T15:10:00-04:00",
          "2025-08-07T15:11:00-04:00"
         ],
         "xaxis": "x",
         "y": {
          "bdata": "Bmgh2KKyuECemvWQeLK4QA==",
          "dtype": "f8"
         },
         "yaxis": "y"
        },
        {
         "line": {
          "color": "#FF66FE",
          "width": 0.6
         },
         "mode": "lines",
         "name": "HMA",
         "showlegend": false,
         "type": "scatter",
         "x": [
          "2025-08-07T15:11:00-04:00",
          "2025-08-07T15:12:00-04:00"
         ],
         "xaxis": "x",
         "y": {
          "bdata": "npr1kHiyuEDx5/8yWrK4QA==",
          "dtype": "f8"
         },
         "yaxis": "y"
        },
        {
         "line": {
          "color": "#FF66FE",
          "width": 0.6
         },
         "mode": "lines",
         "name": "HMA",
         "showlegend": false,
         "type": "scatter",
         "x": [
          "2025-08-07T15:12:00-04:00",
          "2025-08-07T15:13:00-04:00"
         ],
         "xaxis": "x",
         "y": {
          "bdata": "8ef/MlqyuEBDfug+NrK4QA==",
          "dtype": "f8"
         },
         "yaxis": "y"
        },
        {
         "line": {
          "color": "#FF66FE",
          "width": 0.6
         },
         "mode": "lines",
         "name": "HMA",
         "showlegend": false,
         "type": "scatter",
         "x": [
          "2025-08-07T15:13:00-04:00",
          "2025-08-07T15:14:00-04:00"
         ],
         "xaxis": "x",
         "y": {
          "bdata": "Q37oPjayuEDr4EfRA7K4QA==",
          "dtype": "f8"
         },
         "yaxis": "y"
        },
        {
         "line": {
          "color": "#FF66FE",
          "width": 0.6
         },
         "mode": "lines",
         "name": "HMA",
         "showlegend": false,
         "type": "scatter",
         "x": [
          "2025-08-07T15:14:00-04:00",
          "2025-08-07T15:15:00-04:00"
         ],
         "xaxis": "x",
         "y": {
          "bdata": "6+BH0QOyuEBoP/f35LG4QA==",
          "dtype": "f8"
         },
         "yaxis": "y"
        },
        {
         "line": {
          "color": "#FF66FE",
          "width": 0.6
         },
         "mode": "lines",
         "name": "HMA",
         "showlegend": false,
         "type": "scatter",
         "x": [
          "2025-08-07T15:15:00-04:00",
          "2025-08-07T15:16:00-04:00"
         ],
         "xaxis": "x",
         "y": {
          "bdata": "aD/39+SxuEB6JsBejLG4QA==",
          "dtype": "f8"
         },
         "yaxis": "y"
        },
        {
         "line": {
          "color": "#FF66FE",
          "width": 0.6
         },
         "mode": "lines",
         "name": "HMA",
         "showlegend": false,
         "type": "scatter",
         "x": [
          "2025-08-07T15:16:00-04:00",
          "2025-08-07T15:17:00-04:00"
         ],
         "xaxis": "x",
         "y": {
          "bdata": "eibAXoyxuEBlNzpAPrG4QA==",
          "dtype": "f8"
         },
         "yaxis": "y"
        },
        {
         "line": {
          "color": "#FF66FE",
          "width": 0.6
         },
         "mode": "lines",
         "name": "HMA",
         "showlegend": false,
         "type": "scatter",
         "x": [
          "2025-08-07T15:17:00-04:00",
          "2025-08-07T15:18:00-04:00"
         ],
         "xaxis": "x",
         "y": {
          "bdata": "ZTc6QD6xuEBmCaL/2LC4QA==",
          "dtype": "f8"
         },
         "yaxis": "y"
        },
        {
         "line": {
          "color": "#FF66FE",
          "width": 0.6
         },
         "mode": "lines",
         "name": "HMA",
         "showlegend": false,
         "type": "scatter",
         "x": [
          "2025-08-07T15:18:00-04:00",
          "2025-08-07T15:19:00-04:00"
         ],
         "xaxis": "x",
         "y": {
          "bdata": "Zgmi/9iwuEB/QzB7krC4QA==",
          "dtype": "f8"
         },
         "yaxis": "y"
        },
        {
         "line": {
          "color": "#FF66FE",
          "width": 0.6
         },
         "mode": "lines",
         "name": "HMA",
         "showlegend": false,
         "type": "scatter",
         "x": [
          "2025-08-07T15:19:00-04:00",
          "2025-08-07T15:20:00-04:00"
         ],
         "xaxis": "x",
         "y": {
          "bdata": "f0Mwe5KwuEAiOfy9gbC4QA==",
          "dtype": "f8"
         },
         "yaxis": "y"
        },
        {
         "line": {
          "color": "#01FFFF",
          "width": 0.6
         },
         "mode": "lines",
         "name": "HMA",
         "showlegend": false,
         "type": "scatter",
         "x": [
          "2025-08-07T15:20:00-04:00",
          "2025-08-07T15:21:00-04:00"
         ],
         "xaxis": "x",
         "y": {
          "bdata": "Ijn8vYGwuEA4iB9/tbC4QA==",
          "dtype": "f8"
         },
         "yaxis": "y"
        },
        {
         "line": {
          "color": "#01FFFF",
          "width": 0.6
         },
         "mode": "lines",
         "name": "HMA",
         "showlegend": false,
         "type": "scatter",
         "x": [
          "2025-08-07T15:21:00-04:00",
          "2025-08-07T15:22:00-04:00"
         ],
         "xaxis": "x",
         "y": {
          "bdata": "OIgff7WwuEA+824MFLG4QA==",
          "dtype": "f8"
         },
         "yaxis": "y"
        },
        {
         "line": {
          "color": "#01FFFF",
          "width": 0.6
         },
         "mode": "lines",
         "name": "HMA",
         "showlegend": false,
         "type": "scatter",
         "x": [
          "2025-08-07T15:22:00-04:00",
          "2025-08-07T15:23:00-04:00"
         ],
         "xaxis": "x",
         "y": {
          "bdata": "PvNuDBSxuEBGwsfJfbG4QA==",
          "dtype": "f8"
         },
         "yaxis": "y"
        },
        {
         "line": {
          "color": "#01FFFF",
          "width": 0.6
         },
         "mode": "lines",
         "name": "HMA",
         "showlegend": false,
         "type": "scatter",
         "x": [
          "2025-08-07T15:23:00-04:00",
          "2025-08-07T15:24:00-04:00"
         ],
         "xaxis": "x",
         "y": {
          "bdata": "RsLHyX2xuECHU+QA77G4QA==",
          "dtype": "f8"
         },
         "yaxis": "y"
        },
        {
         "line": {
          "color": "#01FFFF",
          "width": 0.6
         },
         "mode": "lines",
         "name": "HMA",
         "showlegend": false,
         "type": "scatter",
         "x": [
          "2025-08-07T15:24:00-04:00",
          "2025-08-07T15:25:00-04:00"
         ],
         "xaxis": "x",
         "y": {
          "bdata": "h1PkAO+xuEANqdNBJLK4QA==",
          "dtype": "f8"
         },
         "yaxis": "y"
        },
        {
         "line": {
          "color": "#01FFFF",
          "width": 0.6
         },
         "mode": "lines",
         "name": "HMA",
         "showlegend": false,
         "type": "scatter",
         "x": [
          "2025-08-07T15:25:00-04:00",
          "2025-08-07T15:26:00-04:00"
         ],
         "xaxis": "x",
         "y": {
          "bdata": "DanTQSSyuEArXUAzKLK4QA==",
          "dtype": "f8"
         },
         "yaxis": "y"
        },
        {
         "line": {
          "color": "#FF66FE",
          "width": 0.6
         },
         "mode": "lines",
         "name": "HMA",
         "showlegend": false,
         "type": "scatter",
         "x": [
          "2025-08-07T15:26:00-04:00",
          "2025-08-07T15:27:00-04:00"
         ],
         "xaxis": "x",
         "y": {
          "bdata": "K11AMyiyuEBLTmPdD7K4QA==",
          "dtype": "f8"
         },
         "yaxis": "y"
        },
        {
         "line": {
          "color": "#FF66FE",
          "width": 0.6
         },
         "mode": "lines",
         "name": "HMA",
         "showlegend": false,
         "type": "scatter",
         "x": [
          "2025-08-07T15:27:00-04:00",
          "2025-08-07T15:28:00-04:00"
         ],
         "xaxis": "x",
         "y": {
          "bdata": "S05j3Q+yuEBF8r/D3LG4QA==",
          "dtype": "f8"
         },
         "yaxis": "y"
        },
        {
         "line": {
          "color": "#FF66FE",
          "width": 0.6
         },
         "mode": "lines",
         "name": "HMA",
         "showlegend": false,
         "type": "scatter",
         "x": [
          "2025-08-07T15:28:00-04:00",
          "2025-08-07T15:29:00-04:00"
         ],
         "xaxis": "x",
         "y": {
          "bdata": "RfK/w9yxuEBuAP+kvLG4QA==",
          "dtype": "f8"
         },
         "yaxis": "y"
        },
        {
         "line": {
          "color": "#01FFFF",
          "width": 0.6
         },
         "mode": "lines",
         "name": "HMA",
         "showlegend": false,
         "type": "scatter",
         "x": [
          "2025-08-07T15:29:00-04:00",
          "2025-08-07T15:30:00-04:00"
         ],
         "xaxis": "x",
         "y": {
          "bdata": "bgD/pLyxuEAmaS9i9bG4QA==",
          "dtype": "f8"
         },
         "yaxis": "y"
        },
        {
         "line": {
          "color": "#01FFFF",
          "width": 0.6
         },
         "mode": "lines",
         "name": "HMA",
         "showlegend": false,
         "type": "scatter",
         "x": [
          "2025-08-07T15:30:00-04:00",
          "2025-08-07T15:31:00-04:00"
         ],
         "xaxis": "x",
         "y": {
          "bdata": "JmkvYvWxuEBtay9/sLK4QA==",
          "dtype": "f8"
         },
         "yaxis": "y"
        },
        {
         "line": {
          "color": "#01FFFF",
          "width": 0.6
         },
         "mode": "lines",
         "name": "HMA",
         "showlegend": false,
         "type": "scatter",
         "x": [
          "2025-08-07T15:31:00-04:00",
          "2025-08-07T15:32:00-04:00"
         ],
         "xaxis": "x",
         "y": {
          "bdata": "bWsvf7CyuECP+PQTj7O4QA==",
          "dtype": "f8"
         },
         "yaxis": "y"
        },
        {
         "line": {
          "color": "#01FFFF",
          "width": 0.6
         },
         "mode": "lines",
         "name": "HMA",
         "showlegend": false,
         "type": "scatter",
         "x": [
          "2025-08-07T15:32:00-04:00",
          "2025-08-07T15:33:00-04:00"
         ],
         "xaxis": "x",
         "y": {
          "bdata": "j/j0E4+zuEAqLQ4jerS4QA==",
          "dtype": "f8"
         },
         "yaxis": "y"
        },
        {
         "line": {
          "color": "#01FFFF",
          "width": 0.6
         },
         "mode": "lines",
         "name": "HMA",
         "showlegend": false,
         "type": "scatter",
         "x": [
          "2025-08-07T15:33:00-04:00",
          "2025-08-07T15:34:00-04:00"
         ],
         "xaxis": "x",
         "y": {
          "bdata": "Ki0OI3q0uEBt6HOYSrW4QA==",
          "dtype": "f8"
         },
         "yaxis": "y"
        },
        {
         "line": {
          "color": "#01FFFF",
          "width": 0.6
         },
         "mode": "lines",
         "name": "HMA",
         "showlegend": false,
         "type": "scatter",
         "x": [
          "2025-08-07T15:34:00-04:00",
          "2025-08-07T15:35:00-04:00"
         ],
         "xaxis": "x",
         "y": {
          "bdata": "behzmEq1uEC41h3cGra4QA==",
          "dtype": "f8"
         },
         "yaxis": "y"
        },
        {
         "line": {
          "color": "#01FFFF",
          "width": 0.6
         },
         "mode": "lines",
         "name": "HMA",
         "showlegend": false,
         "type": "scatter",
         "x": [
          "2025-08-07T15:35:00-04:00",
          "2025-08-07T15:36:00-04:00"
         ],
         "xaxis": "x",
         "y": {
          "bdata": "uNYd3Bq2uECdZcMN8ra4QA==",
          "dtype": "f8"
         },
         "yaxis": "y"
        },
        {
         "line": {
          "color": "#01FFFF",
          "width": 0.6
         },
         "mode": "lines",
         "name": "HMA",
         "showlegend": false,
         "type": "scatter",
         "x": [
          "2025-08-07T15:36:00-04:00",
          "2025-08-07T15:37:00-04:00"
         ],
         "xaxis": "x",
         "y": {
          "bdata": "nWXDDfK2uEDY+Fv1Bri4QA==",
          "dtype": "f8"
         },
         "yaxis": "y"
        },
        {
         "line": {
          "color": "#01FFFF",
          "width": 0.6
         },
         "mode": "lines",
         "name": "HMA",
         "showlegend": false,
         "type": "scatter",
         "x": [
          "2025-08-07T15:37:00-04:00",
          "2025-08-07T15:38:00-04:00"
         ],
         "xaxis": "x",
         "y": {
          "bdata": "2Phb9Qa4uEDIYJTgx7i4QA==",
          "dtype": "f8"
         },
         "yaxis": "y"
        },
        {
         "line": {
          "color": "#01FFFF",
          "width": 0.6
         },
         "mode": "lines",
         "name": "HMA",
         "showlegend": false,
         "type": "scatter",
         "x": [
          "2025-08-07T15:38:00-04:00",
          "2025-08-07T15:39:00-04:00"
         ],
         "xaxis": "x",
         "y": {
          "bdata": "yGCU4Me4uECycCTP/bi4QA==",
          "dtype": "f8"
         },
         "yaxis": "y"
        },
        {
         "line": {
          "color": "#01FFFF",
          "width": 0.6
         },
         "mode": "lines",
         "name": "HMA",
         "showlegend": false,
         "type": "scatter",
         "x": [
          "2025-08-07T15:39:00-04:00",
          "2025-08-07T15:40:00-04:00"
         ],
         "xaxis": "x",
         "y": {
          "bdata": "snAkz/24uECT5o2DALm4QA==",
          "dtype": "f8"
         },
         "yaxis": "y"
        },
        {
         "line": {
          "color": "#01FFFF",
          "width": 0.6
         },
         "mode": "lines",
         "name": "HMA",
         "showlegend": false,
         "type": "scatter",
         "x": [
          "2025-08-07T15:40:00-04:00",
          "2025-08-07T15:41:00-04:00"
         ],
         "xaxis": "x",
         "y": {
          "bdata": "k+aNgwC5uEA7URs+Erm4QA==",
          "dtype": "f8"
         },
         "yaxis": "y"
        },
        {
         "line": {
          "color": "#01FFFF",
          "width": 0.6
         },
         "mode": "lines",
         "name": "HMA",
         "showlegend": false,
         "type": "scatter",
         "x": [
          "2025-08-07T15:41:00-04:00",
          "2025-08-07T15:42:00-04:00"
         ],
         "xaxis": "x",
         "y": {
          "bdata": "O1EbPhK5uEAY2Xl+YLm4QA==",
          "dtype": "f8"
         },
         "yaxis": "y"
        },
        {
         "line": {
          "color": "#01FFFF",
          "width": 0.6
         },
         "mode": "lines",
         "name": "HMA",
         "showlegend": false,
         "type": "scatter",
         "x": [
          "2025-08-07T15:42:00-04:00",
          "2025-08-07T15:43:00-04:00"
         ],
         "xaxis": "x",
         "y": {
          "bdata": "GNl5fmC5uEDD/VaE07m4QA==",
          "dtype": "f8"
         },
         "yaxis": "y"
        },
        {
         "line": {
          "color": "#01FFFF",
          "width": 0.6
         },
         "mode": "lines",
         "name": "HMA",
         "showlegend": false,
         "type": "scatter",
         "x": [
          "2025-08-07T15:43:00-04:00",
          "2025-08-07T15:44:00-04:00"
         ],
         "xaxis": "x",
         "y": {
          "bdata": "w/1WhNO5uECe6fbiYLq4QA==",
          "dtype": "f8"
         },
         "yaxis": "y"
        },
        {
         "line": {
          "color": "#01FFFF",
          "width": 0.6
         },
         "mode": "lines",
         "name": "HMA",
         "showlegend": false,
         "type": "scatter",
         "x": [
          "2025-08-07T15:44:00-04:00",
          "2025-08-07T15:45:00-04:00"
         ],
         "xaxis": "x",
         "y": {
          "bdata": "nun24mC6uECK+dzeH7u4QA==",
          "dtype": "f8"
         },
         "yaxis": "y"
        },
        {
         "line": {
          "color": "#01FFFF",
          "width": 0.6
         },
         "mode": "lines",
         "name": "HMA",
         "showlegend": false,
         "type": "scatter",
         "x": [
          "2025-08-07T15:45:00-04:00",
          "2025-08-07T15:46:00-04:00"
         ],
         "xaxis": "x",
         "y": {
          "bdata": "ivnc3h+7uEAwvqo9yru4QA==",
          "dtype": "f8"
         },
         "yaxis": "y"
        },
        {
         "line": {
          "color": "#01FFFF",
          "width": 0.6
         },
         "mode": "lines",
         "name": "HMA",
         "showlegend": false,
         "type": "scatter",
         "x": [
          "2025-08-07T15:46:00-04:00",
          "2025-08-07T15:47:00-04:00"
         ],
         "xaxis": "x",
         "y": {
          "bdata": "ML6qPcq7uEBegunTf7y4QA==",
          "dtype": "f8"
         },
         "yaxis": "y"
        },
        {
         "line": {
          "color": "#01FFFF",
          "width": 0.6
         },
         "mode": "lines",
         "name": "HMA",
         "showlegend": false,
         "type": "scatter",
         "x": [
          "2025-08-07T15:47:00-04:00",
          "2025-08-07T15:48:00-04:00"
         ],
         "xaxis": "x",
         "y": {
          "bdata": "XoLp03+8uECLI14LE724QA==",
          "dtype": "f8"
         },
         "yaxis": "y"
        },
        {
         "line": {
          "color": "#01FFFF",
          "width": 0.6
         },
         "mode": "lines",
         "name": "HMA",
         "showlegend": false,
         "type": "scatter",
         "x": [
          "2025-08-07T15:48:00-04:00",
          "2025-08-07T15:49:00-04:00"
         ],
         "xaxis": "x",
         "y": {
          "bdata": "iyNeCxO9uEDORqtCd724QA==",
          "dtype": "f8"
         },
         "yaxis": "y"
        },
        {
         "line": {
          "color": "#01FFFF",
          "width": 0.6
         },
         "mode": "lines",
         "name": "HMA",
         "showlegend": false,
         "type": "scatter",
         "x": [
          "2025-08-07T15:49:00-04:00",
          "2025-08-07T15:50:00-04:00"
         ],
         "xaxis": "x",
         "y": {
          "bdata": "zkarQne9uEChfEnEg724QA==",
          "dtype": "f8"
         },
         "yaxis": "y"
        },
        {
         "line": {
          "color": "#FF66FE",
          "width": 0.6
         },
         "mode": "lines",
         "name": "HMA",
         "showlegend": false,
         "type": "scatter",
         "x": [
          "2025-08-07T15:50:00-04:00",
          "2025-08-07T15:51:00-04:00"
         ],
         "xaxis": "x",
         "y": {
          "bdata": "oXxJxIO9uEBYQVT1Pb24QA==",
          "dtype": "f8"
         },
         "yaxis": "y"
        },
        {
         "line": {
          "color": "#FF66FE",
          "width": 0.6
         },
         "mode": "lines",
         "name": "HMA",
         "showlegend": false,
         "type": "scatter",
         "x": [
          "2025-08-07T15:51:00-04:00",
          "2025-08-07T15:52:00-04:00"
         ],
         "xaxis": "x",
         "y": {
          "bdata": "WEFU9T29uEAk9N/u1by4QA==",
          "dtype": "f8"
         },
         "yaxis": "y"
        },
        {
         "line": {
          "color": "#FF66FE",
          "width": 0.6
         },
         "mode": "lines",
         "name": "HMA",
         "showlegend": false,
         "type": "scatter",
         "x": [
          "2025-08-07T15:52:00-04:00",
          "2025-08-07T15:53:00-04:00"
         ],
         "xaxis": "x",
         "y": {
          "bdata": "JPTf7tW8uEAXYPf/NLy4QA==",
          "dtype": "f8"
         },
         "yaxis": "y"
        },
        {
         "line": {
          "color": "#FF66FE",
          "width": 0.6
         },
         "mode": "lines",
         "name": "HMA",
         "showlegend": false,
         "type": "scatter",
         "x": [
          "2025-08-07T15:53:00-04:00",
          "2025-08-07T15:54:00-04:00"
         ],
         "xaxis": "x",
         "y": {
          "bdata": "F2D3/zS8uECKCiKOfru4QA==",
          "dtype": "f8"
         },
         "yaxis": "y"
        },
        {
         "line": {
          "color": "#FF66FE",
          "width": 0.6
         },
         "mode": "lines",
         "name": "HMA",
         "showlegend": false,
         "type": "scatter",
         "x": [
          "2025-08-07T15:54:00-04:00",
          "2025-08-07T15:55:00-04:00"
         ],
         "xaxis": "x",
         "y": {
          "bdata": "igoijn67uECdfozy7bq4QA==",
          "dtype": "f8"
         },
         "yaxis": "y"
        },
        {
         "line": {
          "color": "#FF66FE",
          "width": 0.6
         },
         "mode": "lines",
         "name": "HMA",
         "showlegend": false,
         "type": "scatter",
         "x": [
          "2025-08-07T15:55:00-04:00",
          "2025-08-07T15:56:00-04:00"
         ],
         "xaxis": "x",
         "y": {
          "bdata": "nX6M8u26uEDXlZExi7q4QA==",
          "dtype": "f8"
         },
         "yaxis": "y"
        },
        {
         "line": {
          "color": "#01FFFF",
          "width": 0.6
         },
         "mode": "lines",
         "name": "HMA",
         "showlegend": false,
         "type": "scatter",
         "x": [
          "2025-08-07T15:56:00-04:00",
          "2025-08-07T15:57:00-04:00"
         ],
         "xaxis": "x",
         "y": {
          "bdata": "15WRMYu6uEBOMqZZt7q4QA==",
          "dtype": "f8"
         },
         "yaxis": "y"
        },
        {
         "line": {
          "color": "#01FFFF",
          "width": 0.6
         },
         "mode": "lines",
         "name": "HMA",
         "showlegend": false,
         "type": "scatter",
         "x": [
          "2025-08-07T15:57:00-04:00",
          "2025-08-07T15:58:00-04:00"
         ],
         "xaxis": "x",
         "y": {
          "bdata": "TjKmWbe6uECuHShgXbu4QA==",
          "dtype": "f8"
         },
         "yaxis": "y"
        },
        {
         "line": {
          "color": "#01FFFF",
          "width": 0.6
         },
         "mode": "lines",
         "name": "HMA",
         "showlegend": false,
         "type": "scatter",
         "x": [
          "2025-08-07T15:58:00-04:00",
          "2025-08-07T15:59:00-04:00"
         ],
         "xaxis": "x",
         "y": {
          "bdata": "rh0oYF27uEBABmyq4Ly4QA==",
          "dtype": "f8"
         },
         "yaxis": "y"
        },
        {
         "line": {
          "color": "#01FFFF",
          "width": 1
         },
         "mode": "lines",
         "name": "MACD (Value)",
         "showlegend": false,
         "type": "scatter",
         "x": [
          "2025-08-07T09:00:00.000000000",
          "2025-08-07T09:01:00.000000000",
          "2025-08-07T09:02:00.000000000",
          "2025-08-07T09:03:00.000000000",
          "2025-08-07T09:04:00.000000000",
          "2025-08-07T09:05:00.000000000",
          "2025-08-07T09:06:00.000000000",
          "2025-08-07T09:07:00.000000000",
          "2025-08-07T09:08:00.000000000",
          "2025-08-07T09:09:00.000000000",
          "2025-08-07T09:10:00.000000000",
          "2025-08-07T09:11:00.000000000",
          "2025-08-07T09:12:00.000000000",
          "2025-08-07T09:13:00.000000000",
          "2025-08-07T09:14:00.000000000",
          "2025-08-07T09:15:00.000000000",
          "2025-08-07T09:16:00.000000000",
          "2025-08-07T09:17:00.000000000",
          "2025-08-07T09:18:00.000000000",
          "2025-08-07T09:19:00.000000000",
          "2025-08-07T09:20:00.000000000",
          "2025-08-07T09:21:00.000000000",
          "2025-08-07T09:22:00.000000000",
          "2025-08-07T09:23:00.000000000",
          "2025-08-07T09:24:00.000000000",
          "2025-08-07T09:25:00.000000000",
          "2025-08-07T09:26:00.000000000",
          "2025-08-07T09:27:00.000000000",
          "2025-08-07T09:28:00.000000000",
          "2025-08-07T09:29:00.000000000",
          "2025-08-07T09:30:00.000000000",
          "2025-08-07T09:31:00.000000000",
          "2025-08-07T09:32:00.000000000",
          "2025-08-07T09:33:00.000000000",
          "2025-08-07T09:34:00.000000000",
          "2025-08-07T09:35:00.000000000",
          "2025-08-07T09:36:00.000000000",
          "2025-08-07T09:37:00.000000000",
          "2025-08-07T09:38:00.000000000",
          "2025-08-07T09:39:00.000000000",
          "2025-08-07T09:40:00.000000000",
          "2025-08-07T09:41:00.000000000",
          "2025-08-07T09:42:00.000000000",
          "2025-08-07T09:43:00.000000000",
          "2025-08-07T09:44:00.000000000",
          "2025-08-07T09:45:00.000000000",
          "2025-08-07T09:46:00.000000000",
          "2025-08-07T09:47:00.000000000",
          "2025-08-07T09:48:00.000000000",
          "2025-08-07T09:49:00.000000000",
          "2025-08-07T09:50:00.000000000",
          "2025-08-07T09:51:00.000000000",
          "2025-08-07T09:52:00.000000000",
          "2025-08-07T09:53:00.000000000",
          "2025-08-07T09:54:00.000000000",
          "2025-08-07T09:55:00.000000000",
          "2025-08-07T09:56:00.000000000",
          "2025-08-07T09:57:00.000000000",
          "2025-08-07T09:58:00.000000000",
          "2025-08-07T09:59:00.000000000",
          "2025-08-07T10:00:00.000000000",
          "2025-08-07T10:01:00.000000000",
          "2025-08-07T10:02:00.000000000",
          "2025-08-07T10:03:00.000000000",
          "2025-08-07T10:04:00.000000000",
          "2025-08-07T10:05:00.000000000",
          "2025-08-07T10:06:00.000000000",
          "2025-08-07T10:07:00.000000000",
          "2025-08-07T10:08:00.000000000",
          "2025-08-07T10:09:00.000000000",
          "2025-08-07T10:10:00.000000000",
          "2025-08-07T10:11:00.000000000",
          "2025-08-07T10:12:00.000000000",
          "2025-08-07T10:13:00.000000000",
          "2025-08-07T10:14:00.000000000",
          "2025-08-07T10:15:00.000000000",
          "2025-08-07T10:16:00.000000000",
          "2025-08-07T10:17:00.000000000",
          "2025-08-07T10:18:00.000000000",
          "2025-08-07T10:19:00.000000000",
          "2025-08-07T10:20:00.000000000",
          "2025-08-07T10:21:00.000000000",
          "2025-08-07T10:22:00.000000000",
          "2025-08-07T10:23:00.000000000",
          "2025-08-07T10:24:00.000000000",
          "2025-08-07T10:25:00.000000000",
          "2025-08-07T10:26:00.000000000",
          "2025-08-07T10:27:00.000000000",
          "2025-08-07T10:28:00.000000000",
          "2025-08-07T10:29:00.000000000",
          "2025-08-07T10:30:00.000000000",
          "2025-08-07T10:31:00.000000000",
          "2025-08-07T10:32:00.000000000",
          "2025-08-07T10:33:00.000000000",
          "2025-08-07T10:34:00.000000000",
          "2025-08-07T10:35:00.000000000",
          "2025-08-07T10:36:00.000000000",
          "2025-08-07T10:37:00.000000000",
          "2025-08-07T10:38:00.000000000",
          "2025-08-07T10:39:00.000000000",
          "2025-08-07T10:40:00.000000000",
          "2025-08-07T10:41:00.000000000",
          "2025-08-07T10:42:00.000000000",
          "2025-08-07T10:43:00.000000000",
          "2025-08-07T10:44:00.000000000",
          "2025-08-07T10:45:00.000000000",
          "2025-08-07T10:46:00.000000000",
          "2025-08-07T10:47:00.000000000",
          "2025-08-07T10:48:00.000000000",
          "2025-08-07T10:49:00.000000000",
          "2025-08-07T10:50:00.000000000",
          "2025-08-07T10:51:00.000000000",
          "2025-08-07T10:52:00.000000000",
          "2025-08-07T10:53:00.000000000",
          "2025-08-07T10:54:00.000000000",
          "2025-08-07T10:55:00.000000000",
          "2025-08-07T10:56:00.000000000",
          "2025-08-07T10:57:00.000000000",
          "2025-08-07T10:58:00.000000000",
          "2025-08-07T10:59:00.000000000",
          "2025-08-07T11:00:00.000000000",
          "2025-08-07T11:01:00.000000000",
          "2025-08-07T11:02:00.000000000",
          "2025-08-07T11:03:00.000000000",
          "2025-08-07T11:04:00.000000000",
          "2025-08-07T11:05:00.000000000",
          "2025-08-07T11:06:00.000000000",
          "2025-08-07T11:07:00.000000000",
          "2025-08-07T11:08:00.000000000",
          "2025-08-07T11:09:00.000000000",
          "2025-08-07T11:10:00.000000000",
          "2025-08-07T11:11:00.000000000",
          "2025-08-07T11:12:00.000000000",
          "2025-08-07T11:13:00.000000000",
          "2025-08-07T11:14:00.000000000",
          "2025-08-07T11:15:00.000000000",
          "2025-08-07T11:16:00.000000000",
          "2025-08-07T11:17:00.000000000",
          "2025-08-07T11:18:00.000000000",
          "2025-08-07T11:19:00.000000000",
          "2025-08-07T11:20:00.000000000",
          "2025-08-07T11:21:00.000000000",
          "2025-08-07T11:22:00.000000000",
          "2025-08-07T11:23:00.000000000",
          "2025-08-07T11:24:00.000000000",
          "2025-08-07T11:25:00.000000000",
          "2025-08-07T11:26:00.000000000",
          "2025-08-07T11:27:00.000000000",
          "2025-08-07T11:28:00.000000000",
          "2025-08-07T11:29:00.000000000",
          "2025-08-07T11:30:00.000000000",
          "2025-08-07T11:31:00.000000000",
          "2025-08-07T11:32:00.000000000",
          "2025-08-07T11:33:00.000000000",
          "2025-08-07T11:34:00.000000000",
          "2025-08-07T11:35:00.000000000",
          "2025-08-07T11:36:00.000000000",
          "2025-08-07T11:37:00.000000000",
          "2025-08-07T11:38:00.000000000",
          "2025-08-07T11:39:00.000000000",
          "2025-08-07T11:40:00.000000000",
          "2025-08-07T11:41:00.000000000",
          "2025-08-07T11:42:00.000000000",
          "2025-08-07T11:43:00.000000000",
          "2025-08-07T11:44:00.000000000",
          "2025-08-07T11:45:00.000000000",
          "2025-08-07T11:46:00.000000000",
          "2025-08-07T11:47:00.000000000",
          "2025-08-07T11:48:00.000000000",
          "2025-08-07T11:49:00.000000000",
          "2025-08-07T11:50:00.000000000",
          "2025-08-07T11:51:00.000000000",
          "2025-08-07T11:52:00.000000000",
          "2025-08-07T11:53:00.000000000",
          "2025-08-07T11:54:00.000000000",
          "2025-08-07T11:55:00.000000000",
          "2025-08-07T11:56:00.000000000",
          "2025-08-07T11:57:00.000000000",
          "2025-08-07T11:58:00.000000000",
          "2025-08-07T11:59:00.000000000",
          "2025-08-07T12:00:00.000000000",
          "2025-08-07T12:01:00.000000000",
          "2025-08-07T12:02:00.000000000",
          "2025-08-07T12:03:00.000000000",
          "2025-08-07T12:04:00.000000000",
          "2025-08-07T12:05:00.000000000",
          "2025-08-07T12:06:00.000000000",
          "2025-08-07T12:07:00.000000000",
          "2025-08-07T12:08:00.000000000",
          "2025-08-07T12:09:00.000000000",
          "2025-08-07T12:10:00.000000000",
          "2025-08-07T12:11:00.000000000",
          "2025-08-07T12:12:00.000000000",
          "2025-08-07T12:13:00.000000000",
          "2025-08-07T12:14:00.000000000",
          "2025-08-07T12:15:00.000000000",
          "2025-08-07T12:16:00.000000000",
          "2025-08-07T12:17:00.000000000",
          "2025-08-07T12:18:00.000000000",
          "2025-08-07T12:19:00.000000000",
          "2025-08-07T12:20:00.000000000",
          "2025-08-07T12:21:00.000000000",
          "2025-08-07T12:22:00.000000000",
          "2025-08-07T12:23:00.000000000",
          "2025-08-07T12:24:00.000000000",
          "2025-08-07T12:25:00.000000000",
          "2025-08-07T12:26:00.000000000",
          "2025-08-07T12:27:00.000000000",
          "2025-08-07T12:28:00.000000000",
          "2025-08-07T12:29:00.000000000",
          "2025-08-07T12:30:00.000000000",
          "2025-08-07T12:31:00.000000000",
          "2025-08-07T12:32:00.000000000",
          "2025-08-07T12:33:00.000000000",
          "2025-08-07T12:34:00.000000000",
          "2025-08-07T12:35:00.000000000",
          "2025-08-07T12:36:00.000000000",
          "2025-08-07T12:37:00.000000000",
          "2025-08-07T12:38:00.000000000",
          "2025-08-07T12:39:00.000000000",
          "2025-08-07T12:40:00.000000000",
          "2025-08-07T12:41:00.000000000",
          "2025-08-07T12:42:00.000000000",
          "2025-08-07T12:43:00.000000000",
          "2025-08-07T12:44:00.000000000",
          "2025-08-07T12:45:00.000000000",
          "2025-08-07T12:46:00.000000000",
          "2025-08-07T12:47:00.000000000",
          "2025-08-07T12:48:00.000000000",
          "2025-08-07T12:49:00.000000000",
          "2025-08-07T12:50:00.000000000",
          "2025-08-07T12:51:00.000000000",
          "2025-08-07T12:52:00.000000000",
          "2025-08-07T12:53:00.000000000",
          "2025-08-07T12:54:00.000000000",
          "2025-08-07T12:55:00.000000000",
          "2025-08-07T12:56:00.000000000",
          "2025-08-07T12:57:00.000000000",
          "2025-08-07T12:58:00.000000000",
          "2025-08-07T12:59:00.000000000",
          "2025-08-07T13:00:00.000000000",
          "2025-08-07T13:01:00.000000000",
          "2025-08-07T13:02:00.000000000",
          "2025-08-07T13:03:00.000000000",
          "2025-08-07T13:04:00.000000000",
          "2025-08-07T13:05:00.000000000",
          "2025-08-07T13:06:00.000000000",
          "2025-08-07T13:07:00.000000000",
          "2025-08-07T13:08:00.000000000",
          "2025-08-07T13:09:00.000000000",
          "2025-08-07T13:10:00.000000000",
          "2025-08-07T13:11:00.000000000",
          "2025-08-07T13:12:00.000000000",
          "2025-08-07T13:13:00.000000000",
          "2025-08-07T13:14:00.000000000",
          "2025-08-07T13:15:00.000000000",
          "2025-08-07T13:16:00.000000000",
          "2025-08-07T13:17:00.000000000",
          "2025-08-07T13:18:00.000000000",
          "2025-08-07T13:19:00.000000000",
          "2025-08-07T13:20:00.000000000",
          "2025-08-07T13:21:00.000000000",
          "2025-08-07T13:22:00.000000000",
          "2025-08-07T13:23:00.000000000",
          "2025-08-07T13:24:00.000000000",
          "2025-08-07T13:25:00.000000000",
          "2025-08-07T13:26:00.000000000",
          "2025-08-07T13:27:00.000000000",
          "2025-08-07T13:28:00.000000000",
          "2025-08-07T13:29:00.000000000",
          "2025-08-07T13:30:00.000000000",
          "2025-08-07T13:31:00.000000000",
          "2025-08-07T13:32:00.000000000",
          "2025-08-07T13:33:00.000000000",
          "2025-08-07T13:34:00.000000000",
          "2025-08-07T13:35:00.000000000",
          "2025-08-07T13:36:00.000000000",
          "2025-08-07T13:37:00.000000000",
          "2025-08-07T13:38:00.000000000",
          "2025-08-07T13:39:00.000000000",
          "2025-08-07T13:40:00.000000000",
          "2025-08-07T13:41:00.000000000",
          "2025-08-07T13:42:00.000000000",
          "2025-08-07T13:43:00.000000000",
          "2025-08-07T13:44:00.000000000",
          "2025-08-07T13:45:00.000000000",
          "2025-08-07T13:46:00.000000000",
          "2025-08-07T13:47:00.000000000",
          "2025-08-07T13:48:00.000000000",
          "2025-08-07T13:49:00.000000000",
          "2025-08-07T13:50:00.000000000",
          "2025-08-07T13:51:00.000000000",
          "2025-08-07T13:52:00.000000000",
          "2025-08-07T13:53:00.000000000",
          "2025-08-07T13:54:00.000000000",
          "2025-08-07T13:55:00.000000000",
          "2025-08-07T13:56:00.000000000",
          "2025-08-07T13:57:00.000000000",
          "2025-08-07T13:58:00.000000000",
          "2025-08-07T13:59:00.000000000",
          "2025-08-07T14:00:00.000000000",
          "2025-08-07T14:01:00.000000000",
          "2025-08-07T14:02:00.000000000",
          "2025-08-07T14:03:00.000000000",
          "2025-08-07T14:04:00.000000000",
          "2025-08-07T14:05:00.000000000",
          "2025-08-07T14:06:00.000000000",
          "2025-08-07T14:07:00.000000000",
          "2025-08-07T14:08:00.000000000",
          "2025-08-07T14:09:00.000000000",
          "2025-08-07T14:10:00.000000000",
          "2025-08-07T14:11:00.000000000",
          "2025-08-07T14:12:00.000000000",
          "2025-08-07T14:13:00.000000000",
          "2025-08-07T14:14:00.000000000",
          "2025-08-07T14:15:00.000000000",
          "2025-08-07T14:16:00.000000000",
          "2025-08-07T14:17:00.000000000",
          "2025-08-07T14:18:00.000000000",
          "2025-08-07T14:19:00.000000000",
          "2025-08-07T14:20:00.000000000",
          "2025-08-07T14:21:00.000000000",
          "2025-08-07T14:22:00.000000000",
          "2025-08-07T14:23:00.000000000",
          "2025-08-07T14:24:00.000000000",
          "2025-08-07T14:25:00.000000000",
          "2025-08-07T14:26:00.000000000",
          "2025-08-07T14:27:00.000000000",
          "2025-08-07T14:28:00.000000000",
          "2025-08-07T14:29:00.000000000",
          "2025-08-07T14:30:00.000000000",
          "2025-08-07T14:31:00.000000000",
          "2025-08-07T14:32:00.000000000",
          "2025-08-07T14:33:00.000000000",
          "2025-08-07T14:34:00.000000000",
          "2025-08-07T14:35:00.000000000",
          "2025-08-07T14:36:00.000000000",
          "2025-08-07T14:37:00.000000000",
          "2025-08-07T14:38:00.000000000",
          "2025-08-07T14:39:00.000000000",
          "2025-08-07T14:40:00.000000000",
          "2025-08-07T14:41:00.000000000",
          "2025-08-07T14:42:00.000000000",
          "2025-08-07T14:43:00.000000000",
          "2025-08-07T14:44:00.000000000",
          "2025-08-07T14:45:00.000000000",
          "2025-08-07T14:46:00.000000000",
          "2025-08-07T14:47:00.000000000",
          "2025-08-07T14:48:00.000000000",
          "2025-08-07T14:49:00.000000000",
          "2025-08-07T14:50:00.000000000",
          "2025-08-07T14:51:00.000000000",
          "2025-08-07T14:52:00.000000000",
          "2025-08-07T14:53:00.000000000",
          "2025-08-07T14:54:00.000000000",
          "2025-08-07T14:55:00.000000000",
          "2025-08-07T14:56:00.000000000",
          "2025-08-07T14:57:00.000000000",
          "2025-08-07T14:58:00.000000000",
          "2025-08-07T14:59:00.000000000",
          "2025-08-07T15:00:00.000000000",
          "2025-08-07T15:01:00.000000000",
          "2025-08-07T15:02:00.000000000",
          "2025-08-07T15:03:00.000000000",
          "2025-08-07T15:04:00.000000000",
          "2025-08-07T15:05:00.000000000",
          "2025-08-07T15:06:00.000000000",
          "2025-08-07T15:07:00.000000000",
          "2025-08-07T15:08:00.000000000",
          "2025-08-07T15:09:00.000000000",
          "2025-08-07T15:10:00.000000000",
          "2025-08-07T15:11:00.000000000",
          "2025-08-07T15:12:00.000000000",
          "2025-08-07T15:13:00.000000000",
          "2025-08-07T15:14:00.000000000",
          "2025-08-07T15:15:00.000000000",
          "2025-08-07T15:16:00.000000000",
          "2025-08-07T15:17:00.000000000",
          "2025-08-07T15:18:00.000000000",
          "2025-08-07T15:19:00.000000000",
          "2025-08-07T15:20:00.000000000",
          "2025-08-07T15:21:00.000000000",
          "2025-08-07T15:22:00.000000000",
          "2025-08-07T15:23:00.000000000",
          "2025-08-07T15:24:00.000000000",
          "2025-08-07T15:25:00.000000000",
          "2025-08-07T15:26:00.000000000",
          "2025-08-07T15:27:00.000000000",
          "2025-08-07T15:28:00.000000000",
          "2025-08-07T15:29:00.000000000",
          "2025-08-07T15:30:00.000000000",
          "2025-08-07T15:31:00.000000000",
          "2025-08-07T15:32:00.000000000",
          "2025-08-07T15:33:00.000000000",
          "2025-08-07T15:34:00.000000000",
          "2025-08-07T15:35:00.000000000",
          "2025-08-07T15:36:00.000000000",
          "2025-08-07T15:37:00.000000000",
          "2025-08-07T15:38:00.000000000",
          "2025-08-07T15:39:00.000000000",
          "2025-08-07T15:40:00.000000000",
          "2025-08-07T15:41:00.000000000",
          "2025-08-07T15:42:00.000000000",
          "2025-08-07T15:43:00.000000000",
          "2025-08-07T15:44:00.000000000",
          "2025-08-07T15:45:00.000000000",
          "2025-08-07T15:46:00.000000000",
          "2025-08-07T15:47:00.000000000",
          "2025-08-07T15:48:00.000000000",
          "2025-08-07T15:49:00.000000000",
          "2025-08-07T15:50:00.000000000",
          "2025-08-07T15:51:00.000000000",
          "2025-08-07T15:52:00.000000000",
          "2025-08-07T15:53:00.000000000",
          "2025-08-07T15:54:00.000000000",
          "2025-08-07T15:55:00.000000000",
          "2025-08-07T15:56:00.000000000",
          "2025-08-07T15:57:00.000000000",
          "2025-08-07T15:58:00.000000000",
          "2025-08-07T15:59:00.000000000"
         ],
         "xaxis": "x2",
         "y": {
          "bdata": "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",
          "dtype": "f8"
         },
         "yaxis": "y2"
        },
        {
         "line": {
          "color": "#F8E9A6",
          "width": 1
         },
         "mode": "lines",
         "name": "Signal (avg)",
         "showlegend": false,
         "type": "scatter",
         "x": [
          "2025-08-07T09:00:00.000000000",
          "2025-08-07T09:01:00.000000000",
          "2025-08-07T09:02:00.000000000",
          "2025-08-07T09:03:00.000000000",
          "2025-08-07T09:04:00.000000000",
          "2025-08-07T09:05:00.000000000",
          "2025-08-07T09:06:00.000000000",
          "2025-08-07T09:07:00.000000000",
          "2025-08-07T09:08:00.000000000",
          "2025-08-07T09:09:00.000000000",
          "2025-08-07T09:10:00.000000000",
          "2025-08-07T09:11:00.000000000",
          "2025-08-07T09:12:00.000000000",
          "2025-08-07T09:13:00.000000000",
          "2025-08-07T09:14:00.000000000",
          "2025-08-07T09:15:00.000000000",
          "2025-08-07T09:16:00.000000000",
          "2025-08-07T09:17:00.000000000",
          "2025-08-07T09:18:00.000000000",
          "2025-08-07T09:19:00.000000000",
          "2025-08-07T09:20:00.000000000",
          "2025-08-07T09:21:00.000000000",
          "2025-08-07T09:22:00.000000000",
          "2025-08-07T09:23:00.000000000",
          "2025-08-07T09:24:00.000000000",
          "2025-08-07T09:25:00.000000000",
          "2025-08-07T09:26:00.000000000",
          "2025-08-07T09:27:00.000000000",
          "2025-08-07T09:28:00.000000000",
          "2025-08-07T09:29:00.000000000",
          "2025-08-07T09:30:00.000000000",
          "2025-08-07T09:31:00.000000000",
          "2025-08-07T09:32:00.000000000",
          "2025-08-07T09:33:00.000000000",
          "2025-08-07T09:34:00.000000000",
          "2025-08-07T09:35:00.000000000",
          "2025-08-07T09:36:00.000000000",
          "2025-08-07T09:37:00.000000000",
          "2025-08-07T09:38:00.000000000",
          "2025-08-07T09:39:00.000000000",
          "2025-08-07T09:40:00.000000000",
          "2025-08-07T09:41:00.000000000",
          "2025-08-07T09:42:00.000000000",
          "2025-08-07T09:43:00.000000000",
          "2025-08-07T09:44:00.000000000",
          "2025-08-07T09:45:00.000000000",
          "2025-08-07T09:46:00.000000000",
          "2025-08-07T09:47:00.000000000",
          "2025-08-07T09:48:00.000000000",
          "2025-08-07T09:49:00.000000000",
          "2025-08-07T09:50:00.000000000",
          "2025-08-07T09:51:00.000000000",
          "2025-08-07T09:52:00.000000000",
          "2025-08-07T09:53:00.000000000",
          "2025-08-07T09:54:00.000000000",
          "2025-08-07T09:55:00.000000000",
          "2025-08-07T09:56:00.000000000",
          "2025-08-07T09:57:00.000000000",
          "2025-08-07T09:58:00.000000000",
          "2025-08-07T09:59:00.000000000",
          "2025-08-07T10:00:00.000000000",
          "2025-08-07T10:01:00.000000000",
          "2025-08-07T10:02:00.000000000",
          "2025-08-07T10:03:00.000000000",
          "2025-08-07T10:04:00.000000000",
          "2025-08-07T10:05:00.000000000",
          "2025-08-07T10:06:00.000000000",
          "2025-08-07T10:07:00.000000000",
          "2025-08-07T10:08:00.000000000",
          "2025-08-07T10:09:00.000000000",
          "2025-08-07T10:10:00.000000000",
          "2025-08-07T10:11:00.000000000",
          "2025-08-07T10:12:00.000000000",
          "2025-08-07T10:13:00.000000000",
          "2025-08-07T10:14:00.000000000",
          "2025-08-07T10:15:00.000000000",
          "2025-08-07T10:16:00.000000000",
          "2025-08-07T10:17:00.000000000",
          "2025-08-07T10:18:00.000000000",
          "2025-08-07T10:19:00.000000000",
          "2025-08-07T10:20:00.000000000",
          "2025-08-07T10:21:00.000000000",
          "2025-08-07T10:22:00.000000000",
          "2025-08-07T10:23:00.000000000",
          "2025-08-07T10:24:00.000000000",
          "2025-08-07T10:25:00.000000000",
          "2025-08-07T10:26:00.000000000",
          "2025-08-07T10:27:00.000000000",
          "2025-08-07T10:28:00.000000000",
          "2025-08-07T10:29:00.000000000",
          "2025-08-07T10:30:00.000000000",
          "2025-08-07T10:31:00.000000000",
          "2025-08-07T10:32:00.000000000",
          "2025-08-07T10:33:00.000000000",
          "2025-08-07T10:34:00.000000000",
          "2025-08-07T10:35:00.000000000",
          "2025-08-07T10:36:00.000000000",
          "2025-08-07T10:37:00.000000000",
          "2025-08-07T10:38:00.000000000",
          "2025-08-07T10:39:00.000000000",
          "2025-08-07T10:40:00.000000000",
          "2025-08-07T10:41:00.000000000",
          "2025-08-07T10:42:00.000000000",
          "2025-08-07T10:43:00.000000000",
          "2025-08-07T10:44:00.000000000",
          "2025-08-07T10:45:00.000000000",
          "2025-08-07T10:46:00.000000000",
          "2025-08-07T10:47:00.000000000",
          "2025-08-07T10:48:00.000000000",
          "2025-08-07T10:49:00.000000000",
          "2025-08-07T10:50:00.000000000",
          "2025-08-07T10:51:00.000000000",
          "2025-08-07T10:52:00.000000000",
          "2025-08-07T10:53:00.000000000",
          "2025-08-07T10:54:00.000000000",
          "2025-08-07T10:55:00.000000000",
          "2025-08-07T10:56:00.000000000",
          "2025-08-07T10:57:00.000000000",
          "2025-08-07T10:58:00.000000000",
          "2025-08-07T10:59:00.000000000",
          "2025-08-07T11:00:00.000000000",
          "2025-08-07T11:01:00.000000000",
          "2025-08-07T11:02:00.000000000",
          "2025-08-07T11:03:00.000000000",
          "2025-08-07T11:04:00.000000000",
          "2025-08-07T11:05:00.000000000",
          "2025-08-07T11:06:00.000000000",
          "2025-08-07T11:07:00.000000000",
          "2025-08-07T11:08:00.000000000",
          "2025-08-07T11:09:00.000000000",
          "2025-08-07T11:10:00.000000000",
          "2025-08-07T11:11:00.000000000",
          "2025-08-07T11:12:00.000000000",
          "2025-08-07T11:13:00.000000000",
          "2025-08-07T11:14:00.000000000",
          "2025-08-07T11:15:00.000000000",
          "2025-08-07T11:16:00.000000000",
          "2025-08-07T11:17:00.000000000",
          "2025-08-07T11:18:00.000000000",
          "2025-08-07T11:19:00.000000000",
          "2025-08-07T11:20:00.000000000",
          "2025-08-07T11:21:00.000000000",
          "2025-08-07T11:22:00.000000000",
          "2025-08-07T11:23:00.000000000",
          "2025-08-07T11:24:00.000000000",
          "2025-08-07T11:25:00.000000000",
          "2025-08-07T11:26:00.000000000",
          "2025-08-07T11:27:00.000000000",
          "2025-08-07T11:28:00.000000000",
          "2025-08-07T11:29:00.000000000",
          "2025-08-07T11:30:00.000000000",
          "2025-08-07T11:31:00.000000000",
          "2025-08-07T11:32:00.000000000",
          "2025-08-07T11:33:00.000000000",
          "2025-08-07T11:34:00.000000000",
          "2025-08-07T11:35:00.000000000",
          "2025-08-07T11:36:00.000000000",
          "2025-08-07T11:37:00.000000000",
          "2025-08-07T11:38:00.000000000",
          "2025-08-07T11:39:00.000000000",
          "2025-08-07T11:40:00.000000000",
          "2025-08-07T11:41:00.000000000",
          "2025-08-07T11:42:00.000000000",
          "2025-08-07T11:43:00.000000000",
          "2025-08-07T11:44:00.000000000",
          "2025-08-07T11:45:00.000000000",
          "2025-08-07T11:46:00.000000000",
          "2025-08-07T11:47:00.000000000",
          "2025-08-07T11:48:00.000000000",
          "2025-08-07T11:49:00.000000000",
          "2025-08-07T11:50:00.000000000",
          "2025-08-07T11:51:00.000000000",
          "2025-08-07T11:52:00.000000000",
          "2025-08-07T11:53:00.000000000",
          "2025-08-07T11:54:00.000000000",
          "2025-08-07T11:55:00.000000000",
          "2025-08-07T11:56:00.000000000",
          "2025-08-07T11:57:00.000000000",
          "2025-08-07T11:58:00.000000000",
          "2025-08-07T11:59:00.000000000",
          "2025-08-07T12:00:00.000000000",
          "2025-08-07T12:01:00.000000000",
          "2025-08-07T12:02:00.000000000",
          "2025-08-07T12:03:00.000000000",
          "2025-08-07T12:04:00.000000000",
          "2025-08-07T12:05:00.000000000",
          "2025-08-07T12:06:00.000000000",
          "2025-08-07T12:07:00.000000000",
          "2025-08-07T12:08:00.000000000",
          "2025-08-07T12:09:00.000000000",
          "2025-08-07T12:10:00.000000000",
          "2025-08-07T12:11:00.000000000",
          "2025-08-07T12:12:00.000000000",
          "2025-08-07T12:13:00.000000000",
          "2025-08-07T12:14:00.000000000",
          "2025-08-07T12:15:00.000000000",
          "2025-08-07T12:16:00.000000000",
          "2025-08-07T12:17:00.000000000",
          "2025-08-07T12:18:00.000000000",
          "2025-08-07T12:19:00.000000000",
          "2025-08-07T12:20:00.000000000",
          "2025-08-07T12:21:00.000000000",
          "2025-08-07T12:22:00.000000000",
          "2025-08-07T12:23:00.000000000",
          "2025-08-07T12:24:00.000000000",
          "2025-08-07T12:25:00.000000000",
          "2025-08-07T12:26:00.000000000",
          "2025-08-07T12:27:00.000000000",
          "2025-08-07T12:28:00.000000000",
          "2025-08-07T12:29:00.000000000",
          "2025-08-07T12:30:00.000000000",
          "2025-08-07T12:31:00.000000000",
          "2025-08-07T12:32:00.000000000",
          "2025-08-07T12:33:00.000000000",
          "2025-08-07T12:34:00.000000000",
          "2025-08-07T12:35:00.000000000",
          "2025-08-07T12:36:00.000000000",
          "2025-08-07T12:37:00.000000000",
          "2025-08-07T12:38:00.000000000",
          "2025-08-07T12:39:00.000000000",
          "2025-08-07T12:40:00.000000000",
          "2025-08-07T12:41:00.000000000",
          "2025-08-07T12:42:00.000000000",
          "2025-08-07T12:43:00.000000000",
          "2025-08-07T12:44:00.000000000",
          "2025-08-07T12:45:00.000000000",
          "2025-08-07T12:46:00.000000000",
          "2025-08-07T12:47:00.000000000",
          "2025-08-07T12:48:00.000000000",
          "2025-08-07T12:49:00.000000000",
          "2025-08-07T12:50:00.000000000",
          "2025-08-07T12:51:00.000000000",
          "2025-08-07T12:52:00.000000000",
          "2025-08-07T12:53:00.000000000",
          "2025-08-07T12:54:00.000000000",
          "2025-08-07T12:55:00.000000000",
          "2025-08-07T12:56:00.000000000",
          "2025-08-07T12:57:00.000000000",
          "2025-08-07T12:58:00.000000000",
          "2025-08-07T12:59:00.000000000",
          "2025-08-07T13:00:00.000000000",
          "2025-08-07T13:01:00.000000000",
          "2025-08-07T13:02:00.000000000",
          "2025-08-07T13:03:00.000000000",
          "2025-08-07T13:04:00.000000000",
          "2025-08-07T13:05:00.000000000",
          "2025-08-07T13:06:00.000000000",
          "2025-08-07T13:07:00.000000000",
          "2025-08-07T13:08:00.000000000",
          "2025-08-07T13:09:00.000000000",
          "2025-08-07T13:10:00.000000000",
          "2025-08-07T13:11:00.000000000",
          "2025-08-07T13:12:00.000000000",
          "2025-08-07T13:13:00.000000000",
          "2025-08-07T13:14:00.000000000",
          "2025-08-07T13:15:00.000000000",
          "2025-08-07T13:16:00.000000000",
          "2025-08-07T13:17:00.000000000",
          "2025-08-07T13:18:00.000000000",
          "2025-08-07T13:19:00.000000000",
          "2025-08-07T13:20:00.000000000",
          "2025-08-07T13:21:00.000000000",
          "2025-08-07T13:22:00.000000000",
          "2025-08-07T13:23:00.000000000",
          "2025-08-07T13:24:00.000000000",
          "2025-08-07T13:25:00.000000000",
          "2025-08-07T13:26:00.000000000",
          "2025-08-07T13:27:00.000000000",
          "2025-08-07T13:28:00.000000000",
          "2025-08-07T13:29:00.000000000",
          "2025-08-07T13:30:00.000000000",
          "2025-08-07T13:31:00.000000000",
          "2025-08-07T13:32:00.000000000",
          "2025-08-07T13:33:00.000000000",
          "2025-08-07T13:34:00.000000000",
          "2025-08-07T13:35:00.000000000",
          "2025-08-07T13:36:00.000000000",
          "2025-08-07T13:37:00.000000000",
          "2025-08-07T13:38:00.000000000",
          "2025-08-07T13:39:00.000000000",
          "2025-08-07T13:40:00.000000000",
          "2025-08-07T13:41:00.000000000",
          "2025-08-07T13:42:00.000000000",
          "2025-08-07T13:43:00.000000000",
          "2025-08-07T13:44:00.000000000",
          "2025-08-07T13:45:00.000000000",
          "2025-08-07T13:46:00.000000000",
          "2025-08-07T13:47:00.000000000",
          "2025-08-07T13:48:00.000000000",
          "2025-08-07T13:49:00.000000000",
          "2025-08-07T13:50:00.000000000",
          "2025-08-07T13:51:00.000000000",
          "2025-08-07T13:52:00.000000000",
          "2025-08-07T13:53:00.000000000",
          "2025-08-07T13:54:00.000000000",
          "2025-08-07T13:55:00.000000000",
          "2025-08-07T13:56:00.000000000",
          "2025-08-07T13:57:00.000000000",
          "2025-08-07T13:58:00.000000000",
          "2025-08-07T13:59:00.000000000",
          "2025-08-07T14:00:00.000000000",
          "2025-08-07T14:01:00.000000000",
          "2025-08-07T14:02:00.000000000",
          "2025-08-07T14:03:00.000000000",
          "2025-08-07T14:04:00.000000000",
          "2025-08-07T14:05:00.000000000",
          "2025-08-07T14:06:00.000000000",
          "2025-08-07T14:07:00.000000000",
          "2025-08-07T14:08:00.000000000",
          "2025-08-07T14:09:00.000000000",
          "2025-08-07T14:10:00.000000000",
          "2025-08-07T14:11:00.000000000",
          "2025-08-07T14:12:00.000000000",
          "2025-08-07T14:13:00.000000000",
          "2025-08-07T14:14:00.000000000",
          "2025-08-07T14:15:00.000000000",
          "2025-08-07T14:16:00.000000000",
          "2025-08-07T14:17:00.000000000",
          "2025-08-07T14:18:00.000000000",
          "2025-08-07T14:19:00.000000000",
          "2025-08-07T14:20:00.000000000",
          "2025-08-07T14:21:00.000000000",
          "2025-08-07T14:22:00.000000000",
          "2025-08-07T14:23:00.000000000",
          "2025-08-07T14:24:00.000000000",
          "2025-08-07T14:25:00.000000000",
          "2025-08-07T14:26:00.000000000",
          "2025-08-07T14:27:00.000000000",
          "2025-08-07T14:28:00.000000000",
          "2025-08-07T14:29:00.000000000",
          "2025-08-07T14:30:00.000000000",
          "2025-08-07T14:31:00.000000000",
          "2025-08-07T14:32:00.000000000",
          "2025-08-07T14:33:00.000000000",
          "2025-08-07T14:34:00.000000000",
          "2025-08-07T14:35:00.000000000",
          "2025-08-07T14:36:00.000000000",
          "2025-08-07T14:37:00.000000000",
          "2025-08-07T14:38:00.000000000",
          "2025-08-07T14:39:00.000000000",
          "2025-08-07T14:40:00.000000000",
          "2025-08-07T14:41:00.000000000",
          "2025-08-07T14:42:00.000000000",
          "2025-08-07T14:43:00.000000000",
          "2025-08-07T14:44:00.000000000",
          "2025-08-07T14:45:00.000000000",
          "2025-08-07T14:46:00.000000000",
          "2025-08-07T14:47:00.000000000",
          "2025-08-07T14:48:00.000000000",
          "2025-08-07T14:49:00.000000000",
          "2025-08-07T14:50:00.000000000",
          "2025-08-07T14:51:00.000000000",
          "2025-08-07T14:52:00.000000000",
          "2025-08-07T14:53:00.000000000",
          "2025-08-07T14:54:00.000000000",
          "2025-08-07T14:55:00.000000000",
          "2025-08-07T14:56:00.000000000",
          "2025-08-07T14:57:00.000000000",
          "2025-08-07T14:58:00.000000000",
          "2025-08-07T14:59:00.000000000",
          "2025-08-07T15:00:00.000000000",
          "2025-08-07T15:01:00.000000000",
          "2025-08-07T15:02:00.000000000",
          "2025-08-07T15:03:00.000000000",
          "2025-08-07T15:04:00.000000000",
          "2025-08-07T15:05:00.000000000",
          "2025-08-07T15:06:00.000000000",
          "2025-08-07T15:07:00.000000000",
          "2025-08-07T15:08:00.000000000",
          "2025-08-07T15:09:00.000000000",
          "2025-08-07T15:10:00.000000000",
          "2025-08-07T15:11:00.000000000",
          "2025-08-07T15:12:00.000000000",
          "2025-08-07T15:13:00.000000000",
          "2025-08-07T15:14:00.000000000",
          "2025-08-07T15:15:00.000000000",
          "2025-08-07T15:16:00.000000000",
          "2025-08-07T15:17:00.000000000",
          "2025-08-07T15:18:00.000000000",
          "2025-08-07T15:19:00.000000000",
          "2025-08-07T15:20:00.000000000",
          "2025-08-07T15:21:00.000000000",
          "2025-08-07T15:22:00.000000000",
          "2025-08-07T15:23:00.000000000",
          "2025-08-07T15:24:00.000000000",
          "2025-08-07T15:25:00.000000000",
          "2025-08-07T15:26:00.000000000",
          "2025-08-07T15:27:00.000000000",
          "2025-08-07T15:28:00.000000000",
          "2025-08-07T15:29:00.000000000",
          "2025-08-07T15:30:00.000000000",
          "2025-08-07T15:31:00.000000000",
          "2025-08-07T15:32:00.000000000",
          "2025-08-07T15:33:00.000000000",
          "2025-08-07T15:34:00.000000000",
          "2025-08-07T15:35:00.000000000",
          "2025-08-07T15:36:00.000000000",
          "2025-08-07T15:37:00.000000000",
          "2025-08-07T15:38:00.000000000",
          "2025-08-07T15:39:00.000000000",
          "2025-08-07T15:40:00.000000000",
          "2025-08-07T15:41:00.000000000",
          "2025-08-07T15:42:00.000000000",
          "2025-08-07T15:43:00.000000000",
          "2025-08-07T15:44:00.000000000",
          "2025-08-07T15:45:00.000000000",
          "2025-08-07T15:46:00.000000000",
          "2025-08-07T15:47:00.000000000",
          "2025-08-07T15:48:00.000000000",
          "2025-08-07T15:49:00.000000000",
          "2025-08-07T15:50:00.000000000",
          "2025-08-07T15:51:00.000000000",
          "2025-08-07T15:52:00.000000000",
          "2025-08-07T15:53:00.000000000",
          "2025-08-07T15:54:00.000000000",
          "2025-08-07T15:55:00.000000000",
          "2025-08-07T15:56:00.000000000",
          "2025-08-07T15:57:00.000000000",
          "2025-08-07T15:58:00.000000000",
          "2025-08-07T15:59:00.000000000"
         ],
         "xaxis": "x2",
         "y": {
          "bdata": "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",
          "dtype": "f8"
         },
         "yaxis": "y2"
        },
        {
         "marker": {
          "color": [
           "#FE0000",
           "#7E0100",
           "#7E0100",
           "#7E0100",
           "#7E0100",
           "#7E0100",
           "#7E0100",
           "#7E0100",
           "#7E0100",
           "#7E0100",
           "#7E0100",
           "#7E0100",
           "#7E0100",
           "#7E0100",
           "#7E0100",
           "#7E0100",
           "#7E0100",
           "#7E0100",
           "#7E0100",
           "#7E0100",
           "#7E0100",
           "#7E0100",
           "#7E0100",
           "#7E0100",
           "#7E0100",
           "#7E0100",
           "#7E0100",
           "#7E0100",
           "#7E0100",
           "#7E0100",
           "#04FE00",
           "#04FE00",
           "#04FE00",
           "#04FE00",
           "#006401",
           "#006401",
           "#006401",
           "#006401",
           "#006401",
           "#006401",
           "#006401",
           "#006401",
           "#006401",
           "#FE0000",
           "#FE0000",
           "#FE0000",
           "#FE0000",
           "#FE0000",
           "#FE0000",
           "#7E0100",
           "#7E0100",
           "#7E0100",
           "#7E0100",
           "#7E0100",
           "#7E0100",
           "#7E0100",
           "#7E0100",
           "#7E0100",
           "#7E0100",
           "#7E0100",
           "#7E0100",
           "#FE0000",
           "#FE0000",
           "#FE0000",
           "#FE0000",
           "#FE0000",
           "#7E0100",
           "#FE0000",
           "#FE0000",
           "#FE0000",
           "#FE0000",
           "#FE0000",
           "#7E0100",
           "#7E0100",
           "#7E0100",
           "#FE0000",
           "#7E0100",
           "#7E0100",
           "#7E0100",
           "#7E0100",
           "#7E0100",
           "#7E0100",
           "#7E0100",
           "#FE0000",
           "#FE0000",
           "#FE0000",
           "#7E0100",
           "#7E0100",
           "#7E0100",
           "#7E0100",
           "#7E0100",
           "#7E0100",
           "#04FE00",
           "#04FE00",
           "#04FE00",
           "#04FE00",
           "#04FE00",
           "#006401",
           "#04FE00",
           "#04FE00",
           "#04FE00",
           "#006401",
           "#006401",
           "#04FE00",
           "#04FE00",
           "#04FE00",
           "#006401",
           "#006401",
           "#006401",
           "#04FE00",
           "#006401",
           "#FE0000",
           "#FE0000",
           "#FE0000",
           "#FE0000",
           "#FE0000",
           "#FE0000",
           "#FE0000",
           "#7E0100",
           "#7E0100",
           "#7E0100",
           "#04FE00",
           "#FE0000",
           "#FE0000",
           "#FE0000",
           "#7E0100",
           "#04FE00",
           "#04FE00",
           "#006401",
           "#04FE00",
           "#04FE00",
           "#04FE00",
           "#006401",
           "#006401",
           "#006401",
           "#FE0000",
           "#04FE00",
           "#04FE00",
           "#04FE00",
           "#04FE00",
           "#04FE00",
           "#04FE00",
           "#006401",
           "#006401",
           "#006401",
           "#006401",
           "#006401",
           "#FE0000",
           "#FE0000",
           "#FE0000",
           "#7E0100",
           "#FE0000",
           "#7E0100",
           "#FE0000",
           "#FE0000",
           "#FE0000",
           "#7E0100",
           "#7E0100",
           "#04FE00",
           "#04FE00",
           "#006401",
           "#FE0000",
           "#7E0100",
           "#04FE00",
           "#04FE00",
           "#04FE00",
           "#FE0000",
           "#04FE00",
           "#FE0000",
           "#FE0000",
           "#FE0000",
           "#04FE00",
           "#04FE00",
           "#04FE00",
           "#04FE00",
           "#04FE00",
           "#04FE00",
           "#04FE00",
           "#006401",
           "#006401",
           "#006401",
           "#006401",
           "#FE0000",
           "#FE0000",
           "#7E0100",
           "#7E0100",
           "#FE0000",
           "#7E0100",
           "#7E0100",
           "#FE0000",
           "#FE0000",
           "#7E0100",
           "#04FE00",
           "#04FE00",
           "#04FE00",
           "#04FE00",
           "#04FE00",
           "#006401",
           "#006401",
           "#006401",
           "#006401",
           "#006401",
           "#006401",
           "#04FE00",
           "#04FE00",
           "#006401",
           "#006401",
           "#006401",
           "#006401",
           "#006401",
           "#006401",
           "#04FE00",
           "#006401",
           "#006401",
           "#006401",
           "#006401",
           "#FE0000",
           "#FE0000",
           "#FE0000",
           "#FE0000",
           "#FE0000",
           "#FE0000",
           "#FE0000",
           "#FE0000",
           "#FE0000",
           "#7E0100",
           "#FE0000",
           "#7E0100",
           "#7E0100",
           "#7E0100",
           "#7E0100",
           "#04FE00",
           "#04FE00",
           "#04FE00",
           "#04FE00",
           "#04FE00",
           "#04FE00",
           "#006401",
           "#006401",
           "#006401",
           "#006401",
           "#04FE00",
           "#006401",
           "#FE0000",
           "#FE0000",
           "#FE0000",
           "#7E0100",
           "#7E0100",
           "#FE0000",
           "#7E0100",
           "#FE0000",
           "#7E0100",
           "#FE0000",
           "#7E0100",
           "#7E0100",
           "#7E0100",
           "#FE0000",
           "#7E0100",
           "#FE0000",
           "#7E0100",
           "#7E0100",
           "#04FE00",
           "#04FE00",
           "#04FE00",
           "#04FE00",
           "#006401",
           "#006401",
           "#006401",
           "#006401",
           "#FE0000",
           "#FE0000",
           "#FE0000",
           "#FE0000",
           "#7E0100",
           "#7E0100",
           "#7E0100",
           "#7E0100",
           "#7E0100",
           "#04FE00",
           "#04FE00",
           "#04FE00",
           "#04FE00",
           "#04FE00",
           "#04FE00",
           "#04FE00",
           "#04FE00",
           "#006401",
           "#006401",
           "#006401",
           "#006401",
           "#006401",
           "#006401",
           "#006401",
           "#04FE00",
           "#04FE00",
           "#04FE00",
           "#006401",
           "#006401",
           "#04FE00",
           "#006401",
           "#04FE00",
           "#006401",
           "#FE0000",
           "#7E0100",
           "#04FE00",
           "#FE0000",
           "#FE0000",
           "#FE0000",
           "#FE0000",
           "#FE0000",
           "#FE0000",
           "#7E0100",
           "#7E0100",
           "#FE0000",
           "#7E0100",
           "#FE0000",
           "#FE0000",
           "#7E0100",
           "#FE0000",
           "#7E0100",
           "#7E0100",
           "#7E0100",
           "#7E0100",
           "#7E0100",
           "#7E0100",
           "#7E0100",
           "#04FE00",
           "#04FE00",
           "#04FE00",
           "#04FE00",
           "#006401",
           "#006401",
           "#006401",
           "#006401",
           "#04FE00",
           "#04FE00",
           "#04FE00",
           "#04FE00",
           "#04FE00",
           "#006401",
           "#006401",
           "#006401",
           "#006401",
           "#006401",
           "#FE0000",
           "#FE0000",
           "#7E0100",
           "#04FE00",
           "#04FE00",
           "#04FE00",
           "#006401",
           "#006401",
           "#04FE00",
           "#04FE00",
           "#04FE00",
           "#04FE00",
           "#04FE00",
           "#04FE00",
           "#006401",
           "#006401",
           "#006401",
           "#006401",
           "#006401",
           "#FE0000",
           "#FE0000",
           "#FE0000",
           "#FE0000",
           "#FE0000",
           "#FE0000",
           "#7E0100",
           "#7E0100",
           "#FE0000",
           "#FE0000",
           "#FE0000",
           "#FE0000",
           "#7E0100",
           "#FE0000",
           "#7E0100",
           "#FE0000",
           "#7E0100",
           "#7E0100",
           "#7E0100",
           "#7E0100",
           "#7E0100",
           "#04FE00",
           "#FE0000",
           "#FE0000",
           "#FE0000",
           "#FE0000",
           "#7E0100",
           "#04FE00",
           "#04FE00",
           "#04FE00",
           "#04FE00",
           "#006401",
           "#04FE00",
           "#04FE00",
           "#04FE00",
           "#006401",
           "#006401",
           "#006401",
           "#04FE00",
           "#04FE00",
           "#04FE00",
           "#04FE00",
           "#04FE00",
           "#006401",
           "#04FE00",
           "#006401",
           "#006401",
           "#006401",
           "#FE0000",
           "#FE0000",
           "#FE0000",
           "#FE0000",
           "#7E0100",
           "#7E0100",
           "#7E0100",
           "#04FE00",
           "#04FE00"
          ]
         },
         "name": "Histogram (diff)",
         "showlegend": false,
         "type": "bar",
         "x": [
          "2025-08-07T09:00:00.000000000",
          "2025-08-07T09:01:00.000000000",
          "2025-08-07T09:02:00.000000000",
          "2025-08-07T09:03:00.000000000",
          "2025-08-07T09:04:00.000000000",
          "2025-08-07T09:05:00.000000000",
          "2025-08-07T09:06:00.000000000",
          "2025-08-07T09:07:00.000000000",
          "2025-08-07T09:08:00.000000000",
          "2025-08-07T09:09:00.000000000",
          "2025-08-07T09:10:00.000000000",
          "2025-08-07T09:11:00.000000000",
          "2025-08-07T09:12:00.000000000",
          "2025-08-07T09:13:00.000000000",
          "2025-08-07T09:14:00.000000000",
          "2025-08-07T09:15:00.000000000",
          "2025-08-07T09:16:00.000000000",
          "2025-08-07T09:17:00.000000000",
          "2025-08-07T09:18:00.000000000",
          "2025-08-07T09:19:00.000000000",
          "2025-08-07T09:20:00.000000000",
          "2025-08-07T09:21:00.000000000",
          "2025-08-07T09:22:00.000000000",
          "2025-08-07T09:23:00.000000000",
          "2025-08-07T09:24:00.000000000",
          "2025-08-07T09:25:00.000000000",
          "2025-08-07T09:26:00.000000000",
          "2025-08-07T09:27:00.000000000",
          "2025-08-07T09:28:00.000000000",
          "2025-08-07T09:29:00.000000000",
          "2025-08-07T09:30:00.000000000",
          "2025-08-07T09:31:00.000000000",
          "2025-08-07T09:32:00.000000000",
          "2025-08-07T09:33:00.000000000",
          "2025-08-07T09:34:00.000000000",
          "2025-08-07T09:35:00.000000000",
          "2025-08-07T09:36:00.000000000",
          "2025-08-07T09:37:00.000000000",
          "2025-08-07T09:38:00.000000000",
          "2025-08-07T09:39:00.000000000",
          "2025-08-07T09:40:00.000000000",
          "2025-08-07T09:41:00.000000000",
          "2025-08-07T09:42:00.000000000",
          "2025-08-07T09:43:00.000000000",
          "2025-08-07T09:44:00.000000000",
          "2025-08-07T09:45:00.000000000",
          "2025-08-07T09:46:00.000000000",
          "2025-08-07T09:47:00.000000000",
          "2025-08-07T09:48:00.000000000",
          "2025-08-07T09:49:00.000000000",
          "2025-08-07T09:50:00.000000000",
          "2025-08-07T09:51:00.000000000",
          "2025-08-07T09:52:00.000000000",
          "2025-08-07T09:53:00.000000000",
          "2025-08-07T09:54:00.000000000",
          "2025-08-07T09:55:00.000000000",
          "2025-08-07T09:56:00.000000000",
          "2025-08-07T09:57:00.000000000",
          "2025-08-07T09:58:00.000000000",
          "2025-08-07T09:59:00.000000000",
          "2025-08-07T10:00:00.000000000",
          "2025-08-07T10:01:00.000000000",
          "2025-08-07T10:02:00.000000000",
          "2025-08-07T10:03:00.000000000",
          "2025-08-07T10:04:00.000000000",
          "2025-08-07T10:05:00.000000000",
          "2025-08-07T10:06:00.000000000",
          "2025-08-07T10:07:00.000000000",
          "2025-08-07T10:08:00.000000000",
          "2025-08-07T10:09:00.000000000",
          "2025-08-07T10:10:00.000000000",
          "2025-08-07T10:11:00.000000000",
          "2025-08-07T10:12:00.000000000",
          "2025-08-07T10:13:00.000000000",
          "2025-08-07T10:14:00.000000000",
          "2025-08-07T10:15:00.000000000",
          "2025-08-07T10:16:00.000000000",
          "2025-08-07T10:17:00.000000000",
          "2025-08-07T10:18:00.000000000",
          "2025-08-07T10:19:00.000000000",
          "2025-08-07T10:20:00.000000000",
          "2025-08-07T10:21:00.000000000",
          "2025-08-07T10:22:00.000000000",
          "2025-08-07T10:23:00.000000000",
          "2025-08-07T10:24:00.000000000",
          "2025-08-07T10:25:00.000000000",
          "2025-08-07T10:26:00.000000000",
          "2025-08-07T10:27:00.000000000",
          "2025-08-07T10:28:00.000000000",
          "2025-08-07T10:29:00.000000000",
          "2025-08-07T10:30:00.000000000",
          "2025-08-07T10:31:00.000000000",
          "2025-08-07T10:32:00.000000000",
          "2025-08-07T10:33:00.000000000",
          "2025-08-07T10:34:00.000000000",
          "2025-08-07T10:35:00.000000000",
          "2025-08-07T10:36:00.000000000",
          "2025-08-07T10:37:00.000000000",
          "2025-08-07T10:38:00.000000000",
          "2025-08-07T10:39:00.000000000",
          "2025-08-07T10:40:00.000000000",
          "2025-08-07T10:41:00.000000000",
          "2025-08-07T10:42:00.000000000",
          "2025-08-07T10:43:00.000000000",
          "2025-08-07T10:44:00.000000000",
          "2025-08-07T10:45:00.000000000",
          "2025-08-07T10:46:00.000000000",
          "2025-08-07T10:47:00.000000000",
          "2025-08-07T10:48:00.000000000",
          "2025-08-07T10:49:00.000000000",
          "2025-08-07T10:50:00.000000000",
          "2025-08-07T10:51:00.000000000",
          "2025-08-07T10:52:00.000000000",
          "2025-08-07T10:53:00.000000000",
          "2025-08-07T10:54:00.000000000",
          "2025-08-07T10:55:00.000000000",
          "2025-08-07T10:56:00.000000000",
          "2025-08-07T10:57:00.000000000",
          "2025-08-07T10:58:00.000000000",
          "2025-08-07T10:59:00.000000000",
          "2025-08-07T11:00:00.000000000",
          "2025-08-07T11:01:00.000000000",
          "2025-08-07T11:02:00.000000000",
          "2025-08-07T11:03:00.000000000",
          "2025-08-07T11:04:00.000000000",
          "2025-08-07T11:05:00.000000000",
          "2025-08-07T11:06:00.000000000",
          "2025-08-07T11:07:00.000000000",
          "2025-08-07T11:08:00.000000000",
          "2025-08-07T11:09:00.000000000",
          "2025-08-07T11:10:00.000000000",
          "2025-08-07T11:11:00.000000000",
          "2025-08-07T11:12:00.000000000",
          "2025-08-07T11:13:00.000000000",
          "2025-08-07T11:14:00.000000000",
          "2025-08-07T11:15:00.000000000",
          "2025-08-07T11:16:00.000000000",
          "2025-08-07T11:17:00.000000000",
          "2025-08-07T11:18:00.000000000",
          "2025-08-07T11:19:00.000000000",
          "2025-08-07T11:20:00.000000000",
          "2025-08-07T11:21:00.000000000",
          "2025-08-07T11:22:00.000000000",
          "2025-08-07T11:23:00.000000000",
          "2025-08-07T11:24:00.000000000",
          "2025-08-07T11:25:00.000000000",
          "2025-08-07T11:26:00.000000000",
          "2025-08-07T11:27:00.000000000",
          "2025-08-07T11:28:00.000000000",
          "2025-08-07T11:29:00.000000000",
          "2025-08-07T11:30:00.000000000",
          "2025-08-07T11:31:00.000000000",
          "2025-08-07T11:32:00.000000000",
          "2025-08-07T11:33:00.000000000",
          "2025-08-07T11:34:00.000000000",
          "2025-08-07T11:35:00.000000000",
          "2025-08-07T11:36:00.000000000",
          "2025-08-07T11:37:00.000000000",
          "2025-08-07T11:38:00.000000000",
          "2025-08-07T11:39:00.000000000",
          "2025-08-07T11:40:00.000000000",
          "2025-08-07T11:41:00.000000000",
          "2025-08-07T11:42:00.000000000",
          "2025-08-07T11:43:00.000000000",
          "2025-08-07T11:44:00.000000000",
          "2025-08-07T11:45:00.000000000",
          "2025-08-07T11:46:00.000000000",
          "2025-08-07T11:47:00.000000000",
          "2025-08-07T11:48:00.000000000",
          "2025-08-07T11:49:00.000000000",
          "2025-08-07T11:50:00.000000000",
          "2025-08-07T11:51:00.000000000",
          "2025-08-07T11:52:00.000000000",
          "2025-08-07T11:53:00.000000000",
          "2025-08-07T11:54:00.000000000",
          "2025-08-07T11:55:00.000000000",
          "2025-08-07T11:56:00.000000000",
          "2025-08-07T11:57:00.000000000",
          "2025-08-07T11:58:00.000000000",
          "2025-08-07T11:59:00.000000000",
          "2025-08-07T12:00:00.000000000",
          "2025-08-07T12:01:00.000000000",
          "2025-08-07T12:02:00.000000000",
          "2025-08-07T12:03:00.000000000",
          "2025-08-07T12:04:00.000000000",
          "2025-08-07T12:05:00.000000000",
          "2025-08-07T12:06:00.000000000",
          "2025-08-07T12:07:00.000000000",
          "2025-08-07T12:08:00.000000000",
          "2025-08-07T12:09:00.000000000",
          "2025-08-07T12:10:00.000000000",
          "2025-08-07T12:11:00.000000000",
          "2025-08-07T12:12:00.000000000",
          "2025-08-07T12:13:00.000000000",
          "2025-08-07T12:14:00.000000000",
          "2025-08-07T12:15:00.000000000",
          "2025-08-07T12:16:00.000000000",
          "2025-08-07T12:17:00.000000000",
          "2025-08-07T12:18:00.000000000",
          "2025-08-07T12:19:00.000000000",
          "2025-08-07T12:20:00.000000000",
          "2025-08-07T12:21:00.000000000",
          "2025-08-07T12:22:00.000000000",
          "2025-08-07T12:23:00.000000000",
          "2025-08-07T12:24:00.000000000",
          "2025-08-07T12:25:00.000000000",
          "2025-08-07T12:26:00.000000000",
          "2025-08-07T12:27:00.000000000",
          "2025-08-07T12:28:00.000000000",
          "2025-08-07T12:29:00.000000000",
          "2025-08-07T12:30:00.000000000",
          "2025-08-07T12:31:00.000000000",
          "2025-08-07T12:32:00.000000000",
          "2025-08-07T12:33:00.000000000",
          "2025-08-07T12:34:00.000000000",
          "2025-08-07T12:35:00.000000000",
          "2025-08-07T12:36:00.000000000",
          "2025-08-07T12:37:00.000000000",
          "2025-08-07T12:38:00.000000000",
          "2025-08-07T12:39:00.000000000",
          "2025-08-07T12:40:00.000000000",
          "2025-08-07T12:41:00.000000000",
          "2025-08-07T12:42:00.000000000",
          "2025-08-07T12:43:00.000000000",
          "2025-08-07T12:44:00.000000000",
          "2025-08-07T12:45:00.000000000",
          "2025-08-07T12:46:00.000000000",
          "2025-08-07T12:47:00.000000000",
          "2025-08-07T12:48:00.000000000",
          "2025-08-07T12:49:00.000000000",
          "2025-08-07T12:50:00.000000000",
          "2025-08-07T12:51:00.000000000",
          "2025-08-07T12:52:00.000000000",
          "2025-08-07T12:53:00.000000000",
          "2025-08-07T12:54:00.000000000",
          "2025-08-07T12:55:00.000000000",
          "2025-08-07T12:56:00.000000000",
          "2025-08-07T12:57:00.000000000",
          "2025-08-07T12:58:00.000000000",
          "2025-08-07T12:59:00.000000000",
          "2025-08-07T13:00:00.000000000",
          "2025-08-07T13:01:00.000000000",
          "2025-08-07T13:02:00.000000000",
          "2025-08-07T13:03:00.000000000",
          "2025-08-07T13:04:00.000000000",
          "2025-08-07T13:05:00.000000000",
          "2025-08-07T13:06:00.000000000",
          "2025-08-07T13:07:00.000000000",
          "2025-08-07T13:08:00.000000000",
          "2025-08-07T13:09:00.000000000",
          "2025-08-07T13:10:00.000000000",
          "2025-08-07T13:11:00.000000000",
          "2025-08-07T13:12:00.000000000",
          "2025-08-07T13:13:00.000000000",
          "2025-08-07T13:14:00.000000000",
          "2025-08-07T13:15:00.000000000",
          "2025-08-07T13:16:00.000000000",
          "2025-08-07T13:17:00.000000000",
          "2025-08-07T13:18:00.000000000",
          "2025-08-07T13:19:00.000000000",
          "2025-08-07T13:20:00.000000000",
          "2025-08-07T13:21:00.000000000",
          "2025-08-07T13:22:00.000000000",
          "2025-08-07T13:23:00.000000000",
          "2025-08-07T13:24:00.000000000",
          "2025-08-07T13:25:00.000000000",
          "2025-08-07T13:26:00.000000000",
          "2025-08-07T13:27:00.000000000",
          "2025-08-07T13:28:00.000000000",
          "2025-08-07T13:29:00.000000000",
          "2025-08-07T13:30:00.000000000",
          "2025-08-07T13:31:00.000000000",
          "2025-08-07T13:32:00.000000000",
          "2025-08-07T13:33:00.000000000",
          "2025-08-07T13:34:00.000000000",
          "2025-08-07T13:35:00.000000000",
          "2025-08-07T13:36:00.000000000",
          "2025-08-07T13:37:00.000000000",
          "2025-08-07T13:38:00.000000000",
          "2025-08-07T13:39:00.000000000",
          "2025-08-07T13:40:00.000000000",
          "2025-08-07T13:41:00.000000000",
          "2025-08-07T13:42:00.000000000",
          "2025-08-07T13:43:00.000000000",
          "2025-08-07T13:44:00.000000000",
          "2025-08-07T13:45:00.000000000",
          "2025-08-07T13:46:00.000000000",
          "2025-08-07T13:47:00.000000000",
          "2025-08-07T13:48:00.000000000",
          "2025-08-07T13:49:00.000000000",
          "2025-08-07T13:50:00.000000000",
          "2025-08-07T13:51:00.000000000",
          "2025-08-07T13:52:00.000000000",
          "2025-08-07T13:53:00.000000000",
          "2025-08-07T13:54:00.000000000",
          "2025-08-07T13:55:00.000000000",
          "2025-08-07T13:56:00.000000000",
          "2025-08-07T13:57:00.000000000",
          "2025-08-07T13:58:00.000000000",
          "2025-08-07T13:59:00.000000000",
          "2025-08-07T14:00:00.000000000",
          "2025-08-07T14:01:00.000000000",
          "2025-08-07T14:02:00.000000000",
          "2025-08-07T14:03:00.000000000",
          "2025-08-07T14:04:00.000000000",
          "2025-08-07T14:05:00.000000000",
          "2025-08-07T14:06:00.000000000",
          "2025-08-07T14:07:00.000000000",
          "2025-08-07T14:08:00.000000000",
          "2025-08-07T14:09:00.000000000",
          "2025-08-07T14:10:00.000000000",
          "2025-08-07T14:11:00.000000000",
          "2025-08-07T14:12:00.000000000",
          "2025-08-07T14:13:00.000000000",
          "2025-08-07T14:14:00.000000000",
          "2025-08-07T14:15:00.000000000",
          "2025-08-07T14:16:00.000000000",
          "2025-08-07T14:17:00.000000000",
          "2025-08-07T14:18:00.000000000",
          "2025-08-07T14:19:00.000000000",
          "2025-08-07T14:20:00.000000000",
          "2025-08-07T14:21:00.000000000",
          "2025-08-07T14:22:00.000000000",
          "2025-08-07T14:23:00.000000000",
          "2025-08-07T14:24:00.000000000",
          "2025-08-07T14:25:00.000000000",
          "2025-08-07T14:26:00.000000000",
          "2025-08-07T14:27:00.000000000",
          "2025-08-07T14:28:00.000000000",
          "2025-08-07T14:29:00.000000000",
          "2025-08-07T14:30:00.000000000",
          "2025-08-07T14:31:00.000000000",
          "2025-08-07T14:32:00.000000000",
          "2025-08-07T14:33:00.000000000",
          "2025-08-07T14:34:00.000000000",
          "2025-08-07T14:35:00.000000000",
          "2025-08-07T14:36:00.000000000",
          "2025-08-07T14:37:00.000000000",
          "2025-08-07T14:38:00.000000000",
          "2025-08-07T14:39:00.000000000",
          "2025-08-07T14:40:00.000000000",
          "2025-08-07T14:41:00.000000000",
          "2025-08-07T14:42:00.000000000",
          "2025-08-07T14:43:00.000000000",
          "2025-08-07T14:44:00.000000000",
          "2025-08-07T14:45:00.000000000",
          "2025-08-07T14:46:00.000000000",
          "2025-08-07T14:47:00.000000000",
          "2025-08-07T14:48:00.000000000",
          "2025-08-07T14:49:00.000000000",
          "2025-08-07T14:50:00.000000000",
          "2025-08-07T14:51:00.000000000",
          "2025-08-07T14:52:00.000000000",
          "2025-08-07T14:53:00.000000000",
          "2025-08-07T14:54:00.000000000",
          "2025-08-07T14:55:00.000000000",
          "2025-08-07T14:56:00.000000000",
          "2025-08-07T14:57:00.000000000",
          "2025-08-07T14:58:00.000000000",
          "2025-08-07T14:59:00.000000000",
          "2025-08-07T15:00:00.000000000",
          "2025-08-07T15:01:00.000000000",
          "2025-08-07T15:02:00.000000000",
          "2025-08-07T15:03:00.000000000",
          "2025-08-07T15:04:00.000000000",
          "2025-08-07T15:05:00.000000000",
          "2025-08-07T15:06:00.000000000",
          "2025-08-07T15:07:00.000000000",
          "2025-08-07T15:08:00.000000000",
          "2025-08-07T15:09:00.000000000",
          "2025-08-07T15:10:00.000000000",
          "2025-08-07T15:11:00.000000000",
          "2025-08-07T15:12:00.000000000",
          "2025-08-07T15:13:00.000000000",
          "2025-08-07T15:14:00.000000000",
          "2025-08-07T15:15:00.000000000",
          "2025-08-07T15:16:00.000000000",
          "2025-08-07T15:17:00.000000000",
          "2025-08-07T15:18:00.000000000",
          "2025-08-07T15:19:00.000000000",
          "2025-08-07T15:20:00.000000000",
          "2025-08-07T15:21:00.000000000",
          "2025-08-07T15:22:00.000000000",
          "2025-08-07T15:23:00.000000000",
          "2025-08-07T15:24:00.000000000",
          "2025-08-07T15:25:00.000000000",
          "2025-08-07T15:26:00.000000000",
          "2025-08-07T15:27:00.000000000",
          "2025-08-07T15:28:00.000000000",
          "2025-08-07T15:29:00.000000000",
          "2025-08-07T15:30:00.000000000",
          "2025-08-07T15:31:00.000000000",
          "2025-08-07T15:32:00.000000000",
          "2025-08-07T15:33:00.000000000",
          "2025-08-07T15:34:00.000000000",
          "2025-08-07T15:35:00.000000000",
          "2025-08-07T15:36:00.000000000",
          "2025-08-07T15:37:00.000000000",
          "2025-08-07T15:38:00.000000000",
          "2025-08-07T15:39:00.000000000",
          "2025-08-07T15:40:00.000000000",
          "2025-08-07T15:41:00.000000000",
          "2025-08-07T15:42:00.000000000",
          "2025-08-07T15:43:00.000000000",
          "2025-08-07T15:44:00.000000000",
          "2025-08-07T15:45:00.000000000",
          "2025-08-07T15:46:00.000000000",
          "2025-08-07T15:47:00.000000000",
          "2025-08-07T15:48:00.000000000",
          "2025-08-07T15:49:00.000000000",
          "2025-08-07T15:50:00.000000000",
          "2025-08-07T15:51:00.000000000",
          "2025-08-07T15:52:00.000000000",
          "2025-08-07T15:53:00.000000000",
          "2025-08-07T15:54:00.000000000",
          "2025-08-07T15:55:00.000000000",
          "2025-08-07T15:56:00.000000000",
          "2025-08-07T15:57:00.000000000",
          "2025-08-07T15:58:00.000000000",
          "2025-08-07T15:59:00.000000000"
         ],
         "xaxis": "x2",
         "y": {
          "bdata": "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",
          "dtype": "f8"
         },
         "yaxis": "y2"
        }
       ],
       "layout": {
        "annotations": [
         {
          "bgcolor": "rgba(25,25,25,0.7)",
          "bordercolor": "#FF66FE",
          "borderpad": 4,
          "borderwidth": 1,
          "font": {
           "color": "#FF66FE",
           "family": "Arial, sans-serif",
           "size": 10.5
          },
          "showarrow": false,
          "text": "prior close",
          "x": "2025-08-07T09:00:00-04:00",
          "xanchor": "left",
          "xref": "x",
          "y": 6345.06,
          "yanchor": "bottom",
          "yref": "y"
         },
         {
          "bgcolor": "rgba(25,25,25,0.7)",
          "bordercolor": "#4CAF50",
          "borderpad": 4,
          "borderwidth": 1,
          "font": {
           "color": "#4CAF50",
           "family": "Arial, sans-serif",
           "size": 10.5
          },
          "showarrow": false,
          "text": "prior high",
          "x": "2025-08-07T09:00:00-04:00",
          "xanchor": "left",
          "xref": "x",
          "y": 6352.83,
          "yanchor": "bottom",
          "yref": "y"
         },
         {
          "bgcolor": "rgba(25,25,25,0.7)",
          "bordercolor": "#F44336",
          "borderpad": 4,
          "borderwidth": 1,
          "font": {
           "color": "#F44336",
           "family": "Arial, sans-serif",
           "size": 10.5
          },
          "showarrow": false,
          "text": "prior low",
          "x": "2025-08-07T09:00:00-04:00",
          "xanchor": "left",
          "xref": "x",
          "y": 6301.11,
          "yanchor": "bottom",
          "yref": "y"
         },
         {
          "align": "center",
          "bgcolor": "rgba(25,25,25,0.8)",
          "bordercolor": "#555555",
          "borderpad": 6,
          "borderwidth": 1,
          "font": {
           "color": "#555555",
           "family": "Arial, sans-serif",
           "size": 11
          },
          "showarrow": false,
          "text": "Open",
          "textangle": 0,
          "x": "2025-08-07T14:30:00-04:00",
          "xanchor": "center",
          "xref": "x",
          "y": 6403.622756190475,
          "yanchor": "bottom",
          "yref": "y"
         }
        ],
        "height": 800,
        "margin": {
         "b": 10,
         "l": 30,
         "r": 5,
         "t": 50
        },
        "paper_bgcolor": "rgb(25,25,25)",
        "plot_bgcolor": "rgb(25,25,25)",
        "shapes": [
         {
          "line": {
           "color": "gray",
           "dash": "dot",
           "width": 1
          },
          "type": "line",
          "x0": "2025-08-07T09:00:00-04:00",
          "x1": "2025-08-07T16:15:00-04:00",
          "xref": "x2",
          "y0": 0,
          "y1": 0,
          "yref": "y2"
         },
         {
          "line": {
           "color": "#FF66FE",
           "dash": "dot",
           "width": 1
          },
          "opacity": 0.45,
          "type": "line",
          "x0": "2025-08-07T09:00:00-04:00",
          "x1": "2025-08-07T16:00:00-04:00",
          "xref": "x",
          "y0": 6345.06,
          "y1": 6345.06,
          "yref": "y"
         },
         {
          "line": {
           "color": "#4CAF50",
           "dash": "dot",
           "width": 1
          },
          "opacity": 0.45,
          "type": "line",
          "x0": "2025-08-07T09:00:00-04:00",
          "x1": "2025-08-07T16:00:00-04:00",
          "xref": "x",
          "y0": 6352.83,
          "y1": 6352.83,
          "yref": "y"
         },
         {
          "line": {
           "color": "#F44336",
           "dash": "dot",
           "width": 1
          },
          "opacity": 0.45,
          "type": "line",
          "x0": "2025-08-07T09:00:00-04:00",
          "x1": "2025-08-07T16:00:00-04:00",
          "xref": "x",
          "y0": 6301.11,
          "y1": 6301.11,
          "yref": "y"
         },
         {
          "line": {
           "color": "#4CAF50",
           "dash": "solid",
           "width": 1
          },
          "opacity": 0.75,
          "type": "line",
          "x0": "2025-08-07T09:30:00-04:00",
          "x1": "2025-08-07T16:00:00-04:00",
          "xref": "x",
          "y0": 6388.02,
          "y1": 6388.02,
          "yref": "y"
         },
         {
          "line": {
           "color": "#4CAF50",
           "dash": "solid",
           "width": 1
          },
          "opacity": 0.75,
          "type": "line",
          "x0": "2025-08-07T09:30:00-04:00",
          "x1": "2025-08-07T16:00:00-04:00",
          "xref": "x",
          "y0": 6374.32,
          "y1": 6374.32,
          "yref": "y"
         },
         {
          "line": {
           "color": "#4CAF50",
           "dash": "solid",
           "width": 1
          },
          "opacity": 0.45,
          "type": "line",
          "x0": "2025-08-07T09:45:00-04:00",
          "x1": "2025-08-07T16:00:00-04:00",
          "xref": "x",
          "y0": 6389.71,
          "y1": 6389.71,
          "yref": "y"
         },
         {
          "line": {
           "color": "#4CAF50",
           "dash": "solid",
           "width": 1
          },
          "opacity": 0,
          "type": "line",
          "x0": "2025-08-07T09:45:00-04:00",
          "x1": "2025-08-07T16:00:00-04:00",
          "xref": "x",
          "y0": 6374.32,
          "y1": 6374.32,
          "yref": "y"
         },
         {
          "line": {
           "color": "#4CAF50",
           "dash": "dot",
           "width": 1
          },
          "opacity": 0,
          "type": "line",
          "x0": "2025-08-07T10:00:00-04:00",
          "x1": "2025-08-07T16:00:00-04:00",
          "xref": "x",
          "y0": 6389.71,
          "y1": 6389.71,
          "yref": "y"
         },
         {
          "line": {
           "color": "#4CAF50",
           "dash": "dot",
           "width": 1
          },
          "opacity": 0.45,
          "type": "line",
          "x0": "2025-08-07T10:00:00-04:00",
          "x1": "2025-08-07T16:00:00-04:00",
          "xref": "x",
          "y0": 6373.34,
          "y1": 6373.34,
          "yref": "y"
         },
         {
          "line": {
           "color": "#4CAF50",
           "dash": "dot",
           "width": 1
          },
          "opacity": 0.45,
          "type": "line",
          "x0": "2025-08-07T10:00:00-04:00",
          "x1": "2025-08-07T16:00:00-04:00",
          "xref": "x",
          "y0": 6373.34,
          "y1": 6373.34,
          "yref": "y"
         },
         {
          "line": {
           "color": "#555555",
           "dash": "dot",
           "width": 1
          },
          "opacity": 0.7,
          "type": "line",
          "x0": "2025-08-07T14:30:00-04:00",
          "x1": "2025-08-07T14:30:00-04:00",
          "xref": "x",
          "y0": 6296.450329264069,
          "y1": 6403.622756190475,
          "yref": "y"
         },
         {
          "line": {
           "color": "#555555",
           "dash": "dot",
           "width": 1
          },
          "opacity": 0.7,
          "type": "line",
          "x0": "2025-08-07T14:30:00-04:00",
          "x1": "2025-08-07T14:30:00-04:00",
          "xref": "x2",
          "y0": -6.457047537390099,
          "y1": 13.089871873262746,
          "yref": "y2"
         }
        ],
        "showlegend": true,
        "template": {
         "data": {
          "bar": [
           {
            "error_x": {
             "color": "#f2f5fa"
            },
            "error_y": {
             "color": "#f2f5fa"
            },
            "marker": {
             "line": {
              "color": "rgb(17,17,17)",
              "width": 0.5
             },
             "pattern": {
              "fillmode": "overlay",
              "size": 10,
              "solidity": 0.2
             }
            },
            "type": "bar"
           }
          ],
          "barpolar": [
           {
            "marker": {
             "line": {
              "color": "rgb(17,17,17)",
              "width": 0.5
             },
             "pattern": {
              "fillmode": "overlay",
              "size": 10,
              "solidity": 0.2
             }
            },
            "type": "barpolar"
           }
          ],
          "carpet": [
           {
            "aaxis": {
             "endlinecolor": "#A2B1C6",
             "gridcolor": "#506784",
             "linecolor": "#506784",
             "minorgridcolor": "#506784",
             "startlinecolor": "#A2B1C6"
            },
            "baxis": {
             "endlinecolor": "#A2B1C6",
             "gridcolor": "#506784",
             "linecolor": "#506784",
             "minorgridcolor": "#506784",
             "startlinecolor": "#A2B1C6"
            },
            "type": "carpet"
           }
          ],
          "choropleth": [
           {
            "colorbar": {
             "outlinewidth": 0,
             "ticks": ""
            },
            "type": "choropleth"
           }
          ],
          "contour": [
           {
            "colorbar": {
             "outlinewidth": 0,
             "ticks": ""
            },
            "colorscale": [
             [
              0,
              "#0d0887"
             ],
             [
              0.1111111111111111,
              "#46039f"
             ],
             [
              0.2222222222222222,
              "#7201a8"
             ],
             [
              0.3333333333333333,
              "#9c179e"
             ],
             [
              0.4444444444444444,
              "#bd3786"
             ],
             [
              0.5555555555555556,
              "#d8576b"
             ],
             [
              0.6666666666666666,
              "#ed7953"
             ],
             [
              0.7777777777777778,
              "#fb9f3a"
             ],
             [
              0.8888888888888888,
              "#fdca26"
             ],
             [
              1,
              "#f0f921"
             ]
            ],
            "type": "contour"
           }
          ],
          "contourcarpet": [
           {
            "colorbar": {
             "outlinewidth": 0,
             "ticks": ""
            },
            "type": "contourcarpet"
           }
          ],
          "heatmap": [
           {
            "colorbar": {
             "outlinewidth": 0,
             "ticks": ""
            },
            "colorscale": [
             [
              0,
              "#0d0887"
             ],
             [
              0.1111111111111111,
              "#46039f"
             ],
             [
              0.2222222222222222,
              "#7201a8"
             ],
             [
              0.3333333333333333,
              "#9c179e"
             ],
             [
              0.4444444444444444,
              "#bd3786"
             ],
             [
              0.5555555555555556,
              "#d8576b"
             ],
             [
              0.6666666666666666,
              "#ed7953"
             ],
             [
              0.7777777777777778,
              "#fb9f3a"
             ],
             [
              0.8888888888888888,
              "#fdca26"
             ],
             [
              1,
              "#f0f921"
             ]
            ],
            "type": "heatmap"
           }
          ],
          "histogram": [
           {
            "marker": {
             "pattern": {
              "fillmode": "overlay",
              "size": 10,
              "solidity": 0.2
             }
            },
            "type": "histogram"
           }
          ],
          "histogram2d": [
           {
            "colorbar": {
             "outlinewidth": 0,
             "ticks": ""
            },
            "colorscale": [
             [
              0,
              "#0d0887"
             ],
             [
              0.1111111111111111,
              "#46039f"
             ],
             [
              0.2222222222222222,
              "#7201a8"
             ],
             [
              0.3333333333333333,
              "#9c179e"
             ],
             [
              0.4444444444444444,
              "#bd3786"
             ],
             [
              0.5555555555555556,
              "#d8576b"
             ],
             [
              0.6666666666666666,
              "#ed7953"
             ],
             [
              0.7777777777777778,
              "#fb9f3a"
             ],
             [
              0.8888888888888888,
              "#fdca26"
             ],
             [
              1,
              "#f0f921"
             ]
            ],
            "type": "histogram2d"
           }
          ],
          "histogram2dcontour": [
           {
            "colorbar": {
             "outlinewidth": 0,
             "ticks": ""
            },
            "colorscale": [
             [
              0,
              "#0d0887"
             ],
             [
              0.1111111111111111,
              "#46039f"
             ],
             [
              0.2222222222222222,
              "#7201a8"
             ],
             [
              0.3333333333333333,
              "#9c179e"
             ],
             [
              0.4444444444444444,
              "#bd3786"
             ],
             [
              0.5555555555555556,
              "#d8576b"
             ],
             [
              0.6666666666666666,
              "#ed7953"
             ],
             [
              0.7777777777777778,
              "#fb9f3a"
             ],
             [
              0.8888888888888888,
              "#fdca26"
             ],
             [
              1,
              "#f0f921"
             ]
            ],
            "type": "histogram2dcontour"
           }
          ],
          "mesh3d": [
           {
            "colorbar": {
             "outlinewidth": 0,
             "ticks": ""
            },
            "type": "mesh3d"
           }
          ],
          "parcoords": [
           {
            "line": {
             "colorbar": {
              "outlinewidth": 0,
              "ticks": ""
             }
            },
            "type": "parcoords"
           }
          ],
          "pie": [
           {
            "automargin": true,
            "type": "pie"
           }
          ],
          "scatter": [
           {
            "marker": {
             "line": {
              "color": "#283442"
             }
            },
            "type": "scatter"
           }
          ],
          "scatter3d": [
           {
            "line": {
             "colorbar": {
              "outlinewidth": 0,
              "ticks": ""
             }
            },
            "marker": {
             "colorbar": {
              "outlinewidth": 0,
              "ticks": ""
             }
            },
            "type": "scatter3d"
           }
          ],
          "scattercarpet": [
           {
            "marker": {
             "colorbar": {
              "outlinewidth": 0,
              "ticks": ""
             }
            },
            "type": "scattercarpet"
           }
          ],
          "scattergeo": [
           {
            "marker": {
             "colorbar": {
              "outlinewidth": 0,
              "ticks": ""
             }
            },
            "type": "scattergeo"
           }
          ],
          "scattergl": [
           {
            "marker": {
             "line": {
              "color": "#283442"
             }
            },
            "type": "scattergl"
           }
          ],
          "scattermap": [
           {
            "marker": {
             "colorbar": {
              "outlinewidth": 0,
              "ticks": ""
             }
            },
            "type": "scattermap"
           }
          ],
          "scattermapbox": [
           {
            "marker": {
             "colorbar": {
              "outlinewidth": 0,
              "ticks": ""
             }
            },
            "type": "scattermapbox"
           }
          ],
          "scatterpolar": [
           {
            "marker": {
             "colorbar": {
              "outlinewidth": 0,
              "ticks": ""
             }
            },
            "type": "scatterpolar"
           }
          ],
          "scatterpolargl": [
           {
            "marker": {
             "colorbar": {
              "outlinewidth": 0,
              "ticks": ""
             }
            },
            "type": "scatterpolargl"
           }
          ],
          "scatterternary": [
           {
            "marker": {
             "colorbar": {
              "outlinewidth": 0,
              "ticks": ""
             }
            },
            "type": "scatterternary"
           }
          ],
          "surface": [
           {
            "colorbar": {
             "outlinewidth": 0,
             "ticks": ""
            },
            "colorscale": [
             [
              0,
              "#0d0887"
             ],
             [
              0.1111111111111111,
              "#46039f"
             ],
             [
              0.2222222222222222,
              "#7201a8"
             ],
             [
              0.3333333333333333,
              "#9c179e"
             ],
             [
              0.4444444444444444,
              "#bd3786"
             ],
             [
              0.5555555555555556,
              "#d8576b"
             ],
             [
              0.6666666666666666,
              "#ed7953"
             ],
             [
              0.7777777777777778,
              "#fb9f3a"
             ],
             [
              0.8888888888888888,
              "#fdca26"
             ],
             [
              1,
              "#f0f921"
             ]
            ],
            "type": "surface"
           }
          ],
          "table": [
           {
            "cells": {
             "fill": {
              "color": "#506784"
             },
             "line": {
              "color": "rgb(17,17,17)"
             }
            },
            "header": {
             "fill": {
              "color": "#2a3f5f"
             },
             "line": {
              "color": "rgb(17,17,17)"
             }
            },
            "type": "table"
           }
          ]
         },
         "layout": {
          "annotationdefaults": {
           "arrowcolor": "#f2f5fa",
           "arrowhead": 0,
           "arrowwidth": 1
          },
          "autotypenumbers": "strict",
          "coloraxis": {
           "colorbar": {
            "outlinewidth": 0,
            "ticks": ""
           }
          },
          "colorscale": {
           "diverging": [
            [
             0,
             "#8e0152"
            ],
            [
             0.1,
             "#c51b7d"
            ],
            [
             0.2,
             "#de77ae"
            ],
            [
             0.3,
             "#f1b6da"
            ],
            [
             0.4,
             "#fde0ef"
            ],
            [
             0.5,
             "#f7f7f7"
            ],
            [
             0.6,
             "#e6f5d0"
            ],
            [
             0.7,
             "#b8e186"
            ],
            [
             0.8,
             "#7fbc41"
            ],
            [
             0.9,
             "#4d9221"
            ],
            [
             1,
             "#276419"
            ]
           ],
           "sequential": [
            [
             0,
             "#0d0887"
            ],
            [
             0.1111111111111111,
             "#46039f"
            ],
            [
             0.2222222222222222,
             "#7201a8"
            ],
            [
             0.3333333333333333,
             "#9c179e"
            ],
            [
             0.4444444444444444,
             "#bd3786"
            ],
            [
             0.5555555555555556,
             "#d8576b"
            ],
            [
             0.6666666666666666,
             "#ed7953"
            ],
            [
             0.7777777777777778,
             "#fb9f3a"
            ],
            [
             0.8888888888888888,
             "#fdca26"
            ],
            [
             1,
             "#f0f921"
            ]
           ],
           "sequentialminus": [
            [
             0,
             "#0d0887"
            ],
            [
             0.1111111111111111,
             "#46039f"
            ],
            [
             0.2222222222222222,
             "#7201a8"
            ],
            [
             0.3333333333333333,
             "#9c179e"
            ],
            [
             0.4444444444444444,
             "#bd3786"
            ],
            [
             0.5555555555555556,
             "#d8576b"
            ],
            [
             0.6666666666666666,
             "#ed7953"
            ],
            [
             0.7777777777777778,
             "#fb9f3a"
            ],
            [
             0.8888888888888888,
             "#fdca26"
            ],
            [
             1,
             "#f0f921"
            ]
           ]
          },
          "colorway": [
           "#636efa",
           "#EF553B",
           "#00cc96",
           "#ab63fa",
           "#FFA15A",
           "#19d3f3",
           "#FF6692",
           "#B6E880",
           "#FF97FF",
           "#FECB52"
          ],
          "font": {
           "color": "#f2f5fa"
          },
          "geo": {
           "bgcolor": "rgb(17,17,17)",
           "lakecolor": "rgb(17,17,17)",
           "landcolor": "rgb(17,17,17)",
           "showlakes": true,
           "showland": true,
           "subunitcolor": "#506784"
          },
          "hoverlabel": {
           "align": "left"
          },
          "hovermode": "closest",
          "mapbox": {
           "style": "dark"
          },
          "paper_bgcolor": "rgb(17,17,17)",
          "plot_bgcolor": "rgb(17,17,17)",
          "polar": {
           "angularaxis": {
            "gridcolor": "#506784",
            "linecolor": "#506784",
            "ticks": ""
           },
           "bgcolor": "rgb(17,17,17)",
           "radialaxis": {
            "gridcolor": "#506784",
            "linecolor": "#506784",
            "ticks": ""
           }
          },
          "scene": {
           "xaxis": {
            "backgroundcolor": "rgb(17,17,17)",
            "gridcolor": "#506784",
            "gridwidth": 2,
            "linecolor": "#506784",
            "showbackground": true,
            "ticks": "",
            "zerolinecolor": "#C8D4E3"
           },
           "yaxis": {
            "backgroundcolor": "rgb(17,17,17)",
            "gridcolor": "#506784",
            "gridwidth": 2,
            "linecolor": "#506784",
            "showbackground": true,
            "ticks": "",
            "zerolinecolor": "#C8D4E3"
           },
           "zaxis": {
            "backgroundcolor": "rgb(17,17,17)",
            "gridcolor": "#506784",
            "gridwidth": 2,
            "linecolor": "#506784",
            "showbackground": true,
            "ticks": "",
            "zerolinecolor": "#C8D4E3"
           }
          },
          "shapedefaults": {
           "line": {
            "color": "#f2f5fa"
           }
          },
          "sliderdefaults": {
           "bgcolor": "#C8D4E3",
           "bordercolor": "rgb(17,17,17)",
           "borderwidth": 1,
           "tickwidth": 0
          },
          "ternary": {
           "aaxis": {
            "gridcolor": "#506784",
            "linecolor": "#506784",
            "ticks": ""
           },
           "baxis": {
            "gridcolor": "#506784",
            "linecolor": "#506784",
            "ticks": ""
           },
           "bgcolor": "rgb(17,17,17)",
           "caxis": {
            "gridcolor": "#506784",
            "linecolor": "#506784",
            "ticks": ""
           }
          },
          "title": {
           "x": 0.05
          },
          "updatemenudefaults": {
           "bgcolor": "#506784",
           "borderwidth": 0
          },
          "xaxis": {
           "automargin": true,
           "gridcolor": "#283442",
           "linecolor": "#506784",
           "ticks": "",
           "title": {
            "standoff": 15
           },
           "zerolinecolor": "#283442",
           "zerolinewidth": 2
          },
          "yaxis": {
           "automargin": true,
           "gridcolor": "#283442",
           "linecolor": "#506784",
           "ticks": "",
           "title": {
            "standoff": 15
           },
           "zerolinecolor": "#283442",
           "zerolinewidth": 2
          }
         }
        },
        "xaxis": {
         "anchor": "y",
         "automargin": true,
         "domain": [
          0,
          1
         ],
         "dtick": 1800000,
         "gridcolor": "rgba(128,128,128,0.1)",
         "matches": "x2",
         "range": [
          "2025-08-07T09:00:00-04:00",
          "2025-08-07T16:15:00-04:00"
         ],
         "rangeslider": {
          "visible": false
         },
         "showticklabels": false,
         "zerolinecolor": "rgba(128,128,128,0.1)"
        },
        "xaxis2": {
         "anchor": "y2",
         "automargin": true,
         "domain": [
          0,
          1
         ],
         "dtick": 1800000,
         "gridcolor": "rgba(128,128,128,0.1)",
         "range": [
          "2025-08-07T09:00:00-04:00",
          "2025-08-07T16:15:00-04:00"
         ],
         "title": {
          "text": "Time"
         },
         "zerolinecolor": "rgba(128,128,128,0.1)"
        },
        "yaxis": {
         "anchor": "x",
         "automargin": true,
         "domain": [
          0.3533333333333333,
          0.9999999999999999
         ],
         "dtick": 10,
         "gridcolor": "rgba(128,128,128,0.1)",
         "minor": {
          "dtick": 5,
          "showgrid": false,
          "tickcolor": "rgba(150,150,150,0.5)",
          "ticklen": 2,
          "tickmode": "linear",
          "ticks": "outside",
          "tickwidth": 1
         },
         "range": [
          6296.450329264069,
          6403.622756190475
         ],
         "showgrid": true,
         "showticklabels": true,
         "tickfont": {
          "size": 11
         },
         "ticklabelposition": "outside",
         "ticklen": 4,
         "ticks": "outside",
         "ticksuffix": " ",
         "tickwidth": 1,
         "title": {
          "text": "Price"
         },
         "zeroline": false,
         "zerolinecolor": "rgba(128,128,128,0.1)"
        },
        "yaxis2": {
         "anchor": "x2",
         "automargin": true,
         "domain": [
          0,
          0.3233333333333333
         ],
         "gridcolor": "rgba(128,128,128,0.1)",
         "range": [
          -6.457047537390099,
          13.089871873262746
         ],
         "showgrid": true,
         "showticklabels": true,
         "side": "left",
         "tickfont": {
          "size": 11
         },
         "ticklabelposition": "outside",
         "ticklen": 4,
         "ticks": "outside",
         "ticksuffix": " ",
         "tickwidth": 1,
         "title": {
          "text": "MACD"
         },
         "zeroline": false,
         "zerolinecolor": "rgba(128,128,128,0.1)"
        }
       }
      }
     },
     "metadata": {},
     "output_type": "display_data"
    }
   ],
   "source": [
    "candles: pl.DataFrame = streamer.download(\n",
    "    symbol=candle_symbol,\n",
    "    start=start,\n",
    "    stop=stop,\n",
    "    debug_mode=True,\n",
    ")\n",
    "\n",
    "df_macd = macd(\n",
    "    candles, prior_close=prior_day.close, fast_length=12, slow_length=26, macd_length=9\n",
    ")\n",
    "\n",
    "plot_macd_with_hull(\n",
    "    df_macd,\n",
    "    pad_value=prior_day.close,\n",
    "    start_time=start,\n",
    "    end_time=stop + timedelta(minutes=15),\n",
    "    horizontal_lines=levels,\n",
    "    vertical_lines=executions,\n",
    ")"
   ]
  },
  {
   "cell_type": "code",
   "execution_count": 12,
   "metadata": {},
   "outputs": [
    {
     "data": {
      "application/vnd.plotly.v1+json": {
       "config": {
        "plotlyServerURL": "https://plot.ly"
       },
       "data": [
        {
         "close": {
          "bdata": "w/UoXA/JuEDD9ShcD8m4QMP1KFwPybhAw/UoXA/JuEDD9ShcD8m4QMP1KFwPybhAhetRuN7xuEDhehSuR/K4QOxRuB5F7rhAzczMzEzouEAAAAAAQOm4QOxRuB4F8LhAhetRuF7quECPwvUoXOG4QKRwPQrX3bhAhetRuJ7auEDD9Shcj9G4QIXrUbie1LhAAAAAAEDUuEDNzMzMDNa4QPYoXI+C17hAuB6F65HTuEAUrkfhes24QIXrUbheyrhA9ihcjwLIuEAK16Nw/ce4QLgehetRxbhA9ihcj4LJuEBSuB6Fa8y4QMP1KFzPwrhAuB6F65HBuECF61G43sK4QArXo3A9wbhA4XoUrke9uECamZmZWcS4QOxRuB5FwrhAXI/C9ajAuEDhehSux764QLgehesRxbhAKVyPwvXDuEAAAAAAAMi4QK5H4XrUxbhAZmZmZibIuECuR+F6FMK4QFK4HoWrtLhAXI/C9Si3uEApXI/CNcG4QIXrUbjeu7hAhetRuB63uEC4HoXr0be4QPYoXI8CtbhASOF6FC6yuEAzMzMz87e4QDMzMzNzr7hAH4XrUbituEAzMzMz87C4QOF6FK6Hs7hA4XoUrse0uECkcD0KV7e4QI/C9SjctrhA9ihcjwK3uEDNzMzMzLC4QFK4HoVrrbhAcT0K1yOnuEAUrkfhuqe4QNejcD0KrrhAKVyPwnWtuECkcD0KF7C4QClcj8L1qrhAMzMzMzOvuEBcj8L1KLO4QNejcD2KtLhAmpmZmRm0uEDNzMzMzLO4QB+F61F4sbhAw/UoXE+xuECuR+F6FLO4QGZmZmbmsbhAmpmZmRm2uEApXI/CdbW4QNejcD2Ku7hAPQrXozC8uECF61G4Xrm4QK5H4XoUxbhA",
          "dtype": "f8"
         },
         "decreasing": {
          "fillcolor": "#EF5350",
          "line": {
           "color": "#EF5350"
          }
         },
         "high": {
          "bdata": "w/UoXA/JuEDD9ShcD8m4QMP1KFwPybhAw/UoXA/JuEDD9ShcD8m4QMP1KFwPybhA7FG4HgX0uEDNzMzMjPK4QClcj8K19bhAcT0K16PuuEAK16Nwfey4QArXo3B98LhASOF6FO7zuEDNzMzMjOu4QB+F61G44bhAexSuRyHeuECamZmZWdy4QOF6FK5H1bhAcT0K1yPVuECamZmZmda4QPYoXI+C17hAFK5H4brZuECuR+F6lNO4QFyPwvVozbhA4XoUrkfOuEAzMzMzc8q4QIXrUbiey7hAmpmZmRnLuEA9CtejMM24QEjhehRuzLhAw/UoXA/HuEAK16NwfcW4QM3MzMyMw7hA9ihcj0LCuEA9CtejsMS4QK5H4XqUxbhAPQrXo3DDuEDNzMzMjMG4QHsUrkchxrhAMzMzM/PHuEBmZmZmJsi4QI/C9SjcyLhAXI/C9ajIuEAzMzMzc8i4QOF6FK4HwrhAKVyPwjW3uEAAAAAAQMG4QDMzMzPzwrhAhetRuN7BuEBI4XoUbrq4QI/C9SicuLhAexSuR2G2uEDD9ShcD7m4QGZmZmZmuLhAexSuRyGxuEAfhetRuLG4QArXo3C9tLhAPQrXo3C1uEBI4XoUrre4QD0K16NwubhAH4XrUfi4uEAfhetR+La4QB+F61H4sLhAZmZmZmatuEAzMzMzM6q4QDMzMzNzrrhAXI/C9eituECamZmZGbK4QFK4HoVrsLhACtejcL2vuEAAAAAAgLO4QFyPwvVot7hAUrgehau2uEDhehSuB7S4QIXrUbgetLhAhetRuB6zuEB7FK5HobO4QAAAAACAs7hAPQrXo/C3uEBmZmZmJru4QOxRuB7Fu7hA9ihcjwK+uED2KFyPAr64QK5H4XoUxbhA",
          "dtype": "f8"
         },
         "increasing": {
          "fillcolor": "rgba(19, 19, 19, 0.1)",
          "line": {
           "color": "#4CAF50"
          }
         },
         "line": {
          "width": 0.75
         },
         "low": {
          "bdata": "w/UoXA/JuEDD9ShcD8m4QMP1KFwPybhAw/UoXA/JuEDD9ShcD8m4QMP1KFwPybhAuB6F61HmuEAK16Nwfe24QPYoXI/C67hApHA9ClfluEAfhetROOi4QMP1KFxP57hAhetRuF7quECPwvUoXOG4QPYoXI9C27hAuB6F61HYuEDD9Shcj9G4QBSuR+G6zrhAw/UoXM/PuEBmZmZmZtC4QI/C9Sgc07hAhetRuB7NuEAfhetROMu4QGZmZmamx7hA9ihcjwLGuEB7FK5H4ca4QEjhehRuxLhAw/UoXM/BuEBxPQrXY8m4QGZmZmYmwbhApHA9Cte/uECamZmZWcC4QDMzMzMzwLhAUrgehSu9uEA9CtejML24QMP1KFwPwrhASOF6FK67uEBmZmZm5r24QEjhehTuu7hAMzMzMzPDuECuR+F6VMO4QJqZmZlZxbhAMzMzM7PEuEApXI/C9cC4QBSuR+H6s7hAexSuR+GvuEBcj8L16La4QIXrUbjeu7hAFK5H4Tq0uED2KFyPwrW4QB+F61E4s7hAUrgehWuwuECF61G4HrK4QDMzMzNzr7hAXI/C9WisuECF61G4Hqy4QNejcD0KsbhACtejcP2xuEDsUbgehbK4QM3MzMzMtLhA7FG4HkWyuEDsUbgeRbC4QPYoXI8Cq7hAexSuR6GmuEC4HoXrUaa4QArXo3D9prhArkfhetSpuED2KFyPAq24QNejcD2KqrhAMzMzM7OquEAzMzMzM624QJqZmZkZs7hAFK5H4XqyuEDNzMzMDLG4QFK4HoVrsbhAexSuR2GvuEDhehSuR7G4QMP1KFyPr7hAZmZmZuaxuEDhehSuR7W4QHE9CtdjtbhAMzMzM/O6uEAfhetRuLe4QK5H4XpUubhA",
          "dtype": "f8"
         },
         "name": "Price",
         "open": {
          "bdata": "w/UoXA/JuEDD9ShcD8m4QMP1KFwPybhAw/UoXA/JuEDD9ShcD8m4QMP1KFwPybhAuB6F61HmuECuR+F61PG4QMP1KFxP8rhAuB6F6xHuuEAzMzMzc+i4QI/C9Sgc6bhAuB6F6xHwuEDXo3A9Suq4QK5H4XpU4bhArkfhetTduEBSuB6Fq9q4QBSuR+G60bhAUrgehevUuEDXo3A9StS4QM3MzMwM1rhAH4XrUXjXuECuR+F6lNO4QFyPwvVozbhAzczMzMzKuEDD9ShcD8i4QFyPwvXox7hACtejcD3FuEAK16Nwfcm4QM3MzMxMzLhAhetRuN7CuEAzMzMzs8G4QAAAAADAwrhASOF6FC7BuEA9CtejML24QOxRuB5FxLhA7FG4HsXBuECF61G43sC4QPYoXI/CvrhAw/UoXA/FuEB7FK5H4cO4QDMzMzPzx7hAj8L1KNzFuECamZmZ2ce4QOF6FK4HwrhAhetRuN60uEBSuB6FK7e4QD0K16MwwbhArkfhetS7uECF61G4Hre4QOxRuB7Ft7hAAAAAAAC1uEAK16NwPbK4QDMzMzPzt7hAKVyPwnWvuEBcj8L16K24QNejcD0KsbhAPQrXo3CzuEBmZmZmprS4QNejcD2Kt7hAuB6F69G2uECamZmZ2ba4QDMzMzOzsLhAZmZmZmatuEBSuB6FK6e4QFK4HoWrp7hAXI/C9eituEAAAAAAgK24QFK4HoUrsLhAKVyPwvWquEDhehSuR6+4QEjhehQus7hAAAAAAIC0uEDsUbgeBbS4QMP1KFzPs7hAexSuR2GxuECPwvUoXLG4QGZmZmYms7hAZmZmZuaxuEDsUbgeBba4QHE9CtdjtbhApHA9Cpe7uEAAAAAAALy4QK5H4XpUubhA",
          "dtype": "f8"
         },
         "showlegend": false,
         "type": "candlestick",
         "x": [
          "2025-08-07T09:00:00.000000000",
          "2025-08-07T09:05:00.000000000",
          "2025-08-07T09:10:00.000000000",
          "2025-08-07T09:15:00.000000000",
          "2025-08-07T09:20:00.000000000",
          "2025-08-07T09:25:00.000000000",
          "2025-08-07T09:30:00.000000000",
          "2025-08-07T09:35:00.000000000",
          "2025-08-07T09:40:00.000000000",
          "2025-08-07T09:45:00.000000000",
          "2025-08-07T09:50:00.000000000",
          "2025-08-07T09:55:00.000000000",
          "2025-08-07T10:00:00.000000000",
          "2025-08-07T10:05:00.000000000",
          "2025-08-07T10:10:00.000000000",
          "2025-08-07T10:15:00.000000000",
          "2025-08-07T10:20:00.000000000",
          "2025-08-07T10:25:00.000000000",
          "2025-08-07T10:30:00.000000000",
          "2025-08-07T10:35:00.000000000",
          "2025-08-07T10:40:00.000000000",
          "2025-08-07T10:45:00.000000000",
          "2025-08-07T10:50:00.000000000",
          "2025-08-07T10:55:00.000000000",
          "2025-08-07T11:00:00.000000000",
          "2025-08-07T11:05:00.000000000",
          "2025-08-07T11:10:00.000000000",
          "2025-08-07T11:15:00.000000000",
          "2025-08-07T11:20:00.000000000",
          "2025-08-07T11:25:00.000000000",
          "2025-08-07T11:30:00.000000000",
          "2025-08-07T11:35:00.000000000",
          "2025-08-07T11:40:00.000000000",
          "2025-08-07T11:45:00.000000000",
          "2025-08-07T11:50:00.000000000",
          "2025-08-07T11:55:00.000000000",
          "2025-08-07T12:00:00.000000000",
          "2025-08-07T12:05:00.000000000",
          "2025-08-07T12:10:00.000000000",
          "2025-08-07T12:15:00.000000000",
          "2025-08-07T12:20:00.000000000",
          "2025-08-07T12:25:00.000000000",
          "2025-08-07T12:30:00.000000000",
          "2025-08-07T12:35:00.000000000",
          "2025-08-07T12:40:00.000000000",
          "2025-08-07T12:45:00.000000000",
          "2025-08-07T12:50:00.000000000",
          "2025-08-07T12:55:00.000000000",
          "2025-08-07T13:00:00.000000000",
          "2025-08-07T13:05:00.000000000",
          "2025-08-07T13:10:00.000000000",
          "2025-08-07T13:15:00.000000000",
          "2025-08-07T13:20:00.000000000",
          "2025-08-07T13:25:00.000000000",
          "2025-08-07T13:30:00.000000000",
          "2025-08-07T13:35:00.000000000",
          "2025-08-07T13:40:00.000000000",
          "2025-08-07T13:45:00.000000000",
          "2025-08-07T13:50:00.000000000",
          "2025-08-07T13:55:00.000000000",
          "2025-08-07T14:00:00.000000000",
          "2025-08-07T14:05:00.000000000",
          "2025-08-07T14:10:00.000000000",
          "2025-08-07T14:15:00.000000000",
          "2025-08-07T14:20:00.000000000",
          "2025-08-07T14:25:00.000000000",
          "2025-08-07T14:30:00.000000000",
          "2025-08-07T14:35:00.000000000",
          "2025-08-07T14:40:00.000000000",
          "2025-08-07T14:45:00.000000000",
          "2025-08-07T14:50:00.000000000",
          "2025-08-07T14:55:00.000000000",
          "2025-08-07T15:00:00.000000000",
          "2025-08-07T15:05:00.000000000",
          "2025-08-07T15:10:00.000000000",
          "2025-08-07T15:15:00.000000000",
          "2025-08-07T15:20:00.000000000",
          "2025-08-07T15:25:00.000000000",
          "2025-08-07T15:30:00.000000000",
          "2025-08-07T15:35:00.000000000",
          "2025-08-07T15:40:00.000000000",
          "2025-08-07T15:45:00.000000000",
          "2025-08-07T15:50:00.000000000",
          "2025-08-07T15:55:00.000000000"
         ],
         "xaxis": "x",
         "yaxis": "y"
        },
        {
         "line": {
          "color": "#FF66FE",
          "width": 0.6
         },
         "mode": "lines",
         "name": "HMA",
         "showlegend": false,
         "type": "scatter",
         "x": [
          "2025-08-07T09:00:00-04:00",
          "2025-08-07T09:05:00-04:00"
         ],
         "xaxis": "x",
         "y": {
          "bdata": "w/UoXA/JuEDD9ShcD8m4QA==",
          "dtype": "f8"
         },
         "yaxis": "y"
        },
        {
         "line": {
          "color": "#01FFFF",
          "width": 0.6
         },
         "mode": "lines",
         "name": "HMA",
         "showlegend": false,
         "type": "scatter",
         "x": [
          "2025-08-07T09:05:00-04:00",
          "2025-08-07T09:10:00-04:00"
         ],
         "xaxis": "x",
         "y": {
          "bdata": "w/UoXA/JuEDE9ShcD8m4QA==",
          "dtype": "f8"
         },
         "yaxis": "y"
        },
        {
         "line": {
          "color": "#FF66FE",
          "width": 0.6
         },
         "mode": "lines",
         "name": "HMA",
         "showlegend": false,
         "type": "scatter",
         "x": [
          "2025-08-07T09:10:00-04:00",
          "2025-08-07T09:15:00-04:00"
         ],
         "xaxis": "x",
         "y": {
          "bdata": "xPUoXA/JuEDE9ShcD8m4QA==",
          "dtype": "f8"
         },
         "yaxis": "y"
        },
        {
         "line": {
          "color": "#FF66FE",
          "width": 0.6
         },
         "mode": "lines",
         "name": "HMA",
         "showlegend": false,
         "type": "scatter",
         "x": [
          "2025-08-07T09:15:00-04:00",
          "2025-08-07T09:20:00-04:00"
         ],
         "xaxis": "x",
         "y": {
          "bdata": "xPUoXA/JuEDE9ShcD8m4QA==",
          "dtype": "f8"
         },
         "yaxis": "y"
        },
        {
         "line": {
          "color": "#FF66FE",
          "width": 0.6
         },
         "mode": "lines",
         "name": "HMA",
         "showlegend": false,
         "type": "scatter",
         "x": [
          "2025-08-07T09:20:00-04:00",
          "2025-08-07T09:25:00-04:00"
         ],
         "xaxis": "x",
         "y": {
          "bdata": "xPUoXA/JuEDE9ShcD8m4QA==",
          "dtype": "f8"
         },
         "yaxis": "y"
        },
        {
         "line": {
          "color": "#01FFFF",
          "width": 0.6
         },
         "mode": "lines",
         "name": "HMA",
         "showlegend": false,
         "type": "scatter",
         "x": [
          "2025-08-07T09:25:00-04:00",
          "2025-08-07T09:30:00-04:00"
         ],
         "xaxis": "x",
         "y": {
          "bdata": "xPUoXA/JuEBOqTj7cM24QA==",
          "dtype": "f8"
         },
         "yaxis": "y"
        },
        {
         "line": {
          "color": "#01FFFF",
          "width": 0.6
         },
         "mode": "lines",
         "name": "HMA",
         "showlegend": false,
         "type": "scatter",
         "x": [
          "2025-08-07T09:30:00-04:00",
          "2025-08-07T09:35:00-04:00"
         ],
         "xaxis": "x",
         "y": {
          "bdata": "Tqk4+3DNuEDTqXUGo9S4QA==",
          "dtype": "f8"
         },
         "yaxis": "y"
        },
        {
         "line": {
          "color": "#01FFFF",
          "width": 0.6
         },
         "mode": "lines",
         "name": "HMA",
         "showlegend": false,
         "type": "scatter",
         "x": [
          "2025-08-07T09:35:00-04:00",
          "2025-08-07T09:40:00-04:00"
         ],
         "xaxis": "x",
         "y": {
          "bdata": "06l1BqPUuED1GHGvt9y4QA==",
          "dtype": "f8"
         },
         "yaxis": "y"
        },
        {
         "line": {
          "color": "#01FFFF",
          "width": 0.6
         },
         "mode": "lines",
         "name": "HMA",
         "showlegend": false,
         "type": "scatter",
         "x": [
          "2025-08-07T09:40:00-04:00",
          "2025-08-07T09:45:00-04:00"
         ],
         "xaxis": "x",
         "y": {
          "bdata": "9Rhxr7fcuEBlDLMp1eO4QA==",
          "dtype": "f8"
         },
         "yaxis": "y"
        },
        {
         "line": {
          "color": "#01FFFF",
          "width": 0.6
         },
         "mode": "lines",
         "name": "HMA",
         "showlegend": false,
         "type": "scatter",
         "x": [
          "2025-08-07T09:45:00-04:00",
          "2025-08-07T09:50:00-04:00"
         ],
         "xaxis": "x",
         "y": {
          "bdata": "ZQyzKdXjuEDz+lFKOum4QA==",
          "dtype": "f8"
         },
         "yaxis": "y"
        },
        {
         "line": {
          "color": "#01FFFF",
          "width": 0.6
         },
         "mode": "lines",
         "name": "HMA",
         "showlegend": false,
         "type": "scatter",
         "x": [
          "2025-08-07T09:50:00-04:00",
          "2025-08-07T09:55:00-04:00"
         ],
         "xaxis": "x",
         "y": {
          "bdata": "8/pRSjrpuEBC5gfv7e24QA==",
          "dtype": "f8"
         },
         "yaxis": "y"
        },
        {
         "line": {
          "color": "#01FFFF",
          "width": 0.6
         },
         "mode": "lines",
         "name": "HMA",
         "showlegend": false,
         "type": "scatter",
         "x": [
          "2025-08-07T09:55:00-04:00",
          "2025-08-07T10:00:00-04:00"
         ],
         "xaxis": "x",
         "y": {
          "bdata": "QuYH7+3tuEAL2/MGWfG4QA==",
          "dtype": "f8"
         },
         "yaxis": "y"
        },
        {
         "line": {
          "color": "#01FFFF",
          "width": 0.6
         },
         "mode": "lines",
         "name": "HMA",
         "showlegend": false,
         "type": "scatter",
         "x": [
          "2025-08-07T10:00:00-04:00",
          "2025-08-07T10:05:00-04:00"
         ],
         "xaxis": "x",
         "y": {
          "bdata": "C9vzBlnxuEDcINLho/K4QA==",
          "dtype": "f8"
         },
         "yaxis": "y"
        },
        {
         "line": {
          "color": "#FF66FE",
          "width": 0.6
         },
         "mode": "lines",
         "name": "HMA",
         "showlegend": false,
         "type": "scatter",
         "x": [
          "2025-08-07T10:05:00-04:00",
          "2025-08-07T10:10:00-04:00"
         ],
         "xaxis": "x",
         "y": {
          "bdata": "3CDS4aPyuECC/xmWvPG4QA==",
          "dtype": "f8"
         },
         "yaxis": "y"
        },
        {
         "line": {
          "color": "#FF66FE",
          "width": 0.6
         },
         "mode": "lines",
         "name": "HMA",
         "showlegend": false,
         "type": "scatter",
         "x": [
          "2025-08-07T10:10:00-04:00",
          "2025-08-07T10:15:00-04:00"
         ],
         "xaxis": "x",
         "y": {
          "bdata": "gv8ZlrzxuEAy+2D2ve64QA==",
          "dtype": "f8"
         },
         "yaxis": "y"
        },
        {
         "line": {
          "color": "#FF66FE",
          "width": 0.6
         },
         "mode": "lines",
         "name": "HMA",
         "showlegend": false,
         "type": "scatter",
         "x": [
          "2025-08-07T10:15:00-04:00",
          "2025-08-07T10:20:00-04:00"
         ],
         "xaxis": "x",
         "y": {
          "bdata": "Mvtg9r3uuEDQ2C8oaOm4QA==",
          "dtype": "f8"
         },
         "yaxis": "y"
        },
        {
         "line": {
          "color": "#FF66FE",
          "width": 0.6
         },
         "mode": "lines",
         "name": "HMA",
         "showlegend": false,
         "type": "scatter",
         "x": [
          "2025-08-07T10:20:00-04:00",
          "2025-08-07T10:25:00-04:00"
         ],
         "xaxis": "x",
         "y": {
          "bdata": "0NgvKGjpuEASZuDRg+O4QA==",
          "dtype": "f8"
         },
         "yaxis": "y"
        },
        {
         "line": {
          "color": "#FF66FE",
          "width": 0.6
         },
         "mode": "lines",
         "name": "HMA",
         "showlegend": false,
         "type": "scatter",
         "x": [
          "2025-08-07T10:25:00-04:00",
          "2025-08-07T10:30:00-04:00"
         ],
         "xaxis": "x",
         "y": {
          "bdata": "Embg0YPjuECQ4eH15d24QA==",
          "dtype": "f8"
         },
         "yaxis": "y"
        },
        {
         "line": {
          "color": "#FF66FE",
          "width": 0.6
         },
         "mode": "lines",
         "name": "HMA",
         "showlegend": false,
         "type": "scatter",
         "x": [
          "2025-08-07T10:30:00-04:00",
          "2025-08-07T10:35:00-04:00"
         ],
         "xaxis": "x",
         "y": {
          "bdata": "kOHh9eXduEAVzforS9m4QA==",
          "dtype": "f8"
         },
         "yaxis": "y"
        },
        {
         "line": {
          "color": "#FF66FE",
          "width": 0.6
         },
         "mode": "lines",
         "name": "HMA",
         "showlegend": false,
         "type": "scatter",
         "x": [
          "2025-08-07T10:35:00-04:00",
          "2025-08-07T10:40:00-04:00"
         ],
         "xaxis": "x",
         "y": {
          "bdata": "Fc36K0vZuEB6a93B/dW4QA==",
          "dtype": "f8"
         },
         "yaxis": "y"
        },
        {
         "line": {
          "color": "#FF66FE",
          "width": 0.6
         },
         "mode": "lines",
         "name": "HMA",
         "showlegend": false,
         "type": "scatter",
         "x": [
          "2025-08-07T10:40:00-04:00",
          "2025-08-07T10:45:00-04:00"
         ],
         "xaxis": "x",
         "y": {
          "bdata": "emvdwf3VuEDWB7JbSdO4QA==",
          "dtype": "f8"
         },
         "yaxis": "y"
        },
        {
         "line": {
          "color": "#FF66FE",
          "width": 0.6
         },
         "mode": "lines",
         "name": "HMA",
         "showlegend": false,
         "type": "scatter",
         "x": [
          "2025-08-07T10:45:00-04:00",
          "2025-08-07T10:50:00-04:00"
         ],
         "xaxis": "x",
         "y": {
          "bdata": "1geyW0nTuEBy+UhrodC4QA==",
          "dtype": "f8"
         },
         "yaxis": "y"
        },
        {
         "line": {
          "color": "#FF66FE",
          "width": 0.6
         },
         "mode": "lines",
         "name": "HMA",
         "showlegend": false,
         "type": "scatter",
         "x": [
          "2025-08-07T10:50:00-04:00",
          "2025-08-07T10:55:00-04:00"
         ],
         "xaxis": "x",
         "y": {
          "bdata": "cvlIa6HQuEBMmhqD8s24QA==",
          "dtype": "f8"
         },
         "yaxis": "y"
        },
        {
         "line": {
          "color": "#FF66FE",
          "width": 0.6
         },
         "mode": "lines",
         "name": "HMA",
         "showlegend": false,
         "type": "scatter",
         "x": [
          "2025-08-07T10:55:00-04:00",
          "2025-08-07T11:00:00-04:00"
         ],
         "xaxis": "x",
         "y": {
          "bdata": "TJoag/LNuEDWRwc6Rsu4QA==",
          "dtype": "f8"
         },
         "yaxis": "y"
        },
        {
         "line": {
          "color": "#FF66FE",
          "width": 0.6
         },
         "mode": "lines",
         "name": "HMA",
         "showlegend": false,
         "type": "scatter",
         "x": [
          "2025-08-07T11:00:00-04:00",
          "2025-08-07T11:05:00-04:00"
         ],
         "xaxis": "x",
         "y": {
          "bdata": "1kcHOkbLuEC9fMFA+Mi4QA==",
          "dtype": "f8"
         },
         "yaxis": "y"
        },
        {
         "line": {
          "color": "#FF66FE",
          "width": 0.6
         },
         "mode": "lines",
         "name": "HMA",
         "showlegend": false,
         "type": "scatter",
         "x": [
          "2025-08-07T11:05:00-04:00",
          "2025-08-07T11:10:00-04:00"
         ],
         "xaxis": "x",
         "y": {
          "bdata": "vXzBQPjIuEDAjMmr8sa4QA==",
          "dtype": "f8"
         },
         "yaxis": "y"
        },
        {
         "line": {
          "color": "#FF66FE",
          "width": 0.6
         },
         "mode": "lines",
         "name": "HMA",
         "showlegend": false,
         "type": "scatter",
         "x": [
          "2025-08-07T11:10:00-04:00",
          "2025-08-07T11:15:00-04:00"
         ],
         "xaxis": "x",
         "y": {
          "bdata": "wIzJq/LGuEA29ekoosW4QA==",
          "dtype": "f8"
         },
         "yaxis": "y"
        },
        {
         "line": {
          "color": "#FF66FE",
          "width": 0.6
         },
         "mode": "lines",
         "name": "HMA",
         "showlegend": false,
         "type": "scatter",
         "x": [
          "2025-08-07T11:15:00-04:00",
          "2025-08-07T11:20:00-04:00"
         ],
         "xaxis": "x",
         "y": {
          "bdata": "NvXpKKLFuEC6wEkqMcW4QA==",
          "dtype": "f8"
         },
         "yaxis": "y"
        },
        {
         "line": {
          "color": "#FF66FE",
          "width": 0.6
         },
         "mode": "lines",
         "name": "HMA",
         "showlegend": false,
         "type": "scatter",
         "x": [
          "2025-08-07T11:20:00-04:00",
          "2025-08-07T11:25:00-04:00"
         ],
         "xaxis": "x",
         "y": {
          "bdata": "usBJKjHFuECqflYsVcS4QA==",
          "dtype": "f8"
         },
         "yaxis": "y"
        },
        {
         "line": {
          "color": "#FF66FE",
          "width": 0.6
         },
         "mode": "lines",
         "name": "HMA",
         "showlegend": false,
         "type": "scatter",
         "x": [
          "2025-08-07T11:25:00-04:00",
          "2025-08-07T11:30:00-04:00"
         ],
         "xaxis": "x",
         "y": {
          "bdata": "qn5WLFXEuECF4LxYJcO4QA==",
          "dtype": "f8"
         },
         "yaxis": "y"
        },
        {
         "line": {
          "color": "#FF66FE",
          "width": 0.6
         },
         "mode": "lines",
         "name": "HMA",
         "showlegend": false,
         "type": "scatter",
         "x": [
          "2025-08-07T11:30:00-04:00",
          "2025-08-07T11:35:00-04:00"
         ],
         "xaxis": "x",
         "y": {
          "bdata": "heC8WCXDuEAIap+wAcK4QA==",
          "dtype": "f8"
         },
         "yaxis": "y"
        },
        {
         "line": {
          "color": "#FF66FE",
          "width": 0.6
         },
         "mode": "lines",
         "name": "HMA",
         "showlegend": false,
         "type": "scatter",
         "x": [
          "2025-08-07T11:35:00-04:00",
          "2025-08-07T11:40:00-04:00"
         ],
         "xaxis": "x",
         "y": {
          "bdata": "CGqfsAHCuEDnN+i77cC4QA==",
          "dtype": "f8"
         },
         "yaxis": "y"
        },
        {
         "line": {
          "color": "#FF66FE",
          "width": 0.6
         },
         "mode": "lines",
         "name": "HMA",
         "showlegend": false,
         "type": "scatter",
         "x": [
          "2025-08-07T11:40:00-04:00",
          "2025-08-07T11:45:00-04:00"
         ],
         "xaxis": "x",
         "y": {
          "bdata": "5zfou+3AuEC+OHLZuL+4QA==",
          "dtype": "f8"
         },
         "yaxis": "y"
        },
        {
         "line": {
          "color": "#FF66FE",
          "width": 0.6
         },
         "mode": "lines",
         "name": "HMA",
         "showlegend": false,
         "type": "scatter",
         "x": [
          "2025-08-07T11:45:00-04:00",
          "2025-08-07T11:50:00-04:00"
         ],
         "xaxis": "x",
         "y": {
          "bdata": "vjhy2bi/uEC6rb8kPb+4QA==",
          "dtype": "f8"
         },
         "yaxis": "y"
        },
        {
         "line": {
          "color": "#FF66FE",
          "width": 0.6
         },
         "mode": "lines",
         "name": "HMA",
         "showlegend": false,
         "type": "scatter",
         "x": [
          "2025-08-07T11:50:00-04:00",
          "2025-08-07T11:55:00-04:00"
         ],
         "xaxis": "x",
         "y": {
          "bdata": "uq2/JD2/uEDyLy7AB7+4QA==",
          "dtype": "f8"
         },
         "yaxis": "y"
        },
        {
         "line": {
          "color": "#FF66FE",
          "width": 0.6
         },
         "mode": "lines",
         "name": "HMA",
         "showlegend": false,
         "type": "scatter",
         "x": [
          "2025-08-07T11:55:00-04:00",
          "2025-08-07T12:00:00-04:00"
         ],
         "xaxis": "x",
         "y": {
          "bdata": "8i8uwAe/uECEwtZ14b64QA==",
          "dtype": "f8"
         },
         "yaxis": "y"
        },
        {
         "line": {
          "color": "#FF66FE",
          "width": 0.6
         },
         "mode": "lines",
         "name": "HMA",
         "showlegend": false,
         "type": "scatter",
         "x": [
          "2025-08-07T12:00:00-04:00",
          "2025-08-07T12:05:00-04:00"
         ],
         "xaxis": "x",
         "y": {
          "bdata": "hMLWdeG+uEDTvgvgkr64QA==",
          "dtype": "f8"
         },
         "yaxis": "y"
        },
        {
         "line": {
          "color": "#01FFFF",
          "width": 0.6
         },
         "mode": "lines",
         "name": "HMA",
         "showlegend": false,
         "type": "scatter",
         "x": [
          "2025-08-07T12:05:00-04:00",
          "2025-08-07T12:10:00-04:00"
         ],
         "xaxis": "x",
         "y": {
          "bdata": "074L4JK+uECkNZMlz764QA==",
          "dtype": "f8"
         },
         "yaxis": "y"
        },
        {
         "line": {
          "color": "#01FFFF",
          "width": 0.6
         },
         "mode": "lines",
         "name": "HMA",
         "showlegend": false,
         "type": "scatter",
         "x": [
          "2025-08-07T12:10:00-04:00",
          "2025-08-07T12:15:00-04:00"
         ],
         "xaxis": "x",
         "y": {
          "bdata": "pDWTJc++uECFuPKGer+4QA==",
          "dtype": "f8"
         },
         "yaxis": "y"
        },
        {
         "line": {
          "color": "#01FFFF",
          "width": 0.6
         },
         "mode": "lines",
         "name": "HMA",
         "showlegend": false,
         "type": "scatter",
         "x": [
          "2025-08-07T12:15:00-04:00",
          "2025-08-07T12:20:00-04:00"
         ],
         "xaxis": "x",
         "y": {
          "bdata": "hbjyhnq/uEBLoFli2sC4QA==",
          "dtype": "f8"
         },
         "yaxis": "y"
        },
        {
         "line": {
          "color": "#01FFFF",
          "width": 0.6
         },
         "mode": "lines",
         "name": "HMA",
         "showlegend": false,
         "type": "scatter",
         "x": [
          "2025-08-07T12:20:00-04:00",
          "2025-08-07T12:25:00-04:00"
         ],
         "xaxis": "x",
         "y": {
          "bdata": "S6BZYtrAuEBCapHRVcK4QA==",
          "dtype": "f8"
         },
         "yaxis": "y"
        },
        {
         "line": {
          "color": "#01FFFF",
          "width": 0.6
         },
         "mode": "lines",
         "name": "HMA",
         "showlegend": false,
         "type": "scatter",
         "x": [
          "2025-08-07T12:25:00-04:00",
          "2025-08-07T12:30:00-04:00"
         ],
         "xaxis": "x",
         "y": {
          "bdata": "QmqR0VXCuEAgwOtD6cO4QA==",
          "dtype": "f8"
         },
         "yaxis": "y"
        },
        {
         "line": {
          "color": "#01FFFF",
          "width": 0.6
         },
         "mode": "lines",
         "name": "HMA",
         "showlegend": false,
         "type": "scatter",
         "x": [
          "2025-08-07T12:30:00-04:00",
          "2025-08-07T12:35:00-04:00"
         ],
         "xaxis": "x",
         "y": {
          "bdata": "IMDrQ+nDuEAPCN3+xsS4QA==",
          "dtype": "f8"
         },
         "yaxis": "y"
        },
        {
         "line": {
          "color": "#FF66FE",
          "width": 0.6
         },
         "mode": "lines",
         "name": "HMA",
         "showlegend": false,
         "type": "scatter",
         "x": [
          "2025-08-07T12:35:00-04:00",
          "2025-08-07T12:40:00-04:00"
         ],
         "xaxis": "x",
         "y": {
          "bdata": "Dwjd/sbEuEDdI6sdjMO4QA==",
          "dtype": "f8"
         },
         "yaxis": "y"
        },
        {
         "line": {
          "color": "#FF66FE",
          "width": 0.6
         },
         "mode": "lines",
         "name": "HMA",
         "showlegend": false,
         "type": "scatter",
         "x": [
          "2025-08-07T12:40:00-04:00",
          "2025-08-07T12:45:00-04:00"
         ],
         "xaxis": "x",
         "y": {
          "bdata": "3SOrHYzDuEALm7uzS8G4QA==",
          "dtype": "f8"
         },
         "yaxis": "y"
        },
        {
         "line": {
          "color": "#FF66FE",
          "width": 0.6
         },
         "mode": "lines",
         "name": "HMA",
         "showlegend": false,
         "type": "scatter",
         "x": [
          "2025-08-07T12:45:00-04:00",
          "2025-08-07T12:50:00-04:00"
         ],
         "xaxis": "x",
         "y": {
          "bdata": "C5u7s0vBuEBu522upL+4QA==",
          "dtype": "f8"
         },
         "yaxis": "y"
        },
        {
         "line": {
          "color": "#FF66FE",
          "width": 0.6
         },
         "mode": "lines",
         "name": "HMA",
         "showlegend": false,
         "type": "scatter",
         "x": [
          "2025-08-07T12:50:00-04:00",
          "2025-08-07T12:55:00-04:00"
         ],
         "xaxis": "x",
         "y": {
          "bdata": "budtrqS/uEA29xH0J764QA==",
          "dtype": "f8"
         },
         "yaxis": "y"
        },
        {
         "line": {
          "color": "#FF66FE",
          "width": 0.6
         },
         "mode": "lines",
         "name": "HMA",
         "showlegend": false,
         "type": "scatter",
         "x": [
          "2025-08-07T12:55:00-04:00",
          "2025-08-07T13:00:00-04:00"
         ],
         "xaxis": "x",
         "y": {
          "bdata": "NvcR9Ce+uEAD3PfIc7y4QA==",
          "dtype": "f8"
         },
         "yaxis": "y"
        },
        {
         "line": {
          "color": "#FF66FE",
          "width": 0.6
         },
         "mode": "lines",
         "name": "HMA",
         "showlegend": false,
         "type": "scatter",
         "x": [
          "2025-08-07T13:00:00-04:00",
          "2025-08-07T13:05:00-04:00"
         ],
         "xaxis": "x",
         "y": {
          "bdata": "A9z3yHO8uED425+Tn7q4QA==",
          "dtype": "f8"
         },
         "yaxis": "y"
        },
        {
         "line": {
          "color": "#FF66FE",
          "width": 0.6
         },
         "mode": "lines",
         "name": "HMA",
         "showlegend": false,
         "type": "scatter",
         "x": [
          "2025-08-07T13:05:00-04:00",
          "2025-08-07T13:10:00-04:00"
         ],
         "xaxis": "x",
         "y": {
          "bdata": "+Nufk5+6uEDl4Cmybri4QA==",
          "dtype": "f8"
         },
         "yaxis": "y"
        },
        {
         "line": {
          "color": "#FF66FE",
          "width": 0.6
         },
         "mode": "lines",
         "name": "HMA",
         "showlegend": false,
         "type": "scatter",
         "x": [
          "2025-08-07T13:10:00-04:00",
          "2025-08-07T13:15:00-04:00"
         ],
         "xaxis": "x",
         "y": {
          "bdata": "5eApsm64uEB9y3pkE7a4QA==",
          "dtype": "f8"
         },
         "yaxis": "y"
        },
        {
         "line": {
          "color": "#FF66FE",
          "width": 0.6
         },
         "mode": "lines",
         "name": "HMA",
         "showlegend": false,
         "type": "scatter",
         "x": [
          "2025-08-07T13:15:00-04:00",
          "2025-08-07T13:20:00-04:00"
         ],
         "xaxis": "x",
         "y": {
          "bdata": "fct6ZBO2uEBjcNhQirS4QA==",
          "dtype": "f8"
         },
         "yaxis": "y"
        },
        {
         "line": {
          "color": "#FF66FE",
          "width": 0.6
         },
         "mode": "lines",
         "name": "HMA",
         "showlegend": false,
         "type": "scatter",
         "x": [
          "2025-08-07T13:20:00-04:00",
          "2025-08-07T13:25:00-04:00"
         ],
         "xaxis": "x",
         "y": {
          "bdata": "Y3DYUIq0uECqa7Av57K4QA==",
          "dtype": "f8"
         },
         "yaxis": "y"
        },
        {
         "line": {
          "color": "#FF66FE",
          "width": 0.6
         },
         "mode": "lines",
         "name": "HMA",
         "showlegend": false,
         "type": "scatter",
         "x": [
          "2025-08-07T13:25:00-04:00",
          "2025-08-07T13:30:00-04:00"
         ],
         "xaxis": "x",
         "y": {
          "bdata": "qmuwL+eyuED6y7VHOrG4QA==",
          "dtype": "f8"
         },
         "yaxis": "y"
        },
        {
         "line": {
          "color": "#FF66FE",
          "width": 0.6
         },
         "mode": "lines",
         "name": "HMA",
         "showlegend": false,
         "type": "scatter",
         "x": [
          "2025-08-07T13:30:00-04:00",
          "2025-08-07T13:35:00-04:00"
         ],
         "xaxis": "x",
         "y": {
          "bdata": "+su1RzqxuEBbZXpL36+4QA==",
          "dtype": "f8"
         },
         "yaxis": "y"
        },
        {
         "line": {
          "color": "#FF66FE",
          "width": 0.6
         },
         "mode": "lines",
         "name": "HMA",
         "showlegend": false,
         "type": "scatter",
         "x": [
          "2025-08-07T13:35:00-04:00",
          "2025-08-07T13:40:00-04:00"
         ],
         "xaxis": "x",
         "y": {
          "bdata": "W2V6S9+vuEAzitSxAq+4QA==",
          "dtype": "f8"
         },
         "yaxis": "y"
        },
        {
         "line": {
          "color": "#FF66FE",
          "width": 0.6
         },
         "mode": "lines",
         "name": "HMA",
         "showlegend": false,
         "type": "scatter",
         "x": [
          "2025-08-07T13:40:00-04:00",
          "2025-08-07T13:45:00-04:00"
         ],
         "xaxis": "x",
         "y": {
          "bdata": "M4rUsQKvuEDtIGXB7K64QA==",
          "dtype": "f8"
         },
         "yaxis": "y"
        },
        {
         "line": {
          "color": "#01FFFF",
          "width": 0.6
         },
         "mode": "lines",
         "name": "HMA",
         "showlegend": false,
         "type": "scatter",
         "x": [
          "2025-08-07T13:45:00-04:00",
          "2025-08-07T13:50:00-04:00"
         ],
         "xaxis": "x",
         "y": {
          "bdata": "7SBlweyuuED2ZwGRsq+4QA==",
          "dtype": "f8"
         },
         "yaxis": "y"
        },
        {
         "line": {
          "color": "#01FFFF",
          "width": 0.6
         },
         "mode": "lines",
         "name": "HMA",
         "showlegend": false,
         "type": "scatter",
         "x": [
          "2025-08-07T13:50:00-04:00",
          "2025-08-07T13:55:00-04:00"
         ],
         "xaxis": "x",
         "y": {
          "bdata": "9mcBkbKvuEC9WRRt5bC4QA==",
          "dtype": "f8"
         },
         "yaxis": "y"
        },
        {
         "line": {
          "color": "#01FFFF",
          "width": 0.6
         },
         "mode": "lines",
         "name": "HMA",
         "showlegend": false,
         "type": "scatter",
         "x": [
          "2025-08-07T13:55:00-04:00",
          "2025-08-07T14:00:00-04:00"
         ],
         "xaxis": "x",
         "y": {
          "bdata": "vVkUbeWwuEDv2OG6S7K4QA==",
          "dtype": "f8"
         },
         "yaxis": "y"
        },
        {
         "line": {
          "color": "#01FFFF",
          "width": 0.6
         },
         "mode": "lines",
         "name": "HMA",
         "showlegend": false,
         "type": "scatter",
         "x": [
          "2025-08-07T14:00:00-04:00",
          "2025-08-07T14:05:00-04:00"
         ],
         "xaxis": "x",
         "y": {
          "bdata": "79jhukuyuEDOJOY5BbO4QA==",
          "dtype": "f8"
         },
         "yaxis": "y"
        },
        {
         "line": {
          "color": "#FF66FE",
          "width": 0.6
         },
         "mode": "lines",
         "name": "HMA",
         "showlegend": false,
         "type": "scatter",
         "x": [
          "2025-08-07T14:05:00-04:00",
          "2025-08-07T14:10:00-04:00"
         ],
         "xaxis": "x",
         "y": {
          "bdata": "ziTmOQWzuEB6pApizLK4QA==",
          "dtype": "f8"
         },
         "yaxis": "y"
        },
        {
         "line": {
          "color": "#FF66FE",
          "width": 0.6
         },
         "mode": "lines",
         "name": "HMA",
         "showlegend": false,
         "type": "scatter",
         "x": [
          "2025-08-07T14:10:00-04:00",
          "2025-08-07T14:15:00-04:00"
         ],
         "xaxis": "x",
         "y": {
          "bdata": "eqQKYsyyuEC6IB+7WrG4QA==",
          "dtype": "f8"
         },
         "yaxis": "y"
        },
        {
         "line": {
          "color": "#FF66FE",
          "width": 0.6
         },
         "mode": "lines",
         "name": "HMA",
         "showlegend": false,
         "type": "scatter",
         "x": [
          "2025-08-07T14:15:00-04:00",
          "2025-08-07T14:20:00-04:00"
         ],
         "xaxis": "x",
         "y": {
          "bdata": "uiAfu1qxuEBGegqtPa+4QA==",
          "dtype": "f8"
         },
         "yaxis": "y"
        },
        {
         "line": {
          "color": "#FF66FE",
          "width": 0.6
         },
         "mode": "lines",
         "name": "HMA",
         "showlegend": false,
         "type": "scatter",
         "x": [
          "2025-08-07T14:20:00-04:00",
          "2025-08-07T14:25:00-04:00"
         ],
         "xaxis": "x",
         "y": {
          "bdata": "RnoKrT2vuECNWn/Xla24QA==",
          "dtype": "f8"
         },
         "yaxis": "y"
        },
        {
         "line": {
          "color": "#FF66FE",
          "width": 0.6
         },
         "mode": "lines",
         "name": "HMA",
         "showlegend": false,
         "type": "scatter",
         "x": [
          "2025-08-07T14:25:00-04:00",
          "2025-08-07T14:30:00-04:00"
         ],
         "xaxis": "x",
         "y": {
          "bdata": "jVp/15WtuEDzN87sXqy4QA==",
          "dtype": "f8"
         },
         "yaxis": "y"
        },
        {
         "line": {
          "color": "#FF66FE",
          "width": 0.6
         },
         "mode": "lines",
         "name": "HMA",
         "showlegend": false,
         "type": "scatter",
         "x": [
          "2025-08-07T14:30:00-04:00",
          "2025-08-07T14:35:00-04:00"
         ],
         "xaxis": "x",
         "y": {
          "bdata": "8zfO7F6suED3OWlQ3au4QA==",
          "dtype": "f8"
         },
         "yaxis": "y"
        },
        {
         "line": {
          "color": "#FF66FE",
          "width": 0.6
         },
         "mode": "lines",
         "name": "HMA",
         "showlegend": false,
         "type": "scatter",
         "x": [
          "2025-08-07T14:35:00-04:00",
          "2025-08-07T14:40:00-04:00"
         ],
         "xaxis": "x",
         "y": {
          "bdata": "9zlpUN2ruEDc0ivzRKu4QA==",
          "dtype": "f8"
         },
         "yaxis": "y"
        },
        {
         "line": {
          "color": "#FF66FE",
          "width": 0.6
         },
         "mode": "lines",
         "name": "HMA",
         "showlegend": false,
         "type": "scatter",
         "x": [
          "2025-08-07T14:40:00-04:00",
          "2025-08-07T14:45:00-04:00"
         ],
         "xaxis": "x",
         "y": {
          "bdata": "3NIr80SruEALl06SEKu4QA==",
          "dtype": "f8"
         },
         "yaxis": "y"
        },
        {
         "line": {
          "color": "#01FFFF",
          "width": 0.6
         },
         "mode": "lines",
         "name": "HMA",
         "showlegend": false,
         "type": "scatter",
         "x": [
          "2025-08-07T14:45:00-04:00",
          "2025-08-07T14:50:00-04:00"
         ],
         "xaxis": "x",
         "y": {
          "bdata": "C5dOkhCruECGAHaNq6u4QA==",
          "dtype": "f8"
         },
         "yaxis": "y"
        },
        {
         "line": {
          "color": "#01FFFF",
          "width": 0.6
         },
         "mode": "lines",
         "name": "HMA",
         "showlegend": false,
         "type": "scatter",
         "x": [
          "2025-08-07T14:50:00-04:00",
          "2025-08-07T14:55:00-04:00"
         ],
         "xaxis": "x",
         "y": {
          "bdata": "hgB2jauruEANJonLC624QA==",
          "dtype": "f8"
         },
         "yaxis": "y"
        },
        {
         "line": {
          "color": "#01FFFF",
          "width": 0.6
         },
         "mode": "lines",
         "name": "HMA",
         "showlegend": false,
         "type": "scatter",
         "x": [
          "2025-08-07T14:55:00-04:00",
          "2025-08-07T15:00:00-04:00"
         ],
         "xaxis": "x",
         "y": {
          "bdata": "DSaJywutuEA+gJ1x4664QA==",
          "dtype": "f8"
         },
         "yaxis": "y"
        },
        {
         "line": {
          "color": "#01FFFF",
          "width": 0.6
         },
         "mode": "lines",
         "name": "HMA",
         "showlegend": false,
         "type": "scatter",
         "x": [
          "2025-08-07T15:00:00-04:00",
          "2025-08-07T15:05:00-04:00"
         ],
         "xaxis": "x",
         "y": {
          "bdata": "PoCdceOuuEApoylqwLC4QA==",
          "dtype": "f8"
         },
         "yaxis": "y"
        },
        {
         "line": {
          "color": "#01FFFF",
          "width": 0.6
         },
         "mode": "lines",
         "name": "HMA",
         "showlegend": false,
         "type": "scatter",
         "x": [
          "2025-08-07T15:05:00-04:00",
          "2025-08-07T15:10:00-04:00"
         ],
         "xaxis": "x",
         "y": {
          "bdata": "KaMpasCwuECw9ZV8FrK4QA==",
          "dtype": "f8"
         },
         "yaxis": "y"
        },
        {
         "line": {
          "color": "#01FFFF",
          "width": 0.6
         },
         "mode": "lines",
         "name": "HMA",
         "showlegend": false,
         "type": "scatter",
         "x": [
          "2025-08-07T15:10:00-04:00",
          "2025-08-07T15:15:00-04:00"
         ],
         "xaxis": "x",
         "y": {
          "bdata": "sPWVfBayuEBsJX423LK4QA==",
          "dtype": "f8"
         },
         "yaxis": "y"
        },
        {
         "line": {
          "color": "#01FFFF",
          "width": 0.6
         },
         "mode": "lines",
         "name": "HMA",
         "showlegend": false,
         "type": "scatter",
         "x": [
          "2025-08-07T15:15:00-04:00",
          "2025-08-07T15:20:00-04:00"
         ],
         "xaxis": "x",
         "y": {
          "bdata": "bCV+NtyyuEDhU90tarO4QA==",
          "dtype": "f8"
         },
         "yaxis": "y"
        },
        {
         "line": {
          "color": "#01FFFF",
          "width": 0.6
         },
         "mode": "lines",
         "name": "HMA",
         "showlegend": false,
         "type": "scatter",
         "x": [
          "2025-08-07T15:20:00-04:00",
          "2025-08-07T15:25:00-04:00"
         ],
         "xaxis": "x",
         "y": {
          "bdata": "4VPdLWqzuED7kJler7O4QA==",
          "dtype": "f8"
         },
         "yaxis": "y"
        },
        {
         "line": {
          "color": "#01FFFF",
          "width": 0.6
         },
         "mode": "lines",
         "name": "HMA",
         "showlegend": false,
         "type": "scatter",
         "x": [
          "2025-08-07T15:25:00-04:00",
          "2025-08-07T15:30:00-04:00"
         ],
         "xaxis": "x",
         "y": {
          "bdata": "+5CZXq+zuECVJ3dHQLS4QA==",
          "dtype": "f8"
         },
         "yaxis": "y"
        },
        {
         "line": {
          "color": "#01FFFF",
          "width": 0.6
         },
         "mode": "lines",
         "name": "HMA",
         "showlegend": false,
         "type": "scatter",
         "x": [
          "2025-08-07T15:30:00-04:00",
          "2025-08-07T15:35:00-04:00"
         ],
         "xaxis": "x",
         "y": {
          "bdata": "lSd3R0C0uEDrdTJa1LS4QA==",
          "dtype": "f8"
         },
         "yaxis": "y"
        },
        {
         "line": {
          "color": "#01FFFF",
          "width": 0.6
         },
         "mode": "lines",
         "name": "HMA",
         "showlegend": false,
         "type": "scatter",
         "x": [
          "2025-08-07T15:35:00-04:00",
          "2025-08-07T15:40:00-04:00"
         ],
         "xaxis": "x",
         "y": {
          "bdata": "63UyWtS0uEDqz1YH87W4QA==",
          "dtype": "f8"
         },
         "yaxis": "y"
        },
        {
         "line": {
          "color": "#01FFFF",
          "width": 0.6
         },
         "mode": "lines",
         "name": "HMA",
         "showlegend": false,
         "type": "scatter",
         "x": [
          "2025-08-07T15:40:00-04:00",
          "2025-08-07T15:45:00-04:00"
         ],
         "xaxis": "x",
         "y": {
          "bdata": "6s9WB/O1uECFCyfkbre4QA==",
          "dtype": "f8"
         },
         "yaxis": "y"
        },
        {
         "line": {
          "color": "#01FFFF",
          "width": 0.6
         },
         "mode": "lines",
         "name": "HMA",
         "showlegend": false,
         "type": "scatter",
         "x": [
          "2025-08-07T15:45:00-04:00",
          "2025-08-07T15:50:00-04:00"
         ],
         "xaxis": "x",
         "y": {
          "bdata": "hQsn5G63uEBqOfGatri4QA==",
          "dtype": "f8"
         },
         "yaxis": "y"
        },
        {
         "line": {
          "color": "#01FFFF",
          "width": 0.6
         },
         "mode": "lines",
         "name": "HMA",
         "showlegend": false,
         "type": "scatter",
         "x": [
          "2025-08-07T15:50:00-04:00",
          "2025-08-07T15:55:00-04:00"
         ],
         "xaxis": "x",
         "y": {
          "bdata": "ajnxmra4uEBdkbE+Bbu4QA==",
          "dtype": "f8"
         },
         "yaxis": "y"
        },
        {
         "line": {
          "color": "#01FFFF",
          "width": 1
         },
         "mode": "lines",
         "name": "MACD (Value)",
         "showlegend": false,
         "type": "scatter",
         "x": [
          "2025-08-07T09:00:00.000000000",
          "2025-08-07T09:05:00.000000000",
          "2025-08-07T09:10:00.000000000",
          "2025-08-07T09:15:00.000000000",
          "2025-08-07T09:20:00.000000000",
          "2025-08-07T09:25:00.000000000",
          "2025-08-07T09:30:00.000000000",
          "2025-08-07T09:35:00.000000000",
          "2025-08-07T09:40:00.000000000",
          "2025-08-07T09:45:00.000000000",
          "2025-08-07T09:50:00.000000000",
          "2025-08-07T09:55:00.000000000",
          "2025-08-07T10:00:00.000000000",
          "2025-08-07T10:05:00.000000000",
          "2025-08-07T10:10:00.000000000",
          "2025-08-07T10:15:00.000000000",
          "2025-08-07T10:20:00.000000000",
          "2025-08-07T10:25:00.000000000",
          "2025-08-07T10:30:00.000000000",
          "2025-08-07T10:35:00.000000000",
          "2025-08-07T10:40:00.000000000",
          "2025-08-07T10:45:00.000000000",
          "2025-08-07T10:50:00.000000000",
          "2025-08-07T10:55:00.000000000",
          "2025-08-07T11:00:00.000000000",
          "2025-08-07T11:05:00.000000000",
          "2025-08-07T11:10:00.000000000",
          "2025-08-07T11:15:00.000000000",
          "2025-08-07T11:20:00.000000000",
          "2025-08-07T11:25:00.000000000",
          "2025-08-07T11:30:00.000000000",
          "2025-08-07T11:35:00.000000000",
          "2025-08-07T11:40:00.000000000",
          "2025-08-07T11:45:00.000000000",
          "2025-08-07T11:50:00.000000000",
          "2025-08-07T11:55:00.000000000",
          "2025-08-07T12:00:00.000000000",
          "2025-08-07T12:05:00.000000000",
          "2025-08-07T12:10:00.000000000",
          "2025-08-07T12:15:00.000000000",
          "2025-08-07T12:20:00.000000000",
          "2025-08-07T12:25:00.000000000",
          "2025-08-07T12:30:00.000000000",
          "2025-08-07T12:35:00.000000000",
          "2025-08-07T12:40:00.000000000",
          "2025-08-07T12:45:00.000000000",
          "2025-08-07T12:50:00.000000000",
          "2025-08-07T12:55:00.000000000",
          "2025-08-07T13:00:00.000000000",
          "2025-08-07T13:05:00.000000000",
          "2025-08-07T13:10:00.000000000",
          "2025-08-07T13:15:00.000000000",
          "2025-08-07T13:20:00.000000000",
          "2025-08-07T13:25:00.000000000",
          "2025-08-07T13:30:00.000000000",
          "2025-08-07T13:35:00.000000000",
          "2025-08-07T13:40:00.000000000",
          "2025-08-07T13:45:00.000000000",
          "2025-08-07T13:50:00.000000000",
          "2025-08-07T13:55:00.000000000",
          "2025-08-07T14:00:00.000000000",
          "2025-08-07T14:05:00.000000000",
          "2025-08-07T14:10:00.000000000",
          "2025-08-07T14:15:00.000000000",
          "2025-08-07T14:20:00.000000000",
          "2025-08-07T14:25:00.000000000",
          "2025-08-07T14:30:00.000000000",
          "2025-08-07T14:35:00.000000000",
          "2025-08-07T14:40:00.000000000",
          "2025-08-07T14:45:00.000000000",
          "2025-08-07T14:50:00.000000000",
          "2025-08-07T14:55:00.000000000",
          "2025-08-07T15:00:00.000000000",
          "2025-08-07T15:05:00.000000000",
          "2025-08-07T15:10:00.000000000",
          "2025-08-07T15:15:00.000000000",
          "2025-08-07T15:20:00.000000000",
          "2025-08-07T15:25:00.000000000",
          "2025-08-07T15:30:00.000000000",
          "2025-08-07T15:35:00.000000000",
          "2025-08-07T15:40:00.000000000",
          "2025-08-07T15:45:00.000000000",
          "2025-08-07T15:50:00.000000000",
          "2025-08-07T15:55:00.000000000"
         ],
         "xaxis": "x2",
         "y": {
          "bdata": "AAAAAAAAAAAAAAAAAAAAAAAAAAAAAAAAAAAAAAAAAAAAAAAAAAAAAAAAAAAAAAAAAIhP1kILCkAAyP5k8zQXQABcVuF0pB1AAJbYjYs4IEAANDyjwUghQAAQbaccACNAAORQ5CM6I0AAKGdUg78hQAAgq4+kph9AAORroghAG0AAZER8yJkUQAC4DdP4IRBAAMimlxGpCEAAuMr73ZEDQACg+8pFSgBAAGAa7YIK9j8AAOLU6gnXPwDARnAdEOa/AJD2rMsS+78AOIxA8K0DwABg1bXH+AnAAHAGPIjuC8AAMKE3vUoLwAAEkElnThDAAPDcZrKZEsAAJE+/XsUTwAAYdmag+xTAAMTzBfj0FsAAaHXZZPwVwAAoVY9ooxXAADiDJxSiFcAA4IfpfvsVwAB8z66c/xPAAMR6xAaSEsAAgIb10OYPwABoQMpw0QzAAFCOdeKXCMAAkI5scOAIwABwWqDFrxDAAKS1GsMHE8AAfFbsXnERwAD8acdKtBHAAGhRrRU5E8AA/PPQbvgTwABghamgORXAAAhX/IbeFsAAsJj0PQ4WwAB4BQ4M4RfAAKy+WG6WGcAAoN4+nZoZwABEhZpxgBjAANzG6sf1FsAApKaeeKwUwAC0ZarKzBLAACCH8N8REcAA9Kq1VYARwAAQ8JzrtxLAABARWWx2FcAAvNPyAS4XwAAM2URYPxbAAGjEENVyFcAAuIc7Mb0TwAC4QC/HzxPAAOB3tjBKEsAAqEaoPUAPwABAbjPY1gnAAJDQ4+uVBcAAcNKo0DICwAB4EaMG0wDAAGCfy+1Q/78A0DQyZd/6vwAQchJUl/i/ALBOQ6Yp8b8AAJ0vju3nvwAAAK24Mjc/ACDrICJt5D8AgMfOUf3sPwBgFgurUABA",
          "dtype": "f8"
         },
         "yaxis": "y2"
        },
        {
         "line": {
          "color": "#F8E9A6",
          "width": 1
         },
         "mode": "lines",
         "name": "Signal (avg)",
         "showlegend": false,
         "type": "scatter",
         "x": [
          "2025-08-07T09:00:00.000000000",
          "2025-08-07T09:05:00.000000000",
          "2025-08-07T09:10:00.000000000",
          "2025-08-07T09:15:00.000000000",
          "2025-08-07T09:20:00.000000000",
          "2025-08-07T09:25:00.000000000",
          "2025-08-07T09:30:00.000000000",
          "2025-08-07T09:35:00.000000000",
          "2025-08-07T09:40:00.000000000",
          "2025-08-07T09:45:00.000000000",
          "2025-08-07T09:50:00.000000000",
          "2025-08-07T09:55:00.000000000",
          "2025-08-07T10:00:00.000000000",
          "2025-08-07T10:05:00.000000000",
          "2025-08-07T10:10:00.000000000",
          "2025-08-07T10:15:00.000000000",
          "2025-08-07T10:20:00.000000000",
          "2025-08-07T10:25:00.000000000",
          "2025-08-07T10:30:00.000000000",
          "2025-08-07T10:35:00.000000000",
          "2025-08-07T10:40:00.000000000",
          "2025-08-07T10:45:00.000000000",
          "2025-08-07T10:50:00.000000000",
          "2025-08-07T10:55:00.000000000",
          "2025-08-07T11:00:00.000000000",
          "2025-08-07T11:05:00.000000000",
          "2025-08-07T11:10:00.000000000",
          "2025-08-07T11:15:00.000000000",
          "2025-08-07T11:20:00.000000000",
          "2025-08-07T11:25:00.000000000",
          "2025-08-07T11:30:00.000000000",
          "2025-08-07T11:35:00.000000000",
          "2025-08-07T11:40:00.000000000",
          "2025-08-07T11:45:00.000000000",
          "2025-08-07T11:50:00.000000000",
          "2025-08-07T11:55:00.000000000",
          "2025-08-07T12:00:00.000000000",
          "2025-08-07T12:05:00.000000000",
          "2025-08-07T12:10:00.000000000",
          "2025-08-07T12:15:00.000000000",
          "2025-08-07T12:20:00.000000000",
          "2025-08-07T12:25:00.000000000",
          "2025-08-07T12:30:00.000000000",
          "2025-08-07T12:35:00.000000000",
          "2025-08-07T12:40:00.000000000",
          "2025-08-07T12:45:00.000000000",
          "2025-08-07T12:50:00.000000000",
          "2025-08-07T12:55:00.000000000",
          "2025-08-07T13:00:00.000000000",
          "2025-08-07T13:05:00.000000000",
          "2025-08-07T13:10:00.000000000",
          "2025-08-07T13:15:00.000000000",
          "2025-08-07T13:20:00.000000000",
          "2025-08-07T13:25:00.000000000",
          "2025-08-07T13:30:00.000000000",
          "2025-08-07T13:35:00.000000000",
          "2025-08-07T13:40:00.000000000",
          "2025-08-07T13:45:00.000000000",
          "2025-08-07T13:50:00.000000000",
          "2025-08-07T13:55:00.000000000",
          "2025-08-07T14:00:00.000000000",
          "2025-08-07T14:05:00.000000000",
          "2025-08-07T14:10:00.000000000",
          "2025-08-07T14:15:00.000000000",
          "2025-08-07T14:20:00.000000000",
          "2025-08-07T14:25:00.000000000",
          "2025-08-07T14:30:00.000000000",
          "2025-08-07T14:35:00.000000000",
          "2025-08-07T14:40:00.000000000",
          "2025-08-07T14:45:00.000000000",
          "2025-08-07T14:50:00.000000000",
          "2025-08-07T14:55:00.000000000",
          "2025-08-07T15:00:00.000000000",
          "2025-08-07T15:05:00.000000000",
          "2025-08-07T15:10:00.000000000",
          "2025-08-07T15:15:00.000000000",
          "2025-08-07T15:20:00.000000000",
          "2025-08-07T15:25:00.000000000",
          "2025-08-07T15:30:00.000000000",
          "2025-08-07T15:35:00.000000000",
          "2025-08-07T15:40:00.000000000",
          "2025-08-07T15:45:00.000000000",
          "2025-08-07T15:50:00.000000000",
          "2025-08-07T15:55:00.000000000"
         ],
         "xaxis": "x2",
         "y": {
          "bdata": "AAAAAAAAAAAAAAAAAAAAAAAAAAAAAAAAAAAAAAAAAAAAAAAAAAAAAAAAAAAAAAAAmjnZEc/V5D8+6lW+SOb6P7O1EXPlnQZAwm+7APQRD0Ab2y/be1cTQOPoUfLUEhdAT+JhUFImGkDakXfI3AQcQOJH6InRvhxAgs019UJyHEA1hQXdkOAaQJHCoHRyuhhA2+KqH6o/FkB8YYOyhMETQJd3tbwKbxFAJvykRR4ZDkC5CXDjiqcIQGGx7wnUngJAaGWBIMRg+D/a214A4ELnP/iA9iL+WLG/gGa3ZoYU6L/O1YlygYz0v3LhR2Pte/2/LroOhNk7A8AlcCu2oEsHwB4whYeNBwvAGKhlCG7ODsBwvtkuQLgQwCdt8g4VtBHAUy/cE0h9EsAQuTHYHzATwHRGUTafWRPAw5JZ7LMxE8Cc6KHVpIsSwH3EVPLbtxHAMaVrmkaiEMCCi5XZ7ZYPwM8Cz4dA8g/AIFWqO6eVEMDmXGbFmMEQwLh8zcUi8hDA+t7nwLlmEcD8F7ddROoRwGMmrTm9kxLA6bloLX9vE8BUHj9VpfUTwKqWM3pTvhTAVQHp2Vi2FcDe7ea6mX0WwBj/bLSR5BbAFPh+8gLoFsCqTe0UtHUWwO8u0jJSuhXAjMVc8tTLFMA9NTnmISMUwDGUKnF92hPA9KxYbOAsFMDDfKTts8YUwDZmFf8HEhXALADSNWQlFcDwJMMDWt0UwMCoQtlvpxTAzbOzOGMuFMAKB8pXIkUTwG5y+eT9/xHAiwP2TfyOEMCrtbPRIyIOwIrcLJW3eAvAb6CA2N0bCcDzYZ+YO8YGwI/pihW4rQTApv/2F1dCAsCksuf3f5v/v7fL0PDoSPm/YLnCI2ov8r+aqA9DZkznv+yB6n+9WMa/",
          "dtype": "f8"
         },
         "yaxis": "y2"
        },
        {
         "marker": {
          "color": [
           "#FE0000",
           "#7E0100",
           "#7E0100",
           "#7E0100",
           "#7E0100",
           "#7E0100",
           "#04FE00",
           "#04FE00",
           "#04FE00",
           "#006401",
           "#006401",
           "#006401",
           "#006401",
           "#006401",
           "#006401",
           "#FE0000",
           "#FE0000",
           "#FE0000",
           "#FE0000",
           "#FE0000",
           "#7E0100",
           "#FE0000",
           "#FE0000",
           "#FE0000",
           "#FE0000",
           "#7E0100",
           "#7E0100",
           "#7E0100",
           "#7E0100",
           "#FE0000",
           "#FE0000",
           "#7E0100",
           "#7E0100",
           "#FE0000",
           "#7E0100",
           "#7E0100",
           "#7E0100",
           "#7E0100",
           "#7E0100",
           "#04FE00",
           "#04FE00",
           "#04FE00",
           "#04FE00",
           "#006401",
           "#FE0000",
           "#FE0000",
           "#7E0100",
           "#FE0000",
           "#FE0000",
           "#FE0000",
           "#FE0000",
           "#FE0000",
           "#7E0100",
           "#FE0000",
           "#FE0000",
           "#7E0100",
           "#7E0100",
           "#7E0100",
           "#04FE00",
           "#04FE00",
           "#04FE00",
           "#006401",
           "#006401",
           "#FE0000",
           "#FE0000",
           "#7E0100",
           "#7E0100",
           "#04FE00",
           "#006401",
           "#04FE00",
           "#04FE00",
           "#04FE00",
           "#04FE00",
           "#04FE00",
           "#006401",
           "#006401",
           "#006401",
           "#006401",
           "#04FE00",
           "#04FE00",
           "#04FE00",
           "#04FE00",
           "#006401",
           "#04FE00"
          ]
         },
         "name": "Histogram (diff)",
         "showlegend": false,
         "type": "bar",
         "x": [
          "2025-08-07T09:00:00.000000000",
          "2025-08-07T09:05:00.000000000",
          "2025-08-07T09:10:00.000000000",
          "2025-08-07T09:15:00.000000000",
          "2025-08-07T09:20:00.000000000",
          "2025-08-07T09:25:00.000000000",
          "2025-08-07T09:30:00.000000000",
          "2025-08-07T09:35:00.000000000",
          "2025-08-07T09:40:00.000000000",
          "2025-08-07T09:45:00.000000000",
          "2025-08-07T09:50:00.000000000",
          "2025-08-07T09:55:00.000000000",
          "2025-08-07T10:00:00.000000000",
          "2025-08-07T10:05:00.000000000",
          "2025-08-07T10:10:00.000000000",
          "2025-08-07T10:15:00.000000000",
          "2025-08-07T10:20:00.000000000",
          "2025-08-07T10:25:00.000000000",
          "2025-08-07T10:30:00.000000000",
          "2025-08-07T10:35:00.000000000",
          "2025-08-07T10:40:00.000000000",
          "2025-08-07T10:45:00.000000000",
          "2025-08-07T10:50:00.000000000",
          "2025-08-07T10:55:00.000000000",
          "2025-08-07T11:00:00.000000000",
          "2025-08-07T11:05:00.000000000",
          "2025-08-07T11:10:00.000000000",
          "2025-08-07T11:15:00.000000000",
          "2025-08-07T11:20:00.000000000",
          "2025-08-07T11:25:00.000000000",
          "2025-08-07T11:30:00.000000000",
          "2025-08-07T11:35:00.000000000",
          "2025-08-07T11:40:00.000000000",
          "2025-08-07T11:45:00.000000000",
          "2025-08-07T11:50:00.000000000",
          "2025-08-07T11:55:00.000000000",
          "2025-08-07T12:00:00.000000000",
          "2025-08-07T12:05:00.000000000",
          "2025-08-07T12:10:00.000000000",
          "2025-08-07T12:15:00.000000000",
          "2025-08-07T12:20:00.000000000",
          "2025-08-07T12:25:00.000000000",
          "2025-08-07T12:30:00.000000000",
          "2025-08-07T12:35:00.000000000",
          "2025-08-07T12:40:00.000000000",
          "2025-08-07T12:45:00.000000000",
          "2025-08-07T12:50:00.000000000",
          "2025-08-07T12:55:00.000000000",
          "2025-08-07T13:00:00.000000000",
          "2025-08-07T13:05:00.000000000",
          "2025-08-07T13:10:00.000000000",
          "2025-08-07T13:15:00.000000000",
          "2025-08-07T13:20:00.000000000",
          "2025-08-07T13:25:00.000000000",
          "2025-08-07T13:30:00.000000000",
          "2025-08-07T13:35:00.000000000",
          "2025-08-07T13:40:00.000000000",
          "2025-08-07T13:45:00.000000000",
          "2025-08-07T13:50:00.000000000",
          "2025-08-07T13:55:00.000000000",
          "2025-08-07T14:00:00.000000000",
          "2025-08-07T14:05:00.000000000",
          "2025-08-07T14:10:00.000000000",
          "2025-08-07T14:15:00.000000000",
          "2025-08-07T14:20:00.000000000",
          "2025-08-07T14:25:00.000000000",
          "2025-08-07T14:30:00.000000000",
          "2025-08-07T14:35:00.000000000",
          "2025-08-07T14:40:00.000000000",
          "2025-08-07T14:45:00.000000000",
          "2025-08-07T14:50:00.000000000",
          "2025-08-07T14:55:00.000000000",
          "2025-08-07T15:00:00.000000000",
          "2025-08-07T15:05:00.000000000",
          "2025-08-07T15:10:00.000000000",
          "2025-08-07T15:15:00.000000000",
          "2025-08-07T15:20:00.000000000",
          "2025-08-07T15:25:00.000000000",
          "2025-08-07T15:30:00.000000000",
          "2025-08-07T15:35:00.000000000",
          "2025-08-07T15:40:00.000000000",
          "2025-08-07T15:45:00.000000000",
          "2025-08-07T15:50:00.000000000",
          "2025-08-07T15:55:00.000000000"
         ],
         "xaxis": "x2",
         "y": {
          "bdata": "AAAAAAAAAAAAAAAAAAAAAAAAAAAAAAAAAAAAAAAAAAAAAAAAAAAAAAAAAAAAAAAAmjnZEc/VBEBwTWk1YXsQQCaBzSeCVRJAH3RTGx3oEEDKGZHWDnQOQDpuELnI2g1AYst/8OqbCECY+FqBp+j9P/DAFi6YPuc/IJieLKUj07/UhASDIRv5vyIVJkPzMAHAtv2up0LWA8D4CjxpK/EDwC5Pb67PkwLAJswXz9wTA8C5ydOITcYFwGFhAWbbIgjAtPq75se5CcD27qNAqH4JwPirvcT/bQnAYJZYombpBcAZRVx+fAQBwEcXfOHX3gHA0iWrSYv3AcDb13LIHD8AwMT/zYpm3/2/0L8DBwQ3/r9Apm6qkhD1v8jWFQOceu+/aEU4nWAm6b+AN7GK+Frmv4Cxxg+vv8S/YNjZ+6T1wz/gRPXW4sHkP+iDpGkceeo/xPSRflVZ8T8I7hu09dnqPxDTXY6r1Ma/AHda+N6Q479A4wPexPjFvwDpjzMARci/YJCYxr4l3b8gIOeZU3Hgv+jMwX4bL+W/uHBydz54679gjcz6xMTgv7AKj57EFem/WFWt9qsA778Qkb0fHOjov4BOhGH+vdm/ANjHj/CJi7+gmmpkt5PcP3jXY0M8bOc/YCytDqjP7T/oCXKEYRblPxBDqEMdKdI/wDCGy76Y1L/o+XkpcDrjv6BcOlwE1dK/APWZvDZcs78Az7aDjALSPwAYPkAV9co/0Dy9IyhD3j9QmDUdHCjtP7hJCS1HUvQ/LO42cBkQ9z9Wi8JRpt73PxTJNuRhS/U/3uBh5c3m8j/m8wn/Ea3yPx7DoxgcxPA/TE+f7Adb8z+kMhnguKTzP7ebWxxcSvk/YEk4NPtl/D9NlOsI3CT6Px8IFeM2tgFA",
          "dtype": "f8"
         },
         "yaxis": "y2"
        }
       ],
       "layout": {
        "annotations": [
         {
          "bgcolor": "rgba(25,25,25,0.7)",
          "bordercolor": "#FF66FE",
          "borderpad": 4,
          "borderwidth": 1,
          "font": {
           "color": "#FF66FE",
           "family": "Arial, sans-serif",
           "size": 10.5
          },
          "showarrow": false,
          "text": "prior close",
          "x": "2025-08-07T09:00:00-04:00",
          "xanchor": "left",
          "xref": "x",
          "y": 6345.06,
          "yanchor": "bottom",
          "yref": "y"
         },
         {
          "bgcolor": "rgba(25,25,25,0.7)",
          "bordercolor": "#4CAF50",
          "borderpad": 4,
          "borderwidth": 1,
          "font": {
           "color": "#4CAF50",
           "family": "Arial, sans-serif",
           "size": 10.5
          },
          "showarrow": false,
          "text": "prior high",
          "x": "2025-08-07T09:00:00-04:00",
          "xanchor": "left",
          "xref": "x",
          "y": 6352.83,
          "yanchor": "bottom",
          "yref": "y"
         },
         {
          "bgcolor": "rgba(25,25,25,0.7)",
          "bordercolor": "#F44336",
          "borderpad": 4,
          "borderwidth": 1,
          "font": {
           "color": "#F44336",
           "family": "Arial, sans-serif",
           "size": 10.5
          },
          "showarrow": false,
          "text": "prior low",
          "x": "2025-08-07T09:00:00-04:00",
          "xanchor": "left",
          "xref": "x",
          "y": 6301.11,
          "yanchor": "bottom",
          "yref": "y"
         },
         {
          "align": "center",
          "bgcolor": "rgba(25,25,25,0.8)",
          "bordercolor": "#555555",
          "borderpad": 6,
          "borderwidth": 1,
          "font": {
           "color": "#555555",
           "family": "Arial, sans-serif",
           "size": 11
          },
          "showarrow": false,
          "text": "Open",
          "textangle": 0,
          "x": "2025-08-07T14:30:00-04:00",
          "xanchor": "center",
          "xref": "x",
          "y": 6398.57,
          "yanchor": "bottom",
          "yref": "y"
         }
        ],
        "height": 800,
        "margin": {
         "b": 10,
         "l": 30,
         "r": 5,
         "t": 50
        },
        "paper_bgcolor": "rgb(25,25,25)",
        "plot_bgcolor": "rgb(25,25,25)",
        "shapes": [
         {
          "line": {
           "color": "gray",
           "dash": "dot",
           "width": 1
          },
          "type": "line",
          "x0": "2025-08-07T09:00:00-04:00",
          "x1": "2025-08-07T16:15:00-04:00",
          "xref": "x2",
          "y0": 0,
          "y1": 0,
          "yref": "y2"
         },
         {
          "line": {
           "color": "#FF66FE",
           "dash": "dot",
           "width": 1
          },
          "opacity": 0.45,
          "type": "line",
          "x0": "2025-08-07T09:00:00-04:00",
          "x1": "2025-08-07T16:00:00-04:00",
          "xref": "x",
          "y0": 6345.06,
          "y1": 6345.06,
          "yref": "y"
         },
         {
          "line": {
           "color": "#4CAF50",
           "dash": "dot",
           "width": 1
          },
          "opacity": 0.45,
          "type": "line",
          "x0": "2025-08-07T09:00:00-04:00",
          "x1": "2025-08-07T16:00:00-04:00",
          "xref": "x",
          "y0": 6352.83,
          "y1": 6352.83,
          "yref": "y"
         },
         {
          "line": {
           "color": "#F44336",
           "dash": "dot",
           "width": 1
          },
          "opacity": 0.45,
          "type": "line",
          "x0": "2025-08-07T09:00:00-04:00",
          "x1": "2025-08-07T16:00:00-04:00",
          "xref": "x",
          "y0": 6301.11,
          "y1": 6301.11,
          "yref": "y"
         },
         {
          "line": {
           "color": "#4CAF50",
           "dash": "solid",
           "width": 1
          },
          "opacity": 0.75,
          "type": "line",
          "x0": "2025-08-07T09:30:00-04:00",
          "x1": "2025-08-07T16:00:00-04:00",
          "xref": "x",
          "y0": 6388.02,
          "y1": 6388.02,
          "yref": "y"
         },
         {
          "line": {
           "color": "#4CAF50",
           "dash": "solid",
           "width": 1
          },
          "opacity": 0.75,
          "type": "line",
          "x0": "2025-08-07T09:30:00-04:00",
          "x1": "2025-08-07T16:00:00-04:00",
          "xref": "x",
          "y0": 6374.32,
          "y1": 6374.32,
          "yref": "y"
         },
         {
          "line": {
           "color": "#4CAF50",
           "dash": "solid",
           "width": 1
          },
          "opacity": 0.45,
          "type": "line",
          "x0": "2025-08-07T09:45:00-04:00",
          "x1": "2025-08-07T16:00:00-04:00",
          "xref": "x",
          "y0": 6389.71,
          "y1": 6389.71,
          "yref": "y"
         },
         {
          "line": {
           "color": "#4CAF50",
           "dash": "solid",
           "width": 1
          },
          "opacity": 0,
          "type": "line",
          "x0": "2025-08-07T09:45:00-04:00",
          "x1": "2025-08-07T16:00:00-04:00",
          "xref": "x",
          "y0": 6374.32,
          "y1": 6374.32,
          "yref": "y"
         },
         {
          "line": {
           "color": "#4CAF50",
           "dash": "dot",
           "width": 1
          },
          "opacity": 0,
          "type": "line",
          "x0": "2025-08-07T10:00:00-04:00",
          "x1": "2025-08-07T16:00:00-04:00",
          "xref": "x",
          "y0": 6389.71,
          "y1": 6389.71,
          "yref": "y"
         },
         {
          "line": {
           "color": "#4CAF50",
           "dash": "dot",
           "width": 1
          },
          "opacity": 0.45,
          "type": "line",
          "x0": "2025-08-07T10:00:00-04:00",
          "x1": "2025-08-07T16:00:00-04:00",
          "xref": "x",
          "y0": 6373.34,
          "y1": 6373.34,
          "yref": "y"
         },
         {
          "line": {
           "color": "#4CAF50",
           "dash": "dot",
           "width": 1
          },
          "opacity": 0.45,
          "type": "line",
          "x0": "2025-08-07T10:00:00-04:00",
          "x1": "2025-08-07T16:00:00-04:00",
          "xref": "x",
          "y0": 6373.34,
          "y1": 6373.34,
          "yref": "y"
         },
         {
          "line": {
           "color": "#555555",
           "dash": "dot",
           "width": 1
          },
          "opacity": 0.7,
          "type": "line",
          "x0": "2025-08-07T14:30:00-04:00",
          "x1": "2025-08-07T14:30:00-04:00",
          "xref": "x",
          "y0": 6296.679999999999,
          "y1": 6398.57,
          "yref": "y"
         },
         {
          "line": {
           "color": "#555555",
           "dash": "dot",
           "width": 1
          },
          "opacity": 0.7,
          "type": "line",
          "x0": "2025-08-07T14:30:00-04:00",
          "x1": "2025-08-07T14:30:00-04:00",
          "xref": "x2",
          "y0": -7.681188563161413,
          "y1": 11.536266099786006,
          "yref": "y2"
         }
        ],
        "showlegend": true,
        "template": {
         "data": {
          "bar": [
           {
            "error_x": {
             "color": "#f2f5fa"
            },
            "error_y": {
             "color": "#f2f5fa"
            },
            "marker": {
             "line": {
              "color": "rgb(17,17,17)",
              "width": 0.5
             },
             "pattern": {
              "fillmode": "overlay",
              "size": 10,
              "solidity": 0.2
             }
            },
            "type": "bar"
           }
          ],
          "barpolar": [
           {
            "marker": {
             "line": {
              "color": "rgb(17,17,17)",
              "width": 0.5
             },
             "pattern": {
              "fillmode": "overlay",
              "size": 10,
              "solidity": 0.2
             }
            },
            "type": "barpolar"
           }
          ],
          "carpet": [
           {
            "aaxis": {
             "endlinecolor": "#A2B1C6",
             "gridcolor": "#506784",
             "linecolor": "#506784",
             "minorgridcolor": "#506784",
             "startlinecolor": "#A2B1C6"
            },
            "baxis": {
             "endlinecolor": "#A2B1C6",
             "gridcolor": "#506784",
             "linecolor": "#506784",
             "minorgridcolor": "#506784",
             "startlinecolor": "#A2B1C6"
            },
            "type": "carpet"
           }
          ],
          "choropleth": [
           {
            "colorbar": {
             "outlinewidth": 0,
             "ticks": ""
            },
            "type": "choropleth"
           }
          ],
          "contour": [
           {
            "colorbar": {
             "outlinewidth": 0,
             "ticks": ""
            },
            "colorscale": [
             [
              0,
              "#0d0887"
             ],
             [
              0.1111111111111111,
              "#46039f"
             ],
             [
              0.2222222222222222,
              "#7201a8"
             ],
             [
              0.3333333333333333,
              "#9c179e"
             ],
             [
              0.4444444444444444,
              "#bd3786"
             ],
             [
              0.5555555555555556,
              "#d8576b"
             ],
             [
              0.6666666666666666,
              "#ed7953"
             ],
             [
              0.7777777777777778,
              "#fb9f3a"
             ],
             [
              0.8888888888888888,
              "#fdca26"
             ],
             [
              1,
              "#f0f921"
             ]
            ],
            "type": "contour"
           }
          ],
          "contourcarpet": [
           {
            "colorbar": {
             "outlinewidth": 0,
             "ticks": ""
            },
            "type": "contourcarpet"
           }
          ],
          "heatmap": [
           {
            "colorbar": {
             "outlinewidth": 0,
             "ticks": ""
            },
            "colorscale": [
             [
              0,
              "#0d0887"
             ],
             [
              0.1111111111111111,
              "#46039f"
             ],
             [
              0.2222222222222222,
              "#7201a8"
             ],
             [
              0.3333333333333333,
              "#9c179e"
             ],
             [
              0.4444444444444444,
              "#bd3786"
             ],
             [
              0.5555555555555556,
              "#d8576b"
             ],
             [
              0.6666666666666666,
              "#ed7953"
             ],
             [
              0.7777777777777778,
              "#fb9f3a"
             ],
             [
              0.8888888888888888,
              "#fdca26"
             ],
             [
              1,
              "#f0f921"
             ]
            ],
            "type": "heatmap"
           }
          ],
          "histogram": [
           {
            "marker": {
             "pattern": {
              "fillmode": "overlay",
              "size": 10,
              "solidity": 0.2
             }
            },
            "type": "histogram"
           }
          ],
          "histogram2d": [
           {
            "colorbar": {
             "outlinewidth": 0,
             "ticks": ""
            },
            "colorscale": [
             [
              0,
              "#0d0887"
             ],
             [
              0.1111111111111111,
              "#46039f"
             ],
             [
              0.2222222222222222,
              "#7201a8"
             ],
             [
              0.3333333333333333,
              "#9c179e"
             ],
             [
              0.4444444444444444,
              "#bd3786"
             ],
             [
              0.5555555555555556,
              "#d8576b"
             ],
             [
              0.6666666666666666,
              "#ed7953"
             ],
             [
              0.7777777777777778,
              "#fb9f3a"
             ],
             [
              0.8888888888888888,
              "#fdca26"
             ],
             [
              1,
              "#f0f921"
             ]
            ],
            "type": "histogram2d"
           }
          ],
          "histogram2dcontour": [
           {
            "colorbar": {
             "outlinewidth": 0,
             "ticks": ""
            },
            "colorscale": [
             [
              0,
              "#0d0887"
             ],
             [
              0.1111111111111111,
              "#46039f"
             ],
             [
              0.2222222222222222,
              "#7201a8"
             ],
             [
              0.3333333333333333,
              "#9c179e"
             ],
             [
              0.4444444444444444,
              "#bd3786"
             ],
             [
              0.5555555555555556,
              "#d8576b"
             ],
             [
              0.6666666666666666,
              "#ed7953"
             ],
             [
              0.7777777777777778,
              "#fb9f3a"
             ],
             [
              0.8888888888888888,
              "#fdca26"
             ],
             [
              1,
              "#f0f921"
             ]
            ],
            "type": "histogram2dcontour"
           }
          ],
          "mesh3d": [
           {
            "colorbar": {
             "outlinewidth": 0,
             "ticks": ""
            },
            "type": "mesh3d"
           }
          ],
          "parcoords": [
           {
            "line": {
             "colorbar": {
              "outlinewidth": 0,
              "ticks": ""
             }
            },
            "type": "parcoords"
           }
          ],
          "pie": [
           {
            "automargin": true,
            "type": "pie"
           }
          ],
          "scatter": [
           {
            "marker": {
             "line": {
              "color": "#283442"
             }
            },
            "type": "scatter"
           }
          ],
          "scatter3d": [
           {
            "line": {
             "colorbar": {
              "outlinewidth": 0,
              "ticks": ""
             }
            },
            "marker": {
             "colorbar": {
              "outlinewidth": 0,
              "ticks": ""
             }
            },
            "type": "scatter3d"
           }
          ],
          "scattercarpet": [
           {
            "marker": {
             "colorbar": {
              "outlinewidth": 0,
              "ticks": ""
             }
            },
            "type": "scattercarpet"
           }
          ],
          "scattergeo": [
           {
            "marker": {
             "colorbar": {
              "outlinewidth": 0,
              "ticks": ""
             }
            },
            "type": "scattergeo"
           }
          ],
          "scattergl": [
           {
            "marker": {
             "line": {
              "color": "#283442"
             }
            },
            "type": "scattergl"
           }
          ],
          "scattermap": [
           {
            "marker": {
             "colorbar": {
              "outlinewidth": 0,
              "ticks": ""
             }
            },
            "type": "scattermap"
           }
          ],
          "scattermapbox": [
           {
            "marker": {
             "colorbar": {
              "outlinewidth": 0,
              "ticks": ""
             }
            },
            "type": "scattermapbox"
           }
          ],
          "scatterpolar": [
           {
            "marker": {
             "colorbar": {
              "outlinewidth": 0,
              "ticks": ""
             }
            },
            "type": "scatterpolar"
           }
          ],
          "scatterpolargl": [
           {
            "marker": {
             "colorbar": {
              "outlinewidth": 0,
              "ticks": ""
             }
            },
            "type": "scatterpolargl"
           }
          ],
          "scatterternary": [
           {
            "marker": {
             "colorbar": {
              "outlinewidth": 0,
              "ticks": ""
             }
            },
            "type": "scatterternary"
           }
          ],
          "surface": [
           {
            "colorbar": {
             "outlinewidth": 0,
             "ticks": ""
            },
            "colorscale": [
             [
              0,
              "#0d0887"
             ],
             [
              0.1111111111111111,
              "#46039f"
             ],
             [
              0.2222222222222222,
              "#7201a8"
             ],
             [
              0.3333333333333333,
              "#9c179e"
             ],
             [
              0.4444444444444444,
              "#bd3786"
             ],
             [
              0.5555555555555556,
              "#d8576b"
             ],
             [
              0.6666666666666666,
              "#ed7953"
             ],
             [
              0.7777777777777778,
              "#fb9f3a"
             ],
             [
              0.8888888888888888,
              "#fdca26"
             ],
             [
              1,
              "#f0f921"
             ]
            ],
            "type": "surface"
           }
          ],
          "table": [
           {
            "cells": {
             "fill": {
              "color": "#506784"
             },
             "line": {
              "color": "rgb(17,17,17)"
             }
            },
            "header": {
             "fill": {
              "color": "#2a3f5f"
             },
             "line": {
              "color": "rgb(17,17,17)"
             }
            },
            "type": "table"
           }
          ]
         },
         "layout": {
          "annotationdefaults": {
           "arrowcolor": "#f2f5fa",
           "arrowhead": 0,
           "arrowwidth": 1
          },
          "autotypenumbers": "strict",
          "coloraxis": {
           "colorbar": {
            "outlinewidth": 0,
            "ticks": ""
           }
          },
          "colorscale": {
           "diverging": [
            [
             0,
             "#8e0152"
            ],
            [
             0.1,
             "#c51b7d"
            ],
            [
             0.2,
             "#de77ae"
            ],
            [
             0.3,
             "#f1b6da"
            ],
            [
             0.4,
             "#fde0ef"
            ],
            [
             0.5,
             "#f7f7f7"
            ],
            [
             0.6,
             "#e6f5d0"
            ],
            [
             0.7,
             "#b8e186"
            ],
            [
             0.8,
             "#7fbc41"
            ],
            [
             0.9,
             "#4d9221"
            ],
            [
             1,
             "#276419"
            ]
           ],
           "sequential": [
            [
             0,
             "#0d0887"
            ],
            [
             0.1111111111111111,
             "#46039f"
            ],
            [
             0.2222222222222222,
             "#7201a8"
            ],
            [
             0.3333333333333333,
             "#9c179e"
            ],
            [
             0.4444444444444444,
             "#bd3786"
            ],
            [
             0.5555555555555556,
             "#d8576b"
            ],
            [
             0.6666666666666666,
             "#ed7953"
            ],
            [
             0.7777777777777778,
             "#fb9f3a"
            ],
            [
             0.8888888888888888,
             "#fdca26"
            ],
            [
             1,
             "#f0f921"
            ]
           ],
           "sequentialminus": [
            [
             0,
             "#0d0887"
            ],
            [
             0.1111111111111111,
             "#46039f"
            ],
            [
             0.2222222222222222,
             "#7201a8"
            ],
            [
             0.3333333333333333,
             "#9c179e"
            ],
            [
             0.4444444444444444,
             "#bd3786"
            ],
            [
             0.5555555555555556,
             "#d8576b"
            ],
            [
             0.6666666666666666,
             "#ed7953"
            ],
            [
             0.7777777777777778,
             "#fb9f3a"
            ],
            [
             0.8888888888888888,
             "#fdca26"
            ],
            [
             1,
             "#f0f921"
            ]
           ]
          },
          "colorway": [
           "#636efa",
           "#EF553B",
           "#00cc96",
           "#ab63fa",
           "#FFA15A",
           "#19d3f3",
           "#FF6692",
           "#B6E880",
           "#FF97FF",
           "#FECB52"
          ],
          "font": {
           "color": "#f2f5fa"
          },
          "geo": {
           "bgcolor": "rgb(17,17,17)",
           "lakecolor": "rgb(17,17,17)",
           "landcolor": "rgb(17,17,17)",
           "showlakes": true,
           "showland": true,
           "subunitcolor": "#506784"
          },
          "hoverlabel": {
           "align": "left"
          },
          "hovermode": "closest",
          "mapbox": {
           "style": "dark"
          },
          "paper_bgcolor": "rgb(17,17,17)",
          "plot_bgcolor": "rgb(17,17,17)",
          "polar": {
           "angularaxis": {
            "gridcolor": "#506784",
            "linecolor": "#506784",
            "ticks": ""
           },
           "bgcolor": "rgb(17,17,17)",
           "radialaxis": {
            "gridcolor": "#506784",
            "linecolor": "#506784",
            "ticks": ""
           }
          },
          "scene": {
           "xaxis": {
            "backgroundcolor": "rgb(17,17,17)",
            "gridcolor": "#506784",
            "gridwidth": 2,
            "linecolor": "#506784",
            "showbackground": true,
            "ticks": "",
            "zerolinecolor": "#C8D4E3"
           },
           "yaxis": {
            "backgroundcolor": "rgb(17,17,17)",
            "gridcolor": "#506784",
            "gridwidth": 2,
            "linecolor": "#506784",
            "showbackground": true,
            "ticks": "",
            "zerolinecolor": "#C8D4E3"
           },
           "zaxis": {
            "backgroundcolor": "rgb(17,17,17)",
            "gridcolor": "#506784",
            "gridwidth": 2,
            "linecolor": "#506784",
            "showbackground": true,
            "ticks": "",
            "zerolinecolor": "#C8D4E3"
           }
          },
          "shapedefaults": {
           "line": {
            "color": "#f2f5fa"
           }
          },
          "sliderdefaults": {
           "bgcolor": "#C8D4E3",
           "bordercolor": "rgb(17,17,17)",
           "borderwidth": 1,
           "tickwidth": 0
          },
          "ternary": {
           "aaxis": {
            "gridcolor": "#506784",
            "linecolor": "#506784",
            "ticks": ""
           },
           "baxis": {
            "gridcolor": "#506784",
            "linecolor": "#506784",
            "ticks": ""
           },
           "bgcolor": "rgb(17,17,17)",
           "caxis": {
            "gridcolor": "#506784",
            "linecolor": "#506784",
            "ticks": ""
           }
          },
          "title": {
           "x": 0.05
          },
          "updatemenudefaults": {
           "bgcolor": "#506784",
           "borderwidth": 0
          },
          "xaxis": {
           "automargin": true,
           "gridcolor": "#283442",
           "linecolor": "#506784",
           "ticks": "",
           "title": {
            "standoff": 15
           },
           "zerolinecolor": "#283442",
           "zerolinewidth": 2
          },
          "yaxis": {
           "automargin": true,
           "gridcolor": "#283442",
           "linecolor": "#506784",
           "ticks": "",
           "title": {
            "standoff": 15
           },
           "zerolinecolor": "#283442",
           "zerolinewidth": 2
          }
         }
        },
        "xaxis": {
         "anchor": "y",
         "automargin": true,
         "domain": [
          0,
          1
         ],
         "dtick": 1800000,
         "gridcolor": "rgba(128,128,128,0.1)",
         "matches": "x2",
         "range": [
          "2025-08-07T09:00:00-04:00",
          "2025-08-07T16:15:00-04:00"
         ],
         "rangeslider": {
          "visible": false
         },
         "showticklabels": false,
         "zerolinecolor": "rgba(128,128,128,0.1)"
        },
        "xaxis2": {
         "anchor": "y2",
         "automargin": true,
         "domain": [
          0,
          1
         ],
         "dtick": 1800000,
         "gridcolor": "rgba(128,128,128,0.1)",
         "range": [
          "2025-08-07T09:00:00-04:00",
          "2025-08-07T16:15:00-04:00"
         ],
         "title": {
          "text": "Time"
         },
         "zerolinecolor": "rgba(128,128,128,0.1)"
        },
        "yaxis": {
         "anchor": "x",
         "automargin": true,
         "domain": [
          0.3533333333333333,
          0.9999999999999999
         ],
         "dtick": 10,
         "gridcolor": "rgba(128,128,128,0.1)",
         "minor": {
          "dtick": 5,
          "showgrid": false,
          "tickcolor": "rgba(150,150,150,0.5)",
          "ticklen": 2,
          "tickmode": "linear",
          "ticks": "outside",
          "tickwidth": 1
         },
         "range": [
          6296.679999999999,
          6398.57
         ],
         "showgrid": true,
         "showticklabels": true,
         "tickfont": {
          "size": 11
         },
         "ticklabelposition": "outside",
         "ticklen": 4,
         "ticks": "outside",
         "ticksuffix": " ",
         "tickwidth": 1,
         "title": {
          "text": "Price"
         },
         "zeroline": false,
         "zerolinecolor": "rgba(128,128,128,0.1)"
        },
        "yaxis2": {
         "anchor": "x2",
         "automargin": true,
         "domain": [
          0,
          0.3233333333333333
         ],
         "gridcolor": "rgba(128,128,128,0.1)",
         "range": [
          -7.681188563161413,
          11.536266099786006
         ],
         "showgrid": true,
         "showticklabels": true,
         "side": "left",
         "tickfont": {
          "size": 11
         },
         "ticklabelposition": "outside",
         "ticklen": 4,
         "ticks": "outside",
         "ticksuffix": " ",
         "tickwidth": 1,
         "title": {
          "text": "MACD"
         },
         "zeroline": false,
         "zerolinecolor": "rgba(128,128,128,0.1)"
        }
       }
      }
     },
     "metadata": {},
     "output_type": "display_data"
    }
   ],
   "source": [
    "candles_5m: pl.DataFrame = streamer.download(\n",
    "    symbol=candle_symbol.replace(\"m\", \"5m\"),\n",
    "    start=start,\n",
    "    stop=stop,\n",
    "    debug_mode=True,\n",
    ")\n",
    "\n",
    "df_macd_5m = macd(\n",
    "    candles_5m,\n",
    "    prior_close=prior_day.close,\n",
    "    fast_length=12,\n",
    "    slow_length=26,\n",
    "    macd_length=9,\n",
    ")\n",
    "\n",
    "plot_macd_with_hull(\n",
    "    df_macd_5m,\n",
    "    pad_value=prior_day.close,\n",
    "    start_time=start,\n",
    "    end_time=stop + timedelta(minutes=15),\n",
    "    horizontal_lines=levels,\n",
    "    vertical_lines=executions,\n",
    ")"
   ]
  },
  {
   "cell_type": "code",
   "execution_count": null,
   "metadata": {},
   "outputs": [],
   "source": []
  }
 ],
 "metadata": {
  "kernelspec": {
   "display_name": "tastytrade (3.11.13)",
   "language": "python",
   "name": "python3"
  },
  "language_info": {
   "codemirror_mode": {
    "name": "ipython",
    "version": 3
   },
   "file_extension": ".py",
   "mimetype": "text/x-python",
   "name": "python",
   "nbconvert_exporter": "python",
   "pygments_lexer": "ipython3",
   "version": "3.11.13"
  }
 },
 "nbformat": 4,
 "nbformat_minor": 2
}
