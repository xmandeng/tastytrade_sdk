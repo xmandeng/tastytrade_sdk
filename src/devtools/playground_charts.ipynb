{
 "cells": [
  {
   "cell_type": "markdown",
   "metadata": {},
   "source": [
    "# Dev Notes\n",
    "\n",
    "Create & save new Influx DB measures:\n",
    "- VerticalLine\n",
    "- HorizontaLine\n",
    "\n",
    "These will need to include start and stop variables so that we don't have lines into perpetuity"
   ]
  },
  {
   "cell_type": "code",
   "execution_count": 1,
   "metadata": {},
   "outputs": [],
   "source": [
    "# Required for PydanticAI to work with Jupyter (nested event loops)\n",
    "import nest_asyncio\n",
    "\n",
    "nest_asyncio.apply()"
   ]
  },
  {
   "cell_type": "code",
   "execution_count": 2,
   "metadata": {},
   "outputs": [],
   "source": [
    "import logging\n",
    "import asyncio\n",
    "import pandas as pd\n",
    "import polars as pl\n",
    "from zoneinfo import ZoneInfo\n",
    "\n",
    "from datetime import datetime, timedelta, timezone\n",
    "\n",
    "import influxdb_client\n",
    "\n",
    "from tastytrade.common.logging import setup_logging\n",
    "\n",
    "from tastytrade.connections import InfluxCredentials\n",
    "\n",
    "from tastytrade.config import RedisConfigManager\n",
    "from tastytrade.providers.market import MarketDataProvider\n",
    "from tastytrade.providers.subscriptions import RedisSubscription\n",
    "\n",
    "from tastytrade.messaging.models.events import CandleEvent\n",
    "\n",
    "from tastytrade.analytics.visualizations.plots import (\n",
    "    plot_macd_with_hull,\n",
    "    HorizontalLine,\n",
    "    VerticalLine,\n",
    ")\n",
    "from tastytrade.analytics.indicators.momentum import macd\n",
    "import re\n",
    "\n",
    "from tastytrade.analytics.visualizations.utils import get_opening_range\n",
    "\n",
    "import pytz"
   ]
  },
  {
   "cell_type": "code",
   "execution_count": 3,
   "metadata": {},
   "outputs": [
    {
     "name": "stderr",
     "output_type": "stream",
     "text": [
      "2025-08-20 11:27:52 - INFO:root:62:Logging initialized - writing to ../logs/dev_tastytrade_20250820.log\n"
     ]
    }
   ],
   "source": [
    "# Show all rows in pandas DataFrames\n",
    "pd.set_option(\"display.max_rows\", 100)\n",
    "pd.set_option(\"display.max_columns\", None)\n",
    "pd.set_option(\"display.width\", None)\n",
    "pd.set_option(\"display.max_colwidth\", None)\n",
    "\n",
    "logging.getLogger().handlers.clear()\n",
    "\n",
    "TEST = True\n",
    "ENV = \"Live\"\n",
    "DURATION = 15\n",
    "\n",
    "EDT = 5\n",
    "\n",
    "setup_logging(\n",
    "    level=logging.INFO,\n",
    "    log_dir=\"../logs\",\n",
    "    filename_prefix=f\"{'dev' if TEST else 'prod'}_tastytrade\",\n",
    "    console=True,\n",
    "    file=True,\n",
    ")\n",
    "\n",
    "loop = asyncio.get_event_loop()\n",
    "loop.set_debug(True)\n",
    "logging.getLogger(\"asyncio\").setLevel(logging.DEBUG)"
   ]
  },
  {
   "cell_type": "markdown",
   "metadata": {},
   "source": [
    "# Market Data Subscriptions"
   ]
  },
  {
   "cell_type": "code",
   "execution_count": 4,
   "metadata": {},
   "outputs": [
    {
     "name": "stderr",
     "output_type": "stream",
     "text": [
      "2025-08-20 11:27:52 - INFO:tastytrade.config.manager:174:Initialized 19 variables from .env file in Redis\n",
      "2025-08-20 11:27:52 - INFO:tastytrade.providers.subscriptions:72:Listening to Redis at redis://redis:6379/0\n"
     ]
    }
   ],
   "source": [
    "config = RedisConfigManager(env_file=\"/workspace/.env\")\n",
    "config.initialize()\n",
    "\n",
    "influxdb = influxdb_client.InfluxDBClient(\n",
    "    url=InfluxCredentials(config=config).url,\n",
    "    token=InfluxCredentials(config=config).token,\n",
    "    org=InfluxCredentials(config=config).org,\n",
    ")\n",
    "\n",
    "subscription = RedisSubscription(config=RedisConfigManager())\n",
    "await subscription.connect()\n",
    "\n",
    "streamer = MarketDataProvider(subscription, influxdb)"
   ]
  },
  {
   "cell_type": "markdown",
   "metadata": {},
   "source": [
    "# Date Setup"
   ]
  },
  {
   "cell_type": "code",
   "execution_count": 6,
   "metadata": {},
   "outputs": [],
   "source": [
    "date = datetime.now(ZoneInfo(\"America/New_York\"))\n",
    "if date < datetime(date.year, date.month, date.day, 9, 30, tzinfo=date.tzinfo):\n",
    "    date -= timedelta(days=1)\n",
    "    "
   ]
  },
  {
   "cell_type": "code",
   "execution_count": 7,
   "metadata": {},
   "outputs": [],
   "source": [
    "# Use ET timezone\n",
    "date = datetime.now(ZoneInfo(\"America/New_York\"))\n",
    "\n",
    "# Roll back to prior day if pre-market\n",
    "if date < datetime(date.year, date.month, date.day, 9, 30, tzinfo=date.tzinfo):\n",
    "    date -= timedelta(days=1)\n",
    "\n",
    "# Roll back to prior Friday if weekend\n",
    "if date.weekday() == 5:       # Saturday\n",
    "    date -= timedelta(days=1)\n",
    "elif date.weekday() == 6:     # Sunday\n",
    "    date -= timedelta(days=2)\n",
    "    \n",
    "market_open = datetime(date.year, date.month, date.day, 9, 30, tzinfo=date.tzinfo)\n",
    "morning_end = datetime(date.year, date.month, date.day, 11, 30, tzinfo=date.tzinfo)\n",
    "lunch_end = datetime(date.year, date.month, date.day, 13, 30, tzinfo=date.tzinfo)\n",
    "market_close = datetime(date.year, date.month, date.day, 16, 0, tzinfo=date.tzinfo)\n",
    "\n",
    "start = market_open.astimezone(timezone.utc) - timedelta(minutes=30)\n",
    "stop = market_close.astimezone(timezone.utc)\n"
   ]
  },
  {
   "cell_type": "code",
   "execution_count": null,
   "metadata": {},
   "outputs": [],
   "source": [
    "# market_open = datetime(date.year, date.month, date.day, 9, 30, tzinfo=date.tzinfo)\n",
    "# market_open"
   ]
  },
  {
   "cell_type": "code",
   "execution_count": 8,
   "metadata": {},
   "outputs": [],
   "source": [
    "streamer = MarketDataProvider(subscription, influxdb)\n",
    "\n"
   ]
  },
  {
   "cell_type": "code",
   "execution_count": 9,
   "metadata": {},
   "outputs": [],
   "source": [
    "candle_symbol = \"SPX{=m}\"\n",
    "# candle_symbol = \"BTC/USD:CXTALP{=m}\"\n",
    "\n",
    "prior_day: CandleEvent = CandleEvent(\n",
    "    **(\n",
    "        streamer.download(\n",
    "            symbol=re.sub(r\"\\{=.*?\\}\", \"{=d}\", candle_symbol),\n",
    "            start=market_open.date() + timedelta(days=-1),\n",
    "            stop=market_open.date(),\n",
    "            debug_mode=True,\n",
    "        )\n",
    "        .to_dicts()\n",
    "        .pop()\n",
    "    )\n",
    ")"
   ]
  },
  {
   "cell_type": "code",
   "execution_count": 10,
   "metadata": {},
   "outputs": [
    {
     "name": "stderr",
     "output_type": "stream",
     "text": [
      "2025-08-20 11:29:10 - INFO:tastytrade.analytics.visualizations.utils:92:Opening range for SPX{=m} (5m): High=6449.08, Low=6435.47\n",
      "2025-08-20 11:29:10 - INFO:tastytrade.analytics.visualizations.utils:92:Opening range for SPX{=m} (15m): High=6450.13, Low=6435.47\n",
      "2025-08-20 11:29:10 - INFO:tastytrade.analytics.visualizations.utils:92:Opening range for SPX{=m} (30m): High=6450.13, Low=6435.47\n"
     ]
    }
   ],
   "source": [
    "or5 = await get_opening_range(\n",
    "    streamer,\n",
    "    \"SPX{=m}\",\n",
    "    5,\n",
    "    date=start.date(),\n",
    ")\n",
    "\n",
    "or15 = await get_opening_range(\n",
    "    streamer,\n",
    "    \"SPX{=m}\",\n",
    "    15,\n",
    "    date=start.date(),\n",
    ")\n",
    "\n",
    "or30 = await get_opening_range(\n",
    "    streamer,\n",
    "    \"SPX{=m}\",\n",
    "    30,\n",
    "    date=start.date(),\n",
    ")"
   ]
  },
  {
   "cell_type": "code",
   "execution_count": 11,
   "metadata": {},
   "outputs": [],
   "source": [
    "levels = []"
   ]
  },
  {
   "cell_type": "code",
   "execution_count": 12,
   "metadata": {},
   "outputs": [],
   "source": [
    "# levels = [\n",
    "#     HorizontalLine(\n",
    "#         price=prior_day.close,\n",
    "#         color=\"#FF66FE\",  # Orange\n",
    "#         line_dash=\"dot\",\n",
    "#         label_font_size=10.5,\n",
    "#         label=\"prior close\",\n",
    "#         opacity=0.45,\n",
    "#         end_time=market_close,\n",
    "#     ),\n",
    "#     HorizontalLine(\n",
    "#         price=prior_day.high,\n",
    "#         color=\"#4CAF50\",  # Green\n",
    "#         line_dash=\"dot\",\n",
    "#         label_font_size=10.5,\n",
    "#         label=\"prior high\",\n",
    "#         opacity=0.45,\n",
    "#         end_time=market_close,\n",
    "#     ),\n",
    "#     HorizontalLine(\n",
    "#         price=prior_day.low,\n",
    "#         color=\"#F44336\",  # Red\n",
    "#         line_dash=\"dot\",\n",
    "#         label_font_size=10.5,\n",
    "#         label=\"prior low\",\n",
    "#         opacity=0.45,\n",
    "#         end_time=market_close,\n",
    "#     ),\n",
    "#     HorizontalLine(\n",
    "#         price=or5.high,\n",
    "#         start_time=market_open,\n",
    "#         end_time=market_close,\n",
    "#         color=\"#4CAF50\",  # Green\n",
    "#         line_dash=\"solid\",\n",
    "#         opacity=0.75,\n",
    "#         # label=\"5min hi\",\n",
    "#     ),\n",
    "#     HorizontalLine(\n",
    "#         price=or5.low,\n",
    "#         start_time=market_open,\n",
    "#         end_time=market_close,\n",
    "#         color=\"#4CAF50\",  # Green\n",
    "#         line_dash=\"solid\",\n",
    "#         opacity=0.75,\n",
    "#     ),\n",
    "#     HorizontalLine(\n",
    "#         price=or15.high,\n",
    "#         start_time=market_open + timedelta(minutes=15),\n",
    "#         end_time=market_close,\n",
    "#         color=\"#4CAF50\",  # Green\n",
    "#         line_dash=\"solid\",\n",
    "#         opacity=0.45 if or15.high != or5.high else 0.0,\n",
    "#     ),\n",
    "#     HorizontalLine(\n",
    "#         price=or15.low,\n",
    "#         start_time=market_open + timedelta(minutes=15),\n",
    "#         end_time=market_close,\n",
    "#         color=\"#4CAF50\",  # Green\n",
    "#         line_dash=\"solid\",\n",
    "#         opacity=0.45 if or15.low != or5.low else 0.0,\n",
    "#     ),\n",
    "#     HorizontalLine(\n",
    "#         price=or30.high,\n",
    "#         start_time=market_open + timedelta(minutes=30),\n",
    "#         end_time=market_close,\n",
    "#         color=\"#4CAF50\",  # Green\n",
    "#         line_dash=\"dot\",\n",
    "#         opacity=0.45 if or30.high != or15.high else 0.0,\n",
    "#     ),\n",
    "#     HorizontalLine(\n",
    "#         price=or30.low,\n",
    "#         start_time=market_open + timedelta(minutes=30),\n",
    "#         end_time=market_close,\n",
    "#         color=\"#4CAF50\",  # Green\n",
    "#         line_dash=\"dot\",\n",
    "#         opacity=0.45 if or30.low != or15.low else 0.0,\n",
    "#     ),\n",
    "#     HorizontalLine(\n",
    "#         price=or30.low,\n",
    "#         start_time=market_open + timedelta(minutes=30),\n",
    "#         end_time=market_close,\n",
    "#         color=\"#4CAF50\",  # Green\n",
    "#         line_dash=\"dot\",\n",
    "#         opacity=0.45 if or30.low != or15.low else 0.0,\n",
    "#     ),\n",
    "#     # HorizontalLine(\n",
    "#     #     price=5903,\n",
    "#     #     start_time=datetime(2025, 5, 29, 9, 40, tzinfo=et_tz),\n",
    "#     #     color=\"#555555\",  # Green\n",
    "#     #     line_dash=\"dot\",\n",
    "#     #     label=\"Bearish\",\n",
    "#     #     # opacity=0.45 if or30.low != or15.low else 0.0,\n",
    "#     # ),\n",
    "#     # HorizontalLine(\n",
    "#     #     price=5893,\n",
    "#     #     start_time=datetime(2025, 5, 29, 11, 30, tzinfo=et_tz),\n",
    "#     #     color=\"#555555\",  # Green\n",
    "#     #     line_dash=\"dot\",\n",
    "#     #     label=\"Bullish\",\n",
    "#     #     # opacity=0.45 if or30.low != or15.low else 0.0,\n",
    "#     # ),\n",
    "#     # HorizontalLine(\n",
    "#     #     price=5432,\n",
    "#     #     start_time=datetime(2025, 4, 15, 10, 17, tzinfo=et_tz),\n",
    "#     #     color=\"#555555\",  # Green\n",
    "#     #     line_dash=\"dot\",\n",
    "#     #     opacity=1,\n",
    "#     # ),\n",
    "# ]"
   ]
  },
  {
   "cell_type": "code",
   "execution_count": 13,
   "metadata": {},
   "outputs": [],
   "source": [
    "executions = [\n",
    "    VerticalLine(\n",
    "        time=datetime(date.year, date.month, date.day, 14, 30, tzinfo=date.tzinfo),\n",
    "        color=\"#555555\",\n",
    "        line_dash=\"dot\",\n",
    "        label=\"Open\",\n",
    "    ),\n",
    "    # VerticalLine(\n",
    "    #     time=datetime(2025, 2, 26, 14, 30) + timedelta(hours=4, minutes=50),\n",
    "    #     color=\"#555555\",\n",
    "    #     line_dash=\"dot\",\n",
    "    #     label=\"Close\",\n",
    "    # ),\n",
    "    # VerticalLine(\n",
    "    #     time=datetime(2025, 2, 27, 14, 30) + timedelta(minutes=20),\n",
    "    #     color=\"#555555\",\n",
    "    #     line_dash=\"dot\",\n",
    "    #     label=\"Open\",\n",
    "    # ),\n",
    "    # VerticalLine(\n",
    "    #     time=datetime(2025, 2, 28, 14, 30) + timedelta(hours=1, minutes=40),\n",
    "    #     color=\"#555555\",\n",
    "    #     line_dash=\"dot\",\n",
    "    #     label=\"Open\",\n",
    "    # ),\n",
    "    # VerticalLine(\n",
    "    #     time=datetime(2025, 2, 28, 14, 30) + timedelta(hours=4, minutes=0),\n",
    "    #     color=\"#555555\",\n",
    "    #     line_dash=\"dot\",\n",
    "    #     label=\"Close\",\n",
    "    # ),\n",
    "    # VerticalLine(\n",
    "    #     time=datetime(2025, 3, 3, 14, 30) + timedelta(hours=0, minutes=20),\n",
    "    #     color=\"#555555\",\n",
    "    #     line_dash=\"dot\",\n",
    "    #     label=\"Open\",\n",
    "    # ),\n",
    "    # VerticalLine(\n",
    "    #     time=datetime(2025, 3, 4, 14, 30) + timedelta(hours=1, minutes=10),\n",
    "    #     color=\"#555555\",\n",
    "    #     line_dash=\"dot\",\n",
    "    #     label=\"Pass\",\n",
    "    # ),\n",
    "    # VerticalLine(\n",
    "    #     time=datetime(2025, 3, 4, 14, 30) + timedelta(hours=2, minutes=10),\n",
    "    #     color=\"#555555\",\n",
    "    #     line_dash=\"dot\",\n",
    "    #     label=\"Open\",\n",
    "    # ),\n",
    "    # VerticalLine(\n",
    "    #     time=datetime(2025, 3, 6, 14, 30) + timedelta(hours=0, minutes=45),\n",
    "    #     color=\"#555555\",\n",
    "    #     line_dash=\"dot\",\n",
    "    #     label=\"Pass\",\n",
    "    # ),\n",
    "    # VerticalLine(\n",
    "    #     time=datetime(2025, 3, 6, 14, 30) + timedelta(hours=2, minutes=10),\n",
    "    #     color=\"#555555\",\n",
    "    #     line_dash=\"dot\",\n",
    "    #     label=\"Open\",\n",
    "    # ),\n",
    "    # VerticalLine(\n",
    "    #     time=datetime(2025, 3, 7, 14, 30) + timedelta(hours=0, minutes=45),\n",
    "    #     color=\"#555555\",\n",
    "    #     line_dash=\"dot\",\n",
    "    #     label=\"Open\",\n",
    "    # ),\n",
    "    # VerticalLine(\n",
    "    #     time=datetime(2025, 3, 7, 14, 30) + timedelta(hours=2, minutes=55),\n",
    "    #     color=\"#555555\",\n",
    "    #     line_dash=\"dot\",\n",
    "    #     label=\"Open\",\n",
    "    # ),\n",
    "    # VerticalLine(\n",
    "    #     time=datetime(2025, 3, 13, 10, 20, tzinfo=et_tz),\n",
    "    #     color=\"#555555\",\n",
    "    #     line_dash=\"dot\",\n",
    "    #     label=\"Open\",\n",
    "    # ),\n",
    "    # VerticalLine(\n",
    "    #     time=datetime(2025, 3, 13, 10, 45, tzinfo=et_tz),\n",
    "    #     color=\"#555555\",\n",
    "    #     line_dash=\"dot\",\n",
    "    #     label=\"Open\",\n",
    "    # ),\n",
    "    # VerticalLine(\n",
    "    #     time=datetime(2025, 3, 18, 10, 40, tzinfo=et_tz),\n",
    "    #     color=\"#555555\",\n",
    "    #     line_dash=\"dot\",\n",
    "    #     label=\"Open\",\n",
    "    # ),\n",
    "    # VerticalLine(\n",
    "    #     time=datetime(2025, 3, 19, 10, 35, tzinfo=et_tz),\n",
    "    #     color=\"#555555\",\n",
    "    #     line_dash=\"dot\",\n",
    "    #     label=\"Open\",\n",
    "    # ),\n",
    "    # VerticalLine(\n",
    "    #     time=datetime(2025, 3, 20, 11, 34, 32, tzinfo=et_tz),\n",
    "    #     color=\"#555555\",\n",
    "    #     line_dash=\"dot\",\n",
    "    #     label=\"Open\",\n",
    "    # ),\n",
    "    # VerticalLine(\n",
    "    #     time=datetime(2025, 3, 20, 12, 15, 8, tzinfo=et_tz),\n",
    "    #     color=\"#555555\",\n",
    "    #     line_dash=\"dot\",\n",
    "    #     label=\"Close\",\n",
    "    # ),\n",
    "    # VerticalLine(\n",
    "    #     time=datetime(2025, 3, 20, 13, 9, 34, tzinfo=et_tz),\n",
    "    #     color=\"#555555\",\n",
    "    #     line_dash=\"dot\",\n",
    "    #     label=\"Open\",\n",
    "    # ),\n",
    "    # VerticalLine(\n",
    "    #     time=datetime(2025, 4, 1, 10, 35, tzinfo=et_tz),\n",
    "    #     color=\"#555555\",\n",
    "    #     line_dash=\"dot\",\n",
    "    #     label=\"Open\",\n",
    "    # ),\n",
    "    # VerticalLine(\n",
    "    #     time=datetime(2025, 4, 8, 10, 42, tzinfo=et_tz),\n",
    "    #     color=\"#555555\",\n",
    "    #     line_dash=\"dot\",\n",
    "    #     label=\"Open\",\n",
    "    # ),\n",
    "    # VerticalLine(\n",
    "    #     time=datetime(2025, 4, 15, 10, 17, tzinfo=et_tz),\n",
    "    #     color=\"#555555\",\n",
    "    #     line_dash=\"dot\",\n",
    "    #     label=\"Open\",\n",
    "    # ),\n",
    "    # VerticalLine(\n",
    "    #     time=datetime(2025, 5, 29, 10, 11, tzinfo=et_tz),\n",
    "    #     color=\"#555555\",\n",
    "    #     line_dash=\"dot\",\n",
    "    #     label=\"Open\",\n",
    "    # ),\n",
    "    # VerticalLine(\n",
    "    #     time=datetime(2025, 5, 29, 12, 11, tzinfo=et_tz),\n",
    "    #     color=\"#555555\",\n",
    "    #     line_dash=\"dot\",\n",
    "    #     label=\"Close\",\n",
    "    # ),\n",
    "]"
   ]
  },
  {
   "cell_type": "code",
   "execution_count": 14,
   "metadata": {},
   "outputs": [
    {
     "name": "stdout",
     "output_type": "stream",
     "text": [
      "Removed 0 zero-price rows out of 420 total (0.00%).\n"
     ]
    },
    {
     "data": {
      "application/vnd.plotly.v1+json": {
       "config": {
        "plotlyServerURL": "https://plot.ly"
       },
       "data": [
        {
         "close": {
          "bdata": "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",
          "dtype": "f8"
         },
         "decreasing": {
          "fillcolor": "#EF5350",
          "line": {
           "color": "#EF5350"
          }
         },
         "high": {
          "bdata": "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",
          "dtype": "f8"
         },
         "increasing": {
          "fillcolor": "rgba(19, 19, 19, 0.1)",
          "line": {
           "color": "#4CAF50"
          }
         },
         "line": {
          "width": 0.75
         },
         "low": {
          "bdata": "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",
          "dtype": "f8"
         },
         "name": "Price",
         "open": {
          "bdata": "ZmZmZiYxuUBmZmZmJjG5QGZmZmYmMblAZmZmZiYxuUBmZmZmJjG5QGZmZmYmMblAZmZmZiYxuUBmZmZmJjG5QGZmZmYmMblAZmZmZiYxuUBmZmZmJjG5QGZmZmYmMblAZmZmZiYxuUBmZmZmJjG5QGZmZmYmMblAZmZmZiYxuUBmZmZmJjG5QGZmZmYmMblAZmZmZiYxuUBmZmZmJjG5QGZmZmYmMblAZmZmZiYxuUBmZmZmJjG5QGZmZmYmMblAZmZmZiYxuUBmZmZmJjG5QGZmZmYmMblAZmZmZiYxuUBmZmZmJjG5QGZmZmYmMblACtejcD0uuUDD9Shcjy65QBSuR+E6KrlAH4XrUXgluUCF61G4niW5QIXrUbheJLlAAAAAAIAkuUCkcD0Klye5QI/C9SgcK7lAhetRuN4quUBSuB6F6ym5QEjhehRuLLlArkfhetQvuUCPwvUoXC+5QGZmZmbmL7lASOF6FC4suUCamZmZWSm5QI/C9SjcJ7lA9ihcj4InuUCamZmZGSi5QFK4HoVrKLlAKVyPwnUnuUBSuB6F6ym5QOF6FK6HKblACtejcL0uuUAAAAAAgC65QIXrUbheLblAexSuR+EuuUBxPQrXoy65QAAAAADALblAj8L1KFwsuUDNzMzMjCy5QEjhehTuLblAzczMzEwwuUAK16NwfTO5QBSuR+F6OLlA7FG4HoU3uUDNzMzMzDe5QB+F61H4NblAXI/C9ag1uUC4HoXrUTe5QDMzMzOzN7lAw/UoXI82uUDhehSuBza5QGZmZmbmNblA9ihcj8I0uUAAAAAAQDS5QNejcD2KMrlA7FG4HgU0uUApXI/C9TS5QNejcD3KNLlAFK5H4Xo1uUDhehSuxzW5QI/C9SgcNrlASOF6FO4zuUD2KFyPQjW5QGZmZmZmM7lAexSuR+EyuUBSuB6Fqy+5QJqZmZmZLblACtejcP0suUDsUbgexSy5QD0K16MwLLlAUrgehaswuUAUrkfhOjK5QClcj8K1MLlAcT0K16MtuUCPwvUo3Cq5QArXo3B9K7lAhetRuB4quUAAAAAAwCm5QI/C9SicKrlAKVyPwnUouUD2KFyPQie5QEjhehTuJblAMzMzM7MluUAzMzMz8yO5QK5H4XrUI7lApHA9ClcluUAzMzMzMyC5QIXrUbgeIrlAFK5H4boguUBmZmZmJiG5QPYoXI+CIblAAAAAAEAjuUBmZmZmZiS5QLgehevRJLlAmpmZmRkluUApXI/CdSK5QOxRuB4FILlA9ihcj4IbuUAK16NwvRe5QMP1KFxPFblAMzMzM7MYuUBcj8L1aBu5QFyPwvWoG7lAexSuR6EbuUCF61G4nhm5QEjhehTuGrlA16NwPYobuUDD9ShcDxy5QIXrUbieGblAuB6F61EauUBI4XoU7hi5QMP1KFzPHLlAH4XrUXgduUApXI/C9Ry5QGZmZmbmHblAKVyPwvUduUBcj8L1qB65QKRwPQoXH7lAXI/C9egduUDXo3A9Ch25QAAAAABAG7lA9ihcjwIbuUAzMzMzMxu5QFyPwvWoGrlAw/UoXI8duUAUrkfheh+5QPYoXI8CHrlAMzMzM/MeuUBmZmZm5h65QClcj8J1ILlAXI/C9WgguUDNzMzMzCC5QIXrUbieIblA4XoUrscfuUBxPQrXoxy5QClcj8J1HblAzczMzAwduUAzMzMzcxy5QDMzMzOzHblAZmZmZiYbuUCuR+F6FBy5QFK4HoUrHLlAUrgehascuUCPwvUo3By5QFK4HoXrG7lAuB6F69EZuUAK16NwvRu5QB+F61E4GrlAuB6F6xEYuUDNzMzMzBa5QB+F61H4F7lAcT0K1+MWuUDD9ShcDxe5QBSuR+G6FrlAMzMzM7MXuUBI4XoULhi5QOF6FK4HFrlAUrgehWsWuUCPwvUoXBm5QBSuR+H6GLlAAAAAAAAZuUD2KFyPwhi5QGZmZmZmF7lAXI/C9WgVuUCuR+F6FBa5QClcj8I1E7lAj8L1KNwTuUCkcD0KVxO5QAAAAACAE7lAuB6F6xETuUAfhetRuBG5QLgeheuREblASOF6FC4RuUBxPQrXoxO5QNejcD3KFLlASOF6FG4UuUBcj8L1KBa5QJqZmZmZFLlACtejcP0TuUDXo3A9ihS5QHsUrkfhFblAuB6F65EWuUCkcD0KVxW5QD0K16NwFblAXI/C9egTuUCF61G4HhO5QFyPwvWoE7lArkfhepQSuUCF61G4nhK5QKRwPQpXEblA16NwPYoRuUDNzMzMDBK5QClcj8L1ErlAXI/C9agUuUCkcD0K1xO5QEjhehQuErlAAAAAAEASuUBSuB6FKw+5QOF6FK7HDLlA4XoUrscLuUA9CtejMA25QKRwPQpXC7lA16NwPUoMuUB7FK5HYQi5QNejcD1KC7lAmpmZmdkLuUApXI/CdQy5QB+F61E4DLlArkfhelQMuUCF61G4Hg25QClcj8J1DblAKVyPwnUOuUAAAAAAgAu5QMP1KFyPCrlA9ihcj4IKuUCuR+F6VAq5QAAAAAAAC7lA4XoUrkcLuUDhehSuBwu5QIXrUbheCLlAUrgehSsKuUB7FK5H4Qm5QLgehesRCLlAmpmZmZkFuUAzMzMz8wS5QNejcD0KBLlArkfhehQFuUBSuB6F6wO5QIXrUbgeBblAZmZmZqYDuUAzMzMz8wW5QJqZmZnZB7lA9ihcjwIKuUAK16Nw/Qe5QPYoXI+CB7lAhetRuJ4HuUBmZmZmZgW5QArXo3C9BrlAMzMzM7MHuUB7FK5H4Qe5QBSuR+F6CrlAFK5H4ToKuUCuR+F6lAm5QFK4HoUrC7lAzczMzAwLuUBmZmZmJgy5QJqZmZmZDblAj8L1KJwMuUAK16NwvQy5QB+F61G4DblAH4XrUfgMuUDhehSuxw25QNejcD1KDblAcT0K16MNuUBxPQrX4w65QI/C9ShcD7lApHA9ChcQuUDhehSuhw65QM3MzMyMD7lA4XoUrgcPuUAK16NwPQ65QHsUrkdhD7lAzczMzIwOuUAAAAAAgA65QBSuR+G6C7lA4XoUrkcNuUB7FK5HYQ25QFyPwvXoDLlAZmZmZqYNuUBSuB6F6w25QAAAAABADLlA7FG4HsUMuUBI4XoULgy5QLgehesRDblAexSuR2ENuUD2KFyPQg65QDMzMzPzDrlAmpmZmdkNuUAfhetRuAy5QOF6FK4HCrlACtejcH0JuUBxPQrXowa5QFyPwvUoB7lAPQrXozAHuUCuR+F61Ai5QArXo3D9CblA16NwPQoLuUDNzMzMjAy5QB+F61E4CrlA16NwPQoKuUAUrkfhOgi5QM3MzMxMCLlAUrgehWsHuUBxPQrXYwe5QEjhehQuB7lA7FG4HgUGuUApXI/CtQa5QM3MzMwMBrlA4XoUrscEuUCPwvUoXAa5QJqZmZnZBblACtejcL0FuUBI4XoU7gW5QFK4HoWrB7lAhetRuN4GuUDD9ShcDwW5QPYoXI8CBrlAmpmZmRkGuUDhehSuhwW5QBSuR+H6BblArkfhepQGuUB7FK5HIQW5QPYoXI9CBLlAuB6F61EEuUCuR+F61AK5QKRwPQoXA7lAcT0K1yMDuUBI4XoU7gK5QLgehesRBblAmpmZmdkEuUBI4XoU7gS5QDMzMzPzAblASOF6FO4DuUB7FK5HIQS5QLgehevRArlAUrgehasDuUDsUbgeBQO5QOxRuB4FA7lASOF6FG4CuUDsUbgeRQO5QClcj8I1BLlAexSuRyEGuUAK16NwfQa5QPYoXI8CBblAFK5H4foFuUBSuB6Fqwa5QM3MzMxMB7lAKVyPwnUGuUCuR+F61AO5QB+F61E4ALlAuB6F61ECuUBmZmZmZgG5QJqZmZkZA7lAPQrXo7ACuUBI4XoUbgG5QM3MzMxMArlA16NwPQoEuUC4HoXrkQK5QOF6FK6HA7lACtejcD0DuUA9CtejcAO5QBSuR+G6ArlAcT0K12MCuUAUrkfhOgK5QB+F61E4AblAFK5H4ToBuUB7FK5HIQK5QJqZmZnZArlAhetRuB4DuUCuR+F6FAW5QGZmZmZmBLlAj8L1KFwGuUCuR+F6VAe5QK5H4XoUBrlAuB6F6xEGuUCuR+F6FAa5QDMzMzOzBrlAzczMzAwHuUD2KFyPwgi5QPYoXI9CCLlA9ihcj0IJuUBSuB6F6we5QHsUrkdhCLlAAAAAAMAIuUDhehSuhwi5QFyPwvUoCLlAH4XrUTgHuUCPwvUonAe5QGZmZmamB7lAKVyPwjUHuUCPwvUoXAe5QHE9CtdjCLlA16NwPQoJuUC4HoXrUQi5QJqZmZmZCLlAFK5H4foGuUB7FK5H4QW5QJqZmZmZBrlA16NwPUoFuUDD9ShczwS5QEjhehSuBblA9ihcjwIEuUBSuB6F6wK5QGZmZmbmBblAPQrXo7AHuUBxPQrXowi5QFyPwvWoCLlA",
          "dtype": "f8"
         },
         "showlegend": false,
         "type": "candlestick",
         "x": [
          "2025-08-19T09:00:00.000000000",
          "2025-08-19T09:01:00.000000000",
          "2025-08-19T09:02:00.000000000",
          "2025-08-19T09:03:00.000000000",
          "2025-08-19T09:04:00.000000000",
          "2025-08-19T09:05:00.000000000",
          "2025-08-19T09:06:00.000000000",
          "2025-08-19T09:07:00.000000000",
          "2025-08-19T09:08:00.000000000",
          "2025-08-19T09:09:00.000000000",
          "2025-08-19T09:10:00.000000000",
          "2025-08-19T09:11:00.000000000",
          "2025-08-19T09:12:00.000000000",
          "2025-08-19T09:13:00.000000000",
          "2025-08-19T09:14:00.000000000",
          "2025-08-19T09:15:00.000000000",
          "2025-08-19T09:16:00.000000000",
          "2025-08-19T09:17:00.000000000",
          "2025-08-19T09:18:00.000000000",
          "2025-08-19T09:19:00.000000000",
          "2025-08-19T09:20:00.000000000",
          "2025-08-19T09:21:00.000000000",
          "2025-08-19T09:22:00.000000000",
          "2025-08-19T09:23:00.000000000",
          "2025-08-19T09:24:00.000000000",
          "2025-08-19T09:25:00.000000000",
          "2025-08-19T09:26:00.000000000",
          "2025-08-19T09:27:00.000000000",
          "2025-08-19T09:28:00.000000000",
          "2025-08-19T09:29:00.000000000",
          "2025-08-19T09:30:00.000000000",
          "2025-08-19T09:31:00.000000000",
          "2025-08-19T09:32:00.000000000",
          "2025-08-19T09:33:00.000000000",
          "2025-08-19T09:34:00.000000000",
          "2025-08-19T09:35:00.000000000",
          "2025-08-19T09:36:00.000000000",
          "2025-08-19T09:37:00.000000000",
          "2025-08-19T09:38:00.000000000",
          "2025-08-19T09:39:00.000000000",
          "2025-08-19T09:40:00.000000000",
          "2025-08-19T09:41:00.000000000",
          "2025-08-19T09:42:00.000000000",
          "2025-08-19T09:43:00.000000000",
          "2025-08-19T09:44:00.000000000",
          "2025-08-19T09:45:00.000000000",
          "2025-08-19T09:46:00.000000000",
          "2025-08-19T09:47:00.000000000",
          "2025-08-19T09:48:00.000000000",
          "2025-08-19T09:49:00.000000000",
          "2025-08-19T09:50:00.000000000",
          "2025-08-19T09:51:00.000000000",
          "2025-08-19T09:52:00.000000000",
          "2025-08-19T09:53:00.000000000",
          "2025-08-19T09:54:00.000000000",
          "2025-08-19T09:55:00.000000000",
          "2025-08-19T09:56:00.000000000",
          "2025-08-19T09:57:00.000000000",
          "2025-08-19T09:58:00.000000000",
          "2025-08-19T09:59:00.000000000",
          "2025-08-19T10:00:00.000000000",
          "2025-08-19T10:01:00.000000000",
          "2025-08-19T10:02:00.000000000",
          "2025-08-19T10:03:00.000000000",
          "2025-08-19T10:04:00.000000000",
          "2025-08-19T10:05:00.000000000",
          "2025-08-19T10:06:00.000000000",
          "2025-08-19T10:07:00.000000000",
          "2025-08-19T10:08:00.000000000",
          "2025-08-19T10:09:00.000000000",
          "2025-08-19T10:10:00.000000000",
          "2025-08-19T10:11:00.000000000",
          "2025-08-19T10:12:00.000000000",
          "2025-08-19T10:13:00.000000000",
          "2025-08-19T10:14:00.000000000",
          "2025-08-19T10:15:00.000000000",
          "2025-08-19T10:16:00.000000000",
          "2025-08-19T10:17:00.000000000",
          "2025-08-19T10:18:00.000000000",
          "2025-08-19T10:19:00.000000000",
          "2025-08-19T10:20:00.000000000",
          "2025-08-19T10:21:00.000000000",
          "2025-08-19T10:22:00.000000000",
          "2025-08-19T10:23:00.000000000",
          "2025-08-19T10:24:00.000000000",
          "2025-08-19T10:25:00.000000000",
          "2025-08-19T10:26:00.000000000",
          "2025-08-19T10:27:00.000000000",
          "2025-08-19T10:28:00.000000000",
          "2025-08-19T10:29:00.000000000",
          "2025-08-19T10:30:00.000000000",
          "2025-08-19T10:31:00.000000000",
          "2025-08-19T10:32:00.000000000",
          "2025-08-19T10:33:00.000000000",
          "2025-08-19T10:34:00.000000000",
          "2025-08-19T10:35:00.000000000",
          "2025-08-19T10:36:00.000000000",
          "2025-08-19T10:37:00.000000000",
          "2025-08-19T10:38:00.000000000",
          "2025-08-19T10:39:00.000000000",
          "2025-08-19T10:40:00.000000000",
          "2025-08-19T10:41:00.000000000",
          "2025-08-19T10:42:00.000000000",
          "2025-08-19T10:43:00.000000000",
          "2025-08-19T10:44:00.000000000",
          "2025-08-19T10:45:00.000000000",
          "2025-08-19T10:46:00.000000000",
          "2025-08-19T10:47:00.000000000",
          "2025-08-19T10:48:00.000000000",
          "2025-08-19T10:49:00.000000000",
          "2025-08-19T10:50:00.000000000",
          "2025-08-19T10:51:00.000000000",
          "2025-08-19T10:52:00.000000000",
          "2025-08-19T10:53:00.000000000",
          "2025-08-19T10:54:00.000000000",
          "2025-08-19T10:55:00.000000000",
          "2025-08-19T10:56:00.000000000",
          "2025-08-19T10:57:00.000000000",
          "2025-08-19T10:58:00.000000000",
          "2025-08-19T10:59:00.000000000",
          "2025-08-19T11:00:00.000000000",
          "2025-08-19T11:01:00.000000000",
          "2025-08-19T11:02:00.000000000",
          "2025-08-19T11:03:00.000000000",
          "2025-08-19T11:04:00.000000000",
          "2025-08-19T11:05:00.000000000",
          "2025-08-19T11:06:00.000000000",
          "2025-08-19T11:07:00.000000000",
          "2025-08-19T11:08:00.000000000",
          "2025-08-19T11:09:00.000000000",
          "2025-08-19T11:10:00.000000000",
          "2025-08-19T11:11:00.000000000",
          "2025-08-19T11:12:00.000000000",
          "2025-08-19T11:13:00.000000000",
          "2025-08-19T11:14:00.000000000",
          "2025-08-19T11:15:00.000000000",
          "2025-08-19T11:16:00.000000000",
          "2025-08-19T11:17:00.000000000",
          "2025-08-19T11:18:00.000000000",
          "2025-08-19T11:19:00.000000000",
          "2025-08-19T11:20:00.000000000",
          "2025-08-19T11:21:00.000000000",
          "2025-08-19T11:22:00.000000000",
          "2025-08-19T11:23:00.000000000",
          "2025-08-19T11:24:00.000000000",
          "2025-08-19T11:25:00.000000000",
          "2025-08-19T11:26:00.000000000",
          "2025-08-19T11:27:00.000000000",
          "2025-08-19T11:28:00.000000000",
          "2025-08-19T11:29:00.000000000",
          "2025-08-19T11:30:00.000000000",
          "2025-08-19T11:31:00.000000000",
          "2025-08-19T11:32:00.000000000",
          "2025-08-19T11:33:00.000000000",
          "2025-08-19T11:34:00.000000000",
          "2025-08-19T11:35:00.000000000",
          "2025-08-19T11:36:00.000000000",
          "2025-08-19T11:37:00.000000000",
          "2025-08-19T11:38:00.000000000",
          "2025-08-19T11:39:00.000000000",
          "2025-08-19T11:40:00.000000000",
          "2025-08-19T11:41:00.000000000",
          "2025-08-19T11:42:00.000000000",
          "2025-08-19T11:43:00.000000000",
          "2025-08-19T11:44:00.000000000",
          "2025-08-19T11:45:00.000000000",
          "2025-08-19T11:46:00.000000000",
          "2025-08-19T11:47:00.000000000",
          "2025-08-19T11:48:00.000000000",
          "2025-08-19T11:49:00.000000000",
          "2025-08-19T11:50:00.000000000",
          "2025-08-19T11:51:00.000000000",
          "2025-08-19T11:52:00.000000000",
          "2025-08-19T11:53:00.000000000",
          "2025-08-19T11:54:00.000000000",
          "2025-08-19T11:55:00.000000000",
          "2025-08-19T11:56:00.000000000",
          "2025-08-19T11:57:00.000000000",
          "2025-08-19T11:58:00.000000000",
          "2025-08-19T11:59:00.000000000",
          "2025-08-19T12:00:00.000000000",
          "2025-08-19T12:01:00.000000000",
          "2025-08-19T12:02:00.000000000",
          "2025-08-19T12:03:00.000000000",
          "2025-08-19T12:04:00.000000000",
          "2025-08-19T12:05:00.000000000",
          "2025-08-19T12:06:00.000000000",
          "2025-08-19T12:07:00.000000000",
          "2025-08-19T12:08:00.000000000",
          "2025-08-19T12:09:00.000000000",
          "2025-08-19T12:10:00.000000000",
          "2025-08-19T12:11:00.000000000",
          "2025-08-19T12:12:00.000000000",
          "2025-08-19T12:13:00.000000000",
          "2025-08-19T12:14:00.000000000",
          "2025-08-19T12:15:00.000000000",
          "2025-08-19T12:16:00.000000000",
          "2025-08-19T12:17:00.000000000",
          "2025-08-19T12:18:00.000000000",
          "2025-08-19T12:19:00.000000000",
          "2025-08-19T12:20:00.000000000",
          "2025-08-19T12:21:00.000000000",
          "2025-08-19T12:22:00.000000000",
          "2025-08-19T12:23:00.000000000",
          "2025-08-19T12:24:00.000000000",
          "2025-08-19T12:25:00.000000000",
          "2025-08-19T12:26:00.000000000",
          "2025-08-19T12:27:00.000000000",
          "2025-08-19T12:28:00.000000000",
          "2025-08-19T12:29:00.000000000",
          "2025-08-19T12:30:00.000000000",
          "2025-08-19T12:31:00.000000000",
          "2025-08-19T12:32:00.000000000",
          "2025-08-19T12:33:00.000000000",
          "2025-08-19T12:34:00.000000000",
          "2025-08-19T12:35:00.000000000",
          "2025-08-19T12:36:00.000000000",
          "2025-08-19T12:37:00.000000000",
          "2025-08-19T12:38:00.000000000",
          "2025-08-19T12:39:00.000000000",
          "2025-08-19T12:40:00.000000000",
          "2025-08-19T12:41:00.000000000",
          "2025-08-19T12:42:00.000000000",
          "2025-08-19T12:43:00.000000000",
          "2025-08-19T12:44:00.000000000",
          "2025-08-19T12:45:00.000000000",
          "2025-08-19T12:46:00.000000000",
          "2025-08-19T12:47:00.000000000",
          "2025-08-19T12:48:00.000000000",
          "2025-08-19T12:49:00.000000000",
          "2025-08-19T12:50:00.000000000",
          "2025-08-19T12:51:00.000000000",
          "2025-08-19T12:52:00.000000000",
          "2025-08-19T12:53:00.000000000",
          "2025-08-19T12:54:00.000000000",
          "2025-08-19T12:55:00.000000000",
          "2025-08-19T12:56:00.000000000",
          "2025-08-19T12:57:00.000000000",
          "2025-08-19T12:58:00.000000000",
          "2025-08-19T12:59:00.000000000",
          "2025-08-19T13:00:00.000000000",
          "2025-08-19T13:01:00.000000000",
          "2025-08-19T13:02:00.000000000",
          "2025-08-19T13:03:00.000000000",
          "2025-08-19T13:04:00.000000000",
          "2025-08-19T13:05:00.000000000",
          "2025-08-19T13:06:00.000000000",
          "2025-08-19T13:07:00.000000000",
          "2025-08-19T13:08:00.000000000",
          "2025-08-19T13:09:00.000000000",
          "2025-08-19T13:10:00.000000000",
          "2025-08-19T13:11:00.000000000",
          "2025-08-19T13:12:00.000000000",
          "2025-08-19T13:13:00.000000000",
          "2025-08-19T13:14:00.000000000",
          "2025-08-19T13:15:00.000000000",
          "2025-08-19T13:16:00.000000000",
          "2025-08-19T13:17:00.000000000",
          "2025-08-19T13:18:00.000000000",
          "2025-08-19T13:19:00.000000000",
          "2025-08-19T13:20:00.000000000",
          "2025-08-19T13:21:00.000000000",
          "2025-08-19T13:22:00.000000000",
          "2025-08-19T13:23:00.000000000",
          "2025-08-19T13:24:00.000000000",
          "2025-08-19T13:25:00.000000000",
          "2025-08-19T13:26:00.000000000",
          "2025-08-19T13:27:00.000000000",
          "2025-08-19T13:28:00.000000000",
          "2025-08-19T13:29:00.000000000",
          "2025-08-19T13:30:00.000000000",
          "2025-08-19T13:31:00.000000000",
          "2025-08-19T13:32:00.000000000",
          "2025-08-19T13:33:00.000000000",
          "2025-08-19T13:34:00.000000000",
          "2025-08-19T13:35:00.000000000",
          "2025-08-19T13:36:00.000000000",
          "2025-08-19T13:37:00.000000000",
          "2025-08-19T13:38:00.000000000",
          "2025-08-19T13:39:00.000000000",
          "2025-08-19T13:40:00.000000000",
          "2025-08-19T13:41:00.000000000",
          "2025-08-19T13:42:00.000000000",
          "2025-08-19T13:43:00.000000000",
          "2025-08-19T13:44:00.000000000",
          "2025-08-19T13:45:00.000000000",
          "2025-08-19T13:46:00.000000000",
          "2025-08-19T13:47:00.000000000",
          "2025-08-19T13:48:00.000000000",
          "2025-08-19T13:49:00.000000000",
          "2025-08-19T13:50:00.000000000",
          "2025-08-19T13:51:00.000000000",
          "2025-08-19T13:52:00.000000000",
          "2025-08-19T13:53:00.000000000",
          "2025-08-19T13:54:00.000000000",
          "2025-08-19T13:55:00.000000000",
          "2025-08-19T13:56:00.000000000",
          "2025-08-19T13:57:00.000000000",
          "2025-08-19T13:58:00.000000000",
          "2025-08-19T13:59:00.000000000",
          "2025-08-19T14:00:00.000000000",
          "2025-08-19T14:01:00.000000000",
          "2025-08-19T14:02:00.000000000",
          "2025-08-19T14:03:00.000000000",
          "2025-08-19T14:04:00.000000000",
          "2025-08-19T14:05:00.000000000",
          "2025-08-19T14:06:00.000000000",
          "2025-08-19T14:07:00.000000000",
          "2025-08-19T14:08:00.000000000",
          "2025-08-19T14:09:00.000000000",
          "2025-08-19T14:10:00.000000000",
          "2025-08-19T14:11:00.000000000",
          "2025-08-19T14:12:00.000000000",
          "2025-08-19T14:13:00.000000000",
          "2025-08-19T14:14:00.000000000",
          "2025-08-19T14:15:00.000000000",
          "2025-08-19T14:16:00.000000000",
          "2025-08-19T14:17:00.000000000",
          "2025-08-19T14:18:00.000000000",
          "2025-08-19T14:19:00.000000000",
          "2025-08-19T14:20:00.000000000",
          "2025-08-19T14:21:00.000000000",
          "2025-08-19T14:22:00.000000000",
          "2025-08-19T14:23:00.000000000",
          "2025-08-19T14:24:00.000000000",
          "2025-08-19T14:25:00.000000000",
          "2025-08-19T14:26:00.000000000",
          "2025-08-19T14:27:00.000000000",
          "2025-08-19T14:28:00.000000000",
          "2025-08-19T14:29:00.000000000",
          "2025-08-19T14:30:00.000000000",
          "2025-08-19T14:31:00.000000000",
          "2025-08-19T14:32:00.000000000",
          "2025-08-19T14:33:00.000000000",
          "2025-08-19T14:34:00.000000000",
          "2025-08-19T14:35:00.000000000",
          "2025-08-19T14:36:00.000000000",
          "2025-08-19T14:37:00.000000000",
          "2025-08-19T14:38:00.000000000",
          "2025-08-19T14:39:00.000000000",
          "2025-08-19T14:40:00.000000000",
          "2025-08-19T14:41:00.000000000",
          "2025-08-19T14:42:00.000000000",
          "2025-08-19T14:43:00.000000000",
          "2025-08-19T14:44:00.000000000",
          "2025-08-19T14:45:00.000000000",
          "2025-08-19T14:46:00.000000000",
          "2025-08-19T14:47:00.000000000",
          "2025-08-19T14:48:00.000000000",
          "2025-08-19T14:49:00.000000000",
          "2025-08-19T14:50:00.000000000",
          "2025-08-19T14:51:00.000000000",
          "2025-08-19T14:52:00.000000000",
          "2025-08-19T14:53:00.000000000",
          "2025-08-19T14:54:00.000000000",
          "2025-08-19T14:55:00.000000000",
          "2025-08-19T14:56:00.000000000",
          "2025-08-19T14:57:00.000000000",
          "2025-08-19T14:58:00.000000000",
          "2025-08-19T14:59:00.000000000",
          "2025-08-19T15:00:00.000000000",
          "2025-08-19T15:01:00.000000000",
          "2025-08-19T15:02:00.000000000",
          "2025-08-19T15:03:00.000000000",
          "2025-08-19T15:04:00.000000000",
          "2025-08-19T15:05:00.000000000",
          "2025-08-19T15:06:00.000000000",
          "2025-08-19T15:07:00.000000000",
          "2025-08-19T15:08:00.000000000",
          "2025-08-19T15:09:00.000000000",
          "2025-08-19T15:10:00.000000000",
          "2025-08-19T15:11:00.000000000",
          "2025-08-19T15:12:00.000000000",
          "2025-08-19T15:13:00.000000000",
          "2025-08-19T15:14:00.000000000",
          "2025-08-19T15:15:00.000000000",
          "2025-08-19T15:16:00.000000000",
          "2025-08-19T15:17:00.000000000",
          "2025-08-19T15:18:00.000000000",
          "2025-08-19T15:19:00.000000000",
          "2025-08-19T15:20:00.000000000",
          "2025-08-19T15:21:00.000000000",
          "2025-08-19T15:22:00.000000000",
          "2025-08-19T15:23:00.000000000",
          "2025-08-19T15:24:00.000000000",
          "2025-08-19T15:25:00.000000000",
          "2025-08-19T15:26:00.000000000",
          "2025-08-19T15:27:00.000000000",
          "2025-08-19T15:28:00.000000000",
          "2025-08-19T15:29:00.000000000",
          "2025-08-19T15:30:00.000000000",
          "2025-08-19T15:31:00.000000000",
          "2025-08-19T15:32:00.000000000",
          "2025-08-19T15:33:00.000000000",
          "2025-08-19T15:34:00.000000000",
          "2025-08-19T15:35:00.000000000",
          "2025-08-19T15:36:00.000000000",
          "2025-08-19T15:37:00.000000000",
          "2025-08-19T15:38:00.000000000",
          "2025-08-19T15:39:00.000000000",
          "2025-08-19T15:40:00.000000000",
          "2025-08-19T15:41:00.000000000",
          "2025-08-19T15:42:00.000000000",
          "2025-08-19T15:43:00.000000000",
          "2025-08-19T15:44:00.000000000",
          "2025-08-19T15:45:00.000000000",
          "2025-08-19T15:46:00.000000000",
          "2025-08-19T15:47:00.000000000",
          "2025-08-19T15:48:00.000000000",
          "2025-08-19T15:49:00.000000000",
          "2025-08-19T15:50:00.000000000",
          "2025-08-19T15:51:00.000000000",
          "2025-08-19T15:52:00.000000000",
          "2025-08-19T15:53:00.000000000",
          "2025-08-19T15:54:00.000000000",
          "2025-08-19T15:55:00.000000000",
          "2025-08-19T15:56:00.000000000",
          "2025-08-19T15:57:00.000000000",
          "2025-08-19T15:58:00.000000000",
          "2025-08-19T15:59:00.000000000"
         ],
         "xaxis": "x",
         "yaxis": "y"
        },
        {
         "line": {
          "color": "#FF66FE",
          "width": 0.6
         },
         "mode": "lines",
         "name": "HMA",
         "showlegend": false,
         "type": "scatter",
         "x": [
          "2025-08-19T09:00:00-04:00",
          "2025-08-19T09:01:00-04:00"
         ],
         "xaxis": "x",
         "y": {
          "bdata": "ZWZmZiYxuUBlZmZmJjG5QA==",
          "dtype": "f8"
         },
         "yaxis": "y"
        },
        {
         "line": {
          "color": "#FF66FE",
          "width": 0.6
         },
         "mode": "lines",
         "name": "HMA",
         "showlegend": false,
         "type": "scatter",
         "x": [
          "2025-08-19T09:01:00-04:00",
          "2025-08-19T09:02:00-04:00"
         ],
         "xaxis": "x",
         "y": {
          "bdata": "ZWZmZiYxuUBlZmZmJjG5QA==",
          "dtype": "f8"
         },
         "yaxis": "y"
        },
        {
         "line": {
          "color": "#FF66FE",
          "width": 0.6
         },
         "mode": "lines",
         "name": "HMA",
         "showlegend": false,
         "type": "scatter",
         "x": [
          "2025-08-19T09:02:00-04:00",
          "2025-08-19T09:03:00-04:00"
         ],
         "xaxis": "x",
         "y": {
          "bdata": "ZWZmZiYxuUBkZmZmJjG5QA==",
          "dtype": "f8"
         },
         "yaxis": "y"
        },
        {
         "line": {
          "color": "#FF66FE",
          "width": 0.6
         },
         "mode": "lines",
         "name": "HMA",
         "showlegend": false,
         "type": "scatter",
         "x": [
          "2025-08-19T09:03:00-04:00",
          "2025-08-19T09:04:00-04:00"
         ],
         "xaxis": "x",
         "y": {
          "bdata": "ZGZmZiYxuUBkZmZmJjG5QA==",
          "dtype": "f8"
         },
         "yaxis": "y"
        },
        {
         "line": {
          "color": "#FF66FE",
          "width": 0.6
         },
         "mode": "lines",
         "name": "HMA",
         "showlegend": false,
         "type": "scatter",
         "x": [
          "2025-08-19T09:04:00-04:00",
          "2025-08-19T09:05:00-04:00"
         ],
         "xaxis": "x",
         "y": {
          "bdata": "ZGZmZiYxuUBkZmZmJjG5QA==",
          "dtype": "f8"
         },
         "yaxis": "y"
        },
        {
         "line": {
          "color": "#FF66FE",
          "width": 0.6
         },
         "mode": "lines",
         "name": "HMA",
         "showlegend": false,
         "type": "scatter",
         "x": [
          "2025-08-19T09:05:00-04:00",
          "2025-08-19T09:06:00-04:00"
         ],
         "xaxis": "x",
         "y": {
          "bdata": "ZGZmZiYxuUBkZmZmJjG5QA==",
          "dtype": "f8"
         },
         "yaxis": "y"
        },
        {
         "line": {
          "color": "#FF66FE",
          "width": 0.6
         },
         "mode": "lines",
         "name": "HMA",
         "showlegend": false,
         "type": "scatter",
         "x": [
          "2025-08-19T09:06:00-04:00",
          "2025-08-19T09:07:00-04:00"
         ],
         "xaxis": "x",
         "y": {
          "bdata": "ZGZmZiYxuUBkZmZmJjG5QA==",
          "dtype": "f8"
         },
         "yaxis": "y"
        },
        {
         "line": {
          "color": "#FF66FE",
          "width": 0.6
         },
         "mode": "lines",
         "name": "HMA",
         "showlegend": false,
         "type": "scatter",
         "x": [
          "2025-08-19T09:07:00-04:00",
          "2025-08-19T09:08:00-04:00"
         ],
         "xaxis": "x",
         "y": {
          "bdata": "ZGZmZiYxuUBkZmZmJjG5QA==",
          "dtype": "f8"
         },
         "yaxis": "y"
        },
        {
         "line": {
          "color": "#FF66FE",
          "width": 0.6
         },
         "mode": "lines",
         "name": "HMA",
         "showlegend": false,
         "type": "scatter",
         "x": [
          "2025-08-19T09:08:00-04:00",
          "2025-08-19T09:09:00-04:00"
         ],
         "xaxis": "x",
         "y": {
          "bdata": "ZGZmZiYxuUBkZmZmJjG5QA==",
          "dtype": "f8"
         },
         "yaxis": "y"
        },
        {
         "line": {
          "color": "#FF66FE",
          "width": 0.6
         },
         "mode": "lines",
         "name": "HMA",
         "showlegend": false,
         "type": "scatter",
         "x": [
          "2025-08-19T09:09:00-04:00",
          "2025-08-19T09:10:00-04:00"
         ],
         "xaxis": "x",
         "y": {
          "bdata": "ZGZmZiYxuUBkZmZmJjG5QA==",
          "dtype": "f8"
         },
         "yaxis": "y"
        },
        {
         "line": {
          "color": "#FF66FE",
          "width": 0.6
         },
         "mode": "lines",
         "name": "HMA",
         "showlegend": false,
         "type": "scatter",
         "x": [
          "2025-08-19T09:10:00-04:00",
          "2025-08-19T09:11:00-04:00"
         ],
         "xaxis": "x",
         "y": {
          "bdata": "ZGZmZiYxuUBkZmZmJjG5QA==",
          "dtype": "f8"
         },
         "yaxis": "y"
        },
        {
         "line": {
          "color": "#FF66FE",
          "width": 0.6
         },
         "mode": "lines",
         "name": "HMA",
         "showlegend": false,
         "type": "scatter",
         "x": [
          "2025-08-19T09:11:00-04:00",
          "2025-08-19T09:12:00-04:00"
         ],
         "xaxis": "x",
         "y": {
          "bdata": "ZGZmZiYxuUBkZmZmJjG5QA==",
          "dtype": "f8"
         },
         "yaxis": "y"
        },
        {
         "line": {
          "color": "#FF66FE",
          "width": 0.6
         },
         "mode": "lines",
         "name": "HMA",
         "showlegend": false,
         "type": "scatter",
         "x": [
          "2025-08-19T09:12:00-04:00",
          "2025-08-19T09:13:00-04:00"
         ],
         "xaxis": "x",
         "y": {
          "bdata": "ZGZmZiYxuUBkZmZmJjG5QA==",
          "dtype": "f8"
         },
         "yaxis": "y"
        },
        {
         "line": {
          "color": "#FF66FE",
          "width": 0.6
         },
         "mode": "lines",
         "name": "HMA",
         "showlegend": false,
         "type": "scatter",
         "x": [
          "2025-08-19T09:13:00-04:00",
          "2025-08-19T09:14:00-04:00"
         ],
         "xaxis": "x",
         "y": {
          "bdata": "ZGZmZiYxuUBkZmZmJjG5QA==",
          "dtype": "f8"
         },
         "yaxis": "y"
        },
        {
         "line": {
          "color": "#FF66FE",
          "width": 0.6
         },
         "mode": "lines",
         "name": "HMA",
         "showlegend": false,
         "type": "scatter",
         "x": [
          "2025-08-19T09:14:00-04:00",
          "2025-08-19T09:15:00-04:00"
         ],
         "xaxis": "x",
         "y": {
          "bdata": "ZGZmZiYxuUBkZmZmJjG5QA==",
          "dtype": "f8"
         },
         "yaxis": "y"
        },
        {
         "line": {
          "color": "#FF66FE",
          "width": 0.6
         },
         "mode": "lines",
         "name": "HMA",
         "showlegend": false,
         "type": "scatter",
         "x": [
          "2025-08-19T09:15:00-04:00",
          "2025-08-19T09:16:00-04:00"
         ],
         "xaxis": "x",
         "y": {
          "bdata": "ZGZmZiYxuUBkZmZmJjG5QA==",
          "dtype": "f8"
         },
         "yaxis": "y"
        },
        {
         "line": {
          "color": "#FF66FE",
          "width": 0.6
         },
         "mode": "lines",
         "name": "HMA",
         "showlegend": false,
         "type": "scatter",
         "x": [
          "2025-08-19T09:16:00-04:00",
          "2025-08-19T09:17:00-04:00"
         ],
         "xaxis": "x",
         "y": {
          "bdata": "ZGZmZiYxuUBkZmZmJjG5QA==",
          "dtype": "f8"
         },
         "yaxis": "y"
        },
        {
         "line": {
          "color": "#FF66FE",
          "width": 0.6
         },
         "mode": "lines",
         "name": "HMA",
         "showlegend": false,
         "type": "scatter",
         "x": [
          "2025-08-19T09:17:00-04:00",
          "2025-08-19T09:18:00-04:00"
         ],
         "xaxis": "x",
         "y": {
          "bdata": "ZGZmZiYxuUBkZmZmJjG5QA==",
          "dtype": "f8"
         },
         "yaxis": "y"
        },
        {
         "line": {
          "color": "#FF66FE",
          "width": 0.6
         },
         "mode": "lines",
         "name": "HMA",
         "showlegend": false,
         "type": "scatter",
         "x": [
          "2025-08-19T09:18:00-04:00",
          "2025-08-19T09:19:00-04:00"
         ],
         "xaxis": "x",
         "y": {
          "bdata": "ZGZmZiYxuUBkZmZmJjG5QA==",
          "dtype": "f8"
         },
         "yaxis": "y"
        },
        {
         "line": {
          "color": "#FF66FE",
          "width": 0.6
         },
         "mode": "lines",
         "name": "HMA",
         "showlegend": false,
         "type": "scatter",
         "x": [
          "2025-08-19T09:19:00-04:00",
          "2025-08-19T09:20:00-04:00"
         ],
         "xaxis": "x",
         "y": {
          "bdata": "ZGZmZiYxuUBkZmZmJjG5QA==",
          "dtype": "f8"
         },
         "yaxis": "y"
        },
        {
         "line": {
          "color": "#FF66FE",
          "width": 0.6
         },
         "mode": "lines",
         "name": "HMA",
         "showlegend": false,
         "type": "scatter",
         "x": [
          "2025-08-19T09:20:00-04:00",
          "2025-08-19T09:21:00-04:00"
         ],
         "xaxis": "x",
         "y": {
          "bdata": "ZGZmZiYxuUBkZmZmJjG5QA==",
          "dtype": "f8"
         },
         "yaxis": "y"
        },
        {
         "line": {
          "color": "#FF66FE",
          "width": 0.6
         },
         "mode": "lines",
         "name": "HMA",
         "showlegend": false,
         "type": "scatter",
         "x": [
          "2025-08-19T09:21:00-04:00",
          "2025-08-19T09:22:00-04:00"
         ],
         "xaxis": "x",
         "y": {
          "bdata": "ZGZmZiYxuUBkZmZmJjG5QA==",
          "dtype": "f8"
         },
         "yaxis": "y"
        },
        {
         "line": {
          "color": "#FF66FE",
          "width": 0.6
         },
         "mode": "lines",
         "name": "HMA",
         "showlegend": false,
         "type": "scatter",
         "x": [
          "2025-08-19T09:22:00-04:00",
          "2025-08-19T09:23:00-04:00"
         ],
         "xaxis": "x",
         "y": {
          "bdata": "ZGZmZiYxuUBkZmZmJjG5QA==",
          "dtype": "f8"
         },
         "yaxis": "y"
        },
        {
         "line": {
          "color": "#FF66FE",
          "width": 0.6
         },
         "mode": "lines",
         "name": "HMA",
         "showlegend": false,
         "type": "scatter",
         "x": [
          "2025-08-19T09:23:00-04:00",
          "2025-08-19T09:24:00-04:00"
         ],
         "xaxis": "x",
         "y": {
          "bdata": "ZGZmZiYxuUBkZmZmJjG5QA==",
          "dtype": "f8"
         },
         "yaxis": "y"
        },
        {
         "line": {
          "color": "#FF66FE",
          "width": 0.6
         },
         "mode": "lines",
         "name": "HMA",
         "showlegend": false,
         "type": "scatter",
         "x": [
          "2025-08-19T09:24:00-04:00",
          "2025-08-19T09:25:00-04:00"
         ],
         "xaxis": "x",
         "y": {
          "bdata": "ZGZmZiYxuUBkZmZmJjG5QA==",
          "dtype": "f8"
         },
         "yaxis": "y"
        },
        {
         "line": {
          "color": "#FF66FE",
          "width": 0.6
         },
         "mode": "lines",
         "name": "HMA",
         "showlegend": false,
         "type": "scatter",
         "x": [
          "2025-08-19T09:25:00-04:00",
          "2025-08-19T09:26:00-04:00"
         ],
         "xaxis": "x",
         "y": {
          "bdata": "ZGZmZiYxuUBkZmZmJjG5QA==",
          "dtype": "f8"
         },
         "yaxis": "y"
        },
        {
         "line": {
          "color": "#FF66FE",
          "width": 0.6
         },
         "mode": "lines",
         "name": "HMA",
         "showlegend": false,
         "type": "scatter",
         "x": [
          "2025-08-19T09:26:00-04:00",
          "2025-08-19T09:27:00-04:00"
         ],
         "xaxis": "x",
         "y": {
          "bdata": "ZGZmZiYxuUBkZmZmJjG5QA==",
          "dtype": "f8"
         },
         "yaxis": "y"
        },
        {
         "line": {
          "color": "#FF66FE",
          "width": 0.6
         },
         "mode": "lines",
         "name": "HMA",
         "showlegend": false,
         "type": "scatter",
         "x": [
          "2025-08-19T09:27:00-04:00",
          "2025-08-19T09:28:00-04:00"
         ],
         "xaxis": "x",
         "y": {
          "bdata": "ZGZmZiYxuUBkZmZmJjG5QA==",
          "dtype": "f8"
         },
         "yaxis": "y"
        },
        {
         "line": {
          "color": "#FF66FE",
          "width": 0.6
         },
         "mode": "lines",
         "name": "HMA",
         "showlegend": false,
         "type": "scatter",
         "x": [
          "2025-08-19T09:28:00-04:00",
          "2025-08-19T09:29:00-04:00"
         ],
         "xaxis": "x",
         "y": {
          "bdata": "ZGZmZiYxuUBkZmZmJjG5QA==",
          "dtype": "f8"
         },
         "yaxis": "y"
        },
        {
         "line": {
          "color": "#FF66FE",
          "width": 0.6
         },
         "mode": "lines",
         "name": "HMA",
         "showlegend": false,
         "type": "scatter",
         "x": [
          "2025-08-19T09:29:00-04:00",
          "2025-08-19T09:30:00-04:00"
         ],
         "xaxis": "x",
         "y": {
          "bdata": "ZGZmZiYxuUAK3+4j4TC5QA==",
          "dtype": "f8"
         },
         "yaxis": "y"
        },
        {
         "line": {
          "color": "#FF66FE",
          "width": 0.6
         },
         "mode": "lines",
         "name": "HMA",
         "showlegend": false,
         "type": "scatter",
         "x": [
          "2025-08-19T09:30:00-04:00",
          "2025-08-19T09:31:00-04:00"
         ],
         "xaxis": "x",
         "y": {
          "bdata": "Ct/uI+EwuUByhDMOATC5QA==",
          "dtype": "f8"
         },
         "yaxis": "y"
        },
        {
         "line": {
          "color": "#FF66FE",
          "width": 0.6
         },
         "mode": "lines",
         "name": "HMA",
         "showlegend": false,
         "type": "scatter",
         "x": [
          "2025-08-19T09:31:00-04:00",
          "2025-08-19T09:32:00-04:00"
         ],
         "xaxis": "x",
         "y": {
          "bdata": "coQzDgEwuUCLs7olLi65QA==",
          "dtype": "f8"
         },
         "yaxis": "y"
        },
        {
         "line": {
          "color": "#FF66FE",
          "width": 0.6
         },
         "mode": "lines",
         "name": "HMA",
         "showlegend": false,
         "type": "scatter",
         "x": [
          "2025-08-19T09:32:00-04:00",
          "2025-08-19T09:33:00-04:00"
         ],
         "xaxis": "x",
         "y": {
          "bdata": "i7O6JS4uuUAirAbb6yu5QA==",
          "dtype": "f8"
         },
         "yaxis": "y"
        },
        {
         "line": {
          "color": "#FF66FE",
          "width": 0.6
         },
         "mode": "lines",
         "name": "HMA",
         "showlegend": false,
         "type": "scatter",
         "x": [
          "2025-08-19T09:33:00-04:00",
          "2025-08-19T09:34:00-04:00"
         ],
         "xaxis": "x",
         "y": {
          "bdata": "IqwG2+sruUBDdJJLfCm5QA==",
          "dtype": "f8"
         },
         "yaxis": "y"
        },
        {
         "line": {
          "color": "#FF66FE",
          "width": 0.6
         },
         "mode": "lines",
         "name": "HMA",
         "showlegend": false,
         "type": "scatter",
         "x": [
          "2025-08-19T09:34:00-04:00",
          "2025-08-19T09:35:00-04:00"
         ],
         "xaxis": "x",
         "y": {
          "bdata": "Q3SSS3wpuUBK6eJSMSe5QA==",
          "dtype": "f8"
         },
         "yaxis": "y"
        },
        {
         "line": {
          "color": "#FF66FE",
          "width": 0.6
         },
         "mode": "lines",
         "name": "HMA",
         "showlegend": false,
         "type": "scatter",
         "x": [
          "2025-08-19T09:35:00-04:00",
          "2025-08-19T09:36:00-04:00"
         ],
         "xaxis": "x",
         "y": {
          "bdata": "SuniUjEnuUDuRl3VmiW5QA==",
          "dtype": "f8"
         },
         "yaxis": "y"
        },
        {
         "line": {
          "color": "#FF66FE",
          "width": 0.6
         },
         "mode": "lines",
         "name": "HMA",
         "showlegend": false,
         "type": "scatter",
         "x": [
          "2025-08-19T09:36:00-04:00",
          "2025-08-19T09:37:00-04:00"
         ],
         "xaxis": "x",
         "y": {
          "bdata": "7kZd1ZoluUDyjwNR8SS5QA==",
          "dtype": "f8"
         },
         "yaxis": "y"
        },
        {
         "line": {
          "color": "#01FFFF",
          "width": 0.6
         },
         "mode": "lines",
         "name": "HMA",
         "showlegend": false,
         "type": "scatter",
         "x": [
          "2025-08-19T09:37:00-04:00",
          "2025-08-19T09:38:00-04:00"
         ],
         "xaxis": "x",
         "y": {
          "bdata": "8o8DUfEkuUCN/k/qACW5QA==",
          "dtype": "f8"
         },
         "yaxis": "y"
        },
        {
         "line": {
          "color": "#01FFFF",
          "width": 0.6
         },
         "mode": "lines",
         "name": "HMA",
         "showlegend": false,
         "type": "scatter",
         "x": [
          "2025-08-19T09:38:00-04:00",
          "2025-08-19T09:39:00-04:00"
         ],
         "xaxis": "x",
         "y": {
          "bdata": "jf5P6gAluUCIXZABciW5QA==",
          "dtype": "f8"
         },
         "yaxis": "y"
        },
        {
         "line": {
          "color": "#01FFFF",
          "width": 0.6
         },
         "mode": "lines",
         "name": "HMA",
         "showlegend": false,
         "type": "scatter",
         "x": [
          "2025-08-19T09:39:00-04:00",
          "2025-08-19T09:40:00-04:00"
         ],
         "xaxis": "x",
         "y": {
          "bdata": "iF2QAXIluUDVxcKtYya5QA==",
          "dtype": "f8"
         },
         "yaxis": "y"
        },
        {
         "line": {
          "color": "#01FFFF",
          "width": 0.6
         },
         "mode": "lines",
         "name": "HMA",
         "showlegend": false,
         "type": "scatter",
         "x": [
          "2025-08-19T09:40:00-04:00",
          "2025-08-19T09:41:00-04:00"
         ],
         "xaxis": "x",
         "y": {
          "bdata": "1cXCrWMmuUC9pIym+Ce5QA==",
          "dtype": "f8"
         },
         "yaxis": "y"
        },
        {
         "line": {
          "color": "#01FFFF",
          "width": 0.6
         },
         "mode": "lines",
         "name": "HMA",
         "showlegend": false,
         "type": "scatter",
         "x": [
          "2025-08-19T09:41:00-04:00",
          "2025-08-19T09:42:00-04:00"
         ],
         "xaxis": "x",
         "y": {
          "bdata": "vaSMpvgnuUD2mT7h5im5QA==",
          "dtype": "f8"
         },
         "yaxis": "y"
        },
        {
         "line": {
          "color": "#01FFFF",
          "width": 0.6
         },
         "mode": "lines",
         "name": "HMA",
         "showlegend": false,
         "type": "scatter",
         "x": [
          "2025-08-19T09:42:00-04:00",
          "2025-08-19T09:43:00-04:00"
         ],
         "xaxis": "x",
         "y": {
          "bdata": "9pk+4eYpuUC92CpE7Cu5QA==",
          "dtype": "f8"
         },
         "yaxis": "y"
        },
        {
         "line": {
          "color": "#01FFFF",
          "width": 0.6
         },
         "mode": "lines",
         "name": "HMA",
         "showlegend": false,
         "type": "scatter",
         "x": [
          "2025-08-19T09:43:00-04:00",
          "2025-08-19T09:44:00-04:00"
         ],
         "xaxis": "x",
         "y": {
          "bdata": "vdgqROwruUBcYzaJXy25QA==",
          "dtype": "f8"
         },
         "yaxis": "y"
        },
        {
         "line": {
          "color": "#01FFFF",
          "width": 0.6
         },
         "mode": "lines",
         "name": "HMA",
         "showlegend": false,
         "type": "scatter",
         "x": [
          "2025-08-19T09:44:00-04:00",
          "2025-08-19T09:45:00-04:00"
         ],
         "xaxis": "x",
         "y": {
          "bdata": "XGM2iV8tuUASaSp+6S25QA==",
          "dtype": "f8"
         },
         "yaxis": "y"
        },
        {
         "line": {
          "color": "#FF66FE",
          "width": 0.6
         },
         "mode": "lines",
         "name": "HMA",
         "showlegend": false,
         "type": "scatter",
         "x": [
          "2025-08-19T09:45:00-04:00",
          "2025-08-19T09:46:00-04:00"
         ],
         "xaxis": "x",
         "y": {
          "bdata": "EmkqfuktuUCFmiibkC25QA==",
          "dtype": "f8"
         },
         "yaxis": "y"
        },
        {
         "line": {
          "color": "#FF66FE",
          "width": 0.6
         },
         "mode": "lines",
         "name": "HMA",
         "showlegend": false,
         "type": "scatter",
         "x": [
          "2025-08-19T09:46:00-04:00",
          "2025-08-19T09:47:00-04:00"
         ],
         "xaxis": "x",
         "y": {
          "bdata": "hZoom5AtuUCIa8SGpCy5QA==",
          "dtype": "f8"
         },
         "yaxis": "y"
        },
        {
         "line": {
          "color": "#FF66FE",
          "width": 0.6
         },
         "mode": "lines",
         "name": "HMA",
         "showlegend": false,
         "type": "scatter",
         "x": [
          "2025-08-19T09:47:00-04:00",
          "2025-08-19T09:48:00-04:00"
         ],
         "xaxis": "x",
         "y": {
          "bdata": "iGvEhqQsuUA9LdqEjCu5QA==",
          "dtype": "f8"
         },
         "yaxis": "y"
        },
        {
         "line": {
          "color": "#FF66FE",
          "width": 0.6
         },
         "mode": "lines",
         "name": "HMA",
         "showlegend": false,
         "type": "scatter",
         "x": [
          "2025-08-19T09:48:00-04:00",
          "2025-08-19T09:49:00-04:00"
         ],
         "xaxis": "x",
         "y": {
          "bdata": "PS3ahIwruUCK/WX3hCq5QA==",
          "dtype": "f8"
         },
         "yaxis": "y"
        },
        {
         "line": {
          "color": "#FF66FE",
          "width": 0.6
         },
         "mode": "lines",
         "name": "HMA",
         "showlegend": false,
         "type": "scatter",
         "x": [
          "2025-08-19T09:49:00-04:00",
          "2025-08-19T09:50:00-04:00"
         ],
         "xaxis": "x",
         "y": {
          "bdata": "iv1l94QquUBS7PWkeCm5QA==",
          "dtype": "f8"
         },
         "yaxis": "y"
        },
        {
         "line": {
          "color": "#FF66FE",
          "width": 0.6
         },
         "mode": "lines",
         "name": "HMA",
         "showlegend": false,
         "type": "scatter",
         "x": [
          "2025-08-19T09:50:00-04:00",
          "2025-08-19T09:51:00-04:00"
         ],
         "xaxis": "x",
         "y": {
          "bdata": "Uuz1pHgpuUBLUkFvuCi5QA==",
          "dtype": "f8"
         },
         "yaxis": "y"
        },
        {
         "line": {
          "color": "#FF66FE",
          "width": 0.6
         },
         "mode": "lines",
         "name": "HMA",
         "showlegend": false,
         "type": "scatter",
         "x": [
          "2025-08-19T09:51:00-04:00",
          "2025-08-19T09:52:00-04:00"
         ],
         "xaxis": "x",
         "y": {
          "bdata": "S1JBb7gouUBVjhDxMCi5QA==",
          "dtype": "f8"
         },
         "yaxis": "y"
        },
        {
         "line": {
          "color": "#01FFFF",
          "width": 0.6
         },
         "mode": "lines",
         "name": "HMA",
         "showlegend": false,
         "type": "scatter",
         "x": [
          "2025-08-19T09:52:00-04:00",
          "2025-08-19T09:53:00-04:00"
         ],
         "xaxis": "x",
         "y": {
          "bdata": "VY4Q8TAouUCZ3QWMeCi5QA==",
          "dtype": "f8"
         },
         "yaxis": "y"
        },
        {
         "line": {
          "color": "#01FFFF",
          "width": 0.6
         },
         "mode": "lines",
         "name": "HMA",
         "showlegend": false,
         "type": "scatter",
         "x": [
          "2025-08-19T09:53:00-04:00",
          "2025-08-19T09:54:00-04:00"
         ],
         "xaxis": "x",
         "y": {
          "bdata": "md0FjHgouUAMIBFqWim5QA==",
          "dtype": "f8"
         },
         "yaxis": "y"
        },
        {
         "line": {
          "color": "#01FFFF",
          "width": 0.6
         },
         "mode": "lines",
         "name": "HMA",
         "showlegend": false,
         "type": "scatter",
         "x": [
          "2025-08-19T09:54:00-04:00",
          "2025-08-19T09:55:00-04:00"
         ],
         "xaxis": "x",
         "y": {
          "bdata": "DCARalopuUA9dmN1cyq5QA==",
          "dtype": "f8"
         },
         "yaxis": "y"
        },
        {
         "line": {
          "color": "#01FFFF",
          "width": 0.6
         },
         "mode": "lines",
         "name": "HMA",
         "showlegend": false,
         "type": "scatter",
         "x": [
          "2025-08-19T09:55:00-04:00",
          "2025-08-19T09:56:00-04:00"
         ],
         "xaxis": "x",
         "y": {
          "bdata": "PXZjdXMquUB76CHbtyu5QA==",
          "dtype": "f8"
         },
         "yaxis": "y"
        },
        {
         "line": {
          "color": "#01FFFF",
          "width": 0.6
         },
         "mode": "lines",
         "name": "HMA",
         "showlegend": false,
         "type": "scatter",
         "x": [
          "2025-08-19T09:56:00-04:00",
          "2025-08-19T09:57:00-04:00"
         ],
         "xaxis": "x",
         "y": {
          "bdata": "e+gh27cruUCtv+sK5yy5QA==",
          "dtype": "f8"
         },
         "yaxis": "y"
        },
        {
         "line": {
          "color": "#01FFFF",
          "width": 0.6
         },
         "mode": "lines",
         "name": "HMA",
         "showlegend": false,
         "type": "scatter",
         "x": [
          "2025-08-19T09:57:00-04:00",
          "2025-08-19T09:58:00-04:00"
         ],
         "xaxis": "x",
         "y": {
          "bdata": "rb/rCucsuUDgO+Gw2i25QA==",
          "dtype": "f8"
         },
         "yaxis": "y"
        },
        {
         "line": {
          "color": "#01FFFF",
          "width": 0.6
         },
         "mode": "lines",
         "name": "HMA",
         "showlegend": false,
         "type": "scatter",
         "x": [
          "2025-08-19T09:58:00-04:00",
          "2025-08-19T09:59:00-04:00"
         ],
         "xaxis": "x",
         "y": {
          "bdata": "4DvhsNotuUCAlxbdXi65QA==",
          "dtype": "f8"
         },
         "yaxis": "y"
        },
        {
         "line": {
          "color": "#01FFFF",
          "width": 0.6
         },
         "mode": "lines",
         "name": "HMA",
         "showlegend": false,
         "type": "scatter",
         "x": [
          "2025-08-19T09:59:00-04:00",
          "2025-08-19T10:00:00-04:00"
         ],
         "xaxis": "x",
         "y": {
          "bdata": "gJcW3V4uuUApxp5Pjy65QA==",
          "dtype": "f8"
         },
         "yaxis": "y"
        },
        {
         "line": {
          "color": "#01FFFF",
          "width": 0.6
         },
         "mode": "lines",
         "name": "HMA",
         "showlegend": false,
         "type": "scatter",
         "x": [
          "2025-08-19T10:00:00-04:00",
          "2025-08-19T10:01:00-04:00"
         ],
         "xaxis": "x",
         "y": {
          "bdata": "KcaeT48uuUD2VmbUqi65QA==",
          "dtype": "f8"
         },
         "yaxis": "y"
        },
        {
         "line": {
          "color": "#01FFFF",
          "width": 0.6
         },
         "mode": "lines",
         "name": "HMA",
         "showlegend": false,
         "type": "scatter",
         "x": [
          "2025-08-19T10:01:00-04:00",
          "2025-08-19T10:02:00-04:00"
         ],
         "xaxis": "x",
         "y": {
          "bdata": "9lZm1KouuUCKgMxk9y65QA==",
          "dtype": "f8"
         },
         "yaxis": "y"
        },
        {
         "line": {
          "color": "#01FFFF",
          "width": 0.6
         },
         "mode": "lines",
         "name": "HMA",
         "showlegend": false,
         "type": "scatter",
         "x": [
          "2025-08-19T10:02:00-04:00",
          "2025-08-19T10:03:00-04:00"
         ],
         "xaxis": "x",
         "y": {
          "bdata": "ioDMZPcuuUAmHQa4ry+5QA==",
          "dtype": "f8"
         },
         "yaxis": "y"
        },
        {
         "line": {
          "color": "#01FFFF",
          "width": 0.6
         },
         "mode": "lines",
         "name": "HMA",
         "showlegend": false,
         "type": "scatter",
         "x": [
          "2025-08-19T10:03:00-04:00",
          "2025-08-19T10:04:00-04:00"
         ],
         "xaxis": "x",
         "y": {
          "bdata": "Jh0GuK8vuUCFQe1MKDG5QA==",
          "dtype": "f8"
         },
         "yaxis": "y"
        },
        {
         "line": {
          "color": "#01FFFF",
          "width": 0.6
         },
         "mode": "lines",
         "name": "HMA",
         "showlegend": false,
         "type": "scatter",
         "x": [
          "2025-08-19T10:04:00-04:00",
          "2025-08-19T10:05:00-04:00"
         ],
         "xaxis": "x",
         "y": {
          "bdata": "hUHtTCgxuUBUW5Q07TK5QA==",
          "dtype": "f8"
         },
         "yaxis": "y"
        },
        {
         "line": {
          "color": "#01FFFF",
          "width": 0.6
         },
         "mode": "lines",
         "name": "HMA",
         "showlegend": false,
         "type": "scatter",
         "x": [
          "2025-08-19T10:05:00-04:00",
          "2025-08-19T10:06:00-04:00"
         ],
         "xaxis": "x",
         "y": {
          "bdata": "VFuUNO0yuUCWlbpzuzS5QA==",
          "dtype": "f8"
         },
         "yaxis": "y"
        },
        {
         "line": {
          "color": "#01FFFF",
          "width": 0.6
         },
         "mode": "lines",
         "name": "HMA",
         "showlegend": false,
         "type": "scatter",
         "x": [
          "2025-08-19T10:06:00-04:00",
          "2025-08-19T10:07:00-04:00"
         ],
         "xaxis": "x",
         "y": {
          "bdata": "lpW6c7s0uUCakGWHLza5QA==",
          "dtype": "f8"
         },
         "yaxis": "y"
        },
        {
         "line": {
          "color": "#01FFFF",
          "width": 0.6
         },
         "mode": "lines",
         "name": "HMA",
         "showlegend": false,
         "type": "scatter",
         "x": [
          "2025-08-19T10:07:00-04:00",
          "2025-08-19T10:08:00-04:00"
         ],
         "xaxis": "x",
         "y": {
          "bdata": "mpBlhy82uUDIM+aSPje5QA==",
          "dtype": "f8"
         },
         "yaxis": "y"
        },
        {
         "line": {
          "color": "#01FFFF",
          "width": 0.6
         },
         "mode": "lines",
         "name": "HMA",
         "showlegend": false,
         "type": "scatter",
         "x": [
          "2025-08-19T10:08:00-04:00",
          "2025-08-19T10:09:00-04:00"
         ],
         "xaxis": "x",
         "y": {
          "bdata": "yDPmkj43uUB79NgbITi5QA==",
          "dtype": "f8"
         },
         "yaxis": "y"
        },
        {
         "line": {
          "color": "#01FFFF",
          "width": 0.6
         },
         "mode": "lines",
         "name": "HMA",
         "showlegend": false,
         "type": "scatter",
         "x": [
          "2025-08-19T10:09:00-04:00",
          "2025-08-19T10:10:00-04:00"
         ],
         "xaxis": "x",
         "y": {
          "bdata": "e/TYGyE4uUDLV5rk3Di5QA==",
          "dtype": "f8"
         },
         "yaxis": "y"
        },
        {
         "line": {
          "color": "#01FFFF",
          "width": 0.6
         },
         "mode": "lines",
         "name": "HMA",
         "showlegend": false,
         "type": "scatter",
         "x": [
          "2025-08-19T10:10:00-04:00",
          "2025-08-19T10:11:00-04:00"
         ],
         "xaxis": "x",
         "y": {
          "bdata": "y1ea5Nw4uUAmSBvKRTm5QA==",
          "dtype": "f8"
         },
         "yaxis": "y"
        },
        {
         "line": {
          "color": "#01FFFF",
          "width": 0.6
         },
         "mode": "lines",
         "name": "HMA",
         "showlegend": false,
         "type": "scatter",
         "x": [
          "2025-08-19T10:11:00-04:00",
          "2025-08-19T10:12:00-04:00"
         ],
         "xaxis": "x",
         "y": {
          "bdata": "JkgbykU5uUClwwD3TTm5QA==",
          "dtype": "f8"
         },
         "yaxis": "y"
        },
        {
         "line": {
          "color": "#FF66FE",
          "width": 0.6
         },
         "mode": "lines",
         "name": "HMA",
         "showlegend": false,
         "type": "scatter",
         "x": [
          "2025-08-19T10:12:00-04:00",
          "2025-08-19T10:13:00-04:00"
         ],
         "xaxis": "x",
         "y": {
          "bdata": "pcMA9005uUBrV2YN/Ti5QA==",
          "dtype": "f8"
         },
         "yaxis": "y"
        },
        {
         "line": {
          "color": "#FF66FE",
          "width": 0.6
         },
         "mode": "lines",
         "name": "HMA",
         "showlegend": false,
         "type": "scatter",
         "x": [
          "2025-08-19T10:13:00-04:00",
          "2025-08-19T10:14:00-04:00"
         ],
         "xaxis": "x",
         "y": {
          "bdata": "a1dmDf04uUCqDVjjVji5QA==",
          "dtype": "f8"
         },
         "yaxis": "y"
        },
        {
         "line": {
          "color": "#FF66FE",
          "width": 0.6
         },
         "mode": "lines",
         "name": "HMA",
         "showlegend": false,
         "type": "scatter",
         "x": [
          "2025-08-19T10:14:00-04:00",
          "2025-08-19T10:15:00-04:00"
         ],
         "xaxis": "x",
         "y": {
          "bdata": "qg1Y41Y4uUAjIpQmhTe5QA==",
          "dtype": "f8"
         },
         "yaxis": "y"
        },
        {
         "line": {
          "color": "#FF66FE",
          "width": 0.6
         },
         "mode": "lines",
         "name": "HMA",
         "showlegend": false,
         "type": "scatter",
         "x": [
          "2025-08-19T10:15:00-04:00",
          "2025-08-19T10:16:00-04:00"
         ],
         "xaxis": "x",
         "y": {
          "bdata": "IyKUJoU3uUBECFvzfDa5QA==",
          "dtype": "f8"
         },
         "yaxis": "y"
        },
        {
         "line": {
          "color": "#FF66FE",
          "width": 0.6
         },
         "mode": "lines",
         "name": "HMA",
         "showlegend": false,
         "type": "scatter",
         "x": [
          "2025-08-19T10:16:00-04:00",
          "2025-08-19T10:17:00-04:00"
         ],
         "xaxis": "x",
         "y": {
          "bdata": "RAhb83w2uUA74pk5jTW5QA==",
          "dtype": "f8"
         },
         "yaxis": "y"
        },
        {
         "line": {
          "color": "#FF66FE",
          "width": 0.6
         },
         "mode": "lines",
         "name": "HMA",
         "showlegend": false,
         "type": "scatter",
         "x": [
          "2025-08-19T10:17:00-04:00",
          "2025-08-19T10:18:00-04:00"
         ],
         "xaxis": "x",
         "y": {
          "bdata": "O+KZOY01uUAQNGlr4DS5QA==",
          "dtype": "f8"
         },
         "yaxis": "y"
        },
        {
         "line": {
          "color": "#FF66FE",
          "width": 0.6
         },
         "mode": "lines",
         "name": "HMA",
         "showlegend": false,
         "type": "scatter",
         "x": [
          "2025-08-19T10:18:00-04:00",
          "2025-08-19T10:19:00-04:00"
         ],
         "xaxis": "x",
         "y": {
          "bdata": "EDRpa+A0uUA+a3mcZjS5QA==",
          "dtype": "f8"
         },
         "yaxis": "y"
        },
        {
         "line": {
          "color": "#FF66FE",
          "width": 0.6
         },
         "mode": "lines",
         "name": "HMA",
         "showlegend": false,
         "type": "scatter",
         "x": [
          "2025-08-19T10:19:00-04:00",
          "2025-08-19T10:20:00-04:00"
         ],
         "xaxis": "x",
         "y": {
          "bdata": "Pmt5nGY0uUBOBb71LjS5QA==",
          "dtype": "f8"
         },
         "yaxis": "y"
        },
        {
         "line": {
          "color": "#01FFFF",
          "width": 0.6
         },
         "mode": "lines",
         "name": "HMA",
         "showlegend": false,
         "type": "scatter",
         "x": [
          "2025-08-19T10:20:00-04:00",
          "2025-08-19T10:21:00-04:00"
         ],
         "xaxis": "x",
         "y": {
          "bdata": "TgW+9S40uUAYW2mRLzS5QA==",
          "dtype": "f8"
         },
         "yaxis": "y"
        },
        {
         "line": {
          "color": "#01FFFF",
          "width": 0.6
         },
         "mode": "lines",
         "name": "HMA",
         "showlegend": false,
         "type": "scatter",
         "x": [
          "2025-08-19T10:21:00-04:00",
          "2025-08-19T10:22:00-04:00"
         ],
         "xaxis": "x",
         "y": {
          "bdata": "GFtpkS80uUCTyG4eYzS5QA==",
          "dtype": "f8"
         },
         "yaxis": "y"
        },
        {
         "line": {
          "color": "#01FFFF",
          "width": 0.6
         },
         "mode": "lines",
         "name": "HMA",
         "showlegend": false,
         "type": "scatter",
         "x": [
          "2025-08-19T10:22:00-04:00",
          "2025-08-19T10:23:00-04:00"
         ],
         "xaxis": "x",
         "y": {
          "bdata": "k8huHmM0uUCS5LoxfjS5QA==",
          "dtype": "f8"
         },
         "yaxis": "y"
        },
        {
         "line": {
          "color": "#01FFFF",
          "width": 0.6
         },
         "mode": "lines",
         "name": "HMA",
         "showlegend": false,
         "type": "scatter",
         "x": [
          "2025-08-19T10:23:00-04:00",
          "2025-08-19T10:24:00-04:00"
         ],
         "xaxis": "x",
         "y": {
          "bdata": "kuS6MX40uUBVKnnFqDS5QA==",
          "dtype": "f8"
         },
         "yaxis": "y"
        },
        {
         "line": {
          "color": "#01FFFF",
          "width": 0.6
         },
         "mode": "lines",
         "name": "HMA",
         "showlegend": false,
         "type": "scatter",
         "x": [
          "2025-08-19T10:24:00-04:00",
          "2025-08-19T10:25:00-04:00"
         ],
         "xaxis": "x",
         "y": {
          "bdata": "VSp5xag0uUCa5d46qTS5QA==",
          "dtype": "f8"
         },
         "yaxis": "y"
        },
        {
         "line": {
          "color": "#FF66FE",
          "width": 0.6
         },
         "mode": "lines",
         "name": "HMA",
         "showlegend": false,
         "type": "scatter",
         "x": [
          "2025-08-19T10:25:00-04:00",
          "2025-08-19T10:26:00-04:00"
         ],
         "xaxis": "x",
         "y": {
          "bdata": "muXeOqk0uUCQiIqwczS5QA==",
          "dtype": "f8"
         },
         "yaxis": "y"
        },
        {
         "line": {
          "color": "#FF66FE",
          "width": 0.6
         },
         "mode": "lines",
         "name": "HMA",
         "showlegend": false,
         "type": "scatter",
         "x": [
          "2025-08-19T10:26:00-04:00",
          "2025-08-19T10:27:00-04:00"
         ],
         "xaxis": "x",
         "y": {
          "bdata": "kIiKsHM0uUAGSBMqyTO5QA==",
          "dtype": "f8"
         },
         "yaxis": "y"
        },
        {
         "line": {
          "color": "#FF66FE",
          "width": 0.6
         },
         "mode": "lines",
         "name": "HMA",
         "showlegend": false,
         "type": "scatter",
         "x": [
          "2025-08-19T10:27:00-04:00",
          "2025-08-19T10:28:00-04:00"
         ],
         "xaxis": "x",
         "y": {
          "bdata": "BkgTKskzuUBGWROgnTK5QA==",
          "dtype": "f8"
         },
         "yaxis": "y"
        },
        {
         "line": {
          "color": "#FF66FE",
          "width": 0.6
         },
         "mode": "lines",
         "name": "HMA",
         "showlegend": false,
         "type": "scatter",
         "x": [
          "2025-08-19T10:28:00-04:00",
          "2025-08-19T10:29:00-04:00"
         ],
         "xaxis": "x",
         "y": {
          "bdata": "RlkToJ0yuUACi5UpLDG5QA==",
          "dtype": "f8"
         },
         "yaxis": "y"
        },
        {
         "line": {
          "color": "#FF66FE",
          "width": 0.6
         },
         "mode": "lines",
         "name": "HMA",
         "showlegend": false,
         "type": "scatter",
         "x": [
          "2025-08-19T10:29:00-04:00",
          "2025-08-19T10:30:00-04:00"
         ],
         "xaxis": "x",
         "y": {
          "bdata": "AouVKSwxuUAaqEIYoi+5QA==",
          "dtype": "f8"
         },
         "yaxis": "y"
        },
        {
         "line": {
          "color": "#FF66FE",
          "width": 0.6
         },
         "mode": "lines",
         "name": "HMA",
         "showlegend": false,
         "type": "scatter",
         "x": [
          "2025-08-19T10:30:00-04:00",
          "2025-08-19T10:31:00-04:00"
         ],
         "xaxis": "x",
         "y": {
          "bdata": "GqhCGKIvuUC2kpReLC65QA==",
          "dtype": "f8"
         },
         "yaxis": "y"
        },
        {
         "line": {
          "color": "#FF66FE",
          "width": 0.6
         },
         "mode": "lines",
         "name": "HMA",
         "showlegend": false,
         "type": "scatter",
         "x": [
          "2025-08-19T10:31:00-04:00",
          "2025-08-19T10:32:00-04:00"
         ],
         "xaxis": "x",
         "y": {
          "bdata": "tpKUXiwuuUD5n5pLXi25QA==",
          "dtype": "f8"
         },
         "yaxis": "y"
        },
        {
         "line": {
          "color": "#FF66FE",
          "width": 0.6
         },
         "mode": "lines",
         "name": "HMA",
         "showlegend": false,
         "type": "scatter",
         "x": [
          "2025-08-19T10:32:00-04:00",
          "2025-08-19T10:33:00-04:00"
         ],
         "xaxis": "x",
         "y": {
          "bdata": "+Z+aS14tuUA4RdVtRi25QA==",
          "dtype": "f8"
         },
         "yaxis": "y"
        },
        {
         "line": {
          "color": "#01FFFF",
          "width": 0.6
         },
         "mode": "lines",
         "name": "HMA",
         "showlegend": false,
         "type": "scatter",
         "x": [
          "2025-08-19T10:33:00-04:00",
          "2025-08-19T10:34:00-04:00"
         ],
         "xaxis": "x",
         "y": {
          "bdata": "OEXVbUYtuUDR0OR0hC25QA==",
          "dtype": "f8"
         },
         "yaxis": "y"
        },
        {
         "line": {
          "color": "#01FFFF",
          "width": 0.6
         },
         "mode": "lines",
         "name": "HMA",
         "showlegend": false,
         "type": "scatter",
         "x": [
          "2025-08-19T10:34:00-04:00",
          "2025-08-19T10:35:00-04:00"
         ],
         "xaxis": "x",
         "y": {
          "bdata": "0dDkdIQtuUAe6sBVqi25QA==",
          "dtype": "f8"
         },
         "yaxis": "y"
        },
        {
         "line": {
          "color": "#FF66FE",
          "width": 0.6
         },
         "mode": "lines",
         "name": "HMA",
         "showlegend": false,
         "type": "scatter",
         "x": [
          "2025-08-19T10:35:00-04:00",
          "2025-08-19T10:36:00-04:00"
         ],
         "xaxis": "x",
         "y": {
          "bdata": "HurAVaotuUASKCQvWi25QA==",
          "dtype": "f8"
         },
         "yaxis": "y"
        },
        {
         "line": {
          "color": "#FF66FE",
          "width": 0.6
         },
         "mode": "lines",
         "name": "HMA",
         "showlegend": false,
         "type": "scatter",
         "x": [
          "2025-08-19T10:36:00-04:00",
          "2025-08-19T10:37:00-04:00"
         ],
         "xaxis": "x",
         "y": {
          "bdata": "EigkL1otuUDquF/g0yy5QA==",
          "dtype": "f8"
         },
         "yaxis": "y"
        },
        {
         "line": {
          "color": "#FF66FE",
          "width": 0.6
         },
         "mode": "lines",
         "name": "HMA",
         "showlegend": false,
         "type": "scatter",
         "x": [
          "2025-08-19T10:37:00-04:00",
          "2025-08-19T10:38:00-04:00"
         ],
         "xaxis": "x",
         "y": {
          "bdata": "6rhf4NMsuUBGykprJSy5QA==",
          "dtype": "f8"
         },
         "yaxis": "y"
        },
        {
         "line": {
          "color": "#FF66FE",
          "width": 0.6
         },
         "mode": "lines",
         "name": "HMA",
         "showlegend": false,
         "type": "scatter",
         "x": [
          "2025-08-19T10:38:00-04:00",
          "2025-08-19T10:39:00-04:00"
         ],
         "xaxis": "x",
         "y": {
          "bdata": "RspKayUsuUBuWeTlayu5QA==",
          "dtype": "f8"
         },
         "yaxis": "y"
        },
        {
         "line": {
          "color": "#FF66FE",
          "width": 0.6
         },
         "mode": "lines",
         "name": "HMA",
         "showlegend": false,
         "type": "scatter",
         "x": [
          "2025-08-19T10:39:00-04:00",
          "2025-08-19T10:40:00-04:00"
         ],
         "xaxis": "x",
         "y": {
          "bdata": "blnk5WsruUB96OhYziq5QA==",
          "dtype": "f8"
         },
         "yaxis": "y"
        },
        {
         "line": {
          "color": "#FF66FE",
          "width": 0.6
         },
         "mode": "lines",
         "name": "HMA",
         "showlegend": false,
         "type": "scatter",
         "x": [
          "2025-08-19T10:40:00-04:00",
          "2025-08-19T10:41:00-04:00"
         ],
         "xaxis": "x",
         "y": {
          "bdata": "fejoWM4quUAPYnIcEyq5QA==",
          "dtype": "f8"
         },
         "yaxis": "y"
        },
        {
         "line": {
          "color": "#FF66FE",
          "width": 0.6
         },
         "mode": "lines",
         "name": "HMA",
         "showlegend": false,
         "type": "scatter",
         "x": [
          "2025-08-19T10:41:00-04:00",
          "2025-08-19T10:42:00-04:00"
         ],
         "xaxis": "x",
         "y": {
          "bdata": "D2JyHBMquUAQjCzLHym5QA==",
          "dtype": "f8"
         },
         "yaxis": "y"
        },
        {
         "line": {
          "color": "#FF66FE",
          "width": 0.6
         },
         "mode": "lines",
         "name": "HMA",
         "showlegend": false,
         "type": "scatter",
         "x": [
          "2025-08-19T10:42:00-04:00",
          "2025-08-19T10:43:00-04:00"
         ],
         "xaxis": "x",
         "y": {
          "bdata": "EIwsyx8puUAIeS6Z/Se5QA==",
          "dtype": "f8"
         },
         "yaxis": "y"
        },
        {
         "line": {
          "color": "#FF66FE",
          "width": 0.6
         },
         "mode": "lines",
         "name": "HMA",
         "showlegend": false,
         "type": "scatter",
         "x": [
          "2025-08-19T10:43:00-04:00",
          "2025-08-19T10:44:00-04:00"
         ],
         "xaxis": "x",
         "y": {
          "bdata": "CHkumf0nuUAWeLr62ia5QA==",
          "dtype": "f8"
         },
         "yaxis": "y"
        },
        {
         "line": {
          "color": "#FF66FE",
          "width": 0.6
         },
         "mode": "lines",
         "name": "HMA",
         "showlegend": false,
         "type": "scatter",
         "x": [
          "2025-08-19T10:44:00-04:00",
          "2025-08-19T10:45:00-04:00"
         ],
         "xaxis": "x",
         "y": {
          "bdata": "Fni6+tomuUBLs41atSW5QA==",
          "dtype": "f8"
         },
         "yaxis": "y"
        },
        {
         "line": {
          "color": "#FF66FE",
          "width": 0.6
         },
         "mode": "lines",
         "name": "HMA",
         "showlegend": false,
         "type": "scatter",
         "x": [
          "2025-08-19T10:45:00-04:00",
          "2025-08-19T10:46:00-04:00"
         ],
         "xaxis": "x",
         "y": {
          "bdata": "S7ONWrUluUA7dptjpyS5QA==",
          "dtype": "f8"
         },
         "yaxis": "y"
        },
        {
         "line": {
          "color": "#FF66FE",
          "width": 0.6
         },
         "mode": "lines",
         "name": "HMA",
         "showlegend": false,
         "type": "scatter",
         "x": [
          "2025-08-19T10:46:00-04:00",
          "2025-08-19T10:47:00-04:00"
         ],
         "xaxis": "x",
         "y": {
          "bdata": "O3abY6ckuUA6Qffb7SO5QA==",
          "dtype": "f8"
         },
         "yaxis": "y"
        },
        {
         "line": {
          "color": "#FF66FE",
          "width": 0.6
         },
         "mode": "lines",
         "name": "HMA",
         "showlegend": false,
         "type": "scatter",
         "x": [
          "2025-08-19T10:47:00-04:00",
          "2025-08-19T10:48:00-04:00"
         ],
         "xaxis": "x",
         "y": {
          "bdata": "OkH32+0juUCSUWnk8CK5QA==",
          "dtype": "f8"
         },
         "yaxis": "y"
        },
        {
         "line": {
          "color": "#FF66FE",
          "width": 0.6
         },
         "mode": "lines",
         "name": "HMA",
         "showlegend": false,
         "type": "scatter",
         "x": [
          "2025-08-19T10:48:00-04:00",
          "2025-08-19T10:49:00-04:00"
         ],
         "xaxis": "x",
         "y": {
          "bdata": "klFp5PAiuUD9nkB8CiK5QA==",
          "dtype": "f8"
         },
         "yaxis": "y"
        },
        {
         "line": {
          "color": "#FF66FE",
          "width": 0.6
         },
         "mode": "lines",
         "name": "HMA",
         "showlegend": false,
         "type": "scatter",
         "x": [
          "2025-08-19T10:49:00-04:00",
          "2025-08-19T10:50:00-04:00"
         ],
         "xaxis": "x",
         "y": {
          "bdata": "/Z5AfAoiuUAUiVW3IiG5QA==",
          "dtype": "f8"
         },
         "yaxis": "y"
        },
        {
         "line": {
          "color": "#FF66FE",
          "width": 0.6
         },
         "mode": "lines",
         "name": "HMA",
         "showlegend": false,
         "type": "scatter",
         "x": [
          "2025-08-19T10:50:00-04:00",
          "2025-08-19T10:51:00-04:00"
         ],
         "xaxis": "x",
         "y": {
          "bdata": "FIlVtyIhuUDWJXxHYyC5QA==",
          "dtype": "f8"
         },
         "yaxis": "y"
        },
        {
         "line": {
          "color": "#FF66FE",
          "width": 0.6
         },
         "mode": "lines",
         "name": "HMA",
         "showlegend": false,
         "type": "scatter",
         "x": [
          "2025-08-19T10:51:00-04:00",
          "2025-08-19T10:52:00-04:00"
         ],
         "xaxis": "x",
         "y": {
          "bdata": "1iV8R2MguUAFpUgB9B+5QA==",
          "dtype": "f8"
         },
         "yaxis": "y"
        },
        {
         "line": {
          "color": "#FF66FE",
          "width": 0.6
         },
         "mode": "lines",
         "name": "HMA",
         "showlegend": false,
         "type": "scatter",
         "x": [
          "2025-08-19T10:52:00-04:00",
          "2025-08-19T10:53:00-04:00"
         ],
         "xaxis": "x",
         "y": {
          "bdata": "BaVIAfQfuUCl8JJN7R+5QA==",
          "dtype": "f8"
         },
         "yaxis": "y"
        },
        {
         "line": {
          "color": "#01FFFF",
          "width": 0.6
         },
         "mode": "lines",
         "name": "HMA",
         "showlegend": false,
         "type": "scatter",
         "x": [
          "2025-08-19T10:53:00-04:00",
          "2025-08-19T10:54:00-04:00"
         ],
         "xaxis": "x",
         "y": {
          "bdata": "pfCSTe0fuUCeS2ZDUyC5QA==",
          "dtype": "f8"
         },
         "yaxis": "y"
        },
        {
         "line": {
          "color": "#01FFFF",
          "width": 0.6
         },
         "mode": "lines",
         "name": "HMA",
         "showlegend": false,
         "type": "scatter",
         "x": [
          "2025-08-19T10:54:00-04:00",
          "2025-08-19T10:55:00-04:00"
         ],
         "xaxis": "x",
         "y": {
          "bdata": "nktmQ1MguUAOZYTaBCG5QA==",
          "dtype": "f8"
         },
         "yaxis": "y"
        },
        {
         "line": {
          "color": "#01FFFF",
          "width": 0.6
         },
         "mode": "lines",
         "name": "HMA",
         "showlegend": false,
         "type": "scatter",
         "x": [
          "2025-08-19T10:55:00-04:00",
          "2025-08-19T10:56:00-04:00"
         ],
         "xaxis": "x",
         "y": {
          "bdata": "DmWE2gQhuUCGzz4n3SG5QA==",
          "dtype": "f8"
         },
         "yaxis": "y"
        },
        {
         "line": {
          "color": "#01FFFF",
          "width": 0.6
         },
         "mode": "lines",
         "name": "HMA",
         "showlegend": false,
         "type": "scatter",
         "x": [
          "2025-08-19T10:56:00-04:00",
          "2025-08-19T10:57:00-04:00"
         ],
         "xaxis": "x",
         "y": {
          "bdata": "hs8+J90huUD5LXohcCK5QA==",
          "dtype": "f8"
         },
         "yaxis": "y"
        },
        {
         "line": {
          "color": "#01FFFF",
          "width": 0.6
         },
         "mode": "lines",
         "name": "HMA",
         "showlegend": false,
         "type": "scatter",
         "x": [
          "2025-08-19T10:57:00-04:00",
          "2025-08-19T10:58:00-04:00"
         ],
         "xaxis": "x",
         "y": {
          "bdata": "+S16IXAiuUCSZsY7hyK5QA==",
          "dtype": "f8"
         },
         "yaxis": "y"
        },
        {
         "line": {
          "color": "#FF66FE",
          "width": 0.6
         },
         "mode": "lines",
         "name": "HMA",
         "showlegend": false,
         "type": "scatter",
         "x": [
          "2025-08-19T10:58:00-04:00",
          "2025-08-19T10:59:00-04:00"
         ],
         "xaxis": "x",
         "y": {
          "bdata": "kmbGO4ciuUDSxJ84ziG5QA==",
          "dtype": "f8"
         },
         "yaxis": "y"
        },
        {
         "line": {
          "color": "#FF66FE",
          "width": 0.6
         },
         "mode": "lines",
         "name": "HMA",
         "showlegend": false,
         "type": "scatter",
         "x": [
          "2025-08-19T10:59:00-04:00",
          "2025-08-19T11:00:00-04:00"
         ],
         "xaxis": "x",
         "y": {
          "bdata": "0sSfOM4huUARAp4fLyC5QA==",
          "dtype": "f8"
         },
         "yaxis": "y"
        },
        {
         "line": {
          "color": "#FF66FE",
          "width": 0.6
         },
         "mode": "lines",
         "name": "HMA",
         "showlegend": false,
         "type": "scatter",
         "x": [
          "2025-08-19T11:00:00-04:00",
          "2025-08-19T11:01:00-04:00"
         ],
         "xaxis": "x",
         "y": {
          "bdata": "EQKeHy8guUDAitpi1h25QA==",
          "dtype": "f8"
         },
         "yaxis": "y"
        },
        {
         "line": {
          "color": "#FF66FE",
          "width": 0.6
         },
         "mode": "lines",
         "name": "HMA",
         "showlegend": false,
         "type": "scatter",
         "x": [
          "2025-08-19T11:01:00-04:00",
          "2025-08-19T11:02:00-04:00"
         ],
         "xaxis": "x",
         "y": {
          "bdata": "wIraYtYduUCz5XNCnRu5QA==",
          "dtype": "f8"
         },
         "yaxis": "y"
        },
        {
         "line": {
          "color": "#FF66FE",
          "width": 0.6
         },
         "mode": "lines",
         "name": "HMA",
         "showlegend": false,
         "type": "scatter",
         "x": [
          "2025-08-19T11:02:00-04:00",
          "2025-08-19T11:03:00-04:00"
         ],
         "xaxis": "x",
         "y": {
          "bdata": "s+VzQp0buUCLf1UK9Bm5QA==",
          "dtype": "f8"
         },
         "yaxis": "y"
        },
        {
         "line": {
          "color": "#FF66FE",
          "width": 0.6
         },
         "mode": "lines",
         "name": "HMA",
         "showlegend": false,
         "type": "scatter",
         "x": [
          "2025-08-19T11:03:00-04:00",
          "2025-08-19T11:04:00-04:00"
         ],
         "xaxis": "x",
         "y": {
          "bdata": "i39VCvQZuUCF9Rmw6xi5QA==",
          "dtype": "f8"
         },
         "yaxis": "y"
        },
        {
         "line": {
          "color": "#FF66FE",
          "width": 0.6
         },
         "mode": "lines",
         "name": "HMA",
         "showlegend": false,
         "type": "scatter",
         "x": [
          "2025-08-19T11:04:00-04:00",
          "2025-08-19T11:05:00-04:00"
         ],
         "xaxis": "x",
         "y": {
          "bdata": "hfUZsOsYuUBGdXw+aBi5QA==",
          "dtype": "f8"
         },
         "yaxis": "y"
        },
        {
         "line": {
          "color": "#FF66FE",
          "width": 0.6
         },
         "mode": "lines",
         "name": "HMA",
         "showlegend": false,
         "type": "scatter",
         "x": [
          "2025-08-19T11:05:00-04:00",
          "2025-08-19T11:06:00-04:00"
         ],
         "xaxis": "x",
         "y": {
          "bdata": "RnV8PmgYuUCWU8vFBRi5QA==",
          "dtype": "f8"
         },
         "yaxis": "y"
        },
        {
         "line": {
          "color": "#FF66FE",
          "width": 0.6
         },
         "mode": "lines",
         "name": "HMA",
         "showlegend": false,
         "type": "scatter",
         "x": [
          "2025-08-19T11:06:00-04:00",
          "2025-08-19T11:07:00-04:00"
         ],
         "xaxis": "x",
         "y": {
          "bdata": "llPLxQUYuUAmtPwU7Be5QA==",
          "dtype": "f8"
         },
         "yaxis": "y"
        },
        {
         "line": {
          "color": "#01FFFF",
          "width": 0.6
         },
         "mode": "lines",
         "name": "HMA",
         "showlegend": false,
         "type": "scatter",
         "x": [
          "2025-08-19T11:07:00-04:00",
          "2025-08-19T11:08:00-04:00"
         ],
         "xaxis": "x",
         "y": {
          "bdata": "JrT8FOwXuUCWqzmsIRi5QA==",
          "dtype": "f8"
         },
         "yaxis": "y"
        },
        {
         "line": {
          "color": "#01FFFF",
          "width": 0.6
         },
         "mode": "lines",
         "name": "HMA",
         "showlegend": false,
         "type": "scatter",
         "x": [
          "2025-08-19T11:08:00-04:00",
          "2025-08-19T11:09:00-04:00"
         ],
         "xaxis": "x",
         "y": {
          "bdata": "lqs5rCEYuUAJKbbssRi5QA==",
          "dtype": "f8"
         },
         "yaxis": "y"
        },
        {
         "line": {
          "color": "#01FFFF",
          "width": 0.6
         },
         "mode": "lines",
         "name": "HMA",
         "showlegend": false,
         "type": "scatter",
         "x": [
          "2025-08-19T11:09:00-04:00",
          "2025-08-19T11:10:00-04:00"
         ],
         "xaxis": "x",
         "y": {
          "bdata": "CSm27LEYuUDWylGwLhm5QA==",
          "dtype": "f8"
         },
         "yaxis": "y"
        },
        {
         "line": {
          "color": "#01FFFF",
          "width": 0.6
         },
         "mode": "lines",
         "name": "HMA",
         "showlegend": false,
         "type": "scatter",
         "x": [
          "2025-08-19T11:10:00-04:00",
          "2025-08-19T11:11:00-04:00"
         ],
         "xaxis": "x",
         "y": {
          "bdata": "1spRsC4ZuUC6pFKQmRm5QA==",
          "dtype": "f8"
         },
         "yaxis": "y"
        },
        {
         "line": {
          "color": "#01FFFF",
          "width": 0.6
         },
         "mode": "lines",
         "name": "HMA",
         "showlegend": false,
         "type": "scatter",
         "x": [
          "2025-08-19T11:11:00-04:00",
          "2025-08-19T11:12:00-04:00"
         ],
         "xaxis": "x",
         "y": {
          "bdata": "uqRSkJkZuUAbK1QMsRm5QA==",
          "dtype": "f8"
         },
         "yaxis": "y"
        },
        {
         "line": {
          "color": "#01FFFF",
          "width": 0.6
         },
         "mode": "lines",
         "name": "HMA",
         "showlegend": false,
         "type": "scatter",
         "x": [
          "2025-08-19T11:12:00-04:00",
          "2025-08-19T11:13:00-04:00"
         ],
         "xaxis": "x",
         "y": {
          "bdata": "GytUDLEZuUDjIYTm+xm5QA==",
          "dtype": "f8"
         },
         "yaxis": "y"
        },
        {
         "line": {
          "color": "#01FFFF",
          "width": 0.6
         },
         "mode": "lines",
         "name": "HMA",
         "showlegend": false,
         "type": "scatter",
         "x": [
          "2025-08-19T11:13:00-04:00",
          "2025-08-19T11:14:00-04:00"
         ],
         "xaxis": "x",
         "y": {
          "bdata": "4yGE5vsZuUANOLhthhq5QA==",
          "dtype": "f8"
         },
         "yaxis": "y"
        },
        {
         "line": {
          "color": "#01FFFF",
          "width": 0.6
         },
         "mode": "lines",
         "name": "HMA",
         "showlegend": false,
         "type": "scatter",
         "x": [
          "2025-08-19T11:14:00-04:00",
          "2025-08-19T11:15:00-04:00"
         ],
         "xaxis": "x",
         "y": {
          "bdata": "DTi4bYYauUCzV3fhKxu5QA==",
          "dtype": "f8"
         },
         "yaxis": "y"
        },
        {
         "line": {
          "color": "#01FFFF",
          "width": 0.6
         },
         "mode": "lines",
         "name": "HMA",
         "showlegend": false,
         "type": "scatter",
         "x": [
          "2025-08-19T11:15:00-04:00",
          "2025-08-19T11:16:00-04:00"
         ],
         "xaxis": "x",
         "y": {
          "bdata": "s1d34SsbuUCYsxJb8hu5QA==",
          "dtype": "f8"
         },
         "yaxis": "y"
        },
        {
         "line": {
          "color": "#01FFFF",
          "width": 0.6
         },
         "mode": "lines",
         "name": "HMA",
         "showlegend": false,
         "type": "scatter",
         "x": [
          "2025-08-19T11:16:00-04:00",
          "2025-08-19T11:17:00-04:00"
         ],
         "xaxis": "x",
         "y": {
          "bdata": "mLMSW/IbuUDAizXGrxy5QA==",
          "dtype": "f8"
         },
         "yaxis": "y"
        },
        {
         "line": {
          "color": "#01FFFF",
          "width": 0.6
         },
         "mode": "lines",
         "name": "HMA",
         "showlegend": false,
         "type": "scatter",
         "x": [
          "2025-08-19T11:17:00-04:00",
          "2025-08-19T11:18:00-04:00"
         ],
         "xaxis": "x",
         "y": {
          "bdata": "wIs1xq8cuUDPVG3DZh25QA==",
          "dtype": "f8"
         },
         "yaxis": "y"
        },
        {
         "line": {
          "color": "#01FFFF",
          "width": 0.6
         },
         "mode": "lines",
         "name": "HMA",
         "showlegend": false,
         "type": "scatter",
         "x": [
          "2025-08-19T11:18:00-04:00",
          "2025-08-19T11:19:00-04:00"
         ],
         "xaxis": "x",
         "y": {
          "bdata": "z1Rtw2YduUDrsammGB65QA==",
          "dtype": "f8"
         },
         "yaxis": "y"
        },
        {
         "line": {
          "color": "#01FFFF",
          "width": 0.6
         },
         "mode": "lines",
         "name": "HMA",
         "showlegend": false,
         "type": "scatter",
         "x": [
          "2025-08-19T11:19:00-04:00",
          "2025-08-19T11:20:00-04:00"
         ],
         "xaxis": "x",
         "y": {
          "bdata": "67GpphgeuUDzC3sCnx65QA==",
          "dtype": "f8"
         },
         "yaxis": "y"
        },
        {
         "line": {
          "color": "#01FFFF",
          "width": 0.6
         },
         "mode": "lines",
         "name": "HMA",
         "showlegend": false,
         "type": "scatter",
         "x": [
          "2025-08-19T11:20:00-04:00",
          "2025-08-19T11:21:00-04:00"
         ],
         "xaxis": "x",
         "y": {
          "bdata": "8wt7Ap8euUBc83UY2x65QA==",
          "dtype": "f8"
         },
         "yaxis": "y"
        },
        {
         "line": {
          "color": "#FF66FE",
          "width": 0.6
         },
         "mode": "lines",
         "name": "HMA",
         "showlegend": false,
         "type": "scatter",
         "x": [
          "2025-08-19T11:21:00-04:00",
          "2025-08-19T11:22:00-04:00"
         ],
         "xaxis": "x",
         "y": {
          "bdata": "XPN1GNseuUC4keSBrx65QA==",
          "dtype": "f8"
         },
         "yaxis": "y"
        },
        {
         "line": {
          "color": "#FF66FE",
          "width": 0.6
         },
         "mode": "lines",
         "name": "HMA",
         "showlegend": false,
         "type": "scatter",
         "x": [
          "2025-08-19T11:22:00-04:00",
          "2025-08-19T11:23:00-04:00"
         ],
         "xaxis": "x",
         "y": {
          "bdata": "uJHkga8euUBoqFUULB65QA==",
          "dtype": "f8"
         },
         "yaxis": "y"
        },
        {
         "line": {
          "color": "#FF66FE",
          "width": 0.6
         },
         "mode": "lines",
         "name": "HMA",
         "showlegend": false,
         "type": "scatter",
         "x": [
          "2025-08-19T11:23:00-04:00",
          "2025-08-19T11:24:00-04:00"
         ],
         "xaxis": "x",
         "y": {
          "bdata": "aKhVFCweuUDbdjT0gx25QA==",
          "dtype": "f8"
         },
         "yaxis": "y"
        },
        {
         "line": {
          "color": "#FF66FE",
          "width": 0.6
         },
         "mode": "lines",
         "name": "HMA",
         "showlegend": false,
         "type": "scatter",
         "x": [
          "2025-08-19T11:24:00-04:00",
          "2025-08-19T11:25:00-04:00"
         ],
         "xaxis": "x",
         "y": {
          "bdata": "23Y09IMduUDq5zaNyBy5QA==",
          "dtype": "f8"
         },
         "yaxis": "y"
        },
        {
         "line": {
          "color": "#FF66FE",
          "width": 0.6
         },
         "mode": "lines",
         "name": "HMA",
         "showlegend": false,
         "type": "scatter",
         "x": [
          "2025-08-19T11:25:00-04:00",
          "2025-08-19T11:26:00-04:00"
         ],
         "xaxis": "x",
         "y": {
          "bdata": "6uc2jcgcuUCywjZLYhy5QA==",
          "dtype": "f8"
         },
         "yaxis": "y"
        },
        {
         "line": {
          "color": "#01FFFF",
          "width": 0.6
         },
         "mode": "lines",
         "name": "HMA",
         "showlegend": false,
         "type": "scatter",
         "x": [
          "2025-08-19T11:26:00-04:00",
          "2025-08-19T11:27:00-04:00"
         ],
         "xaxis": "x",
         "y": {
          "bdata": "ssI2S2IcuUBTqpWGdRy5QA==",
          "dtype": "f8"
         },
         "yaxis": "y"
        },
        {
         "line": {
          "color": "#01FFFF",
          "width": 0.6
         },
         "mode": "lines",
         "name": "HMA",
         "showlegend": false,
         "type": "scatter",
         "x": [
          "2025-08-19T11:27:00-04:00",
          "2025-08-19T11:28:00-04:00"
         ],
         "xaxis": "x",
         "y": {
          "bdata": "U6qVhnUcuUDerymmrhy5QA==",
          "dtype": "f8"
         },
         "yaxis": "y"
        },
        {
         "line": {
          "color": "#01FFFF",
          "width": 0.6
         },
         "mode": "lines",
         "name": "HMA",
         "showlegend": false,
         "type": "scatter",
         "x": [
          "2025-08-19T11:28:00-04:00",
          "2025-08-19T11:29:00-04:00"
         ],
         "xaxis": "x",
         "y": {
          "bdata": "3q8ppq4cuUCuaNiHFB25QA==",
          "dtype": "f8"
         },
         "yaxis": "y"
        },
        {
         "line": {
          "color": "#01FFFF",
          "width": 0.6
         },
         "mode": "lines",
         "name": "HMA",
         "showlegend": false,
         "type": "scatter",
         "x": [
          "2025-08-19T11:29:00-04:00",
          "2025-08-19T11:30:00-04:00"
         ],
         "xaxis": "x",
         "y": {
          "bdata": "rmjYhxQduUCTGbQyix25QA==",
          "dtype": "f8"
         },
         "yaxis": "y"
        },
        {
         "line": {
          "color": "#01FFFF",
          "width": 0.6
         },
         "mode": "lines",
         "name": "HMA",
         "showlegend": false,
         "type": "scatter",
         "x": [
          "2025-08-19T11:30:00-04:00",
          "2025-08-19T11:31:00-04:00"
         ],
         "xaxis": "x",
         "y": {
          "bdata": "kxm0MosduUCTCVjiMh65QA==",
          "dtype": "f8"
         },
         "yaxis": "y"
        },
        {
         "line": {
          "color": "#01FFFF",
          "width": 0.6
         },
         "mode": "lines",
         "name": "HMA",
         "showlegend": false,
         "type": "scatter",
         "x": [
          "2025-08-19T11:31:00-04:00",
          "2025-08-19T11:32:00-04:00"
         ],
         "xaxis": "x",
         "y": {
          "bdata": "kwlY4jIeuUCD6ShZ8x65QA==",
          "dtype": "f8"
         },
         "yaxis": "y"
        },
        {
         "line": {
          "color": "#01FFFF",
          "width": 0.6
         },
         "mode": "lines",
         "name": "HMA",
         "showlegend": false,
         "type": "scatter",
         "x": [
          "2025-08-19T11:32:00-04:00",
          "2025-08-19T11:33:00-04:00"
         ],
         "xaxis": "x",
         "y": {
          "bdata": "g+koWfMeuUAo1bszuB+5QA==",
          "dtype": "f8"
         },
         "yaxis": "y"
        },
        {
         "line": {
          "color": "#01FFFF",
          "width": 0.6
         },
         "mode": "lines",
         "name": "HMA",
         "showlegend": false,
         "type": "scatter",
         "x": [
          "2025-08-19T11:33:00-04:00",
          "2025-08-19T11:34:00-04:00"
         ],
         "xaxis": "x",
         "y": {
          "bdata": "KNW7M7gfuUDLCGAQeyC5QA==",
          "dtype": "f8"
         },
         "yaxis": "y"
        },
        {
         "line": {
          "color": "#01FFFF",
          "width": 0.6
         },
         "mode": "lines",
         "name": "HMA",
         "showlegend": false,
         "type": "scatter",
         "x": [
          "2025-08-19T11:34:00-04:00",
          "2025-08-19T11:35:00-04:00"
         ],
         "xaxis": "x",
         "y": {
          "bdata": "ywhgEHsguUDuelDs8SC5QA==",
          "dtype": "f8"
         },
         "yaxis": "y"
        },
        {
         "line": {
          "color": "#FF66FE",
          "width": 0.6
         },
         "mode": "lines",
         "name": "HMA",
         "showlegend": false,
         "type": "scatter",
         "x": [
          "2025-08-19T11:35:00-04:00",
          "2025-08-19T11:36:00-04:00"
         ],
         "xaxis": "x",
         "y": {
          "bdata": "7npQ7PEguUAeVAllzSC5QA==",
          "dtype": "f8"
         },
         "yaxis": "y"
        },
        {
         "line": {
          "color": "#FF66FE",
          "width": 0.6
         },
         "mode": "lines",
         "name": "HMA",
         "showlegend": false,
         "type": "scatter",
         "x": [
          "2025-08-19T11:36:00-04:00",
          "2025-08-19T11:37:00-04:00"
         ],
         "xaxis": "x",
         "y": {
          "bdata": "HlQJZc0guUB7qXzZVyC5QA==",
          "dtype": "f8"
         },
         "yaxis": "y"
        },
        {
         "line": {
          "color": "#FF66FE",
          "width": 0.6
         },
         "mode": "lines",
         "name": "HMA",
         "showlegend": false,
         "type": "scatter",
         "x": [
          "2025-08-19T11:37:00-04:00",
          "2025-08-19T11:38:00-04:00"
         ],
         "xaxis": "x",
         "y": {
          "bdata": "e6l82VcguUBfzQyUrx+5QA==",
          "dtype": "f8"
         },
         "yaxis": "y"
        },
        {
         "line": {
          "color": "#FF66FE",
          "width": 0.6
         },
         "mode": "lines",
         "name": "HMA",
         "showlegend": false,
         "type": "scatter",
         "x": [
          "2025-08-19T11:38:00-04:00",
          "2025-08-19T11:39:00-04:00"
         ],
         "xaxis": "x",
         "y": {
          "bdata": "X80MlK8fuUCueFFj7B65QA==",
          "dtype": "f8"
         },
         "yaxis": "y"
        },
        {
         "line": {
          "color": "#FF66FE",
          "width": 0.6
         },
         "mode": "lines",
         "name": "HMA",
         "showlegend": false,
         "type": "scatter",
         "x": [
          "2025-08-19T11:39:00-04:00",
          "2025-08-19T11:40:00-04:00"
         ],
         "xaxis": "x",
         "y": {
          "bdata": "rnhRY+weuUCNt+0wSh65QA==",
          "dtype": "f8"
         },
         "yaxis": "y"
        },
        {
         "line": {
          "color": "#FF66FE",
          "width": 0.6
         },
         "mode": "lines",
         "name": "HMA",
         "showlegend": false,
         "type": "scatter",
         "x": [
          "2025-08-19T11:40:00-04:00",
          "2025-08-19T11:41:00-04:00"
         ],
         "xaxis": "x",
         "y": {
          "bdata": "jbftMEoeuUDWMqrifx25QA==",
          "dtype": "f8"
         },
         "yaxis": "y"
        },
        {
         "line": {
          "color": "#FF66FE",
          "width": 0.6
         },
         "mode": "lines",
         "name": "HMA",
         "showlegend": false,
         "type": "scatter",
         "x": [
          "2025-08-19T11:41:00-04:00",
          "2025-08-19T11:42:00-04:00"
         ],
         "xaxis": "x",
         "y": {
          "bdata": "1jKq4n8duUAGQpvIxxy5QA==",
          "dtype": "f8"
         },
         "yaxis": "y"
        },
        {
         "line": {
          "color": "#FF66FE",
          "width": 0.6
         },
         "mode": "lines",
         "name": "HMA",
         "showlegend": false,
         "type": "scatter",
         "x": [
          "2025-08-19T11:42:00-04:00",
          "2025-08-19T11:43:00-04:00"
         ],
         "xaxis": "x",
         "y": {
          "bdata": "BkKbyMccuUCjBi59LRy5QA==",
          "dtype": "f8"
         },
         "yaxis": "y"
        },
        {
         "line": {
          "color": "#FF66FE",
          "width": 0.6
         },
         "mode": "lines",
         "name": "HMA",
         "showlegend": false,
         "type": "scatter",
         "x": [
          "2025-08-19T11:43:00-04:00",
          "2025-08-19T11:44:00-04:00"
         ],
         "xaxis": "x",
         "y": {
          "bdata": "owYufS0cuUBwFn7dwhu5QA==",
          "dtype": "f8"
         },
         "yaxis": "y"
        },
        {
         "line": {
          "color": "#FF66FE",
          "width": 0.6
         },
         "mode": "lines",
         "name": "HMA",
         "showlegend": false,
         "type": "scatter",
         "x": [
          "2025-08-19T11:44:00-04:00",
          "2025-08-19T11:45:00-04:00"
         ],
         "xaxis": "x",
         "y": {
          "bdata": "cBZ+3cIbuUA+C0+SmRu5QA==",
          "dtype": "f8"
         },
         "yaxis": "y"
        },
        {
         "line": {
          "color": "#FF66FE",
          "width": 0.6
         },
         "mode": "lines",
         "name": "HMA",
         "showlegend": false,
         "type": "scatter",
         "x": [
          "2025-08-19T11:45:00-04:00",
          "2025-08-19T11:46:00-04:00"
         ],
         "xaxis": "x",
         "y": {
          "bdata": "PgtPkpkbuUDke3Clhhu5QA==",
          "dtype": "f8"
         },
         "yaxis": "y"
        },
        {
         "line": {
          "color": "#FF66FE",
          "width": 0.6
         },
         "mode": "lines",
         "name": "HMA",
         "showlegend": false,
         "type": "scatter",
         "x": [
          "2025-08-19T11:46:00-04:00",
          "2025-08-19T11:47:00-04:00"
         ],
         "xaxis": "x",
         "y": {
          "bdata": "5HtwpYYbuUCf/Lr+Qxu5QA==",
          "dtype": "f8"
         },
         "yaxis": "y"
        },
        {
         "line": {
          "color": "#FF66FE",
          "width": 0.6
         },
         "mode": "lines",
         "name": "HMA",
         "showlegend": false,
         "type": "scatter",
         "x": [
          "2025-08-19T11:47:00-04:00",
          "2025-08-19T11:48:00-04:00"
         ],
         "xaxis": "x",
         "y": {
          "bdata": "n/y6/kMbuUAQdTY4Fhu5QA==",
          "dtype": "f8"
         },
         "yaxis": "y"
        },
        {
         "line": {
          "color": "#FF66FE",
          "width": 0.6
         },
         "mode": "lines",
         "name": "HMA",
         "showlegend": false,
         "type": "scatter",
         "x": [
          "2025-08-19T11:48:00-04:00",
          "2025-08-19T11:49:00-04:00"
         ],
         "xaxis": "x",
         "y": {
          "bdata": "EHU2OBYbuUDDeUA61Bq5QA==",
          "dtype": "f8"
         },
         "yaxis": "y"
        },
        {
         "line": {
          "color": "#FF66FE",
          "width": 0.6
         },
         "mode": "lines",
         "name": "HMA",
         "showlegend": false,
         "type": "scatter",
         "x": [
          "2025-08-19T11:49:00-04:00",
          "2025-08-19T11:50:00-04:00"
         ],
         "xaxis": "x",
         "y": {
          "bdata": "w3lAOtQauUAGwMhAWBq5QA==",
          "dtype": "f8"
         },
         "yaxis": "y"
        },
        {
         "line": {
          "color": "#FF66FE",
          "width": 0.6
         },
         "mode": "lines",
         "name": "HMA",
         "showlegend": false,
         "type": "scatter",
         "x": [
          "2025-08-19T11:50:00-04:00",
          "2025-08-19T11:51:00-04:00"
         ],
         "xaxis": "x",
         "y": {
          "bdata": "BsDIQFgauUCl/wU/nxm5QA==",
          "dtype": "f8"
         },
         "yaxis": "y"
        },
        {
         "line": {
          "color": "#FF66FE",
          "width": 0.6
         },
         "mode": "lines",
         "name": "HMA",
         "showlegend": false,
         "type": "scatter",
         "x": [
          "2025-08-19T11:51:00-04:00",
          "2025-08-19T11:52:00-04:00"
         ],
         "xaxis": "x",
         "y": {
          "bdata": "pf8FP58ZuUAC64ax3xi5QA==",
          "dtype": "f8"
         },
         "yaxis": "y"
        },
        {
         "line": {
          "color": "#FF66FE",
          "width": 0.6
         },
         "mode": "lines",
         "name": "HMA",
         "showlegend": false,
         "type": "scatter",
         "x": [
          "2025-08-19T11:52:00-04:00",
          "2025-08-19T11:53:00-04:00"
         ],
         "xaxis": "x",
         "y": {
          "bdata": "AuuGsd8YuUAuiKtSFxi5QA==",
          "dtype": "f8"
         },
         "yaxis": "y"
        },
        {
         "line": {
          "color": "#FF66FE",
          "width": 0.6
         },
         "mode": "lines",
         "name": "HMA",
         "showlegend": false,
         "type": "scatter",
         "x": [
          "2025-08-19T11:53:00-04:00",
          "2025-08-19T11:54:00-04:00"
         ],
         "xaxis": "x",
         "y": {
          "bdata": "LoirUhcYuUDCMWcmWhe5QA==",
          "dtype": "f8"
         },
         "yaxis": "y"
        },
        {
         "line": {
          "color": "#FF66FE",
          "width": 0.6
         },
         "mode": "lines",
         "name": "HMA",
         "showlegend": false,
         "type": "scatter",
         "x": [
          "2025-08-19T11:54:00-04:00",
          "2025-08-19T11:55:00-04:00"
         ],
         "xaxis": "x",
         "y": {
          "bdata": "wjFnJloXuUAvGWPQuxa5QA==",
          "dtype": "f8"
         },
         "yaxis": "y"
        },
        {
         "line": {
          "color": "#FF66FE",
          "width": 0.6
         },
         "mode": "lines",
         "name": "HMA",
         "showlegend": false,
         "type": "scatter",
         "x": [
          "2025-08-19T11:55:00-04:00",
          "2025-08-19T11:56:00-04:00"
         ],
         "xaxis": "x",
         "y": {
          "bdata": "Lxlj0LsWuUAdZ+jjVBa5QA==",
          "dtype": "f8"
         },
         "yaxis": "y"
        },
        {
         "line": {
          "color": "#FF66FE",
          "width": 0.6
         },
         "mode": "lines",
         "name": "HMA",
         "showlegend": false,
         "type": "scatter",
         "x": [
          "2025-08-19T11:56:00-04:00",
          "2025-08-19T11:57:00-04:00"
         ],
         "xaxis": "x",
         "y": {
          "bdata": "HWfo41QWuUAfmXtBMha5QA==",
          "dtype": "f8"
         },
         "yaxis": "y"
        },
        {
         "line": {
          "color": "#FF66FE",
          "width": 0.6
         },
         "mode": "lines",
         "name": "HMA",
         "showlegend": false,
         "type": "scatter",
         "x": [
          "2025-08-19T11:57:00-04:00",
          "2025-08-19T11:58:00-04:00"
         ],
         "xaxis": "x",
         "y": {
          "bdata": "H5l7QTIWuUDW2+xsBha5QA==",
          "dtype": "f8"
         },
         "yaxis": "y"
        },
        {
         "line": {
          "color": "#FF66FE",
          "width": 0.6
         },
         "mode": "lines",
         "name": "HMA",
         "showlegend": false,
         "type": "scatter",
         "x": [
          "2025-08-19T11:58:00-04:00",
          "2025-08-19T11:59:00-04:00"
         ],
         "xaxis": "x",
         "y": {
          "bdata": "1tvsbAYWuUDwdz/C5RW5QA==",
          "dtype": "f8"
         },
         "yaxis": "y"
        },
        {
         "line": {
          "color": "#01FFFF",
          "width": 0.6
         },
         "mode": "lines",
         "name": "HMA",
         "showlegend": false,
         "type": "scatter",
         "x": [
          "2025-08-19T11:59:00-04:00",
          "2025-08-19T12:00:00-04:00"
         ],
         "xaxis": "x",
         "y": {
          "bdata": "8Hc/wuUVuUBO91DuIha5QA==",
          "dtype": "f8"
         },
         "yaxis": "y"
        },
        {
         "line": {
          "color": "#01FFFF",
          "width": 0.6
         },
         "mode": "lines",
         "name": "HMA",
         "showlegend": false,
         "type": "scatter",
         "x": [
          "2025-08-19T12:00:00-04:00",
          "2025-08-19T12:01:00-04:00"
         ],
         "xaxis": "x",
         "y": {
          "bdata": "TvdQ7iIWuUBmWnajkxa5QA==",
          "dtype": "f8"
         },
         "yaxis": "y"
        },
        {
         "line": {
          "color": "#01FFFF",
          "width": 0.6
         },
         "mode": "lines",
         "name": "HMA",
         "showlegend": false,
         "type": "scatter",
         "x": [
          "2025-08-19T12:01:00-04:00",
          "2025-08-19T12:02:00-04:00"
         ],
         "xaxis": "x",
         "y": {
          "bdata": "Zlp2o5MWuUDAF5fDIhe5QA==",
          "dtype": "f8"
         },
         "yaxis": "y"
        },
        {
         "line": {
          "color": "#01FFFF",
          "width": 0.6
         },
         "mode": "lines",
         "name": "HMA",
         "showlegend": false,
         "type": "scatter",
         "x": [
          "2025-08-19T12:02:00-04:00",
          "2025-08-19T12:03:00-04:00"
         ],
         "xaxis": "x",
         "y": {
          "bdata": "wBeXwyIXuUCg4Tq/rxe5QA==",
          "dtype": "f8"
         },
         "yaxis": "y"
        },
        {
         "line": {
          "color": "#01FFFF",
          "width": 0.6
         },
         "mode": "lines",
         "name": "HMA",
         "showlegend": false,
         "type": "scatter",
         "x": [
          "2025-08-19T12:03:00-04:00",
          "2025-08-19T12:04:00-04:00"
         ],
         "xaxis": "x",
         "y": {
          "bdata": "oOE6v68XuUDKH48l/he5QA==",
          "dtype": "f8"
         },
         "yaxis": "y"
        },
        {
         "line": {
          "color": "#FF66FE",
          "width": 0.6
         },
         "mode": "lines",
         "name": "HMA",
         "showlegend": false,
         "type": "scatter",
         "x": [
          "2025-08-19T12:04:00-04:00",
          "2025-08-19T12:05:00-04:00"
         ],
         "xaxis": "x",
         "y": {
          "bdata": "yh+PJf4XuUCTcigD7Re5QA==",
          "dtype": "f8"
         },
         "yaxis": "y"
        },
        {
         "line": {
          "color": "#FF66FE",
          "width": 0.6
         },
         "mode": "lines",
         "name": "HMA",
         "showlegend": false,
         "type": "scatter",
         "x": [
          "2025-08-19T12:05:00-04:00",
          "2025-08-19T12:06:00-04:00"
         ],
         "xaxis": "x",
         "y": {
          "bdata": "k3IoA+0XuUCmX/haqBe5QA==",
          "dtype": "f8"
         },
         "yaxis": "y"
        },
        {
         "line": {
          "color": "#FF66FE",
          "width": 0.6
         },
         "mode": "lines",
         "name": "HMA",
         "showlegend": false,
         "type": "scatter",
         "x": [
          "2025-08-19T12:06:00-04:00",
          "2025-08-19T12:07:00-04:00"
         ],
         "xaxis": "x",
         "y": {
          "bdata": "pl/4WqgXuUDZizs+ARe5QA==",
          "dtype": "f8"
         },
         "yaxis": "y"
        },
        {
         "line": {
          "color": "#FF66FE",
          "width": 0.6
         },
         "mode": "lines",
         "name": "HMA",
         "showlegend": false,
         "type": "scatter",
         "x": [
          "2025-08-19T12:07:00-04:00",
          "2025-08-19T12:08:00-04:00"
         ],
         "xaxis": "x",
         "y": {
          "bdata": "2Ys7PgEXuUBd2uW1OBa5QA==",
          "dtype": "f8"
         },
         "yaxis": "y"
        },
        {
         "line": {
          "color": "#FF66FE",
          "width": 0.6
         },
         "mode": "lines",
         "name": "HMA",
         "showlegend": false,
         "type": "scatter",
         "x": [
          "2025-08-19T12:08:00-04:00",
          "2025-08-19T12:09:00-04:00"
         ],
         "xaxis": "x",
         "y": {
          "bdata": "XdrltTgWuUCFJlEWWhW5QA==",
          "dtype": "f8"
         },
         "yaxis": "y"
        },
        {
         "line": {
          "color": "#FF66FE",
          "width": 0.6
         },
         "mode": "lines",
         "name": "HMA",
         "showlegend": false,
         "type": "scatter",
         "x": [
          "2025-08-19T12:09:00-04:00",
          "2025-08-19T12:10:00-04:00"
         ],
         "xaxis": "x",
         "y": {
          "bdata": "hSZRFloVuUCHRVpucxS5QA==",
          "dtype": "f8"
         },
         "yaxis": "y"
        },
        {
         "line": {
          "color": "#FF66FE",
          "width": 0.6
         },
         "mode": "lines",
         "name": "HMA",
         "showlegend": false,
         "type": "scatter",
         "x": [
          "2025-08-19T12:10:00-04:00",
          "2025-08-19T12:11:00-04:00"
         ],
         "xaxis": "x",
         "y": {
          "bdata": "h0VabnMUuUBth9GfpBO5QA==",
          "dtype": "f8"
         },
         "yaxis": "y"
        },
        {
         "line": {
          "color": "#FF66FE",
          "width": 0.6
         },
         "mode": "lines",
         "name": "HMA",
         "showlegend": false,
         "type": "scatter",
         "x": [
          "2025-08-19T12:11:00-04:00",
          "2025-08-19T12:12:00-04:00"
         ],
         "xaxis": "x",
         "y": {
          "bdata": "bYfRn6QTuUA3gjUZ0RK5QA==",
          "dtype": "f8"
         },
         "yaxis": "y"
        },
        {
         "line": {
          "color": "#FF66FE",
          "width": 0.6
         },
         "mode": "lines",
         "name": "HMA",
         "showlegend": false,
         "type": "scatter",
         "x": [
          "2025-08-19T12:12:00-04:00",
          "2025-08-19T12:13:00-04:00"
         ],
         "xaxis": "x",
         "y": {
          "bdata": "N4I1GdESuUDSbNzYDhK5QA==",
          "dtype": "f8"
         },
         "yaxis": "y"
        },
        {
         "line": {
          "color": "#FF66FE",
          "width": 0.6
         },
         "mode": "lines",
         "name": "HMA",
         "showlegend": false,
         "type": "scatter",
         "x": [
          "2025-08-19T12:13:00-04:00",
          "2025-08-19T12:14:00-04:00"
         ],
         "xaxis": "x",
         "y": {
          "bdata": "0mzc2A4SuUA81v+DYxG5QA==",
          "dtype": "f8"
         },
         "yaxis": "y"
        },
        {
         "line": {
          "color": "#FF66FE",
          "width": 0.6
         },
         "mode": "lines",
         "name": "HMA",
         "showlegend": false,
         "type": "scatter",
         "x": [
          "2025-08-19T12:14:00-04:00",
          "2025-08-19T12:15:00-04:00"
         ],
         "xaxis": "x",
         "y": {
          "bdata": "PNb/g2MRuUAX0sKwHxG5QA==",
          "dtype": "f8"
         },
         "yaxis": "y"
        },
        {
         "line": {
          "color": "#01FFFF",
          "width": 0.6
         },
         "mode": "lines",
         "name": "HMA",
         "showlegend": false,
         "type": "scatter",
         "x": [
          "2025-08-19T12:15:00-04:00",
          "2025-08-19T12:16:00-04:00"
         ],
         "xaxis": "x",
         "y": {
          "bdata": "F9LCsB8RuUCC8rHkUBG5QA==",
          "dtype": "f8"
         },
         "yaxis": "y"
        },
        {
         "line": {
          "color": "#01FFFF",
          "width": 0.6
         },
         "mode": "lines",
         "name": "HMA",
         "showlegend": false,
         "type": "scatter",
         "x": [
          "2025-08-19T12:16:00-04:00",
          "2025-08-19T12:17:00-04:00"
         ],
         "xaxis": "x",
         "y": {
          "bdata": "gvKx5FARuUCgSOMUxBG5QA==",
          "dtype": "f8"
         },
         "yaxis": "y"
        },
        {
         "line": {
          "color": "#01FFFF",
          "width": 0.6
         },
         "mode": "lines",
         "name": "HMA",
         "showlegend": false,
         "type": "scatter",
         "x": [
          "2025-08-19T12:17:00-04:00",
          "2025-08-19T12:18:00-04:00"
         ],
         "xaxis": "x",
         "y": {
          "bdata": "oEjjFMQRuUAY1xgxgRK5QA==",
          "dtype": "f8"
         },
         "yaxis": "y"
        },
        {
         "line": {
          "color": "#01FFFF",
          "width": 0.6
         },
         "mode": "lines",
         "name": "HMA",
         "showlegend": false,
         "type": "scatter",
         "x": [
          "2025-08-19T12:18:00-04:00",
          "2025-08-19T12:19:00-04:00"
         ],
         "xaxis": "x",
         "y": {
          "bdata": "GNcYMYESuUANhVhyLxO5QA==",
          "dtype": "f8"
         },
         "yaxis": "y"
        },
        {
         "line": {
          "color": "#01FFFF",
          "width": 0.6
         },
         "mode": "lines",
         "name": "HMA",
         "showlegend": false,
         "type": "scatter",
         "x": [
          "2025-08-19T12:19:00-04:00",
          "2025-08-19T12:20:00-04:00"
         ],
         "xaxis": "x",
         "y": {
          "bdata": "DYVYci8TuUDTj221txO5QA==",
          "dtype": "f8"
         },
         "yaxis": "y"
        },
        {
         "line": {
          "color": "#01FFFF",
          "width": 0.6
         },
         "mode": "lines",
         "name": "HMA",
         "showlegend": false,
         "type": "scatter",
         "x": [
          "2025-08-19T12:20:00-04:00",
          "2025-08-19T12:21:00-04:00"
         ],
         "xaxis": "x",
         "y": {
          "bdata": "049ttbcTuUCKkNM7LBS5QA==",
          "dtype": "f8"
         },
         "yaxis": "y"
        },
        {
         "line": {
          "color": "#01FFFF",
          "width": 0.6
         },
         "mode": "lines",
         "name": "HMA",
         "showlegend": false,
         "type": "scatter",
         "x": [
          "2025-08-19T12:21:00-04:00",
          "2025-08-19T12:22:00-04:00"
         ],
         "xaxis": "x",
         "y": {
          "bdata": "ipDTOywUuUD2SNxBrxS5QA==",
          "dtype": "f8"
         },
         "yaxis": "y"
        },
        {
         "line": {
          "color": "#01FFFF",
          "width": 0.6
         },
         "mode": "lines",
         "name": "HMA",
         "showlegend": false,
         "type": "scatter",
         "x": [
          "2025-08-19T12:22:00-04:00",
          "2025-08-19T12:23:00-04:00"
         ],
         "xaxis": "x",
         "y": {
          "bdata": "9kjcQa8UuUC2N9zLShW5QA==",
          "dtype": "f8"
         },
         "yaxis": "y"
        },
        {
         "line": {
          "color": "#01FFFF",
          "width": 0.6
         },
         "mode": "lines",
         "name": "HMA",
         "showlegend": false,
         "type": "scatter",
         "x": [
          "2025-08-19T12:23:00-04:00",
          "2025-08-19T12:24:00-04:00"
         ],
         "xaxis": "x",
         "y": {
          "bdata": "tjfcy0oVuUDD3k7AvxW5QA==",
          "dtype": "f8"
         },
         "yaxis": "y"
        },
        {
         "line": {
          "color": "#01FFFF",
          "width": 0.6
         },
         "mode": "lines",
         "name": "HMA",
         "showlegend": false,
         "type": "scatter",
         "x": [
          "2025-08-19T12:24:00-04:00",
          "2025-08-19T12:25:00-04:00"
         ],
         "xaxis": "x",
         "y": {
          "bdata": "w95OwL8VuUDTnCrgBha5QA==",
          "dtype": "f8"
         },
         "yaxis": "y"
        },
        {
         "line": {
          "color": "#FF66FE",
          "width": 0.6
         },
         "mode": "lines",
         "name": "HMA",
         "showlegend": false,
         "type": "scatter",
         "x": [
          "2025-08-19T12:25:00-04:00",
          "2025-08-19T12:26:00-04:00"
         ],
         "xaxis": "x",
         "y": {
          "bdata": "05wq4AYWuUD1EmtS+RW5QA==",
          "dtype": "f8"
         },
         "yaxis": "y"
        },
        {
         "line": {
          "color": "#FF66FE",
          "width": 0.6
         },
         "mode": "lines",
         "name": "HMA",
         "showlegend": false,
         "type": "scatter",
         "x": [
          "2025-08-19T12:26:00-04:00",
          "2025-08-19T12:27:00-04:00"
         ],
         "xaxis": "x",
         "y": {
          "bdata": "9RJrUvkVuUCO1OtInRW5QA==",
          "dtype": "f8"
         },
         "yaxis": "y"
        },
        {
         "line": {
          "color": "#FF66FE",
          "width": 0.6
         },
         "mode": "lines",
         "name": "HMA",
         "showlegend": false,
         "type": "scatter",
         "x": [
          "2025-08-19T12:27:00-04:00",
          "2025-08-19T12:28:00-04:00"
         ],
         "xaxis": "x",
         "y": {
          "bdata": "jtTrSJ0VuUBW3+SUKxW5QA==",
          "dtype": "f8"
         },
         "yaxis": "y"
        },
        {
         "line": {
          "color": "#FF66FE",
          "width": 0.6
         },
         "mode": "lines",
         "name": "HMA",
         "showlegend": false,
         "type": "scatter",
         "x": [
          "2025-08-19T12:28:00-04:00",
          "2025-08-19T12:29:00-04:00"
         ],
         "xaxis": "x",
         "y": {
          "bdata": "Vt/klCsVuUBVJka6nBS5QA==",
          "dtype": "f8"
         },
         "yaxis": "y"
        },
        {
         "line": {
          "color": "#FF66FE",
          "width": 0.6
         },
         "mode": "lines",
         "name": "HMA",
         "showlegend": false,
         "type": "scatter",
         "x": [
          "2025-08-19T12:29:00-04:00",
          "2025-08-19T12:30:00-04:00"
         ],
         "xaxis": "x",
         "y": {
          "bdata": "VSZGupwUuUCwxr9jFxS5QA==",
          "dtype": "f8"
         },
         "yaxis": "y"
        },
        {
         "line": {
          "color": "#FF66FE",
          "width": 0.6
         },
         "mode": "lines",
         "name": "HMA",
         "showlegend": false,
         "type": "scatter",
         "x": [
          "2025-08-19T12:30:00-04:00",
          "2025-08-19T12:31:00-04:00"
         ],
         "xaxis": "x",
         "y": {
          "bdata": "sMa/YxcUuUB6mTyAaRO5QA==",
          "dtype": "f8"
         },
         "yaxis": "y"
        },
        {
         "line": {
          "color": "#FF66FE",
          "width": 0.6
         },
         "mode": "lines",
         "name": "HMA",
         "showlegend": false,
         "type": "scatter",
         "x": [
          "2025-08-19T12:31:00-04:00",
          "2025-08-19T12:32:00-04:00"
         ],
         "xaxis": "x",
         "y": {
          "bdata": "epk8gGkTuUAtB/oXshK5QA==",
          "dtype": "f8"
         },
         "yaxis": "y"
        },
        {
         "line": {
          "color": "#FF66FE",
          "width": 0.6
         },
         "mode": "lines",
         "name": "HMA",
         "showlegend": false,
         "type": "scatter",
         "x": [
          "2025-08-19T12:32:00-04:00",
          "2025-08-19T12:33:00-04:00"
         ],
         "xaxis": "x",
         "y": {
          "bdata": "LQf6F7ISuUDRa7ljGRK5QA==",
          "dtype": "f8"
         },
         "yaxis": "y"
        },
        {
         "line": {
          "color": "#FF66FE",
          "width": 0.6
         },
         "mode": "lines",
         "name": "HMA",
         "showlegend": false,
         "type": "scatter",
         "x": [
          "2025-08-19T12:33:00-04:00",
          "2025-08-19T12:34:00-04:00"
         ],
         "xaxis": "x",
         "y": {
          "bdata": "0Wu5YxkSuUCWZ1u1vxG5QA==",
          "dtype": "f8"
         },
         "yaxis": "y"
        },
        {
         "line": {
          "color": "#01FFFF",
          "width": 0.6
         },
         "mode": "lines",
         "name": "HMA",
         "showlegend": false,
         "type": "scatter",
         "x": [
          "2025-08-19T12:34:00-04:00",
          "2025-08-19T12:35:00-04:00"
         ],
         "xaxis": "x",
         "y": {
          "bdata": "lmdbtb8RuUBghsj5zRG5QA==",
          "dtype": "f8"
         },
         "yaxis": "y"
        },
        {
         "line": {
          "color": "#01FFFF",
          "width": 0.6
         },
         "mode": "lines",
         "name": "HMA",
         "showlegend": false,
         "type": "scatter",
         "x": [
          "2025-08-19T12:35:00-04:00",
          "2025-08-19T12:36:00-04:00"
         ],
         "xaxis": "x",
         "y": {
          "bdata": "YIbI+c0RuUBuVQZUExK5QA==",
          "dtype": "f8"
         },
         "yaxis": "y"
        },
        {
         "line": {
          "color": "#01FFFF",
          "width": 0.6
         },
         "mode": "lines",
         "name": "HMA",
         "showlegend": false,
         "type": "scatter",
         "x": [
          "2025-08-19T12:36:00-04:00",
          "2025-08-19T12:37:00-04:00"
         ],
         "xaxis": "x",
         "y": {
          "bdata": "blUGVBMSuUC+Dg44RRK5QA==",
          "dtype": "f8"
         },
         "yaxis": "y"
        },
        {
         "line": {
          "color": "#01FFFF",
          "width": 0.6
         },
         "mode": "lines",
         "name": "HMA",
         "showlegend": false,
         "type": "scatter",
         "x": [
          "2025-08-19T12:37:00-04:00",
          "2025-08-19T12:38:00-04:00"
         ],
         "xaxis": "x",
         "y": {
          "bdata": "vg4OOEUSuUD2uGMwWhK5QA==",
          "dtype": "f8"
         },
         "yaxis": "y"
        },
        {
         "line": {
          "color": "#FF66FE",
          "width": 0.6
         },
         "mode": "lines",
         "name": "HMA",
         "showlegend": false,
         "type": "scatter",
         "x": [
          "2025-08-19T12:38:00-04:00",
          "2025-08-19T12:39:00-04:00"
         ],
         "xaxis": "x",
         "y": {
          "bdata": "9rhjMFoSuUACIWqlCBK5QA==",
          "dtype": "f8"
         },
         "yaxis": "y"
        },
        {
         "line": {
          "color": "#FF66FE",
          "width": 0.6
         },
         "mode": "lines",
         "name": "HMA",
         "showlegend": false,
         "type": "scatter",
         "x": [
          "2025-08-19T12:39:00-04:00",
          "2025-08-19T12:40:00-04:00"
         ],
         "xaxis": "x",
         "y": {
          "bdata": "AiFqpQgSuUAIypHMOhG5QA==",
          "dtype": "f8"
         },
         "yaxis": "y"
        },
        {
         "line": {
          "color": "#FF66FE",
          "width": 0.6
         },
         "mode": "lines",
         "name": "HMA",
         "showlegend": false,
         "type": "scatter",
         "x": [
          "2025-08-19T12:40:00-04:00",
          "2025-08-19T12:41:00-04:00"
         ],
         "xaxis": "x",
         "y": {
          "bdata": "CMqRzDoRuUDF7Re/GhC5QA==",
          "dtype": "f8"
         },
         "yaxis": "y"
        },
        {
         "line": {
          "color": "#FF66FE",
          "width": 0.6
         },
         "mode": "lines",
         "name": "HMA",
         "showlegend": false,
         "type": "scatter",
         "x": [
          "2025-08-19T12:41:00-04:00",
          "2025-08-19T12:42:00-04:00"
         ],
         "xaxis": "x",
         "y": {
          "bdata": "xe0XvxoQuUCiAYOD+A65QA==",
          "dtype": "f8"
         },
         "yaxis": "y"
        },
        {
         "line": {
          "color": "#FF66FE",
          "width": 0.6
         },
         "mode": "lines",
         "name": "HMA",
         "showlegend": false,
         "type": "scatter",
         "x": [
          "2025-08-19T12:42:00-04:00",
          "2025-08-19T12:43:00-04:00"
         ],
         "xaxis": "x",
         "y": {
          "bdata": "ogGDg/gOuUA23CBExg25QA==",
          "dtype": "f8"
         },
         "yaxis": "y"
        },
        {
         "line": {
          "color": "#FF66FE",
          "width": 0.6
         },
         "mode": "lines",
         "name": "HMA",
         "showlegend": false,
         "type": "scatter",
         "x": [
          "2025-08-19T12:43:00-04:00",
          "2025-08-19T12:44:00-04:00"
         ],
         "xaxis": "x",
         "y": {
          "bdata": "NtwgRMYNuUBwga9LvAy5QA==",
          "dtype": "f8"
         },
         "yaxis": "y"
        },
        {
         "line": {
          "color": "#FF66FE",
          "width": 0.6
         },
         "mode": "lines",
         "name": "HMA",
         "showlegend": false,
         "type": "scatter",
         "x": [
          "2025-08-19T12:44:00-04:00",
          "2025-08-19T12:45:00-04:00"
         ],
         "xaxis": "x",
         "y": {
          "bdata": "cIGvS7wMuUDrsMBHcgu5QA==",
          "dtype": "f8"
         },
         "yaxis": "y"
        },
        {
         "line": {
          "color": "#FF66FE",
          "width": 0.6
         },
         "mode": "lines",
         "name": "HMA",
         "showlegend": false,
         "type": "scatter",
         "x": [
          "2025-08-19T12:45:00-04:00",
          "2025-08-19T12:46:00-04:00"
         ],
         "xaxis": "x",
         "y": {
          "bdata": "67DAR3ILuUBwTRGuaAq5QA==",
          "dtype": "f8"
         },
         "yaxis": "y"
        },
        {
         "line": {
          "color": "#FF66FE",
          "width": 0.6
         },
         "mode": "lines",
         "name": "HMA",
         "showlegend": false,
         "type": "scatter",
         "x": [
          "2025-08-19T12:46:00-04:00",
          "2025-08-19T12:47:00-04:00"
         ],
         "xaxis": "x",
         "y": {
          "bdata": "cE0RrmgKuUAoLSoaxAm5QA==",
          "dtype": "f8"
         },
         "yaxis": "y"
        },
        {
         "line": {
          "color": "#FF66FE",
          "width": 0.6
         },
         "mode": "lines",
         "name": "HMA",
         "showlegend": false,
         "type": "scatter",
         "x": [
          "2025-08-19T12:47:00-04:00",
          "2025-08-19T12:48:00-04:00"
         ],
         "xaxis": "x",
         "y": {
          "bdata": "KC0qGsQJuUAMC5gbigm5QA==",
          "dtype": "f8"
         },
         "yaxis": "y"
        },
        {
         "line": {
          "color": "#01FFFF",
          "width": 0.6
         },
         "mode": "lines",
         "name": "HMA",
         "showlegend": false,
         "type": "scatter",
         "x": [
          "2025-08-19T12:48:00-04:00",
          "2025-08-19T12:49:00-04:00"
         ],
         "xaxis": "x",
         "y": {
          "bdata": "DAuYG4oJuUAwj9Qkqwm5QA==",
          "dtype": "f8"
         },
         "yaxis": "y"
        },
        {
         "line": {
          "color": "#01FFFF",
          "width": 0.6
         },
         "mode": "lines",
         "name": "HMA",
         "showlegend": false,
         "type": "scatter",
         "x": [
          "2025-08-19T12:49:00-04:00",
          "2025-08-19T12:50:00-04:00"
         ],
         "xaxis": "x",
         "y": {
          "bdata": "MI/UJKsJuUB4/bYgAgq5QA==",
          "dtype": "f8"
         },
         "yaxis": "y"
        },
        {
         "line": {
          "color": "#01FFFF",
          "width": 0.6
         },
         "mode": "lines",
         "name": "HMA",
         "showlegend": false,
         "type": "scatter",
         "x": [
          "2025-08-19T12:50:00-04:00",
          "2025-08-19T12:51:00-04:00"
         ],
         "xaxis": "x",
         "y": {
          "bdata": "eP22IAIKuUDVAXN8gQq5QA==",
          "dtype": "f8"
         },
         "yaxis": "y"
        },
        {
         "line": {
          "color": "#01FFFF",
          "width": 0.6
         },
         "mode": "lines",
         "name": "HMA",
         "showlegend": false,
         "type": "scatter",
         "x": [
          "2025-08-19T12:51:00-04:00",
          "2025-08-19T12:52:00-04:00"
         ],
         "xaxis": "x",
         "y": {
          "bdata": "1QFzfIEKuUBcV9TBGQu5QA==",
          "dtype": "f8"
         },
         "yaxis": "y"
        },
        {
         "line": {
          "color": "#01FFFF",
          "width": 0.6
         },
         "mode": "lines",
         "name": "HMA",
         "showlegend": false,
         "type": "scatter",
         "x": [
          "2025-08-19T12:52:00-04:00",
          "2025-08-19T12:53:00-04:00"
         ],
         "xaxis": "x",
         "y": {
          "bdata": "XFfUwRkLuUCymH0w2wu5QA==",
          "dtype": "f8"
         },
         "yaxis": "y"
        },
        {
         "line": {
          "color": "#01FFFF",
          "width": 0.6
         },
         "mode": "lines",
         "name": "HMA",
         "showlegend": false,
         "type": "scatter",
         "x": [
          "2025-08-19T12:53:00-04:00",
          "2025-08-19T12:54:00-04:00"
         ],
         "xaxis": "x",
         "y": {
          "bdata": "sph9MNsLuUDCIzOhVwy5QA==",
          "dtype": "f8"
         },
         "yaxis": "y"
        },
        {
         "line": {
          "color": "#01FFFF",
          "width": 0.6
         },
         "mode": "lines",
         "name": "HMA",
         "showlegend": false,
         "type": "scatter",
         "x": [
          "2025-08-19T12:54:00-04:00",
          "2025-08-19T12:55:00-04:00"
         ],
         "xaxis": "x",
         "y": {
          "bdata": "wiMzoVcMuUANlkk8gAy5QA==",
          "dtype": "f8"
         },
         "yaxis": "y"
        },
        {
         "line": {
          "color": "#FF66FE",
          "width": 0.6
         },
         "mode": "lines",
         "name": "HMA",
         "showlegend": false,
         "type": "scatter",
         "x": [
          "2025-08-19T12:55:00-04:00",
          "2025-08-19T12:56:00-04:00"
         ],
         "xaxis": "x",
         "y": {
          "bdata": "DZZJPIAMuUAeniY7Vwy5QA==",
          "dtype": "f8"
         },
         "yaxis": "y"
        },
        {
         "line": {
          "color": "#FF66FE",
          "width": 0.6
         },
         "mode": "lines",
         "name": "HMA",
         "showlegend": false,
         "type": "scatter",
         "x": [
          "2025-08-19T12:56:00-04:00",
          "2025-08-19T12:57:00-04:00"
         ],
         "xaxis": "x",
         "y": {
          "bdata": "Hp4mO1cMuUBp8C4o9gu5QA==",
          "dtype": "f8"
         },
         "yaxis": "y"
        },
        {
         "line": {
          "color": "#FF66FE",
          "width": 0.6
         },
         "mode": "lines",
         "name": "HMA",
         "showlegend": false,
         "type": "scatter",
         "x": [
          "2025-08-19T12:57:00-04:00",
          "2025-08-19T12:58:00-04:00"
         ],
         "xaxis": "x",
         "y": {
          "bdata": "afAuKPYLuUDRRgC8mgu5QA==",
          "dtype": "f8"
         },
         "yaxis": "y"
        },
        {
         "line": {
          "color": "#FF66FE",
          "width": 0.6
         },
         "mode": "lines",
         "name": "HMA",
         "showlegend": false,
         "type": "scatter",
         "x": [
          "2025-08-19T12:58:00-04:00",
          "2025-08-19T12:59:00-04:00"
         ],
         "xaxis": "x",
         "y": {
          "bdata": "0UYAvJoLuUClOwuHUAu5QA==",
          "dtype": "f8"
         },
         "yaxis": "y"
        },
        {
         "line": {
          "color": "#FF66FE",
          "width": 0.6
         },
         "mode": "lines",
         "name": "HMA",
         "showlegend": false,
         "type": "scatter",
         "x": [
          "2025-08-19T12:59:00-04:00",
          "2025-08-19T13:00:00-04:00"
         ],
         "xaxis": "x",
         "y": {
          "bdata": "pTsLh1ALuUCeMAOPDgu5QA==",
          "dtype": "f8"
         },
         "yaxis": "y"
        },
        {
         "line": {
          "color": "#FF66FE",
          "width": 0.6
         },
         "mode": "lines",
         "name": "HMA",
         "showlegend": false,
         "type": "scatter",
         "x": [
          "2025-08-19T13:00:00-04:00",
          "2025-08-19T13:01:00-04:00"
         ],
         "xaxis": "x",
         "y": {
          "bdata": "njADjw4LuUBzS3hylQq5QA==",
          "dtype": "f8"
         },
         "yaxis": "y"
        },
        {
         "line": {
          "color": "#FF66FE",
          "width": 0.6
         },
         "mode": "lines",
         "name": "HMA",
         "showlegend": false,
         "type": "scatter",
         "x": [
          "2025-08-19T13:01:00-04:00",
          "2025-08-19T13:02:00-04:00"
         ],
         "xaxis": "x",
         "y": {
          "bdata": "c0t4cpUKuUBn98hqJwq5QA==",
          "dtype": "f8"
         },
         "yaxis": "y"
        },
        {
         "line": {
          "color": "#FF66FE",
          "width": 0.6
         },
         "mode": "lines",
         "name": "HMA",
         "showlegend": false,
         "type": "scatter",
         "x": [
          "2025-08-19T13:02:00-04:00",
          "2025-08-19T13:03:00-04:00"
         ],
         "xaxis": "x",
         "y": {
          "bdata": "Z/fIaicKuUAYY5e5wwm5QA==",
          "dtype": "f8"
         },
         "yaxis": "y"
        },
        {
         "line": {
          "color": "#FF66FE",
          "width": 0.6
         },
         "mode": "lines",
         "name": "HMA",
         "showlegend": false,
         "type": "scatter",
         "x": [
          "2025-08-19T13:03:00-04:00",
          "2025-08-19T13:04:00-04:00"
         ],
         "xaxis": "x",
         "y": {
          "bdata": "GGOXucMJuUDOnClMUQm5QA==",
          "dtype": "f8"
         },
         "yaxis": "y"
        },
        {
         "line": {
          "color": "#FF66FE",
          "width": 0.6
         },
         "mode": "lines",
         "name": "HMA",
         "showlegend": false,
         "type": "scatter",
         "x": [
          "2025-08-19T13:04:00-04:00",
          "2025-08-19T13:05:00-04:00"
         ],
         "xaxis": "x",
         "y": {
          "bdata": "zpwpTFEJuUDJ/0f1mgi5QA==",
          "dtype": "f8"
         },
         "yaxis": "y"
        },
        {
         "line": {
          "color": "#FF66FE",
          "width": 0.6
         },
         "mode": "lines",
         "name": "HMA",
         "showlegend": false,
         "type": "scatter",
         "x": [
          "2025-08-19T13:05:00-04:00",
          "2025-08-19T13:06:00-04:00"
         ],
         "xaxis": "x",
         "y": {
          "bdata": "yf9H9ZoIuUBLwcJzrQe5QA==",
          "dtype": "f8"
         },
         "yaxis": "y"
        },
        {
         "line": {
          "color": "#FF66FE",
          "width": 0.6
         },
         "mode": "lines",
         "name": "HMA",
         "showlegend": false,
         "type": "scatter",
         "x": [
          "2025-08-19T13:06:00-04:00",
          "2025-08-19T13:07:00-04:00"
         ],
         "xaxis": "x",
         "y": {
          "bdata": "S8HCc60HuUD+vHxslwa5QA==",
          "dtype": "f8"
         },
         "yaxis": "y"
        },
        {
         "line": {
          "color": "#FF66FE",
          "width": 0.6
         },
         "mode": "lines",
         "name": "HMA",
         "showlegend": false,
         "type": "scatter",
         "x": [
          "2025-08-19T13:07:00-04:00",
          "2025-08-19T13:08:00-04:00"
         ],
         "xaxis": "x",
         "y": {
          "bdata": "/rx8bJcGuUCeKdtQoAW5QA==",
          "dtype": "f8"
         },
         "yaxis": "y"
        },
        {
         "line": {
          "color": "#FF66FE",
          "width": 0.6
         },
         "mode": "lines",
         "name": "HMA",
         "showlegend": false,
         "type": "scatter",
         "x": [
          "2025-08-19T13:08:00-04:00",
          "2025-08-19T13:09:00-04:00"
         ],
         "xaxis": "x",
         "y": {
          "bdata": "ninbUKAFuUAmvjYRvAS5QA==",
          "dtype": "f8"
         },
         "yaxis": "y"
        },
        {
         "line": {
          "color": "#FF66FE",
          "width": 0.6
         },
         "mode": "lines",
         "name": "HMA",
         "showlegend": false,
         "type": "scatter",
         "x": [
          "2025-08-19T13:09:00-04:00",
          "2025-08-19T13:10:00-04:00"
         ],
         "xaxis": "x",
         "y": {
          "bdata": "Jr42EbwEuUBmpWDhGQS5QA==",
          "dtype": "f8"
         },
         "yaxis": "y"
        },
        {
         "line": {
          "color": "#FF66FE",
          "width": 0.6
         },
         "mode": "lines",
         "name": "HMA",
         "showlegend": false,
         "type": "scatter",
         "x": [
          "2025-08-19T13:10:00-04:00",
          "2025-08-19T13:11:00-04:00"
         ],
         "xaxis": "x",
         "y": {
          "bdata": "ZqVg4RkEuUA8kMA/kgO5QA==",
          "dtype": "f8"
         },
         "yaxis": "y"
        },
        {
         "line": {
          "color": "#FF66FE",
          "width": 0.6
         },
         "mode": "lines",
         "name": "HMA",
         "showlegend": false,
         "type": "scatter",
         "x": [
          "2025-08-19T13:11:00-04:00",
          "2025-08-19T13:12:00-04:00"
         ],
         "xaxis": "x",
         "y": {
          "bdata": "PJDAP5IDuUCt8ShbWwO5QA==",
          "dtype": "f8"
         },
         "yaxis": "y"
        },
        {
         "line": {
          "color": "#01FFFF",
          "width": 0.6
         },
         "mode": "lines",
         "name": "HMA",
         "showlegend": false,
         "type": "scatter",
         "x": [
          "2025-08-19T13:12:00-04:00",
          "2025-08-19T13:13:00-04:00"
         ],
         "xaxis": "x",
         "y": {
          "bdata": "rfEoW1sDuUD6e3WJogO5QA==",
          "dtype": "f8"
         },
         "yaxis": "y"
        },
        {
         "line": {
          "color": "#01FFFF",
          "width": 0.6
         },
         "mode": "lines",
         "name": "HMA",
         "showlegend": false,
         "type": "scatter",
         "x": [
          "2025-08-19T13:13:00-04:00",
          "2025-08-19T13:14:00-04:00"
         ],
         "xaxis": "x",
         "y": {
          "bdata": "+nt1iaIDuUBd8yCfdwS5QA==",
          "dtype": "f8"
         },
         "yaxis": "y"
        },
        {
         "line": {
          "color": "#01FFFF",
          "width": 0.6
         },
         "mode": "lines",
         "name": "HMA",
         "showlegend": false,
         "type": "scatter",
         "x": [
          "2025-08-19T13:14:00-04:00",
          "2025-08-19T13:15:00-04:00"
         ],
         "xaxis": "x",
         "y": {
          "bdata": "XfMgn3cEuUDZBnSDbwW5QA==",
          "dtype": "f8"
         },
         "yaxis": "y"
        },
        {
         "line": {
          "color": "#01FFFF",
          "width": 0.6
         },
         "mode": "lines",
         "name": "HMA",
         "showlegend": false,
         "type": "scatter",
         "x": [
          "2025-08-19T13:15:00-04:00",
          "2025-08-19T13:16:00-04:00"
         ],
         "xaxis": "x",
         "y": {
          "bdata": "2QZ0g28FuUDLDi3rTwa5QA==",
          "dtype": "f8"
         },
         "yaxis": "y"
        },
        {
         "line": {
          "color": "#01FFFF",
          "width": 0.6
         },
         "mode": "lines",
         "name": "HMA",
         "showlegend": false,
         "type": "scatter",
         "x": [
          "2025-08-19T13:16:00-04:00",
          "2025-08-19T13:17:00-04:00"
         ],
         "xaxis": "x",
         "y": {
          "bdata": "yw4t608GuUBI9/lMBAe5QA==",
          "dtype": "f8"
         },
         "yaxis": "y"
        },
        {
         "line": {
          "color": "#01FFFF",
          "width": 0.6
         },
         "mode": "lines",
         "name": "HMA",
         "showlegend": false,
         "type": "scatter",
         "x": [
          "2025-08-19T13:17:00-04:00",
          "2025-08-19T13:18:00-04:00"
         ],
         "xaxis": "x",
         "y": {
          "bdata": "SPf5TAQHuUAOvqKdTQe5QA==",
          "dtype": "f8"
         },
         "yaxis": "y"
        },
        {
         "line": {
          "color": "#01FFFF",
          "width": 0.6
         },
         "mode": "lines",
         "name": "HMA",
         "showlegend": false,
         "type": "scatter",
         "x": [
          "2025-08-19T13:18:00-04:00",
          "2025-08-19T13:19:00-04:00"
         ],
         "xaxis": "x",
         "y": {
          "bdata": "Dr6inU0HuUDw/LEDdAe5QA==",
          "dtype": "f8"
         },
         "yaxis": "y"
        },
        {
         "line": {
          "color": "#01FFFF",
          "width": 0.6
         },
         "mode": "lines",
         "name": "HMA",
         "showlegend": false,
         "type": "scatter",
         "x": [
          "2025-08-19T13:19:00-04:00",
          "2025-08-19T13:20:00-04:00"
         ],
         "xaxis": "x",
         "y": {
          "bdata": "8PyxA3QHuUA6vW6Nmwe5QA==",
          "dtype": "f8"
         },
         "yaxis": "y"
        },
        {
         "line": {
          "color": "#01FFFF",
          "width": 0.6
         },
         "mode": "lines",
         "name": "HMA",
         "showlegend": false,
         "type": "scatter",
         "x": [
          "2025-08-19T13:20:00-04:00",
          "2025-08-19T13:21:00-04:00"
         ],
         "xaxis": "x",
         "y": {
          "bdata": "Or1ujZsHuUDkQcyqxAe5QA==",
          "dtype": "f8"
         },
         "yaxis": "y"
        },
        {
         "line": {
          "color": "#01FFFF",
          "width": 0.6
         },
         "mode": "lines",
         "name": "HMA",
         "showlegend": false,
         "type": "scatter",
         "x": [
          "2025-08-19T13:21:00-04:00",
          "2025-08-19T13:22:00-04:00"
         ],
         "xaxis": "x",
         "y": {
          "bdata": "5EHMqsQHuUBQzp29MQi5QA==",
          "dtype": "f8"
         },
         "yaxis": "y"
        },
        {
         "line": {
          "color": "#01FFFF",
          "width": 0.6
         },
         "mode": "lines",
         "name": "HMA",
         "showlegend": false,
         "type": "scatter",
         "x": [
          "2025-08-19T13:22:00-04:00",
          "2025-08-19T13:23:00-04:00"
         ],
         "xaxis": "x",
         "y": {
          "bdata": "UM6dvTEIuUDNTCIQswi5QA==",
          "dtype": "f8"
         },
         "yaxis": "y"
        },
        {
         "line": {
          "color": "#01FFFF",
          "width": 0.6
         },
         "mode": "lines",
         "name": "HMA",
         "showlegend": false,
         "type": "scatter",
         "x": [
          "2025-08-19T13:23:00-04:00",
          "2025-08-19T13:24:00-04:00"
         ],
         "xaxis": "x",
         "y": {
          "bdata": "zUwiELMIuUCbe149Igm5QA==",
          "dtype": "f8"
         },
         "yaxis": "y"
        },
        {
         "line": {
          "color": "#01FFFF",
          "width": 0.6
         },
         "mode": "lines",
         "name": "HMA",
         "showlegend": false,
         "type": "scatter",
         "x": [
          "2025-08-19T13:24:00-04:00",
          "2025-08-19T13:25:00-04:00"
         ],
         "xaxis": "x",
         "y": {
          "bdata": "m3tePSIJuUC+v+9arQm5QA==",
          "dtype": "f8"
         },
         "yaxis": "y"
        },
        {
         "line": {
          "color": "#01FFFF",
          "width": 0.6
         },
         "mode": "lines",
         "name": "HMA",
         "showlegend": false,
         "type": "scatter",
         "x": [
          "2025-08-19T13:25:00-04:00",
          "2025-08-19T13:26:00-04:00"
         ],
         "xaxis": "x",
         "y": {
          "bdata": "vr/vWq0JuUBjtjOMNQq5QA==",
          "dtype": "f8"
         },
         "yaxis": "y"
        },
        {
         "line": {
          "color": "#01FFFF",
          "width": 0.6
         },
         "mode": "lines",
         "name": "HMA",
         "showlegend": false,
         "type": "scatter",
         "x": [
          "2025-08-19T13:26:00-04:00",
          "2025-08-19T13:27:00-04:00"
         ],
         "xaxis": "x",
         "y": {
          "bdata": "Y7YzjDUKuUBv9TDD2Qq5QA==",
          "dtype": "f8"
         },
         "yaxis": "y"
        },
        {
         "line": {
          "color": "#01FFFF",
          "width": 0.6
         },
         "mode": "lines",
         "name": "HMA",
         "showlegend": false,
         "type": "scatter",
         "x": [
          "2025-08-19T13:27:00-04:00",
          "2025-08-19T13:28:00-04:00"
         ],
         "xaxis": "x",
         "y": {
          "bdata": "b/Uww9kKuUAkcHOXrQu5QA==",
          "dtype": "f8"
         },
         "yaxis": "y"
        },
        {
         "line": {
          "color": "#01FFFF",
          "width": 0.6
         },
         "mode": "lines",
         "name": "HMA",
         "showlegend": false,
         "type": "scatter",
         "x": [
          "2025-08-19T13:28:00-04:00",
          "2025-08-19T13:29:00-04:00"
         ],
         "xaxis": "x",
         "y": {
          "bdata": "JHBzl60LuUD9dpKhaQy5QA==",
          "dtype": "f8"
         },
         "yaxis": "y"
        },
        {
         "line": {
          "color": "#01FFFF",
          "width": 0.6
         },
         "mode": "lines",
         "name": "HMA",
         "showlegend": false,
         "type": "scatter",
         "x": [
          "2025-08-19T13:29:00-04:00",
          "2025-08-19T13:30:00-04:00"
         ],
         "xaxis": "x",
         "y": {
          "bdata": "/XaSoWkMuUDOJbOhAQ25QA==",
          "dtype": "f8"
         },
         "yaxis": "y"
        },
        {
         "line": {
          "color": "#01FFFF",
          "width": 0.6
         },
         "mode": "lines",
         "name": "HMA",
         "showlegend": false,
         "type": "scatter",
         "x": [
          "2025-08-19T13:30:00-04:00",
          "2025-08-19T13:31:00-04:00"
         ],
         "xaxis": "x",
         "y": {
          "bdata": "ziWzoQENuUAx21JIhA25QA==",
          "dtype": "f8"
         },
         "yaxis": "y"
        },
        {
         "line": {
          "color": "#01FFFF",
          "width": 0.6
         },
         "mode": "lines",
         "name": "HMA",
         "showlegend": false,
         "type": "scatter",
         "x": [
          "2025-08-19T13:31:00-04:00",
          "2025-08-19T13:32:00-04:00"
         ],
         "xaxis": "x",
         "y": {
          "bdata": "MdtSSIQNuUBA8r4v1w25QA==",
          "dtype": "f8"
         },
         "yaxis": "y"
        },
        {
         "line": {
          "color": "#01FFFF",
          "width": 0.6
         },
         "mode": "lines",
         "name": "HMA",
         "showlegend": false,
         "type": "scatter",
         "x": [
          "2025-08-19T13:32:00-04:00",
          "2025-08-19T13:33:00-04:00"
         ],
         "xaxis": "x",
         "y": {
          "bdata": "QPK+L9cNuUALXGsrHw65QA==",
          "dtype": "f8"
         },
         "yaxis": "y"
        },
        {
         "line": {
          "color": "#01FFFF",
          "width": 0.6
         },
         "mode": "lines",
         "name": "HMA",
         "showlegend": false,
         "type": "scatter",
         "x": [
          "2025-08-19T13:33:00-04:00",
          "2025-08-19T13:34:00-04:00"
         ],
         "xaxis": "x",
         "y": {
          "bdata": "C1xrKx8OuUCTCFL4TA65QA==",
          "dtype": "f8"
         },
         "yaxis": "y"
        },
        {
         "line": {
          "color": "#01FFFF",
          "width": 0.6
         },
         "mode": "lines",
         "name": "HMA",
         "showlegend": false,
         "type": "scatter",
         "x": [
          "2025-08-19T13:34:00-04:00",
          "2025-08-19T13:35:00-04:00"
         ],
         "xaxis": "x",
         "y": {
          "bdata": "kwhS+EwOuUAKI3cNag65QA==",
          "dtype": "f8"
         },
         "yaxis": "y"
        },
        {
         "line": {
          "color": "#01FFFF",
          "width": 0.6
         },
         "mode": "lines",
         "name": "HMA",
         "showlegend": false,
         "type": "scatter",
         "x": [
          "2025-08-19T13:35:00-04:00",
          "2025-08-19T13:36:00-04:00"
         ],
         "xaxis": "x",
         "y": {
          "bdata": "CiN3DWoOuUCt49dKmQ65QA==",
          "dtype": "f8"
         },
         "yaxis": "y"
        },
        {
         "line": {
          "color": "#01FFFF",
          "width": 0.6
         },
         "mode": "lines",
         "name": "HMA",
         "showlegend": false,
         "type": "scatter",
         "x": [
          "2025-08-19T13:36:00-04:00",
          "2025-08-19T13:37:00-04:00"
         ],
         "xaxis": "x",
         "y": {
          "bdata": "rePXSpkOuUAmrfDN1w65QA==",
          "dtype": "f8"
         },
         "yaxis": "y"
        },
        {
         "line": {
          "color": "#01FFFF",
          "width": 0.6
         },
         "mode": "lines",
         "name": "HMA",
         "showlegend": false,
         "type": "scatter",
         "x": [
          "2025-08-19T13:37:00-04:00",
          "2025-08-19T13:38:00-04:00"
         ],
         "xaxis": "x",
         "y": {
          "bdata": "Jq3wzdcOuUB+BKgEMg+5QA==",
          "dtype": "f8"
         },
         "yaxis": "y"
        },
        {
         "line": {
          "color": "#01FFFF",
          "width": 0.6
         },
         "mode": "lines",
         "name": "HMA",
         "showlegend": false,
         "type": "scatter",
         "x": [
          "2025-08-19T13:38:00-04:00",
          "2025-08-19T13:39:00-04:00"
         ],
         "xaxis": "x",
         "y": {
          "bdata": "fgSoBDIPuUCOP3Iwag+5QA==",
          "dtype": "f8"
         },
         "yaxis": "y"
        },
        {
         "line": {
          "color": "#01FFFF",
          "width": 0.6
         },
         "mode": "lines",
         "name": "HMA",
         "showlegend": false,
         "type": "scatter",
         "x": [
          "2025-08-19T13:39:00-04:00",
          "2025-08-19T13:40:00-04:00"
         ],
         "xaxis": "x",
         "y": {
          "bdata": "jj9yMGoPuUAN8Y/Kng+5QA==",
          "dtype": "f8"
         },
         "yaxis": "y"
        },
        {
         "line": {
          "color": "#01FFFF",
          "width": 0.6
         },
         "mode": "lines",
         "name": "HMA",
         "showlegend": false,
         "type": "scatter",
         "x": [
          "2025-08-19T13:40:00-04:00",
          "2025-08-19T13:41:00-04:00"
         ],
         "xaxis": "x",
         "y": {
          "bdata": "DfGPyp4PuUAl7Qwquw+5QA==",
          "dtype": "f8"
         },
         "yaxis": "y"
        },
        {
         "line": {
          "color": "#FF66FE",
          "width": 0.6
         },
         "mode": "lines",
         "name": "HMA",
         "showlegend": false,
         "type": "scatter",
         "x": [
          "2025-08-19T13:41:00-04:00",
          "2025-08-19T13:42:00-04:00"
         ],
         "xaxis": "x",
         "y": {
          "bdata": "Je0MKrsPuUDC7nGOrg+5QA==",
          "dtype": "f8"
         },
         "yaxis": "y"
        },
        {
         "line": {
          "color": "#FF66FE",
          "width": 0.6
         },
         "mode": "lines",
         "name": "HMA",
         "showlegend": false,
         "type": "scatter",
         "x": [
          "2025-08-19T13:42:00-04:00",
          "2025-08-19T13:43:00-04:00"
         ],
         "xaxis": "x",
         "y": {
          "bdata": "wu5xjq4PuUCKLmTbqQ+5QA==",
          "dtype": "f8"
         },
         "yaxis": "y"
        },
        {
         "line": {
          "color": "#FF66FE",
          "width": 0.6
         },
         "mode": "lines",
         "name": "HMA",
         "showlegend": false,
         "type": "scatter",
         "x": [
          "2025-08-19T13:43:00-04:00",
          "2025-08-19T13:44:00-04:00"
         ],
         "xaxis": "x",
         "y": {
          "bdata": "ii5k26kPuUBSy6iKjw+5QA==",
          "dtype": "f8"
         },
         "yaxis": "y"
        },
        {
         "line": {
          "color": "#FF66FE",
          "width": 0.6
         },
         "mode": "lines",
         "name": "HMA",
         "showlegend": false,
         "type": "scatter",
         "x": [
          "2025-08-19T13:44:00-04:00",
          "2025-08-19T13:45:00-04:00"
         ],
         "xaxis": "x",
         "y": {
          "bdata": "Usuoio8PuUBT2d2jZw+5QA==",
          "dtype": "f8"
         },
         "yaxis": "y"
        },
        {
         "line": {
          "color": "#FF66FE",
          "width": 0.6
         },
         "mode": "lines",
         "name": "HMA",
         "showlegend": false,
         "type": "scatter",
         "x": [
          "2025-08-19T13:45:00-04:00",
          "2025-08-19T13:46:00-04:00"
         ],
         "xaxis": "x",
         "y": {
          "bdata": "U9ndo2cPuUDiq6Eh7w65QA==",
          "dtype": "f8"
         },
         "yaxis": "y"
        },
        {
         "line": {
          "color": "#FF66FE",
          "width": 0.6
         },
         "mode": "lines",
         "name": "HMA",
         "showlegend": false,
         "type": "scatter",
         "x": [
          "2025-08-19T13:46:00-04:00",
          "2025-08-19T13:47:00-04:00"
         ],
         "xaxis": "x",
         "y": {
          "bdata": "4quhIe8OuUCIjWwEZw65QA==",
          "dtype": "f8"
         },
         "yaxis": "y"
        },
        {
         "line": {
          "color": "#FF66FE",
          "width": 0.6
         },
         "mode": "lines",
         "name": "HMA",
         "showlegend": false,
         "type": "scatter",
         "x": [
          "2025-08-19T13:47:00-04:00",
          "2025-08-19T13:48:00-04:00"
         ],
         "xaxis": "x",
         "y": {
          "bdata": "iI1sBGcOuUBVKTpZ6Q25QA==",
          "dtype": "f8"
         },
         "yaxis": "y"
        },
        {
         "line": {
          "color": "#FF66FE",
          "width": 0.6
         },
         "mode": "lines",
         "name": "HMA",
         "showlegend": false,
         "type": "scatter",
         "x": [
          "2025-08-19T13:48:00-04:00",
          "2025-08-19T13:49:00-04:00"
         ],
         "xaxis": "x",
         "y": {
          "bdata": "VSk6WekNuUBgx+o/dw25QA==",
          "dtype": "f8"
         },
         "yaxis": "y"
        },
        {
         "line": {
          "color": "#FF66FE",
          "width": 0.6
         },
         "mode": "lines",
         "name": "HMA",
         "showlegend": false,
         "type": "scatter",
         "x": [
          "2025-08-19T13:49:00-04:00",
          "2025-08-19T13:50:00-04:00"
         ],
         "xaxis": "x",
         "y": {
          "bdata": "YMfqP3cNuUBtULDTMQ25QA==",
          "dtype": "f8"
         },
         "yaxis": "y"
        },
        {
         "line": {
          "color": "#FF66FE",
          "width": 0.6
         },
         "mode": "lines",
         "name": "HMA",
         "showlegend": false,
         "type": "scatter",
         "x": [
          "2025-08-19T13:50:00-04:00",
          "2025-08-19T13:51:00-04:00"
         ],
         "xaxis": "x",
         "y": {
          "bdata": "bVCw0zENuUD2zPMfFA25QA==",
          "dtype": "f8"
         },
         "yaxis": "y"
        },
        {
         "line": {
          "color": "#FF66FE",
          "width": 0.6
         },
         "mode": "lines",
         "name": "HMA",
         "showlegend": false,
         "type": "scatter",
         "x": [
          "2025-08-19T13:51:00-04:00",
          "2025-08-19T13:52:00-04:00"
         ],
         "xaxis": "x",
         "y": {
          "bdata": "9szzHxQNuUCKjlb34gy5QA==",
          "dtype": "f8"
         },
         "yaxis": "y"
        },
        {
         "line": {
          "color": "#FF66FE",
          "width": 0.6
         },
         "mode": "lines",
         "name": "HMA",
         "showlegend": false,
         "type": "scatter",
         "x": [
          "2025-08-19T13:52:00-04:00",
          "2025-08-19T13:53:00-04:00"
         ],
         "xaxis": "x",
         "y": {
          "bdata": "io5W9+IMuUBi6T1Etgy5QA==",
          "dtype": "f8"
         },
         "yaxis": "y"
        },
        {
         "line": {
          "color": "#FF66FE",
          "width": 0.6
         },
         "mode": "lines",
         "name": "HMA",
         "showlegend": false,
         "type": "scatter",
         "x": [
          "2025-08-19T13:53:00-04:00",
          "2025-08-19T13:54:00-04:00"
         ],
         "xaxis": "x",
         "y": {
          "bdata": "Yuk9RLYMuUD/SMJygAy5QA==",
          "dtype": "f8"
         },
         "yaxis": "y"
        },
        {
         "line": {
          "color": "#FF66FE",
          "width": 0.6
         },
         "mode": "lines",
         "name": "HMA",
         "showlegend": false,
         "type": "scatter",
         "x": [
          "2025-08-19T13:54:00-04:00",
          "2025-08-19T13:55:00-04:00"
         ],
         "xaxis": "x",
         "y": {
          "bdata": "/0jCcoAMuUBWQf7nZAy5QA==",
          "dtype": "f8"
         },
         "yaxis": "y"
        },
        {
         "line": {
          "color": "#01FFFF",
          "width": 0.6
         },
         "mode": "lines",
         "name": "HMA",
         "showlegend": false,
         "type": "scatter",
         "x": [
          "2025-08-19T13:55:00-04:00",
          "2025-08-19T13:56:00-04:00"
         ],
         "xaxis": "x",
         "y": {
          "bdata": "VkH+52QMuUAMSIbCcQy5QA==",
          "dtype": "f8"
         },
         "yaxis": "y"
        },
        {
         "line": {
          "color": "#01FFFF",
          "width": 0.6
         },
         "mode": "lines",
         "name": "HMA",
         "showlegend": false,
         "type": "scatter",
         "x": [
          "2025-08-19T13:56:00-04:00",
          "2025-08-19T13:57:00-04:00"
         ],
         "xaxis": "x",
         "y": {
          "bdata": "DEiGwnEMuUCFZEWnpwy5QA==",
          "dtype": "f8"
         },
         "yaxis": "y"
        },
        {
         "line": {
          "color": "#01FFFF",
          "width": 0.6
         },
         "mode": "lines",
         "name": "HMA",
         "showlegend": false,
         "type": "scatter",
         "x": [
          "2025-08-19T13:57:00-04:00",
          "2025-08-19T13:58:00-04:00"
         ],
         "xaxis": "x",
         "y": {
          "bdata": "hWRFp6cMuUBbzOkeCg25QA==",
          "dtype": "f8"
         },
         "yaxis": "y"
        },
        {
         "line": {
          "color": "#01FFFF",
          "width": 0.6
         },
         "mode": "lines",
         "name": "HMA",
         "showlegend": false,
         "type": "scatter",
         "x": [
          "2025-08-19T13:58:00-04:00",
          "2025-08-19T13:59:00-04:00"
         ],
         "xaxis": "x",
         "y": {
          "bdata": "W8zpHgoNuUB/ml/1Xg25QA==",
          "dtype": "f8"
         },
         "yaxis": "y"
        },
        {
         "line": {
          "color": "#01FFFF",
          "width": 0.6
         },
         "mode": "lines",
         "name": "HMA",
         "showlegend": false,
         "type": "scatter",
         "x": [
          "2025-08-19T13:59:00-04:00",
          "2025-08-19T14:00:00-04:00"
         ],
         "xaxis": "x",
         "y": {
          "bdata": "f5pf9V4NuUD6a4qphw25QA==",
          "dtype": "f8"
         },
         "yaxis": "y"
        },
        {
         "line": {
          "color": "#FF66FE",
          "width": 0.6
         },
         "mode": "lines",
         "name": "HMA",
         "showlegend": false,
         "type": "scatter",
         "x": [
          "2025-08-19T14:00:00-04:00",
          "2025-08-19T14:01:00-04:00"
         ],
         "xaxis": "x",
         "y": {
          "bdata": "+muKqYcNuUC1+w5yPQ25QA==",
          "dtype": "f8"
         },
         "yaxis": "y"
        },
        {
         "line": {
          "color": "#FF66FE",
          "width": 0.6
         },
         "mode": "lines",
         "name": "HMA",
         "showlegend": false,
         "type": "scatter",
         "x": [
          "2025-08-19T14:01:00-04:00",
          "2025-08-19T14:02:00-04:00"
         ],
         "xaxis": "x",
         "y": {
          "bdata": "tfsOcj0NuUCLJb9Yogy5QA==",
          "dtype": "f8"
         },
         "yaxis": "y"
        },
        {
         "line": {
          "color": "#FF66FE",
          "width": 0.6
         },
         "mode": "lines",
         "name": "HMA",
         "showlegend": false,
         "type": "scatter",
         "x": [
          "2025-08-19T14:02:00-04:00",
          "2025-08-19T14:03:00-04:00"
         ],
         "xaxis": "x",
         "y": {
          "bdata": "iyW/WKIMuUByG9RdlAu5QA==",
          "dtype": "f8"
         },
         "yaxis": "y"
        },
        {
         "line": {
          "color": "#FF66FE",
          "width": 0.6
         },
         "mode": "lines",
         "name": "HMA",
         "showlegend": false,
         "type": "scatter",
         "x": [
          "2025-08-19T14:03:00-04:00",
          "2025-08-19T14:04:00-04:00"
         ],
         "xaxis": "x",
         "y": {
          "bdata": "chvUXZQLuUCtEj3zWgq5QA==",
          "dtype": "f8"
         },
         "yaxis": "y"
        },
        {
         "line": {
          "color": "#FF66FE",
          "width": 0.6
         },
         "mode": "lines",
         "name": "HMA",
         "showlegend": false,
         "type": "scatter",
         "x": [
          "2025-08-19T14:04:00-04:00",
          "2025-08-19T14:05:00-04:00"
         ],
         "xaxis": "x",
         "y": {
          "bdata": "rRI981oKuUBc7ag9Jgm5QA==",
          "dtype": "f8"
         },
         "yaxis": "y"
        },
        {
         "line": {
          "color": "#FF66FE",
          "width": 0.6
         },
         "mode": "lines",
         "name": "HMA",
         "showlegend": false,
         "type": "scatter",
         "x": [
          "2025-08-19T14:05:00-04:00",
          "2025-08-19T14:06:00-04:00"
         ],
         "xaxis": "x",
         "y": {
          "bdata": "XO2oPSYJuUD+9Rp9Mwi5QA==",
          "dtype": "f8"
         },
         "yaxis": "y"
        },
        {
         "line": {
          "color": "#FF66FE",
          "width": 0.6
         },
         "mode": "lines",
         "name": "HMA",
         "showlegend": false,
         "type": "scatter",
         "x": [
          "2025-08-19T14:06:00-04:00",
          "2025-08-19T14:07:00-04:00"
         ],
         "xaxis": "x",
         "y": {
          "bdata": "/vUafTMIuUBO1BSLrQe5QA==",
          "dtype": "f8"
         },
         "yaxis": "y"
        },
        {
         "line": {
          "color": "#FF66FE",
          "width": 0.6
         },
         "mode": "lines",
         "name": "HMA",
         "showlegend": false,
         "type": "scatter",
         "x": [
          "2025-08-19T14:07:00-04:00",
          "2025-08-19T14:08:00-04:00"
         ],
         "xaxis": "x",
         "y": {
          "bdata": "TtQUi60HuUAWbDw8mwe5QA==",
          "dtype": "f8"
         },
         "yaxis": "y"
        },
        {
         "line": {
          "color": "#01FFFF",
          "width": 0.6
         },
         "mode": "lines",
         "name": "HMA",
         "showlegend": false,
         "type": "scatter",
         "x": [
          "2025-08-19T14:08:00-04:00",
          "2025-08-19T14:09:00-04:00"
         ],
         "xaxis": "x",
         "y": {
          "bdata": "Fmw8PJsHuUDybHJ0CAi5QA==",
          "dtype": "f8"
         },
         "yaxis": "y"
        },
        {
         "line": {
          "color": "#01FFFF",
          "width": 0.6
         },
         "mode": "lines",
         "name": "HMA",
         "showlegend": false,
         "type": "scatter",
         "x": [
          "2025-08-19T14:09:00-04:00",
          "2025-08-19T14:10:00-04:00"
         ],
         "xaxis": "x",
         "y": {
          "bdata": "8mxydAgIuUCbUIKthQi5QA==",
          "dtype": "f8"
         },
         "yaxis": "y"
        },
        {
         "line": {
          "color": "#01FFFF",
          "width": 0.6
         },
         "mode": "lines",
         "name": "HMA",
         "showlegend": false,
         "type": "scatter",
         "x": [
          "2025-08-19T14:10:00-04:00",
          "2025-08-19T14:11:00-04:00"
         ],
         "xaxis": "x",
         "y": {
          "bdata": "m1CCrYUIuUCzo6CLAQm5QA==",
          "dtype": "f8"
         },
         "yaxis": "y"
        },
        {
         "line": {
          "color": "#01FFFF",
          "width": 0.6
         },
         "mode": "lines",
         "name": "HMA",
         "showlegend": false,
         "type": "scatter",
         "x": [
          "2025-08-19T14:11:00-04:00",
          "2025-08-19T14:12:00-04:00"
         ],
         "xaxis": "x",
         "y": {
          "bdata": "s6OgiwEJuUDL4mf8PAm5QA==",
          "dtype": "f8"
         },
         "yaxis": "y"
        },
        {
         "line": {
          "color": "#01FFFF",
          "width": 0.6
         },
         "mode": "lines",
         "name": "HMA",
         "showlegend": false,
         "type": "scatter",
         "x": [
          "2025-08-19T14:12:00-04:00",
          "2025-08-19T14:13:00-04:00"
         ],
         "xaxis": "x",
         "y": {
          "bdata": "y+Jn/DwJuUB6KoL5Sgm5QA==",
          "dtype": "f8"
         },
         "yaxis": "y"
        },
        {
         "line": {
          "color": "#FF66FE",
          "width": 0.6
         },
         "mode": "lines",
         "name": "HMA",
         "showlegend": false,
         "type": "scatter",
         "x": [
          "2025-08-19T14:13:00-04:00",
          "2025-08-19T14:14:00-04:00"
         ],
         "xaxis": "x",
         "y": {
          "bdata": "eiqC+UoJuUBr4AtaJwm5QA==",
          "dtype": "f8"
         },
         "yaxis": "y"
        },
        {
         "line": {
          "color": "#FF66FE",
          "width": 0.6
         },
         "mode": "lines",
         "name": "HMA",
         "showlegend": false,
         "type": "scatter",
         "x": [
          "2025-08-19T14:14:00-04:00",
          "2025-08-19T14:15:00-04:00"
         ],
         "xaxis": "x",
         "y": {
          "bdata": "a+ALWicJuUATw04r2Ai5QA==",
          "dtype": "f8"
         },
         "yaxis": "y"
        },
        {
         "line": {
          "color": "#FF66FE",
          "width": 0.6
         },
         "mode": "lines",
         "name": "HMA",
         "showlegend": false,
         "type": "scatter",
         "x": [
          "2025-08-19T14:15:00-04:00",
          "2025-08-19T14:16:00-04:00"
         ],
         "xaxis": "x",
         "y": {
          "bdata": "E8NOK9gIuUB1AVucawi5QA==",
          "dtype": "f8"
         },
         "yaxis": "y"
        },
        {
         "line": {
          "color": "#FF66FE",
          "width": 0.6
         },
         "mode": "lines",
         "name": "HMA",
         "showlegend": false,
         "type": "scatter",
         "x": [
          "2025-08-19T14:16:00-04:00",
          "2025-08-19T14:17:00-04:00"
         ],
         "xaxis": "x",
         "y": {
          "bdata": "dQFbnGsIuUAgm06T1Ae5QA==",
          "dtype": "f8"
         },
         "yaxis": "y"
        },
        {
         "line": {
          "color": "#FF66FE",
          "width": 0.6
         },
         "mode": "lines",
         "name": "HMA",
         "showlegend": false,
         "type": "scatter",
         "x": [
          "2025-08-19T14:17:00-04:00",
          "2025-08-19T14:18:00-04:00"
         ],
         "xaxis": "x",
         "y": {
          "bdata": "IJtOk9QHuUDc6u+BQAe5QA==",
          "dtype": "f8"
         },
         "yaxis": "y"
        },
        {
         "line": {
          "color": "#FF66FE",
          "width": 0.6
         },
         "mode": "lines",
         "name": "HMA",
         "showlegend": false,
         "type": "scatter",
         "x": [
          "2025-08-19T14:18:00-04:00",
          "2025-08-19T14:19:00-04:00"
         ],
         "xaxis": "x",
         "y": {
          "bdata": "3OrvgUAHuUB9TsXaqwa5QA==",
          "dtype": "f8"
         },
         "yaxis": "y"
        },
        {
         "line": {
          "color": "#FF66FE",
          "width": 0.6
         },
         "mode": "lines",
         "name": "HMA",
         "showlegend": false,
         "type": "scatter",
         "x": [
          "2025-08-19T14:19:00-04:00",
          "2025-08-19T14:20:00-04:00"
         ],
         "xaxis": "x",
         "y": {
          "bdata": "fU7F2qsGuUD0T3aEEAa5QA==",
          "dtype": "f8"
         },
         "yaxis": "y"
        },
        {
         "line": {
          "color": "#FF66FE",
          "width": 0.6
         },
         "mode": "lines",
         "name": "HMA",
         "showlegend": false,
         "type": "scatter",
         "x": [
          "2025-08-19T14:20:00-04:00",
          "2025-08-19T14:21:00-04:00"
         ],
         "xaxis": "x",
         "y": {
          "bdata": "9E92hBAGuUBtSEkppAW5QA==",
          "dtype": "f8"
         },
         "yaxis": "y"
        },
        {
         "line": {
          "color": "#FF66FE",
          "width": 0.6
         },
         "mode": "lines",
         "name": "HMA",
         "showlegend": false,
         "type": "scatter",
         "x": [
          "2025-08-19T14:21:00-04:00",
          "2025-08-19T14:22:00-04:00"
         ],
         "xaxis": "x",
         "y": {
          "bdata": "bUhJKaQFuUA2auOOWAW5QA==",
          "dtype": "f8"
         },
         "yaxis": "y"
        },
        {
         "line": {
          "color": "#FF66FE",
          "width": 0.6
         },
         "mode": "lines",
         "name": "HMA",
         "showlegend": false,
         "type": "scatter",
         "x": [
          "2025-08-19T14:22:00-04:00",
          "2025-08-19T14:23:00-04:00"
         ],
         "xaxis": "x",
         "y": {
          "bdata": "NmrjjlgFuUAcEb6/KAW5QA==",
          "dtype": "f8"
         },
         "yaxis": "y"
        },
        {
         "line": {
          "color": "#FF66FE",
          "width": 0.6
         },
         "mode": "lines",
         "name": "HMA",
         "showlegend": false,
         "type": "scatter",
         "x": [
          "2025-08-19T14:23:00-04:00",
          "2025-08-19T14:24:00-04:00"
         ],
         "xaxis": "x",
         "y": {
          "bdata": "HBG+vygFuUC5ElymFQW5QA==",
          "dtype": "f8"
         },
         "yaxis": "y"
        },
        {
         "line": {
          "color": "#01FFFF",
          "width": 0.6
         },
         "mode": "lines",
         "name": "HMA",
         "showlegend": false,
         "type": "scatter",
         "x": [
          "2025-08-19T14:24:00-04:00",
          "2025-08-19T14:25:00-04:00"
         ],
         "xaxis": "x",
         "y": {
          "bdata": "uRJcphUFuUDEd23oQQW5QA==",
          "dtype": "f8"
         },
         "yaxis": "y"
        },
        {
         "line": {
          "color": "#01FFFF",
          "width": 0.6
         },
         "mode": "lines",
         "name": "HMA",
         "showlegend": false,
         "type": "scatter",
         "x": [
          "2025-08-19T14:25:00-04:00",
          "2025-08-19T14:26:00-04:00"
         ],
         "xaxis": "x",
         "y": {
          "bdata": "xHdt6EEFuUCYNVfnhAW5QA==",
          "dtype": "f8"
         },
         "yaxis": "y"
        },
        {
         "line": {
          "color": "#01FFFF",
          "width": 0.6
         },
         "mode": "lines",
         "name": "HMA",
         "showlegend": false,
         "type": "scatter",
         "x": [
          "2025-08-19T14:26:00-04:00",
          "2025-08-19T14:27:00-04:00"
         ],
         "xaxis": "x",
         "y": {
          "bdata": "mDVX54QFuUDeX3fjowW5QA==",
          "dtype": "f8"
         },
         "yaxis": "y"
        },
        {
         "line": {
          "color": "#01FFFF",
          "width": 0.6
         },
         "mode": "lines",
         "name": "HMA",
         "showlegend": false,
         "type": "scatter",
         "x": [
          "2025-08-19T14:27:00-04:00",
          "2025-08-19T14:28:00-04:00"
         ],
         "xaxis": "x",
         "y": {
          "bdata": "3l9346MFuUBlFFNWvAW5QA==",
          "dtype": "f8"
         },
         "yaxis": "y"
        },
        {
         "line": {
          "color": "#01FFFF",
          "width": 0.6
         },
         "mode": "lines",
         "name": "HMA",
         "showlegend": false,
         "type": "scatter",
         "x": [
          "2025-08-19T14:28:00-04:00",
          "2025-08-19T14:29:00-04:00"
         ],
         "xaxis": "x",
         "y": {
          "bdata": "ZRRTVrwFuUDW+Hfs0AW5QA==",
          "dtype": "f8"
         },
         "yaxis": "y"
        },
        {
         "line": {
          "color": "#01FFFF",
          "width": 0.6
         },
         "mode": "lines",
         "name": "HMA",
         "showlegend": false,
         "type": "scatter",
         "x": [
          "2025-08-19T14:29:00-04:00",
          "2025-08-19T14:30:00-04:00"
         ],
         "xaxis": "x",
         "y": {
          "bdata": "1vh37NAFuUBD+9ZK1wW5QA==",
          "dtype": "f8"
         },
         "yaxis": "y"
        },
        {
         "line": {
          "color": "#01FFFF",
          "width": 0.6
         },
         "mode": "lines",
         "name": "HMA",
         "showlegend": false,
         "type": "scatter",
         "x": [
          "2025-08-19T14:30:00-04:00",
          "2025-08-19T14:31:00-04:00"
         ],
         "xaxis": "x",
         "y": {
          "bdata": "Q/vWStcFuUCz84o84AW5QA==",
          "dtype": "f8"
         },
         "yaxis": "y"
        },
        {
         "line": {
          "color": "#01FFFF",
          "width": 0.6
         },
         "mode": "lines",
         "name": "HMA",
         "showlegend": false,
         "type": "scatter",
         "x": [
          "2025-08-19T14:31:00-04:00",
          "2025-08-19T14:32:00-04:00"
         ],
         "xaxis": "x",
         "y": {
          "bdata": "s/OKPOAFuUDlfbRn9gW5QA==",
          "dtype": "f8"
         },
         "yaxis": "y"
        },
        {
         "line": {
          "color": "#FF66FE",
          "width": 0.6
         },
         "mode": "lines",
         "name": "HMA",
         "showlegend": false,
         "type": "scatter",
         "x": [
          "2025-08-19T14:32:00-04:00",
          "2025-08-19T14:33:00-04:00"
         ],
         "xaxis": "x",
         "y": {
          "bdata": "5X20Z/YFuUA7n90j6wW5QA==",
          "dtype": "f8"
         },
         "yaxis": "y"
        },
        {
         "line": {
          "color": "#FF66FE",
          "width": 0.6
         },
         "mode": "lines",
         "name": "HMA",
         "showlegend": false,
         "type": "scatter",
         "x": [
          "2025-08-19T14:33:00-04:00",
          "2025-08-19T14:34:00-04:00"
         ],
         "xaxis": "x",
         "y": {
          "bdata": "O5/dI+sFuUCurlBOrwW5QA==",
          "dtype": "f8"
         },
         "yaxis": "y"
        },
        {
         "line": {
          "color": "#FF66FE",
          "width": 0.6
         },
         "mode": "lines",
         "name": "HMA",
         "showlegend": false,
         "type": "scatter",
         "x": [
          "2025-08-19T14:34:00-04:00",
          "2025-08-19T14:35:00-04:00"
         ],
         "xaxis": "x",
         "y": {
          "bdata": "rq5QTq8FuUCZfoteWAW5QA==",
          "dtype": "f8"
         },
         "yaxis": "y"
        },
        {
         "line": {
          "color": "#FF66FE",
          "width": 0.6
         },
         "mode": "lines",
         "name": "HMA",
         "showlegend": false,
         "type": "scatter",
         "x": [
          "2025-08-19T14:35:00-04:00",
          "2025-08-19T14:36:00-04:00"
         ],
         "xaxis": "x",
         "y": {
          "bdata": "mX6LXlgFuUA9fNvW1AS5QA==",
          "dtype": "f8"
         },
         "yaxis": "y"
        },
        {
         "line": {
          "color": "#FF66FE",
          "width": 0.6
         },
         "mode": "lines",
         "name": "HMA",
         "showlegend": false,
         "type": "scatter",
         "x": [
          "2025-08-19T14:36:00-04:00",
          "2025-08-19T14:37:00-04:00"
         ],
         "xaxis": "x",
         "y": {
          "bdata": "PXzb1tQEuUAHg2iVTQS5QA==",
          "dtype": "f8"
         },
         "yaxis": "y"
        },
        {
         "line": {
          "color": "#FF66FE",
          "width": 0.6
         },
         "mode": "lines",
         "name": "HMA",
         "showlegend": false,
         "type": "scatter",
         "x": [
          "2025-08-19T14:37:00-04:00",
          "2025-08-19T14:38:00-04:00"
         ],
         "xaxis": "x",
         "y": {
          "bdata": "B4NolU0EuUBx20X9zQO5QA==",
          "dtype": "f8"
         },
         "yaxis": "y"
        },
        {
         "line": {
          "color": "#FF66FE",
          "width": 0.6
         },
         "mode": "lines",
         "name": "HMA",
         "showlegend": false,
         "type": "scatter",
         "x": [
          "2025-08-19T14:38:00-04:00",
          "2025-08-19T14:39:00-04:00"
         ],
         "xaxis": "x",
         "y": {
          "bdata": "cdtF/c0DuUBnRpE6VgO5QA==",
          "dtype": "f8"
         },
         "yaxis": "y"
        },
        {
         "line": {
          "color": "#FF66FE",
          "width": 0.6
         },
         "mode": "lines",
         "name": "HMA",
         "showlegend": false,
         "type": "scatter",
         "x": [
          "2025-08-19T14:39:00-04:00",
          "2025-08-19T14:40:00-04:00"
         ],
         "xaxis": "x",
         "y": {
          "bdata": "Z0aROlYDuUAyJ19nKgO5QA==",
          "dtype": "f8"
         },
         "yaxis": "y"
        },
        {
         "line": {
          "color": "#01FFFF",
          "width": 0.6
         },
         "mode": "lines",
         "name": "HMA",
         "showlegend": false,
         "type": "scatter",
         "x": [
          "2025-08-19T14:40:00-04:00",
          "2025-08-19T14:41:00-04:00"
         ],
         "xaxis": "x",
         "y": {
          "bdata": "MidfZyoDuUANo1vgMgO5QA==",
          "dtype": "f8"
         },
         "yaxis": "y"
        },
        {
         "line": {
          "color": "#01FFFF",
          "width": 0.6
         },
         "mode": "lines",
         "name": "HMA",
         "showlegend": false,
         "type": "scatter",
         "x": [
          "2025-08-19T14:41:00-04:00",
          "2025-08-19T14:42:00-04:00"
         ],
         "xaxis": "x",
         "y": {
          "bdata": "DaNb4DIDuUD2G4NtaQO5QA==",
          "dtype": "f8"
         },
         "yaxis": "y"
        },
        {
         "line": {
          "color": "#FF66FE",
          "width": 0.6
         },
         "mode": "lines",
         "name": "HMA",
         "showlegend": false,
         "type": "scatter",
         "x": [
          "2025-08-19T14:42:00-04:00",
          "2025-08-19T14:43:00-04:00"
         ],
         "xaxis": "x",
         "y": {
          "bdata": "9huDbWkDuUDDzxRRZwO5QA==",
          "dtype": "f8"
         },
         "yaxis": "y"
        },
        {
         "line": {
          "color": "#01FFFF",
          "width": 0.6
         },
         "mode": "lines",
         "name": "HMA",
         "showlegend": false,
         "type": "scatter",
         "x": [
          "2025-08-19T14:43:00-04:00",
          "2025-08-19T14:44:00-04:00"
         ],
         "xaxis": "x",
         "y": {
          "bdata": "w88UUWcDuUD2EmtSaQO5QA==",
          "dtype": "f8"
         },
         "yaxis": "y"
        },
        {
         "line": {
          "color": "#01FFFF",
          "width": 0.6
         },
         "mode": "lines",
         "name": "HMA",
         "showlegend": false,
         "type": "scatter",
         "x": [
          "2025-08-19T14:44:00-04:00",
          "2025-08-19T14:45:00-04:00"
         ],
         "xaxis": "x",
         "y": {
          "bdata": "9hJrUmkDuUAxuycPewO5QA==",
          "dtype": "f8"
         },
         "yaxis": "y"
        },
        {
         "line": {
          "color": "#FF66FE",
          "width": 0.6
         },
         "mode": "lines",
         "name": "HMA",
         "showlegend": false,
         "type": "scatter",
         "x": [
          "2025-08-19T14:45:00-04:00",
          "2025-08-19T14:46:00-04:00"
         ],
         "xaxis": "x",
         "y": {
          "bdata": "MbsnD3sDuUBAvnULdwO5QA==",
          "dtype": "f8"
         },
         "yaxis": "y"
        },
        {
         "line": {
          "color": "#01FFFF",
          "width": 0.6
         },
         "mode": "lines",
         "name": "HMA",
         "showlegend": false,
         "type": "scatter",
         "x": [
          "2025-08-19T14:46:00-04:00",
          "2025-08-19T14:47:00-04:00"
         ],
         "xaxis": "x",
         "y": {
          "bdata": "QL51C3cDuUBNRYXYfgO5QA==",
          "dtype": "f8"
         },
         "yaxis": "y"
        },
        {
         "line": {
          "color": "#FF66FE",
          "width": 0.6
         },
         "mode": "lines",
         "name": "HMA",
         "showlegend": false,
         "type": "scatter",
         "x": [
          "2025-08-19T14:47:00-04:00",
          "2025-08-19T14:48:00-04:00"
         ],
         "xaxis": "x",
         "y": {
          "bdata": "TUWF2H4DuUD/6xqXcgO5QA==",
          "dtype": "f8"
         },
         "yaxis": "y"
        },
        {
         "line": {
          "color": "#FF66FE",
          "width": 0.6
         },
         "mode": "lines",
         "name": "HMA",
         "showlegend": false,
         "type": "scatter",
         "x": [
          "2025-08-19T14:48:00-04:00",
          "2025-08-19T14:49:00-04:00"
         ],
         "xaxis": "x",
         "y": {
          "bdata": "/+sal3IDuUAGpLWvVgO5QA==",
          "dtype": "f8"
         },
         "yaxis": "y"
        },
        {
         "line": {
          "color": "#FF66FE",
          "width": 0.6
         },
         "mode": "lines",
         "name": "HMA",
         "showlegend": false,
         "type": "scatter",
         "x": [
          "2025-08-19T14:49:00-04:00",
          "2025-08-19T14:50:00-04:00"
         ],
         "xaxis": "x",
         "y": {
          "bdata": "BqS1r1YDuUDqKMvXJAO5QA==",
          "dtype": "f8"
         },
         "yaxis": "y"
        },
        {
         "line": {
          "color": "#FF66FE",
          "width": 0.6
         },
         "mode": "lines",
         "name": "HMA",
         "showlegend": false,
         "type": "scatter",
         "x": [
          "2025-08-19T14:50:00-04:00",
          "2025-08-19T14:51:00-04:00"
         ],
         "xaxis": "x",
         "y": {
          "bdata": "6ijL1yQDuUBq8wdk/gK5QA==",
          "dtype": "f8"
         },
         "yaxis": "y"
        },
        {
         "line": {
          "color": "#01FFFF",
          "width": 0.6
         },
         "mode": "lines",
         "name": "HMA",
         "showlegend": false,
         "type": "scatter",
         "x": [
          "2025-08-19T14:51:00-04:00",
          "2025-08-19T14:52:00-04:00"
         ],
         "xaxis": "x",
         "y": {
          "bdata": "avMHZP4CuUBW+rlNAwO5QA==",
          "dtype": "f8"
         },
         "yaxis": "y"
        },
        {
         "line": {
          "color": "#01FFFF",
          "width": 0.6
         },
         "mode": "lines",
         "name": "HMA",
         "showlegend": false,
         "type": "scatter",
         "x": [
          "2025-08-19T14:52:00-04:00",
          "2025-08-19T14:53:00-04:00"
         ],
         "xaxis": "x",
         "y": {
          "bdata": "Vvq5TQMDuUAzfyNbXwO5QA==",
          "dtype": "f8"
         },
         "yaxis": "y"
        },
        {
         "line": {
          "color": "#01FFFF",
          "width": 0.6
         },
         "mode": "lines",
         "name": "HMA",
         "showlegend": false,
         "type": "scatter",
         "x": [
          "2025-08-19T14:53:00-04:00",
          "2025-08-19T14:54:00-04:00"
         ],
         "xaxis": "x",
         "y": {
          "bdata": "M38jW18DuUA4FCwD9QO5QA==",
          "dtype": "f8"
         },
         "yaxis": "y"
        },
        {
         "line": {
          "color": "#01FFFF",
          "width": 0.6
         },
         "mode": "lines",
         "name": "HMA",
         "showlegend": false,
         "type": "scatter",
         "x": [
          "2025-08-19T14:54:00-04:00",
          "2025-08-19T14:55:00-04:00"
         ],
         "xaxis": "x",
         "y": {
          "bdata": "OBQsA/UDuUB43pHRfgS5QA==",
          "dtype": "f8"
         },
         "yaxis": "y"
        },
        {
         "line": {
          "color": "#01FFFF",
          "width": 0.6
         },
         "mode": "lines",
         "name": "HMA",
         "showlegend": false,
         "type": "scatter",
         "x": [
          "2025-08-19T14:55:00-04:00",
          "2025-08-19T14:56:00-04:00"
         ],
         "xaxis": "x",
         "y": {
          "bdata": "eN6R0X4EuUCG9DBRBQW5QA==",
          "dtype": "f8"
         },
         "yaxis": "y"
        },
        {
         "line": {
          "color": "#01FFFF",
          "width": 0.6
         },
         "mode": "lines",
         "name": "HMA",
         "showlegend": false,
         "type": "scatter",
         "x": [
          "2025-08-19T14:56:00-04:00",
          "2025-08-19T14:57:00-04:00"
         ],
         "xaxis": "x",
         "y": {
          "bdata": "hvQwUQUFuUDD5HGojQW5QA==",
          "dtype": "f8"
         },
         "yaxis": "y"
        },
        {
         "line": {
          "color": "#01FFFF",
          "width": 0.6
         },
         "mode": "lines",
         "name": "HMA",
         "showlegend": false,
         "type": "scatter",
         "x": [
          "2025-08-19T14:57:00-04:00",
          "2025-08-19T14:58:00-04:00"
         ],
         "xaxis": "x",
         "y": {
          "bdata": "w+RxqI0FuUB2OwArIwa5QA==",
          "dtype": "f8"
         },
         "yaxis": "y"
        },
        {
         "line": {
          "color": "#01FFFF",
          "width": 0.6
         },
         "mode": "lines",
         "name": "HMA",
         "showlegend": false,
         "type": "scatter",
         "x": [
          "2025-08-19T14:58:00-04:00",
          "2025-08-19T14:59:00-04:00"
         ],
         "xaxis": "x",
         "y": {
          "bdata": "djsAKyMGuUDmyC01nwa5QA==",
          "dtype": "f8"
         },
         "yaxis": "y"
        },
        {
         "line": {
          "color": "#01FFFF",
          "width": 0.6
         },
         "mode": "lines",
         "name": "HMA",
         "showlegend": false,
         "type": "scatter",
         "x": [
          "2025-08-19T14:59:00-04:00",
          "2025-08-19T15:00:00-04:00"
         ],
         "xaxis": "x",
         "y": {
          "bdata": "5sgtNZ8GuUAjXOOnswa5QA==",
          "dtype": "f8"
         },
         "yaxis": "y"
        },
        {
         "line": {
          "color": "#FF66FE",
          "width": 0.6
         },
         "mode": "lines",
         "name": "HMA",
         "showlegend": false,
         "type": "scatter",
         "x": [
          "2025-08-19T15:00:00-04:00",
          "2025-08-19T15:01:00-04:00"
         ],
         "xaxis": "x",
         "y": {
          "bdata": "I1zjp7MGuUAq4upiGga5QA==",
          "dtype": "f8"
         },
         "yaxis": "y"
        },
        {
         "line": {
          "color": "#FF66FE",
          "width": 0.6
         },
         "mode": "lines",
         "name": "HMA",
         "showlegend": false,
         "type": "scatter",
         "x": [
          "2025-08-19T15:01:00-04:00",
          "2025-08-19T15:02:00-04:00"
         ],
         "xaxis": "x",
         "y": {
          "bdata": "KuLqYhoGuUCZi7qNOgW5QA==",
          "dtype": "f8"
         },
         "yaxis": "y"
        },
        {
         "line": {
          "color": "#FF66FE",
          "width": 0.6
         },
         "mode": "lines",
         "name": "HMA",
         "showlegend": false,
         "type": "scatter",
         "x": [
          "2025-08-19T15:02:00-04:00",
          "2025-08-19T15:03:00-04:00"
         ],
         "xaxis": "x",
         "y": {
          "bdata": "mYu6jToFuUCobk9VMAS5QA==",
          "dtype": "f8"
         },
         "yaxis": "y"
        },
        {
         "line": {
          "color": "#FF66FE",
          "width": 0.6
         },
         "mode": "lines",
         "name": "HMA",
         "showlegend": false,
         "type": "scatter",
         "x": [
          "2025-08-19T15:03:00-04:00",
          "2025-08-19T15:04:00-04:00"
         ],
         "xaxis": "x",
         "y": {
          "bdata": "qG5PVTAEuUCL1hKAXQO5QA==",
          "dtype": "f8"
         },
         "yaxis": "y"
        },
        {
         "line": {
          "color": "#FF66FE",
          "width": 0.6
         },
         "mode": "lines",
         "name": "HMA",
         "showlegend": false,
         "type": "scatter",
         "x": [
          "2025-08-19T15:04:00-04:00",
          "2025-08-19T15:05:00-04:00"
         ],
         "xaxis": "x",
         "y": {
          "bdata": "i9YSgF0DuUC6UR4ztQK5QA==",
          "dtype": "f8"
         },
         "yaxis": "y"
        },
        {
         "line": {
          "color": "#FF66FE",
          "width": 0.6
         },
         "mode": "lines",
         "name": "HMA",
         "showlegend": false,
         "type": "scatter",
         "x": [
          "2025-08-19T15:05:00-04:00",
          "2025-08-19T15:06:00-04:00"
         ],
         "xaxis": "x",
         "y": {
          "bdata": "ulEeM7UCuUATLzEKFAK5QA==",
          "dtype": "f8"
         },
         "yaxis": "y"
        },
        {
         "line": {
          "color": "#FF66FE",
          "width": 0.6
         },
         "mode": "lines",
         "name": "HMA",
         "showlegend": false,
         "type": "scatter",
         "x": [
          "2025-08-19T15:06:00-04:00",
          "2025-08-19T15:07:00-04:00"
         ],
         "xaxis": "x",
         "y": {
          "bdata": "Ey8xChQCuUBarajYnAG5QA==",
          "dtype": "f8"
         },
         "yaxis": "y"
        },
        {
         "line": {
          "color": "#FF66FE",
          "width": 0.6
         },
         "mode": "lines",
         "name": "HMA",
         "showlegend": false,
         "type": "scatter",
         "x": [
          "2025-08-19T15:07:00-04:00",
          "2025-08-19T15:08:00-04:00"
         ],
         "xaxis": "x",
         "y": {
          "bdata": "Wq2o2JwBuUDGIWHjegG5QA==",
          "dtype": "f8"
         },
         "yaxis": "y"
        },
        {
         "line": {
          "color": "#01FFFF",
          "width": 0.6
         },
         "mode": "lines",
         "name": "HMA",
         "showlegend": false,
         "type": "scatter",
         "x": [
          "2025-08-19T15:08:00-04:00",
          "2025-08-19T15:09:00-04:00"
         ],
         "xaxis": "x",
         "y": {
          "bdata": "xiFh43oBuUDL+B+3fAG5QA==",
          "dtype": "f8"
         },
         "yaxis": "y"
        },
        {
         "line": {
          "color": "#01FFFF",
          "width": 0.6
         },
         "mode": "lines",
         "name": "HMA",
         "showlegend": false,
         "type": "scatter",
         "x": [
          "2025-08-19T15:09:00-04:00",
          "2025-08-19T15:10:00-04:00"
         ],
         "xaxis": "x",
         "y": {
          "bdata": "y/gft3wBuUAIwpuSugG5QA==",
          "dtype": "f8"
         },
         "yaxis": "y"
        },
        {
         "line": {
          "color": "#01FFFF",
          "width": 0.6
         },
         "mode": "lines",
         "name": "HMA",
         "showlegend": false,
         "type": "scatter",
         "x": [
          "2025-08-19T15:10:00-04:00",
          "2025-08-19T15:11:00-04:00"
         ],
         "xaxis": "x",
         "y": {
          "bdata": "CMKbkroBuUDewrOrEgK5QA==",
          "dtype": "f8"
         },
         "yaxis": "y"
        },
        {
         "line": {
          "color": "#01FFFF",
          "width": 0.6
         },
         "mode": "lines",
         "name": "HMA",
         "showlegend": false,
         "type": "scatter",
         "x": [
          "2025-08-19T15:11:00-04:00",
          "2025-08-19T15:12:00-04:00"
         ],
         "xaxis": "x",
         "y": {
          "bdata": "3sKzqxICuUBILTK6cAK5QA==",
          "dtype": "f8"
         },
         "yaxis": "y"
        },
        {
         "line": {
          "color": "#01FFFF",
          "width": 0.6
         },
         "mode": "lines",
         "name": "HMA",
         "showlegend": false,
         "type": "scatter",
         "x": [
          "2025-08-19T15:12:00-04:00",
          "2025-08-19T15:13:00-04:00"
         ],
         "xaxis": "x",
         "y": {
          "bdata": "SC0yunACuUC2A5OnugK5QA==",
          "dtype": "f8"
         },
         "yaxis": "y"
        },
        {
         "line": {
          "color": "#01FFFF",
          "width": 0.6
         },
         "mode": "lines",
         "name": "HMA",
         "showlegend": false,
         "type": "scatter",
         "x": [
          "2025-08-19T15:13:00-04:00",
          "2025-08-19T15:14:00-04:00"
         ],
         "xaxis": "x",
         "y": {
          "bdata": "tgOTp7oCuUDbN+X/3AK5QA==",
          "dtype": "f8"
         },
         "yaxis": "y"
        },
        {
         "line": {
          "color": "#01FFFF",
          "width": 0.6
         },
         "mode": "lines",
         "name": "HMA",
         "showlegend": false,
         "type": "scatter",
         "x": [
          "2025-08-19T15:14:00-04:00",
          "2025-08-19T15:15:00-04:00"
         ],
         "xaxis": "x",
         "y": {
          "bdata": "2zfl/9wCuUDttRbI4wK5QA==",
          "dtype": "f8"
         },
         "yaxis": "y"
        },
        {
         "line": {
          "color": "#FF66FE",
          "width": 0.6
         },
         "mode": "lines",
         "name": "HMA",
         "showlegend": false,
         "type": "scatter",
         "x": [
          "2025-08-19T15:15:00-04:00",
          "2025-08-19T15:16:00-04:00"
         ],
         "xaxis": "x",
         "y": {
          "bdata": "7bUWyOMCuUBZp2hlvwK5QA==",
          "dtype": "f8"
         },
         "yaxis": "y"
        },
        {
         "line": {
          "color": "#FF66FE",
          "width": 0.6
         },
         "mode": "lines",
         "name": "HMA",
         "showlegend": false,
         "type": "scatter",
         "x": [
          "2025-08-19T15:16:00-04:00",
          "2025-08-19T15:17:00-04:00"
         ],
         "xaxis": "x",
         "y": {
          "bdata": "WadoZb8CuUCa/60JewK5QA==",
          "dtype": "f8"
         },
         "yaxis": "y"
        },
        {
         "line": {
          "color": "#FF66FE",
          "width": 0.6
         },
         "mode": "lines",
         "name": "HMA",
         "showlegend": false,
         "type": "scatter",
         "x": [
          "2025-08-19T15:17:00-04:00",
          "2025-08-19T15:18:00-04:00"
         ],
         "xaxis": "x",
         "y": {
          "bdata": "mv+tCXsCuUDq3NqvOAK5QA==",
          "dtype": "f8"
         },
         "yaxis": "y"
        },
        {
         "line": {
          "color": "#FF66FE",
          "width": 0.6
         },
         "mode": "lines",
         "name": "HMA",
         "showlegend": false,
         "type": "scatter",
         "x": [
          "2025-08-19T15:18:00-04:00",
          "2025-08-19T15:19:00-04:00"
         ],
         "xaxis": "x",
         "y": {
          "bdata": "6tzarzgCuUDDkOFTGgK5QA==",
          "dtype": "f8"
         },
         "yaxis": "y"
        },
        {
         "line": {
          "color": "#01FFFF",
          "width": 0.6
         },
         "mode": "lines",
         "name": "HMA",
         "showlegend": false,
         "type": "scatter",
         "x": [
          "2025-08-19T15:19:00-04:00",
          "2025-08-19T15:20:00-04:00"
         ],
         "xaxis": "x",
         "y": {
          "bdata": "w5DhUxoCuUBTCk6MHwK5QA==",
          "dtype": "f8"
         },
         "yaxis": "y"
        },
        {
         "line": {
          "color": "#01FFFF",
          "width": 0.6
         },
         "mode": "lines",
         "name": "HMA",
         "showlegend": false,
         "type": "scatter",
         "x": [
          "2025-08-19T15:20:00-04:00",
          "2025-08-19T15:21:00-04:00"
         ],
         "xaxis": "x",
         "y": {
          "bdata": "UwpOjB8CuUB2axWwcQK5QA==",
          "dtype": "f8"
         },
         "yaxis": "y"
        },
        {
         "line": {
          "color": "#01FFFF",
          "width": 0.6
         },
         "mode": "lines",
         "name": "HMA",
         "showlegend": false,
         "type": "scatter",
         "x": [
          "2025-08-19T15:21:00-04:00",
          "2025-08-19T15:22:00-04:00"
         ],
         "xaxis": "x",
         "y": {
          "bdata": "dmsVsHECuUAud/MK4AK5QA==",
          "dtype": "f8"
         },
         "yaxis": "y"
        },
        {
         "line": {
          "color": "#01FFFF",
          "width": 0.6
         },
         "mode": "lines",
         "name": "HMA",
         "showlegend": false,
         "type": "scatter",
         "x": [
          "2025-08-19T15:22:00-04:00",
          "2025-08-19T15:23:00-04:00"
         ],
         "xaxis": "x",
         "y": {
          "bdata": "LnfzCuACuUBLBA2FjAO5QA==",
          "dtype": "f8"
         },
         "yaxis": "y"
        },
        {
         "line": {
          "color": "#01FFFF",
          "width": 0.6
         },
         "mode": "lines",
         "name": "HMA",
         "showlegend": false,
         "type": "scatter",
         "x": [
          "2025-08-19T15:23:00-04:00",
          "2025-08-19T15:24:00-04:00"
         ],
         "xaxis": "x",
         "y": {
          "bdata": "SwQNhYwDuUDV7NyicQS5QA==",
          "dtype": "f8"
         },
         "yaxis": "y"
        },
        {
         "line": {
          "color": "#01FFFF",
          "width": 0.6
         },
         "mode": "lines",
         "name": "HMA",
         "showlegend": false,
         "type": "scatter",
         "x": [
          "2025-08-19T15:24:00-04:00",
          "2025-08-19T15:25:00-04:00"
         ],
         "xaxis": "x",
         "y": {
          "bdata": "1ezconEEuUCmSy/pRAW5QA==",
          "dtype": "f8"
         },
         "yaxis": "y"
        },
        {
         "line": {
          "color": "#01FFFF",
          "width": 0.6
         },
         "mode": "lines",
         "name": "HMA",
         "showlegend": false,
         "type": "scatter",
         "x": [
          "2025-08-19T15:25:00-04:00",
          "2025-08-19T15:26:00-04:00"
         ],
         "xaxis": "x",
         "y": {
          "bdata": "pksv6UQFuUAXwrvZ+gW5QA==",
          "dtype": "f8"
         },
         "yaxis": "y"
        },
        {
         "line": {
          "color": "#01FFFF",
          "width": 0.6
         },
         "mode": "lines",
         "name": "HMA",
         "showlegend": false,
         "type": "scatter",
         "x": [
          "2025-08-19T15:26:00-04:00",
          "2025-08-19T15:27:00-04:00"
         ],
         "xaxis": "x",
         "y": {
          "bdata": "F8K72foFuUAtPIKogQa5QA==",
          "dtype": "f8"
         },
         "yaxis": "y"
        },
        {
         "line": {
          "color": "#01FFFF",
          "width": 0.6
         },
         "mode": "lines",
         "name": "HMA",
         "showlegend": false,
         "type": "scatter",
         "x": [
          "2025-08-19T15:27:00-04:00",
          "2025-08-19T15:28:00-04:00"
         ],
         "xaxis": "x",
         "y": {
          "bdata": "LTyCqIEGuUDdE2vE7Qa5QA==",
          "dtype": "f8"
         },
         "yaxis": "y"
        },
        {
         "line": {
          "color": "#01FFFF",
          "width": 0.6
         },
         "mode": "lines",
         "name": "HMA",
         "showlegend": false,
         "type": "scatter",
         "x": [
          "2025-08-19T15:28:00-04:00",
          "2025-08-19T15:29:00-04:00"
         ],
         "xaxis": "x",
         "y": {
          "bdata": "3RNrxO0GuUDvdd50Rge5QA==",
          "dtype": "f8"
         },
         "yaxis": "y"
        },
        {
         "line": {
          "color": "#01FFFF",
          "width": 0.6
         },
         "mode": "lines",
         "name": "HMA",
         "showlegend": false,
         "type": "scatter",
         "x": [
          "2025-08-19T15:29:00-04:00",
          "2025-08-19T15:30:00-04:00"
         ],
         "xaxis": "x",
         "y": {
          "bdata": "73XedEYHuUAbffUXuAe5QA==",
          "dtype": "f8"
         },
         "yaxis": "y"
        },
        {
         "line": {
          "color": "#01FFFF",
          "width": 0.6
         },
         "mode": "lines",
         "name": "HMA",
         "showlegend": false,
         "type": "scatter",
         "x": [
          "2025-08-19T15:30:00-04:00",
          "2025-08-19T15:31:00-04:00"
         ],
         "xaxis": "x",
         "y": {
          "bdata": "G331F7gHuUC+szgaJAi5QA==",
          "dtype": "f8"
         },
         "yaxis": "y"
        },
        {
         "line": {
          "color": "#01FFFF",
          "width": 0.6
         },
         "mode": "lines",
         "name": "HMA",
         "showlegend": false,
         "type": "scatter",
         "x": [
          "2025-08-19T15:31:00-04:00",
          "2025-08-19T15:32:00-04:00"
         ],
         "xaxis": "x",
         "y": {
          "bdata": "vrM4GiQIuUD18MLUlgi5QA==",
          "dtype": "f8"
         },
         "yaxis": "y"
        },
        {
         "line": {
          "color": "#01FFFF",
          "width": 0.6
         },
         "mode": "lines",
         "name": "HMA",
         "showlegend": false,
         "type": "scatter",
         "x": [
          "2025-08-19T15:32:00-04:00",
          "2025-08-19T15:33:00-04:00"
         ],
         "xaxis": "x",
         "y": {
          "bdata": "9fDC1JYIuUAWyVUc3Ai5QA==",
          "dtype": "f8"
         },
         "yaxis": "y"
        },
        {
         "line": {
          "color": "#01FFFF",
          "width": 0.6
         },
         "mode": "lines",
         "name": "HMA",
         "showlegend": false,
         "type": "scatter",
         "x": [
          "2025-08-19T15:33:00-04:00",
          "2025-08-19T15:34:00-04:00"
         ],
         "xaxis": "x",
         "y": {
          "bdata": "FslVHNwIuUDuiuW+Awm5QA==",
          "dtype": "f8"
         },
         "yaxis": "y"
        },
        {
         "line": {
          "color": "#01FFFF",
          "width": 0.6
         },
         "mode": "lines",
         "name": "HMA",
         "showlegend": false,
         "type": "scatter",
         "x": [
          "2025-08-19T15:34:00-04:00",
          "2025-08-19T15:35:00-04:00"
         ],
         "xaxis": "x",
         "y": {
          "bdata": "7orlvgMJuUAFbVrNJAm5QA==",
          "dtype": "f8"
         },
         "yaxis": "y"
        },
        {
         "line": {
          "color": "#01FFFF",
          "width": 0.6
         },
         "mode": "lines",
         "name": "HMA",
         "showlegend": false,
         "type": "scatter",
         "x": [
          "2025-08-19T15:35:00-04:00",
          "2025-08-19T15:36:00-04:00"
         ],
         "xaxis": "x",
         "y": {
          "bdata": "BW1azSQJuUA+XM0oOwm5QA==",
          "dtype": "f8"
         },
         "yaxis": "y"
        },
        {
         "line": {
          "color": "#01FFFF",
          "width": 0.6
         },
         "mode": "lines",
         "name": "HMA",
         "showlegend": false,
         "type": "scatter",
         "x": [
          "2025-08-19T15:36:00-04:00",
          "2025-08-19T15:37:00-04:00"
         ],
         "xaxis": "x",
         "y": {
          "bdata": "PlzNKDsJuUBwUFtaPgm5QA==",
          "dtype": "f8"
         },
         "yaxis": "y"
        },
        {
         "line": {
          "color": "#FF66FE",
          "width": 0.6
         },
         "mode": "lines",
         "name": "HMA",
         "showlegend": false,
         "type": "scatter",
         "x": [
          "2025-08-19T15:37:00-04:00",
          "2025-08-19T15:38:00-04:00"
         ],
         "xaxis": "x",
         "y": {
          "bdata": "cFBbWj4JuUBwhKR+Dgm5QA==",
          "dtype": "f8"
         },
         "yaxis": "y"
        },
        {
         "line": {
          "color": "#FF66FE",
          "width": 0.6
         },
         "mode": "lines",
         "name": "HMA",
         "showlegend": false,
         "type": "scatter",
         "x": [
          "2025-08-19T15:38:00-04:00",
          "2025-08-19T15:39:00-04:00"
         ],
         "xaxis": "x",
         "y": {
          "bdata": "cISkfg4JuUCCnVW8xgi5QA==",
          "dtype": "f8"
         },
         "yaxis": "y"
        },
        {
         "line": {
          "color": "#FF66FE",
          "width": 0.6
         },
         "mode": "lines",
         "name": "HMA",
         "showlegend": false,
         "type": "scatter",
         "x": [
          "2025-08-19T15:39:00-04:00",
          "2025-08-19T15:40:00-04:00"
         ],
         "xaxis": "x",
         "y": {
          "bdata": "gp1VvMYIuUAc0RNoeAi5QA==",
          "dtype": "f8"
         },
         "yaxis": "y"
        },
        {
         "line": {
          "color": "#FF66FE",
          "width": 0.6
         },
         "mode": "lines",
         "name": "HMA",
         "showlegend": false,
         "type": "scatter",
         "x": [
          "2025-08-19T15:40:00-04:00",
          "2025-08-19T15:41:00-04:00"
         ],
         "xaxis": "x",
         "y": {
          "bdata": "HNETaHgIuUCDRT3jIwi5QA==",
          "dtype": "f8"
         },
         "yaxis": "y"
        },
        {
         "line": {
          "color": "#FF66FE",
          "width": 0.6
         },
         "mode": "lines",
         "name": "HMA",
         "showlegend": false,
         "type": "scatter",
         "x": [
          "2025-08-19T15:41:00-04:00",
          "2025-08-19T15:42:00-04:00"
         ],
         "xaxis": "x",
         "y": {
          "bdata": "g0U94yMIuUCFE6sZ3Ae5QA==",
          "dtype": "f8"
         },
         "yaxis": "y"
        },
        {
         "line": {
          "color": "#FF66FE",
          "width": 0.6
         },
         "mode": "lines",
         "name": "HMA",
         "showlegend": false,
         "type": "scatter",
         "x": [
          "2025-08-19T15:42:00-04:00",
          "2025-08-19T15:43:00-04:00"
         ],
         "xaxis": "x",
         "y": {
          "bdata": "hROrGdwHuUCSGrocwQe5QA==",
          "dtype": "f8"
         },
         "yaxis": "y"
        },
        {
         "line": {
          "color": "#01FFFF",
          "width": 0.6
         },
         "mode": "lines",
         "name": "HMA",
         "showlegend": false,
         "type": "scatter",
         "x": [
          "2025-08-19T15:43:00-04:00",
          "2025-08-19T15:44:00-04:00"
         ],
         "xaxis": "x",
         "y": {
          "bdata": "khq6HMEHuUBuw4Fu0ge5QA==",
          "dtype": "f8"
         },
         "yaxis": "y"
        },
        {
         "line": {
          "color": "#01FFFF",
          "width": 0.6
         },
         "mode": "lines",
         "name": "HMA",
         "showlegend": false,
         "type": "scatter",
         "x": [
          "2025-08-19T15:44:00-04:00",
          "2025-08-19T15:45:00-04:00"
         ],
         "xaxis": "x",
         "y": {
          "bdata": "bsOBbtIHuUC/pZKQ7ge5QA==",
          "dtype": "f8"
         },
         "yaxis": "y"
        },
        {
         "line": {
          "color": "#01FFFF",
          "width": 0.6
         },
         "mode": "lines",
         "name": "HMA",
         "showlegend": false,
         "type": "scatter",
         "x": [
          "2025-08-19T15:45:00-04:00",
          "2025-08-19T15:46:00-04:00"
         ],
         "xaxis": "x",
         "y": {
          "bdata": "v6WSkO4HuUAo/ICvEgi5QA==",
          "dtype": "f8"
         },
         "yaxis": "y"
        },
        {
         "line": {
          "color": "#FF66FE",
          "width": 0.6
         },
         "mode": "lines",
         "name": "HMA",
         "showlegend": false,
         "type": "scatter",
         "x": [
          "2025-08-19T15:46:00-04:00",
          "2025-08-19T15:47:00-04:00"
         ],
         "xaxis": "x",
         "y": {
          "bdata": "KPyArxIIuUC4+QTGDAi5QA==",
          "dtype": "f8"
         },
         "yaxis": "y"
        },
        {
         "line": {
          "color": "#FF66FE",
          "width": 0.6
         },
         "mode": "lines",
         "name": "HMA",
         "showlegend": false,
         "type": "scatter",
         "x": [
          "2025-08-19T15:47:00-04:00",
          "2025-08-19T15:48:00-04:00"
         ],
         "xaxis": "x",
         "y": {
          "bdata": "uPkExgwIuUBvsTbVzQe5QA==",
          "dtype": "f8"
         },
         "yaxis": "y"
        },
        {
         "line": {
          "color": "#FF66FE",
          "width": 0.6
         },
         "mode": "lines",
         "name": "HMA",
         "showlegend": false,
         "type": "scatter",
         "x": [
          "2025-08-19T15:48:00-04:00",
          "2025-08-19T15:49:00-04:00"
         ],
         "xaxis": "x",
         "y": {
          "bdata": "b7E21c0HuUDGSfPGgQe5QA==",
          "dtype": "f8"
         },
         "yaxis": "y"
        },
        {
         "line": {
          "color": "#FF66FE",
          "width": 0.6
         },
         "mode": "lines",
         "name": "HMA",
         "showlegend": false,
         "type": "scatter",
         "x": [
          "2025-08-19T15:49:00-04:00",
          "2025-08-19T15:50:00-04:00"
         ],
         "xaxis": "x",
         "y": {
          "bdata": "xknzxoEHuUBKTAKQEAe5QA==",
          "dtype": "f8"
         },
         "yaxis": "y"
        },
        {
         "line": {
          "color": "#FF66FE",
          "width": 0.6
         },
         "mode": "lines",
         "name": "HMA",
         "showlegend": false,
         "type": "scatter",
         "x": [
          "2025-08-19T15:50:00-04:00",
          "2025-08-19T15:51:00-04:00"
         ],
         "xaxis": "x",
         "y": {
          "bdata": "SkwCkBAHuUDi5Qyahwa5QA==",
          "dtype": "f8"
         },
         "yaxis": "y"
        },
        {
         "line": {
          "color": "#FF66FE",
          "width": 0.6
         },
         "mode": "lines",
         "name": "HMA",
         "showlegend": false,
         "type": "scatter",
         "x": [
          "2025-08-19T15:51:00-04:00",
          "2025-08-19T15:52:00-04:00"
         ],
         "xaxis": "x",
         "y": {
          "bdata": "4uUMmocGuUAaBrdbDAa5QA==",
          "dtype": "f8"
         },
         "yaxis": "y"
        },
        {
         "line": {
          "color": "#FF66FE",
          "width": 0.6
         },
         "mode": "lines",
         "name": "HMA",
         "showlegend": false,
         "type": "scatter",
         "x": [
          "2025-08-19T15:52:00-04:00",
          "2025-08-19T15:53:00-04:00"
         ],
         "xaxis": "x",
         "y": {
          "bdata": "Gga3WwwGuUCcaor+cAW5QA==",
          "dtype": "f8"
         },
         "yaxis": "y"
        },
        {
         "line": {
          "color": "#FF66FE",
          "width": 0.6
         },
         "mode": "lines",
         "name": "HMA",
         "showlegend": false,
         "type": "scatter",
         "x": [
          "2025-08-19T15:53:00-04:00",
          "2025-08-19T15:54:00-04:00"
         ],
         "xaxis": "x",
         "y": {
          "bdata": "nGqK/nAFuUBtzfNYtgS5QA==",
          "dtype": "f8"
         },
         "yaxis": "y"
        },
        {
         "line": {
          "color": "#FF66FE",
          "width": 0.6
         },
         "mode": "lines",
         "name": "HMA",
         "showlegend": false,
         "type": "scatter",
         "x": [
          "2025-08-19T15:54:00-04:00",
          "2025-08-19T15:55:00-04:00"
         ],
         "xaxis": "x",
         "y": {
          "bdata": "bc3zWLYEuUBWUQW/SQS5QA==",
          "dtype": "f8"
         },
         "yaxis": "y"
        },
        {
         "line": {
          "color": "#01FFFF",
          "width": 0.6
         },
         "mode": "lines",
         "name": "HMA",
         "showlegend": false,
         "type": "scatter",
         "x": [
          "2025-08-19T15:55:00-04:00",
          "2025-08-19T15:56:00-04:00"
         ],
         "xaxis": "x",
         "y": {
          "bdata": "VlEFv0kEuUBK1Np0TgS5QA==",
          "dtype": "f8"
         },
         "yaxis": "y"
        },
        {
         "line": {
          "color": "#01FFFF",
          "width": 0.6
         },
         "mode": "lines",
         "name": "HMA",
         "showlegend": false,
         "type": "scatter",
         "x": [
          "2025-08-19T15:56:00-04:00",
          "2025-08-19T15:57:00-04:00"
         ],
         "xaxis": "x",
         "y": {
          "bdata": "StTadE4EuUAIR2NNzAS5QA==",
          "dtype": "f8"
         },
         "yaxis": "y"
        },
        {
         "line": {
          "color": "#01FFFF",
          "width": 0.6
         },
         "mode": "lines",
         "name": "HMA",
         "showlegend": false,
         "type": "scatter",
         "x": [
          "2025-08-19T15:57:00-04:00",
          "2025-08-19T15:58:00-04:00"
         ],
         "xaxis": "x",
         "y": {
          "bdata": "CEdjTcwEuUCzFLxfjwW5QA==",
          "dtype": "f8"
         },
         "yaxis": "y"
        },
        {
         "line": {
          "color": "#01FFFF",
          "width": 0.6
         },
         "mode": "lines",
         "name": "HMA",
         "showlegend": false,
         "type": "scatter",
         "x": [
          "2025-08-19T15:58:00-04:00",
          "2025-08-19T15:59:00-04:00"
         ],
         "xaxis": "x",
         "y": {
          "bdata": "sxS8X48FuUCbAk7DuQa5QA==",
          "dtype": "f8"
         },
         "yaxis": "y"
        },
        {
         "line": {
          "color": "#01FFFF",
          "width": 1
         },
         "mode": "lines",
         "name": "MACD (Value)",
         "showlegend": false,
         "type": "scatter",
         "x": [
          "2025-08-19T09:00:00.000000000",
          "2025-08-19T09:01:00.000000000",
          "2025-08-19T09:02:00.000000000",
          "2025-08-19T09:03:00.000000000",
          "2025-08-19T09:04:00.000000000",
          "2025-08-19T09:05:00.000000000",
          "2025-08-19T09:06:00.000000000",
          "2025-08-19T09:07:00.000000000",
          "2025-08-19T09:08:00.000000000",
          "2025-08-19T09:09:00.000000000",
          "2025-08-19T09:10:00.000000000",
          "2025-08-19T09:11:00.000000000",
          "2025-08-19T09:12:00.000000000",
          "2025-08-19T09:13:00.000000000",
          "2025-08-19T09:14:00.000000000",
          "2025-08-19T09:15:00.000000000",
          "2025-08-19T09:16:00.000000000",
          "2025-08-19T09:17:00.000000000",
          "2025-08-19T09:18:00.000000000",
          "2025-08-19T09:19:00.000000000",
          "2025-08-19T09:20:00.000000000",
          "2025-08-19T09:21:00.000000000",
          "2025-08-19T09:22:00.000000000",
          "2025-08-19T09:23:00.000000000",
          "2025-08-19T09:24:00.000000000",
          "2025-08-19T09:25:00.000000000",
          "2025-08-19T09:26:00.000000000",
          "2025-08-19T09:27:00.000000000",
          "2025-08-19T09:28:00.000000000",
          "2025-08-19T09:29:00.000000000",
          "2025-08-19T09:30:00.000000000",
          "2025-08-19T09:31:00.000000000",
          "2025-08-19T09:32:00.000000000",
          "2025-08-19T09:33:00.000000000",
          "2025-08-19T09:34:00.000000000",
          "2025-08-19T09:35:00.000000000",
          "2025-08-19T09:36:00.000000000",
          "2025-08-19T09:37:00.000000000",
          "2025-08-19T09:38:00.000000000",
          "2025-08-19T09:39:00.000000000",
          "2025-08-19T09:40:00.000000000",
          "2025-08-19T09:41:00.000000000",
          "2025-08-19T09:42:00.000000000",
          "2025-08-19T09:43:00.000000000",
          "2025-08-19T09:44:00.000000000",
          "2025-08-19T09:45:00.000000000",
          "2025-08-19T09:46:00.000000000",
          "2025-08-19T09:47:00.000000000",
          "2025-08-19T09:48:00.000000000",
          "2025-08-19T09:49:00.000000000",
          "2025-08-19T09:50:00.000000000",
          "2025-08-19T09:51:00.000000000",
          "2025-08-19T09:52:00.000000000",
          "2025-08-19T09:53:00.000000000",
          "2025-08-19T09:54:00.000000000",
          "2025-08-19T09:55:00.000000000",
          "2025-08-19T09:56:00.000000000",
          "2025-08-19T09:57:00.000000000",
          "2025-08-19T09:58:00.000000000",
          "2025-08-19T09:59:00.000000000",
          "2025-08-19T10:00:00.000000000",
          "2025-08-19T10:01:00.000000000",
          "2025-08-19T10:02:00.000000000",
          "2025-08-19T10:03:00.000000000",
          "2025-08-19T10:04:00.000000000",
          "2025-08-19T10:05:00.000000000",
          "2025-08-19T10:06:00.000000000",
          "2025-08-19T10:07:00.000000000",
          "2025-08-19T10:08:00.000000000",
          "2025-08-19T10:09:00.000000000",
          "2025-08-19T10:10:00.000000000",
          "2025-08-19T10:11:00.000000000",
          "2025-08-19T10:12:00.000000000",
          "2025-08-19T10:13:00.000000000",
          "2025-08-19T10:14:00.000000000",
          "2025-08-19T10:15:00.000000000",
          "2025-08-19T10:16:00.000000000",
          "2025-08-19T10:17:00.000000000",
          "2025-08-19T10:18:00.000000000",
          "2025-08-19T10:19:00.000000000",
          "2025-08-19T10:20:00.000000000",
          "2025-08-19T10:21:00.000000000",
          "2025-08-19T10:22:00.000000000",
          "2025-08-19T10:23:00.000000000",
          "2025-08-19T10:24:00.000000000",
          "2025-08-19T10:25:00.000000000",
          "2025-08-19T10:26:00.000000000",
          "2025-08-19T10:27:00.000000000",
          "2025-08-19T10:28:00.000000000",
          "2025-08-19T10:29:00.000000000",
          "2025-08-19T10:30:00.000000000",
          "2025-08-19T10:31:00.000000000",
          "2025-08-19T10:32:00.000000000",
          "2025-08-19T10:33:00.000000000",
          "2025-08-19T10:34:00.000000000",
          "2025-08-19T10:35:00.000000000",
          "2025-08-19T10:36:00.000000000",
          "2025-08-19T10:37:00.000000000",
          "2025-08-19T10:38:00.000000000",
          "2025-08-19T10:39:00.000000000",
          "2025-08-19T10:40:00.000000000",
          "2025-08-19T10:41:00.000000000",
          "2025-08-19T10:42:00.000000000",
          "2025-08-19T10:43:00.000000000",
          "2025-08-19T10:44:00.000000000",
          "2025-08-19T10:45:00.000000000",
          "2025-08-19T10:46:00.000000000",
          "2025-08-19T10:47:00.000000000",
          "2025-08-19T10:48:00.000000000",
          "2025-08-19T10:49:00.000000000",
          "2025-08-19T10:50:00.000000000",
          "2025-08-19T10:51:00.000000000",
          "2025-08-19T10:52:00.000000000",
          "2025-08-19T10:53:00.000000000",
          "2025-08-19T10:54:00.000000000",
          "2025-08-19T10:55:00.000000000",
          "2025-08-19T10:56:00.000000000",
          "2025-08-19T10:57:00.000000000",
          "2025-08-19T10:58:00.000000000",
          "2025-08-19T10:59:00.000000000",
          "2025-08-19T11:00:00.000000000",
          "2025-08-19T11:01:00.000000000",
          "2025-08-19T11:02:00.000000000",
          "2025-08-19T11:03:00.000000000",
          "2025-08-19T11:04:00.000000000",
          "2025-08-19T11:05:00.000000000",
          "2025-08-19T11:06:00.000000000",
          "2025-08-19T11:07:00.000000000",
          "2025-08-19T11:08:00.000000000",
          "2025-08-19T11:09:00.000000000",
          "2025-08-19T11:10:00.000000000",
          "2025-08-19T11:11:00.000000000",
          "2025-08-19T11:12:00.000000000",
          "2025-08-19T11:13:00.000000000",
          "2025-08-19T11:14:00.000000000",
          "2025-08-19T11:15:00.000000000",
          "2025-08-19T11:16:00.000000000",
          "2025-08-19T11:17:00.000000000",
          "2025-08-19T11:18:00.000000000",
          "2025-08-19T11:19:00.000000000",
          "2025-08-19T11:20:00.000000000",
          "2025-08-19T11:21:00.000000000",
          "2025-08-19T11:22:00.000000000",
          "2025-08-19T11:23:00.000000000",
          "2025-08-19T11:24:00.000000000",
          "2025-08-19T11:25:00.000000000",
          "2025-08-19T11:26:00.000000000",
          "2025-08-19T11:27:00.000000000",
          "2025-08-19T11:28:00.000000000",
          "2025-08-19T11:29:00.000000000",
          "2025-08-19T11:30:00.000000000",
          "2025-08-19T11:31:00.000000000",
          "2025-08-19T11:32:00.000000000",
          "2025-08-19T11:33:00.000000000",
          "2025-08-19T11:34:00.000000000",
          "2025-08-19T11:35:00.000000000",
          "2025-08-19T11:36:00.000000000",
          "2025-08-19T11:37:00.000000000",
          "2025-08-19T11:38:00.000000000",
          "2025-08-19T11:39:00.000000000",
          "2025-08-19T11:40:00.000000000",
          "2025-08-19T11:41:00.000000000",
          "2025-08-19T11:42:00.000000000",
          "2025-08-19T11:43:00.000000000",
          "2025-08-19T11:44:00.000000000",
          "2025-08-19T11:45:00.000000000",
          "2025-08-19T11:46:00.000000000",
          "2025-08-19T11:47:00.000000000",
          "2025-08-19T11:48:00.000000000",
          "2025-08-19T11:49:00.000000000",
          "2025-08-19T11:50:00.000000000",
          "2025-08-19T11:51:00.000000000",
          "2025-08-19T11:52:00.000000000",
          "2025-08-19T11:53:00.000000000",
          "2025-08-19T11:54:00.000000000",
          "2025-08-19T11:55:00.000000000",
          "2025-08-19T11:56:00.000000000",
          "2025-08-19T11:57:00.000000000",
          "2025-08-19T11:58:00.000000000",
          "2025-08-19T11:59:00.000000000",
          "2025-08-19T12:00:00.000000000",
          "2025-08-19T12:01:00.000000000",
          "2025-08-19T12:02:00.000000000",
          "2025-08-19T12:03:00.000000000",
          "2025-08-19T12:04:00.000000000",
          "2025-08-19T12:05:00.000000000",
          "2025-08-19T12:06:00.000000000",
          "2025-08-19T12:07:00.000000000",
          "2025-08-19T12:08:00.000000000",
          "2025-08-19T12:09:00.000000000",
          "2025-08-19T12:10:00.000000000",
          "2025-08-19T12:11:00.000000000",
          "2025-08-19T12:12:00.000000000",
          "2025-08-19T12:13:00.000000000",
          "2025-08-19T12:14:00.000000000",
          "2025-08-19T12:15:00.000000000",
          "2025-08-19T12:16:00.000000000",
          "2025-08-19T12:17:00.000000000",
          "2025-08-19T12:18:00.000000000",
          "2025-08-19T12:19:00.000000000",
          "2025-08-19T12:20:00.000000000",
          "2025-08-19T12:21:00.000000000",
          "2025-08-19T12:22:00.000000000",
          "2025-08-19T12:23:00.000000000",
          "2025-08-19T12:24:00.000000000",
          "2025-08-19T12:25:00.000000000",
          "2025-08-19T12:26:00.000000000",
          "2025-08-19T12:27:00.000000000",
          "2025-08-19T12:28:00.000000000",
          "2025-08-19T12:29:00.000000000",
          "2025-08-19T12:30:00.000000000",
          "2025-08-19T12:31:00.000000000",
          "2025-08-19T12:32:00.000000000",
          "2025-08-19T12:33:00.000000000",
          "2025-08-19T12:34:00.000000000",
          "2025-08-19T12:35:00.000000000",
          "2025-08-19T12:36:00.000000000",
          "2025-08-19T12:37:00.000000000",
          "2025-08-19T12:38:00.000000000",
          "2025-08-19T12:39:00.000000000",
          "2025-08-19T12:40:00.000000000",
          "2025-08-19T12:41:00.000000000",
          "2025-08-19T12:42:00.000000000",
          "2025-08-19T12:43:00.000000000",
          "2025-08-19T12:44:00.000000000",
          "2025-08-19T12:45:00.000000000",
          "2025-08-19T12:46:00.000000000",
          "2025-08-19T12:47:00.000000000",
          "2025-08-19T12:48:00.000000000",
          "2025-08-19T12:49:00.000000000",
          "2025-08-19T12:50:00.000000000",
          "2025-08-19T12:51:00.000000000",
          "2025-08-19T12:52:00.000000000",
          "2025-08-19T12:53:00.000000000",
          "2025-08-19T12:54:00.000000000",
          "2025-08-19T12:55:00.000000000",
          "2025-08-19T12:56:00.000000000",
          "2025-08-19T12:57:00.000000000",
          "2025-08-19T12:58:00.000000000",
          "2025-08-19T12:59:00.000000000",
          "2025-08-19T13:00:00.000000000",
          "2025-08-19T13:01:00.000000000",
          "2025-08-19T13:02:00.000000000",
          "2025-08-19T13:03:00.000000000",
          "2025-08-19T13:04:00.000000000",
          "2025-08-19T13:05:00.000000000",
          "2025-08-19T13:06:00.000000000",
          "2025-08-19T13:07:00.000000000",
          "2025-08-19T13:08:00.000000000",
          "2025-08-19T13:09:00.000000000",
          "2025-08-19T13:10:00.000000000",
          "2025-08-19T13:11:00.000000000",
          "2025-08-19T13:12:00.000000000",
          "2025-08-19T13:13:00.000000000",
          "2025-08-19T13:14:00.000000000",
          "2025-08-19T13:15:00.000000000",
          "2025-08-19T13:16:00.000000000",
          "2025-08-19T13:17:00.000000000",
          "2025-08-19T13:18:00.000000000",
          "2025-08-19T13:19:00.000000000",
          "2025-08-19T13:20:00.000000000",
          "2025-08-19T13:21:00.000000000",
          "2025-08-19T13:22:00.000000000",
          "2025-08-19T13:23:00.000000000",
          "2025-08-19T13:24:00.000000000",
          "2025-08-19T13:25:00.000000000",
          "2025-08-19T13:26:00.000000000",
          "2025-08-19T13:27:00.000000000",
          "2025-08-19T13:28:00.000000000",
          "2025-08-19T13:29:00.000000000",
          "2025-08-19T13:30:00.000000000",
          "2025-08-19T13:31:00.000000000",
          "2025-08-19T13:32:00.000000000",
          "2025-08-19T13:33:00.000000000",
          "2025-08-19T13:34:00.000000000",
          "2025-08-19T13:35:00.000000000",
          "2025-08-19T13:36:00.000000000",
          "2025-08-19T13:37:00.000000000",
          "2025-08-19T13:38:00.000000000",
          "2025-08-19T13:39:00.000000000",
          "2025-08-19T13:40:00.000000000",
          "2025-08-19T13:41:00.000000000",
          "2025-08-19T13:42:00.000000000",
          "2025-08-19T13:43:00.000000000",
          "2025-08-19T13:44:00.000000000",
          "2025-08-19T13:45:00.000000000",
          "2025-08-19T13:46:00.000000000",
          "2025-08-19T13:47:00.000000000",
          "2025-08-19T13:48:00.000000000",
          "2025-08-19T13:49:00.000000000",
          "2025-08-19T13:50:00.000000000",
          "2025-08-19T13:51:00.000000000",
          "2025-08-19T13:52:00.000000000",
          "2025-08-19T13:53:00.000000000",
          "2025-08-19T13:54:00.000000000",
          "2025-08-19T13:55:00.000000000",
          "2025-08-19T13:56:00.000000000",
          "2025-08-19T13:57:00.000000000",
          "2025-08-19T13:58:00.000000000",
          "2025-08-19T13:59:00.000000000",
          "2025-08-19T14:00:00.000000000",
          "2025-08-19T14:01:00.000000000",
          "2025-08-19T14:02:00.000000000",
          "2025-08-19T14:03:00.000000000",
          "2025-08-19T14:04:00.000000000",
          "2025-08-19T14:05:00.000000000",
          "2025-08-19T14:06:00.000000000",
          "2025-08-19T14:07:00.000000000",
          "2025-08-19T14:08:00.000000000",
          "2025-08-19T14:09:00.000000000",
          "2025-08-19T14:10:00.000000000",
          "2025-08-19T14:11:00.000000000",
          "2025-08-19T14:12:00.000000000",
          "2025-08-19T14:13:00.000000000",
          "2025-08-19T14:14:00.000000000",
          "2025-08-19T14:15:00.000000000",
          "2025-08-19T14:16:00.000000000",
          "2025-08-19T14:17:00.000000000",
          "2025-08-19T14:18:00.000000000",
          "2025-08-19T14:19:00.000000000",
          "2025-08-19T14:20:00.000000000",
          "2025-08-19T14:21:00.000000000",
          "2025-08-19T14:22:00.000000000",
          "2025-08-19T14:23:00.000000000",
          "2025-08-19T14:24:00.000000000",
          "2025-08-19T14:25:00.000000000",
          "2025-08-19T14:26:00.000000000",
          "2025-08-19T14:27:00.000000000",
          "2025-08-19T14:28:00.000000000",
          "2025-08-19T14:29:00.000000000",
          "2025-08-19T14:30:00.000000000",
          "2025-08-19T14:31:00.000000000",
          "2025-08-19T14:32:00.000000000",
          "2025-08-19T14:33:00.000000000",
          "2025-08-19T14:34:00.000000000",
          "2025-08-19T14:35:00.000000000",
          "2025-08-19T14:36:00.000000000",
          "2025-08-19T14:37:00.000000000",
          "2025-08-19T14:38:00.000000000",
          "2025-08-19T14:39:00.000000000",
          "2025-08-19T14:40:00.000000000",
          "2025-08-19T14:41:00.000000000",
          "2025-08-19T14:42:00.000000000",
          "2025-08-19T14:43:00.000000000",
          "2025-08-19T14:44:00.000000000",
          "2025-08-19T14:45:00.000000000",
          "2025-08-19T14:46:00.000000000",
          "2025-08-19T14:47:00.000000000",
          "2025-08-19T14:48:00.000000000",
          "2025-08-19T14:49:00.000000000",
          "2025-08-19T14:50:00.000000000",
          "2025-08-19T14:51:00.000000000",
          "2025-08-19T14:52:00.000000000",
          "2025-08-19T14:53:00.000000000",
          "2025-08-19T14:54:00.000000000",
          "2025-08-19T14:55:00.000000000",
          "2025-08-19T14:56:00.000000000",
          "2025-08-19T14:57:00.000000000",
          "2025-08-19T14:58:00.000000000",
          "2025-08-19T14:59:00.000000000",
          "2025-08-19T15:00:00.000000000",
          "2025-08-19T15:01:00.000000000",
          "2025-08-19T15:02:00.000000000",
          "2025-08-19T15:03:00.000000000",
          "2025-08-19T15:04:00.000000000",
          "2025-08-19T15:05:00.000000000",
          "2025-08-19T15:06:00.000000000",
          "2025-08-19T15:07:00.000000000",
          "2025-08-19T15:08:00.000000000",
          "2025-08-19T15:09:00.000000000",
          "2025-08-19T15:10:00.000000000",
          "2025-08-19T15:11:00.000000000",
          "2025-08-19T15:12:00.000000000",
          "2025-08-19T15:13:00.000000000",
          "2025-08-19T15:14:00.000000000",
          "2025-08-19T15:15:00.000000000",
          "2025-08-19T15:16:00.000000000",
          "2025-08-19T15:17:00.000000000",
          "2025-08-19T15:18:00.000000000",
          "2025-08-19T15:19:00.000000000",
          "2025-08-19T15:20:00.000000000",
          "2025-08-19T15:21:00.000000000",
          "2025-08-19T15:22:00.000000000",
          "2025-08-19T15:23:00.000000000",
          "2025-08-19T15:24:00.000000000",
          "2025-08-19T15:25:00.000000000",
          "2025-08-19T15:26:00.000000000",
          "2025-08-19T15:27:00.000000000",
          "2025-08-19T15:28:00.000000000",
          "2025-08-19T15:29:00.000000000",
          "2025-08-19T15:30:00.000000000",
          "2025-08-19T15:31:00.000000000",
          "2025-08-19T15:32:00.000000000",
          "2025-08-19T15:33:00.000000000",
          "2025-08-19T15:34:00.000000000",
          "2025-08-19T15:35:00.000000000",
          "2025-08-19T15:36:00.000000000",
          "2025-08-19T15:37:00.000000000",
          "2025-08-19T15:38:00.000000000",
          "2025-08-19T15:39:00.000000000",
          "2025-08-19T15:40:00.000000000",
          "2025-08-19T15:41:00.000000000",
          "2025-08-19T15:42:00.000000000",
          "2025-08-19T15:43:00.000000000",
          "2025-08-19T15:44:00.000000000",
          "2025-08-19T15:45:00.000000000",
          "2025-08-19T15:46:00.000000000",
          "2025-08-19T15:47:00.000000000",
          "2025-08-19T15:48:00.000000000",
          "2025-08-19T15:49:00.000000000",
          "2025-08-19T15:50:00.000000000",
          "2025-08-19T15:51:00.000000000",
          "2025-08-19T15:52:00.000000000",
          "2025-08-19T15:53:00.000000000",
          "2025-08-19T15:54:00.000000000",
          "2025-08-19T15:55:00.000000000",
          "2025-08-19T15:56:00.000000000",
          "2025-08-19T15:57:00.000000000",
          "2025-08-19T15:58:00.000000000",
          "2025-08-19T15:59:00.000000000"
         ],
         "xaxis": "x2",
         "y": {
          "bdata": "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",
          "dtype": "f8"
         },
         "yaxis": "y2"
        },
        {
         "line": {
          "color": "#F8E9A6",
          "width": 1
         },
         "mode": "lines",
         "name": "Signal (avg)",
         "showlegend": false,
         "type": "scatter",
         "x": [
          "2025-08-19T09:00:00.000000000",
          "2025-08-19T09:01:00.000000000",
          "2025-08-19T09:02:00.000000000",
          "2025-08-19T09:03:00.000000000",
          "2025-08-19T09:04:00.000000000",
          "2025-08-19T09:05:00.000000000",
          "2025-08-19T09:06:00.000000000",
          "2025-08-19T09:07:00.000000000",
          "2025-08-19T09:08:00.000000000",
          "2025-08-19T09:09:00.000000000",
          "2025-08-19T09:10:00.000000000",
          "2025-08-19T09:11:00.000000000",
          "2025-08-19T09:12:00.000000000",
          "2025-08-19T09:13:00.000000000",
          "2025-08-19T09:14:00.000000000",
          "2025-08-19T09:15:00.000000000",
          "2025-08-19T09:16:00.000000000",
          "2025-08-19T09:17:00.000000000",
          "2025-08-19T09:18:00.000000000",
          "2025-08-19T09:19:00.000000000",
          "2025-08-19T09:20:00.000000000",
          "2025-08-19T09:21:00.000000000",
          "2025-08-19T09:22:00.000000000",
          "2025-08-19T09:23:00.000000000",
          "2025-08-19T09:24:00.000000000",
          "2025-08-19T09:25:00.000000000",
          "2025-08-19T09:26:00.000000000",
          "2025-08-19T09:27:00.000000000",
          "2025-08-19T09:28:00.000000000",
          "2025-08-19T09:29:00.000000000",
          "2025-08-19T09:30:00.000000000",
          "2025-08-19T09:31:00.000000000",
          "2025-08-19T09:32:00.000000000",
          "2025-08-19T09:33:00.000000000",
          "2025-08-19T09:34:00.000000000",
          "2025-08-19T09:35:00.000000000",
          "2025-08-19T09:36:00.000000000",
          "2025-08-19T09:37:00.000000000",
          "2025-08-19T09:38:00.000000000",
          "2025-08-19T09:39:00.000000000",
          "2025-08-19T09:40:00.000000000",
          "2025-08-19T09:41:00.000000000",
          "2025-08-19T09:42:00.000000000",
          "2025-08-19T09:43:00.000000000",
          "2025-08-19T09:44:00.000000000",
          "2025-08-19T09:45:00.000000000",
          "2025-08-19T09:46:00.000000000",
          "2025-08-19T09:47:00.000000000",
          "2025-08-19T09:48:00.000000000",
          "2025-08-19T09:49:00.000000000",
          "2025-08-19T09:50:00.000000000",
          "2025-08-19T09:51:00.000000000",
          "2025-08-19T09:52:00.000000000",
          "2025-08-19T09:53:00.000000000",
          "2025-08-19T09:54:00.000000000",
          "2025-08-19T09:55:00.000000000",
          "2025-08-19T09:56:00.000000000",
          "2025-08-19T09:57:00.000000000",
          "2025-08-19T09:58:00.000000000",
          "2025-08-19T09:59:00.000000000",
          "2025-08-19T10:00:00.000000000",
          "2025-08-19T10:01:00.000000000",
          "2025-08-19T10:02:00.000000000",
          "2025-08-19T10:03:00.000000000",
          "2025-08-19T10:04:00.000000000",
          "2025-08-19T10:05:00.000000000",
          "2025-08-19T10:06:00.000000000",
          "2025-08-19T10:07:00.000000000",
          "2025-08-19T10:08:00.000000000",
          "2025-08-19T10:09:00.000000000",
          "2025-08-19T10:10:00.000000000",
          "2025-08-19T10:11:00.000000000",
          "2025-08-19T10:12:00.000000000",
          "2025-08-19T10:13:00.000000000",
          "2025-08-19T10:14:00.000000000",
          "2025-08-19T10:15:00.000000000",
          "2025-08-19T10:16:00.000000000",
          "2025-08-19T10:17:00.000000000",
          "2025-08-19T10:18:00.000000000",
          "2025-08-19T10:19:00.000000000",
          "2025-08-19T10:20:00.000000000",
          "2025-08-19T10:21:00.000000000",
          "2025-08-19T10:22:00.000000000",
          "2025-08-19T10:23:00.000000000",
          "2025-08-19T10:24:00.000000000",
          "2025-08-19T10:25:00.000000000",
          "2025-08-19T10:26:00.000000000",
          "2025-08-19T10:27:00.000000000",
          "2025-08-19T10:28:00.000000000",
          "2025-08-19T10:29:00.000000000",
          "2025-08-19T10:30:00.000000000",
          "2025-08-19T10:31:00.000000000",
          "2025-08-19T10:32:00.000000000",
          "2025-08-19T10:33:00.000000000",
          "2025-08-19T10:34:00.000000000",
          "2025-08-19T10:35:00.000000000",
          "2025-08-19T10:36:00.000000000",
          "2025-08-19T10:37:00.000000000",
          "2025-08-19T10:38:00.000000000",
          "2025-08-19T10:39:00.000000000",
          "2025-08-19T10:40:00.000000000",
          "2025-08-19T10:41:00.000000000",
          "2025-08-19T10:42:00.000000000",
          "2025-08-19T10:43:00.000000000",
          "2025-08-19T10:44:00.000000000",
          "2025-08-19T10:45:00.000000000",
          "2025-08-19T10:46:00.000000000",
          "2025-08-19T10:47:00.000000000",
          "2025-08-19T10:48:00.000000000",
          "2025-08-19T10:49:00.000000000",
          "2025-08-19T10:50:00.000000000",
          "2025-08-19T10:51:00.000000000",
          "2025-08-19T10:52:00.000000000",
          "2025-08-19T10:53:00.000000000",
          "2025-08-19T10:54:00.000000000",
          "2025-08-19T10:55:00.000000000",
          "2025-08-19T10:56:00.000000000",
          "2025-08-19T10:57:00.000000000",
          "2025-08-19T10:58:00.000000000",
          "2025-08-19T10:59:00.000000000",
          "2025-08-19T11:00:00.000000000",
          "2025-08-19T11:01:00.000000000",
          "2025-08-19T11:02:00.000000000",
          "2025-08-19T11:03:00.000000000",
          "2025-08-19T11:04:00.000000000",
          "2025-08-19T11:05:00.000000000",
          "2025-08-19T11:06:00.000000000",
          "2025-08-19T11:07:00.000000000",
          "2025-08-19T11:08:00.000000000",
          "2025-08-19T11:09:00.000000000",
          "2025-08-19T11:10:00.000000000",
          "2025-08-19T11:11:00.000000000",
          "2025-08-19T11:12:00.000000000",
          "2025-08-19T11:13:00.000000000",
          "2025-08-19T11:14:00.000000000",
          "2025-08-19T11:15:00.000000000",
          "2025-08-19T11:16:00.000000000",
          "2025-08-19T11:17:00.000000000",
          "2025-08-19T11:18:00.000000000",
          "2025-08-19T11:19:00.000000000",
          "2025-08-19T11:20:00.000000000",
          "2025-08-19T11:21:00.000000000",
          "2025-08-19T11:22:00.000000000",
          "2025-08-19T11:23:00.000000000",
          "2025-08-19T11:24:00.000000000",
          "2025-08-19T11:25:00.000000000",
          "2025-08-19T11:26:00.000000000",
          "2025-08-19T11:27:00.000000000",
          "2025-08-19T11:28:00.000000000",
          "2025-08-19T11:29:00.000000000",
          "2025-08-19T11:30:00.000000000",
          "2025-08-19T11:31:00.000000000",
          "2025-08-19T11:32:00.000000000",
          "2025-08-19T11:33:00.000000000",
          "2025-08-19T11:34:00.000000000",
          "2025-08-19T11:35:00.000000000",
          "2025-08-19T11:36:00.000000000",
          "2025-08-19T11:37:00.000000000",
          "2025-08-19T11:38:00.000000000",
          "2025-08-19T11:39:00.000000000",
          "2025-08-19T11:40:00.000000000",
          "2025-08-19T11:41:00.000000000",
          "2025-08-19T11:42:00.000000000",
          "2025-08-19T11:43:00.000000000",
          "2025-08-19T11:44:00.000000000",
          "2025-08-19T11:45:00.000000000",
          "2025-08-19T11:46:00.000000000",
          "2025-08-19T11:47:00.000000000",
          "2025-08-19T11:48:00.000000000",
          "2025-08-19T11:49:00.000000000",
          "2025-08-19T11:50:00.000000000",
          "2025-08-19T11:51:00.000000000",
          "2025-08-19T11:52:00.000000000",
          "2025-08-19T11:53:00.000000000",
          "2025-08-19T11:54:00.000000000",
          "2025-08-19T11:55:00.000000000",
          "2025-08-19T11:56:00.000000000",
          "2025-08-19T11:57:00.000000000",
          "2025-08-19T11:58:00.000000000",
          "2025-08-19T11:59:00.000000000",
          "2025-08-19T12:00:00.000000000",
          "2025-08-19T12:01:00.000000000",
          "2025-08-19T12:02:00.000000000",
          "2025-08-19T12:03:00.000000000",
          "2025-08-19T12:04:00.000000000",
          "2025-08-19T12:05:00.000000000",
          "2025-08-19T12:06:00.000000000",
          "2025-08-19T12:07:00.000000000",
          "2025-08-19T12:08:00.000000000",
          "2025-08-19T12:09:00.000000000",
          "2025-08-19T12:10:00.000000000",
          "2025-08-19T12:11:00.000000000",
          "2025-08-19T12:12:00.000000000",
          "2025-08-19T12:13:00.000000000",
          "2025-08-19T12:14:00.000000000",
          "2025-08-19T12:15:00.000000000",
          "2025-08-19T12:16:00.000000000",
          "2025-08-19T12:17:00.000000000",
          "2025-08-19T12:18:00.000000000",
          "2025-08-19T12:19:00.000000000",
          "2025-08-19T12:20:00.000000000",
          "2025-08-19T12:21:00.000000000",
          "2025-08-19T12:22:00.000000000",
          "2025-08-19T12:23:00.000000000",
          "2025-08-19T12:24:00.000000000",
          "2025-08-19T12:25:00.000000000",
          "2025-08-19T12:26:00.000000000",
          "2025-08-19T12:27:00.000000000",
          "2025-08-19T12:28:00.000000000",
          "2025-08-19T12:29:00.000000000",
          "2025-08-19T12:30:00.000000000",
          "2025-08-19T12:31:00.000000000",
          "2025-08-19T12:32:00.000000000",
          "2025-08-19T12:33:00.000000000",
          "2025-08-19T12:34:00.000000000",
          "2025-08-19T12:35:00.000000000",
          "2025-08-19T12:36:00.000000000",
          "2025-08-19T12:37:00.000000000",
          "2025-08-19T12:38:00.000000000",
          "2025-08-19T12:39:00.000000000",
          "2025-08-19T12:40:00.000000000",
          "2025-08-19T12:41:00.000000000",
          "2025-08-19T12:42:00.000000000",
          "2025-08-19T12:43:00.000000000",
          "2025-08-19T12:44:00.000000000",
          "2025-08-19T12:45:00.000000000",
          "2025-08-19T12:46:00.000000000",
          "2025-08-19T12:47:00.000000000",
          "2025-08-19T12:48:00.000000000",
          "2025-08-19T12:49:00.000000000",
          "2025-08-19T12:50:00.000000000",
          "2025-08-19T12:51:00.000000000",
          "2025-08-19T12:52:00.000000000",
          "2025-08-19T12:53:00.000000000",
          "2025-08-19T12:54:00.000000000",
          "2025-08-19T12:55:00.000000000",
          "2025-08-19T12:56:00.000000000",
          "2025-08-19T12:57:00.000000000",
          "2025-08-19T12:58:00.000000000",
          "2025-08-19T12:59:00.000000000",
          "2025-08-19T13:00:00.000000000",
          "2025-08-19T13:01:00.000000000",
          "2025-08-19T13:02:00.000000000",
          "2025-08-19T13:03:00.000000000",
          "2025-08-19T13:04:00.000000000",
          "2025-08-19T13:05:00.000000000",
          "2025-08-19T13:06:00.000000000",
          "2025-08-19T13:07:00.000000000",
          "2025-08-19T13:08:00.000000000",
          "2025-08-19T13:09:00.000000000",
          "2025-08-19T13:10:00.000000000",
          "2025-08-19T13:11:00.000000000",
          "2025-08-19T13:12:00.000000000",
          "2025-08-19T13:13:00.000000000",
          "2025-08-19T13:14:00.000000000",
          "2025-08-19T13:15:00.000000000",
          "2025-08-19T13:16:00.000000000",
          "2025-08-19T13:17:00.000000000",
          "2025-08-19T13:18:00.000000000",
          "2025-08-19T13:19:00.000000000",
          "2025-08-19T13:20:00.000000000",
          "2025-08-19T13:21:00.000000000",
          "2025-08-19T13:22:00.000000000",
          "2025-08-19T13:23:00.000000000",
          "2025-08-19T13:24:00.000000000",
          "2025-08-19T13:25:00.000000000",
          "2025-08-19T13:26:00.000000000",
          "2025-08-19T13:27:00.000000000",
          "2025-08-19T13:28:00.000000000",
          "2025-08-19T13:29:00.000000000",
          "2025-08-19T13:30:00.000000000",
          "2025-08-19T13:31:00.000000000",
          "2025-08-19T13:32:00.000000000",
          "2025-08-19T13:33:00.000000000",
          "2025-08-19T13:34:00.000000000",
          "2025-08-19T13:35:00.000000000",
          "2025-08-19T13:36:00.000000000",
          "2025-08-19T13:37:00.000000000",
          "2025-08-19T13:38:00.000000000",
          "2025-08-19T13:39:00.000000000",
          "2025-08-19T13:40:00.000000000",
          "2025-08-19T13:41:00.000000000",
          "2025-08-19T13:42:00.000000000",
          "2025-08-19T13:43:00.000000000",
          "2025-08-19T13:44:00.000000000",
          "2025-08-19T13:45:00.000000000",
          "2025-08-19T13:46:00.000000000",
          "2025-08-19T13:47:00.000000000",
          "2025-08-19T13:48:00.000000000",
          "2025-08-19T13:49:00.000000000",
          "2025-08-19T13:50:00.000000000",
          "2025-08-19T13:51:00.000000000",
          "2025-08-19T13:52:00.000000000",
          "2025-08-19T13:53:00.000000000",
          "2025-08-19T13:54:00.000000000",
          "2025-08-19T13:55:00.000000000",
          "2025-08-19T13:56:00.000000000",
          "2025-08-19T13:57:00.000000000",
          "2025-08-19T13:58:00.000000000",
          "2025-08-19T13:59:00.000000000",
          "2025-08-19T14:00:00.000000000",
          "2025-08-19T14:01:00.000000000",
          "2025-08-19T14:02:00.000000000",
          "2025-08-19T14:03:00.000000000",
          "2025-08-19T14:04:00.000000000",
          "2025-08-19T14:05:00.000000000",
          "2025-08-19T14:06:00.000000000",
          "2025-08-19T14:07:00.000000000",
          "2025-08-19T14:08:00.000000000",
          "2025-08-19T14:09:00.000000000",
          "2025-08-19T14:10:00.000000000",
          "2025-08-19T14:11:00.000000000",
          "2025-08-19T14:12:00.000000000",
          "2025-08-19T14:13:00.000000000",
          "2025-08-19T14:14:00.000000000",
          "2025-08-19T14:15:00.000000000",
          "2025-08-19T14:16:00.000000000",
          "2025-08-19T14:17:00.000000000",
          "2025-08-19T14:18:00.000000000",
          "2025-08-19T14:19:00.000000000",
          "2025-08-19T14:20:00.000000000",
          "2025-08-19T14:21:00.000000000",
          "2025-08-19T14:22:00.000000000",
          "2025-08-19T14:23:00.000000000",
          "2025-08-19T14:24:00.000000000",
          "2025-08-19T14:25:00.000000000",
          "2025-08-19T14:26:00.000000000",
          "2025-08-19T14:27:00.000000000",
          "2025-08-19T14:28:00.000000000",
          "2025-08-19T14:29:00.000000000",
          "2025-08-19T14:30:00.000000000",
          "2025-08-19T14:31:00.000000000",
          "2025-08-19T14:32:00.000000000",
          "2025-08-19T14:33:00.000000000",
          "2025-08-19T14:34:00.000000000",
          "2025-08-19T14:35:00.000000000",
          "2025-08-19T14:36:00.000000000",
          "2025-08-19T14:37:00.000000000",
          "2025-08-19T14:38:00.000000000",
          "2025-08-19T14:39:00.000000000",
          "2025-08-19T14:40:00.000000000",
          "2025-08-19T14:41:00.000000000",
          "2025-08-19T14:42:00.000000000",
          "2025-08-19T14:43:00.000000000",
          "2025-08-19T14:44:00.000000000",
          "2025-08-19T14:45:00.000000000",
          "2025-08-19T14:46:00.000000000",
          "2025-08-19T14:47:00.000000000",
          "2025-08-19T14:48:00.000000000",
          "2025-08-19T14:49:00.000000000",
          "2025-08-19T14:50:00.000000000",
          "2025-08-19T14:51:00.000000000",
          "2025-08-19T14:52:00.000000000",
          "2025-08-19T14:53:00.000000000",
          "2025-08-19T14:54:00.000000000",
          "2025-08-19T14:55:00.000000000",
          "2025-08-19T14:56:00.000000000",
          "2025-08-19T14:57:00.000000000",
          "2025-08-19T14:58:00.000000000",
          "2025-08-19T14:59:00.000000000",
          "2025-08-19T15:00:00.000000000",
          "2025-08-19T15:01:00.000000000",
          "2025-08-19T15:02:00.000000000",
          "2025-08-19T15:03:00.000000000",
          "2025-08-19T15:04:00.000000000",
          "2025-08-19T15:05:00.000000000",
          "2025-08-19T15:06:00.000000000",
          "2025-08-19T15:07:00.000000000",
          "2025-08-19T15:08:00.000000000",
          "2025-08-19T15:09:00.000000000",
          "2025-08-19T15:10:00.000000000",
          "2025-08-19T15:11:00.000000000",
          "2025-08-19T15:12:00.000000000",
          "2025-08-19T15:13:00.000000000",
          "2025-08-19T15:14:00.000000000",
          "2025-08-19T15:15:00.000000000",
          "2025-08-19T15:16:00.000000000",
          "2025-08-19T15:17:00.000000000",
          "2025-08-19T15:18:00.000000000",
          "2025-08-19T15:19:00.000000000",
          "2025-08-19T15:20:00.000000000",
          "2025-08-19T15:21:00.000000000",
          "2025-08-19T15:22:00.000000000",
          "2025-08-19T15:23:00.000000000",
          "2025-08-19T15:24:00.000000000",
          "2025-08-19T15:25:00.000000000",
          "2025-08-19T15:26:00.000000000",
          "2025-08-19T15:27:00.000000000",
          "2025-08-19T15:28:00.000000000",
          "2025-08-19T15:29:00.000000000",
          "2025-08-19T15:30:00.000000000",
          "2025-08-19T15:31:00.000000000",
          "2025-08-19T15:32:00.000000000",
          "2025-08-19T15:33:00.000000000",
          "2025-08-19T15:34:00.000000000",
          "2025-08-19T15:35:00.000000000",
          "2025-08-19T15:36:00.000000000",
          "2025-08-19T15:37:00.000000000",
          "2025-08-19T15:38:00.000000000",
          "2025-08-19T15:39:00.000000000",
          "2025-08-19T15:40:00.000000000",
          "2025-08-19T15:41:00.000000000",
          "2025-08-19T15:42:00.000000000",
          "2025-08-19T15:43:00.000000000",
          "2025-08-19T15:44:00.000000000",
          "2025-08-19T15:45:00.000000000",
          "2025-08-19T15:46:00.000000000",
          "2025-08-19T15:47:00.000000000",
          "2025-08-19T15:48:00.000000000",
          "2025-08-19T15:49:00.000000000",
          "2025-08-19T15:50:00.000000000",
          "2025-08-19T15:51:00.000000000",
          "2025-08-19T15:52:00.000000000",
          "2025-08-19T15:53:00.000000000",
          "2025-08-19T15:54:00.000000000",
          "2025-08-19T15:55:00.000000000",
          "2025-08-19T15:56:00.000000000",
          "2025-08-19T15:57:00.000000000",
          "2025-08-19T15:58:00.000000000",
          "2025-08-19T15:59:00.000000000"
         ],
         "xaxis": "x2",
         "y": {
          "bdata": "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",
          "dtype": "f8"
         },
         "yaxis": "y2"
        },
        {
         "marker": {
          "color": [
           "#FE0000",
           "#7E0100",
           "#7E0100",
           "#7E0100",
           "#7E0100",
           "#7E0100",
           "#7E0100",
           "#7E0100",
           "#7E0100",
           "#7E0100",
           "#7E0100",
           "#7E0100",
           "#7E0100",
           "#7E0100",
           "#7E0100",
           "#7E0100",
           "#7E0100",
           "#7E0100",
           "#7E0100",
           "#7E0100",
           "#7E0100",
           "#7E0100",
           "#7E0100",
           "#7E0100",
           "#7E0100",
           "#7E0100",
           "#7E0100",
           "#7E0100",
           "#7E0100",
           "#7E0100",
           "#FE0000",
           "#FE0000",
           "#FE0000",
           "#FE0000",
           "#FE0000",
           "#FE0000",
           "#7E0100",
           "#7E0100",
           "#7E0100",
           "#7E0100",
           "#04FE00",
           "#04FE00",
           "#04FE00",
           "#04FE00",
           "#006401",
           "#006401",
           "#006401",
           "#FE0000",
           "#FE0000",
           "#7E0100",
           "#FE0000",
           "#7E0100",
           "#04FE00",
           "#04FE00",
           "#04FE00",
           "#04FE00",
           "#04FE00",
           "#04FE00",
           "#006401",
           "#006401",
           "#006401",
           "#04FE00",
           "#04FE00",
           "#04FE00",
           "#04FE00",
           "#04FE00",
           "#04FE00",
           "#006401",
           "#006401",
           "#006401",
           "#006401",
           "#006401",
           "#006401",
           "#006401",
           "#FE0000",
           "#FE0000",
           "#FE0000",
           "#FE0000",
           "#7E0100",
           "#7E0100",
           "#7E0100",
           "#7E0100",
           "#7E0100",
           "#FE0000",
           "#7E0100",
           "#FE0000",
           "#FE0000",
           "#FE0000",
           "#FE0000",
           "#FE0000",
           "#FE0000",
           "#7E0100",
           "#7E0100",
           "#7E0100",
           "#7E0100",
           "#FE0000",
           "#FE0000",
           "#FE0000",
           "#FE0000",
           "#FE0000",
           "#7E0100",
           "#FE0000",
           "#FE0000",
           "#FE0000",
           "#7E0100",
           "#FE0000",
           "#7E0100",
           "#7E0100",
           "#FE0000",
           "#7E0100",
           "#7E0100",
           "#7E0100",
           "#7E0100",
           "#7E0100",
           "#04FE00",
           "#04FE00",
           "#04FE00",
           "#006401",
           "#006401",
           "#FE0000",
           "#FE0000",
           "#FE0000",
           "#7E0100",
           "#7E0100",
           "#7E0100",
           "#7E0100",
           "#7E0100",
           "#04FE00",
           "#04FE00",
           "#04FE00",
           "#006401",
           "#04FE00",
           "#006401",
           "#04FE00",
           "#04FE00",
           "#04FE00",
           "#04FE00",
           "#04FE00",
           "#04FE00",
           "#04FE00",
           "#006401",
           "#006401",
           "#006401",
           "#006401",
           "#006401",
           "#006401",
           "#04FE00",
           "#04FE00",
           "#04FE00",
           "#04FE00",
           "#04FE00",
           "#04FE00",
           "#04FE00",
           "#006401",
           "#04FE00",
           "#006401",
           "#006401",
           "#006401",
           "#FE0000",
           "#FE0000",
           "#7E0100",
           "#FE0000",
           "#FE0000",
           "#7E0100",
           "#7E0100",
           "#7E0100",
           "#FE0000",
           "#FE0000",
           "#7E0100",
           "#FE0000",
           "#FE0000",
           "#FE0000",
           "#7E0100",
           "#FE0000",
           "#7E0100",
           "#7E0100",
           "#7E0100",
           "#7E0100",
           "#FE0000",
           "#7E0100",
           "#04FE00",
           "#04FE00",
           "#04FE00",
           "#04FE00",
           "#006401",
           "#006401",
           "#006401",
           "#FE0000",
           "#FE0000",
           "#FE0000",
           "#FE0000",
           "#7E0100",
           "#FE0000",
           "#FE0000",
           "#7E0100",
           "#7E0100",
           "#04FE00",
           "#04FE00",
           "#04FE00",
           "#04FE00",
           "#006401",
           "#04FE00",
           "#04FE00",
           "#04FE00",
           "#006401",
           "#006401",
           "#006401",
           "#006401",
           "#006401",
           "#006401",
           "#FE0000",
           "#FE0000",
           "#FE0000",
           "#7E0100",
           "#7E0100",
           "#04FE00",
           "#04FE00",
           "#006401",
           "#006401",
           "#FE0000",
           "#FE0000",
           "#FE0000",
           "#FE0000",
           "#FE0000",
           "#7E0100",
           "#FE0000",
           "#7E0100",
           "#7E0100",
           "#7E0100",
           "#7E0100",
           "#7E0100",
           "#04FE00",
           "#04FE00",
           "#04FE00",
           "#006401",
           "#006401",
           "#006401",
           "#006401",
           "#04FE00",
           "#04FE00",
           "#04FE00",
           "#006401",
           "#04FE00",
           "#04FE00",
           "#FE0000",
           "#FE0000",
           "#FE0000",
           "#FE0000",
           "#7E0100",
           "#FE0000",
           "#7E0100",
           "#7E0100",
           "#7E0100",
           "#04FE00",
           "#04FE00",
           "#04FE00",
           "#04FE00",
           "#006401",
           "#006401",
           "#006401",
           "#04FE00",
           "#04FE00",
           "#04FE00",
           "#04FE00",
           "#006401",
           "#04FE00",
           "#006401",
           "#04FE00",
           "#04FE00",
           "#006401",
           "#006401",
           "#006401",
           "#006401",
           "#006401",
           "#006401",
           "#006401",
           "#04FE00",
           "#04FE00",
           "#04FE00",
           "#006401",
           "#006401",
           "#006401",
           "#006401",
           "#006401",
           "#FE0000",
           "#FE0000",
           "#FE0000",
           "#FE0000",
           "#FE0000",
           "#FE0000",
           "#7E0100",
           "#7E0100",
           "#FE0000",
           "#7E0100",
           "#FE0000",
           "#7E0100",
           "#7E0100",
           "#7E0100",
           "#7E0100",
           "#7E0100",
           "#FE0000",
           "#FE0000",
           "#FE0000",
           "#FE0000",
           "#FE0000",
           "#FE0000",
           "#7E0100",
           "#7E0100",
           "#7E0100",
           "#04FE00",
           "#04FE00",
           "#04FE00",
           "#FE0000",
           "#FE0000",
           "#FE0000",
           "#FE0000",
           "#FE0000",
           "#FE0000",
           "#7E0100",
           "#FE0000",
           "#FE0000",
           "#7E0100",
           "#7E0100",
           "#7E0100",
           "#7E0100",
           "#04FE00",
           "#04FE00",
           "#006401",
           "#04FE00",
           "#04FE00",
           "#006401",
           "#04FE00",
           "#04FE00",
           "#006401",
           "#006401",
           "#006401",
           "#FE0000",
           "#FE0000",
           "#FE0000",
           "#FE0000",
           "#04FE00",
           "#04FE00",
           "#04FE00",
           "#006401",
           "#04FE00",
           "#04FE00",
           "#006401",
           "#04FE00",
           "#006401",
           "#006401",
           "#006401",
           "#04FE00",
           "#04FE00",
           "#04FE00",
           "#04FE00",
           "#006401",
           "#04FE00",
           "#04FE00",
           "#04FE00",
           "#006401",
           "#006401",
           "#FE0000",
           "#FE0000",
           "#FE0000",
           "#7E0100",
           "#7E0100",
           "#FE0000",
           "#7E0100",
           "#7E0100",
           "#7E0100",
           "#04FE00",
           "#04FE00",
           "#04FE00",
           "#006401",
           "#006401",
           "#006401",
           "#FE0000",
           "#FE0000",
           "#7E0100",
           "#04FE00",
           "#04FE00",
           "#04FE00",
           "#04FE00",
           "#04FE00",
           "#04FE00",
           "#006401",
           "#006401",
           "#006401",
           "#006401",
           "#006401",
           "#04FE00",
           "#006401",
           "#04FE00",
           "#006401",
           "#006401",
           "#006401",
           "#006401",
           "#006401",
           "#FE0000",
           "#FE0000",
           "#FE0000",
           "#FE0000",
           "#FE0000",
           "#7E0100",
           "#7E0100",
           "#FE0000",
           "#7E0100",
           "#FE0000",
           "#FE0000",
           "#FE0000",
           "#FE0000",
           "#FE0000",
           "#7E0100",
           "#FE0000",
           "#FE0000",
           "#7E0100",
           "#7E0100",
           "#04FE00",
           "#04FE00",
           "#04FE00"
          ]
         },
         "name": "Histogram (diff)",
         "showlegend": false,
         "type": "bar",
         "x": [
          "2025-08-19T09:00:00.000000000",
          "2025-08-19T09:01:00.000000000",
          "2025-08-19T09:02:00.000000000",
          "2025-08-19T09:03:00.000000000",
          "2025-08-19T09:04:00.000000000",
          "2025-08-19T09:05:00.000000000",
          "2025-08-19T09:06:00.000000000",
          "2025-08-19T09:07:00.000000000",
          "2025-08-19T09:08:00.000000000",
          "2025-08-19T09:09:00.000000000",
          "2025-08-19T09:10:00.000000000",
          "2025-08-19T09:11:00.000000000",
          "2025-08-19T09:12:00.000000000",
          "2025-08-19T09:13:00.000000000",
          "2025-08-19T09:14:00.000000000",
          "2025-08-19T09:15:00.000000000",
          "2025-08-19T09:16:00.000000000",
          "2025-08-19T09:17:00.000000000",
          "2025-08-19T09:18:00.000000000",
          "2025-08-19T09:19:00.000000000",
          "2025-08-19T09:20:00.000000000",
          "2025-08-19T09:21:00.000000000",
          "2025-08-19T09:22:00.000000000",
          "2025-08-19T09:23:00.000000000",
          "2025-08-19T09:24:00.000000000",
          "2025-08-19T09:25:00.000000000",
          "2025-08-19T09:26:00.000000000",
          "2025-08-19T09:27:00.000000000",
          "2025-08-19T09:28:00.000000000",
          "2025-08-19T09:29:00.000000000",
          "2025-08-19T09:30:00.000000000",
          "2025-08-19T09:31:00.000000000",
          "2025-08-19T09:32:00.000000000",
          "2025-08-19T09:33:00.000000000",
          "2025-08-19T09:34:00.000000000",
          "2025-08-19T09:35:00.000000000",
          "2025-08-19T09:36:00.000000000",
          "2025-08-19T09:37:00.000000000",
          "2025-08-19T09:38:00.000000000",
          "2025-08-19T09:39:00.000000000",
          "2025-08-19T09:40:00.000000000",
          "2025-08-19T09:41:00.000000000",
          "2025-08-19T09:42:00.000000000",
          "2025-08-19T09:43:00.000000000",
          "2025-08-19T09:44:00.000000000",
          "2025-08-19T09:45:00.000000000",
          "2025-08-19T09:46:00.000000000",
          "2025-08-19T09:47:00.000000000",
          "2025-08-19T09:48:00.000000000",
          "2025-08-19T09:49:00.000000000",
          "2025-08-19T09:50:00.000000000",
          "2025-08-19T09:51:00.000000000",
          "2025-08-19T09:52:00.000000000",
          "2025-08-19T09:53:00.000000000",
          "2025-08-19T09:54:00.000000000",
          "2025-08-19T09:55:00.000000000",
          "2025-08-19T09:56:00.000000000",
          "2025-08-19T09:57:00.000000000",
          "2025-08-19T09:58:00.000000000",
          "2025-08-19T09:59:00.000000000",
          "2025-08-19T10:00:00.000000000",
          "2025-08-19T10:01:00.000000000",
          "2025-08-19T10:02:00.000000000",
          "2025-08-19T10:03:00.000000000",
          "2025-08-19T10:04:00.000000000",
          "2025-08-19T10:05:00.000000000",
          "2025-08-19T10:06:00.000000000",
          "2025-08-19T10:07:00.000000000",
          "2025-08-19T10:08:00.000000000",
          "2025-08-19T10:09:00.000000000",
          "2025-08-19T10:10:00.000000000",
          "2025-08-19T10:11:00.000000000",
          "2025-08-19T10:12:00.000000000",
          "2025-08-19T10:13:00.000000000",
          "2025-08-19T10:14:00.000000000",
          "2025-08-19T10:15:00.000000000",
          "2025-08-19T10:16:00.000000000",
          "2025-08-19T10:17:00.000000000",
          "2025-08-19T10:18:00.000000000",
          "2025-08-19T10:19:00.000000000",
          "2025-08-19T10:20:00.000000000",
          "2025-08-19T10:21:00.000000000",
          "2025-08-19T10:22:00.000000000",
          "2025-08-19T10:23:00.000000000",
          "2025-08-19T10:24:00.000000000",
          "2025-08-19T10:25:00.000000000",
          "2025-08-19T10:26:00.000000000",
          "2025-08-19T10:27:00.000000000",
          "2025-08-19T10:28:00.000000000",
          "2025-08-19T10:29:00.000000000",
          "2025-08-19T10:30:00.000000000",
          "2025-08-19T10:31:00.000000000",
          "2025-08-19T10:32:00.000000000",
          "2025-08-19T10:33:00.000000000",
          "2025-08-19T10:34:00.000000000",
          "2025-08-19T10:35:00.000000000",
          "2025-08-19T10:36:00.000000000",
          "2025-08-19T10:37:00.000000000",
          "2025-08-19T10:38:00.000000000",
          "2025-08-19T10:39:00.000000000",
          "2025-08-19T10:40:00.000000000",
          "2025-08-19T10:41:00.000000000",
          "2025-08-19T10:42:00.000000000",
          "2025-08-19T10:43:00.000000000",
          "2025-08-19T10:44:00.000000000",
          "2025-08-19T10:45:00.000000000",
          "2025-08-19T10:46:00.000000000",
          "2025-08-19T10:47:00.000000000",
          "2025-08-19T10:48:00.000000000",
          "2025-08-19T10:49:00.000000000",
          "2025-08-19T10:50:00.000000000",
          "2025-08-19T10:51:00.000000000",
          "2025-08-19T10:52:00.000000000",
          "2025-08-19T10:53:00.000000000",
          "2025-08-19T10:54:00.000000000",
          "2025-08-19T10:55:00.000000000",
          "2025-08-19T10:56:00.000000000",
          "2025-08-19T10:57:00.000000000",
          "2025-08-19T10:58:00.000000000",
          "2025-08-19T10:59:00.000000000",
          "2025-08-19T11:00:00.000000000",
          "2025-08-19T11:01:00.000000000",
          "2025-08-19T11:02:00.000000000",
          "2025-08-19T11:03:00.000000000",
          "2025-08-19T11:04:00.000000000",
          "2025-08-19T11:05:00.000000000",
          "2025-08-19T11:06:00.000000000",
          "2025-08-19T11:07:00.000000000",
          "2025-08-19T11:08:00.000000000",
          "2025-08-19T11:09:00.000000000",
          "2025-08-19T11:10:00.000000000",
          "2025-08-19T11:11:00.000000000",
          "2025-08-19T11:12:00.000000000",
          "2025-08-19T11:13:00.000000000",
          "2025-08-19T11:14:00.000000000",
          "2025-08-19T11:15:00.000000000",
          "2025-08-19T11:16:00.000000000",
          "2025-08-19T11:17:00.000000000",
          "2025-08-19T11:18:00.000000000",
          "2025-08-19T11:19:00.000000000",
          "2025-08-19T11:20:00.000000000",
          "2025-08-19T11:21:00.000000000",
          "2025-08-19T11:22:00.000000000",
          "2025-08-19T11:23:00.000000000",
          "2025-08-19T11:24:00.000000000",
          "2025-08-19T11:25:00.000000000",
          "2025-08-19T11:26:00.000000000",
          "2025-08-19T11:27:00.000000000",
          "2025-08-19T11:28:00.000000000",
          "2025-08-19T11:29:00.000000000",
          "2025-08-19T11:30:00.000000000",
          "2025-08-19T11:31:00.000000000",
          "2025-08-19T11:32:00.000000000",
          "2025-08-19T11:33:00.000000000",
          "2025-08-19T11:34:00.000000000",
          "2025-08-19T11:35:00.000000000",
          "2025-08-19T11:36:00.000000000",
          "2025-08-19T11:37:00.000000000",
          "2025-08-19T11:38:00.000000000",
          "2025-08-19T11:39:00.000000000",
          "2025-08-19T11:40:00.000000000",
          "2025-08-19T11:41:00.000000000",
          "2025-08-19T11:42:00.000000000",
          "2025-08-19T11:43:00.000000000",
          "2025-08-19T11:44:00.000000000",
          "2025-08-19T11:45:00.000000000",
          "2025-08-19T11:46:00.000000000",
          "2025-08-19T11:47:00.000000000",
          "2025-08-19T11:48:00.000000000",
          "2025-08-19T11:49:00.000000000",
          "2025-08-19T11:50:00.000000000",
          "2025-08-19T11:51:00.000000000",
          "2025-08-19T11:52:00.000000000",
          "2025-08-19T11:53:00.000000000",
          "2025-08-19T11:54:00.000000000",
          "2025-08-19T11:55:00.000000000",
          "2025-08-19T11:56:00.000000000",
          "2025-08-19T11:57:00.000000000",
          "2025-08-19T11:58:00.000000000",
          "2025-08-19T11:59:00.000000000",
          "2025-08-19T12:00:00.000000000",
          "2025-08-19T12:01:00.000000000",
          "2025-08-19T12:02:00.000000000",
          "2025-08-19T12:03:00.000000000",
          "2025-08-19T12:04:00.000000000",
          "2025-08-19T12:05:00.000000000",
          "2025-08-19T12:06:00.000000000",
          "2025-08-19T12:07:00.000000000",
          "2025-08-19T12:08:00.000000000",
          "2025-08-19T12:09:00.000000000",
          "2025-08-19T12:10:00.000000000",
          "2025-08-19T12:11:00.000000000",
          "2025-08-19T12:12:00.000000000",
          "2025-08-19T12:13:00.000000000",
          "2025-08-19T12:14:00.000000000",
          "2025-08-19T12:15:00.000000000",
          "2025-08-19T12:16:00.000000000",
          "2025-08-19T12:17:00.000000000",
          "2025-08-19T12:18:00.000000000",
          "2025-08-19T12:19:00.000000000",
          "2025-08-19T12:20:00.000000000",
          "2025-08-19T12:21:00.000000000",
          "2025-08-19T12:22:00.000000000",
          "2025-08-19T12:23:00.000000000",
          "2025-08-19T12:24:00.000000000",
          "2025-08-19T12:25:00.000000000",
          "2025-08-19T12:26:00.000000000",
          "2025-08-19T12:27:00.000000000",
          "2025-08-19T12:28:00.000000000",
          "2025-08-19T12:29:00.000000000",
          "2025-08-19T12:30:00.000000000",
          "2025-08-19T12:31:00.000000000",
          "2025-08-19T12:32:00.000000000",
          "2025-08-19T12:33:00.000000000",
          "2025-08-19T12:34:00.000000000",
          "2025-08-19T12:35:00.000000000",
          "2025-08-19T12:36:00.000000000",
          "2025-08-19T12:37:00.000000000",
          "2025-08-19T12:38:00.000000000",
          "2025-08-19T12:39:00.000000000",
          "2025-08-19T12:40:00.000000000",
          "2025-08-19T12:41:00.000000000",
          "2025-08-19T12:42:00.000000000",
          "2025-08-19T12:43:00.000000000",
          "2025-08-19T12:44:00.000000000",
          "2025-08-19T12:45:00.000000000",
          "2025-08-19T12:46:00.000000000",
          "2025-08-19T12:47:00.000000000",
          "2025-08-19T12:48:00.000000000",
          "2025-08-19T12:49:00.000000000",
          "2025-08-19T12:50:00.000000000",
          "2025-08-19T12:51:00.000000000",
          "2025-08-19T12:52:00.000000000",
          "2025-08-19T12:53:00.000000000",
          "2025-08-19T12:54:00.000000000",
          "2025-08-19T12:55:00.000000000",
          "2025-08-19T12:56:00.000000000",
          "2025-08-19T12:57:00.000000000",
          "2025-08-19T12:58:00.000000000",
          "2025-08-19T12:59:00.000000000",
          "2025-08-19T13:00:00.000000000",
          "2025-08-19T13:01:00.000000000",
          "2025-08-19T13:02:00.000000000",
          "2025-08-19T13:03:00.000000000",
          "2025-08-19T13:04:00.000000000",
          "2025-08-19T13:05:00.000000000",
          "2025-08-19T13:06:00.000000000",
          "2025-08-19T13:07:00.000000000",
          "2025-08-19T13:08:00.000000000",
          "2025-08-19T13:09:00.000000000",
          "2025-08-19T13:10:00.000000000",
          "2025-08-19T13:11:00.000000000",
          "2025-08-19T13:12:00.000000000",
          "2025-08-19T13:13:00.000000000",
          "2025-08-19T13:14:00.000000000",
          "2025-08-19T13:15:00.000000000",
          "2025-08-19T13:16:00.000000000",
          "2025-08-19T13:17:00.000000000",
          "2025-08-19T13:18:00.000000000",
          "2025-08-19T13:19:00.000000000",
          "2025-08-19T13:20:00.000000000",
          "2025-08-19T13:21:00.000000000",
          "2025-08-19T13:22:00.000000000",
          "2025-08-19T13:23:00.000000000",
          "2025-08-19T13:24:00.000000000",
          "2025-08-19T13:25:00.000000000",
          "2025-08-19T13:26:00.000000000",
          "2025-08-19T13:27:00.000000000",
          "2025-08-19T13:28:00.000000000",
          "2025-08-19T13:29:00.000000000",
          "2025-08-19T13:30:00.000000000",
          "2025-08-19T13:31:00.000000000",
          "2025-08-19T13:32:00.000000000",
          "2025-08-19T13:33:00.000000000",
          "2025-08-19T13:34:00.000000000",
          "2025-08-19T13:35:00.000000000",
          "2025-08-19T13:36:00.000000000",
          "2025-08-19T13:37:00.000000000",
          "2025-08-19T13:38:00.000000000",
          "2025-08-19T13:39:00.000000000",
          "2025-08-19T13:40:00.000000000",
          "2025-08-19T13:41:00.000000000",
          "2025-08-19T13:42:00.000000000",
          "2025-08-19T13:43:00.000000000",
          "2025-08-19T13:44:00.000000000",
          "2025-08-19T13:45:00.000000000",
          "2025-08-19T13:46:00.000000000",
          "2025-08-19T13:47:00.000000000",
          "2025-08-19T13:48:00.000000000",
          "2025-08-19T13:49:00.000000000",
          "2025-08-19T13:50:00.000000000",
          "2025-08-19T13:51:00.000000000",
          "2025-08-19T13:52:00.000000000",
          "2025-08-19T13:53:00.000000000",
          "2025-08-19T13:54:00.000000000",
          "2025-08-19T13:55:00.000000000",
          "2025-08-19T13:56:00.000000000",
          "2025-08-19T13:57:00.000000000",
          "2025-08-19T13:58:00.000000000",
          "2025-08-19T13:59:00.000000000",
          "2025-08-19T14:00:00.000000000",
          "2025-08-19T14:01:00.000000000",
          "2025-08-19T14:02:00.000000000",
          "2025-08-19T14:03:00.000000000",
          "2025-08-19T14:04:00.000000000",
          "2025-08-19T14:05:00.000000000",
          "2025-08-19T14:06:00.000000000",
          "2025-08-19T14:07:00.000000000",
          "2025-08-19T14:08:00.000000000",
          "2025-08-19T14:09:00.000000000",
          "2025-08-19T14:10:00.000000000",
          "2025-08-19T14:11:00.000000000",
          "2025-08-19T14:12:00.000000000",
          "2025-08-19T14:13:00.000000000",
          "2025-08-19T14:14:00.000000000",
          "2025-08-19T14:15:00.000000000",
          "2025-08-19T14:16:00.000000000",
          "2025-08-19T14:17:00.000000000",
          "2025-08-19T14:18:00.000000000",
          "2025-08-19T14:19:00.000000000",
          "2025-08-19T14:20:00.000000000",
          "2025-08-19T14:21:00.000000000",
          "2025-08-19T14:22:00.000000000",
          "2025-08-19T14:23:00.000000000",
          "2025-08-19T14:24:00.000000000",
          "2025-08-19T14:25:00.000000000",
          "2025-08-19T14:26:00.000000000",
          "2025-08-19T14:27:00.000000000",
          "2025-08-19T14:28:00.000000000",
          "2025-08-19T14:29:00.000000000",
          "2025-08-19T14:30:00.000000000",
          "2025-08-19T14:31:00.000000000",
          "2025-08-19T14:32:00.000000000",
          "2025-08-19T14:33:00.000000000",
          "2025-08-19T14:34:00.000000000",
          "2025-08-19T14:35:00.000000000",
          "2025-08-19T14:36:00.000000000",
          "2025-08-19T14:37:00.000000000",
          "2025-08-19T14:38:00.000000000",
          "2025-08-19T14:39:00.000000000",
          "2025-08-19T14:40:00.000000000",
          "2025-08-19T14:41:00.000000000",
          "2025-08-19T14:42:00.000000000",
          "2025-08-19T14:43:00.000000000",
          "2025-08-19T14:44:00.000000000",
          "2025-08-19T14:45:00.000000000",
          "2025-08-19T14:46:00.000000000",
          "2025-08-19T14:47:00.000000000",
          "2025-08-19T14:48:00.000000000",
          "2025-08-19T14:49:00.000000000",
          "2025-08-19T14:50:00.000000000",
          "2025-08-19T14:51:00.000000000",
          "2025-08-19T14:52:00.000000000",
          "2025-08-19T14:53:00.000000000",
          "2025-08-19T14:54:00.000000000",
          "2025-08-19T14:55:00.000000000",
          "2025-08-19T14:56:00.000000000",
          "2025-08-19T14:57:00.000000000",
          "2025-08-19T14:58:00.000000000",
          "2025-08-19T14:59:00.000000000",
          "2025-08-19T15:00:00.000000000",
          "2025-08-19T15:01:00.000000000",
          "2025-08-19T15:02:00.000000000",
          "2025-08-19T15:03:00.000000000",
          "2025-08-19T15:04:00.000000000",
          "2025-08-19T15:05:00.000000000",
          "2025-08-19T15:06:00.000000000",
          "2025-08-19T15:07:00.000000000",
          "2025-08-19T15:08:00.000000000",
          "2025-08-19T15:09:00.000000000",
          "2025-08-19T15:10:00.000000000",
          "2025-08-19T15:11:00.000000000",
          "2025-08-19T15:12:00.000000000",
          "2025-08-19T15:13:00.000000000",
          "2025-08-19T15:14:00.000000000",
          "2025-08-19T15:15:00.000000000",
          "2025-08-19T15:16:00.000000000",
          "2025-08-19T15:17:00.000000000",
          "2025-08-19T15:18:00.000000000",
          "2025-08-19T15:19:00.000000000",
          "2025-08-19T15:20:00.000000000",
          "2025-08-19T15:21:00.000000000",
          "2025-08-19T15:22:00.000000000",
          "2025-08-19T15:23:00.000000000",
          "2025-08-19T15:24:00.000000000",
          "2025-08-19T15:25:00.000000000",
          "2025-08-19T15:26:00.000000000",
          "2025-08-19T15:27:00.000000000",
          "2025-08-19T15:28:00.000000000",
          "2025-08-19T15:29:00.000000000",
          "2025-08-19T15:30:00.000000000",
          "2025-08-19T15:31:00.000000000",
          "2025-08-19T15:32:00.000000000",
          "2025-08-19T15:33:00.000000000",
          "2025-08-19T15:34:00.000000000",
          "2025-08-19T15:35:00.000000000",
          "2025-08-19T15:36:00.000000000",
          "2025-08-19T15:37:00.000000000",
          "2025-08-19T15:38:00.000000000",
          "2025-08-19T15:39:00.000000000",
          "2025-08-19T15:40:00.000000000",
          "2025-08-19T15:41:00.000000000",
          "2025-08-19T15:42:00.000000000",
          "2025-08-19T15:43:00.000000000",
          "2025-08-19T15:44:00.000000000",
          "2025-08-19T15:45:00.000000000",
          "2025-08-19T15:46:00.000000000",
          "2025-08-19T15:47:00.000000000",
          "2025-08-19T15:48:00.000000000",
          "2025-08-19T15:49:00.000000000",
          "2025-08-19T15:50:00.000000000",
          "2025-08-19T15:51:00.000000000",
          "2025-08-19T15:52:00.000000000",
          "2025-08-19T15:53:00.000000000",
          "2025-08-19T15:54:00.000000000",
          "2025-08-19T15:55:00.000000000",
          "2025-08-19T15:56:00.000000000",
          "2025-08-19T15:57:00.000000000",
          "2025-08-19T15:58:00.000000000",
          "2025-08-19T15:59:00.000000000"
         ],
         "xaxis": "x2",
         "y": {
          "bdata": "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",
          "dtype": "f8"
         },
         "yaxis": "y2"
        }
       ],
       "layout": {
        "annotations": [
         {
          "align": "center",
          "bgcolor": "rgba(25,25,25,0.8)",
          "bordercolor": "#555555",
          "borderpad": 6,
          "borderwidth": 1,
          "font": {
           "color": "#555555",
           "family": "Arial, sans-serif",
           "size": 11
          },
          "showarrow": false,
          "text": "Open",
          "textangle": 0,
          "x": "2025-08-19T14:30:00-04:00",
          "xanchor": "center",
          "xref": "x",
          "y": 6463.0130052380955,
          "yanchor": "bottom",
          "yref": "y"
         }
        ],
        "height": 800,
        "margin": {
         "b": 10,
         "l": 30,
         "r": 5,
         "t": 50
        },
        "paper_bgcolor": "rgb(25,25,25)",
        "plot_bgcolor": "rgb(25,25,25)",
        "shapes": [
         {
          "line": {
           "color": "gray",
           "dash": "dot",
           "width": 1
          },
          "type": "line",
          "x0": "2025-08-19T09:00:00-04:00",
          "x1": "2025-08-19T16:15:00-04:00",
          "xref": "x2",
          "y0": 0,
          "y1": 0,
          "yref": "y2"
         },
         {
          "line": {
           "color": "#555555",
           "dash": "dot",
           "width": 1
          },
          "opacity": 0.7,
          "type": "line",
          "x0": "2025-08-19T14:30:00-04:00",
          "x1": "2025-08-19T14:30:00-04:00",
          "xref": "x",
          "y0": 6397.365772489178,
          "y1": 6463.0130052380955,
          "yref": "y"
         },
         {
          "line": {
           "color": "#555555",
           "dash": "dot",
           "width": 1
          },
          "opacity": 0.7,
          "type": "line",
          "x0": "2025-08-19T14:30:00-04:00",
          "x1": "2025-08-19T14:30:00-04:00",
          "xref": "x2",
          "y0": -5.48991637328254,
          "y1": 3.6777011144204153,
          "yref": "y2"
         }
        ],
        "showlegend": true,
        "template": {
         "data": {
          "bar": [
           {
            "error_x": {
             "color": "#f2f5fa"
            },
            "error_y": {
             "color": "#f2f5fa"
            },
            "marker": {
             "line": {
              "color": "rgb(17,17,17)",
              "width": 0.5
             },
             "pattern": {
              "fillmode": "overlay",
              "size": 10,
              "solidity": 0.2
             }
            },
            "type": "bar"
           }
          ],
          "barpolar": [
           {
            "marker": {
             "line": {
              "color": "rgb(17,17,17)",
              "width": 0.5
             },
             "pattern": {
              "fillmode": "overlay",
              "size": 10,
              "solidity": 0.2
             }
            },
            "type": "barpolar"
           }
          ],
          "carpet": [
           {
            "aaxis": {
             "endlinecolor": "#A2B1C6",
             "gridcolor": "#506784",
             "linecolor": "#506784",
             "minorgridcolor": "#506784",
             "startlinecolor": "#A2B1C6"
            },
            "baxis": {
             "endlinecolor": "#A2B1C6",
             "gridcolor": "#506784",
             "linecolor": "#506784",
             "minorgridcolor": "#506784",
             "startlinecolor": "#A2B1C6"
            },
            "type": "carpet"
           }
          ],
          "choropleth": [
           {
            "colorbar": {
             "outlinewidth": 0,
             "ticks": ""
            },
            "type": "choropleth"
           }
          ],
          "contour": [
           {
            "colorbar": {
             "outlinewidth": 0,
             "ticks": ""
            },
            "colorscale": [
             [
              0,
              "#0d0887"
             ],
             [
              0.1111111111111111,
              "#46039f"
             ],
             [
              0.2222222222222222,
              "#7201a8"
             ],
             [
              0.3333333333333333,
              "#9c179e"
             ],
             [
              0.4444444444444444,
              "#bd3786"
             ],
             [
              0.5555555555555556,
              "#d8576b"
             ],
             [
              0.6666666666666666,
              "#ed7953"
             ],
             [
              0.7777777777777778,
              "#fb9f3a"
             ],
             [
              0.8888888888888888,
              "#fdca26"
             ],
             [
              1,
              "#f0f921"
             ]
            ],
            "type": "contour"
           }
          ],
          "contourcarpet": [
           {
            "colorbar": {
             "outlinewidth": 0,
             "ticks": ""
            },
            "type": "contourcarpet"
           }
          ],
          "heatmap": [
           {
            "colorbar": {
             "outlinewidth": 0,
             "ticks": ""
            },
            "colorscale": [
             [
              0,
              "#0d0887"
             ],
             [
              0.1111111111111111,
              "#46039f"
             ],
             [
              0.2222222222222222,
              "#7201a8"
             ],
             [
              0.3333333333333333,
              "#9c179e"
             ],
             [
              0.4444444444444444,
              "#bd3786"
             ],
             [
              0.5555555555555556,
              "#d8576b"
             ],
             [
              0.6666666666666666,
              "#ed7953"
             ],
             [
              0.7777777777777778,
              "#fb9f3a"
             ],
             [
              0.8888888888888888,
              "#fdca26"
             ],
             [
              1,
              "#f0f921"
             ]
            ],
            "type": "heatmap"
           }
          ],
          "histogram": [
           {
            "marker": {
             "pattern": {
              "fillmode": "overlay",
              "size": 10,
              "solidity": 0.2
             }
            },
            "type": "histogram"
           }
          ],
          "histogram2d": [
           {
            "colorbar": {
             "outlinewidth": 0,
             "ticks": ""
            },
            "colorscale": [
             [
              0,
              "#0d0887"
             ],
             [
              0.1111111111111111,
              "#46039f"
             ],
             [
              0.2222222222222222,
              "#7201a8"
             ],
             [
              0.3333333333333333,
              "#9c179e"
             ],
             [
              0.4444444444444444,
              "#bd3786"
             ],
             [
              0.5555555555555556,
              "#d8576b"
             ],
             [
              0.6666666666666666,
              "#ed7953"
             ],
             [
              0.7777777777777778,
              "#fb9f3a"
             ],
             [
              0.8888888888888888,
              "#fdca26"
             ],
             [
              1,
              "#f0f921"
             ]
            ],
            "type": "histogram2d"
           }
          ],
          "histogram2dcontour": [
           {
            "colorbar": {
             "outlinewidth": 0,
             "ticks": ""
            },
            "colorscale": [
             [
              0,
              "#0d0887"
             ],
             [
              0.1111111111111111,
              "#46039f"
             ],
             [
              0.2222222222222222,
              "#7201a8"
             ],
             [
              0.3333333333333333,
              "#9c179e"
             ],
             [
              0.4444444444444444,
              "#bd3786"
             ],
             [
              0.5555555555555556,
              "#d8576b"
             ],
             [
              0.6666666666666666,
              "#ed7953"
             ],
             [
              0.7777777777777778,
              "#fb9f3a"
             ],
             [
              0.8888888888888888,
              "#fdca26"
             ],
             [
              1,
              "#f0f921"
             ]
            ],
            "type": "histogram2dcontour"
           }
          ],
          "mesh3d": [
           {
            "colorbar": {
             "outlinewidth": 0,
             "ticks": ""
            },
            "type": "mesh3d"
           }
          ],
          "parcoords": [
           {
            "line": {
             "colorbar": {
              "outlinewidth": 0,
              "ticks": ""
             }
            },
            "type": "parcoords"
           }
          ],
          "pie": [
           {
            "automargin": true,
            "type": "pie"
           }
          ],
          "scatter": [
           {
            "marker": {
             "line": {
              "color": "#283442"
             }
            },
            "type": "scatter"
           }
          ],
          "scatter3d": [
           {
            "line": {
             "colorbar": {
              "outlinewidth": 0,
              "ticks": ""
             }
            },
            "marker": {
             "colorbar": {
              "outlinewidth": 0,
              "ticks": ""
             }
            },
            "type": "scatter3d"
           }
          ],
          "scattercarpet": [
           {
            "marker": {
             "colorbar": {
              "outlinewidth": 0,
              "ticks": ""
             }
            },
            "type": "scattercarpet"
           }
          ],
          "scattergeo": [
           {
            "marker": {
             "colorbar": {
              "outlinewidth": 0,
              "ticks": ""
             }
            },
            "type": "scattergeo"
           }
          ],
          "scattergl": [
           {
            "marker": {
             "line": {
              "color": "#283442"
             }
            },
            "type": "scattergl"
           }
          ],
          "scattermap": [
           {
            "marker": {
             "colorbar": {
              "outlinewidth": 0,
              "ticks": ""
             }
            },
            "type": "scattermap"
           }
          ],
          "scattermapbox": [
           {
            "marker": {
             "colorbar": {
              "outlinewidth": 0,
              "ticks": ""
             }
            },
            "type": "scattermapbox"
           }
          ],
          "scatterpolar": [
           {
            "marker": {
             "colorbar": {
              "outlinewidth": 0,
              "ticks": ""
             }
            },
            "type": "scatterpolar"
           }
          ],
          "scatterpolargl": [
           {
            "marker": {
             "colorbar": {
              "outlinewidth": 0,
              "ticks": ""
             }
            },
            "type": "scatterpolargl"
           }
          ],
          "scatterternary": [
           {
            "marker": {
             "colorbar": {
              "outlinewidth": 0,
              "ticks": ""
             }
            },
            "type": "scatterternary"
           }
          ],
          "surface": [
           {
            "colorbar": {
             "outlinewidth": 0,
             "ticks": ""
            },
            "colorscale": [
             [
              0,
              "#0d0887"
             ],
             [
              0.1111111111111111,
              "#46039f"
             ],
             [
              0.2222222222222222,
              "#7201a8"
             ],
             [
              0.3333333333333333,
              "#9c179e"
             ],
             [
              0.4444444444444444,
              "#bd3786"
             ],
             [
              0.5555555555555556,
              "#d8576b"
             ],
             [
              0.6666666666666666,
              "#ed7953"
             ],
             [
              0.7777777777777778,
              "#fb9f3a"
             ],
             [
              0.8888888888888888,
              "#fdca26"
             ],
             [
              1,
              "#f0f921"
             ]
            ],
            "type": "surface"
           }
          ],
          "table": [
           {
            "cells": {
             "fill": {
              "color": "#506784"
             },
             "line": {
              "color": "rgb(17,17,17)"
             }
            },
            "header": {
             "fill": {
              "color": "#2a3f5f"
             },
             "line": {
              "color": "rgb(17,17,17)"
             }
            },
            "type": "table"
           }
          ]
         },
         "layout": {
          "annotationdefaults": {
           "arrowcolor": "#f2f5fa",
           "arrowhead": 0,
           "arrowwidth": 1
          },
          "autotypenumbers": "strict",
          "coloraxis": {
           "colorbar": {
            "outlinewidth": 0,
            "ticks": ""
           }
          },
          "colorscale": {
           "diverging": [
            [
             0,
             "#8e0152"
            ],
            [
             0.1,
             "#c51b7d"
            ],
            [
             0.2,
             "#de77ae"
            ],
            [
             0.3,
             "#f1b6da"
            ],
            [
             0.4,
             "#fde0ef"
            ],
            [
             0.5,
             "#f7f7f7"
            ],
            [
             0.6,
             "#e6f5d0"
            ],
            [
             0.7,
             "#b8e186"
            ],
            [
             0.8,
             "#7fbc41"
            ],
            [
             0.9,
             "#4d9221"
            ],
            [
             1,
             "#276419"
            ]
           ],
           "sequential": [
            [
             0,
             "#0d0887"
            ],
            [
             0.1111111111111111,
             "#46039f"
            ],
            [
             0.2222222222222222,
             "#7201a8"
            ],
            [
             0.3333333333333333,
             "#9c179e"
            ],
            [
             0.4444444444444444,
             "#bd3786"
            ],
            [
             0.5555555555555556,
             "#d8576b"
            ],
            [
             0.6666666666666666,
             "#ed7953"
            ],
            [
             0.7777777777777778,
             "#fb9f3a"
            ],
            [
             0.8888888888888888,
             "#fdca26"
            ],
            [
             1,
             "#f0f921"
            ]
           ],
           "sequentialminus": [
            [
             0,
             "#0d0887"
            ],
            [
             0.1111111111111111,
             "#46039f"
            ],
            [
             0.2222222222222222,
             "#7201a8"
            ],
            [
             0.3333333333333333,
             "#9c179e"
            ],
            [
             0.4444444444444444,
             "#bd3786"
            ],
            [
             0.5555555555555556,
             "#d8576b"
            ],
            [
             0.6666666666666666,
             "#ed7953"
            ],
            [
             0.7777777777777778,
             "#fb9f3a"
            ],
            [
             0.8888888888888888,
             "#fdca26"
            ],
            [
             1,
             "#f0f921"
            ]
           ]
          },
          "colorway": [
           "#636efa",
           "#EF553B",
           "#00cc96",
           "#ab63fa",
           "#FFA15A",
           "#19d3f3",
           "#FF6692",
           "#B6E880",
           "#FF97FF",
           "#FECB52"
          ],
          "font": {
           "color": "#f2f5fa"
          },
          "geo": {
           "bgcolor": "rgb(17,17,17)",
           "lakecolor": "rgb(17,17,17)",
           "landcolor": "rgb(17,17,17)",
           "showlakes": true,
           "showland": true,
           "subunitcolor": "#506784"
          },
          "hoverlabel": {
           "align": "left"
          },
          "hovermode": "closest",
          "mapbox": {
           "style": "dark"
          },
          "paper_bgcolor": "rgb(17,17,17)",
          "plot_bgcolor": "rgb(17,17,17)",
          "polar": {
           "angularaxis": {
            "gridcolor": "#506784",
            "linecolor": "#506784",
            "ticks": ""
           },
           "bgcolor": "rgb(17,17,17)",
           "radialaxis": {
            "gridcolor": "#506784",
            "linecolor": "#506784",
            "ticks": ""
           }
          },
          "scene": {
           "xaxis": {
            "backgroundcolor": "rgb(17,17,17)",
            "gridcolor": "#506784",
            "gridwidth": 2,
            "linecolor": "#506784",
            "showbackground": true,
            "ticks": "",
            "zerolinecolor": "#C8D4E3"
           },
           "yaxis": {
            "backgroundcolor": "rgb(17,17,17)",
            "gridcolor": "#506784",
            "gridwidth": 2,
            "linecolor": "#506784",
            "showbackground": true,
            "ticks": "",
            "zerolinecolor": "#C8D4E3"
           },
           "zaxis": {
            "backgroundcolor": "rgb(17,17,17)",
            "gridcolor": "#506784",
            "gridwidth": 2,
            "linecolor": "#506784",
            "showbackground": true,
            "ticks": "",
            "zerolinecolor": "#C8D4E3"
           }
          },
          "shapedefaults": {
           "line": {
            "color": "#f2f5fa"
           }
          },
          "sliderdefaults": {
           "bgcolor": "#C8D4E3",
           "bordercolor": "rgb(17,17,17)",
           "borderwidth": 1,
           "tickwidth": 0
          },
          "ternary": {
           "aaxis": {
            "gridcolor": "#506784",
            "linecolor": "#506784",
            "ticks": ""
           },
           "baxis": {
            "gridcolor": "#506784",
            "linecolor": "#506784",
            "ticks": ""
           },
           "bgcolor": "rgb(17,17,17)",
           "caxis": {
            "gridcolor": "#506784",
            "linecolor": "#506784",
            "ticks": ""
           }
          },
          "title": {
           "x": 0.05
          },
          "updatemenudefaults": {
           "bgcolor": "#506784",
           "borderwidth": 0
          },
          "xaxis": {
           "automargin": true,
           "gridcolor": "#283442",
           "linecolor": "#506784",
           "ticks": "",
           "title": {
            "standoff": 15
           },
           "zerolinecolor": "#283442",
           "zerolinewidth": 2
          },
          "yaxis": {
           "automargin": true,
           "gridcolor": "#283442",
           "linecolor": "#506784",
           "ticks": "",
           "title": {
            "standoff": 15
           },
           "zerolinecolor": "#283442",
           "zerolinewidth": 2
          }
         }
        },
        "xaxis": {
         "anchor": "y",
         "automargin": true,
         "domain": [
          0,
          1
         ],
         "dtick": 1800000,
         "gridcolor": "rgba(128,128,128,0.1)",
         "matches": "x2",
         "range": [
          "2025-08-19T09:00:00-04:00",
          "2025-08-19T16:15:00-04:00"
         ],
         "rangeslider": {
          "visible": false
         },
         "showticklabels": false,
         "zerolinecolor": "rgba(128,128,128,0.1)"
        },
        "xaxis2": {
         "anchor": "y2",
         "automargin": true,
         "domain": [
          0,
          1
         ],
         "dtick": 1800000,
         "gridcolor": "rgba(128,128,128,0.1)",
         "range": [
          "2025-08-19T09:00:00-04:00",
          "2025-08-19T16:15:00-04:00"
         ],
         "title": {
          "text": "Time"
         },
         "zerolinecolor": "rgba(128,128,128,0.1)"
        },
        "yaxis": {
         "anchor": "x",
         "automargin": true,
         "domain": [
          0.3533333333333333,
          0.9999999999999999
         ],
         "dtick": 10,
         "gridcolor": "rgba(128,128,128,0.1)",
         "minor": {
          "dtick": 5,
          "showgrid": false,
          "tickcolor": "rgba(150,150,150,0.5)",
          "ticklen": 2,
          "tickmode": "linear",
          "ticks": "outside",
          "tickwidth": 1
         },
         "range": [
          6397.365772489178,
          6463.0130052380955
         ],
         "showgrid": true,
         "showticklabels": true,
         "tickfont": {
          "size": 11
         },
         "ticklabelposition": "outside",
         "ticklen": 4,
         "ticks": "outside",
         "ticksuffix": " ",
         "tickwidth": 1,
         "title": {
          "text": "Price"
         },
         "zeroline": false,
         "zerolinecolor": "rgba(128,128,128,0.1)"
        },
        "yaxis2": {
         "anchor": "x2",
         "automargin": true,
         "domain": [
          0,
          0.3233333333333333
         ],
         "gridcolor": "rgba(128,128,128,0.1)",
         "range": [
          -5.48991637328254,
          3.6777011144204153
         ],
         "showgrid": true,
         "showticklabels": true,
         "side": "left",
         "tickfont": {
          "size": 11
         },
         "ticklabelposition": "outside",
         "ticklen": 4,
         "ticks": "outside",
         "ticksuffix": " ",
         "tickwidth": 1,
         "title": {
          "text": "MACD"
         },
         "zeroline": false,
         "zerolinecolor": "rgba(128,128,128,0.1)"
        }
       }
      }
     },
     "metadata": {},
     "output_type": "display_data"
    }
   ],
   "source": [
    "candles: pl.DataFrame = streamer.download(\n",
    "    symbol=candle_symbol,\n",
    "    start=start,\n",
    "    stop=stop,\n",
    "    debug_mode=True,\n",
    ")\n",
    "\n",
    "# Filter out any rows where an OHLC price is 0 (invalid for active securities)\n",
    "_initial_len = candles.height\n",
    "candles = candles.filter(\n",
    "    (pl.col(\"open\") != 0)\n",
    "    & (pl.col(\"high\") != 0)\n",
    "    & (pl.col(\"low\") != 0)\n",
    "    & (pl.col(\"close\") != 0)\n",
    ")\n",
    "_removed = _initial_len - candles.height\n",
    "print(\n",
    "    f\"Removed {_removed} zero-price rows out of {_initial_len} total ({(_removed / _initial_len * 100) if _initial_len else 0:.2f}%).\"\n",
    ")\n",
    "\n",
    "df_macd = macd(\n",
    "    candles, prior_close=prior_day.close, fast_length=12, slow_length=26, macd_length=9\n",
    ")\n",
    "\n",
    "plot_macd_with_hull(\n",
    "    df_macd,\n",
    "    pad_value=prior_day.close,\n",
    "    start_time=start,\n",
    "    end_time=stop + timedelta(minutes=15),\n",
    "    horizontal_lines=levels,\n",
    "    vertical_lines=executions,\n",
    ")"
   ]
  },
  {
   "cell_type": "code",
   "execution_count": 15,
   "metadata": {},
   "outputs": [
    {
     "name": "stdout",
     "output_type": "stream",
     "text": [
      "Removed 0 zero-price 5m rows out of 84 total (0.00%).\n"
     ]
    },
    {
     "data": {
      "application/vnd.plotly.v1+json": {
       "config": {
        "plotlyServerURL": "https://plot.ly"
       },
       "data": [
        {
         "close": {
          "bdata": "ZmZmZiYxuUBmZmZmJjG5QGZmZmYmMblAZmZmZiYxuUBmZmZmJjG5QGZmZmYmMblAMzMzM3MkuUDNzMzMzCm5QClcj8I1LLlAuB6F65EouUAAAAAAgC65QOF6FK4HLLlAw/UoXE84uUDNzMzMTDe5QHsUrkfhNLlA9ihcj8I0uUDXo3A9SjW5QClcj8I1LblAKVyPwrUwuUDNzMzMzCm5QPYoXI/CJblA4XoUrgciuUApXI/CdSS5QIXrUbieG7lA16NwPcobuUDD9ShcDxy5QGZmZmZmHblApHA9ChcfuUDXo3A9Shu5QD0K16PwHrlAZmZmZmYhuUD2KFyPghy5QKRwPQqXHLlACtejcD0auUBI4XoUrha5QFK4HoVrFrlAcT0K12MXuUCuR+F6VBO5QEjhehQuEblA16NwPYoUuUDNzMzMTBW5QK5H4XqUErlAMzMzM/MSuUAUrkfhOg+5QIXrUbheDLlACtejcD0MuUCkcD0Klwu5QPYoXI9CC7lArkfhehQIuUAfhetR+AO5QBSuR+H6CblASOF6FK4GuUCF61G4ngm5QEjhehSuDLlA4XoUrkcNuUAfhetReA65QOF6FK6HDrlArkfhetQMuUBmZmZmJgy5QNejcD3KDblAcT0K1yMHuUDsUbgehQy5QMP1KFyPB7lArkfhehQGuUBSuB6F6wW5QFyPwvUoBrlASOF6FC4EuUBSuB6F6wK5QIXrUbjeA7lA9ihcjwIDuUBcj8L1aAa5QLgehetRBrlApHA9ChcDuUDNzMzMjAK5QGZmZmZmArlAcT0K1+MCuUCuR+F6VAe5QB+F61H4BrlAhetRuF4IuUDhehSuhwe5QPYoXI8CCblAexSuR6EGuUBSuB6F6wK5QM3MzMzMC7lA",
          "dtype": "f8"
         },
         "decreasing": {
          "fillcolor": "#EF5350",
          "line": {
           "color": "#EF5350"
          }
         },
         "high": {
          "bdata": "ZmZmZiYxuUBmZmZmJjG5QGZmZmYmMblAZmZmZiYxuUBmZmZmJjG5QGZmZmYmMblArkfhehQxuUCPwvUoHCu5QHsUrkchMrlASOF6FC4suUA9CtejMC+5QHE9CtdjL7lApHA9Clc4uUAUrkfheji5QGZmZmYmOLlAmpmZmZk1uUC4HoXrUTa5QKRwPQrXNblA7FG4HkUyuUA9CtejMDG5QMP1KFyPK7lAuB6F69EluUCkcD0K1yS5QPYoXI/CJblAFK5H4XocuUA9CtejcB25QBSuR+F6HrlAXI/C9WgfuUCuR+F6VB+5QD0K16OwH7lAZmZmZmYhuUCkcD0KFyK5QM3MzMwMHrlApHA9ClcduUAUrkfhehq5QClcj8J1GLlAFK5H4boZuUAzMzMz8xe5QFyPwvXoE7lAUrgehSsWuUA9Ctej8Ba5QMP1KFxPFrlACtejcL0TuUBcj8L1qBS5QHsUrkdhD7lArkfhelQNuUDNzMzMDA+5QNejcD3KC7lAcT0K1yMMuUCF61G43gi5QBSuR+H6CblAcT0K12MKuUCkcD0K1wq5QJqZmZmZDblA9ihcj0IOuUBI4XoULhC5QBSuR+E6ELlAFK5H4ToPuUBcj8L1qA65QPYoXI9CD7lAexSuR+ENuUCamZmZmQy5QOF6FK7HDLlAw/UoXA8IuUDsUbgexQa5QAAAAABACLlAZmZmZuYGuUDNzMzMDAW5QIXrUbieBblAhetRuJ4EuUApXI/CdQa5QJqZmZmZB7lAKVyPwnUGuUBSuB6FKwS5QIXrUbjeA7lA7FG4HgUDuUCuR+F6VAe5QK5H4XpUB7lAAAAAAIAJuUB7FK5H4Qi5QM3MzMwMCblAw/UoXA8JuUCamZmZmQa5QB+F61F4DblA",
          "dtype": "f8"
         },
         "increasing": {
          "fillcolor": "rgba(19, 19, 19, 0.1)",
          "line": {
           "color": "#4CAF50"
          }
         },
         "line": {
          "width": 0.75
         },
         "low": {
          "bdata": "ZmZmZiYxuUBmZmZmJjG5QGZmZmYmMblAZmZmZiYxuUBmZmZmJjG5QGZmZmYmMblAH4XrUXgjuUCuR+F6lCO5QArXo3D9KLlACtejcH0muUDsUbgexSa5QIXrUbjeK7lAj8L1KFwsuUCuR+F6FDW5QClcj8J1M7lA9ihcj0IyuUA9CtejsDO5QAAAAABAK7lASOF6FK4quUCF61G4Him5QClcj8I1IrlA16NwPcofuUBI4XoUriC5QIXrUbieG7lAXI/C9agUuUDD9Shcjxm5QK5H4XpUGLlAexSuRyEcuUDXo3A9ihq5QIXrUbjeGblAUrgehWseuUBxPQrXIxy5QFK4HoWrGrlA4XoUrscZuUD2KFyPQha5QFyPwvWoFblA16NwPUoWuUApXI/CNRO5QBSuR+E6ELlASOF6FC4RuUDhehSuRxO5QDMzMzPzEblAKVyPwnUQuUApXI/CNQ+5QK5H4XrUCrlAuB6F61EIuUD2KFyPwgq5QOxRuB5FCblArkfhehQIuUBxPQrXYwO5QGZmZmamA7lAuB6F61EFuUBSuB6Fawa5QK5H4XqUCblAw/UoXA8MuUDhehSuRw25QJqZmZkZDrlAFK5H4boLuUBSuB6F6wu5QFK4HoUrDLlAFK5H4ToEuUCF61G4Xga5QNejcD2KB7lA9ihcj8IFuUA9CtejsAS5QFyPwvXoBLlA9ihcjwIEuUCamZmZWQK5QFK4HoXrAblASOF6FK4CuUCuR+F6FAK5QFyPwvXoBLlAH4XrUTgAuUC4HoXrUQG5QGZmZmbmAblAH4XrUfgAuUB7FK5HYQK5QArXo3D9BblAzczMzAwHuUCuR+F6FAe5QK5H4XrUBrlAmpmZmdkFuUC4HoXrkQK5QFK4HoXrArlA",
          "dtype": "f8"
         },
         "name": "Price",
         "open": {
          "bdata": "ZmZmZiYxuUBmZmZmJjG5QGZmZmYmMblAZmZmZiYxuUBmZmZmJjG5QGZmZmYmMblACtejcD0uuUCF61G4XiS5QFK4HoXrKblASOF6FC4suUBSuB6Fayi5QAAAAACALrlAj8L1KFwsuUAUrkfheji5QLgehetRN7lA9ihcj8I0uUDXo3A9yjS5QPYoXI9CNblACtejcP0suUApXI/CtTC5QAAAAADAKblAMzMzM7MluUCF61G4HiK5QGZmZmZmJLlA9ihcj4IbuUBcj8L1qBu5QMP1KFwPHLlAH4XrUXgduUCkcD0KFx+5QDMzMzMzG7lAMzMzM/MeuUCF61G4niG5QDMzMzNzHLlAUrgehascuUAfhetROBq5QMP1KFwPF7lAUrgehWsWuUBmZmZmZhe5QKRwPQpXE7lASOF6FC4RuUCamZmZmRS5QKRwPQpXFblArkfhepQSuUApXI/C9RK5QFK4HoUrD7lA16NwPUoMuUAfhetROAy5QAAAAACAC7lA4XoUrkcLuUC4HoXrEQi5QFK4HoXrA7lA9ihcjwIKuUAK16NwvQa5QK5H4XqUCblAj8L1KJwMuUDXo3A9Sg25QOF6FK6HDrlAzczMzIwOuUBcj8L16Ay5QEjhehQuDLlAmpmZmdkNuUBcj8L1KAe5QM3MzMyMDLlAUrgehWsHuUDNzMzMDAa5QEjhehTuBblAmpmZmRkGuUD2KFyPQgS5QEjhehTuArlASOF6FO4DuUDsUbgeBQO5QArXo3B9BrlAKVyPwnUGuUCamZmZGQO5QLgeheuRArlAcT0K12MCuUCamZmZ2QK5QK5H4XpUB7lAzczMzAwHuUB7FK5HYQi5QI/C9SicB7lA16NwPQoJuUCamZmZmQa5QFK4HoXrArlA",
          "dtype": "f8"
         },
         "showlegend": false,
         "type": "candlestick",
         "x": [
          "2025-08-19T09:00:00.000000000",
          "2025-08-19T09:05:00.000000000",
          "2025-08-19T09:10:00.000000000",
          "2025-08-19T09:15:00.000000000",
          "2025-08-19T09:20:00.000000000",
          "2025-08-19T09:25:00.000000000",
          "2025-08-19T09:30:00.000000000",
          "2025-08-19T09:35:00.000000000",
          "2025-08-19T09:40:00.000000000",
          "2025-08-19T09:45:00.000000000",
          "2025-08-19T09:50:00.000000000",
          "2025-08-19T09:55:00.000000000",
          "2025-08-19T10:00:00.000000000",
          "2025-08-19T10:05:00.000000000",
          "2025-08-19T10:10:00.000000000",
          "2025-08-19T10:15:00.000000000",
          "2025-08-19T10:20:00.000000000",
          "2025-08-19T10:25:00.000000000",
          "2025-08-19T10:30:00.000000000",
          "2025-08-19T10:35:00.000000000",
          "2025-08-19T10:40:00.000000000",
          "2025-08-19T10:45:00.000000000",
          "2025-08-19T10:50:00.000000000",
          "2025-08-19T10:55:00.000000000",
          "2025-08-19T11:00:00.000000000",
          "2025-08-19T11:05:00.000000000",
          "2025-08-19T11:10:00.000000000",
          "2025-08-19T11:15:00.000000000",
          "2025-08-19T11:20:00.000000000",
          "2025-08-19T11:25:00.000000000",
          "2025-08-19T11:30:00.000000000",
          "2025-08-19T11:35:00.000000000",
          "2025-08-19T11:40:00.000000000",
          "2025-08-19T11:45:00.000000000",
          "2025-08-19T11:50:00.000000000",
          "2025-08-19T11:55:00.000000000",
          "2025-08-19T12:00:00.000000000",
          "2025-08-19T12:05:00.000000000",
          "2025-08-19T12:10:00.000000000",
          "2025-08-19T12:15:00.000000000",
          "2025-08-19T12:20:00.000000000",
          "2025-08-19T12:25:00.000000000",
          "2025-08-19T12:30:00.000000000",
          "2025-08-19T12:35:00.000000000",
          "2025-08-19T12:40:00.000000000",
          "2025-08-19T12:45:00.000000000",
          "2025-08-19T12:50:00.000000000",
          "2025-08-19T12:55:00.000000000",
          "2025-08-19T13:00:00.000000000",
          "2025-08-19T13:05:00.000000000",
          "2025-08-19T13:10:00.000000000",
          "2025-08-19T13:15:00.000000000",
          "2025-08-19T13:20:00.000000000",
          "2025-08-19T13:25:00.000000000",
          "2025-08-19T13:30:00.000000000",
          "2025-08-19T13:35:00.000000000",
          "2025-08-19T13:40:00.000000000",
          "2025-08-19T13:45:00.000000000",
          "2025-08-19T13:50:00.000000000",
          "2025-08-19T13:55:00.000000000",
          "2025-08-19T14:00:00.000000000",
          "2025-08-19T14:05:00.000000000",
          "2025-08-19T14:10:00.000000000",
          "2025-08-19T14:15:00.000000000",
          "2025-08-19T14:20:00.000000000",
          "2025-08-19T14:25:00.000000000",
          "2025-08-19T14:30:00.000000000",
          "2025-08-19T14:35:00.000000000",
          "2025-08-19T14:40:00.000000000",
          "2025-08-19T14:45:00.000000000",
          "2025-08-19T14:50:00.000000000",
          "2025-08-19T14:55:00.000000000",
          "2025-08-19T15:00:00.000000000",
          "2025-08-19T15:05:00.000000000",
          "2025-08-19T15:10:00.000000000",
          "2025-08-19T15:15:00.000000000",
          "2025-08-19T15:20:00.000000000",
          "2025-08-19T15:25:00.000000000",
          "2025-08-19T15:30:00.000000000",
          "2025-08-19T15:35:00.000000000",
          "2025-08-19T15:40:00.000000000",
          "2025-08-19T15:45:00.000000000",
          "2025-08-19T15:50:00.000000000",
          "2025-08-19T15:55:00.000000000"
         ],
         "xaxis": "x",
         "yaxis": "y"
        },
        {
         "line": {
          "color": "#FF66FE",
          "width": 0.6
         },
         "mode": "lines",
         "name": "HMA",
         "showlegend": false,
         "type": "scatter",
         "x": [
          "2025-08-19T09:00:00-04:00",
          "2025-08-19T09:05:00-04:00"
         ],
         "xaxis": "x",
         "y": {
          "bdata": "ZWZmZiYxuUBlZmZmJjG5QA==",
          "dtype": "f8"
         },
         "yaxis": "y"
        },
        {
         "line": {
          "color": "#FF66FE",
          "width": 0.6
         },
         "mode": "lines",
         "name": "HMA",
         "showlegend": false,
         "type": "scatter",
         "x": [
          "2025-08-19T09:05:00-04:00",
          "2025-08-19T09:10:00-04:00"
         ],
         "xaxis": "x",
         "y": {
          "bdata": "ZWZmZiYxuUBlZmZmJjG5QA==",
          "dtype": "f8"
         },
         "yaxis": "y"
        },
        {
         "line": {
          "color": "#FF66FE",
          "width": 0.6
         },
         "mode": "lines",
         "name": "HMA",
         "showlegend": false,
         "type": "scatter",
         "x": [
          "2025-08-19T09:10:00-04:00",
          "2025-08-19T09:15:00-04:00"
         ],
         "xaxis": "x",
         "y": {
          "bdata": "ZWZmZiYxuUBkZmZmJjG5QA==",
          "dtype": "f8"
         },
         "yaxis": "y"
        },
        {
         "line": {
          "color": "#FF66FE",
          "width": 0.6
         },
         "mode": "lines",
         "name": "HMA",
         "showlegend": false,
         "type": "scatter",
         "x": [
          "2025-08-19T09:15:00-04:00",
          "2025-08-19T09:20:00-04:00"
         ],
         "xaxis": "x",
         "y": {
          "bdata": "ZGZmZiYxuUBkZmZmJjG5QA==",
          "dtype": "f8"
         },
         "yaxis": "y"
        },
        {
         "line": {
          "color": "#FF66FE",
          "width": 0.6
         },
         "mode": "lines",
         "name": "HMA",
         "showlegend": false,
         "type": "scatter",
         "x": [
          "2025-08-19T09:20:00-04:00",
          "2025-08-19T09:25:00-04:00"
         ],
         "xaxis": "x",
         "y": {
          "bdata": "ZGZmZiYxuUBkZmZmJjG5QA==",
          "dtype": "f8"
         },
         "yaxis": "y"
        },
        {
         "line": {
          "color": "#FF66FE",
          "width": 0.6
         },
         "mode": "lines",
         "name": "HMA",
         "showlegend": false,
         "type": "scatter",
         "x": [
          "2025-08-19T09:25:00-04:00",
          "2025-08-19T09:30:00-04:00"
         ],
         "xaxis": "x",
         "y": {
          "bdata": "ZGZmZiYxuUA4unlayS+5QA==",
          "dtype": "f8"
         },
         "yaxis": "y"
        },
        {
         "line": {
          "color": "#FF66FE",
          "width": 0.6
         },
         "mode": "lines",
         "name": "HMA",
         "showlegend": false,
         "type": "scatter",
         "x": [
          "2025-08-19T09:30:00-04:00",
          "2025-08-19T09:35:00-04:00"
         ],
         "xaxis": "x",
         "y": {
          "bdata": "OLp5WskvuUDnG5yoIi65QA==",
          "dtype": "f8"
         },
         "yaxis": "y"
        },
        {
         "line": {
          "color": "#FF66FE",
          "width": 0.6
         },
         "mode": "lines",
         "name": "HMA",
         "showlegend": false,
         "type": "scatter",
         "x": [
          "2025-08-19T09:35:00-04:00",
          "2025-08-19T09:40:00-04:00"
         ],
         "xaxis": "x",
         "y": {
          "bdata": "5xucqCIuuUCCDnGQtCy5QA==",
          "dtype": "f8"
         },
         "yaxis": "y"
        },
        {
         "line": {
          "color": "#FF66FE",
          "width": 0.6
         },
         "mode": "lines",
         "name": "HMA",
         "showlegend": false,
         "type": "scatter",
         "x": [
          "2025-08-19T09:40:00-04:00",
          "2025-08-19T09:45:00-04:00"
         ],
         "xaxis": "x",
         "y": {
          "bdata": "gg5xkLQsuUAWcZK8PCu5QA==",
          "dtype": "f8"
         },
         "yaxis": "y"
        },
        {
         "line": {
          "color": "#FF66FE",
          "width": 0.6
         },
         "mode": "lines",
         "name": "HMA",
         "showlegend": false,
         "type": "scatter",
         "x": [
          "2025-08-19T09:45:00-04:00",
          "2025-08-19T09:50:00-04:00"
         ],
         "xaxis": "x",
         "y": {
          "bdata": "FnGSvDwruUAaQi6ooCq5QA==",
          "dtype": "f8"
         },
         "yaxis": "y"
        },
        {
         "line": {
          "color": "#FF66FE",
          "width": 0.6
         },
         "mode": "lines",
         "name": "HMA",
         "showlegend": false,
         "type": "scatter",
         "x": [
          "2025-08-19T09:50:00-04:00",
          "2025-08-19T09:55:00-04:00"
         ],
         "xaxis": "x",
         "y": {
          "bdata": "GkIuqKAquUCIlLHNRCq5QA==",
          "dtype": "f8"
         },
         "yaxis": "y"
        },
        {
         "line": {
          "color": "#01FFFF",
          "width": 0.6
         },
         "mode": "lines",
         "name": "HMA",
         "showlegend": false,
         "type": "scatter",
         "x": [
          "2025-08-19T09:55:00-04:00",
          "2025-08-19T10:00:00-04:00"
         ],
         "xaxis": "x",
         "y": {
          "bdata": "iJSxzUQquUDeF9jlaCu5QA==",
          "dtype": "f8"
         },
         "yaxis": "y"
        },
        {
         "line": {
          "color": "#01FFFF",
          "width": 0.6
         },
         "mode": "lines",
         "name": "HMA",
         "showlegend": false,
         "type": "scatter",
         "x": [
          "2025-08-19T10:00:00-04:00",
          "2025-08-19T10:05:00-04:00"
         ],
         "xaxis": "x",
         "y": {
          "bdata": "3hfY5WgruUAz6wSmdS25QA==",
          "dtype": "f8"
         },
         "yaxis": "y"
        },
        {
         "line": {
          "color": "#01FFFF",
          "width": 0.6
         },
         "mode": "lines",
         "name": "HMA",
         "showlegend": false,
         "type": "scatter",
         "x": [
          "2025-08-19T10:05:00-04:00",
          "2025-08-19T10:10:00-04:00"
         ],
         "xaxis": "x",
         "y": {
          "bdata": "M+sEpnUtuUDzbI//py+5QA==",
          "dtype": "f8"
         },
         "yaxis": "y"
        },
        {
         "line": {
          "color": "#01FFFF",
          "width": 0.6
         },
         "mode": "lines",
         "name": "HMA",
         "showlegend": false,
         "type": "scatter",
         "x": [
          "2025-08-19T10:10:00-04:00",
          "2025-08-19T10:15:00-04:00"
         ],
         "xaxis": "x",
         "y": {
          "bdata": "82yP/6cvuUDi6UA5yTG5QA==",
          "dtype": "f8"
         },
         "yaxis": "y"
        },
        {
         "line": {
          "color": "#01FFFF",
          "width": 0.6
         },
         "mode": "lines",
         "name": "HMA",
         "showlegend": false,
         "type": "scatter",
         "x": [
          "2025-08-19T10:15:00-04:00",
          "2025-08-19T10:20:00-04:00"
         ],
         "xaxis": "x",
         "y": {
          "bdata": "4ulAOckxuUBTyF7eqTO5QA==",
          "dtype": "f8"
         },
         "yaxis": "y"
        },
        {
         "line": {
          "color": "#01FFFF",
          "width": 0.6
         },
         "mode": "lines",
         "name": "HMA",
         "showlegend": false,
         "type": "scatter",
         "x": [
          "2025-08-19T10:20:00-04:00",
          "2025-08-19T10:25:00-04:00"
         ],
         "xaxis": "x",
         "y": {
          "bdata": "U8he3qkzuUATJLihVDS5QA==",
          "dtype": "f8"
         },
         "yaxis": "y"
        },
        {
         "line": {
          "color": "#01FFFF",
          "width": 0.6
         },
         "mode": "lines",
         "name": "HMA",
         "showlegend": false,
         "type": "scatter",
         "x": [
          "2025-08-19T10:25:00-04:00",
          "2025-08-19T10:30:00-04:00"
         ],
         "xaxis": "x",
         "y": {
          "bdata": "EyS4oVQ0uUAYQ2yAejS5QA==",
          "dtype": "f8"
         },
         "yaxis": "y"
        },
        {
         "line": {
          "color": "#FF66FE",
          "width": 0.6
         },
         "mode": "lines",
         "name": "HMA",
         "showlegend": false,
         "type": "scatter",
         "x": [
          "2025-08-19T10:30:00-04:00",
          "2025-08-19T10:35:00-04:00"
         ],
         "xaxis": "x",
         "y": {
          "bdata": "GENsgHo0uUCCTYcCgjO5QA==",
          "dtype": "f8"
         },
         "yaxis": "y"
        },
        {
         "line": {
          "color": "#FF66FE",
          "width": 0.6
         },
         "mode": "lines",
         "name": "HMA",
         "showlegend": false,
         "type": "scatter",
         "x": [
          "2025-08-19T10:35:00-04:00",
          "2025-08-19T10:40:00-04:00"
         ],
         "xaxis": "x",
         "y": {
          "bdata": "gk2HAoIzuUBMT75AWTG5QA==",
          "dtype": "f8"
         },
         "yaxis": "y"
        },
        {
         "line": {
          "color": "#FF66FE",
          "width": 0.6
         },
         "mode": "lines",
         "name": "HMA",
         "showlegend": false,
         "type": "scatter",
         "x": [
          "2025-08-19T10:40:00-04:00",
          "2025-08-19T10:45:00-04:00"
         ],
         "xaxis": "x",
         "y": {
          "bdata": "TE++QFkxuUD60t2FOC65QA==",
          "dtype": "f8"
         },
         "yaxis": "y"
        },
        {
         "line": {
          "color": "#FF66FE",
          "width": 0.6
         },
         "mode": "lines",
         "name": "HMA",
         "showlegend": false,
         "type": "scatter",
         "x": [
          "2025-08-19T10:45:00-04:00",
          "2025-08-19T10:50:00-04:00"
         ],
         "xaxis": "x",
         "y": {
          "bdata": "+tLdhTguuUDg/mN60Cq5QA==",
          "dtype": "f8"
         },
         "yaxis": "y"
        },
        {
         "line": {
          "color": "#FF66FE",
          "width": 0.6
         },
         "mode": "lines",
         "name": "HMA",
         "showlegend": false,
         "type": "scatter",
         "x": [
          "2025-08-19T10:50:00-04:00",
          "2025-08-19T10:55:00-04:00"
         ],
         "xaxis": "x",
         "y": {
          "bdata": "4P5jetAquUCNfk8gvia5QA==",
          "dtype": "f8"
         },
         "yaxis": "y"
        },
        {
         "line": {
          "color": "#FF66FE",
          "width": 0.6
         },
         "mode": "lines",
         "name": "HMA",
         "showlegend": false,
         "type": "scatter",
         "x": [
          "2025-08-19T10:55:00-04:00",
          "2025-08-19T11:00:00-04:00"
         ],
         "xaxis": "x",
         "y": {
          "bdata": "jX5PIL4muUBetboJpyK5QA==",
          "dtype": "f8"
         },
         "yaxis": "y"
        },
        {
         "line": {
          "color": "#FF66FE",
          "width": 0.6
         },
         "mode": "lines",
         "name": "HMA",
         "showlegend": false,
         "type": "scatter",
         "x": [
          "2025-08-19T11:00:00-04:00",
          "2025-08-19T11:05:00-04:00"
         ],
         "xaxis": "x",
         "y": {
          "bdata": "XrW6CaciuUBlm0Lc8x65QA==",
          "dtype": "f8"
         },
         "yaxis": "y"
        },
        {
         "line": {
          "color": "#FF66FE",
          "width": 0.6
         },
         "mode": "lines",
         "name": "HMA",
         "showlegend": false,
         "type": "scatter",
         "x": [
          "2025-08-19T11:05:00-04:00",
          "2025-08-19T11:10:00-04:00"
         ],
         "xaxis": "x",
         "y": {
          "bdata": "ZZtC3PMeuUAaRbHW/xu5QA==",
          "dtype": "f8"
         },
         "yaxis": "y"
        },
        {
         "line": {
          "color": "#FF66FE",
          "width": 0.6
         },
         "mode": "lines",
         "name": "HMA",
         "showlegend": false,
         "type": "scatter",
         "x": [
          "2025-08-19T11:10:00-04:00",
          "2025-08-19T11:15:00-04:00"
         ],
         "xaxis": "x",
         "y": {
          "bdata": "GkWx1v8buUBmFkMzLhq5QA==",
          "dtype": "f8"
         },
         "yaxis": "y"
        },
        {
         "line": {
          "color": "#FF66FE",
          "width": 0.6
         },
         "mode": "lines",
         "name": "HMA",
         "showlegend": false,
         "type": "scatter",
         "x": [
          "2025-08-19T11:15:00-04:00",
          "2025-08-19T11:20:00-04:00"
         ],
         "xaxis": "x",
         "y": {
          "bdata": "ZhZDMy4auUDD4ixS2Bi5QA==",
          "dtype": "f8"
         },
         "yaxis": "y"
        },
        {
         "line": {
          "color": "#FF66FE",
          "width": 0.6
         },
         "mode": "lines",
         "name": "HMA",
         "showlegend": false,
         "type": "scatter",
         "x": [
          "2025-08-19T11:20:00-04:00",
          "2025-08-19T11:25:00-04:00"
         ],
         "xaxis": "x",
         "y": {
          "bdata": "w+IsUtgYuUAO+JsRYxi5QA==",
          "dtype": "f8"
         },
         "yaxis": "y"
        },
        {
         "line": {
          "color": "#01FFFF",
          "width": 0.6
         },
         "mode": "lines",
         "name": "HMA",
         "showlegend": false,
         "type": "scatter",
         "x": [
          "2025-08-19T11:25:00-04:00",
          "2025-08-19T11:30:00-04:00"
         ],
         "xaxis": "x",
         "y": {
          "bdata": "DvibEWMYuUADZmp92hi5QA==",
          "dtype": "f8"
         },
         "yaxis": "y"
        },
        {
         "line": {
          "color": "#01FFFF",
          "width": 0.6
         },
         "mode": "lines",
         "name": "HMA",
         "showlegend": false,
         "type": "scatter",
         "x": [
          "2025-08-19T11:30:00-04:00",
          "2025-08-19T11:35:00-04:00"
         ],
         "xaxis": "x",
         "y": {
          "bdata": "A2ZqfdoYuUDVRNmEahm5QA==",
          "dtype": "f8"
         },
         "yaxis": "y"
        },
        {
         "line": {
          "color": "#01FFFF",
          "width": 0.6
         },
         "mode": "lines",
         "name": "HMA",
         "showlegend": false,
         "type": "scatter",
         "x": [
          "2025-08-19T11:35:00-04:00",
          "2025-08-19T11:40:00-04:00"
         ],
         "xaxis": "x",
         "y": {
          "bdata": "1UTZhGoZuUBqll/0Chq5QA==",
          "dtype": "f8"
         },
         "yaxis": "y"
        },
        {
         "line": {
          "color": "#01FFFF",
          "width": 0.6
         },
         "mode": "lines",
         "name": "HMA",
         "showlegend": false,
         "type": "scatter",
         "x": [
          "2025-08-19T11:40:00-04:00",
          "2025-08-19T11:45:00-04:00"
         ],
         "xaxis": "x",
         "y": {
          "bdata": "apZf9AoauUBOsjOLYRq5QA==",
          "dtype": "f8"
         },
         "yaxis": "y"
        },
        {
         "line": {
          "color": "#FF66FE",
          "width": 0.6
         },
         "mode": "lines",
         "name": "HMA",
         "showlegend": false,
         "type": "scatter",
         "x": [
          "2025-08-19T11:45:00-04:00",
          "2025-08-19T11:50:00-04:00"
         ],
         "xaxis": "x",
         "y": {
          "bdata": "TrIzi2EauUAlGUQdERq5QA==",
          "dtype": "f8"
         },
         "yaxis": "y"
        },
        {
         "line": {
          "color": "#FF66FE",
          "width": 0.6
         },
         "mode": "lines",
         "name": "HMA",
         "showlegend": false,
         "type": "scatter",
         "x": [
          "2025-08-19T11:50:00-04:00",
          "2025-08-19T11:55:00-04:00"
         ],
         "xaxis": "x",
         "y": {
          "bdata": "JRlEHREauUAC7OEUWRm5QA==",
          "dtype": "f8"
         },
         "yaxis": "y"
        },
        {
         "line": {
          "color": "#FF66FE",
          "width": 0.6
         },
         "mode": "lines",
         "name": "HMA",
         "showlegend": false,
         "type": "scatter",
         "x": [
          "2025-08-19T11:55:00-04:00",
          "2025-08-19T12:00:00-04:00"
         ],
         "xaxis": "x",
         "y": {
          "bdata": "AuzhFFkZuUBjLiIlfhi5QA==",
          "dtype": "f8"
         },
         "yaxis": "y"
        },
        {
         "line": {
          "color": "#FF66FE",
          "width": 0.6
         },
         "mode": "lines",
         "name": "HMA",
         "showlegend": false,
         "type": "scatter",
         "x": [
          "2025-08-19T12:00:00-04:00",
          "2025-08-19T12:05:00-04:00"
         ],
         "xaxis": "x",
         "y": {
          "bdata": "Yy4iJX4YuUBT+JDuNxe5QA==",
          "dtype": "f8"
         },
         "yaxis": "y"
        },
        {
         "line": {
          "color": "#FF66FE",
          "width": 0.6
         },
         "mode": "lines",
         "name": "HMA",
         "showlegend": false,
         "type": "scatter",
         "x": [
          "2025-08-19T12:05:00-04:00",
          "2025-08-19T12:10:00-04:00"
         ],
         "xaxis": "x",
         "y": {
          "bdata": "U/iQ7jcXuUCv5XKulxW5QA==",
          "dtype": "f8"
         },
         "yaxis": "y"
        },
        {
         "line": {
          "color": "#FF66FE",
          "width": 0.6
         },
         "mode": "lines",
         "name": "HMA",
         "showlegend": false,
         "type": "scatter",
         "x": [
          "2025-08-19T12:10:00-04:00",
          "2025-08-19T12:15:00-04:00"
         ],
         "xaxis": "x",
         "y": {
          "bdata": "r+VyrpcVuUBmXJ5uKRS5QA==",
          "dtype": "f8"
         },
         "yaxis": "y"
        },
        {
         "line": {
          "color": "#FF66FE",
          "width": 0.6
         },
         "mode": "lines",
         "name": "HMA",
         "showlegend": false,
         "type": "scatter",
         "x": [
          "2025-08-19T12:15:00-04:00",
          "2025-08-19T12:20:00-04:00"
         ],
         "xaxis": "x",
         "y": {
          "bdata": "ZlyebikUuUBVuXp8GhO5QA==",
          "dtype": "f8"
         },
         "yaxis": "y"
        },
        {
         "line": {
          "color": "#FF66FE",
          "width": 0.6
         },
         "mode": "lines",
         "name": "HMA",
         "showlegend": false,
         "type": "scatter",
         "x": [
          "2025-08-19T12:20:00-04:00",
          "2025-08-19T12:25:00-04:00"
         ],
         "xaxis": "x",
         "y": {
          "bdata": "Vbl6fBoTuUBDRt4TPRK5QA==",
          "dtype": "f8"
         },
         "yaxis": "y"
        },
        {
         "line": {
          "color": "#FF66FE",
          "width": 0.6
         },
         "mode": "lines",
         "name": "HMA",
         "showlegend": false,
         "type": "scatter",
         "x": [
          "2025-08-19T12:25:00-04:00",
          "2025-08-19T12:30:00-04:00"
         ],
         "xaxis": "x",
         "y": {
          "bdata": "Q0beEz0SuUB6g0tDoBG5QA==",
          "dtype": "f8"
         },
         "yaxis": "y"
        },
        {
         "line": {
          "color": "#FF66FE",
          "width": 0.6
         },
         "mode": "lines",
         "name": "HMA",
         "showlegend": false,
         "type": "scatter",
         "x": [
          "2025-08-19T12:30:00-04:00",
          "2025-08-19T12:35:00-04:00"
         ],
         "xaxis": "x",
         "y": {
          "bdata": "eoNLQ6ARuUCnvNi4zxC5QA==",
          "dtype": "f8"
         },
         "yaxis": "y"
        },
        {
         "line": {
          "color": "#FF66FE",
          "width": 0.6
         },
         "mode": "lines",
         "name": "HMA",
         "showlegend": false,
         "type": "scatter",
         "x": [
          "2025-08-19T12:35:00-04:00",
          "2025-08-19T12:40:00-04:00"
         ],
         "xaxis": "x",
         "y": {
          "bdata": "p7zYuM8QuUAdj5a+pQ+5QA==",
          "dtype": "f8"
         },
         "yaxis": "y"
        },
        {
         "line": {
          "color": "#FF66FE",
          "width": 0.6
         },
         "mode": "lines",
         "name": "HMA",
         "showlegend": false,
         "type": "scatter",
         "x": [
          "2025-08-19T12:40:00-04:00",
          "2025-08-19T12:45:00-04:00"
         ],
         "xaxis": "x",
         "y": {
          "bdata": "HY+WvqUPuUB2jGLKWg65QA==",
          "dtype": "f8"
         },
         "yaxis": "y"
        },
        {
         "line": {
          "color": "#FF66FE",
          "width": 0.6
         },
         "mode": "lines",
         "name": "HMA",
         "showlegend": false,
         "type": "scatter",
         "x": [
          "2025-08-19T12:45:00-04:00",
          "2025-08-19T12:50:00-04:00"
         ],
         "xaxis": "x",
         "y": {
          "bdata": "doxiyloOuUAbffUXCA25QA==",
          "dtype": "f8"
         },
         "yaxis": "y"
        },
        {
         "line": {
          "color": "#FF66FE",
          "width": 0.6
         },
         "mode": "lines",
         "name": "HMA",
         "showlegend": false,
         "type": "scatter",
         "x": [
          "2025-08-19T12:50:00-04:00",
          "2025-08-19T12:55:00-04:00"
         ],
         "xaxis": "x",
         "y": {
          "bdata": "G331FwgNuUDlIH+Q2wu5QA==",
          "dtype": "f8"
         },
         "yaxis": "y"
        },
        {
         "line": {
          "color": "#FF66FE",
          "width": 0.6
         },
         "mode": "lines",
         "name": "HMA",
         "showlegend": false,
         "type": "scatter",
         "x": [
          "2025-08-19T12:55:00-04:00",
          "2025-08-19T13:00:00-04:00"
         ],
         "xaxis": "x",
         "y": {
          "bdata": "5SB/kNsLuUAW5sSkjAq5QA==",
          "dtype": "f8"
         },
         "yaxis": "y"
        },
        {
         "line": {
          "color": "#FF66FE",
          "width": 0.6
         },
         "mode": "lines",
         "name": "HMA",
         "showlegend": false,
         "type": "scatter",
         "x": [
          "2025-08-19T13:00:00-04:00",
          "2025-08-19T13:05:00-04:00"
         ],
         "xaxis": "x",
         "y": {
          "bdata": "FubEpIwKuUCBvxkxwwi5QA==",
          "dtype": "f8"
         },
         "yaxis": "y"
        },
        {
         "line": {
          "color": "#FF66FE",
          "width": 0.6
         },
         "mode": "lines",
         "name": "HMA",
         "showlegend": false,
         "type": "scatter",
         "x": [
          "2025-08-19T13:05:00-04:00",
          "2025-08-19T13:10:00-04:00"
         ],
         "xaxis": "x",
         "y": {
          "bdata": "gb8ZMcMIuUAG3pIscge5QA==",
          "dtype": "f8"
         },
         "yaxis": "y"
        },
        {
         "line": {
          "color": "#FF66FE",
          "width": 0.6
         },
         "mode": "lines",
         "name": "HMA",
         "showlegend": false,
         "type": "scatter",
         "x": [
          "2025-08-19T13:10:00-04:00",
          "2025-08-19T13:15:00-04:00"
         ],
         "xaxis": "x",
         "y": {
          "bdata": "Bt6SLHIHuUBaRgCDSAa5QA==",
          "dtype": "f8"
         },
         "yaxis": "y"
        },
        {
         "line": {
          "color": "#FF66FE",
          "width": 0.6
         },
         "mode": "lines",
         "name": "HMA",
         "showlegend": false,
         "type": "scatter",
         "x": [
          "2025-08-19T13:15:00-04:00",
          "2025-08-19T13:20:00-04:00"
         ],
         "xaxis": "x",
         "y": {
          "bdata": "WkYAg0gGuUCS4DEZuQW5QA==",
          "dtype": "f8"
         },
         "yaxis": "y"
        },
        {
         "line": {
          "color": "#01FFFF",
          "width": 0.6
         },
         "mode": "lines",
         "name": "HMA",
         "showlegend": false,
         "type": "scatter",
         "x": [
          "2025-08-19T13:20:00-04:00",
          "2025-08-19T13:25:00-04:00"
         ],
         "xaxis": "x",
         "y": {
          "bdata": "kuAxGbkFuUA4wS+UBAa5QA==",
          "dtype": "f8"
         },
         "yaxis": "y"
        },
        {
         "line": {
          "color": "#01FFFF",
          "width": 0.6
         },
         "mode": "lines",
         "name": "HMA",
         "showlegend": false,
         "type": "scatter",
         "x": [
          "2025-08-19T13:25:00-04:00",
          "2025-08-19T13:30:00-04:00"
         ],
         "xaxis": "x",
         "y": {
          "bdata": "OMEvlAQGuUBAttXe3wa5QA==",
          "dtype": "f8"
         },
         "yaxis": "y"
        },
        {
         "line": {
          "color": "#01FFFF",
          "width": 0.6
         },
         "mode": "lines",
         "name": "HMA",
         "showlegend": false,
         "type": "scatter",
         "x": [
          "2025-08-19T13:30:00-04:00",
          "2025-08-19T13:35:00-04:00"
         ],
         "xaxis": "x",
         "y": {
          "bdata": "QLbV3t8GuUCuGO7WNQi5QA==",
          "dtype": "f8"
         },
         "yaxis": "y"
        },
        {
         "line": {
          "color": "#01FFFF",
          "width": 0.6
         },
         "mode": "lines",
         "name": "HMA",
         "showlegend": false,
         "type": "scatter",
         "x": [
          "2025-08-19T13:35:00-04:00",
          "2025-08-19T13:40:00-04:00"
         ],
         "xaxis": "x",
         "y": {
          "bdata": "rhju1jUIuUAoUaXpuAm5QA==",
          "dtype": "f8"
         },
         "yaxis": "y"
        },
        {
         "line": {
          "color": "#01FFFF",
          "width": 0.6
         },
         "mode": "lines",
         "name": "HMA",
         "showlegend": false,
         "type": "scatter",
         "x": [
          "2025-08-19T13:40:00-04:00",
          "2025-08-19T13:45:00-04:00"
         ],
         "xaxis": "x",
         "y": {
          "bdata": "KFGl6bgJuUBA8ZxOBwu5QA==",
          "dtype": "f8"
         },
         "yaxis": "y"
        },
        {
         "line": {
          "color": "#01FFFF",
          "width": 0.6
         },
         "mode": "lines",
         "name": "HMA",
         "showlegend": false,
         "type": "scatter",
         "x": [
          "2025-08-19T13:45:00-04:00",
          "2025-08-19T13:50:00-04:00"
         ],
         "xaxis": "x",
         "y": {
          "bdata": "QPGcTgcLuUDOYfFrDAy5QA==",
          "dtype": "f8"
         },
         "yaxis": "y"
        },
        {
         "line": {
          "color": "#01FFFF",
          "width": 0.6
         },
         "mode": "lines",
         "name": "HMA",
         "showlegend": false,
         "type": "scatter",
         "x": [
          "2025-08-19T13:50:00-04:00",
          "2025-08-19T13:55:00-04:00"
         ],
         "xaxis": "x",
         "y": {
          "bdata": "zmHxawwMuUBQ1GqY9gy5QA==",
          "dtype": "f8"
         },
         "yaxis": "y"
        },
        {
         "line": {
          "color": "#01FFFF",
          "width": 0.6
         },
         "mode": "lines",
         "name": "HMA",
         "showlegend": false,
         "type": "scatter",
         "x": [
          "2025-08-19T13:55:00-04:00",
          "2025-08-19T14:00:00-04:00"
         ],
         "xaxis": "x",
         "y": {
          "bdata": "UNRqmPYMuUBuQXZk+Qy5QA==",
          "dtype": "f8"
         },
         "yaxis": "y"
        },
        {
         "line": {
          "color": "#FF66FE",
          "width": 0.6
         },
         "mode": "lines",
         "name": "HMA",
         "showlegend": false,
         "type": "scatter",
         "x": [
          "2025-08-19T14:00:00-04:00",
          "2025-08-19T14:05:00-04:00"
         ],
         "xaxis": "x",
         "y": {
          "bdata": "bkF2ZPkMuUAoWZqP8wy5QA==",
          "dtype": "f8"
         },
         "yaxis": "y"
        },
        {
         "line": {
          "color": "#FF66FE",
          "width": 0.6
         },
         "mode": "lines",
         "name": "HMA",
         "showlegend": false,
         "type": "scatter",
         "x": [
          "2025-08-19T14:05:00-04:00",
          "2025-08-19T14:10:00-04:00"
         ],
         "xaxis": "x",
         "y": {
          "bdata": "KFmaj/MMuUBuAnzpVQy5QA==",
          "dtype": "f8"
         },
         "yaxis": "y"
        },
        {
         "line": {
          "color": "#FF66FE",
          "width": 0.6
         },
         "mode": "lines",
         "name": "HMA",
         "showlegend": false,
         "type": "scatter",
         "x": [
          "2025-08-19T14:10:00-04:00",
          "2025-08-19T14:15:00-04:00"
         ],
         "xaxis": "x",
         "y": {
          "bdata": "bgJ86VUMuUD7FksMLQu5QA==",
          "dtype": "f8"
         },
         "yaxis": "y"
        },
        {
         "line": {
          "color": "#FF66FE",
          "width": 0.6
         },
         "mode": "lines",
         "name": "HMA",
         "showlegend": false,
         "type": "scatter",
         "x": [
          "2025-08-19T14:15:00-04:00",
          "2025-08-19T14:20:00-04:00"
         ],
         "xaxis": "x",
         "y": {
          "bdata": "+xZLDC0LuUCqxZtazAm5QA==",
          "dtype": "f8"
         },
         "yaxis": "y"
        },
        {
         "line": {
          "color": "#FF66FE",
          "width": 0.6
         },
         "mode": "lines",
         "name": "HMA",
         "showlegend": false,
         "type": "scatter",
         "x": [
          "2025-08-19T14:20:00-04:00",
          "2025-08-19T14:25:00-04:00"
         ],
         "xaxis": "x",
         "y": {
          "bdata": "qsWbWswJuUAqFPDEWgi5QA==",
          "dtype": "f8"
         },
         "yaxis": "y"
        },
        {
         "line": {
          "color": "#FF66FE",
          "width": 0.6
         },
         "mode": "lines",
         "name": "HMA",
         "showlegend": false,
         "type": "scatter",
         "x": [
          "2025-08-19T14:25:00-04:00",
          "2025-08-19T14:30:00-04:00"
         ],
         "xaxis": "x",
         "y": {
          "bdata": "KhTwxFoIuUAA5zYb5Aa5QA==",
          "dtype": "f8"
         },
         "yaxis": "y"
        },
        {
         "line": {
          "color": "#FF66FE",
          "width": 0.6
         },
         "mode": "lines",
         "name": "HMA",
         "showlegend": false,
         "type": "scatter",
         "x": [
          "2025-08-19T14:30:00-04:00",
          "2025-08-19T14:35:00-04:00"
         ],
         "xaxis": "x",
         "y": {
          "bdata": "AOc2G+QGuUCynJREbQW5QA==",
          "dtype": "f8"
         },
         "yaxis": "y"
        },
        {
         "line": {
          "color": "#FF66FE",
          "width": 0.6
         },
         "mode": "lines",
         "name": "HMA",
         "showlegend": false,
         "type": "scatter",
         "x": [
          "2025-08-19T14:35:00-04:00",
          "2025-08-19T14:40:00-04:00"
         ],
         "xaxis": "x",
         "y": {
          "bdata": "spyURG0FuUAFNTMXLAS5QA==",
          "dtype": "f8"
         },
         "yaxis": "y"
        },
        {
         "line": {
          "color": "#FF66FE",
          "width": 0.6
         },
         "mode": "lines",
         "name": "HMA",
         "showlegend": false,
         "type": "scatter",
         "x": [
          "2025-08-19T14:40:00-04:00",
          "2025-08-19T14:45:00-04:00"
         ],
         "xaxis": "x",
         "y": {
          "bdata": "BTUzFywEuUDCTHTNFQO5QA==",
          "dtype": "f8"
         },
         "yaxis": "y"
        },
        {
         "line": {
          "color": "#FF66FE",
          "width": 0.6
         },
         "mode": "lines",
         "name": "HMA",
         "showlegend": false,
         "type": "scatter",
         "x": [
          "2025-08-19T14:45:00-04:00",
          "2025-08-19T14:50:00-04:00"
         ],
         "xaxis": "x",
         "y": {
          "bdata": "wkx0zRUDuUA75DMJpgK5QA==",
          "dtype": "f8"
         },
         "yaxis": "y"
        },
        {
         "line": {
          "color": "#01FFFF",
          "width": 0.6
         },
         "mode": "lines",
         "name": "HMA",
         "showlegend": false,
         "type": "scatter",
         "x": [
          "2025-08-19T14:50:00-04:00",
          "2025-08-19T14:55:00-04:00"
         ],
         "xaxis": "x",
         "y": {
          "bdata": "O+QzCaYCuUBS6VXrqQK5QA==",
          "dtype": "f8"
         },
         "yaxis": "y"
        },
        {
         "line": {
          "color": "#01FFFF",
          "width": 0.6
         },
         "mode": "lines",
         "name": "HMA",
         "showlegend": false,
         "type": "scatter",
         "x": [
          "2025-08-19T14:55:00-04:00",
          "2025-08-19T15:00:00-04:00"
         ],
         "xaxis": "x",
         "y": {
          "bdata": "UulV66kCuUDQzryprgK5QA==",
          "dtype": "f8"
         },
         "yaxis": "y"
        },
        {
         "line": {
          "color": "#FF66FE",
          "width": 0.6
         },
         "mode": "lines",
         "name": "HMA",
         "showlegend": false,
         "type": "scatter",
         "x": [
          "2025-08-19T15:00:00-04:00",
          "2025-08-19T15:05:00-04:00"
         ],
         "xaxis": "x",
         "y": {
          "bdata": "0M68qa4CuUD+PCcpoQK5QA==",
          "dtype": "f8"
         },
         "yaxis": "y"
        },
        {
         "line": {
          "color": "#FF66FE",
          "width": 0.6
         },
         "mode": "lines",
         "name": "HMA",
         "showlegend": false,
         "type": "scatter",
         "x": [
          "2025-08-19T15:05:00-04:00",
          "2025-08-19T15:10:00-04:00"
         ],
         "xaxis": "x",
         "y": {
          "bdata": "/jwnKaECuUCNUGJmdQK5QA==",
          "dtype": "f8"
         },
         "yaxis": "y"
        },
        {
         "line": {
          "color": "#FF66FE",
          "width": 0.6
         },
         "mode": "lines",
         "name": "HMA",
         "showlegend": false,
         "type": "scatter",
         "x": [
          "2025-08-19T15:10:00-04:00",
          "2025-08-19T15:15:00-04:00"
         ],
         "xaxis": "x",
         "y": {
          "bdata": "jVBiZnUCuUBGeVrQUAK5QA==",
          "dtype": "f8"
         },
         "yaxis": "y"
        },
        {
         "line": {
          "color": "#01FFFF",
          "width": 0.6
         },
         "mode": "lines",
         "name": "HMA",
         "showlegend": false,
         "type": "scatter",
         "x": [
          "2025-08-19T15:15:00-04:00",
          "2025-08-19T15:20:00-04:00"
         ],
         "xaxis": "x",
         "y": {
          "bdata": "Rnla0FACuUAQux9vvgK5QA==",
          "dtype": "f8"
         },
         "yaxis": "y"
        },
        {
         "line": {
          "color": "#01FFFF",
          "width": 0.6
         },
         "mode": "lines",
         "name": "HMA",
         "showlegend": false,
         "type": "scatter",
         "x": [
          "2025-08-19T15:20:00-04:00",
          "2025-08-19T15:25:00-04:00"
         ],
         "xaxis": "x",
         "y": {
          "bdata": "ELsfb74CuUC7MWX+fgO5QA==",
          "dtype": "f8"
         },
         "yaxis": "y"
        },
        {
         "line": {
          "color": "#01FFFF",
          "width": 0.6
         },
         "mode": "lines",
         "name": "HMA",
         "showlegend": false,
         "type": "scatter",
         "x": [
          "2025-08-19T15:25:00-04:00",
          "2025-08-19T15:30:00-04:00"
         ],
         "xaxis": "x",
         "y": {
          "bdata": "uzFl/n4DuUBOSqLWhgS5QA==",
          "dtype": "f8"
         },
         "yaxis": "y"
        },
        {
         "line": {
          "color": "#01FFFF",
          "width": 0.6
         },
         "mode": "lines",
         "name": "HMA",
         "showlegend": false,
         "type": "scatter",
         "x": [
          "2025-08-19T15:30:00-04:00",
          "2025-08-19T15:35:00-04:00"
         ],
         "xaxis": "x",
         "y": {
          "bdata": "Tkqi1oYEuUBzmFH5hwW5QA==",
          "dtype": "f8"
         },
         "yaxis": "y"
        },
        {
         "line": {
          "color": "#01FFFF",
          "width": 0.6
         },
         "mode": "lines",
         "name": "HMA",
         "showlegend": false,
         "type": "scatter",
         "x": [
          "2025-08-19T15:35:00-04:00",
          "2025-08-19T15:40:00-04:00"
         ],
         "xaxis": "x",
         "y": {
          "bdata": "c5hR+YcFuUDakbOfgga5QA==",
          "dtype": "f8"
         },
         "yaxis": "y"
        },
        {
         "line": {
          "color": "#01FFFF",
          "width": 0.6
         },
         "mode": "lines",
         "name": "HMA",
         "showlegend": false,
         "type": "scatter",
         "x": [
          "2025-08-19T15:40:00-04:00",
          "2025-08-19T15:45:00-04:00"
         ],
         "xaxis": "x",
         "y": {
          "bdata": "2pGzn4IGuUD4hZL6Mge5QA==",
          "dtype": "f8"
         },
         "yaxis": "y"
        },
        {
         "line": {
          "color": "#01FFFF",
          "width": 0.6
         },
         "mode": "lines",
         "name": "HMA",
         "showlegend": false,
         "type": "scatter",
         "x": [
          "2025-08-19T15:45:00-04:00",
          "2025-08-19T15:50:00-04:00"
         ],
         "xaxis": "x",
         "y": {
          "bdata": "+IWS+jIHuUBoVT2uQQe5QA==",
          "dtype": "f8"
         },
         "yaxis": "y"
        },
        {
         "line": {
          "color": "#01FFFF",
          "width": 0.6
         },
         "mode": "lines",
         "name": "HMA",
         "showlegend": false,
         "type": "scatter",
         "x": [
          "2025-08-19T15:50:00-04:00",
          "2025-08-19T15:55:00-04:00"
         ],
         "xaxis": "x",
         "y": {
          "bdata": "aFU9rkEHuUBa+Zds0we5QA==",
          "dtype": "f8"
         },
         "yaxis": "y"
        },
        {
         "line": {
          "color": "#01FFFF",
          "width": 1
         },
         "mode": "lines",
         "name": "MACD (Value)",
         "showlegend": false,
         "type": "scatter",
         "x": [
          "2025-08-19T09:00:00.000000000",
          "2025-08-19T09:05:00.000000000",
          "2025-08-19T09:10:00.000000000",
          "2025-08-19T09:15:00.000000000",
          "2025-08-19T09:20:00.000000000",
          "2025-08-19T09:25:00.000000000",
          "2025-08-19T09:30:00.000000000",
          "2025-08-19T09:35:00.000000000",
          "2025-08-19T09:40:00.000000000",
          "2025-08-19T09:45:00.000000000",
          "2025-08-19T09:50:00.000000000",
          "2025-08-19T09:55:00.000000000",
          "2025-08-19T10:00:00.000000000",
          "2025-08-19T10:05:00.000000000",
          "2025-08-19T10:10:00.000000000",
          "2025-08-19T10:15:00.000000000",
          "2025-08-19T10:20:00.000000000",
          "2025-08-19T10:25:00.000000000",
          "2025-08-19T10:30:00.000000000",
          "2025-08-19T10:35:00.000000000",
          "2025-08-19T10:40:00.000000000",
          "2025-08-19T10:45:00.000000000",
          "2025-08-19T10:50:00.000000000",
          "2025-08-19T10:55:00.000000000",
          "2025-08-19T11:00:00.000000000",
          "2025-08-19T11:05:00.000000000",
          "2025-08-19T11:10:00.000000000",
          "2025-08-19T11:15:00.000000000",
          "2025-08-19T11:20:00.000000000",
          "2025-08-19T11:25:00.000000000",
          "2025-08-19T11:30:00.000000000",
          "2025-08-19T11:35:00.000000000",
          "2025-08-19T11:40:00.000000000",
          "2025-08-19T11:45:00.000000000",
          "2025-08-19T11:50:00.000000000",
          "2025-08-19T11:55:00.000000000",
          "2025-08-19T12:00:00.000000000",
          "2025-08-19T12:05:00.000000000",
          "2025-08-19T12:10:00.000000000",
          "2025-08-19T12:15:00.000000000",
          "2025-08-19T12:20:00.000000000",
          "2025-08-19T12:25:00.000000000",
          "2025-08-19T12:30:00.000000000",
          "2025-08-19T12:35:00.000000000",
          "2025-08-19T12:40:00.000000000",
          "2025-08-19T12:45:00.000000000",
          "2025-08-19T12:50:00.000000000",
          "2025-08-19T12:55:00.000000000",
          "2025-08-19T13:00:00.000000000",
          "2025-08-19T13:05:00.000000000",
          "2025-08-19T13:10:00.000000000",
          "2025-08-19T13:15:00.000000000",
          "2025-08-19T13:20:00.000000000",
          "2025-08-19T13:25:00.000000000",
          "2025-08-19T13:30:00.000000000",
          "2025-08-19T13:35:00.000000000",
          "2025-08-19T13:40:00.000000000",
          "2025-08-19T13:45:00.000000000",
          "2025-08-19T13:50:00.000000000",
          "2025-08-19T13:55:00.000000000",
          "2025-08-19T14:00:00.000000000",
          "2025-08-19T14:05:00.000000000",
          "2025-08-19T14:10:00.000000000",
          "2025-08-19T14:15:00.000000000",
          "2025-08-19T14:20:00.000000000",
          "2025-08-19T14:25:00.000000000",
          "2025-08-19T14:30:00.000000000",
          "2025-08-19T14:35:00.000000000",
          "2025-08-19T14:40:00.000000000",
          "2025-08-19T14:45:00.000000000",
          "2025-08-19T14:50:00.000000000",
          "2025-08-19T14:55:00.000000000",
          "2025-08-19T15:00:00.000000000",
          "2025-08-19T15:05:00.000000000",
          "2025-08-19T15:10:00.000000000",
          "2025-08-19T15:15:00.000000000",
          "2025-08-19T15:20:00.000000000",
          "2025-08-19T15:25:00.000000000",
          "2025-08-19T15:30:00.000000000",
          "2025-08-19T15:35:00.000000000",
          "2025-08-19T15:40:00.000000000",
          "2025-08-19T15:45:00.000000000",
          "2025-08-19T15:50:00.000000000",
          "2025-08-19T15:55:00.000000000"
         ],
         "xaxis": "x2",
         "y": {
          "bdata": "AAAAAAAAAAAAAAAAAAAAAAAAAAAAAAAAAAAAAAAAAAAAAAAAAAAAAAAAAAAAAAAAAACLBa418L8AAO1aeOX1vwBg2Cy1Bve/AEDTzX9L/L8AQF9iF4j4vwDgDsLHdPi/AACYd7bj4L8AAHcfZEHHPwCAOd+KW+E/AIA94s7l6T8AkJMAv9LwPwCAplpHteI/AICdMX5z3z8AAOM257fBvwAgoIGue+6/ACBUiOoI/r8AAGrIMBcDwACoAMartAvAALwpRAEEEcAAMBA2qjYTwABMZmv7SRTAAPDeB3JcFMAAlItF62UVwAC44h9UzRTAAPBPIiRQE8AAGKsSmHwTwABYK2sJYBPAAEQ/DhrRE8AAVOs5rRIVwABAfS5i5hXAAHTU0R/9FcAAnCxwcBoXwADAyqQzZhjAADRXGHsQGMAAkD+rCEkXwABw1g0HRxfAACBdjVLjFsAA3MKmToIXwABY1S3ooxjAAEC5HIlJGcAA9LMcoLYZwACgxBwJ3BnAAAw7vqqxGsAAEE+75VocwACcnGhlahvAACA+pY1rG8AASOJuTiwawAAQSsnd6xfAAISMn3CxFcAAdB3QB1ITwAAMG63fOBHAALAIz0vZD8AAIPiw5OINwADgrrEm9grAAAjiAE6bDMAA2EQq3SIKwABgg6NxEQvAALjJmzBvDMAAOH+zZEgNwAAgzbDtdQ3AAGgnnSKHDsAAwKWW+dEPwADgmMkk3Q/AAHS11bcKEMAAeLB9eLgNwAAYAQB+lgvAAEB0SfGpC8AAQBFxssALwACgY78QmgvAANghfDjbCsAAcFig+CEHwAAQsWpzLgTAAHjtZOu+AMAAYPtaasz8vwDABUCH5/a/AJDg/i8Q9b8AoL/mrh34vwDgi3M0zO2/",
          "dtype": "f8"
         },
         "yaxis": "y2"
        },
        {
         "line": {
          "color": "#F8E9A6",
          "width": 1
         },
         "mode": "lines",
         "name": "Signal (avg)",
         "showlegend": false,
         "type": "scatter",
         "x": [
          "2025-08-19T09:00:00.000000000",
          "2025-08-19T09:05:00.000000000",
          "2025-08-19T09:10:00.000000000",
          "2025-08-19T09:15:00.000000000",
          "2025-08-19T09:20:00.000000000",
          "2025-08-19T09:25:00.000000000",
          "2025-08-19T09:30:00.000000000",
          "2025-08-19T09:35:00.000000000",
          "2025-08-19T09:40:00.000000000",
          "2025-08-19T09:45:00.000000000",
          "2025-08-19T09:50:00.000000000",
          "2025-08-19T09:55:00.000000000",
          "2025-08-19T10:00:00.000000000",
          "2025-08-19T10:05:00.000000000",
          "2025-08-19T10:10:00.000000000",
          "2025-08-19T10:15:00.000000000",
          "2025-08-19T10:20:00.000000000",
          "2025-08-19T10:25:00.000000000",
          "2025-08-19T10:30:00.000000000",
          "2025-08-19T10:35:00.000000000",
          "2025-08-19T10:40:00.000000000",
          "2025-08-19T10:45:00.000000000",
          "2025-08-19T10:50:00.000000000",
          "2025-08-19T10:55:00.000000000",
          "2025-08-19T11:00:00.000000000",
          "2025-08-19T11:05:00.000000000",
          "2025-08-19T11:10:00.000000000",
          "2025-08-19T11:15:00.000000000",
          "2025-08-19T11:20:00.000000000",
          "2025-08-19T11:25:00.000000000",
          "2025-08-19T11:30:00.000000000",
          "2025-08-19T11:35:00.000000000",
          "2025-08-19T11:40:00.000000000",
          "2025-08-19T11:45:00.000000000",
          "2025-08-19T11:50:00.000000000",
          "2025-08-19T11:55:00.000000000",
          "2025-08-19T12:00:00.000000000",
          "2025-08-19T12:05:00.000000000",
          "2025-08-19T12:10:00.000000000",
          "2025-08-19T12:15:00.000000000",
          "2025-08-19T12:20:00.000000000",
          "2025-08-19T12:25:00.000000000",
          "2025-08-19T12:30:00.000000000",
          "2025-08-19T12:35:00.000000000",
          "2025-08-19T12:40:00.000000000",
          "2025-08-19T12:45:00.000000000",
          "2025-08-19T12:50:00.000000000",
          "2025-08-19T12:55:00.000000000",
          "2025-08-19T13:00:00.000000000",
          "2025-08-19T13:05:00.000000000",
          "2025-08-19T13:10:00.000000000",
          "2025-08-19T13:15:00.000000000",
          "2025-08-19T13:20:00.000000000",
          "2025-08-19T13:25:00.000000000",
          "2025-08-19T13:30:00.000000000",
          "2025-08-19T13:35:00.000000000",
          "2025-08-19T13:40:00.000000000",
          "2025-08-19T13:45:00.000000000",
          "2025-08-19T13:50:00.000000000",
          "2025-08-19T13:55:00.000000000",
          "2025-08-19T14:00:00.000000000",
          "2025-08-19T14:05:00.000000000",
          "2025-08-19T14:10:00.000000000",
          "2025-08-19T14:15:00.000000000",
          "2025-08-19T14:20:00.000000000",
          "2025-08-19T14:25:00.000000000",
          "2025-08-19T14:30:00.000000000",
          "2025-08-19T14:35:00.000000000",
          "2025-08-19T14:40:00.000000000",
          "2025-08-19T14:45:00.000000000",
          "2025-08-19T14:50:00.000000000",
          "2025-08-19T14:55:00.000000000",
          "2025-08-19T15:00:00.000000000",
          "2025-08-19T15:05:00.000000000",
          "2025-08-19T15:10:00.000000000",
          "2025-08-19T15:15:00.000000000",
          "2025-08-19T15:20:00.000000000",
          "2025-08-19T15:25:00.000000000",
          "2025-08-19T15:30:00.000000000",
          "2025-08-19T15:35:00.000000000",
          "2025-08-19T15:40:00.000000000",
          "2025-08-19T15:45:00.000000000",
          "2025-08-19T15:50:00.000000000",
          "2025-08-19T15:55:00.000000000"
         ],
         "xaxis": "x2",
         "y": {
          "bdata": "AAAAAAAAAAAAAAAAAAAAAAAAAAAAAAAAAAAAAAAAAAAAAAAAAAAAAAAAAAAAAAAANDOr1Xzvyb/iemjRK+Tbv/S95pjzXeS/XX5zmY+c679LGByi4ubvv7hpQQHppvG/jQ+Hs/+e779yTNlaVCLovx5H3gTpq9+/ZAvMUs/0zb8YtxOP952XP+krBwoFVME/7u93tWlxyj++jDKGWZzBPwRSr/iHmLS/m8PMnqMl3L8LGw0TAojqv9IanyPfsfW/qHhtueb3/r8Q3ctfoBIEwEDPmHd+LAjAzQVt/MV7C8A+pihMyYsOwOYApPH6YBDA7GPGYTb3EMAku43rSXgRwOpArZ7W2RHA76f9tH0+EsBZysYCVM8SwOHhhAuKbRPATjL7/6fwE8ByRzjjnJIUwCj5u9aHVhXA7QTb4x7iFcC+IO8+5ykWwDLKg5vtYhbAjg58ZZt8FsClN4py8rAWwB4+mTG9FBfATAsGx7KFF8DXOY8+4vUXwBMbzTcdVxjAdn5J7J/PGMAsNeRIFIUZwPB8b4Ik5hnAWmoyVgY0GsBIMO8nezIawDqQNEj1vRnA+8DfjKfuGMAvSx9nVM8XwCbYhNsJfhbAuPG3qsItFcAuXhJnf+4TwFj7bJc2pBLAFP2g3xnGEcAQ4LrQKtUQwHPWVTdHLBDAHq+xd0iQD8AZZHRQgRsPwK6J7JYwxw7AWemR/mC6DsCuei9QTPIOwCXCd2hEIQ/A6/xB3BlSD8CJFVjJLAAPwAgWrTpwUQ7A1IRuCorJDcDdQ8LrXmENwOTvSElPBg3A6rfauUqXDMC83PPn038LwMqzGQInCQrAPA5EfIEtCMBk+7Wf2DgGwLbCKwZuEQTALKpsnikpAsC9sQPJsvAAwPzlk7OJFf6/",
          "dtype": "f8"
         },
         "yaxis": "y2"
        },
        {
         "marker": {
          "color": [
           "#FE0000",
           "#7E0100",
           "#7E0100",
           "#7E0100",
           "#7E0100",
           "#7E0100",
           "#FE0000",
           "#FE0000",
           "#7E0100",
           "#FE0000",
           "#7E0100",
           "#7E0100",
           "#04FE00",
           "#04FE00",
           "#04FE00",
           "#04FE00",
           "#006401",
           "#006401",
           "#006401",
           "#FE0000",
           "#FE0000",
           "#FE0000",
           "#FE0000",
           "#FE0000",
           "#FE0000",
           "#7E0100",
           "#7E0100",
           "#7E0100",
           "#7E0100",
           "#7E0100",
           "#7E0100",
           "#7E0100",
           "#7E0100",
           "#FE0000",
           "#FE0000",
           "#FE0000",
           "#7E0100",
           "#FE0000",
           "#FE0000",
           "#7E0100",
           "#7E0100",
           "#7E0100",
           "#7E0100",
           "#FE0000",
           "#FE0000",
           "#FE0000",
           "#7E0100",
           "#7E0100",
           "#FE0000",
           "#FE0000",
           "#7E0100",
           "#7E0100",
           "#04FE00",
           "#04FE00",
           "#04FE00",
           "#04FE00",
           "#04FE00",
           "#006401",
           "#006401",
           "#04FE00",
           "#006401",
           "#04FE00",
           "#006401",
           "#006401",
           "#006401",
           "#006401",
           "#006401",
           "#FE0000",
           "#7E0100",
           "#FE0000",
           "#04FE00",
           "#04FE00",
           "#006401",
           "#006401",
           "#006401",
           "#04FE00",
           "#04FE00",
           "#04FE00",
           "#04FE00",
           "#04FE00",
           "#04FE00",
           "#006401",
           "#006401",
           "#04FE00"
          ]
         },
         "name": "Histogram (diff)",
         "showlegend": false,
         "type": "bar",
         "x": [
          "2025-08-19T09:00:00.000000000",
          "2025-08-19T09:05:00.000000000",
          "2025-08-19T09:10:00.000000000",
          "2025-08-19T09:15:00.000000000",
          "2025-08-19T09:20:00.000000000",
          "2025-08-19T09:25:00.000000000",
          "2025-08-19T09:30:00.000000000",
          "2025-08-19T09:35:00.000000000",
          "2025-08-19T09:40:00.000000000",
          "2025-08-19T09:45:00.000000000",
          "2025-08-19T09:50:00.000000000",
          "2025-08-19T09:55:00.000000000",
          "2025-08-19T10:00:00.000000000",
          "2025-08-19T10:05:00.000000000",
          "2025-08-19T10:10:00.000000000",
          "2025-08-19T10:15:00.000000000",
          "2025-08-19T10:20:00.000000000",
          "2025-08-19T10:25:00.000000000",
          "2025-08-19T10:30:00.000000000",
          "2025-08-19T10:35:00.000000000",
          "2025-08-19T10:40:00.000000000",
          "2025-08-19T10:45:00.000000000",
          "2025-08-19T10:50:00.000000000",
          "2025-08-19T10:55:00.000000000",
          "2025-08-19T11:00:00.000000000",
          "2025-08-19T11:05:00.000000000",
          "2025-08-19T11:10:00.000000000",
          "2025-08-19T11:15:00.000000000",
          "2025-08-19T11:20:00.000000000",
          "2025-08-19T11:25:00.000000000",
          "2025-08-19T11:30:00.000000000",
          "2025-08-19T11:35:00.000000000",
          "2025-08-19T11:40:00.000000000",
          "2025-08-19T11:45:00.000000000",
          "2025-08-19T11:50:00.000000000",
          "2025-08-19T11:55:00.000000000",
          "2025-08-19T12:00:00.000000000",
          "2025-08-19T12:05:00.000000000",
          "2025-08-19T12:10:00.000000000",
          "2025-08-19T12:15:00.000000000",
          "2025-08-19T12:20:00.000000000",
          "2025-08-19T12:25:00.000000000",
          "2025-08-19T12:30:00.000000000",
          "2025-08-19T12:35:00.000000000",
          "2025-08-19T12:40:00.000000000",
          "2025-08-19T12:45:00.000000000",
          "2025-08-19T12:50:00.000000000",
          "2025-08-19T12:55:00.000000000",
          "2025-08-19T13:00:00.000000000",
          "2025-08-19T13:05:00.000000000",
          "2025-08-19T13:10:00.000000000",
          "2025-08-19T13:15:00.000000000",
          "2025-08-19T13:20:00.000000000",
          "2025-08-19T13:25:00.000000000",
          "2025-08-19T13:30:00.000000000",
          "2025-08-19T13:35:00.000000000",
          "2025-08-19T13:40:00.000000000",
          "2025-08-19T13:45:00.000000000",
          "2025-08-19T13:50:00.000000000",
          "2025-08-19T13:55:00.000000000",
          "2025-08-19T14:00:00.000000000",
          "2025-08-19T14:05:00.000000000",
          "2025-08-19T14:10:00.000000000",
          "2025-08-19T14:15:00.000000000",
          "2025-08-19T14:20:00.000000000",
          "2025-08-19T14:25:00.000000000",
          "2025-08-19T14:30:00.000000000",
          "2025-08-19T14:35:00.000000000",
          "2025-08-19T14:40:00.000000000",
          "2025-08-19T14:45:00.000000000",
          "2025-08-19T14:50:00.000000000",
          "2025-08-19T14:55:00.000000000",
          "2025-08-19T15:00:00.000000000",
          "2025-08-19T15:05:00.000000000",
          "2025-08-19T15:10:00.000000000",
          "2025-08-19T15:15:00.000000000",
          "2025-08-19T15:20:00.000000000",
          "2025-08-19T15:25:00.000000000",
          "2025-08-19T15:30:00.000000000",
          "2025-08-19T15:35:00.000000000",
          "2025-08-19T15:40:00.000000000",
          "2025-08-19T15:45:00.000000000",
          "2025-08-19T15:50:00.000000000",
          "2025-08-19T15:55:00.000000000"
         ],
         "xaxis": "x2",
         "y": {
          "bdata": "AAAAAAAAAAAAAAAAAAAAAAAAAAAAAAAAAAAAAAAAAAAAAAAAAAAAAAAAAAAAAAAAMzOr1Xzv6b+PwiXN2tjtvwwCysB2r+m/owEzAnD67L+1Z6IiTCnhvyDZNQN7N9u/Gh/ed5J23T9yDLdirfLtP8hR1LC/mPA/bEF4W4Gx8D8kQVciR3TwPwxqSTCMwNw/CYjhVsk60j9fxopeIKrRv8A1ioKd6Ou/Ge+goIH/9r96ck2HYOr4v5caMTS82wDArLucKw+MAsDwglQMtFoCwMDIM194ZwDAZrShJjx6+r+EA919GoD4v2jc+rhksfG/oGBMBG7H4r/g5uo4cSLgv2Bx4ccsY9i/EMEZlMUp2b84TSS5yRriv/jwwhfBxuO/kA3Kjr5j4L9wpKJnnD7kv8A2dnBefei/mHjho+Fy4b8g9AbFFvLRv8C5VEoug8y/gFxE+Mmtub9gixSHhivKvyCewcOv8ti/QEszW2U93L+Qokvi3Qvcv9BOeE++Tti/oNgYH60g3r+g1laTi67mvwDx0WIORNi/YFq78HR4078AIKEz5LJ4P6ADqO53Id0/2OeZarfp6T+8XAdcMvXxP5gwp7moFPU/4GbODHME9T+4OFk6NPTzP2AtVvqMpPQ/oMh/+ZbD6z+AoMPc4R3uP5gzoSxzHOU/8Lg/374I2T+QwVLPyTHNP+Ca9mEuFMU/gKxAtTCfmT9AqsjOqPW7v2C7IyQMfLe/oGId5blquL+Q2Hm6RHvEP0DwX9WR19U/oCbSB8b80D/QPRCrxwrKP0D+VJ7ow8Y/oP6N2yPByz/wsm0ebXfhPyiPol3Oauc/8FhaXVi67T+QLeHIjUrvP2zFUcxUO/E/sIjxe0aE7j/0ho9WbYfjP/jrm/PeXu4/",
          "dtype": "f8"
         },
         "yaxis": "y2"
        }
       ],
       "layout": {
        "annotations": [
         {
          "align": "center",
          "bgcolor": "rgba(25,25,25,0.8)",
          "bordercolor": "#555555",
          "borderpad": 6,
          "borderwidth": 1,
          "font": {
           "color": "#555555",
           "family": "Arial, sans-serif",
           "size": 11
          },
          "showarrow": false,
          "text": "Open",
          "textangle": 0,
          "x": "2025-08-19T14:30:00-04:00",
          "xanchor": "center",
          "xref": "x",
          "y": 6462.106,
          "yanchor": "bottom",
          "yref": "y"
         }
        ],
        "height": 800,
        "margin": {
         "b": 10,
         "l": 30,
         "r": 5,
         "t": 50
        },
        "paper_bgcolor": "rgb(25,25,25)",
        "plot_bgcolor": "rgb(25,25,25)",
        "shapes": [
         {
          "line": {
           "color": "gray",
           "dash": "dot",
           "width": 1
          },
          "type": "line",
          "x0": "2025-08-19T09:00:00-04:00",
          "x1": "2025-08-19T16:15:00-04:00",
          "xref": "x2",
          "y0": 0,
          "y1": 0,
          "yref": "y2"
         },
         {
          "line": {
           "color": "#555555",
           "dash": "dot",
           "width": 1
          },
          "opacity": 0.7,
          "type": "line",
          "x0": "2025-08-19T14:30:00-04:00",
          "x1": "2025-08-19T14:30:00-04:00",
          "xref": "x",
          "y0": 6397.407,
          "y1": 6462.106,
          "yref": "y"
         },
         {
          "line": {
           "color": "#555555",
           "dash": "dot",
           "width": 1
          },
          "opacity": 0.7,
          "type": "line",
          "x0": "2025-08-19T14:30:00-04:00",
          "x1": "2025-08-19T14:30:00-04:00",
          "xref": "x2",
          "y0": -8.506520378151617,
          "y1": 1.5810524656761522,
          "yref": "y2"
         }
        ],
        "showlegend": true,
        "template": {
         "data": {
          "bar": [
           {
            "error_x": {
             "color": "#f2f5fa"
            },
            "error_y": {
             "color": "#f2f5fa"
            },
            "marker": {
             "line": {
              "color": "rgb(17,17,17)",
              "width": 0.5
             },
             "pattern": {
              "fillmode": "overlay",
              "size": 10,
              "solidity": 0.2
             }
            },
            "type": "bar"
           }
          ],
          "barpolar": [
           {
            "marker": {
             "line": {
              "color": "rgb(17,17,17)",
              "width": 0.5
             },
             "pattern": {
              "fillmode": "overlay",
              "size": 10,
              "solidity": 0.2
             }
            },
            "type": "barpolar"
           }
          ],
          "carpet": [
           {
            "aaxis": {
             "endlinecolor": "#A2B1C6",
             "gridcolor": "#506784",
             "linecolor": "#506784",
             "minorgridcolor": "#506784",
             "startlinecolor": "#A2B1C6"
            },
            "baxis": {
             "endlinecolor": "#A2B1C6",
             "gridcolor": "#506784",
             "linecolor": "#506784",
             "minorgridcolor": "#506784",
             "startlinecolor": "#A2B1C6"
            },
            "type": "carpet"
           }
          ],
          "choropleth": [
           {
            "colorbar": {
             "outlinewidth": 0,
             "ticks": ""
            },
            "type": "choropleth"
           }
          ],
          "contour": [
           {
            "colorbar": {
             "outlinewidth": 0,
             "ticks": ""
            },
            "colorscale": [
             [
              0,
              "#0d0887"
             ],
             [
              0.1111111111111111,
              "#46039f"
             ],
             [
              0.2222222222222222,
              "#7201a8"
             ],
             [
              0.3333333333333333,
              "#9c179e"
             ],
             [
              0.4444444444444444,
              "#bd3786"
             ],
             [
              0.5555555555555556,
              "#d8576b"
             ],
             [
              0.6666666666666666,
              "#ed7953"
             ],
             [
              0.7777777777777778,
              "#fb9f3a"
             ],
             [
              0.8888888888888888,
              "#fdca26"
             ],
             [
              1,
              "#f0f921"
             ]
            ],
            "type": "contour"
           }
          ],
          "contourcarpet": [
           {
            "colorbar": {
             "outlinewidth": 0,
             "ticks": ""
            },
            "type": "contourcarpet"
           }
          ],
          "heatmap": [
           {
            "colorbar": {
             "outlinewidth": 0,
             "ticks": ""
            },
            "colorscale": [
             [
              0,
              "#0d0887"
             ],
             [
              0.1111111111111111,
              "#46039f"
             ],
             [
              0.2222222222222222,
              "#7201a8"
             ],
             [
              0.3333333333333333,
              "#9c179e"
             ],
             [
              0.4444444444444444,
              "#bd3786"
             ],
             [
              0.5555555555555556,
              "#d8576b"
             ],
             [
              0.6666666666666666,
              "#ed7953"
             ],
             [
              0.7777777777777778,
              "#fb9f3a"
             ],
             [
              0.8888888888888888,
              "#fdca26"
             ],
             [
              1,
              "#f0f921"
             ]
            ],
            "type": "heatmap"
           }
          ],
          "histogram": [
           {
            "marker": {
             "pattern": {
              "fillmode": "overlay",
              "size": 10,
              "solidity": 0.2
             }
            },
            "type": "histogram"
           }
          ],
          "histogram2d": [
           {
            "colorbar": {
             "outlinewidth": 0,
             "ticks": ""
            },
            "colorscale": [
             [
              0,
              "#0d0887"
             ],
             [
              0.1111111111111111,
              "#46039f"
             ],
             [
              0.2222222222222222,
              "#7201a8"
             ],
             [
              0.3333333333333333,
              "#9c179e"
             ],
             [
              0.4444444444444444,
              "#bd3786"
             ],
             [
              0.5555555555555556,
              "#d8576b"
             ],
             [
              0.6666666666666666,
              "#ed7953"
             ],
             [
              0.7777777777777778,
              "#fb9f3a"
             ],
             [
              0.8888888888888888,
              "#fdca26"
             ],
             [
              1,
              "#f0f921"
             ]
            ],
            "type": "histogram2d"
           }
          ],
          "histogram2dcontour": [
           {
            "colorbar": {
             "outlinewidth": 0,
             "ticks": ""
            },
            "colorscale": [
             [
              0,
              "#0d0887"
             ],
             [
              0.1111111111111111,
              "#46039f"
             ],
             [
              0.2222222222222222,
              "#7201a8"
             ],
             [
              0.3333333333333333,
              "#9c179e"
             ],
             [
              0.4444444444444444,
              "#bd3786"
             ],
             [
              0.5555555555555556,
              "#d8576b"
             ],
             [
              0.6666666666666666,
              "#ed7953"
             ],
             [
              0.7777777777777778,
              "#fb9f3a"
             ],
             [
              0.8888888888888888,
              "#fdca26"
             ],
             [
              1,
              "#f0f921"
             ]
            ],
            "type": "histogram2dcontour"
           }
          ],
          "mesh3d": [
           {
            "colorbar": {
             "outlinewidth": 0,
             "ticks": ""
            },
            "type": "mesh3d"
           }
          ],
          "parcoords": [
           {
            "line": {
             "colorbar": {
              "outlinewidth": 0,
              "ticks": ""
             }
            },
            "type": "parcoords"
           }
          ],
          "pie": [
           {
            "automargin": true,
            "type": "pie"
           }
          ],
          "scatter": [
           {
            "marker": {
             "line": {
              "color": "#283442"
             }
            },
            "type": "scatter"
           }
          ],
          "scatter3d": [
           {
            "line": {
             "colorbar": {
              "outlinewidth": 0,
              "ticks": ""
             }
            },
            "marker": {
             "colorbar": {
              "outlinewidth": 0,
              "ticks": ""
             }
            },
            "type": "scatter3d"
           }
          ],
          "scattercarpet": [
           {
            "marker": {
             "colorbar": {
              "outlinewidth": 0,
              "ticks": ""
             }
            },
            "type": "scattercarpet"
           }
          ],
          "scattergeo": [
           {
            "marker": {
             "colorbar": {
              "outlinewidth": 0,
              "ticks": ""
             }
            },
            "type": "scattergeo"
           }
          ],
          "scattergl": [
           {
            "marker": {
             "line": {
              "color": "#283442"
             }
            },
            "type": "scattergl"
           }
          ],
          "scattermap": [
           {
            "marker": {
             "colorbar": {
              "outlinewidth": 0,
              "ticks": ""
             }
            },
            "type": "scattermap"
           }
          ],
          "scattermapbox": [
           {
            "marker": {
             "colorbar": {
              "outlinewidth": 0,
              "ticks": ""
             }
            },
            "type": "scattermapbox"
           }
          ],
          "scatterpolar": [
           {
            "marker": {
             "colorbar": {
              "outlinewidth": 0,
              "ticks": ""
             }
            },
            "type": "scatterpolar"
           }
          ],
          "scatterpolargl": [
           {
            "marker": {
             "colorbar": {
              "outlinewidth": 0,
              "ticks": ""
             }
            },
            "type": "scatterpolargl"
           }
          ],
          "scatterternary": [
           {
            "marker": {
             "colorbar": {
              "outlinewidth": 0,
              "ticks": ""
             }
            },
            "type": "scatterternary"
           }
          ],
          "surface": [
           {
            "colorbar": {
             "outlinewidth": 0,
             "ticks": ""
            },
            "colorscale": [
             [
              0,
              "#0d0887"
             ],
             [
              0.1111111111111111,
              "#46039f"
             ],
             [
              0.2222222222222222,
              "#7201a8"
             ],
             [
              0.3333333333333333,
              "#9c179e"
             ],
             [
              0.4444444444444444,
              "#bd3786"
             ],
             [
              0.5555555555555556,
              "#d8576b"
             ],
             [
              0.6666666666666666,
              "#ed7953"
             ],
             [
              0.7777777777777778,
              "#fb9f3a"
             ],
             [
              0.8888888888888888,
              "#fdca26"
             ],
             [
              1,
              "#f0f921"
             ]
            ],
            "type": "surface"
           }
          ],
          "table": [
           {
            "cells": {
             "fill": {
              "color": "#506784"
             },
             "line": {
              "color": "rgb(17,17,17)"
             }
            },
            "header": {
             "fill": {
              "color": "#2a3f5f"
             },
             "line": {
              "color": "rgb(17,17,17)"
             }
            },
            "type": "table"
           }
          ]
         },
         "layout": {
          "annotationdefaults": {
           "arrowcolor": "#f2f5fa",
           "arrowhead": 0,
           "arrowwidth": 1
          },
          "autotypenumbers": "strict",
          "coloraxis": {
           "colorbar": {
            "outlinewidth": 0,
            "ticks": ""
           }
          },
          "colorscale": {
           "diverging": [
            [
             0,
             "#8e0152"
            ],
            [
             0.1,
             "#c51b7d"
            ],
            [
             0.2,
             "#de77ae"
            ],
            [
             0.3,
             "#f1b6da"
            ],
            [
             0.4,
             "#fde0ef"
            ],
            [
             0.5,
             "#f7f7f7"
            ],
            [
             0.6,
             "#e6f5d0"
            ],
            [
             0.7,
             "#b8e186"
            ],
            [
             0.8,
             "#7fbc41"
            ],
            [
             0.9,
             "#4d9221"
            ],
            [
             1,
             "#276419"
            ]
           ],
           "sequential": [
            [
             0,
             "#0d0887"
            ],
            [
             0.1111111111111111,
             "#46039f"
            ],
            [
             0.2222222222222222,
             "#7201a8"
            ],
            [
             0.3333333333333333,
             "#9c179e"
            ],
            [
             0.4444444444444444,
             "#bd3786"
            ],
            [
             0.5555555555555556,
             "#d8576b"
            ],
            [
             0.6666666666666666,
             "#ed7953"
            ],
            [
             0.7777777777777778,
             "#fb9f3a"
            ],
            [
             0.8888888888888888,
             "#fdca26"
            ],
            [
             1,
             "#f0f921"
            ]
           ],
           "sequentialminus": [
            [
             0,
             "#0d0887"
            ],
            [
             0.1111111111111111,
             "#46039f"
            ],
            [
             0.2222222222222222,
             "#7201a8"
            ],
            [
             0.3333333333333333,
             "#9c179e"
            ],
            [
             0.4444444444444444,
             "#bd3786"
            ],
            [
             0.5555555555555556,
             "#d8576b"
            ],
            [
             0.6666666666666666,
             "#ed7953"
            ],
            [
             0.7777777777777778,
             "#fb9f3a"
            ],
            [
             0.8888888888888888,
             "#fdca26"
            ],
            [
             1,
             "#f0f921"
            ]
           ]
          },
          "colorway": [
           "#636efa",
           "#EF553B",
           "#00cc96",
           "#ab63fa",
           "#FFA15A",
           "#19d3f3",
           "#FF6692",
           "#B6E880",
           "#FF97FF",
           "#FECB52"
          ],
          "font": {
           "color": "#f2f5fa"
          },
          "geo": {
           "bgcolor": "rgb(17,17,17)",
           "lakecolor": "rgb(17,17,17)",
           "landcolor": "rgb(17,17,17)",
           "showlakes": true,
           "showland": true,
           "subunitcolor": "#506784"
          },
          "hoverlabel": {
           "align": "left"
          },
          "hovermode": "closest",
          "mapbox": {
           "style": "dark"
          },
          "paper_bgcolor": "rgb(17,17,17)",
          "plot_bgcolor": "rgb(17,17,17)",
          "polar": {
           "angularaxis": {
            "gridcolor": "#506784",
            "linecolor": "#506784",
            "ticks": ""
           },
           "bgcolor": "rgb(17,17,17)",
           "radialaxis": {
            "gridcolor": "#506784",
            "linecolor": "#506784",
            "ticks": ""
           }
          },
          "scene": {
           "xaxis": {
            "backgroundcolor": "rgb(17,17,17)",
            "gridcolor": "#506784",
            "gridwidth": 2,
            "linecolor": "#506784",
            "showbackground": true,
            "ticks": "",
            "zerolinecolor": "#C8D4E3"
           },
           "yaxis": {
            "backgroundcolor": "rgb(17,17,17)",
            "gridcolor": "#506784",
            "gridwidth": 2,
            "linecolor": "#506784",
            "showbackground": true,
            "ticks": "",
            "zerolinecolor": "#C8D4E3"
           },
           "zaxis": {
            "backgroundcolor": "rgb(17,17,17)",
            "gridcolor": "#506784",
            "gridwidth": 2,
            "linecolor": "#506784",
            "showbackground": true,
            "ticks": "",
            "zerolinecolor": "#C8D4E3"
           }
          },
          "shapedefaults": {
           "line": {
            "color": "#f2f5fa"
           }
          },
          "sliderdefaults": {
           "bgcolor": "#C8D4E3",
           "bordercolor": "rgb(17,17,17)",
           "borderwidth": 1,
           "tickwidth": 0
          },
          "ternary": {
           "aaxis": {
            "gridcolor": "#506784",
            "linecolor": "#506784",
            "ticks": ""
           },
           "baxis": {
            "gridcolor": "#506784",
            "linecolor": "#506784",
            "ticks": ""
           },
           "bgcolor": "rgb(17,17,17)",
           "caxis": {
            "gridcolor": "#506784",
            "linecolor": "#506784",
            "ticks": ""
           }
          },
          "title": {
           "x": 0.05
          },
          "updatemenudefaults": {
           "bgcolor": "#506784",
           "borderwidth": 0
          },
          "xaxis": {
           "automargin": true,
           "gridcolor": "#283442",
           "linecolor": "#506784",
           "ticks": "",
           "title": {
            "standoff": 15
           },
           "zerolinecolor": "#283442",
           "zerolinewidth": 2
          },
          "yaxis": {
           "automargin": true,
           "gridcolor": "#283442",
           "linecolor": "#506784",
           "ticks": "",
           "title": {
            "standoff": 15
           },
           "zerolinecolor": "#283442",
           "zerolinewidth": 2
          }
         }
        },
        "xaxis": {
         "anchor": "y",
         "automargin": true,
         "domain": [
          0,
          1
         ],
         "dtick": 1800000,
         "gridcolor": "rgba(128,128,128,0.1)",
         "matches": "x2",
         "range": [
          "2025-08-19T09:00:00-04:00",
          "2025-08-19T16:15:00-04:00"
         ],
         "rangeslider": {
          "visible": false
         },
         "showticklabels": false,
         "zerolinecolor": "rgba(128,128,128,0.1)"
        },
        "xaxis2": {
         "anchor": "y2",
         "automargin": true,
         "domain": [
          0,
          1
         ],
         "dtick": 1800000,
         "gridcolor": "rgba(128,128,128,0.1)",
         "range": [
          "2025-08-19T09:00:00-04:00",
          "2025-08-19T16:15:00-04:00"
         ],
         "title": {
          "text": "Time"
         },
         "zerolinecolor": "rgba(128,128,128,0.1)"
        },
        "yaxis": {
         "anchor": "x",
         "automargin": true,
         "domain": [
          0.3533333333333333,
          0.9999999999999999
         ],
         "dtick": 10,
         "gridcolor": "rgba(128,128,128,0.1)",
         "minor": {
          "dtick": 5,
          "showgrid": false,
          "tickcolor": "rgba(150,150,150,0.5)",
          "ticklen": 2,
          "tickmode": "linear",
          "ticks": "outside",
          "tickwidth": 1
         },
         "range": [
          6397.407,
          6462.106
         ],
         "showgrid": true,
         "showticklabels": true,
         "tickfont": {
          "size": 11
         },
         "ticklabelposition": "outside",
         "ticklen": 4,
         "ticks": "outside",
         "ticksuffix": " ",
         "tickwidth": 1,
         "title": {
          "text": "Price"
         },
         "zeroline": false,
         "zerolinecolor": "rgba(128,128,128,0.1)"
        },
        "yaxis2": {
         "anchor": "x2",
         "automargin": true,
         "domain": [
          0,
          0.3233333333333333
         ],
         "gridcolor": "rgba(128,128,128,0.1)",
         "range": [
          -8.506520378151617,
          1.5810524656761522
         ],
         "showgrid": true,
         "showticklabels": true,
         "side": "left",
         "tickfont": {
          "size": 11
         },
         "ticklabelposition": "outside",
         "ticklen": 4,
         "ticks": "outside",
         "ticksuffix": " ",
         "tickwidth": 1,
         "title": {
          "text": "MACD"
         },
         "zeroline": false,
         "zerolinecolor": "rgba(128,128,128,0.1)"
        }
       }
      }
     },
     "metadata": {},
     "output_type": "display_data"
    }
   ],
   "source": [
    "candles_5m: pl.DataFrame = streamer.download(\n",
    "    symbol=candle_symbol.replace(\"m\", \"5m\"),\n",
    "    start=start,\n",
    "    stop=stop,\n",
    "    debug_mode=True,\n",
    ")\n",
    "\n",
    "_initial_len_5m = candles_5m.height\n",
    "candles_5m = candles_5m.filter(\n",
    "    (pl.col(\"open\") != 0)\n",
    "    & (pl.col(\"high\") != 0)\n",
    "    & (pl.col(\"low\") != 0)\n",
    "    & (pl.col(\"close\") != 0)\n",
    ")\n",
    "_removed_5m = _initial_len_5m - candles_5m.height\n",
    "print(\n",
    "    f\"Removed {_removed_5m} zero-price 5m rows out of {_initial_len_5m} total ({(_removed_5m / _initial_len_5m * 100) if _initial_len_5m else 0:.2f}%).\"\n",
    ")\n",
    "\n",
    "df_macd_5m = macd(\n",
    "    candles_5m,\n",
    "    prior_close=prior_day.close,\n",
    "    fast_length=12,\n",
    "    slow_length=26,\n",
    "    macd_length=9,\n",
    ")\n",
    "\n",
    "plot_macd_with_hull(\n",
    "    df_macd_5m,\n",
    "    pad_value=prior_day.close,\n",
    "    start_time=start,\n",
    "    end_time=stop + timedelta(minutes=15),\n",
    "    horizontal_lines=levels,\n",
    "    vertical_lines=executions,\n",
    ")"
   ]
  },
  {
   "cell_type": "code",
   "execution_count": null,
   "metadata": {},
   "outputs": [],
   "source": []
  },
  {
   "cell_type": "markdown",
   "metadata": {},
   "source": [
    "### Redis Candle Feed Monitor (1m and 5m)\n",
    "\n",
    "Manual workflow to inspect live CandleEvent data at 1m (\"m\") and 5m intervals:\n",
    "\n",
    "1. Run the Subscription Setup cell (next) once to ensure Redis subscriptions are active.\n",
    "2. Run the Manual Poll cell any time you want to pull newly arrived events off the queues.\n",
    "3. (Optional) Re-run the DataFrame Summary cell to view/aggregate everything collected so far.\n",
    "\n",
    "No background loop or timeout is used; you stay in control of when data is fetched."
   ]
  },
  {
   "cell_type": "code",
   "execution_count": null,
   "metadata": {},
   "outputs": [],
   "source": [
    "# import datetime, polars as pl\n",
    "# from tastytrade.providers.subscriptions import RedisSubscription\n",
    "# from tastytrade.messaging.models.events import CandleEvent\n",
    "\n",
    "# SYMBOL = candle_symbol if \"candle_symbol\" in globals() else \"SPX{=1m}\"\n",
    "# base_ticker = SYMBOL.split(\"{=\")[0]\n",
    "# intervals = [\"m\", \"5m\"]\n",
    "# patterns = [f\"market:CandleEvent:{base_ticker}{{={iv}}}\" for iv in intervals]\n",
    "# print(f\"Ensuring subscriptions active for: {patterns}\")\n",
    "\n",
    "# # Reuse existing subscription if possible\n",
    "# redis_sub: RedisSubscription\n",
    "# if \"subscription\" in globals() and isinstance(subscription, RedisSubscription):\n",
    "#     redis_sub = subscription\n",
    "#     if not getattr(redis_sub, \"pubsub\", None):\n",
    "#         await redis_sub.connect()\n",
    "# else:\n",
    "#     redis_sub = RedisSubscription(config)\n",
    "#     await redis_sub.connect()\n",
    "\n",
    "# # Subscribe (idempotent)\n",
    "# for p in patterns:\n",
    "#     await redis_sub.subscribe(p)\n",
    "\n",
    "# # Prepare/restore collection list\n",
    "# if \"collected\" not in globals():\n",
    "#     collected: list[CandleEvent] = []  # type: ignore\n",
    "\n",
    "# print(\"Subscription setup complete. Use the next cell to manually poll for new events.\")"
   ]
  },
  {
   "cell_type": "code",
   "execution_count": null,
   "metadata": {},
   "outputs": [],
   "source": [
    "# # Manual Poll: run this cell whenever you want to retrieve any newly queued CandleEvents\n",
    "# from tastytrade.messaging.models.events import CandleEvent\n",
    "\n",
    "# base_ticker = SYMBOL.split(\"{=\")[0]\n",
    "# new_events = 0\n",
    "# for iv in intervals:\n",
    "#     queue_key = f\"CandleEvent:{base_ticker}{{={iv}}}\"\n",
    "#     queue = redis_sub.queue.get(queue_key)\n",
    "#     if queue is None:\n",
    "#         continue\n",
    "#     while True:\n",
    "#         try:\n",
    "#             evt: CandleEvent = queue.get_nowait()\n",
    "#             collected.append(evt)\n",
    "#             new_events += 1\n",
    "#             print(\n",
    "#                 f\"{evt.eventSymbol} O:{evt.open} H:{evt.high} L:{evt.low} C:{evt.close} @ {evt.tradeDateUTC} {evt.tradeTimeUTC}\"\n",
    "#             )\n",
    "#         except Exception:\n",
    "#             break\n",
    "# print(f\"Added {new_events} new events. Total collected: {len(collected)}\")"
   ]
  },
  {
   "cell_type": "code",
   "execution_count": null,
   "metadata": {},
   "outputs": [],
   "source": [
    "# # Build a Polars DataFrame from collected CandleEvent objects\n",
    "# if \"collected\" in globals() and collected:\n",
    "#     df = pl.DataFrame(\n",
    "#         [\n",
    "#             {\n",
    "#                 \"symbol\": e.eventSymbol,\n",
    "#                 \"interval\": e.eventSymbol.split(\"{=\")[1].rstrip(\"}\"),\n",
    "#                 \"time\": f\"{e.tradeDateUTC} {e.tradeTimeUTC}\",\n",
    "#                 \"open\": e.open,\n",
    "#                 \"high\": e.high,\n",
    "#                 \"low\": e.low,\n",
    "#                 \"close\": e.close,\n",
    "#                 \"volume\": getattr(e, \"volume\", None),\n",
    "#                 \"sequence\": getattr(e, \"sequence\", None),\n",
    "#             }\n",
    "#             for e in collected\n",
    "#         ]\n",
    "#     )\n",
    "#     print(df.tail())\n",
    "\n",
    "#     if df.select(pl.col(\"interval\").n_unique()).item() > 1:\n",
    "#         agg = (\n",
    "#             df.group_by(\"interval\")\n",
    "#             .agg(\n",
    "#                 [\n",
    "#                     pl.col(\"open\").last().alias(\"last_open\"),\n",
    "#                     pl.col(\"high\").max().alias(\"session_high\"),\n",
    "#                     pl.col(\"low\").min().alias(\"session_low\"),\n",
    "#                     pl.col(\"close\").last().alias(\"last_close\"),\n",
    "#                     pl.col(\"time\").last().alias(\"last_time\"),\n",
    "#                 ]\n",
    "#             )\n",
    "#             .sort(\"interval\")\n",
    "#         )\n",
    "#         print(\"\\nSummary by interval:\")\n",
    "#         print(agg)\n",
    "# else:\n",
    "#     print(\"No events collected yet. Run the manual poll cell above first.\")"
   ]
  }
 ],
 "metadata": {
  "kernelspec": {
   "display_name": "tastytrade (3.11.13)",
   "language": "python",
   "name": "python3"
  },
  "language_info": {
   "codemirror_mode": {
    "name": "ipython",
    "version": 3
   },
   "file_extension": ".py",
   "mimetype": "text/x-python",
   "name": "python",
   "nbconvert_exporter": "python",
   "pygments_lexer": "ipython3",
   "version": "3.11.13"
  }
 },
 "nbformat": 4,
 "nbformat_minor": 2
}
