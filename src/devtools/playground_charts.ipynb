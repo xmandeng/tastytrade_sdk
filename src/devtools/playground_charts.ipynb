{
 "cells": [
  {
   "cell_type": "markdown",
   "metadata": {},
   "source": [
    "# Dev Notes\n",
    "\n",
    "Create & save new Influx DB measures:\n",
    "- VerticalLine\n",
    "- HorizontaLine\n",
    "\n",
    "These will need to include start and stop variables so that we don't have lines into perpetuity"
   ]
  },
  {
   "cell_type": "code",
   "execution_count": 1,
   "metadata": {},
   "outputs": [],
   "source": [
    "# Required for PydanticAI to work with Jupyter (nested event loops)\n",
    "import nest_asyncio\n",
    "\n",
    "nest_asyncio.apply()"
   ]
  },
  {
   "cell_type": "code",
   "execution_count": 2,
   "metadata": {},
   "outputs": [],
   "source": [
    "import logging\n",
    "import asyncio\n",
    "import pandas as pd\n",
    "import polars as pl\n",
    "from zoneinfo import ZoneInfo\n",
    "\n",
    "from datetime import datetime, timedelta, timezone\n",
    "\n",
    "import influxdb_client\n",
    "\n",
    "from tastytrade.common.logging import setup_logging\n",
    "\n",
    "from tastytrade.connections import InfluxCredentials\n",
    "\n",
    "from tastytrade.config import RedisConfigManager\n",
    "from tastytrade.providers.market import MarketDataProvider\n",
    "from tastytrade.providers.subscriptions import RedisSubscription\n",
    "\n",
    "from tastytrade.messaging.models.events import CandleEvent\n",
    "\n",
    "from tastytrade.analytics.visualizations.plots import (\n",
    "    plot_macd_with_hull,\n",
    "    HorizontalLine,\n",
    "    VerticalLine,\n",
    ")\n",
    "from tastytrade.analytics.indicators.momentum import macd\n",
    "import re\n",
    "\n",
    "from tastytrade.analytics.visualizations.utils import get_opening_range\n",
    "\n",
    "import pytz"
   ]
  },
  {
   "cell_type": "code",
   "execution_count": 3,
   "metadata": {},
   "outputs": [
    {
     "name": "stderr",
     "output_type": "stream",
     "text": [
      "2025-10-31 01:37:07 - INFO:root:62:Logging initialized - writing to ../logs/dev_tastytrade_20251031.log\n"
     ]
    }
   ],
   "source": [
    "# Show all rows in pandas DataFrames\n",
    "pd.set_option(\"display.max_rows\", 100)\n",
    "pd.set_option(\"display.max_columns\", None)\n",
    "pd.set_option(\"display.width\", None)\n",
    "pd.set_option(\"display.max_colwidth\", None)\n",
    "\n",
    "logging.getLogger().handlers.clear()\n",
    "\n",
    "TEST = True\n",
    "ENV = \"Live\"\n",
    "DURATION = 15\n",
    "\n",
    "EDT = 5\n",
    "\n",
    "setup_logging(\n",
    "    level=logging.INFO,\n",
    "    log_dir=\"../logs\",\n",
    "    filename_prefix=f\"{'dev' if TEST else 'prod'}_tastytrade\",\n",
    "    console=True,\n",
    "    file=True,\n",
    ")\n",
    "\n",
    "loop = asyncio.get_event_loop()\n",
    "loop.set_debug(True)\n",
    "logging.getLogger(\"asyncio\").setLevel(logging.DEBUG)"
   ]
  },
  {
   "cell_type": "markdown",
   "metadata": {},
   "source": [
    "# Market Data Subscriptions"
   ]
  },
  {
   "cell_type": "code",
   "execution_count": 4,
   "metadata": {},
   "outputs": [
    {
     "name": "stderr",
     "output_type": "stream",
     "text": [
      "2025-10-31 01:37:07 - INFO:tastytrade.config.manager:174:Initialized 19 variables from .env file in Redis\n"
     ]
    },
    {
     "name": "stderr",
     "output_type": "stream",
     "text": [
      "2025-10-31 01:37:07 - INFO:tastytrade.providers.subscriptions:72:Listening to Redis at redis://redis:6379/0\n"
     ]
    }
   ],
   "source": [
    "config = RedisConfigManager(env_file=\"/workspace/.env\")\n",
    "config.initialize()\n",
    "\n",
    "influxdb = influxdb_client.InfluxDBClient(\n",
    "    url=InfluxCredentials(config=config).url,\n",
    "    token=InfluxCredentials(config=config).token,\n",
    "    org=InfluxCredentials(config=config).org,\n",
    ")\n",
    "\n",
    "subscription = RedisSubscription(config=RedisConfigManager())\n",
    "await subscription.connect()\n",
    "\n",
    "streamer = MarketDataProvider(subscription, influxdb)"
   ]
  },
  {
   "cell_type": "markdown",
   "metadata": {},
   "source": [
    "# Date Setup"
   ]
  },
  {
   "cell_type": "code",
   "execution_count": 5,
   "metadata": {},
   "outputs": [],
   "source": [
    "date = datetime.now(ZoneInfo(\"America/New_York\"))\n",
    "if date < datetime(date.year, date.month, date.day, 9, 30, tzinfo=date.tzinfo):\n",
    "    date -= timedelta(days=1)\n",
    "    "
   ]
  },
  {
   "cell_type": "code",
   "execution_count": 6,
   "metadata": {},
   "outputs": [],
   "source": [
    "# Use ET timezone\n",
    "date = datetime.now(ZoneInfo(\"America/New_York\"))\n",
    "# date = datetime(2025, 9, 26, tzinfo=ZoneInfo(\"America/New_York\"))\n",
    "\n",
    "# Roll back to prior day if pre-market\n",
    "# if date < datetime(date.year, date.month, date.day, 9, 30, tzinfo=date.tzinfo):\n",
    "#     date -= timedelta(days=1)\n",
    "\n",
    "# Roll back to prior Friday if weekend\n",
    "# if date.weekday() == 5:       # Saturday\n",
    "#     date -= timedelta(days=1)\n",
    "# elif date.weekday() == 6:     # Sunday\n",
    "#     date -= timedelta(days=2)\n",
    "    \n",
    "market_open = datetime(date.year, date.month, date.day, 9, 30, tzinfo=date.tzinfo)\n",
    "morning_end = datetime(date.year, date.month, date.day, 11, 30, tzinfo=date.tzinfo)\n",
    "lunch_end = datetime(date.year, date.month, date.day, 13, 30, tzinfo=date.tzinfo)\n",
    "market_close = datetime(date.year, date.month, date.day, 16, 0, tzinfo=date.tzinfo)\n",
    "\n",
    "start = market_open.astimezone(timezone.utc) - timedelta(minutes=30)\n",
    "stop = market_close.astimezone(timezone.utc)\n"
   ]
  },
  {
   "cell_type": "code",
   "execution_count": 7,
   "metadata": {},
   "outputs": [],
   "source": [
    "# market_open = datetime(date.year, date.month, date.day, 9, 30, tzinfo=date.tzinfo)\n",
    "# market_open"
   ]
  },
  {
   "cell_type": "code",
   "execution_count": 8,
   "metadata": {},
   "outputs": [],
   "source": [
    "streamer = MarketDataProvider(subscription, influxdb)\n",
    "\n"
   ]
  },
  {
   "cell_type": "code",
   "execution_count": 9,
   "metadata": {},
   "outputs": [],
   "source": [
    "candle_symbol = \"SPX{=m}\"\n",
    "# candle_symbol = \"BTC/USD:CXTALP{=m}\"\n",
    "\n",
    "prior_day: CandleEvent = CandleEvent(\n",
    "    **(\n",
    "        streamer.download(\n",
    "            symbol=re.sub(r\"\\{=.*?\\}\", \"{=d}\", candle_symbol),\n",
    "            start=market_open.date() + timedelta(days=-1),\n",
    "            stop=market_open.date(),\n",
    "            debug_mode=True,\n",
    "        )\n",
    "        .to_dicts()\n",
    "        .pop()\n",
    "    )\n",
    ")"
   ]
  },
  {
   "cell_type": "code",
   "execution_count": 10,
   "metadata": {},
   "outputs": [
    {
     "name": "stderr",
     "output_type": "stream",
     "text": [
      "2025-10-31 01:37:07 - INFO:tastytrade.analytics.visualizations.utils:92:Opening range for SPX{=m} (5m): High=6860.5, Low=6850.18\n"
     ]
    },
    {
     "name": "stderr",
     "output_type": "stream",
     "text": [
      "2025-10-31 01:37:07 - INFO:tastytrade.analytics.visualizations.utils:92:Opening range for SPX{=m} (15m): High=6860.5, Low=6834.93\n",
      "2025-10-31 01:37:07 - INFO:tastytrade.analytics.visualizations.utils:92:Opening range for SPX{=m} (30m): High=6879.11, Low=6834.93\n"
     ]
    }
   ],
   "source": [
    "or5 = await get_opening_range(\n",
    "    streamer,\n",
    "    \"SPX{=m}\",\n",
    "    5,\n",
    "    date=start.date(),\n",
    ")\n",
    "\n",
    "or15 = await get_opening_range(\n",
    "    streamer,\n",
    "    \"SPX{=m}\",\n",
    "    15,\n",
    "    date=start.date(),\n",
    ")\n",
    "\n",
    "or30 = await get_opening_range(\n",
    "    streamer,\n",
    "    \"SPX{=m}\",\n",
    "    30,\n",
    "    date=start.date(),\n",
    ")"
   ]
  },
  {
   "cell_type": "code",
   "execution_count": 11,
   "metadata": {},
   "outputs": [],
   "source": [
    "levels = []"
   ]
  },
  {
   "cell_type": "code",
   "execution_count": 12,
   "metadata": {},
   "outputs": [],
   "source": [
    "levels = [\n",
    "    HorizontalLine(\n",
    "        price=prior_day.close,\n",
    "        color=\"#FF66FE\",  # Orange\n",
    "        line_dash=\"dot\",\n",
    "        label_font_size=10.5,\n",
    "        label=\"prior close\",\n",
    "        opacity=0.45,\n",
    "        end_time=market_close,\n",
    "    ),\n",
    "    HorizontalLine(\n",
    "        price=prior_day.high,\n",
    "        color=\"#4CAF50\",  # Green\n",
    "        line_dash=\"dot\",\n",
    "        label_font_size=10.5,\n",
    "        label=\"prior high\",\n",
    "        opacity=0.45,\n",
    "        end_time=market_close,\n",
    "    ),\n",
    "    HorizontalLine(\n",
    "        price=prior_day.low,\n",
    "        color=\"#F44336\",  # Red\n",
    "        line_dash=\"dot\",\n",
    "        label_font_size=10.5,\n",
    "        label=\"prior low\",\n",
    "        opacity=0.45,\n",
    "        end_time=market_close,\n",
    "    ),\n",
    "    HorizontalLine(\n",
    "        price=or5.high,\n",
    "        start_time=market_open,\n",
    "        end_time=market_close,\n",
    "        color=\"#4CAF50\",  # Green\n",
    "        line_dash=\"solid\",\n",
    "        opacity=0.75,\n",
    "        # label=\"5min hi\",\n",
    "    ),\n",
    "    HorizontalLine(\n",
    "        price=or5.low,\n",
    "        start_time=market_open,\n",
    "        end_time=market_close,\n",
    "        color=\"#4CAF50\",  # Green\n",
    "        line_dash=\"solid\",\n",
    "        opacity=0.75,\n",
    "    ),\n",
    "    HorizontalLine(\n",
    "        price=or15.high,\n",
    "        start_time=market_open + timedelta(minutes=15),\n",
    "        end_time=market_close,\n",
    "        color=\"#4CAF50\",  # Green\n",
    "        line_dash=\"solid\",\n",
    "        opacity=0.45 if or15.high != or5.high else 0.0,\n",
    "    ),\n",
    "    HorizontalLine(\n",
    "        price=or15.low,\n",
    "        start_time=market_open + timedelta(minutes=15),\n",
    "        end_time=market_close,\n",
    "        color=\"#4CAF50\",  # Green\n",
    "        line_dash=\"solid\",\n",
    "        opacity=0.45 if or15.low != or5.low else 0.0,\n",
    "    ),\n",
    "    HorizontalLine(\n",
    "        price=or30.high,\n",
    "        start_time=market_open + timedelta(minutes=30),\n",
    "        end_time=market_close,\n",
    "        color=\"#4CAF50\",  # Green\n",
    "        line_dash=\"dot\",\n",
    "        opacity=0.45 if or30.high != or15.high else 0.0,\n",
    "    ),\n",
    "    HorizontalLine(\n",
    "        price=or30.low,\n",
    "        start_time=market_open + timedelta(minutes=30),\n",
    "        end_time=market_close,\n",
    "        color=\"#4CAF50\",  # Green\n",
    "        line_dash=\"dot\",\n",
    "        opacity=0.45 if or30.low != or15.low else 0.0,\n",
    "    ),\n",
    "    HorizontalLine(\n",
    "        price=or30.low,\n",
    "        start_time=market_open + timedelta(minutes=30),\n",
    "        end_time=market_close,\n",
    "        color=\"#4CAF50\",  # Green\n",
    "        line_dash=\"dot\",\n",
    "        opacity=0.45 if or30.low != or15.low else 0.0,\n",
    "    ),\n",
    "    # HorizontalLine(\n",
    "    #     price=5903,\n",
    "    #     start_time=datetime(2025, 5, 29, 9, 40, tzinfo=et_tz),\n",
    "    #     color=\"#555555\",  # Green\n",
    "    #     line_dash=\"dot\",\n",
    "    #     label=\"Bearish\",\n",
    "    #     # opacity=0.45 if or30.low != or15.low else 0.0,\n",
    "    # ),\n",
    "    # HorizontalLine(\n",
    "    #     price=5893,\n",
    "    #     start_time=datetime(2025, 5, 29, 11, 30, tzinfo=et_tz),\n",
    "    #     color=\"#555555\",  # Green\n",
    "    #     line_dash=\"dot\",\n",
    "    #     label=\"Bullish\",\n",
    "    #     # opacity=0.45 if or30.low != or15.low else 0.0,\n",
    "    # ),\n",
    "    # HorizontalLine(\n",
    "    #     price=5432,\n",
    "    #     start_time=datetime(2025, 4, 15, 10, 17, tzinfo=et_tz),\n",
    "    #     color=\"#555555\",  # Green\n",
    "    #     line_dash=\"dot\",\n",
    "    #     opacity=1,\n",
    "    # ),\n",
    "]"
   ]
  },
  {
   "cell_type": "code",
   "execution_count": 13,
   "metadata": {},
   "outputs": [],
   "source": [
    "executions = [\n",
    "    VerticalLine(\n",
    "        time=datetime(date.year, date.month, date.day, 14, 30, tzinfo=date.tzinfo),\n",
    "        color=\"#555555\",\n",
    "        line_dash=\"dot\",\n",
    "        label=\"Open\",\n",
    "    ),\n",
    "    # VerticalLine(\n",
    "    #     time=datetime(2025, 2, 26, 14, 30) + timedelta(hours=4, minutes=50),\n",
    "    #     color=\"#555555\",\n",
    "    #     line_dash=\"dot\",\n",
    "    #     label=\"Close\",\n",
    "    # ),\n",
    "    # VerticalLine(\n",
    "    #     time=datetime(2025, 2, 27, 14, 30) + timedelta(minutes=20),\n",
    "    #     color=\"#555555\",\n",
    "    #     line_dash=\"dot\",\n",
    "    #     label=\"Open\",\n",
    "    # ),\n",
    "    # VerticalLine(\n",
    "    #     time=datetime(2025, 2, 28, 14, 30) + timedelta(hours=1, minutes=40),\n",
    "    #     color=\"#555555\",\n",
    "    #     line_dash=\"dot\",\n",
    "    #     label=\"Open\",\n",
    "    # ),\n",
    "    # VerticalLine(\n",
    "    #     time=datetime(2025, 2, 28, 14, 30) + timedelta(hours=4, minutes=0),\n",
    "    #     color=\"#555555\",\n",
    "    #     line_dash=\"dot\",\n",
    "    #     label=\"Close\",\n",
    "    # ),\n",
    "    # VerticalLine(\n",
    "    #     time=datetime(2025, 3, 3, 14, 30) + timedelta(hours=0, minutes=20),\n",
    "    #     color=\"#555555\",\n",
    "    #     line_dash=\"dot\",\n",
    "    #     label=\"Open\",\n",
    "    # ),\n",
    "    # VerticalLine(\n",
    "    #     time=datetime(2025, 3, 4, 14, 30) + timedelta(hours=1, minutes=10),\n",
    "    #     color=\"#555555\",\n",
    "    #     line_dash=\"dot\",\n",
    "    #     label=\"Pass\",\n",
    "    # ),\n",
    "    # VerticalLine(\n",
    "    #     time=datetime(2025, 3, 4, 14, 30) + timedelta(hours=2, minutes=10),\n",
    "    #     color=\"#555555\",\n",
    "    #     line_dash=\"dot\",\n",
    "    #     label=\"Open\",\n",
    "    # ),\n",
    "    # VerticalLine(\n",
    "    #     time=datetime(2025, 3, 6, 14, 30) + timedelta(hours=0, minutes=45),\n",
    "    #     color=\"#555555\",\n",
    "    #     line_dash=\"dot\",\n",
    "    #     label=\"Pass\",\n",
    "    # ),\n",
    "    # VerticalLine(\n",
    "    #     time=datetime(2025, 3, 6, 14, 30) + timedelta(hours=2, minutes=10),\n",
    "    #     color=\"#555555\",\n",
    "    #     line_dash=\"dot\",\n",
    "    #     label=\"Open\",\n",
    "    # ),\n",
    "    # VerticalLine(\n",
    "    #     time=datetime(2025, 3, 7, 14, 30) + timedelta(hours=0, minutes=45),\n",
    "    #     color=\"#555555\",\n",
    "    #     line_dash=\"dot\",\n",
    "    #     label=\"Open\",\n",
    "    # ),\n",
    "    # VerticalLine(\n",
    "    #     time=datetime(2025, 3, 7, 14, 30) + timedelta(hours=2, minutes=55),\n",
    "    #     color=\"#555555\",\n",
    "    #     line_dash=\"dot\",\n",
    "    #     label=\"Open\",\n",
    "    # ),\n",
    "    # VerticalLine(\n",
    "    #     time=datetime(2025, 3, 13, 10, 20, tzinfo=et_tz),\n",
    "    #     color=\"#555555\",\n",
    "    #     line_dash=\"dot\",\n",
    "    #     label=\"Open\",\n",
    "    # ),\n",
    "    # VerticalLine(\n",
    "    #     time=datetime(2025, 3, 13, 10, 45, tzinfo=et_tz),\n",
    "    #     color=\"#555555\",\n",
    "    #     line_dash=\"dot\",\n",
    "    #     label=\"Open\",\n",
    "    # ),\n",
    "    # VerticalLine(\n",
    "    #     time=datetime(2025, 3, 18, 10, 40, tzinfo=et_tz),\n",
    "    #     color=\"#555555\",\n",
    "    #     line_dash=\"dot\",\n",
    "    #     label=\"Open\",\n",
    "    # ),\n",
    "    # VerticalLine(\n",
    "    #     time=datetime(2025, 3, 19, 10, 35, tzinfo=et_tz),\n",
    "    #     color=\"#555555\",\n",
    "    #     line_dash=\"dot\",\n",
    "    #     label=\"Open\",\n",
    "    # ),\n",
    "    # VerticalLine(\n",
    "    #     time=datetime(2025, 3, 20, 11, 34, 32, tzinfo=et_tz),\n",
    "    #     color=\"#555555\",\n",
    "    #     line_dash=\"dot\",\n",
    "    #     label=\"Open\",\n",
    "    # ),\n",
    "    # VerticalLine(\n",
    "    #     time=datetime(2025, 3, 20, 12, 15, 8, tzinfo=et_tz),\n",
    "    #     color=\"#555555\",\n",
    "    #     line_dash=\"dot\",\n",
    "    #     label=\"Close\",\n",
    "    # ),\n",
    "    # VerticalLine(\n",
    "    #     time=datetime(2025, 3, 20, 13, 9, 34, tzinfo=et_tz),\n",
    "    #     color=\"#555555\",\n",
    "    #     line_dash=\"dot\",\n",
    "    #     label=\"Open\",\n",
    "    # ),\n",
    "    # VerticalLine(\n",
    "    #     time=datetime(2025, 4, 1, 10, 35, tzinfo=et_tz),\n",
    "    #     color=\"#555555\",\n",
    "    #     line_dash=\"dot\",\n",
    "    #     label=\"Open\",\n",
    "    # ),\n",
    "    # VerticalLine(\n",
    "    #     time=datetime(2025, 4, 8, 10, 42, tzinfo=et_tz),\n",
    "    #     color=\"#555555\",\n",
    "    #     line_dash=\"dot\",\n",
    "    #     label=\"Open\",\n",
    "    # ),\n",
    "    # VerticalLine(\n",
    "    #     time=datetime(2025, 4, 15, 10, 17, tzinfo=et_tz),\n",
    "    #     color=\"#555555\",\n",
    "    #     line_dash=\"dot\",\n",
    "    #     label=\"Open\",\n",
    "    # ),\n",
    "    # VerticalLine(\n",
    "    #     time=datetime(2025, 5, 29, 10, 11, tzinfo=et_tz),\n",
    "    #     color=\"#555555\",\n",
    "    #     line_dash=\"dot\",\n",
    "    #     label=\"Open\",\n",
    "    # ),\n",
    "    # VerticalLine(\n",
    "    #     time=datetime(2025, 5, 29, 12, 11, tzinfo=et_tz),\n",
    "    #     color=\"#555555\",\n",
    "    #     line_dash=\"dot\",\n",
    "    #     label=\"Close\",\n",
    "    # ),\n",
    "]"
   ]
  },
  {
   "cell_type": "code",
   "execution_count": 14,
   "metadata": {},
   "outputs": [
    {
     "name": "stdout",
     "output_type": "stream",
     "text": [
      "Removed 0 zero-price rows out of 420 total (0.00%).\n"
     ]
    },
    {
     "data": {
      "application/vnd.plotly.v1+json": {
       "config": {
        "plotlyServerURL": "https://plot.ly"
       },
       "data": [
        {
         "close": {
          "bdata": "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",
          "dtype": "f8"
         },
         "decreasing": {
          "fillcolor": "#EF5350",
          "line": {
           "color": "#EF5350"
          }
         },
         "high": {
          "bdata": "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",
          "dtype": "f8"
         },
         "increasing": {
          "fillcolor": "rgba(19, 19, 19, 0.1)",
          "line": {
           "color": "#4CAF50"
          }
         },
         "line": {
          "width": 0.75
         },
         "low": {
          "bdata": "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",
          "dtype": "f8"
         },
         "name": "Price",
         "open": {
          "bdata": "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",
          "dtype": "f8"
         },
         "showlegend": false,
         "type": "candlestick",
         "x": [
          "2025-10-30T09:00:00.000000000",
          "2025-10-30T09:01:00.000000000",
          "2025-10-30T09:02:00.000000000",
          "2025-10-30T09:03:00.000000000",
          "2025-10-30T09:04:00.000000000",
          "2025-10-30T09:05:00.000000000",
          "2025-10-30T09:06:00.000000000",
          "2025-10-30T09:07:00.000000000",
          "2025-10-30T09:08:00.000000000",
          "2025-10-30T09:09:00.000000000",
          "2025-10-30T09:10:00.000000000",
          "2025-10-30T09:11:00.000000000",
          "2025-10-30T09:12:00.000000000",
          "2025-10-30T09:13:00.000000000",
          "2025-10-30T09:14:00.000000000",
          "2025-10-30T09:15:00.000000000",
          "2025-10-30T09:16:00.000000000",
          "2025-10-30T09:17:00.000000000",
          "2025-10-30T09:18:00.000000000",
          "2025-10-30T09:19:00.000000000",
          "2025-10-30T09:20:00.000000000",
          "2025-10-30T09:21:00.000000000",
          "2025-10-30T09:22:00.000000000",
          "2025-10-30T09:23:00.000000000",
          "2025-10-30T09:24:00.000000000",
          "2025-10-30T09:25:00.000000000",
          "2025-10-30T09:26:00.000000000",
          "2025-10-30T09:27:00.000000000",
          "2025-10-30T09:28:00.000000000",
          "2025-10-30T09:29:00.000000000",
          "2025-10-30T09:30:00.000000000",
          "2025-10-30T09:31:00.000000000",
          "2025-10-30T09:32:00.000000000",
          "2025-10-30T09:33:00.000000000",
          "2025-10-30T09:34:00.000000000",
          "2025-10-30T09:35:00.000000000",
          "2025-10-30T09:36:00.000000000",
          "2025-10-30T09:37:00.000000000",
          "2025-10-30T09:38:00.000000000",
          "2025-10-30T09:39:00.000000000",
          "2025-10-30T09:40:00.000000000",
          "2025-10-30T09:41:00.000000000",
          "2025-10-30T09:42:00.000000000",
          "2025-10-30T09:43:00.000000000",
          "2025-10-30T09:44:00.000000000",
          "2025-10-30T09:45:00.000000000",
          "2025-10-30T09:46:00.000000000",
          "2025-10-30T09:47:00.000000000",
          "2025-10-30T09:48:00.000000000",
          "2025-10-30T09:49:00.000000000",
          "2025-10-30T09:50:00.000000000",
          "2025-10-30T09:51:00.000000000",
          "2025-10-30T09:52:00.000000000",
          "2025-10-30T09:53:00.000000000",
          "2025-10-30T09:54:00.000000000",
          "2025-10-30T09:55:00.000000000",
          "2025-10-30T09:56:00.000000000",
          "2025-10-30T09:57:00.000000000",
          "2025-10-30T09:58:00.000000000",
          "2025-10-30T09:59:00.000000000",
          "2025-10-30T10:00:00.000000000",
          "2025-10-30T10:01:00.000000000",
          "2025-10-30T10:02:00.000000000",
          "2025-10-30T10:03:00.000000000",
          "2025-10-30T10:04:00.000000000",
          "2025-10-30T10:05:00.000000000",
          "2025-10-30T10:06:00.000000000",
          "2025-10-30T10:07:00.000000000",
          "2025-10-30T10:08:00.000000000",
          "2025-10-30T10:09:00.000000000",
          "2025-10-30T10:10:00.000000000",
          "2025-10-30T10:11:00.000000000",
          "2025-10-30T10:12:00.000000000",
          "2025-10-30T10:13:00.000000000",
          "2025-10-30T10:14:00.000000000",
          "2025-10-30T10:15:00.000000000",
          "2025-10-30T10:16:00.000000000",
          "2025-10-30T10:17:00.000000000",
          "2025-10-30T10:18:00.000000000",
          "2025-10-30T10:19:00.000000000",
          "2025-10-30T10:20:00.000000000",
          "2025-10-30T10:21:00.000000000",
          "2025-10-30T10:22:00.000000000",
          "2025-10-30T10:23:00.000000000",
          "2025-10-30T10:24:00.000000000",
          "2025-10-30T10:25:00.000000000",
          "2025-10-30T10:26:00.000000000",
          "2025-10-30T10:27:00.000000000",
          "2025-10-30T10:28:00.000000000",
          "2025-10-30T10:29:00.000000000",
          "2025-10-30T10:30:00.000000000",
          "2025-10-30T10:31:00.000000000",
          "2025-10-30T10:32:00.000000000",
          "2025-10-30T10:33:00.000000000",
          "2025-10-30T10:34:00.000000000",
          "2025-10-30T10:35:00.000000000",
          "2025-10-30T10:36:00.000000000",
          "2025-10-30T10:37:00.000000000",
          "2025-10-30T10:38:00.000000000",
          "2025-10-30T10:39:00.000000000",
          "2025-10-30T10:40:00.000000000",
          "2025-10-30T10:41:00.000000000",
          "2025-10-30T10:42:00.000000000",
          "2025-10-30T10:43:00.000000000",
          "2025-10-30T10:44:00.000000000",
          "2025-10-30T10:45:00.000000000",
          "2025-10-30T10:46:00.000000000",
          "2025-10-30T10:47:00.000000000",
          "2025-10-30T10:48:00.000000000",
          "2025-10-30T10:49:00.000000000",
          "2025-10-30T10:50:00.000000000",
          "2025-10-30T10:51:00.000000000",
          "2025-10-30T10:52:00.000000000",
          "2025-10-30T10:53:00.000000000",
          "2025-10-30T10:54:00.000000000",
          "2025-10-30T10:55:00.000000000",
          "2025-10-30T10:56:00.000000000",
          "2025-10-30T10:57:00.000000000",
          "2025-10-30T10:58:00.000000000",
          "2025-10-30T10:59:00.000000000",
          "2025-10-30T11:00:00.000000000",
          "2025-10-30T11:01:00.000000000",
          "2025-10-30T11:02:00.000000000",
          "2025-10-30T11:03:00.000000000",
          "2025-10-30T11:04:00.000000000",
          "2025-10-30T11:05:00.000000000",
          "2025-10-30T11:06:00.000000000",
          "2025-10-30T11:07:00.000000000",
          "2025-10-30T11:08:00.000000000",
          "2025-10-30T11:09:00.000000000",
          "2025-10-30T11:10:00.000000000",
          "2025-10-30T11:11:00.000000000",
          "2025-10-30T11:12:00.000000000",
          "2025-10-30T11:13:00.000000000",
          "2025-10-30T11:14:00.000000000",
          "2025-10-30T11:15:00.000000000",
          "2025-10-30T11:16:00.000000000",
          "2025-10-30T11:17:00.000000000",
          "2025-10-30T11:18:00.000000000",
          "2025-10-30T11:19:00.000000000",
          "2025-10-30T11:20:00.000000000",
          "2025-10-30T11:21:00.000000000",
          "2025-10-30T11:22:00.000000000",
          "2025-10-30T11:23:00.000000000",
          "2025-10-30T11:24:00.000000000",
          "2025-10-30T11:25:00.000000000",
          "2025-10-30T11:26:00.000000000",
          "2025-10-30T11:27:00.000000000",
          "2025-10-30T11:28:00.000000000",
          "2025-10-30T11:29:00.000000000",
          "2025-10-30T11:30:00.000000000",
          "2025-10-30T11:31:00.000000000",
          "2025-10-30T11:32:00.000000000",
          "2025-10-30T11:33:00.000000000",
          "2025-10-30T11:34:00.000000000",
          "2025-10-30T11:35:00.000000000",
          "2025-10-30T11:36:00.000000000",
          "2025-10-30T11:37:00.000000000",
          "2025-10-30T11:38:00.000000000",
          "2025-10-30T11:39:00.000000000",
          "2025-10-30T11:40:00.000000000",
          "2025-10-30T11:41:00.000000000",
          "2025-10-30T11:42:00.000000000",
          "2025-10-30T11:43:00.000000000",
          "2025-10-30T11:44:00.000000000",
          "2025-10-30T11:45:00.000000000",
          "2025-10-30T11:46:00.000000000",
          "2025-10-30T11:47:00.000000000",
          "2025-10-30T11:48:00.000000000",
          "2025-10-30T11:49:00.000000000",
          "2025-10-30T11:50:00.000000000",
          "2025-10-30T11:51:00.000000000",
          "2025-10-30T11:52:00.000000000",
          "2025-10-30T11:53:00.000000000",
          "2025-10-30T11:54:00.000000000",
          "2025-10-30T11:55:00.000000000",
          "2025-10-30T11:56:00.000000000",
          "2025-10-30T11:57:00.000000000",
          "2025-10-30T11:58:00.000000000",
          "2025-10-30T11:59:00.000000000",
          "2025-10-30T12:00:00.000000000",
          "2025-10-30T12:01:00.000000000",
          "2025-10-30T12:02:00.000000000",
          "2025-10-30T12:03:00.000000000",
          "2025-10-30T12:04:00.000000000",
          "2025-10-30T12:05:00.000000000",
          "2025-10-30T12:06:00.000000000",
          "2025-10-30T12:07:00.000000000",
          "2025-10-30T12:08:00.000000000",
          "2025-10-30T12:09:00.000000000",
          "2025-10-30T12:10:00.000000000",
          "2025-10-30T12:11:00.000000000",
          "2025-10-30T12:12:00.000000000",
          "2025-10-30T12:13:00.000000000",
          "2025-10-30T12:14:00.000000000",
          "2025-10-30T12:15:00.000000000",
          "2025-10-30T12:16:00.000000000",
          "2025-10-30T12:17:00.000000000",
          "2025-10-30T12:18:00.000000000",
          "2025-10-30T12:19:00.000000000",
          "2025-10-30T12:20:00.000000000",
          "2025-10-30T12:21:00.000000000",
          "2025-10-30T12:22:00.000000000",
          "2025-10-30T12:23:00.000000000",
          "2025-10-30T12:24:00.000000000",
          "2025-10-30T12:25:00.000000000",
          "2025-10-30T12:26:00.000000000",
          "2025-10-30T12:27:00.000000000",
          "2025-10-30T12:28:00.000000000",
          "2025-10-30T12:29:00.000000000",
          "2025-10-30T12:30:00.000000000",
          "2025-10-30T12:31:00.000000000",
          "2025-10-30T12:32:00.000000000",
          "2025-10-30T12:33:00.000000000",
          "2025-10-30T12:34:00.000000000",
          "2025-10-30T12:35:00.000000000",
          "2025-10-30T12:36:00.000000000",
          "2025-10-30T12:37:00.000000000",
          "2025-10-30T12:38:00.000000000",
          "2025-10-30T12:39:00.000000000",
          "2025-10-30T12:40:00.000000000",
          "2025-10-30T12:41:00.000000000",
          "2025-10-30T12:42:00.000000000",
          "2025-10-30T12:43:00.000000000",
          "2025-10-30T12:44:00.000000000",
          "2025-10-30T12:45:00.000000000",
          "2025-10-30T12:46:00.000000000",
          "2025-10-30T12:47:00.000000000",
          "2025-10-30T12:48:00.000000000",
          "2025-10-30T12:49:00.000000000",
          "2025-10-30T12:50:00.000000000",
          "2025-10-30T12:51:00.000000000",
          "2025-10-30T12:52:00.000000000",
          "2025-10-30T12:53:00.000000000",
          "2025-10-30T12:54:00.000000000",
          "2025-10-30T12:55:00.000000000",
          "2025-10-30T12:56:00.000000000",
          "2025-10-30T12:57:00.000000000",
          "2025-10-30T12:58:00.000000000",
          "2025-10-30T12:59:00.000000000",
          "2025-10-30T13:00:00.000000000",
          "2025-10-30T13:01:00.000000000",
          "2025-10-30T13:02:00.000000000",
          "2025-10-30T13:03:00.000000000",
          "2025-10-30T13:04:00.000000000",
          "2025-10-30T13:05:00.000000000",
          "2025-10-30T13:06:00.000000000",
          "2025-10-30T13:07:00.000000000",
          "2025-10-30T13:08:00.000000000",
          "2025-10-30T13:09:00.000000000",
          "2025-10-30T13:10:00.000000000",
          "2025-10-30T13:11:00.000000000",
          "2025-10-30T13:12:00.000000000",
          "2025-10-30T13:13:00.000000000",
          "2025-10-30T13:14:00.000000000",
          "2025-10-30T13:15:00.000000000",
          "2025-10-30T13:16:00.000000000",
          "2025-10-30T13:17:00.000000000",
          "2025-10-30T13:18:00.000000000",
          "2025-10-30T13:19:00.000000000",
          "2025-10-30T13:20:00.000000000",
          "2025-10-30T13:21:00.000000000",
          "2025-10-30T13:22:00.000000000",
          "2025-10-30T13:23:00.000000000",
          "2025-10-30T13:24:00.000000000",
          "2025-10-30T13:25:00.000000000",
          "2025-10-30T13:26:00.000000000",
          "2025-10-30T13:27:00.000000000",
          "2025-10-30T13:28:00.000000000",
          "2025-10-30T13:29:00.000000000",
          "2025-10-30T13:30:00.000000000",
          "2025-10-30T13:31:00.000000000",
          "2025-10-30T13:32:00.000000000",
          "2025-10-30T13:33:00.000000000",
          "2025-10-30T13:34:00.000000000",
          "2025-10-30T13:35:00.000000000",
          "2025-10-30T13:36:00.000000000",
          "2025-10-30T13:37:00.000000000",
          "2025-10-30T13:38:00.000000000",
          "2025-10-30T13:39:00.000000000",
          "2025-10-30T13:40:00.000000000",
          "2025-10-30T13:41:00.000000000",
          "2025-10-30T13:42:00.000000000",
          "2025-10-30T13:43:00.000000000",
          "2025-10-30T13:44:00.000000000",
          "2025-10-30T13:45:00.000000000",
          "2025-10-30T13:46:00.000000000",
          "2025-10-30T13:47:00.000000000",
          "2025-10-30T13:48:00.000000000",
          "2025-10-30T13:49:00.000000000",
          "2025-10-30T13:50:00.000000000",
          "2025-10-30T13:51:00.000000000",
          "2025-10-30T13:52:00.000000000",
          "2025-10-30T13:53:00.000000000",
          "2025-10-30T13:54:00.000000000",
          "2025-10-30T13:55:00.000000000",
          "2025-10-30T13:56:00.000000000",
          "2025-10-30T13:57:00.000000000",
          "2025-10-30T13:58:00.000000000",
          "2025-10-30T13:59:00.000000000",
          "2025-10-30T14:00:00.000000000",
          "2025-10-30T14:01:00.000000000",
          "2025-10-30T14:02:00.000000000",
          "2025-10-30T14:03:00.000000000",
          "2025-10-30T14:04:00.000000000",
          "2025-10-30T14:05:00.000000000",
          "2025-10-30T14:06:00.000000000",
          "2025-10-30T14:07:00.000000000",
          "2025-10-30T14:08:00.000000000",
          "2025-10-30T14:09:00.000000000",
          "2025-10-30T14:10:00.000000000",
          "2025-10-30T14:11:00.000000000",
          "2025-10-30T14:12:00.000000000",
          "2025-10-30T14:13:00.000000000",
          "2025-10-30T14:14:00.000000000",
          "2025-10-30T14:15:00.000000000",
          "2025-10-30T14:16:00.000000000",
          "2025-10-30T14:17:00.000000000",
          "2025-10-30T14:18:00.000000000",
          "2025-10-30T14:19:00.000000000",
          "2025-10-30T14:20:00.000000000",
          "2025-10-30T14:21:00.000000000",
          "2025-10-30T14:22:00.000000000",
          "2025-10-30T14:23:00.000000000",
          "2025-10-30T14:24:00.000000000",
          "2025-10-30T14:25:00.000000000",
          "2025-10-30T14:26:00.000000000",
          "2025-10-30T14:27:00.000000000",
          "2025-10-30T14:28:00.000000000",
          "2025-10-30T14:29:00.000000000",
          "2025-10-30T14:30:00.000000000",
          "2025-10-30T14:31:00.000000000",
          "2025-10-30T14:32:00.000000000",
          "2025-10-30T14:33:00.000000000",
          "2025-10-30T14:34:00.000000000",
          "2025-10-30T14:35:00.000000000",
          "2025-10-30T14:36:00.000000000",
          "2025-10-30T14:37:00.000000000",
          "2025-10-30T14:38:00.000000000",
          "2025-10-30T14:39:00.000000000",
          "2025-10-30T14:40:00.000000000",
          "2025-10-30T14:41:00.000000000",
          "2025-10-30T14:42:00.000000000",
          "2025-10-30T14:43:00.000000000",
          "2025-10-30T14:44:00.000000000",
          "2025-10-30T14:45:00.000000000",
          "2025-10-30T14:46:00.000000000",
          "2025-10-30T14:47:00.000000000",
          "2025-10-30T14:48:00.000000000",
          "2025-10-30T14:49:00.000000000",
          "2025-10-30T14:50:00.000000000",
          "2025-10-30T14:51:00.000000000",
          "2025-10-30T14:52:00.000000000",
          "2025-10-30T14:53:00.000000000",
          "2025-10-30T14:54:00.000000000",
          "2025-10-30T14:55:00.000000000",
          "2025-10-30T14:56:00.000000000",
          "2025-10-30T14:57:00.000000000",
          "2025-10-30T14:58:00.000000000",
          "2025-10-30T14:59:00.000000000",
          "2025-10-30T15:00:00.000000000",
          "2025-10-30T15:01:00.000000000",
          "2025-10-30T15:02:00.000000000",
          "2025-10-30T15:03:00.000000000",
          "2025-10-30T15:04:00.000000000",
          "2025-10-30T15:05:00.000000000",
          "2025-10-30T15:06:00.000000000",
          "2025-10-30T15:07:00.000000000",
          "2025-10-30T15:08:00.000000000",
          "2025-10-30T15:09:00.000000000",
          "2025-10-30T15:10:00.000000000",
          "2025-10-30T15:11:00.000000000",
          "2025-10-30T15:12:00.000000000",
          "2025-10-30T15:13:00.000000000",
          "2025-10-30T15:14:00.000000000",
          "2025-10-30T15:15:00.000000000",
          "2025-10-30T15:16:00.000000000",
          "2025-10-30T15:17:00.000000000",
          "2025-10-30T15:18:00.000000000",
          "2025-10-30T15:19:00.000000000",
          "2025-10-30T15:20:00.000000000",
          "2025-10-30T15:21:00.000000000",
          "2025-10-30T15:22:00.000000000",
          "2025-10-30T15:23:00.000000000",
          "2025-10-30T15:24:00.000000000",
          "2025-10-30T15:25:00.000000000",
          "2025-10-30T15:26:00.000000000",
          "2025-10-30T15:27:00.000000000",
          "2025-10-30T15:28:00.000000000",
          "2025-10-30T15:29:00.000000000",
          "2025-10-30T15:30:00.000000000",
          "2025-10-30T15:31:00.000000000",
          "2025-10-30T15:32:00.000000000",
          "2025-10-30T15:33:00.000000000",
          "2025-10-30T15:34:00.000000000",
          "2025-10-30T15:35:00.000000000",
          "2025-10-30T15:36:00.000000000",
          "2025-10-30T15:37:00.000000000",
          "2025-10-30T15:38:00.000000000",
          "2025-10-30T15:39:00.000000000",
          "2025-10-30T15:40:00.000000000",
          "2025-10-30T15:41:00.000000000",
          "2025-10-30T15:42:00.000000000",
          "2025-10-30T15:43:00.000000000",
          "2025-10-30T15:44:00.000000000",
          "2025-10-30T15:45:00.000000000",
          "2025-10-30T15:46:00.000000000",
          "2025-10-30T15:47:00.000000000",
          "2025-10-30T15:48:00.000000000",
          "2025-10-30T15:49:00.000000000",
          "2025-10-30T15:50:00.000000000",
          "2025-10-30T15:51:00.000000000",
          "2025-10-30T15:52:00.000000000",
          "2025-10-30T15:53:00.000000000",
          "2025-10-30T15:54:00.000000000",
          "2025-10-30T15:55:00.000000000",
          "2025-10-30T15:56:00.000000000",
          "2025-10-30T15:57:00.000000000",
          "2025-10-30T15:58:00.000000000",
          "2025-10-30T15:59:00.000000000"
         ],
         "xaxis": "x",
         "yaxis": "y"
        },
        {
         "line": {
          "color": "#FF66FE",
          "width": 0.6
         },
         "mode": "lines",
         "name": "HMA",
         "showlegend": false,
         "type": "scatter",
         "x": [
          "2025-10-30T09:00:00-04:00",
          "2025-10-30T09:01:00-04:00"
         ],
         "xaxis": "x",
         "y": {
          "bdata": "o3A9CpfqukCicD0Kl+q6QA==",
          "dtype": "f8"
         },
         "yaxis": "y"
        },
        {
         "line": {
          "color": "#FF66FE",
          "width": 0.6
         },
         "mode": "lines",
         "name": "HMA",
         "showlegend": false,
         "type": "scatter",
         "x": [
          "2025-10-30T09:01:00-04:00",
          "2025-10-30T09:02:00-04:00"
         ],
         "xaxis": "x",
         "y": {
          "bdata": "onA9CpfqukCicD0Kl+q6QA==",
          "dtype": "f8"
         },
         "yaxis": "y"
        },
        {
         "line": {
          "color": "#FF66FE",
          "width": 0.6
         },
         "mode": "lines",
         "name": "HMA",
         "showlegend": false,
         "type": "scatter",
         "x": [
          "2025-10-30T09:02:00-04:00",
          "2025-10-30T09:03:00-04:00"
         ],
         "xaxis": "x",
         "y": {
          "bdata": "onA9CpfqukCicD0Kl+q6QA==",
          "dtype": "f8"
         },
         "yaxis": "y"
        },
        {
         "line": {
          "color": "#FF66FE",
          "width": 0.6
         },
         "mode": "lines",
         "name": "HMA",
         "showlegend": false,
         "type": "scatter",
         "x": [
          "2025-10-30T09:03:00-04:00",
          "2025-10-30T09:04:00-04:00"
         ],
         "xaxis": "x",
         "y": {
          "bdata": "onA9CpfqukCicD0Kl+q6QA==",
          "dtype": "f8"
         },
         "yaxis": "y"
        },
        {
         "line": {
          "color": "#FF66FE",
          "width": 0.6
         },
         "mode": "lines",
         "name": "HMA",
         "showlegend": false,
         "type": "scatter",
         "x": [
          "2025-10-30T09:04:00-04:00",
          "2025-10-30T09:05:00-04:00"
         ],
         "xaxis": "x",
         "y": {
          "bdata": "onA9CpfqukCicD0Kl+q6QA==",
          "dtype": "f8"
         },
         "yaxis": "y"
        },
        {
         "line": {
          "color": "#FF66FE",
          "width": 0.6
         },
         "mode": "lines",
         "name": "HMA",
         "showlegend": false,
         "type": "scatter",
         "x": [
          "2025-10-30T09:05:00-04:00",
          "2025-10-30T09:06:00-04:00"
         ],
         "xaxis": "x",
         "y": {
          "bdata": "onA9CpfqukCicD0Kl+q6QA==",
          "dtype": "f8"
         },
         "yaxis": "y"
        },
        {
         "line": {
          "color": "#FF66FE",
          "width": 0.6
         },
         "mode": "lines",
         "name": "HMA",
         "showlegend": false,
         "type": "scatter",
         "x": [
          "2025-10-30T09:06:00-04:00",
          "2025-10-30T09:07:00-04:00"
         ],
         "xaxis": "x",
         "y": {
          "bdata": "onA9CpfqukCicD0Kl+q6QA==",
          "dtype": "f8"
         },
         "yaxis": "y"
        },
        {
         "line": {
          "color": "#FF66FE",
          "width": 0.6
         },
         "mode": "lines",
         "name": "HMA",
         "showlegend": false,
         "type": "scatter",
         "x": [
          "2025-10-30T09:07:00-04:00",
          "2025-10-30T09:08:00-04:00"
         ],
         "xaxis": "x",
         "y": {
          "bdata": "onA9CpfqukCicD0Kl+q6QA==",
          "dtype": "f8"
         },
         "yaxis": "y"
        },
        {
         "line": {
          "color": "#FF66FE",
          "width": 0.6
         },
         "mode": "lines",
         "name": "HMA",
         "showlegend": false,
         "type": "scatter",
         "x": [
          "2025-10-30T09:08:00-04:00",
          "2025-10-30T09:09:00-04:00"
         ],
         "xaxis": "x",
         "y": {
          "bdata": "onA9CpfqukCicD0Kl+q6QA==",
          "dtype": "f8"
         },
         "yaxis": "y"
        },
        {
         "line": {
          "color": "#FF66FE",
          "width": 0.6
         },
         "mode": "lines",
         "name": "HMA",
         "showlegend": false,
         "type": "scatter",
         "x": [
          "2025-10-30T09:09:00-04:00",
          "2025-10-30T09:10:00-04:00"
         ],
         "xaxis": "x",
         "y": {
          "bdata": "onA9CpfqukCicD0Kl+q6QA==",
          "dtype": "f8"
         },
         "yaxis": "y"
        },
        {
         "line": {
          "color": "#FF66FE",
          "width": 0.6
         },
         "mode": "lines",
         "name": "HMA",
         "showlegend": false,
         "type": "scatter",
         "x": [
          "2025-10-30T09:10:00-04:00",
          "2025-10-30T09:11:00-04:00"
         ],
         "xaxis": "x",
         "y": {
          "bdata": "onA9CpfqukCicD0Kl+q6QA==",
          "dtype": "f8"
         },
         "yaxis": "y"
        },
        {
         "line": {
          "color": "#FF66FE",
          "width": 0.6
         },
         "mode": "lines",
         "name": "HMA",
         "showlegend": false,
         "type": "scatter",
         "x": [
          "2025-10-30T09:11:00-04:00",
          "2025-10-30T09:12:00-04:00"
         ],
         "xaxis": "x",
         "y": {
          "bdata": "onA9CpfqukCicD0Kl+q6QA==",
          "dtype": "f8"
         },
         "yaxis": "y"
        },
        {
         "line": {
          "color": "#FF66FE",
          "width": 0.6
         },
         "mode": "lines",
         "name": "HMA",
         "showlegend": false,
         "type": "scatter",
         "x": [
          "2025-10-30T09:12:00-04:00",
          "2025-10-30T09:13:00-04:00"
         ],
         "xaxis": "x",
         "y": {
          "bdata": "onA9CpfqukCicD0Kl+q6QA==",
          "dtype": "f8"
         },
         "yaxis": "y"
        },
        {
         "line": {
          "color": "#FF66FE",
          "width": 0.6
         },
         "mode": "lines",
         "name": "HMA",
         "showlegend": false,
         "type": "scatter",
         "x": [
          "2025-10-30T09:13:00-04:00",
          "2025-10-30T09:14:00-04:00"
         ],
         "xaxis": "x",
         "y": {
          "bdata": "onA9CpfqukCicD0Kl+q6QA==",
          "dtype": "f8"
         },
         "yaxis": "y"
        },
        {
         "line": {
          "color": "#FF66FE",
          "width": 0.6
         },
         "mode": "lines",
         "name": "HMA",
         "showlegend": false,
         "type": "scatter",
         "x": [
          "2025-10-30T09:14:00-04:00",
          "2025-10-30T09:15:00-04:00"
         ],
         "xaxis": "x",
         "y": {
          "bdata": "onA9CpfqukCicD0Kl+q6QA==",
          "dtype": "f8"
         },
         "yaxis": "y"
        },
        {
         "line": {
          "color": "#FF66FE",
          "width": 0.6
         },
         "mode": "lines",
         "name": "HMA",
         "showlegend": false,
         "type": "scatter",
         "x": [
          "2025-10-30T09:15:00-04:00",
          "2025-10-30T09:16:00-04:00"
         ],
         "xaxis": "x",
         "y": {
          "bdata": "onA9CpfqukCicD0Kl+q6QA==",
          "dtype": "f8"
         },
         "yaxis": "y"
        },
        {
         "line": {
          "color": "#FF66FE",
          "width": 0.6
         },
         "mode": "lines",
         "name": "HMA",
         "showlegend": false,
         "type": "scatter",
         "x": [
          "2025-10-30T09:16:00-04:00",
          "2025-10-30T09:17:00-04:00"
         ],
         "xaxis": "x",
         "y": {
          "bdata": "onA9CpfqukCicD0Kl+q6QA==",
          "dtype": "f8"
         },
         "yaxis": "y"
        },
        {
         "line": {
          "color": "#FF66FE",
          "width": 0.6
         },
         "mode": "lines",
         "name": "HMA",
         "showlegend": false,
         "type": "scatter",
         "x": [
          "2025-10-30T09:17:00-04:00",
          "2025-10-30T09:18:00-04:00"
         ],
         "xaxis": "x",
         "y": {
          "bdata": "onA9CpfqukCicD0Kl+q6QA==",
          "dtype": "f8"
         },
         "yaxis": "y"
        },
        {
         "line": {
          "color": "#FF66FE",
          "width": 0.6
         },
         "mode": "lines",
         "name": "HMA",
         "showlegend": false,
         "type": "scatter",
         "x": [
          "2025-10-30T09:18:00-04:00",
          "2025-10-30T09:19:00-04:00"
         ],
         "xaxis": "x",
         "y": {
          "bdata": "onA9CpfqukCicD0Kl+q6QA==",
          "dtype": "f8"
         },
         "yaxis": "y"
        },
        {
         "line": {
          "color": "#FF66FE",
          "width": 0.6
         },
         "mode": "lines",
         "name": "HMA",
         "showlegend": false,
         "type": "scatter",
         "x": [
          "2025-10-30T09:19:00-04:00",
          "2025-10-30T09:20:00-04:00"
         ],
         "xaxis": "x",
         "y": {
          "bdata": "onA9CpfqukCicD0Kl+q6QA==",
          "dtype": "f8"
         },
         "yaxis": "y"
        },
        {
         "line": {
          "color": "#FF66FE",
          "width": 0.6
         },
         "mode": "lines",
         "name": "HMA",
         "showlegend": false,
         "type": "scatter",
         "x": [
          "2025-10-30T09:20:00-04:00",
          "2025-10-30T09:21:00-04:00"
         ],
         "xaxis": "x",
         "y": {
          "bdata": "onA9CpfqukCicD0Kl+q6QA==",
          "dtype": "f8"
         },
         "yaxis": "y"
        },
        {
         "line": {
          "color": "#FF66FE",
          "width": 0.6
         },
         "mode": "lines",
         "name": "HMA",
         "showlegend": false,
         "type": "scatter",
         "x": [
          "2025-10-30T09:21:00-04:00",
          "2025-10-30T09:22:00-04:00"
         ],
         "xaxis": "x",
         "y": {
          "bdata": "onA9CpfqukCicD0Kl+q6QA==",
          "dtype": "f8"
         },
         "yaxis": "y"
        },
        {
         "line": {
          "color": "#FF66FE",
          "width": 0.6
         },
         "mode": "lines",
         "name": "HMA",
         "showlegend": false,
         "type": "scatter",
         "x": [
          "2025-10-30T09:22:00-04:00",
          "2025-10-30T09:23:00-04:00"
         ],
         "xaxis": "x",
         "y": {
          "bdata": "onA9CpfqukCicD0Kl+q6QA==",
          "dtype": "f8"
         },
         "yaxis": "y"
        },
        {
         "line": {
          "color": "#FF66FE",
          "width": 0.6
         },
         "mode": "lines",
         "name": "HMA",
         "showlegend": false,
         "type": "scatter",
         "x": [
          "2025-10-30T09:23:00-04:00",
          "2025-10-30T09:24:00-04:00"
         ],
         "xaxis": "x",
         "y": {
          "bdata": "onA9CpfqukCicD0Kl+q6QA==",
          "dtype": "f8"
         },
         "yaxis": "y"
        },
        {
         "line": {
          "color": "#FF66FE",
          "width": 0.6
         },
         "mode": "lines",
         "name": "HMA",
         "showlegend": false,
         "type": "scatter",
         "x": [
          "2025-10-30T09:24:00-04:00",
          "2025-10-30T09:25:00-04:00"
         ],
         "xaxis": "x",
         "y": {
          "bdata": "onA9CpfqukCicD0Kl+q6QA==",
          "dtype": "f8"
         },
         "yaxis": "y"
        },
        {
         "line": {
          "color": "#FF66FE",
          "width": 0.6
         },
         "mode": "lines",
         "name": "HMA",
         "showlegend": false,
         "type": "scatter",
         "x": [
          "2025-10-30T09:25:00-04:00",
          "2025-10-30T09:26:00-04:00"
         ],
         "xaxis": "x",
         "y": {
          "bdata": "onA9CpfqukCicD0Kl+q6QA==",
          "dtype": "f8"
         },
         "yaxis": "y"
        },
        {
         "line": {
          "color": "#FF66FE",
          "width": 0.6
         },
         "mode": "lines",
         "name": "HMA",
         "showlegend": false,
         "type": "scatter",
         "x": [
          "2025-10-30T09:26:00-04:00",
          "2025-10-30T09:27:00-04:00"
         ],
         "xaxis": "x",
         "y": {
          "bdata": "onA9CpfqukCicD0Kl+q6QA==",
          "dtype": "f8"
         },
         "yaxis": "y"
        },
        {
         "line": {
          "color": "#FF66FE",
          "width": 0.6
         },
         "mode": "lines",
         "name": "HMA",
         "showlegend": false,
         "type": "scatter",
         "x": [
          "2025-10-30T09:27:00-04:00",
          "2025-10-30T09:28:00-04:00"
         ],
         "xaxis": "x",
         "y": {
          "bdata": "onA9CpfqukCicD0Kl+q6QA==",
          "dtype": "f8"
         },
         "yaxis": "y"
        },
        {
         "line": {
          "color": "#FF66FE",
          "width": 0.6
         },
         "mode": "lines",
         "name": "HMA",
         "showlegend": false,
         "type": "scatter",
         "x": [
          "2025-10-30T09:28:00-04:00",
          "2025-10-30T09:29:00-04:00"
         ],
         "xaxis": "x",
         "y": {
          "bdata": "onA9CpfqukCicD0Kl+q6QA==",
          "dtype": "f8"
         },
         "yaxis": "y"
        },
        {
         "line": {
          "color": "#FF66FE",
          "width": 0.6
         },
         "mode": "lines",
         "name": "HMA",
         "showlegend": false,
         "type": "scatter",
         "x": [
          "2025-10-30T09:29:00-04:00",
          "2025-10-30T09:30:00-04:00"
         ],
         "xaxis": "x",
         "y": {
          "bdata": "onA9CpfqukCzUs17nOa6QA==",
          "dtype": "f8"
         },
         "yaxis": "y"
        },
        {
         "line": {
          "color": "#FF66FE",
          "width": 0.6
         },
         "mode": "lines",
         "name": "HMA",
         "showlegend": false,
         "type": "scatter",
         "x": [
          "2025-10-30T09:30:00-04:00",
          "2025-10-30T09:31:00-04:00"
         ],
         "xaxis": "x",
         "y": {
          "bdata": "s1LNe5zmukDYS5HmMOC6QA==",
          "dtype": "f8"
         },
         "yaxis": "y"
        },
        {
         "line": {
          "color": "#FF66FE",
          "width": 0.6
         },
         "mode": "lines",
         "name": "HMA",
         "showlegend": false,
         "type": "scatter",
         "x": [
          "2025-10-30T09:31:00-04:00",
          "2025-10-30T09:32:00-04:00"
         ],
         "xaxis": "x",
         "y": {
          "bdata": "2EuR5jDgukAd5dzZe9i6QA==",
          "dtype": "f8"
         },
         "yaxis": "y"
        },
        {
         "line": {
          "color": "#FF66FE",
          "width": 0.6
         },
         "mode": "lines",
         "name": "HMA",
         "showlegend": false,
         "type": "scatter",
         "x": [
          "2025-10-30T09:32:00-04:00",
          "2025-10-30T09:33:00-04:00"
         ],
         "xaxis": "x",
         "y": {
          "bdata": "HeXc2XvYukCdrX+WvNC6QA==",
          "dtype": "f8"
         },
         "yaxis": "y"
        },
        {
         "line": {
          "color": "#FF66FE",
          "width": 0.6
         },
         "mode": "lines",
         "name": "HMA",
         "showlegend": false,
         "type": "scatter",
         "x": [
          "2025-10-30T09:33:00-04:00",
          "2025-10-30T09:34:00-04:00"
         ],
         "xaxis": "x",
         "y": {
          "bdata": "na1/lrzQukAoBhAlFsq6QA==",
          "dtype": "f8"
         },
         "yaxis": "y"
        },
        {
         "line": {
          "color": "#FF66FE",
          "width": 0.6
         },
         "mode": "lines",
         "name": "HMA",
         "showlegend": false,
         "type": "scatter",
         "x": [
          "2025-10-30T09:34:00-04:00",
          "2025-10-30T09:35:00-04:00"
         ],
         "xaxis": "x",
         "y": {
          "bdata": "KAYQJRbKukAoYN9YAcS6QA==",
          "dtype": "f8"
         },
         "yaxis": "y"
        },
        {
         "line": {
          "color": "#FF66FE",
          "width": 0.6
         },
         "mode": "lines",
         "name": "HMA",
         "showlegend": false,
         "type": "scatter",
         "x": [
          "2025-10-30T09:35:00-04:00",
          "2025-10-30T09:36:00-04:00"
         ],
         "xaxis": "x",
         "y": {
          "bdata": "KGDfWAHEukDo83vJ3r26QA==",
          "dtype": "f8"
         },
         "yaxis": "y"
        },
        {
         "line": {
          "color": "#FF66FE",
          "width": 0.6
         },
         "mode": "lines",
         "name": "HMA",
         "showlegend": false,
         "type": "scatter",
         "x": [
          "2025-10-30T09:36:00-04:00",
          "2025-10-30T09:37:00-04:00"
         ],
         "xaxis": "x",
         "y": {
          "bdata": "6PN7yd69ukAGw71zGri6QA==",
          "dtype": "f8"
         },
         "yaxis": "y"
        },
        {
         "line": {
          "color": "#FF66FE",
          "width": 0.6
         },
         "mode": "lines",
         "name": "HMA",
         "showlegend": false,
         "type": "scatter",
         "x": [
          "2025-10-30T09:37:00-04:00",
          "2025-10-30T09:38:00-04:00"
         ],
         "xaxis": "x",
         "y": {
          "bdata": "BsO9cxq4ukAqAYK2MLO6QA==",
          "dtype": "f8"
         },
         "yaxis": "y"
        },
        {
         "line": {
          "color": "#FF66FE",
          "width": 0.6
         },
         "mode": "lines",
         "name": "HMA",
         "showlegend": false,
         "type": "scatter",
         "x": [
          "2025-10-30T09:38:00-04:00",
          "2025-10-30T09:39:00-04:00"
         ],
         "xaxis": "x",
         "y": {
          "bdata": "KgGCtjCzukCVkYbU2a+6QA==",
          "dtype": "f8"
         },
         "yaxis": "y"
        },
        {
         "line": {
          "color": "#FF66FE",
          "width": 0.6
         },
         "mode": "lines",
         "name": "HMA",
         "showlegend": false,
         "type": "scatter",
         "x": [
          "2025-10-30T09:39:00-04:00",
          "2025-10-30T09:40:00-04:00"
         ],
         "xaxis": "x",
         "y": {
          "bdata": "lZGG1NmvukBgU4W/E666QA==",
          "dtype": "f8"
         },
         "yaxis": "y"
        },
        {
         "line": {
          "color": "#FF66FE",
          "width": 0.6
         },
         "mode": "lines",
         "name": "HMA",
         "showlegend": false,
         "type": "scatter",
         "x": [
          "2025-10-30T09:40:00-04:00",
          "2025-10-30T09:41:00-04:00"
         ],
         "xaxis": "x",
         "y": {
          "bdata": "YFOFvxOuukD+1hK5X626QA==",
          "dtype": "f8"
         },
         "yaxis": "y"
        },
        {
         "line": {
          "color": "#01FFFF",
          "width": 0.6
         },
         "mode": "lines",
         "name": "HMA",
         "showlegend": false,
         "type": "scatter",
         "x": [
          "2025-10-30T09:41:00-04:00",
          "2025-10-30T09:42:00-04:00"
         ],
         "xaxis": "x",
         "y": {
          "bdata": "/tYSuV+tukCd3QYgHq66QA==",
          "dtype": "f8"
         },
         "yaxis": "y"
        },
        {
         "line": {
          "color": "#01FFFF",
          "width": 0.6
         },
         "mode": "lines",
         "name": "HMA",
         "showlegend": false,
         "type": "scatter",
         "x": [
          "2025-10-30T09:42:00-04:00",
          "2025-10-30T09:43:00-04:00"
         ],
         "xaxis": "x",
         "y": {
          "bdata": "nd0GIB6uukC1wv5czq+6QA==",
          "dtype": "f8"
         },
         "yaxis": "y"
        },
        {
         "line": {
          "color": "#01FFFF",
          "width": 0.6
         },
         "mode": "lines",
         "name": "HMA",
         "showlegend": false,
         "type": "scatter",
         "x": [
          "2025-10-30T09:43:00-04:00",
          "2025-10-30T09:44:00-04:00"
         ],
         "xaxis": "x",
         "y": {
          "bdata": "tcL+XM6vukCNS0VoHbK6QA==",
          "dtype": "f8"
         },
         "yaxis": "y"
        },
        {
         "line": {
          "color": "#01FFFF",
          "width": 0.6
         },
         "mode": "lines",
         "name": "HMA",
         "showlegend": false,
         "type": "scatter",
         "x": [
          "2025-10-30T09:44:00-04:00",
          "2025-10-30T09:45:00-04:00"
         ],
         "xaxis": "x",
         "y": {
          "bdata": "jUtFaB2yukAyrLQdGbW6QA==",
          "dtype": "f8"
         },
         "yaxis": "y"
        },
        {
         "line": {
          "color": "#01FFFF",
          "width": 0.6
         },
         "mode": "lines",
         "name": "HMA",
         "showlegend": false,
         "type": "scatter",
         "x": [
          "2025-10-30T09:45:00-04:00",
          "2025-10-30T09:46:00-04:00"
         ],
         "xaxis": "x",
         "y": {
          "bdata": "Mqy0HRm1ukAbLXzX5ri6QA==",
          "dtype": "f8"
         },
         "yaxis": "y"
        },
        {
         "line": {
          "color": "#01FFFF",
          "width": 0.6
         },
         "mode": "lines",
         "name": "HMA",
         "showlegend": false,
         "type": "scatter",
         "x": [
          "2025-10-30T09:46:00-04:00",
          "2025-10-30T09:47:00-04:00"
         ],
         "xaxis": "x",
         "y": {
          "bdata": "Gy181+a4ukBVaG1WNr26QA==",
          "dtype": "f8"
         },
         "yaxis": "y"
        },
        {
         "line": {
          "color": "#01FFFF",
          "width": 0.6
         },
         "mode": "lines",
         "name": "HMA",
         "showlegend": false,
         "type": "scatter",
         "x": [
          "2025-10-30T09:47:00-04:00",
          "2025-10-30T09:48:00-04:00"
         ],
         "xaxis": "x",
         "y": {
          "bdata": "VWhtVja9ukDtBeWBKMK6QA==",
          "dtype": "f8"
         },
         "yaxis": "y"
        },
        {
         "line": {
          "color": "#01FFFF",
          "width": 0.6
         },
         "mode": "lines",
         "name": "HMA",
         "showlegend": false,
         "type": "scatter",
         "x": [
          "2025-10-30T09:48:00-04:00",
          "2025-10-30T09:49:00-04:00"
         ],
         "xaxis": "x",
         "y": {
          "bdata": "7QXlgSjCukAOyKMX5Ma6QA==",
          "dtype": "f8"
         },
         "yaxis": "y"
        },
        {
         "line": {
          "color": "#01FFFF",
          "width": 0.6
         },
         "mode": "lines",
         "name": "HMA",
         "showlegend": false,
         "type": "scatter",
         "x": [
          "2025-10-30T09:49:00-04:00",
          "2025-10-30T09:50:00-04:00"
         ],
         "xaxis": "x",
         "y": {
          "bdata": "DsijF+TGukAeWFn72Mu6QA==",
          "dtype": "f8"
         },
         "yaxis": "y"
        },
        {
         "line": {
          "color": "#01FFFF",
          "width": 0.6
         },
         "mode": "lines",
         "name": "HMA",
         "showlegend": false,
         "type": "scatter",
         "x": [
          "2025-10-30T09:50:00-04:00",
          "2025-10-30T09:51:00-04:00"
         ],
         "xaxis": "x",
         "y": {
          "bdata": "HlhZ+9jLukCSfEV0jdC6QA==",
          "dtype": "f8"
         },
         "yaxis": "y"
        },
        {
         "line": {
          "color": "#01FFFF",
          "width": 0.6
         },
         "mode": "lines",
         "name": "HMA",
         "showlegend": false,
         "type": "scatter",
         "x": [
          "2025-10-30T09:51:00-04:00",
          "2025-10-30T09:52:00-04:00"
         ],
         "xaxis": "x",
         "y": {
          "bdata": "knxFdI3QukD7+lNy5dS6QA==",
          "dtype": "f8"
         },
         "yaxis": "y"
        },
        {
         "line": {
          "color": "#01FFFF",
          "width": 0.6
         },
         "mode": "lines",
         "name": "HMA",
         "showlegend": false,
         "type": "scatter",
         "x": [
          "2025-10-30T09:52:00-04:00",
          "2025-10-30T09:53:00-04:00"
         ],
         "xaxis": "x",
         "y": {
          "bdata": "+/pTcuXUukBIcvkPudi6QA==",
          "dtype": "f8"
         },
         "yaxis": "y"
        },
        {
         "line": {
          "color": "#01FFFF",
          "width": 0.6
         },
         "mode": "lines",
         "name": "HMA",
         "showlegend": false,
         "type": "scatter",
         "x": [
          "2025-10-30T09:53:00-04:00",
          "2025-10-30T09:54:00-04:00"
         ],
         "xaxis": "x",
         "y": {
          "bdata": "SHL5D7nYukCFXXLi/Nu6QA==",
          "dtype": "f8"
         },
         "yaxis": "y"
        },
        {
         "line": {
          "color": "#01FFFF",
          "width": 0.6
         },
         "mode": "lines",
         "name": "HMA",
         "showlegend": false,
         "type": "scatter",
         "x": [
          "2025-10-30T09:54:00-04:00",
          "2025-10-30T09:55:00-04:00"
         ],
         "xaxis": "x",
         "y": {
          "bdata": "hV1y4vzbukBdbeH1LN66QA==",
          "dtype": "f8"
         },
         "yaxis": "y"
        },
        {
         "line": {
          "color": "#01FFFF",
          "width": 0.6
         },
         "mode": "lines",
         "name": "HMA",
         "showlegend": false,
         "type": "scatter",
         "x": [
          "2025-10-30T09:55:00-04:00",
          "2025-10-30T09:56:00-04:00"
         ],
         "xaxis": "x",
         "y": {
          "bdata": "XW3h9SzeukBVwliBW9+6QA==",
          "dtype": "f8"
         },
         "yaxis": "y"
        },
        {
         "line": {
          "color": "#01FFFF",
          "width": 0.6
         },
         "mode": "lines",
         "name": "HMA",
         "showlegend": false,
         "type": "scatter",
         "x": [
          "2025-10-30T09:56:00-04:00",
          "2025-10-30T09:57:00-04:00"
         ],
         "xaxis": "x",
         "y": {
          "bdata": "VcJYgVvfukBytLkDnd+6QA==",
          "dtype": "f8"
         },
         "yaxis": "y"
        },
        {
         "line": {
          "color": "#FF66FE",
          "width": 0.6
         },
         "mode": "lines",
         "name": "HMA",
         "showlegend": false,
         "type": "scatter",
         "x": [
          "2025-10-30T09:57:00-04:00",
          "2025-10-30T09:58:00-04:00"
         ],
         "xaxis": "x",
         "y": {
          "bdata": "crS5A53fukDG2GXuYN+6QA==",
          "dtype": "f8"
         },
         "yaxis": "y"
        },
        {
         "line": {
          "color": "#FF66FE",
          "width": 0.6
         },
         "mode": "lines",
         "name": "HMA",
         "showlegend": false,
         "type": "scatter",
         "x": [
          "2025-10-30T09:58:00-04:00",
          "2025-10-30T09:59:00-04:00"
         ],
         "xaxis": "x",
         "y": {
          "bdata": "xthl7mDfukBOXqTKs966QA==",
          "dtype": "f8"
         },
         "yaxis": "y"
        },
        {
         "line": {
          "color": "#FF66FE",
          "width": 0.6
         },
         "mode": "lines",
         "name": "HMA",
         "showlegend": false,
         "type": "scatter",
         "x": [
          "2025-10-30T09:59:00-04:00",
          "2025-10-30T10:00:00-04:00"
         ],
         "xaxis": "x",
         "y": {
          "bdata": "Tl6kyrPeukALdC+6St66QA==",
          "dtype": "f8"
         },
         "yaxis": "y"
        },
        {
         "line": {
          "color": "#FF66FE",
          "width": 0.6
         },
         "mode": "lines",
         "name": "HMA",
         "showlegend": false,
         "type": "scatter",
         "x": [
          "2025-10-30T10:00:00-04:00",
          "2025-10-30T10:01:00-04:00"
         ],
         "xaxis": "x",
         "y": {
          "bdata": "C3QvukreukCzBEOE9926QA==",
          "dtype": "f8"
         },
         "yaxis": "y"
        },
        {
         "line": {
          "color": "#FF66FE",
          "width": 0.6
         },
         "mode": "lines",
         "name": "HMA",
         "showlegend": false,
         "type": "scatter",
         "x": [
          "2025-10-30T10:01:00-04:00",
          "2025-10-30T10:02:00-04:00"
         ],
         "xaxis": "x",
         "y": {
          "bdata": "swRDhPfdukCj7NCyLt26QA==",
          "dtype": "f8"
         },
         "yaxis": "y"
        },
        {
         "line": {
          "color": "#FF66FE",
          "width": 0.6
         },
         "mode": "lines",
         "name": "HMA",
         "showlegend": false,
         "type": "scatter",
         "x": [
          "2025-10-30T10:02:00-04:00",
          "2025-10-30T10:03:00-04:00"
         ],
         "xaxis": "x",
         "y": {
          "bdata": "o+zQsi7dukBSNtr4+Nu6QA==",
          "dtype": "f8"
         },
         "yaxis": "y"
        },
        {
         "line": {
          "color": "#FF66FE",
          "width": 0.6
         },
         "mode": "lines",
         "name": "HMA",
         "showlegend": false,
         "type": "scatter",
         "x": [
          "2025-10-30T10:03:00-04:00",
          "2025-10-30T10:04:00-04:00"
         ],
         "xaxis": "x",
         "y": {
          "bdata": "Ujba+PjbukBLEG9MItq6QA==",
          "dtype": "f8"
         },
         "yaxis": "y"
        },
        {
         "line": {
          "color": "#FF66FE",
          "width": 0.6
         },
         "mode": "lines",
         "name": "HMA",
         "showlegend": false,
         "type": "scatter",
         "x": [
          "2025-10-30T10:04:00-04:00",
          "2025-10-30T10:05:00-04:00"
         ],
         "xaxis": "x",
         "y": {
          "bdata": "SxBvTCLaukC46gJFONm6QA==",
          "dtype": "f8"
         },
         "yaxis": "y"
        },
        {
         "line": {
          "color": "#FF66FE",
          "width": 0.6
         },
         "mode": "lines",
         "name": "HMA",
         "showlegend": false,
         "type": "scatter",
         "x": [
          "2025-10-30T10:05:00-04:00",
          "2025-10-30T10:06:00-04:00"
         ],
         "xaxis": "x",
         "y": {
          "bdata": "uOoCRTjZukC7iHiBsdi6QA==",
          "dtype": "f8"
         },
         "yaxis": "y"
        },
        {
         "line": {
          "color": "#FF66FE",
          "width": 0.6
         },
         "mode": "lines",
         "name": "HMA",
         "showlegend": false,
         "type": "scatter",
         "x": [
          "2025-10-30T10:06:00-04:00",
          "2025-10-30T10:07:00-04:00"
         ],
         "xaxis": "x",
         "y": {
          "bdata": "u4h4gbHYukBF8xonRti6QA==",
          "dtype": "f8"
         },
         "yaxis": "y"
        },
        {
         "line": {
          "color": "#FF66FE",
          "width": 0.6
         },
         "mode": "lines",
         "name": "HMA",
         "showlegend": false,
         "type": "scatter",
         "x": [
          "2025-10-30T10:07:00-04:00",
          "2025-10-30T10:08:00-04:00"
         ],
         "xaxis": "x",
         "y": {
          "bdata": "RfMaJ0bYukBquQ1cs9e6QA==",
          "dtype": "f8"
         },
         "yaxis": "y"
        },
        {
         "line": {
          "color": "#FF66FE",
          "width": 0.6
         },
         "mode": "lines",
         "name": "HMA",
         "showlegend": false,
         "type": "scatter",
         "x": [
          "2025-10-30T10:08:00-04:00",
          "2025-10-30T10:09:00-04:00"
         ],
         "xaxis": "x",
         "y": {
          "bdata": "arkNXLPXukCFVtifq9a6QA==",
          "dtype": "f8"
         },
         "yaxis": "y"
        },
        {
         "line": {
          "color": "#FF66FE",
          "width": 0.6
         },
         "mode": "lines",
         "name": "HMA",
         "showlegend": false,
         "type": "scatter",
         "x": [
          "2025-10-30T10:09:00-04:00",
          "2025-10-30T10:10:00-04:00"
         ],
         "xaxis": "x",
         "y": {
          "bdata": "hVbYn6vWukDzf6cASdW6QA==",
          "dtype": "f8"
         },
         "yaxis": "y"
        },
        {
         "line": {
          "color": "#FF66FE",
          "width": 0.6
         },
         "mode": "lines",
         "name": "HMA",
         "showlegend": false,
         "type": "scatter",
         "x": [
          "2025-10-30T10:10:00-04:00",
          "2025-10-30T10:11:00-04:00"
         ],
         "xaxis": "x",
         "y": {
          "bdata": "83+nAEnVukDWCb4vNdS6QA==",
          "dtype": "f8"
         },
         "yaxis": "y"
        },
        {
         "line": {
          "color": "#FF66FE",
          "width": 0.6
         },
         "mode": "lines",
         "name": "HMA",
         "showlegend": false,
         "type": "scatter",
         "x": [
          "2025-10-30T10:11:00-04:00",
          "2025-10-30T10:12:00-04:00"
         ],
         "xaxis": "x",
         "y": {
          "bdata": "1gm+LzXUukAQCj5MFtO6QA==",
          "dtype": "f8"
         },
         "yaxis": "y"
        },
        {
         "line": {
          "color": "#FF66FE",
          "width": 0.6
         },
         "mode": "lines",
         "name": "HMA",
         "showlegend": false,
         "type": "scatter",
         "x": [
          "2025-10-30T10:12:00-04:00",
          "2025-10-30T10:13:00-04:00"
         ],
         "xaxis": "x",
         "y": {
          "bdata": "EAo+TBbTukDma03XN9K6QA==",
          "dtype": "f8"
         },
         "yaxis": "y"
        },
        {
         "line": {
          "color": "#FF66FE",
          "width": 0.6
         },
         "mode": "lines",
         "name": "HMA",
         "showlegend": false,
         "type": "scatter",
         "x": [
          "2025-10-30T10:13:00-04:00",
          "2025-10-30T10:14:00-04:00"
         ],
         "xaxis": "x",
         "y": {
          "bdata": "5mtN1zfSukBK3bkNBdK6QA==",
          "dtype": "f8"
         },
         "yaxis": "y"
        },
        {
         "line": {
          "color": "#FF66FE",
          "width": 0.6
         },
         "mode": "lines",
         "name": "HMA",
         "showlegend": false,
         "type": "scatter",
         "x": [
          "2025-10-30T10:14:00-04:00",
          "2025-10-30T10:15:00-04:00"
         ],
         "xaxis": "x",
         "y": {
          "bdata": "St25DQXSukATqSrjktG6QA==",
          "dtype": "f8"
         },
         "yaxis": "y"
        },
        {
         "line": {
          "color": "#FF66FE",
          "width": 0.6
         },
         "mode": "lines",
         "name": "HMA",
         "showlegend": false,
         "type": "scatter",
         "x": [
          "2025-10-30T10:15:00-04:00",
          "2025-10-30T10:16:00-04:00"
         ],
         "xaxis": "x",
         "y": {
          "bdata": "E6kq45LRukDWOX478NC6QA==",
          "dtype": "f8"
         },
         "yaxis": "y"
        },
        {
         "line": {
          "color": "#FF66FE",
          "width": 0.6
         },
         "mode": "lines",
         "name": "HMA",
         "showlegend": false,
         "type": "scatter",
         "x": [
          "2025-10-30T10:16:00-04:00",
          "2025-10-30T10:17:00-04:00"
         ],
         "xaxis": "x",
         "y": {
          "bdata": "1jl+O/DQukCdYBgU7c+6QA==",
          "dtype": "f8"
         },
         "yaxis": "y"
        },
        {
         "line": {
          "color": "#FF66FE",
          "width": 0.6
         },
         "mode": "lines",
         "name": "HMA",
         "showlegend": false,
         "type": "scatter",
         "x": [
          "2025-10-30T10:17:00-04:00",
          "2025-10-30T10:18:00-04:00"
         ],
         "xaxis": "x",
         "y": {
          "bdata": "nWAYFO3PukC9w83sRc+6QA==",
          "dtype": "f8"
         },
         "yaxis": "y"
        },
        {
         "line": {
          "color": "#FF66FE",
          "width": 0.6
         },
         "mode": "lines",
         "name": "HMA",
         "showlegend": false,
         "type": "scatter",
         "x": [
          "2025-10-30T10:18:00-04:00",
          "2025-10-30T10:19:00-04:00"
         ],
         "xaxis": "x",
         "y": {
          "bdata": "vcPN7EXPukBQLPV1nM66QA==",
          "dtype": "f8"
         },
         "yaxis": "y"
        },
        {
         "line": {
          "color": "#FF66FE",
          "width": 0.6
         },
         "mode": "lines",
         "name": "HMA",
         "showlegend": false,
         "type": "scatter",
         "x": [
          "2025-10-30T10:19:00-04:00",
          "2025-10-30T10:20:00-04:00"
         ],
         "xaxis": "x",
         "y": {
          "bdata": "UCz1dZzOukCzVgCHyM26QA==",
          "dtype": "f8"
         },
         "yaxis": "y"
        },
        {
         "line": {
          "color": "#FF66FE",
          "width": 0.6
         },
         "mode": "lines",
         "name": "HMA",
         "showlegend": false,
         "type": "scatter",
         "x": [
          "2025-10-30T10:20:00-04:00",
          "2025-10-30T10:21:00-04:00"
         ],
         "xaxis": "x",
         "y": {
          "bdata": "s1YAh8jNukDd54hKW826QA==",
          "dtype": "f8"
         },
         "yaxis": "y"
        },
        {
         "line": {
          "color": "#FF66FE",
          "width": 0.6
         },
         "mode": "lines",
         "name": "HMA",
         "showlegend": false,
         "type": "scatter",
         "x": [
          "2025-10-30T10:21:00-04:00",
          "2025-10-30T10:22:00-04:00"
         ],
         "xaxis": "x",
         "y": {
          "bdata": "3eeISlvNukCAvQ1dV826QA==",
          "dtype": "f8"
         },
         "yaxis": "y"
        },
        {
         "line": {
          "color": "#FF66FE",
          "width": 0.6
         },
         "mode": "lines",
         "name": "HMA",
         "showlegend": false,
         "type": "scatter",
         "x": [
          "2025-10-30T10:22:00-04:00",
          "2025-10-30T10:23:00-04:00"
         ],
         "xaxis": "x",
         "y": {
          "bdata": "gL0NXVfNukD6t7NT3cy6QA==",
          "dtype": "f8"
         },
         "yaxis": "y"
        },
        {
         "line": {
          "color": "#FF66FE",
          "width": 0.6
         },
         "mode": "lines",
         "name": "HMA",
         "showlegend": false,
         "type": "scatter",
         "x": [
          "2025-10-30T10:23:00-04:00",
          "2025-10-30T10:24:00-04:00"
         ],
         "xaxis": "x",
         "y": {
          "bdata": "+rezU93MukCAG58rMcy6QA==",
          "dtype": "f8"
         },
         "yaxis": "y"
        },
        {
         "line": {
          "color": "#FF66FE",
          "width": 0.6
         },
         "mode": "lines",
         "name": "HMA",
         "showlegend": false,
         "type": "scatter",
         "x": [
          "2025-10-30T10:24:00-04:00",
          "2025-10-30T10:25:00-04:00"
         ],
         "xaxis": "x",
         "y": {
          "bdata": "gBufKzHMukDjdlOnXsu6QA==",
          "dtype": "f8"
         },
         "yaxis": "y"
        },
        {
         "line": {
          "color": "#FF66FE",
          "width": 0.6
         },
         "mode": "lines",
         "name": "HMA",
         "showlegend": false,
         "type": "scatter",
         "x": [
          "2025-10-30T10:25:00-04:00",
          "2025-10-30T10:26:00-04:00"
         ],
         "xaxis": "x",
         "y": {
          "bdata": "43ZTp17LukClDG7wysq6QA==",
          "dtype": "f8"
         },
         "yaxis": "y"
        },
        {
         "line": {
          "color": "#FF66FE",
          "width": 0.6
         },
         "mode": "lines",
         "name": "HMA",
         "showlegend": false,
         "type": "scatter",
         "x": [
          "2025-10-30T10:26:00-04:00",
          "2025-10-30T10:27:00-04:00"
         ],
         "xaxis": "x",
         "y": {
          "bdata": "pQxu8MrKukCuziYOhcq6QA==",
          "dtype": "f8"
         },
         "yaxis": "y"
        },
        {
         "line": {
          "color": "#FF66FE",
          "width": 0.6
         },
         "mode": "lines",
         "name": "HMA",
         "showlegend": false,
         "type": "scatter",
         "x": [
          "2025-10-30T10:27:00-04:00",
          "2025-10-30T10:28:00-04:00"
         ],
         "xaxis": "x",
         "y": {
          "bdata": "rs4mDoXKukDID6RFU8q6QA==",
          "dtype": "f8"
         },
         "yaxis": "y"
        },
        {
         "line": {
          "color": "#FF66FE",
          "width": 0.6
         },
         "mode": "lines",
         "name": "HMA",
         "showlegend": false,
         "type": "scatter",
         "x": [
          "2025-10-30T10:28:00-04:00",
          "2025-10-30T10:29:00-04:00"
         ],
         "xaxis": "x",
         "y": {
          "bdata": "yA+kRVPKukBSw3pi68m6QA==",
          "dtype": "f8"
         },
         "yaxis": "y"
        },
        {
         "line": {
          "color": "#01FFFF",
          "width": 0.6
         },
         "mode": "lines",
         "name": "HMA",
         "showlegend": false,
         "type": "scatter",
         "x": [
          "2025-10-30T10:29:00-04:00",
          "2025-10-30T10:30:00-04:00"
         ],
         "xaxis": "x",
         "y": {
          "bdata": "UsN6YuvJukDAdkpzDMq6QA==",
          "dtype": "f8"
         },
         "yaxis": "y"
        },
        {
         "line": {
          "color": "#01FFFF",
          "width": 0.6
         },
         "mode": "lines",
         "name": "HMA",
         "showlegend": false,
         "type": "scatter",
         "x": [
          "2025-10-30T10:30:00-04:00",
          "2025-10-30T10:31:00-04:00"
         ],
         "xaxis": "x",
         "y": {
          "bdata": "wHZKcwzKukAmzXCA1Mq6QA==",
          "dtype": "f8"
         },
         "yaxis": "y"
        },
        {
         "line": {
          "color": "#01FFFF",
          "width": 0.6
         },
         "mode": "lines",
         "name": "HMA",
         "showlegend": false,
         "type": "scatter",
         "x": [
          "2025-10-30T10:31:00-04:00",
          "2025-10-30T10:32:00-04:00"
         ],
         "xaxis": "x",
         "y": {
          "bdata": "Js1wgNTKukBGnoV84su6QA==",
          "dtype": "f8"
         },
         "yaxis": "y"
        },
        {
         "line": {
          "color": "#01FFFF",
          "width": 0.6
         },
         "mode": "lines",
         "name": "HMA",
         "showlegend": false,
         "type": "scatter",
         "x": [
          "2025-10-30T10:32:00-04:00",
          "2025-10-30T10:33:00-04:00"
         ],
         "xaxis": "x",
         "y": {
          "bdata": "Rp6FfOLLukBOvDQF+My6QA==",
          "dtype": "f8"
         },
         "yaxis": "y"
        },
        {
         "line": {
          "color": "#01FFFF",
          "width": 0.6
         },
         "mode": "lines",
         "name": "HMA",
         "showlegend": false,
         "type": "scatter",
         "x": [
          "2025-10-30T10:33:00-04:00",
          "2025-10-30T10:34:00-04:00"
         ],
         "xaxis": "x",
         "y": {
          "bdata": "Trw0BfjMukB7VSUHLs66QA==",
          "dtype": "f8"
         },
         "yaxis": "y"
        },
        {
         "line": {
          "color": "#01FFFF",
          "width": 0.6
         },
         "mode": "lines",
         "name": "HMA",
         "showlegend": false,
         "type": "scatter",
         "x": [
          "2025-10-30T10:34:00-04:00",
          "2025-10-30T10:35:00-04:00"
         ],
         "xaxis": "x",
         "y": {
          "bdata": "e1UlBy7OukAO9fzrac+6QA==",
          "dtype": "f8"
         },
         "yaxis": "y"
        },
        {
         "line": {
          "color": "#01FFFF",
          "width": 0.6
         },
         "mode": "lines",
         "name": "HMA",
         "showlegend": false,
         "type": "scatter",
         "x": [
          "2025-10-30T10:35:00-04:00",
          "2025-10-30T10:36:00-04:00"
         ],
         "xaxis": "x",
         "y": {
          "bdata": "DvX862nPukC1QPNSldC6QA==",
          "dtype": "f8"
         },
         "yaxis": "y"
        },
        {
         "line": {
          "color": "#01FFFF",
          "width": 0.6
         },
         "mode": "lines",
         "name": "HMA",
         "showlegend": false,
         "type": "scatter",
         "x": [
          "2025-10-30T10:36:00-04:00",
          "2025-10-30T10:37:00-04:00"
         ],
         "xaxis": "x",
         "y": {
          "bdata": "tUDzUpXQukDm0ryq0tG6QA==",
          "dtype": "f8"
         },
         "yaxis": "y"
        },
        {
         "line": {
          "color": "#01FFFF",
          "width": 0.6
         },
         "mode": "lines",
         "name": "HMA",
         "showlegend": false,
         "type": "scatter",
         "x": [
          "2025-10-30T10:37:00-04:00",
          "2025-10-30T10:38:00-04:00"
         ],
         "xaxis": "x",
         "y": {
          "bdata": "5tK8qtLRukCzyZif39K6QA==",
          "dtype": "f8"
         },
         "yaxis": "y"
        },
        {
         "line": {
          "color": "#01FFFF",
          "width": 0.6
         },
         "mode": "lines",
         "name": "HMA",
         "showlegend": false,
         "type": "scatter",
         "x": [
          "2025-10-30T10:38:00-04:00",
          "2025-10-30T10:39:00-04:00"
         ],
         "xaxis": "x",
         "y": {
          "bdata": "s8mYn9/SukAS4lbvq9O6QA==",
          "dtype": "f8"
         },
         "yaxis": "y"
        },
        {
         "line": {
          "color": "#01FFFF",
          "width": 0.6
         },
         "mode": "lines",
         "name": "HMA",
         "showlegend": false,
         "type": "scatter",
         "x": [
          "2025-10-30T10:39:00-04:00",
          "2025-10-30T10:40:00-04:00"
         ],
         "xaxis": "x",
         "y": {
          "bdata": "EuJW76vTukD9pfdJm9S6QA==",
          "dtype": "f8"
         },
         "yaxis": "y"
        },
        {
         "line": {
          "color": "#01FFFF",
          "width": 0.6
         },
         "mode": "lines",
         "name": "HMA",
         "showlegend": false,
         "type": "scatter",
         "x": [
          "2025-10-30T10:40:00-04:00",
          "2025-10-30T10:41:00-04:00"
         ],
         "xaxis": "x",
         "y": {
          "bdata": "/aX3SZvUukDGOkdTptW6QA==",
          "dtype": "f8"
         },
         "yaxis": "y"
        },
        {
         "line": {
          "color": "#01FFFF",
          "width": 0.6
         },
         "mode": "lines",
         "name": "HMA",
         "showlegend": false,
         "type": "scatter",
         "x": [
          "2025-10-30T10:41:00-04:00",
          "2025-10-30T10:42:00-04:00"
         ],
         "xaxis": "x",
         "y": {
          "bdata": "xjpHU6bVukC2zbBHB9e6QA==",
          "dtype": "f8"
         },
         "yaxis": "y"
        },
        {
         "line": {
          "color": "#01FFFF",
          "width": 0.6
         },
         "mode": "lines",
         "name": "HMA",
         "showlegend": false,
         "type": "scatter",
         "x": [
          "2025-10-30T10:42:00-04:00",
          "2025-10-30T10:43:00-04:00"
         ],
         "xaxis": "x",
         "y": {
          "bdata": "ts2wRwfXukCQEJwX29i6QA==",
          "dtype": "f8"
         },
         "yaxis": "y"
        },
        {
         "line": {
          "color": "#01FFFF",
          "width": 0.6
         },
         "mode": "lines",
         "name": "HMA",
         "showlegend": false,
         "type": "scatter",
         "x": [
          "2025-10-30T10:43:00-04:00",
          "2025-10-30T10:44:00-04:00"
         ],
         "xaxis": "x",
         "y": {
          "bdata": "kBCcF9vYukADgADKctq6QA==",
          "dtype": "f8"
         },
         "yaxis": "y"
        },
        {
         "line": {
          "color": "#01FFFF",
          "width": 0.6
         },
         "mode": "lines",
         "name": "HMA",
         "showlegend": false,
         "type": "scatter",
         "x": [
          "2025-10-30T10:44:00-04:00",
          "2025-10-30T10:45:00-04:00"
         ],
         "xaxis": "x",
         "y": {
          "bdata": "A4AAynLaukAFG53KM9u6QA==",
          "dtype": "f8"
         },
         "yaxis": "y"
        },
        {
         "line": {
          "color": "#01FFFF",
          "width": 0.6
         },
         "mode": "lines",
         "name": "HMA",
         "showlegend": false,
         "type": "scatter",
         "x": [
          "2025-10-30T10:45:00-04:00",
          "2025-10-30T10:46:00-04:00"
         ],
         "xaxis": "x",
         "y": {
          "bdata": "BRudyjPbukDLUn3mZNu6QA==",
          "dtype": "f8"
         },
         "yaxis": "y"
        },
        {
         "line": {
          "color": "#FF66FE",
          "width": 0.6
         },
         "mode": "lines",
         "name": "HMA",
         "showlegend": false,
         "type": "scatter",
         "x": [
          "2025-10-30T10:46:00-04:00",
          "2025-10-30T10:47:00-04:00"
         ],
         "xaxis": "x",
         "y": {
          "bdata": "y1J95mTbukBw5ECN3tq6QA==",
          "dtype": "f8"
         },
         "yaxis": "y"
        },
        {
         "line": {
          "color": "#FF66FE",
          "width": 0.6
         },
         "mode": "lines",
         "name": "HMA",
         "showlegend": false,
         "type": "scatter",
         "x": [
          "2025-10-30T10:47:00-04:00",
          "2025-10-30T10:48:00-04:00"
         ],
         "xaxis": "x",
         "y": {
          "bdata": "cORAjd7aukCDCBa60tm6QA==",
          "dtype": "f8"
         },
         "yaxis": "y"
        },
        {
         "line": {
          "color": "#FF66FE",
          "width": 0.6
         },
         "mode": "lines",
         "name": "HMA",
         "showlegend": false,
         "type": "scatter",
         "x": [
          "2025-10-30T10:48:00-04:00",
          "2025-10-30T10:49:00-04:00"
         ],
         "xaxis": "x",
         "y": {
          "bdata": "gwgWutLZukDY0UEAydi6QA==",
          "dtype": "f8"
         },
         "yaxis": "y"
        },
        {
         "line": {
          "color": "#FF66FE",
          "width": 0.6
         },
         "mode": "lines",
         "name": "HMA",
         "showlegend": false,
         "type": "scatter",
         "x": [
          "2025-10-30T10:49:00-04:00",
          "2025-10-30T10:50:00-04:00"
         ],
         "xaxis": "x",
         "y": {
          "bdata": "2NFBAMnYukCAl8DPpde6QA==",
          "dtype": "f8"
         },
         "yaxis": "y"
        },
        {
         "line": {
          "color": "#FF66FE",
          "width": 0.6
         },
         "mode": "lines",
         "name": "HMA",
         "showlegend": false,
         "type": "scatter",
         "x": [
          "2025-10-30T10:50:00-04:00",
          "2025-10-30T10:51:00-04:00"
         ],
         "xaxis": "x",
         "y": {
          "bdata": "gJfAz6XXukCgdHAV49W6QA==",
          "dtype": "f8"
         },
         "yaxis": "y"
        },
        {
         "line": {
          "color": "#FF66FE",
          "width": 0.6
         },
         "mode": "lines",
         "name": "HMA",
         "showlegend": false,
         "type": "scatter",
         "x": [
          "2025-10-30T10:51:00-04:00",
          "2025-10-30T10:52:00-04:00"
         ],
         "xaxis": "x",
         "y": {
          "bdata": "oHRwFePVukAq3FYKz9O6QA==",
          "dtype": "f8"
         },
         "yaxis": "y"
        },
        {
         "line": {
          "color": "#FF66FE",
          "width": 0.6
         },
         "mode": "lines",
         "name": "HMA",
         "showlegend": false,
         "type": "scatter",
         "x": [
          "2025-10-30T10:52:00-04:00",
          "2025-10-30T10:53:00-04:00"
         ],
         "xaxis": "x",
         "y": {
          "bdata": "KtxWCs/TukA+yrpHTdG6QA==",
          "dtype": "f8"
         },
         "yaxis": "y"
        },
        {
         "line": {
          "color": "#FF66FE",
          "width": 0.6
         },
         "mode": "lines",
         "name": "HMA",
         "showlegend": false,
         "type": "scatter",
         "x": [
          "2025-10-30T10:53:00-04:00",
          "2025-10-30T10:54:00-04:00"
         ],
         "xaxis": "x",
         "y": {
          "bdata": "Psq6R03RukAABIkYFc+6QA==",
          "dtype": "f8"
         },
         "yaxis": "y"
        },
        {
         "line": {
          "color": "#FF66FE",
          "width": 0.6
         },
         "mode": "lines",
         "name": "HMA",
         "showlegend": false,
         "type": "scatter",
         "x": [
          "2025-10-30T10:54:00-04:00",
          "2025-10-30T10:55:00-04:00"
         ],
         "xaxis": "x",
         "y": {
          "bdata": "AASJGBXPukBLS26qfc26QA==",
          "dtype": "f8"
         },
         "yaxis": "y"
        },
        {
         "line": {
          "color": "#FF66FE",
          "width": 0.6
         },
         "mode": "lines",
         "name": "HMA",
         "showlegend": false,
         "type": "scatter",
         "x": [
          "2025-10-30T10:55:00-04:00",
          "2025-10-30T10:56:00-04:00"
         ],
         "xaxis": "x",
         "y": {
          "bdata": "S0tuqn3NukBCMSuvDcy6QA==",
          "dtype": "f8"
         },
         "yaxis": "y"
        },
        {
         "line": {
          "color": "#FF66FE",
          "width": 0.6
         },
         "mode": "lines",
         "name": "HMA",
         "showlegend": false,
         "type": "scatter",
         "x": [
          "2025-10-30T10:56:00-04:00",
          "2025-10-30T10:57:00-04:00"
         ],
         "xaxis": "x",
         "y": {
          "bdata": "QjErrw3MukA4lCs5csu6QA==",
          "dtype": "f8"
         },
         "yaxis": "y"
        },
        {
         "line": {
          "color": "#FF66FE",
          "width": 0.6
         },
         "mode": "lines",
         "name": "HMA",
         "showlegend": false,
         "type": "scatter",
         "x": [
          "2025-10-30T10:57:00-04:00",
          "2025-10-30T10:58:00-04:00"
         ],
         "xaxis": "x",
         "y": {
          "bdata": "OJQrOXLLukCOlhOvWcu6QA==",
          "dtype": "f8"
         },
         "yaxis": "y"
        },
        {
         "line": {
          "color": "#01FFFF",
          "width": 0.6
         },
         "mode": "lines",
         "name": "HMA",
         "showlegend": false,
         "type": "scatter",
         "x": [
          "2025-10-30T10:58:00-04:00",
          "2025-10-30T10:59:00-04:00"
         ],
         "xaxis": "x",
         "y": {
          "bdata": "jpYTr1nLukCyGmyv1Mu6QA==",
          "dtype": "f8"
         },
         "yaxis": "y"
        },
        {
         "line": {
          "color": "#01FFFF",
          "width": 0.6
         },
         "mode": "lines",
         "name": "HMA",
         "showlegend": false,
         "type": "scatter",
         "x": [
          "2025-10-30T10:59:00-04:00",
          "2025-10-30T11:00:00-04:00"
         ],
         "xaxis": "x",
         "y": {
          "bdata": "shpsr9TLukAD9v8Z/8y6QA==",
          "dtype": "f8"
         },
         "yaxis": "y"
        },
        {
         "line": {
          "color": "#01FFFF",
          "width": 0.6
         },
         "mode": "lines",
         "name": "HMA",
         "showlegend": false,
         "type": "scatter",
         "x": [
          "2025-10-30T11:00:00-04:00",
          "2025-10-30T11:01:00-04:00"
         ],
         "xaxis": "x",
         "y": {
          "bdata": "A/b/Gf/MukDWjF0fgc66QA==",
          "dtype": "f8"
         },
         "yaxis": "y"
        },
        {
         "line": {
          "color": "#01FFFF",
          "width": 0.6
         },
         "mode": "lines",
         "name": "HMA",
         "showlegend": false,
         "type": "scatter",
         "x": [
          "2025-10-30T11:01:00-04:00",
          "2025-10-30T11:02:00-04:00"
         ],
         "xaxis": "x",
         "y": {
          "bdata": "1oxdH4HOukDqr2XkeNC6QA==",
          "dtype": "f8"
         },
         "yaxis": "y"
        },
        {
         "line": {
          "color": "#01FFFF",
          "width": 0.6
         },
         "mode": "lines",
         "name": "HMA",
         "showlegend": false,
         "type": "scatter",
         "x": [
          "2025-10-30T11:02:00-04:00",
          "2025-10-30T11:03:00-04:00"
         ],
         "xaxis": "x",
         "y": {
          "bdata": "6q9l5HjQukBTj07JitK6QA==",
          "dtype": "f8"
         },
         "yaxis": "y"
        },
        {
         "line": {
          "color": "#01FFFF",
          "width": 0.6
         },
         "mode": "lines",
         "name": "HMA",
         "showlegend": false,
         "type": "scatter",
         "x": [
          "2025-10-30T11:03:00-04:00",
          "2025-10-30T11:04:00-04:00"
         ],
         "xaxis": "x",
         "y": {
          "bdata": "U49OyYrSukBqU/nrgdS6QA==",
          "dtype": "f8"
         },
         "yaxis": "y"
        },
        {
         "line": {
          "color": "#01FFFF",
          "width": 0.6
         },
         "mode": "lines",
         "name": "HMA",
         "showlegend": false,
         "type": "scatter",
         "x": [
          "2025-10-30T11:04:00-04:00",
          "2025-10-30T11:05:00-04:00"
         ],
         "xaxis": "x",
         "y": {
          "bdata": "alP564HUukDGgPcHFda6QA==",
          "dtype": "f8"
         },
         "yaxis": "y"
        },
        {
         "line": {
          "color": "#01FFFF",
          "width": 0.6
         },
         "mode": "lines",
         "name": "HMA",
         "showlegend": false,
         "type": "scatter",
         "x": [
          "2025-10-30T11:05:00-04:00",
          "2025-10-30T11:06:00-04:00"
         ],
         "xaxis": "x",
         "y": {
          "bdata": "xoD3BxXWukANcDSd8ta6QA==",
          "dtype": "f8"
         },
         "yaxis": "y"
        },
        {
         "line": {
          "color": "#01FFFF",
          "width": 0.6
         },
         "mode": "lines",
         "name": "HMA",
         "showlegend": false,
         "type": "scatter",
         "x": [
          "2025-10-30T11:06:00-04:00",
          "2025-10-30T11:07:00-04:00"
         ],
         "xaxis": "x",
         "y": {
          "bdata": "DXA0nfLWukC92EY7Nte6QA==",
          "dtype": "f8"
         },
         "yaxis": "y"
        },
        {
         "line": {
          "color": "#01FFFF",
          "width": 0.6
         },
         "mode": "lines",
         "name": "HMA",
         "showlegend": false,
         "type": "scatter",
         "x": [
          "2025-10-30T11:07:00-04:00",
          "2025-10-30T11:08:00-04:00"
         ],
         "xaxis": "x",
         "y": {
          "bdata": "vdhGOzbXukCGq4rVXte6QA==",
          "dtype": "f8"
         },
         "yaxis": "y"
        },
        {
         "line": {
          "color": "#01FFFF",
          "width": 0.6
         },
         "mode": "lines",
         "name": "HMA",
         "showlegend": false,
         "type": "scatter",
         "x": [
          "2025-10-30T11:08:00-04:00",
          "2025-10-30T11:09:00-04:00"
         ],
         "xaxis": "x",
         "y": {
          "bdata": "hquK1V7XukC+Ropnsde6QA==",
          "dtype": "f8"
         },
         "yaxis": "y"
        },
        {
         "line": {
          "color": "#01FFFF",
          "width": 0.6
         },
         "mode": "lines",
         "name": "HMA",
         "showlegend": false,
         "type": "scatter",
         "x": [
          "2025-10-30T11:09:00-04:00",
          "2025-10-30T11:10:00-04:00"
         ],
         "xaxis": "x",
         "y": {
          "bdata": "vkaKZ7HXukCdB6RDW9i6QA==",
          "dtype": "f8"
         },
         "yaxis": "y"
        },
        {
         "line": {
          "color": "#01FFFF",
          "width": 0.6
         },
         "mode": "lines",
         "name": "HMA",
         "showlegend": false,
         "type": "scatter",
         "x": [
          "2025-10-30T11:10:00-04:00",
          "2025-10-30T11:11:00-04:00"
         ],
         "xaxis": "x",
         "y": {
          "bdata": "nQekQ1vYukCwHoPDFtm6QA==",
          "dtype": "f8"
         },
         "yaxis": "y"
        },
        {
         "line": {
          "color": "#01FFFF",
          "width": 0.6
         },
         "mode": "lines",
         "name": "HMA",
         "showlegend": false,
         "type": "scatter",
         "x": [
          "2025-10-30T11:11:00-04:00",
          "2025-10-30T11:12:00-04:00"
         ],
         "xaxis": "x",
         "y": {
          "bdata": "sB6DwxbZukAtf+iwqtm6QA==",
          "dtype": "f8"
         },
         "yaxis": "y"
        },
        {
         "line": {
          "color": "#01FFFF",
          "width": 0.6
         },
         "mode": "lines",
         "name": "HMA",
         "showlegend": false,
         "type": "scatter",
         "x": [
          "2025-10-30T11:12:00-04:00",
          "2025-10-30T11:13:00-04:00"
         ],
         "xaxis": "x",
         "y": {
          "bdata": "LX/osKrZukBlD2/aHdq6QA==",
          "dtype": "f8"
         },
         "yaxis": "y"
        },
        {
         "line": {
          "color": "#01FFFF",
          "width": 0.6
         },
         "mode": "lines",
         "name": "HMA",
         "showlegend": false,
         "type": "scatter",
         "x": [
          "2025-10-30T11:13:00-04:00",
          "2025-10-30T11:14:00-04:00"
         ],
         "xaxis": "x",
         "y": {
          "bdata": "ZQ9v2h3aukDKOV70n9q6QA==",
          "dtype": "f8"
         },
         "yaxis": "y"
        },
        {
         "line": {
          "color": "#01FFFF",
          "width": 0.6
         },
         "mode": "lines",
         "name": "HMA",
         "showlegend": false,
         "type": "scatter",
         "x": [
          "2025-10-30T11:14:00-04:00",
          "2025-10-30T11:15:00-04:00"
         ],
         "xaxis": "x",
         "y": {
          "bdata": "yjle9J/aukDTAR1vyNq6QA==",
          "dtype": "f8"
         },
         "yaxis": "y"
        },
        {
         "line": {
          "color": "#FF66FE",
          "width": 0.6
         },
         "mode": "lines",
         "name": "HMA",
         "showlegend": false,
         "type": "scatter",
         "x": [
          "2025-10-30T11:15:00-04:00",
          "2025-10-30T11:16:00-04:00"
         ],
         "xaxis": "x",
         "y": {
          "bdata": "0wEdb8jaukAeonbRwtq6QA==",
          "dtype": "f8"
         },
         "yaxis": "y"
        },
        {
         "line": {
          "color": "#FF66FE",
          "width": 0.6
         },
         "mode": "lines",
         "name": "HMA",
         "showlegend": false,
         "type": "scatter",
         "x": [
          "2025-10-30T11:16:00-04:00",
          "2025-10-30T11:17:00-04:00"
         ],
         "xaxis": "x",
         "y": {
          "bdata": "HqJ20cLaukBFCzQvtdq6QA==",
          "dtype": "f8"
         },
         "yaxis": "y"
        },
        {
         "line": {
          "color": "#FF66FE",
          "width": 0.6
         },
         "mode": "lines",
         "name": "HMA",
         "showlegend": false,
         "type": "scatter",
         "x": [
          "2025-10-30T11:17:00-04:00",
          "2025-10-30T11:18:00-04:00"
         ],
         "xaxis": "x",
         "y": {
          "bdata": "RQs0L7XaukAtw8annNq6QA==",
          "dtype": "f8"
         },
         "yaxis": "y"
        },
        {
         "line": {
          "color": "#FF66FE",
          "width": 0.6
         },
         "mode": "lines",
         "name": "HMA",
         "showlegend": false,
         "type": "scatter",
         "x": [
          "2025-10-30T11:18:00-04:00",
          "2025-10-30T11:19:00-04:00"
         ],
         "xaxis": "x",
         "y": {
          "bdata": "LcPGp5zaukAQ0dcpjtq6QA==",
          "dtype": "f8"
         },
         "yaxis": "y"
        },
        {
         "line": {
          "color": "#01FFFF",
          "width": 0.6
         },
         "mode": "lines",
         "name": "HMA",
         "showlegend": false,
         "type": "scatter",
         "x": [
          "2025-10-30T11:19:00-04:00",
          "2025-10-30T11:20:00-04:00"
         ],
         "xaxis": "x",
         "y": {
          "bdata": "ENHXKY7aukD6BkOhstq6QA==",
          "dtype": "f8"
         },
         "yaxis": "y"
        },
        {
         "line": {
          "color": "#01FFFF",
          "width": 0.6
         },
         "mode": "lines",
         "name": "HMA",
         "showlegend": false,
         "type": "scatter",
         "x": [
          "2025-10-30T11:20:00-04:00",
          "2025-10-30T11:21:00-04:00"
         ],
         "xaxis": "x",
         "y": {
          "bdata": "+gZDobLaukAoqb3C69q6QA==",
          "dtype": "f8"
         },
         "yaxis": "y"
        },
        {
         "line": {
          "color": "#01FFFF",
          "width": 0.6
         },
         "mode": "lines",
         "name": "HMA",
         "showlegend": false,
         "type": "scatter",
         "x": [
          "2025-10-30T11:21:00-04:00",
          "2025-10-30T11:22:00-04:00"
         ],
         "xaxis": "x",
         "y": {
          "bdata": "KKm9wuvaukB93TcC+9q6QA==",
          "dtype": "f8"
         },
         "yaxis": "y"
        },
        {
         "line": {
          "color": "#FF66FE",
          "width": 0.6
         },
         "mode": "lines",
         "name": "HMA",
         "showlegend": false,
         "type": "scatter",
         "x": [
          "2025-10-30T11:22:00-04:00",
          "2025-10-30T11:23:00-04:00"
         ],
         "xaxis": "x",
         "y": {
          "bdata": "fd03AvvaukCl11dk3tq6QA==",
          "dtype": "f8"
         },
         "yaxis": "y"
        },
        {
         "line": {
          "color": "#FF66FE",
          "width": 0.6
         },
         "mode": "lines",
         "name": "HMA",
         "showlegend": false,
         "type": "scatter",
         "x": [
          "2025-10-30T11:23:00-04:00",
          "2025-10-30T11:24:00-04:00"
         ],
         "xaxis": "x",
         "y": {
          "bdata": "pddXZN7aukCTyiTltdq6QA==",
          "dtype": "f8"
         },
         "yaxis": "y"
        },
        {
         "line": {
          "color": "#FF66FE",
          "width": 0.6
         },
         "mode": "lines",
         "name": "HMA",
         "showlegend": false,
         "type": "scatter",
         "x": [
          "2025-10-30T11:24:00-04:00",
          "2025-10-30T11:25:00-04:00"
         ],
         "xaxis": "x",
         "y": {
          "bdata": "k8ok5bXaukCrlWrec9q6QA==",
          "dtype": "f8"
         },
         "yaxis": "y"
        },
        {
         "line": {
          "color": "#FF66FE",
          "width": 0.6
         },
         "mode": "lines",
         "name": "HMA",
         "showlegend": false,
         "type": "scatter",
         "x": [
          "2025-10-30T11:25:00-04:00",
          "2025-10-30T11:26:00-04:00"
         ],
         "xaxis": "x",
         "y": {
          "bdata": "q5Vq3nPaukDeCyGlz9m6QA==",
          "dtype": "f8"
         },
         "yaxis": "y"
        },
        {
         "line": {
          "color": "#FF66FE",
          "width": 0.6
         },
         "mode": "lines",
         "name": "HMA",
         "showlegend": false,
         "type": "scatter",
         "x": [
          "2025-10-30T11:26:00-04:00",
          "2025-10-30T11:27:00-04:00"
         ],
         "xaxis": "x",
         "y": {
          "bdata": "3gshpc/ZukAADUsmLNm6QA==",
          "dtype": "f8"
         },
         "yaxis": "y"
        },
        {
         "line": {
          "color": "#FF66FE",
          "width": 0.6
         },
         "mode": "lines",
         "name": "HMA",
         "showlegend": false,
         "type": "scatter",
         "x": [
          "2025-10-30T11:27:00-04:00",
          "2025-10-30T11:28:00-04:00"
         ],
         "xaxis": "x",
         "y": {
          "bdata": "AA1LJizZukCQfCjpfdi6QA==",
          "dtype": "f8"
         },
         "yaxis": "y"
        },
        {
         "line": {
          "color": "#FF66FE",
          "width": 0.6
         },
         "mode": "lines",
         "name": "HMA",
         "showlegend": false,
         "type": "scatter",
         "x": [
          "2025-10-30T11:28:00-04:00",
          "2025-10-30T11:29:00-04:00"
         ],
         "xaxis": "x",
         "y": {
          "bdata": "kHwo6X3YukDb9AzzwNe6QA==",
          "dtype": "f8"
         },
         "yaxis": "y"
        },
        {
         "line": {
          "color": "#FF66FE",
          "width": 0.6
         },
         "mode": "lines",
         "name": "HMA",
         "showlegend": false,
         "type": "scatter",
         "x": [
          "2025-10-30T11:29:00-04:00",
          "2025-10-30T11:30:00-04:00"
         ],
         "xaxis": "x",
         "y": {
          "bdata": "2/QM88DXukBQGd1069a6QA==",
          "dtype": "f8"
         },
         "yaxis": "y"
        },
        {
         "line": {
          "color": "#FF66FE",
          "width": 0.6
         },
         "mode": "lines",
         "name": "HMA",
         "showlegend": false,
         "type": "scatter",
         "x": [
          "2025-10-30T11:30:00-04:00",
          "2025-10-30T11:31:00-04:00"
         ],
         "xaxis": "x",
         "y": {
          "bdata": "UBnddOvWukA9M1Lm/dW6QA==",
          "dtype": "f8"
         },
         "yaxis": "y"
        },
        {
         "line": {
          "color": "#FF66FE",
          "width": 0.6
         },
         "mode": "lines",
         "name": "HMA",
         "showlegend": false,
         "type": "scatter",
         "x": [
          "2025-10-30T11:31:00-04:00",
          "2025-10-30T11:32:00-04:00"
         ],
         "xaxis": "x",
         "y": {
          "bdata": "PTNS5v3VukBSE9cX7dS6QA==",
          "dtype": "f8"
         },
         "yaxis": "y"
        },
        {
         "line": {
          "color": "#FF66FE",
          "width": 0.6
         },
         "mode": "lines",
         "name": "HMA",
         "showlegend": false,
         "type": "scatter",
         "x": [
          "2025-10-30T11:32:00-04:00",
          "2025-10-30T11:33:00-04:00"
         ],
         "xaxis": "x",
         "y": {
          "bdata": "UhPXF+3UukCDmkSSutO6QA==",
          "dtype": "f8"
         },
         "yaxis": "y"
        },
        {
         "line": {
          "color": "#FF66FE",
          "width": 0.6
         },
         "mode": "lines",
         "name": "HMA",
         "showlegend": false,
         "type": "scatter",
         "x": [
          "2025-10-30T11:33:00-04:00",
          "2025-10-30T11:34:00-04:00"
         ],
         "xaxis": "x",
         "y": {
          "bdata": "g5pEkrrTukAFl/fwodK6QA==",
          "dtype": "f8"
         },
         "yaxis": "y"
        },
        {
         "line": {
          "color": "#FF66FE",
          "width": 0.6
         },
         "mode": "lines",
         "name": "HMA",
         "showlegend": false,
         "type": "scatter",
         "x": [
          "2025-10-30T11:34:00-04:00",
          "2025-10-30T11:35:00-04:00"
         ],
         "xaxis": "x",
         "y": {
          "bdata": "BZf38KHSukCQjNpGv9G6QA==",
          "dtype": "f8"
         },
         "yaxis": "y"
        },
        {
         "line": {
          "color": "#FF66FE",
          "width": 0.6
         },
         "mode": "lines",
         "name": "HMA",
         "showlegend": false,
         "type": "scatter",
         "x": [
          "2025-10-30T11:35:00-04:00",
          "2025-10-30T11:36:00-04:00"
         ],
         "xaxis": "x",
         "y": {
          "bdata": "kIzaRr/RukB2/ZmVwtC6QA==",
          "dtype": "f8"
         },
         "yaxis": "y"
        },
        {
         "line": {
          "color": "#FF66FE",
          "width": 0.6
         },
         "mode": "lines",
         "name": "HMA",
         "showlegend": false,
         "type": "scatter",
         "x": [
          "2025-10-30T11:36:00-04:00",
          "2025-10-30T11:37:00-04:00"
         ],
         "xaxis": "x",
         "y": {
          "bdata": "dv2ZlcLQukCahOfIj8+6QA==",
          "dtype": "f8"
         },
         "yaxis": "y"
        },
        {
         "line": {
          "color": "#FF66FE",
          "width": 0.6
         },
         "mode": "lines",
         "name": "HMA",
         "showlegend": false,
         "type": "scatter",
         "x": [
          "2025-10-30T11:37:00-04:00",
          "2025-10-30T11:38:00-04:00"
         ],
         "xaxis": "x",
         "y": {
          "bdata": "moTnyI/PukC2xEOzI866QA==",
          "dtype": "f8"
         },
         "yaxis": "y"
        },
        {
         "line": {
          "color": "#FF66FE",
          "width": 0.6
         },
         "mode": "lines",
         "name": "HMA",
         "showlegend": false,
         "type": "scatter",
         "x": [
          "2025-10-30T11:38:00-04:00",
          "2025-10-30T11:39:00-04:00"
         ],
         "xaxis": "x",
         "y": {
          "bdata": "tsRDsyPOukCQXw9upsy6QA==",
          "dtype": "f8"
         },
         "yaxis": "y"
        },
        {
         "line": {
          "color": "#FF66FE",
          "width": 0.6
         },
         "mode": "lines",
         "name": "HMA",
         "showlegend": false,
         "type": "scatter",
         "x": [
          "2025-10-30T11:39:00-04:00",
          "2025-10-30T11:40:00-04:00"
         ],
         "xaxis": "x",
         "y": {
          "bdata": "kF8PbqbMukCSB4WQAMu6QA==",
          "dtype": "f8"
         },
         "yaxis": "y"
        },
        {
         "line": {
          "color": "#FF66FE",
          "width": 0.6
         },
         "mode": "lines",
         "name": "HMA",
         "showlegend": false,
         "type": "scatter",
         "x": [
          "2025-10-30T11:40:00-04:00",
          "2025-10-30T11:41:00-04:00"
         ],
         "xaxis": "x",
         "y": {
          "bdata": "kgeFkADLukDlvSbRQsm6QA==",
          "dtype": "f8"
         },
         "yaxis": "y"
        },
        {
         "line": {
          "color": "#FF66FE",
          "width": 0.6
         },
         "mode": "lines",
         "name": "HMA",
         "showlegend": false,
         "type": "scatter",
         "x": [
          "2025-10-30T11:41:00-04:00",
          "2025-10-30T11:42:00-04:00"
         ],
         "xaxis": "x",
         "y": {
          "bdata": "5b0m0ULJukBtcW5eyMe6QA==",
          "dtype": "f8"
         },
         "yaxis": "y"
        },
        {
         "line": {
          "color": "#FF66FE",
          "width": 0.6
         },
         "mode": "lines",
         "name": "HMA",
         "showlegend": false,
         "type": "scatter",
         "x": [
          "2025-10-30T11:42:00-04:00",
          "2025-10-30T11:43:00-04:00"
         ],
         "xaxis": "x",
         "y": {
          "bdata": "bXFuXsjHukA2N9nWx8a6QA==",
          "dtype": "f8"
         },
         "yaxis": "y"
        },
        {
         "line": {
          "color": "#FF66FE",
          "width": 0.6
         },
         "mode": "lines",
         "name": "HMA",
         "showlegend": false,
         "type": "scatter",
         "x": [
          "2025-10-30T11:43:00-04:00",
          "2025-10-30T11:44:00-04:00"
         ],
         "xaxis": "x",
         "y": {
          "bdata": "NjfZ1sfGukCleN02Tsa6QA==",
          "dtype": "f8"
         },
         "yaxis": "y"
        },
        {
         "line": {
          "color": "#FF66FE",
          "width": 0.6
         },
         "mode": "lines",
         "name": "HMA",
         "showlegend": false,
         "type": "scatter",
         "x": [
          "2025-10-30T11:44:00-04:00",
          "2025-10-30T11:45:00-04:00"
         ],
         "xaxis": "x",
         "y": {
          "bdata": "pXjdNk7GukAG70ngM8a6QA==",
          "dtype": "f8"
         },
         "yaxis": "y"
        },
        {
         "line": {
          "color": "#FF66FE",
          "width": 0.6
         },
         "mode": "lines",
         "name": "HMA",
         "showlegend": false,
         "type": "scatter",
         "x": [
          "2025-10-30T11:45:00-04:00",
          "2025-10-30T11:46:00-04:00"
         ],
         "xaxis": "x",
         "y": {
          "bdata": "Bu9J4DPGukCT2kezJMa6QA==",
          "dtype": "f8"
         },
         "yaxis": "y"
        },
        {
         "line": {
          "color": "#FF66FE",
          "width": 0.6
         },
         "mode": "lines",
         "name": "HMA",
         "showlegend": false,
         "type": "scatter",
         "x": [
          "2025-10-30T11:46:00-04:00",
          "2025-10-30T11:47:00-04:00"
         ],
         "xaxis": "x",
         "y": {
          "bdata": "k9pHsyTGukAGVJHo2MW6QA==",
          "dtype": "f8"
         },
         "yaxis": "y"
        },
        {
         "line": {
          "color": "#FF66FE",
          "width": 0.6
         },
         "mode": "lines",
         "name": "HMA",
         "showlegend": false,
         "type": "scatter",
         "x": [
          "2025-10-30T11:47:00-04:00",
          "2025-10-30T11:48:00-04:00"
         ],
         "xaxis": "x",
         "y": {
          "bdata": "BlSR6NjFukBdDtnMv8W6QA==",
          "dtype": "f8"
         },
         "yaxis": "y"
        },
        {
         "line": {
          "color": "#FF66FE",
          "width": 0.6
         },
         "mode": "lines",
         "name": "HMA",
         "showlegend": false,
         "type": "scatter",
         "x": [
          "2025-10-30T11:48:00-04:00",
          "2025-10-30T11:49:00-04:00"
         ],
         "xaxis": "x",
         "y": {
          "bdata": "XQ7ZzL/FukAohoFftsW6QA==",
          "dtype": "f8"
         },
         "yaxis": "y"
        },
        {
         "line": {
          "color": "#01FFFF",
          "width": 0.6
         },
         "mode": "lines",
         "name": "HMA",
         "showlegend": false,
         "type": "scatter",
         "x": [
          "2025-10-30T11:49:00-04:00",
          "2025-10-30T11:50:00-04:00"
         ],
         "xaxis": "x",
         "y": {
          "bdata": "KIaBX7bFukBGsEIa2sW6QA==",
          "dtype": "f8"
         },
         "yaxis": "y"
        },
        {
         "line": {
          "color": "#01FFFF",
          "width": 0.6
         },
         "mode": "lines",
         "name": "HMA",
         "showlegend": false,
         "type": "scatter",
         "x": [
          "2025-10-30T11:50:00-04:00",
          "2025-10-30T11:51:00-04:00"
         ],
         "xaxis": "x",
         "y": {
          "bdata": "RrBCGtrFukA4Dec5F8a6QA==",
          "dtype": "f8"
         },
         "yaxis": "y"
        },
        {
         "line": {
          "color": "#01FFFF",
          "width": 0.6
         },
         "mode": "lines",
         "name": "HMA",
         "showlegend": false,
         "type": "scatter",
         "x": [
          "2025-10-30T11:51:00-04:00",
          "2025-10-30T11:52:00-04:00"
         ],
         "xaxis": "x",
         "y": {
          "bdata": "OA3nORfGukAKVFn6RMa6QA==",
          "dtype": "f8"
         },
         "yaxis": "y"
        },
        {
         "line": {
          "color": "#01FFFF",
          "width": 0.6
         },
         "mode": "lines",
         "name": "HMA",
         "showlegend": false,
         "type": "scatter",
         "x": [
          "2025-10-30T11:52:00-04:00",
          "2025-10-30T11:53:00-04:00"
         ],
         "xaxis": "x",
         "y": {
          "bdata": "ClRZ+kTGukAG27nwica6QA==",
          "dtype": "f8"
         },
         "yaxis": "y"
        },
        {
         "line": {
          "color": "#01FFFF",
          "width": 0.6
         },
         "mode": "lines",
         "name": "HMA",
         "showlegend": false,
         "type": "scatter",
         "x": [
          "2025-10-30T11:53:00-04:00",
          "2025-10-30T11:54:00-04:00"
         ],
         "xaxis": "x",
         "y": {
          "bdata": "Btu58InGukCokcQ638a6QA==",
          "dtype": "f8"
         },
         "yaxis": "y"
        },
        {
         "line": {
          "color": "#01FFFF",
          "width": 0.6
         },
         "mode": "lines",
         "name": "HMA",
         "showlegend": false,
         "type": "scatter",
         "x": [
          "2025-10-30T11:54:00-04:00",
          "2025-10-30T11:55:00-04:00"
         ],
         "xaxis": "x",
         "y": {
          "bdata": "qJHEOt/GukBKRGJjmce6QA==",
          "dtype": "f8"
         },
         "yaxis": "y"
        },
        {
         "line": {
          "color": "#01FFFF",
          "width": 0.6
         },
         "mode": "lines",
         "name": "HMA",
         "showlegend": false,
         "type": "scatter",
         "x": [
          "2025-10-30T11:55:00-04:00",
          "2025-10-30T11:56:00-04:00"
         ],
         "xaxis": "x",
         "y": {
          "bdata": "SkRiY5nHukB7A/eTn8i6QA==",
          "dtype": "f8"
         },
         "yaxis": "y"
        },
        {
         "line": {
          "color": "#01FFFF",
          "width": 0.6
         },
         "mode": "lines",
         "name": "HMA",
         "showlegend": false,
         "type": "scatter",
         "x": [
          "2025-10-30T11:56:00-04:00",
          "2025-10-30T11:57:00-04:00"
         ],
         "xaxis": "x",
         "y": {
          "bdata": "ewP3k5/IukBdNLXpg8m6QA==",
          "dtype": "f8"
         },
         "yaxis": "y"
        },
        {
         "line": {
          "color": "#01FFFF",
          "width": 0.6
         },
         "mode": "lines",
         "name": "HMA",
         "showlegend": false,
         "type": "scatter",
         "x": [
          "2025-10-30T11:57:00-04:00",
          "2025-10-30T11:58:00-04:00"
         ],
         "xaxis": "x",
         "y": {
          "bdata": "XTS16YPJukCzKKHI/Mm6QA==",
          "dtype": "f8"
         },
         "yaxis": "y"
        },
        {
         "line": {
          "color": "#01FFFF",
          "width": 0.6
         },
         "mode": "lines",
         "name": "HMA",
         "showlegend": false,
         "type": "scatter",
         "x": [
          "2025-10-30T11:58:00-04:00",
          "2025-10-30T11:59:00-04:00"
         ],
         "xaxis": "x",
         "y": {
          "bdata": "syihyPzJukDqYYZzAMq6QA==",
          "dtype": "f8"
         },
         "yaxis": "y"
        },
        {
         "line": {
          "color": "#FF66FE",
          "width": 0.6
         },
         "mode": "lines",
         "name": "HMA",
         "showlegend": false,
         "type": "scatter",
         "x": [
          "2025-10-30T11:59:00-04:00",
          "2025-10-30T12:00:00-04:00"
         ],
         "xaxis": "x",
         "y": {
          "bdata": "6mGGcwDKukBOQ0EWv8m6QA==",
          "dtype": "f8"
         },
         "yaxis": "y"
        },
        {
         "line": {
          "color": "#FF66FE",
          "width": 0.6
         },
         "mode": "lines",
         "name": "HMA",
         "showlegend": false,
         "type": "scatter",
         "x": [
          "2025-10-30T12:00:00-04:00",
          "2025-10-30T12:01:00-04:00"
         ],
         "xaxis": "x",
         "y": {
          "bdata": "TkNBFr/JukCQ08lnXcm6QA==",
          "dtype": "f8"
         },
         "yaxis": "y"
        },
        {
         "line": {
          "color": "#FF66FE",
          "width": 0.6
         },
         "mode": "lines",
         "name": "HMA",
         "showlegend": false,
         "type": "scatter",
         "x": [
          "2025-10-30T12:01:00-04:00",
          "2025-10-30T12:02:00-04:00"
         ],
         "xaxis": "x",
         "y": {
          "bdata": "kNPJZ13JukDggw8++Mi6QA==",
          "dtype": "f8"
         },
         "yaxis": "y"
        },
        {
         "line": {
          "color": "#FF66FE",
          "width": 0.6
         },
         "mode": "lines",
         "name": "HMA",
         "showlegend": false,
         "type": "scatter",
         "x": [
          "2025-10-30T12:02:00-04:00",
          "2025-10-30T12:03:00-04:00"
         ],
         "xaxis": "x",
         "y": {
          "bdata": "4IMPPvjIukCqC6Ic5Mi6QA==",
          "dtype": "f8"
         },
         "yaxis": "y"
        },
        {
         "line": {
          "color": "#01FFFF",
          "width": 0.6
         },
         "mode": "lines",
         "name": "HMA",
         "showlegend": false,
         "type": "scatter",
         "x": [
          "2025-10-30T12:03:00-04:00",
          "2025-10-30T12:04:00-04:00"
         ],
         "xaxis": "x",
         "y": {
          "bdata": "qguiHOTIukAzmCXChMm6QA==",
          "dtype": "f8"
         },
         "yaxis": "y"
        },
        {
         "line": {
          "color": "#01FFFF",
          "width": 0.6
         },
         "mode": "lines",
         "name": "HMA",
         "showlegend": false,
         "type": "scatter",
         "x": [
          "2025-10-30T12:04:00-04:00",
          "2025-10-30T12:05:00-04:00"
         ],
         "xaxis": "x",
         "y": {
          "bdata": "M5glwoTJukDdpOm/uMq6QA==",
          "dtype": "f8"
         },
         "yaxis": "y"
        },
        {
         "line": {
          "color": "#01FFFF",
          "width": 0.6
         },
         "mode": "lines",
         "name": "HMA",
         "showlegend": false,
         "type": "scatter",
         "x": [
          "2025-10-30T12:05:00-04:00",
          "2025-10-30T12:06:00-04:00"
         ],
         "xaxis": "x",
         "y": {
          "bdata": "3aTpv7jKukCD85vXPMy6QA==",
          "dtype": "f8"
         },
         "yaxis": "y"
        },
        {
         "line": {
          "color": "#01FFFF",
          "width": 0.6
         },
         "mode": "lines",
         "name": "HMA",
         "showlegend": false,
         "type": "scatter",
         "x": [
          "2025-10-30T12:06:00-04:00",
          "2025-10-30T12:07:00-04:00"
         ],
         "xaxis": "x",
         "y": {
          "bdata": "g/Ob1zzMukDAMt6AHc66QA==",
          "dtype": "f8"
         },
         "yaxis": "y"
        },
        {
         "line": {
          "color": "#01FFFF",
          "width": 0.6
         },
         "mode": "lines",
         "name": "HMA",
         "showlegend": false,
         "type": "scatter",
         "x": [
          "2025-10-30T12:07:00-04:00",
          "2025-10-30T12:08:00-04:00"
         ],
         "xaxis": "x",
         "y": {
          "bdata": "wDLegB3OukDrj6yvItC6QA==",
          "dtype": "f8"
         },
         "yaxis": "y"
        },
        {
         "line": {
          "color": "#01FFFF",
          "width": 0.6
         },
         "mode": "lines",
         "name": "HMA",
         "showlegend": false,
         "type": "scatter",
         "x": [
          "2025-10-30T12:08:00-04:00",
          "2025-10-30T12:09:00-04:00"
         ],
         "xaxis": "x",
         "y": {
          "bdata": "64+sryLQukDQZK0cRdK6QA==",
          "dtype": "f8"
         },
         "yaxis": "y"
        },
        {
         "line": {
          "color": "#01FFFF",
          "width": 0.6
         },
         "mode": "lines",
         "name": "HMA",
         "showlegend": false,
         "type": "scatter",
         "x": [
          "2025-10-30T12:09:00-04:00",
          "2025-10-30T12:10:00-04:00"
         ],
         "xaxis": "x",
         "y": {
          "bdata": "0GStHEXSukDba5+UKtS6QA==",
          "dtype": "f8"
         },
         "yaxis": "y"
        },
        {
         "line": {
          "color": "#01FFFF",
          "width": 0.6
         },
         "mode": "lines",
         "name": "HMA",
         "showlegend": false,
         "type": "scatter",
         "x": [
          "2025-10-30T12:10:00-04:00",
          "2025-10-30T12:11:00-04:00"
         ],
         "xaxis": "x",
         "y": {
          "bdata": "22uflCrUukAwahrp1tW6QA==",
          "dtype": "f8"
         },
         "yaxis": "y"
        },
        {
         "line": {
          "color": "#01FFFF",
          "width": 0.6
         },
         "mode": "lines",
         "name": "HMA",
         "showlegend": false,
         "type": "scatter",
         "x": [
          "2025-10-30T12:11:00-04:00",
          "2025-10-30T12:12:00-04:00"
         ],
         "xaxis": "x",
         "y": {
          "bdata": "MGoa6dbVukAz76m1RNe6QA==",
          "dtype": "f8"
         },
         "yaxis": "y"
        },
        {
         "line": {
          "color": "#01FFFF",
          "width": 0.6
         },
         "mode": "lines",
         "name": "HMA",
         "showlegend": false,
         "type": "scatter",
         "x": [
          "2025-10-30T12:12:00-04:00",
          "2025-10-30T12:13:00-04:00"
         ],
         "xaxis": "x",
         "y": {
          "bdata": "M++ptUTXukAKto/Yjdi6QA==",
          "dtype": "f8"
         },
         "yaxis": "y"
        },
        {
         "line": {
          "color": "#01FFFF",
          "width": 0.6
         },
         "mode": "lines",
         "name": "HMA",
         "showlegend": false,
         "type": "scatter",
         "x": [
          "2025-10-30T12:13:00-04:00",
          "2025-10-30T12:14:00-04:00"
         ],
         "xaxis": "x",
         "y": {
          "bdata": "CraP2I3YukBlUzHapdm6QA==",
          "dtype": "f8"
         },
         "yaxis": "y"
        },
        {
         "line": {
          "color": "#01FFFF",
          "width": 0.6
         },
         "mode": "lines",
         "name": "HMA",
         "showlegend": false,
         "type": "scatter",
         "x": [
          "2025-10-30T12:14:00-04:00",
          "2025-10-30T12:15:00-04:00"
         ],
         "xaxis": "x",
         "y": {
          "bdata": "ZVMx2qXZukDe/4VbcNq6QA==",
          "dtype": "f8"
         },
         "yaxis": "y"
        },
        {
         "line": {
          "color": "#01FFFF",
          "width": 0.6
         },
         "mode": "lines",
         "name": "HMA",
         "showlegend": false,
         "type": "scatter",
         "x": [
          "2025-10-30T12:15:00-04:00",
          "2025-10-30T12:16:00-04:00"
         ],
         "xaxis": "x",
         "y": {
          "bdata": "3v+FW3DaukCeFjTA/Nq6QA==",
          "dtype": "f8"
         },
         "yaxis": "y"
        },
        {
         "line": {
          "color": "#01FFFF",
          "width": 0.6
         },
         "mode": "lines",
         "name": "HMA",
         "showlegend": false,
         "type": "scatter",
         "x": [
          "2025-10-30T12:16:00-04:00",
          "2025-10-30T12:17:00-04:00"
         ],
         "xaxis": "x",
         "y": {
          "bdata": "nhY0wPzaukCzafyQH9u6QA==",
          "dtype": "f8"
         },
         "yaxis": "y"
        },
        {
         "line": {
          "color": "#FF66FE",
          "width": 0.6
         },
         "mode": "lines",
         "name": "HMA",
         "showlegend": false,
         "type": "scatter",
         "x": [
          "2025-10-30T12:17:00-04:00",
          "2025-10-30T12:18:00-04:00"
         ],
         "xaxis": "x",
         "y": {
          "bdata": "s2n8kB/bukBDni9v6dq6QA==",
          "dtype": "f8"
         },
         "yaxis": "y"
        },
        {
         "line": {
          "color": "#FF66FE",
          "width": 0.6
         },
         "mode": "lines",
         "name": "HMA",
         "showlegend": false,
         "type": "scatter",
         "x": [
          "2025-10-30T12:18:00-04:00",
          "2025-10-30T12:19:00-04:00"
         ],
         "xaxis": "x",
         "y": {
          "bdata": "Q54vb+naukBbBgAef9q6QA==",
          "dtype": "f8"
         },
         "yaxis": "y"
        },
        {
         "line": {
          "color": "#FF66FE",
          "width": 0.6
         },
         "mode": "lines",
         "name": "HMA",
         "showlegend": false,
         "type": "scatter",
         "x": [
          "2025-10-30T12:19:00-04:00",
          "2025-10-30T12:20:00-04:00"
         ],
         "xaxis": "x",
         "y": {
          "bdata": "WwYAHn/aukAahQa1DNq6QA==",
          "dtype": "f8"
         },
         "yaxis": "y"
        },
        {
         "line": {
          "color": "#FF66FE",
          "width": 0.6
         },
         "mode": "lines",
         "name": "HMA",
         "showlegend": false,
         "type": "scatter",
         "x": [
          "2025-10-30T12:20:00-04:00",
          "2025-10-30T12:21:00-04:00"
         ],
         "xaxis": "x",
         "y": {
          "bdata": "GoUGtQzaukBTY/pKddm6QA==",
          "dtype": "f8"
         },
         "yaxis": "y"
        },
        {
         "line": {
          "color": "#FF66FE",
          "width": 0.6
         },
         "mode": "lines",
         "name": "HMA",
         "showlegend": false,
         "type": "scatter",
         "x": [
          "2025-10-30T12:21:00-04:00",
          "2025-10-30T12:22:00-04:00"
         ],
         "xaxis": "x",
         "y": {
          "bdata": "U2P6SnXZukDevvEQxNi6QA==",
          "dtype": "f8"
         },
         "yaxis": "y"
        },
        {
         "line": {
          "color": "#FF66FE",
          "width": 0.6
         },
         "mode": "lines",
         "name": "HMA",
         "showlegend": false,
         "type": "scatter",
         "x": [
          "2025-10-30T12:22:00-04:00",
          "2025-10-30T12:23:00-04:00"
         ],
         "xaxis": "x",
         "y": {
          "bdata": "3r7xEMTYukAoE5TN69e6QA==",
          "dtype": "f8"
         },
         "yaxis": "y"
        },
        {
         "line": {
          "color": "#FF66FE",
          "width": 0.6
         },
         "mode": "lines",
         "name": "HMA",
         "showlegend": false,
         "type": "scatter",
         "x": [
          "2025-10-30T12:23:00-04:00",
          "2025-10-30T12:24:00-04:00"
         ],
         "xaxis": "x",
         "y": {
          "bdata": "KBOUzevXukADQ0ulZNe6QA==",
          "dtype": "f8"
         },
         "yaxis": "y"
        },
        {
         "line": {
          "color": "#FF66FE",
          "width": 0.6
         },
         "mode": "lines",
         "name": "HMA",
         "showlegend": false,
         "type": "scatter",
         "x": [
          "2025-10-30T12:24:00-04:00",
          "2025-10-30T12:25:00-04:00"
         ],
         "xaxis": "x",
         "y": {
          "bdata": "A0NLpWTXukAONcTO+da6QA==",
          "dtype": "f8"
         },
         "yaxis": "y"
        },
        {
         "line": {
          "color": "#FF66FE",
          "width": 0.6
         },
         "mode": "lines",
         "name": "HMA",
         "showlegend": false,
         "type": "scatter",
         "x": [
          "2025-10-30T12:25:00-04:00",
          "2025-10-30T12:26:00-04:00"
         ],
         "xaxis": "x",
         "y": {
          "bdata": "DjXEzvnWukDgOLP7vta6QA==",
          "dtype": "f8"
         },
         "yaxis": "y"
        },
        {
         "line": {
          "color": "#01FFFF",
          "width": 0.6
         },
         "mode": "lines",
         "name": "HMA",
         "showlegend": false,
         "type": "scatter",
         "x": [
          "2025-10-30T12:26:00-04:00",
          "2025-10-30T12:27:00-04:00"
         ],
         "xaxis": "x",
         "y": {
          "bdata": "4Diz+77WukDK0xAC1da6QA==",
          "dtype": "f8"
         },
         "yaxis": "y"
        },
        {
         "line": {
          "color": "#01FFFF",
          "width": 0.6
         },
         "mode": "lines",
         "name": "HMA",
         "showlegend": false,
         "type": "scatter",
         "x": [
          "2025-10-30T12:27:00-04:00",
          "2025-10-30T12:28:00-04:00"
         ],
         "xaxis": "x",
         "y": {
          "bdata": "ytMQAtXWukAG/96yJde6QA==",
          "dtype": "f8"
         },
         "yaxis": "y"
        },
        {
         "line": {
          "color": "#01FFFF",
          "width": 0.6
         },
         "mode": "lines",
         "name": "HMA",
         "showlegend": false,
         "type": "scatter",
         "x": [
          "2025-10-30T12:28:00-04:00",
          "2025-10-30T12:29:00-04:00"
         ],
         "xaxis": "x",
         "y": {
          "bdata": "Bv/esiXXukAg7JOnbNe6QA==",
          "dtype": "f8"
         },
         "yaxis": "y"
        },
        {
         "line": {
          "color": "#FF66FE",
          "width": 0.6
         },
         "mode": "lines",
         "name": "HMA",
         "showlegend": false,
         "type": "scatter",
         "x": [
          "2025-10-30T12:29:00-04:00",
          "2025-10-30T12:30:00-04:00"
         ],
         "xaxis": "x",
         "y": {
          "bdata": "IOyTp2zXukD4paCoPNe6QA==",
          "dtype": "f8"
         },
         "yaxis": "y"
        },
        {
         "line": {
          "color": "#FF66FE",
          "width": 0.6
         },
         "mode": "lines",
         "name": "HMA",
         "showlegend": false,
         "type": "scatter",
         "x": [
          "2025-10-30T12:30:00-04:00",
          "2025-10-30T12:31:00-04:00"
         ],
         "xaxis": "x",
         "y": {
          "bdata": "+KWgqDzXukCDKHnhn9a6QA==",
          "dtype": "f8"
         },
         "yaxis": "y"
        },
        {
         "line": {
          "color": "#FF66FE",
          "width": 0.6
         },
         "mode": "lines",
         "name": "HMA",
         "showlegend": false,
         "type": "scatter",
         "x": [
          "2025-10-30T12:31:00-04:00",
          "2025-10-30T12:32:00-04:00"
         ],
         "xaxis": "x",
         "y": {
          "bdata": "gyh54Z/WukD2OsSz5tW6QA==",
          "dtype": "f8"
         },
         "yaxis": "y"
        },
        {
         "line": {
          "color": "#FF66FE",
          "width": 0.6
         },
         "mode": "lines",
         "name": "HMA",
         "showlegend": false,
         "type": "scatter",
         "x": [
          "2025-10-30T12:32:00-04:00",
          "2025-10-30T12:33:00-04:00"
         ],
         "xaxis": "x",
         "y": {
          "bdata": "9jrEs+bVukB2Gl6X5tS6QA==",
          "dtype": "f8"
         },
         "yaxis": "y"
        },
        {
         "line": {
          "color": "#FF66FE",
          "width": 0.6
         },
         "mode": "lines",
         "name": "HMA",
         "showlegend": false,
         "type": "scatter",
         "x": [
          "2025-10-30T12:33:00-04:00",
          "2025-10-30T12:34:00-04:00"
         ],
         "xaxis": "x",
         "y": {
          "bdata": "dhpel+bUukDKbpB3dtO6QA==",
          "dtype": "f8"
         },
         "yaxis": "y"
        },
        {
         "line": {
          "color": "#FF66FE",
          "width": 0.6
         },
         "mode": "lines",
         "name": "HMA",
         "showlegend": false,
         "type": "scatter",
         "x": [
          "2025-10-30T12:34:00-04:00",
          "2025-10-30T12:35:00-04:00"
         ],
         "xaxis": "x",
         "y": {
          "bdata": "ym6Qd3bTukCDSnbYpdG6QA==",
          "dtype": "f8"
         },
         "yaxis": "y"
        },
        {
         "line": {
          "color": "#FF66FE",
          "width": 0.6
         },
         "mode": "lines",
         "name": "HMA",
         "showlegend": false,
         "type": "scatter",
         "x": [
          "2025-10-30T12:35:00-04:00",
          "2025-10-30T12:36:00-04:00"
         ],
         "xaxis": "x",
         "y": {
          "bdata": "g0p22KXRukAKm54orM+6QA==",
          "dtype": "f8"
         },
         "yaxis": "y"
        },
        {
         "line": {
          "color": "#FF66FE",
          "width": 0.6
         },
         "mode": "lines",
         "name": "HMA",
         "showlegend": false,
         "type": "scatter",
         "x": [
          "2025-10-30T12:36:00-04:00",
          "2025-10-30T12:37:00-04:00"
         ],
         "xaxis": "x",
         "y": {
          "bdata": "CpueKKzPukDjlDmK0s26QA==",
          "dtype": "f8"
         },
         "yaxis": "y"
        },
        {
         "line": {
          "color": "#FF66FE",
          "width": 0.6
         },
         "mode": "lines",
         "name": "HMA",
         "showlegend": false,
         "type": "scatter",
         "x": [
          "2025-10-30T12:37:00-04:00",
          "2025-10-30T12:38:00-04:00"
         ],
         "xaxis": "x",
         "y": {
          "bdata": "45Q5itLNukAjGe+jXcy6QA==",
          "dtype": "f8"
         },
         "yaxis": "y"
        },
        {
         "line": {
          "color": "#FF66FE",
          "width": 0.6
         },
         "mode": "lines",
         "name": "HMA",
         "showlegend": false,
         "type": "scatter",
         "x": [
          "2025-10-30T12:38:00-04:00",
          "2025-10-30T12:39:00-04:00"
         ],
         "xaxis": "x",
         "y": {
          "bdata": "Ixnvo13MukDTt/+Ybsu6QA==",
          "dtype": "f8"
         },
         "yaxis": "y"
        },
        {
         "line": {
          "color": "#FF66FE",
          "width": 0.6
         },
         "mode": "lines",
         "name": "HMA",
         "showlegend": false,
         "type": "scatter",
         "x": [
          "2025-10-30T12:39:00-04:00",
          "2025-10-30T12:40:00-04:00"
         ],
         "xaxis": "x",
         "y": {
          "bdata": "07f/mG7LukCzRsAt2sq6QA==",
          "dtype": "f8"
         },
         "yaxis": "y"
        },
        {
         "line": {
          "color": "#FF66FE",
          "width": 0.6
         },
         "mode": "lines",
         "name": "HMA",
         "showlegend": false,
         "type": "scatter",
         "x": [
          "2025-10-30T12:40:00-04:00",
          "2025-10-30T12:41:00-04:00"
         ],
         "xaxis": "x",
         "y": {
          "bdata": "s0bALdrKukCTw8Mkzsq6QA==",
          "dtype": "f8"
         },
         "yaxis": "y"
        },
        {
         "line": {
          "color": "#01FFFF",
          "width": 0.6
         },
         "mode": "lines",
         "name": "HMA",
         "showlegend": false,
         "type": "scatter",
         "x": [
          "2025-10-30T12:41:00-04:00",
          "2025-10-30T12:42:00-04:00"
         ],
         "xaxis": "x",
         "y": {
          "bdata": "k8PDJM7KukBwd+dTD8u6QA==",
          "dtype": "f8"
         },
         "yaxis": "y"
        },
        {
         "line": {
          "color": "#01FFFF",
          "width": 0.6
         },
         "mode": "lines",
         "name": "HMA",
         "showlegend": false,
         "type": "scatter",
         "x": [
          "2025-10-30T12:42:00-04:00",
          "2025-10-30T12:43:00-04:00"
         ],
         "xaxis": "x",
         "y": {
          "bdata": "cHfnUw/LukDwS5bKfMu6QA==",
          "dtype": "f8"
         },
         "yaxis": "y"
        },
        {
         "line": {
          "color": "#01FFFF",
          "width": 0.6
         },
         "mode": "lines",
         "name": "HMA",
         "showlegend": false,
         "type": "scatter",
         "x": [
          "2025-10-30T12:43:00-04:00",
          "2025-10-30T12:44:00-04:00"
         ],
         "xaxis": "x",
         "y": {
          "bdata": "8EuWynzLukDKuoCfYsy6QA==",
          "dtype": "f8"
         },
         "yaxis": "y"
        },
        {
         "line": {
          "color": "#01FFFF",
          "width": 0.6
         },
         "mode": "lines",
         "name": "HMA",
         "showlegend": false,
         "type": "scatter",
         "x": [
          "2025-10-30T12:44:00-04:00",
          "2025-10-30T12:45:00-04:00"
         ],
         "xaxis": "x",
         "y": {
          "bdata": "yrqAn2LMukAjhoDLoM26QA==",
          "dtype": "f8"
         },
         "yaxis": "y"
        },
        {
         "line": {
          "color": "#01FFFF",
          "width": 0.6
         },
         "mode": "lines",
         "name": "HMA",
         "showlegend": false,
         "type": "scatter",
         "x": [
          "2025-10-30T12:45:00-04:00",
          "2025-10-30T12:46:00-04:00"
         ],
         "xaxis": "x",
         "y": {
          "bdata": "I4aAy6DNukAyNI6WDM+6QA==",
          "dtype": "f8"
         },
         "yaxis": "y"
        },
        {
         "line": {
          "color": "#01FFFF",
          "width": 0.6
         },
         "mode": "lines",
         "name": "HMA",
         "showlegend": false,
         "type": "scatter",
         "x": [
          "2025-10-30T12:46:00-04:00",
          "2025-10-30T12:47:00-04:00"
         ],
         "xaxis": "x",
         "y": {
          "bdata": "MjSOlgzPukDoHVJvRdC6QA==",
          "dtype": "f8"
         },
         "yaxis": "y"
        },
        {
         "line": {
          "color": "#01FFFF",
          "width": 0.6
         },
         "mode": "lines",
         "name": "HMA",
         "showlegend": false,
         "type": "scatter",
         "x": [
          "2025-10-30T12:47:00-04:00",
          "2025-10-30T12:48:00-04:00"
         ],
         "xaxis": "x",
         "y": {
          "bdata": "6B1Sb0XQukAW4pAFC9G6QA==",
          "dtype": "f8"
         },
         "yaxis": "y"
        },
        {
         "line": {
          "color": "#01FFFF",
          "width": 0.6
         },
         "mode": "lines",
         "name": "HMA",
         "showlegend": false,
         "type": "scatter",
         "x": [
          "2025-10-30T12:48:00-04:00",
          "2025-10-30T12:49:00-04:00"
         ],
         "xaxis": "x",
         "y": {
          "bdata": "FuKQBQvRukAjvwLlktG6QA==",
          "dtype": "f8"
         },
         "yaxis": "y"
        },
        {
         "line": {
          "color": "#01FFFF",
          "width": 0.6
         },
         "mode": "lines",
         "name": "HMA",
         "showlegend": false,
         "type": "scatter",
         "x": [
          "2025-10-30T12:49:00-04:00",
          "2025-10-30T12:50:00-04:00"
         ],
         "xaxis": "x",
         "y": {
          "bdata": "I78C5ZLRukBIvGtf9tG6QA==",
          "dtype": "f8"
         },
         "yaxis": "y"
        },
        {
         "line": {
          "color": "#01FFFF",
          "width": 0.6
         },
         "mode": "lines",
         "name": "HMA",
         "showlegend": false,
         "type": "scatter",
         "x": [
          "2025-10-30T12:50:00-04:00",
          "2025-10-30T12:51:00-04:00"
         ],
         "xaxis": "x",
         "y": {
          "bdata": "SLxrX/bRukB6EJafCdK6QA==",
          "dtype": "f8"
         },
         "yaxis": "y"
        },
        {
         "line": {
          "color": "#FF66FE",
          "width": 0.6
         },
         "mode": "lines",
         "name": "HMA",
         "showlegend": false,
         "type": "scatter",
         "x": [
          "2025-10-30T12:51:00-04:00",
          "2025-10-30T12:52:00-04:00"
         ],
         "xaxis": "x",
         "y": {
          "bdata": "ehCWnwnSukCT1blEv9G6QA==",
          "dtype": "f8"
         },
         "yaxis": "y"
        },
        {
         "line": {
          "color": "#FF66FE",
          "width": 0.6
         },
         "mode": "lines",
         "name": "HMA",
         "showlegend": false,
         "type": "scatter",
         "x": [
          "2025-10-30T12:52:00-04:00",
          "2025-10-30T12:53:00-04:00"
         ],
         "xaxis": "x",
         "y": {
          "bdata": "k9W5RL/RukBln3Z7ZdG6QA==",
          "dtype": "f8"
         },
         "yaxis": "y"
        },
        {
         "line": {
          "color": "#FF66FE",
          "width": 0.6
         },
         "mode": "lines",
         "name": "HMA",
         "showlegend": false,
         "type": "scatter",
         "x": [
          "2025-10-30T12:53:00-04:00",
          "2025-10-30T12:54:00-04:00"
         ],
         "xaxis": "x",
         "y": {
          "bdata": "ZZ92e2XRukAQaLKPENG6QA==",
          "dtype": "f8"
         },
         "yaxis": "y"
        },
        {
         "line": {
          "color": "#FF66FE",
          "width": 0.6
         },
         "mode": "lines",
         "name": "HMA",
         "showlegend": false,
         "type": "scatter",
         "x": [
          "2025-10-30T12:54:00-04:00",
          "2025-10-30T12:55:00-04:00"
         ],
         "xaxis": "x",
         "y": {
          "bdata": "EGiyjxDRukAgz7Ou/tC6QA==",
          "dtype": "f8"
         },
         "yaxis": "y"
        },
        {
         "line": {
          "color": "#01FFFF",
          "width": 0.6
         },
         "mode": "lines",
         "name": "HMA",
         "showlegend": false,
         "type": "scatter",
         "x": [
          "2025-10-30T12:55:00-04:00",
          "2025-10-30T12:56:00-04:00"
         ],
         "xaxis": "x",
         "y": {
          "bdata": "IM+zrv7QukAD2rMGVNG6QA==",
          "dtype": "f8"
         },
         "yaxis": "y"
        },
        {
         "line": {
          "color": "#01FFFF",
          "width": 0.6
         },
         "mode": "lines",
         "name": "HMA",
         "showlegend": false,
         "type": "scatter",
         "x": [
          "2025-10-30T12:56:00-04:00",
          "2025-10-30T12:57:00-04:00"
         ],
         "xaxis": "x",
         "y": {
          "bdata": "A9qzBlTRukDAy+CxxdG6QA==",
          "dtype": "f8"
         },
         "yaxis": "y"
        },
        {
         "line": {
          "color": "#01FFFF",
          "width": 0.6
         },
         "mode": "lines",
         "name": "HMA",
         "showlegend": false,
         "type": "scatter",
         "x": [
          "2025-10-30T12:57:00-04:00",
          "2025-10-30T12:58:00-04:00"
         ],
         "xaxis": "x",
         "y": {
          "bdata": "wMvgscXRukDKvcpLONK6QA==",
          "dtype": "f8"
         },
         "yaxis": "y"
        },
        {
         "line": {
          "color": "#01FFFF",
          "width": 0.6
         },
         "mode": "lines",
         "name": "HMA",
         "showlegend": false,
         "type": "scatter",
         "x": [
          "2025-10-30T12:58:00-04:00",
          "2025-10-30T12:59:00-04:00"
         ],
         "xaxis": "x",
         "y": {
          "bdata": "yr3KSzjSukCaAZ1Sl9K6QA==",
          "dtype": "f8"
         },
         "yaxis": "y"
        },
        {
         "line": {
          "color": "#FF66FE",
          "width": 0.6
         },
         "mode": "lines",
         "name": "HMA",
         "showlegend": false,
         "type": "scatter",
         "x": [
          "2025-10-30T12:59:00-04:00",
          "2025-10-30T13:00:00-04:00"
         ],
         "xaxis": "x",
         "y": {
          "bdata": "mgGdUpfSukBWhLr9dtK6QA==",
          "dtype": "f8"
         },
         "yaxis": "y"
        },
        {
         "line": {
          "color": "#FF66FE",
          "width": 0.6
         },
         "mode": "lines",
         "name": "HMA",
         "showlegend": false,
         "type": "scatter",
         "x": [
          "2025-10-30T13:00:00-04:00",
          "2025-10-30T13:01:00-04:00"
         ],
         "xaxis": "x",
         "y": {
          "bdata": "VoS6/XbSukC1qpDbG9K6QA==",
          "dtype": "f8"
         },
         "yaxis": "y"
        },
        {
         "line": {
          "color": "#FF66FE",
          "width": 0.6
         },
         "mode": "lines",
         "name": "HMA",
         "showlegend": false,
         "type": "scatter",
         "x": [
          "2025-10-30T13:01:00-04:00",
          "2025-10-30T13:02:00-04:00"
         ],
         "xaxis": "x",
         "y": {
          "bdata": "taqQ2xvSukBG15WRYdG6QA==",
          "dtype": "f8"
         },
         "yaxis": "y"
        },
        {
         "line": {
          "color": "#FF66FE",
          "width": 0.6
         },
         "mode": "lines",
         "name": "HMA",
         "showlegend": false,
         "type": "scatter",
         "x": [
          "2025-10-30T13:02:00-04:00",
          "2025-10-30T13:03:00-04:00"
         ],
         "xaxis": "x",
         "y": {
          "bdata": "RteVkWHRukADuS1qYdC6QA==",
          "dtype": "f8"
         },
         "yaxis": "y"
        },
        {
         "line": {
          "color": "#FF66FE",
          "width": 0.6
         },
         "mode": "lines",
         "name": "HMA",
         "showlegend": false,
         "type": "scatter",
         "x": [
          "2025-10-30T13:03:00-04:00",
          "2025-10-30T13:04:00-04:00"
         ],
         "xaxis": "x",
         "y": {
          "bdata": "A7ktamHQukDFmhtQSs+6QA==",
          "dtype": "f8"
         },
         "yaxis": "y"
        },
        {
         "line": {
          "color": "#FF66FE",
          "width": 0.6
         },
         "mode": "lines",
         "name": "HMA",
         "showlegend": false,
         "type": "scatter",
         "x": [
          "2025-10-30T13:04:00-04:00",
          "2025-10-30T13:05:00-04:00"
         ],
         "xaxis": "x",
         "y": {
          "bdata": "xZobUErPukBIfVXtqM26QA==",
          "dtype": "f8"
         },
         "yaxis": "y"
        },
        {
         "line": {
          "color": "#FF66FE",
          "width": 0.6
         },
         "mode": "lines",
         "name": "HMA",
         "showlegend": false,
         "type": "scatter",
         "x": [
          "2025-10-30T13:05:00-04:00",
          "2025-10-30T13:06:00-04:00"
         ],
         "xaxis": "x",
         "y": {
          "bdata": "SH1V7ajNukB69cF6t8u6QA==",
          "dtype": "f8"
         },
         "yaxis": "y"
        },
        {
         "line": {
          "color": "#FF66FE",
          "width": 0.6
         },
         "mode": "lines",
         "name": "HMA",
         "showlegend": false,
         "type": "scatter",
         "x": [
          "2025-10-30T13:06:00-04:00",
          "2025-10-30T13:07:00-04:00"
         ],
         "xaxis": "x",
         "y": {
          "bdata": "evXBerfLukCG2Mey+sm6QA==",
          "dtype": "f8"
         },
         "yaxis": "y"
        },
        {
         "line": {
          "color": "#FF66FE",
          "width": 0.6
         },
         "mode": "lines",
         "name": "HMA",
         "showlegend": false,
         "type": "scatter",
         "x": [
          "2025-10-30T13:07:00-04:00",
          "2025-10-30T13:08:00-04:00"
         ],
         "xaxis": "x",
         "y": {
          "bdata": "htjHsvrJukAASfv0mci6QA==",
          "dtype": "f8"
         },
         "yaxis": "y"
        },
        {
         "line": {
          "color": "#FF66FE",
          "width": 0.6
         },
         "mode": "lines",
         "name": "HMA",
         "showlegend": false,
         "type": "scatter",
         "x": [
          "2025-10-30T13:08:00-04:00",
          "2025-10-30T13:09:00-04:00"
         ],
         "xaxis": "x",
         "y": {
          "bdata": "AEn79JnIukBNL5Sbtce6QA==",
          "dtype": "f8"
         },
         "yaxis": "y"
        },
        {
         "line": {
          "color": "#FF66FE",
          "width": 0.6
         },
         "mode": "lines",
         "name": "HMA",
         "showlegend": false,
         "type": "scatter",
         "x": [
          "2025-10-30T13:09:00-04:00",
          "2025-10-30T13:10:00-04:00"
         ],
         "xaxis": "x",
         "y": {
          "bdata": "TS+Um7XHukA+1jgGHce6QA==",
          "dtype": "f8"
         },
         "yaxis": "y"
        },
        {
         "line": {
          "color": "#FF66FE",
          "width": 0.6
         },
         "mode": "lines",
         "name": "HMA",
         "showlegend": false,
         "type": "scatter",
         "x": [
          "2025-10-30T13:10:00-04:00",
          "2025-10-30T13:11:00-04:00"
         ],
         "xaxis": "x",
         "y": {
          "bdata": "PtY4Bh3HukBquhNGmca6QA==",
          "dtype": "f8"
         },
         "yaxis": "y"
        },
        {
         "line": {
          "color": "#FF66FE",
          "width": 0.6
         },
         "mode": "lines",
         "name": "HMA",
         "showlegend": false,
         "type": "scatter",
         "x": [
          "2025-10-30T13:11:00-04:00",
          "2025-10-30T13:12:00-04:00"
         ],
         "xaxis": "x",
         "y": {
          "bdata": "aroTRpnGukBFnqFzDMa6QA==",
          "dtype": "f8"
         },
         "yaxis": "y"
        },
        {
         "line": {
          "color": "#FF66FE",
          "width": 0.6
         },
         "mode": "lines",
         "name": "HMA",
         "showlegend": false,
         "type": "scatter",
         "x": [
          "2025-10-30T13:12:00-04:00",
          "2025-10-30T13:13:00-04:00"
         ],
         "xaxis": "x",
         "y": {
          "bdata": "RZ6hcwzGukCDrUCcwcW6QA==",
          "dtype": "f8"
         },
         "yaxis": "y"
        },
        {
         "line": {
          "color": "#FF66FE",
          "width": 0.6
         },
         "mode": "lines",
         "name": "HMA",
         "showlegend": false,
         "type": "scatter",
         "x": [
          "2025-10-30T13:13:00-04:00",
          "2025-10-30T13:14:00-04:00"
         ],
         "xaxis": "x",
         "y": {
          "bdata": "g61AnMHFukAWu5ObvMW6QA==",
          "dtype": "f8"
         },
         "yaxis": "y"
        },
        {
         "line": {
          "color": "#01FFFF",
          "width": 0.6
         },
         "mode": "lines",
         "name": "HMA",
         "showlegend": false,
         "type": "scatter",
         "x": [
          "2025-10-30T13:14:00-04:00",
          "2025-10-30T13:15:00-04:00"
         ],
         "xaxis": "x",
         "y": {
          "bdata": "FruTm7zFukAKSIbCAca6QA==",
          "dtype": "f8"
         },
         "yaxis": "y"
        },
        {
         "line": {
          "color": "#01FFFF",
          "width": 0.6
         },
         "mode": "lines",
         "name": "HMA",
         "showlegend": false,
         "type": "scatter",
         "x": [
          "2025-10-30T13:15:00-04:00",
          "2025-10-30T13:16:00-04:00"
         ],
         "xaxis": "x",
         "y": {
          "bdata": "CkiGwgHGukAICgOigca6QA==",
          "dtype": "f8"
         },
         "yaxis": "y"
        },
        {
         "line": {
          "color": "#01FFFF",
          "width": 0.6
         },
         "mode": "lines",
         "name": "HMA",
         "showlegend": false,
         "type": "scatter",
         "x": [
          "2025-10-30T13:16:00-04:00",
          "2025-10-30T13:17:00-04:00"
         ],
         "xaxis": "x",
         "y": {
          "bdata": "CAoDooHGukA6Y4NiJse6QA==",
          "dtype": "f8"
         },
         "yaxis": "y"
        },
        {
         "line": {
          "color": "#01FFFF",
          "width": 0.6
         },
         "mode": "lines",
         "name": "HMA",
         "showlegend": false,
         "type": "scatter",
         "x": [
          "2025-10-30T13:17:00-04:00",
          "2025-10-30T13:18:00-04:00"
         ],
         "xaxis": "x",
         "y": {
          "bdata": "OmODYibHukBwQDiM38e6QA==",
          "dtype": "f8"
         },
         "yaxis": "y"
        },
        {
         "line": {
          "color": "#01FFFF",
          "width": 0.6
         },
         "mode": "lines",
         "name": "HMA",
         "showlegend": false,
         "type": "scatter",
         "x": [
          "2025-10-30T13:18:00-04:00",
          "2025-10-30T13:19:00-04:00"
         ],
         "xaxis": "x",
         "y": {
          "bdata": "cEA4jN/HukAqtl72oMi6QA==",
          "dtype": "f8"
         },
         "yaxis": "y"
        },
        {
         "line": {
          "color": "#01FFFF",
          "width": 0.6
         },
         "mode": "lines",
         "name": "HMA",
         "showlegend": false,
         "type": "scatter",
         "x": [
          "2025-10-30T13:19:00-04:00",
          "2025-10-30T13:20:00-04:00"
         ],
         "xaxis": "x",
         "y": {
          "bdata": "KrZe9qDIukBWc608HMm6QA==",
          "dtype": "f8"
         },
         "yaxis": "y"
        },
        {
         "line": {
          "color": "#01FFFF",
          "width": 0.6
         },
         "mode": "lines",
         "name": "HMA",
         "showlegend": false,
         "type": "scatter",
         "x": [
          "2025-10-30T13:20:00-04:00",
          "2025-10-30T13:21:00-04:00"
         ],
         "xaxis": "x",
         "y": {
          "bdata": "VnOtPBzJukDK4WESV8m6QA==",
          "dtype": "f8"
         },
         "yaxis": "y"
        },
        {
         "line": {
          "color": "#01FFFF",
          "width": 0.6
         },
         "mode": "lines",
         "name": "HMA",
         "showlegend": false,
         "type": "scatter",
         "x": [
          "2025-10-30T13:21:00-04:00",
          "2025-10-30T13:22:00-04:00"
         ],
         "xaxis": "x",
         "y": {
          "bdata": "yuFhElfJukCCnDPb1sm6QA==",
          "dtype": "f8"
         },
         "yaxis": "y"
        },
        {
         "line": {
          "color": "#01FFFF",
          "width": 0.6
         },
         "mode": "lines",
         "name": "HMA",
         "showlegend": false,
         "type": "scatter",
         "x": [
          "2025-10-30T13:22:00-04:00",
          "2025-10-30T13:23:00-04:00"
         ],
         "xaxis": "x",
         "y": {
          "bdata": "gpwz29bJukDgRlmFlMq6QA==",
          "dtype": "f8"
         },
         "yaxis": "y"
        },
        {
         "line": {
          "color": "#01FFFF",
          "width": 0.6
         },
         "mode": "lines",
         "name": "HMA",
         "showlegend": false,
         "type": "scatter",
         "x": [
          "2025-10-30T13:23:00-04:00",
          "2025-10-30T13:24:00-04:00"
         ],
         "xaxis": "x",
         "y": {
          "bdata": "4EZZhZTKukDbX5Pancu6QA==",
          "dtype": "f8"
         },
         "yaxis": "y"
        },
        {
         "line": {
          "color": "#01FFFF",
          "width": 0.6
         },
         "mode": "lines",
         "name": "HMA",
         "showlegend": false,
         "type": "scatter",
         "x": [
          "2025-10-30T13:24:00-04:00",
          "2025-10-30T13:25:00-04:00"
         ],
         "xaxis": "x",
         "y": {
          "bdata": "21+T2p3LukAtD35N78y6QA==",
          "dtype": "f8"
         },
         "yaxis": "y"
        },
        {
         "line": {
          "color": "#01FFFF",
          "width": 0.6
         },
         "mode": "lines",
         "name": "HMA",
         "showlegend": false,
         "type": "scatter",
         "x": [
          "2025-10-30T13:25:00-04:00",
          "2025-10-30T13:26:00-04:00"
         ],
         "xaxis": "x",
         "y": {
          "bdata": "LQ9+Te/MukCDEk8iXc66QA==",
          "dtype": "f8"
         },
         "yaxis": "y"
        },
        {
         "line": {
          "color": "#01FFFF",
          "width": 0.6
         },
         "mode": "lines",
         "name": "HMA",
         "showlegend": false,
         "type": "scatter",
         "x": [
          "2025-10-30T13:26:00-04:00",
          "2025-10-30T13:27:00-04:00"
         ],
         "xaxis": "x",
         "y": {
          "bdata": "gxJPIl3OukCKcw86+M+6QA==",
          "dtype": "f8"
         },
         "yaxis": "y"
        },
        {
         "line": {
          "color": "#01FFFF",
          "width": 0.6
         },
         "mode": "lines",
         "name": "HMA",
         "showlegend": false,
         "type": "scatter",
         "x": [
          "2025-10-30T13:27:00-04:00",
          "2025-10-30T13:28:00-04:00"
         ],
         "xaxis": "x",
         "y": {
          "bdata": "inMPOvjPukA7Adt/itG6QA==",
          "dtype": "f8"
         },
         "yaxis": "y"
        },
        {
         "line": {
          "color": "#01FFFF",
          "width": 0.6
         },
         "mode": "lines",
         "name": "HMA",
         "showlegend": false,
         "type": "scatter",
         "x": [
          "2025-10-30T13:28:00-04:00",
          "2025-10-30T13:29:00-04:00"
         ],
         "xaxis": "x",
         "y": {
          "bdata": "OwHbf4rRukBuC8zy2dK6QA==",
          "dtype": "f8"
         },
         "yaxis": "y"
        },
        {
         "line": {
          "color": "#01FFFF",
          "width": 0.6
         },
         "mode": "lines",
         "name": "HMA",
         "showlegend": false,
         "type": "scatter",
         "x": [
          "2025-10-30T13:29:00-04:00",
          "2025-10-30T13:30:00-04:00"
         ],
         "xaxis": "x",
         "y": {
          "bdata": "bgvM8tnSukDA4Dx1dtO6QA==",
          "dtype": "f8"
         },
         "yaxis": "y"
        },
        {
         "line": {
          "color": "#FF66FE",
          "width": 0.6
         },
         "mode": "lines",
         "name": "HMA",
         "showlegend": false,
         "type": "scatter",
         "x": [
          "2025-10-30T13:30:00-04:00",
          "2025-10-30T13:31:00-04:00"
         ],
         "xaxis": "x",
         "y": {
          "bdata": "wOA8dXbTukDKZMh/WdO6QA==",
          "dtype": "f8"
         },
         "yaxis": "y"
        },
        {
         "line": {
          "color": "#FF66FE",
          "width": 0.6
         },
         "mode": "lines",
         "name": "HMA",
         "showlegend": false,
         "type": "scatter",
         "x": [
          "2025-10-30T13:31:00-04:00",
          "2025-10-30T13:32:00-04:00"
         ],
         "xaxis": "x",
         "y": {
          "bdata": "ymTIf1nTukDIcNQ55tK6QA==",
          "dtype": "f8"
         },
         "yaxis": "y"
        },
        {
         "line": {
          "color": "#FF66FE",
          "width": 0.6
         },
         "mode": "lines",
         "name": "HMA",
         "showlegend": false,
         "type": "scatter",
         "x": [
          "2025-10-30T13:32:00-04:00",
          "2025-10-30T13:33:00-04:00"
         ],
         "xaxis": "x",
         "y": {
          "bdata": "yHDUOebSukAIOt+kJtK6QA==",
          "dtype": "f8"
         },
         "yaxis": "y"
        },
        {
         "line": {
          "color": "#FF66FE",
          "width": 0.6
         },
         "mode": "lines",
         "name": "HMA",
         "showlegend": false,
         "type": "scatter",
         "x": [
          "2025-10-30T13:33:00-04:00",
          "2025-10-30T13:34:00-04:00"
         ],
         "xaxis": "x",
         "y": {
          "bdata": "CDrfpCbSukDgJOqJW9G6QA==",
          "dtype": "f8"
         },
         "yaxis": "y"
        },
        {
         "line": {
          "color": "#FF66FE",
          "width": 0.6
         },
         "mode": "lines",
         "name": "HMA",
         "showlegend": false,
         "type": "scatter",
         "x": [
          "2025-10-30T13:34:00-04:00",
          "2025-10-30T13:35:00-04:00"
         ],
         "xaxis": "x",
         "y": {
          "bdata": "4CTqiVvRukBzRyjcOdC6QA==",
          "dtype": "f8"
         },
         "yaxis": "y"
        },
        {
         "line": {
          "color": "#FF66FE",
          "width": 0.6
         },
         "mode": "lines",
         "name": "HMA",
         "showlegend": false,
         "type": "scatter",
         "x": [
          "2025-10-30T13:35:00-04:00",
          "2025-10-30T13:36:00-04:00"
         ],
         "xaxis": "x",
         "y": {
          "bdata": "c0co3DnQukCK1Aas4c66QA==",
          "dtype": "f8"
         },
         "yaxis": "y"
        },
        {
         "line": {
          "color": "#FF66FE",
          "width": 0.6
         },
         "mode": "lines",
         "name": "HMA",
         "showlegend": false,
         "type": "scatter",
         "x": [
          "2025-10-30T13:36:00-04:00",
          "2025-10-30T13:37:00-04:00"
         ],
         "xaxis": "x",
         "y": {
          "bdata": "itQGrOHOukBFegqtfc26QA==",
          "dtype": "f8"
         },
         "yaxis": "y"
        },
        {
         "line": {
          "color": "#FF66FE",
          "width": 0.6
         },
         "mode": "lines",
         "name": "HMA",
         "showlegend": false,
         "type": "scatter",
         "x": [
          "2025-10-30T13:37:00-04:00",
          "2025-10-30T13:38:00-04:00"
         ],
         "xaxis": "x",
         "y": {
          "bdata": "RXoKrX3NukCIpS//bMy6QA==",
          "dtype": "f8"
         },
         "yaxis": "y"
        },
        {
         "line": {
          "color": "#FF66FE",
          "width": 0.6
         },
         "mode": "lines",
         "name": "HMA",
         "showlegend": false,
         "type": "scatter",
         "x": [
          "2025-10-30T13:38:00-04:00",
          "2025-10-30T13:39:00-04:00"
         ],
         "xaxis": "x",
         "y": {
          "bdata": "iKUv/2zMukCQ9ug/08u6QA==",
          "dtype": "f8"
         },
         "yaxis": "y"
        },
        {
         "line": {
          "color": "#FF66FE",
          "width": 0.6
         },
         "mode": "lines",
         "name": "HMA",
         "showlegend": false,
         "type": "scatter",
         "x": [
          "2025-10-30T13:39:00-04:00",
          "2025-10-30T13:40:00-04:00"
         ],
         "xaxis": "x",
         "y": {
          "bdata": "kPboP9PLukDKKw3kbcu6QA==",
          "dtype": "f8"
         },
         "yaxis": "y"
        },
        {
         "line": {
          "color": "#FF66FE",
          "width": 0.6
         },
         "mode": "lines",
         "name": "HMA",
         "showlegend": false,
         "type": "scatter",
         "x": [
          "2025-10-30T13:40:00-04:00",
          "2025-10-30T13:41:00-04:00"
         ],
         "xaxis": "x",
         "y": {
          "bdata": "yisN5G3LukCI5hjDLMu6QA==",
          "dtype": "f8"
         },
         "yaxis": "y"
        },
        {
         "line": {
          "color": "#FF66FE",
          "width": 0.6
         },
         "mode": "lines",
         "name": "HMA",
         "showlegend": false,
         "type": "scatter",
         "x": [
          "2025-10-30T13:41:00-04:00",
          "2025-10-30T13:42:00-04:00"
         ],
         "xaxis": "x",
         "y": {
          "bdata": "iOYYwyzLukC1qldZ4sq6QA==",
          "dtype": "f8"
         },
         "yaxis": "y"
        },
        {
         "line": {
          "color": "#FF66FE",
          "width": 0.6
         },
         "mode": "lines",
         "name": "HMA",
         "showlegend": false,
         "type": "scatter",
         "x": [
          "2025-10-30T13:42:00-04:00",
          "2025-10-30T13:43:00-04:00"
         ],
         "xaxis": "x",
         "y": {
          "bdata": "tapXWeLKukDleO12x8q6QA==",
          "dtype": "f8"
         },
         "yaxis": "y"
        },
        {
         "line": {
          "color": "#01FFFF",
          "width": 0.6
         },
         "mode": "lines",
         "name": "HMA",
         "showlegend": false,
         "type": "scatter",
         "x": [
          "2025-10-30T13:43:00-04:00",
          "2025-10-30T13:44:00-04:00"
         ],
         "xaxis": "x",
         "y": {
          "bdata": "5XjtdsfKukCtcoSI98q6QA==",
          "dtype": "f8"
         },
         "yaxis": "y"
        },
        {
         "line": {
          "color": "#01FFFF",
          "width": 0.6
         },
         "mode": "lines",
         "name": "HMA",
         "showlegend": false,
         "type": "scatter",
         "x": [
          "2025-10-30T13:44:00-04:00",
          "2025-10-30T13:45:00-04:00"
         ],
         "xaxis": "x",
         "y": {
          "bdata": "rXKEiPfKukCY+uWElsu6QA==",
          "dtype": "f8"
         },
         "yaxis": "y"
        },
        {
         "line": {
          "color": "#01FFFF",
          "width": 0.6
         },
         "mode": "lines",
         "name": "HMA",
         "showlegend": false,
         "type": "scatter",
         "x": [
          "2025-10-30T13:45:00-04:00",
          "2025-10-30T13:46:00-04:00"
         ],
         "xaxis": "x",
         "y": {
          "bdata": "mPrlhJbLukAtrobbtcy6QA==",
          "dtype": "f8"
         },
         "yaxis": "y"
        },
        {
         "line": {
          "color": "#01FFFF",
          "width": 0.6
         },
         "mode": "lines",
         "name": "HMA",
         "showlegend": false,
         "type": "scatter",
         "x": [
          "2025-10-30T13:46:00-04:00",
          "2025-10-30T13:47:00-04:00"
         ],
         "xaxis": "x",
         "y": {
          "bdata": "La6G27XMukCVtwzkBM66QA==",
          "dtype": "f8"
         },
         "yaxis": "y"
        },
        {
         "line": {
          "color": "#01FFFF",
          "width": 0.6
         },
         "mode": "lines",
         "name": "HMA",
         "showlegend": false,
         "type": "scatter",
         "x": [
          "2025-10-30T13:47:00-04:00",
          "2025-10-30T13:48:00-04:00"
         ],
         "xaxis": "x",
         "y": {
          "bdata": "lbcM5ATOukAzf+rYZc+6QA==",
          "dtype": "f8"
         },
         "yaxis": "y"
        },
        {
         "line": {
          "color": "#01FFFF",
          "width": 0.6
         },
         "mode": "lines",
         "name": "HMA",
         "showlegend": false,
         "type": "scatter",
         "x": [
          "2025-10-30T13:48:00-04:00",
          "2025-10-30T13:49:00-04:00"
         ],
         "xaxis": "x",
         "y": {
          "bdata": "M3/q2GXPukBDP+7D0tC6QA==",
          "dtype": "f8"
         },
         "yaxis": "y"
        },
        {
         "line": {
          "color": "#01FFFF",
          "width": 0.6
         },
         "mode": "lines",
         "name": "HMA",
         "showlegend": false,
         "type": "scatter",
         "x": [
          "2025-10-30T13:49:00-04:00",
          "2025-10-30T13:50:00-04:00"
         ],
         "xaxis": "x",
         "y": {
          "bdata": "Qz/uw9LQukBwKHT9w9G6QA==",
          "dtype": "f8"
         },
         "yaxis": "y"
        },
        {
         "line": {
          "color": "#01FFFF",
          "width": 0.6
         },
         "mode": "lines",
         "name": "HMA",
         "showlegend": false,
         "type": "scatter",
         "x": [
          "2025-10-30T13:50:00-04:00",
          "2025-10-30T13:51:00-04:00"
         ],
         "xaxis": "x",
         "y": {
          "bdata": "cCh0/cPRukAWi++Ge9K6QA==",
          "dtype": "f8"
         },
         "yaxis": "y"
        },
        {
         "line": {
          "color": "#01FFFF",
          "width": 0.6
         },
         "mode": "lines",
         "name": "HMA",
         "showlegend": false,
         "type": "scatter",
         "x": [
          "2025-10-30T13:51:00-04:00",
          "2025-10-30T13:52:00-04:00"
         ],
         "xaxis": "x",
         "y": {
          "bdata": "FovvhnvSukCYVdeZIdO6QA==",
          "dtype": "f8"
         },
         "yaxis": "y"
        },
        {
         "line": {
          "color": "#01FFFF",
          "width": 0.6
         },
         "mode": "lines",
         "name": "HMA",
         "showlegend": false,
         "type": "scatter",
         "x": [
          "2025-10-30T13:52:00-04:00",
          "2025-10-30T13:53:00-04:00"
         ],
         "xaxis": "x",
         "y": {
          "bdata": "mFXXmSHTukB+06iMt9O6QA==",
          "dtype": "f8"
         },
         "yaxis": "y"
        },
        {
         "line": {
          "color": "#01FFFF",
          "width": 0.6
         },
         "mode": "lines",
         "name": "HMA",
         "showlegend": false,
         "type": "scatter",
         "x": [
          "2025-10-30T13:53:00-04:00",
          "2025-10-30T13:54:00-04:00"
         ],
         "xaxis": "x",
         "y": {
          "bdata": "ftOojLfTukCTI3wqKNS6QA==",
          "dtype": "f8"
         },
         "yaxis": "y"
        },
        {
         "line": {
          "color": "#01FFFF",
          "width": 0.6
         },
         "mode": "lines",
         "name": "HMA",
         "showlegend": false,
         "type": "scatter",
         "x": [
          "2025-10-30T13:54:00-04:00",
          "2025-10-30T13:55:00-04:00"
         ],
         "xaxis": "x",
         "y": {
          "bdata": "kyN8KijUukClC0t7RdS6QA==",
          "dtype": "f8"
         },
         "yaxis": "y"
        },
        {
         "line": {
          "color": "#FF66FE",
          "width": 0.6
         },
         "mode": "lines",
         "name": "HMA",
         "showlegend": false,
         "type": "scatter",
         "x": [
          "2025-10-30T13:55:00-04:00",
          "2025-10-30T13:56:00-04:00"
         ],
         "xaxis": "x",
         "y": {
          "bdata": "pQtLe0XUukCegfMpA9S6QA==",
          "dtype": "f8"
         },
         "yaxis": "y"
        },
        {
         "line": {
          "color": "#FF66FE",
          "width": 0.6
         },
         "mode": "lines",
         "name": "HMA",
         "showlegend": false,
         "type": "scatter",
         "x": [
          "2025-10-30T13:56:00-04:00",
          "2025-10-30T13:57:00-04:00"
         ],
         "xaxis": "x",
         "y": {
          "bdata": "noHzKQPUukDYu6U8k9O6QA==",
          "dtype": "f8"
         },
         "yaxis": "y"
        },
        {
         "line": {
          "color": "#FF66FE",
          "width": 0.6
         },
         "mode": "lines",
         "name": "HMA",
         "showlegend": false,
         "type": "scatter",
         "x": [
          "2025-10-30T13:57:00-04:00",
          "2025-10-30T13:58:00-04:00"
         ],
         "xaxis": "x",
         "y": {
          "bdata": "2LulPJPTukA7nOjw6NK6QA==",
          "dtype": "f8"
         },
         "yaxis": "y"
        },
        {
         "line": {
          "color": "#FF66FE",
          "width": 0.6
         },
         "mode": "lines",
         "name": "HMA",
         "showlegend": false,
         "type": "scatter",
         "x": [
          "2025-10-30T13:58:00-04:00",
          "2025-10-30T13:59:00-04:00"
         ],
         "xaxis": "x",
         "y": {
          "bdata": "O5zo8OjSukCgXinLYNK6QA==",
          "dtype": "f8"
         },
         "yaxis": "y"
        },
        {
         "line": {
          "color": "#FF66FE",
          "width": 0.6
         },
         "mode": "lines",
         "name": "HMA",
         "showlegend": false,
         "type": "scatter",
         "x": [
          "2025-10-30T13:59:00-04:00",
          "2025-10-30T14:00:00-04:00"
         ],
         "xaxis": "x",
         "y": {
          "bdata": "oF4py2DSukATHMP76dG6QA==",
          "dtype": "f8"
         },
         "yaxis": "y"
        },
        {
         "line": {
          "color": "#FF66FE",
          "width": 0.6
         },
         "mode": "lines",
         "name": "HMA",
         "showlegend": false,
         "type": "scatter",
         "x": [
          "2025-10-30T14:00:00-04:00",
          "2025-10-30T14:01:00-04:00"
         ],
         "xaxis": "x",
         "y": {
          "bdata": "ExzD++nRukCAP290edG6QA==",
          "dtype": "f8"
         },
         "yaxis": "y"
        },
        {
         "line": {
          "color": "#FF66FE",
          "width": 0.6
         },
         "mode": "lines",
         "name": "HMA",
         "showlegend": false,
         "type": "scatter",
         "x": [
          "2025-10-30T14:01:00-04:00",
          "2025-10-30T14:02:00-04:00"
         ],
         "xaxis": "x",
         "y": {
          "bdata": "gD9vdHnRukCFyMDb5dC6QA==",
          "dtype": "f8"
         },
         "yaxis": "y"
        },
        {
         "line": {
          "color": "#FF66FE",
          "width": 0.6
         },
         "mode": "lines",
         "name": "HMA",
         "showlegend": false,
         "type": "scatter",
         "x": [
          "2025-10-30T14:02:00-04:00",
          "2025-10-30T14:03:00-04:00"
         ],
         "xaxis": "x",
         "y": {
          "bdata": "hcjA2+XQukCDtnSuS9C6QA==",
          "dtype": "f8"
         },
         "yaxis": "y"
        },
        {
         "line": {
          "color": "#FF66FE",
          "width": 0.6
         },
         "mode": "lines",
         "name": "HMA",
         "showlegend": false,
         "type": "scatter",
         "x": [
          "2025-10-30T14:03:00-04:00",
          "2025-10-30T14:04:00-04:00"
         ],
         "xaxis": "x",
         "y": {
          "bdata": "g7Z0rkvQukBVtmlSjs+6QA==",
          "dtype": "f8"
         },
         "yaxis": "y"
        },
        {
         "line": {
          "color": "#FF66FE",
          "width": 0.6
         },
         "mode": "lines",
         "name": "HMA",
         "showlegend": false,
         "type": "scatter",
         "x": [
          "2025-10-30T14:04:00-04:00",
          "2025-10-30T14:05:00-04:00"
         ],
         "xaxis": "x",
         "y": {
          "bdata": "VbZpUo7PukAd5U7ers66QA==",
          "dtype": "f8"
         },
         "yaxis": "y"
        },
        {
         "line": {
          "color": "#FF66FE",
          "width": 0.6
         },
         "mode": "lines",
         "name": "HMA",
         "showlegend": false,
         "type": "scatter",
         "x": [
          "2025-10-30T14:05:00-04:00",
          "2025-10-30T14:06:00-04:00"
         ],
         "xaxis": "x",
         "y": {
          "bdata": "HeVO3q7OukCa9nn3gM26QA==",
          "dtype": "f8"
         },
         "yaxis": "y"
        },
        {
         "line": {
          "color": "#FF66FE",
          "width": 0.6
         },
         "mode": "lines",
         "name": "HMA",
         "showlegend": false,
         "type": "scatter",
         "x": [
          "2025-10-30T14:06:00-04:00",
          "2025-10-30T14:07:00-04:00"
         ],
         "xaxis": "x",
         "y": {
          "bdata": "mvZ594DNukDifXvl/Mu6QA==",
          "dtype": "f8"
         },
         "yaxis": "y"
        },
        {
         "line": {
          "color": "#FF66FE",
          "width": 0.6
         },
         "mode": "lines",
         "name": "HMA",
         "showlegend": false,
         "type": "scatter",
         "x": [
          "2025-10-30T14:07:00-04:00",
          "2025-10-30T14:08:00-04:00"
         ],
         "xaxis": "x",
         "y": {
          "bdata": "4n175fzLukCqROuzfMq6QA==",
          "dtype": "f8"
         },
         "yaxis": "y"
        },
        {
         "line": {
          "color": "#FF66FE",
          "width": 0.6
         },
         "mode": "lines",
         "name": "HMA",
         "showlegend": false,
         "type": "scatter",
         "x": [
          "2025-10-30T14:08:00-04:00",
          "2025-10-30T14:09:00-04:00"
         ],
         "xaxis": "x",
         "y": {
          "bdata": "qkTrs3zKukBCDAADTMm6QA==",
          "dtype": "f8"
         },
         "yaxis": "y"
        },
        {
         "line": {
          "color": "#FF66FE",
          "width": 0.6
         },
         "mode": "lines",
         "name": "HMA",
         "showlegend": false,
         "type": "scatter",
         "x": [
          "2025-10-30T14:09:00-04:00",
          "2025-10-30T14:10:00-04:00"
         ],
         "xaxis": "x",
         "y": {
          "bdata": "QgwAA0zJukBGr+e2UMi6QA==",
          "dtype": "f8"
         },
         "yaxis": "y"
        },
        {
         "line": {
          "color": "#FF66FE",
          "width": 0.6
         },
         "mode": "lines",
         "name": "HMA",
         "showlegend": false,
         "type": "scatter",
         "x": [
          "2025-10-30T14:10:00-04:00",
          "2025-10-30T14:11:00-04:00"
         ],
         "xaxis": "x",
         "y": {
          "bdata": "Rq/ntlDIukCD4IPWm8e6QA==",
          "dtype": "f8"
         },
         "yaxis": "y"
        },
        {
         "line": {
          "color": "#FF66FE",
          "width": 0.6
         },
         "mode": "lines",
         "name": "HMA",
         "showlegend": false,
         "type": "scatter",
         "x": [
          "2025-10-30T14:11:00-04:00",
          "2025-10-30T14:12:00-04:00"
         ],
         "xaxis": "x",
         "y": {
          "bdata": "g+CD1pvHukC+Tn8NLMe6QA==",
          "dtype": "f8"
         },
         "yaxis": "y"
        },
        {
         "line": {
          "color": "#FF66FE",
          "width": 0.6
         },
         "mode": "lines",
         "name": "HMA",
         "showlegend": false,
         "type": "scatter",
         "x": [
          "2025-10-30T14:12:00-04:00",
          "2025-10-30T14:13:00-04:00"
         ],
         "xaxis": "x",
         "y": {
          "bdata": "vk5/DSzHukD9UsJY0ca6QA==",
          "dtype": "f8"
         },
         "yaxis": "y"
        },
        {
         "line": {
          "color": "#FF66FE",
          "width": 0.6
         },
         "mode": "lines",
         "name": "HMA",
         "showlegend": false,
         "type": "scatter",
         "x": [
          "2025-10-30T14:13:00-04:00",
          "2025-10-30T14:14:00-04:00"
         ],
         "xaxis": "x",
         "y": {
          "bdata": "/VLCWNHGukCAoC1kOca6QA==",
          "dtype": "f8"
         },
         "yaxis": "y"
        },
        {
         "line": {
          "color": "#FF66FE",
          "width": 0.6
         },
         "mode": "lines",
         "name": "HMA",
         "showlegend": false,
         "type": "scatter",
         "x": [
          "2025-10-30T14:14:00-04:00",
          "2025-10-30T14:15:00-04:00"
         ],
         "xaxis": "x",
         "y": {
          "bdata": "gKAtZDnGukCCuEZsKMW6QA==",
          "dtype": "f8"
         },
         "yaxis": "y"
        },
        {
         "line": {
          "color": "#FF66FE",
          "width": 0.6
         },
         "mode": "lines",
         "name": "HMA",
         "showlegend": false,
         "type": "scatter",
         "x": [
          "2025-10-30T14:15:00-04:00",
          "2025-10-30T14:16:00-04:00"
         ],
         "xaxis": "x",
         "y": {
          "bdata": "grhGbCjFukBdQRwH6sO6QA==",
          "dtype": "f8"
         },
         "yaxis": "y"
        },
        {
         "line": {
          "color": "#FF66FE",
          "width": 0.6
         },
         "mode": "lines",
         "name": "HMA",
         "showlegend": false,
         "type": "scatter",
         "x": [
          "2025-10-30T14:16:00-04:00",
          "2025-10-30T14:17:00-04:00"
         ],
         "xaxis": "x",
         "y": {
          "bdata": "XUEcB+rDukAyf81NBsO6QA==",
          "dtype": "f8"
         },
         "yaxis": "y"
        },
        {
         "line": {
          "color": "#FF66FE",
          "width": 0.6
         },
         "mode": "lines",
         "name": "HMA",
         "showlegend": false,
         "type": "scatter",
         "x": [
          "2025-10-30T14:17:00-04:00",
          "2025-10-30T14:18:00-04:00"
         ],
         "xaxis": "x",
         "y": {
          "bdata": "Mn/NTQbDukClMoL7YsK6QA==",
          "dtype": "f8"
         },
         "yaxis": "y"
        },
        {
         "line": {
          "color": "#FF66FE",
          "width": 0.6
         },
         "mode": "lines",
         "name": "HMA",
         "showlegend": false,
         "type": "scatter",
         "x": [
          "2025-10-30T14:18:00-04:00",
          "2025-10-30T14:19:00-04:00"
         ],
         "xaxis": "x",
         "y": {
          "bdata": "pTKC+2LCukC4bm+cAMK6QA==",
          "dtype": "f8"
         },
         "yaxis": "y"
        },
        {
         "line": {
          "color": "#FF66FE",
          "width": 0.6
         },
         "mode": "lines",
         "name": "HMA",
         "showlegend": false,
         "type": "scatter",
         "x": [
          "2025-10-30T14:19:00-04:00",
          "2025-10-30T14:20:00-04:00"
         ],
         "xaxis": "x",
         "y": {
          "bdata": "uG5vnADCukBixPUM1cG6QA==",
          "dtype": "f8"
         },
         "yaxis": "y"
        },
        {
         "line": {
          "color": "#FF66FE",
          "width": 0.6
         },
         "mode": "lines",
         "name": "HMA",
         "showlegend": false,
         "type": "scatter",
         "x": [
          "2025-10-30T14:20:00-04:00",
          "2025-10-30T14:21:00-04:00"
         ],
         "xaxis": "x",
         "y": {
          "bdata": "YsT1DNXBukDm/tYSicG6QA==",
          "dtype": "f8"
         },
         "yaxis": "y"
        },
        {
         "line": {
          "color": "#FF66FE",
          "width": 0.6
         },
         "mode": "lines",
         "name": "HMA",
         "showlegend": false,
         "type": "scatter",
         "x": [
          "2025-10-30T14:21:00-04:00",
          "2025-10-30T14:22:00-04:00"
         ],
         "xaxis": "x",
         "y": {
          "bdata": "5v7WEonBukDKyxtcasG6QA==",
          "dtype": "f8"
         },
         "yaxis": "y"
        },
        {
         "line": {
          "color": "#01FFFF",
          "width": 0.6
         },
         "mode": "lines",
         "name": "HMA",
         "showlegend": false,
         "type": "scatter",
         "x": [
          "2025-10-30T14:22:00-04:00",
          "2025-10-30T14:23:00-04:00"
         ],
         "xaxis": "x",
         "y": {
          "bdata": "yssbXGrBukDLtqINesG6QA==",
          "dtype": "f8"
         },
         "yaxis": "y"
        },
        {
         "line": {
          "color": "#01FFFF",
          "width": 0.6
         },
         "mode": "lines",
         "name": "HMA",
         "showlegend": false,
         "type": "scatter",
         "x": [
          "2025-10-30T14:23:00-04:00",
          "2025-10-30T14:24:00-04:00"
         ],
         "xaxis": "x",
         "y": {
          "bdata": "y7aiDXrBukDiBq8tlMG6QA==",
          "dtype": "f8"
         },
         "yaxis": "y"
        },
        {
         "line": {
          "color": "#01FFFF",
          "width": 0.6
         },
         "mode": "lines",
         "name": "HMA",
         "showlegend": false,
         "type": "scatter",
         "x": [
          "2025-10-30T14:24:00-04:00",
          "2025-10-30T14:25:00-04:00"
         ],
         "xaxis": "x",
         "y": {
          "bdata": "4gavLZTBukDzzhpXxMG6QA==",
          "dtype": "f8"
         },
         "yaxis": "y"
        },
        {
         "line": {
          "color": "#01FFFF",
          "width": 0.6
         },
         "mode": "lines",
         "name": "HMA",
         "showlegend": false,
         "type": "scatter",
         "x": [
          "2025-10-30T14:25:00-04:00",
          "2025-10-30T14:26:00-04:00"
         ],
         "xaxis": "x",
         "y": {
          "bdata": "884aV8TBukDiWs199MG6QA==",
          "dtype": "f8"
         },
         "yaxis": "y"
        },
        {
         "line": {
          "color": "#01FFFF",
          "width": 0.6
         },
         "mode": "lines",
         "name": "HMA",
         "showlegend": false,
         "type": "scatter",
         "x": [
          "2025-10-30T14:26:00-04:00",
          "2025-10-30T14:27:00-04:00"
         ],
         "xaxis": "x",
         "y": {
          "bdata": "4lrNffTBukDQ8lNwTcK6QA==",
          "dtype": "f8"
         },
         "yaxis": "y"
        },
        {
         "line": {
          "color": "#01FFFF",
          "width": 0.6
         },
         "mode": "lines",
         "name": "HMA",
         "showlegend": false,
         "type": "scatter",
         "x": [
          "2025-10-30T14:27:00-04:00",
          "2025-10-30T14:28:00-04:00"
         ],
         "xaxis": "x",
         "y": {
          "bdata": "0PJTcE3CukA2zrM8msK6QA==",
          "dtype": "f8"
         },
         "yaxis": "y"
        },
        {
         "line": {
          "color": "#01FFFF",
          "width": 0.6
         },
         "mode": "lines",
         "name": "HMA",
         "showlegend": false,
         "type": "scatter",
         "x": [
          "2025-10-30T14:28:00-04:00",
          "2025-10-30T14:29:00-04:00"
         ],
         "xaxis": "x",
         "y": {
          "bdata": "Ns6zPJrCukCVnZMi7MK6QA==",
          "dtype": "f8"
         },
         "yaxis": "y"
        },
        {
         "line": {
          "color": "#01FFFF",
          "width": 0.6
         },
         "mode": "lines",
         "name": "HMA",
         "showlegend": false,
         "type": "scatter",
         "x": [
          "2025-10-30T14:29:00-04:00",
          "2025-10-30T14:30:00-04:00"
         ],
         "xaxis": "x",
         "y": {
          "bdata": "lZ2TIuzCukCQN0Wcu8O6QA==",
          "dtype": "f8"
         },
         "yaxis": "y"
        },
        {
         "line": {
          "color": "#01FFFF",
          "width": 0.6
         },
         "mode": "lines",
         "name": "HMA",
         "showlegend": false,
         "type": "scatter",
         "x": [
          "2025-10-30T14:30:00-04:00",
          "2025-10-30T14:31:00-04:00"
         ],
         "xaxis": "x",
         "y": {
          "bdata": "kDdFnLvDukBNVf6zxsS6QA==",
          "dtype": "f8"
         },
         "yaxis": "y"
        },
        {
         "line": {
          "color": "#01FFFF",
          "width": 0.6
         },
         "mode": "lines",
         "name": "HMA",
         "showlegend": false,
         "type": "scatter",
         "x": [
          "2025-10-30T14:31:00-04:00",
          "2025-10-30T14:32:00-04:00"
         ],
         "xaxis": "x",
         "y": {
          "bdata": "TVX+s8bEukA+Y0t0ksW6QA==",
          "dtype": "f8"
         },
         "yaxis": "y"
        },
        {
         "line": {
          "color": "#01FFFF",
          "width": 0.6
         },
         "mode": "lines",
         "name": "HMA",
         "showlegend": false,
         "type": "scatter",
         "x": [
          "2025-10-30T14:32:00-04:00",
          "2025-10-30T14:33:00-04:00"
         ],
         "xaxis": "x",
         "y": {
          "bdata": "PmNLdJLFukCw7AzxCMa6QA==",
          "dtype": "f8"
         },
         "yaxis": "y"
        },
        {
         "line": {
          "color": "#01FFFF",
          "width": 0.6
         },
         "mode": "lines",
         "name": "HMA",
         "showlegend": false,
         "type": "scatter",
         "x": [
          "2025-10-30T14:33:00-04:00",
          "2025-10-30T14:34:00-04:00"
         ],
         "xaxis": "x",
         "y": {
          "bdata": "sOwM8QjGukB6ipAMHsa6QA==",
          "dtype": "f8"
         },
         "yaxis": "y"
        },
        {
         "line": {
          "color": "#FF66FE",
          "width": 0.6
         },
         "mode": "lines",
         "name": "HMA",
         "showlegend": false,
         "type": "scatter",
         "x": [
          "2025-10-30T14:34:00-04:00",
          "2025-10-30T14:35:00-04:00"
         ],
         "xaxis": "x",
         "y": {
          "bdata": "eoqQDB7GukBdSfW16sW6QA==",
          "dtype": "f8"
         },
         "yaxis": "y"
        },
        {
         "line": {
          "color": "#FF66FE",
          "width": 0.6
         },
         "mode": "lines",
         "name": "HMA",
         "showlegend": false,
         "type": "scatter",
         "x": [
          "2025-10-30T14:35:00-04:00",
          "2025-10-30T14:36:00-04:00"
         ],
         "xaxis": "x",
         "y": {
          "bdata": "XUn1terFukC105kZhsW6QA==",
          "dtype": "f8"
         },
         "yaxis": "y"
        },
        {
         "line": {
          "color": "#FF66FE",
          "width": 0.6
         },
         "mode": "lines",
         "name": "HMA",
         "showlegend": false,
         "type": "scatter",
         "x": [
          "2025-10-30T14:36:00-04:00",
          "2025-10-30T14:37:00-04:00"
         ],
         "xaxis": "x",
         "y": {
          "bdata": "tdOZGYbFukCtnFoursS6QA==",
          "dtype": "f8"
         },
         "yaxis": "y"
        },
        {
         "line": {
          "color": "#FF66FE",
          "width": 0.6
         },
         "mode": "lines",
         "name": "HMA",
         "showlegend": false,
         "type": "scatter",
         "x": [
          "2025-10-30T14:37:00-04:00",
          "2025-10-30T14:38:00-04:00"
         ],
         "xaxis": "x",
         "y": {
          "bdata": "rZxaLq7EukAQuaIqlcO6QA==",
          "dtype": "f8"
         },
         "yaxis": "y"
        },
        {
         "line": {
          "color": "#FF66FE",
          "width": 0.6
         },
         "mode": "lines",
         "name": "HMA",
         "showlegend": false,
         "type": "scatter",
         "x": [
          "2025-10-30T14:38:00-04:00",
          "2025-10-30T14:39:00-04:00"
         ],
         "xaxis": "x",
         "y": {
          "bdata": "ELmiKpXDukDQyERIHcK6QA==",
          "dtype": "f8"
         },
         "yaxis": "y"
        },
        {
         "line": {
          "color": "#FF66FE",
          "width": 0.6
         },
         "mode": "lines",
         "name": "HMA",
         "showlegend": false,
         "type": "scatter",
         "x": [
          "2025-10-30T14:39:00-04:00",
          "2025-10-30T14:40:00-04:00"
         ],
         "xaxis": "x",
         "y": {
          "bdata": "0MhESB3CukDwCKLGlsC6QA==",
          "dtype": "f8"
         },
         "yaxis": "y"
        },
        {
         "line": {
          "color": "#FF66FE",
          "width": 0.6
         },
         "mode": "lines",
         "name": "HMA",
         "showlegend": false,
         "type": "scatter",
         "x": [
          "2025-10-30T14:40:00-04:00",
          "2025-10-30T14:41:00-04:00"
         ],
         "xaxis": "x",
         "y": {
          "bdata": "8AiixpbAukB4rtHFA7+6QA==",
          "dtype": "f8"
         },
         "yaxis": "y"
        },
        {
         "line": {
          "color": "#FF66FE",
          "width": 0.6
         },
         "mode": "lines",
         "name": "HMA",
         "showlegend": false,
         "type": "scatter",
         "x": [
          "2025-10-30T14:41:00-04:00",
          "2025-10-30T14:42:00-04:00"
         ],
         "xaxis": "x",
         "y": {
          "bdata": "eK7RxQO/ukA1TkFu5L26QA==",
          "dtype": "f8"
         },
         "yaxis": "y"
        },
        {
         "line": {
          "color": "#FF66FE",
          "width": 0.6
         },
         "mode": "lines",
         "name": "HMA",
         "showlegend": false,
         "type": "scatter",
         "x": [
          "2025-10-30T14:42:00-04:00",
          "2025-10-30T14:43:00-04:00"
         ],
         "xaxis": "x",
         "y": {
          "bdata": "NU5BbuS9ukAbljABJ726QA==",
          "dtype": "f8"
         },
         "yaxis": "y"
        },
        {
         "line": {
          "color": "#FF66FE",
          "width": 0.6
         },
         "mode": "lines",
         "name": "HMA",
         "showlegend": false,
         "type": "scatter",
         "x": [
          "2025-10-30T14:43:00-04:00",
          "2025-10-30T14:44:00-04:00"
         ],
         "xaxis": "x",
         "y": {
          "bdata": "G5YwASe9ukCLEEYKwry6QA==",
          "dtype": "f8"
         },
         "yaxis": "y"
        },
        {
         "line": {
          "color": "#01FFFF",
          "width": 0.6
         },
         "mode": "lines",
         "name": "HMA",
         "showlegend": false,
         "type": "scatter",
         "x": [
          "2025-10-30T14:44:00-04:00",
          "2025-10-30T14:45:00-04:00"
         ],
         "xaxis": "x",
         "y": {
          "bdata": "ixBGCsK8ukAyeeR717y6QA==",
          "dtype": "f8"
         },
         "yaxis": "y"
        },
        {
         "line": {
          "color": "#01FFFF",
          "width": 0.6
         },
         "mode": "lines",
         "name": "HMA",
         "showlegend": false,
         "type": "scatter",
         "x": [
          "2025-10-30T14:45:00-04:00",
          "2025-10-30T14:46:00-04:00"
         ],
         "xaxis": "x",
         "y": {
          "bdata": "Mnnke9e8ukDycTr5HL26QA==",
          "dtype": "f8"
         },
         "yaxis": "y"
        },
        {
         "line": {
          "color": "#01FFFF",
          "width": 0.6
         },
         "mode": "lines",
         "name": "HMA",
         "showlegend": false,
         "type": "scatter",
         "x": [
          "2025-10-30T14:46:00-04:00",
          "2025-10-30T14:47:00-04:00"
         ],
         "xaxis": "x",
         "y": {
          "bdata": "8nE6+Ry9ukB2W2TmBb66QA==",
          "dtype": "f8"
         },
         "yaxis": "y"
        },
        {
         "line": {
          "color": "#01FFFF",
          "width": 0.6
         },
         "mode": "lines",
         "name": "HMA",
         "showlegend": false,
         "type": "scatter",
         "x": [
          "2025-10-30T14:47:00-04:00",
          "2025-10-30T14:48:00-04:00"
         ],
         "xaxis": "x",
         "y": {
          "bdata": "dltk5gW+ukCSJo7oWb+6QA==",
          "dtype": "f8"
         },
         "yaxis": "y"
        },
        {
         "line": {
          "color": "#01FFFF",
          "width": 0.6
         },
         "mode": "lines",
         "name": "HMA",
         "showlegend": false,
         "type": "scatter",
         "x": [
          "2025-10-30T14:48:00-04:00",
          "2025-10-30T14:49:00-04:00"
         ],
         "xaxis": "x",
         "y": {
          "bdata": "kiaO6Fm/ukC4Kj3AoMC6QA==",
          "dtype": "f8"
         },
         "yaxis": "y"
        },
        {
         "line": {
          "color": "#01FFFF",
          "width": 0.6
         },
         "mode": "lines",
         "name": "HMA",
         "showlegend": false,
         "type": "scatter",
         "x": [
          "2025-10-30T14:49:00-04:00",
          "2025-10-30T14:50:00-04:00"
         ],
         "xaxis": "x",
         "y": {
          "bdata": "uCo9wKDAukDelQVeecG6QA==",
          "dtype": "f8"
         },
         "yaxis": "y"
        },
        {
         "line": {
          "color": "#01FFFF",
          "width": 0.6
         },
         "mode": "lines",
         "name": "HMA",
         "showlegend": false,
         "type": "scatter",
         "x": [
          "2025-10-30T14:50:00-04:00",
          "2025-10-30T14:51:00-04:00"
         ],
         "xaxis": "x",
         "y": {
          "bdata": "3pUFXnnBukAARFD75MG6QA==",
          "dtype": "f8"
         },
         "yaxis": "y"
        },
        {
         "line": {
          "color": "#01FFFF",
          "width": 0.6
         },
         "mode": "lines",
         "name": "HMA",
         "showlegend": false,
         "type": "scatter",
         "x": [
          "2025-10-30T14:51:00-04:00",
          "2025-10-30T14:52:00-04:00"
         ],
         "xaxis": "x",
         "y": {
          "bdata": "AERQ++TBukBNB60+K8K6QA==",
          "dtype": "f8"
         },
         "yaxis": "y"
        },
        {
         "line": {
          "color": "#01FFFF",
          "width": 0.6
         },
         "mode": "lines",
         "name": "HMA",
         "showlegend": false,
         "type": "scatter",
         "x": [
          "2025-10-30T14:52:00-04:00",
          "2025-10-30T14:53:00-04:00"
         ],
         "xaxis": "x",
         "y": {
          "bdata": "TQetPivCukBaJK1+ScK6QA==",
          "dtype": "f8"
         },
         "yaxis": "y"
        },
        {
         "line": {
          "color": "#01FFFF",
          "width": 0.6
         },
         "mode": "lines",
         "name": "HMA",
         "showlegend": false,
         "type": "scatter",
         "x": [
          "2025-10-30T14:53:00-04:00",
          "2025-10-30T14:54:00-04:00"
         ],
         "xaxis": "x",
         "y": {
          "bdata": "WiStfknCukB2bT17h8K6QA==",
          "dtype": "f8"
         },
         "yaxis": "y"
        },
        {
         "line": {
          "color": "#01FFFF",
          "width": 0.6
         },
         "mode": "lines",
         "name": "HMA",
         "showlegend": false,
         "type": "scatter",
         "x": [
          "2025-10-30T14:54:00-04:00",
          "2025-10-30T14:55:00-04:00"
         ],
         "xaxis": "x",
         "y": {
          "bdata": "dm09e4fCukBywkOWuMK6QA==",
          "dtype": "f8"
         },
         "yaxis": "y"
        },
        {
         "line": {
          "color": "#FF66FE",
          "width": 0.6
         },
         "mode": "lines",
         "name": "HMA",
         "showlegend": false,
         "type": "scatter",
         "x": [
          "2025-10-30T14:55:00-04:00",
          "2025-10-30T14:56:00-04:00"
         ],
         "xaxis": "x",
         "y": {
          "bdata": "csJDlrjCukDlJAipsMK6QA==",
          "dtype": "f8"
         },
         "yaxis": "y"
        },
        {
         "line": {
          "color": "#FF66FE",
          "width": 0.6
         },
         "mode": "lines",
         "name": "HMA",
         "showlegend": false,
         "type": "scatter",
         "x": [
          "2025-10-30T14:56:00-04:00",
          "2025-10-30T14:57:00-04:00"
         ],
         "xaxis": "x",
         "y": {
          "bdata": "5SQIqbDCukD1WHEUIcK6QA==",
          "dtype": "f8"
         },
         "yaxis": "y"
        },
        {
         "line": {
          "color": "#FF66FE",
          "width": 0.6
         },
         "mode": "lines",
         "name": "HMA",
         "showlegend": false,
         "type": "scatter",
         "x": [
          "2025-10-30T14:57:00-04:00",
          "2025-10-30T14:58:00-04:00"
         ],
         "xaxis": "x",
         "y": {
          "bdata": "9VhxFCHCukCgbzaMS8G6QA==",
          "dtype": "f8"
         },
         "yaxis": "y"
        },
        {
         "line": {
          "color": "#FF66FE",
          "width": 0.6
         },
         "mode": "lines",
         "name": "HMA",
         "showlegend": false,
         "type": "scatter",
         "x": [
          "2025-10-30T14:58:00-04:00",
          "2025-10-30T14:59:00-04:00"
         ],
         "xaxis": "x",
         "y": {
          "bdata": "oG82jEvBukCinB7wc8C6QA==",
          "dtype": "f8"
         },
         "yaxis": "y"
        },
        {
         "line": {
          "color": "#FF66FE",
          "width": 0.6
         },
         "mode": "lines",
         "name": "HMA",
         "showlegend": false,
         "type": "scatter",
         "x": [
          "2025-10-30T14:59:00-04:00",
          "2025-10-30T15:00:00-04:00"
         ],
         "xaxis": "x",
         "y": {
          "bdata": "opwe8HPAukCGzNfvl7+6QA==",
          "dtype": "f8"
         },
         "yaxis": "y"
        },
        {
         "line": {
          "color": "#FF66FE",
          "width": 0.6
         },
         "mode": "lines",
         "name": "HMA",
         "showlegend": false,
         "type": "scatter",
         "x": [
          "2025-10-30T15:00:00-04:00",
          "2025-10-30T15:01:00-04:00"
         ],
         "xaxis": "x",
         "y": {
          "bdata": "hszX75e/ukDw7u7ubr66QA==",
          "dtype": "f8"
         },
         "yaxis": "y"
        },
        {
         "line": {
          "color": "#FF66FE",
          "width": 0.6
         },
         "mode": "lines",
         "name": "HMA",
         "showlegend": false,
         "type": "scatter",
         "x": [
          "2025-10-30T15:01:00-04:00",
          "2025-10-30T15:02:00-04:00"
         ],
         "xaxis": "x",
         "y": {
          "bdata": "8O7u7m6+ukASF8L0S726QA==",
          "dtype": "f8"
         },
         "yaxis": "y"
        },
        {
         "line": {
          "color": "#FF66FE",
          "width": 0.6
         },
         "mode": "lines",
         "name": "HMA",
         "showlegend": false,
         "type": "scatter",
         "x": [
          "2025-10-30T15:02:00-04:00",
          "2025-10-30T15:03:00-04:00"
         ],
         "xaxis": "x",
         "y": {
          "bdata": "EhfC9Eu9ukAA460CP7y6QA==",
          "dtype": "f8"
         },
         "yaxis": "y"
        },
        {
         "line": {
          "color": "#FF66FE",
          "width": 0.6
         },
         "mode": "lines",
         "name": "HMA",
         "showlegend": false,
         "type": "scatter",
         "x": [
          "2025-10-30T15:03:00-04:00",
          "2025-10-30T15:04:00-04:00"
         ],
         "xaxis": "x",
         "y": {
          "bdata": "AOOtAj+8ukCwctqVQLu6QA==",
          "dtype": "f8"
         },
         "yaxis": "y"
        },
        {
         "line": {
          "color": "#FF66FE",
          "width": 0.6
         },
         "mode": "lines",
         "name": "HMA",
         "showlegend": false,
         "type": "scatter",
         "x": [
          "2025-10-30T15:04:00-04:00",
          "2025-10-30T15:05:00-04:00"
         ],
         "xaxis": "x",
         "y": {
          "bdata": "sHLalUC7ukDg/XobSrq6QA==",
          "dtype": "f8"
         },
         "yaxis": "y"
        },
        {
         "line": {
          "color": "#FF66FE",
          "width": 0.6
         },
         "mode": "lines",
         "name": "HMA",
         "showlegend": false,
         "type": "scatter",
         "x": [
          "2025-10-30T15:05:00-04:00",
          "2025-10-30T15:06:00-04:00"
         ],
         "xaxis": "x",
         "y": {
          "bdata": "4P16G0q6ukDDCZ1UT7m6QA==",
          "dtype": "f8"
         },
         "yaxis": "y"
        },
        {
         "line": {
          "color": "#FF66FE",
          "width": 0.6
         },
         "mode": "lines",
         "name": "HMA",
         "showlegend": false,
         "type": "scatter",
         "x": [
          "2025-10-30T15:06:00-04:00",
          "2025-10-30T15:07:00-04:00"
         ],
         "xaxis": "x",
         "y": {
          "bdata": "wwmdVE+5ukBQbVA+j7i6QA==",
          "dtype": "f8"
         },
         "yaxis": "y"
        },
        {
         "line": {
          "color": "#FF66FE",
          "width": 0.6
         },
         "mode": "lines",
         "name": "HMA",
         "showlegend": false,
         "type": "scatter",
         "x": [
          "2025-10-30T15:07:00-04:00",
          "2025-10-30T15:08:00-04:00"
         ],
         "xaxis": "x",
         "y": {
          "bdata": "UG1QPo+4ukAQNsq4D7i6QA==",
          "dtype": "f8"
         },
         "yaxis": "y"
        },
        {
         "line": {
          "color": "#FF66FE",
          "width": 0.6
         },
         "mode": "lines",
         "name": "HMA",
         "showlegend": false,
         "type": "scatter",
         "x": [
          "2025-10-30T15:08:00-04:00",
          "2025-10-30T15:09:00-04:00"
         ],
         "xaxis": "x",
         "y": {
          "bdata": "EDbKuA+4ukBGt2vs7be6QA==",
          "dtype": "f8"
         },
         "yaxis": "y"
        },
        {
         "line": {
          "color": "#FF66FE",
          "width": 0.6
         },
         "mode": "lines",
         "name": "HMA",
         "showlegend": false,
         "type": "scatter",
         "x": [
          "2025-10-30T15:09:00-04:00",
          "2025-10-30T15:10:00-04:00"
         ],
         "xaxis": "x",
         "y": {
          "bdata": "Rrdr7O23ukAQadRw0Le6QA==",
          "dtype": "f8"
         },
         "yaxis": "y"
        },
        {
         "line": {
          "color": "#FF66FE",
          "width": 0.6
         },
         "mode": "lines",
         "name": "HMA",
         "showlegend": false,
         "type": "scatter",
         "x": [
          "2025-10-30T15:10:00-04:00",
          "2025-10-30T15:11:00-04:00"
         ],
         "xaxis": "x",
         "y": {
          "bdata": "EGnUcNC3ukAqM00Core6QA==",
          "dtype": "f8"
         },
         "yaxis": "y"
        },
        {
         "line": {
          "color": "#01FFFF",
          "width": 0.6
         },
         "mode": "lines",
         "name": "HMA",
         "showlegend": false,
         "type": "scatter",
         "x": [
          "2025-10-30T15:11:00-04:00",
          "2025-10-30T15:12:00-04:00"
         ],
         "xaxis": "x",
         "y": {
          "bdata": "KjNNAqK3ukBmg2Pqo7e6QA==",
          "dtype": "f8"
         },
         "yaxis": "y"
        },
        {
         "line": {
          "color": "#01FFFF",
          "width": 0.6
         },
         "mode": "lines",
         "name": "HMA",
         "showlegend": false,
         "type": "scatter",
         "x": [
          "2025-10-30T15:12:00-04:00",
          "2025-10-30T15:13:00-04:00"
         ],
         "xaxis": "x",
         "y": {
          "bdata": "ZoNj6qO3ukALBG9Jpre6QA==",
          "dtype": "f8"
         },
         "yaxis": "y"
        },
        {
         "line": {
          "color": "#FF66FE",
          "width": 0.6
         },
         "mode": "lines",
         "name": "HMA",
         "showlegend": false,
         "type": "scatter",
         "x": [
          "2025-10-30T15:13:00-04:00",
          "2025-10-30T15:14:00-04:00"
         ],
         "xaxis": "x",
         "y": {
          "bdata": "CwRvSaa3ukDoxsznj7e6QA==",
          "dtype": "f8"
         },
         "yaxis": "y"
        },
        {
         "line": {
          "color": "#FF66FE",
          "width": 0.6
         },
         "mode": "lines",
         "name": "HMA",
         "showlegend": false,
         "type": "scatter",
         "x": [
          "2025-10-30T15:14:00-04:00",
          "2025-10-30T15:15:00-04:00"
         ],
         "xaxis": "x",
         "y": {
          "bdata": "6MbM54+3ukBIA+oPZ7e6QA==",
          "dtype": "f8"
         },
         "yaxis": "y"
        },
        {
         "line": {
          "color": "#FF66FE",
          "width": 0.6
         },
         "mode": "lines",
         "name": "HMA",
         "showlegend": false,
         "type": "scatter",
         "x": [
          "2025-10-30T15:15:00-04:00",
          "2025-10-30T15:16:00-04:00"
         ],
         "xaxis": "x",
         "y": {
          "bdata": "SAPqD2e3ukCNL4dQ77a6QA==",
          "dtype": "f8"
         },
         "yaxis": "y"
        },
        {
         "line": {
          "color": "#FF66FE",
          "width": 0.6
         },
         "mode": "lines",
         "name": "HMA",
         "showlegend": false,
         "type": "scatter",
         "x": [
          "2025-10-30T15:16:00-04:00",
          "2025-10-30T15:17:00-04:00"
         ],
         "xaxis": "x",
         "y": {
          "bdata": "jS+HUO+2ukDafpueIba6QA==",
          "dtype": "f8"
         },
         "yaxis": "y"
        },
        {
         "line": {
          "color": "#FF66FE",
          "width": 0.6
         },
         "mode": "lines",
         "name": "HMA",
         "showlegend": false,
         "type": "scatter",
         "x": [
          "2025-10-30T15:17:00-04:00",
          "2025-10-30T15:18:00-04:00"
         ],
         "xaxis": "x",
         "y": {
          "bdata": "2n6bniG2ukDTI/5udLW6QA==",
          "dtype": "f8"
         },
         "yaxis": "y"
        },
        {
         "line": {
          "color": "#FF66FE",
          "width": 0.6
         },
         "mode": "lines",
         "name": "HMA",
         "showlegend": false,
         "type": "scatter",
         "x": [
          "2025-10-30T15:18:00-04:00",
          "2025-10-30T15:19:00-04:00"
         ],
         "xaxis": "x",
         "y": {
          "bdata": "0yP+bnS1ukBWibpwD7W6QA==",
          "dtype": "f8"
         },
         "yaxis": "y"
        },
        {
         "line": {
          "color": "#FF66FE",
          "width": 0.6
         },
         "mode": "lines",
         "name": "HMA",
         "showlegend": false,
         "type": "scatter",
         "x": [
          "2025-10-30T15:19:00-04:00",
          "2025-10-30T15:20:00-04:00"
         ],
         "xaxis": "x",
         "y": {
          "bdata": "Vom6cA+1ukCQyyk7lrS6QA==",
          "dtype": "f8"
         },
         "yaxis": "y"
        },
        {
         "line": {
          "color": "#FF66FE",
          "width": 0.6
         },
         "mode": "lines",
         "name": "HMA",
         "showlegend": false,
         "type": "scatter",
         "x": [
          "2025-10-30T15:20:00-04:00",
          "2025-10-30T15:21:00-04:00"
         ],
         "xaxis": "x",
         "y": {
          "bdata": "kMspO5a0ukBFEpXvbLO6QA==",
          "dtype": "f8"
         },
         "yaxis": "y"
        },
        {
         "line": {
          "color": "#FF66FE",
          "width": 0.6
         },
         "mode": "lines",
         "name": "HMA",
         "showlegend": false,
         "type": "scatter",
         "x": [
          "2025-10-30T15:21:00-04:00",
          "2025-10-30T15:22:00-04:00"
         ],
         "xaxis": "x",
         "y": {
          "bdata": "RRKV72yzukBynPYIh7G6QA==",
          "dtype": "f8"
         },
         "yaxis": "y"
        },
        {
         "line": {
          "color": "#FF66FE",
          "width": 0.6
         },
         "mode": "lines",
         "name": "HMA",
         "showlegend": false,
         "type": "scatter",
         "x": [
          "2025-10-30T15:22:00-04:00",
          "2025-10-30T15:23:00-04:00"
         ],
         "xaxis": "x",
         "y": {
          "bdata": "cpz2CIexukBT5/UxkK+6QA==",
          "dtype": "f8"
         },
         "yaxis": "y"
        },
        {
         "line": {
          "color": "#FF66FE",
          "width": 0.6
         },
         "mode": "lines",
         "name": "HMA",
         "showlegend": false,
         "type": "scatter",
         "x": [
          "2025-10-30T15:23:00-04:00",
          "2025-10-30T15:24:00-04:00"
         ],
         "xaxis": "x",
         "y": {
          "bdata": "U+f1MZCvukADPi6nHK66QA==",
          "dtype": "f8"
         },
         "yaxis": "y"
        },
        {
         "line": {
          "color": "#FF66FE",
          "width": 0.6
         },
         "mode": "lines",
         "name": "HMA",
         "showlegend": false,
         "type": "scatter",
         "x": [
          "2025-10-30T15:24:00-04:00",
          "2025-10-30T15:25:00-04:00"
         ],
         "xaxis": "x",
         "y": {
          "bdata": "Az4upxyuukDF9AZ7b626QA==",
          "dtype": "f8"
         },
         "yaxis": "y"
        },
        {
         "line": {
          "color": "#FF66FE",
          "width": 0.6
         },
         "mode": "lines",
         "name": "HMA",
         "showlegend": false,
         "type": "scatter",
         "x": [
          "2025-10-30T15:25:00-04:00",
          "2025-10-30T15:26:00-04:00"
         ],
         "xaxis": "x",
         "y": {
          "bdata": "xfQGe2+tukDggIt7Y626QA==",
          "dtype": "f8"
         },
         "yaxis": "y"
        },
        {
         "line": {
          "color": "#01FFFF",
          "width": 0.6
         },
         "mode": "lines",
         "name": "HMA",
         "showlegend": false,
         "type": "scatter",
         "x": [
          "2025-10-30T15:26:00-04:00",
          "2025-10-30T15:27:00-04:00"
         ],
         "xaxis": "x",
         "y": {
          "bdata": "4ICLe2OtukAzcFpc1K26QA==",
          "dtype": "f8"
         },
         "yaxis": "y"
        },
        {
         "line": {
          "color": "#01FFFF",
          "width": 0.6
         },
         "mode": "lines",
         "name": "HMA",
         "showlegend": false,
         "type": "scatter",
         "x": [
          "2025-10-30T15:27:00-04:00",
          "2025-10-30T15:28:00-04:00"
         ],
         "xaxis": "x",
         "y": {
          "bdata": "M3BaXNStukDr8f6Eha66QA==",
          "dtype": "f8"
         },
         "yaxis": "y"
        },
        {
         "line": {
          "color": "#01FFFF",
          "width": 0.6
         },
         "mode": "lines",
         "name": "HMA",
         "showlegend": false,
         "type": "scatter",
         "x": [
          "2025-10-30T15:28:00-04:00",
          "2025-10-30T15:29:00-04:00"
         ],
         "xaxis": "x",
         "y": {
          "bdata": "6/H+hIWuukCtajnVU6+6QA==",
          "dtype": "f8"
         },
         "yaxis": "y"
        },
        {
         "line": {
          "color": "#01FFFF",
          "width": 0.6
         },
         "mode": "lines",
         "name": "HMA",
         "showlegend": false,
         "type": "scatter",
         "x": [
          "2025-10-30T15:29:00-04:00",
          "2025-10-30T15:30:00-04:00"
         ],
         "xaxis": "x",
         "y": {
          "bdata": "rWo51VOvukDtB9TKpLC6QA==",
          "dtype": "f8"
         },
         "yaxis": "y"
        },
        {
         "line": {
          "color": "#01FFFF",
          "width": 0.6
         },
         "mode": "lines",
         "name": "HMA",
         "showlegend": false,
         "type": "scatter",
         "x": [
          "2025-10-30T15:30:00-04:00",
          "2025-10-30T15:31:00-04:00"
         ],
         "xaxis": "x",
         "y": {
          "bdata": "7QfUyqSwukDN78+tCLK6QA==",
          "dtype": "f8"
         },
         "yaxis": "y"
        },
        {
         "line": {
          "color": "#01FFFF",
          "width": 0.6
         },
         "mode": "lines",
         "name": "HMA",
         "showlegend": false,
         "type": "scatter",
         "x": [
          "2025-10-30T15:31:00-04:00",
          "2025-10-30T15:32:00-04:00"
         ],
         "xaxis": "x",
         "y": {
          "bdata": "ze/PrQiyukDq7SDznLO6QA==",
          "dtype": "f8"
         },
         "yaxis": "y"
        },
        {
         "line": {
          "color": "#01FFFF",
          "width": 0.6
         },
         "mode": "lines",
         "name": "HMA",
         "showlegend": false,
         "type": "scatter",
         "x": [
          "2025-10-30T15:32:00-04:00",
          "2025-10-30T15:33:00-04:00"
         ],
         "xaxis": "x",
         "y": {
          "bdata": "6u0g85yzukBmzCVdJLW6QA==",
          "dtype": "f8"
         },
         "yaxis": "y"
        },
        {
         "line": {
          "color": "#01FFFF",
          "width": 0.6
         },
         "mode": "lines",
         "name": "HMA",
         "showlegend": false,
         "type": "scatter",
         "x": [
          "2025-10-30T15:33:00-04:00",
          "2025-10-30T15:34:00-04:00"
         ],
         "xaxis": "x",
         "y": {
          "bdata": "ZswlXSS1ukAzL1WhCra6QA==",
          "dtype": "f8"
         },
         "yaxis": "y"
        },
        {
         "line": {
          "color": "#01FFFF",
          "width": 0.6
         },
         "mode": "lines",
         "name": "HMA",
         "showlegend": false,
         "type": "scatter",
         "x": [
          "2025-10-30T15:34:00-04:00",
          "2025-10-30T15:35:00-04:00"
         ],
         "xaxis": "x",
         "y": {
          "bdata": "My9VoQq2ukAujchQP7a6QA==",
          "dtype": "f8"
         },
         "yaxis": "y"
        },
        {
         "line": {
          "color": "#FF66FE",
          "width": 0.6
         },
         "mode": "lines",
         "name": "HMA",
         "showlegend": false,
         "type": "scatter",
         "x": [
          "2025-10-30T15:35:00-04:00",
          "2025-10-30T15:36:00-04:00"
         ],
         "xaxis": "x",
         "y": {
          "bdata": "Lo3IUD+2ukDacjnX67W6QA==",
          "dtype": "f8"
         },
         "yaxis": "y"
        },
        {
         "line": {
          "color": "#FF66FE",
          "width": 0.6
         },
         "mode": "lines",
         "name": "HMA",
         "showlegend": false,
         "type": "scatter",
         "x": [
          "2025-10-30T15:36:00-04:00",
          "2025-10-30T15:37:00-04:00"
         ],
         "xaxis": "x",
         "y": {
          "bdata": "2nI51+u1ukCYBtZHSbW6QA==",
          "dtype": "f8"
         },
         "yaxis": "y"
        },
        {
         "line": {
          "color": "#FF66FE",
          "width": 0.6
         },
         "mode": "lines",
         "name": "HMA",
         "showlegend": false,
         "type": "scatter",
         "x": [
          "2025-10-30T15:37:00-04:00",
          "2025-10-30T15:38:00-04:00"
         ],
         "xaxis": "x",
         "y": {
          "bdata": "mAbWR0m1ukAV99DRYbS6QA==",
          "dtype": "f8"
         },
         "yaxis": "y"
        },
        {
         "line": {
          "color": "#FF66FE",
          "width": 0.6
         },
         "mode": "lines",
         "name": "HMA",
         "showlegend": false,
         "type": "scatter",
         "x": [
          "2025-10-30T15:38:00-04:00",
          "2025-10-30T15:39:00-04:00"
         ],
         "xaxis": "x",
         "y": {
          "bdata": "FffQ0WG0ukC4vY15KLO6QA==",
          "dtype": "f8"
         },
         "yaxis": "y"
        },
        {
         "line": {
          "color": "#FF66FE",
          "width": 0.6
         },
         "mode": "lines",
         "name": "HMA",
         "showlegend": false,
         "type": "scatter",
         "x": [
          "2025-10-30T15:39:00-04:00",
          "2025-10-30T15:40:00-04:00"
         ],
         "xaxis": "x",
         "y": {
          "bdata": "uL2NeSizukCW3rVopbG6QA==",
          "dtype": "f8"
         },
         "yaxis": "y"
        },
        {
         "line": {
          "color": "#FF66FE",
          "width": 0.6
         },
         "mode": "lines",
         "name": "HMA",
         "showlegend": false,
         "type": "scatter",
         "x": [
          "2025-10-30T15:40:00-04:00",
          "2025-10-30T15:41:00-04:00"
         ],
         "xaxis": "x",
         "y": {
          "bdata": "lt61aKWxukCjlNTQVbC6QA==",
          "dtype": "f8"
         },
         "yaxis": "y"
        },
        {
         "line": {
          "color": "#FF66FE",
          "width": 0.6
         },
         "mode": "lines",
         "name": "HMA",
         "showlegend": false,
         "type": "scatter",
         "x": [
          "2025-10-30T15:41:00-04:00",
          "2025-10-30T15:42:00-04:00"
         ],
         "xaxis": "x",
         "y": {
          "bdata": "o5TU0FWwukDNRo0jEq+6QA==",
          "dtype": "f8"
         },
         "yaxis": "y"
        },
        {
         "line": {
          "color": "#FF66FE",
          "width": 0.6
         },
         "mode": "lines",
         "name": "HMA",
         "showlegend": false,
         "type": "scatter",
         "x": [
          "2025-10-30T15:42:00-04:00",
          "2025-10-30T15:43:00-04:00"
         ],
         "xaxis": "x",
         "y": {
          "bdata": "zUaNIxKvukDrJQ8nHK66QA==",
          "dtype": "f8"
         },
         "yaxis": "y"
        },
        {
         "line": {
          "color": "#FF66FE",
          "width": 0.6
         },
         "mode": "lines",
         "name": "HMA",
         "showlegend": false,
         "type": "scatter",
         "x": [
          "2025-10-30T15:43:00-04:00",
          "2025-10-30T15:44:00-04:00"
         ],
         "xaxis": "x",
         "y": {
          "bdata": "6yUPJxyuukBYn+QvQq26QA==",
          "dtype": "f8"
         },
         "yaxis": "y"
        },
        {
         "line": {
          "color": "#FF66FE",
          "width": 0.6
         },
         "mode": "lines",
         "name": "HMA",
         "showlegend": false,
         "type": "scatter",
         "x": [
          "2025-10-30T15:44:00-04:00",
          "2025-10-30T15:45:00-04:00"
         ],
         "xaxis": "x",
         "y": {
          "bdata": "WJ/kL0KtukDy1JEkkKy6QA==",
          "dtype": "f8"
         },
         "yaxis": "y"
        },
        {
         "line": {
          "color": "#FF66FE",
          "width": 0.6
         },
         "mode": "lines",
         "name": "HMA",
         "showlegend": false,
         "type": "scatter",
         "x": [
          "2025-10-30T15:45:00-04:00",
          "2025-10-30T15:46:00-04:00"
         ],
         "xaxis": "x",
         "y": {
          "bdata": "8tSRJJCsukDYOQw37au6QA==",
          "dtype": "f8"
         },
         "yaxis": "y"
        },
        {
         "line": {
          "color": "#FF66FE",
          "width": 0.6
         },
         "mode": "lines",
         "name": "HMA",
         "showlegend": false,
         "type": "scatter",
         "x": [
          "2025-10-30T15:46:00-04:00",
          "2025-10-30T15:47:00-04:00"
         ],
         "xaxis": "x",
         "y": {
          "bdata": "2DkMN+2rukCtTyuaAqu6QA==",
          "dtype": "f8"
         },
         "yaxis": "y"
        },
        {
         "line": {
          "color": "#FF66FE",
          "width": 0.6
         },
         "mode": "lines",
         "name": "HMA",
         "showlegend": false,
         "type": "scatter",
         "x": [
          "2025-10-30T15:47:00-04:00",
          "2025-10-30T15:48:00-04:00"
         ],
         "xaxis": "x",
         "y": {
          "bdata": "rU8rmgKrukBLvTlbeKq6QA==",
          "dtype": "f8"
         },
         "yaxis": "y"
        },
        {
         "line": {
          "color": "#FF66FE",
          "width": 0.6
         },
         "mode": "lines",
         "name": "HMA",
         "showlegend": false,
         "type": "scatter",
         "x": [
          "2025-10-30T15:48:00-04:00",
          "2025-10-30T15:49:00-04:00"
         ],
         "xaxis": "x",
         "y": {
          "bdata": "S705W3iqukAQhHCnPqq6QA==",
          "dtype": "f8"
         },
         "yaxis": "y"
        },
        {
         "line": {
          "color": "#01FFFF",
          "width": 0.6
         },
         "mode": "lines",
         "name": "HMA",
         "showlegend": false,
         "type": "scatter",
         "x": [
          "2025-10-30T15:49:00-04:00",
          "2025-10-30T15:50:00-04:00"
         ],
         "xaxis": "x",
         "y": {
          "bdata": "EIRwpz6qukDaGnZ3bKq6QA==",
          "dtype": "f8"
         },
         "yaxis": "y"
        },
        {
         "line": {
          "color": "#01FFFF",
          "width": 0.6
         },
         "mode": "lines",
         "name": "HMA",
         "showlegend": false,
         "type": "scatter",
         "x": [
          "2025-10-30T15:50:00-04:00",
          "2025-10-30T15:51:00-04:00"
         ],
         "xaxis": "x",
         "y": {
          "bdata": "2hp2d2yqukDAUggm8aq6QA==",
          "dtype": "f8"
         },
         "yaxis": "y"
        },
        {
         "line": {
          "color": "#01FFFF",
          "width": 0.6
         },
         "mode": "lines",
         "name": "HMA",
         "showlegend": false,
         "type": "scatter",
         "x": [
          "2025-10-30T15:51:00-04:00",
          "2025-10-30T15:52:00-04:00"
         ],
         "xaxis": "x",
         "y": {
          "bdata": "wFIIJvGqukDtjUtic6u6QA==",
          "dtype": "f8"
         },
         "yaxis": "y"
        },
        {
         "line": {
          "color": "#01FFFF",
          "width": 0.6
         },
         "mode": "lines",
         "name": "HMA",
         "showlegend": false,
         "type": "scatter",
         "x": [
          "2025-10-30T15:52:00-04:00",
          "2025-10-30T15:53:00-04:00"
         ],
         "xaxis": "x",
         "y": {
          "bdata": "7Y1LYnOrukB6Kkl30au6QA==",
          "dtype": "f8"
         },
         "yaxis": "y"
        },
        {
         "line": {
          "color": "#01FFFF",
          "width": 0.6
         },
         "mode": "lines",
         "name": "HMA",
         "showlegend": false,
         "type": "scatter",
         "x": [
          "2025-10-30T15:53:00-04:00",
          "2025-10-30T15:54:00-04:00"
         ],
         "xaxis": "x",
         "y": {
          "bdata": "eipJd9GrukAVscoP2qu6QA==",
          "dtype": "f8"
         },
         "yaxis": "y"
        },
        {
         "line": {
          "color": "#FF66FE",
          "width": 0.6
         },
         "mode": "lines",
         "name": "HMA",
         "showlegend": false,
         "type": "scatter",
         "x": [
          "2025-10-30T15:54:00-04:00",
          "2025-10-30T15:55:00-04:00"
         ],
         "xaxis": "x",
         "y": {
          "bdata": "FbHKD9qrukCgy2YNdqu6QA==",
          "dtype": "f8"
         },
         "yaxis": "y"
        },
        {
         "line": {
          "color": "#FF66FE",
          "width": 0.6
         },
         "mode": "lines",
         "name": "HMA",
         "showlegend": false,
         "type": "scatter",
         "x": [
          "2025-10-30T15:55:00-04:00",
          "2025-10-30T15:56:00-04:00"
         ],
         "xaxis": "x",
         "y": {
          "bdata": "oMtmDXarukDWcz4tzKq6QA==",
          "dtype": "f8"
         },
         "yaxis": "y"
        },
        {
         "line": {
          "color": "#FF66FE",
          "width": 0.6
         },
         "mode": "lines",
         "name": "HMA",
         "showlegend": false,
         "type": "scatter",
         "x": [
          "2025-10-30T15:56:00-04:00",
          "2025-10-30T15:57:00-04:00"
         ],
         "xaxis": "x",
         "y": {
          "bdata": "1nM+LcyqukCWCMWQ1am6QA==",
          "dtype": "f8"
         },
         "yaxis": "y"
        },
        {
         "line": {
          "color": "#FF66FE",
          "width": 0.6
         },
         "mode": "lines",
         "name": "HMA",
         "showlegend": false,
         "type": "scatter",
         "x": [
          "2025-10-30T15:57:00-04:00",
          "2025-10-30T15:58:00-04:00"
         ],
         "xaxis": "x",
         "y": {
          "bdata": "lgjFkNWpukB6XXC6sai6QA==",
          "dtype": "f8"
         },
         "yaxis": "y"
        },
        {
         "line": {
          "color": "#FF66FE",
          "width": 0.6
         },
         "mode": "lines",
         "name": "HMA",
         "showlegend": false,
         "type": "scatter",
         "x": [
          "2025-10-30T15:58:00-04:00",
          "2025-10-30T15:59:00-04:00"
         ],
         "xaxis": "x",
         "y": {
          "bdata": "el1wurGoukBQHRCAl6e6QA==",
          "dtype": "f8"
         },
         "yaxis": "y"
        },
        {
         "line": {
          "color": "#01FFFF",
          "width": 1
         },
         "mode": "lines",
         "name": "MACD (Value)",
         "showlegend": false,
         "type": "scatter",
         "x": [
          "2025-10-30T09:00:00.000000000",
          "2025-10-30T09:01:00.000000000",
          "2025-10-30T09:02:00.000000000",
          "2025-10-30T09:03:00.000000000",
          "2025-10-30T09:04:00.000000000",
          "2025-10-30T09:05:00.000000000",
          "2025-10-30T09:06:00.000000000",
          "2025-10-30T09:07:00.000000000",
          "2025-10-30T09:08:00.000000000",
          "2025-10-30T09:09:00.000000000",
          "2025-10-30T09:10:00.000000000",
          "2025-10-30T09:11:00.000000000",
          "2025-10-30T09:12:00.000000000",
          "2025-10-30T09:13:00.000000000",
          "2025-10-30T09:14:00.000000000",
          "2025-10-30T09:15:00.000000000",
          "2025-10-30T09:16:00.000000000",
          "2025-10-30T09:17:00.000000000",
          "2025-10-30T09:18:00.000000000",
          "2025-10-30T09:19:00.000000000",
          "2025-10-30T09:20:00.000000000",
          "2025-10-30T09:21:00.000000000",
          "2025-10-30T09:22:00.000000000",
          "2025-10-30T09:23:00.000000000",
          "2025-10-30T09:24:00.000000000",
          "2025-10-30T09:25:00.000000000",
          "2025-10-30T09:26:00.000000000",
          "2025-10-30T09:27:00.000000000",
          "2025-10-30T09:28:00.000000000",
          "2025-10-30T09:29:00.000000000",
          "2025-10-30T09:30:00.000000000",
          "2025-10-30T09:31:00.000000000",
          "2025-10-30T09:32:00.000000000",
          "2025-10-30T09:33:00.000000000",
          "2025-10-30T09:34:00.000000000",
          "2025-10-30T09:35:00.000000000",
          "2025-10-30T09:36:00.000000000",
          "2025-10-30T09:37:00.000000000",
          "2025-10-30T09:38:00.000000000",
          "2025-10-30T09:39:00.000000000",
          "2025-10-30T09:40:00.000000000",
          "2025-10-30T09:41:00.000000000",
          "2025-10-30T09:42:00.000000000",
          "2025-10-30T09:43:00.000000000",
          "2025-10-30T09:44:00.000000000",
          "2025-10-30T09:45:00.000000000",
          "2025-10-30T09:46:00.000000000",
          "2025-10-30T09:47:00.000000000",
          "2025-10-30T09:48:00.000000000",
          "2025-10-30T09:49:00.000000000",
          "2025-10-30T09:50:00.000000000",
          "2025-10-30T09:51:00.000000000",
          "2025-10-30T09:52:00.000000000",
          "2025-10-30T09:53:00.000000000",
          "2025-10-30T09:54:00.000000000",
          "2025-10-30T09:55:00.000000000",
          "2025-10-30T09:56:00.000000000",
          "2025-10-30T09:57:00.000000000",
          "2025-10-30T09:58:00.000000000",
          "2025-10-30T09:59:00.000000000",
          "2025-10-30T10:00:00.000000000",
          "2025-10-30T10:01:00.000000000",
          "2025-10-30T10:02:00.000000000",
          "2025-10-30T10:03:00.000000000",
          "2025-10-30T10:04:00.000000000",
          "2025-10-30T10:05:00.000000000",
          "2025-10-30T10:06:00.000000000",
          "2025-10-30T10:07:00.000000000",
          "2025-10-30T10:08:00.000000000",
          "2025-10-30T10:09:00.000000000",
          "2025-10-30T10:10:00.000000000",
          "2025-10-30T10:11:00.000000000",
          "2025-10-30T10:12:00.000000000",
          "2025-10-30T10:13:00.000000000",
          "2025-10-30T10:14:00.000000000",
          "2025-10-30T10:15:00.000000000",
          "2025-10-30T10:16:00.000000000",
          "2025-10-30T10:17:00.000000000",
          "2025-10-30T10:18:00.000000000",
          "2025-10-30T10:19:00.000000000",
          "2025-10-30T10:20:00.000000000",
          "2025-10-30T10:21:00.000000000",
          "2025-10-30T10:22:00.000000000",
          "2025-10-30T10:23:00.000000000",
          "2025-10-30T10:24:00.000000000",
          "2025-10-30T10:25:00.000000000",
          "2025-10-30T10:26:00.000000000",
          "2025-10-30T10:27:00.000000000",
          "2025-10-30T10:28:00.000000000",
          "2025-10-30T10:29:00.000000000",
          "2025-10-30T10:30:00.000000000",
          "2025-10-30T10:31:00.000000000",
          "2025-10-30T10:32:00.000000000",
          "2025-10-30T10:33:00.000000000",
          "2025-10-30T10:34:00.000000000",
          "2025-10-30T10:35:00.000000000",
          "2025-10-30T10:36:00.000000000",
          "2025-10-30T10:37:00.000000000",
          "2025-10-30T10:38:00.000000000",
          "2025-10-30T10:39:00.000000000",
          "2025-10-30T10:40:00.000000000",
          "2025-10-30T10:41:00.000000000",
          "2025-10-30T10:42:00.000000000",
          "2025-10-30T10:43:00.000000000",
          "2025-10-30T10:44:00.000000000",
          "2025-10-30T10:45:00.000000000",
          "2025-10-30T10:46:00.000000000",
          "2025-10-30T10:47:00.000000000",
          "2025-10-30T10:48:00.000000000",
          "2025-10-30T10:49:00.000000000",
          "2025-10-30T10:50:00.000000000",
          "2025-10-30T10:51:00.000000000",
          "2025-10-30T10:52:00.000000000",
          "2025-10-30T10:53:00.000000000",
          "2025-10-30T10:54:00.000000000",
          "2025-10-30T10:55:00.000000000",
          "2025-10-30T10:56:00.000000000",
          "2025-10-30T10:57:00.000000000",
          "2025-10-30T10:58:00.000000000",
          "2025-10-30T10:59:00.000000000",
          "2025-10-30T11:00:00.000000000",
          "2025-10-30T11:01:00.000000000",
          "2025-10-30T11:02:00.000000000",
          "2025-10-30T11:03:00.000000000",
          "2025-10-30T11:04:00.000000000",
          "2025-10-30T11:05:00.000000000",
          "2025-10-30T11:06:00.000000000",
          "2025-10-30T11:07:00.000000000",
          "2025-10-30T11:08:00.000000000",
          "2025-10-30T11:09:00.000000000",
          "2025-10-30T11:10:00.000000000",
          "2025-10-30T11:11:00.000000000",
          "2025-10-30T11:12:00.000000000",
          "2025-10-30T11:13:00.000000000",
          "2025-10-30T11:14:00.000000000",
          "2025-10-30T11:15:00.000000000",
          "2025-10-30T11:16:00.000000000",
          "2025-10-30T11:17:00.000000000",
          "2025-10-30T11:18:00.000000000",
          "2025-10-30T11:19:00.000000000",
          "2025-10-30T11:20:00.000000000",
          "2025-10-30T11:21:00.000000000",
          "2025-10-30T11:22:00.000000000",
          "2025-10-30T11:23:00.000000000",
          "2025-10-30T11:24:00.000000000",
          "2025-10-30T11:25:00.000000000",
          "2025-10-30T11:26:00.000000000",
          "2025-10-30T11:27:00.000000000",
          "2025-10-30T11:28:00.000000000",
          "2025-10-30T11:29:00.000000000",
          "2025-10-30T11:30:00.000000000",
          "2025-10-30T11:31:00.000000000",
          "2025-10-30T11:32:00.000000000",
          "2025-10-30T11:33:00.000000000",
          "2025-10-30T11:34:00.000000000",
          "2025-10-30T11:35:00.000000000",
          "2025-10-30T11:36:00.000000000",
          "2025-10-30T11:37:00.000000000",
          "2025-10-30T11:38:00.000000000",
          "2025-10-30T11:39:00.000000000",
          "2025-10-30T11:40:00.000000000",
          "2025-10-30T11:41:00.000000000",
          "2025-10-30T11:42:00.000000000",
          "2025-10-30T11:43:00.000000000",
          "2025-10-30T11:44:00.000000000",
          "2025-10-30T11:45:00.000000000",
          "2025-10-30T11:46:00.000000000",
          "2025-10-30T11:47:00.000000000",
          "2025-10-30T11:48:00.000000000",
          "2025-10-30T11:49:00.000000000",
          "2025-10-30T11:50:00.000000000",
          "2025-10-30T11:51:00.000000000",
          "2025-10-30T11:52:00.000000000",
          "2025-10-30T11:53:00.000000000",
          "2025-10-30T11:54:00.000000000",
          "2025-10-30T11:55:00.000000000",
          "2025-10-30T11:56:00.000000000",
          "2025-10-30T11:57:00.000000000",
          "2025-10-30T11:58:00.000000000",
          "2025-10-30T11:59:00.000000000",
          "2025-10-30T12:00:00.000000000",
          "2025-10-30T12:01:00.000000000",
          "2025-10-30T12:02:00.000000000",
          "2025-10-30T12:03:00.000000000",
          "2025-10-30T12:04:00.000000000",
          "2025-10-30T12:05:00.000000000",
          "2025-10-30T12:06:00.000000000",
          "2025-10-30T12:07:00.000000000",
          "2025-10-30T12:08:00.000000000",
          "2025-10-30T12:09:00.000000000",
          "2025-10-30T12:10:00.000000000",
          "2025-10-30T12:11:00.000000000",
          "2025-10-30T12:12:00.000000000",
          "2025-10-30T12:13:00.000000000",
          "2025-10-30T12:14:00.000000000",
          "2025-10-30T12:15:00.000000000",
          "2025-10-30T12:16:00.000000000",
          "2025-10-30T12:17:00.000000000",
          "2025-10-30T12:18:00.000000000",
          "2025-10-30T12:19:00.000000000",
          "2025-10-30T12:20:00.000000000",
          "2025-10-30T12:21:00.000000000",
          "2025-10-30T12:22:00.000000000",
          "2025-10-30T12:23:00.000000000",
          "2025-10-30T12:24:00.000000000",
          "2025-10-30T12:25:00.000000000",
          "2025-10-30T12:26:00.000000000",
          "2025-10-30T12:27:00.000000000",
          "2025-10-30T12:28:00.000000000",
          "2025-10-30T12:29:00.000000000",
          "2025-10-30T12:30:00.000000000",
          "2025-10-30T12:31:00.000000000",
          "2025-10-30T12:32:00.000000000",
          "2025-10-30T12:33:00.000000000",
          "2025-10-30T12:34:00.000000000",
          "2025-10-30T12:35:00.000000000",
          "2025-10-30T12:36:00.000000000",
          "2025-10-30T12:37:00.000000000",
          "2025-10-30T12:38:00.000000000",
          "2025-10-30T12:39:00.000000000",
          "2025-10-30T12:40:00.000000000",
          "2025-10-30T12:41:00.000000000",
          "2025-10-30T12:42:00.000000000",
          "2025-10-30T12:43:00.000000000",
          "2025-10-30T12:44:00.000000000",
          "2025-10-30T12:45:00.000000000",
          "2025-10-30T12:46:00.000000000",
          "2025-10-30T12:47:00.000000000",
          "2025-10-30T12:48:00.000000000",
          "2025-10-30T12:49:00.000000000",
          "2025-10-30T12:50:00.000000000",
          "2025-10-30T12:51:00.000000000",
          "2025-10-30T12:52:00.000000000",
          "2025-10-30T12:53:00.000000000",
          "2025-10-30T12:54:00.000000000",
          "2025-10-30T12:55:00.000000000",
          "2025-10-30T12:56:00.000000000",
          "2025-10-30T12:57:00.000000000",
          "2025-10-30T12:58:00.000000000",
          "2025-10-30T12:59:00.000000000",
          "2025-10-30T13:00:00.000000000",
          "2025-10-30T13:01:00.000000000",
          "2025-10-30T13:02:00.000000000",
          "2025-10-30T13:03:00.000000000",
          "2025-10-30T13:04:00.000000000",
          "2025-10-30T13:05:00.000000000",
          "2025-10-30T13:06:00.000000000",
          "2025-10-30T13:07:00.000000000",
          "2025-10-30T13:08:00.000000000",
          "2025-10-30T13:09:00.000000000",
          "2025-10-30T13:10:00.000000000",
          "2025-10-30T13:11:00.000000000",
          "2025-10-30T13:12:00.000000000",
          "2025-10-30T13:13:00.000000000",
          "2025-10-30T13:14:00.000000000",
          "2025-10-30T13:15:00.000000000",
          "2025-10-30T13:16:00.000000000",
          "2025-10-30T13:17:00.000000000",
          "2025-10-30T13:18:00.000000000",
          "2025-10-30T13:19:00.000000000",
          "2025-10-30T13:20:00.000000000",
          "2025-10-30T13:21:00.000000000",
          "2025-10-30T13:22:00.000000000",
          "2025-10-30T13:23:00.000000000",
          "2025-10-30T13:24:00.000000000",
          "2025-10-30T13:25:00.000000000",
          "2025-10-30T13:26:00.000000000",
          "2025-10-30T13:27:00.000000000",
          "2025-10-30T13:28:00.000000000",
          "2025-10-30T13:29:00.000000000",
          "2025-10-30T13:30:00.000000000",
          "2025-10-30T13:31:00.000000000",
          "2025-10-30T13:32:00.000000000",
          "2025-10-30T13:33:00.000000000",
          "2025-10-30T13:34:00.000000000",
          "2025-10-30T13:35:00.000000000",
          "2025-10-30T13:36:00.000000000",
          "2025-10-30T13:37:00.000000000",
          "2025-10-30T13:38:00.000000000",
          "2025-10-30T13:39:00.000000000",
          "2025-10-30T13:40:00.000000000",
          "2025-10-30T13:41:00.000000000",
          "2025-10-30T13:42:00.000000000",
          "2025-10-30T13:43:00.000000000",
          "2025-10-30T13:44:00.000000000",
          "2025-10-30T13:45:00.000000000",
          "2025-10-30T13:46:00.000000000",
          "2025-10-30T13:47:00.000000000",
          "2025-10-30T13:48:00.000000000",
          "2025-10-30T13:49:00.000000000",
          "2025-10-30T13:50:00.000000000",
          "2025-10-30T13:51:00.000000000",
          "2025-10-30T13:52:00.000000000",
          "2025-10-30T13:53:00.000000000",
          "2025-10-30T13:54:00.000000000",
          "2025-10-30T13:55:00.000000000",
          "2025-10-30T13:56:00.000000000",
          "2025-10-30T13:57:00.000000000",
          "2025-10-30T13:58:00.000000000",
          "2025-10-30T13:59:00.000000000",
          "2025-10-30T14:00:00.000000000",
          "2025-10-30T14:01:00.000000000",
          "2025-10-30T14:02:00.000000000",
          "2025-10-30T14:03:00.000000000",
          "2025-10-30T14:04:00.000000000",
          "2025-10-30T14:05:00.000000000",
          "2025-10-30T14:06:00.000000000",
          "2025-10-30T14:07:00.000000000",
          "2025-10-30T14:08:00.000000000",
          "2025-10-30T14:09:00.000000000",
          "2025-10-30T14:10:00.000000000",
          "2025-10-30T14:11:00.000000000",
          "2025-10-30T14:12:00.000000000",
          "2025-10-30T14:13:00.000000000",
          "2025-10-30T14:14:00.000000000",
          "2025-10-30T14:15:00.000000000",
          "2025-10-30T14:16:00.000000000",
          "2025-10-30T14:17:00.000000000",
          "2025-10-30T14:18:00.000000000",
          "2025-10-30T14:19:00.000000000",
          "2025-10-30T14:20:00.000000000",
          "2025-10-30T14:21:00.000000000",
          "2025-10-30T14:22:00.000000000",
          "2025-10-30T14:23:00.000000000",
          "2025-10-30T14:24:00.000000000",
          "2025-10-30T14:25:00.000000000",
          "2025-10-30T14:26:00.000000000",
          "2025-10-30T14:27:00.000000000",
          "2025-10-30T14:28:00.000000000",
          "2025-10-30T14:29:00.000000000",
          "2025-10-30T14:30:00.000000000",
          "2025-10-30T14:31:00.000000000",
          "2025-10-30T14:32:00.000000000",
          "2025-10-30T14:33:00.000000000",
          "2025-10-30T14:34:00.000000000",
          "2025-10-30T14:35:00.000000000",
          "2025-10-30T14:36:00.000000000",
          "2025-10-30T14:37:00.000000000",
          "2025-10-30T14:38:00.000000000",
          "2025-10-30T14:39:00.000000000",
          "2025-10-30T14:40:00.000000000",
          "2025-10-30T14:41:00.000000000",
          "2025-10-30T14:42:00.000000000",
          "2025-10-30T14:43:00.000000000",
          "2025-10-30T14:44:00.000000000",
          "2025-10-30T14:45:00.000000000",
          "2025-10-30T14:46:00.000000000",
          "2025-10-30T14:47:00.000000000",
          "2025-10-30T14:48:00.000000000",
          "2025-10-30T14:49:00.000000000",
          "2025-10-30T14:50:00.000000000",
          "2025-10-30T14:51:00.000000000",
          "2025-10-30T14:52:00.000000000",
          "2025-10-30T14:53:00.000000000",
          "2025-10-30T14:54:00.000000000",
          "2025-10-30T14:55:00.000000000",
          "2025-10-30T14:56:00.000000000",
          "2025-10-30T14:57:00.000000000",
          "2025-10-30T14:58:00.000000000",
          "2025-10-30T14:59:00.000000000",
          "2025-10-30T15:00:00.000000000",
          "2025-10-30T15:01:00.000000000",
          "2025-10-30T15:02:00.000000000",
          "2025-10-30T15:03:00.000000000",
          "2025-10-30T15:04:00.000000000",
          "2025-10-30T15:05:00.000000000",
          "2025-10-30T15:06:00.000000000",
          "2025-10-30T15:07:00.000000000",
          "2025-10-30T15:08:00.000000000",
          "2025-10-30T15:09:00.000000000",
          "2025-10-30T15:10:00.000000000",
          "2025-10-30T15:11:00.000000000",
          "2025-10-30T15:12:00.000000000",
          "2025-10-30T15:13:00.000000000",
          "2025-10-30T15:14:00.000000000",
          "2025-10-30T15:15:00.000000000",
          "2025-10-30T15:16:00.000000000",
          "2025-10-30T15:17:00.000000000",
          "2025-10-30T15:18:00.000000000",
          "2025-10-30T15:19:00.000000000",
          "2025-10-30T15:20:00.000000000",
          "2025-10-30T15:21:00.000000000",
          "2025-10-30T15:22:00.000000000",
          "2025-10-30T15:23:00.000000000",
          "2025-10-30T15:24:00.000000000",
          "2025-10-30T15:25:00.000000000",
          "2025-10-30T15:26:00.000000000",
          "2025-10-30T15:27:00.000000000",
          "2025-10-30T15:28:00.000000000",
          "2025-10-30T15:29:00.000000000",
          "2025-10-30T15:30:00.000000000",
          "2025-10-30T15:31:00.000000000",
          "2025-10-30T15:32:00.000000000",
          "2025-10-30T15:33:00.000000000",
          "2025-10-30T15:34:00.000000000",
          "2025-10-30T15:35:00.000000000",
          "2025-10-30T15:36:00.000000000",
          "2025-10-30T15:37:00.000000000",
          "2025-10-30T15:38:00.000000000",
          "2025-10-30T15:39:00.000000000",
          "2025-10-30T15:40:00.000000000",
          "2025-10-30T15:41:00.000000000",
          "2025-10-30T15:42:00.000000000",
          "2025-10-30T15:43:00.000000000",
          "2025-10-30T15:44:00.000000000",
          "2025-10-30T15:45:00.000000000",
          "2025-10-30T15:46:00.000000000",
          "2025-10-30T15:47:00.000000000",
          "2025-10-30T15:48:00.000000000",
          "2025-10-30T15:49:00.000000000",
          "2025-10-30T15:50:00.000000000",
          "2025-10-30T15:51:00.000000000",
          "2025-10-30T15:52:00.000000000",
          "2025-10-30T15:53:00.000000000",
          "2025-10-30T15:54:00.000000000",
          "2025-10-30T15:55:00.000000000",
          "2025-10-30T15:56:00.000000000",
          "2025-10-30T15:57:00.000000000",
          "2025-10-30T15:58:00.000000000",
          "2025-10-30T15:59:00.000000000"
         ],
         "xaxis": "x2",
         "y": {
          "bdata": "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",
          "dtype": "f8"
         },
         "yaxis": "y2"
        },
        {
         "line": {
          "color": "#F8E9A6",
          "width": 1
         },
         "mode": "lines",
         "name": "Signal (avg)",
         "showlegend": false,
         "type": "scatter",
         "x": [
          "2025-10-30T09:00:00.000000000",
          "2025-10-30T09:01:00.000000000",
          "2025-10-30T09:02:00.000000000",
          "2025-10-30T09:03:00.000000000",
          "2025-10-30T09:04:00.000000000",
          "2025-10-30T09:05:00.000000000",
          "2025-10-30T09:06:00.000000000",
          "2025-10-30T09:07:00.000000000",
          "2025-10-30T09:08:00.000000000",
          "2025-10-30T09:09:00.000000000",
          "2025-10-30T09:10:00.000000000",
          "2025-10-30T09:11:00.000000000",
          "2025-10-30T09:12:00.000000000",
          "2025-10-30T09:13:00.000000000",
          "2025-10-30T09:14:00.000000000",
          "2025-10-30T09:15:00.000000000",
          "2025-10-30T09:16:00.000000000",
          "2025-10-30T09:17:00.000000000",
          "2025-10-30T09:18:00.000000000",
          "2025-10-30T09:19:00.000000000",
          "2025-10-30T09:20:00.000000000",
          "2025-10-30T09:21:00.000000000",
          "2025-10-30T09:22:00.000000000",
          "2025-10-30T09:23:00.000000000",
          "2025-10-30T09:24:00.000000000",
          "2025-10-30T09:25:00.000000000",
          "2025-10-30T09:26:00.000000000",
          "2025-10-30T09:27:00.000000000",
          "2025-10-30T09:28:00.000000000",
          "2025-10-30T09:29:00.000000000",
          "2025-10-30T09:30:00.000000000",
          "2025-10-30T09:31:00.000000000",
          "2025-10-30T09:32:00.000000000",
          "2025-10-30T09:33:00.000000000",
          "2025-10-30T09:34:00.000000000",
          "2025-10-30T09:35:00.000000000",
          "2025-10-30T09:36:00.000000000",
          "2025-10-30T09:37:00.000000000",
          "2025-10-30T09:38:00.000000000",
          "2025-10-30T09:39:00.000000000",
          "2025-10-30T09:40:00.000000000",
          "2025-10-30T09:41:00.000000000",
          "2025-10-30T09:42:00.000000000",
          "2025-10-30T09:43:00.000000000",
          "2025-10-30T09:44:00.000000000",
          "2025-10-30T09:45:00.000000000",
          "2025-10-30T09:46:00.000000000",
          "2025-10-30T09:47:00.000000000",
          "2025-10-30T09:48:00.000000000",
          "2025-10-30T09:49:00.000000000",
          "2025-10-30T09:50:00.000000000",
          "2025-10-30T09:51:00.000000000",
          "2025-10-30T09:52:00.000000000",
          "2025-10-30T09:53:00.000000000",
          "2025-10-30T09:54:00.000000000",
          "2025-10-30T09:55:00.000000000",
          "2025-10-30T09:56:00.000000000",
          "2025-10-30T09:57:00.000000000",
          "2025-10-30T09:58:00.000000000",
          "2025-10-30T09:59:00.000000000",
          "2025-10-30T10:00:00.000000000",
          "2025-10-30T10:01:00.000000000",
          "2025-10-30T10:02:00.000000000",
          "2025-10-30T10:03:00.000000000",
          "2025-10-30T10:04:00.000000000",
          "2025-10-30T10:05:00.000000000",
          "2025-10-30T10:06:00.000000000",
          "2025-10-30T10:07:00.000000000",
          "2025-10-30T10:08:00.000000000",
          "2025-10-30T10:09:00.000000000",
          "2025-10-30T10:10:00.000000000",
          "2025-10-30T10:11:00.000000000",
          "2025-10-30T10:12:00.000000000",
          "2025-10-30T10:13:00.000000000",
          "2025-10-30T10:14:00.000000000",
          "2025-10-30T10:15:00.000000000",
          "2025-10-30T10:16:00.000000000",
          "2025-10-30T10:17:00.000000000",
          "2025-10-30T10:18:00.000000000",
          "2025-10-30T10:19:00.000000000",
          "2025-10-30T10:20:00.000000000",
          "2025-10-30T10:21:00.000000000",
          "2025-10-30T10:22:00.000000000",
          "2025-10-30T10:23:00.000000000",
          "2025-10-30T10:24:00.000000000",
          "2025-10-30T10:25:00.000000000",
          "2025-10-30T10:26:00.000000000",
          "2025-10-30T10:27:00.000000000",
          "2025-10-30T10:28:00.000000000",
          "2025-10-30T10:29:00.000000000",
          "2025-10-30T10:30:00.000000000",
          "2025-10-30T10:31:00.000000000",
          "2025-10-30T10:32:00.000000000",
          "2025-10-30T10:33:00.000000000",
          "2025-10-30T10:34:00.000000000",
          "2025-10-30T10:35:00.000000000",
          "2025-10-30T10:36:00.000000000",
          "2025-10-30T10:37:00.000000000",
          "2025-10-30T10:38:00.000000000",
          "2025-10-30T10:39:00.000000000",
          "2025-10-30T10:40:00.000000000",
          "2025-10-30T10:41:00.000000000",
          "2025-10-30T10:42:00.000000000",
          "2025-10-30T10:43:00.000000000",
          "2025-10-30T10:44:00.000000000",
          "2025-10-30T10:45:00.000000000",
          "2025-10-30T10:46:00.000000000",
          "2025-10-30T10:47:00.000000000",
          "2025-10-30T10:48:00.000000000",
          "2025-10-30T10:49:00.000000000",
          "2025-10-30T10:50:00.000000000",
          "2025-10-30T10:51:00.000000000",
          "2025-10-30T10:52:00.000000000",
          "2025-10-30T10:53:00.000000000",
          "2025-10-30T10:54:00.000000000",
          "2025-10-30T10:55:00.000000000",
          "2025-10-30T10:56:00.000000000",
          "2025-10-30T10:57:00.000000000",
          "2025-10-30T10:58:00.000000000",
          "2025-10-30T10:59:00.000000000",
          "2025-10-30T11:00:00.000000000",
          "2025-10-30T11:01:00.000000000",
          "2025-10-30T11:02:00.000000000",
          "2025-10-30T11:03:00.000000000",
          "2025-10-30T11:04:00.000000000",
          "2025-10-30T11:05:00.000000000",
          "2025-10-30T11:06:00.000000000",
          "2025-10-30T11:07:00.000000000",
          "2025-10-30T11:08:00.000000000",
          "2025-10-30T11:09:00.000000000",
          "2025-10-30T11:10:00.000000000",
          "2025-10-30T11:11:00.000000000",
          "2025-10-30T11:12:00.000000000",
          "2025-10-30T11:13:00.000000000",
          "2025-10-30T11:14:00.000000000",
          "2025-10-30T11:15:00.000000000",
          "2025-10-30T11:16:00.000000000",
          "2025-10-30T11:17:00.000000000",
          "2025-10-30T11:18:00.000000000",
          "2025-10-30T11:19:00.000000000",
          "2025-10-30T11:20:00.000000000",
          "2025-10-30T11:21:00.000000000",
          "2025-10-30T11:22:00.000000000",
          "2025-10-30T11:23:00.000000000",
          "2025-10-30T11:24:00.000000000",
          "2025-10-30T11:25:00.000000000",
          "2025-10-30T11:26:00.000000000",
          "2025-10-30T11:27:00.000000000",
          "2025-10-30T11:28:00.000000000",
          "2025-10-30T11:29:00.000000000",
          "2025-10-30T11:30:00.000000000",
          "2025-10-30T11:31:00.000000000",
          "2025-10-30T11:32:00.000000000",
          "2025-10-30T11:33:00.000000000",
          "2025-10-30T11:34:00.000000000",
          "2025-10-30T11:35:00.000000000",
          "2025-10-30T11:36:00.000000000",
          "2025-10-30T11:37:00.000000000",
          "2025-10-30T11:38:00.000000000",
          "2025-10-30T11:39:00.000000000",
          "2025-10-30T11:40:00.000000000",
          "2025-10-30T11:41:00.000000000",
          "2025-10-30T11:42:00.000000000",
          "2025-10-30T11:43:00.000000000",
          "2025-10-30T11:44:00.000000000",
          "2025-10-30T11:45:00.000000000",
          "2025-10-30T11:46:00.000000000",
          "2025-10-30T11:47:00.000000000",
          "2025-10-30T11:48:00.000000000",
          "2025-10-30T11:49:00.000000000",
          "2025-10-30T11:50:00.000000000",
          "2025-10-30T11:51:00.000000000",
          "2025-10-30T11:52:00.000000000",
          "2025-10-30T11:53:00.000000000",
          "2025-10-30T11:54:00.000000000",
          "2025-10-30T11:55:00.000000000",
          "2025-10-30T11:56:00.000000000",
          "2025-10-30T11:57:00.000000000",
          "2025-10-30T11:58:00.000000000",
          "2025-10-30T11:59:00.000000000",
          "2025-10-30T12:00:00.000000000",
          "2025-10-30T12:01:00.000000000",
          "2025-10-30T12:02:00.000000000",
          "2025-10-30T12:03:00.000000000",
          "2025-10-30T12:04:00.000000000",
          "2025-10-30T12:05:00.000000000",
          "2025-10-30T12:06:00.000000000",
          "2025-10-30T12:07:00.000000000",
          "2025-10-30T12:08:00.000000000",
          "2025-10-30T12:09:00.000000000",
          "2025-10-30T12:10:00.000000000",
          "2025-10-30T12:11:00.000000000",
          "2025-10-30T12:12:00.000000000",
          "2025-10-30T12:13:00.000000000",
          "2025-10-30T12:14:00.000000000",
          "2025-10-30T12:15:00.000000000",
          "2025-10-30T12:16:00.000000000",
          "2025-10-30T12:17:00.000000000",
          "2025-10-30T12:18:00.000000000",
          "2025-10-30T12:19:00.000000000",
          "2025-10-30T12:20:00.000000000",
          "2025-10-30T12:21:00.000000000",
          "2025-10-30T12:22:00.000000000",
          "2025-10-30T12:23:00.000000000",
          "2025-10-30T12:24:00.000000000",
          "2025-10-30T12:25:00.000000000",
          "2025-10-30T12:26:00.000000000",
          "2025-10-30T12:27:00.000000000",
          "2025-10-30T12:28:00.000000000",
          "2025-10-30T12:29:00.000000000",
          "2025-10-30T12:30:00.000000000",
          "2025-10-30T12:31:00.000000000",
          "2025-10-30T12:32:00.000000000",
          "2025-10-30T12:33:00.000000000",
          "2025-10-30T12:34:00.000000000",
          "2025-10-30T12:35:00.000000000",
          "2025-10-30T12:36:00.000000000",
          "2025-10-30T12:37:00.000000000",
          "2025-10-30T12:38:00.000000000",
          "2025-10-30T12:39:00.000000000",
          "2025-10-30T12:40:00.000000000",
          "2025-10-30T12:41:00.000000000",
          "2025-10-30T12:42:00.000000000",
          "2025-10-30T12:43:00.000000000",
          "2025-10-30T12:44:00.000000000",
          "2025-10-30T12:45:00.000000000",
          "2025-10-30T12:46:00.000000000",
          "2025-10-30T12:47:00.000000000",
          "2025-10-30T12:48:00.000000000",
          "2025-10-30T12:49:00.000000000",
          "2025-10-30T12:50:00.000000000",
          "2025-10-30T12:51:00.000000000",
          "2025-10-30T12:52:00.000000000",
          "2025-10-30T12:53:00.000000000",
          "2025-10-30T12:54:00.000000000",
          "2025-10-30T12:55:00.000000000",
          "2025-10-30T12:56:00.000000000",
          "2025-10-30T12:57:00.000000000",
          "2025-10-30T12:58:00.000000000",
          "2025-10-30T12:59:00.000000000",
          "2025-10-30T13:00:00.000000000",
          "2025-10-30T13:01:00.000000000",
          "2025-10-30T13:02:00.000000000",
          "2025-10-30T13:03:00.000000000",
          "2025-10-30T13:04:00.000000000",
          "2025-10-30T13:05:00.000000000",
          "2025-10-30T13:06:00.000000000",
          "2025-10-30T13:07:00.000000000",
          "2025-10-30T13:08:00.000000000",
          "2025-10-30T13:09:00.000000000",
          "2025-10-30T13:10:00.000000000",
          "2025-10-30T13:11:00.000000000",
          "2025-10-30T13:12:00.000000000",
          "2025-10-30T13:13:00.000000000",
          "2025-10-30T13:14:00.000000000",
          "2025-10-30T13:15:00.000000000",
          "2025-10-30T13:16:00.000000000",
          "2025-10-30T13:17:00.000000000",
          "2025-10-30T13:18:00.000000000",
          "2025-10-30T13:19:00.000000000",
          "2025-10-30T13:20:00.000000000",
          "2025-10-30T13:21:00.000000000",
          "2025-10-30T13:22:00.000000000",
          "2025-10-30T13:23:00.000000000",
          "2025-10-30T13:24:00.000000000",
          "2025-10-30T13:25:00.000000000",
          "2025-10-30T13:26:00.000000000",
          "2025-10-30T13:27:00.000000000",
          "2025-10-30T13:28:00.000000000",
          "2025-10-30T13:29:00.000000000",
          "2025-10-30T13:30:00.000000000",
          "2025-10-30T13:31:00.000000000",
          "2025-10-30T13:32:00.000000000",
          "2025-10-30T13:33:00.000000000",
          "2025-10-30T13:34:00.000000000",
          "2025-10-30T13:35:00.000000000",
          "2025-10-30T13:36:00.000000000",
          "2025-10-30T13:37:00.000000000",
          "2025-10-30T13:38:00.000000000",
          "2025-10-30T13:39:00.000000000",
          "2025-10-30T13:40:00.000000000",
          "2025-10-30T13:41:00.000000000",
          "2025-10-30T13:42:00.000000000",
          "2025-10-30T13:43:00.000000000",
          "2025-10-30T13:44:00.000000000",
          "2025-10-30T13:45:00.000000000",
          "2025-10-30T13:46:00.000000000",
          "2025-10-30T13:47:00.000000000",
          "2025-10-30T13:48:00.000000000",
          "2025-10-30T13:49:00.000000000",
          "2025-10-30T13:50:00.000000000",
          "2025-10-30T13:51:00.000000000",
          "2025-10-30T13:52:00.000000000",
          "2025-10-30T13:53:00.000000000",
          "2025-10-30T13:54:00.000000000",
          "2025-10-30T13:55:00.000000000",
          "2025-10-30T13:56:00.000000000",
          "2025-10-30T13:57:00.000000000",
          "2025-10-30T13:58:00.000000000",
          "2025-10-30T13:59:00.000000000",
          "2025-10-30T14:00:00.000000000",
          "2025-10-30T14:01:00.000000000",
          "2025-10-30T14:02:00.000000000",
          "2025-10-30T14:03:00.000000000",
          "2025-10-30T14:04:00.000000000",
          "2025-10-30T14:05:00.000000000",
          "2025-10-30T14:06:00.000000000",
          "2025-10-30T14:07:00.000000000",
          "2025-10-30T14:08:00.000000000",
          "2025-10-30T14:09:00.000000000",
          "2025-10-30T14:10:00.000000000",
          "2025-10-30T14:11:00.000000000",
          "2025-10-30T14:12:00.000000000",
          "2025-10-30T14:13:00.000000000",
          "2025-10-30T14:14:00.000000000",
          "2025-10-30T14:15:00.000000000",
          "2025-10-30T14:16:00.000000000",
          "2025-10-30T14:17:00.000000000",
          "2025-10-30T14:18:00.000000000",
          "2025-10-30T14:19:00.000000000",
          "2025-10-30T14:20:00.000000000",
          "2025-10-30T14:21:00.000000000",
          "2025-10-30T14:22:00.000000000",
          "2025-10-30T14:23:00.000000000",
          "2025-10-30T14:24:00.000000000",
          "2025-10-30T14:25:00.000000000",
          "2025-10-30T14:26:00.000000000",
          "2025-10-30T14:27:00.000000000",
          "2025-10-30T14:28:00.000000000",
          "2025-10-30T14:29:00.000000000",
          "2025-10-30T14:30:00.000000000",
          "2025-10-30T14:31:00.000000000",
          "2025-10-30T14:32:00.000000000",
          "2025-10-30T14:33:00.000000000",
          "2025-10-30T14:34:00.000000000",
          "2025-10-30T14:35:00.000000000",
          "2025-10-30T14:36:00.000000000",
          "2025-10-30T14:37:00.000000000",
          "2025-10-30T14:38:00.000000000",
          "2025-10-30T14:39:00.000000000",
          "2025-10-30T14:40:00.000000000",
          "2025-10-30T14:41:00.000000000",
          "2025-10-30T14:42:00.000000000",
          "2025-10-30T14:43:00.000000000",
          "2025-10-30T14:44:00.000000000",
          "2025-10-30T14:45:00.000000000",
          "2025-10-30T14:46:00.000000000",
          "2025-10-30T14:47:00.000000000",
          "2025-10-30T14:48:00.000000000",
          "2025-10-30T14:49:00.000000000",
          "2025-10-30T14:50:00.000000000",
          "2025-10-30T14:51:00.000000000",
          "2025-10-30T14:52:00.000000000",
          "2025-10-30T14:53:00.000000000",
          "2025-10-30T14:54:00.000000000",
          "2025-10-30T14:55:00.000000000",
          "2025-10-30T14:56:00.000000000",
          "2025-10-30T14:57:00.000000000",
          "2025-10-30T14:58:00.000000000",
          "2025-10-30T14:59:00.000000000",
          "2025-10-30T15:00:00.000000000",
          "2025-10-30T15:01:00.000000000",
          "2025-10-30T15:02:00.000000000",
          "2025-10-30T15:03:00.000000000",
          "2025-10-30T15:04:00.000000000",
          "2025-10-30T15:05:00.000000000",
          "2025-10-30T15:06:00.000000000",
          "2025-10-30T15:07:00.000000000",
          "2025-10-30T15:08:00.000000000",
          "2025-10-30T15:09:00.000000000",
          "2025-10-30T15:10:00.000000000",
          "2025-10-30T15:11:00.000000000",
          "2025-10-30T15:12:00.000000000",
          "2025-10-30T15:13:00.000000000",
          "2025-10-30T15:14:00.000000000",
          "2025-10-30T15:15:00.000000000",
          "2025-10-30T15:16:00.000000000",
          "2025-10-30T15:17:00.000000000",
          "2025-10-30T15:18:00.000000000",
          "2025-10-30T15:19:00.000000000",
          "2025-10-30T15:20:00.000000000",
          "2025-10-30T15:21:00.000000000",
          "2025-10-30T15:22:00.000000000",
          "2025-10-30T15:23:00.000000000",
          "2025-10-30T15:24:00.000000000",
          "2025-10-30T15:25:00.000000000",
          "2025-10-30T15:26:00.000000000",
          "2025-10-30T15:27:00.000000000",
          "2025-10-30T15:28:00.000000000",
          "2025-10-30T15:29:00.000000000",
          "2025-10-30T15:30:00.000000000",
          "2025-10-30T15:31:00.000000000",
          "2025-10-30T15:32:00.000000000",
          "2025-10-30T15:33:00.000000000",
          "2025-10-30T15:34:00.000000000",
          "2025-10-30T15:35:00.000000000",
          "2025-10-30T15:36:00.000000000",
          "2025-10-30T15:37:00.000000000",
          "2025-10-30T15:38:00.000000000",
          "2025-10-30T15:39:00.000000000",
          "2025-10-30T15:40:00.000000000",
          "2025-10-30T15:41:00.000000000",
          "2025-10-30T15:42:00.000000000",
          "2025-10-30T15:43:00.000000000",
          "2025-10-30T15:44:00.000000000",
          "2025-10-30T15:45:00.000000000",
          "2025-10-30T15:46:00.000000000",
          "2025-10-30T15:47:00.000000000",
          "2025-10-30T15:48:00.000000000",
          "2025-10-30T15:49:00.000000000",
          "2025-10-30T15:50:00.000000000",
          "2025-10-30T15:51:00.000000000",
          "2025-10-30T15:52:00.000000000",
          "2025-10-30T15:53:00.000000000",
          "2025-10-30T15:54:00.000000000",
          "2025-10-30T15:55:00.000000000",
          "2025-10-30T15:56:00.000000000",
          "2025-10-30T15:57:00.000000000",
          "2025-10-30T15:58:00.000000000",
          "2025-10-30T15:59:00.000000000"
         ],
         "xaxis": "x2",
         "y": {
          "bdata": "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",
          "dtype": "f8"
         },
         "yaxis": "y2"
        },
        {
         "marker": {
          "color": [
           "#FE0000",
           "#7E0100",
           "#7E0100",
           "#7E0100",
           "#7E0100",
           "#7E0100",
           "#7E0100",
           "#7E0100",
           "#7E0100",
           "#7E0100",
           "#7E0100",
           "#7E0100",
           "#7E0100",
           "#7E0100",
           "#7E0100",
           "#7E0100",
           "#7E0100",
           "#7E0100",
           "#7E0100",
           "#7E0100",
           "#7E0100",
           "#7E0100",
           "#7E0100",
           "#7E0100",
           "#7E0100",
           "#7E0100",
           "#7E0100",
           "#7E0100",
           "#7E0100",
           "#7E0100",
           "#FE0000",
           "#FE0000",
           "#FE0000",
           "#FE0000",
           "#7E0100",
           "#7E0100",
           "#FE0000",
           "#7E0100",
           "#7E0100",
           "#7E0100",
           "#7E0100",
           "#7E0100",
           "#7E0100",
           "#7E0100",
           "#04FE00",
           "#04FE00",
           "#04FE00",
           "#04FE00",
           "#04FE00",
           "#04FE00",
           "#04FE00",
           "#04FE00",
           "#04FE00",
           "#006401",
           "#006401",
           "#006401",
           "#006401",
           "#006401",
           "#006401",
           "#006401",
           "#006401",
           "#006401",
           "#006401",
           "#006401",
           "#006401",
           "#04FE00",
           "#006401",
           "#FE0000",
           "#FE0000",
           "#FE0000",
           "#FE0000",
           "#7E0100",
           "#FE0000",
           "#7E0100",
           "#7E0100",
           "#FE0000",
           "#FE0000",
           "#FE0000",
           "#7E0100",
           "#FE0000",
           "#FE0000",
           "#7E0100",
           "#7E0100",
           "#FE0000",
           "#FE0000",
           "#FE0000",
           "#7E0100",
           "#7E0100",
           "#7E0100",
           "#FE0000",
           "#7E0100",
           "#04FE00",
           "#04FE00",
           "#04FE00",
           "#04FE00",
           "#04FE00",
           "#04FE00",
           "#04FE00",
           "#006401",
           "#006401",
           "#04FE00",
           "#04FE00",
           "#04FE00",
           "#04FE00",
           "#006401",
           "#006401",
           "#006401",
           "#006401",
           "#FE0000",
           "#FE0000",
           "#FE0000",
           "#FE0000",
           "#FE0000",
           "#FE0000",
           "#FE0000",
           "#7E0100",
           "#FE0000",
           "#7E0100",
           "#7E0100",
           "#7E0100",
           "#7E0100",
           "#04FE00",
           "#04FE00",
           "#04FE00",
           "#04FE00",
           "#006401",
           "#006401",
           "#006401",
           "#04FE00",
           "#04FE00",
           "#04FE00",
           "#04FE00",
           "#006401",
           "#006401",
           "#04FE00",
           "#006401",
           "#006401",
           "#006401",
           "#006401",
           "#006401",
           "#04FE00",
           "#006401",
           "#006401",
           "#FE0000",
           "#FE0000",
           "#FE0000",
           "#FE0000",
           "#FE0000",
           "#FE0000",
           "#FE0000",
           "#FE0000",
           "#FE0000",
           "#FE0000",
           "#FE0000",
           "#7E0100",
           "#7E0100",
           "#FE0000",
           "#FE0000",
           "#FE0000",
           "#FE0000",
           "#FE0000",
           "#FE0000",
           "#7E0100",
           "#7E0100",
           "#7E0100",
           "#7E0100",
           "#7E0100",
           "#FE0000",
           "#7E0100",
           "#7E0100",
           "#7E0100",
           "#04FE00",
           "#04FE00",
           "#04FE00",
           "#04FE00",
           "#04FE00",
           "#04FE00",
           "#006401",
           "#006401",
           "#006401",
           "#006401",
           "#006401",
           "#006401",
           "#04FE00",
           "#04FE00",
           "#04FE00",
           "#04FE00",
           "#04FE00",
           "#04FE00",
           "#04FE00",
           "#006401",
           "#006401",
           "#006401",
           "#006401",
           "#006401",
           "#006401",
           "#006401",
           "#006401",
           "#006401",
           "#006401",
           "#006401",
           "#FE0000",
           "#FE0000",
           "#FE0000",
           "#7E0100",
           "#FE0000",
           "#FE0000",
           "#7E0100",
           "#7E0100",
           "#FE0000",
           "#FE0000",
           "#FE0000",
           "#FE0000",
           "#FE0000",
           "#FE0000",
           "#FE0000",
           "#FE0000",
           "#7E0100",
           "#7E0100",
           "#7E0100",
           "#7E0100",
           "#7E0100",
           "#7E0100",
           "#7E0100",
           "#7E0100",
           "#04FE00",
           "#04FE00",
           "#04FE00",
           "#006401",
           "#04FE00",
           "#04FE00",
           "#006401",
           "#006401",
           "#04FE00",
           "#04FE00",
           "#04FE00",
           "#04FE00",
           "#04FE00",
           "#006401",
           "#006401",
           "#006401",
           "#FE0000",
           "#FE0000",
           "#FE0000",
           "#FE0000",
           "#FE0000",
           "#FE0000",
           "#7E0100",
           "#7E0100",
           "#7E0100",
           "#7E0100",
           "#7E0100",
           "#FE0000",
           "#7E0100",
           "#7E0100",
           "#7E0100",
           "#04FE00",
           "#04FE00",
           "#04FE00",
           "#04FE00",
           "#006401",
           "#006401",
           "#04FE00",
           "#04FE00",
           "#04FE00",
           "#04FE00",
           "#04FE00",
           "#04FE00",
           "#04FE00",
           "#006401",
           "#006401",
           "#006401",
           "#006401",
           "#006401",
           "#006401",
           "#FE0000",
           "#FE0000",
           "#FE0000",
           "#7E0100",
           "#7E0100",
           "#FE0000",
           "#FE0000",
           "#FE0000",
           "#7E0100",
           "#7E0100",
           "#04FE00",
           "#04FE00",
           "#04FE00",
           "#04FE00",
           "#04FE00",
           "#006401",
           "#006401",
           "#04FE00",
           "#04FE00",
           "#006401",
           "#006401",
           "#006401",
           "#006401",
           "#FE0000",
           "#7E0100",
           "#FE0000",
           "#FE0000",
           "#FE0000",
           "#FE0000",
           "#FE0000",
           "#FE0000",
           "#FE0000",
           "#FE0000",
           "#FE0000",
           "#7E0100",
           "#7E0100",
           "#7E0100",
           "#7E0100",
           "#7E0100",
           "#FE0000",
           "#FE0000",
           "#FE0000",
           "#7E0100",
           "#7E0100",
           "#7E0100",
           "#7E0100",
           "#7E0100",
           "#7E0100",
           "#7E0100",
           "#7E0100",
           "#04FE00",
           "#04FE00",
           "#04FE00",
           "#04FE00",
           "#04FE00",
           "#04FE00",
           "#04FE00",
           "#006401",
           "#006401",
           "#006401",
           "#006401",
           "#006401",
           "#006401",
           "#FE0000",
           "#FE0000",
           "#FE0000",
           "#FE0000",
           "#7E0100",
           "#7E0100",
           "#7E0100",
           "#7E0100",
           "#04FE00",
           "#04FE00",
           "#04FE00",
           "#04FE00",
           "#006401",
           "#006401",
           "#04FE00",
           "#006401",
           "#04FE00",
           "#006401",
           "#006401",
           "#006401",
           "#FE0000",
           "#FE0000",
           "#FE0000",
           "#FE0000",
           "#FE0000",
           "#7E0100",
           "#FE0000",
           "#FE0000",
           "#FE0000",
           "#7E0100",
           "#7E0100",
           "#7E0100",
           "#FE0000",
           "#FE0000",
           "#7E0100",
           "#7E0100",
           "#FE0000",
           "#FE0000",
           "#FE0000",
           "#FE0000",
           "#7E0100",
           "#7E0100",
           "#FE0000",
           "#FE0000",
           "#FE0000",
           "#FE0000",
           "#7E0100",
           "#7E0100",
           "#7E0100",
           "#04FE00",
           "#04FE00",
           "#04FE00",
           "#04FE00",
           "#04FE00",
           "#04FE00",
           "#04FE00",
           "#006401",
           "#006401",
           "#006401",
           "#006401",
           "#006401",
           "#FE0000",
           "#FE0000",
           "#7E0100",
           "#FE0000",
           "#7E0100",
           "#FE0000",
           "#7E0100",
           "#FE0000",
           "#FE0000",
           "#7E0100",
           "#7E0100",
           "#04FE00",
           "#04FE00",
           "#04FE00",
           "#006401",
           "#006401",
           "#FE0000",
           "#FE0000",
           "#FE0000",
           "#FE0000",
           "#7E0100"
          ]
         },
         "name": "Histogram (diff)",
         "showlegend": false,
         "type": "bar",
         "x": [
          "2025-10-30T09:00:00.000000000",
          "2025-10-30T09:01:00.000000000",
          "2025-10-30T09:02:00.000000000",
          "2025-10-30T09:03:00.000000000",
          "2025-10-30T09:04:00.000000000",
          "2025-10-30T09:05:00.000000000",
          "2025-10-30T09:06:00.000000000",
          "2025-10-30T09:07:00.000000000",
          "2025-10-30T09:08:00.000000000",
          "2025-10-30T09:09:00.000000000",
          "2025-10-30T09:10:00.000000000",
          "2025-10-30T09:11:00.000000000",
          "2025-10-30T09:12:00.000000000",
          "2025-10-30T09:13:00.000000000",
          "2025-10-30T09:14:00.000000000",
          "2025-10-30T09:15:00.000000000",
          "2025-10-30T09:16:00.000000000",
          "2025-10-30T09:17:00.000000000",
          "2025-10-30T09:18:00.000000000",
          "2025-10-30T09:19:00.000000000",
          "2025-10-30T09:20:00.000000000",
          "2025-10-30T09:21:00.000000000",
          "2025-10-30T09:22:00.000000000",
          "2025-10-30T09:23:00.000000000",
          "2025-10-30T09:24:00.000000000",
          "2025-10-30T09:25:00.000000000",
          "2025-10-30T09:26:00.000000000",
          "2025-10-30T09:27:00.000000000",
          "2025-10-30T09:28:00.000000000",
          "2025-10-30T09:29:00.000000000",
          "2025-10-30T09:30:00.000000000",
          "2025-10-30T09:31:00.000000000",
          "2025-10-30T09:32:00.000000000",
          "2025-10-30T09:33:00.000000000",
          "2025-10-30T09:34:00.000000000",
          "2025-10-30T09:35:00.000000000",
          "2025-10-30T09:36:00.000000000",
          "2025-10-30T09:37:00.000000000",
          "2025-10-30T09:38:00.000000000",
          "2025-10-30T09:39:00.000000000",
          "2025-10-30T09:40:00.000000000",
          "2025-10-30T09:41:00.000000000",
          "2025-10-30T09:42:00.000000000",
          "2025-10-30T09:43:00.000000000",
          "2025-10-30T09:44:00.000000000",
          "2025-10-30T09:45:00.000000000",
          "2025-10-30T09:46:00.000000000",
          "2025-10-30T09:47:00.000000000",
          "2025-10-30T09:48:00.000000000",
          "2025-10-30T09:49:00.000000000",
          "2025-10-30T09:50:00.000000000",
          "2025-10-30T09:51:00.000000000",
          "2025-10-30T09:52:00.000000000",
          "2025-10-30T09:53:00.000000000",
          "2025-10-30T09:54:00.000000000",
          "2025-10-30T09:55:00.000000000",
          "2025-10-30T09:56:00.000000000",
          "2025-10-30T09:57:00.000000000",
          "2025-10-30T09:58:00.000000000",
          "2025-10-30T09:59:00.000000000",
          "2025-10-30T10:00:00.000000000",
          "2025-10-30T10:01:00.000000000",
          "2025-10-30T10:02:00.000000000",
          "2025-10-30T10:03:00.000000000",
          "2025-10-30T10:04:00.000000000",
          "2025-10-30T10:05:00.000000000",
          "2025-10-30T10:06:00.000000000",
          "2025-10-30T10:07:00.000000000",
          "2025-10-30T10:08:00.000000000",
          "2025-10-30T10:09:00.000000000",
          "2025-10-30T10:10:00.000000000",
          "2025-10-30T10:11:00.000000000",
          "2025-10-30T10:12:00.000000000",
          "2025-10-30T10:13:00.000000000",
          "2025-10-30T10:14:00.000000000",
          "2025-10-30T10:15:00.000000000",
          "2025-10-30T10:16:00.000000000",
          "2025-10-30T10:17:00.000000000",
          "2025-10-30T10:18:00.000000000",
          "2025-10-30T10:19:00.000000000",
          "2025-10-30T10:20:00.000000000",
          "2025-10-30T10:21:00.000000000",
          "2025-10-30T10:22:00.000000000",
          "2025-10-30T10:23:00.000000000",
          "2025-10-30T10:24:00.000000000",
          "2025-10-30T10:25:00.000000000",
          "2025-10-30T10:26:00.000000000",
          "2025-10-30T10:27:00.000000000",
          "2025-10-30T10:28:00.000000000",
          "2025-10-30T10:29:00.000000000",
          "2025-10-30T10:30:00.000000000",
          "2025-10-30T10:31:00.000000000",
          "2025-10-30T10:32:00.000000000",
          "2025-10-30T10:33:00.000000000",
          "2025-10-30T10:34:00.000000000",
          "2025-10-30T10:35:00.000000000",
          "2025-10-30T10:36:00.000000000",
          "2025-10-30T10:37:00.000000000",
          "2025-10-30T10:38:00.000000000",
          "2025-10-30T10:39:00.000000000",
          "2025-10-30T10:40:00.000000000",
          "2025-10-30T10:41:00.000000000",
          "2025-10-30T10:42:00.000000000",
          "2025-10-30T10:43:00.000000000",
          "2025-10-30T10:44:00.000000000",
          "2025-10-30T10:45:00.000000000",
          "2025-10-30T10:46:00.000000000",
          "2025-10-30T10:47:00.000000000",
          "2025-10-30T10:48:00.000000000",
          "2025-10-30T10:49:00.000000000",
          "2025-10-30T10:50:00.000000000",
          "2025-10-30T10:51:00.000000000",
          "2025-10-30T10:52:00.000000000",
          "2025-10-30T10:53:00.000000000",
          "2025-10-30T10:54:00.000000000",
          "2025-10-30T10:55:00.000000000",
          "2025-10-30T10:56:00.000000000",
          "2025-10-30T10:57:00.000000000",
          "2025-10-30T10:58:00.000000000",
          "2025-10-30T10:59:00.000000000",
          "2025-10-30T11:00:00.000000000",
          "2025-10-30T11:01:00.000000000",
          "2025-10-30T11:02:00.000000000",
          "2025-10-30T11:03:00.000000000",
          "2025-10-30T11:04:00.000000000",
          "2025-10-30T11:05:00.000000000",
          "2025-10-30T11:06:00.000000000",
          "2025-10-30T11:07:00.000000000",
          "2025-10-30T11:08:00.000000000",
          "2025-10-30T11:09:00.000000000",
          "2025-10-30T11:10:00.000000000",
          "2025-10-30T11:11:00.000000000",
          "2025-10-30T11:12:00.000000000",
          "2025-10-30T11:13:00.000000000",
          "2025-10-30T11:14:00.000000000",
          "2025-10-30T11:15:00.000000000",
          "2025-10-30T11:16:00.000000000",
          "2025-10-30T11:17:00.000000000",
          "2025-10-30T11:18:00.000000000",
          "2025-10-30T11:19:00.000000000",
          "2025-10-30T11:20:00.000000000",
          "2025-10-30T11:21:00.000000000",
          "2025-10-30T11:22:00.000000000",
          "2025-10-30T11:23:00.000000000",
          "2025-10-30T11:24:00.000000000",
          "2025-10-30T11:25:00.000000000",
          "2025-10-30T11:26:00.000000000",
          "2025-10-30T11:27:00.000000000",
          "2025-10-30T11:28:00.000000000",
          "2025-10-30T11:29:00.000000000",
          "2025-10-30T11:30:00.000000000",
          "2025-10-30T11:31:00.000000000",
          "2025-10-30T11:32:00.000000000",
          "2025-10-30T11:33:00.000000000",
          "2025-10-30T11:34:00.000000000",
          "2025-10-30T11:35:00.000000000",
          "2025-10-30T11:36:00.000000000",
          "2025-10-30T11:37:00.000000000",
          "2025-10-30T11:38:00.000000000",
          "2025-10-30T11:39:00.000000000",
          "2025-10-30T11:40:00.000000000",
          "2025-10-30T11:41:00.000000000",
          "2025-10-30T11:42:00.000000000",
          "2025-10-30T11:43:00.000000000",
          "2025-10-30T11:44:00.000000000",
          "2025-10-30T11:45:00.000000000",
          "2025-10-30T11:46:00.000000000",
          "2025-10-30T11:47:00.000000000",
          "2025-10-30T11:48:00.000000000",
          "2025-10-30T11:49:00.000000000",
          "2025-10-30T11:50:00.000000000",
          "2025-10-30T11:51:00.000000000",
          "2025-10-30T11:52:00.000000000",
          "2025-10-30T11:53:00.000000000",
          "2025-10-30T11:54:00.000000000",
          "2025-10-30T11:55:00.000000000",
          "2025-10-30T11:56:00.000000000",
          "2025-10-30T11:57:00.000000000",
          "2025-10-30T11:58:00.000000000",
          "2025-10-30T11:59:00.000000000",
          "2025-10-30T12:00:00.000000000",
          "2025-10-30T12:01:00.000000000",
          "2025-10-30T12:02:00.000000000",
          "2025-10-30T12:03:00.000000000",
          "2025-10-30T12:04:00.000000000",
          "2025-10-30T12:05:00.000000000",
          "2025-10-30T12:06:00.000000000",
          "2025-10-30T12:07:00.000000000",
          "2025-10-30T12:08:00.000000000",
          "2025-10-30T12:09:00.000000000",
          "2025-10-30T12:10:00.000000000",
          "2025-10-30T12:11:00.000000000",
          "2025-10-30T12:12:00.000000000",
          "2025-10-30T12:13:00.000000000",
          "2025-10-30T12:14:00.000000000",
          "2025-10-30T12:15:00.000000000",
          "2025-10-30T12:16:00.000000000",
          "2025-10-30T12:17:00.000000000",
          "2025-10-30T12:18:00.000000000",
          "2025-10-30T12:19:00.000000000",
          "2025-10-30T12:20:00.000000000",
          "2025-10-30T12:21:00.000000000",
          "2025-10-30T12:22:00.000000000",
          "2025-10-30T12:23:00.000000000",
          "2025-10-30T12:24:00.000000000",
          "2025-10-30T12:25:00.000000000",
          "2025-10-30T12:26:00.000000000",
          "2025-10-30T12:27:00.000000000",
          "2025-10-30T12:28:00.000000000",
          "2025-10-30T12:29:00.000000000",
          "2025-10-30T12:30:00.000000000",
          "2025-10-30T12:31:00.000000000",
          "2025-10-30T12:32:00.000000000",
          "2025-10-30T12:33:00.000000000",
          "2025-10-30T12:34:00.000000000",
          "2025-10-30T12:35:00.000000000",
          "2025-10-30T12:36:00.000000000",
          "2025-10-30T12:37:00.000000000",
          "2025-10-30T12:38:00.000000000",
          "2025-10-30T12:39:00.000000000",
          "2025-10-30T12:40:00.000000000",
          "2025-10-30T12:41:00.000000000",
          "2025-10-30T12:42:00.000000000",
          "2025-10-30T12:43:00.000000000",
          "2025-10-30T12:44:00.000000000",
          "2025-10-30T12:45:00.000000000",
          "2025-10-30T12:46:00.000000000",
          "2025-10-30T12:47:00.000000000",
          "2025-10-30T12:48:00.000000000",
          "2025-10-30T12:49:00.000000000",
          "2025-10-30T12:50:00.000000000",
          "2025-10-30T12:51:00.000000000",
          "2025-10-30T12:52:00.000000000",
          "2025-10-30T12:53:00.000000000",
          "2025-10-30T12:54:00.000000000",
          "2025-10-30T12:55:00.000000000",
          "2025-10-30T12:56:00.000000000",
          "2025-10-30T12:57:00.000000000",
          "2025-10-30T12:58:00.000000000",
          "2025-10-30T12:59:00.000000000",
          "2025-10-30T13:00:00.000000000",
          "2025-10-30T13:01:00.000000000",
          "2025-10-30T13:02:00.000000000",
          "2025-10-30T13:03:00.000000000",
          "2025-10-30T13:04:00.000000000",
          "2025-10-30T13:05:00.000000000",
          "2025-10-30T13:06:00.000000000",
          "2025-10-30T13:07:00.000000000",
          "2025-10-30T13:08:00.000000000",
          "2025-10-30T13:09:00.000000000",
          "2025-10-30T13:10:00.000000000",
          "2025-10-30T13:11:00.000000000",
          "2025-10-30T13:12:00.000000000",
          "2025-10-30T13:13:00.000000000",
          "2025-10-30T13:14:00.000000000",
          "2025-10-30T13:15:00.000000000",
          "2025-10-30T13:16:00.000000000",
          "2025-10-30T13:17:00.000000000",
          "2025-10-30T13:18:00.000000000",
          "2025-10-30T13:19:00.000000000",
          "2025-10-30T13:20:00.000000000",
          "2025-10-30T13:21:00.000000000",
          "2025-10-30T13:22:00.000000000",
          "2025-10-30T13:23:00.000000000",
          "2025-10-30T13:24:00.000000000",
          "2025-10-30T13:25:00.000000000",
          "2025-10-30T13:26:00.000000000",
          "2025-10-30T13:27:00.000000000",
          "2025-10-30T13:28:00.000000000",
          "2025-10-30T13:29:00.000000000",
          "2025-10-30T13:30:00.000000000",
          "2025-10-30T13:31:00.000000000",
          "2025-10-30T13:32:00.000000000",
          "2025-10-30T13:33:00.000000000",
          "2025-10-30T13:34:00.000000000",
          "2025-10-30T13:35:00.000000000",
          "2025-10-30T13:36:00.000000000",
          "2025-10-30T13:37:00.000000000",
          "2025-10-30T13:38:00.000000000",
          "2025-10-30T13:39:00.000000000",
          "2025-10-30T13:40:00.000000000",
          "2025-10-30T13:41:00.000000000",
          "2025-10-30T13:42:00.000000000",
          "2025-10-30T13:43:00.000000000",
          "2025-10-30T13:44:00.000000000",
          "2025-10-30T13:45:00.000000000",
          "2025-10-30T13:46:00.000000000",
          "2025-10-30T13:47:00.000000000",
          "2025-10-30T13:48:00.000000000",
          "2025-10-30T13:49:00.000000000",
          "2025-10-30T13:50:00.000000000",
          "2025-10-30T13:51:00.000000000",
          "2025-10-30T13:52:00.000000000",
          "2025-10-30T13:53:00.000000000",
          "2025-10-30T13:54:00.000000000",
          "2025-10-30T13:55:00.000000000",
          "2025-10-30T13:56:00.000000000",
          "2025-10-30T13:57:00.000000000",
          "2025-10-30T13:58:00.000000000",
          "2025-10-30T13:59:00.000000000",
          "2025-10-30T14:00:00.000000000",
          "2025-10-30T14:01:00.000000000",
          "2025-10-30T14:02:00.000000000",
          "2025-10-30T14:03:00.000000000",
          "2025-10-30T14:04:00.000000000",
          "2025-10-30T14:05:00.000000000",
          "2025-10-30T14:06:00.000000000",
          "2025-10-30T14:07:00.000000000",
          "2025-10-30T14:08:00.000000000",
          "2025-10-30T14:09:00.000000000",
          "2025-10-30T14:10:00.000000000",
          "2025-10-30T14:11:00.000000000",
          "2025-10-30T14:12:00.000000000",
          "2025-10-30T14:13:00.000000000",
          "2025-10-30T14:14:00.000000000",
          "2025-10-30T14:15:00.000000000",
          "2025-10-30T14:16:00.000000000",
          "2025-10-30T14:17:00.000000000",
          "2025-10-30T14:18:00.000000000",
          "2025-10-30T14:19:00.000000000",
          "2025-10-30T14:20:00.000000000",
          "2025-10-30T14:21:00.000000000",
          "2025-10-30T14:22:00.000000000",
          "2025-10-30T14:23:00.000000000",
          "2025-10-30T14:24:00.000000000",
          "2025-10-30T14:25:00.000000000",
          "2025-10-30T14:26:00.000000000",
          "2025-10-30T14:27:00.000000000",
          "2025-10-30T14:28:00.000000000",
          "2025-10-30T14:29:00.000000000",
          "2025-10-30T14:30:00.000000000",
          "2025-10-30T14:31:00.000000000",
          "2025-10-30T14:32:00.000000000",
          "2025-10-30T14:33:00.000000000",
          "2025-10-30T14:34:00.000000000",
          "2025-10-30T14:35:00.000000000",
          "2025-10-30T14:36:00.000000000",
          "2025-10-30T14:37:00.000000000",
          "2025-10-30T14:38:00.000000000",
          "2025-10-30T14:39:00.000000000",
          "2025-10-30T14:40:00.000000000",
          "2025-10-30T14:41:00.000000000",
          "2025-10-30T14:42:00.000000000",
          "2025-10-30T14:43:00.000000000",
          "2025-10-30T14:44:00.000000000",
          "2025-10-30T14:45:00.000000000",
          "2025-10-30T14:46:00.000000000",
          "2025-10-30T14:47:00.000000000",
          "2025-10-30T14:48:00.000000000",
          "2025-10-30T14:49:00.000000000",
          "2025-10-30T14:50:00.000000000",
          "2025-10-30T14:51:00.000000000",
          "2025-10-30T14:52:00.000000000",
          "2025-10-30T14:53:00.000000000",
          "2025-10-30T14:54:00.000000000",
          "2025-10-30T14:55:00.000000000",
          "2025-10-30T14:56:00.000000000",
          "2025-10-30T14:57:00.000000000",
          "2025-10-30T14:58:00.000000000",
          "2025-10-30T14:59:00.000000000",
          "2025-10-30T15:00:00.000000000",
          "2025-10-30T15:01:00.000000000",
          "2025-10-30T15:02:00.000000000",
          "2025-10-30T15:03:00.000000000",
          "2025-10-30T15:04:00.000000000",
          "2025-10-30T15:05:00.000000000",
          "2025-10-30T15:06:00.000000000",
          "2025-10-30T15:07:00.000000000",
          "2025-10-30T15:08:00.000000000",
          "2025-10-30T15:09:00.000000000",
          "2025-10-30T15:10:00.000000000",
          "2025-10-30T15:11:00.000000000",
          "2025-10-30T15:12:00.000000000",
          "2025-10-30T15:13:00.000000000",
          "2025-10-30T15:14:00.000000000",
          "2025-10-30T15:15:00.000000000",
          "2025-10-30T15:16:00.000000000",
          "2025-10-30T15:17:00.000000000",
          "2025-10-30T15:18:00.000000000",
          "2025-10-30T15:19:00.000000000",
          "2025-10-30T15:20:00.000000000",
          "2025-10-30T15:21:00.000000000",
          "2025-10-30T15:22:00.000000000",
          "2025-10-30T15:23:00.000000000",
          "2025-10-30T15:24:00.000000000",
          "2025-10-30T15:25:00.000000000",
          "2025-10-30T15:26:00.000000000",
          "2025-10-30T15:27:00.000000000",
          "2025-10-30T15:28:00.000000000",
          "2025-10-30T15:29:00.000000000",
          "2025-10-30T15:30:00.000000000",
          "2025-10-30T15:31:00.000000000",
          "2025-10-30T15:32:00.000000000",
          "2025-10-30T15:33:00.000000000",
          "2025-10-30T15:34:00.000000000",
          "2025-10-30T15:35:00.000000000",
          "2025-10-30T15:36:00.000000000",
          "2025-10-30T15:37:00.000000000",
          "2025-10-30T15:38:00.000000000",
          "2025-10-30T15:39:00.000000000",
          "2025-10-30T15:40:00.000000000",
          "2025-10-30T15:41:00.000000000",
          "2025-10-30T15:42:00.000000000",
          "2025-10-30T15:43:00.000000000",
          "2025-10-30T15:44:00.000000000",
          "2025-10-30T15:45:00.000000000",
          "2025-10-30T15:46:00.000000000",
          "2025-10-30T15:47:00.000000000",
          "2025-10-30T15:48:00.000000000",
          "2025-10-30T15:49:00.000000000",
          "2025-10-30T15:50:00.000000000",
          "2025-10-30T15:51:00.000000000",
          "2025-10-30T15:52:00.000000000",
          "2025-10-30T15:53:00.000000000",
          "2025-10-30T15:54:00.000000000",
          "2025-10-30T15:55:00.000000000",
          "2025-10-30T15:56:00.000000000",
          "2025-10-30T15:57:00.000000000",
          "2025-10-30T15:58:00.000000000",
          "2025-10-30T15:59:00.000000000"
         ],
         "xaxis": "x2",
         "y": {
          "bdata": "AAAAAAAAAAAAAAAAAAAAAAAAAAAAAAAAAAAAAAAAAAAAAAAAAAAAAAAAAAAAAAAAAAAAAAAAAAAAAAAAAAAAAAAAAAAAAAAAAAAAAAAAAAAAAAAAAAAAAAAAAAAAAAAAAAAAAAAAAAAAAAAAAAAAAAAAAAAAAAAAAAAAAAAAAAAAAAAAAAAAAAAAAAAAAAAAAAAAAAAAAAAAAAAAAAAAAAAAAAAAAAAAAAAAAAAAAAAAAAAAAAAAAAAAAAAAAAAAAAAAAAAAAAAAAAAAAAAAAAAAAAAAAAAAAAAAAAAAAAAAAAAAAAAAAAAAAAAAAAAAmhnvb7DrAsBIQejae2QNwLaT3iwLixHAK7Y9JopaEsDvxIOevssRwPKjKxJasBHAKKOmSX6WEsAgrPBDZisSwIB2ExSCuxDAMJehea8YDMDw+ALRtYYHwIxtbhLNmQLAEDyb1DQe9L/AWf1b+/3XvwCFXC3zidU/aOehVDZA8T9Q7AuWOUX/P7jxubNlKgVAMI51BvKNC0AomCc2RSwOQHdmC0IQghFALLVdzjxuEkDwEIuBAPwSQPPDh5SzqRJAKaO8sUosEkDu6OYUphwQQEouA+DjKQxAbotGGGq5B0C+wruueLcEQJioDYEczABAE9rKt1gzAEC4qf/NEEn8P8aHhaQMHPM/PFnInQwE5T8AdhRfeNSkPzBy5iJVqNI/EB0JYkWOxD+A0YeLNg+wv1CQg6FJVtW/vLn9ArHC5L+YlLT8iHruv+L24nB87ey/weJ66Oag8b80Qmafzx/xv+5pmlLGWOe/i6Gz2qok67+i50on6Frvvw6DbX628/K/fB6OsPkr7r/+GBPeTzTwv2U6OhCx8/G/CPf/AuGL6r/S+Ky+mZbgv3Qtx3LkkOi/KPHCgCz56b/swBl+vMPqvyLnba0N9uS/HGw8cbVI4L/EeY7RT8zavzQue3Eg2d+/0JNsJws7t7/YSL65Ia/WP7y2IZU4s+A//t775vg64T/MmD0i14fnP6RgbPXwkes/UE3+O4D67D+6K+v54UzwP8SSMOV+bO8/0NuK3eXc7D8gy4CH1S7xP4BiX/5h4/I/mtuOf2vB9T/hohBqDqz5P4D1CvU6pPc/zOos05EB8D/gqlCs6/DmP2QRIsMsp9M/YMgDTNJds7/4HIuPsTbGvwByMRZSQdS/NEfd8lCd6b+vz7lAExXxv8C/zTZuk/a/mowksPyh9r8USjEC+ID0v92UOhjw0/W/lFRrh0fK77+qwxHh2pbnv0Js9KES39m/ANDLTl5imr+Y0ZyOx+jKP7h2zS6Gz+E/xitPgPV15z9sCZglS0HrPyKh8jcemuk/HLRP09HY4T/47M/7aCHYP8bws7dPZds/gpNz6v8f4j+bj9k38VDoPxSm/oqCIOk/ROutnlPV5j/QVVXINYXkP0Decz9VzeQ/AMopeQRI1z/4D6xk0NDIP5DZKi7mt8I/4CiigKEYvD9Aum2arZ+1P0gXrZ/nR8U/MKxxQeGLxD8A0epslIZzP9C6f9o5g8C/eJXmo1Qdxr9k1a2TGzTSv8Q7M6CpuuG/OBZGaiHs4b+U3pLquUXjv0RlV6CrmeW/nWoTb5zm6L+yuyXIqVDrvygW32/JMO+/Qy8FKpFn8b82zOnM0+fwv1ZgRmvy9O6/VvN5JH8n8b93z+YHNhvzv5J/0keK1PS/dExfZvk99b9csIaGAiT3v+JZD+xzPPi/Tm4urIa+9b+kvimXfTLxvwgx2ncDnei/0MCGAq8v4b9QAa54qOjdv1DNHdZJAOG/SBUhAUt11L+guzX7hlrLv8DxK8Efm6y/YJ9Rn3qYsz+QDB+s6SnGP3BrvBRjutU/wCKl3RXJ3T9Q9Luagg3oP9ipQ9iMZu4/fCGG/QUs7T+Y5+SPfO3nP0g5WU4Nc+I/QPXIZaDL3j84xA1QAPHZP2ADfX1bdNc/9BoGvDT24D/EyMX1QmrtP+npugChhPM/u1T0gSPR9T+WEBI4Xxb5P9/mf71+ovo/5WvkgQD2+z+EiRqIYiX6PwNuDuAsHfk/aD66oi7Y9z8gZTnNS4X3P0x3LTuLHvY/cJ8IfQ098z/AstP6AY/wP8zqMQVYNug/sHc60BD/3j/wkpxlfm3RP+C3i01Mk8E/QEB5YEFytL/YDL2XKHbQv3g9qlaf+Ny/yMrEHPrM17+gCP8Dom7cv7jTgmITfNy/AENFVnVf1r8wz6OUpmzQv/jYM1jLktS//AlcdMER47/+B+JjTynqv5o5Wc9Ieeu/1+PHb42h8L8TAxTzlwP1v6k17rvMj/i/7qpDosjX+b/xuxdHGzP5v1qWdyVGrPa/eyvHs8ET87/8lanE4cDwv2BWC8YWo+e/5hG8XUUQ4b/UT1C/PEbZvwCZYlh2prC/CPas2bYZzT84L2bOf8PbP2C/VxfdxNw/HJmEMDhF1z8WFA2+oqHYP0ZDnhU6U9o/1DVDBs6k0j9w3xfv3nG+P/zy9R/17sE/zCj1dWA/xz+GQ+nuLqvTP5/PLR0LR98/cznEqkoI4D+F9RhRmf/dP9EqTkW6U9s/gUQa9z1XwT9Uxi+SMTaNv7eWnfu9+M+/STyZ7su62r+2sUX4SUDgv15B0dToUOu/WU3uYoU08b+tymH4WjDwv66qYErDo+y/vDviIj3X57+WfNIa5m7lvxJKyTyzeuS/dG4Jes8s5b+IfQ57HILfvzgxP0eDLNW/UOiNv19sxb8AL8FwZfGEP/DbHrHbxsk/MIvjKiNs1j9cb9f4JKzdP4C/OHoqTdg/0DIaJrTS0z9UlHdnZmbhP96pQAK0kec/5oc6oDi97T/2j5f9sCXyP8XMkjBCRfQ/BJd5NEat9j/QuNNZVNv2P9pTZyAw2PQ/KAa+wFE27T/sBJs/zEDhP94HYjDwitg/lAwGvF3Axj8gFFSi4QKyP/j3R0ACAsy//i/SNvm12r8zExAYg2Lhv4XrtZJZl96/OIkXsC0p2L9gB3x9iyjav7TSkhLSKtq/KUJZFu6/3L/uNOtOq3PWv7BUGPYTJcq/OBURMGHamT8QQZ3LH7LUP9kAuZGf3N4/VwDQXgql4z+s5mAwLdjnP1YFiG44aOE/IqLMj25r3z8O9GozYJbgPwyQg4A3KOE/eObgggPT3T9guJSnx4DUP2iNEzdlrsE/AIlzBwe/mz/oC1j8kk7EvyCjET8FisO/6Oj0xOToyr/E9nuET2fQv574e8SW8ti/5sY4K1vL27/2tbZ2eVTiv1/eM4Rqzea/f0sjwq9x7r/MN/TSr8fyvwpTUdaTHfO/ojVkwDmy8L+coqRq4obvvxaCHktP0Ou/EuhFad0S57+oubQ5gSzlv7hHklRinum/FgNT86S48L94wiyQsZ7xv8DQI7rNh+u/mEDR7l6j5r94gOvDt1Phv8AAXYHvKte/0DMkDVbh1r+wH7X1SuzIv8DLnlhC06y/APJID27zj7+Agf0nei+wP2DNZReytsM/kLisTREx1j9ALYhOuf3XPzgkKngTedw/6HQwou8h6T/ww9cWmUnuP/RPX6/ndeo/XiZQyJtP5j9+a9I1YvbhPwCszHFro9s/nImFkhlz0z8ASB3cKayUP9B4x76EQMO/HP0j0mJB2b+w/WbN65rdv3jlQ2GDCOO/iNWqwhE83L8E3q2VQc7VvwAwxrGckcy/AJiJfa13aL9AXGl/K2i2P0Tf87iNqtw/6PLPNodZ5j8gD6NXeHHmPxqMxVvHzOA/kEZAVl5r2j/cnjWFHIDcP+RLuBIWWdk/UNbzxQ5R3z8MRb/zoBnfPwoE000pf9g/iKaZ6Q8HuT/AKEJwRRarvxjdZIv1fL2/CPLJD/imzL8ClKs7vZDfvwAIEeiwVeC/aKb6np3m378oXHcBgdfgv+z8IlFxD+O/iP11rCwI5b+eF7DGUkniv5jyWs2lat2/SPW4laIS0b+gKmWD/FHRv4CISZiPLdK/IBuQip9Lvb9Ar6UTwN2xv8AlSiYlMLy/gIQaEi/UvL8waKkhkGDNv0DD6ISkrde/yDWJf9Mt0L+AEo9yiSWzv8BtiIGuKsS/JEmChEUp4r+07Y2+gQzuv8BXs0wuXe6/zN/0TxvP5r/gMl0YWVrYvyAJB/AVJ7q/MMlIunQmyD+AUAF/AZLZP5yGCBCQz+A/GNKnBFtg6z8YKI5OiiHtP9jcTuntXvE/4CO/nb/r8j9ouYPcjlHvP7p64aSDgeY/MGJYIIoZ4D+EA6WCeRXXP0CfCa34RMQ/MAFfJtUvtb84AIc1lifSv7hm+C7NGs2/SFzz86KT07+cFsHsVaHQv+Deqps6d9W/5EtPha7e1L/obyype07Xv8AsBOBMH+K/mEcPeUOt17/w2H4X0zvLvwDYQlHa0Vc/kARcbkQryj9wm0qgFjfQP/ArEikcLc4/wKzWOGf4uj9gD1G0EQa1v5BsKDePiMq/aCuea3lk178giXwZSfjbvxjUP4pyHNq/",
          "dtype": "f8"
         },
         "yaxis": "y2"
        }
       ],
       "layout": {
        "annotations": [
         {
          "bgcolor": "rgba(25,25,25,0.7)",
          "bordercolor": "#FF66FE",
          "borderpad": 4,
          "borderwidth": 1,
          "font": {
           "color": "#FF66FE",
           "family": "Arial, sans-serif",
           "size": 10.5
          },
          "showarrow": false,
          "text": "prior close",
          "x": "2025-10-30T09:00:00-04:00",
          "xanchor": "left",
          "xref": "x",
          "y": 6890.59,
          "yanchor": "bottom",
          "yref": "y"
         },
         {
          "bgcolor": "rgba(25,25,25,0.7)",
          "bordercolor": "#4CAF50",
          "borderpad": 4,
          "borderwidth": 1,
          "font": {
           "color": "#4CAF50",
           "family": "Arial, sans-serif",
           "size": 10.5
          },
          "showarrow": false,
          "text": "prior high",
          "x": "2025-10-30T09:00:00-04:00",
          "xanchor": "left",
          "xref": "x",
          "y": 6920.34,
          "yanchor": "bottom",
          "yref": "y"
         },
         {
          "bgcolor": "rgba(25,25,25,0.7)",
          "bordercolor": "#F44336",
          "borderpad": 4,
          "borderwidth": 1,
          "font": {
           "color": "#F44336",
           "family": "Arial, sans-serif",
           "size": 10.5
          },
          "showarrow": false,
          "text": "prior low",
          "x": "2025-10-30T09:00:00-04:00",
          "xanchor": "left",
          "xref": "x",
          "y": 6851.91,
          "yanchor": "bottom",
          "yref": "y"
         },
         {
          "align": "center",
          "bgcolor": "rgba(25,25,25,0.8)",
          "bordercolor": "#555555",
          "borderpad": 6,
          "borderwidth": 1,
          "font": {
           "color": "#555555",
           "family": "Arial, sans-serif",
           "size": 11
          },
          "showarrow": false,
          "text": "Open",
          "textangle": 0,
          "x": "2025-10-30T14:30:00-04:00",
          "xanchor": "center",
          "xref": "x",
          "y": 6930.305,
          "yanchor": "bottom",
          "yref": "y"
         }
        ],
        "height": 800,
        "margin": {
         "b": 10,
         "l": 30,
         "r": 5,
         "t": 50
        },
        "paper_bgcolor": "rgb(25,25,25)",
        "plot_bgcolor": "rgb(25,25,25)",
        "shapes": [
         {
          "line": {
           "color": "gray",
           "dash": "dot",
           "width": 1
          },
          "type": "line",
          "x0": "2025-10-30T09:00:00-04:00",
          "x1": "2025-10-30T16:15:00-04:00",
          "xref": "x2",
          "y0": 0,
          "y1": 0,
          "yref": "y2"
         },
         {
          "line": {
           "color": "#FF66FE",
           "dash": "dot",
           "width": 1
          },
          "opacity": 0.45,
          "type": "line",
          "x0": "2025-10-30T09:00:00-04:00",
          "x1": "2025-10-30T16:00:00-04:00",
          "xref": "x",
          "y0": 6890.59,
          "y1": 6890.59,
          "yref": "y"
         },
         {
          "line": {
           "color": "#4CAF50",
           "dash": "dot",
           "width": 1
          },
          "opacity": 0.45,
          "type": "line",
          "x0": "2025-10-30T09:00:00-04:00",
          "x1": "2025-10-30T16:00:00-04:00",
          "xref": "x",
          "y0": 6920.34,
          "y1": 6920.34,
          "yref": "y"
         },
         {
          "line": {
           "color": "#F44336",
           "dash": "dot",
           "width": 1
          },
          "opacity": 0.45,
          "type": "line",
          "x0": "2025-10-30T09:00:00-04:00",
          "x1": "2025-10-30T16:00:00-04:00",
          "xref": "x",
          "y0": 6851.91,
          "y1": 6851.91,
          "yref": "y"
         },
         {
          "line": {
           "color": "#4CAF50",
           "dash": "solid",
           "width": 1
          },
          "opacity": 0.75,
          "type": "line",
          "x0": "2025-10-30T09:30:00-04:00",
          "x1": "2025-10-30T16:00:00-04:00",
          "xref": "x",
          "y0": 6860.5,
          "y1": 6860.5,
          "yref": "y"
         },
         {
          "line": {
           "color": "#4CAF50",
           "dash": "solid",
           "width": 1
          },
          "opacity": 0.75,
          "type": "line",
          "x0": "2025-10-30T09:30:00-04:00",
          "x1": "2025-10-30T16:00:00-04:00",
          "xref": "x",
          "y0": 6850.18,
          "y1": 6850.18,
          "yref": "y"
         },
         {
          "line": {
           "color": "#4CAF50",
           "dash": "solid",
           "width": 1
          },
          "opacity": 0,
          "type": "line",
          "x0": "2025-10-30T09:45:00-04:00",
          "x1": "2025-10-30T16:00:00-04:00",
          "xref": "x",
          "y0": 6860.5,
          "y1": 6860.5,
          "yref": "y"
         },
         {
          "line": {
           "color": "#4CAF50",
           "dash": "solid",
           "width": 1
          },
          "opacity": 0.45,
          "type": "line",
          "x0": "2025-10-30T09:45:00-04:00",
          "x1": "2025-10-30T16:00:00-04:00",
          "xref": "x",
          "y0": 6834.93,
          "y1": 6834.93,
          "yref": "y"
         },
         {
          "line": {
           "color": "#4CAF50",
           "dash": "dot",
           "width": 1
          },
          "opacity": 0.45,
          "type": "line",
          "x0": "2025-10-30T10:00:00-04:00",
          "x1": "2025-10-30T16:00:00-04:00",
          "xref": "x",
          "y0": 6879.11,
          "y1": 6879.11,
          "yref": "y"
         },
         {
          "line": {
           "color": "#4CAF50",
           "dash": "dot",
           "width": 1
          },
          "opacity": 0,
          "type": "line",
          "x0": "2025-10-30T10:00:00-04:00",
          "x1": "2025-10-30T16:00:00-04:00",
          "xref": "x",
          "y0": 6834.93,
          "y1": 6834.93,
          "yref": "y"
         },
         {
          "line": {
           "color": "#4CAF50",
           "dash": "dot",
           "width": 1
          },
          "opacity": 0,
          "type": "line",
          "x0": "2025-10-30T10:00:00-04:00",
          "x1": "2025-10-30T16:00:00-04:00",
          "xref": "x",
          "y0": 6834.93,
          "y1": 6834.93,
          "yref": "y"
         },
         {
          "line": {
           "color": "#555555",
           "dash": "dot",
           "width": 1
          },
          "opacity": 0.7,
          "type": "line",
          "x0": "2025-10-30T14:30:00-04:00",
          "x1": "2025-10-30T14:30:00-04:00",
          "xref": "x",
          "y0": 6815.7074999999995,
          "y1": 6930.305,
          "yref": "y"
         },
         {
          "line": {
           "color": "#555555",
           "dash": "dot",
           "width": 1
          },
          "opacity": 0.7,
          "type": "line",
          "x0": "2025-10-30T14:30:00-04:00",
          "x1": "2025-10-30T14:30:00-04:00",
          "xref": "x2",
          "y0": -16.64188049835575,
          "y1": 5.695314816413412,
          "yref": "y2"
         }
        ],
        "showlegend": true,
        "template": {
         "data": {
          "bar": [
           {
            "error_x": {
             "color": "#f2f5fa"
            },
            "error_y": {
             "color": "#f2f5fa"
            },
            "marker": {
             "line": {
              "color": "rgb(17,17,17)",
              "width": 0.5
             },
             "pattern": {
              "fillmode": "overlay",
              "size": 10,
              "solidity": 0.2
             }
            },
            "type": "bar"
           }
          ],
          "barpolar": [
           {
            "marker": {
             "line": {
              "color": "rgb(17,17,17)",
              "width": 0.5
             },
             "pattern": {
              "fillmode": "overlay",
              "size": 10,
              "solidity": 0.2
             }
            },
            "type": "barpolar"
           }
          ],
          "carpet": [
           {
            "aaxis": {
             "endlinecolor": "#A2B1C6",
             "gridcolor": "#506784",
             "linecolor": "#506784",
             "minorgridcolor": "#506784",
             "startlinecolor": "#A2B1C6"
            },
            "baxis": {
             "endlinecolor": "#A2B1C6",
             "gridcolor": "#506784",
             "linecolor": "#506784",
             "minorgridcolor": "#506784",
             "startlinecolor": "#A2B1C6"
            },
            "type": "carpet"
           }
          ],
          "choropleth": [
           {
            "colorbar": {
             "outlinewidth": 0,
             "ticks": ""
            },
            "type": "choropleth"
           }
          ],
          "contour": [
           {
            "colorbar": {
             "outlinewidth": 0,
             "ticks": ""
            },
            "colorscale": [
             [
              0,
              "#0d0887"
             ],
             [
              0.1111111111111111,
              "#46039f"
             ],
             [
              0.2222222222222222,
              "#7201a8"
             ],
             [
              0.3333333333333333,
              "#9c179e"
             ],
             [
              0.4444444444444444,
              "#bd3786"
             ],
             [
              0.5555555555555556,
              "#d8576b"
             ],
             [
              0.6666666666666666,
              "#ed7953"
             ],
             [
              0.7777777777777778,
              "#fb9f3a"
             ],
             [
              0.8888888888888888,
              "#fdca26"
             ],
             [
              1,
              "#f0f921"
             ]
            ],
            "type": "contour"
           }
          ],
          "contourcarpet": [
           {
            "colorbar": {
             "outlinewidth": 0,
             "ticks": ""
            },
            "type": "contourcarpet"
           }
          ],
          "heatmap": [
           {
            "colorbar": {
             "outlinewidth": 0,
             "ticks": ""
            },
            "colorscale": [
             [
              0,
              "#0d0887"
             ],
             [
              0.1111111111111111,
              "#46039f"
             ],
             [
              0.2222222222222222,
              "#7201a8"
             ],
             [
              0.3333333333333333,
              "#9c179e"
             ],
             [
              0.4444444444444444,
              "#bd3786"
             ],
             [
              0.5555555555555556,
              "#d8576b"
             ],
             [
              0.6666666666666666,
              "#ed7953"
             ],
             [
              0.7777777777777778,
              "#fb9f3a"
             ],
             [
              0.8888888888888888,
              "#fdca26"
             ],
             [
              1,
              "#f0f921"
             ]
            ],
            "type": "heatmap"
           }
          ],
          "histogram": [
           {
            "marker": {
             "pattern": {
              "fillmode": "overlay",
              "size": 10,
              "solidity": 0.2
             }
            },
            "type": "histogram"
           }
          ],
          "histogram2d": [
           {
            "colorbar": {
             "outlinewidth": 0,
             "ticks": ""
            },
            "colorscale": [
             [
              0,
              "#0d0887"
             ],
             [
              0.1111111111111111,
              "#46039f"
             ],
             [
              0.2222222222222222,
              "#7201a8"
             ],
             [
              0.3333333333333333,
              "#9c179e"
             ],
             [
              0.4444444444444444,
              "#bd3786"
             ],
             [
              0.5555555555555556,
              "#d8576b"
             ],
             [
              0.6666666666666666,
              "#ed7953"
             ],
             [
              0.7777777777777778,
              "#fb9f3a"
             ],
             [
              0.8888888888888888,
              "#fdca26"
             ],
             [
              1,
              "#f0f921"
             ]
            ],
            "type": "histogram2d"
           }
          ],
          "histogram2dcontour": [
           {
            "colorbar": {
             "outlinewidth": 0,
             "ticks": ""
            },
            "colorscale": [
             [
              0,
              "#0d0887"
             ],
             [
              0.1111111111111111,
              "#46039f"
             ],
             [
              0.2222222222222222,
              "#7201a8"
             ],
             [
              0.3333333333333333,
              "#9c179e"
             ],
             [
              0.4444444444444444,
              "#bd3786"
             ],
             [
              0.5555555555555556,
              "#d8576b"
             ],
             [
              0.6666666666666666,
              "#ed7953"
             ],
             [
              0.7777777777777778,
              "#fb9f3a"
             ],
             [
              0.8888888888888888,
              "#fdca26"
             ],
             [
              1,
              "#f0f921"
             ]
            ],
            "type": "histogram2dcontour"
           }
          ],
          "mesh3d": [
           {
            "colorbar": {
             "outlinewidth": 0,
             "ticks": ""
            },
            "type": "mesh3d"
           }
          ],
          "parcoords": [
           {
            "line": {
             "colorbar": {
              "outlinewidth": 0,
              "ticks": ""
             }
            },
            "type": "parcoords"
           }
          ],
          "pie": [
           {
            "automargin": true,
            "type": "pie"
           }
          ],
          "scatter": [
           {
            "marker": {
             "line": {
              "color": "#283442"
             }
            },
            "type": "scatter"
           }
          ],
          "scatter3d": [
           {
            "line": {
             "colorbar": {
              "outlinewidth": 0,
              "ticks": ""
             }
            },
            "marker": {
             "colorbar": {
              "outlinewidth": 0,
              "ticks": ""
             }
            },
            "type": "scatter3d"
           }
          ],
          "scattercarpet": [
           {
            "marker": {
             "colorbar": {
              "outlinewidth": 0,
              "ticks": ""
             }
            },
            "type": "scattercarpet"
           }
          ],
          "scattergeo": [
           {
            "marker": {
             "colorbar": {
              "outlinewidth": 0,
              "ticks": ""
             }
            },
            "type": "scattergeo"
           }
          ],
          "scattergl": [
           {
            "marker": {
             "line": {
              "color": "#283442"
             }
            },
            "type": "scattergl"
           }
          ],
          "scattermap": [
           {
            "marker": {
             "colorbar": {
              "outlinewidth": 0,
              "ticks": ""
             }
            },
            "type": "scattermap"
           }
          ],
          "scattermapbox": [
           {
            "marker": {
             "colorbar": {
              "outlinewidth": 0,
              "ticks": ""
             }
            },
            "type": "scattermapbox"
           }
          ],
          "scatterpolar": [
           {
            "marker": {
             "colorbar": {
              "outlinewidth": 0,
              "ticks": ""
             }
            },
            "type": "scatterpolar"
           }
          ],
          "scatterpolargl": [
           {
            "marker": {
             "colorbar": {
              "outlinewidth": 0,
              "ticks": ""
             }
            },
            "type": "scatterpolargl"
           }
          ],
          "scatterternary": [
           {
            "marker": {
             "colorbar": {
              "outlinewidth": 0,
              "ticks": ""
             }
            },
            "type": "scatterternary"
           }
          ],
          "surface": [
           {
            "colorbar": {
             "outlinewidth": 0,
             "ticks": ""
            },
            "colorscale": [
             [
              0,
              "#0d0887"
             ],
             [
              0.1111111111111111,
              "#46039f"
             ],
             [
              0.2222222222222222,
              "#7201a8"
             ],
             [
              0.3333333333333333,
              "#9c179e"
             ],
             [
              0.4444444444444444,
              "#bd3786"
             ],
             [
              0.5555555555555556,
              "#d8576b"
             ],
             [
              0.6666666666666666,
              "#ed7953"
             ],
             [
              0.7777777777777778,
              "#fb9f3a"
             ],
             [
              0.8888888888888888,
              "#fdca26"
             ],
             [
              1,
              "#f0f921"
             ]
            ],
            "type": "surface"
           }
          ],
          "table": [
           {
            "cells": {
             "fill": {
              "color": "#506784"
             },
             "line": {
              "color": "rgb(17,17,17)"
             }
            },
            "header": {
             "fill": {
              "color": "#2a3f5f"
             },
             "line": {
              "color": "rgb(17,17,17)"
             }
            },
            "type": "table"
           }
          ]
         },
         "layout": {
          "annotationdefaults": {
           "arrowcolor": "#f2f5fa",
           "arrowhead": 0,
           "arrowwidth": 1
          },
          "autotypenumbers": "strict",
          "coloraxis": {
           "colorbar": {
            "outlinewidth": 0,
            "ticks": ""
           }
          },
          "colorscale": {
           "diverging": [
            [
             0,
             "#8e0152"
            ],
            [
             0.1,
             "#c51b7d"
            ],
            [
             0.2,
             "#de77ae"
            ],
            [
             0.3,
             "#f1b6da"
            ],
            [
             0.4,
             "#fde0ef"
            ],
            [
             0.5,
             "#f7f7f7"
            ],
            [
             0.6,
             "#e6f5d0"
            ],
            [
             0.7,
             "#b8e186"
            ],
            [
             0.8,
             "#7fbc41"
            ],
            [
             0.9,
             "#4d9221"
            ],
            [
             1,
             "#276419"
            ]
           ],
           "sequential": [
            [
             0,
             "#0d0887"
            ],
            [
             0.1111111111111111,
             "#46039f"
            ],
            [
             0.2222222222222222,
             "#7201a8"
            ],
            [
             0.3333333333333333,
             "#9c179e"
            ],
            [
             0.4444444444444444,
             "#bd3786"
            ],
            [
             0.5555555555555556,
             "#d8576b"
            ],
            [
             0.6666666666666666,
             "#ed7953"
            ],
            [
             0.7777777777777778,
             "#fb9f3a"
            ],
            [
             0.8888888888888888,
             "#fdca26"
            ],
            [
             1,
             "#f0f921"
            ]
           ],
           "sequentialminus": [
            [
             0,
             "#0d0887"
            ],
            [
             0.1111111111111111,
             "#46039f"
            ],
            [
             0.2222222222222222,
             "#7201a8"
            ],
            [
             0.3333333333333333,
             "#9c179e"
            ],
            [
             0.4444444444444444,
             "#bd3786"
            ],
            [
             0.5555555555555556,
             "#d8576b"
            ],
            [
             0.6666666666666666,
             "#ed7953"
            ],
            [
             0.7777777777777778,
             "#fb9f3a"
            ],
            [
             0.8888888888888888,
             "#fdca26"
            ],
            [
             1,
             "#f0f921"
            ]
           ]
          },
          "colorway": [
           "#636efa",
           "#EF553B",
           "#00cc96",
           "#ab63fa",
           "#FFA15A",
           "#19d3f3",
           "#FF6692",
           "#B6E880",
           "#FF97FF",
           "#FECB52"
          ],
          "font": {
           "color": "#f2f5fa"
          },
          "geo": {
           "bgcolor": "rgb(17,17,17)",
           "lakecolor": "rgb(17,17,17)",
           "landcolor": "rgb(17,17,17)",
           "showlakes": true,
           "showland": true,
           "subunitcolor": "#506784"
          },
          "hoverlabel": {
           "align": "left"
          },
          "hovermode": "closest",
          "mapbox": {
           "style": "dark"
          },
          "paper_bgcolor": "rgb(17,17,17)",
          "plot_bgcolor": "rgb(17,17,17)",
          "polar": {
           "angularaxis": {
            "gridcolor": "#506784",
            "linecolor": "#506784",
            "ticks": ""
           },
           "bgcolor": "rgb(17,17,17)",
           "radialaxis": {
            "gridcolor": "#506784",
            "linecolor": "#506784",
            "ticks": ""
           }
          },
          "scene": {
           "xaxis": {
            "backgroundcolor": "rgb(17,17,17)",
            "gridcolor": "#506784",
            "gridwidth": 2,
            "linecolor": "#506784",
            "showbackground": true,
            "ticks": "",
            "zerolinecolor": "#C8D4E3"
           },
           "yaxis": {
            "backgroundcolor": "rgb(17,17,17)",
            "gridcolor": "#506784",
            "gridwidth": 2,
            "linecolor": "#506784",
            "showbackground": true,
            "ticks": "",
            "zerolinecolor": "#C8D4E3"
           },
           "zaxis": {
            "backgroundcolor": "rgb(17,17,17)",
            "gridcolor": "#506784",
            "gridwidth": 2,
            "linecolor": "#506784",
            "showbackground": true,
            "ticks": "",
            "zerolinecolor": "#C8D4E3"
           }
          },
          "shapedefaults": {
           "line": {
            "color": "#f2f5fa"
           }
          },
          "sliderdefaults": {
           "bgcolor": "#C8D4E3",
           "bordercolor": "rgb(17,17,17)",
           "borderwidth": 1,
           "tickwidth": 0
          },
          "ternary": {
           "aaxis": {
            "gridcolor": "#506784",
            "linecolor": "#506784",
            "ticks": ""
           },
           "baxis": {
            "gridcolor": "#506784",
            "linecolor": "#506784",
            "ticks": ""
           },
           "bgcolor": "rgb(17,17,17)",
           "caxis": {
            "gridcolor": "#506784",
            "linecolor": "#506784",
            "ticks": ""
           }
          },
          "title": {
           "x": 0.05
          },
          "updatemenudefaults": {
           "bgcolor": "#506784",
           "borderwidth": 0
          },
          "xaxis": {
           "automargin": true,
           "gridcolor": "#283442",
           "linecolor": "#506784",
           "ticks": "",
           "title": {
            "standoff": 15
           },
           "zerolinecolor": "#283442",
           "zerolinewidth": 2
          },
          "yaxis": {
           "automargin": true,
           "gridcolor": "#283442",
           "linecolor": "#506784",
           "ticks": "",
           "title": {
            "standoff": 15
           },
           "zerolinecolor": "#283442",
           "zerolinewidth": 2
          }
         }
        },
        "xaxis": {
         "anchor": "y",
         "automargin": true,
         "domain": [
          0,
          1
         ],
         "dtick": 1800000,
         "gridcolor": "rgba(128,128,128,0.1)",
         "matches": "x2",
         "range": [
          "2025-10-30T09:00:00-04:00",
          "2025-10-30T16:15:00-04:00"
         ],
         "rangeslider": {
          "visible": false
         },
         "showticklabels": false,
         "zerolinecolor": "rgba(128,128,128,0.1)"
        },
        "xaxis2": {
         "anchor": "y2",
         "automargin": true,
         "domain": [
          0,
          1
         ],
         "dtick": 1800000,
         "gridcolor": "rgba(128,128,128,0.1)",
         "range": [
          "2025-10-30T09:00:00-04:00",
          "2025-10-30T16:15:00-04:00"
         ],
         "title": {
          "text": "Time"
         },
         "zerolinecolor": "rgba(128,128,128,0.1)"
        },
        "yaxis": {
         "anchor": "x",
         "automargin": true,
         "domain": [
          0.3533333333333333,
          0.9999999999999999
         ],
         "dtick": 10,
         "gridcolor": "rgba(128,128,128,0.1)",
         "minor": {
          "dtick": 5,
          "showgrid": false,
          "tickcolor": "rgba(150,150,150,0.5)",
          "ticklen": 2,
          "tickmode": "linear",
          "ticks": "outside",
          "tickwidth": 1
         },
         "range": [
          6815.7074999999995,
          6930.305
         ],
         "showgrid": true,
         "showticklabels": true,
         "tickfont": {
          "size": 11
         },
         "ticklabelposition": "outside",
         "ticklen": 4,
         "ticks": "outside",
         "ticksuffix": " ",
         "tickwidth": 1,
         "title": {
          "text": "Price"
         },
         "zeroline": false,
         "zerolinecolor": "rgba(128,128,128,0.1)"
        },
        "yaxis2": {
         "anchor": "x2",
         "automargin": true,
         "domain": [
          0,
          0.3233333333333333
         ],
         "gridcolor": "rgba(128,128,128,0.1)",
         "range": [
          -16.64188049835575,
          5.695314816413412
         ],
         "showgrid": true,
         "showticklabels": true,
         "side": "left",
         "tickfont": {
          "size": 11
         },
         "ticklabelposition": "outside",
         "ticklen": 4,
         "ticks": "outside",
         "ticksuffix": " ",
         "tickwidth": 1,
         "title": {
          "text": "MACD"
         },
         "zeroline": false,
         "zerolinecolor": "rgba(128,128,128,0.1)"
        }
       }
      }
     },
     "metadata": {},
     "output_type": "display_data"
    }
   ],
   "source": [
    "candles: pl.DataFrame = streamer.download(\n",
    "    symbol=candle_symbol,\n",
    "    start=start,\n",
    "    stop=stop,\n",
    "    debug_mode=True,\n",
    ")\n",
    "\n",
    "# Filter out any rows where an OHLC price is 0 (invalid for active securities)\n",
    "_initial_len = candles.height\n",
    "candles = candles.filter(\n",
    "    (pl.col(\"open\") != 0)\n",
    "    & (pl.col(\"high\") != 0)\n",
    "    & (pl.col(\"low\") != 0)\n",
    "    & (pl.col(\"close\") != 0)\n",
    ")\n",
    "_removed = _initial_len - candles.height\n",
    "print(\n",
    "    f\"Removed {_removed} zero-price rows out of {_initial_len} total ({(_removed / _initial_len * 100) if _initial_len else 0:.2f}%).\"\n",
    ")\n",
    "\n",
    "df_macd = macd(\n",
    "    candles, prior_close=prior_day.close, fast_length=12, slow_length=26, macd_length=9\n",
    ")\n",
    "\n",
    "plot_macd_with_hull(\n",
    "    df_macd,\n",
    "    pad_value=prior_day.close,\n",
    "    start_time=start,\n",
    "    end_time=stop + timedelta(minutes=15),\n",
    "    horizontal_lines=levels,\n",
    "    vertical_lines=executions,\n",
    ")"
   ]
  },
  {
   "cell_type": "code",
   "execution_count": 15,
   "metadata": {},
   "outputs": [
    {
     "name": "stdout",
     "output_type": "stream",
     "text": [
      "Removed 0 zero-price 5m rows out of 84 total (0.00%).\n"
     ]
    },
    {
     "data": {
      "application/vnd.plotly.v1+json": {
       "config": {
        "plotlyServerURL": "https://plot.ly"
       },
       "data": [
        {
         "close": {
          "bdata": "pHA9CpfqukCkcD0Kl+q6QKRwPQqX6rpApHA9CpfqukCkcD0Kl+q6QKRwPQqX6rpAZmZmZmbEukAAAAAAwLe6QM3MzMwMvrpAj8L1KFzOukBxPQrXI9y6QD0K16Pw17pA7FG4HkXSukAK16Nw/dK6QKRwPQpX1rpASOF6FC7NukBxPQrXo8q6QJqZmZlZyLpAhetRuJ7RukCPwvUo3NK6QOxRuB4F27pAPQrXo7DVukDD9ShcT826QAAAAADA0bpA9ihcj4LXukAzMzMzs9i6QArXo3B927pAFK5H4TraukC4HoXrEdq6QFyPwvUo1rpArkfhetTRukBxPQrXo8q6QOxRuB4FyrpA9ihcj8LGukB7FK5Hoci6QGZmZmZmx7pAzczMzEzPukA9Ctej8NW6QLgehetR2bpASOF6FG7XukCamZmZWdi6QAAAAACA17pA4XoUrgfOukDsUbgexc26QFyPwvVo0bpAzczMzEzRukCPwvUo3NC6QOxRuB7F0rpAZmZmZqbMukApXI/Cdcm6QMP1KFwPyLpAH4XrUbjKukApXI/C9c66QHE9Ctej0rpArkfhetTOukApXI/Cdc26QFK4HoVrzbpAcT0K1+PTukBxPQrXI9O6QOF6FK7H0bpAMzMzM3PNukBI4XoU7sm6QOxRuB5FxLpApHA9CpfDukAzMzMzM8K6QD0K16Pww7pAhetRuB7EukB7FK5HYb26QK5H4XrUvrpA16NwPYrCukDsUbgeRcO6QPYoXI/CvrpAH4XrUXi6ukBcj8L1qLq6QDMzMzPztrpA9ihcj8K2ukA9CtejcK+6QDMzMzOzsrpAMzMzM/OzukBI4XoUbq66QB+F61F4rLpAXI/C9WisukAAAAAAQKq6QEjhehRuprpA",
          "dtype": "f8"
         },
         "decreasing": {
          "fillcolor": "#EF5350",
          "line": {
           "color": "#EF5350"
          }
         },
         "high": {
          "bdata": "pHA9CpfqukCkcD0Kl+q6QKRwPQqX6rpApHA9CpfqukCkcD0Kl+q6QKRwPQqX6rpAAAAAAIDMukCkcD0KF8S6QIXrUbjewLpA9ihcj8LRukCPwvUoHN+6QK5H4XpU3bpAAAAAAMDgukD2KFyPQt26QAAAAADA1rpArkfhelTWukBcj8L1KNO6QDMzMzOzzrpAAAAAAIDTukDhehSuR9W6QB+F61G43rpAj8L1KJzcukD2KFyPgta6QD0K16Pw0rpArkfhelTYukCamZmZWdm6QHE9Ctej27pApHA9CpfbukCPwvUo3Ny6QNejcD2K2rpA16NwPQrXukAUrkfhutK6QI/C9Sgcy7pA9ihcj0LLukAK16NwPcm6QIXrUbiezbpAPQrXo7DPukDD9ShcT9a6QD0K16Pw2bpAcT0K16PZukBmZmZmZti6QOF6FK7H2bpAFK5H4brXukBxPQrXo866QJqZmZmZ0bpArkfhehTTukC4HoXr0dK6QOxRuB7F1LpAXI/C9ejSukDXo3A9ysy6QClcj8J1ybpAmpmZmRnLukCF61G4Hs+6QHE9Ctcj1LpAj8L1KJzSukBI4XoUrs66QFyPwvXozbpAKVyPwvXTukB7FK5HodS6QFK4HoUr07pAuB6F69HRukAAAAAAwM26QD0K16PwybpAAAAAAMDEukBcj8L1aMa6QPYoXI9CxbpAZmZmZubIukBSuB6Fa8S6QHE9Ctejv7pAXI/C9SjFukDhehSuR8O6QHsUrkfhw7pAuB6F65G+ukCkcD0KV7u6QGZmZmamurpAhetRuN63ukCamZmZmba6QK5H4XrUs7pA9ihcj4K5ukD2KFyPArS6QI/C9SicsLpAPQrXo/CtukB7FK5HYbG6QGZmZmZmqrpA",
          "dtype": "f8"
         },
         "increasing": {
          "fillcolor": "rgba(19, 19, 19, 0.1)",
          "line": {
           "color": "#4CAF50"
          }
         },
         "line": {
          "width": 0.75
         },
         "low": {
          "bdata": "pHA9CpfqukCkcD0Kl+q6QKRwPQqX6rpApHA9CpfqukCkcD0Kl+q6QKRwPQqX6rpASOF6FC7CukBI4XoU7rK6QArXo3C9tLpAFK5H4Tq8ukCF61G4Hs66QClcj8K11bpA9ihcj0LRukAzMzMzs9G6QD0K16MwzbpApHA9ChfLukD2KFyPQse6QDMzMzNzx7pAXI/C9ejHukB7FK5Hoc26QK5H4XrU0rpAmpmZmdnSukDD9ShcT8q6QKRwPQqXyrpAmpmZmZnRukBI4XoULtO6QHsUrkfh17pApHA9CpfWukCPwvUoHNm6QOxRuB5F1bpAH4XrUTjQukBxPQrXI8q6QOxRuB5FxbpAexSuR2HEukAAAAAAQMa6QGZmZmZmx7pA16NwPcrGukCPwvUoHM66QMP1KFzP1LpAw/UoXI/WukCamZmZWdO6QBSuR+G61bpA4XoUrgfOukBSuB6FK8u6QGZmZmbmy7pAexSuR+HPukAzMzMz8826QOxRuB6F0LpAcT0K1yPMukDsUbgeBca6QNejcD1KxbpAw/UoXI/HukC4HoXrkce6QArXo3D9zrpAUrgehWvNukAK16Nwvcq6QFK4HoWryrpAKVyPwnXNukDsUbgeBdC6QM3MzMzMz7pAMzMzM3PNukCPwvUoXMa6QD0K16Oww7pA16NwPQrAukA9Ctej8MC6QLgehesRwbpA16NwPcrDukAK16NwPb26QJqZmZkZvLpAmpmZmVm+ukAK16NwPb+6QJqZmZnZvLpA16NwPUq5ukCPwvUonLa6QDMzMzPztrpAhetRuN6xukDsUbgeham6QClcj8J1r7pApHA9CpeyukBSuB6FK666QLgehesRrLpAFK5H4fqnukC4HoXrUam6QD0K16OwpLpA",
          "dtype": "f8"
         },
         "name": "Price",
         "open": {
          "bdata": "pHA9CpfqukCkcD0Kl+q6QKRwPQqX6rpApHA9CpfqukCkcD0Kl+q6QKRwPQqX6rpAAAAAAIDMukBI4XoU7sO6QArXo3A9uLpAAAAAAMC9ukDD9ShcT866QK5H4XoU3LpAcT0K1+PXukDNzMzMDNK6QDMzMzPz0rpAzczMzAzWukBxPQrXI826QJqZmZmZyrpAexSuR2HIukBcj8L1qNG6QK5H4XrU0rpAcT0K1+PaukDD9Shcj9W6QOxRuB5FzbpAmpmZmZnRukDNzMzMjNe6QJqZmZmZ2LpAj8L1KFzbukApXI/CNdq6QClcj8I12rpA4XoUrkfWukCuR+F61NG6QArXo3C9yrpAAAAAAADKukApXI/Ctca6QIXrUbieyLpAXI/C9ajHukC4HoXrUc+6QEjhehTu1bpAmpmZmVnZukAfhetReNe6QHsUrkdh2LpAKVyPwrXXukAzMzMz8826QMP1KFzPzbpApHA9ClfRukDNzMzMjNG6QLgehevR0LpAXI/C9ejSukDXo3A9ysy6QJqZmZlZybpAw/UoXA/IukCF61G4nsq6QArXo3D9zrpAj8L1KJzSukBI4XoUrs66QEjhehRuzbpAKVyPwnXNukBSuB6F69O6QFK4HoUr07pA16NwPcrRukBI4XoUbs26QD0K16PwybpAcT0K1yPEukDD9Shcj8O6QHsUrkdhwrpA7FG4HgXEukBmZmZmJsS6QB+F61G4vbpAhetRuN6+ukAfhetReMK6QM3MzMxMw7pAcT0K12O+ukDNzMzMTLq6QGZmZmamurpA16NwPQq3ukCamZmZmba6QClcj8J1r7pAMzMzM7OyukD2KFyPArS6QB+F61F4rrpAKVyPwnWsukDXo3A9Sqy6QHE9CtfjqbpA",
          "dtype": "f8"
         },
         "showlegend": false,
         "type": "candlestick",
         "x": [
          "2025-10-30T09:00:00.000000000",
          "2025-10-30T09:05:00.000000000",
          "2025-10-30T09:10:00.000000000",
          "2025-10-30T09:15:00.000000000",
          "2025-10-30T09:20:00.000000000",
          "2025-10-30T09:25:00.000000000",
          "2025-10-30T09:30:00.000000000",
          "2025-10-30T09:35:00.000000000",
          "2025-10-30T09:40:00.000000000",
          "2025-10-30T09:45:00.000000000",
          "2025-10-30T09:50:00.000000000",
          "2025-10-30T09:55:00.000000000",
          "2025-10-30T10:00:00.000000000",
          "2025-10-30T10:05:00.000000000",
          "2025-10-30T10:10:00.000000000",
          "2025-10-30T10:15:00.000000000",
          "2025-10-30T10:20:00.000000000",
          "2025-10-30T10:25:00.000000000",
          "2025-10-30T10:30:00.000000000",
          "2025-10-30T10:35:00.000000000",
          "2025-10-30T10:40:00.000000000",
          "2025-10-30T10:45:00.000000000",
          "2025-10-30T10:50:00.000000000",
          "2025-10-30T10:55:00.000000000",
          "2025-10-30T11:00:00.000000000",
          "2025-10-30T11:05:00.000000000",
          "2025-10-30T11:10:00.000000000",
          "2025-10-30T11:15:00.000000000",
          "2025-10-30T11:20:00.000000000",
          "2025-10-30T11:25:00.000000000",
          "2025-10-30T11:30:00.000000000",
          "2025-10-30T11:35:00.000000000",
          "2025-10-30T11:40:00.000000000",
          "2025-10-30T11:45:00.000000000",
          "2025-10-30T11:50:00.000000000",
          "2025-10-30T11:55:00.000000000",
          "2025-10-30T12:00:00.000000000",
          "2025-10-30T12:05:00.000000000",
          "2025-10-30T12:10:00.000000000",
          "2025-10-30T12:15:00.000000000",
          "2025-10-30T12:20:00.000000000",
          "2025-10-30T12:25:00.000000000",
          "2025-10-30T12:30:00.000000000",
          "2025-10-30T12:35:00.000000000",
          "2025-10-30T12:40:00.000000000",
          "2025-10-30T12:45:00.000000000",
          "2025-10-30T12:50:00.000000000",
          "2025-10-30T12:55:00.000000000",
          "2025-10-30T13:00:00.000000000",
          "2025-10-30T13:05:00.000000000",
          "2025-10-30T13:10:00.000000000",
          "2025-10-30T13:15:00.000000000",
          "2025-10-30T13:20:00.000000000",
          "2025-10-30T13:25:00.000000000",
          "2025-10-30T13:30:00.000000000",
          "2025-10-30T13:35:00.000000000",
          "2025-10-30T13:40:00.000000000",
          "2025-10-30T13:45:00.000000000",
          "2025-10-30T13:50:00.000000000",
          "2025-10-30T13:55:00.000000000",
          "2025-10-30T14:00:00.000000000",
          "2025-10-30T14:05:00.000000000",
          "2025-10-30T14:10:00.000000000",
          "2025-10-30T14:15:00.000000000",
          "2025-10-30T14:20:00.000000000",
          "2025-10-30T14:25:00.000000000",
          "2025-10-30T14:30:00.000000000",
          "2025-10-30T14:35:00.000000000",
          "2025-10-30T14:40:00.000000000",
          "2025-10-30T14:45:00.000000000",
          "2025-10-30T14:50:00.000000000",
          "2025-10-30T14:55:00.000000000",
          "2025-10-30T15:00:00.000000000",
          "2025-10-30T15:05:00.000000000",
          "2025-10-30T15:10:00.000000000",
          "2025-10-30T15:15:00.000000000",
          "2025-10-30T15:20:00.000000000",
          "2025-10-30T15:25:00.000000000",
          "2025-10-30T15:30:00.000000000",
          "2025-10-30T15:35:00.000000000",
          "2025-10-30T15:40:00.000000000",
          "2025-10-30T15:45:00.000000000",
          "2025-10-30T15:50:00.000000000",
          "2025-10-30T15:55:00.000000000"
         ],
         "xaxis": "x",
         "yaxis": "y"
        },
        {
         "line": {
          "color": "#FF66FE",
          "width": 0.6
         },
         "mode": "lines",
         "name": "HMA",
         "showlegend": false,
         "type": "scatter",
         "x": [
          "2025-10-30T09:00:00-04:00",
          "2025-10-30T09:05:00-04:00"
         ],
         "xaxis": "x",
         "y": {
          "bdata": "o3A9CpfqukCicD0Kl+q6QA==",
          "dtype": "f8"
         },
         "yaxis": "y"
        },
        {
         "line": {
          "color": "#FF66FE",
          "width": 0.6
         },
         "mode": "lines",
         "name": "HMA",
         "showlegend": false,
         "type": "scatter",
         "x": [
          "2025-10-30T09:05:00-04:00",
          "2025-10-30T09:10:00-04:00"
         ],
         "xaxis": "x",
         "y": {
          "bdata": "onA9CpfqukCicD0Kl+q6QA==",
          "dtype": "f8"
         },
         "yaxis": "y"
        },
        {
         "line": {
          "color": "#FF66FE",
          "width": 0.6
         },
         "mode": "lines",
         "name": "HMA",
         "showlegend": false,
         "type": "scatter",
         "x": [
          "2025-10-30T09:10:00-04:00",
          "2025-10-30T09:15:00-04:00"
         ],
         "xaxis": "x",
         "y": {
          "bdata": "onA9CpfqukCicD0Kl+q6QA==",
          "dtype": "f8"
         },
         "yaxis": "y"
        },
        {
         "line": {
          "color": "#FF66FE",
          "width": 0.6
         },
         "mode": "lines",
         "name": "HMA",
         "showlegend": false,
         "type": "scatter",
         "x": [
          "2025-10-30T09:15:00-04:00",
          "2025-10-30T09:20:00-04:00"
         ],
         "xaxis": "x",
         "y": {
          "bdata": "onA9CpfqukCicD0Kl+q6QA==",
          "dtype": "f8"
         },
         "yaxis": "y"
        },
        {
         "line": {
          "color": "#FF66FE",
          "width": 0.6
         },
         "mode": "lines",
         "name": "HMA",
         "showlegend": false,
         "type": "scatter",
         "x": [
          "2025-10-30T09:20:00-04:00",
          "2025-10-30T09:25:00-04:00"
         ],
         "xaxis": "x",
         "y": {
          "bdata": "onA9CpfqukCicD0Kl+q6QA==",
          "dtype": "f8"
         },
         "yaxis": "y"
        },
        {
         "line": {
          "color": "#FF66FE",
          "width": 0.6
         },
         "mode": "lines",
         "name": "HMA",
         "showlegend": false,
         "type": "scatter",
         "x": [
          "2025-10-30T09:25:00-04:00",
          "2025-10-30T09:30:00-04:00"
         ],
         "xaxis": "x",
         "y": {
          "bdata": "onA9CpfqukDaSzxtfea6QA==",
          "dtype": "f8"
         },
         "yaxis": "y"
        },
        {
         "line": {
          "color": "#FF66FE",
          "width": 0.6
         },
         "mode": "lines",
         "name": "HMA",
         "showlegend": false,
         "type": "scatter",
         "x": [
          "2025-10-30T09:30:00-04:00",
          "2025-10-30T09:35:00-04:00"
         ],
         "xaxis": "x",
         "y": {
          "bdata": "2ks8bX3mukBVermDcN66QA==",
          "dtype": "f8"
         },
         "yaxis": "y"
        },
        {
         "line": {
          "color": "#FF66FE",
          "width": 0.6
         },
         "mode": "lines",
         "name": "HMA",
         "showlegend": false,
         "type": "scatter",
         "x": [
          "2025-10-30T09:35:00-04:00",
          "2025-10-30T09:40:00-04:00"
         ],
         "xaxis": "x",
         "y": {
          "bdata": "VXq5g3DeukAgXrVlANW6QA==",
          "dtype": "f8"
         },
         "yaxis": "y"
        },
        {
         "line": {
          "color": "#FF66FE",
          "width": 0.6
         },
         "mode": "lines",
         "name": "HMA",
         "showlegend": false,
         "type": "scatter",
         "x": [
          "2025-10-30T09:40:00-04:00",
          "2025-10-30T09:45:00-04:00"
         ],
         "xaxis": "x",
         "y": {
          "bdata": "IF61ZQDVukAtsrp6Z826QA==",
          "dtype": "f8"
         },
         "yaxis": "y"
        },
        {
         "line": {
          "color": "#FF66FE",
          "width": 0.6
         },
         "mode": "lines",
         "name": "HMA",
         "showlegend": false,
         "type": "scatter",
         "x": [
          "2025-10-30T09:45:00-04:00",
          "2025-10-30T09:50:00-04:00"
         ],
         "xaxis": "x",
         "y": {
          "bdata": "LbK6emfNukBmq5/A0cm6QA==",
          "dtype": "f8"
         },
         "yaxis": "y"
        },
        {
         "line": {
          "color": "#FF66FE",
          "width": 0.6
         },
         "mode": "lines",
         "name": "HMA",
         "showlegend": false,
         "type": "scatter",
         "x": [
          "2025-10-30T09:50:00-04:00",
          "2025-10-30T09:55:00-04:00"
         ],
         "xaxis": "x",
         "y": {
          "bdata": "ZqufwNHJukBVTp6H1Mi6QA==",
          "dtype": "f8"
         },
         "yaxis": "y"
        },
        {
         "line": {
          "color": "#FF66FE",
          "width": 0.6
         },
         "mode": "lines",
         "name": "HMA",
         "showlegend": false,
         "type": "scatter",
         "x": [
          "2025-10-30T09:55:00-04:00",
          "2025-10-30T10:00:00-04:00"
         ],
         "xaxis": "x",
         "y": {
          "bdata": "VU6eh9TIukA67t51w8i6QA==",
          "dtype": "f8"
         },
         "yaxis": "y"
        },
        {
         "line": {
          "color": "#01FFFF",
          "width": 0.6
         },
         "mode": "lines",
         "name": "HMA",
         "showlegend": false,
         "type": "scatter",
         "x": [
          "2025-10-30T10:00:00-04:00",
          "2025-10-30T10:05:00-04:00"
         ],
         "xaxis": "x",
         "y": {
          "bdata": "Ou7edcPIukD4OLlzIMm6QA==",
          "dtype": "f8"
         },
         "yaxis": "y"
        },
        {
         "line": {
          "color": "#01FFFF",
          "width": 0.6
         },
         "mode": "lines",
         "name": "HMA",
         "showlegend": false,
         "type": "scatter",
         "x": [
          "2025-10-30T10:05:00-04:00",
          "2025-10-30T10:10:00-04:00"
         ],
         "xaxis": "x",
         "y": {
          "bdata": "+Di5cyDJukBVVY7XLsq6QA==",
          "dtype": "f8"
         },
         "yaxis": "y"
        },
        {
         "line": {
          "color": "#01FFFF",
          "width": 0.6
         },
         "mode": "lines",
         "name": "HMA",
         "showlegend": false,
         "type": "scatter",
         "x": [
          "2025-10-30T10:10:00-04:00",
          "2025-10-30T10:15:00-04:00"
         ],
         "xaxis": "x",
         "y": {
          "bdata": "VVWO1y7KukBWwXC2Gsu6QA==",
          "dtype": "f8"
         },
         "yaxis": "y"
        },
        {
         "line": {
          "color": "#01FFFF",
          "width": 0.6
         },
         "mode": "lines",
         "name": "HMA",
         "showlegend": false,
         "type": "scatter",
         "x": [
          "2025-10-30T10:15:00-04:00",
          "2025-10-30T10:20:00-04:00"
         ],
         "xaxis": "x",
         "y": {
          "bdata": "VsFwthrLukBjxL0eAcy6QA==",
          "dtype": "f8"
         },
         "yaxis": "y"
        },
        {
         "line": {
          "color": "#01FFFF",
          "width": 0.6
         },
         "mode": "lines",
         "name": "HMA",
         "showlegend": false,
         "type": "scatter",
         "x": [
          "2025-10-30T10:20:00-04:00",
          "2025-10-30T10:25:00-04:00"
         ],
         "xaxis": "x",
         "y": {
          "bdata": "Y8S9HgHMukClgUrLYcy6QA==",
          "dtype": "f8"
         },
         "yaxis": "y"
        },
        {
         "line": {
          "color": "#01FFFF",
          "width": 0.6
         },
         "mode": "lines",
         "name": "HMA",
         "showlegend": false,
         "type": "scatter",
         "x": [
          "2025-10-30T10:25:00-04:00",
          "2025-10-30T10:30:00-04:00"
         ],
         "xaxis": "x",
         "y": {
          "bdata": "pYFKy2HMukADediLBM26QA==",
          "dtype": "f8"
         },
         "yaxis": "y"
        },
        {
         "line": {
          "color": "#01FFFF",
          "width": 0.6
         },
         "mode": "lines",
         "name": "HMA",
         "showlegend": false,
         "type": "scatter",
         "x": [
          "2025-10-30T10:30:00-04:00",
          "2025-10-30T10:35:00-04:00"
         ],
         "xaxis": "x",
         "y": {
          "bdata": "A3nYiwTNukDq+//+y826QA==",
          "dtype": "f8"
         },
         "yaxis": "y"
        },
        {
         "line": {
          "color": "#01FFFF",
          "width": 0.6
         },
         "mode": "lines",
         "name": "HMA",
         "showlegend": false,
         "type": "scatter",
         "x": [
          "2025-10-30T10:35:00-04:00",
          "2025-10-30T10:40:00-04:00"
         ],
         "xaxis": "x",
         "y": {
          "bdata": "6vv//svNukAdAqHbb8+6QA==",
          "dtype": "f8"
         },
         "yaxis": "y"
        },
        {
         "line": {
          "color": "#01FFFF",
          "width": 0.6
         },
         "mode": "lines",
         "name": "HMA",
         "showlegend": false,
         "type": "scatter",
         "x": [
          "2025-10-30T10:40:00-04:00",
          "2025-10-30T10:45:00-04:00"
         ],
         "xaxis": "x",
         "y": {
          "bdata": "HQKh22/PukDqYhpZI9G6QA==",
          "dtype": "f8"
         },
         "yaxis": "y"
        },
        {
         "line": {
          "color": "#01FFFF",
          "width": 0.6
         },
         "mode": "lines",
         "name": "HMA",
         "showlegend": false,
         "type": "scatter",
         "x": [
          "2025-10-30T10:45:00-04:00",
          "2025-10-30T10:50:00-04:00"
         ],
         "xaxis": "x",
         "y": {
          "bdata": "6mIaWSPRukDLVj+B09G6QA==",
          "dtype": "f8"
         },
         "yaxis": "y"
        },
        {
         "line": {
          "color": "#01FFFF",
          "width": 0.6
         },
         "mode": "lines",
         "name": "HMA",
         "showlegend": false,
         "type": "scatter",
         "x": [
          "2025-10-30T10:50:00-04:00",
          "2025-10-30T10:55:00-04:00"
         ],
         "xaxis": "x",
         "y": {
          "bdata": "y1Y/gdPRukCVm8DQOdK6QA==",
          "dtype": "f8"
         },
         "yaxis": "y"
        },
        {
         "line": {
          "color": "#01FFFF",
          "width": 0.6
         },
         "mode": "lines",
         "name": "HMA",
         "showlegend": false,
         "type": "scatter",
         "x": [
          "2025-10-30T10:55:00-04:00",
          "2025-10-30T11:00:00-04:00"
         ],
         "xaxis": "x",
         "y": {
          "bdata": "lZvA0DnSukDI3NIP/NK6QA==",
          "dtype": "f8"
         },
         "yaxis": "y"
        },
        {
         "line": {
          "color": "#01FFFF",
          "width": 0.6
         },
         "mode": "lines",
         "name": "HMA",
         "showlegend": false,
         "type": "scatter",
         "x": [
          "2025-10-30T11:00:00-04:00",
          "2025-10-30T11:05:00-04:00"
         ],
         "xaxis": "x",
         "y": {
          "bdata": "yNzSD/zSukDLX4+KR9S6QA==",
          "dtype": "f8"
         },
         "yaxis": "y"
        },
        {
         "line": {
          "color": "#01FFFF",
          "width": 0.6
         },
         "mode": "lines",
         "name": "HMA",
         "showlegend": false,
         "type": "scatter",
         "x": [
          "2025-10-30T11:05:00-04:00",
          "2025-10-30T11:10:00-04:00"
         ],
         "xaxis": "x",
         "y": {
          "bdata": "y1+PikfUukAK06hTJda6QA==",
          "dtype": "f8"
         },
         "yaxis": "y"
        },
        {
         "line": {
          "color": "#01FFFF",
          "width": 0.6
         },
         "mode": "lines",
         "name": "HMA",
         "showlegend": false,
         "type": "scatter",
         "x": [
          "2025-10-30T11:10:00-04:00",
          "2025-10-30T11:15:00-04:00"
         ],
         "xaxis": "x",
         "y": {
          "bdata": "CtOoUyXWukBWtAgF79e6QA==",
          "dtype": "f8"
         },
         "yaxis": "y"
        },
        {
         "line": {
          "color": "#01FFFF",
          "width": 0.6
         },
         "mode": "lines",
         "name": "HMA",
         "showlegend": false,
         "type": "scatter",
         "x": [
          "2025-10-30T11:15:00-04:00",
          "2025-10-30T11:20:00-04:00"
         ],
         "xaxis": "x",
         "y": {
          "bdata": "VrQIBe/XukCwa3hBU9m6QA==",
          "dtype": "f8"
         },
         "yaxis": "y"
        },
        {
         "line": {
          "color": "#01FFFF",
          "width": 0.6
         },
         "mode": "lines",
         "name": "HMA",
         "showlegend": false,
         "type": "scatter",
         "x": [
          "2025-10-30T11:20:00-04:00",
          "2025-10-30T11:25:00-04:00"
         ],
         "xaxis": "x",
         "y": {
          "bdata": "sGt4QVPZukAqZVHQ7Nm6QA==",
          "dtype": "f8"
         },
         "yaxis": "y"
        },
        {
         "line": {
          "color": "#FF66FE",
          "width": 0.6
         },
         "mode": "lines",
         "name": "HMA",
         "showlegend": false,
         "type": "scatter",
         "x": [
          "2025-10-30T11:25:00-04:00",
          "2025-10-30T11:30:00-04:00"
         ],
         "xaxis": "x",
         "y": {
          "bdata": "KmVR0OzZukCC7tNSeNm6QA==",
          "dtype": "f8"
         },
         "yaxis": "y"
        },
        {
         "line": {
          "color": "#FF66FE",
          "width": 0.6
         },
         "mode": "lines",
         "name": "HMA",
         "showlegend": false,
         "type": "scatter",
         "x": [
          "2025-10-30T11:30:00-04:00",
          "2025-10-30T11:35:00-04:00"
         ],
         "xaxis": "x",
         "y": {
          "bdata": "gu7TUnjZukBy1T+gr9e6QA==",
          "dtype": "f8"
         },
         "yaxis": "y"
        },
        {
         "line": {
          "color": "#FF66FE",
          "width": 0.6
         },
         "mode": "lines",
         "name": "HMA",
         "showlegend": false,
         "type": "scatter",
         "x": [
          "2025-10-30T11:35:00-04:00",
          "2025-10-30T11:40:00-04:00"
         ],
         "xaxis": "x",
         "y": {
          "bdata": "ctU/oK/XukB2NuMsG9W6QA==",
          "dtype": "f8"
         },
         "yaxis": "y"
        },
        {
         "line": {
          "color": "#FF66FE",
          "width": 0.6
         },
         "mode": "lines",
         "name": "HMA",
         "showlegend": false,
         "type": "scatter",
         "x": [
          "2025-10-30T11:40:00-04:00",
          "2025-10-30T11:45:00-04:00"
         ],
         "xaxis": "x",
         "y": {
          "bdata": "djbjLBvVukBd5kd9ztG6QA==",
          "dtype": "f8"
         },
         "yaxis": "y"
        },
        {
         "line": {
          "color": "#FF66FE",
          "width": 0.6
         },
         "mode": "lines",
         "name": "HMA",
         "showlegend": false,
         "type": "scatter",
         "x": [
          "2025-10-30T11:45:00-04:00",
          "2025-10-30T11:50:00-04:00"
         ],
         "xaxis": "x",
         "y": {
          "bdata": "XeZHfc7RukAASh3Wec66QA==",
          "dtype": "f8"
         },
         "yaxis": "y"
        },
        {
         "line": {
          "color": "#FF66FE",
          "width": 0.6
         },
         "mode": "lines",
         "name": "HMA",
         "showlegend": false,
         "type": "scatter",
         "x": [
          "2025-10-30T11:50:00-04:00",
          "2025-10-30T11:55:00-04:00"
         ],
         "xaxis": "x",
         "y": {
          "bdata": "AEod1nnOukCgEyOWUMu6QA==",
          "dtype": "f8"
         },
         "yaxis": "y"
        },
        {
         "line": {
          "color": "#FF66FE",
          "width": 0.6
         },
         "mode": "lines",
         "name": "HMA",
         "showlegend": false,
         "type": "scatter",
         "x": [
          "2025-10-30T11:55:00-04:00",
          "2025-10-30T12:00:00-04:00"
         ],
         "xaxis": "x",
         "y": {
          "bdata": "oBMjllDLukCd4j8VYMm6QA==",
          "dtype": "f8"
         },
         "yaxis": "y"
        },
        {
         "line": {
          "color": "#FF66FE",
          "width": 0.6
         },
         "mode": "lines",
         "name": "HMA",
         "showlegend": false,
         "type": "scatter",
         "x": [
          "2025-10-30T12:00:00-04:00",
          "2025-10-30T12:05:00-04:00"
         ],
         "xaxis": "x",
         "y": {
          "bdata": "neI/FWDJukBDsqLTQ8m6QA==",
          "dtype": "f8"
         },
         "yaxis": "y"
        },
        {
         "line": {
          "color": "#01FFFF",
          "width": 0.6
         },
         "mode": "lines",
         "name": "HMA",
         "showlegend": false,
         "type": "scatter",
         "x": [
          "2025-10-30T12:05:00-04:00",
          "2025-10-30T12:10:00-04:00"
         ],
         "xaxis": "x",
         "y": {
          "bdata": "Q7Ki00PJukBqWcbG1sq6QA==",
          "dtype": "f8"
         },
         "yaxis": "y"
        },
        {
         "line": {
          "color": "#01FFFF",
          "width": 0.6
         },
         "mode": "lines",
         "name": "HMA",
         "showlegend": false,
         "type": "scatter",
         "x": [
          "2025-10-30T12:10:00-04:00",
          "2025-10-30T12:15:00-04:00"
         ],
         "xaxis": "x",
         "y": {
          "bdata": "alnGxtbKukAYKQ+2S826QA==",
          "dtype": "f8"
         },
         "yaxis": "y"
        },
        {
         "line": {
          "color": "#01FFFF",
          "width": 0.6
         },
         "mode": "lines",
         "name": "HMA",
         "showlegend": false,
         "type": "scatter",
         "x": [
          "2025-10-30T12:15:00-04:00",
          "2025-10-30T12:20:00-04:00"
         ],
         "xaxis": "x",
         "y": {
          "bdata": "GCkPtkvNukDubpmrKNC6QA==",
          "dtype": "f8"
         },
         "yaxis": "y"
        },
        {
         "line": {
          "color": "#01FFFF",
          "width": 0.6
         },
         "mode": "lines",
         "name": "HMA",
         "showlegend": false,
         "type": "scatter",
         "x": [
          "2025-10-30T12:20:00-04:00",
          "2025-10-30T12:25:00-04:00"
         ],
         "xaxis": "x",
         "y": {
          "bdata": "7m6ZqyjQukCDoLzz69K6QA==",
          "dtype": "f8"
         },
         "yaxis": "y"
        },
        {
         "line": {
          "color": "#01FFFF",
          "width": 0.6
         },
         "mode": "lines",
         "name": "HMA",
         "showlegend": false,
         "type": "scatter",
         "x": [
          "2025-10-30T12:25:00-04:00",
          "2025-10-30T12:30:00-04:00"
         ],
         "xaxis": "x",
         "y": {
          "bdata": "g6C88+vSukDyL0tLV9S6QA==",
          "dtype": "f8"
         },
         "yaxis": "y"
        },
        {
         "line": {
          "color": "#01FFFF",
          "width": 0.6
         },
         "mode": "lines",
         "name": "HMA",
         "showlegend": false,
         "type": "scatter",
         "x": [
          "2025-10-30T12:30:00-04:00",
          "2025-10-30T12:35:00-04:00"
         ],
         "xaxis": "x",
         "y": {
          "bdata": "8i9LS1fUukCb4XKts9S6QA==",
          "dtype": "f8"
         },
         "yaxis": "y"
        },
        {
         "line": {
          "color": "#FF66FE",
          "width": 0.6
         },
         "mode": "lines",
         "name": "HMA",
         "showlegend": false,
         "type": "scatter",
         "x": [
          "2025-10-30T12:35:00-04:00",
          "2025-10-30T12:40:00-04:00"
         ],
         "xaxis": "x",
         "y": {
          "bdata": "m+FyrbPUukAFdgDkodS6QA==",
          "dtype": "f8"
         },
         "yaxis": "y"
        },
        {
         "line": {
          "color": "#FF66FE",
          "width": 0.6
         },
         "mode": "lines",
         "name": "HMA",
         "showlegend": false,
         "type": "scatter",
         "x": [
          "2025-10-30T12:40:00-04:00",
          "2025-10-30T12:45:00-04:00"
         ],
         "xaxis": "x",
         "y": {
          "bdata": "BXYA5KHUukDjI5C6R9S6QA==",
          "dtype": "f8"
         },
         "yaxis": "y"
        },
        {
         "line": {
          "color": "#FF66FE",
          "width": 0.6
         },
         "mode": "lines",
         "name": "HMA",
         "showlegend": false,
         "type": "scatter",
         "x": [
          "2025-10-30T12:45:00-04:00",
          "2025-10-30T12:50:00-04:00"
         ],
         "xaxis": "x",
         "y": {
          "bdata": "4yOQukfUukCucvaMutO6QA==",
          "dtype": "f8"
         },
         "yaxis": "y"
        },
        {
         "line": {
          "color": "#FF66FE",
          "width": 0.6
         },
         "mode": "lines",
         "name": "HMA",
         "showlegend": false,
         "type": "scatter",
         "x": [
          "2025-10-30T12:50:00-04:00",
          "2025-10-30T12:55:00-04:00"
         ],
         "xaxis": "x",
         "y": {
          "bdata": "rnL2jLrTukBePMcaLtO6QA==",
          "dtype": "f8"
         },
         "yaxis": "y"
        },
        {
         "line": {
          "color": "#FF66FE",
          "width": 0.6
         },
         "mode": "lines",
         "name": "HMA",
         "showlegend": false,
         "type": "scatter",
         "x": [
          "2025-10-30T12:55:00-04:00",
          "2025-10-30T13:00:00-04:00"
         ],
         "xaxis": "x",
         "y": {
          "bdata": "XjzHGi7TukD4mkTL/NG6QA==",
          "dtype": "f8"
         },
         "yaxis": "y"
        },
        {
         "line": {
          "color": "#FF66FE",
          "width": 0.6
         },
         "mode": "lines",
         "name": "HMA",
         "showlegend": false,
         "type": "scatter",
         "x": [
          "2025-10-30T13:00:00-04:00",
          "2025-10-30T13:05:00-04:00"
         ],
         "xaxis": "x",
         "y": {
          "bdata": "+JpEy/zRukADlvEGLNC6QA==",
          "dtype": "f8"
         },
         "yaxis": "y"
        },
        {
         "line": {
          "color": "#FF66FE",
          "width": 0.6
         },
         "mode": "lines",
         "name": "HMA",
         "showlegend": false,
         "type": "scatter",
         "x": [
          "2025-10-30T13:05:00-04:00",
          "2025-10-30T13:10:00-04:00"
         ],
         "xaxis": "x",
         "y": {
          "bdata": "A5bxBizQukClvPSv+c26QA==",
          "dtype": "f8"
         },
         "yaxis": "y"
        },
        {
         "line": {
          "color": "#FF66FE",
          "width": 0.6
         },
         "mode": "lines",
         "name": "HMA",
         "showlegend": false,
         "type": "scatter",
         "x": [
          "2025-10-30T13:10:00-04:00",
          "2025-10-30T13:15:00-04:00"
         ],
         "xaxis": "x",
         "y": {
          "bdata": "pbz0r/nNukADov5UDsy6QA==",
          "dtype": "f8"
         },
         "yaxis": "y"
        },
        {
         "line": {
          "color": "#FF66FE",
          "width": 0.6
         },
         "mode": "lines",
         "name": "HMA",
         "showlegend": false,
         "type": "scatter",
         "x": [
          "2025-10-30T13:15:00-04:00",
          "2025-10-30T13:20:00-04:00"
         ],
         "xaxis": "x",
         "y": {
          "bdata": "A6L+VA7MukDgNTDNH8u6QA==",
          "dtype": "f8"
         },
         "yaxis": "y"
        },
        {
         "line": {
          "color": "#01FFFF",
          "width": 0.6
         },
         "mode": "lines",
         "name": "HMA",
         "showlegend": false,
         "type": "scatter",
         "x": [
          "2025-10-30T13:20:00-04:00",
          "2025-10-30T13:25:00-04:00"
         ],
         "xaxis": "x",
         "y": {
          "bdata": "4DUwzR/LukAzibLQUsu6QA==",
          "dtype": "f8"
         },
         "yaxis": "y"
        },
        {
         "line": {
          "color": "#01FFFF",
          "width": 0.6
         },
         "mode": "lines",
         "name": "HMA",
         "showlegend": false,
         "type": "scatter",
         "x": [
          "2025-10-30T13:25:00-04:00",
          "2025-10-30T13:30:00-04:00"
         ],
         "xaxis": "x",
         "y": {
          "bdata": "M4my0FLLukBtsjsrzsu6QA==",
          "dtype": "f8"
         },
         "yaxis": "y"
        },
        {
         "line": {
          "color": "#01FFFF",
          "width": 0.6
         },
         "mode": "lines",
         "name": "HMA",
         "showlegend": false,
         "type": "scatter",
         "x": [
          "2025-10-30T13:30:00-04:00",
          "2025-10-30T13:35:00-04:00"
         ],
         "xaxis": "x",
         "y": {
          "bdata": "bbI7K87LukBQXqTKM8y6QA==",
          "dtype": "f8"
         },
         "yaxis": "y"
        },
        {
         "line": {
          "color": "#01FFFF",
          "width": 0.6
         },
         "mode": "lines",
         "name": "HMA",
         "showlegend": false,
         "type": "scatter",
         "x": [
          "2025-10-30T13:35:00-04:00",
          "2025-10-30T13:40:00-04:00"
         ],
         "xaxis": "x",
         "y": {
          "bdata": "UF6kyjPMukCm9a9Ldcy6QA==",
          "dtype": "f8"
         },
         "yaxis": "y"
        },
        {
         "line": {
          "color": "#01FFFF",
          "width": 0.6
         },
         "mode": "lines",
         "name": "HMA",
         "showlegend": false,
         "type": "scatter",
         "x": [
          "2025-10-30T13:40:00-04:00",
          "2025-10-30T13:45:00-04:00"
         ],
         "xaxis": "x",
         "y": {
          "bdata": "pvWvS3XMukA+4bDaVs26QA==",
          "dtype": "f8"
         },
         "yaxis": "y"
        },
        {
         "line": {
          "color": "#01FFFF",
          "width": 0.6
         },
         "mode": "lines",
         "name": "HMA",
         "showlegend": false,
         "type": "scatter",
         "x": [
          "2025-10-30T13:45:00-04:00",
          "2025-10-30T13:50:00-04:00"
         ],
         "xaxis": "x",
         "y": {
          "bdata": "PuGw2lbNukDOnJq8rs66QA==",
          "dtype": "f8"
         },
         "yaxis": "y"
        },
        {
         "line": {
          "color": "#01FFFF",
          "width": 0.6
         },
         "mode": "lines",
         "name": "HMA",
         "showlegend": false,
         "type": "scatter",
         "x": [
          "2025-10-30T13:50:00-04:00",
          "2025-10-30T13:55:00-04:00"
         ],
         "xaxis": "x",
         "y": {
          "bdata": "zpyavK7OukAWyY6eFdC6QA==",
          "dtype": "f8"
         },
         "yaxis": "y"
        },
        {
         "line": {
          "color": "#01FFFF",
          "width": 0.6
         },
         "mode": "lines",
         "name": "HMA",
         "showlegend": false,
         "type": "scatter",
         "x": [
          "2025-10-30T13:55:00-04:00",
          "2025-10-30T14:00:00-04:00"
         ],
         "xaxis": "x",
         "y": {
          "bdata": "FsmOnhXQukAQrQfh1dC6QA==",
          "dtype": "f8"
         },
         "yaxis": "y"
        },
        {
         "line": {
          "color": "#FF66FE",
          "width": 0.6
         },
         "mode": "lines",
         "name": "HMA",
         "showlegend": false,
         "type": "scatter",
         "x": [
          "2025-10-30T14:00:00-04:00",
          "2025-10-30T14:05:00-04:00"
         ],
         "xaxis": "x",
         "y": {
          "bdata": "EK0H4dXQukCAgJG6gtC6QA==",
          "dtype": "f8"
         },
         "yaxis": "y"
        },
        {
         "line": {
          "color": "#FF66FE",
          "width": 0.6
         },
         "mode": "lines",
         "name": "HMA",
         "showlegend": false,
         "type": "scatter",
         "x": [
          "2025-10-30T14:05:00-04:00",
          "2025-10-30T14:10:00-04:00"
         ],
         "xaxis": "x",
         "y": {
          "bdata": "gICRuoLQukA6X6Q82M66QA==",
          "dtype": "f8"
         },
         "yaxis": "y"
        },
        {
         "line": {
          "color": "#FF66FE",
          "width": 0.6
         },
         "mode": "lines",
         "name": "HMA",
         "showlegend": false,
         "type": "scatter",
         "x": [
          "2025-10-30T14:10:00-04:00",
          "2025-10-30T14:15:00-04:00"
         ],
         "xaxis": "x",
         "y": {
          "bdata": "Ol+kPNjOukCCfjBtY8y6QA==",
          "dtype": "f8"
         },
         "yaxis": "y"
        },
        {
         "line": {
          "color": "#FF66FE",
          "width": 0.6
         },
         "mode": "lines",
         "name": "HMA",
         "showlegend": false,
         "type": "scatter",
         "x": [
          "2025-10-30T14:15:00-04:00",
          "2025-10-30T14:20:00-04:00"
         ],
         "xaxis": "x",
         "y": {
          "bdata": "gn4wbWPMukB4GtCbmcm6QA==",
          "dtype": "f8"
         },
         "yaxis": "y"
        },
        {
         "line": {
          "color": "#FF66FE",
          "width": 0.6
         },
         "mode": "lines",
         "name": "HMA",
         "showlegend": false,
         "type": "scatter",
         "x": [
          "2025-10-30T14:20:00-04:00",
          "2025-10-30T14:25:00-04:00"
         ],
         "xaxis": "x",
         "y": {
          "bdata": "eBrQm5nJukCK/1RAEce6QA==",
          "dtype": "f8"
         },
         "yaxis": "y"
        },
        {
         "line": {
          "color": "#FF66FE",
          "width": 0.6
         },
         "mode": "lines",
         "name": "HMA",
         "showlegend": false,
         "type": "scatter",
         "x": [
          "2025-10-30T14:25:00-04:00",
          "2025-10-30T14:30:00-04:00"
         ],
         "xaxis": "x",
         "y": {
          "bdata": "iv9UQBHHukBGZcrg9sS6QA==",
          "dtype": "f8"
         },
         "yaxis": "y"
        },
        {
         "line": {
          "color": "#FF66FE",
          "width": 0.6
         },
         "mode": "lines",
         "name": "HMA",
         "showlegend": false,
         "type": "scatter",
         "x": [
          "2025-10-30T14:30:00-04:00",
          "2025-10-30T14:35:00-04:00"
         ],
         "xaxis": "x",
         "y": {
          "bdata": "RmXK4PbEukBd0gwHiMK6QA==",
          "dtype": "f8"
         },
         "yaxis": "y"
        },
        {
         "line": {
          "color": "#FF66FE",
          "width": 0.6
         },
         "mode": "lines",
         "name": "HMA",
         "showlegend": false,
         "type": "scatter",
         "x": [
          "2025-10-30T14:35:00-04:00",
          "2025-10-30T14:40:00-04:00"
         ],
         "xaxis": "x",
         "y": {
          "bdata": "XdIMB4jCukDInUqZO8C6QA==",
          "dtype": "f8"
         },
         "yaxis": "y"
        },
        {
         "line": {
          "color": "#FF66FE",
          "width": 0.6
         },
         "mode": "lines",
         "name": "HMA",
         "showlegend": false,
         "type": "scatter",
         "x": [
          "2025-10-30T14:40:00-04:00",
          "2025-10-30T14:45:00-04:00"
         ],
         "xaxis": "x",
         "y": {
          "bdata": "yJ1KmTvAukAK5S0Dqb66QA==",
          "dtype": "f8"
         },
         "yaxis": "y"
        },
        {
         "line": {
          "color": "#FF66FE",
          "width": 0.6
         },
         "mode": "lines",
         "name": "HMA",
         "showlegend": false,
         "type": "scatter",
         "x": [
          "2025-10-30T14:45:00-04:00",
          "2025-10-30T14:50:00-04:00"
         ],
         "xaxis": "x",
         "y": {
          "bdata": "CuUtA6m+ukDu0fFq8b26QA==",
          "dtype": "f8"
         },
         "yaxis": "y"
        },
        {
         "line": {
          "color": "#FF66FE",
          "width": 0.6
         },
         "mode": "lines",
         "name": "HMA",
         "showlegend": false,
         "type": "scatter",
         "x": [
          "2025-10-30T14:50:00-04:00",
          "2025-10-30T14:55:00-04:00"
         ],
         "xaxis": "x",
         "y": {
          "bdata": "7tHxavG9ukCmBJVBir26QA==",
          "dtype": "f8"
         },
         "yaxis": "y"
        },
        {
         "line": {
          "color": "#FF66FE",
          "width": 0.6
         },
         "mode": "lines",
         "name": "HMA",
         "showlegend": false,
         "type": "scatter",
         "x": [
          "2025-10-30T14:55:00-04:00",
          "2025-10-30T15:00:00-04:00"
         ],
         "xaxis": "x",
         "y": {
          "bdata": "pgSVQYq9ukAqoVYY3ry6QA==",
          "dtype": "f8"
         },
         "yaxis": "y"
        },
        {
         "line": {
          "color": "#FF66FE",
          "width": 0.6
         },
         "mode": "lines",
         "name": "HMA",
         "showlegend": false,
         "type": "scatter",
         "x": [
          "2025-10-30T15:00:00-04:00",
          "2025-10-30T15:05:00-04:00"
         ],
         "xaxis": "x",
         "y": {
          "bdata": "KqFWGN68ukCjEjo3+ru6QA==",
          "dtype": "f8"
         },
         "yaxis": "y"
        },
        {
         "line": {
          "color": "#FF66FE",
          "width": 0.6
         },
         "mode": "lines",
         "name": "HMA",
         "showlegend": false,
         "type": "scatter",
         "x": [
          "2025-10-30T15:05:00-04:00",
          "2025-10-30T15:10:00-04:00"
         ],
         "xaxis": "x",
         "y": {
          "bdata": "oxI6N/q7ukDW1a2Nnrq6QA==",
          "dtype": "f8"
         },
         "yaxis": "y"
        },
        {
         "line": {
          "color": "#FF66FE",
          "width": 0.6
         },
         "mode": "lines",
         "name": "HMA",
         "showlegend": false,
         "type": "scatter",
         "x": [
          "2025-10-30T15:10:00-04:00",
          "2025-10-30T15:15:00-04:00"
         ],
         "xaxis": "x",
         "y": {
          "bdata": "1tWtjZ66ukBFo4XvGrm6QA==",
          "dtype": "f8"
         },
         "yaxis": "y"
        },
        {
         "line": {
          "color": "#FF66FE",
          "width": 0.6
         },
         "mode": "lines",
         "name": "HMA",
         "showlegend": false,
         "type": "scatter",
         "x": [
          "2025-10-30T15:15:00-04:00",
          "2025-10-30T15:20:00-04:00"
         ],
         "xaxis": "x",
         "y": {
          "bdata": "RaOF7xq5ukC4L66j5ra6QA==",
          "dtype": "f8"
         },
         "yaxis": "y"
        },
        {
         "line": {
          "color": "#FF66FE",
          "width": 0.6
         },
         "mode": "lines",
         "name": "HMA",
         "showlegend": false,
         "type": "scatter",
         "x": [
          "2025-10-30T15:20:00-04:00",
          "2025-10-30T15:25:00-04:00"
         ],
         "xaxis": "x",
         "y": {
          "bdata": "uC+uo+a2ukDCDV5byLS6QA==",
          "dtype": "f8"
         },
         "yaxis": "y"
        },
        {
         "line": {
          "color": "#FF66FE",
          "width": 0.6
         },
         "mode": "lines",
         "name": "HMA",
         "showlegend": false,
         "type": "scatter",
         "x": [
          "2025-10-30T15:25:00-04:00",
          "2025-10-30T15:30:00-04:00"
         ],
         "xaxis": "x",
         "y": {
          "bdata": "wg1eW8i0ukA6IbCrCrO6QA==",
          "dtype": "f8"
         },
         "yaxis": "y"
        },
        {
         "line": {
          "color": "#FF66FE",
          "width": 0.6
         },
         "mode": "lines",
         "name": "HMA",
         "showlegend": false,
         "type": "scatter",
         "x": [
          "2025-10-30T15:30:00-04:00",
          "2025-10-30T15:35:00-04:00"
         ],
         "xaxis": "x",
         "y": {
          "bdata": "OiGwqwqzukBttuA6HbG6QA==",
          "dtype": "f8"
         },
         "yaxis": "y"
        },
        {
         "line": {
          "color": "#FF66FE",
          "width": 0.6
         },
         "mode": "lines",
         "name": "HMA",
         "showlegend": false,
         "type": "scatter",
         "x": [
          "2025-10-30T15:35:00-04:00",
          "2025-10-30T15:40:00-04:00"
         ],
         "xaxis": "x",
         "y": {
          "bdata": "bbbgOh2xukBDTtO5F6+6QA==",
          "dtype": "f8"
         },
         "yaxis": "y"
        },
        {
         "line": {
          "color": "#FF66FE",
          "width": 0.6
         },
         "mode": "lines",
         "name": "HMA",
         "showlegend": false,
         "type": "scatter",
         "x": [
          "2025-10-30T15:40:00-04:00",
          "2025-10-30T15:45:00-04:00"
         ],
         "xaxis": "x",
         "y": {
          "bdata": "Q07TuRevukDQvOKAJ626QA==",
          "dtype": "f8"
         },
         "yaxis": "y"
        },
        {
         "line": {
          "color": "#FF66FE",
          "width": 0.6
         },
         "mode": "lines",
         "name": "HMA",
         "showlegend": false,
         "type": "scatter",
         "x": [
          "2025-10-30T15:45:00-04:00",
          "2025-10-30T15:50:00-04:00"
         ],
         "xaxis": "x",
         "y": {
          "bdata": "0LzigCetukC28SqDRqu6QA==",
          "dtype": "f8"
         },
         "yaxis": "y"
        },
        {
         "line": {
          "color": "#FF66FE",
          "width": 0.6
         },
         "mode": "lines",
         "name": "HMA",
         "showlegend": false,
         "type": "scatter",
         "x": [
          "2025-10-30T15:50:00-04:00",
          "2025-10-30T15:55:00-04:00"
         ],
         "xaxis": "x",
         "y": {
          "bdata": "tvEqg0arukBqKmKySqm6QA==",
          "dtype": "f8"
         },
         "yaxis": "y"
        },
        {
         "line": {
          "color": "#01FFFF",
          "width": 1
         },
         "mode": "lines",
         "name": "MACD (Value)",
         "showlegend": false,
         "type": "scatter",
         "x": [
          "2025-10-30T09:00:00.000000000",
          "2025-10-30T09:05:00.000000000",
          "2025-10-30T09:10:00.000000000",
          "2025-10-30T09:15:00.000000000",
          "2025-10-30T09:20:00.000000000",
          "2025-10-30T09:25:00.000000000",
          "2025-10-30T09:30:00.000000000",
          "2025-10-30T09:35:00.000000000",
          "2025-10-30T09:40:00.000000000",
          "2025-10-30T09:45:00.000000000",
          "2025-10-30T09:50:00.000000000",
          "2025-10-30T09:55:00.000000000",
          "2025-10-30T10:00:00.000000000",
          "2025-10-30T10:05:00.000000000",
          "2025-10-30T10:10:00.000000000",
          "2025-10-30T10:15:00.000000000",
          "2025-10-30T10:20:00.000000000",
          "2025-10-30T10:25:00.000000000",
          "2025-10-30T10:30:00.000000000",
          "2025-10-30T10:35:00.000000000",
          "2025-10-30T10:40:00.000000000",
          "2025-10-30T10:45:00.000000000",
          "2025-10-30T10:50:00.000000000",
          "2025-10-30T10:55:00.000000000",
          "2025-10-30T11:00:00.000000000",
          "2025-10-30T11:05:00.000000000",
          "2025-10-30T11:10:00.000000000",
          "2025-10-30T11:15:00.000000000",
          "2025-10-30T11:20:00.000000000",
          "2025-10-30T11:25:00.000000000",
          "2025-10-30T11:30:00.000000000",
          "2025-10-30T11:35:00.000000000",
          "2025-10-30T11:40:00.000000000",
          "2025-10-30T11:45:00.000000000",
          "2025-10-30T11:50:00.000000000",
          "2025-10-30T11:55:00.000000000",
          "2025-10-30T12:00:00.000000000",
          "2025-10-30T12:05:00.000000000",
          "2025-10-30T12:10:00.000000000",
          "2025-10-30T12:15:00.000000000",
          "2025-10-30T12:20:00.000000000",
          "2025-10-30T12:25:00.000000000",
          "2025-10-30T12:30:00.000000000",
          "2025-10-30T12:35:00.000000000",
          "2025-10-30T12:40:00.000000000",
          "2025-10-30T12:45:00.000000000",
          "2025-10-30T12:50:00.000000000",
          "2025-10-30T12:55:00.000000000",
          "2025-10-30T13:00:00.000000000",
          "2025-10-30T13:05:00.000000000",
          "2025-10-30T13:10:00.000000000",
          "2025-10-30T13:15:00.000000000",
          "2025-10-30T13:20:00.000000000",
          "2025-10-30T13:25:00.000000000",
          "2025-10-30T13:30:00.000000000",
          "2025-10-30T13:35:00.000000000",
          "2025-10-30T13:40:00.000000000",
          "2025-10-30T13:45:00.000000000",
          "2025-10-30T13:50:00.000000000",
          "2025-10-30T13:55:00.000000000",
          "2025-10-30T14:00:00.000000000",
          "2025-10-30T14:05:00.000000000",
          "2025-10-30T14:10:00.000000000",
          "2025-10-30T14:15:00.000000000",
          "2025-10-30T14:20:00.000000000",
          "2025-10-30T14:25:00.000000000",
          "2025-10-30T14:30:00.000000000",
          "2025-10-30T14:35:00.000000000",
          "2025-10-30T14:40:00.000000000",
          "2025-10-30T14:45:00.000000000",
          "2025-10-30T14:50:00.000000000",
          "2025-10-30T14:55:00.000000000",
          "2025-10-30T15:00:00.000000000",
          "2025-10-30T15:05:00.000000000",
          "2025-10-30T15:10:00.000000000",
          "2025-10-30T15:15:00.000000000",
          "2025-10-30T15:20:00.000000000",
          "2025-10-30T15:25:00.000000000",
          "2025-10-30T15:30:00.000000000",
          "2025-10-30T15:35:00.000000000",
          "2025-10-30T15:40:00.000000000",
          "2025-10-30T15:45:00.000000000",
          "2025-10-30T15:50:00.000000000",
          "2025-10-30T15:55:00.000000000"
         ],
         "xaxis": "x2",
         "y": {
          "bdata": "AAAAAAAAAAAAAAAAAAAAAAAAAAAAAAAAAAAAAAAAAAAAAAAAAAAAAAAAAAAAAAAAAKDFJjlfCMAA6NxIiaEZwAC43WJm7iDAABYxhVhcIcAAWNLECJoewABoZfWKXRzAAJwGimsZHMAAPLbEQVcbwADwZ5S4XRnAAMSriORzGsAAVHkZJdAbwAAU6sXpSh3AABDG8vkoG8AAjDNyuMgYwAD0iKxMCRTAAJh5kPvJEcAAiK5W338SwAAsY1O4bRHAACBpmSIbDcAAGA7mSoIHwACYtZ5MEwHAAIBc3+hJ+b8AYGES80LyvwAA+IHPifG/ABAJpWdM9r8AaNTrsnkBwAAgNSHYoAbAAJhOrvF8DMAAkHQXno8PwABADlhqMhHAAOCligcuD8AAyCqAnxEIwADo5JT1EADAAJBv4ZGj9b8A4C4zSv7nvwAARb+3j9W/AIAtq+566L8AQMeTkMzxvwBgoo0+TvG/AAAL+brc8L8AQA2tXuLwvwDgz7Tjiuy/AKAXYWnf878A0HMjPBv8vwDw10MOAwLAAGgrjfA1A8AAGDHhoDkBwABw3JnTP/q/AEDPaExj+L8AsGm1cWb4vwBQs0fLLvi/AKBV/S/17r8AwFB0guHivwBAZkjYWdm/AIDqpfK44r8AEB06ux3wvwCAZz7ucvy/AEheA9tTA8AAeGBkFf4HwACgdLh3QwrAAAD/q/CgC8AAWJlEo1cQwADoLz2OrBHAAGg4jAlVEcAAtOnmRaIQwADoM0oYVhHAAGQGBNcOE8AA9OV+CCEUwACsIbYw7BXAAITsG34jF8AAKC0O1SkawAA4s7XhMRvAACC8409LG8AAlIPNhNIcwAAAcTAKUR7AANSmKzEpH8AA0q3cCRQgwABSvmoA5SDA",
          "dtype": "f8"
         },
         "yaxis": "y2"
        },
        {
         "line": {
          "color": "#F8E9A6",
          "width": 1
         },
         "mode": "lines",
         "name": "Signal (avg)",
         "showlegend": false,
         "type": "scatter",
         "x": [
          "2025-10-30T09:00:00.000000000",
          "2025-10-30T09:05:00.000000000",
          "2025-10-30T09:10:00.000000000",
          "2025-10-30T09:15:00.000000000",
          "2025-10-30T09:20:00.000000000",
          "2025-10-30T09:25:00.000000000",
          "2025-10-30T09:30:00.000000000",
          "2025-10-30T09:35:00.000000000",
          "2025-10-30T09:40:00.000000000",
          "2025-10-30T09:45:00.000000000",
          "2025-10-30T09:50:00.000000000",
          "2025-10-30T09:55:00.000000000",
          "2025-10-30T10:00:00.000000000",
          "2025-10-30T10:05:00.000000000",
          "2025-10-30T10:10:00.000000000",
          "2025-10-30T10:15:00.000000000",
          "2025-10-30T10:20:00.000000000",
          "2025-10-30T10:25:00.000000000",
          "2025-10-30T10:30:00.000000000",
          "2025-10-30T10:35:00.000000000",
          "2025-10-30T10:40:00.000000000",
          "2025-10-30T10:45:00.000000000",
          "2025-10-30T10:50:00.000000000",
          "2025-10-30T10:55:00.000000000",
          "2025-10-30T11:00:00.000000000",
          "2025-10-30T11:05:00.000000000",
          "2025-10-30T11:10:00.000000000",
          "2025-10-30T11:15:00.000000000",
          "2025-10-30T11:20:00.000000000",
          "2025-10-30T11:25:00.000000000",
          "2025-10-30T11:30:00.000000000",
          "2025-10-30T11:35:00.000000000",
          "2025-10-30T11:40:00.000000000",
          "2025-10-30T11:45:00.000000000",
          "2025-10-30T11:50:00.000000000",
          "2025-10-30T11:55:00.000000000",
          "2025-10-30T12:00:00.000000000",
          "2025-10-30T12:05:00.000000000",
          "2025-10-30T12:10:00.000000000",
          "2025-10-30T12:15:00.000000000",
          "2025-10-30T12:20:00.000000000",
          "2025-10-30T12:25:00.000000000",
          "2025-10-30T12:30:00.000000000",
          "2025-10-30T12:35:00.000000000",
          "2025-10-30T12:40:00.000000000",
          "2025-10-30T12:45:00.000000000",
          "2025-10-30T12:50:00.000000000",
          "2025-10-30T12:55:00.000000000",
          "2025-10-30T13:00:00.000000000",
          "2025-10-30T13:05:00.000000000",
          "2025-10-30T13:10:00.000000000",
          "2025-10-30T13:15:00.000000000",
          "2025-10-30T13:20:00.000000000",
          "2025-10-30T13:25:00.000000000",
          "2025-10-30T13:30:00.000000000",
          "2025-10-30T13:35:00.000000000",
          "2025-10-30T13:40:00.000000000",
          "2025-10-30T13:45:00.000000000",
          "2025-10-30T13:50:00.000000000",
          "2025-10-30T13:55:00.000000000",
          "2025-10-30T14:00:00.000000000",
          "2025-10-30T14:05:00.000000000",
          "2025-10-30T14:10:00.000000000",
          "2025-10-30T14:15:00.000000000",
          "2025-10-30T14:20:00.000000000",
          "2025-10-30T14:25:00.000000000",
          "2025-10-30T14:30:00.000000000",
          "2025-10-30T14:35:00.000000000",
          "2025-10-30T14:40:00.000000000",
          "2025-10-30T14:45:00.000000000",
          "2025-10-30T14:50:00.000000000",
          "2025-10-30T14:55:00.000000000",
          "2025-10-30T15:00:00.000000000",
          "2025-10-30T15:05:00.000000000",
          "2025-10-30T15:10:00.000000000",
          "2025-10-30T15:15:00.000000000",
          "2025-10-30T15:20:00.000000000",
          "2025-10-30T15:25:00.000000000",
          "2025-10-30T15:30:00.000000000",
          "2025-10-30T15:35:00.000000000",
          "2025-10-30T15:40:00.000000000",
          "2025-10-30T15:45:00.000000000",
          "2025-10-30T15:50:00.000000000",
          "2025-10-30T15:55:00.000000000"
         ],
         "xaxis": "x2",
         "y": {
          "bdata": "AAAAAAAAAAAAAAAAAAAAAAAAAAAAAAAAAAAAAAAAAAAAAAAAAAAAAAAAAAAAAAAAzUzR62B/47+5PtHLx038v7ESBQfV3QjA4KkVOBLkEMBNZjtUEKITwKRm3dooYRXAt9cYMTa5FsAsUjjonqUXwIo+qAqk/RfA1vKo8LB7GMB4OWySLiYZwMb+HgNU+hnA0ptzmds2GsDcy2Zeoe0ZwLCgbdT2vxjAWgVwYJFbF8CvUkkr1GIWwL8X6MwBZRXAM5aqGbgGFMApFL1eNF8SwFSf3I6xZxDAh9iDlObGDMAGaqb4A9kIwAWItyDLoQXAa+5GRBOJA8CJ0/yYmR8DwAcWCIEM0wPAOWNJvaCOBcBhn+to044HwBuZKHeguQnA40DbR+jQCsC2KOsfQEQKwMUbHQT+OQjABAs8AI2LBcA3x1gcjm8CwIxLHipGk/6/cfzPMoPo+r/B1md5Hxb5v5tYQEq/h/e/4kbPBlgy9r9OEkJbWSL1v9hxFtv3wvO/Rq4WKajI878FtY/BxXL1vwQklk8KXfi/nXmJ3s4s+7/lak4/TKH8v1HSalFnJ/y/qE7lIpVm+7/tLmZz9Mz6v/KbdTfsRvq/9T+Akg4e+L9eRgi0mC71v0uI2MaRNvK/cBOrr1lx8L/AEvVkoGDwvzTC2PavyvK/9oQ5LbHD9r/EALuy/M77v7WGyNJJYADAXgVtMWugAsCyWmGpMHAFwI7YLdNfOAjAcnBuRx1PCsD1oYKVZrMLwMVEfchbGA3Aa8VmCDnmDsDEf70csmIQwNC7BNUxfhHAQEpmFkGfEsAA3VquXiEUwAC8n3wSixXAzZzYKoWxFsA+zvrkUesXwP6kRSfdMhnAmOElKCFkGsB6CJerUYsbwC/BkU0OyxzA",
          "dtype": "f8"
         },
         "yaxis": "y2"
        },
        {
         "marker": {
          "color": [
           "#FE0000",
           "#7E0100",
           "#7E0100",
           "#7E0100",
           "#7E0100",
           "#7E0100",
           "#FE0000",
           "#FE0000",
           "#FE0000",
           "#7E0100",
           "#7E0100",
           "#7E0100",
           "#7E0100",
           "#7E0100",
           "#7E0100",
           "#FE0000",
           "#FE0000",
           "#FE0000",
           "#7E0100",
           "#04FE00",
           "#04FE00",
           "#04FE00",
           "#006401",
           "#04FE00",
           "#04FE00",
           "#04FE00",
           "#04FE00",
           "#04FE00",
           "#006401",
           "#006401",
           "#006401",
           "#006401",
           "#FE0000",
           "#FE0000",
           "#FE0000",
           "#FE0000",
           "#7E0100",
           "#04FE00",
           "#04FE00",
           "#04FE00",
           "#04FE00",
           "#04FE00",
           "#006401",
           "#006401",
           "#006401",
           "#006401",
           "#006401",
           "#04FE00",
           "#FE0000",
           "#FE0000",
           "#FE0000",
           "#7E0100",
           "#7E0100",
           "#04FE00",
           "#04FE00",
           "#006401",
           "#006401",
           "#04FE00",
           "#04FE00",
           "#04FE00",
           "#006401",
           "#006401",
           "#FE0000",
           "#FE0000",
           "#FE0000",
           "#7E0100",
           "#7E0100",
           "#FE0000",
           "#7E0100",
           "#7E0100",
           "#7E0100",
           "#FE0000",
           "#FE0000",
           "#FE0000",
           "#FE0000",
           "#FE0000",
           "#FE0000",
           "#7E0100",
           "#7E0100",
           "#FE0000",
           "#FE0000",
           "#7E0100",
           "#7E0100",
           "#FE0000"
          ]
         },
         "name": "Histogram (diff)",
         "showlegend": false,
         "type": "bar",
         "x": [
          "2025-10-30T09:00:00.000000000",
          "2025-10-30T09:05:00.000000000",
          "2025-10-30T09:10:00.000000000",
          "2025-10-30T09:15:00.000000000",
          "2025-10-30T09:20:00.000000000",
          "2025-10-30T09:25:00.000000000",
          "2025-10-30T09:30:00.000000000",
          "2025-10-30T09:35:00.000000000",
          "2025-10-30T09:40:00.000000000",
          "2025-10-30T09:45:00.000000000",
          "2025-10-30T09:50:00.000000000",
          "2025-10-30T09:55:00.000000000",
          "2025-10-30T10:00:00.000000000",
          "2025-10-30T10:05:00.000000000",
          "2025-10-30T10:10:00.000000000",
          "2025-10-30T10:15:00.000000000",
          "2025-10-30T10:20:00.000000000",
          "2025-10-30T10:25:00.000000000",
          "2025-10-30T10:30:00.000000000",
          "2025-10-30T10:35:00.000000000",
          "2025-10-30T10:40:00.000000000",
          "2025-10-30T10:45:00.000000000",
          "2025-10-30T10:50:00.000000000",
          "2025-10-30T10:55:00.000000000",
          "2025-10-30T11:00:00.000000000",
          "2025-10-30T11:05:00.000000000",
          "2025-10-30T11:10:00.000000000",
          "2025-10-30T11:15:00.000000000",
          "2025-10-30T11:20:00.000000000",
          "2025-10-30T11:25:00.000000000",
          "2025-10-30T11:30:00.000000000",
          "2025-10-30T11:35:00.000000000",
          "2025-10-30T11:40:00.000000000",
          "2025-10-30T11:45:00.000000000",
          "2025-10-30T11:50:00.000000000",
          "2025-10-30T11:55:00.000000000",
          "2025-10-30T12:00:00.000000000",
          "2025-10-30T12:05:00.000000000",
          "2025-10-30T12:10:00.000000000",
          "2025-10-30T12:15:00.000000000",
          "2025-10-30T12:20:00.000000000",
          "2025-10-30T12:25:00.000000000",
          "2025-10-30T12:30:00.000000000",
          "2025-10-30T12:35:00.000000000",
          "2025-10-30T12:40:00.000000000",
          "2025-10-30T12:45:00.000000000",
          "2025-10-30T12:50:00.000000000",
          "2025-10-30T12:55:00.000000000",
          "2025-10-30T13:00:00.000000000",
          "2025-10-30T13:05:00.000000000",
          "2025-10-30T13:10:00.000000000",
          "2025-10-30T13:15:00.000000000",
          "2025-10-30T13:20:00.000000000",
          "2025-10-30T13:25:00.000000000",
          "2025-10-30T13:30:00.000000000",
          "2025-10-30T13:35:00.000000000",
          "2025-10-30T13:40:00.000000000",
          "2025-10-30T13:45:00.000000000",
          "2025-10-30T13:50:00.000000000",
          "2025-10-30T13:55:00.000000000",
          "2025-10-30T14:00:00.000000000",
          "2025-10-30T14:05:00.000000000",
          "2025-10-30T14:10:00.000000000",
          "2025-10-30T14:15:00.000000000",
          "2025-10-30T14:20:00.000000000",
          "2025-10-30T14:25:00.000000000",
          "2025-10-30T14:30:00.000000000",
          "2025-10-30T14:35:00.000000000",
          "2025-10-30T14:40:00.000000000",
          "2025-10-30T14:45:00.000000000",
          "2025-10-30T14:50:00.000000000",
          "2025-10-30T14:55:00.000000000",
          "2025-10-30T15:00:00.000000000",
          "2025-10-30T15:05:00.000000000",
          "2025-10-30T15:10:00.000000000",
          "2025-10-30T15:15:00.000000000",
          "2025-10-30T15:20:00.000000000",
          "2025-10-30T15:25:00.000000000",
          "2025-10-30T15:30:00.000000000",
          "2025-10-30T15:35:00.000000000",
          "2025-10-30T15:40:00.000000000",
          "2025-10-30T15:45:00.000000000",
          "2025-10-30T15:50:00.000000000",
          "2025-10-30T15:55:00.000000000"
         ],
         "xaxis": "x2",
         "y": {
          "bdata": "AAAAAAAAAAAAAAAAAAAAAAAAAAAAAAAAAAAAAAAAAAAAAAAAAAAAAAAAAAAAAAAAzUzR62B/A8BSmOhVF44SwKjmOELibRXAIIJM0p7UEcBm4y3h8O8FwHAFIGqI8fu/JBG3Y9WA9b+gTu/jFo3tv2AX+5tIAda/oBItgDmD379A1Gg4tE/lv9CpWBauhOq/wIVOKstDzr/A/TPDjk7SP8Cykp+o2vI/aLXZP1dG9j94VdakphfvP/hdJ8xLuu8/zBjYM5vk9T+kINiuO3j6P1BNB/4seP8/h5jVJPIhAEAMdOveFG//PwoQd7/Gufk/1syE477F8D+QuIbSal7KP8hPaAFdbta/HNMUxEO5678+4RFdlQHwv8rN53FoVvG/dHwqC3104b+wBQP+BJXRP4pncN4QUvA/CIYIH4hz9T9uHhof99/4P4wLTTpYL/k/4nhyuhdW7T8EW4KWOybdP2zid/IC5tg/iBsRN3RW1T84SdO46v/QP2AHugIY9tU/ALrxADjBdr/sa5CH2aHav/h3M3AkUue/xqyadyR+5r9sFE8M1kfXvxAl5ng7eb4/QHWw0EUayD9o9+PvFTTDP5BfEn4HwcA/6t+qJ+1G4T+8zL/zrnvnP5bwfWk3wOc/wE3XcoFT3D8AsAC2SrmQP5h7HY98UOO/FBYGswnI77887wUWLi30v5YyWMtbxvO/RPUj9QoB8r+cqqK/K372v+TuY055Qfa/HL8Eouu18L8sGEPhlETmv+wsqi9TT+a/VAqY/tPd7L/goUMRs/Ltv8DAc4T7t/G/AOcYFvQQ8r8ALEl/2SH4vwDwTeQ8m/a/zAyO4ypn8r8IFyOiy5zzvwhsrSS0ePS/oMkDDkAU878YbhI3CHPyv0SLqx/K+/O/",
          "dtype": "f8"
         },
         "yaxis": "y2"
        }
       ],
       "layout": {
        "annotations": [
         {
          "bgcolor": "rgba(25,25,25,0.7)",
          "bordercolor": "#FF66FE",
          "borderpad": 4,
          "borderwidth": 1,
          "font": {
           "color": "#FF66FE",
           "family": "Arial, sans-serif",
           "size": 10.5
          },
          "showarrow": false,
          "text": "prior close",
          "x": "2025-10-30T09:00:00-04:00",
          "xanchor": "left",
          "xref": "x",
          "y": 6890.59,
          "yanchor": "bottom",
          "yref": "y"
         },
         {
          "bgcolor": "rgba(25,25,25,0.7)",
          "bordercolor": "#4CAF50",
          "borderpad": 4,
          "borderwidth": 1,
          "font": {
           "color": "#4CAF50",
           "family": "Arial, sans-serif",
           "size": 10.5
          },
          "showarrow": false,
          "text": "prior high",
          "x": "2025-10-30T09:00:00-04:00",
          "xanchor": "left",
          "xref": "x",
          "y": 6920.34,
          "yanchor": "bottom",
          "yref": "y"
         },
         {
          "bgcolor": "rgba(25,25,25,0.7)",
          "bordercolor": "#F44336",
          "borderpad": 4,
          "borderwidth": 1,
          "font": {
           "color": "#F44336",
           "family": "Arial, sans-serif",
           "size": 10.5
          },
          "showarrow": false,
          "text": "prior low",
          "x": "2025-10-30T09:00:00-04:00",
          "xanchor": "left",
          "xref": "x",
          "y": 6851.91,
          "yanchor": "bottom",
          "yref": "y"
         },
         {
          "align": "center",
          "bgcolor": "rgba(25,25,25,0.8)",
          "bordercolor": "#555555",
          "borderpad": 6,
          "borderwidth": 1,
          "font": {
           "color": "#555555",
           "family": "Arial, sans-serif",
           "size": 11
          },
          "showarrow": false,
          "text": "Open",
          "textangle": 0,
          "x": "2025-10-30T14:30:00-04:00",
          "xanchor": "center",
          "xref": "x",
          "y": 6930.305,
          "yanchor": "bottom",
          "yref": "y"
         }
        ],
        "height": 800,
        "margin": {
         "b": 10,
         "l": 30,
         "r": 5,
         "t": 50
        },
        "paper_bgcolor": "rgb(25,25,25)",
        "plot_bgcolor": "rgb(25,25,25)",
        "shapes": [
         {
          "line": {
           "color": "gray",
           "dash": "dot",
           "width": 1
          },
          "type": "line",
          "x0": "2025-10-30T09:00:00-04:00",
          "x1": "2025-10-30T16:15:00-04:00",
          "xref": "x2",
          "y0": 0,
          "y1": 0,
          "yref": "y2"
         },
         {
          "line": {
           "color": "#FF66FE",
           "dash": "dot",
           "width": 1
          },
          "opacity": 0.45,
          "type": "line",
          "x0": "2025-10-30T09:00:00-04:00",
          "x1": "2025-10-30T16:00:00-04:00",
          "xref": "x",
          "y0": 6890.59,
          "y1": 6890.59,
          "yref": "y"
         },
         {
          "line": {
           "color": "#4CAF50",
           "dash": "dot",
           "width": 1
          },
          "opacity": 0.45,
          "type": "line",
          "x0": "2025-10-30T09:00:00-04:00",
          "x1": "2025-10-30T16:00:00-04:00",
          "xref": "x",
          "y0": 6920.34,
          "y1": 6920.34,
          "yref": "y"
         },
         {
          "line": {
           "color": "#F44336",
           "dash": "dot",
           "width": 1
          },
          "opacity": 0.45,
          "type": "line",
          "x0": "2025-10-30T09:00:00-04:00",
          "x1": "2025-10-30T16:00:00-04:00",
          "xref": "x",
          "y0": 6851.91,
          "y1": 6851.91,
          "yref": "y"
         },
         {
          "line": {
           "color": "#4CAF50",
           "dash": "solid",
           "width": 1
          },
          "opacity": 0.75,
          "type": "line",
          "x0": "2025-10-30T09:30:00-04:00",
          "x1": "2025-10-30T16:00:00-04:00",
          "xref": "x",
          "y0": 6860.5,
          "y1": 6860.5,
          "yref": "y"
         },
         {
          "line": {
           "color": "#4CAF50",
           "dash": "solid",
           "width": 1
          },
          "opacity": 0.75,
          "type": "line",
          "x0": "2025-10-30T09:30:00-04:00",
          "x1": "2025-10-30T16:00:00-04:00",
          "xref": "x",
          "y0": 6850.18,
          "y1": 6850.18,
          "yref": "y"
         },
         {
          "line": {
           "color": "#4CAF50",
           "dash": "solid",
           "width": 1
          },
          "opacity": 0,
          "type": "line",
          "x0": "2025-10-30T09:45:00-04:00",
          "x1": "2025-10-30T16:00:00-04:00",
          "xref": "x",
          "y0": 6860.5,
          "y1": 6860.5,
          "yref": "y"
         },
         {
          "line": {
           "color": "#4CAF50",
           "dash": "solid",
           "width": 1
          },
          "opacity": 0.45,
          "type": "line",
          "x0": "2025-10-30T09:45:00-04:00",
          "x1": "2025-10-30T16:00:00-04:00",
          "xref": "x",
          "y0": 6834.93,
          "y1": 6834.93,
          "yref": "y"
         },
         {
          "line": {
           "color": "#4CAF50",
           "dash": "dot",
           "width": 1
          },
          "opacity": 0.45,
          "type": "line",
          "x0": "2025-10-30T10:00:00-04:00",
          "x1": "2025-10-30T16:00:00-04:00",
          "xref": "x",
          "y0": 6879.11,
          "y1": 6879.11,
          "yref": "y"
         },
         {
          "line": {
           "color": "#4CAF50",
           "dash": "dot",
           "width": 1
          },
          "opacity": 0,
          "type": "line",
          "x0": "2025-10-30T10:00:00-04:00",
          "x1": "2025-10-30T16:00:00-04:00",
          "xref": "x",
          "y0": 6834.93,
          "y1": 6834.93,
          "yref": "y"
         },
         {
          "line": {
           "color": "#4CAF50",
           "dash": "dot",
           "width": 1
          },
          "opacity": 0,
          "type": "line",
          "x0": "2025-10-30T10:00:00-04:00",
          "x1": "2025-10-30T16:00:00-04:00",
          "xref": "x",
          "y0": 6834.93,
          "y1": 6834.93,
          "yref": "y"
         },
         {
          "line": {
           "color": "#555555",
           "dash": "dot",
           "width": 1
          },
          "opacity": 0.7,
          "type": "line",
          "x0": "2025-10-30T14:30:00-04:00",
          "x1": "2025-10-30T14:30:00-04:00",
          "xref": "x",
          "y0": 6815.7074999999995,
          "y1": 6930.305,
          "yref": "y"
         },
         {
          "line": {
           "color": "#555555",
           "dash": "dot",
           "width": 1
          },
          "opacity": 0.7,
          "type": "line",
          "x0": "2025-10-30T14:30:00-04:00",
          "x1": "2025-10-30T14:30:00-04:00",
          "xref": "x2",
          "y0": -10.416435427370379,
          "y1": 2.419890160867798,
          "yref": "y2"
         }
        ],
        "showlegend": true,
        "template": {
         "data": {
          "bar": [
           {
            "error_x": {
             "color": "#f2f5fa"
            },
            "error_y": {
             "color": "#f2f5fa"
            },
            "marker": {
             "line": {
              "color": "rgb(17,17,17)",
              "width": 0.5
             },
             "pattern": {
              "fillmode": "overlay",
              "size": 10,
              "solidity": 0.2
             }
            },
            "type": "bar"
           }
          ],
          "barpolar": [
           {
            "marker": {
             "line": {
              "color": "rgb(17,17,17)",
              "width": 0.5
             },
             "pattern": {
              "fillmode": "overlay",
              "size": 10,
              "solidity": 0.2
             }
            },
            "type": "barpolar"
           }
          ],
          "carpet": [
           {
            "aaxis": {
             "endlinecolor": "#A2B1C6",
             "gridcolor": "#506784",
             "linecolor": "#506784",
             "minorgridcolor": "#506784",
             "startlinecolor": "#A2B1C6"
            },
            "baxis": {
             "endlinecolor": "#A2B1C6",
             "gridcolor": "#506784",
             "linecolor": "#506784",
             "minorgridcolor": "#506784",
             "startlinecolor": "#A2B1C6"
            },
            "type": "carpet"
           }
          ],
          "choropleth": [
           {
            "colorbar": {
             "outlinewidth": 0,
             "ticks": ""
            },
            "type": "choropleth"
           }
          ],
          "contour": [
           {
            "colorbar": {
             "outlinewidth": 0,
             "ticks": ""
            },
            "colorscale": [
             [
              0,
              "#0d0887"
             ],
             [
              0.1111111111111111,
              "#46039f"
             ],
             [
              0.2222222222222222,
              "#7201a8"
             ],
             [
              0.3333333333333333,
              "#9c179e"
             ],
             [
              0.4444444444444444,
              "#bd3786"
             ],
             [
              0.5555555555555556,
              "#d8576b"
             ],
             [
              0.6666666666666666,
              "#ed7953"
             ],
             [
              0.7777777777777778,
              "#fb9f3a"
             ],
             [
              0.8888888888888888,
              "#fdca26"
             ],
             [
              1,
              "#f0f921"
             ]
            ],
            "type": "contour"
           }
          ],
          "contourcarpet": [
           {
            "colorbar": {
             "outlinewidth": 0,
             "ticks": ""
            },
            "type": "contourcarpet"
           }
          ],
          "heatmap": [
           {
            "colorbar": {
             "outlinewidth": 0,
             "ticks": ""
            },
            "colorscale": [
             [
              0,
              "#0d0887"
             ],
             [
              0.1111111111111111,
              "#46039f"
             ],
             [
              0.2222222222222222,
              "#7201a8"
             ],
             [
              0.3333333333333333,
              "#9c179e"
             ],
             [
              0.4444444444444444,
              "#bd3786"
             ],
             [
              0.5555555555555556,
              "#d8576b"
             ],
             [
              0.6666666666666666,
              "#ed7953"
             ],
             [
              0.7777777777777778,
              "#fb9f3a"
             ],
             [
              0.8888888888888888,
              "#fdca26"
             ],
             [
              1,
              "#f0f921"
             ]
            ],
            "type": "heatmap"
           }
          ],
          "histogram": [
           {
            "marker": {
             "pattern": {
              "fillmode": "overlay",
              "size": 10,
              "solidity": 0.2
             }
            },
            "type": "histogram"
           }
          ],
          "histogram2d": [
           {
            "colorbar": {
             "outlinewidth": 0,
             "ticks": ""
            },
            "colorscale": [
             [
              0,
              "#0d0887"
             ],
             [
              0.1111111111111111,
              "#46039f"
             ],
             [
              0.2222222222222222,
              "#7201a8"
             ],
             [
              0.3333333333333333,
              "#9c179e"
             ],
             [
              0.4444444444444444,
              "#bd3786"
             ],
             [
              0.5555555555555556,
              "#d8576b"
             ],
             [
              0.6666666666666666,
              "#ed7953"
             ],
             [
              0.7777777777777778,
              "#fb9f3a"
             ],
             [
              0.8888888888888888,
              "#fdca26"
             ],
             [
              1,
              "#f0f921"
             ]
            ],
            "type": "histogram2d"
           }
          ],
          "histogram2dcontour": [
           {
            "colorbar": {
             "outlinewidth": 0,
             "ticks": ""
            },
            "colorscale": [
             [
              0,
              "#0d0887"
             ],
             [
              0.1111111111111111,
              "#46039f"
             ],
             [
              0.2222222222222222,
              "#7201a8"
             ],
             [
              0.3333333333333333,
              "#9c179e"
             ],
             [
              0.4444444444444444,
              "#bd3786"
             ],
             [
              0.5555555555555556,
              "#d8576b"
             ],
             [
              0.6666666666666666,
              "#ed7953"
             ],
             [
              0.7777777777777778,
              "#fb9f3a"
             ],
             [
              0.8888888888888888,
              "#fdca26"
             ],
             [
              1,
              "#f0f921"
             ]
            ],
            "type": "histogram2dcontour"
           }
          ],
          "mesh3d": [
           {
            "colorbar": {
             "outlinewidth": 0,
             "ticks": ""
            },
            "type": "mesh3d"
           }
          ],
          "parcoords": [
           {
            "line": {
             "colorbar": {
              "outlinewidth": 0,
              "ticks": ""
             }
            },
            "type": "parcoords"
           }
          ],
          "pie": [
           {
            "automargin": true,
            "type": "pie"
           }
          ],
          "scatter": [
           {
            "marker": {
             "line": {
              "color": "#283442"
             }
            },
            "type": "scatter"
           }
          ],
          "scatter3d": [
           {
            "line": {
             "colorbar": {
              "outlinewidth": 0,
              "ticks": ""
             }
            },
            "marker": {
             "colorbar": {
              "outlinewidth": 0,
              "ticks": ""
             }
            },
            "type": "scatter3d"
           }
          ],
          "scattercarpet": [
           {
            "marker": {
             "colorbar": {
              "outlinewidth": 0,
              "ticks": ""
             }
            },
            "type": "scattercarpet"
           }
          ],
          "scattergeo": [
           {
            "marker": {
             "colorbar": {
              "outlinewidth": 0,
              "ticks": ""
             }
            },
            "type": "scattergeo"
           }
          ],
          "scattergl": [
           {
            "marker": {
             "line": {
              "color": "#283442"
             }
            },
            "type": "scattergl"
           }
          ],
          "scattermap": [
           {
            "marker": {
             "colorbar": {
              "outlinewidth": 0,
              "ticks": ""
             }
            },
            "type": "scattermap"
           }
          ],
          "scattermapbox": [
           {
            "marker": {
             "colorbar": {
              "outlinewidth": 0,
              "ticks": ""
             }
            },
            "type": "scattermapbox"
           }
          ],
          "scatterpolar": [
           {
            "marker": {
             "colorbar": {
              "outlinewidth": 0,
              "ticks": ""
             }
            },
            "type": "scatterpolar"
           }
          ],
          "scatterpolargl": [
           {
            "marker": {
             "colorbar": {
              "outlinewidth": 0,
              "ticks": ""
             }
            },
            "type": "scatterpolargl"
           }
          ],
          "scatterternary": [
           {
            "marker": {
             "colorbar": {
              "outlinewidth": 0,
              "ticks": ""
             }
            },
            "type": "scatterternary"
           }
          ],
          "surface": [
           {
            "colorbar": {
             "outlinewidth": 0,
             "ticks": ""
            },
            "colorscale": [
             [
              0,
              "#0d0887"
             ],
             [
              0.1111111111111111,
              "#46039f"
             ],
             [
              0.2222222222222222,
              "#7201a8"
             ],
             [
              0.3333333333333333,
              "#9c179e"
             ],
             [
              0.4444444444444444,
              "#bd3786"
             ],
             [
              0.5555555555555556,
              "#d8576b"
             ],
             [
              0.6666666666666666,
              "#ed7953"
             ],
             [
              0.7777777777777778,
              "#fb9f3a"
             ],
             [
              0.8888888888888888,
              "#fdca26"
             ],
             [
              1,
              "#f0f921"
             ]
            ],
            "type": "surface"
           }
          ],
          "table": [
           {
            "cells": {
             "fill": {
              "color": "#506784"
             },
             "line": {
              "color": "rgb(17,17,17)"
             }
            },
            "header": {
             "fill": {
              "color": "#2a3f5f"
             },
             "line": {
              "color": "rgb(17,17,17)"
             }
            },
            "type": "table"
           }
          ]
         },
         "layout": {
          "annotationdefaults": {
           "arrowcolor": "#f2f5fa",
           "arrowhead": 0,
           "arrowwidth": 1
          },
          "autotypenumbers": "strict",
          "coloraxis": {
           "colorbar": {
            "outlinewidth": 0,
            "ticks": ""
           }
          },
          "colorscale": {
           "diverging": [
            [
             0,
             "#8e0152"
            ],
            [
             0.1,
             "#c51b7d"
            ],
            [
             0.2,
             "#de77ae"
            ],
            [
             0.3,
             "#f1b6da"
            ],
            [
             0.4,
             "#fde0ef"
            ],
            [
             0.5,
             "#f7f7f7"
            ],
            [
             0.6,
             "#e6f5d0"
            ],
            [
             0.7,
             "#b8e186"
            ],
            [
             0.8,
             "#7fbc41"
            ],
            [
             0.9,
             "#4d9221"
            ],
            [
             1,
             "#276419"
            ]
           ],
           "sequential": [
            [
             0,
             "#0d0887"
            ],
            [
             0.1111111111111111,
             "#46039f"
            ],
            [
             0.2222222222222222,
             "#7201a8"
            ],
            [
             0.3333333333333333,
             "#9c179e"
            ],
            [
             0.4444444444444444,
             "#bd3786"
            ],
            [
             0.5555555555555556,
             "#d8576b"
            ],
            [
             0.6666666666666666,
             "#ed7953"
            ],
            [
             0.7777777777777778,
             "#fb9f3a"
            ],
            [
             0.8888888888888888,
             "#fdca26"
            ],
            [
             1,
             "#f0f921"
            ]
           ],
           "sequentialminus": [
            [
             0,
             "#0d0887"
            ],
            [
             0.1111111111111111,
             "#46039f"
            ],
            [
             0.2222222222222222,
             "#7201a8"
            ],
            [
             0.3333333333333333,
             "#9c179e"
            ],
            [
             0.4444444444444444,
             "#bd3786"
            ],
            [
             0.5555555555555556,
             "#d8576b"
            ],
            [
             0.6666666666666666,
             "#ed7953"
            ],
            [
             0.7777777777777778,
             "#fb9f3a"
            ],
            [
             0.8888888888888888,
             "#fdca26"
            ],
            [
             1,
             "#f0f921"
            ]
           ]
          },
          "colorway": [
           "#636efa",
           "#EF553B",
           "#00cc96",
           "#ab63fa",
           "#FFA15A",
           "#19d3f3",
           "#FF6692",
           "#B6E880",
           "#FF97FF",
           "#FECB52"
          ],
          "font": {
           "color": "#f2f5fa"
          },
          "geo": {
           "bgcolor": "rgb(17,17,17)",
           "lakecolor": "rgb(17,17,17)",
           "landcolor": "rgb(17,17,17)",
           "showlakes": true,
           "showland": true,
           "subunitcolor": "#506784"
          },
          "hoverlabel": {
           "align": "left"
          },
          "hovermode": "closest",
          "mapbox": {
           "style": "dark"
          },
          "paper_bgcolor": "rgb(17,17,17)",
          "plot_bgcolor": "rgb(17,17,17)",
          "polar": {
           "angularaxis": {
            "gridcolor": "#506784",
            "linecolor": "#506784",
            "ticks": ""
           },
           "bgcolor": "rgb(17,17,17)",
           "radialaxis": {
            "gridcolor": "#506784",
            "linecolor": "#506784",
            "ticks": ""
           }
          },
          "scene": {
           "xaxis": {
            "backgroundcolor": "rgb(17,17,17)",
            "gridcolor": "#506784",
            "gridwidth": 2,
            "linecolor": "#506784",
            "showbackground": true,
            "ticks": "",
            "zerolinecolor": "#C8D4E3"
           },
           "yaxis": {
            "backgroundcolor": "rgb(17,17,17)",
            "gridcolor": "#506784",
            "gridwidth": 2,
            "linecolor": "#506784",
            "showbackground": true,
            "ticks": "",
            "zerolinecolor": "#C8D4E3"
           },
           "zaxis": {
            "backgroundcolor": "rgb(17,17,17)",
            "gridcolor": "#506784",
            "gridwidth": 2,
            "linecolor": "#506784",
            "showbackground": true,
            "ticks": "",
            "zerolinecolor": "#C8D4E3"
           }
          },
          "shapedefaults": {
           "line": {
            "color": "#f2f5fa"
           }
          },
          "sliderdefaults": {
           "bgcolor": "#C8D4E3",
           "bordercolor": "rgb(17,17,17)",
           "borderwidth": 1,
           "tickwidth": 0
          },
          "ternary": {
           "aaxis": {
            "gridcolor": "#506784",
            "linecolor": "#506784",
            "ticks": ""
           },
           "baxis": {
            "gridcolor": "#506784",
            "linecolor": "#506784",
            "ticks": ""
           },
           "bgcolor": "rgb(17,17,17)",
           "caxis": {
            "gridcolor": "#506784",
            "linecolor": "#506784",
            "ticks": ""
           }
          },
          "title": {
           "x": 0.05
          },
          "updatemenudefaults": {
           "bgcolor": "#506784",
           "borderwidth": 0
          },
          "xaxis": {
           "automargin": true,
           "gridcolor": "#283442",
           "linecolor": "#506784",
           "ticks": "",
           "title": {
            "standoff": 15
           },
           "zerolinecolor": "#283442",
           "zerolinewidth": 2
          },
          "yaxis": {
           "automargin": true,
           "gridcolor": "#283442",
           "linecolor": "#506784",
           "ticks": "",
           "title": {
            "standoff": 15
           },
           "zerolinecolor": "#283442",
           "zerolinewidth": 2
          }
         }
        },
        "xaxis": {
         "anchor": "y",
         "automargin": true,
         "domain": [
          0,
          1
         ],
         "dtick": 1800000,
         "gridcolor": "rgba(128,128,128,0.1)",
         "matches": "x2",
         "range": [
          "2025-10-30T09:00:00-04:00",
          "2025-10-30T16:15:00-04:00"
         ],
         "rangeslider": {
          "visible": false
         },
         "showticklabels": false,
         "zerolinecolor": "rgba(128,128,128,0.1)"
        },
        "xaxis2": {
         "anchor": "y2",
         "automargin": true,
         "domain": [
          0,
          1
         ],
         "dtick": 1800000,
         "gridcolor": "rgba(128,128,128,0.1)",
         "range": [
          "2025-10-30T09:00:00-04:00",
          "2025-10-30T16:15:00-04:00"
         ],
         "title": {
          "text": "Time"
         },
         "zerolinecolor": "rgba(128,128,128,0.1)"
        },
        "yaxis": {
         "anchor": "x",
         "automargin": true,
         "domain": [
          0.3533333333333333,
          0.9999999999999999
         ],
         "dtick": 10,
         "gridcolor": "rgba(128,128,128,0.1)",
         "minor": {
          "dtick": 5,
          "showgrid": false,
          "tickcolor": "rgba(150,150,150,0.5)",
          "ticklen": 2,
          "tickmode": "linear",
          "ticks": "outside",
          "tickwidth": 1
         },
         "range": [
          6815.7074999999995,
          6930.305
         ],
         "showgrid": true,
         "showticklabels": true,
         "tickfont": {
          "size": 11
         },
         "ticklabelposition": "outside",
         "ticklen": 4,
         "ticks": "outside",
         "ticksuffix": " ",
         "tickwidth": 1,
         "title": {
          "text": "Price"
         },
         "zeroline": false,
         "zerolinecolor": "rgba(128,128,128,0.1)"
        },
        "yaxis2": {
         "anchor": "x2",
         "automargin": true,
         "domain": [
          0,
          0.3233333333333333
         ],
         "gridcolor": "rgba(128,128,128,0.1)",
         "range": [
          -10.416435427370379,
          2.419890160867798
         ],
         "showgrid": true,
         "showticklabels": true,
         "side": "left",
         "tickfont": {
          "size": 11
         },
         "ticklabelposition": "outside",
         "ticklen": 4,
         "ticks": "outside",
         "ticksuffix": " ",
         "tickwidth": 1,
         "title": {
          "text": "MACD"
         },
         "zeroline": false,
         "zerolinecolor": "rgba(128,128,128,0.1)"
        }
       }
      }
     },
     "metadata": {},
     "output_type": "display_data"
    }
   ],
   "source": [
    "candles_5m: pl.DataFrame = streamer.download(\n",
    "    symbol=candle_symbol.replace(\"m\", \"5m\"),\n",
    "    start=start,\n",
    "    stop=stop,\n",
    "    debug_mode=True,\n",
    ")\n",
    "\n",
    "_initial_len_5m = candles_5m.height\n",
    "candles_5m = candles_5m.filter(\n",
    "    (pl.col(\"open\") != 0)\n",
    "    & (pl.col(\"high\") != 0)\n",
    "    & (pl.col(\"low\") != 0)\n",
    "    & (pl.col(\"close\") != 0)\n",
    ")\n",
    "_removed_5m = _initial_len_5m - candles_5m.height\n",
    "print(\n",
    "    f\"Removed {_removed_5m} zero-price 5m rows out of {_initial_len_5m} total ({(_removed_5m / _initial_len_5m * 100) if _initial_len_5m else 0:.2f}%).\"\n",
    ")\n",
    "\n",
    "df_macd_5m = macd(\n",
    "    candles_5m,\n",
    "    prior_close=prior_day.close,\n",
    "    fast_length=12,\n",
    "    slow_length=26,\n",
    "    macd_length=9,\n",
    ")\n",
    "\n",
    "plot_macd_with_hull(\n",
    "    df_macd_5m,\n",
    "    pad_value=prior_day.close,\n",
    "    start_time=start,\n",
    "    end_time=stop + timedelta(minutes=15),\n",
    "    horizontal_lines=levels,\n",
    "    vertical_lines=executions,\n",
    ")"
   ]
  },
  {
   "cell_type": "code",
   "execution_count": null,
   "metadata": {},
   "outputs": [],
   "source": []
  },
  {
   "cell_type": "markdown",
   "metadata": {},
   "source": [
    "### Redis Candle Feed Monitor (1m and 5m)\n",
    "\n",
    "Manual workflow to inspect live CandleEvent data at 1m (\"m\") and 5m intervals:\n",
    "\n",
    "1. Run the Subscription Setup cell (next) once to ensure Redis subscriptions are active.\n",
    "2. Run the Manual Poll cell any time you want to pull newly arrived events off the queues.\n",
    "3. (Optional) Re-run the DataFrame Summary cell to view/aggregate everything collected so far.\n",
    "\n",
    "No background loop or timeout is used; you stay in control of when data is fetched."
   ]
  },
  {
   "cell_type": "code",
   "execution_count": 16,
   "metadata": {},
   "outputs": [],
   "source": [
    "# import datetime, polars as pl\n",
    "# from tastytrade.providers.subscriptions import RedisSubscription\n",
    "# from tastytrade.messaging.models.events import CandleEvent\n",
    "\n",
    "# SYMBOL = candle_symbol if \"candle_symbol\" in globals() else \"SPX{=1m}\"\n",
    "# base_ticker = SYMBOL.split(\"{=\")[0]\n",
    "# intervals = [\"m\", \"5m\"]\n",
    "# patterns = [f\"market:CandleEvent:{base_ticker}{{={iv}}}\" for iv in intervals]\n",
    "# print(f\"Ensuring subscriptions active for: {patterns}\")\n",
    "\n",
    "# # Reuse existing subscription if possible\n",
    "# redis_sub: RedisSubscription\n",
    "# if \"subscription\" in globals() and isinstance(subscription, RedisSubscription):\n",
    "#     redis_sub = subscription\n",
    "#     if not getattr(redis_sub, \"pubsub\", None):\n",
    "#         await redis_sub.connect()\n",
    "# else:\n",
    "#     redis_sub = RedisSubscription(config)\n",
    "#     await redis_sub.connect()\n",
    "\n",
    "# # Subscribe (idempotent)\n",
    "# for p in patterns:\n",
    "#     await redis_sub.subscribe(p)\n",
    "\n",
    "# # Prepare/restore collection list\n",
    "# if \"collected\" not in globals():\n",
    "#     collected: list[CandleEvent] = []  # type: ignore\n",
    "\n",
    "# print(\"Subscription setup complete. Use the next cell to manually poll for new events.\")"
   ]
  },
  {
   "cell_type": "code",
   "execution_count": 17,
   "metadata": {},
   "outputs": [],
   "source": [
    "# # Manual Poll: run this cell whenever you want to retrieve any newly queued CandleEvents\n",
    "# from tastytrade.messaging.models.events import CandleEvent\n",
    "\n",
    "# base_ticker = SYMBOL.split(\"{=\")[0]\n",
    "# new_events = 0\n",
    "# for iv in intervals:\n",
    "#     queue_key = f\"CandleEvent:{base_ticker}{{={iv}}}\"\n",
    "#     queue = redis_sub.queue.get(queue_key)\n",
    "#     if queue is None:\n",
    "#         continue\n",
    "#     while True:\n",
    "#         try:\n",
    "#             evt: CandleEvent = queue.get_nowait()\n",
    "#             collected.append(evt)\n",
    "#             new_events += 1\n",
    "#             print(\n",
    "#                 f\"{evt.eventSymbol} O:{evt.open} H:{evt.high} L:{evt.low} C:{evt.close} @ {evt.tradeDateUTC} {evt.tradeTimeUTC}\"\n",
    "#             )\n",
    "#         except Exception:\n",
    "#             break\n",
    "# print(f\"Added {new_events} new events. Total collected: {len(collected)}\")"
   ]
  },
  {
   "cell_type": "code",
   "execution_count": 18,
   "metadata": {},
   "outputs": [],
   "source": [
    "# # Build a Polars DataFrame from collected CandleEvent objects\n",
    "# if \"collected\" in globals() and collected:\n",
    "#     df = pl.DataFrame(\n",
    "#         [\n",
    "#             {\n",
    "#                 \"symbol\": e.eventSymbol,\n",
    "#                 \"interval\": e.eventSymbol.split(\"{=\")[1].rstrip(\"}\"),\n",
    "#                 \"time\": f\"{e.tradeDateUTC} {e.tradeTimeUTC}\",\n",
    "#                 \"open\": e.open,\n",
    "#                 \"high\": e.high,\n",
    "#                 \"low\": e.low,\n",
    "#                 \"close\": e.close,\n",
    "#                 \"volume\": getattr(e, \"volume\", None),\n",
    "#                 \"sequence\": getattr(e, \"sequence\", None),\n",
    "#             }\n",
    "#             for e in collected\n",
    "#         ]\n",
    "#     )\n",
    "#     print(df.tail())\n",
    "\n",
    "#     if df.select(pl.col(\"interval\").n_unique()).item() > 1:\n",
    "#         agg = (\n",
    "#             df.group_by(\"interval\")\n",
    "#             .agg(\n",
    "#                 [\n",
    "#                     pl.col(\"open\").last().alias(\"last_open\"),\n",
    "#                     pl.col(\"high\").max().alias(\"session_high\"),\n",
    "#                     pl.col(\"low\").min().alias(\"session_low\"),\n",
    "#                     pl.col(\"close\").last().alias(\"last_close\"),\n",
    "#                     pl.col(\"time\").last().alias(\"last_time\"),\n",
    "#                 ]\n",
    "#             )\n",
    "#             .sort(\"interval\")\n",
    "#         )\n",
    "#         print(\"\\nSummary by interval:\")\n",
    "#         print(agg)\n",
    "# else:\n",
    "#     print(\"No events collected yet. Run the manual poll cell above first.\")"
   ]
  }
 ],
 "metadata": {
  "kernelspec": {
   "display_name": "tastytrade (3.11.14)",
   "language": "python",
   "name": "python3"
  },
  "language_info": {
   "codemirror_mode": {
    "name": "ipython",
    "version": 3
   },
   "file_extension": ".py",
   "mimetype": "text/x-python",
   "name": "python",
   "nbconvert_exporter": "python",
   "pygments_lexer": "ipython3",
   "version": "3.11.14"
  }
 },
 "nbformat": 4,
 "nbformat_minor": 2
}
