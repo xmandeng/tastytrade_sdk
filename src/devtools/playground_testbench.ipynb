{
 "cells": [
  {
   "cell_type": "code",
   "execution_count": 1,
   "metadata": {},
   "outputs": [
    {
     "name": "stderr",
     "output_type": "stream",
     "text": [
      "2025-08-20 10:57:33 - INFO:root:62:Logging initialized - writing to ../logs/dev_tastytrade_20250820.log\n"
     ]
    }
   ],
   "source": [
    "import asyncio\n",
    "import logging\n",
    "from datetime import datetime\n",
    "\n",
    "import influxdb_client\n",
    "import pandas as pd\n",
    "from IPython.display import Markdown, display\n",
    "\n",
    "from tastytrade.common.logging import setup_logging\n",
    "from tastytrade.config import RedisConfigManager\n",
    "from tastytrade.config.enumerations import Channels\n",
    "from tastytrade.connections import Credentials, InfluxCredentials\n",
    "from tastytrade.connections.sockets import DXLinkManager\n",
    "from tastytrade.connections.subscription import RedisSubscriptionStore\n",
    "from tastytrade.messaging.processors import (\n",
    "    RedisEventProcessor,\n",
    "    TelegrafHTTPEventProcessor,\n",
    ")\n",
    "from tastytrade.utils.time_series import forward_fill\n",
    "\n",
    "# Show all rows in pandas DataFrames\n",
    "pd.set_option(\"display.max_rows\", 100)\n",
    "pd.set_option(\"display.max_columns\", None)\n",
    "pd.set_option(\"display.width\", None)\n",
    "pd.set_option(\"display.max_colwidth\", None)\n",
    "\n",
    "logging.getLogger().handlers.clear()\n",
    "\n",
    "TEST = True\n",
    "ENV = \"Live\"\n",
    "DURATION = 15\n",
    "\n",
    "EDT = 5\n",
    "\n",
    "start_time = datetime(2025, 1, 1)\n",
    "\n",
    "setup_logging(\n",
    "    level=logging.INFO,\n",
    "    log_dir=\"../logs\",\n",
    "    filename_prefix=f\"{'dev' if TEST else 'prod'}_tastytrade\",\n",
    "    console=True,\n",
    "    file=True,\n",
    ")\n",
    "\n",
    "loop = asyncio.get_event_loop()\n",
    "loop.set_debug(True)\n",
    "logging.getLogger(\"asyncio\").setLevel(logging.DEBUG)"
   ]
  },
  {
   "cell_type": "markdown",
   "metadata": {},
   "source": [
    "# Service Connections"
   ]
  },
  {
   "cell_type": "code",
   "execution_count": null,
   "metadata": {},
   "outputs": [
    {
     "name": "stderr",
     "output_type": "stream",
     "text": [
      "2025-08-20 10:57:35 - INFO:tastytrade.config.manager:174:Initialized 19 variables from .env file in Redis\n",
      "2025-08-20 10:57:35 - DEBUG:asyncio:848:Get address info api.tastyworks.com:443, type=<SocketKind.SOCK_STREAM: 1>, flags=<AddressInfo.AI_ADDRCONFIG: 32>\n",
      "2025-08-20 10:57:35 - DEBUG:asyncio:858:Getting address info api.tastyworks.com:443, type=<SocketKind.SOCK_STREAM: 1>, flags=<AddressInfo.AI_ADDRCONFIG: 32> took 60.658ms: [(<AddressFamily.AF_INET: 2>, <SocketKind.SOCK_STREAM: 1>, 6, '', ('170.76.244.144', 443))]\n",
      "2025-08-20 10:57:35 - DEBUG:asyncio:535:<asyncio.sslproto.SSLProtocol object at 0x751b195cbcd0> starts SSL handshake\n",
      "2025-08-20 10:57:35 - DEBUG:asyncio:594:<asyncio.sslproto.SSLProtocol object at 0x751b195cbcd0>: SSL handshake took 41.8 ms\n",
      "2025-08-20 10:57:35 - DEBUG:asyncio:1121:<asyncio.TransportSocket fd=81, family=2, type=1, proto=6, laddr=('172.18.0.7', 37190), raddr=('170.76.244.144', 443)> connected to None:None: (<asyncio.sslproto._SSLProtocolTransport object at 0x751ae2f6cad0>, <aiohttp.client_proto.ResponseHandler object at 0x751ae2f62f90>)\n",
      "2025-08-20 10:57:35 - INFO:tastytrade.connections.requests:148:Session created successfully\n",
      "2025-08-20 10:57:35 - DEBUG:asyncio:848:Get address info tasty-openapi-ws.dxfeed.com:443, type=<SocketKind.SOCK_STREAM: 1>\n",
      "2025-08-20 10:57:35 - DEBUG:asyncio:858:Getting address info tasty-openapi-ws.dxfeed.com:443, type=<SocketKind.SOCK_STREAM: 1> took 53.165ms: [(<AddressFamily.AF_INET: 2>, <SocketKind.SOCK_STREAM: 1>, 6, '', ('108.139.29.84', 443)), (<AddressFamily.AF_INET: 2>, <SocketKind.SOCK_STREAM: 1>, 6, '', ('108.139.29.41', 443)), (<AddressFamily.AF_INET: 2>, <SocketKind.SOCK_STREAM: 1>, 6, '', ('108.139.29.99', 443)), (<AddressFamily.AF_INET: 2>, <SocketKind.SOCK_STREAM: 1>, 6, '', ('108.139.29.64', 443))]\n",
      "2025-08-20 10:57:36 - DEBUG:asyncio:535:<asyncio.sslproto.SSLProtocol object at 0x751ae3186090> starts SSL handshake\n",
      "2025-08-20 10:57:36 - DEBUG:asyncio:594:<asyncio.sslproto.SSLProtocol object at 0x751ae3186090>: SSL handshake took 25.1 ms\n",
      "2025-08-20 10:57:36 - DEBUG:asyncio:1121:<asyncio.TransportSocket fd=83, family=2, type=1, proto=6, laddr=('172.18.0.7', 49580), raddr=('108.139.29.84', 443)> connected to tasty-openapi-ws.dxfeed.com:443: (<asyncio.sslproto._SSLProtocolTransport object at 0x751ae2ff4dd0>, <websockets.asyncio.client.ClientConnection object at 0x751ae2f44d10>)\n",
      "2025-08-20 10:57:36 - DEBUG:asyncio:848:Get address info redis:6379, type=<SocketKind.SOCK_STREAM: 1>\n",
      "2025-08-20 10:57:36 - DEBUG:asyncio:858:Getting address info redis:6379, type=<SocketKind.SOCK_STREAM: 1> took 0.380ms: [(<AddressFamily.AF_INET: 2>, <SocketKind.SOCK_STREAM: 1>, 6, '', ('172.18.0.2', 6379))]\n",
      "2025-08-20 10:57:36 - DEBUG:asyncio:1121:<asyncio.TransportSocket fd=84, family=2, type=1, proto=6, laddr=('172.18.0.7', 57584), raddr=('172.18.0.2', 6379)> connected to redis:6379: (<_SelectorSocketTransport fd=84 read=polling write=<idle, bufsize=0>>, <asyncio.streams.StreamReaderProtocol object at 0x751ae2fdf8d0>)\n",
      "2025-08-20 10:57:36 - INFO:tastytrade.connections.subscription:118:Redis ping response: True\n",
      "2025-08-20 10:57:36 - INFO:tastytrade.connections.subscription:122:Redis version: 7.4.5\n",
      "2025-08-20 10:57:36 - INFO:tastytrade.connections.subscription:123:Connected clients: 3\n",
      "2025-08-20 10:57:36 - INFO:tastytrade.messaging.handlers:78:Started Channels.Control listener on channel 0\n",
      "2025-08-20 10:57:36 - INFO:tastytrade.messaging.handlers:78:Started Channels.Quote listener on channel 7\n",
      "2025-08-20 10:57:36 - INFO:tastytrade.messaging.handlers:78:Started Channels.Trade listener on channel 5\n",
      "2025-08-20 10:57:36 - INFO:tastytrade.messaging.handlers:78:Started Channels.Greeks listener on channel 11\n",
      "2025-08-20 10:57:36 - INFO:tastytrade.messaging.handlers:78:Started Channels.Profile listener on channel 1\n",
      "2025-08-20 10:57:36 - INFO:tastytrade.messaging.handlers:78:Started Channels.Summary listener on channel 3\n",
      "2025-08-20 10:57:36 - INFO:tastytrade.messaging.handlers:78:Started Channels.Candle listener on channel 9\n"
     ]
    },
    {
     "name": "stderr",
     "output_type": "stream",
     "text": [
      "2025-08-20 10:57:36 - INFO:tastytrade.messaging.handlers:225:SETUP\n",
      "2025-08-20 10:57:36 - INFO:tastytrade.messaging.handlers:228:AUTH_STATE:UNAUTHORIZED\n",
      "2025-08-20 10:57:36 - INFO:tastytrade.messaging.handlers:228:AUTH_STATE:AUTHORIZED\n",
      "2025-08-20 10:57:36 - INFO:tastytrade.messaging.handlers:231:CHANNEL_OPENED:1\n",
      "2025-08-20 10:57:36 - INFO:tastytrade.messaging.handlers:231:CHANNEL_OPENED:3\n",
      "2025-08-20 10:57:36 - INFO:tastytrade.messaging.handlers:231:CHANNEL_OPENED:5\n",
      "2025-08-20 10:57:36 - INFO:tastytrade.messaging.handlers:231:CHANNEL_OPENED:7\n",
      "2025-08-20 10:57:36 - INFO:tastytrade.messaging.handlers:231:CHANNEL_OPENED:9\n",
      "2025-08-20 10:57:36 - INFO:tastytrade.messaging.handlers:231:CHANNEL_OPENED:11\n",
      "2025-08-20 10:57:36 - INFO:tastytrade.messaging.handlers:231:CHANNEL_OPENED:99\n",
      "2025-08-20 10:57:36 - INFO:tastytrade.messaging.handlers:236:FEED_CONFIG:5:COMPACT\n",
      "2025-08-20 10:57:36 - INFO:tastytrade.messaging.handlers:236:FEED_CONFIG:7:COMPACT\n",
      "2025-08-20 10:57:36 - INFO:tastytrade.messaging.handlers:236:FEED_CONFIG:11:COMPACT\n",
      "2025-08-20 10:57:36 - INFO:tastytrade.messaging.handlers:236:FEED_CONFIG:1:COMPACT\n",
      "2025-08-20 10:57:36 - INFO:tastytrade.messaging.handlers:236:FEED_CONFIG:3:COMPACT\n",
      "2025-08-20 10:57:36 - INFO:tastytrade.messaging.handlers:236:FEED_CONFIG:9:COMPACT\n",
      "2025-08-20 10:57:50 - DEBUG:asyncio:1022:<_SelectorSocketTransport fd=81 read=polling write=<idle, bufsize=0>> received EOF\n",
      "2025-08-20 10:57:50 - DEBUG:asyncio:461:<asyncio.sslproto.SSLProtocol object at 0x751b195cbcd0> received EOF\n"
     ]
    }
   ],
   "source": [
    "config = RedisConfigManager(env_file=\"/workspace/.env\")\n",
    "config.initialize(force=True)\n",
    "\n",
    "credentials = Credentials(config=config, env=\"Live\")\n",
    "\n",
    "dxlink = DXLinkManager(subscription_store=RedisSubscriptionStore())\n",
    "await dxlink.open(credentials=credentials)\n",
    "\n",
    "influx_user = InfluxCredentials(config=config)\n",
    "influxdb = influxdb_client.InfluxDBClient(\n",
    "    url=influx_user.url, token=influx_user.token, org=influx_user.org\n",
    ")\n",
    "\n",
    "# Safely attach processors only if the router is initialized\n",
    "router = dxlink.router\n",
    "if router is None:\n",
    "    raise RuntimeError(\"DXLink router not initialized after open()\")\n",
    "handlers_dict = getattr(router, \"handler\", None)\n",
    "if handlers_dict is None:\n",
    "    raise RuntimeError(\"DXLink router.handler mapping not initialized\")\n",
    "for h in handlers_dict.values():\n",
    "    h.add_processor(TelegrafHTTPEventProcessor())\n",
    "    h.add_processor(RedisEventProcessor())"
   ]
  },
  {
   "cell_type": "markdown",
   "metadata": {},
   "source": [
    "# Market Data Subscriptions"
   ]
  },
  {
   "cell_type": "code",
   "execution_count": null,
   "metadata": {},
   "outputs": [],
   "source": [
    "start_time = datetime(2025, 8, 16)\n",
    "\n",
    "symbols = [\"BTC/USD:CXTALP\", \"NVDA\", \"AAPL\", \"QQQ\", \"SPY\", \"SPX\"]  # , \"/ESH25:XCME\"]\n",
    "# symbols = [\"BTC/USD:CXTALP\", \"NVDA\",]\n",
    "# symbols = [\"AAPL\", \"QQQ\"]  #\n",
    "# symbols = [\"SPY\", \"SPX\"]  #\n",
    "intervals = [\"1d\", \"1h\", \"30m\", \"15m\", \"5m\", \"m\"]\n",
    "\n",
    "# ticker subscriptions\n",
    "await dxlink.subscribe(symbols)\n",
    "\n",
    "# candle subscriptions\n",
    "for symbol in symbols:\n",
    "    for interval in intervals:\n",
    "        coroutine = dxlink.subscribe_to_candles(\n",
    "            symbol=symbol,\n",
    "            interval=interval,\n",
    "            from_time=start_time,\n",
    "        )\n",
    "        await asyncio.wait_for(coroutine, timeout=10)"
   ]
  },
  {
   "cell_type": "code",
   "execution_count": null,
   "metadata": {},
   "outputs": [],
   "source": [
    "# forward fill\n",
    "for symbol in symbols:\n",
    "    for interval in intervals:\n",
    "        event_symbol = f\"{symbol}{{={interval}}}\"\n",
    "        logging.debug(\"Forward-filling %s\", event_symbol)\n",
    "        forward_fill(symbol=event_symbol, lookback_days=5)"
   ]
  },
  {
   "cell_type": "markdown",
   "metadata": {},
   "source": [
    "# Check | Market Data feeds"
   ]
  },
  {
   "cell_type": "code",
   "execution_count": null,
   "metadata": {},
   "outputs": [],
   "source": [
    "symbol = \"SPX{=m}\"\n",
    "symbol = \"BTC/USD:CXTALP{=5m}\"\n",
    "# symbol = \"/ESH25:XCME{=m}\"\n",
    "\n",
    "display(Markdown(f\"**Candle Feed:** {symbol}\"))\n",
    "router = dxlink.router\n",
    "if router is None or getattr(router, \"handler\", None) is None:\n",
    "    raise RuntimeError(\"Router or handler map not initialized\")\n",
    "handlers_dict = router.handler\n",
    "candle_handler = handlers_dict.get(Channels.Candle)\n",
    "if candle_handler is None:\n",
    "    raise KeyError(\"Candle channel handler not available\")\n",
    "feed_proc = candle_handler.processors.get(\"feed\")\n",
    "if feed_proc is None:\n",
    "    raise KeyError(\"'feed' processor missing on Candle handler\")\n",
    "frames = getattr(feed_proc, \"frames\", {})\n",
    "if symbol not in frames:\n",
    "    raise KeyError(f\"No frames for symbol {symbol}\")\n",
    "(frames[f\"{symbol}\"].tail(5).sort(by=\"time\", descending=True))"
   ]
  },
  {
   "cell_type": "code",
   "execution_count": null,
   "metadata": {},
   "outputs": [],
   "source": [
    "display(Markdown(f\"**Quote Feed:** {symbol}\"))\n",
    "router = dxlink.router\n",
    "if router is None or getattr(router, \"handler\", None) is None:\n",
    "    raise RuntimeError(\"Router or handler map not initialized\")\n",
    "quote_handler = router.handler.get(Channels.Quote)\n",
    "if quote_handler is None:\n",
    "    raise KeyError(\"Quote channel handler not available\")\n",
    "feed_proc = quote_handler.processors.get(\"feed\")\n",
    "if feed_proc is None:\n",
    "    raise KeyError(\"'feed' processor missing on Quote handler\")\n",
    "feed_proc.pl"
   ]
  },
  {
   "cell_type": "code",
   "execution_count": null,
   "metadata": {},
   "outputs": [],
   "source": [
    "# TODOS\n",
    "\n",
    "# [x] Widen the plot\n",
    "# [x] Remove the scroller at the bottom\n",
    "# [x] move the legent and remove Price (that is obvious)\n",
    "# [x] Add MACD\n",
    "# [x] Fix HULL - Align w/ candlesticks\n",
    "# [x] ERROR if no study data found\n",
    "\n",
    "# [ ] Add RSI\n",
    "# [ ] Add Volume Profile (?? ... /ES, SPY, etc)\n",
    "# [ ] Add velocity metric"
   ]
  },
  {
   "cell_type": "code",
   "execution_count": null,
   "metadata": {},
   "outputs": [],
   "source": [
    "await dxlink.close()"
   ]
  }
 ],
 "metadata": {
  "kernelspec": {
   "display_name": "tastytrade (3.11.13)",
   "language": "python",
   "name": "python3"
  },
  "language_info": {
   "codemirror_mode": {
    "name": "ipython",
    "version": 3
   },
   "file_extension": ".py",
   "mimetype": "text/x-python",
   "name": "python",
   "nbconvert_exporter": "python",
   "pygments_lexer": "ipython3",
   "version": "3.11.13"
  }
 },
 "nbformat": 4,
 "nbformat_minor": 2
}
