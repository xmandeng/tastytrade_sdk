{
 "cells": [
  {
   "cell_type": "code",
   "execution_count": 1,
   "metadata": {},
   "outputs": [
    {
     "name": "stderr",
     "output_type": "stream",
     "text": [
      "2025-08-10 08:19:50 - INFO:root:62:Logging initialized - writing to ../logs/dev_tastytrade_20250810.log\n"
     ]
    }
   ],
   "source": [
    "import asyncio\n",
    "import logging\n",
    "from datetime import datetime\n",
    "\n",
    "import influxdb_client\n",
    "import pandas as pd\n",
    "from IPython.display import Markdown, display\n",
    "\n",
    "from tastytrade.common.logging import setup_logging\n",
    "from tastytrade.config import RedisConfigManager\n",
    "from tastytrade.config.enumerations import Channels\n",
    "from tastytrade.connections import Credentials, InfluxCredentials\n",
    "from tastytrade.connections.sockets import DXLinkManager\n",
    "from tastytrade.connections.subscription import RedisSubscriptionStore\n",
    "from tastytrade.messaging.processors import (\n",
    "    RedisEventProcessor,\n",
    "    TelegrafHTTPEventProcessor,\n",
    ")\n",
    "from tastytrade.utils.time_series import forward_fill\n",
    "\n",
    "# Show all rows in pandas DataFrames\n",
    "pd.set_option(\"display.max_rows\", 100)\n",
    "pd.set_option(\"display.max_columns\", None)\n",
    "pd.set_option(\"display.width\", None)\n",
    "pd.set_option(\"display.max_colwidth\", None)\n",
    "\n",
    "logging.getLogger().handlers.clear()\n",
    "\n",
    "TEST = True\n",
    "ENV = \"Live\"\n",
    "DURATION = 15\n",
    "\n",
    "EDT = 5\n",
    "\n",
    "start_time = datetime(2025, 1, 1)\n",
    "\n",
    "setup_logging(\n",
    "    level=logging.INFO,\n",
    "    log_dir=\"../logs\",\n",
    "    filename_prefix=f\"{'dev' if TEST else 'prod'}_tastytrade\",\n",
    "    console=True,\n",
    "    file=True,\n",
    ")\n",
    "\n",
    "loop = asyncio.get_event_loop()\n",
    "loop.set_debug(True)\n",
    "logging.getLogger(\"asyncio\").setLevel(logging.DEBUG)"
   ]
  },
  {
   "cell_type": "markdown",
   "metadata": {},
   "source": [
    "# Service Connections"
   ]
  },
  {
   "cell_type": "code",
   "execution_count": null,
   "metadata": {},
   "outputs": [
    {
     "name": "stderr",
     "output_type": "stream",
     "text": [
      "2025-08-10 08:19:53 - INFO:tastytrade.config.manager:174:Initialized 19 variables from .env file in Redis\n",
      "2025-08-10 08:19:53 - DEBUG:asyncio:848:Get address info api.tastyworks.com:443, type=<SocketKind.SOCK_STREAM: 1>, flags=<AddressInfo.AI_ADDRCONFIG: 32>\n",
      "2025-08-10 08:19:53 - DEBUG:asyncio:848:Get address info api.tastyworks.com:443, type=<SocketKind.SOCK_STREAM: 1>, flags=<AddressInfo.AI_ADDRCONFIG: 32>\n",
      "2025-08-10 08:19:53 - DEBUG:asyncio:858:Getting address info api.tastyworks.com:443, type=<SocketKind.SOCK_STREAM: 1>, flags=<AddressInfo.AI_ADDRCONFIG: 32> took 29.803ms: [(<AddressFamily.AF_INET: 2>, <SocketKind.SOCK_STREAM: 1>, 6, '', ('170.76.244.142', 443))]\n",
      "2025-08-10 08:19:53 - DEBUG:asyncio:858:Getting address info api.tastyworks.com:443, type=<SocketKind.SOCK_STREAM: 1>, flags=<AddressInfo.AI_ADDRCONFIG: 32> took 29.803ms: [(<AddressFamily.AF_INET: 2>, <SocketKind.SOCK_STREAM: 1>, 6, '', ('170.76.244.142', 443))]\n",
      "2025-08-10 08:19:53 - DEBUG:asyncio:535:<asyncio.sslproto.SSLProtocol object at 0x72f5f8085a90> starts SSL handshake\n",
      "2025-08-10 08:19:53 - DEBUG:asyncio:535:<asyncio.sslproto.SSLProtocol object at 0x72f5f8085a90> starts SSL handshake\n",
      "2025-08-10 08:19:53 - DEBUG:asyncio:594:<asyncio.sslproto.SSLProtocol object at 0x72f5f8085a90>: SSL handshake took 37.6 ms\n",
      "2025-08-10 08:19:53 - DEBUG:asyncio:1121:<asyncio.TransportSocket fd=76, family=2, type=1, proto=6, laddr=('172.18.0.7', 43140), raddr=('170.76.244.142', 443)> connected to None:None: (<asyncio.sslproto._SSLProtocolTransport object at 0x72f5ed554bf0>, <aiohttp.client_proto.ResponseHandler object at 0x72f5ed551940>)\n",
      "2025-08-10 08:19:53 - DEBUG:asyncio:594:<asyncio.sslproto.SSLProtocol object at 0x72f5f8085a90>: SSL handshake took 37.6 ms\n",
      "2025-08-10 08:19:53 - DEBUG:asyncio:1121:<asyncio.TransportSocket fd=76, family=2, type=1, proto=6, laddr=('172.18.0.7', 43140), raddr=('170.76.244.142', 443)> connected to None:None: (<asyncio.sslproto._SSLProtocolTransport object at 0x72f5ed554bf0>, <aiohttp.client_proto.ResponseHandler object at 0x72f5ed551940>)\n",
      "2025-08-10 08:19:53 - INFO:tastytrade.connections.requests:148:Session created successfully\n",
      "2025-08-10 08:19:53 - INFO:tastytrade.connections.requests:148:Session created successfully\n",
      "2025-08-10 08:19:53 - DEBUG:asyncio:848:Get address info tasty-openapi-ws.dxfeed.com:443, type=<SocketKind.SOCK_STREAM: 1>\n",
      "2025-08-10 08:19:53 - DEBUG:asyncio:848:Get address info tasty-openapi-ws.dxfeed.com:443, type=<SocketKind.SOCK_STREAM: 1>\n",
      "2025-08-10 08:19:53 - INFO:asyncio:856:Getting address info tasty-openapi-ws.dxfeed.com:443, type=<SocketKind.SOCK_STREAM: 1> took 196.169ms: [(<AddressFamily.AF_INET: 2>, <SocketKind.SOCK_STREAM: 1>, 6, '', ('108.139.29.84', 443)), (<AddressFamily.AF_INET: 2>, <SocketKind.SOCK_STREAM: 1>, 6, '', ('108.139.29.99', 443)), (<AddressFamily.AF_INET: 2>, <SocketKind.SOCK_STREAM: 1>, 6, '', ('108.139.29.41', 443)), (<AddressFamily.AF_INET: 2>, <SocketKind.SOCK_STREAM: 1>, 6, '', ('108.139.29.64', 443))]\n",
      "2025-08-10 08:19:53 - INFO:asyncio:856:Getting address info tasty-openapi-ws.dxfeed.com:443, type=<SocketKind.SOCK_STREAM: 1> took 196.169ms: [(<AddressFamily.AF_INET: 2>, <SocketKind.SOCK_STREAM: 1>, 6, '', ('108.139.29.84', 443)), (<AddressFamily.AF_INET: 2>, <SocketKind.SOCK_STREAM: 1>, 6, '', ('108.139.29.99', 443)), (<AddressFamily.AF_INET: 2>, <SocketKind.SOCK_STREAM: 1>, 6, '', ('108.139.29.41', 443)), (<AddressFamily.AF_INET: 2>, <SocketKind.SOCK_STREAM: 1>, 6, '', ('108.139.29.64', 443))]\n",
      "2025-08-10 08:19:53 - DEBUG:asyncio:535:<asyncio.sslproto.SSLProtocol object at 0x72f5f8aee290> starts SSL handshake\n",
      "2025-08-10 08:19:53 - DEBUG:asyncio:535:<asyncio.sslproto.SSLProtocol object at 0x72f5f8aee290> starts SSL handshake\n",
      "2025-08-10 08:19:53 - DEBUG:asyncio:594:<asyncio.sslproto.SSLProtocol object at 0x72f5f8aee290>: SSL handshake took 24.0 ms\n",
      "2025-08-10 08:19:53 - DEBUG:asyncio:1121:<asyncio.TransportSocket fd=78, family=2, type=1, proto=6, laddr=('172.18.0.7', 51750), raddr=('108.139.29.84', 443)> connected to tasty-openapi-ws.dxfeed.com:443: (<asyncio.sslproto._SSLProtocolTransport object at 0x72f5ed5d8ef0>, <websockets.asyncio.client.ClientConnection object at 0x72f5f3ffbd10>)\n",
      "2025-08-10 08:19:53 - DEBUG:asyncio:594:<asyncio.sslproto.SSLProtocol object at 0x72f5f8aee290>: SSL handshake took 24.0 ms\n",
      "2025-08-10 08:19:53 - DEBUG:asyncio:1121:<asyncio.TransportSocket fd=78, family=2, type=1, proto=6, laddr=('172.18.0.7', 51750), raddr=('108.139.29.84', 443)> connected to tasty-openapi-ws.dxfeed.com:443: (<asyncio.sslproto._SSLProtocolTransport object at 0x72f5ed5d8ef0>, <websockets.asyncio.client.ClientConnection object at 0x72f5f3ffbd10>)\n",
      "2025-08-10 08:19:53 - DEBUG:asyncio:848:Get address info redis:6379, type=<SocketKind.SOCK_STREAM: 1>\n",
      "2025-08-10 08:19:53 - DEBUG:asyncio:858:Getting address info redis:6379, type=<SocketKind.SOCK_STREAM: 1> took 0.384ms: [(<AddressFamily.AF_INET: 2>, <SocketKind.SOCK_STREAM: 1>, 6, '', ('172.18.0.3', 6379))]\n",
      "2025-08-10 08:19:53 - DEBUG:asyncio:1121:<asyncio.TransportSocket fd=79, family=2, type=1, proto=6, laddr=('172.18.0.7', 41358), raddr=('172.18.0.3', 6379)> connected to redis:6379: (<_SelectorSocketTransport fd=79 read=polling write=<idle, bufsize=0>>, <asyncio.streams.StreamReaderProtocol object at 0x72f5ed5c2cd0>)\n",
      "2025-08-10 08:19:53 - INFO:tastytrade.connections.subscription:118:Redis ping response: True\n",
      "2025-08-10 08:19:53 - DEBUG:asyncio:848:Get address info redis:6379, type=<SocketKind.SOCK_STREAM: 1>\n",
      "2025-08-10 08:19:53 - DEBUG:asyncio:858:Getting address info redis:6379, type=<SocketKind.SOCK_STREAM: 1> took 0.384ms: [(<AddressFamily.AF_INET: 2>, <SocketKind.SOCK_STREAM: 1>, 6, '', ('172.18.0.3', 6379))]\n",
      "2025-08-10 08:19:53 - DEBUG:asyncio:1121:<asyncio.TransportSocket fd=79, family=2, type=1, proto=6, laddr=('172.18.0.7', 41358), raddr=('172.18.0.3', 6379)> connected to redis:6379: (<_SelectorSocketTransport fd=79 read=polling write=<idle, bufsize=0>>, <asyncio.streams.StreamReaderProtocol object at 0x72f5ed5c2cd0>)\n",
      "2025-08-10 08:19:53 - INFO:tastytrade.connections.subscription:118:Redis ping response: True\n",
      "2025-08-10 08:19:53 - INFO:tastytrade.connections.subscription:122:Redis version: 7.4.3\n",
      "2025-08-10 08:19:53 - INFO:tastytrade.connections.subscription:123:Connected clients: 3\n",
      "2025-08-10 08:19:53 - INFO:tastytrade.connections.subscription:122:Redis version: 7.4.3\n",
      "2025-08-10 08:19:53 - INFO:tastytrade.connections.subscription:123:Connected clients: 3\n",
      "2025-08-10 08:19:53 - INFO:tastytrade.messaging.handlers:78:Started Channels.Control listener on channel 0\n",
      "2025-08-10 08:19:53 - INFO:tastytrade.messaging.handlers:78:Started Channels.Quote listener on channel 7\n",
      "2025-08-10 08:19:53 - INFO:tastytrade.messaging.handlers:78:Started Channels.Trade listener on channel 5\n",
      "2025-08-10 08:19:53 - INFO:tastytrade.messaging.handlers:78:Started Channels.Greeks listener on channel 11\n",
      "2025-08-10 08:19:53 - INFO:tastytrade.messaging.handlers:78:Started Channels.Profile listener on channel 1\n",
      "2025-08-10 08:19:53 - INFO:tastytrade.messaging.handlers:78:Started Channels.Summary listener on channel 3\n",
      "2025-08-10 08:19:53 - INFO:tastytrade.messaging.handlers:78:Started Channels.Candle listener on channel 9\n",
      "2025-08-10 08:19:53 - INFO:tastytrade.messaging.handlers:78:Started Channels.Control listener on channel 0\n",
      "2025-08-10 08:19:53 - INFO:tastytrade.messaging.handlers:78:Started Channels.Quote listener on channel 7\n",
      "2025-08-10 08:19:53 - INFO:tastytrade.messaging.handlers:78:Started Channels.Trade listener on channel 5\n",
      "2025-08-10 08:19:53 - INFO:tastytrade.messaging.handlers:78:Started Channels.Greeks listener on channel 11\n",
      "2025-08-10 08:19:53 - INFO:tastytrade.messaging.handlers:78:Started Channels.Profile listener on channel 1\n",
      "2025-08-10 08:19:53 - INFO:tastytrade.messaging.handlers:78:Started Channels.Summary listener on channel 3\n",
      "2025-08-10 08:19:53 - INFO:tastytrade.messaging.handlers:78:Started Channels.Candle listener on channel 9\n"
     ]
    },
    {
     "name": "stderr",
     "output_type": "stream",
     "text": [
      "2025-08-10 08:19:53 - INFO:tastytrade.messaging.handlers:225:SETUP\n",
      "2025-08-10 08:19:53 - INFO:tastytrade.messaging.handlers:228:AUTH_STATE:UNAUTHORIZED\n",
      "2025-08-10 08:19:53 - INFO:tastytrade.messaging.handlers:228:AUTH_STATE:UNAUTHORIZED\n",
      "2025-08-10 08:19:53 - INFO:tastytrade.messaging.handlers:228:AUTH_STATE:AUTHORIZED\n",
      "2025-08-10 08:19:53 - INFO:tastytrade.messaging.handlers:228:AUTH_STATE:AUTHORIZED\n",
      "2025-08-10 08:19:53 - INFO:tastytrade.messaging.handlers:231:CHANNEL_OPENED:1\n",
      "2025-08-10 08:19:53 - INFO:tastytrade.messaging.handlers:231:CHANNEL_OPENED:1\n",
      "2025-08-10 08:19:53 - INFO:tastytrade.messaging.handlers:231:CHANNEL_OPENED:3\n",
      "2025-08-10 08:19:53 - INFO:tastytrade.messaging.handlers:231:CHANNEL_OPENED:3\n",
      "2025-08-10 08:19:53 - INFO:tastytrade.messaging.handlers:231:CHANNEL_OPENED:5\n",
      "2025-08-10 08:19:53 - INFO:tastytrade.messaging.handlers:231:CHANNEL_OPENED:5\n",
      "2025-08-10 08:19:53 - INFO:tastytrade.messaging.handlers:231:CHANNEL_OPENED:7\n",
      "2025-08-10 08:19:53 - INFO:tastytrade.messaging.handlers:231:CHANNEL_OPENED:7\n",
      "2025-08-10 08:19:53 - INFO:tastytrade.messaging.handlers:231:CHANNEL_OPENED:9\n",
      "2025-08-10 08:19:53 - INFO:tastytrade.messaging.handlers:231:CHANNEL_OPENED:9\n",
      "2025-08-10 08:19:53 - INFO:tastytrade.messaging.handlers:231:CHANNEL_OPENED:11\n",
      "2025-08-10 08:19:53 - INFO:tastytrade.messaging.handlers:231:CHANNEL_OPENED:11\n",
      "2025-08-10 08:19:53 - INFO:tastytrade.messaging.handlers:231:CHANNEL_OPENED:99\n",
      "2025-08-10 08:19:53 - INFO:tastytrade.messaging.handlers:231:CHANNEL_OPENED:99\n",
      "2025-08-10 08:19:53 - INFO:tastytrade.messaging.handlers:236:FEED_CONFIG:5:COMPACT\n",
      "2025-08-10 08:19:53 - INFO:tastytrade.messaging.handlers:236:FEED_CONFIG:5:COMPACT\n",
      "2025-08-10 08:19:53 - INFO:tastytrade.messaging.handlers:236:FEED_CONFIG:7:COMPACT\n",
      "2025-08-10 08:19:53 - INFO:tastytrade.messaging.handlers:236:FEED_CONFIG:7:COMPACT\n",
      "2025-08-10 08:19:53 - INFO:tastytrade.messaging.handlers:236:FEED_CONFIG:11:COMPACT\n",
      "2025-08-10 08:19:53 - INFO:tastytrade.messaging.handlers:236:FEED_CONFIG:11:COMPACT\n",
      "2025-08-10 08:19:53 - INFO:tastytrade.messaging.handlers:236:FEED_CONFIG:1:COMPACT\n",
      "2025-08-10 08:19:53 - INFO:tastytrade.messaging.handlers:236:FEED_CONFIG:1:COMPACT\n",
      "2025-08-10 08:19:53 - INFO:tastytrade.messaging.handlers:236:FEED_CONFIG:3:COMPACT\n",
      "2025-08-10 08:19:53 - INFO:tastytrade.messaging.handlers:236:FEED_CONFIG:3:COMPACT\n",
      "2025-08-10 08:19:53 - INFO:tastytrade.messaging.handlers:236:FEED_CONFIG:9:COMPACT\n",
      "2025-08-10 08:19:53 - INFO:tastytrade.messaging.handlers:236:FEED_CONFIG:9:COMPACT\n",
      "2025-08-10 08:19:55 - INFO:tastytrade.messaging.handlers:236:FEED_CONFIG:5:COMPACT:SUBSCRIBED\n",
      "2025-08-10 08:19:55 - INFO:tastytrade.messaging.handlers:236:FEED_CONFIG:5:COMPACT:SUBSCRIBED\n",
      "2025-08-10 08:19:55 - INFO:tastytrade.messaging.handlers:236:FEED_CONFIG:7:COMPACT:SUBSCRIBED\n",
      "2025-08-10 08:19:55 - INFO:tastytrade.messaging.handlers:236:FEED_CONFIG:7:COMPACT:SUBSCRIBED\n",
      "2025-08-10 08:19:55 - INFO:tastytrade.messaging.handlers:236:FEED_CONFIG:11:COMPACT:SUBSCRIBED\n",
      "2025-08-10 08:19:55 - INFO:tastytrade.messaging.handlers:236:FEED_CONFIG:11:COMPACT:SUBSCRIBED\n",
      "2025-08-10 08:19:55 - INFO:tastytrade.messaging.handlers:236:FEED_CONFIG:1:COMPACT:SUBSCRIBED\n",
      "2025-08-10 08:19:55 - INFO:tastytrade.messaging.handlers:236:FEED_CONFIG:1:COMPACT:SUBSCRIBED\n",
      "2025-08-10 08:19:55 - INFO:tastytrade.messaging.handlers:236:FEED_CONFIG:3:COMPACT:SUBSCRIBED\n",
      "2025-08-10 08:19:55 - INFO:tastytrade.messaging.handlers:236:FEED_CONFIG:3:COMPACT:SUBSCRIBED\n",
      "2025-08-10 08:19:55 - INFO:tastytrade.messaging.handlers:236:FEED_CONFIG:9:COMPACT:SUBSCRIBED\n",
      "2025-08-10 08:19:55 - INFO:tastytrade.messaging.handlers:236:FEED_CONFIG:9:COMPACT:SUBSCRIBED\n",
      "2025-08-10 08:20:08 - DEBUG:asyncio:1022:<_SelectorSocketTransport fd=76 read=polling write=<idle, bufsize=0>> received EOF\n",
      "2025-08-10 08:20:08 - DEBUG:asyncio:1022:<_SelectorSocketTransport fd=76 read=polling write=<idle, bufsize=0>> received EOF\n",
      "2025-08-10 08:20:08 - DEBUG:asyncio:461:<asyncio.sslproto.SSLProtocol object at 0x72f5f8085a90> received EOF\n",
      "2025-08-10 08:20:08 - DEBUG:asyncio:461:<asyncio.sslproto.SSLProtocol object at 0x72f5f8085a90> received EOF\n"
     ]
    }
   ],
   "source": [
    "config = RedisConfigManager(env_file=\"/workspace/.env\")\n",
    "config.initialize(force=True)\n",
    "\n",
    "credentials = Credentials(config=config, env=\"Live\")\n",
    "\n",
    "dxlink = DXLinkManager(subscription_store=RedisSubscriptionStore())\n",
    "await dxlink.open(credentials=credentials)\n",
    "\n",
    "influx_user = InfluxCredentials(config=config)\n",
    "influxdb = influxdb_client.InfluxDBClient(\n",
    "    url=influx_user.url, token=influx_user.token, org=influx_user.org\n",
    ")\n",
    "\n",
    "# Safely attach processors only if the router is initialized\n",
    "router = dxlink.router\n",
    "if router is None:\n",
    "    raise RuntimeError(\"DXLink router not initialized after open()\")\n",
    "handlers_dict = getattr(router, \"handler\", None)\n",
    "if handlers_dict is None:\n",
    "    raise RuntimeError(\"DXLink router.handler mapping not initialized\")\n",
    "for h in handlers_dict.values():\n",
    "    h.add_processor(TelegrafHTTPEventProcessor())\n",
    "    h.add_processor(RedisEventProcessor())"
   ]
  },
  {
   "cell_type": "markdown",
   "metadata": {},
   "source": [
    "# Market Data Subscriptions"
   ]
  },
  {
   "cell_type": "code",
   "execution_count": 3,
   "metadata": {},
   "outputs": [
    {
     "name": "stderr",
     "output_type": "stream",
     "text": [
      "2025-08-10 08:19:55 - INFO:tastytrade.connections.sockets:236:Added subscription: BTC/USD:CXTALP\n",
      "2025-08-10 08:19:55 - INFO:tastytrade.connections.sockets:236:Added subscription: NVDA\n",
      "2025-08-10 08:19:55 - INFO:tastytrade.connections.sockets:236:Added subscription: AAPL\n",
      "2025-08-10 08:19:55 - INFO:tastytrade.connections.sockets:236:Added subscription: NVDA\n",
      "2025-08-10 08:19:55 - INFO:tastytrade.connections.sockets:236:Added subscription: AAPL\n",
      "2025-08-10 08:19:55 - INFO:tastytrade.connections.sockets:236:Added subscription: QQQ\n",
      "2025-08-10 08:19:55 - INFO:tastytrade.connections.sockets:236:Added subscription: SPY\n",
      "2025-08-10 08:19:55 - INFO:tastytrade.connections.sockets:236:Added subscription: SPX\n",
      "2025-08-10 08:19:55 - INFO:tastytrade.connections.sockets:236:Added subscription: QQQ\n",
      "2025-08-10 08:19:55 - INFO:tastytrade.connections.sockets:236:Added subscription: SPY\n",
      "2025-08-10 08:19:55 - INFO:tastytrade.connections.sockets:236:Added subscription: SPX\n",
      "2025-08-10 08:19:55 - INFO:tastytrade.connections.sockets:236:Added subscription: BTC/USD:CXTALP{=d}\n",
      "2025-08-10 08:19:55 - INFO:tastytrade.connections.sockets:236:Added subscription: BTC/USD:CXTALP{=h}\n",
      "2025-08-10 08:19:55 - INFO:tastytrade.connections.sockets:236:Added subscription: BTC/USD:CXTALP{=30m}\n",
      "2025-08-10 08:19:55 - INFO:tastytrade.connections.sockets:236:Added subscription: BTC/USD:CXTALP{=d}\n",
      "2025-08-10 08:19:55 - INFO:tastytrade.connections.sockets:236:Added subscription: BTC/USD:CXTALP{=h}\n",
      "2025-08-10 08:19:55 - INFO:tastytrade.connections.sockets:236:Added subscription: BTC/USD:CXTALP{=30m}\n",
      "2025-08-10 08:19:55 - INFO:tastytrade.connections.sockets:236:Added subscription: BTC/USD:CXTALP{=15m}\n",
      "2025-08-10 08:19:55 - INFO:tastytrade.connections.sockets:236:Added subscription: BTC/USD:CXTALP{=15m}\n",
      "2025-08-10 08:19:55 - INFO:tastytrade.connections.sockets:236:Added subscription: BTC/USD:CXTALP{=5m}\n",
      "2025-08-10 08:19:55 - INFO:tastytrade.connections.sockets:236:Added subscription: BTC/USD:CXTALP{=5m}\n",
      "2025-08-10 08:19:56 - INFO:tastytrade.connections.sockets:236:Added subscription: BTC/USD:CXTALP{=m}\n",
      "2025-08-10 08:19:56 - INFO:tastytrade.connections.sockets:236:Added subscription: NVDA{=d}\n",
      "2025-08-10 08:19:56 - INFO:tastytrade.connections.sockets:236:Added subscription: NVDA{=h}\n",
      "2025-08-10 08:19:56 - INFO:tastytrade.connections.sockets:236:Added subscription: NVDA{=30m}\n",
      "2025-08-10 08:19:56 - INFO:tastytrade.connections.sockets:236:Added subscription: NVDA{=15m}\n",
      "2025-08-10 08:19:56 - INFO:tastytrade.connections.sockets:236:Added subscription: NVDA{=5m}\n",
      "2025-08-10 08:19:56 - INFO:tastytrade.connections.sockets:236:Added subscription: NVDA{=m}\n",
      "2025-08-10 08:19:56 - INFO:tastytrade.connections.sockets:236:Added subscription: BTC/USD:CXTALP{=m}\n",
      "2025-08-10 08:19:56 - INFO:tastytrade.connections.sockets:236:Added subscription: NVDA{=d}\n",
      "2025-08-10 08:19:56 - INFO:tastytrade.connections.sockets:236:Added subscription: NVDA{=h}\n",
      "2025-08-10 08:19:56 - INFO:tastytrade.connections.sockets:236:Added subscription: NVDA{=30m}\n",
      "2025-08-10 08:19:56 - INFO:tastytrade.connections.sockets:236:Added subscription: NVDA{=15m}\n",
      "2025-08-10 08:19:56 - INFO:tastytrade.connections.sockets:236:Added subscription: NVDA{=5m}\n",
      "2025-08-10 08:19:56 - INFO:tastytrade.connections.sockets:236:Added subscription: NVDA{=m}\n",
      "2025-08-10 08:19:56 - INFO:tastytrade.connections.sockets:236:Added subscription: AAPL{=d}\n",
      "2025-08-10 08:19:56 - INFO:tastytrade.connections.sockets:236:Added subscription: AAPL{=h}\n",
      "2025-08-10 08:19:56 - INFO:tastytrade.connections.sockets:236:Added subscription: AAPL{=30m}\n",
      "2025-08-10 08:19:56 - INFO:tastytrade.connections.sockets:236:Added subscription: AAPL{=15m}\n",
      "2025-08-10 08:19:56 - INFO:tastytrade.connections.sockets:236:Added subscription: AAPL{=5m}\n",
      "2025-08-10 08:19:56 - INFO:tastytrade.connections.sockets:236:Added subscription: AAPL{=m}\n",
      "2025-08-10 08:19:56 - INFO:tastytrade.connections.sockets:236:Added subscription: QQQ{=d}\n",
      "2025-08-10 08:19:56 - INFO:tastytrade.connections.sockets:236:Added subscription: AAPL{=d}\n",
      "2025-08-10 08:19:56 - INFO:tastytrade.connections.sockets:236:Added subscription: AAPL{=h}\n",
      "2025-08-10 08:19:56 - INFO:tastytrade.connections.sockets:236:Added subscription: AAPL{=30m}\n",
      "2025-08-10 08:19:56 - INFO:tastytrade.connections.sockets:236:Added subscription: AAPL{=15m}\n",
      "2025-08-10 08:19:56 - INFO:tastytrade.connections.sockets:236:Added subscription: AAPL{=5m}\n",
      "2025-08-10 08:19:56 - INFO:tastytrade.connections.sockets:236:Added subscription: AAPL{=m}\n",
      "2025-08-10 08:19:56 - INFO:tastytrade.connections.sockets:236:Added subscription: QQQ{=d}\n",
      "2025-08-10 08:19:56 - INFO:tastytrade.connections.sockets:236:Added subscription: QQQ{=h}\n",
      "2025-08-10 08:19:56 - INFO:tastytrade.connections.sockets:236:Added subscription: QQQ{=30m}\n",
      "2025-08-10 08:19:56 - INFO:tastytrade.connections.sockets:236:Added subscription: QQQ{=15m}\n",
      "2025-08-10 08:19:56 - INFO:tastytrade.connections.sockets:236:Added subscription: QQQ{=5m}\n",
      "2025-08-10 08:19:56 - INFO:tastytrade.connections.sockets:236:Added subscription: QQQ{=m}\n",
      "2025-08-10 08:19:56 - INFO:tastytrade.connections.sockets:236:Added subscription: SPY{=d}\n",
      "2025-08-10 08:19:56 - INFO:tastytrade.connections.sockets:236:Added subscription: SPY{=h}\n",
      "2025-08-10 08:19:56 - INFO:tastytrade.connections.sockets:236:Added subscription: QQQ{=h}\n",
      "2025-08-10 08:19:56 - INFO:tastytrade.connections.sockets:236:Added subscription: QQQ{=30m}\n",
      "2025-08-10 08:19:56 - INFO:tastytrade.connections.sockets:236:Added subscription: QQQ{=15m}\n",
      "2025-08-10 08:19:56 - INFO:tastytrade.connections.sockets:236:Added subscription: QQQ{=5m}\n",
      "2025-08-10 08:19:56 - INFO:tastytrade.connections.sockets:236:Added subscription: QQQ{=m}\n",
      "2025-08-10 08:19:56 - INFO:tastytrade.connections.sockets:236:Added subscription: SPY{=d}\n",
      "2025-08-10 08:19:56 - INFO:tastytrade.connections.sockets:236:Added subscription: SPY{=h}\n",
      "2025-08-10 08:20:00 - INFO:tastytrade.connections.sockets:236:Added subscription: SPY{=30m}\n",
      "2025-08-10 08:20:00 - INFO:tastytrade.connections.sockets:236:Added subscription: SPY{=15m}\n",
      "2025-08-10 08:20:00 - INFO:tastytrade.connections.sockets:236:Added subscription: SPY{=5m}\n",
      "2025-08-10 08:20:00 - INFO:tastytrade.connections.sockets:236:Added subscription: SPY{=30m}\n",
      "2025-08-10 08:20:00 - INFO:tastytrade.connections.sockets:236:Added subscription: SPY{=15m}\n",
      "2025-08-10 08:20:00 - INFO:tastytrade.connections.sockets:236:Added subscription: SPY{=5m}\n",
      "2025-08-10 08:20:00 - INFO:tastytrade.connections.sockets:236:Added subscription: SPY{=m}\n",
      "2025-08-10 08:20:00 - INFO:tastytrade.connections.sockets:236:Added subscription: SPX{=d}\n",
      "2025-08-10 08:20:00 - INFO:tastytrade.connections.sockets:236:Added subscription: SPX{=h}\n",
      "2025-08-10 08:20:00 - INFO:tastytrade.connections.sockets:236:Added subscription: SPX{=30m}\n",
      "2025-08-10 08:20:00 - INFO:tastytrade.connections.sockets:236:Added subscription: SPX{=15m}\n",
      "2025-08-10 08:20:00 - INFO:tastytrade.connections.sockets:236:Added subscription: SPX{=5m}\n",
      "2025-08-10 08:20:00 - INFO:tastytrade.connections.sockets:236:Added subscription: SPY{=m}\n",
      "2025-08-10 08:20:00 - INFO:tastytrade.connections.sockets:236:Added subscription: SPX{=d}\n",
      "2025-08-10 08:20:00 - INFO:tastytrade.connections.sockets:236:Added subscription: SPX{=h}\n",
      "2025-08-10 08:20:00 - INFO:tastytrade.connections.sockets:236:Added subscription: SPX{=30m}\n",
      "2025-08-10 08:20:00 - INFO:tastytrade.connections.sockets:236:Added subscription: SPX{=15m}\n",
      "2025-08-10 08:20:00 - INFO:tastytrade.connections.sockets:236:Added subscription: SPX{=5m}\n",
      "2025-08-10 08:20:00 - INFO:tastytrade.connections.sockets:236:Added subscription: SPX{=m}\n",
      "2025-08-10 08:20:00 - INFO:tastytrade.connections.sockets:236:Added subscription: SPX{=m}\n"
     ]
    }
   ],
   "source": [
    "start_time = datetime(2025, 8, 8)\n",
    "\n",
    "symbols = [\"BTC/USD:CXTALP\", \"NVDA\", \"AAPL\", \"QQQ\", \"SPY\", \"SPX\"]  # , \"/ESH25:XCME\"]\n",
    "# symbols = [\"BTC/USD:CXTALP\", \"NVDA\",]\n",
    "# symbols = [\"AAPL\", \"QQQ\"]  #\n",
    "# symbols = [\"SPY\", \"SPX\"]  #\n",
    "intervals = [\"1d\", \"1h\", \"30m\", \"15m\", \"5m\", \"m\"]\n",
    "\n",
    "# ticker subscriptions\n",
    "await dxlink.subscribe(symbols)\n",
    "\n",
    "# candle subscriptions\n",
    "for symbol in symbols:\n",
    "    for interval in intervals:\n",
    "        coroutine = dxlink.subscribe_to_candles(\n",
    "            symbol=symbol,\n",
    "            interval=interval,\n",
    "            from_time=start_time,\n",
    "        )\n",
    "        await asyncio.wait_for(coroutine, timeout=10)"
   ]
  },
  {
   "cell_type": "code",
   "execution_count": 4,
   "metadata": {},
   "outputs": [
    {
     "name": "stderr",
     "output_type": "stream",
     "text": [
      "2025-08-10 08:20:00 - INFO:root:120:Successfully flushed and closed InfluxDB write API\n",
      "2025-08-10 08:20:00 - INFO:root:124:Forward-fill added 1 events for BTC/USD:CXTALP{=15m}\n",
      "2025-08-10 08:20:00 - INFO:root:124:Forward-fill added 1 events for BTC/USD:CXTALP{=15m}\n",
      "2025-08-10 08:20:00 - INFO:root:120:Successfully flushed and closed InfluxDB write API\n",
      "2025-08-10 08:20:00 - INFO:root:124:Forward-fill added 9 events for BTC/USD:CXTALP{=5m}\n",
      "2025-08-10 08:20:00 - INFO:root:120:Successfully flushed and closed InfluxDB write API\n",
      "2025-08-10 08:20:00 - INFO:root:124:Forward-fill added 9 events for BTC/USD:CXTALP{=5m}\n",
      "2025-08-10 08:20:00 - INFO:root:120:Successfully flushed and closed InfluxDB write API\n",
      "2025-08-10 08:20:00 - INFO:root:124:Forward-fill added 58 events for BTC/USD:CXTALP{=m}\n",
      "2025-08-10 08:20:00 - INFO:root:120:Successfully flushed and closed InfluxDB write API\n",
      "2025-08-10 08:20:00 - INFO:root:124:Forward-fill added 58 events for BTC/USD:CXTALP{=m}\n",
      "2025-08-10 08:20:01 - INFO:root:120:Successfully flushed and closed InfluxDB write API\n",
      "2025-08-10 08:20:01 - INFO:root:124:Forward-fill added 6 events for SPX{=30m}\n",
      "2025-08-10 08:20:01 - INFO:root:120:Successfully flushed and closed InfluxDB write API\n",
      "2025-08-10 08:20:01 - INFO:root:124:Forward-fill added 6 events for SPX{=30m}\n",
      "2025-08-10 08:20:01 - INFO:root:120:Successfully flushed and closed InfluxDB write API\n",
      "2025-08-10 08:20:01 - INFO:root:124:Forward-fill added 12 events for SPX{=15m}\n",
      "2025-08-10 08:20:01 - INFO:root:120:Successfully flushed and closed InfluxDB write API\n",
      "2025-08-10 08:20:01 - INFO:root:124:Forward-fill added 12 events for SPX{=15m}\n",
      "2025-08-10 08:20:02 - INFO:root:120:Successfully flushed and closed InfluxDB write API\n",
      "2025-08-10 08:20:02 - INFO:root:124:Forward-fill added 189 events for SPX{=m}\n",
      "2025-08-10 08:20:02 - INFO:root:120:Successfully flushed and closed InfluxDB write API\n",
      "2025-08-10 08:20:02 - INFO:root:124:Forward-fill added 189 events for SPX{=m}\n"
     ]
    }
   ],
   "source": [
    "# forward fill\n",
    "for symbol in symbols:\n",
    "    for interval in intervals:\n",
    "        event_symbol = f\"{symbol}{{={interval}}}\"\n",
    "        logging.debug(\"Forward-filling %s\", event_symbol)\n",
    "        forward_fill(symbol=event_symbol, lookback_days=5)"
   ]
  },
  {
   "cell_type": "markdown",
   "metadata": {},
   "source": [
    "# Check | Market Data feeds"
   ]
  },
  {
   "cell_type": "code",
   "execution_count": 5,
   "metadata": {},
   "outputs": [
    {
     "data": {
      "text/markdown": [
       "**Candle Feed:** BTC/USD:CXTALP{=5m}"
      ],
      "text/plain": [
       "<IPython.core.display.Markdown object>"
      ]
     },
     "metadata": {},
     "output_type": "display_data"
    },
    {
     "data": {
      "text/html": [
       "<div><style>\n",
       ".dataframe > thead > tr,\n",
       ".dataframe > tbody > tr {\n",
       "  text-align: right;\n",
       "  white-space: pre-wrap;\n",
       "}\n",
       "</style>\n",
       "<small>shape: (5, 16)</small><table border=\"1\" class=\"dataframe\"><thead><tr><th>eventSymbol</th><th>time</th><th>eventFlags</th><th>index</th><th>sequence</th><th>count</th><th>open</th><th>high</th><th>low</th><th>close</th><th>volume</th><th>bidVolume</th><th>askVolume</th><th>openInterest</th><th>vwap</th><th>impVolatility</th></tr><tr><td>str</td><td>datetime[μs]</td><td>i64</td><td>i64</td><td>i64</td><td>i64</td><td>f64</td><td>f64</td><td>f64</td><td>f64</td><td>f64</td><td>f64</td><td>f64</td><td>f64</td><td>f64</td><td>f64</td></tr></thead><tbody><tr><td>&quot;BTC/USD:CXTALP{=5m}&quot;</td><td>2025-08-10 08:20:00</td><td>0</td><td>7536868740562944000</td><td>0</td><td>20</td><td>117930.77</td><td>117935.94</td><td>117930.77</td><td>117935.94</td><td>null</td><td>null</td><td>null</td><td>0.0</td><td>null</td><td>null</td></tr><tr><td>&quot;BTC/USD:CXTALP{=5m}&quot;</td><td>2025-08-10 08:15:00</td><td>0</td><td>7536867452072755200</td><td>0</td><td>1501</td><td>117874.72</td><td>117953.96</td><td>117860.24</td><td>117930.08</td><td>null</td><td>null</td><td>null</td><td>0.0</td><td>null</td><td>null</td></tr><tr><td>&quot;BTC/USD:CXTALP{=5m}&quot;</td><td>2025-08-10 08:10:00</td><td>0</td><td>7536866163582566400</td><td>0</td><td>657</td><td>117751.16</td><td>117883.85</td><td>117749.01</td><td>117874.14</td><td>null</td><td>null</td><td>null</td><td>0.0</td><td>null</td><td>null</td></tr><tr><td>&quot;BTC/USD:CXTALP{=5m}&quot;</td><td>2025-08-10 08:05:00</td><td>0</td><td>7536864875092377600</td><td>0</td><td>3891</td><td>117637.25</td><td>117771.67</td><td>117633.16</td><td>117750.58</td><td>null</td><td>null</td><td>null</td><td>0.0</td><td>null</td><td>null</td></tr><tr><td>&quot;BTC/USD:CXTALP{=5m}&quot;</td><td>2025-08-10 08:00:00</td><td>0</td><td>7536863586602188800</td><td>0</td><td>2479</td><td>117777.45</td><td>117786.51</td><td>117627.27</td><td>117637.25</td><td>null</td><td>null</td><td>null</td><td>0.0</td><td>null</td><td>null</td></tr></tbody></table></div>"
      ],
      "text/plain": [
       "shape: (5, 16)\n",
       "┌────────────┬────────────┬────────────┬────────────┬───┬───────────┬───────────┬──────┬───────────┐\n",
       "│ eventSymbo ┆ time       ┆ eventFlags ┆ index      ┆ … ┆ askVolume ┆ openInter ┆ vwap ┆ impVolati │\n",
       "│ l          ┆ ---        ┆ ---        ┆ ---        ┆   ┆ ---       ┆ est       ┆ ---  ┆ lity      │\n",
       "│ ---        ┆ datetime[μ ┆ i64        ┆ i64        ┆   ┆ f64       ┆ ---       ┆ f64  ┆ ---       │\n",
       "│ str        ┆ s]         ┆            ┆            ┆   ┆           ┆ f64       ┆      ┆ f64       │\n",
       "╞════════════╪════════════╪════════════╪════════════╪═══╪═══════════╪═══════════╪══════╪═══════════╡\n",
       "│ BTC/USD:CX ┆ 2025-08-10 ┆ 0          ┆ 7536868740 ┆ … ┆ null      ┆ 0.0       ┆ null ┆ null      │\n",
       "│ TALP{=5m}  ┆ 08:20:00   ┆            ┆ 562944000  ┆   ┆           ┆           ┆      ┆           │\n",
       "│ BTC/USD:CX ┆ 2025-08-10 ┆ 0          ┆ 7536867452 ┆ … ┆ null      ┆ 0.0       ┆ null ┆ null      │\n",
       "│ TALP{=5m}  ┆ 08:15:00   ┆            ┆ 072755200  ┆   ┆           ┆           ┆      ┆           │\n",
       "│ BTC/USD:CX ┆ 2025-08-10 ┆ 0          ┆ 7536866163 ┆ … ┆ null      ┆ 0.0       ┆ null ┆ null      │\n",
       "│ TALP{=5m}  ┆ 08:10:00   ┆            ┆ 582566400  ┆   ┆           ┆           ┆      ┆           │\n",
       "│ BTC/USD:CX ┆ 2025-08-10 ┆ 0          ┆ 7536864875 ┆ … ┆ null      ┆ 0.0       ┆ null ┆ null      │\n",
       "│ TALP{=5m}  ┆ 08:05:00   ┆            ┆ 092377600  ┆   ┆           ┆           ┆      ┆           │\n",
       "│ BTC/USD:CX ┆ 2025-08-10 ┆ 0          ┆ 7536863586 ┆ … ┆ null      ┆ 0.0       ┆ null ┆ null      │\n",
       "│ TALP{=5m}  ┆ 08:00:00   ┆            ┆ 602188800  ┆   ┆           ┆           ┆      ┆           │\n",
       "└────────────┴────────────┴────────────┴────────────┴───┴───────────┴───────────┴──────┴───────────┘"
      ]
     },
     "execution_count": 5,
     "metadata": {},
     "output_type": "execute_result"
    }
   ],
   "source": [
    "symbol = \"SPX{=m}\"\n",
    "symbol = \"BTC/USD:CXTALP{=5m}\"\n",
    "# symbol = \"/ESH25:XCME{=m}\"\n",
    "\n",
    "display(Markdown(f\"**Candle Feed:** {symbol}\"))\n",
    "router = dxlink.router\n",
    "if router is None or getattr(router, \"handler\", None) is None:\n",
    "    raise RuntimeError(\"Router or handler map not initialized\")\n",
    "handlers_dict = router.handler\n",
    "candle_handler = handlers_dict.get(Channels.Candle)\n",
    "if candle_handler is None:\n",
    "    raise KeyError(\"Candle channel handler not available\")\n",
    "feed_proc = candle_handler.processors.get(\"feed\")\n",
    "if feed_proc is None:\n",
    "    raise KeyError(\"'feed' processor missing on Candle handler\")\n",
    "frames = getattr(feed_proc, \"frames\", {})\n",
    "if symbol not in frames:\n",
    "    raise KeyError(f\"No frames for symbol {symbol}\")\n",
    "(frames[f\"{symbol}\"].tail(5).sort(by=\"time\", descending=True))"
   ]
  },
  {
   "cell_type": "code",
   "execution_count": 6,
   "metadata": {},
   "outputs": [
    {
     "data": {
      "text/markdown": [
       "**Quote Feed:** BTC/USD:CXTALP{=5m}"
      ],
      "text/plain": [
       "<IPython.core.display.Markdown object>"
      ]
     },
     "metadata": {},
     "output_type": "display_data"
    },
    {
     "data": {
      "text/html": [
       "<div><style>\n",
       ".dataframe > thead > tr,\n",
       ".dataframe > tbody > tr {\n",
       "  text-align: right;\n",
       "  white-space: pre-wrap;\n",
       "}\n",
       "</style>\n",
       "<small>shape: (6, 5)</small><table border=\"1\" class=\"dataframe\"><thead><tr><th>eventSymbol</th><th>bidPrice</th><th>askPrice</th><th>bidSize</th><th>askSize</th></tr><tr><td>str</td><td>f64</td><td>f64</td><td>f64</td><td>f64</td></tr></thead><tbody><tr><td>&quot;SPY&quot;</td><td>610.77</td><td>638.66</td><td>null</td><td>null</td></tr><tr><td>&quot;QQQ&quot;</td><td>565.0</td><td>575.99</td><td>null</td><td>null</td></tr><tr><td>&quot;NVDA&quot;</td><td>182.81</td><td>183.0</td><td>null</td><td>null</td></tr><tr><td>&quot;AAPL&quot;</td><td>229.85</td><td>230.0</td><td>null</td><td>null</td></tr><tr><td>&quot;BTC/USD:CXTALP&quot;</td><td>117543.69</td><td>118328.19</td><td>0.05</td><td>0.01</td></tr><tr><td>&quot;SPX&quot;</td><td>6338.53</td><td>6434.76</td><td>null</td><td>null</td></tr></tbody></table></div>"
      ],
      "text/plain": [
       "shape: (6, 5)\n",
       "┌────────────────┬───────────┬───────────┬─────────┬─────────┐\n",
       "│ eventSymbol    ┆ bidPrice  ┆ askPrice  ┆ bidSize ┆ askSize │\n",
       "│ ---            ┆ ---       ┆ ---       ┆ ---     ┆ ---     │\n",
       "│ str            ┆ f64       ┆ f64       ┆ f64     ┆ f64     │\n",
       "╞════════════════╪═══════════╪═══════════╪═════════╪═════════╡\n",
       "│ SPY            ┆ 610.77    ┆ 638.66    ┆ null    ┆ null    │\n",
       "│ QQQ            ┆ 565.0     ┆ 575.99    ┆ null    ┆ null    │\n",
       "│ NVDA           ┆ 182.81    ┆ 183.0     ┆ null    ┆ null    │\n",
       "│ AAPL           ┆ 229.85    ┆ 230.0     ┆ null    ┆ null    │\n",
       "│ BTC/USD:CXTALP ┆ 117543.69 ┆ 118328.19 ┆ 0.05    ┆ 0.01    │\n",
       "│ SPX            ┆ 6338.53   ┆ 6434.76   ┆ null    ┆ null    │\n",
       "└────────────────┴───────────┴───────────┴─────────┴─────────┘"
      ]
     },
     "execution_count": 6,
     "metadata": {},
     "output_type": "execute_result"
    }
   ],
   "source": [
    "display(Markdown(f\"**Quote Feed:** {symbol}\"))\n",
    "router = dxlink.router\n",
    "if router is None or getattr(router, \"handler\", None) is None:\n",
    "    raise RuntimeError(\"Router or handler map not initialized\")\n",
    "quote_handler = router.handler.get(Channels.Quote)\n",
    "if quote_handler is None:\n",
    "    raise KeyError(\"Quote channel handler not available\")\n",
    "feed_proc = quote_handler.processors.get(\"feed\")\n",
    "if feed_proc is None:\n",
    "    raise KeyError(\"'feed' processor missing on Quote handler\")\n",
    "feed_proc.pl"
   ]
  },
  {
   "cell_type": "code",
   "execution_count": null,
   "metadata": {},
   "outputs": [],
   "source": [
    "# TODOS\n",
    "\n",
    "# [x] Widen the plot\n",
    "# [x] Remove the scroller at the bottom\n",
    "# [x] move the legent and remove Price (that is obvious)\n",
    "# [x] Add MACD\n",
    "# [x] Fix HULL - Align w/ candlesticks\n",
    "# [x] ERROR if no study data found\n",
    "\n",
    "# [ ] Add RSI\n",
    "# [ ] Add Volume Profile (?? ... /ES, SPY, etc)\n",
    "# [ ] Add velocity metric"
   ]
  },
  {
   "cell_type": "code",
   "execution_count": null,
   "metadata": {},
   "outputs": [],
   "source": [
    "await dxlink.close()"
   ]
  }
 ],
 "metadata": {
  "kernelspec": {
   "display_name": "tastytrade (3.11.13)",
   "language": "python",
   "name": "python3"
  },
  "language_info": {
   "codemirror_mode": {
    "name": "ipython",
    "version": 3
   },
   "file_extension": ".py",
   "mimetype": "text/x-python",
   "name": "python",
   "nbconvert_exporter": "python",
   "pygments_lexer": "ipython3",
   "version": "3.11.13"
  }
 },
 "nbformat": 4,
 "nbformat_minor": 2
}
