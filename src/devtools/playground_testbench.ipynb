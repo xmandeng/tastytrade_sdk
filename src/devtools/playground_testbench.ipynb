{
 "cells": [
  {
   "cell_type": "code",
   "execution_count": null,
   "metadata": {},
   "outputs": [],
   "source": [
    "import asyncio\n",
    "import logging\n",
    "from datetime import datetime\n",
    "\n",
    "import influxdb_client\n",
    "import pandas as pd\n",
    "from IPython.display import Markdown, display\n",
    "\n",
    "from tastytrade.common.logging import setup_logging\n",
    "from tastytrade.config import RedisConfigManager\n",
    "from tastytrade.config.enumerations import Channels\n",
    "from tastytrade.connections import Credentials, InfluxCredentials\n",
    "from tastytrade.connections.sockets import DXLinkManager\n",
    "from tastytrade.connections.subscription import RedisSubscriptionStore\n",
    "from tastytrade.messaging.processors import (\n",
    "    RedisEventProcessor,\n",
    "    TelegrafHTTPEventProcessor,\n",
    ")\n",
    "from tastytrade.utils.time_series import forward_fill\n",
    "\n",
    "# Show all rows in pandas DataFrames\n",
    "pd.set_option(\"display.max_rows\", 100)\n",
    "pd.set_option(\"display.max_columns\", None)\n",
    "pd.set_option(\"display.width\", None)\n",
    "pd.set_option(\"display.max_colwidth\", None)\n",
    "\n",
    "logging.getLogger().handlers.clear()\n",
    "\n",
    "TEST = True\n",
    "ENV = \"Live\"\n",
    "DURATION = 15\n",
    "\n",
    "EDT = 5\n",
    "\n",
    "start_time = datetime(2025, 1, 1)\n",
    "\n",
    "setup_logging(\n",
    "    level=logging.INFO,\n",
    "    log_dir=\"../logs\",\n",
    "    filename_prefix=f\"{'dev' if TEST else 'prod'}_tastytrade\",\n",
    "    console=True,\n",
    "    file=True,\n",
    ")\n",
    "\n",
    "loop = asyncio.get_event_loop()\n",
    "loop.set_debug(True)\n",
    "logging.getLogger(\"asyncio\").setLevel(logging.DEBUG)"
   ]
  },
  {
   "cell_type": "markdown",
   "metadata": {},
   "source": [
    "# Service Connections"
   ]
  },
  {
   "cell_type": "code",
   "execution_count": null,
   "metadata": {},
   "outputs": [],
   "source": [
    "config = RedisConfigManager(env_file=\"/workspace/.env\")\n",
    "config.initialize(force=True)\n",
    "\n",
    "credentials = Credentials(config=config, env=\"Live\")\n",
    "\n",
    "dxlink = DXLinkManager(subscription_store=RedisSubscriptionStore())\n",
    "await dxlink.open(credentials=credentials)\n",
    "\n",
    "influx_user = InfluxCredentials(config=config)\n",
    "influxdb = influxdb_client.InfluxDBClient(\n",
    "    url=influx_user.url, token=influx_user.token, org=influx_user.org\n",
    ")\n",
    "\n",
    "# Safely attach processors only if the router is initialized\n",
    "router = dxlink.router\n",
    "if router is None:\n",
    "    raise RuntimeError(\"DXLink router not initialized after open()\")\n",
    "handlers_dict = getattr(router, \"handler\", None)\n",
    "if handlers_dict is None:\n",
    "    raise RuntimeError(\"DXLink router.handler mapping not initialized\")\n",
    "for h in handlers_dict.values():\n",
    "    h.add_processor(TelegrafHTTPEventProcessor())\n",
    "    h.add_processor(RedisEventProcessor())"
   ]
  },
  {
   "cell_type": "markdown",
   "metadata": {},
   "source": [
    "# Market Data Subscriptions"
   ]
  },
  {
   "cell_type": "code",
   "execution_count": null,
   "metadata": {},
   "outputs": [],
   "source": [
    "start_time = datetime(2025, 9, 17)\n",
    "\n",
    "symbols = [\"BTC/USD:CXTALP\", \"NVDA\", \"AAPL\", \"QQQ\", \"SPY\", \"SPX\"]  # , \"/ESH25:XCME\"]\n",
    "# symbols = [\"BTC/USD:CXTALP\", \"NVDA\",]\n",
    "# symbols = [\"AAPL\", \"QQQ\"]  #\n",
    "# symbols = [\"SPY\", \"SPX\"]  #\n",
    "intervals = [\"1d\", \"1h\", \"30m\", \"15m\", \"5m\", \"m\"]\n",
    "\n",
    "# ticker subscriptions\n",
    "await dxlink.subscribe(symbols)\n",
    "\n",
    "# candle subscriptions\n",
    "for symbol in symbols:\n",
    "    for interval in intervals:\n",
    "        coroutine = dxlink.subscribe_to_candles(\n",
    "            symbol=symbol,\n",
    "            interval=interval,\n",
    "            from_time=start_time,\n",
    "        )\n",
    "        await asyncio.wait_for(coroutine, timeout=10)"
   ]
  },
  {
   "cell_type": "code",
   "execution_count": null,
   "metadata": {},
   "outputs": [],
   "source": [
    "# forward fill\n",
    "for symbol in symbols:\n",
    "    for interval in intervals:\n",
    "        event_symbol = f\"{symbol}{{={interval}}}\"\n",
    "        logging.debug(\"Forward-filling %s\", event_symbol)\n",
    "        forward_fill(symbol=event_symbol, lookback_days=5)"
   ]
  },
  {
   "cell_type": "markdown",
   "metadata": {},
   "source": [
    "# Check | Market Data feeds"
   ]
  },
  {
   "cell_type": "code",
   "execution_count": null,
   "metadata": {},
   "outputs": [],
   "source": [
    "symbol = \"SPX{=m}\"\n",
    "symbol = \"BTC/USD:CXTALP{=5m}\"\n",
    "# symbol = \"/ESH25:XCME{=m}\"\n",
    "\n",
    "display(Markdown(f\"**Candle Feed:** {symbol}\"))\n",
    "router = dxlink.router\n",
    "if router is None or getattr(router, \"handler\", None) is None:\n",
    "    raise RuntimeError(\"Router or handler map not initialized\")\n",
    "handlers_dict = router.handler\n",
    "candle_handler = handlers_dict.get(Channels.Candle)\n",
    "if candle_handler is None:\n",
    "    raise KeyError(\"Candle channel handler not available\")\n",
    "feed_proc = candle_handler.processors.get(\"feed\")\n",
    "if feed_proc is None:\n",
    "    raise KeyError(\"'feed' processor missing on Candle handler\")\n",
    "frames = getattr(feed_proc, \"frames\", {})\n",
    "if symbol not in frames:\n",
    "    raise KeyError(f\"No frames for symbol {symbol}\")\n",
    "(frames[f\"{symbol}\"].tail(5).sort(by=\"time\", descending=True))"
   ]
  },
  {
   "cell_type": "code",
   "execution_count": null,
   "metadata": {},
   "outputs": [],
   "source": [
    "display(Markdown(f\"**Quote Feed:** {symbol}\"))\n",
    "router = dxlink.router\n",
    "if router is None or getattr(router, \"handler\", None) is None:\n",
    "    raise RuntimeError(\"Router or handler map not initialized\")\n",
    "quote_handler = router.handler.get(Channels.Quote)\n",
    "if quote_handler is None:\n",
    "    raise KeyError(\"Quote channel handler not available\")\n",
    "feed_proc = quote_handler.processors.get(\"feed\")\n",
    "if feed_proc is None:\n",
    "    raise KeyError(\"'feed' processor missing on Quote handler\")\n",
    "feed_proc.pl"
   ]
  },
  {
   "cell_type": "code",
   "execution_count": null,
   "metadata": {},
   "outputs": [],
   "source": [
    "# TODOS\n",
    "\n",
    "# [x] Widen the plot\n",
    "# [x] Remove the scroller at the bottom\n",
    "# [x] move the legent and remove Price (that is obvious)\n",
    "# [x] Add MACD\n",
    "# [x] Fix HULL - Align w/ candlesticks\n",
    "# [x] ERROR if no study data found\n",
    "\n",
    "# [ ] Add RSI\n",
    "# [ ] Add Volume Profile (?? ... /ES, SPY, etc)\n",
    "# [ ] Add velocity metric"
   ]
  },
  {
   "cell_type": "code",
   "execution_count": null,
   "metadata": {},
   "outputs": [],
   "source": [
    "await dxlink.close()"
   ]
  }
 ],
 "metadata": {
  "kernelspec": {
   "display_name": "tastytrade (3.11.13)",
   "language": "python",
   "name": "python3"
  },
  "language_info": {
   "codemirror_mode": {
    "name": "ipython",
    "version": 3
   },
   "file_extension": ".py",
   "mimetype": "text/x-python",
   "name": "python",
   "nbconvert_exporter": "python",
   "pygments_lexer": "ipython3",
   "version": "3.11.13"
  }
 },
 "nbformat": 4,
 "nbformat_minor": 2
}
