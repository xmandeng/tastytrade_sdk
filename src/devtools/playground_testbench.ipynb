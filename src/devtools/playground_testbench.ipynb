{
 "cells": [
  {
   "cell_type": "code",
   "execution_count": 1,
   "metadata": {},
   "outputs": [
    {
     "name": "stderr",
     "output_type": "stream",
     "text": [
      "2025-10-31 01:30:57 - INFO:root:62:Logging initialized - writing to ../logs/dev_tastytrade_20251031.log\n"
     ]
    }
   ],
   "source": [
    "import asyncio\n",
    "import logging\n",
    "from datetime import datetime\n",
    "\n",
    "import influxdb_client\n",
    "import pandas as pd\n",
    "from IPython.display import Markdown, display\n",
    "\n",
    "from tastytrade.common.logging import setup_logging\n",
    "from tastytrade.config import RedisConfigManager\n",
    "from tastytrade.config.enumerations import Channels\n",
    "from tastytrade.connections import Credentials, InfluxCredentials\n",
    "from tastytrade.connections.sockets import DXLinkManager\n",
    "from tastytrade.connections.subscription import RedisSubscriptionStore\n",
    "from tastytrade.messaging.processors import (\n",
    "    RedisEventProcessor,\n",
    "    TelegrafHTTPEventProcessor,\n",
    ")\n",
    "from tastytrade.utils.time_series import forward_fill\n",
    "\n",
    "# Show all rows in pandas DataFrames\n",
    "pd.set_option(\"display.max_rows\", 100)\n",
    "pd.set_option(\"display.max_columns\", None)\n",
    "pd.set_option(\"display.width\", None)\n",
    "pd.set_option(\"display.max_colwidth\", None)\n",
    "\n",
    "logging.getLogger().handlers.clear()\n",
    "\n",
    "TEST = True\n",
    "ENV = \"Live\"\n",
    "DURATION = 15\n",
    "\n",
    "EDT = 5\n",
    "\n",
    "start_time = datetime(2025, 1, 1)\n",
    "\n",
    "setup_logging(\n",
    "    level=logging.INFO,\n",
    "    log_dir=\"../logs\",\n",
    "    filename_prefix=f\"{'dev' if TEST else 'prod'}_tastytrade\",\n",
    "    console=True,\n",
    "    file=True,\n",
    ")\n",
    "\n",
    "loop = asyncio.get_event_loop()\n",
    "loop.set_debug(True)\n",
    "logging.getLogger(\"asyncio\").setLevel(logging.DEBUG)"
   ]
  },
  {
   "cell_type": "markdown",
   "metadata": {},
   "source": [
    "# Service Connections"
   ]
  },
  {
   "cell_type": "code",
   "execution_count": null,
   "metadata": {},
   "outputs": [
    {
     "name": "stderr",
     "output_type": "stream",
     "text": [
      "2025-10-31 01:30:59 - INFO:tastytrade.config.manager:174:Initialized 19 variables from .env file in Redis\n",
      "2025-10-31 01:30:59 - DEBUG:asyncio:848:Get address info api.tastyworks.com:443, type=<SocketKind.SOCK_STREAM: 1>, flags=<AddressInfo.AI_ADDRCONFIG: 32>\n",
      "2025-10-31 01:30:59 - DEBUG:asyncio:858:Getting address info api.tastyworks.com:443, type=<SocketKind.SOCK_STREAM: 1>, flags=<AddressInfo.AI_ADDRCONFIG: 32> took 29.315ms: [(<AddressFamily.AF_INET: 2>, <SocketKind.SOCK_STREAM: 1>, 6, '', ('170.76.246.65', 443))]\n",
      "2025-10-31 01:30:59 - DEBUG:asyncio:535:<asyncio.sslproto.SSLProtocol object at 0x7a6b97fa2b50> starts SSL handshake\n",
      "2025-10-31 01:30:59 - DEBUG:asyncio:594:<asyncio.sslproto.SSLProtocol object at 0x7a6b97fa2b50>: SSL handshake took 45.5 ms\n",
      "2025-10-31 01:30:59 - DEBUG:asyncio:1121:<asyncio.TransportSocket fd=82, family=2, type=1, proto=6, laddr=('172.18.0.2', 49156), raddr=('170.76.246.65', 443)> connected to None:None: (<asyncio.sslproto._SSLProtocolTransport object at 0x7a6b9145deb0>, <aiohttp.client_proto.ResponseHandler object at 0x7a6b9145add0>)\n",
      "2025-10-31 01:30:59 - INFO:tastytrade.connections.requests:148:Session created successfully\n",
      "2025-10-31 01:30:59 - DEBUG:asyncio:848:Get address info tasty-openapi-ws.dxfeed.com:443, type=<SocketKind.SOCK_STREAM: 1>\n",
      "2025-10-31 01:30:59 - INFO:asyncio:856:Getting address info tasty-openapi-ws.dxfeed.com:443, type=<SocketKind.SOCK_STREAM: 1> took 151.764ms: [(<AddressFamily.AF_INET: 2>, <SocketKind.SOCK_STREAM: 1>, 6, '', ('108.157.142.125', 443)), (<AddressFamily.AF_INET: 2>, <SocketKind.SOCK_STREAM: 1>, 6, '', ('108.157.142.101', 443)), (<AddressFamily.AF_INET: 2>, <SocketKind.SOCK_STREAM: 1>, 6, '', ('108.157.142.99', 443)), (<AddressFamily.AF_INET: 2>, <SocketKind.SOCK_STREAM: 1>, 6, '', ('108.157.142.111', 443))]\n",
      "2025-10-31 01:30:59 - DEBUG:asyncio:535:<asyncio.sslproto.SSLProtocol object at 0x7a6b91449190> starts SSL handshake\n",
      "2025-10-31 01:31:00 - DEBUG:asyncio:594:<asyncio.sslproto.SSLProtocol object at 0x7a6b91449190>: SSL handshake took 53.1 ms\n",
      "2025-10-31 01:31:00 - DEBUG:asyncio:1121:<asyncio.TransportSocket fd=84, family=2, type=1, proto=6, laddr=('172.18.0.2', 44888), raddr=('108.157.142.125', 443)> connected to tasty-openapi-ws.dxfeed.com:443: (<asyncio.sslproto._SSLProtocolTransport object at 0x7a6b914de210>, <websockets.asyncio.client.ClientConnection object at 0x7a6b915d3d10>)\n",
      "2025-10-31 01:31:00 - DEBUG:asyncio:848:Get address info redis:6379, type=<SocketKind.SOCK_STREAM: 1>\n",
      "2025-10-31 01:31:00 - DEBUG:asyncio:858:Getting address info redis:6379, type=<SocketKind.SOCK_STREAM: 1> took 0.286ms: [(<AddressFamily.AF_INET: 2>, <SocketKind.SOCK_STREAM: 1>, 6, '', ('172.18.0.4', 6379))]\n",
      "2025-10-31 01:31:00 - DEBUG:asyncio:1121:<asyncio.TransportSocket fd=85, family=2, type=1, proto=6, laddr=('172.18.0.2', 49980), raddr=('172.18.0.4', 6379)> connected to redis:6379: (<_SelectorSocketTransport fd=85 read=polling write=<idle, bufsize=0>>, <asyncio.streams.StreamReaderProtocol object at 0x7a6b914e9790>)\n",
      "2025-10-31 01:31:00 - INFO:tastytrade.connections.subscription:118:Redis ping response: True\n",
      "2025-10-31 01:31:00 - INFO:tastytrade.connections.subscription:122:Redis version: 7.4.5\n",
      "2025-10-31 01:31:00 - INFO:tastytrade.connections.subscription:123:Connected clients: 3\n",
      "2025-10-31 01:31:00 - INFO:tastytrade.messaging.handlers:78:Started Channels.Control listener on channel 0\n",
      "2025-10-31 01:31:00 - INFO:tastytrade.messaging.handlers:78:Started Channels.Quote listener on channel 7\n",
      "2025-10-31 01:31:00 - INFO:tastytrade.messaging.handlers:78:Started Channels.Trade listener on channel 5\n",
      "2025-10-31 01:31:00 - INFO:tastytrade.messaging.handlers:78:Started Channels.Greeks listener on channel 11\n",
      "2025-10-31 01:31:00 - INFO:tastytrade.messaging.handlers:78:Started Channels.Profile listener on channel 1\n",
      "2025-10-31 01:31:00 - INFO:tastytrade.messaging.handlers:78:Started Channels.Summary listener on channel 3\n",
      "2025-10-31 01:31:00 - INFO:tastytrade.messaging.handlers:78:Started Channels.Candle listener on channel 9\n"
     ]
    },
    {
     "name": "stderr",
     "output_type": "stream",
     "text": [
      "2025-10-31 01:31:00 - INFO:tastytrade.messaging.handlers:225:SETUP\n",
      "2025-10-31 01:31:00 - INFO:tastytrade.messaging.handlers:228:AUTH_STATE:UNAUTHORIZED\n",
      "2025-10-31 01:31:00 - INFO:tastytrade.messaging.handlers:228:AUTH_STATE:AUTHORIZED\n",
      "2025-10-31 01:31:00 - INFO:tastytrade.messaging.handlers:231:CHANNEL_OPENED:1\n",
      "2025-10-31 01:31:00 - INFO:tastytrade.messaging.handlers:231:CHANNEL_OPENED:3\n",
      "2025-10-31 01:31:00 - INFO:tastytrade.messaging.handlers:231:CHANNEL_OPENED:5\n",
      "2025-10-31 01:31:00 - INFO:tastytrade.messaging.handlers:231:CHANNEL_OPENED:7\n",
      "2025-10-31 01:31:00 - INFO:tastytrade.messaging.handlers:231:CHANNEL_OPENED:9\n",
      "2025-10-31 01:31:00 - INFO:tastytrade.messaging.handlers:231:CHANNEL_OPENED:11\n",
      "2025-10-31 01:31:00 - INFO:tastytrade.messaging.handlers:231:CHANNEL_OPENED:99\n",
      "2025-10-31 01:31:00 - INFO:tastytrade.messaging.handlers:236:FEED_CONFIG:5:COMPACT\n",
      "2025-10-31 01:31:00 - INFO:tastytrade.messaging.handlers:236:FEED_CONFIG:7:COMPACT\n",
      "2025-10-31 01:31:00 - INFO:tastytrade.messaging.handlers:236:FEED_CONFIG:11:COMPACT\n",
      "2025-10-31 01:31:00 - INFO:tastytrade.messaging.handlers:236:FEED_CONFIG:1:COMPACT\n",
      "2025-10-31 01:31:00 - INFO:tastytrade.messaging.handlers:236:FEED_CONFIG:3:COMPACT\n",
      "2025-10-31 01:31:00 - INFO:tastytrade.messaging.handlers:236:FEED_CONFIG:9:COMPACT\n",
      "2025-10-31 01:31:12 - INFO:tastytrade.messaging.handlers:236:FEED_CONFIG:5:COMPACT:SUBSCRIBED\n",
      "2025-10-31 01:31:12 - INFO:tastytrade.messaging.handlers:236:FEED_CONFIG:7:COMPACT:SUBSCRIBED\n",
      "2025-10-31 01:31:12 - INFO:tastytrade.messaging.handlers:236:FEED_CONFIG:11:COMPACT:SUBSCRIBED\n",
      "2025-10-31 01:31:12 - INFO:tastytrade.messaging.handlers:236:FEED_CONFIG:1:COMPACT:SUBSCRIBED\n",
      "2025-10-31 01:31:12 - INFO:tastytrade.messaging.handlers:236:FEED_CONFIG:3:COMPACT:SUBSCRIBED\n",
      "2025-10-31 01:31:12 - INFO:tastytrade.messaging.handlers:236:FEED_CONFIG:9:COMPACT:SUBSCRIBED\n",
      "2025-10-31 01:31:16 - DEBUG:asyncio:1022:<_SelectorSocketTransport fd=82 read=polling write=<idle, bufsize=0>> received EOF\n",
      "2025-10-31 01:31:16 - DEBUG:asyncio:461:<asyncio.sslproto.SSLProtocol object at 0x7a6b97fa2b50> received EOF\n",
      "2025-10-31 01:36:05 - DEBUG:asyncio:848:Get address info redis:6379, type=<SocketKind.SOCK_STREAM: 1>\n",
      "2025-10-31 01:36:05 - DEBUG:asyncio:858:Getting address info redis:6379, type=<SocketKind.SOCK_STREAM: 1> took 0.290ms: [(<AddressFamily.AF_INET: 2>, <SocketKind.SOCK_STREAM: 1>, 6, '', ('172.18.0.4', 6379))]\n"
     ]
    }
   ],
   "source": [
    "config = RedisConfigManager(env_file=\"/workspace/.env\")\n",
    "config.initialize(force=True)\n",
    "\n",
    "credentials = Credentials(config=config, env=\"Live\")\n",
    "\n",
    "dxlink = DXLinkManager(subscription_store=RedisSubscriptionStore())\n",
    "await dxlink.open(credentials=credentials)\n",
    "\n",
    "influx_user = InfluxCredentials(config=config)\n",
    "influxdb = influxdb_client.InfluxDBClient(\n",
    "    url=influx_user.url, token=influx_user.token, org=influx_user.org\n",
    ")\n",
    "\n",
    "# Safely attach processors only if the router is initialized\n",
    "router = dxlink.router\n",
    "if router is None:\n",
    "    raise RuntimeError(\"DXLink router not initialized after open()\")\n",
    "handlers_dict = getattr(router, \"handler\", None)\n",
    "if handlers_dict is None:\n",
    "    raise RuntimeError(\"DXLink router.handler mapping not initialized\")\n",
    "for h in handlers_dict.values():\n",
    "    h.add_processor(TelegrafHTTPEventProcessor())\n",
    "    h.add_processor(RedisEventProcessor())"
   ]
  },
  {
   "cell_type": "markdown",
   "metadata": {},
   "source": [
    "# Market Data Subscriptions"
   ]
  },
  {
   "cell_type": "code",
   "execution_count": 16,
   "metadata": {},
   "outputs": [
    {
     "name": "stderr",
     "output_type": "stream",
     "text": [
      "2025-10-31 01:36:05 - DEBUG:asyncio:1121:<asyncio.TransportSocket fd=113, family=2, type=1, proto=6, laddr=('172.18.0.2', 59770), raddr=('172.18.0.4', 6379)> connected to redis:6379: (<_SelectorSocketTransport fd=113 read=polling write=<idle, bufsize=0>>, <asyncio.streams.StreamReaderProtocol object at 0x7a6b9027b7d0>)\n",
      "2025-10-31 01:36:05 - INFO:tastytrade.connections.sockets:236:Added subscription: BTC/USD:CXTALP\n",
      "2025-10-31 01:36:05 - INFO:tastytrade.connections.sockets:236:Added subscription: NVDA\n",
      "2025-10-31 01:36:05 - INFO:tastytrade.connections.sockets:236:Added subscription: AAPL\n",
      "2025-10-31 01:36:05 - INFO:tastytrade.connections.sockets:236:Added subscription: QQQ\n",
      "2025-10-31 01:36:05 - INFO:tastytrade.connections.sockets:236:Added subscription: SPY\n",
      "2025-10-31 01:36:05 - INFO:tastytrade.connections.sockets:236:Added subscription: SPX\n",
      "2025-10-31 01:36:05 - INFO:tastytrade.connections.sockets:236:Added subscription: BTC/USD:CXTALP{=d}\n",
      "2025-10-31 01:36:05 - INFO:tastytrade.connections.sockets:236:Added subscription: BTC/USD:CXTALP{=h}\n",
      "2025-10-31 01:36:05 - INFO:tastytrade.connections.sockets:236:Added subscription: BTC/USD:CXTALP{=30m}\n",
      "2025-10-31 01:36:05 - INFO:tastytrade.connections.sockets:236:Added subscription: BTC/USD:CXTALP{=15m}\n",
      "2025-10-31 01:36:05 - INFO:tastytrade.connections.sockets:236:Added subscription: BTC/USD:CXTALP{=5m}\n",
      "2025-10-31 01:36:05 - INFO:tastytrade.connections.sockets:236:Added subscription: BTC/USD:CXTALP{=m}\n",
      "2025-10-31 01:36:05 - INFO:tastytrade.connections.sockets:236:Added subscription: NVDA{=d}\n",
      "2025-10-31 01:36:05 - INFO:tastytrade.connections.sockets:236:Added subscription: NVDA{=h}\n",
      "2025-10-31 01:36:05 - INFO:tastytrade.connections.sockets:236:Added subscription: NVDA{=30m}\n",
      "2025-10-31 01:36:05 - INFO:tastytrade.connections.sockets:236:Added subscription: NVDA{=15m}\n",
      "2025-10-31 01:36:05 - INFO:tastytrade.connections.sockets:236:Added subscription: NVDA{=5m}\n",
      "2025-10-31 01:36:05 - INFO:tastytrade.connections.sockets:236:Added subscription: NVDA{=m}\n",
      "2025-10-31 01:36:05 - INFO:tastytrade.connections.sockets:236:Added subscription: AAPL{=d}\n",
      "2025-10-31 01:36:05 - INFO:tastytrade.connections.sockets:236:Added subscription: AAPL{=h}\n",
      "2025-10-31 01:36:05 - INFO:tastytrade.connections.sockets:236:Added subscription: AAPL{=30m}\n",
      "2025-10-31 01:36:05 - INFO:tastytrade.connections.sockets:236:Added subscription: AAPL{=15m}\n",
      "2025-10-31 01:36:05 - INFO:tastytrade.connections.sockets:236:Added subscription: AAPL{=5m}\n",
      "2025-10-31 01:36:05 - INFO:tastytrade.connections.sockets:236:Added subscription: AAPL{=m}\n",
      "2025-10-31 01:36:05 - INFO:tastytrade.connections.sockets:236:Added subscription: QQQ{=d}\n",
      "2025-10-31 01:36:05 - INFO:tastytrade.connections.sockets:236:Added subscription: QQQ{=h}\n",
      "2025-10-31 01:36:05 - INFO:tastytrade.connections.sockets:236:Added subscription: QQQ{=30m}\n",
      "2025-10-31 01:36:05 - INFO:tastytrade.connections.sockets:236:Added subscription: QQQ{=15m}\n",
      "2025-10-31 01:36:05 - INFO:tastytrade.connections.sockets:236:Added subscription: QQQ{=5m}\n",
      "2025-10-31 01:36:05 - INFO:tastytrade.connections.sockets:236:Added subscription: QQQ{=m}\n",
      "2025-10-31 01:36:05 - INFO:tastytrade.connections.sockets:236:Added subscription: SPY{=d}\n",
      "2025-10-31 01:36:05 - INFO:tastytrade.connections.sockets:236:Added subscription: SPY{=h}\n",
      "2025-10-31 01:36:05 - INFO:tastytrade.connections.sockets:236:Added subscription: SPY{=30m}\n",
      "2025-10-31 01:36:05 - INFO:tastytrade.connections.sockets:236:Added subscription: SPY{=15m}\n",
      "2025-10-31 01:36:05 - INFO:tastytrade.connections.sockets:236:Added subscription: SPY{=5m}\n"
     ]
    },
    {
     "ename": "TimeoutError",
     "evalue": "",
     "output_type": "error",
     "traceback": [
      "\u001b[31m---------------------------------------------------------------------------\u001b[39m",
      "\u001b[31mCancelledError\u001b[39m                            Traceback (most recent call last)",
      "\u001b[36mFile \u001b[39m\u001b[32m/usr/local/lib/python3.11/asyncio/tasks.py:500\u001b[39m, in \u001b[36mwait_for\u001b[39m\u001b[34m(fut, timeout)\u001b[39m\n\u001b[32m    499\u001b[39m \u001b[38;5;28;01mtry\u001b[39;00m:\n\u001b[32m--> \u001b[39m\u001b[32m500\u001b[39m     \u001b[38;5;28;01mreturn\u001b[39;00m fut.result()\n\u001b[32m    501\u001b[39m \u001b[38;5;28;01mexcept\u001b[39;00m exceptions.CancelledError \u001b[38;5;28;01mas\u001b[39;00m exc:\n",
      "\u001b[36mFile \u001b[39m\u001b[32m/workspace/src/tastytrade/connections/sockets.py:371\u001b[39m, in \u001b[36mDXLinkManager.subscribe_to_candles\u001b[39m\u001b[34m(self, symbol, interval, from_time, to_time)\u001b[39m\n\u001b[32m    370\u001b[39m \u001b[38;5;66;03m# Track candle subscription\u001b[39;00m\n\u001b[32m--> \u001b[39m\u001b[32m371\u001b[39m \u001b[38;5;28;01mawait\u001b[39;00m \u001b[38;5;28mself\u001b[39m.track_subscription(request.formatted)\n",
      "\u001b[36mFile \u001b[39m\u001b[32m/workspace/src/tastytrade/connections/sockets.py:235\u001b[39m, in \u001b[36mDXLinkManager.track_subscription\u001b[39m\u001b[34m(self, symbol, metadata)\u001b[39m\n\u001b[32m    234\u001b[39m \u001b[38;5;250m\u001b[39m\u001b[33;03m\"\"\"Track a new subscription.\"\"\"\u001b[39;00m\n\u001b[32m--> \u001b[39m\u001b[32m235\u001b[39m \u001b[38;5;28;01mawait\u001b[39;00m \u001b[38;5;28mself\u001b[39m.subscription_store.add_subscription(symbol, metadata)\n\u001b[32m    236\u001b[39m logger.info(\u001b[33mf\u001b[39m\u001b[33m\"\u001b[39m\u001b[33mAdded subscription: \u001b[39m\u001b[38;5;132;01m{\u001b[39;00msymbol\u001b[38;5;132;01m}\u001b[39;00m\u001b[33m\"\u001b[39m)\n",
      "\u001b[36mFile \u001b[39m\u001b[32m/workspace/src/tastytrade/connections/subscription.py:68\u001b[39m, in \u001b[36mRedisSubscriptionStore.add_subscription\u001b[39m\u001b[34m(self, symbol, metadata)\u001b[39m\n\u001b[32m     67\u001b[39m \u001b[38;5;66;03m# Use HSET instead of SET\u001b[39;00m\n\u001b[32m---> \u001b[39m\u001b[32m68\u001b[39m \u001b[38;5;28;01mawait\u001b[39;00m \u001b[38;5;28mself\u001b[39m.redis.hset(\u001b[38;5;28mself\u001b[39m.hash_key, symbol, json.dumps(data))\n",
      "\u001b[36mFile \u001b[39m\u001b[32m/workspace/.venv/lib/python3.11/site-packages/redis/asyncio/client.py:677\u001b[39m, in \u001b[36mRedis.execute_command\u001b[39m\u001b[34m(self, *args, **options)\u001b[39m\n\u001b[32m    676\u001b[39m \u001b[38;5;28;01mtry\u001b[39;00m:\n\u001b[32m--> \u001b[39m\u001b[32m677\u001b[39m     \u001b[38;5;28;01mreturn\u001b[39;00m \u001b[38;5;28;01mawait\u001b[39;00m conn.retry.call_with_retry(\n\u001b[32m    678\u001b[39m         \u001b[38;5;28;01mlambda\u001b[39;00m: \u001b[38;5;28mself\u001b[39m._send_command_parse_response(\n\u001b[32m    679\u001b[39m             conn, command_name, *args, **options\n\u001b[32m    680\u001b[39m         ),\n\u001b[32m    681\u001b[39m         \u001b[38;5;28;01mlambda\u001b[39;00m _: \u001b[38;5;28mself\u001b[39m._close_connection(conn),\n\u001b[32m    682\u001b[39m     )\n\u001b[32m    683\u001b[39m \u001b[38;5;28;01mfinally\u001b[39;00m:\n",
      "\u001b[36mFile \u001b[39m\u001b[32m/workspace/.venv/lib/python3.11/site-packages/redis/asyncio/retry.py:71\u001b[39m, in \u001b[36mRetry.call_with_retry\u001b[39m\u001b[34m(self, do, fail)\u001b[39m\n\u001b[32m     70\u001b[39m \u001b[38;5;28;01mtry\u001b[39;00m:\n\u001b[32m---> \u001b[39m\u001b[32m71\u001b[39m     \u001b[38;5;28;01mreturn\u001b[39;00m \u001b[38;5;28;01mawait\u001b[39;00m do()\n\u001b[32m     72\u001b[39m \u001b[38;5;28;01mexcept\u001b[39;00m \u001b[38;5;28mself\u001b[39m._supported_errors \u001b[38;5;28;01mas\u001b[39;00m error:\n",
      "\u001b[36mFile \u001b[39m\u001b[32m/workspace/.venv/lib/python3.11/site-packages/redis/asyncio/client.py:652\u001b[39m, in \u001b[36mRedis._send_command_parse_response\u001b[39m\u001b[34m(self, conn, command_name, *args, **options)\u001b[39m\n\u001b[32m    651\u001b[39m \u001b[38;5;28;01mawait\u001b[39;00m conn.send_command(*args)\n\u001b[32m--> \u001b[39m\u001b[32m652\u001b[39m \u001b[38;5;28;01mreturn\u001b[39;00m \u001b[38;5;28;01mawait\u001b[39;00m \u001b[38;5;28mself\u001b[39m.parse_response(conn, command_name, **options)\n",
      "\u001b[36mFile \u001b[39m\u001b[32m/workspace/.venv/lib/python3.11/site-packages/redis/asyncio/client.py:698\u001b[39m, in \u001b[36mRedis.parse_response\u001b[39m\u001b[34m(self, connection, command_name, **options)\u001b[39m\n\u001b[32m    697\u001b[39m     \u001b[38;5;28;01melse\u001b[39;00m:\n\u001b[32m--> \u001b[39m\u001b[32m698\u001b[39m         response = \u001b[38;5;28;01mawait\u001b[39;00m connection.read_response()\n\u001b[32m    699\u001b[39m \u001b[38;5;28;01mexcept\u001b[39;00m ResponseError:\n",
      "\u001b[36mFile \u001b[39m\u001b[32m/workspace/.venv/lib/python3.11/site-packages/redis/asyncio/connection.py:594\u001b[39m, in \u001b[36mAbstractConnection.read_response\u001b[39m\u001b[34m(self, disable_decoding, timeout, disconnect_on_error, push_request)\u001b[39m\n\u001b[32m    593\u001b[39m     \u001b[38;5;28;01melse\u001b[39;00m:\n\u001b[32m--> \u001b[39m\u001b[32m594\u001b[39m         response = \u001b[38;5;28;01mawait\u001b[39;00m \u001b[38;5;28mself\u001b[39m._parser.read_response(\n\u001b[32m    595\u001b[39m             disable_decoding=disable_decoding\n\u001b[32m    596\u001b[39m         )\n\u001b[32m    597\u001b[39m \u001b[38;5;28;01mexcept\u001b[39;00m asyncio.TimeoutError:\n",
      "\u001b[36mFile \u001b[39m\u001b[32m/workspace/.venv/lib/python3.11/site-packages/redis/_parsers/hiredis.py:268\u001b[39m, in \u001b[36m_AsyncHiredisParser.read_response\u001b[39m\u001b[34m(self, disable_decoding, push_request)\u001b[39m\n\u001b[32m    267\u001b[39m \u001b[38;5;28;01mwhile\u001b[39;00m response \u001b[38;5;129;01mis\u001b[39;00m NOT_ENOUGH_DATA:\n\u001b[32m--> \u001b[39m\u001b[32m268\u001b[39m     \u001b[38;5;28;01mawait\u001b[39;00m \u001b[38;5;28mself\u001b[39m.read_from_socket()\n\u001b[32m    269\u001b[39m     \u001b[38;5;28;01mif\u001b[39;00m disable_decoding:\n",
      "\u001b[36mFile \u001b[39m\u001b[32m/workspace/.venv/lib/python3.11/site-packages/redis/_parsers/hiredis.py:245\u001b[39m, in \u001b[36m_AsyncHiredisParser.read_from_socket\u001b[39m\u001b[34m(self)\u001b[39m\n\u001b[32m    244\u001b[39m \u001b[38;5;28;01masync\u001b[39;00m \u001b[38;5;28;01mdef\u001b[39;00m\u001b[38;5;250m \u001b[39m\u001b[34mread_from_socket\u001b[39m(\u001b[38;5;28mself\u001b[39m):\n\u001b[32m--> \u001b[39m\u001b[32m245\u001b[39m     buffer = \u001b[38;5;28;01mawait\u001b[39;00m \u001b[38;5;28mself\u001b[39m._stream.read(\u001b[38;5;28mself\u001b[39m._read_size)\n\u001b[32m    246\u001b[39m     \u001b[38;5;28;01mif\u001b[39;00m \u001b[38;5;129;01mnot\u001b[39;00m buffer \u001b[38;5;129;01mor\u001b[39;00m \u001b[38;5;129;01mnot\u001b[39;00m \u001b[38;5;28misinstance\u001b[39m(buffer, \u001b[38;5;28mbytes\u001b[39m):\n",
      "\u001b[36mFile \u001b[39m\u001b[32m/usr/local/lib/python3.11/asyncio/streams.py:711\u001b[39m, in \u001b[36mStreamReader.read\u001b[39m\u001b[34m(self, n)\u001b[39m\n\u001b[32m    710\u001b[39m \u001b[38;5;28;01mif\u001b[39;00m \u001b[38;5;129;01mnot\u001b[39;00m \u001b[38;5;28mself\u001b[39m._buffer \u001b[38;5;129;01mand\u001b[39;00m \u001b[38;5;129;01mnot\u001b[39;00m \u001b[38;5;28mself\u001b[39m._eof:\n\u001b[32m--> \u001b[39m\u001b[32m711\u001b[39m     \u001b[38;5;28;01mawait\u001b[39;00m \u001b[38;5;28mself\u001b[39m._wait_for_data(\u001b[33m'\u001b[39m\u001b[33mread\u001b[39m\u001b[33m'\u001b[39m)\n\u001b[32m    713\u001b[39m \u001b[38;5;66;03m# This will work right even if buffer is less than n bytes\u001b[39;00m\n",
      "\u001b[36mFile \u001b[39m\u001b[32m/usr/local/lib/python3.11/asyncio/streams.py:543\u001b[39m, in \u001b[36mStreamReader._wait_for_data\u001b[39m\u001b[34m(self, func_name)\u001b[39m\n\u001b[32m    542\u001b[39m \u001b[38;5;28;01mtry\u001b[39;00m:\n\u001b[32m--> \u001b[39m\u001b[32m543\u001b[39m     \u001b[38;5;28;01mawait\u001b[39;00m \u001b[38;5;28mself\u001b[39m._waiter\n\u001b[32m    544\u001b[39m \u001b[38;5;28;01mfinally\u001b[39;00m:\n",
      "\u001b[31mCancelledError\u001b[39m: ",
      "\nThe above exception was the direct cause of the following exception:\n",
      "\u001b[31mTimeoutError\u001b[39m                              Traceback (most recent call last)",
      "\u001b[36mCell\u001b[39m\u001b[36m \u001b[39m\u001b[32mIn[16]\u001b[39m\u001b[32m, line 24\u001b[39m\n\u001b[32m     18\u001b[39m \u001b[38;5;28;01mfor\u001b[39;00m interval \u001b[38;5;129;01min\u001b[39;00m intervals:\n\u001b[32m     19\u001b[39m     coroutine = dxlink.subscribe_to_candles(\n\u001b[32m     20\u001b[39m         symbol=symbol,\n\u001b[32m     21\u001b[39m         interval=interval,\n\u001b[32m     22\u001b[39m         from_time=start_time,\n\u001b[32m     23\u001b[39m     )\n\u001b[32m---> \u001b[39m\u001b[32m24\u001b[39m     \u001b[38;5;28;01mawait\u001b[39;00m asyncio.wait_for(coroutine, timeout=\u001b[32m10\u001b[39m)\n",
      "\u001b[36mFile \u001b[39m\u001b[32m/usr/local/lib/python3.11/asyncio/tasks.py:502\u001b[39m, in \u001b[36mwait_for\u001b[39m\u001b[34m(fut, timeout)\u001b[39m\n\u001b[32m    500\u001b[39m             \u001b[38;5;28;01mreturn\u001b[39;00m fut.result()\n\u001b[32m    501\u001b[39m         \u001b[38;5;28;01mexcept\u001b[39;00m exceptions.CancelledError \u001b[38;5;28;01mas\u001b[39;00m exc:\n\u001b[32m--> \u001b[39m\u001b[32m502\u001b[39m             \u001b[38;5;28;01mraise\u001b[39;00m exceptions.TimeoutError() \u001b[38;5;28;01mfrom\u001b[39;00m\u001b[38;5;250m \u001b[39m\u001b[34;01mexc\u001b[39;00m\n\u001b[32m    503\u001b[39m \u001b[38;5;28;01mfinally\u001b[39;00m:\n\u001b[32m    504\u001b[39m     timeout_handle.cancel()\n",
      "\u001b[31mTimeoutError\u001b[39m: "
     ]
    }
   ],
   "source": [
    "start_time = datetime(2025, 10, 25)\n",
    "\n",
    "symbols = [\"BTC/USD:CXTALP\", \"NVDA\", \"AAPL\", \"QQQ\", \"SPY\", \"SPX\"]  # , \"/ESH25:XCME\"]\n",
    "# symbols = [\"BTC/USD:CXTALP\"]\n",
    "# symbols = [\"NVDA\"]\n",
    "# symbols = [\"QQQ\"]\n",
    "# symbols = [\"AAPL\"]\n",
    "# symbols = [\"SPY\"]\n",
    "# symbols = [\"SPX\"]\n",
    "\n",
    "intervals = [\"1d\", \"1h\", \"30m\", \"15m\", \"5m\", \"m\"]\n",
    "\n",
    "# ticker subscriptions\n",
    "await dxlink.subscribe(symbols)\n",
    "\n",
    "# candle subscriptions\n",
    "for symbol in symbols:\n",
    "    for interval in intervals:\n",
    "        coroutine = dxlink.subscribe_to_candles(\n",
    "            symbol=symbol,\n",
    "            interval=interval,\n",
    "            from_time=start_time,\n",
    "        )\n",
    "        await asyncio.wait_for(coroutine, timeout=10)"
   ]
  },
  {
   "cell_type": "code",
   "execution_count": 17,
   "metadata": {},
   "outputs": [],
   "source": [
    "# forward fill\n",
    "for symbol in symbols:\n",
    "    for interval in intervals:\n",
    "        event_symbol = f\"{symbol}{{={interval}}}\"\n",
    "        logging.debug(\"Forward-filling %s\", event_symbol)\n",
    "        forward_fill(symbol=event_symbol, lookback_days=5)"
   ]
  },
  {
   "cell_type": "markdown",
   "metadata": {},
   "source": [
    "# Check | Market Data feeds"
   ]
  },
  {
   "cell_type": "code",
   "execution_count": 6,
   "metadata": {},
   "outputs": [
    {
     "data": {
      "text/markdown": [
       "**Candle Feed:** BTC/USD:CXTALP{=5m}"
      ],
      "text/plain": [
       "<IPython.core.display.Markdown object>"
      ]
     },
     "metadata": {},
     "output_type": "display_data"
    },
    {
     "data": {
      "text/html": [
       "<div><style>\n",
       ".dataframe > thead > tr,\n",
       ".dataframe > tbody > tr {\n",
       "  text-align: right;\n",
       "  white-space: pre-wrap;\n",
       "}\n",
       "</style>\n",
       "<small>shape: (5, 16)</small><table border=\"1\" class=\"dataframe\"><thead><tr><th>eventSymbol</th><th>time</th><th>eventFlags</th><th>index</th><th>sequence</th><th>count</th><th>open</th><th>high</th><th>low</th><th>close</th><th>volume</th><th>bidVolume</th><th>askVolume</th><th>openInterest</th><th>vwap</th><th>impVolatility</th></tr><tr><td>str</td><td>datetime[μs]</td><td>i64</td><td>i64</td><td>i64</td><td>i64</td><td>f64</td><td>f64</td><td>f64</td><td>f64</td><td>f64</td><td>f64</td><td>f64</td><td>f64</td><td>f64</td><td>f64</td></tr></thead><tbody><tr><td>&quot;BTC/USD:CXTALP{=5m}&quot;</td><td>2025-10-16 15:50:00</td><td>0</td><td>7561847411363020800</td><td>0</td><td>1773</td><td>109183.22</td><td>109335.58</td><td>109173.21</td><td>109239.48</td><td>null</td><td>null</td><td>null</td><td>0.0</td><td>null</td><td>null</td></tr><tr><td>&quot;BTC/USD:CXTALP{=5m}&quot;</td><td>2025-10-16 15:45:00</td><td>0</td><td>7561846122872832000</td><td>0</td><td>4688</td><td>109765.78</td><td>109781.5</td><td>109041.41</td><td>109184.13</td><td>null</td><td>null</td><td>null</td><td>0.0</td><td>null</td><td>null</td></tr><tr><td>&quot;BTC/USD:CXTALP{=5m}&quot;</td><td>2025-10-16 15:40:00</td><td>0</td><td>7561844834382643200</td><td>0</td><td>2878</td><td>110264.11</td><td>110272.18</td><td>109540.69</td><td>109765.78</td><td>null</td><td>null</td><td>null</td><td>0.0</td><td>null</td><td>null</td></tr><tr><td>&quot;BTC/USD:CXTALP{=5m}&quot;</td><td>2025-10-16 15:35:00</td><td>0</td><td>7561843545892454400</td><td>0</td><td>989</td><td>110368.1</td><td>110372.67</td><td>110215.39</td><td>110264.6</td><td>null</td><td>null</td><td>null</td><td>0.0</td><td>null</td><td>null</td></tr><tr><td>&quot;BTC/USD:CXTALP{=5m}&quot;</td><td>2025-10-16 15:30:00</td><td>0</td><td>7561842257402265600</td><td>0</td><td>1375</td><td>110575.81</td><td>110582.57</td><td>110217.69</td><td>110364.17</td><td>null</td><td>null</td><td>null</td><td>0.0</td><td>null</td><td>null</td></tr></tbody></table></div>"
      ],
      "text/plain": [
       "shape: (5, 16)\n",
       "┌────────────┬────────────┬────────────┬────────────┬───┬───────────┬───────────┬──────┬───────────┐\n",
       "│ eventSymbo ┆ time       ┆ eventFlags ┆ index      ┆ … ┆ askVolume ┆ openInter ┆ vwap ┆ impVolati │\n",
       "│ l          ┆ ---        ┆ ---        ┆ ---        ┆   ┆ ---       ┆ est       ┆ ---  ┆ lity      │\n",
       "│ ---        ┆ datetime[μ ┆ i64        ┆ i64        ┆   ┆ f64       ┆ ---       ┆ f64  ┆ ---       │\n",
       "│ str        ┆ s]         ┆            ┆            ┆   ┆           ┆ f64       ┆      ┆ f64       │\n",
       "╞════════════╪════════════╪════════════╪════════════╪═══╪═══════════╪═══════════╪══════╪═══════════╡\n",
       "│ BTC/USD:CX ┆ 2025-10-16 ┆ 0          ┆ 7561847411 ┆ … ┆ null      ┆ 0.0       ┆ null ┆ null      │\n",
       "│ TALP{=5m}  ┆ 15:50:00   ┆            ┆ 363020800  ┆   ┆           ┆           ┆      ┆           │\n",
       "│ BTC/USD:CX ┆ 2025-10-16 ┆ 0          ┆ 7561846122 ┆ … ┆ null      ┆ 0.0       ┆ null ┆ null      │\n",
       "│ TALP{=5m}  ┆ 15:45:00   ┆            ┆ 872832000  ┆   ┆           ┆           ┆      ┆           │\n",
       "│ BTC/USD:CX ┆ 2025-10-16 ┆ 0          ┆ 7561844834 ┆ … ┆ null      ┆ 0.0       ┆ null ┆ null      │\n",
       "│ TALP{=5m}  ┆ 15:40:00   ┆            ┆ 382643200  ┆   ┆           ┆           ┆      ┆           │\n",
       "│ BTC/USD:CX ┆ 2025-10-16 ┆ 0          ┆ 7561843545 ┆ … ┆ null      ┆ 0.0       ┆ null ┆ null      │\n",
       "│ TALP{=5m}  ┆ 15:35:00   ┆            ┆ 892454400  ┆   ┆           ┆           ┆      ┆           │\n",
       "│ BTC/USD:CX ┆ 2025-10-16 ┆ 0          ┆ 7561842257 ┆ … ┆ null      ┆ 0.0       ┆ null ┆ null      │\n",
       "│ TALP{=5m}  ┆ 15:30:00   ┆            ┆ 402265600  ┆   ┆           ┆           ┆      ┆           │\n",
       "└────────────┴────────────┴────────────┴────────────┴───┴───────────┴───────────┴──────┴───────────┘"
      ]
     },
     "execution_count": 6,
     "metadata": {},
     "output_type": "execute_result"
    }
   ],
   "source": [
    "symbol = \"SPX{=m}\"\n",
    "symbol = \"BTC/USD:CXTALP{=5m}\"\n",
    "# symbol = \"/ESH25:XCME{=m}\"\n",
    "\n",
    "display(Markdown(f\"**Candle Feed:** {symbol}\"))\n",
    "router = dxlink.router\n",
    "if router is None or getattr(router, \"handler\", None) is None:\n",
    "    raise RuntimeError(\"Router or handler map not initialized\")\n",
    "handlers_dict = router.handler\n",
    "candle_handler = handlers_dict.get(Channels.Candle)\n",
    "if candle_handler is None:\n",
    "    raise KeyError(\"Candle channel handler not available\")\n",
    "feed_proc = candle_handler.processors.get(\"feed\")\n",
    "if feed_proc is None:\n",
    "    raise KeyError(\"'feed' processor missing on Candle handler\")\n",
    "frames = getattr(feed_proc, \"frames\", {})\n",
    "if symbol not in frames:\n",
    "    raise KeyError(f\"No frames for symbol {symbol}\")\n",
    "(frames[f\"{symbol}\"].tail(5).sort(by=\"time\", descending=True))"
   ]
  },
  {
   "cell_type": "code",
   "execution_count": 7,
   "metadata": {},
   "outputs": [
    {
     "data": {
      "text/markdown": [
       "**Quote Feed:** BTC/USD:CXTALP{=5m}"
      ],
      "text/plain": [
       "<IPython.core.display.Markdown object>"
      ]
     },
     "metadata": {},
     "output_type": "display_data"
    },
    {
     "data": {
      "text/html": [
       "<div><style>\n",
       ".dataframe > thead > tr,\n",
       ".dataframe > tbody > tr {\n",
       "  text-align: right;\n",
       "  white-space: pre-wrap;\n",
       "}\n",
       "</style>\n",
       "<small>shape: (6, 5)</small><table border=\"1\" class=\"dataframe\"><thead><tr><th>eventSymbol</th><th>bidPrice</th><th>askPrice</th><th>bidSize</th><th>askSize</th></tr><tr><td>str</td><td>f64</td><td>f64</td><td>f64</td><td>f64</td></tr></thead><tbody><tr><td>&quot;BTC/USD:CXTALP&quot;</td><td>109000.0</td><td>109474.13</td><td>0.03</td><td>0.04</td></tr><tr><td>&quot;NVDA&quot;</td><td>182.23</td><td>182.24</td><td>241.0</td><td>196.0</td></tr><tr><td>&quot;AAPL&quot;</td><td>248.23</td><td>248.29</td><td>25.0</td><td>150.0</td></tr><tr><td>&quot;SPX&quot;</td><td>6672.33</td><td>6677.43</td><td>null</td><td>null</td></tr><tr><td>&quot;QQQ&quot;</td><td>604.27</td><td>604.28</td><td>135.0</td><td>25.0</td></tr><tr><td>&quot;SPY&quot;</td><td>665.3</td><td>665.31</td><td>230.0</td><td>130.0</td></tr></tbody></table></div>"
      ],
      "text/plain": [
       "shape: (6, 5)\n",
       "┌────────────────┬──────────┬───────────┬─────────┬─────────┐\n",
       "│ eventSymbol    ┆ bidPrice ┆ askPrice  ┆ bidSize ┆ askSize │\n",
       "│ ---            ┆ ---      ┆ ---       ┆ ---     ┆ ---     │\n",
       "│ str            ┆ f64      ┆ f64       ┆ f64     ┆ f64     │\n",
       "╞════════════════╪══════════╪═══════════╪═════════╪═════════╡\n",
       "│ BTC/USD:CXTALP ┆ 109000.0 ┆ 109474.13 ┆ 0.03    ┆ 0.04    │\n",
       "│ NVDA           ┆ 182.23   ┆ 182.24    ┆ 241.0   ┆ 196.0   │\n",
       "│ AAPL           ┆ 248.23   ┆ 248.29    ┆ 25.0    ┆ 150.0   │\n",
       "│ SPX            ┆ 6672.33  ┆ 6677.43   ┆ null    ┆ null    │\n",
       "│ QQQ            ┆ 604.27   ┆ 604.28    ┆ 135.0   ┆ 25.0    │\n",
       "│ SPY            ┆ 665.3    ┆ 665.31    ┆ 230.0   ┆ 130.0   │\n",
       "└────────────────┴──────────┴───────────┴─────────┴─────────┘"
      ]
     },
     "execution_count": 7,
     "metadata": {},
     "output_type": "execute_result"
    }
   ],
   "source": [
    "display(Markdown(f\"**Quote Feed:** {symbol}\"))\n",
    "router = dxlink.router\n",
    "if router is None or getattr(router, \"handler\", None) is None:\n",
    "    raise RuntimeError(\"Router or handler map not initialized\")\n",
    "quote_handler = router.handler.get(Channels.Quote)\n",
    "if quote_handler is None:\n",
    "    raise KeyError(\"Quote channel handler not available\")\n",
    "feed_proc = quote_handler.processors.get(\"feed\")\n",
    "if feed_proc is None:\n",
    "    raise KeyError(\"'feed' processor missing on Quote handler\")\n",
    "feed_proc.pl"
   ]
  },
  {
   "cell_type": "code",
   "execution_count": null,
   "metadata": {},
   "outputs": [],
   "source": [
    "# TODOS\n",
    "\n",
    "# [x] Widen the plot\n",
    "# [x] Remove the scroller at the bottom\n",
    "# [x] move the legent and remove Price (that is obvious)\n",
    "# [x] Add MACD\n",
    "# [x] Fix HULL - Align w/ candlesticks\n",
    "# [x] ERROR if no study data found\n",
    "\n",
    "# [ ] Add RSI\n",
    "# [ ] Add Volume Profile (?? ... /ES, SPY, etc)\n",
    "# [ ] Add velocity metric"
   ]
  },
  {
   "cell_type": "code",
   "execution_count": null,
   "metadata": {},
   "outputs": [],
   "source": [
    "await dxlink.close()"
   ]
  }
 ],
 "metadata": {
  "kernelspec": {
   "display_name": "tastytrade (3.11.14)",
   "language": "python",
   "name": "python3"
  },
  "language_info": {
   "codemirror_mode": {
    "name": "ipython",
    "version": 3
   },
   "file_extension": ".py",
   "mimetype": "text/x-python",
   "name": "python",
   "nbconvert_exporter": "python",
   "pygments_lexer": "ipython3",
   "version": "3.11.14"
  }
 },
 "nbformat": 4,
 "nbformat_minor": 2
}
