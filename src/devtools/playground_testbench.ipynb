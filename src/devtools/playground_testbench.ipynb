{
 "cells": [
  {
   "cell_type": "code",
   "execution_count": 1,
   "metadata": {},
   "outputs": [
    {
     "name": "stderr",
     "output_type": "stream",
     "text": [
      "2025-03-13 20:09:46 - INFO:root:62:Logging initialized - writing to ../logs/dev_tastytrade_20250313.log\n"
     ]
    }
   ],
   "source": [
    "import logging\n",
    "import asyncio\n",
    "import pandas as pd\n",
    "from IPython.display import display, Markdown\n",
    "\n",
    "from datetime import datetime\n",
    "\n",
    "import influxdb_client\n",
    "\n",
    "from tastytrade.common.logging import setup_logging\n",
    "from tastytrade.config.enumerations import Channels\n",
    "from tastytrade.connections.sockets import DXLinkManager\n",
    "from tastytrade.connections import Credentials, InfluxCredentials\n",
    "\n",
    "from tastytrade.messaging.processors import TelegrafHTTPEventProcessor, RedisEventProcessor\n",
    "from tastytrade.config import RedisConfigManager\n",
    "from tastytrade.connections.subscription import RedisSubscriptionStore\n",
    "from tastytrade.utils.time_series import forward_fill\n",
    "\n",
    "# Show all rows in pandas DataFrames\n",
    "pd.set_option(\"display.max_rows\", 100)\n",
    "pd.set_option(\"display.max_columns\", None)\n",
    "pd.set_option(\"display.width\", None)\n",
    "pd.set_option(\"display.max_colwidth\", None)\n",
    "\n",
    "logging.getLogger().handlers.clear()\n",
    "\n",
    "TEST = True\n",
    "ENV = \"Live\"\n",
    "DURATION = 15\n",
    "\n",
    "EDT = 5\n",
    "\n",
    "start_time = datetime(2025, 1, 1)\n",
    "\n",
    "setup_logging(\n",
    "    level=logging.INFO,\n",
    "    log_dir=\"../logs\",\n",
    "    filename_prefix=f\"{'dev' if TEST else 'prod'}_tastytrade\",\n",
    "    console=True,\n",
    "    file=True,\n",
    ")\n",
    "\n",
    "loop = asyncio.get_event_loop()\n",
    "loop.set_debug(True)\n",
    "logging.getLogger(\"asyncio\").setLevel(logging.DEBUG)"
   ]
  },
  {
   "cell_type": "markdown",
   "metadata": {},
   "source": [
    "# Service Connections"
   ]
  },
  {
   "cell_type": "code",
   "execution_count": 2,
   "metadata": {},
   "outputs": [
    {
     "name": "stderr",
     "output_type": "stream",
     "text": [
      "2025-03-13 20:09:50 - INFO:tastytrade.config.manager:170:Initialized 16 variables from .env file in Redis\n",
      "2025-03-13 20:09:50 - DEBUG:asyncio:848:Get address info api.tastyworks.com:443, type=<SocketKind.SOCK_STREAM: 1>, flags=<AddressInfo.AI_ADDRCONFIG: 32>\n",
      "2025-03-13 20:09:50 - DEBUG:asyncio:858:Getting address info api.tastyworks.com:443, type=<SocketKind.SOCK_STREAM: 1>, flags=<AddressInfo.AI_ADDRCONFIG: 32> took 18.306ms: [(<AddressFamily.AF_INET: 2>, <SocketKind.SOCK_STREAM: 1>, 6, '', ('170.76.244.141', 443))]\n",
      "2025-03-13 20:09:50 - DEBUG:asyncio:535:<asyncio.sslproto.SSLProtocol object at 0x751c9c256790> starts SSL handshake\n",
      "2025-03-13 20:09:50 - DEBUG:asyncio:594:<asyncio.sslproto.SSLProtocol object at 0x751c9c256790>: SSL handshake took 40.9 ms\n",
      "2025-03-13 20:09:50 - DEBUG:asyncio:1121:<asyncio.TransportSocket fd=73, family=2, type=1, proto=6, laddr=('172.18.0.7', 48484), raddr=('170.76.244.141', 443)> connected to None:None: (<asyncio.sslproto._SSLProtocolTransport object at 0x751c913082f0>, <aiohttp.client_proto.ResponseHandler object at 0x751c914ff380>)\n",
      "2025-03-13 20:09:50 - INFO:tastytrade.connections.requests:144:Session created successfully\n",
      "2025-03-13 20:09:50 - DEBUG:asyncio:848:Get address info tasty-openapi-ws.dxfeed.com:443, type=<SocketKind.SOCK_STREAM: 1>\n",
      "2025-03-13 20:09:50 - INFO:asyncio:856:Getting address info tasty-openapi-ws.dxfeed.com:443, type=<SocketKind.SOCK_STREAM: 1> took 226.788ms: [(<AddressFamily.AF_INET: 2>, <SocketKind.SOCK_STREAM: 1>, 6, '', ('13.226.94.104', 443)), (<AddressFamily.AF_INET: 2>, <SocketKind.SOCK_STREAM: 1>, 6, '', ('13.226.94.84', 443)), (<AddressFamily.AF_INET: 2>, <SocketKind.SOCK_STREAM: 1>, 6, '', ('13.226.94.47', 443)), (<AddressFamily.AF_INET: 2>, <SocketKind.SOCK_STREAM: 1>, 6, '', ('13.226.94.119', 443))]\n",
      "2025-03-13 20:09:51 - DEBUG:asyncio:535:<asyncio.sslproto.SSLProtocol object at 0x751c914e46d0> starts SSL handshake\n",
      "2025-03-13 20:09:51 - DEBUG:asyncio:594:<asyncio.sslproto.SSLProtocol object at 0x751c914e46d0>: SSL handshake took 19.2 ms\n",
      "2025-03-13 20:09:51 - DEBUG:asyncio:1121:<asyncio.TransportSocket fd=74, family=2, type=1, proto=6, laddr=('172.18.0.7', 59928), raddr=('13.226.94.104', 443)> connected to tasty-openapi-ws.dxfeed.com:443: (<asyncio.sslproto._SSLProtocolTransport object at 0x751c9137e6f0>, <websockets.asyncio.client.ClientConnection object at 0x751c9c116190>)\n",
      "2025-03-13 20:09:51 - DEBUG:asyncio:848:Get address info redis:6379, type=<SocketKind.SOCK_STREAM: 1>\n",
      "2025-03-13 20:09:51 - DEBUG:asyncio:858:Getting address info redis:6379, type=<SocketKind.SOCK_STREAM: 1> took 0.470ms: [(<AddressFamily.AF_INET: 2>, <SocketKind.SOCK_STREAM: 1>, 6, '', ('172.18.0.2', 6379))]\n",
      "2025-03-13 20:09:51 - DEBUG:asyncio:1121:<asyncio.TransportSocket fd=75, family=2, type=1, proto=6, laddr=('172.18.0.7', 42006), raddr=('172.18.0.2', 6379)> connected to redis:6379: (<_SelectorSocketTransport fd=75 read=polling write=<idle, bufsize=0>>, <asyncio.streams.StreamReaderProtocol object at 0x751c9137a310>)\n",
      "2025-03-13 20:09:51 - INFO:tastytrade.connections.subscription:116:Redis ping response: True\n",
      "2025-03-13 20:09:51 - INFO:tastytrade.connections.subscription:120:Redis version: 7.4.2\n",
      "2025-03-13 20:09:51 - INFO:tastytrade.connections.subscription:121:Connected clients: 4\n",
      "2025-03-13 20:09:51 - INFO:tastytrade.messaging.handlers:78:Started Channels.Control listener on channel 0\n",
      "2025-03-13 20:09:51 - INFO:tastytrade.messaging.handlers:78:Started Channels.Quote listener on channel 7\n",
      "2025-03-13 20:09:51 - INFO:tastytrade.messaging.handlers:78:Started Channels.Trade listener on channel 5\n",
      "2025-03-13 20:09:51 - INFO:tastytrade.messaging.handlers:78:Started Channels.Greeks listener on channel 11\n",
      "2025-03-13 20:09:51 - INFO:tastytrade.messaging.handlers:78:Started Channels.Profile listener on channel 1\n",
      "2025-03-13 20:09:51 - INFO:tastytrade.messaging.handlers:78:Started Channels.Summary listener on channel 3\n",
      "2025-03-13 20:09:51 - INFO:tastytrade.messaging.handlers:78:Started Channels.Candle listener on channel 9\n"
     ]
    },
    {
     "name": "stderr",
     "output_type": "stream",
     "text": [
      "2025-03-13 20:09:51 - INFO:tastytrade.messaging.handlers:212:SETUP\n",
      "2025-03-13 20:09:51 - INFO:tastytrade.messaging.handlers:215:AUTH_STATE:UNAUTHORIZED\n",
      "2025-03-13 20:09:51 - INFO:tastytrade.messaging.handlers:215:AUTH_STATE:AUTHORIZED\n",
      "2025-03-13 20:09:51 - INFO:tastytrade.messaging.handlers:218:CHANNEL_OPENED:1\n",
      "2025-03-13 20:09:51 - INFO:tastytrade.messaging.handlers:218:CHANNEL_OPENED:3\n",
      "2025-03-13 20:09:51 - INFO:tastytrade.messaging.handlers:218:CHANNEL_OPENED:5\n",
      "2025-03-13 20:09:51 - INFO:tastytrade.messaging.handlers:218:CHANNEL_OPENED:7\n",
      "2025-03-13 20:09:51 - INFO:tastytrade.messaging.handlers:218:CHANNEL_OPENED:9\n",
      "2025-03-13 20:09:51 - INFO:tastytrade.messaging.handlers:218:CHANNEL_OPENED:11\n",
      "2025-03-13 20:09:51 - INFO:tastytrade.messaging.handlers:218:CHANNEL_OPENED:99\n",
      "2025-03-13 20:09:51 - INFO:tastytrade.messaging.handlers:223:FEED_CONFIG:5:COMPACT\n",
      "2025-03-13 20:09:51 - INFO:tastytrade.messaging.handlers:223:FEED_CONFIG:7:COMPACT\n",
      "2025-03-13 20:09:51 - INFO:tastytrade.messaging.handlers:223:FEED_CONFIG:11:COMPACT\n",
      "2025-03-13 20:09:51 - INFO:tastytrade.messaging.handlers:223:FEED_CONFIG:1:COMPACT\n",
      "2025-03-13 20:09:51 - INFO:tastytrade.messaging.handlers:223:FEED_CONFIG:3:COMPACT\n",
      "2025-03-13 20:09:51 - INFO:tastytrade.messaging.handlers:223:FEED_CONFIG:9:COMPACT\n",
      "2025-03-13 20:09:56 - INFO:tastytrade.messaging.handlers:223:FEED_CONFIG:5:COMPACT:SUBSCRIBED\n",
      "2025-03-13 20:09:56 - INFO:tastytrade.messaging.handlers:223:FEED_CONFIG:7:COMPACT:SUBSCRIBED\n",
      "2025-03-13 20:09:56 - INFO:tastytrade.messaging.handlers:223:FEED_CONFIG:11:COMPACT:SUBSCRIBED\n",
      "2025-03-13 20:09:56 - INFO:tastytrade.messaging.handlers:223:FEED_CONFIG:1:COMPACT:SUBSCRIBED\n",
      "2025-03-13 20:09:56 - INFO:tastytrade.messaging.handlers:223:FEED_CONFIG:3:COMPACT:SUBSCRIBED\n",
      "2025-03-13 20:09:56 - INFO:tastytrade.messaging.handlers:223:FEED_CONFIG:9:COMPACT:SUBSCRIBED\n",
      "2025-03-13 20:10:05 - DEBUG:asyncio:1022:<_SelectorSocketTransport fd=73 read=polling write=<idle, bufsize=0>> received EOF\n",
      "2025-03-13 20:10:05 - DEBUG:asyncio:461:<asyncio.sslproto.SSLProtocol object at 0x751c9c256790> received EOF\n"
     ]
    }
   ],
   "source": [
    "config = RedisConfigManager(env_file=\"/workspace/.env\")\n",
    "config.initialize(force=True)\n",
    "\n",
    "credentials = Credentials(config=config, env=\"Live\")\n",
    "\n",
    "dxlink = DXLinkManager(subscription_store=RedisSubscriptionStore())\n",
    "await dxlink.open(credentials=credentials)\n",
    "\n",
    "influx_user = InfluxCredentials(config=config)\n",
    "influxdb = influxdb_client.InfluxDBClient(\n",
    "    url=influx_user.url, token=influx_user.token, org=influx_user.org\n",
    ")\n",
    "\n",
    "for handler in dxlink.router.handler.values():\n",
    "    handler.add_processor(TelegrafHTTPEventProcessor())\n",
    "    handler.add_processor(RedisEventProcessor())"
   ]
  },
  {
   "cell_type": "markdown",
   "metadata": {},
   "source": [
    "# Market Data Subscriptions"
   ]
  },
  {
   "cell_type": "code",
   "execution_count": 3,
   "metadata": {},
   "outputs": [
    {
     "name": "stderr",
     "output_type": "stream",
     "text": [
      "2025-03-13 20:09:56 - INFO:tastytrade.connections.sockets:231:Added subscription: BTC/USD:CXTALP\n",
      "2025-03-13 20:09:56 - INFO:tastytrade.connections.sockets:231:Added subscription: NVDA\n",
      "2025-03-13 20:09:56 - INFO:tastytrade.connections.sockets:231:Added subscription: AAPL\n",
      "2025-03-13 20:09:56 - INFO:tastytrade.connections.sockets:231:Added subscription: QQQ\n",
      "2025-03-13 20:09:56 - INFO:tastytrade.connections.sockets:231:Added subscription: SPY\n",
      "2025-03-13 20:09:56 - INFO:tastytrade.connections.sockets:231:Added subscription: SPX\n",
      "2025-03-13 20:09:56 - INFO:tastytrade.connections.sockets:231:Added subscription: /ESH25:XCME\n",
      "2025-03-13 20:09:56 - INFO:tastytrade.connections.sockets:231:Added subscription: BTC/USD:CXTALP{=d}\n",
      "2025-03-13 20:09:56 - INFO:tastytrade.connections.sockets:231:Added subscription: BTC/USD:CXTALP{=h}\n",
      "2025-03-13 20:09:56 - INFO:tastytrade.connections.sockets:231:Added subscription: BTC/USD:CXTALP{=30m}\n",
      "2025-03-13 20:09:56 - INFO:tastytrade.connections.sockets:231:Added subscription: BTC/USD:CXTALP{=15m}\n",
      "2025-03-13 20:09:56 - INFO:tastytrade.connections.sockets:231:Added subscription: BTC/USD:CXTALP{=5m}\n",
      "2025-03-13 20:09:56 - INFO:tastytrade.connections.sockets:231:Added subscription: BTC/USD:CXTALP{=m}\n",
      "2025-03-13 20:09:57 - INFO:tastytrade.connections.sockets:231:Added subscription: NVDA{=d}\n",
      "2025-03-13 20:09:58 - INFO:tastytrade.connections.sockets:231:Added subscription: NVDA{=h}\n",
      "2025-03-13 20:09:58 - INFO:tastytrade.connections.sockets:231:Added subscription: NVDA{=30m}\n",
      "2025-03-13 20:09:58 - INFO:tastytrade.connections.sockets:231:Added subscription: NVDA{=15m}\n",
      "2025-03-13 20:09:58 - INFO:tastytrade.connections.sockets:231:Added subscription: NVDA{=5m}\n",
      "2025-03-13 20:09:58 - INFO:tastytrade.connections.sockets:231:Added subscription: NVDA{=m}\n",
      "2025-03-13 20:09:58 - INFO:tastytrade.connections.sockets:231:Added subscription: AAPL{=d}\n",
      "2025-03-13 20:09:58 - INFO:tastytrade.connections.sockets:231:Added subscription: AAPL{=h}\n",
      "2025-03-13 20:09:58 - INFO:tastytrade.connections.sockets:231:Added subscription: AAPL{=30m}\n",
      "2025-03-13 20:09:58 - INFO:tastytrade.connections.sockets:231:Added subscription: AAPL{=15m}\n",
      "2025-03-13 20:09:58 - INFO:tastytrade.connections.sockets:231:Added subscription: AAPL{=5m}\n",
      "2025-03-13 20:09:58 - INFO:tastytrade.connections.sockets:231:Added subscription: AAPL{=m}\n",
      "2025-03-13 20:09:58 - INFO:tastytrade.connections.sockets:231:Added subscription: QQQ{=d}\n",
      "2025-03-13 20:09:58 - INFO:tastytrade.connections.sockets:231:Added subscription: QQQ{=h}\n",
      "2025-03-13 20:09:58 - INFO:tastytrade.connections.sockets:231:Added subscription: QQQ{=30m}\n",
      "2025-03-13 20:09:59 - INFO:tastytrade.connections.sockets:231:Added subscription: QQQ{=15m}\n",
      "2025-03-13 20:10:00 - INFO:tastytrade.connections.sockets:231:Added subscription: QQQ{=5m}\n",
      "2025-03-13 20:10:00 - INFO:tastytrade.connections.sockets:231:Added subscription: QQQ{=m}\n",
      "2025-03-13 20:10:00 - INFO:tastytrade.connections.sockets:231:Added subscription: SPY{=d}\n",
      "2025-03-13 20:10:00 - INFO:tastytrade.connections.sockets:231:Added subscription: SPY{=h}\n",
      "2025-03-13 20:10:00 - INFO:tastytrade.connections.sockets:231:Added subscription: SPY{=30m}\n",
      "2025-03-13 20:10:00 - INFO:tastytrade.connections.sockets:231:Added subscription: SPY{=15m}\n",
      "2025-03-13 20:10:02 - INFO:tastytrade.connections.sockets:231:Added subscription: SPY{=5m}\n",
      "2025-03-13 20:10:02 - INFO:tastytrade.connections.sockets:231:Added subscription: SPY{=m}\n",
      "2025-03-13 20:10:02 - INFO:tastytrade.connections.sockets:231:Added subscription: SPX{=d}\n",
      "2025-03-13 20:10:02 - INFO:tastytrade.connections.sockets:231:Added subscription: SPX{=h}\n",
      "2025-03-13 20:10:02 - INFO:tastytrade.connections.sockets:231:Added subscription: SPX{=30m}\n",
      "2025-03-13 20:10:02 - INFO:tastytrade.connections.sockets:231:Added subscription: SPX{=15m}\n",
      "2025-03-13 20:10:02 - INFO:tastytrade.connections.sockets:231:Added subscription: SPX{=5m}\n",
      "2025-03-13 20:10:02 - INFO:tastytrade.connections.sockets:231:Added subscription: SPX{=m}\n",
      "2025-03-13 20:10:02 - INFO:tastytrade.connections.sockets:231:Added subscription: /ESH25:XCME{=d}\n",
      "2025-03-13 20:10:02 - INFO:tastytrade.connections.sockets:231:Added subscription: /ESH25:XCME{=h}\n",
      "2025-03-13 20:10:02 - INFO:tastytrade.connections.sockets:231:Added subscription: /ESH25:XCME{=30m}\n",
      "2025-03-13 20:10:02 - INFO:tastytrade.connections.sockets:231:Added subscription: /ESH25:XCME{=15m}\n",
      "2025-03-13 20:10:02 - INFO:tastytrade.connections.sockets:231:Added subscription: /ESH25:XCME{=5m}\n",
      "2025-03-13 20:10:02 - INFO:tastytrade.connections.sockets:231:Added subscription: /ESH25:XCME{=m}\n"
     ]
    }
   ],
   "source": [
    "start_time = datetime(2025, 3, 12)\n",
    "\n",
    "symbols = [\"BTC/USD:CXTALP\", \"NVDA\", \"AAPL\", \"QQQ\", \"SPY\", \"SPX\", \"/ESH25:XCME\"]\n",
    "intervals = [\"1d\", \"1h\", \"30m\", \"15m\", \"5m\", \"m\"]\n",
    "\n",
    "# ticker subscriptions\n",
    "await dxlink.subscribe(symbols)\n",
    "\n",
    "# candle subscriptions\n",
    "for symbol in symbols:\n",
    "    for interval in intervals:\n",
    "        coroutine = dxlink.subscribe_to_candles(\n",
    "            symbol=symbol,\n",
    "            interval=interval,\n",
    "            from_time=start_time,\n",
    "        )\n",
    "        await asyncio.wait_for(coroutine, timeout=10)"
   ]
  },
  {
   "cell_type": "code",
   "execution_count": 4,
   "metadata": {},
   "outputs": [],
   "source": [
    "# forward fill\n",
    "for symbol in symbols:\n",
    "    for interval in intervals:\n",
    "        event_symbol = f\"{symbol}{{={interval}}}\"\n",
    "        logging.debug(\"Forward-filling %s\", event_symbol)\n",
    "        forward_fill(symbol=event_symbol, lookback_days=5)"
   ]
  },
  {
   "cell_type": "markdown",
   "metadata": {},
   "source": [
    "# Check | Market Data feeds"
   ]
  },
  {
   "cell_type": "code",
   "execution_count": 4,
   "metadata": {},
   "outputs": [
    {
     "data": {
      "text/markdown": [
       "**Candle Feed:** /ESH25:XCME{=m}"
      ],
      "text/plain": [
       "<IPython.core.display.Markdown object>"
      ]
     },
     "metadata": {},
     "output_type": "display_data"
    },
    {
     "data": {
      "text/html": [
       "<div><style>\n",
       ".dataframe > thead > tr,\n",
       ".dataframe > tbody > tr {\n",
       "  text-align: right;\n",
       "  white-space: pre-wrap;\n",
       "}\n",
       "</style>\n",
       "<small>shape: (5, 16)</small><table border=\"1\" class=\"dataframe\"><thead><tr><th>eventSymbol</th><th>time</th><th>eventFlags</th><th>index</th><th>sequence</th><th>count</th><th>open</th><th>high</th><th>low</th><th>close</th><th>volume</th><th>bidVolume</th><th>askVolume</th><th>openInterest</th><th>vwap</th><th>impVolatility</th></tr><tr><td>str</td><td>datetime[μs]</td><td>i64</td><td>i64</td><td>i64</td><td>i64</td><td>f64</td><td>f64</td><td>f64</td><td>f64</td><td>f64</td><td>f64</td><td>f64</td><td>f64</td><td>f64</td><td>f64</td></tr></thead><tbody><tr><td>&quot;/ESH25:XCME{=m}&quot;</td><td>2025-03-13 20:10:00</td><td>0</td><td>7481388930013593600</td><td>0</td><td>260</td><td>5540.0</td><td>5540.25</td><td>5538.75</td><td>5538.75</td><td>640.0</td><td>504.0</td><td>136.0</td><td>2.091047e6</td><td>5539.61</td><td>0.26</td></tr><tr><td>&quot;/ESH25:XCME{=m}&quot;</td><td>2025-03-13 20:09:00</td><td>0</td><td>7481388672315555840</td><td>0</td><td>871</td><td>5538.25</td><td>5540.25</td><td>5538.0</td><td>5540.0</td><td>1482.0</td><td>638.0</td><td>844.0</td><td>2.091047e6</td><td>5539.17</td><td>0.26</td></tr><tr><td>&quot;/ESH25:XCME{=m}&quot;</td><td>2025-03-13 20:08:00</td><td>0</td><td>7481388414617518080</td><td>0</td><td>1124</td><td>5537.25</td><td>5538.75</td><td>5537.0</td><td>5538.25</td><td>2245.0</td><td>919.0</td><td>1326.0</td><td>2.091047e6</td><td>5537.9</td><td>0.26</td></tr><tr><td>&quot;/ESH25:XCME{=m}&quot;</td><td>2025-03-13 20:07:00</td><td>0</td><td>7481388156919480320</td><td>0</td><td>941</td><td>5539.0</td><td>5539.0</td><td>5536.75</td><td>5537.25</td><td>1534.0</td><td>941.0</td><td>593.0</td><td>2.091047e6</td><td>5538.06</td><td>0.26</td></tr><tr><td>&quot;/ESH25:XCME{=m}&quot;</td><td>2025-03-13 20:06:00</td><td>0</td><td>7481387899221442560</td><td>0</td><td>1671</td><td>5537.0</td><td>5540.0</td><td>5536.75</td><td>5538.75</td><td>2946.0</td><td>1208.0</td><td>1738.0</td><td>2.091047e6</td><td>5538.59</td><td>0.26</td></tr></tbody></table></div>"
      ],
      "text/plain": [
       "shape: (5, 16)\n",
       "┌────────────┬───────────┬───────────┬───────────┬───┬───────────┬───────────┬─────────┬───────────┐\n",
       "│ eventSymbo ┆ time      ┆ eventFlag ┆ index     ┆ … ┆ askVolume ┆ openInter ┆ vwap    ┆ impVolati │\n",
       "│ l          ┆ ---       ┆ s         ┆ ---       ┆   ┆ ---       ┆ est       ┆ ---     ┆ lity      │\n",
       "│ ---        ┆ datetime[ ┆ ---       ┆ i64       ┆   ┆ f64       ┆ ---       ┆ f64     ┆ ---       │\n",
       "│ str        ┆ μs]       ┆ i64       ┆           ┆   ┆           ┆ f64       ┆         ┆ f64       │\n",
       "╞════════════╪═══════════╪═══════════╪═══════════╪═══╪═══════════╪═══════════╪═════════╪═══════════╡\n",
       "│ /ESH25:XCM ┆ 2025-03-1 ┆ 0         ┆ 748138893 ┆ … ┆ 136.0     ┆ 2.091047e ┆ 5539.61 ┆ 0.26      │\n",
       "│ E{=m}      ┆ 3         ┆           ┆ 001359360 ┆   ┆           ┆ 6         ┆         ┆           │\n",
       "│            ┆ 20:10:00  ┆           ┆ 0         ┆   ┆           ┆           ┆         ┆           │\n",
       "│ /ESH25:XCM ┆ 2025-03-1 ┆ 0         ┆ 748138867 ┆ … ┆ 844.0     ┆ 2.091047e ┆ 5539.17 ┆ 0.26      │\n",
       "│ E{=m}      ┆ 3         ┆           ┆ 231555584 ┆   ┆           ┆ 6         ┆         ┆           │\n",
       "│            ┆ 20:09:00  ┆           ┆ 0         ┆   ┆           ┆           ┆         ┆           │\n",
       "│ /ESH25:XCM ┆ 2025-03-1 ┆ 0         ┆ 748138841 ┆ … ┆ 1326.0    ┆ 2.091047e ┆ 5537.9  ┆ 0.26      │\n",
       "│ E{=m}      ┆ 3         ┆           ┆ 461751808 ┆   ┆           ┆ 6         ┆         ┆           │\n",
       "│            ┆ 20:08:00  ┆           ┆ 0         ┆   ┆           ┆           ┆         ┆           │\n",
       "│ /ESH25:XCM ┆ 2025-03-1 ┆ 0         ┆ 748138815 ┆ … ┆ 593.0     ┆ 2.091047e ┆ 5538.06 ┆ 0.26      │\n",
       "│ E{=m}      ┆ 3         ┆           ┆ 691948032 ┆   ┆           ┆ 6         ┆         ┆           │\n",
       "│            ┆ 20:07:00  ┆           ┆ 0         ┆   ┆           ┆           ┆         ┆           │\n",
       "│ /ESH25:XCM ┆ 2025-03-1 ┆ 0         ┆ 748138789 ┆ … ┆ 1738.0    ┆ 2.091047e ┆ 5538.59 ┆ 0.26      │\n",
       "│ E{=m}      ┆ 3         ┆           ┆ 922144256 ┆   ┆           ┆ 6         ┆         ┆           │\n",
       "│            ┆ 20:06:00  ┆           ┆ 0         ┆   ┆           ┆           ┆         ┆           │\n",
       "└────────────┴───────────┴───────────┴───────────┴───┴───────────┴───────────┴─────────┴───────────┘"
      ]
     },
     "metadata": {},
     "output_type": "display_data"
    }
   ],
   "source": [
    "symbol = \"SPX{=m}\"\n",
    "symbol = \"BTC/USD:CXTALP{=5m}\"\n",
    "symbol = \"/ESH25:XCME{=m}\"\n",
    "\n",
    "display(Markdown(f\"**Candle Feed:** {symbol}\"))\n",
    "display(\n",
    "    dxlink.router.handler[Channels.Candle]\n",
    "    .processors[\"feed\"]\n",
    "    .frames[f\"{symbol}\"]\n",
    "    .tail(5)\n",
    "    .sort(by=\"time\", descending=True)\n",
    ")"
   ]
  },
  {
   "cell_type": "code",
   "execution_count": 5,
   "metadata": {},
   "outputs": [
    {
     "data": {
      "text/markdown": [
       "**Quote Feed:** /ESH25:XCME{=m}"
      ],
      "text/plain": [
       "<IPython.core.display.Markdown object>"
      ]
     },
     "metadata": {},
     "output_type": "display_data"
    },
    {
     "data": {
      "text/html": [
       "<div><style>\n",
       ".dataframe > thead > tr,\n",
       ".dataframe > tbody > tr {\n",
       "  text-align: right;\n",
       "  white-space: pre-wrap;\n",
       "}\n",
       "</style>\n",
       "<small>shape: (7, 5)</small><table border=\"1\" class=\"dataframe\"><thead><tr><th>eventSymbol</th><th>bidPrice</th><th>askPrice</th><th>bidSize</th><th>askSize</th></tr><tr><td>str</td><td>f64</td><td>f64</td><td>f64</td><td>f64</td></tr></thead><tbody><tr><td>&quot;SPY&quot;</td><td>552.59</td><td>552.63</td><td>600.0</td><td>600.0</td></tr><tr><td>&quot;SPX&quot;</td><td>5477.19</td><td>5590.28</td><td>null</td><td>null</td></tr><tr><td>&quot;AAPL&quot;</td><td>209.9</td><td>209.93</td><td>48.0</td><td>70.0</td></tr><tr><td>&quot;/ESH25:XCME&quot;</td><td>5538.75</td><td>5539.0</td><td>57.0</td><td>23.0</td></tr><tr><td>&quot;BTC/USD:CXTALP&quot;</td><td>80040.65</td><td>80602.9</td><td>0.01</td><td>1.5</td></tr><tr><td>&quot;QQQ&quot;</td><td>469.47</td><td>469.51</td><td>200.0</td><td>150.0</td></tr><tr><td>&quot;NVDA&quot;</td><td>115.9</td><td>115.94</td><td>4997.0</td><td>100.0</td></tr></tbody></table></div>"
      ],
      "text/plain": [
       "shape: (7, 5)\n",
       "┌────────────────┬──────────┬──────────┬─────────┬─────────┐\n",
       "│ eventSymbol    ┆ bidPrice ┆ askPrice ┆ bidSize ┆ askSize │\n",
       "│ ---            ┆ ---      ┆ ---      ┆ ---     ┆ ---     │\n",
       "│ str            ┆ f64      ┆ f64      ┆ f64     ┆ f64     │\n",
       "╞════════════════╪══════════╪══════════╪═════════╪═════════╡\n",
       "│ SPY            ┆ 552.59   ┆ 552.63   ┆ 600.0   ┆ 600.0   │\n",
       "│ SPX            ┆ 5477.19  ┆ 5590.28  ┆ null    ┆ null    │\n",
       "│ AAPL           ┆ 209.9    ┆ 209.93   ┆ 48.0    ┆ 70.0    │\n",
       "│ /ESH25:XCME    ┆ 5538.75  ┆ 5539.0   ┆ 57.0    ┆ 23.0    │\n",
       "│ BTC/USD:CXTALP ┆ 80040.65 ┆ 80602.9  ┆ 0.01    ┆ 1.5     │\n",
       "│ QQQ            ┆ 469.47   ┆ 469.51   ┆ 200.0   ┆ 150.0   │\n",
       "│ NVDA           ┆ 115.9    ┆ 115.94   ┆ 4997.0  ┆ 100.0   │\n",
       "└────────────────┴──────────┴──────────┴─────────┴─────────┘"
      ]
     },
     "metadata": {},
     "output_type": "display_data"
    }
   ],
   "source": [
    "display(Markdown(f\"**Quote Feed:** {symbol}\"))\n",
    "\n",
    "display(dxlink.router.handler[Channels.Quote].processors[\"feed\"].pl)"
   ]
  },
  {
   "cell_type": "code",
   "execution_count": 6,
   "metadata": {},
   "outputs": [],
   "source": [
    "# TODOS\n",
    "\n",
    "# [x] Widen the plot\n",
    "# [x] Remove the scroller at the bottom\n",
    "# [x] move the legent and remove Price (that is obvious)\n",
    "# [x] Add MACD\n",
    "# [x] Fix HULL - Align w/ candlesticks\n",
    "# [x] ERROR if no study data found\n",
    "\n",
    "# [ ] Add RSI\n",
    "# [ ] Add Volume Profile (?? ... /ES, SPY, etc)\n",
    "# [ ] Add velocity metric"
   ]
  },
  {
   "cell_type": "code",
   "execution_count": null,
   "metadata": {},
   "outputs": [],
   "source": [
    "await dxlink.close()"
   ]
  }
 ],
 "metadata": {
  "kernelspec": {
   "display_name": ".venv",
   "language": "python",
   "name": "python3"
  },
  "language_info": {
   "codemirror_mode": {
    "name": "ipython",
    "version": 3
   },
   "file_extension": ".py",
   "mimetype": "text/x-python",
   "name": "python",
   "nbconvert_exporter": "python",
   "pygments_lexer": "ipython3",
   "version": "3.11.11"
  }
 },
 "nbformat": 4,
 "nbformat_minor": 2
}
