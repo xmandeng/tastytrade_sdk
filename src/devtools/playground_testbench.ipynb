{
 "cells": [
  {
   "cell_type": "code",
   "execution_count": 1,
   "metadata": {},
   "outputs": [
    {
     "name": "stderr",
     "output_type": "stream",
     "text": [
      "2025-08-05 22:19:05 - INFO:root:62:Logging initialized - writing to ../logs/dev_tastytrade_20250805.log\n"
     ]
    }
   ],
   "source": [
    "import logging\n",
    "import asyncio\n",
    "import pandas as pd\n",
    "from IPython.display import display, Markdown\n",
    "\n",
    "from datetime import datetime\n",
    "\n",
    "import influxdb_client\n",
    "\n",
    "from tastytrade.common.logging import setup_logging\n",
    "from tastytrade.config.enumerations import Channels\n",
    "from tastytrade.connections.sockets import DXLinkManager\n",
    "from tastytrade.connections import Credentials, InfluxCredentials\n",
    "\n",
    "from tastytrade.messaging.processors import TelegrafHTTPEventProcessor, RedisEventProcessor\n",
    "from tastytrade.config import RedisConfigManager\n",
    "from tastytrade.connections.subscription import RedisSubscriptionStore\n",
    "from tastytrade.utils.time_series import forward_fill\n",
    "\n",
    "# Show all rows in pandas DataFrames\n",
    "pd.set_option(\"display.max_rows\", 100)\n",
    "pd.set_option(\"display.max_columns\", None)\n",
    "pd.set_option(\"display.width\", None)\n",
    "pd.set_option(\"display.max_colwidth\", None)\n",
    "\n",
    "logging.getLogger().handlers.clear()\n",
    "\n",
    "TEST = True\n",
    "ENV = \"Live\"\n",
    "DURATION = 15\n",
    "\n",
    "EDT = 5\n",
    "\n",
    "start_time = datetime(2025, 1, 1)\n",
    "\n",
    "setup_logging(\n",
    "    level=logging.INFO,\n",
    "    log_dir=\"../logs\",\n",
    "    filename_prefix=f\"{'dev' if TEST else 'prod'}_tastytrade\",\n",
    "    console=True,\n",
    "    file=True,\n",
    ")\n",
    "\n",
    "loop = asyncio.get_event_loop()\n",
    "loop.set_debug(True)\n",
    "logging.getLogger(\"asyncio\").setLevel(logging.DEBUG)"
   ]
  },
  {
   "cell_type": "markdown",
   "metadata": {},
   "source": [
    "# Service Connections"
   ]
  },
  {
   "cell_type": "code",
   "execution_count": null,
   "metadata": {},
   "outputs": [
    {
     "name": "stderr",
     "output_type": "stream",
     "text": [
      "2025-08-05 22:19:09 - INFO:tastytrade.config.manager:174:Initialized 19 variables from .env file in Redis\n",
      "2025-08-05 22:19:09 - DEBUG:asyncio:848:Get address info api.tastyworks.com:443, type=<SocketKind.SOCK_STREAM: 1>, flags=<AddressInfo.AI_ADDRCONFIG: 32>\n",
      "2025-08-05 22:19:09 - INFO:asyncio:856:Getting address info api.tastyworks.com:443, type=<SocketKind.SOCK_STREAM: 1>, flags=<AddressInfo.AI_ADDRCONFIG: 32> took 357.721ms: [(<AddressFamily.AF_INET: 2>, <SocketKind.SOCK_STREAM: 1>, 6, '', ('170.76.244.141', 443))]\n",
      "2025-08-05 22:19:09 - DEBUG:asyncio:535:<asyncio.sslproto.SSLProtocol object at 0x7c8efc1fcd10> starts SSL handshake\n",
      "2025-08-05 22:19:09 - DEBUG:asyncio:594:<asyncio.sslproto.SSLProtocol object at 0x7c8efc1fcd10>: SSL handshake took 44.2 ms\n",
      "2025-08-05 22:19:09 - DEBUG:asyncio:1121:<asyncio.TransportSocket fd=83, family=2, type=1, proto=6, laddr=('172.18.0.7', 51564), raddr=('170.76.244.141', 443)> connected to None:None: (<asyncio.sslproto._SSLProtocolTransport object at 0x7c8ec7043170>, <aiohttp.client_proto.ResponseHandler object at 0x7c8ec70442f0>)\n",
      "2025-08-05 22:19:10 - INFO:tastytrade.connections.requests:148:Session created successfully\n",
      "2025-08-05 22:19:10 - DEBUG:asyncio:848:Get address info tasty-openapi-ws.dxfeed.com:443, type=<SocketKind.SOCK_STREAM: 1>\n",
      "2025-08-05 22:19:10 - INFO:asyncio:856:Getting address info tasty-openapi-ws.dxfeed.com:443, type=<SocketKind.SOCK_STREAM: 1> took 278.548ms: [(<AddressFamily.AF_INET: 2>, <SocketKind.SOCK_STREAM: 1>, 6, '', ('13.226.94.104', 443)), (<AddressFamily.AF_INET: 2>, <SocketKind.SOCK_STREAM: 1>, 6, '', ('13.226.94.119', 443)), (<AddressFamily.AF_INET: 2>, <SocketKind.SOCK_STREAM: 1>, 6, '', ('13.226.94.84', 443)), (<AddressFamily.AF_INET: 2>, <SocketKind.SOCK_STREAM: 1>, 6, '', ('13.226.94.47', 443))]\n",
      "2025-08-05 22:19:10 - DEBUG:asyncio:535:<asyncio.sslproto.SSLProtocol object at 0x7c8ece4f0990> starts SSL handshake\n",
      "2025-08-05 22:19:10 - DEBUG:asyncio:594:<asyncio.sslproto.SSLProtocol object at 0x7c8ece4f0990>: SSL handshake took 29.5 ms\n",
      "2025-08-05 22:19:10 - DEBUG:asyncio:1121:<asyncio.TransportSocket fd=85, family=2, type=1, proto=6, laddr=('172.18.0.7', 51160), raddr=('13.226.94.104', 443)> connected to tasty-openapi-ws.dxfeed.com:443: (<asyncio.sslproto._SSLProtocolTransport object at 0x7c8ec70cf410>, <websockets.asyncio.client.ClientConnection object at 0x7c8ec7064210>)\n",
      "2025-08-05 22:19:10 - DEBUG:asyncio:848:Get address info redis:6379, type=<SocketKind.SOCK_STREAM: 1>\n",
      "2025-08-05 22:19:10 - DEBUG:asyncio:858:Getting address info redis:6379, type=<SocketKind.SOCK_STREAM: 1> took 0.358ms: [(<AddressFamily.AF_INET: 2>, <SocketKind.SOCK_STREAM: 1>, 6, '', ('172.18.0.3', 6379))]\n",
      "2025-08-05 22:19:10 - DEBUG:asyncio:1121:<asyncio.TransportSocket fd=86, family=2, type=1, proto=6, laddr=('172.18.0.7', 56444), raddr=('172.18.0.3', 6379)> connected to redis:6379: (<_SelectorSocketTransport fd=86 read=polling write=<idle, bufsize=0>>, <asyncio.streams.StreamReaderProtocol object at 0x7c8ec70be710>)\n",
      "2025-08-05 22:19:10 - INFO:tastytrade.connections.subscription:118:Redis ping response: True\n",
      "2025-08-05 22:19:10 - INFO:tastytrade.connections.subscription:122:Redis version: 7.4.3\n",
      "2025-08-05 22:19:10 - INFO:tastytrade.connections.subscription:123:Connected clients: 3\n",
      "2025-08-05 22:19:10 - INFO:tastytrade.messaging.handlers:78:Started Channels.Control listener on channel 0\n",
      "2025-08-05 22:19:10 - INFO:tastytrade.messaging.handlers:78:Started Channels.Quote listener on channel 7\n",
      "2025-08-05 22:19:10 - INFO:tastytrade.messaging.handlers:78:Started Channels.Trade listener on channel 5\n",
      "2025-08-05 22:19:10 - INFO:tastytrade.messaging.handlers:78:Started Channels.Greeks listener on channel 11\n",
      "2025-08-05 22:19:10 - INFO:tastytrade.messaging.handlers:78:Started Channels.Profile listener on channel 1\n",
      "2025-08-05 22:19:10 - INFO:tastytrade.messaging.handlers:78:Started Channels.Summary listener on channel 3\n",
      "2025-08-05 22:19:10 - INFO:tastytrade.messaging.handlers:78:Started Channels.Candle listener on channel 9\n"
     ]
    },
    {
     "name": "stderr",
     "output_type": "stream",
     "text": [
      "2025-08-05 22:19:10 - INFO:tastytrade.messaging.handlers:225:SETUP\n",
      "2025-08-05 22:19:10 - INFO:tastytrade.messaging.handlers:228:AUTH_STATE:UNAUTHORIZED\n",
      "2025-08-05 22:19:10 - INFO:tastytrade.messaging.handlers:228:AUTH_STATE:AUTHORIZED\n",
      "2025-08-05 22:19:10 - INFO:tastytrade.messaging.handlers:231:CHANNEL_OPENED:1\n",
      "2025-08-05 22:19:10 - INFO:tastytrade.messaging.handlers:231:CHANNEL_OPENED:3\n",
      "2025-08-05 22:19:10 - INFO:tastytrade.messaging.handlers:231:CHANNEL_OPENED:5\n",
      "2025-08-05 22:19:10 - INFO:tastytrade.messaging.handlers:231:CHANNEL_OPENED:7\n",
      "2025-08-05 22:19:10 - INFO:tastytrade.messaging.handlers:231:CHANNEL_OPENED:9\n",
      "2025-08-05 22:19:10 - INFO:tastytrade.messaging.handlers:231:CHANNEL_OPENED:11\n",
      "2025-08-05 22:19:10 - INFO:tastytrade.messaging.handlers:231:CHANNEL_OPENED:99\n",
      "2025-08-05 22:19:10 - INFO:tastytrade.messaging.handlers:236:FEED_CONFIG:5:COMPACT\n",
      "2025-08-05 22:19:10 - INFO:tastytrade.messaging.handlers:236:FEED_CONFIG:7:COMPACT\n",
      "2025-08-05 22:19:10 - INFO:tastytrade.messaging.handlers:236:FEED_CONFIG:11:COMPACT\n",
      "2025-08-05 22:19:10 - INFO:tastytrade.messaging.handlers:236:FEED_CONFIG:1:COMPACT\n",
      "2025-08-05 22:19:10 - INFO:tastytrade.messaging.handlers:236:FEED_CONFIG:3:COMPACT\n",
      "2025-08-05 22:19:10 - INFO:tastytrade.messaging.handlers:236:FEED_CONFIG:9:COMPACT\n",
      "2025-08-05 22:19:20 - INFO:tastytrade.messaging.handlers:236:FEED_CONFIG:5:COMPACT:SUBSCRIBED\n",
      "2025-08-05 22:19:20 - INFO:tastytrade.messaging.handlers:236:FEED_CONFIG:7:COMPACT:SUBSCRIBED\n",
      "2025-08-05 22:19:20 - INFO:tastytrade.messaging.handlers:236:FEED_CONFIG:11:COMPACT:SUBSCRIBED\n",
      "2025-08-05 22:19:20 - INFO:tastytrade.messaging.handlers:236:FEED_CONFIG:1:COMPACT:SUBSCRIBED\n",
      "2025-08-05 22:19:20 - INFO:tastytrade.messaging.handlers:236:FEED_CONFIG:3:COMPACT:SUBSCRIBED\n",
      "2025-08-05 22:19:20 - INFO:tastytrade.messaging.handlers:236:FEED_CONFIG:9:COMPACT:SUBSCRIBED\n",
      "2025-08-05 22:19:31 - DEBUG:asyncio:1022:<_SelectorSocketTransport fd=83 read=polling write=<idle, bufsize=0>> received EOF\n",
      "2025-08-05 22:19:31 - DEBUG:asyncio:461:<asyncio.sslproto.SSLProtocol object at 0x7c8efc1fcd10> received EOF\n"
     ]
    }
   ],
   "source": [
    "config = RedisConfigManager(env_file=\"/workspace/.env\")\n",
    "config.initialize(force=True)\n",
    "\n",
    "credentials = Credentials(config=config, env=\"Live\")\n",
    "\n",
    "dxlink = DXLinkManager(subscription_store=RedisSubscriptionStore())\n",
    "await dxlink.open(credentials=credentials)\n",
    "\n",
    "influx_user = InfluxCredentials(config=config)\n",
    "influxdb = influxdb_client.InfluxDBClient(\n",
    "    url=influx_user.url, token=influx_user.token, org=influx_user.org\n",
    ")\n",
    "\n",
    "for handler in dxlink.router.handler.values():\n",
    "    handler.add_processor(TelegrafHTTPEventProcessor())\n",
    "    handler.add_processor(RedisEventProcessor())"
   ]
  },
  {
   "cell_type": "markdown",
   "metadata": {},
   "source": [
    "# Market Data Subscriptions"
   ]
  },
  {
   "cell_type": "code",
   "execution_count": 3,
   "metadata": {},
   "outputs": [
    {
     "name": "stderr",
     "output_type": "stream",
     "text": [
      "2025-08-05 22:19:20 - INFO:tastytrade.connections.sockets:236:Added subscription: BTC/USD:CXTALP\n",
      "2025-08-05 22:19:20 - INFO:tastytrade.connections.sockets:236:Added subscription: NVDA\n",
      "2025-08-05 22:19:20 - INFO:tastytrade.connections.sockets:236:Added subscription: AAPL\n",
      "2025-08-05 22:19:20 - INFO:tastytrade.connections.sockets:236:Added subscription: QQQ\n",
      "2025-08-05 22:19:20 - INFO:tastytrade.connections.sockets:236:Added subscription: SPY\n",
      "2025-08-05 22:19:20 - INFO:tastytrade.connections.sockets:236:Added subscription: SPX\n",
      "2025-08-05 22:19:20 - INFO:tastytrade.connections.sockets:236:Added subscription: BTC/USD:CXTALP{=d}\n",
      "2025-08-05 22:19:20 - INFO:tastytrade.connections.sockets:236:Added subscription: BTC/USD:CXTALP{=h}\n",
      "2025-08-05 22:19:20 - INFO:tastytrade.connections.sockets:236:Added subscription: BTC/USD:CXTALP{=30m}\n",
      "2025-08-05 22:19:20 - INFO:tastytrade.connections.sockets:236:Added subscription: BTC/USD:CXTALP{=15m}\n",
      "2025-08-05 22:19:20 - INFO:tastytrade.connections.sockets:236:Added subscription: BTC/USD:CXTALP{=5m}\n",
      "2025-08-05 22:19:20 - INFO:tastytrade.connections.sockets:236:Added subscription: BTC/USD:CXTALP{=m}\n",
      "2025-08-05 22:19:20 - INFO:tastytrade.connections.sockets:236:Added subscription: NVDA{=d}\n",
      "2025-08-05 22:19:20 - INFO:tastytrade.connections.sockets:236:Added subscription: NVDA{=h}\n",
      "2025-08-05 22:19:21 - INFO:tastytrade.connections.sockets:236:Added subscription: NVDA{=30m}\n",
      "2025-08-05 22:19:21 - INFO:tastytrade.connections.sockets:236:Added subscription: NVDA{=15m}\n",
      "2025-08-05 22:19:21 - INFO:tastytrade.connections.sockets:236:Added subscription: NVDA{=5m}\n",
      "2025-08-05 22:19:21 - INFO:tastytrade.connections.sockets:236:Added subscription: NVDA{=m}\n",
      "2025-08-05 22:19:21 - INFO:tastytrade.connections.sockets:236:Added subscription: AAPL{=d}\n",
      "2025-08-05 22:19:21 - INFO:tastytrade.connections.sockets:236:Added subscription: AAPL{=h}\n",
      "2025-08-05 22:19:21 - INFO:tastytrade.connections.sockets:236:Added subscription: AAPL{=30m}\n",
      "2025-08-05 22:19:21 - INFO:tastytrade.connections.sockets:236:Added subscription: AAPL{=15m}\n",
      "2025-08-05 22:19:21 - INFO:tastytrade.connections.sockets:236:Added subscription: AAPL{=5m}\n",
      "2025-08-05 22:19:22 - INFO:tastytrade.connections.sockets:236:Added subscription: AAPL{=m}\n",
      "2025-08-05 22:19:23 - INFO:tastytrade.connections.sockets:236:Added subscription: QQQ{=d}\n",
      "2025-08-05 22:19:23 - INFO:tastytrade.connections.sockets:236:Added subscription: QQQ{=h}\n",
      "2025-08-05 22:19:23 - INFO:tastytrade.connections.sockets:236:Added subscription: QQQ{=30m}\n",
      "2025-08-05 22:19:23 - INFO:tastytrade.connections.sockets:236:Added subscription: QQQ{=15m}\n",
      "2025-08-05 22:19:23 - INFO:tastytrade.connections.sockets:236:Added subscription: QQQ{=5m}\n",
      "2025-08-05 22:19:23 - INFO:tastytrade.connections.sockets:236:Added subscription: QQQ{=m}\n",
      "2025-08-05 22:19:23 - INFO:tastytrade.connections.sockets:236:Added subscription: SPY{=d}\n",
      "2025-08-05 22:19:23 - INFO:tastytrade.connections.sockets:236:Added subscription: SPY{=h}\n",
      "2025-08-05 22:19:23 - INFO:tastytrade.connections.sockets:236:Added subscription: SPY{=30m}\n",
      "2025-08-05 22:19:23 - INFO:tastytrade.connections.sockets:236:Added subscription: SPY{=15m}\n",
      "2025-08-05 22:19:23 - INFO:tastytrade.connections.sockets:236:Added subscription: SPY{=5m}\n",
      "2025-08-05 22:19:23 - INFO:tastytrade.connections.sockets:236:Added subscription: SPY{=m}\n",
      "2025-08-05 22:19:23 - INFO:tastytrade.connections.sockets:236:Added subscription: SPX{=d}\n",
      "2025-08-05 22:19:23 - INFO:tastytrade.connections.sockets:236:Added subscription: SPX{=h}\n",
      "2025-08-05 22:19:23 - INFO:tastytrade.connections.sockets:236:Added subscription: SPX{=30m}\n",
      "2025-08-05 22:19:23 - INFO:tastytrade.connections.sockets:236:Added subscription: SPX{=15m}\n",
      "2025-08-05 22:19:23 - INFO:tastytrade.connections.sockets:236:Added subscription: SPX{=5m}\n",
      "2025-08-05 22:19:23 - INFO:tastytrade.connections.sockets:236:Added subscription: SPX{=m}\n"
     ]
    }
   ],
   "source": [
    "start_time = datetime(2025, 8, 5)\n",
    "\n",
    "symbols = [\"BTC/USD:CXTALP\", \"NVDA\", \"AAPL\", \"QQQ\", \"SPY\", \"SPX\"]  # , \"/ESH25:XCME\"]\n",
    "# symbols = [\"BTC/USD:CXTALP\", \"NVDA\",]\n",
    "# symbols = [\"AAPL\", \"QQQ\"]  # \n",
    "# symbols = [\"SPY\", \"SPX\"]  # \n",
    "intervals = [\"1d\", \"1h\", \"30m\", \"15m\", \"5m\", \"m\"]\n",
    "\n",
    "# ticker subscriptions\n",
    "await dxlink.subscribe(symbols)\n",
    "\n",
    "# candle subscriptions\n",
    "for symbol in symbols:\n",
    "    for interval in intervals:\n",
    "        coroutine = dxlink.subscribe_to_candles(\n",
    "            symbol=symbol,\n",
    "            interval=interval,\n",
    "            from_time=start_time,\n",
    "        )\n",
    "        await asyncio.wait_for(coroutine, timeout=10)"
   ]
  },
  {
   "cell_type": "code",
   "execution_count": 4,
   "metadata": {},
   "outputs": [
    {
     "name": "stderr",
     "output_type": "stream",
     "text": [
      "2025-08-05 22:19:25 - INFO:root:120:Successfully flushed and closed InfluxDB write API\n",
      "2025-08-05 22:19:25 - INFO:root:124:Forward-fill added 1 events for BTC/USD:CXTALP{=30m}\n",
      "2025-08-05 22:19:25 - INFO:root:120:Successfully flushed and closed InfluxDB write API\n",
      "2025-08-05 22:19:25 - INFO:root:124:Forward-fill added 2 events for BTC/USD:CXTALP{=15m}\n",
      "2025-08-05 22:19:25 - INFO:root:120:Successfully flushed and closed InfluxDB write API\n",
      "2025-08-05 22:19:25 - INFO:root:124:Forward-fill added 17 events for BTC/USD:CXTALP{=5m}\n",
      "2025-08-05 22:19:26 - INFO:root:120:Successfully flushed and closed InfluxDB write API\n",
      "2025-08-05 22:19:26 - INFO:root:124:Forward-fill added 209 events for BTC/USD:CXTALP{=m}\n",
      "2025-08-05 22:19:26 - INFO:root:120:Successfully flushed and closed InfluxDB write API\n",
      "2025-08-05 22:19:26 - INFO:root:124:Forward-fill added 2 events for NVDA{=d}\n",
      "2025-08-05 22:19:26 - INFO:root:120:Successfully flushed and closed InfluxDB write API\n",
      "2025-08-05 22:19:26 - INFO:root:124:Forward-fill added 71 events for NVDA{=h}\n",
      "2025-08-05 22:19:26 - INFO:root:120:Successfully flushed and closed InfluxDB write API\n",
      "2025-08-05 22:19:26 - INFO:root:124:Forward-fill added 143 events for NVDA{=30m}\n",
      "2025-08-05 22:19:26 - INFO:root:120:Successfully flushed and closed InfluxDB write API\n",
      "2025-08-05 22:19:26 - INFO:root:124:Forward-fill added 287 events for NVDA{=15m}\n",
      "2025-08-05 22:19:27 - INFO:root:120:Successfully flushed and closed InfluxDB write API\n",
      "2025-08-05 22:19:27 - INFO:root:124:Forward-fill added 863 events for NVDA{=5m}\n",
      "2025-08-05 22:19:27 - INFO:root:120:Successfully flushed and closed InfluxDB write API\n",
      "2025-08-05 22:19:27 - INFO:root:124:Forward-fill added 4377 events for NVDA{=m}\n",
      "2025-08-05 22:19:28 - INFO:root:120:Successfully flushed and closed InfluxDB write API\n",
      "2025-08-05 22:19:28 - INFO:root:124:Forward-fill added 2 events for AAPL{=d}\n",
      "2025-08-05 22:19:28 - INFO:root:120:Successfully flushed and closed InfluxDB write API\n",
      "2025-08-05 22:19:28 - INFO:root:124:Forward-fill added 71 events for AAPL{=h}\n",
      "2025-08-05 22:19:28 - INFO:root:120:Successfully flushed and closed InfluxDB write API\n",
      "2025-08-05 22:19:28 - INFO:root:124:Forward-fill added 143 events for AAPL{=30m}\n",
      "2025-08-05 22:19:28 - INFO:root:120:Successfully flushed and closed InfluxDB write API\n",
      "2025-08-05 22:19:28 - INFO:root:124:Forward-fill added 288 events for AAPL{=15m}\n",
      "2025-08-05 22:19:28 - INFO:root:120:Successfully flushed and closed InfluxDB write API\n",
      "2025-08-05 22:19:28 - INFO:root:124:Forward-fill added 874 events for AAPL{=5m}\n",
      "2025-08-05 22:19:29 - INFO:root:120:Successfully flushed and closed InfluxDB write API\n",
      "2025-08-05 22:19:29 - INFO:root:124:Forward-fill added 4820 events for AAPL{=m}\n",
      "2025-08-05 22:19:29 - INFO:root:120:Successfully flushed and closed InfluxDB write API\n",
      "2025-08-05 22:19:29 - INFO:root:124:Forward-fill added 2 events for QQQ{=d}\n",
      "2025-08-05 22:19:29 - INFO:root:120:Successfully flushed and closed InfluxDB write API\n",
      "2025-08-05 22:19:29 - INFO:root:124:Forward-fill added 71 events for QQQ{=h}\n",
      "2025-08-05 22:19:30 - INFO:root:120:Successfully flushed and closed InfluxDB write API\n",
      "2025-08-05 22:19:30 - INFO:root:124:Forward-fill added 143 events for QQQ{=30m}\n",
      "2025-08-05 22:19:30 - INFO:root:120:Successfully flushed and closed InfluxDB write API\n",
      "2025-08-05 22:19:30 - INFO:root:124:Forward-fill added 287 events for QQQ{=15m}\n",
      "2025-08-05 22:19:30 - INFO:root:120:Successfully flushed and closed InfluxDB write API\n",
      "2025-08-05 22:19:30 - INFO:root:124:Forward-fill added 867 events for QQQ{=5m}\n",
      "2025-08-05 22:19:31 - INFO:root:120:Successfully flushed and closed InfluxDB write API\n",
      "2025-08-05 22:19:31 - INFO:root:124:Forward-fill added 4679 events for QQQ{=m}\n",
      "2025-08-05 22:19:31 - INFO:root:120:Successfully flushed and closed InfluxDB write API\n",
      "2025-08-05 22:19:31 - INFO:root:124:Forward-fill added 3 events for SPY{=m}\n"
     ]
    }
   ],
   "source": [
    "# forward fill\n",
    "for symbol in symbols:\n",
    "    for interval in intervals:\n",
    "        event_symbol = f\"{symbol}{{={interval}}}\"\n",
    "        logging.debug(\"Forward-filling %s\", event_symbol)\n",
    "        forward_fill(symbol=event_symbol, lookback_days=5)"
   ]
  },
  {
   "cell_type": "markdown",
   "metadata": {},
   "source": [
    "# Check | Market Data feeds"
   ]
  },
  {
   "cell_type": "code",
   "execution_count": 5,
   "metadata": {},
   "outputs": [
    {
     "data": {
      "text/markdown": [
       "**Candle Feed:** BTC/USD:CXTALP{=5m}"
      ],
      "text/plain": [
       "<IPython.core.display.Markdown object>"
      ]
     },
     "metadata": {},
     "output_type": "display_data"
    },
    {
     "data": {
      "text/html": [
       "<div><style>\n",
       ".dataframe > thead > tr,\n",
       ".dataframe > tbody > tr {\n",
       "  text-align: right;\n",
       "  white-space: pre-wrap;\n",
       "}\n",
       "</style>\n",
       "<small>shape: (5, 16)</small><table border=\"1\" class=\"dataframe\"><thead><tr><th>eventSymbol</th><th>time</th><th>eventFlags</th><th>index</th><th>sequence</th><th>count</th><th>open</th><th>high</th><th>low</th><th>close</th><th>volume</th><th>bidVolume</th><th>askVolume</th><th>openInterest</th><th>vwap</th><th>impVolatility</th></tr><tr><td>str</td><td>datetime[μs]</td><td>i64</td><td>i64</td><td>i64</td><td>i64</td><td>f64</td><td>f64</td><td>f64</td><td>f64</td><td>f64</td><td>f64</td><td>f64</td><td>f64</td><td>f64</td><td>f64</td></tr></thead><tbody><tr><td>&quot;BTC/USD:CXTALP{=5m}&quot;</td><td>2025-08-05 22:15:00</td><td>0</td><td>7535228492552601600</td><td>0</td><td>219</td><td>113764.45</td><td>114083.62</td><td>113763.77</td><td>114041.41</td><td>null</td><td>null</td><td>null</td><td>0.0</td><td>null</td><td>null</td></tr><tr><td>&quot;BTC/USD:CXTALP{=5m}&quot;</td><td>2025-08-05 22:10:00</td><td>0</td><td>7535227204062412800</td><td>0</td><td>1073</td><td>113640.63</td><td>113789.9</td><td>113640.63</td><td>113761.96</td><td>null</td><td>null</td><td>null</td><td>0.0</td><td>null</td><td>null</td></tr><tr><td>&quot;BTC/USD:CXTALP{=5m}&quot;</td><td>2025-08-05 22:05:00</td><td>0</td><td>7535225915572224000</td><td>0</td><td>493</td><td>113507.41</td><td>113654.47</td><td>113507.41</td><td>113638.88</td><td>null</td><td>null</td><td>null</td><td>0.0</td><td>null</td><td>null</td></tr><tr><td>&quot;BTC/USD:CXTALP{=5m}&quot;</td><td>2025-08-05 22:00:00</td><td>0</td><td>7535224627082035200</td><td>0</td><td>980</td><td>113629.9</td><td>113629.9</td><td>113481.68</td><td>113505.11</td><td>null</td><td>null</td><td>null</td><td>0.0</td><td>null</td><td>null</td></tr><tr><td>&quot;BTC/USD:CXTALP{=5m}&quot;</td><td>2025-08-05 21:55:00</td><td>0</td><td>7535223338591846400</td><td>0</td><td>139</td><td>113632.82</td><td>113654.2</td><td>113626.0</td><td>113626.67</td><td>null</td><td>null</td><td>null</td><td>0.0</td><td>null</td><td>null</td></tr></tbody></table></div>"
      ],
      "text/plain": [
       "shape: (5, 16)\n",
       "┌────────────┬────────────┬────────────┬────────────┬───┬───────────┬───────────┬──────┬───────────┐\n",
       "│ eventSymbo ┆ time       ┆ eventFlags ┆ index      ┆ … ┆ askVolume ┆ openInter ┆ vwap ┆ impVolati │\n",
       "│ l          ┆ ---        ┆ ---        ┆ ---        ┆   ┆ ---       ┆ est       ┆ ---  ┆ lity      │\n",
       "│ ---        ┆ datetime[μ ┆ i64        ┆ i64        ┆   ┆ f64       ┆ ---       ┆ f64  ┆ ---       │\n",
       "│ str        ┆ s]         ┆            ┆            ┆   ┆           ┆ f64       ┆      ┆ f64       │\n",
       "╞════════════╪════════════╪════════════╪════════════╪═══╪═══════════╪═══════════╪══════╪═══════════╡\n",
       "│ BTC/USD:CX ┆ 2025-08-05 ┆ 0          ┆ 7535228492 ┆ … ┆ null      ┆ 0.0       ┆ null ┆ null      │\n",
       "│ TALP{=5m}  ┆ 22:15:00   ┆            ┆ 552601600  ┆   ┆           ┆           ┆      ┆           │\n",
       "│ BTC/USD:CX ┆ 2025-08-05 ┆ 0          ┆ 7535227204 ┆ … ┆ null      ┆ 0.0       ┆ null ┆ null      │\n",
       "│ TALP{=5m}  ┆ 22:10:00   ┆            ┆ 062412800  ┆   ┆           ┆           ┆      ┆           │\n",
       "│ BTC/USD:CX ┆ 2025-08-05 ┆ 0          ┆ 7535225915 ┆ … ┆ null      ┆ 0.0       ┆ null ┆ null      │\n",
       "│ TALP{=5m}  ┆ 22:05:00   ┆            ┆ 572224000  ┆   ┆           ┆           ┆      ┆           │\n",
       "│ BTC/USD:CX ┆ 2025-08-05 ┆ 0          ┆ 7535224627 ┆ … ┆ null      ┆ 0.0       ┆ null ┆ null      │\n",
       "│ TALP{=5m}  ┆ 22:00:00   ┆            ┆ 082035200  ┆   ┆           ┆           ┆      ┆           │\n",
       "│ BTC/USD:CX ┆ 2025-08-05 ┆ 0          ┆ 7535223338 ┆ … ┆ null      ┆ 0.0       ┆ null ┆ null      │\n",
       "│ TALP{=5m}  ┆ 21:55:00   ┆            ┆ 591846400  ┆   ┆           ┆           ┆      ┆           │\n",
       "└────────────┴────────────┴────────────┴────────────┴───┴───────────┴───────────┴──────┴───────────┘"
      ]
     },
     "metadata": {},
     "output_type": "display_data"
    }
   ],
   "source": [
    "symbol = \"SPX{=m}\"\n",
    "symbol = \"BTC/USD:CXTALP{=5m}\"\n",
    "# symbol = \"/ESH25:XCME{=m}\"\n",
    "\n",
    "display(Markdown(f\"**Candle Feed:** {symbol}\"))\n",
    "display(\n",
    "    dxlink.router.handler[Channels.Candle]\n",
    "    .processors[\"feed\"]\n",
    "    .frames[f\"{symbol}\"]\n",
    "    .tail(5)\n",
    "    .sort(by=\"time\", descending=True)\n",
    ")"
   ]
  },
  {
   "cell_type": "code",
   "execution_count": 6,
   "metadata": {},
   "outputs": [
    {
     "data": {
      "text/markdown": [
       "**Quote Feed:** BTC/USD:CXTALP{=5m}"
      ],
      "text/plain": [
       "<IPython.core.display.Markdown object>"
      ]
     },
     "metadata": {},
     "output_type": "display_data"
    },
    {
     "data": {
      "text/html": [
       "<div><style>\n",
       ".dataframe > thead > tr,\n",
       ".dataframe > tbody > tr {\n",
       "  text-align: right;\n",
       "  white-space: pre-wrap;\n",
       "}\n",
       "</style>\n",
       "<small>shape: (6, 5)</small><table border=\"1\" class=\"dataframe\"><thead><tr><th>eventSymbol</th><th>bidPrice</th><th>askPrice</th><th>bidSize</th><th>askSize</th></tr><tr><td>str</td><td>f64</td><td>f64</td><td>f64</td><td>f64</td></tr></thead><tbody><tr><td>&quot;NVDA&quot;</td><td>176.92</td><td>177.0</td><td>360.0</td><td>95.0</td></tr><tr><td>&quot;BTC/USD:CXTALP&quot;</td><td>113752.78</td><td>114330.03</td><td>0.01</td><td>0.05</td></tr><tr><td>&quot;AAPL&quot;</td><td>202.64</td><td>202.71</td><td>1.0</td><td>18.0</td></tr><tr><td>&quot;SPY&quot;</td><td>626.98</td><td>627.05</td><td>100.0</td><td>500.0</td></tr><tr><td>&quot;SPX&quot;</td><td>6234.59</td><td>6351.3</td><td>null</td><td>null</td></tr><tr><td>&quot;QQQ&quot;</td><td>558.23</td><td>558.29</td><td>600.0</td><td>600.0</td></tr></tbody></table></div>"
      ],
      "text/plain": [
       "shape: (6, 5)\n",
       "┌────────────────┬───────────┬───────────┬─────────┬─────────┐\n",
       "│ eventSymbol    ┆ bidPrice  ┆ askPrice  ┆ bidSize ┆ askSize │\n",
       "│ ---            ┆ ---       ┆ ---       ┆ ---     ┆ ---     │\n",
       "│ str            ┆ f64       ┆ f64       ┆ f64     ┆ f64     │\n",
       "╞════════════════╪═══════════╪═══════════╪═════════╪═════════╡\n",
       "│ NVDA           ┆ 176.92    ┆ 177.0     ┆ 360.0   ┆ 95.0    │\n",
       "│ BTC/USD:CXTALP ┆ 113752.78 ┆ 114330.03 ┆ 0.01    ┆ 0.05    │\n",
       "│ AAPL           ┆ 202.64    ┆ 202.71    ┆ 1.0     ┆ 18.0    │\n",
       "│ SPY            ┆ 626.98    ┆ 627.05    ┆ 100.0   ┆ 500.0   │\n",
       "│ SPX            ┆ 6234.59   ┆ 6351.3    ┆ null    ┆ null    │\n",
       "│ QQQ            ┆ 558.23    ┆ 558.29    ┆ 600.0   ┆ 600.0   │\n",
       "└────────────────┴───────────┴───────────┴─────────┴─────────┘"
      ]
     },
     "metadata": {},
     "output_type": "display_data"
    }
   ],
   "source": [
    "display(Markdown(f\"**Quote Feed:** {symbol}\"))\n",
    "\n",
    "display(dxlink.router.handler[Channels.Quote].processors[\"feed\"].pl)"
   ]
  },
  {
   "cell_type": "code",
   "execution_count": null,
   "metadata": {},
   "outputs": [],
   "source": [
    "# TODOS\n",
    "\n",
    "# [x] Widen the plot\n",
    "# [x] Remove the scroller at the bottom\n",
    "# [x] move the legent and remove Price (that is obvious)\n",
    "# [x] Add MACD\n",
    "# [x] Fix HULL - Align w/ candlesticks\n",
    "# [x] ERROR if no study data found\n",
    "\n",
    "# [ ] Add RSI\n",
    "# [ ] Add Volume Profile (?? ... /ES, SPY, etc)\n",
    "# [ ] Add velocity metric"
   ]
  },
  {
   "cell_type": "code",
   "execution_count": null,
   "metadata": {},
   "outputs": [],
   "source": [
    "await dxlink.close()"
   ]
  }
 ],
 "metadata": {
  "kernelspec": {
   "display_name": "workspace (3.11.13)",
   "language": "python",
   "name": "python3"
  },
  "language_info": {
   "codemirror_mode": {
    "name": "ipython",
    "version": 3
   },
   "file_extension": ".py",
   "mimetype": "text/x-python",
   "name": "python",
   "nbconvert_exporter": "python",
   "pygments_lexer": "ipython3",
   "version": "3.11.13"
  }
 },
 "nbformat": 4,
 "nbformat_minor": 2
}
