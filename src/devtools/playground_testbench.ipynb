{
 "cells": [
  {
   "cell_type": "code",
   "execution_count": 1,
   "metadata": {},
   "outputs": [
    {
     "name": "stderr",
     "output_type": "stream",
     "text": [
      "2025-08-09 16:13:07 - INFO:root:62:Logging initialized - writing to ../logs/dev_tastytrade_20250809.log\n"
     ]
    }
   ],
   "source": [
    "import logging\n",
    "import asyncio\n",
    "import pandas as pd\n",
    "from IPython.display import display, Markdown\n",
    "\n",
    "from datetime import datetime\n",
    "\n",
    "import influxdb_client\n",
    "\n",
    "from tastytrade.common.logging import setup_logging\n",
    "from tastytrade.config.enumerations import Channels\n",
    "from tastytrade.connections.sockets import DXLinkManager\n",
    "from tastytrade.connections import Credentials, InfluxCredentials\n",
    "\n",
    "from tastytrade.messaging.processors import TelegrafHTTPEventProcessor, RedisEventProcessor\n",
    "from tastytrade.config import RedisConfigManager\n",
    "from tastytrade.connections.subscription import RedisSubscriptionStore\n",
    "from tastytrade.utils.time_series import forward_fill\n",
    "\n",
    "# Show all rows in pandas DataFrames\n",
    "pd.set_option(\"display.max_rows\", 100)\n",
    "pd.set_option(\"display.max_columns\", None)\n",
    "pd.set_option(\"display.width\", None)\n",
    "pd.set_option(\"display.max_colwidth\", None)\n",
    "\n",
    "logging.getLogger().handlers.clear()\n",
    "\n",
    "TEST = True\n",
    "ENV = \"Live\"\n",
    "DURATION = 15\n",
    "\n",
    "EDT = 5\n",
    "\n",
    "start_time = datetime(2025, 1, 1)\n",
    "\n",
    "setup_logging(\n",
    "    level=logging.INFO,\n",
    "    log_dir=\"../logs\",\n",
    "    filename_prefix=f\"{'dev' if TEST else 'prod'}_tastytrade\",\n",
    "    console=True,\n",
    "    file=True,\n",
    ")\n",
    "\n",
    "loop = asyncio.get_event_loop()\n",
    "loop.set_debug(True)\n",
    "logging.getLogger(\"asyncio\").setLevel(logging.DEBUG)"
   ]
  },
  {
   "cell_type": "markdown",
   "metadata": {},
   "source": [
    "# Service Connections"
   ]
  },
  {
   "cell_type": "code",
   "execution_count": null,
   "metadata": {},
   "outputs": [
    {
     "name": "stderr",
     "output_type": "stream",
     "text": [
      "2025-08-09 16:13:09 - INFO:tastytrade.config.manager:174:Initialized 19 variables from .env file in Redis\n",
      "2025-08-09 16:13:09 - DEBUG:asyncio:848:Get address info api.tastyworks.com:443, type=<SocketKind.SOCK_STREAM: 1>, flags=<AddressInfo.AI_ADDRCONFIG: 32>\n",
      "2025-08-09 16:13:09 - DEBUG:asyncio:858:Getting address info api.tastyworks.com:443, type=<SocketKind.SOCK_STREAM: 1>, flags=<AddressInfo.AI_ADDRCONFIG: 32> took 77.020ms: [(<AddressFamily.AF_INET: 2>, <SocketKind.SOCK_STREAM: 1>, 6, '', ('170.76.244.143', 443))]\n"
     ]
    },
    {
     "name": "stderr",
     "output_type": "stream",
     "text": [
      "2025-08-09 16:13:09 - DEBUG:asyncio:535:<asyncio.sslproto.SSLProtocol object at 0x73117c360e50> starts SSL handshake\n",
      "2025-08-09 16:13:09 - DEBUG:asyncio:594:<asyncio.sslproto.SSLProtocol object at 0x73117c360e50>: SSL handshake took 42.4 ms\n",
      "2025-08-09 16:13:09 - DEBUG:asyncio:1121:<asyncio.TransportSocket fd=78, family=2, type=1, proto=6, laddr=('172.18.0.7', 56900), raddr=('170.76.244.143', 443)> connected to None:None: (<asyncio.sslproto._SSLProtocolTransport object at 0x731122fcb1d0>, <aiohttp.client_proto.ResponseHandler object at 0x731122fcd4e0>)\n",
      "2025-08-09 16:13:09 - INFO:tastytrade.connections.requests:148:Session created successfully\n",
      "2025-08-09 16:13:09 - DEBUG:asyncio:848:Get address info tasty-openapi-ws.dxfeed.com:443, type=<SocketKind.SOCK_STREAM: 1>\n",
      "2025-08-09 16:13:09 - INFO:asyncio:856:Getting address info tasty-openapi-ws.dxfeed.com:443, type=<SocketKind.SOCK_STREAM: 1> took 129.737ms: [(<AddressFamily.AF_INET: 2>, <SocketKind.SOCK_STREAM: 1>, 6, '', ('13.226.94.47', 443)), (<AddressFamily.AF_INET: 2>, <SocketKind.SOCK_STREAM: 1>, 6, '', ('13.226.94.104', 443)), (<AddressFamily.AF_INET: 2>, <SocketKind.SOCK_STREAM: 1>, 6, '', ('13.226.94.119', 443)), (<AddressFamily.AF_INET: 2>, <SocketKind.SOCK_STREAM: 1>, 6, '', ('13.226.94.84', 443))]\n",
      "2025-08-09 16:13:09 - DEBUG:asyncio:535:<asyncio.sslproto.SSLProtocol object at 0x731174758710> starts SSL handshake\n",
      "2025-08-09 16:13:09 - DEBUG:asyncio:594:<asyncio.sslproto.SSLProtocol object at 0x731174758710>: SSL handshake took 21.3 ms\n",
      "2025-08-09 16:13:09 - DEBUG:asyncio:1121:<asyncio.TransportSocket fd=85, family=2, type=1, proto=6, laddr=('172.18.0.7', 35728), raddr=('13.226.94.47', 443)> connected to tasty-openapi-ws.dxfeed.com:443: (<asyncio.sslproto._SSLProtocolTransport object at 0x7311226574d0>, <websockets.asyncio.client.ClientConnection object at 0x731122fe8290>)\n",
      "2025-08-09 16:13:09 - DEBUG:asyncio:848:Get address info redis:6379, type=<SocketKind.SOCK_STREAM: 1>\n",
      "2025-08-09 16:13:09 - DEBUG:asyncio:858:Getting address info redis:6379, type=<SocketKind.SOCK_STREAM: 1> took 0.427ms: [(<AddressFamily.AF_INET: 2>, <SocketKind.SOCK_STREAM: 1>, 6, '', ('172.18.0.3', 6379))]\n",
      "2025-08-09 16:13:09 - DEBUG:asyncio:1121:<asyncio.TransportSocket fd=86, family=2, type=1, proto=6, laddr=('172.18.0.7', 34962), raddr=('172.18.0.3', 6379)> connected to redis:6379: (<_SelectorSocketTransport fd=86 read=polling write=<idle, bufsize=0>>, <asyncio.streams.StreamReaderProtocol object at 0x73112264ac90>)\n",
      "2025-08-09 16:13:09 - INFO:tastytrade.connections.subscription:118:Redis ping response: True\n",
      "2025-08-09 16:13:09 - INFO:tastytrade.connections.subscription:122:Redis version: 7.4.3\n",
      "2025-08-09 16:13:09 - INFO:tastytrade.connections.subscription:123:Connected clients: 3\n",
      "2025-08-09 16:13:09 - INFO:tastytrade.messaging.handlers:78:Started Channels.Control listener on channel 0\n",
      "2025-08-09 16:13:09 - INFO:tastytrade.messaging.handlers:78:Started Channels.Quote listener on channel 7\n",
      "2025-08-09 16:13:09 - INFO:tastytrade.messaging.handlers:78:Started Channels.Trade listener on channel 5\n",
      "2025-08-09 16:13:09 - INFO:tastytrade.messaging.handlers:78:Started Channels.Greeks listener on channel 11\n",
      "2025-08-09 16:13:09 - INFO:tastytrade.messaging.handlers:78:Started Channels.Profile listener on channel 1\n",
      "2025-08-09 16:13:09 - INFO:tastytrade.messaging.handlers:78:Started Channels.Summary listener on channel 3\n",
      "2025-08-09 16:13:09 - INFO:tastytrade.messaging.handlers:78:Started Channels.Candle listener on channel 9\n"
     ]
    },
    {
     "name": "stderr",
     "output_type": "stream",
     "text": [
      "2025-08-09 16:13:09 - INFO:tastytrade.messaging.handlers:225:SETUP\n",
      "2025-08-09 16:13:09 - INFO:tastytrade.messaging.handlers:228:AUTH_STATE:UNAUTHORIZED\n",
      "2025-08-09 16:13:09 - INFO:tastytrade.messaging.handlers:228:AUTH_STATE:AUTHORIZED\n",
      "2025-08-09 16:13:09 - INFO:tastytrade.messaging.handlers:231:CHANNEL_OPENED:1\n",
      "2025-08-09 16:13:09 - INFO:tastytrade.messaging.handlers:231:CHANNEL_OPENED:3\n",
      "2025-08-09 16:13:09 - INFO:tastytrade.messaging.handlers:231:CHANNEL_OPENED:5\n",
      "2025-08-09 16:13:09 - INFO:tastytrade.messaging.handlers:231:CHANNEL_OPENED:7\n",
      "2025-08-09 16:13:09 - INFO:tastytrade.messaging.handlers:231:CHANNEL_OPENED:9\n",
      "2025-08-09 16:13:09 - INFO:tastytrade.messaging.handlers:231:CHANNEL_OPENED:11\n",
      "2025-08-09 16:13:09 - INFO:tastytrade.messaging.handlers:231:CHANNEL_OPENED:99\n",
      "2025-08-09 16:13:09 - INFO:tastytrade.messaging.handlers:236:FEED_CONFIG:5:COMPACT\n",
      "2025-08-09 16:13:09 - INFO:tastytrade.messaging.handlers:236:FEED_CONFIG:7:COMPACT\n",
      "2025-08-09 16:13:09 - INFO:tastytrade.messaging.handlers:236:FEED_CONFIG:11:COMPACT\n",
      "2025-08-09 16:13:09 - INFO:tastytrade.messaging.handlers:236:FEED_CONFIG:1:COMPACT\n",
      "2025-08-09 16:13:09 - INFO:tastytrade.messaging.handlers:236:FEED_CONFIG:3:COMPACT\n",
      "2025-08-09 16:13:09 - INFO:tastytrade.messaging.handlers:236:FEED_CONFIG:9:COMPACT\n",
      "2025-08-09 16:13:10 - INFO:tastytrade.messaging.handlers:236:FEED_CONFIG:5:COMPACT:SUBSCRIBED\n",
      "2025-08-09 16:13:10 - INFO:tastytrade.messaging.handlers:236:FEED_CONFIG:7:COMPACT:SUBSCRIBED\n",
      "2025-08-09 16:13:10 - INFO:tastytrade.messaging.handlers:236:FEED_CONFIG:11:COMPACT:SUBSCRIBED\n",
      "2025-08-09 16:13:10 - INFO:tastytrade.messaging.handlers:236:FEED_CONFIG:1:COMPACT:SUBSCRIBED\n",
      "2025-08-09 16:13:10 - INFO:tastytrade.messaging.handlers:236:FEED_CONFIG:3:COMPACT:SUBSCRIBED\n",
      "2025-08-09 16:13:10 - INFO:tastytrade.messaging.handlers:236:FEED_CONFIG:9:COMPACT:SUBSCRIBED\n",
      "2025-08-09 16:13:24 - DEBUG:asyncio:1022:<_SelectorSocketTransport fd=78 read=polling write=<idle, bufsize=0>> received EOF\n",
      "2025-08-09 16:13:24 - DEBUG:asyncio:461:<asyncio.sslproto.SSLProtocol object at 0x73117c360e50> received EOF\n"
     ]
    }
   ],
   "source": [
    "config = RedisConfigManager(env_file=\"/workspace/.env\")\n",
    "config.initialize(force=True)\n",
    "\n",
    "credentials = Credentials(config=config, env=\"Live\")\n",
    "\n",
    "dxlink = DXLinkManager(subscription_store=RedisSubscriptionStore())\n",
    "await dxlink.open(credentials=credentials)\n",
    "\n",
    "influx_user = InfluxCredentials(config=config)\n",
    "influxdb = influxdb_client.InfluxDBClient(\n",
    "    url=influx_user.url, token=influx_user.token, org=influx_user.org\n",
    ")\n",
    "\n",
    "for handler in dxlink.router.handler.values():\n",
    "    handler.add_processor(TelegrafHTTPEventProcessor())\n",
    "    handler.add_processor(RedisEventProcessor())"
   ]
  },
  {
   "cell_type": "markdown",
   "metadata": {},
   "source": [
    "# Market Data Subscriptions"
   ]
  },
  {
   "cell_type": "code",
   "execution_count": 3,
   "metadata": {},
   "outputs": [
    {
     "name": "stderr",
     "output_type": "stream",
     "text": [
      "2025-08-09 16:13:10 - INFO:tastytrade.connections.sockets:236:Added subscription: BTC/USD:CXTALP\n",
      "2025-08-09 16:13:10 - INFO:tastytrade.connections.sockets:236:Added subscription: NVDA\n",
      "2025-08-09 16:13:10 - INFO:tastytrade.connections.sockets:236:Added subscription: AAPL\n",
      "2025-08-09 16:13:10 - INFO:tastytrade.connections.sockets:236:Added subscription: QQQ\n",
      "2025-08-09 16:13:10 - INFO:tastytrade.connections.sockets:236:Added subscription: SPY\n",
      "2025-08-09 16:13:10 - INFO:tastytrade.connections.sockets:236:Added subscription: SPX\n",
      "2025-08-09 16:13:10 - INFO:tastytrade.connections.sockets:236:Added subscription: BTC/USD:CXTALP{=d}\n",
      "2025-08-09 16:13:10 - INFO:tastytrade.connections.sockets:236:Added subscription: BTC/USD:CXTALP{=h}\n",
      "2025-08-09 16:13:10 - INFO:tastytrade.connections.sockets:236:Added subscription: BTC/USD:CXTALP{=30m}\n",
      "2025-08-09 16:13:10 - INFO:tastytrade.connections.sockets:236:Added subscription: BTC/USD:CXTALP{=15m}\n",
      "2025-08-09 16:13:10 - INFO:tastytrade.connections.sockets:236:Added subscription: BTC/USD:CXTALP{=5m}\n",
      "2025-08-09 16:13:10 - INFO:tastytrade.connections.sockets:236:Added subscription: BTC/USD:CXTALP{=m}\n",
      "2025-08-09 16:13:10 - INFO:tastytrade.connections.sockets:236:Added subscription: NVDA{=d}\n",
      "2025-08-09 16:13:10 - INFO:tastytrade.connections.sockets:236:Added subscription: NVDA{=h}\n",
      "2025-08-09 16:13:12 - INFO:tastytrade.connections.sockets:236:Added subscription: NVDA{=30m}\n",
      "2025-08-09 16:13:12 - INFO:tastytrade.connections.sockets:236:Added subscription: NVDA{=15m}\n",
      "2025-08-09 16:13:12 - INFO:tastytrade.connections.sockets:236:Added subscription: NVDA{=5m}\n",
      "2025-08-09 16:13:12 - INFO:tastytrade.connections.sockets:236:Added subscription: NVDA{=m}\n",
      "2025-08-09 16:13:12 - INFO:tastytrade.connections.sockets:236:Added subscription: AAPL{=d}\n",
      "2025-08-09 16:13:12 - INFO:tastytrade.connections.sockets:236:Added subscription: AAPL{=h}\n",
      "2025-08-09 16:13:12 - INFO:tastytrade.connections.sockets:236:Added subscription: AAPL{=30m}\n",
      "2025-08-09 16:13:12 - INFO:tastytrade.connections.sockets:236:Added subscription: AAPL{=15m}\n",
      "2025-08-09 16:13:12 - INFO:tastytrade.connections.sockets:236:Added subscription: AAPL{=5m}\n",
      "2025-08-09 16:13:12 - INFO:tastytrade.connections.sockets:236:Added subscription: AAPL{=m}\n",
      "2025-08-09 16:13:13 - INFO:tastytrade.connections.sockets:236:Added subscription: QQQ{=d}\n",
      "2025-08-09 16:13:13 - INFO:tastytrade.connections.sockets:236:Added subscription: QQQ{=h}\n",
      "2025-08-09 16:13:13 - INFO:tastytrade.connections.sockets:236:Added subscription: QQQ{=30m}\n",
      "2025-08-09 16:13:13 - INFO:tastytrade.connections.sockets:236:Added subscription: QQQ{=15m}\n",
      "2025-08-09 16:13:13 - INFO:tastytrade.connections.sockets:236:Added subscription: QQQ{=5m}\n",
      "2025-08-09 16:13:13 - INFO:tastytrade.connections.sockets:236:Added subscription: QQQ{=m}\n",
      "2025-08-09 16:13:13 - INFO:tastytrade.connections.sockets:236:Added subscription: SPY{=d}\n",
      "2025-08-09 16:13:13 - INFO:tastytrade.connections.sockets:236:Added subscription: SPY{=h}\n",
      "2025-08-09 16:13:13 - INFO:tastytrade.connections.sockets:236:Added subscription: SPY{=30m}\n",
      "2025-08-09 16:13:13 - INFO:tastytrade.connections.sockets:236:Added subscription: SPY{=15m}\n",
      "2025-08-09 16:13:13 - INFO:tastytrade.connections.sockets:236:Added subscription: SPY{=5m}\n",
      "2025-08-09 16:13:13 - INFO:tastytrade.connections.sockets:236:Added subscription: SPY{=m}\n",
      "2025-08-09 16:13:13 - INFO:tastytrade.connections.sockets:236:Added subscription: SPX{=d}\n",
      "2025-08-09 16:13:13 - INFO:tastytrade.connections.sockets:236:Added subscription: SPX{=h}\n",
      "2025-08-09 16:13:13 - INFO:tastytrade.connections.sockets:236:Added subscription: SPX{=30m}\n",
      "2025-08-09 16:13:13 - INFO:tastytrade.connections.sockets:236:Added subscription: SPX{=15m}\n",
      "2025-08-09 16:13:13 - INFO:tastytrade.connections.sockets:236:Added subscription: SPX{=5m}\n",
      "2025-08-09 16:13:13 - INFO:tastytrade.connections.sockets:236:Added subscription: SPX{=m}\n"
     ]
    }
   ],
   "source": [
    "start_time = datetime(2025, 8, 8)\n",
    "\n",
    "symbols = [\"BTC/USD:CXTALP\", \"NVDA\", \"AAPL\", \"QQQ\", \"SPY\", \"SPX\"]  # , \"/ESH25:XCME\"]\n",
    "# symbols = [\"BTC/USD:CXTALP\", \"NVDA\",]\n",
    "# symbols = [\"AAPL\", \"QQQ\"]  # \n",
    "# symbols = [\"SPY\", \"SPX\"]  # \n",
    "intervals = [\"1d\", \"1h\", \"30m\", \"15m\", \"5m\", \"m\"]\n",
    "\n",
    "# ticker subscriptions\n",
    "await dxlink.subscribe(symbols)\n",
    "\n",
    "# candle subscriptions\n",
    "for symbol in symbols:\n",
    "    for interval in intervals:\n",
    "        coroutine = dxlink.subscribe_to_candles(\n",
    "            symbol=symbol,\n",
    "            interval=interval,\n",
    "            from_time=start_time,\n",
    "        )\n",
    "        await asyncio.wait_for(coroutine, timeout=10)"
   ]
  },
  {
   "cell_type": "code",
   "execution_count": 4,
   "metadata": {},
   "outputs": [
    {
     "name": "stderr",
     "output_type": "stream",
     "text": [
      "2025-08-09 16:13:15 - INFO:root:120:Successfully flushed and closed InfluxDB write API\n",
      "2025-08-09 16:13:15 - INFO:root:124:Forward-fill added 4 events for BTC/USD:CXTALP{=15m}\n",
      "2025-08-09 16:13:15 - INFO:root:120:Successfully flushed and closed InfluxDB write API\n",
      "2025-08-09 16:13:15 - INFO:root:124:Forward-fill added 28 events for BTC/USD:CXTALP{=5m}\n",
      "2025-08-09 16:13:15 - INFO:root:120:Successfully flushed and closed InfluxDB write API\n",
      "2025-08-09 16:13:15 - INFO:root:124:Forward-fill added 207 events for BTC/USD:CXTALP{=m}\n",
      "2025-08-09 16:13:15 - INFO:root:120:Successfully flushed and closed InfluxDB write API\n",
      "2025-08-09 16:13:15 - INFO:root:124:Forward-fill added 10 events for NVDA{=m}\n",
      "2025-08-09 16:13:16 - INFO:root:120:Successfully flushed and closed InfluxDB write API\n",
      "2025-08-09 16:13:16 - INFO:root:124:Forward-fill added 43 events for AAPL{=m}\n",
      "2025-08-09 16:13:16 - INFO:root:120:Successfully flushed and closed InfluxDB write API\n",
      "2025-08-09 16:13:16 - INFO:root:124:Forward-fill added 4 events for QQQ{=5m}\n",
      "2025-08-09 16:13:16 - INFO:root:120:Successfully flushed and closed InfluxDB write API\n",
      "2025-08-09 16:13:16 - INFO:root:124:Forward-fill added 95 events for QQQ{=m}\n",
      "2025-08-09 16:13:17 - INFO:root:120:Successfully flushed and closed InfluxDB write API\n",
      "2025-08-09 16:13:17 - INFO:root:124:Forward-fill added 5 events for SPY{=5m}\n",
      "2025-08-09 16:13:17 - INFO:root:120:Successfully flushed and closed InfluxDB write API\n",
      "2025-08-09 16:13:17 - INFO:root:124:Forward-fill added 162 events for SPY{=m}\n"
     ]
    }
   ],
   "source": [
    "# forward fill\n",
    "for symbol in symbols:\n",
    "    for interval in intervals:\n",
    "        event_symbol = f\"{symbol}{{={interval}}}\"\n",
    "        logging.debug(\"Forward-filling %s\", event_symbol)\n",
    "        forward_fill(symbol=event_symbol, lookback_days=5)"
   ]
  },
  {
   "cell_type": "markdown",
   "metadata": {},
   "source": [
    "# Check | Market Data feeds"
   ]
  },
  {
   "cell_type": "code",
   "execution_count": 5,
   "metadata": {},
   "outputs": [
    {
     "data": {
      "text/markdown": [
       "**Candle Feed:** BTC/USD:CXTALP{=5m}"
      ],
      "text/plain": [
       "<IPython.core.display.Markdown object>"
      ]
     },
     "metadata": {},
     "output_type": "display_data"
    },
    {
     "data": {
      "text/html": [
       "<div><style>\n",
       ".dataframe > thead > tr,\n",
       ".dataframe > tbody > tr {\n",
       "  text-align: right;\n",
       "  white-space: pre-wrap;\n",
       "}\n",
       "</style>\n",
       "<small>shape: (5, 16)</small><table border=\"1\" class=\"dataframe\"><thead><tr><th>eventSymbol</th><th>time</th><th>eventFlags</th><th>index</th><th>sequence</th><th>count</th><th>open</th><th>high</th><th>low</th><th>close</th><th>volume</th><th>bidVolume</th><th>askVolume</th><th>openInterest</th><th>vwap</th><th>impVolatility</th></tr><tr><td>str</td><td>datetime[μs]</td><td>i64</td><td>i64</td><td>i64</td><td>i64</td><td>f64</td><td>f64</td><td>f64</td><td>f64</td><td>f64</td><td>f64</td><td>f64</td><td>f64</td><td>f64</td><td>f64</td></tr></thead><tbody><tr><td>&quot;BTC/USD:CXTALP{=5m}&quot;</td><td>2025-08-09 16:10:00</td><td>0</td><td>7536618773466316800</td><td>0</td><td>241</td><td>116889.93</td><td>116889.93</td><td>116842.82</td><td>116851.12</td><td>null</td><td>null</td><td>null</td><td>0.0</td><td>null</td><td>null</td></tr><tr><td>&quot;BTC/USD:CXTALP{=5m}&quot;</td><td>2025-08-09 16:05:00</td><td>0</td><td>7536617484976128000</td><td>0</td><td>563</td><td>116899.56</td><td>116945.06</td><td>116889.93</td><td>116889.93</td><td>null</td><td>null</td><td>null</td><td>0.0</td><td>null</td><td>null</td></tr><tr><td>&quot;BTC/USD:CXTALP{=5m}&quot;</td><td>2025-08-09 16:00:00</td><td>0</td><td>7536616196485939200</td><td>0</td><td>740</td><td>116921.96</td><td>116977.96</td><td>116887.73</td><td>116901.49</td><td>null</td><td>null</td><td>null</td><td>0.0</td><td>null</td><td>null</td></tr><tr><td>&quot;BTC/USD:CXTALP{=5m}&quot;</td><td>2025-08-09 15:55:00</td><td>0</td><td>7536614907995750400</td><td>0</td><td>361</td><td>116863.2</td><td>116920.84</td><td>116861.0</td><td>116920.84</td><td>null</td><td>null</td><td>null</td><td>0.0</td><td>null</td><td>null</td></tr><tr><td>&quot;BTC/USD:CXTALP{=5m}&quot;</td><td>2025-08-09 15:50:00</td><td>0</td><td>7536613619505561600</td><td>0</td><td>474</td><td>116869.23</td><td>116892.86</td><td>116838.61</td><td>116863.79</td><td>null</td><td>null</td><td>null</td><td>0.0</td><td>null</td><td>null</td></tr></tbody></table></div>"
      ],
      "text/plain": [
       "shape: (5, 16)\n",
       "┌────────────┬────────────┬────────────┬────────────┬───┬───────────┬───────────┬──────┬───────────┐\n",
       "│ eventSymbo ┆ time       ┆ eventFlags ┆ index      ┆ … ┆ askVolume ┆ openInter ┆ vwap ┆ impVolati │\n",
       "│ l          ┆ ---        ┆ ---        ┆ ---        ┆   ┆ ---       ┆ est       ┆ ---  ┆ lity      │\n",
       "│ ---        ┆ datetime[μ ┆ i64        ┆ i64        ┆   ┆ f64       ┆ ---       ┆ f64  ┆ ---       │\n",
       "│ str        ┆ s]         ┆            ┆            ┆   ┆           ┆ f64       ┆      ┆ f64       │\n",
       "╞════════════╪════════════╪════════════╪════════════╪═══╪═══════════╪═══════════╪══════╪═══════════╡\n",
       "│ BTC/USD:CX ┆ 2025-08-09 ┆ 0          ┆ 7536618773 ┆ … ┆ null      ┆ 0.0       ┆ null ┆ null      │\n",
       "│ TALP{=5m}  ┆ 16:10:00   ┆            ┆ 466316800  ┆   ┆           ┆           ┆      ┆           │\n",
       "│ BTC/USD:CX ┆ 2025-08-09 ┆ 0          ┆ 7536617484 ┆ … ┆ null      ┆ 0.0       ┆ null ┆ null      │\n",
       "│ TALP{=5m}  ┆ 16:05:00   ┆            ┆ 976128000  ┆   ┆           ┆           ┆      ┆           │\n",
       "│ BTC/USD:CX ┆ 2025-08-09 ┆ 0          ┆ 7536616196 ┆ … ┆ null      ┆ 0.0       ┆ null ┆ null      │\n",
       "│ TALP{=5m}  ┆ 16:00:00   ┆            ┆ 485939200  ┆   ┆           ┆           ┆      ┆           │\n",
       "│ BTC/USD:CX ┆ 2025-08-09 ┆ 0          ┆ 7536614907 ┆ … ┆ null      ┆ 0.0       ┆ null ┆ null      │\n",
       "│ TALP{=5m}  ┆ 15:55:00   ┆            ┆ 995750400  ┆   ┆           ┆           ┆      ┆           │\n",
       "│ BTC/USD:CX ┆ 2025-08-09 ┆ 0          ┆ 7536613619 ┆ … ┆ null      ┆ 0.0       ┆ null ┆ null      │\n",
       "│ TALP{=5m}  ┆ 15:50:00   ┆            ┆ 505561600  ┆   ┆           ┆           ┆      ┆           │\n",
       "└────────────┴────────────┴────────────┴────────────┴───┴───────────┴───────────┴──────┴───────────┘"
      ]
     },
     "metadata": {},
     "output_type": "display_data"
    }
   ],
   "source": [
    "symbol = \"SPX{=m}\"\n",
    "symbol = \"BTC/USD:CXTALP{=5m}\"\n",
    "# symbol = \"/ESH25:XCME{=m}\"\n",
    "\n",
    "display(Markdown(f\"**Candle Feed:** {symbol}\"))\n",
    "display(\n",
    "    dxlink.router.handler[Channels.Candle]\n",
    "    .processors[\"feed\"]\n",
    "    .frames[f\"{symbol}\"]\n",
    "    .tail(5)\n",
    "    .sort(by=\"time\", descending=True)\n",
    ")"
   ]
  },
  {
   "cell_type": "code",
   "execution_count": 6,
   "metadata": {},
   "outputs": [
    {
     "data": {
      "text/markdown": [
       "**Quote Feed:** BTC/USD:CXTALP{=5m}"
      ],
      "text/plain": [
       "<IPython.core.display.Markdown object>"
      ]
     },
     "metadata": {},
     "output_type": "display_data"
    },
    {
     "data": {
      "text/html": [
       "<div><style>\n",
       ".dataframe > thead > tr,\n",
       ".dataframe > tbody > tr {\n",
       "  text-align: right;\n",
       "  white-space: pre-wrap;\n",
       "}\n",
       "</style>\n",
       "<small>shape: (6, 5)</small><table border=\"1\" class=\"dataframe\"><thead><tr><th>eventSymbol</th><th>bidPrice</th><th>askPrice</th><th>bidSize</th><th>askSize</th></tr><tr><td>str</td><td>f64</td><td>f64</td><td>f64</td><td>f64</td></tr></thead><tbody><tr><td>&quot;SPY&quot;</td><td>610.77</td><td>638.66</td><td>null</td><td>null</td></tr><tr><td>&quot;QQQ&quot;</td><td>565.0</td><td>575.99</td><td>null</td><td>null</td></tr><tr><td>&quot;SPX&quot;</td><td>6338.53</td><td>6434.76</td><td>null</td><td>null</td></tr><tr><td>&quot;NVDA&quot;</td><td>182.81</td><td>183.0</td><td>null</td><td>null</td></tr><tr><td>&quot;BTC/USD:CXTALP&quot;</td><td>116259.78</td><td>117441.1</td><td>0.05</td><td>0.05</td></tr><tr><td>&quot;AAPL&quot;</td><td>229.85</td><td>230.0</td><td>null</td><td>null</td></tr></tbody></table></div>"
      ],
      "text/plain": [
       "shape: (6, 5)\n",
       "┌────────────────┬───────────┬──────────┬─────────┬─────────┐\n",
       "│ eventSymbol    ┆ bidPrice  ┆ askPrice ┆ bidSize ┆ askSize │\n",
       "│ ---            ┆ ---       ┆ ---      ┆ ---     ┆ ---     │\n",
       "│ str            ┆ f64       ┆ f64      ┆ f64     ┆ f64     │\n",
       "╞════════════════╪═══════════╪══════════╪═════════╪═════════╡\n",
       "│ SPY            ┆ 610.77    ┆ 638.66   ┆ null    ┆ null    │\n",
       "│ QQQ            ┆ 565.0     ┆ 575.99   ┆ null    ┆ null    │\n",
       "│ SPX            ┆ 6338.53   ┆ 6434.76  ┆ null    ┆ null    │\n",
       "│ NVDA           ┆ 182.81    ┆ 183.0    ┆ null    ┆ null    │\n",
       "│ BTC/USD:CXTALP ┆ 116259.78 ┆ 117441.1 ┆ 0.05    ┆ 0.05    │\n",
       "│ AAPL           ┆ 229.85    ┆ 230.0    ┆ null    ┆ null    │\n",
       "└────────────────┴───────────┴──────────┴─────────┴─────────┘"
      ]
     },
     "metadata": {},
     "output_type": "display_data"
    }
   ],
   "source": [
    "display(Markdown(f\"**Quote Feed:** {symbol}\"))\n",
    "\n",
    "display(dxlink.router.handler[Channels.Quote].processors[\"feed\"].pl)"
   ]
  },
  {
   "cell_type": "code",
   "execution_count": 7,
   "metadata": {},
   "outputs": [],
   "source": [
    "# TODOS\n",
    "\n",
    "# [x] Widen the plot\n",
    "# [x] Remove the scroller at the bottom\n",
    "# [x] move the legent and remove Price (that is obvious)\n",
    "# [x] Add MACD\n",
    "# [x] Fix HULL - Align w/ candlesticks\n",
    "# [x] ERROR if no study data found\n",
    "\n",
    "# [ ] Add RSI\n",
    "# [ ] Add Volume Profile (?? ... /ES, SPY, etc)\n",
    "# [ ] Add velocity metric"
   ]
  },
  {
   "cell_type": "code",
   "execution_count": 8,
   "metadata": {},
   "outputs": [
    {
     "name": "stderr",
     "output_type": "stream",
     "text": [
      "2025-08-08 17:57:00 - INFO:tastytrade.connections.sockets:450:Listener task cancelled\n",
      "2025-08-08 17:57:00 - INFO:tastytrade.connections.sockets:450:Keepalive task cancelled\n",
      "2025-08-08 17:57:00 - INFO:tastytrade.connections.routing:58:Initiating cleanup...\n",
      "2025-08-08 17:57:00 - INFO:tastytrade.connections.routing:82:Cleanup completed\n",
      "2025-08-08 17:57:00 - INFO:tastytrade.connections.requests:175:Session closed\n",
      "2025-08-08 17:57:00 - INFO:tastytrade.connections.sockets:444:Connection closed and cleaned up\n"
     ]
    }
   ],
   "source": [
    "await dxlink.close()"
   ]
  }
 ],
 "metadata": {
  "kernelspec": {
   "display_name": "tastytrade (3.11.13)",
   "language": "python",
   "name": "python3"
  },
  "language_info": {
   "codemirror_mode": {
    "name": "ipython",
    "version": 3
   },
   "file_extension": ".py",
   "mimetype": "text/x-python",
   "name": "python",
   "nbconvert_exporter": "python",
   "pygments_lexer": "ipython3",
   "version": "3.11.13"
  }
 },
 "nbformat": 4,
 "nbformat_minor": 2
}
